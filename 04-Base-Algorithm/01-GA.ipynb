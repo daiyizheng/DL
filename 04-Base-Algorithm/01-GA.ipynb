{
 "cells": [
  {
   "attachments": {},
   "cell_type": "markdown",
   "metadata": {},
   "source": [
    "# 遗传算法"
   ]
  },
  {
   "attachments": {},
   "cell_type": "markdown",
   "metadata": {},
   "source": [
    "## 绘图\n",
    "画出Rastrigin函数的图像"
   ]
  },
  {
   "cell_type": "code",
   "execution_count": 1,
   "metadata": {},
   "outputs": [],
   "source": [
    "import numpy as np\n",
    "import matplotlib.pyplot as plt\n",
    "from matplotlib import cm\n",
    "from mpl_toolkits.mplot3d import Axes3D"
   ]
  },
  {
   "cell_type": "code",
   "execution_count": 8,
   "metadata": {},
   "outputs": [
    {
     "name": "stdout",
     "output_type": "stream",
     "text": [
      "(100,)\n",
      "-------------\n",
      "(100,)\n",
      "-------------\n",
      "(100, 100)\n",
      "-------------\n",
      "(100, 100)\n"
     ]
    },
    {
     "data": {
      "text/plain": [
       "<Figure size 432x288 with 0 Axes>"
      ]
     },
     "metadata": {},
     "output_type": "display_data"
    }
   ],
   "source": [
    "# 生成X和Y的数据\n",
    "X = np.arange(-5, 5, 0.1)\n",
    "print(X.shape)\n",
    "print(\"-------------\")\n",
    "Y = np.arange(-5, 5, 0.1)\n",
    "print(Y.shape)\n",
    "print(\"-------------\")\n",
    "X, Y = np.meshgrid(X, Y)\n",
    "print(X.shape)\n",
    "print(\"-------------\")\n",
    "print(Y.shape)\n",
    "a = 10\n",
    "# 目标函数\n",
    "Z = 2 * a + X ** 2 - a * np.cos(2 * np.pi * X) + Y ** 2 - a * np.cos(2 * np.pi * Y)\n",
    "# 绘图\n",
    "fig = plt.figure()\n",
    "ax = Axes3D(fig)\n",
    "surf = ax.plot_surface(X, Y, Z, cmap=cm.coolwarm)\n",
    "plt.show()\n"
   ]
  },
  {
   "attachments": {},
   "cell_type": "markdown",
   "metadata": {},
   "source": [
    "## 问题分析\n",
    "在Rastrigin中有两个变量x和y，取值范围都是[-5,5],f ( x ) f(x)f(x) 精度精确到小数点后5位，所以染色体需要40个基因位，前20个基因位表示x的编码，后20个基因位表示变量y的编码。假设种群的规模为50，则种群可表示为50*40的矩阵，矩阵的每一行都是一个个体。"
   ]
  },
  {
   "attachments": {},
   "cell_type": "markdown",
   "metadata": {},
   "source": [
    "## 计算适应度"
   ]
  },
  {
   "cell_type": "code",
   "execution_count": 9,
   "metadata": {},
   "outputs": [],
   "source": [
    "import numpy as np\n",
    "import matplotlib.pyplot as plt\n",
    "\n",
    "def fitness_func(X):\n",
    "    # 目标函数，即适应度值，X是种群的表现型\n",
    "    a = 10\n",
    "    pi = np.pi\n",
    "    x = X[:, 0]\n",
    "    y = X[:, 1]\n",
    "    return 2 * a + x ** 2 - a * np.cos(2 * pi * x) + y ** 2 - a * np.cos(2 * 3.14 * y)\n"
   ]
  },
  {
   "attachments": {},
   "cell_type": "markdown",
   "metadata": {},
   "source": [
    "## 解码"
   ]
  },
  {
   "cell_type": "code",
   "execution_count": 10,
   "metadata": {},
   "outputs": [],
   "source": [
    "def decode(x, a, b):\n",
    "    \"\"\"解码，即基因型到表现型\"\"\"\n",
    "    xt = 0\n",
    "    for i in range(len(x)):\n",
    "        xt = xt + x[i] * np.power(2, i)\n",
    "    return a + xt * (b - a) / (np.power(2, len(x)) - 1)\n"
   ]
  },
  {
   "attachments": {},
   "cell_type": "markdown",
   "metadata": {},
   "source": [
    "## 编码"
   ]
  },
  {
   "cell_type": "code",
   "execution_count": 11,
   "metadata": {},
   "outputs": [],
   "source": [
    "def decode_X(X: np.array):\n",
    "    \"\"\"对整个种群的基因解码，上面的decode是对某个染色体的某个变量进行解码\"\"\"\n",
    "    X2 = np.zeros((X.shape[0], 2))\n",
    "    for i in range(X.shape[0]):\n",
    "        xi = decode(X[i, :20], -5, 5)\n",
    "        yi = decode(X[i, 20:], -5, 5)\n",
    "        X2[i, :] = np.array([xi, yi])\n",
    "    return X2\n"
   ]
  },
  {
   "attachments": {},
   "cell_type": "markdown",
   "metadata": {},
   "source": [
    "## 适者生存，个体选择\n"
   ]
  },
  {
   "cell_type": "code",
   "execution_count": 12,
   "metadata": {},
   "outputs": [],
   "source": [
    "def select(X, fitness):\n",
    "    \"\"\"根据轮盘赌法选择优秀个体\"\"\"\n",
    "    fitness = 1 / fitness  # fitness越小表示越优秀，被选中的概率越大，做 1/fitness 处理\n",
    "    fitness = fitness / fitness.sum()  # 归一化\n",
    "    idx = np.array(list(range(X.shape[0])))\n",
    "    X2_idx = np.random.choice(idx, size=X.shape[0], p=fitness)  # 根据概率选择\n",
    "    X2 = X[X2_idx, :]\n",
    "    return X2\n"
   ]
  },
  {
   "attachments": {},
   "cell_type": "markdown",
   "metadata": {},
   "source": [
    "## 产生后代，交叉变异"
   ]
  },
  {
   "cell_type": "code",
   "execution_count": 13,
   "metadata": {},
   "outputs": [],
   "source": [
    "def crossover(X, c):\n",
    "    \"\"\"按顺序选择2个个体以概率c进行交叉操作\"\"\"\n",
    "    for i in range(0, X.shape[0], 2):\n",
    "        xa = X[i, :]\n",
    "        xb = X[i + 1, :]\n",
    "        for j in range(X.shape[1]):\n",
    "            # 产生0-1区间的均匀分布随机数，判断是否需要进行交叉替换\n",
    "            if np.random.rand() <= c:\n",
    "                xa[j], xb[j] = xb[j], xa[j]\n",
    "        X[i, :] = xa\n",
    "        X[i + 1, :] = xb\n",
    "    return X\n",
    "\n",
    "def mutation(X, m):\n",
    "    \"\"\"变异操作\"\"\"\n",
    "    for i in range(X.shape[0]):\n",
    "        for j in range(X.shape[1]):\n",
    "            if np.random.rand() <= m:\n",
    "                X[i, j] = (X[i, j] + 1) % 2\n",
    "    return X\n",
    "\n"
   ]
  },
  {
   "attachments": {},
   "cell_type": "markdown",
   "metadata": {},
   "source": [
    "## 主要算法流程"
   ]
  },
  {
   "cell_type": "code",
   "execution_count": 14,
   "metadata": {},
   "outputs": [
    {
     "name": "stdout",
     "output_type": "stream",
     "text": [
      "最优值是：0.00000\n",
      "最优解是：x=0.00000, y=-0.00000\n"
     ]
    },
    {
     "data": {
      "image/png": "[encoded data removed]",
      "text/plain": [
       "<Figure size 432x288 with 1 Axes>"
      ]
     },
     "metadata": {
      "needs_background": "light"
     },
     "output_type": "display_data"
    }
   ],
   "source": [
    "\n",
    "\n",
    "def ga():\n",
    "    \"\"\"遗传算法主函数\"\"\"\n",
    "    c = 0.3  # 交叉概率\n",
    "    m = 0.05  # 变异概率\n",
    "    best_fitness = []  # 记录每次迭代的效果\n",
    "    best_xy = []\n",
    "    iter_num = 100  # 最大迭代次数\n",
    "    X0 = np.random.randint(0, 2, (50, 40))  # 随机初始化种群，为50*40的0-1矩阵\n",
    "    for i in range(iter_num):\n",
    "        X1 = decode_X(X0)  # 染色体解码\n",
    "        fitness = fitness_func(X1)  # 计算个体适应度\n",
    "        X2 = select(X0, fitness)  # 选择操作\n",
    "        X3 = crossover(X2, c)  # 交叉操作\n",
    "        X4 = mutation(X3, m)  # 变异操作\n",
    "        # 计算一轮迭代的效果\n",
    "        X5 = decode_X(X4)\n",
    "        fitness = fitness_func(X5)\n",
    "        best_fitness.append(fitness.min())\n",
    "        x, y = X5[fitness.argmin()]\n",
    "        best_xy.append((x, y))\n",
    "        X0 = X4\n",
    "    # 多次迭代后的最终效果\n",
    "    print(\"最优值是：%.5f\" % best_fitness[-1])\n",
    "\n",
    "    print(\"最优解是：x=%.5f, y=%.5f\" % best_xy[-1])\n",
    "    # 最优值是：0.00000\n",
    "    # 最优解是：x=0.00000, y=-0.00000\n",
    "    # 打印效果\n",
    "    plt.plot(best_fitness, color='r')\n",
    "    plt.show()\n",
    "\n",
    "ga()\n"
   ]
  },
  {
   "cell_type": "code",
   "execution_count": null,
   "metadata": {},
   "outputs": [],
   "source": []
  }
 ],
 "metadata": {
  "kernelspec": {
   "display_name": "gnn",
   "language": "python",
   "name": "python3"
  },
  "language_info": {
   "codemirror_mode": {
    "name": "ipython",
    "version": 3
   },
   "file_extension": ".py",
   "mimetype": "text/x-python",
   "name": "python",
   "nbconvert_exporter": "python",
   "pygments_lexer": "ipython3",
   "version": "3.8.5"
  },
  "orig_nbformat": 4
 },
 "nbformat": 4,
 "nbformat_minor": 2
}
