{
 "cells": [
  {
   "cell_type": "markdown",
   "id": "2435c44b-e6d0-4c41-adcc-df19ec011abc",
   "metadata": {},
   "source": [
    "本案例介绍了如何构建一个基于Llama 2的聊天机器人，该机器人能够在浏览器上运行，并能够根据自己的数据回答问题。主要内容包括：\n",
    "\n",
    "1. **部署Llama 2 7B**：使用文本生成推理框架将Llama 2 7B作为API服务器部署。\n",
    "2. **构建聊天机器人**：使用Gradio构建聊天机器人，并连接到服务器。\n",
    "3. **增加检索增强生成（RAG）功能**：基于入门指南，增加Llama 2特定知识的RAG能力。\n",
    "4. **RAG架构**：RAG是Meta在2020年发明的一种流行方法，用于增强大型语言模型（LLM）。它通过从外部模型检索数据，并将检索到的相关数据作为上下文添加到LLM的问题或提示中，来回答关于自己数据的问题，或者在LLM训练时不公开的数据问题。\n",
    "\n",
    "RAG的优点是能够保持企业的敏感数据在本地，并且在不需要对模型进行特定角色的微调的情况下，从通用模型中获得更相关的答案，大大减少了模型在回答生成中的幻觉现象。\n",
    "\n",
    "**开发RAG支持的Llama 2聊天机器人的方法**：\n",
    "最简单的方法是使用如LangChain和LlamaIndex这样的框架。这两个开源框架都提供了实现Llama 2的RAG功能的方便API，包括：\n",
    "\n",
    "- 加载和分割文档\n",
    "- 嵌入和存储文档分割\n",
    "- 根据用户查询检索相关上下文\n",
    "- 调用Llama 2进行查询和上下文生成答案\n",
    "\n",
    "LangChain是一个更通用、更灵活的用于开发带有RAG能力的LLM应用程序的框架，而LlamaIndex作为数据框架，专注于将自定义数据源连接到LLM。两者的整合可能提供构建实际RAG应用程序的最佳性能和有效解决方案。在这个示例中，为了简单起见，我们将仅使用LangChain，搭配本地存储的PDF数据。"
   ]
  },
  {
   "cell_type": "markdown",
   "id": "c8e18a0c-2811-41f0-ac14-b5fa9f7303b6",
   "metadata": {},
   "source": [
    "**安装依赖**：\n",
    "对于这个演示，我们将使用Gradio来构建聊天机器人的UI，使用文本生成推理框架进行模型服务。\n",
    "对于向量存储和相似性搜索，我们将使用FAISS。"
   ]
  },
  {
   "cell_type": "code",
   "execution_count": 2,
   "id": "8c93a502-ca6e-4a42-bfb7-3a3809423903",
   "metadata": {
    "tags": []
   },
   "outputs": [],
   "source": [
    "from langchain.embeddings import HuggingFaceEmbeddings \n",
    "from langchain.vectorstores import FAISS\n",
    "from langchain.document_loaders import PyPDFDirectoryLoader\n",
    "from langchain.text_splitter import RecursiveCharacterTextSplitter"
   ]
  },
  {
   "cell_type": "markdown",
   "id": "23c74cf1-a9bb-4e1c-97ff-a4f5de3b6bec",
   "metadata": {},
   "source": [
    "# 1. 数据处理"
   ]
  },
  {
   "cell_type": "code",
   "execution_count": 3,
   "id": "d6c8edce-1fca-4470-bc19-c41f7b7e72e8",
   "metadata": {
    "tags": []
   },
   "outputs": [],
   "source": [
    "# 数据处理\n",
    "\n",
    "DATA_PATH = \"../data/\"\n",
    "DB_FAISS_PATH = \"../data/vectorstore/db_faiss\""
   ]
  },
  {
   "cell_type": "code",
   "execution_count": 4,
   "id": "61bb465f-6375-48f7-ba7a-702a86475040",
   "metadata": {
    "tags": []
   },
   "outputs": [
    {
     "name": "stderr",
     "output_type": "stream",
     "text": [
      "Multiple definitions in dictionary at byte 0x2bb99 for key /MediaBox\n"
     ]
    }
   ],
   "source": [
    "# 使用PyPDFDirectoryLoader加载整个目录 (还可以使用 PyPDFLoader 加载单个文件)\n",
    "\n",
    "loader = PyPDFDirectoryLoader(DATA_PATH)\n",
    "\n",
    "documents = loader.load()"
   ]
  },
  {
   "cell_type": "code",
   "execution_count": 5,
   "id": "07719dc0-f0eb-455f-9722-f0c12a5dfd53",
   "metadata": {
    "tags": []
   },
   "outputs": [
    {
     "name": "stdout",
     "output_type": "stream",
     "text": [
      "4\n"
     ]
    }
   ],
   "source": [
    "print(len(documents))"
   ]
  },
  {
   "cell_type": "code",
   "execution_count": 6,
   "id": "0551aacc-78fc-4638-b9d2-06eefb320aa0",
   "metadata": {
    "tags": []
   },
   "outputs": [
    {
     "name": "stdout",
     "output_type": "stream",
     "text": [
      "书书书【\n",
      "临床论著\n",
      "】\n",
      "老年人糖脂代谢病的中医证候要素调查\n",
      "*\n",
      "王舒沛\n",
      "1\n",
      "沈天然\n",
      "1\n",
      "，\n",
      "2\n",
      "王之浩\n",
      "1\n",
      "陈青松\n",
      "1\n",
      "，\n",
      "2\n",
      "△\n",
      "摘要\n",
      ":\n",
      "目的\n",
      "探讨老年人糖脂代谢病的中医病位和病性证候要素分布规律\n"
     ]
    }
   ],
   "source": [
    "print(documents[0].page_content[0:100])"
   ]
  },
  {
   "cell_type": "code",
   "execution_count": 7,
   "id": "db6ee562-86ee-45bc-bc1e-9048bfee06b4",
   "metadata": {
    "tags": []
   },
   "outputs": [
    {
     "name": "stdout",
     "output_type": "stream",
     "text": [
      "112 page_content='书书书【\\n临床论著\\n】\\n老年人糖脂代谢病的中医证候要素调查\\n*\\n王舒沛\\n1\\n沈天然\\n1\\n，\\n2\\n王之浩\\n1\\n陈青松\\n1\\n，\\n2\\n△\\n摘要\\n:\\n目的\\n探讨老年人糖脂代谢病的中医病位和病性证候要素分布规律' metadata={'source': '../data/老年人糖脂代谢病的中医证候要素调查_王舒沛.pdf', 'page': 0}\n"
     ]
    }
   ],
   "source": [
    "# 将加载的文档分割成更小的块\n",
    "# RecursiveCharacterTextSplitter 是一种常见的拆分器，它将长文本片段拆分为较小的、具有语义意义的块。 \n",
    "# 其他splitters包括：\n",
    "# SpacyTextSplitter\n",
    "# NLTKTextSplitter\n",
    "# SentenceTransformersTokenTextSplitter\n",
    "# CharacterTextSplitter\n",
    "\n",
    "text_splitter = RecursiveCharacterTextSplitter(chunk_size=100, chunk_overlap=10)\n",
    "\n",
    "splits = text_splitter.split_documents(documents)\n",
    "\n",
    "print(len(splits), splits[0])"
   ]
  },
  {
   "cell_type": "code",
   "execution_count": 8,
   "id": "51458b64",
   "metadata": {},
   "outputs": [
    {
     "data": {
      "text/plain": [
       "[Document(page_content='书书书【\\n临床论著\\n】\\n老年人糖脂代谢病的中医证候要素调查\\n*\\n王舒沛\\n1\\n沈天然\\n1\\n，\\n2\\n王之浩\\n1\\n陈青松\\n1\\n，\\n2\\n△\\n摘要\\n:\\n目的\\n探讨老年人糖脂代谢病的中医病位和病性证候要素分布规律', metadata={'source': '../data/老年人糖脂代谢病的中医证候要素调查_王舒沛.pdf', 'page': 0}),\n",
       " Document(page_content='。\\n方法\\n收集\\n60\\n岁及以上的糖脂代谢病患者\\n3459\\n例\\n，\\n对证候要素进行频数分析和聚类分析\\n。\\n结果\\n3459\\n例糖脂代谢病老年人群的病位证素以肾\\n、\\n肝\\n、\\n脾多见\\n。\\n病性证素分布前\\n5', metadata={'source': '../data/老年人糖脂代谢病的中医证候要素调查_王舒沛.pdf', 'page': 0}),\n",
       " Document(page_content='病性证素分布前\\n5\\n位\\n依次为\\n:\\n血虚\\n、\\n痰\\n、\\n阴虚\\n、\\n热\\n、\\n湿\\n。\\n糖脂代谢病中医证候要素组合规律多样\\n，\\n病位证素\\n2\\n种以上的组合形式占比\\n21.8%\\n(\\n753/3459\\n) ，', metadata={'source': '../data/老年人糖脂代谢病的中医证候要素调查_王舒沛.pdf', 'page': 0}),\n",
       " Document(page_content=') ，\\n病\\n性证候要素\\n2\\n种以上的组合形式占比\\n64.0%\\n(\\n2215/3459\\n)\\n。\\n聚类分析发现\\n4\\n种证候要素组合规律\\n:\\n气滞血瘀\\n、\\n肝阳上亢\\n、\\n脾阳气虚\\n;\\n痰湿证\\n;\\n热证\\n;', metadata={'source': '../data/老年人糖脂代谢病的中医证候要素调查_王舒沛.pdf', 'page': 0}),\n",
       " Document(page_content=';\\n热证\\n;\\n肾阴虚证与血虚证\\n。\\n结论\\n老年人群糖脂代谢病的常见病位证素是肾\\n，\\n涉及肝\\n、\\n脾\\n、\\n心和胃\\n，\\n常见的病性证素是血虚\\n、\\n痰\\n、\\n阴虚\\n、\\n热\\n、\\n湿等\\n。\\n关键词\\n:', metadata={'source': '../data/老年人糖脂代谢病的中医证候要素调查_王舒沛.pdf', 'page': 0}),\n",
       " Document(page_content='。\\n关键词\\n:\\n糖脂代谢病\\n;\\n中医证候要素\\n;\\n老年病\\ndoi\\n:\\n10．3969/j．issn．1003-8914．2024．08．001\\n文章编号\\n:\\n1003-8914\\n(\\n2024\\n)', metadata={'source': '../data/老年人糖脂代谢病的中医证候要素调查_王舒沛.pdf', 'page': 0}),\n",
       " Document(page_content='(\\n2024\\n)\\n-08-1459-04\\nInvestigationofTraditionalChineseMedicineSyndromeElementsofGlucolipidMetabolic', metadata={'source': '../data/老年人糖脂代谢病的中医证候要素调查_王舒沛.pdf', 'page': 0}),\n",
       " Document(page_content='DisordersintheElderly\\nWANGShupei\\n1\\nSHENTianran\\n1\\n，\\n2\\nWANGZhihao\\n1\\nCHENQingsong\\n1\\n，\\n2\\n△\\n(', metadata={'source': '../data/老年人糖脂代谢病的中医证候要素调查_王舒沛.pdf', 'page': 0}),\n",
       " Document(page_content='1\\n，\\n2\\n△\\n(\\n1.SchoolofPublicHealth\\n，\\nGuangdongPharmaceuticalUniversity\\n，\\nGuangdongProvince\\n，', metadata={'source': '../data/老年人糖脂代谢病的中医证候要素调查_王舒沛.pdf', 'page': 0}),\n",
       " Document(page_content='，\\nGuangzhou510310\\n，\\nChina\\n;', metadata={'source': '../data/老年人糖脂代谢病的中医证候要素调查_王舒沛.pdf', 'page': 0}),\n",
       " Document(page_content='，\\nChina\\n;\\n2.GuangdongProvincialEngineeringＲesearchCenterofPublicHealthDetectionandAssessment\\n，', metadata={'source': '../data/老年人糖脂代谢病的中医证候要素调查_王舒沛.pdf', 'page': 0}),\n",
       " Document(page_content='，\\nGuangdongProvince\\n，\\nGuangzhou510310\\n，\\nChina\\n)\\nAbstract\\n:\\nObjective', metadata={'source': '../data/老年人糖脂代谢病的中医证候要素调查_王舒沛.pdf', 'page': 0}),\n",
       " Document(page_content='Objective\\nToexplorethedistributioncharacteristicsoftraditionalChinesemedicine\\n(\\nTCM\\n)', metadata={'source': '../data/老年人糖脂代谢病的中医证候要素调查_王舒沛.pdf', 'page': 0}),\n",
       " Document(page_content='(\\nTCM\\n)\\ndiseaselocationandpathogenic\\nsyndromeelementsofglucolipidmetabolicdisorders\\n(\\nGLMD\\n)', metadata={'source': '../data/老年人糖脂代谢病的中医证候要素调查_王舒沛.pdf', 'page': 0}),\n",
       " Document(page_content='(\\nGLMD\\n)\\nintheelderly．\\nMethods\\nThisstudycollected3459patientswithGLMD\\naged\\n≥\\n60years\\n，', metadata={'source': '../data/老年人糖脂代谢病的中医证候要素调查_王舒沛.pdf', 'page': 0}),\n",
       " Document(page_content='60years\\n，\\nandthesyndromeelementswereanalyzedbyfrequencyandclusteranalysis．\\nＲesults', metadata={'source': '../data/老年人糖脂代谢病的中医证候要素调查_王舒沛.pdf', 'page': 0}),\n",
       " Document(page_content='Ｒesults\\nThepathogenicsyndromeselements\\nof3459elderlypatientswithGLMDweremostlyfoundinthekidney\\n，', metadata={'source': '../data/老年人糖脂代谢病的中医证候要素调查_王舒沛.pdf', 'page': 0}),\n",
       " Document(page_content='，\\nliverandspleen．Thetopfivedistributionsofpathogenicsyndrome\\nelementswereblooddeficiencysyndrome\\n，', metadata={'source': '../data/老年人糖脂代谢病的中医证候要素调查_王舒沛.pdf', 'page': 0}),\n",
       " Document(page_content='，\\nphlegmsyndrome\\n，\\nyindeficiencysyndrome\\n，\\nheatsyndrome\\n，\\nanddampnesssyndrome．The', metadata={'source': '../data/老年人糖脂代谢病的中医证候要素调查_王舒沛.pdf', 'page': 0}),\n",
       " Document(page_content='combinationpatternofTCMsyndromeelementsinGLMDwasdiverse．Thecombinationformofmorethan2kindsofdisease', metadata={'source': '../data/老年人糖脂代谢病的中医证候要素调查_王舒沛.pdf', 'page': 0}),\n",
       " Document(page_content='sofdiseaselocation', metadata={'source': '../data/老年人糖脂代谢病的中医证候要素调查_王舒沛.pdf', 'page': 0}),\n",
       " Document(page_content='syndromeelementsaccountedfor21.8%\\n(\\n753/3459\\n) ，', metadata={'source': '../data/老年人糖脂代谢病的中医证候要素调查_王舒沛.pdf', 'page': 0}),\n",
       " Document(page_content=') ，\\nandthecombinationformofmorethan2kindsofdiseasesyndromeelements\\naccountedfor64.0%\\n(\\n2215/3459\\n)', metadata={'source': '../data/老年人糖脂代谢病的中医证候要素调查_王舒沛.pdf', 'page': 0}),\n",
       " Document(page_content=')\\n．Clusteranalysisfoundthecombinationlawoffoursyndromesasfollows\\n:\\nqistagnationandbloodstasis\\n，', metadata={'source': '../data/老年人糖脂代谢病的中医证候要素调查_王舒沛.pdf', 'page': 0}),\n",
       " Document(page_content='，\\nliver-yanghyperactivity\\n，\\nspleenyangqideficiency\\n，\\nphlegm-dampnesssyndrome\\n，\\nheatsyndrome\\n，', metadata={'source': '../data/老年人糖脂代谢病的中医证候要素调查_王舒沛.pdf', 'page': 0}),\n",
       " Document(page_content='，\\nkidneyyindeficiencysyndromeandblood\\ndeficiencysyndrome．\\nConclusion', metadata={'source': '../data/老年人糖脂代谢病的中医证候要素调查_王舒沛.pdf', 'page': 0}),\n",
       " Document(page_content='ThecommondiseaselocationsyndromeelementsoftheelderlypeoplewithGLMDarekidney\\n，\\ninvolving\\nliver\\n，', metadata={'source': '../data/老年人糖脂代谢病的中医证候要素调查_王舒沛.pdf', 'page': 0}),\n",
       " Document(page_content='liver\\n，\\nspleen\\n，\\nheart\\n，\\nandstomachandcommonpathologicalsyndromeelementsareblooddeficiencysyndrome', metadata={'source': '../data/老年人糖脂代谢病的中医证候要素调查_王舒沛.pdf', 'page': 0}),\n",
       " Document(page_content='，\\nphlegmsyndrome\\n，\\nyin\\ndeficiencysyndrome\\n，\\nheatsyndrome\\n，\\ndampsyndrome\\n，\\netc．\\nKeywords\\n:', metadata={'source': '../data/老年人糖脂代谢病的中医证候要素调查_王舒沛.pdf', 'page': 0}),\n",
       " Document(page_content=':\\nglucolipidmetabolicdisorders\\n;\\ntraditionalChinesemedicinesyndromeelements\\n;\\nsenility\\n*\\n基金项目\\n:', metadata={'source': '../data/老年人糖脂代谢病的中医证候要素调查_王舒沛.pdf', 'page': 0}),\n",
       " Document(page_content='*\\n基金项目\\n:\\n广东省医学科学技术研究基金\\n(\\nNo.2019GCZX012\\n) ;\\n广州\\n市基础与应用基础研究项目一般项目\\n(\\nNo.202201010545\\n)\\n作者单位\\n:\\n1.', metadata={'source': '../data/老年人糖脂代谢病的中医证候要素调查_王舒沛.pdf', 'page': 0}),\n",
       " Document(page_content='作者单位\\n:\\n1.\\n广东药科大学公共卫生学院\\n(\\n广东 广州\\n510310\\n) ;\\n2.\\n广\\n东省公共卫生检测与评估工程技术研究中心\\n(\\n广东 广州\\n510310\\n)\\n△\\n通信作者\\n:\\nE-mail', metadata={'source': '../data/老年人糖脂代谢病的中医证候要素调查_王舒沛.pdf', 'page': 0}),\n",
       " Document(page_content=':\\nE-mail\\n:\\nqingsongchen@aliyun．com\\n调查数据显示\\n，\\n中国居民健康逐渐受到了心脑血\\n管疾病\\n、\\n糖尿病等糖脂代谢紊乱性疾病的威胁\\n。\\n虽已', metadata={'source': '../data/老年人糖脂代谢病的中医证候要素调查_王舒沛.pdf', 'page': 0}),\n",
       " Document(page_content='。\\n虽已\\n引起政府及全社会的广泛关注\\n，\\n但其患病率\\n、\\n病死率\\n、\\n致残率居高不下\\n，\\n防控效果不佳\\n。\\n基于大样本临床流\\n行病学\\n、\\n转化研究数据\\n，\\n郭姣教授等\\n［\\n1\\n］\\n率团队提出糖', metadata={'source': '../data/老年人糖脂代谢病的中医证候要素调查_王舒沛.pdf', 'page': 0}),\n",
       " Document(page_content='］\\n率团队提出糖\\n脂代谢病\\n(\\nGlucolipidMetabolicDisorders\\n，\\nGLMD\\n)\\n创新理论\\n，\\n认为糖脂代谢病是糖\\n、\\n脂代谢相关疾病的综合\\n体\\n，', metadata={'source': '../data/老年人糖脂代谢病的中医证候要素调查_王舒沛.pdf', 'page': 0}),\n",
       " Document(page_content='体\\n，\\n自提出以来就受到国内外同行的关注\\n，\\n成为世界范\\n围内公共卫生和临床慢性病治疗面临的问题之一\\n［\\n2\\n］\\n。\\n糖脂代谢病的单病或合病之间相互影响\\n，\\n恶性循环\\n，\\n分', metadata={'source': '../data/老年人糖脂代谢病的中医证候要素调查_王舒沛.pdf', 'page': 0}),\n",
       " Document(page_content='恶性循环\\n，\\n分\\n科单病诊治的综合达标率低\\n，\\n其防控形势严峻\\n，\\n刻不容\\n缓\\n，\\n需要综合一体化认识与防控\\n［\\n1\\n］\\n。\\n由于老年人群的\\n生活方式转变和机体代谢功能下降等多种原因\\n，\\n慢性', metadata={'source': '../data/老年人糖脂代谢病的中医证候要素调查_王舒沛.pdf', 'page': 0}),\n",
       " Document(page_content='，\\n慢性\\n病共病率高\\n，\\n病因复杂\\n，\\n使老年人群的糖脂代谢紊乱问\\n题更加严重\\n，\\n且多种用药易加重糖脂代谢紊乱\\n。\\n目前\\n糖脂代谢病单病种的中医证候研究众多\\n，\\n但其中医证\\n候分布规律的研究甚少', metadata={'source': '../data/老年人糖脂代谢病的中医证候要素调查_王舒沛.pdf', 'page': 0}),\n",
       " Document(page_content='。\\n本研究旨在通过分析老年人\\n·\\n9541\\n·\\n光明中医\\n2024\\n年\\n4\\n月第\\n39\\n卷第\\n8\\n期\\nCJGMCMApril2024.Vol39.8', metadata={'source': '../data/老年人糖脂代谢病的中医证候要素调查_王舒沛.pdf', 'page': 0}),\n",
       " Document(page_content='糖脂代谢病中医证候病位和病性要素特点\\n，\\n探讨老年\\n人群的糖脂代谢病常见中医证型\\n，\\n为实现老年人群的\\n糖脂代谢病个体化诊治与预防提供一定的科学参考\\n依据\\n。\\n1\\n资料与方法\\n1.1\\n一般资料', metadata={'source': '../data/老年人糖脂代谢病的中医证候要素调查_王舒沛.pdf', 'page': 1}),\n",
       " Document(page_content='1.1\\n一般资料\\n收集了中山市火炬开发区医院的\\n3459\\n例糖脂代谢病人群\\n，\\n其中男\\n1156\\n例\\n，\\n女\\n2303\\n例\\n，\\n男\\n∶\\n女\\n≈\\n1∶2\\n;\\n年龄\\n60～92\\n岁\\n，\\n平均\\n(', metadata={'source': '../data/老年人糖脂代谢病的中医证候要素调查_王舒沛.pdf', 'page': 1}),\n",
       " Document(page_content='岁\\n，\\n平均\\n(\\n68.30±5.47\\n)\\n岁\\n;\\n吸烟史\\n、\\n饮酒史分别占比\\n17.8%\\n、\\n9.3%\\n，\\n有运动锻炼\\n习惯的\\n18.4%\\n;\\n合并超重\\n、\\n肥胖的\\n58.7%\\n，\\n合并高血压\\n病', metadata={'source': '../data/老年人糖脂代谢病的中医证候要素调查_王舒沛.pdf', 'page': 1}),\n",
       " Document(page_content='，\\n合并高血压\\n病\\n47.9%\\n。\\n本研究已通过广东药科大学伦理委员会\\n审批\\n(\\n医伦审\\n［\\n2019\\n］\\n第\\n(\\n109\\n)\\n号\\n)\\n。\\n1.2\\n诊断标准\\n糖脂代谢病诊断标准参照\\n《\\n糖脂代\\n谢病', metadata={'source': '../data/老年人糖脂代谢病的中医证候要素调查_王舒沛.pdf', 'page': 1}),\n",
       " Document(page_content='《\\n糖脂代\\n谢病\\n(\\n瘅浊\\n)\\n中西医结合诊疗技术规范\\n》\\n［\\n2\\n］\\n。\\n1.3\\n纳入与排除标准\\n纳入标准\\n:\\n符合糖脂代谢病的\\n诊断标准\\n;\\n年龄\\n60\\n岁及以上\\n，\\n男女不限\\n;\\n依从性高\\n;', metadata={'source': '../data/老年人糖脂代谢病的中医证候要素调查_王舒沛.pdf', 'page': 1}),\n",
       " Document(page_content=';\\n依从性高\\n;\\n所\\n有人均签订知情同意书\\n。\\n排除标准\\n:\\n有严重神经或精\\n神疾病者\\n;\\n老年痴呆者\\n;\\n语言沟通困难无法完成问卷调\\n查者\\n;\\n有呼吸消化等系统的严重原发性疾病者\\n;\\n合并重', metadata={'source': '../data/老年人糖脂代谢病的中医证候要素调查_王舒沛.pdf', 'page': 1}),\n",
       " Document(page_content=';\\n合并重\\n大的传染性疾病或肿瘤者\\n。\\n1.4\\n研究方法\\n1.4.1\\n调查方法\\n调查前由医院的中医科主任\\n、\\n内科\\n医师以及课题组老师对所有调查人员进行统一培训\\n。\\n调查时采用经过信效度检验\\n、', metadata={'source': '../data/老年人糖脂代谢病的中医证候要素调查_王舒沛.pdf', 'page': 1}),\n",
       " Document(page_content='、\\n预调查的结构化调查问\\n卷\\n，\\n主要收集基本人口学信息\\n、\\n吸烟饮酒情况\\n、\\n既往病\\n史等方面的信息\\n。\\n1.4.2\\n中医证候要素的判定\\n本研究采用郭姣教授\\n团队制定的糖脂代谢病中医证候诊断量表', metadata={'source': '../data/老年人糖脂代谢病的中医证候要素调查_王舒沛.pdf', 'page': 1}),\n",
       " Document(page_content='［\\n3\\n］\\n，\\n共纳入\\n71\\n个变量\\n。\\n该量表首次对糖脂代谢病\\n15\\n个病性\\n/\\n病\\n位证素的辨证进行量化分级的客观诊断\\n。\\n病性证素主\\n要由气滞\\n、\\n湿\\n、\\n痰\\n、\\n热\\n、\\n血瘀等实性证素与阳亢', metadata={'source': '../data/老年人糖脂代谢病的中医证候要素调查_王舒沛.pdf', 'page': 1}),\n",
       " Document(page_content='、\\n气虚\\n、\\n血\\n虚\\n、\\n阳虚\\n、\\n阴虚等虚性证素组成\\n，\\n病位证素主要是心\\n、\\n脾\\n、\\n肝\\n、\\n肾\\n、\\n胃证\\n。\\n其中舌脉等体征信息由中医科专业\\n的医师进行诊断\\n。\\n处理数据时根据糖脂代谢病中医证', metadata={'source': '../data/老年人糖脂代谢病的中医证候要素调查_王舒沛.pdf', 'page': 1}),\n",
       " Document(page_content='候诊断量表\\n［\\n3\\n］\\n进行量化和变量赋值\\n，\\n对糖脂代谢病患\\n者进行中医证候病性证素以及病位证素维度辨证\\n。\\n1.5\\n统计学方法\\n采用\\nSPSS25.0\\n软件的卡方检验', metadata={'source': '../data/老年人糖脂代谢病的中医证候要素调查_王舒沛.pdf', 'page': 1}),\n",
       " Document(page_content='软件的卡方检验\\n对计数资料的频数和构成比进行统计分析\\n，\\n聚类分析\\n方法则采用系统聚类分析中的离差平方法\\n(\\nWard\\n’\\ns\\nmethod\\n)\\n［\\n4\\n］\\n。\\n2\\n结果\\n2.1', metadata={'source': '../data/老年人糖脂代谢病的中医证候要素调查_王舒沛.pdf', 'page': 1}),\n",
       " Document(page_content='2\\n结果\\n2.1\\n中医证候要素分布情况\\n3459\\n例糖脂代谢病老\\n年人群的\\n15\\n种中医证候要素分布的频数及频率由高\\n到低依次排序\\n，\\n最高的中医证候要素是血虚证\\n(\\n42.2%\\n) ，\\n最低是胃证', metadata={'source': '../data/老年人糖脂代谢病的中医证候要素调查_王舒沛.pdf', 'page': 1}),\n",
       " Document(page_content=') ，\\n最低是胃证\\n(\\n4.4%\\n)\\n。\\n见表\\n1\\n。\\n2.2\\n中医病性证素的分布\\n在\\n3459\\n例老年人群糖脂\\n代谢病患者中\\n，\\n病性证素中血虚证的频率最高\\n，\\n其次痰\\n证\\n、\\n阴虚证\\n、\\n热证', metadata={'source': '../data/老年人糖脂代谢病的中医证候要素调查_王舒沛.pdf', 'page': 1}),\n",
       " Document(page_content='阴虚证\\n、\\n热证\\n、\\n湿证等占比均超过\\n10%\\n，\\n占比最小\\n的是气滞证\\n，\\n仅占\\n5%\\n。\\n见图\\n1\\n。\\n表\\n1\\n中医证候要素分布频数及频率\\n证素 频数 构成比\\n/%\\n证素 频数 构成比\\n/%', metadata={'source': '../data/老年人糖脂代谢病的中医证候要素调查_王舒沛.pdf', 'page': 1}),\n",
       " Document(page_content='/%\\n血虚证\\n1458 42.2\\n阳虚证\\n769 22.2\\n痰证\\n1211 35.0\\n血瘀证\\n713 20.6\\n阴虚证\\n1162 33.6\\n阳亢证\\n670 19.4\\n热证\\n1122 32.5\\n脾证', metadata={'source': '../data/老年人糖脂代谢病的中医证候要素调查_王舒沛.pdf', 'page': 1}),\n",
       " Document(page_content='脾证\\n614 17.8\\n湿证\\n1044 30.2\\n气滞证\\n493 14.3\\n肾证\\n900 26.0\\n心证\\n250 7.2\\n肝证\\n846 24.5\\n胃证\\n153 4.4\\n气虚证\\n777 22.5\\n图', metadata={'source': '../data/老年人糖脂代谢病的中医证候要素调查_王舒沛.pdf', 'page': 1}),\n",
       " Document(page_content='图\\n1\\n病性证素分布图\\n2.3\\n中医病位证素的分布\\n在\\n3459\\n例老年糖脂代谢\\n病患者中\\n，\\n病位证素出现频率最高的是肾证\\n(\\n33%\\n) ，\\n其次是肝证\\n、\\n脾证\\n、\\n心证\\n、\\n胃证\\n，', metadata={'source': '../data/老年人糖脂代谢病的中医证候要素调查_王舒沛.pdf', 'page': 1}),\n",
       " Document(page_content='心证\\n、\\n胃证\\n，\\n其中胃证仅占\\n5%\\n。\\n见\\n图\\n2\\n。\\n图\\n2\\n病位证素分布图\\n2.4\\n中医证候要素组合规律\\n糖脂代谢病中医证候\\n要素组合规律多样\\n，\\n较为复杂\\n，\\n其中病性证素\\n2\\n种及以', metadata={'source': '../data/老年人糖脂代谢病的中医证候要素调查_王舒沛.pdf', 'page': 1}),\n",
       " Document(page_content='2\\n种及以\\n上的组合形式有\\n2215\\n例\\n，\\n合计达\\n64.0%\\n，\\n兼夹证候的\\n多样\\n，\\n说明糖脂代谢病病机错综复杂\\n。\\n病位证素\\n2\\n种\\n及以上的组合形式有\\n753\\n例\\n，\\n合计\\n21.8%\\n，', metadata={'source': '../data/老年人糖脂代谢病的中医证候要素调查_王舒沛.pdf', 'page': 1}),\n",
       " Document(page_content='21.8%\\n，\\n复合病位\\n·\\n0641\\n·\\n光明中医\\n2024\\n年\\n4\\n月第\\n39\\n卷第\\n8\\n期\\nCJGMCMApril2024.Vol39.8', metadata={'source': '../data/老年人糖脂代谢病的中医证候要素调查_王舒沛.pdf', 'page': 1}),\n",
       " Document(page_content='的出现说明糖脂代谢病的病位多样\\n，\\n涉及脏腑病机混\\n杂\\n。\\n见表\\n2\\n。\\n此外\\n，\\n通过实性证素和虚性证素组合分\\n布频数及频率的统计结果可以看出\\n，\\n3459\\n例糖脂代谢\\n病老年人群中\\n，', metadata={'source': '../data/老年人糖脂代谢病的中医证候要素调查_王舒沛.pdf', 'page': 2}),\n",
       " Document(page_content='病老年人群中\\n，\\n虚实夹杂的病性证素组合有\\n1667\\n例\\n，\\n占比\\n48.2%\\n，\\n由此可知\\n，\\n糖脂代谢病老年人群更多是\\n虚实夹杂的病性证素组合\\n。\\n见表\\n3\\n。\\n表\\n2', metadata={'source': '../data/老年人糖脂代谢病的中医证候要素调查_王舒沛.pdf', 'page': 2}),\n",
       " Document(page_content='3\\n。\\n表\\n2\\n中医证候要素组合分布频数及频率\\n病性证素\\n组合规律频数 构成比\\n/%\\n病位证素\\n组合规律频数 构成比\\n/%\\n0 726 21.0 0 1927 55.7', metadata={'source': '../data/老年人糖脂代谢病的中医证候要素调查_王舒沛.pdf', 'page': 2}),\n",
       " Document(page_content='1 518 14.5 1 779 22.5\\n2 621 18.0 2 420 12.1\\n3 515 14.9 3 216 6.2\\n4 339 9.8 4 86 2.5', metadata={'source': '../data/老年人糖脂代谢病的中医证候要素调查_王舒沛.pdf', 'page': 2}),\n",
       " Document(page_content='5 272 7.9 5 31 0.9\\n6 161 4.7\\n7 130 3.8\\n8 94 2.7\\n9 60 1.7\\n10 23 0.7\\n表\\n3\\n实性证素和虚性证素组合分布频数及频率', metadata={'source': '../data/老年人糖脂代谢病的中医证候要素调查_王舒沛.pdf', 'page': 2}),\n",
       " Document(page_content='组合规律 频数 构成比\\n/%\\n零种组合\\n726 21.0\\n实性证素组合\\n565 16.3\\n虚性证素组合\\n501 14.5\\n虚实混合组合\\n1667 48.2\\n总计\\n3459 100.0\\n2.5', metadata={'source': '../data/老年人糖脂代谢病的中医证候要素调查_王舒沛.pdf', 'page': 2}),\n",
       " Document(page_content='2.5\\n中医证候要素聚类分析\\n对证素出现频率超过\\n10\\n的\\n13\\n个中医证候要素进行聚类分析\\n，\\n分别对数据进行\\n不同类别的多次分析\\n，\\n最后选用系统聚类分析中的离差\\n平方法\\n(\\nWard\\n’', metadata={'source': '../data/老年人糖脂代谢病的中医证候要素调查_王舒沛.pdf', 'page': 2}),\n",
       " Document(page_content='(\\nWard\\n’\\nsmethod\\n)\\n法\\n，\\n设置最小聚类数为\\n2\\n，\\n最大\\n聚类数为\\n8\\n。\\n见图\\n3\\n。\\n由图\\n3\\n可以看出\\n，\\n当聚类区间为\\n15\\n时\\n，\\n聚类分析呈现的证素组合规律有\\n4\\n种', metadata={'source': '../data/老年人糖脂代谢病的中医证候要素调查_王舒沛.pdf', 'page': 2}),\n",
       " Document(page_content='4\\n种\\n:\\n①\\n气滞血\\n瘀证\\n、\\n肝阳上亢证\\n、\\n脾阳气虚证\\n，\\n病位在肝脾\\n，\\n病性为气\\n滞\\n、\\n血瘀\\n、\\n阳亢\\n、\\n阳气虚\\n;\\n②\\n痰湿证\\n;\\n③\\n热证\\n;\\n④\\n肾阴虚证\\n、\\n血虚证\\n，', metadata={'source': '../data/老年人糖脂代谢病的中医证候要素调查_王舒沛.pdf', 'page': 2}),\n",
       " Document(page_content='、\\n血虚证\\n，\\n病位在肾\\n，\\n病性阴虚\\n、\\n血虚\\n。\\n3\\n讨论\\n糖脂代谢病是一个以糖\\n、\\n脂代谢紊乱为核心病\\n理的疾病群\\n，\\n发病率高\\n、\\n发病隐匿\\n、\\n多病并存\\n、\\n防控形\\n势不佳\\n、', metadata={'source': '../data/老年人糖脂代谢病的中医证候要素调查_王舒沛.pdf', 'page': 2}),\n",
       " Document(page_content='防控形\\n势不佳\\n、\\n致残致死率高\\n。\\n本研究结果显示\\n，\\n3459\\n例糖\\n脂代谢病老年人群中\\n，\\n58.7%\\n合 并 超 重\\n、\\n肥 胖\\n，\\n47.9%\\n合并高血压病\\n。\\n不同单病状态下的糖脂代谢', metadata={'source': '../data/老年人糖脂代谢病的中医证候要素调查_王舒沛.pdf', 'page': 2}),\n",
       " Document(page_content='病患者约有过半的人群合并超重\\n、\\n肥胖\\n、\\n高血压病等\\n危险因素\\n，\\n强调了糖脂代谢病的综合一体化认识和\\n图\\n3\\n糖脂代谢病的病位证素与病性证素聚类分析图\\n防控的必要性\\n。\\n本研究结果发现\\n，', metadata={'source': '../data/老年人糖脂代谢病的中医证候要素调查_王舒沛.pdf', 'page': 2}),\n",
       " Document(page_content='本研究结果发现\\n，\\n糖脂代谢病患者中医病性证素\\n以血虚证\\n、\\n痰证\\n、\\n阴虚证\\n、\\n热证\\n、\\n湿证等为主\\n，\\n合计占比\\n为\\n64.0%\\n，\\n中医病位证素以肾\\n、\\n肝\\n、\\n脾为主\\n，\\n合计占比', metadata={'source': '../data/老年人糖脂代谢病的中医证候要素调查_王舒沛.pdf', 'page': 2}),\n",
       " Document(page_content='，\\n合计占比\\n86.0%\\n，\\n由此可见\\n，\\n糖脂代谢病主要由血虚\\n、\\n痰\\n、\\n阴虚\\n、\\n热\\n、\\n湿等病理变化共同致病\\n，\\n病位与肾\\n、\\n肝\\n、\\n脾关系密\\n切\\n，\\n这与黄婧文等\\n［\\n5\\n］\\n、\\n李敏谦', metadata={'source': '../data/老年人糖脂代谢病的中医证候要素调查_王舒沛.pdf', 'page': 2}),\n",
       " Document(page_content='5\\n］\\n、\\n李敏谦\\n［\\n3\\n］\\n的研究结果一致\\n。\\n而\\n中医证候组合规律里\\n，\\n中医病性证素组合规律中\\n2\\n种\\n以上的组合形式占比\\n64.0%\\n，\\n病位证素中\\n2\\n种以上的\\n组合形式占比\\n21.8%', metadata={'source': '../data/老年人糖脂代谢病的中医证候要素调查_王舒沛.pdf', 'page': 2}),\n",
       " Document(page_content='21.8%\\n，\\n可见糖脂代谢病的病位脏腑涉\\n及广泛\\n，\\n病机并非单一\\n、\\n错综复杂\\n。\\n糖脂代谢病的发病\\n因素较多\\n，\\n病因主要可归纳为先天与后天因素\\n，\\n包括情\\n志失调\\n、\\n运动不足\\n、', metadata={'source': '../data/老年人糖脂代谢病的中医证候要素调查_王舒沛.pdf', 'page': 2}),\n",
       " Document(page_content='、\\n运动不足\\n、\\n饮食不节或嗜食肥甘厚腻\\n;\\n禀赋不\\n足或年老体衰或劳欲过度等\\n［\\n6\\n］\\n。\\n在疾病不同阶段\\n，\\n其\\n病位可涉及脾\\n、\\n肾\\n、\\n肝\\n、\\n心等多脏腑\\n，\\n病位分布广泛\\n，\\n而', metadata={'source': '../data/老年人糖脂代谢病的中医证候要素调查_王舒沛.pdf', 'page': 2}),\n",
       " Document(page_content='，\\n而\\n病位不同对应的临床表现亦有所不同\\n，\\n可见糖脂代谢\\n病具有病因\\n、\\n病位及临床表现的多样性\\n，\\n这也导致了其\\n中医证候要素的多样性\\n，\\n这与李敏谦等\\n［\\n6\\n］\\n用\\n“\\n瘅浊\\n”', metadata={'source': '../data/老年人糖脂代谢病的中医证候要素调查_王舒沛.pdf', 'page': 2}),\n",
       " Document(page_content='用\\n“\\n瘅浊\\n”\\n命名糖脂代谢病的中医病名研究一致\\n。\\n同时\\n，\\n研究结\\n果发现仅有实性证素组合和仅有虚性证素组合各占\\n16.3%\\n、\\n14.5%\\n，\\n而虚实混合的证素组合占\\n48.2%\\n，\\n由', metadata={'source': '../data/老年人糖脂代谢病的中医证候要素调查_王舒沛.pdf', 'page': 2}),\n",
       " Document(page_content='48.2%\\n，\\n由\\n此看出\\n，\\n糖脂代谢病人群的病理变化既有痰证\\n、\\n热证\\n、\\n湿证等实性证素出现\\n，\\n又有血虚\\n、\\n阴虚\\n、\\n气虚等虚性证\\n素出现\\n，\\n大部分患者以虚实夹杂证多见\\n，\\n与黄婧文\\n等', metadata={'source': '../data/老年人糖脂代谢病的中医证候要素调查_王舒沛.pdf', 'page': 2}),\n",
       " Document(page_content='，\\n与黄婧文\\n等\\n［\\n5\\n］\\n的文献研究结果一致\\n。\\n这可能是疾病初期由于\\n生活质量提升带来的嗜食膏粱厚味及疾病长期耗损机\\n体以致情志不畅\\n，\\n故机体会产生气滞\\n、\\n痰湿\\n、\\n瘀血等实\\n性病理变化', metadata={'source': '../data/老年人糖脂代谢病的中医证候要素调查_王舒沛.pdf', 'page': 2}),\n",
       " Document(page_content='性病理变化\\n，\\n而老年人群的脏腑之气逐渐衰弱\\n，\\n易产生\\n阴虚\\n、\\n阳虚等虚性证侯表现\\n，\\n机体受病理产物长期损\\n耗\\n，\\n正气逐渐衰弱\\n，\\n无力驱邪外出\\n，\\n故正不抗邪\\n，\\n日久实', metadata={'source': '../data/老年人糖脂代谢病的中医证候要素调查_王舒沛.pdf', 'page': 2}),\n",
       " Document(page_content='，\\n日久实\\n性与虚性病理产物相互糅合转化\\n，\\n最终导致发展成虚\\n·\\n1641\\n·\\n光明中医\\n2024\\n年\\n4\\n月第\\n39\\n卷第\\n8\\n期\\nCJGMCMApril2024.Vol39.8', metadata={'source': '../data/老年人糖脂代谢病的中医证候要素调查_王舒沛.pdf', 'page': 2}),\n",
       " Document(page_content='实夹杂的病机\\n。\\n本研究聚类分析结果呈现的证候要素\\n组合规律有\\n4\\n种\\n:\\n①\\n气滞血瘀证\\n、\\n肝阳上亢证\\n、\\n脾阳气\\n虚证\\n，\\n病位在肝脾\\n，\\n病性为气滞\\n、\\n血瘀\\n、\\n阳亢\\n、\\n阳气虚\\n;\\n②', metadata={'source': '../data/老年人糖脂代谢病的中医证候要素调查_王舒沛.pdf', 'page': 3}),\n",
       " Document(page_content='、\\n阳气虚\\n;\\n②\\n痰湿证\\n;\\n③\\n热证\\n;\\n④\\n肾阴虚证\\n、\\n血虚证\\n，\\n病位在肾\\n，\\n病性\\n阴虚\\n、\\n血虚\\n，\\n与\\n《\\n国际中医临床实践指南\\n·\\n糖脂代谢病\\n(\\n2021-10-14\\n)\\n》\\n［', metadata={'source': '../data/老年人糖脂代谢病的中医证候要素调查_王舒沛.pdf', 'page': 3}),\n",
       " Document(page_content=')\\n》\\n［\\n7\\n］\\n相吻合\\n。\\n综上所述\\n，\\n糖脂代谢病的病\\n位主要在肾\\n、\\n肝\\n、\\n脾\\n，\\n实性证素有痰\\n、\\n热\\n、\\n湿等\\n，\\n虚性证素\\n主要有血虚\\n、\\n阴虚等\\n，\\n病机可能与肝郁脾虚\\n、', metadata={'source': '../data/老年人糖脂代谢病的中医证候要素调查_王舒沛.pdf', 'page': 3}),\n",
       " Document(page_content='、\\n气滞血瘀\\n、\\n肝阳上亢\\n、\\n痰湿阻滞\\n、\\n热证\\n、\\n肾阴血虚等相关\\n。\\n糖脂代谢病是当今影响人类身体健康和寿命的关\\n键问题\\n［\\n8\\n］\\n。\\n本研究通过大样本队列人群\\n，\\n采用糖脂代', metadata={'source': '../data/老年人糖脂代谢病的中医证候要素调查_王舒沛.pdf', 'page': 3}),\n",
       " Document(page_content='，\\n采用糖脂代\\n谢病证候量表分析老年人糖脂代谢病的中医证侯要素\\n特点\\n，\\n通过对中医证素的聚类分析探讨老年人群糖脂\\n代谢病的常见中医证候\\n，\\n一定程度上丰富和完善了糖', metadata={'source': '../data/老年人糖脂代谢病的中医证候要素调查_王舒沛.pdf', 'page': 3}),\n",
       " Document(page_content='脂代谢病在老年人群的中医证候方面的研究\\n。\\n同时采\\n用大样本中医证候量表调查\\n，\\n为糖脂代谢病中医证候\\n要素的标准化\\n、\\n客观化提供依据\\n。\\n日后还需要开展多\\n中心\\n、\\n多区域\\n、', metadata={'source': '../data/老年人糖脂代谢病的中医证候要素调查_王舒沛.pdf', 'page': 3}),\n",
       " Document(page_content='、\\n多区域\\n、\\n大样本的流行病学调查\\n，\\n并长期随访\\n，\\n动\\n态记录糖脂代谢病发生发展过程\\n，\\n分析不同阶段的中医证型分布情况\\n，\\n以期全面地反映糖脂代谢病中医证\\n候要素的分布规律\\n，', metadata={'source': '../data/老年人糖脂代谢病的中医证候要素调查_王舒沛.pdf', 'page': 3}),\n",
       " Document(page_content='，\\n了解疾病的本质\\n，\\n旨在对未来中西\\n医防控糖脂代谢病的临床诊疗研究提供依据\\n。\\n参考文献\\n［\\n1\\n］\\n郭姣\\n，\\n肖雪\\n，\\n荣向路\\n，\\n等\\n．\\n糖脂代谢病与精准医学\\n［\\nJ\\n］\\n．\\n世界科学技\\n术', metadata={'source': '../data/老年人糖脂代谢病的中医证候要素调查_王舒沛.pdf', 'page': 3}),\n",
       " Document(page_content='．\\n世界科学技\\n术\\n-\\n中医药现代化\\n，\\n2017\\n，\\n19\\n(\\n1\\n) :\\n50-54．\\n［\\n2\\n］\\n郭姣\\n．\\n糖脂代谢病\\n(\\n瘅浊\\n)\\n中西医结合诊疗技术规范\\n［\\nJ\\n］\\n．\\n世界中\\n医药\\n，', metadata={'source': '../data/老年人糖脂代谢病的中医证候要素调查_王舒沛.pdf', 'page': 3}),\n",
       " Document(page_content='世界中\\n医药\\n，\\n2019\\n，\\n14\\n(\\n3\\n) :\\n771-782．\\n［\\n3\\n］\\n李敏谦\\n．\\n糖脂代谢病中医证候分布规律及诊断量表研究\\n［\\nD\\n］\\n．\\n广\\n州\\n:\\n广东药科大学\\n，\\n2019．\\n［', metadata={'source': '../data/老年人糖脂代谢病的中医证候要素调查_王舒沛.pdf', 'page': 3}),\n",
       " Document(page_content='，\\n2019．\\n［\\n4\\n］\\n王家良\\n．\\n临床流行病学\\n:\\n临床科研设计\\n、\\n测量与评价\\n［\\nM\\n］\\n．3\\n版\\n．\\n上海\\n:\\n上海科学技术出版社\\n，\\n2009\\n:\\n177．\\n［\\n5\\n］\\n黄婧文\\n，', metadata={'source': '../data/老年人糖脂代谢病的中医证候要素调查_王舒沛.pdf', 'page': 3}),\n",
       " Document(page_content='5\\n］\\n黄婧文\\n，\\n郭姣\\n．\\n糖脂代谢病中医证候分布规律的现代文献研\\n究\\n［\\nJ\\n］\\n．\\n世界中医药\\n，\\n2019\\n，\\n14\\n(\\n1\\n) :\\n1-5．\\n［\\n6\\n］\\n李敏谦\\n，\\n林育\\n，\\n项磊\\n，\\n等', metadata={'source': '../data/老年人糖脂代谢病的中医证候要素调查_王舒沛.pdf', 'page': 3}),\n",
       " Document(page_content='，\\n项磊\\n，\\n等\\n．\\n瘅浊与糖脂代谢病\\n［\\nJ\\n］\\n．\\n世界中医药\\n，\\n2019\\n，\\n14\\n(\\n3\\n) :\\n652-655．\\n［\\n7\\n］\\n世界中医药学会联合会\\n．\\n国际中医临床实践指南糖脂代谢病\\n(', metadata={'source': '../data/老年人糖脂代谢病的中医证候要素调查_王舒沛.pdf', 'page': 3}),\n",
       " Document(page_content='(\\n2021-10-14\\n) ［\\nJ\\n］\\n．\\n世界中医药\\n，\\n2021\\n，\\n16\\n(\\n22\\n) :\\n3278-3284．\\n［\\n8\\n］\\n衡先培\\n．\\n糖脂代谢病药物治疗的问题与挑战\\n［\\nJ\\n］\\n．', metadata={'source': '../data/老年人糖脂代谢病的中医证候要素调查_王舒沛.pdf', 'page': 3}),\n",
       " Document(page_content='［\\nJ\\n］\\n．\\n中国中西医结\\n合杂志\\n，\\n2021\\n，\\n41\\n(\\n1\\n) :\\n9-12．\\n(\\n编辑\\n:\\n李佳丽 收稿日期\\n:\\n2023－05－05\\n)\\n苏子降气汤联合西药治疗慢阻肺急性加重期', metadata={'source': '../data/老年人糖脂代谢病的中医证候要素调查_王舒沛.pdf', 'page': 3}),\n",
       " Document(page_content='痰浊阻肺证的\\nMeta\\n分析\\n*\\n陈坚\\n1\\n汪周艳\\n2\\n△\\n曾卫强\\n1\\n潘琦琦\\n1\\n谭惠简\\n1\\n陈静仪\\n1\\n摘要\\n:\\n目的\\n评价苏子降气汤联合西药治疗慢阻肺急性加重期\\n(\\nAECOPD\\n)', metadata={'source': '../data/老年人糖脂代谢病的中医证候要素调查_王舒沛.pdf', 'page': 3}),\n",
       " Document(page_content='AECOPD\\n)\\n痰浊阻肺证的效果\\n。\\n方法\\n收集苏子降气汤联合西\\n药治疗\\nAECOPD\\n痰浊阻肺证的随机对照试验\\n(\\nＲCT\\n) ，\\n采用\\nＲevman5.4\\n进行\\nMeta\\n分析\\n。\\n结果\\n纳入', metadata={'source': '../data/老年人糖脂代谢病的中医证候要素调查_王舒沛.pdf', 'page': 3}),\n",
       " Document(page_content='。\\n结果\\n纳入\\n18\\n篇\\nＲCT\\n，\\n共\\n1401\\n例患者\\n。\\n苏子降气汤组在临床有效率\\n、\\n中医证候积分\\n、\\nPaO\\n2\\n、\\nPaCO\\n2\\n、\\nFVC\\n、\\nFEV1\\n以及\\nFEV1/FVC', metadata={'source': '../data/老年人糖脂代谢病的中医证候要素调查_王舒沛.pdf', 'page': 3}),\n",
       " Document(page_content='FEV1/FVC\\n方面均优于对照组\\n(\\n均\\nP\\n＜0．05\\n)\\n。\\n结论\\n苏\\n子降气汤联合西药治疗\\nAECOPD\\n痰浊阻肺证更具优势\\n。\\n关键词\\n:\\n肺胀\\n;\\n慢阻肺急性加重期\\n;\\n痰浊阻肺证\\n;', metadata={'source': '../data/老年人糖脂代谢病的中医证候要素调查_王舒沛.pdf', 'page': 3}),\n",
       " Document(page_content=';\\n痰浊阻肺证\\n;\\n苏子降气汤\\n;\\nMeta\\n分析\\ndoi\\n:\\n10．3969/j．issn．1003-8914．2024．08．002\\n文章编号\\n:\\n1003-8914\\n(\\n2024\\n)', metadata={'source': '../data/老年人糖脂代谢病的中医证候要素调查_王舒沛.pdf', 'page': 3}),\n",
       " Document(page_content='(\\n2024\\n)\\n-08-1462-06\\n*\\n基金项目\\n:\\n广东省佛山市卫生健康局医学科研课题\\n(\\nNo．20240369\\n) ;\\n广东医科大学顺德妇女儿童医院\\n(\\n佛山市顺德区妇幼保健院\\n)', metadata={'source': '../data/老年人糖脂代谢病的中医证候要素调查_王舒沛.pdf', 'page': 3}),\n",
       " Document(page_content=')\\n青年人\\n才项目\\n(\\nNo．2022QNＲC001\\n)\\n作者单位\\n:\\n1.\\n广东医科大学顺德妇女儿童医院\\n(\\n佛山市顺德区妇幼\\n保健院\\n)\\n药学部\\n(\\n广东 佛山\\n528300\\n) ;\\n2.', metadata={'source': '../data/老年人糖脂代谢病的中医证候要素调查_王舒沛.pdf', 'page': 3}),\n",
       " Document(page_content=') ;\\n2.\\n广东医科大学顺德妇女儿童\\n医院\\n(\\n佛山市顺德区妇幼保健院\\n)\\nGCP\\n机构\\n(\\n广东 佛山\\n528300\\n)\\n△\\n通信作者\\n:\\nE-mail\\n:\\nsysugc@126．com', metadata={'source': '../data/老年人糖脂代谢病的中医证候要素调查_王舒沛.pdf', 'page': 3}),\n",
       " Document(page_content='慢性阻塞性肺疾病\\n(\\n简称慢阻肺\\n)\\n是以气流阻塞\\n为特征的异质性肺部状态\\n［\\n1\\n］\\n。\\n慢阻肺急性加重期\\n(', metadata={'source': '../data/老年人糖脂代谢病的中医证候要素调查_王舒沛.pdf', 'page': 3}),\n",
       " Document(page_content='(\\nAcuteExacerbationofChronicObstructivePulmonary\\nDisease\\n，\\nAECOPD\\n)\\n是指\\n14d\\n内患者咳嗽\\n、\\n痰量\\n、\\n呼吸困难等症状急性恶化', metadata={'source': '../data/老年人糖脂代谢病的中医证候要素调查_王舒沛.pdf', 'page': 3}),\n",
       " Document(page_content='，\\n是临床过程中重要事件\\n，\\n是导\\n致慢阻肺患者死亡的重要原因\\n［\\n2\\n］\\n。\\n在临床上\\n，\\n痰浊\\n阻肺证是\\nAECOPD\\n常见的一种证型\\n［\\n3\\n］\\n。\\n苏子降气汤\\n治疗\\nAECOPD', metadata={'source': '../data/老年人糖脂代谢病的中医证候要素调查_王舒沛.pdf', 'page': 3}),\n",
       " Document(page_content='治疗\\nAECOPD\\n痰浊阻肺证疗效较明显\\n，\\n但其临床效\\n果和安全性尚未有最终定论\\n，\\n且缺乏此类研究的系\\n统分析\\n，\\n故本研究通过对现有文献进行\\nMeta\\n分析\\n，\\n旨\\n为临床运用苏子降气汤治疗', metadata={'source': '../data/老年人糖脂代谢病的中医证候要素调查_王舒沛.pdf', 'page': 3}),\n",
       " Document(page_content='AECOPD\\n痰浊阻肺证提\\n供循证依据\\n。\\n1\\n资料与方法\\n1.1\\n诊断标准\\n①\\n研究对象\\n:\\n符合\\n《\\n慢性阻塞性肺疾\\n病急性加重\\n(\\nAECOPD\\n)\\n诊治中国专家共识\\n(\\n2017\\n年更\\n·', metadata={'source': '../data/老年人糖脂代谢病的中医证候要素调查_王舒沛.pdf', 'page': 3}),\n",
       " Document(page_content='2017\\n年更\\n·\\n2641\\n·\\n光明中医\\n2024\\n年\\n4\\n月第\\n39\\n卷第\\n8\\n期\\nCJGMCMApril2024.Vol39.8', metadata={'source': '../data/老年人糖脂代谢病的中医证候要素调查_王舒沛.pdf', 'page': 3})]"
      ]
     },
     "execution_count": 8,
     "metadata": {},
     "output_type": "execute_result"
    }
   ],
   "source": [
    "splits"
   ]
  },
  {
   "cell_type": "code",
   "execution_count": 9,
   "id": "6ef1a806-0c16-4131-85e9-fa5df1aadeb4",
   "metadata": {},
   "outputs": [
    {
     "name": "stderr",
     "output_type": "stream",
     "text": [
      "/slurm/home/yrd/shaolab/daiyizheng/.conda/envs/langechain/lib/python3.10/site-packages/tqdm/auto.py:21: TqdmWarning: IProgress not found. Please update jupyter and ipywidgets. See https://ipywidgets.readthedocs.io/en/stable/user_install.html\n",
      "  from .autonotebook import tqdm as notebook_tqdm\n"
     ]
    }
   ],
   "source": [
    "# 从 HuggingFace 加载 Embedding 模型\n",
    "\n",
    "embeddings = HuggingFaceEmbeddings(model_name=\"sentence-transformers/all-mpnet-base-v2\",\n",
    "                                   model_kwargs = {\"device\": \"cpu\"})"
   ]
  },
  {
   "cell_type": "code",
   "execution_count": 10,
   "id": "7b6354c9",
   "metadata": {},
   "outputs": [],
   "source": [
    "# 将embedding存入向量数据库\n",
    "db = FAISS.from_documents(splits, embedding=embeddings)\n",
    "\n",
    "# 保存到本地\n",
    "db.save_local(DB_FAISS_PATH)"
   ]
  },
  {
   "cell_type": "markdown",
   "id": "dd4407f6-e30c-4fc4-af1f-3a6f218f35f3",
   "metadata": {},
   "source": [
    "# 2. 构建 Chatbot UI"
   ]
  },
  {
   "cell_type": "code",
   "execution_count": 11,
   "id": "e78440d1-2b99-4632-abb8-11d2a49bc157",
   "metadata": {},
   "outputs": [],
   "source": [
    "import langchain\n",
    "from queue import Queue\n",
    "from typing import Any\n",
    "from langchain.llms import VLLMOpenAI\n",
    "from langchain.callbacks.streaming_stdout import StreamingStdOutCallbackHandler\n",
    "from langchain.schema import LLMResult\n",
    "from langchain.embeddings import HuggingFaceEmbeddings\n",
    "from langchain.vectorstores import FAISS\n",
    "from langchain.chains import RetrievalQA\n",
    "from langchain.prompts.prompt import PromptTemplate\n",
    "from anyio.from_thread import start_blocking_portal\n",
    "\n",
    "langchain.debug = True\n",
    "\n",
    "# 向量数据文件路径\n",
    "DB_FAISS_PATH = \"../data/vectorstore/db_faiss\"\n",
    "\n",
    "# LLaMA-2 7B host port\n",
    "LLAMA2_7B_HOSTPATH = \"http://localhost:9909/v1\"\n",
    "\n",
    "model_dict = {\n",
    "    \"7b-chat\" : LLAMA2_7B_HOSTPATH,\n",
    "}\n",
    "\n",
    "# 系统提示\n",
    "system_message = {\"role\" : \"system\",\n",
    "                  \"content\" : \"You are a helpful assistant.\"}"
   ]
  },
  {
   "cell_type": "code",
   "execution_count": 12,
   "id": "0407a85b-0460-4552-aa6e-e7baa2046ed2",
   "metadata": {},
   "outputs": [],
   "source": [
    "# 加载embedding\n",
    "\n",
    "embeddings = HuggingFaceEmbeddings(model_name = \"/slurm/home/yrd/shaolab/daiyizheng/resources/hf_weights/sentence-transformers/all-MiniLM-L6-v2\",\n",
    "                                   model_kwargs = {\"device\" : \"cpu\"})"
   ]
  },
  {
   "cell_type": "code",
   "execution_count": 13,
   "id": "56754a1a-6a56-475c-9640-0bab4148ebce",
   "metadata": {},
   "outputs": [],
   "source": [
    "# 加载 db\n",
    "\n",
    "db = FAISS.load_local(DB_FAISS_PATH, embeddings, allow_dangerous_deserialization=True)"
   ]
  },
  {
   "cell_type": "code",
   "execution_count": 14,
   "id": "4436a8f3-01d4-4117-861e-993efaf2e714",
   "metadata": {
    "tags": []
   },
   "outputs": [],
   "source": [
    "# 创建一个模型服务实例\n",
    "# API : https://github.com/langchain-ai/langchain/blob/master/libs/community/langchain_community/llms/openai.py#L144\n",
    "\n",
    "llm = VLLMOpenAI(\n",
    "    openai_api_key = \"EMPTY\",\n",
    "    openai_api_base = LLAMA2_7B_HOSTPATH,\n",
    "    model_name = \"/slurm/home/yrd/shaolab/daiyizheng/resources/hf_weights/Qwen/Qwen1.5-7B\",\n",
    "    max_tokens = 300, \n",
    "    streaming=True\n",
    ")"
   ]
  },
  {
   "cell_type": "markdown",
   "id": "dcab95c1-67a8-4fa5-9832-2cf367563eb8",
   "metadata": {},
   "source": [
    "在构建基于检索的问答（RetrievalQA）链时，需要定义检索器（retriever）和模板。这两个组件在LangChain中扮演关键角色，用于处理和格式化查询以及生成答案。\n",
    "\n",
    "1. **定义检索器**：检索器的主要功能是在向量数据库中执行语义相似性搜索。当RetrievalQA被调用时，LangChain会根据用户的查询在向量数据库中进行搜索。这种搜索基于语义相似性，目的是找到与查询最相关的文档或数据片段。检索到的结果（上下文）随后被传递给Llama，以便对存储在向量数据库中的数据进行查询和生成答案。\n",
    "\n",
    "2. **定义模板**：模板则定义了将要发送到Llama进行生成的问题及其上下文的格式。Llama 2对于特殊标记有特殊的处理格式。在某些情况下，服务框架可能已经处理了这些特殊格式。如果没有，就需要编写自定义模板来正确处理这些特殊标记。模板的设计至关重要，因为它直接影响Llama 2如何理解问题和上下文，并据此生成回答。\n"
   ]
  },
  {
   "cell_type": "code",
   "execution_count": 15,
   "id": "741fb0df-a3d2-4e71-a2a0-656fffad309c",
   "metadata": {},
   "outputs": [],
   "source": [
    "# 模板\n",
    "\n",
    "template = \"\"\"\n",
    "[INST]利用以下内容回答问题。如果没有提供上下文，请像人工智能助手一样回答。\n",
    "{context}\n",
    "问题: {question} [/INST]\n",
    "\"\"\""
   ]
  },
  {
   "cell_type": "code",
   "execution_count": 16,
   "id": "2b89072f-c90d-4ef8-aa3a-8d7c3e87e106",
   "metadata": {},
   "outputs": [],
   "source": [
    "# retriever 检索器\n",
    "\n",
    "retriever = db.as_retriever(search_kwargs = {\"k\": 6})"
   ]
  },
  {
   "cell_type": "code",
   "execution_count": 17,
   "id": "2f9b44bc-6336-4b43-894d-6e76bcfd640b",
   "metadata": {},
   "outputs": [],
   "source": [
    "# 定义 chain\n",
    "\n",
    "qa_chain = RetrievalQA.from_chain_type(\n",
    "    llm = llm,\n",
    "    retriever = retriever,\n",
    "    chain_type_kwargs = {\n",
    "        \"prompt\": PromptTemplate(\n",
    "            template = template,\n",
    "            input_variables = [\"context\", \"question\"],\n",
    "        ),\n",
    "    }\n",
    ")"
   ]
  },
  {
   "cell_type": "code",
   "execution_count": 18,
   "id": "1f073087-0c7a-4152-90dc-002c3436de5d",
   "metadata": {},
   "outputs": [
    {
     "name": "stderr",
     "output_type": "stream",
     "text": [
      "/slurm/home/yrd/shaolab/daiyizheng/.conda/envs/langechain/lib/python3.10/site-packages/langchain_core/_api/deprecation.py:117: LangChainDeprecationWarning: The function `__call__` was deprecated in LangChain 0.1.0 and will be removed in 0.2.0. Use invoke instead.\n",
      "  warn_deprecated(\n"
     ]
    },
    {
     "name": "stdout",
     "output_type": "stream",
     "text": [
      "\u001b[32;1m\u001b[1;3m[chain/start]\u001b[0m \u001b[1m[1:chain:RetrievalQA] Entering Chain run with input:\n",
      "\u001b[0m{\n",
      "  \"query\": \"老年人糖脂代谢病主要有哪些病症? \"\n",
      "}\n",
      "\u001b[31;1m\u001b[1;3m[chain/error]\u001b[0m \u001b[1m[1:chain:RetrievalQA] [42ms] Chain run errored with error:\n",
      "\u001b[0m\"AssertionError()Traceback (most recent call last):\\n\\n\\n  File \\\"/slurm/home/yrd/shaolab/daiyizheng/.conda/envs/langechain/lib/python3.10/site-packages/langchain/chains/base.py\\\", line 153, in invoke\\n    self._call(inputs, run_manager=run_manager)\\n\\n\\n  File \\\"/slurm/home/yrd/shaolab/daiyizheng/.conda/envs/langechain/lib/python3.10/site-packages/langchain/chains/retrieval_qa/base.py\\\", line 141, in _call\\n    docs = self._get_docs(question, run_manager=_run_manager)\\n\\n\\n  File \\\"/slurm/home/yrd/shaolab/daiyizheng/.conda/envs/langechain/lib/python3.10/site-packages/langchain/chains/retrieval_qa/base.py\\\", line 221, in _get_docs\\n    return self.retriever.get_relevant_documents(\\n\\n\\n  File \\\"/slurm/home/yrd/shaolab/daiyizheng/.conda/envs/langechain/lib/python3.10/site-packages/langchain_core/retrievers.py\\\", line 245, in get_relevant_documents\\n    raise e\\n\\n\\n  File \\\"/slurm/home/yrd/shaolab/daiyizheng/.conda/envs/langechain/lib/python3.10/site-packages/langchain_core/retrievers.py\\\", line 238, in get_relevant_documents\\n    result = self._get_relevant_documents(\\n\\n\\n  File \\\"/slurm/home/yrd/shaolab/daiyizheng/.conda/envs/langechain/lib/python3.10/site-packages/langchain_core/vectorstores.py\\\", line 696, in _get_relevant_documents\\n    docs = self.vectorstore.similarity_search(query, **self.search_kwargs)\\n\\n\\n  File \\\"/slurm/home/yrd/shaolab/daiyizheng/.conda/envs/langechain/lib/python3.10/site-packages/langchain_community/vectorstores/faiss.py\\\", line 530, in similarity_search\\n    docs_and_scores = self.similarity_search_with_score(\\n\\n\\n  File \\\"/slurm/home/yrd/shaolab/daiyizheng/.conda/envs/langechain/lib/python3.10/site-packages/langchain_community/vectorstores/faiss.py\\\", line 403, in similarity_search_with_score\\n    docs = self.similarity_search_with_score_by_vector(\\n\\n\\n  File \\\"/slurm/home/yrd/shaolab/daiyizheng/.conda/envs/langechain/lib/python3.10/site-packages/langchain_community/vectorstores/faiss.py\\\", line 304, in similarity_search_with_score_by_vector\\n    scores, indices = self.index.search(vector, k if filter is None else fetch_k)\\n\\n\\n  File \\\"/slurm/home/yrd/shaolab/daiyizheng/.conda/envs/langechain/lib/python3.10/site-packages/faiss/class_wrappers.py\\\", line 329, in replacement_search\\n    assert d == self.d\\n\\n\\nAssertionError\"\n"
     ]
    },
    {
     "ename": "AssertionError",
     "evalue": "",
     "output_type": "error",
     "traceback": [
      "\u001b[0;31m---------------------------------------------------------------------------\u001b[0m",
      "\u001b[0;31mAssertionError\u001b[0m                            Traceback (most recent call last)",
      "\u001b[1;32m/slurm/home/yrd/shaolab/daiyizheng/github_project/DL/08-llms/llama-rag-chat/RAG_chatbot.ipynb 单元格 22\u001b[0m line \u001b[0;36m3\n\u001b[1;32m      <a href='vscode-notebook-cell://ssh-remote%2Ba100_debug/slurm/home/yrd/shaolab/daiyizheng/github_project/DL/08-llms/llama-rag-chat/RAG_chatbot.ipynb#X31sdnNjb2RlLXJlbW90ZQ%3D%3D?line=0'>1</a>\u001b[0m \u001b[39m# 测试\u001b[39;00m\n\u001b[0;32m----> <a href='vscode-notebook-cell://ssh-remote%2Ba100_debug/slurm/home/yrd/shaolab/daiyizheng/github_project/DL/08-llms/llama-rag-chat/RAG_chatbot.ipynb#X31sdnNjb2RlLXJlbW90ZQ%3D%3D?line=2'>3</a>\u001b[0m result \u001b[39m=\u001b[39m qa_chain({\u001b[39m\"\u001b[39;49m\u001b[39mquery\u001b[39;49m\u001b[39m\"\u001b[39;49m: \u001b[39m\"\u001b[39;49m\u001b[39m老年人糖脂代谢病主要有哪些病症? \u001b[39;49m\u001b[39m\"\u001b[39;49m})\n\u001b[1;32m      <a href='vscode-notebook-cell://ssh-remote%2Ba100_debug/slurm/home/yrd/shaolab/daiyizheng/github_project/DL/08-llms/llama-rag-chat/RAG_chatbot.ipynb#X31sdnNjb2RlLXJlbW90ZQ%3D%3D?line=4'>5</a>\u001b[0m \u001b[39mprint\u001b[39m(result)\n",
      "File \u001b[0;32m~/.conda/envs/langechain/lib/python3.10/site-packages/langchain_core/_api/deprecation.py:145\u001b[0m, in \u001b[0;36mdeprecated.<locals>.deprecate.<locals>.warning_emitting_wrapper\u001b[0;34m(*args, **kwargs)\u001b[0m\n\u001b[1;32m    143\u001b[0m     warned \u001b[39m=\u001b[39m \u001b[39mTrue\u001b[39;00m\n\u001b[1;32m    144\u001b[0m     emit_warning()\n\u001b[0;32m--> 145\u001b[0m \u001b[39mreturn\u001b[39;00m wrapped(\u001b[39m*\u001b[39;49margs, \u001b[39m*\u001b[39;49m\u001b[39m*\u001b[39;49mkwargs)\n",
      "File \u001b[0;32m~/.conda/envs/langechain/lib/python3.10/site-packages/langchain/chains/base.py:378\u001b[0m, in \u001b[0;36mChain.__call__\u001b[0;34m(self, inputs, return_only_outputs, callbacks, tags, metadata, run_name, include_run_info)\u001b[0m\n\u001b[1;32m    346\u001b[0m \u001b[39m\u001b[39m\u001b[39m\"\"\"Execute the chain.\u001b[39;00m\n\u001b[1;32m    347\u001b[0m \n\u001b[1;32m    348\u001b[0m \u001b[39mArgs:\u001b[39;00m\n\u001b[0;32m   (...)\u001b[0m\n\u001b[1;32m    369\u001b[0m \u001b[39m        `Chain.output_keys`.\u001b[39;00m\n\u001b[1;32m    370\u001b[0m \u001b[39m\"\"\"\u001b[39;00m\n\u001b[1;32m    371\u001b[0m config \u001b[39m=\u001b[39m {\n\u001b[1;32m    372\u001b[0m     \u001b[39m\"\u001b[39m\u001b[39mcallbacks\u001b[39m\u001b[39m\"\u001b[39m: callbacks,\n\u001b[1;32m    373\u001b[0m     \u001b[39m\"\u001b[39m\u001b[39mtags\u001b[39m\u001b[39m\"\u001b[39m: tags,\n\u001b[1;32m    374\u001b[0m     \u001b[39m\"\u001b[39m\u001b[39mmetadata\u001b[39m\u001b[39m\"\u001b[39m: metadata,\n\u001b[1;32m    375\u001b[0m     \u001b[39m\"\u001b[39m\u001b[39mrun_name\u001b[39m\u001b[39m\"\u001b[39m: run_name,\n\u001b[1;32m    376\u001b[0m }\n\u001b[0;32m--> 378\u001b[0m \u001b[39mreturn\u001b[39;00m \u001b[39mself\u001b[39;49m\u001b[39m.\u001b[39;49minvoke(\n\u001b[1;32m    379\u001b[0m     inputs,\n\u001b[1;32m    380\u001b[0m     cast(RunnableConfig, {k: v \u001b[39mfor\u001b[39;49;00m k, v \u001b[39min\u001b[39;49;00m config\u001b[39m.\u001b[39;49mitems() \u001b[39mif\u001b[39;49;00m v \u001b[39mis\u001b[39;49;00m \u001b[39mnot\u001b[39;49;00m \u001b[39mNone\u001b[39;49;00m}),\n\u001b[1;32m    381\u001b[0m     return_only_outputs\u001b[39m=\u001b[39;49mreturn_only_outputs,\n\u001b[1;32m    382\u001b[0m     include_run_info\u001b[39m=\u001b[39;49minclude_run_info,\n\u001b[1;32m    383\u001b[0m )\n",
      "File \u001b[0;32m~/.conda/envs/langechain/lib/python3.10/site-packages/langchain/chains/base.py:163\u001b[0m, in \u001b[0;36mChain.invoke\u001b[0;34m(self, input, config, **kwargs)\u001b[0m\n\u001b[1;32m    161\u001b[0m \u001b[39mexcept\u001b[39;00m \u001b[39mBaseException\u001b[39;00m \u001b[39mas\u001b[39;00m e:\n\u001b[1;32m    162\u001b[0m     run_manager\u001b[39m.\u001b[39mon_chain_error(e)\n\u001b[0;32m--> 163\u001b[0m     \u001b[39mraise\u001b[39;00m e\n\u001b[1;32m    164\u001b[0m run_manager\u001b[39m.\u001b[39mon_chain_end(outputs)\n\u001b[1;32m    166\u001b[0m \u001b[39mif\u001b[39;00m include_run_info:\n",
      "File \u001b[0;32m~/.conda/envs/langechain/lib/python3.10/site-packages/langchain/chains/base.py:153\u001b[0m, in \u001b[0;36mChain.invoke\u001b[0;34m(self, input, config, **kwargs)\u001b[0m\n\u001b[1;32m    150\u001b[0m \u001b[39mtry\u001b[39;00m:\n\u001b[1;32m    151\u001b[0m     \u001b[39mself\u001b[39m\u001b[39m.\u001b[39m_validate_inputs(inputs)\n\u001b[1;32m    152\u001b[0m     outputs \u001b[39m=\u001b[39m (\n\u001b[0;32m--> 153\u001b[0m         \u001b[39mself\u001b[39;49m\u001b[39m.\u001b[39;49m_call(inputs, run_manager\u001b[39m=\u001b[39;49mrun_manager)\n\u001b[1;32m    154\u001b[0m         \u001b[39mif\u001b[39;00m new_arg_supported\n\u001b[1;32m    155\u001b[0m         \u001b[39melse\u001b[39;00m \u001b[39mself\u001b[39m\u001b[39m.\u001b[39m_call(inputs)\n\u001b[1;32m    156\u001b[0m     )\n\u001b[1;32m    158\u001b[0m     final_outputs: Dict[\u001b[39mstr\u001b[39m, Any] \u001b[39m=\u001b[39m \u001b[39mself\u001b[39m\u001b[39m.\u001b[39mprep_outputs(\n\u001b[1;32m    159\u001b[0m         inputs, outputs, return_only_outputs\n\u001b[1;32m    160\u001b[0m     )\n\u001b[1;32m    161\u001b[0m \u001b[39mexcept\u001b[39;00m \u001b[39mBaseException\u001b[39;00m \u001b[39mas\u001b[39;00m e:\n",
      "File \u001b[0;32m~/.conda/envs/langechain/lib/python3.10/site-packages/langchain/chains/retrieval_qa/base.py:141\u001b[0m, in \u001b[0;36mBaseRetrievalQA._call\u001b[0;34m(self, inputs, run_manager)\u001b[0m\n\u001b[1;32m    137\u001b[0m accepts_run_manager \u001b[39m=\u001b[39m (\n\u001b[1;32m    138\u001b[0m     \u001b[39m\"\u001b[39m\u001b[39mrun_manager\u001b[39m\u001b[39m\"\u001b[39m \u001b[39min\u001b[39;00m inspect\u001b[39m.\u001b[39msignature(\u001b[39mself\u001b[39m\u001b[39m.\u001b[39m_get_docs)\u001b[39m.\u001b[39mparameters\n\u001b[1;32m    139\u001b[0m )\n\u001b[1;32m    140\u001b[0m \u001b[39mif\u001b[39;00m accepts_run_manager:\n\u001b[0;32m--> 141\u001b[0m     docs \u001b[39m=\u001b[39m \u001b[39mself\u001b[39;49m\u001b[39m.\u001b[39;49m_get_docs(question, run_manager\u001b[39m=\u001b[39;49m_run_manager)\n\u001b[1;32m    142\u001b[0m \u001b[39melse\u001b[39;00m:\n\u001b[1;32m    143\u001b[0m     docs \u001b[39m=\u001b[39m \u001b[39mself\u001b[39m\u001b[39m.\u001b[39m_get_docs(question)  \u001b[39m# type: ignore[call-arg]\u001b[39;00m\n",
      "File \u001b[0;32m~/.conda/envs/langechain/lib/python3.10/site-packages/langchain/chains/retrieval_qa/base.py:221\u001b[0m, in \u001b[0;36mRetrievalQA._get_docs\u001b[0;34m(self, question, run_manager)\u001b[0m\n\u001b[1;32m    214\u001b[0m \u001b[39mdef\u001b[39;00m \u001b[39m_get_docs\u001b[39m(\n\u001b[1;32m    215\u001b[0m     \u001b[39mself\u001b[39m,\n\u001b[1;32m    216\u001b[0m     question: \u001b[39mstr\u001b[39m,\n\u001b[1;32m    217\u001b[0m     \u001b[39m*\u001b[39m,\n\u001b[1;32m    218\u001b[0m     run_manager: CallbackManagerForChainRun,\n\u001b[1;32m    219\u001b[0m ) \u001b[39m-\u001b[39m\u001b[39m>\u001b[39m List[Document]:\n\u001b[1;32m    220\u001b[0m \u001b[39m    \u001b[39m\u001b[39m\"\"\"Get docs.\"\"\"\u001b[39;00m\n\u001b[0;32m--> 221\u001b[0m     \u001b[39mreturn\u001b[39;00m \u001b[39mself\u001b[39;49m\u001b[39m.\u001b[39;49mretriever\u001b[39m.\u001b[39;49mget_relevant_documents(\n\u001b[1;32m    222\u001b[0m         question, callbacks\u001b[39m=\u001b[39;49mrun_manager\u001b[39m.\u001b[39;49mget_child()\n\u001b[1;32m    223\u001b[0m     )\n",
      "File \u001b[0;32m~/.conda/envs/langechain/lib/python3.10/site-packages/langchain_core/retrievers.py:245\u001b[0m, in \u001b[0;36mBaseRetriever.get_relevant_documents\u001b[0;34m(self, query, callbacks, tags, metadata, run_name, **kwargs)\u001b[0m\n\u001b[1;32m    243\u001b[0m \u001b[39mexcept\u001b[39;00m \u001b[39mException\u001b[39;00m \u001b[39mas\u001b[39;00m e:\n\u001b[1;32m    244\u001b[0m     run_manager\u001b[39m.\u001b[39mon_retriever_error(e)\n\u001b[0;32m--> 245\u001b[0m     \u001b[39mraise\u001b[39;00m e\n\u001b[1;32m    246\u001b[0m \u001b[39melse\u001b[39;00m:\n\u001b[1;32m    247\u001b[0m     run_manager\u001b[39m.\u001b[39mon_retriever_end(\n\u001b[1;32m    248\u001b[0m         result,\n\u001b[1;32m    249\u001b[0m     )\n",
      "File \u001b[0;32m~/.conda/envs/langechain/lib/python3.10/site-packages/langchain_core/retrievers.py:238\u001b[0m, in \u001b[0;36mBaseRetriever.get_relevant_documents\u001b[0;34m(self, query, callbacks, tags, metadata, run_name, **kwargs)\u001b[0m\n\u001b[1;32m    236\u001b[0m _kwargs \u001b[39m=\u001b[39m kwargs \u001b[39mif\u001b[39;00m \u001b[39mself\u001b[39m\u001b[39m.\u001b[39m_expects_other_args \u001b[39melse\u001b[39;00m {}\n\u001b[1;32m    237\u001b[0m \u001b[39mif\u001b[39;00m \u001b[39mself\u001b[39m\u001b[39m.\u001b[39m_new_arg_supported:\n\u001b[0;32m--> 238\u001b[0m     result \u001b[39m=\u001b[39m \u001b[39mself\u001b[39;49m\u001b[39m.\u001b[39;49m_get_relevant_documents(\n\u001b[1;32m    239\u001b[0m         query, run_manager\u001b[39m=\u001b[39;49mrun_manager, \u001b[39m*\u001b[39;49m\u001b[39m*\u001b[39;49m_kwargs\n\u001b[1;32m    240\u001b[0m     )\n\u001b[1;32m    241\u001b[0m \u001b[39melse\u001b[39;00m:\n\u001b[1;32m    242\u001b[0m     result \u001b[39m=\u001b[39m \u001b[39mself\u001b[39m\u001b[39m.\u001b[39m_get_relevant_documents(query, \u001b[39m*\u001b[39m\u001b[39m*\u001b[39m_kwargs)\n",
      "File \u001b[0;32m~/.conda/envs/langechain/lib/python3.10/site-packages/langchain_core/vectorstores.py:696\u001b[0m, in \u001b[0;36mVectorStoreRetriever._get_relevant_documents\u001b[0;34m(self, query, run_manager)\u001b[0m\n\u001b[1;32m    692\u001b[0m \u001b[39mdef\u001b[39;00m \u001b[39m_get_relevant_documents\u001b[39m(\n\u001b[1;32m    693\u001b[0m     \u001b[39mself\u001b[39m, query: \u001b[39mstr\u001b[39m, \u001b[39m*\u001b[39m, run_manager: CallbackManagerForRetrieverRun\n\u001b[1;32m    694\u001b[0m ) \u001b[39m-\u001b[39m\u001b[39m>\u001b[39m List[Document]:\n\u001b[1;32m    695\u001b[0m     \u001b[39mif\u001b[39;00m \u001b[39mself\u001b[39m\u001b[39m.\u001b[39msearch_type \u001b[39m==\u001b[39m \u001b[39m\"\u001b[39m\u001b[39msimilarity\u001b[39m\u001b[39m\"\u001b[39m:\n\u001b[0;32m--> 696\u001b[0m         docs \u001b[39m=\u001b[39m \u001b[39mself\u001b[39;49m\u001b[39m.\u001b[39;49mvectorstore\u001b[39m.\u001b[39;49msimilarity_search(query, \u001b[39m*\u001b[39;49m\u001b[39m*\u001b[39;49m\u001b[39mself\u001b[39;49m\u001b[39m.\u001b[39;49msearch_kwargs)\n\u001b[1;32m    697\u001b[0m     \u001b[39melif\u001b[39;00m \u001b[39mself\u001b[39m\u001b[39m.\u001b[39msearch_type \u001b[39m==\u001b[39m \u001b[39m\"\u001b[39m\u001b[39msimilarity_score_threshold\u001b[39m\u001b[39m\"\u001b[39m:\n\u001b[1;32m    698\u001b[0m         docs_and_similarities \u001b[39m=\u001b[39m (\n\u001b[1;32m    699\u001b[0m             \u001b[39mself\u001b[39m\u001b[39m.\u001b[39mvectorstore\u001b[39m.\u001b[39msimilarity_search_with_relevance_scores(\n\u001b[1;32m    700\u001b[0m                 query, \u001b[39m*\u001b[39m\u001b[39m*\u001b[39m\u001b[39mself\u001b[39m\u001b[39m.\u001b[39msearch_kwargs\n\u001b[1;32m    701\u001b[0m             )\n\u001b[1;32m    702\u001b[0m         )\n",
      "File \u001b[0;32m~/.conda/envs/langechain/lib/python3.10/site-packages/langchain_community/vectorstores/faiss.py:530\u001b[0m, in \u001b[0;36mFAISS.similarity_search\u001b[0;34m(self, query, k, filter, fetch_k, **kwargs)\u001b[0m\n\u001b[1;32m    510\u001b[0m \u001b[39mdef\u001b[39;00m \u001b[39msimilarity_search\u001b[39m(\n\u001b[1;32m    511\u001b[0m     \u001b[39mself\u001b[39m,\n\u001b[1;32m    512\u001b[0m     query: \u001b[39mstr\u001b[39m,\n\u001b[0;32m   (...)\u001b[0m\n\u001b[1;32m    516\u001b[0m     \u001b[39m*\u001b[39m\u001b[39m*\u001b[39mkwargs: Any,\n\u001b[1;32m    517\u001b[0m ) \u001b[39m-\u001b[39m\u001b[39m>\u001b[39m List[Document]:\n\u001b[1;32m    518\u001b[0m \u001b[39m    \u001b[39m\u001b[39m\"\"\"Return docs most similar to query.\u001b[39;00m\n\u001b[1;32m    519\u001b[0m \n\u001b[1;32m    520\u001b[0m \u001b[39m    Args:\u001b[39;00m\n\u001b[0;32m   (...)\u001b[0m\n\u001b[1;32m    528\u001b[0m \u001b[39m        List of Documents most similar to the query.\u001b[39;00m\n\u001b[1;32m    529\u001b[0m \u001b[39m    \"\"\"\u001b[39;00m\n\u001b[0;32m--> 530\u001b[0m     docs_and_scores \u001b[39m=\u001b[39m \u001b[39mself\u001b[39;49m\u001b[39m.\u001b[39;49msimilarity_search_with_score(\n\u001b[1;32m    531\u001b[0m         query, k, \u001b[39mfilter\u001b[39;49m\u001b[39m=\u001b[39;49m\u001b[39mfilter\u001b[39;49m, fetch_k\u001b[39m=\u001b[39;49mfetch_k, \u001b[39m*\u001b[39;49m\u001b[39m*\u001b[39;49mkwargs\n\u001b[1;32m    532\u001b[0m     )\n\u001b[1;32m    533\u001b[0m     \u001b[39mreturn\u001b[39;00m [doc \u001b[39mfor\u001b[39;00m doc, _ \u001b[39min\u001b[39;00m docs_and_scores]\n",
      "File \u001b[0;32m~/.conda/envs/langechain/lib/python3.10/site-packages/langchain_community/vectorstores/faiss.py:403\u001b[0m, in \u001b[0;36mFAISS.similarity_search_with_score\u001b[0;34m(self, query, k, filter, fetch_k, **kwargs)\u001b[0m\n\u001b[1;32m    386\u001b[0m \u001b[39m\u001b[39m\u001b[39m\"\"\"Return docs most similar to query.\u001b[39;00m\n\u001b[1;32m    387\u001b[0m \n\u001b[1;32m    388\u001b[0m \u001b[39mArgs:\u001b[39;00m\n\u001b[0;32m   (...)\u001b[0m\n\u001b[1;32m    400\u001b[0m \u001b[39m    L2 distance in float. Lower score represents more similarity.\u001b[39;00m\n\u001b[1;32m    401\u001b[0m \u001b[39m\"\"\"\u001b[39;00m\n\u001b[1;32m    402\u001b[0m embedding \u001b[39m=\u001b[39m \u001b[39mself\u001b[39m\u001b[39m.\u001b[39m_embed_query(query)\n\u001b[0;32m--> 403\u001b[0m docs \u001b[39m=\u001b[39m \u001b[39mself\u001b[39;49m\u001b[39m.\u001b[39;49msimilarity_search_with_score_by_vector(\n\u001b[1;32m    404\u001b[0m     embedding,\n\u001b[1;32m    405\u001b[0m     k,\n\u001b[1;32m    406\u001b[0m     \u001b[39mfilter\u001b[39;49m\u001b[39m=\u001b[39;49m\u001b[39mfilter\u001b[39;49m,\n\u001b[1;32m    407\u001b[0m     fetch_k\u001b[39m=\u001b[39;49mfetch_k,\n\u001b[1;32m    408\u001b[0m     \u001b[39m*\u001b[39;49m\u001b[39m*\u001b[39;49mkwargs,\n\u001b[1;32m    409\u001b[0m )\n\u001b[1;32m    410\u001b[0m \u001b[39mreturn\u001b[39;00m docs\n",
      "File \u001b[0;32m~/.conda/envs/langechain/lib/python3.10/site-packages/langchain_community/vectorstores/faiss.py:304\u001b[0m, in \u001b[0;36mFAISS.similarity_search_with_score_by_vector\u001b[0;34m(self, embedding, k, filter, fetch_k, **kwargs)\u001b[0m\n\u001b[1;32m    302\u001b[0m \u001b[39mif\u001b[39;00m \u001b[39mself\u001b[39m\u001b[39m.\u001b[39m_normalize_L2:\n\u001b[1;32m    303\u001b[0m     faiss\u001b[39m.\u001b[39mnormalize_L2(vector)\n\u001b[0;32m--> 304\u001b[0m scores, indices \u001b[39m=\u001b[39m \u001b[39mself\u001b[39;49m\u001b[39m.\u001b[39;49mindex\u001b[39m.\u001b[39;49msearch(vector, k \u001b[39mif\u001b[39;49;00m \u001b[39mfilter\u001b[39;49m \u001b[39mis\u001b[39;49;00m \u001b[39mNone\u001b[39;49;00m \u001b[39melse\u001b[39;49;00m fetch_k)\n\u001b[1;32m    305\u001b[0m docs \u001b[39m=\u001b[39m []\n\u001b[1;32m    307\u001b[0m \u001b[39mif\u001b[39;00m \u001b[39mfilter\u001b[39m \u001b[39mis\u001b[39;00m \u001b[39mnot\u001b[39;00m \u001b[39mNone\u001b[39;00m:\n",
      "File \u001b[0;32m~/.conda/envs/langechain/lib/python3.10/site-packages/faiss/class_wrappers.py:329\u001b[0m, in \u001b[0;36mhandle_Index.<locals>.replacement_search\u001b[0;34m(self, x, k, params, D, I)\u001b[0m\n\u001b[1;32m    327\u001b[0m n, d \u001b[39m=\u001b[39m x\u001b[39m.\u001b[39mshape\n\u001b[1;32m    328\u001b[0m x \u001b[39m=\u001b[39m np\u001b[39m.\u001b[39mascontiguousarray(x, dtype\u001b[39m=\u001b[39m\u001b[39m'\u001b[39m\u001b[39mfloat32\u001b[39m\u001b[39m'\u001b[39m)\n\u001b[0;32m--> 329\u001b[0m \u001b[39massert\u001b[39;00m d \u001b[39m==\u001b[39m \u001b[39mself\u001b[39m\u001b[39m.\u001b[39md\n\u001b[1;32m    331\u001b[0m \u001b[39massert\u001b[39;00m k \u001b[39m>\u001b[39m \u001b[39m0\u001b[39m\n\u001b[1;32m    333\u001b[0m \u001b[39mif\u001b[39;00m D \u001b[39mis\u001b[39;00m \u001b[39mNone\u001b[39;00m:\n",
      "\u001b[0;31mAssertionError\u001b[0m: "
     ]
    }
   ],
   "source": [
    "# 测试\n",
    "\n",
    "result = qa_chain({\"query\": \"老年人糖脂代谢病主要有哪些病症? \"})\n",
    "\n",
    "print(result)"
   ]
  },
  {
   "cell_type": "code",
   "execution_count": null,
   "id": "99dac163-119d-4a4e-9db5-98e579601ccb",
   "metadata": {},
   "outputs": [],
   "source": [
    "# 此callback处理程序会将流式LLM响应放入队列中，以便gradio UI动态渲染。\n",
    "\n",
    "job_done = object()\n",
    "\n",
    "class MyStream(StreamingStdOutCallbackHandler):\n",
    "    def __init__(self, q) -> None:\n",
    "        self.q = q # 一个队列（Queue）对象\n",
    "        \n",
    "    def on_llm_new_token(self, token: str, **kwargs: Any) -> None:\n",
    "        self.q.put(token) # 将新生成的token放入之前在构造函数中定义的队列self.q中\n",
    "        \n",
    "    def on_llm_end(self, response: LLMResult, **kwargs: Any) -> None:\n",
    "        # 将job_done对象放入队列self.q。这作为一个信号，表明语言模型已完成其工作。\n",
    "        self.q.put(job_done)"
   ]
  },
  {
   "cell_type": "code",
   "execution_count": null,
   "id": "0258b1fa-850e-44d6-b4c7-ae1b50b6938c",
   "metadata": {},
   "outputs": [],
   "source": [
    "# gradio UI blocks\n",
    "\n",
    "import gradio as gr\n",
    "# 使用Gradio的Blocks接口创建一个新的UI布局\n",
    "with gr.Blocks() as demo:\n",
    "    # 定义UI布局\n",
    "    chatbot = gr.Chatbot(height=600)\n",
    "    with gr.Row():\n",
    "        with gr.Column(scale=1):\n",
    "            with gr.Row():\n",
    "                # 创建一个下拉菜单，用于选择聊天机器人的模型。\n",
    "                model_selector = gr.Dropdown(\n",
    "                    list(model_dict.keys()),\n",
    "                    value = \"7b-chat\",\n",
    "                    label = \"Model\",\n",
    "                    info = \"Select the model\",\n",
    "                    interactive = True,\n",
    "                    scale = 1\n",
    "                )\n",
    "                # 创建一个数字输入框，用于设置生成文本的最大tokens数量\n",
    "                max_new_tokens_selector = gr.Number(\n",
    "                    value = 512,\n",
    "                    precision = 0,\n",
    "                    label = \"Max new tokens\",\n",
    "                    info = \"Adjust max_new_tokens\",\n",
    "                    interactive = True,\n",
    "                    minimum = 1,\n",
    "                    maximum = 1024,\n",
    "                    scale = 1\n",
    "                )\n",
    "            \n",
    "            with gr.Row():\n",
    "                # 创建一个滑动条，用于调整生成文本的“温度”（创造性）,范围是 0 到 1。\n",
    "                temperature_selector = gr.Slider(\n",
    "                    value = 0.6,\n",
    "                    label = \"Temperature\",\n",
    "                    info = \"Range 0-1. Controls the creativity of the generated text.\",\n",
    "                    interactive = True,\n",
    "                    minimum = 0.01,\n",
    "                    maximum = 1,\n",
    "                    step = 0.01,\n",
    "                    scale = 1\n",
    "                )\n",
    "                # 创建另一个滑动条，用于调整“Top_p”参数，控制核采样。范围是 0.01 到 0.99。\n",
    "                top_p_selector = gr.Slider(\n",
    "                    value=0.9, \n",
    "                    label=\"Top_p\", \n",
    "                    info=\"Range 0-1. Nucleus sampling.\",\n",
    "                    interactive = True, \n",
    "                    minimum=0.01, \n",
    "                    maximum=0.99, \n",
    "                    step=0.01, \n",
    "                    scale=1\n",
    "                )\n",
    "        # 创建一个文本框，用于用户输入聊天机器人的提示语。\n",
    "        with gr.Column(scale=2):\n",
    "            # 用户输入区域\n",
    "            user_prompt_message = gr.Textbox(placeholder=\"Please add user prompt here\",\n",
    "                                             label=\"User prompt\")\n",
    "            with gr.Row():\n",
    "                # 创建一个按钮，用于清除聊天内容。\n",
    "                clear = gr.Button(\"Clear Conversation\", scale=2)\n",
    "                #  创建一个提交按钮，用于发送用户输入的提示语给聊天机器人。\n",
    "                submitBtn = gr.Button(\"Submit\", scale=8)\n",
    "                \n",
    "    # 使用 Gradio 的 State 创建一个状态变量，用于跨多个交互保持数据。\n",
    "    state = gr.State([])\n",
    "    \n",
    "    # 处理用户的消息\n",
    "    def user(user_prompt_message, history):\n",
    "        '''\n",
    "        user_prompt_message 是用户输入的消息\n",
    "        history 是之前的对话历史\n",
    "        '''\n",
    "        # 如果用户输入不为空\n",
    "        if user_prompt_message != \"\":\n",
    "            # 将用户消息添加到对话历史中\n",
    "            return history + [[user_prompt_message, None]]\n",
    "        else:\n",
    "            # 添加一条提示消息到对话历史，表示用户输入不能是空的。\n",
    "            return history + [[\"Invalid prompts - user prompt cannot be empty\", None]]\n",
    "        \n",
    "        \n",
    "    # 用于配置、发送提示、渲染生成等的聊天机器人逻辑\n",
    "    def bot(model_selector,\n",
    "            temperature_selector,\n",
    "            top_p_selector,\n",
    "            max_new_tokens_selector,\n",
    "            user_prompt_message,\n",
    "            history,\n",
    "            message_history\n",
    "           ):\n",
    "        # 初始化机器人的消息为空字符串\n",
    "        bot_message = \"\"\n",
    "        # 将历史记录中最后一条消息的机器人回复部分设置为空字符串\n",
    "        history[-1][1] = \"\"\n",
    "        # 创建一个字典，代表用户的角色和内容\n",
    "        dialog = [\n",
    "            {\"role\": \"user\", \"content\": user_prompt_message},\n",
    "        ]\n",
    "        # 将刚创建的对话条目添加到消息历史中\n",
    "        messages_history += dialog\n",
    "        # 创建一个队列用于处理异步任务的输出\n",
    "        q = Queue()\n",
    "        # 更新新的llama超参数\n",
    "        llm.openai_api_base = model_selector\n",
    "        llm.temperature = temperature_selector\n",
    "        llm.top_p = top_p_selector\n",
    "        llm.max_tokens = max_new_tokens_selector\n",
    "        \n",
    "        # 定义一个异步函数来运行LLM任务\n",
    "        async def task(prompt):\n",
    "            # 运行LLM任务，并将输出通过回调函数MyStream发送到队列 q。\n",
    "            ret = await qa_chain.run(prompt, callbacks=[MyStream(q)])\n",
    "            return ret\n",
    "        \n",
    "        # 使用上下文管理器来处理异步任务\n",
    "        with start_blocking_portal() as portal:\n",
    "            # 立即开始执行异步任务task\n",
    "            portal.start_task_soon(task, user_prompt_message)\n",
    "            while True:\n",
    "                # 持续从队列q中获取token\n",
    "                next_token = q.get(True)\n",
    "                # 检查是否接收到job_done信号，如果是，则将机器人的消息添加到消息历史中，\n",
    "                # 并返回更新后的历史记录和消息历史。\n",
    "                if next_token is job_done:\n",
    "                    messages_history += [{\"role\": \"assistant\",\n",
    "                                          \"content\": bot_message}]\n",
    "                    return history, messages_history\n",
    "                # 否则，将接收到的token添加到bot_message和history[-1][1]中\n",
    "                bot_message += next_token\n",
    "                history[-1][1] += next_token\n",
    "                yield history, messages_history\n",
    "                \n",
    "        def init_history(messages_history):\n",
    "            '''用于初始化消息历'''\n",
    "            messages_history = []\n",
    "            messages_history += [system_message]\n",
    "            return messages_history\n",
    "        \n",
    "        def input_cleanup():\n",
    "            '''用于清理输入，这里返回一个空字符串'''\n",
    "            return \"\"\n",
    "        \n",
    "        # 当用户在文本框中输入内容并按下回车键时，这个方法会被触发。\n",
    "        user_prompt_message.submit(\n",
    "            user, # user函数\n",
    "            [user_prompt_message, chatbot], # 输入参数包括user_prompt_message（用户输入的文本）和chatbot（聊天机器人组件）\n",
    "            [chatbot], # 输出参数是chatbot，这意味着user函数的结果将更新聊天机器人组件的状态。\n",
    "            queue = False, # 不将事件放入队列中异步处理，而是立即处理。\n",
    "        ).then(\n",
    "            # bot函数\n",
    "            bot, \n",
    "            # 输入参数包括各种控件的值\n",
    "            [model_selector, temperature_selector, top_p_selector, max_new_tokens_selector, user_prompt_message, chatbot, state],\n",
    "            # 输出参数是chatbot和state，这意味着bot函数的结果将更新聊天机器人组件的显示内容和聊天历史状态。\n",
    "            [chatbot, state]\n",
    "        ).then(\n",
    "            input_cleanup, # input_cleanup 函数\n",
    "            [], # 没有输入参数\n",
    "            [user_prompt_message], # 输出参数是user_prompt_message，用于清空用户输入文本框。\n",
    "            queue = False, # 不将事件放入队列中异步处理，而是立即处理。\n",
    "        )\n",
    "        # 当用户点击提交按钮时，这个方法会被触发。\n",
    "        submitBtn.click(\n",
    "            user,\n",
    "            [user_prompt_message, chatbot],\n",
    "            [chatbot],\n",
    "            queue = False # 不将事件放入队列中异步处理，而是立即处理。\n",
    "        ).then(\n",
    "            bot,\n",
    "            [model_selector, temperature_selector, top_p_selector, max_new_tokens_selector, user_prompt_message, chatbot, state],\n",
    "            [chatbot, state]\n",
    "        ).then(\n",
    "            input_cleanup,\n",
    "            [],\n",
    "            [user_prompt_message],\n",
    "            queue = False, # 不将事件放入队列中异步处理，而是立即处理。\n",
    "        )\n",
    "        \n",
    "        # 清除按钮触发\n",
    "        # 第1步: 当用户点击清除按钮时，这个方法会被触发。它执行一个简单的匿名函数（lambda: None），不进行任何操作，但会触发后续的 success 回调。\n",
    "        # 第2步: .success(init_history, [state], [state]): 成功执行点击事件后，调用 init_history 函数来初始化聊天历史。\n",
    "        # 输入参数是 state，用于重置聊天历史。\n",
    "        # 输出参数也是 state，更新后的聊天历史将反映在状态中。\n",
    "        clear.click(lambda: None, None, chatbot, queue=False).success(init_history, [state], [state])"
   ]
  },
  {
   "cell_type": "code",
   "execution_count": null,
   "id": "af33fa7f-0734-4dcd-baae-e66b7a3e2c72",
   "metadata": {},
   "outputs": [],
   "source": [
    "demo.queue().launch(server_name=\"0.0.0.0\", port=6006)"
   ]
  },
  {
   "cell_type": "code",
   "execution_count": null,
   "id": "d3c825a8-26b5-4a8e-858b-dcd0f4076a21",
   "metadata": {},
   "outputs": [],
   "source": []
  }
 ],
 "metadata": {
  "kernelspec": {
   "display_name": "Python 3 (ipykernel)",
   "language": "python",
   "name": "python3"
  },
  "language_info": {
   "codemirror_mode": {
    "name": "ipython",
    "version": 3
   },
   "file_extension": ".py",
   "mimetype": "text/x-python",
   "name": "python",
   "nbconvert_exporter": "python",
   "pygments_lexer": "ipython3",
   "version": "3.10.14"
  }
 },
 "nbformat": 4,
 "nbformat_minor": 5
}
