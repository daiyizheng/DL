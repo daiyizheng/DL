{
 "cells": [
  {
   "cell_type": "markdown",
   "metadata": {},
   "source": [
    "# Dot-Product Attention"
   ]
  },
  {
   "cell_type": "code",
   "execution_count": 1,
   "metadata": {},
   "outputs": [],
   "source": [
    "import torch\n",
    "import torch.nn as nn\n",
    "from torch import Tensor\n",
    "import torch.nn.functional as F\n",
    "from typing import Tuple"
   ]
  },
  {
   "cell_type": "code",
   "execution_count": 2,
   "metadata": {},
   "outputs": [],
   "source": [
    "\n",
    "class DotProductAttention(nn.Module):\n",
    "    \"\"\"\n",
    "    Compute the dot products of the query with all values and apply a softmax function to obtain the weights on the values\n",
    "    \"\"\"\n",
    "    def __init__(self, hidden_dim):\n",
    "        super(DotProductAttention, self).__init__()\n",
    "\n",
    "    def forward(self, query: Tensor, value: Tensor) -> Tuple[Tensor, Tensor]:\n",
    "        batch_size, hidden_dim, input_size = query.size(0), query.size(2), value.size(1)\n",
    "\n",
    "        score = torch.bmm(query, value.transpose(1, 2))\n",
    "        attn = F.softmax(score.view(-1, input_size), dim=1).view(batch_size, -1, input_size)\n",
    "        context = torch.bmm(attn, value)\n",
    "\n",
    "        return context, attn"
   ]
  },
  {
   "cell_type": "code",
   "execution_count": null,
   "metadata": {},
   "outputs": [],
   "source": []
  }
 ],
 "metadata": {
  "kernelspec": {
   "display_name": "gnn",
   "language": "python",
   "name": "python3"
  },
  "language_info": {
   "codemirror_mode": {
    "name": "ipython",
    "version": 3
   },
   "file_extension": ".py",
   "mimetype": "text/x-python",
   "name": "python",
   "nbconvert_exporter": "python",
   "pygments_lexer": "ipython3",
   "version": "3.8.5"
  },
  "orig_nbformat": 4
 },
 "nbformat": 4,
 "nbformat_minor": 2
}
