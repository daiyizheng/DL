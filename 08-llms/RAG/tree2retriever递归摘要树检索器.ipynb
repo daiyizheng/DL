{
 "cells": [
  {
   "cell_type": "markdown",
   "metadata": {},
   "source": [
    "# tree2retriever递归摘要树检索器\n",
    "`Github:https://github.com/yanqiangmiffy/tree2retriever`"
   ]
  },
  {
   "cell_type": "code",
   "execution_count": null,
   "metadata": {},
   "outputs": [],
   "source": [
    "import logging\n",
    "import pickle\n",
    "\n",
    "from tree2retriever.cluster_tree_builder import ClusterTreeBuilder, ClusterTreeConfig\n",
    "from tree2retriever.embedding import SBertEmbeddingModel\n",
    "from tree2retriever.summary import GLMSummarizationModel\n",
    "from tree2retriever.tree_retriever import TreeRetriever, TreeRetrieverConfig\n",
    "\n",
    "if __name__ == '__main__':\n",
    "    tree_builder_type = 'cluster'\n",
    "    logging.basicConfig(format=\"%(asctime)s - %(message)s\", level=logging.INFO)\n",
    "    supported_tree_builders = {\"cluster\": (ClusterTreeBuilder, ClusterTreeConfig)}\n",
    "\n",
    "    tree_builder_class, tree_builder_config_class = supported_tree_builders[\n",
    "        tree_builder_type\n",
    "    ]\n",
    "    embedding_model = SBertEmbeddingModel(model_name=r\"I:\\pretrained_models\\bert\\english\\all-mpnet-base-v2\")\n",
    "    summary_model = GLMSummarizationModel(model_name_or_path=r\"I:\\pretrained_models\\llm\\chatglm3-6b\")\n",
    "    tree_builder_config = tree_builder_config_class(\n",
    "        tokenizer=None,\n",
    "        max_tokens=100,\n",
    "        num_layers=5,\n",
    "        threshold=0.5,\n",
    "        top_k=5,\n",
    "        selection_mode=\"top_k\",\n",
    "        summarization_length=100,\n",
    "        summarization_model=summary_model,\n",
    "        embedding_models={'sbert': embedding_model},\n",
    "        cluster_embedding_model=\"sbert\",\n",
    "    )\n",
    "\n",
    "    tree_retriever_config = TreeRetrieverConfig(\n",
    "        tokenizer=None,\n",
    "        threshold=0.5,\n",
    "        top_k=5,\n",
    "        selection_mode=\"top_k\",\n",
    "        context_embedding_model=\"sbert\",\n",
    "        embedding_model=embedding_model,\n",
    "        num_layers=None,\n",
    "        start_layer=None,\n",
    "    )\n",
    "\n",
    "    tree_builder = tree_builder_class(tree_builder_config)\n",
    "\n",
    "    with open(r'H:\\Projects\\GoMate\\data\\docs\\sample.txt', 'r') as file:\n",
    "        text = file.read()\n",
    "    tree = tree_builder.build_from_text(text=text)\n",
    "    retriever = TreeRetriever(tree_retriever_config, tree)\n",
    "    question = '\"How did Cinderella reach her happy ending?'\n",
    "\n",
    "    search_docs = retriever.retrieve(question)\n",
    "    print(search_docs)\n",
    "\n",
    "    path = \"tree.pkl\"\n",
    "    with open(path, \"wb\") as file:\n",
    "        pickle.dump(tree, file)\n",
    "    logging.info(f\"Tree successfully saved to {path}\")"
   ]
  }
 ],
 "metadata": {
  "language_info": {
   "name": "python"
  }
 },
 "nbformat": 4,
 "nbformat_minor": 2
}
