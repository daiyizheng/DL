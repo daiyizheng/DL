{
 "cells": [
  {
   "cell_type": "markdown",
   "metadata": {},
   "source": [
    "# 关键词搜索\n",
    " Keyword搜索，也称为“BM25（最佳匹配 25）”或“稀疏向量”搜索，返回具有最高 BM25F 分数的对象。"
   ]
  },
  {
   "cell_type": "code",
   "execution_count": 1,
   "metadata": {},
   "outputs": [],
   "source": [
    "import json\n",
    "import weaviate\n",
    "from weaviate.auth import AuthApiKey\n",
    "\n",
    "# 连接到本地部署的 Weaviate\n",
    "client = weaviate.Client(\n",
    "    url=\"http://127.0.0.1:8080\",\n",
    "    auth_client_secret=AuthApiKey(\"WVF5YThaHlkYwhGUSmCRgsX3tD5ngdN8pkih\")\n",
    ")"
   ]
  },
  {
   "cell_type": "markdown",
   "metadata": {},
   "source": [
    "## 基本 BM25 搜索"
   ]
  },
  {
   "cell_type": "code",
   "execution_count": 4,
   "metadata": {},
   "outputs": [
    {
     "name": "stdout",
     "output_type": "stream",
     "text": [
      "{\n",
      "  \"data\": {\n",
      "    \"Get\": {\n",
      "      \"JeopardyQuestion\": [\n",
      "        {\n",
      "          \"answer\": null,\n",
      "          \"question\": \"This vector DB is OSS & supports automatic property type inference on import\"\n",
      "        },\n",
      "        {\n",
      "          \"answer\": \"Weaviate\",\n",
      "          \"question\": \"This vector DB is OSS and supports automatic property type inference on import\"\n",
      "        },\n",
      "        {\n",
      "          \"answer\": \"Weaviate\",\n",
      "          \"question\": \"This vector DB is OSS and supports automatic property type inference on import\"\n",
      "        }\n",
      "      ]\n",
      "    }\n",
      "  }\n",
      "}\n"
     ]
    }
   ],
   "source": [
    "### V3\n",
    "\n",
    "response = (\n",
    "    client.query\n",
    "    .get(\"JeopardyQuestion\", [\"question\", \"answer\"])\n",
    "    .with_bm25(\n",
    "      query=\"DB\"\n",
    "    )\n",
    "    .with_limit(3)\n",
    "    .do()\n",
    ")\n",
    "\n",
    "print(json.dumps(response, indent=2))"
   ]
  },
  {
   "cell_type": "code",
   "execution_count": null,
   "metadata": {},
   "outputs": [],
   "source": [
    "## V4\n",
    "jeopardy = client.collections.get(\"JeopardyQuestion\")\n",
    "response = jeopardy.query.bm25(\n",
    "    query=\"food\",\n",
    "    limit=3\n",
    ")\n",
    "\n",
    "for o in response.objects:\n",
    "    print(o.properties)"
   ]
  },
  {
   "cell_type": "markdown",
   "metadata": {},
   "source": [
    "## 检索 BM25F 分数\n",
    "\n",
    "score您可以检索每个返回对象的BM25F值。"
   ]
  },
  {
   "cell_type": "code",
   "execution_count": 7,
   "metadata": {},
   "outputs": [
    {
     "name": "stdout",
     "output_type": "stream",
     "text": [
      "{\n",
      "  \"data\": {\n",
      "    \"Get\": {\n",
      "      \"Test\": [\n",
      "        {\n",
      "          \"_additional\": {\n",
      "            \"score\": \"0.86408603\"\n",
      "          },\n",
      "          \"source\": \"tests/药食同源养生方药集粹 乔铁，梁可，马进主编 辽宁科学技术出版社.txt\",\n",
      "          \"text\": \"气郁体质：气机不顺，情绪郁结。气郁体质是肝脏的疏泄条达功能 相对不足造成的。常见表现为胃脘、胸腹、胁肋、乳房等部位的胀满疼 痛。气郁体质的养生原则是疏肝理气、补益肝血，应选用具有理气解郁、调理脾胃功能的食物，如大麦、荞麦、高粱、刀豆、蘑菇、豆豉、 苦瓜、萝 卜、洋葱、菊花、玫瑰、青椒、芹菜、茉莉、生姜、山楂、陈 皮以及佛手、橙子、柑皮、韭菜、茴香菜、大蒜、火腿、高粱皮、香橼 等具有行气作用的食物。少食收敛酸涩之物，如乌梅、南瓜、泡菜、石 榴、青梅、杨梅、草莓、阳桃、酸枣、李子、柠檬等。忌食奶油、肥肉、糯米等肥腻食物。亦不可多食冰冷食品，如雪糕、冰激凌、冰冻饮 料等。\\n\\n特禀体质：先天禀赋不足，以生理缺陷、过敏反应等为主要特征。 特禀体质常见表现为过敏质者常见哮喘、风团、咽痒、鼻塞、喷嚏等； 患遗传性疾病者有垂直遗传、先天性、家族性特征；患胎传性疾病者具 有母体影响胎儿个体生长发育及相关疾病特征。特禀体质的养生原则是 益气固表、温补肺脾肾。避免食用各种致敏食物，减少发作机会。饮食 调养要因时因人因地，并结合过敏原。选用性质平和、清淡、温补类食 物及补养肺气的食材，可降低过敏的发生。常用药物有黄芪、白术、荆 芥、防风、蝉蜕、乌梅、益母草、当归、生地、黄芩、丹皮等。饮食宜 清淡、均衡，粗细搭配适当，荤素配伍合理。少食荞麦（含致敏物质荞 麦荧光素）、蚕豆、白扁豆、牛肉、鹅肉、鲤鱼、虾、蟹、茄子、酒、 辣椒等，更应避免腥膻发物及含致敏物质的食物，减少发作机会。避免 接触致敏物质，如尘螨、花粉、油漆等。居室应通风良好，保持室内清 洁，被褥、床单要经常洗晒。不宜养宠物，以免对动物皮毛过敏。起居 应有规律，保证充足的睡眠，积极参加各种体育锻炼，增强体质。\\n\\n\\n1. 四气\\n四气又称四性，是指寒、凉、温、热四种性质。其中温热与寒凉属 于两类不同的性质。温与热、寒与凉则分别具有共同性，温次之于热， 凉次之于寒，即在共同性质中又有程度上的差异。四气是古人根据食物 作用于人体所产生的反应归纳总结出来的，是从内在性质方面对食物多 种医疗效用的高度概括。\"\n",
      "        }\n",
      "      ]\n",
      "    }\n",
      "  }\n",
      "}\n"
     ]
    }
   ],
   "source": [
    "response = (\n",
    "    client.query\n",
    "    .get(\"Test\", [\"text\", \"source\"])\n",
    "    .with_bm25(\n",
    "      query=\"白术\"\n",
    "    )\n",
    "    .with_additional(\"score\")\n",
    "    .with_limit(3)\n",
    "    .do()\n",
    ")\n",
    "\n",
    "print(json.dumps(response, ensure_ascii=False, indent=2))"
   ]
  },
  {
   "cell_type": "code",
   "execution_count": null,
   "metadata": {},
   "outputs": [],
   "source": [
    "### V4\n",
    "from weaviate.classes.query import MetadataQuery\n",
    "\n",
    "jeopardy = client.collections.get(\"JeopardyQuestion\")\n",
    "response = jeopardy.query.bm25(\n",
    "    query=\"food\",\n",
    "    return_metadata=MetadataQuery(score=True),\n",
    "    limit=3\n",
    ")\n",
    "\n",
    "for o in response.objects:\n",
    "    print(o.properties)\n",
    "    print(o.metadata.score)"
   ]
  },
  {
   "cell_type": "markdown",
   "metadata": {},
   "source": [
    "## ## 仅搜索选定的属性\n",
    "\n",
    "关键字搜索可以仅搜索对象属性的子集。在此示例中，BM25 搜索仅使用该question属性来生成 BM25F 分数。"
   ]
  },
  {
   "cell_type": "code",
   "execution_count": 8,
   "metadata": {},
   "outputs": [
    {
     "name": "stdout",
     "output_type": "stream",
     "text": [
      "{\n",
      "  \"data\": {\n",
      "    \"Get\": {\n",
      "      \"JeopardyQuestion\": [\n",
      "        {\n",
      "          \"_additional\": {\n",
      "            \"score\": \"0.16569251\"\n",
      "          },\n",
      "          \"answer\": null,\n",
      "          \"question\": \"This vector DB is OSS & supports automatic property type inference on import\"\n",
      "        },\n",
      "        {\n",
      "          \"_additional\": {\n",
      "            \"score\": \"0.1603982\"\n",
      "          },\n",
      "          \"answer\": \"Weaviate\",\n",
      "          \"question\": \"This vector DB is OSS and supports automatic property type inference on import\"\n",
      "        },\n",
      "        {\n",
      "          \"_additional\": {\n",
      "            \"score\": \"0.1603982\"\n",
      "          },\n",
      "          \"answer\": \"Weaviate\",\n",
      "          \"question\": \"This vector DB is OSS and supports automatic property type inference on import\"\n",
      "        }\n",
      "      ]\n",
      "    }\n",
      "  }\n",
      "}\n"
     ]
    }
   ],
   "source": [
    "response = (\n",
    "    client.query\n",
    "    .get(\"JeopardyQuestion\", [\"question\", \"answer\"])\n",
    "    .with_bm25(\n",
    "      query=\"DB\",\n",
    "      properties=[\"question\"]\n",
    "    )\n",
    "    .with_additional(\"score\")\n",
    "    .with_limit(3)\n",
    "    .do()\n",
    ")\n",
    "\n",
    "print(json.dumps(response, indent=2))"
   ]
  },
  {
   "cell_type": "code",
   "execution_count": null,
   "metadata": {},
   "outputs": [],
   "source": [
    "## V4\n",
    "from weaviate.classes.query import MetadataQuery\n",
    "\n",
    "jeopardy = client.collections.get(\"JeopardyQuestion\")\n",
    "response = jeopardy.query.bm25(\n",
    "    query=\"safety\",\n",
    "    query_properties=[\"question\"],\n",
    "    return_metadata=MetadataQuery(score=True),\n",
    "    limit=3\n",
    ")\n",
    "\n",
    "for o in response.objects:\n",
    "    print(o.properties)\n",
    "    print(o.metadata.score)"
   ]
  },
  {
   "cell_type": "markdown",
   "metadata": {},
   "source": [
    "## 使用权重来提升属性\n",
    "\n",
    "您可以衡量每个属性对整体 BM25F 得分的影响程度。本示例将该question属性提升了 2 倍，而该answer属性保持不变。"
   ]
  },
  {
   "cell_type": "code",
   "execution_count": 9,
   "metadata": {},
   "outputs": [
    {
     "name": "stdout",
     "output_type": "stream",
     "text": [
      "{\n",
      "  \"data\": {\n",
      "    \"Get\": {\n",
      "      \"JeopardyQuestion\": [\n",
      "        {\n",
      "          \"_additional\": {\n",
      "            \"score\": \"0.18382995\"\n",
      "          },\n",
      "          \"answer\": null,\n",
      "          \"question\": \"This vector DB is OSS & supports automatic property type inference on import\"\n",
      "        },\n",
      "        {\n",
      "          \"_additional\": {\n",
      "            \"score\": \"0.17779541\"\n",
      "          },\n",
      "          \"answer\": \"Weaviate\",\n",
      "          \"question\": \"This vector DB is OSS and supports automatic property type inference on import\"\n",
      "        },\n",
      "        {\n",
      "          \"_additional\": {\n",
      "            \"score\": \"0.17779541\"\n",
      "          },\n",
      "          \"answer\": \"Weaviate\",\n",
      "          \"question\": \"This vector DB is OSS and supports automatic property type inference on import\"\n",
      "        }\n",
      "      ]\n",
      "    }\n",
      "  }\n",
      "}\n"
     ]
    }
   ],
   "source": [
    "response = (\n",
    "    client.query\n",
    "    .get(\"JeopardyQuestion\", [\"question\", \"answer\"])\n",
    "    .with_bm25(\n",
    "      query=\"DB\",\n",
    "      properties=[\"question^2\", \"answer\"]\n",
    "    )\n",
    "    .with_additional(\"score\")\n",
    "    .with_limit(3)\n",
    "    .do()\n",
    "  )\n",
    "\n",
    "print(json.dumps(response, indent=2))"
   ]
  },
  {
   "cell_type": "code",
   "execution_count": null,
   "metadata": {},
   "outputs": [],
   "source": [
    "## V4\n",
    "jeopardy = client.collections.get(\"JeopardyQuestion\")\n",
    "response = jeopardy.query.bm25(\n",
    "    query=\"food\",\n",
    "    query_properties=[\"question^2\", \"answer\"],\n",
    "    limit=3\n",
    ")\n",
    "\n",
    "for o in response.objects:\n",
    "    print(o.properties)"
   ]
  },
  {
   "cell_type": "markdown",
   "metadata": {},
   "source": [
    "## 设置标记化\n",
    "BM25 查询字符串在使用倒排索引搜索对象之前会被标记化。\n",
    "\n",
    "您必须在集合定义中为每个属性指定标记化方法。"
   ]
  },
  {
   "cell_type": "code",
   "execution_count": 11,
   "metadata": {},
   "outputs": [
    {
     "ename": "UnexpectedStatusCodeException",
     "evalue": "Create class! Unexpected status code: 422, with response body: {'error': [{'message': 'vectorizer: no module with name \"text2vec-huggingface\" present'}]}.",
     "output_type": "error",
     "traceback": [
      "\u001b[31m---------------------------------------------------------------------------\u001b[39m",
      "\u001b[31mUnexpectedStatusCodeException\u001b[39m             Traceback (most recent call last)",
      "\u001b[36mCell\u001b[39m\u001b[36m \u001b[39m\u001b[32mIn[11]\u001b[39m\u001b[32m, line 28\u001b[39m\n\u001b[32m      1\u001b[39m class_obj = {\n\u001b[32m      2\u001b[39m     \u001b[33m\"\u001b[39m\u001b[33mclass\u001b[39m\u001b[33m\"\u001b[39m: \u001b[33m\"\u001b[39m\u001b[33mTest2\u001b[39m\u001b[33m\"\u001b[39m,\n\u001b[32m      3\u001b[39m     \u001b[33m\"\u001b[39m\u001b[33mvectorizer\u001b[39m\u001b[33m\"\u001b[39m: \u001b[33m\"\u001b[39m\u001b[33mtext2vec-huggingface\u001b[39m\u001b[33m\"\u001b[39m,  \u001b[38;5;66;03m# this could be any vectorizer\u001b[39;00m\n\u001b[32m   (...)\u001b[39m\u001b[32m     25\u001b[39m     ],\n\u001b[32m     26\u001b[39m }\n\u001b[32m---> \u001b[39m\u001b[32m28\u001b[39m \u001b[43mclient\u001b[49m\u001b[43m.\u001b[49m\u001b[43mschema\u001b[49m\u001b[43m.\u001b[49m\u001b[43mcreate_class\u001b[49m\u001b[43m(\u001b[49m\u001b[43mclass_obj\u001b[49m\u001b[43m)\u001b[49m\n",
      "\u001b[36mFile \u001b[39m\u001b[32m/opt/anaconda3/envs/llm/lib/python3.11/site-packages/weaviate/schema/crud_schema.py:184\u001b[39m, in \u001b[36mSchema.create_class\u001b[39m\u001b[34m(self, schema_class)\u001b[39m\n\u001b[32m    182\u001b[39m \u001b[38;5;66;03m# validate the class before loading\u001b[39;00m\n\u001b[32m    183\u001b[39m check_class(loaded_schema_class)\n\u001b[32m--> \u001b[39m\u001b[32m184\u001b[39m \u001b[38;5;28;43mself\u001b[39;49m\u001b[43m.\u001b[49m\u001b[43m_create_class_with_primitives\u001b[49m\u001b[43m(\u001b[49m\u001b[43mloaded_schema_class\u001b[49m\u001b[43m)\u001b[49m\n\u001b[32m    185\u001b[39m \u001b[38;5;28mself\u001b[39m._create_complex_properties_from_class(loaded_schema_class)\n",
      "\u001b[36mFile \u001b[39m\u001b[32m/opt/anaconda3/envs/llm/lib/python3.11/site-packages/weaviate/schema/crud_schema.py:750\u001b[39m, in \u001b[36mSchema._create_class_with_primitives\u001b[39m\u001b[34m(self, weaviate_class)\u001b[39m\n\u001b[32m    748\u001b[39m     \u001b[38;5;28;01mraise\u001b[39;00m RequestsConnectionError(\u001b[33m\"\u001b[39m\u001b[33mClass may not have been created properly.\u001b[39m\u001b[33m\"\u001b[39m) \u001b[38;5;28;01mfrom\u001b[39;00m\u001b[38;5;250m \u001b[39m\u001b[34;01mconn_err\u001b[39;00m\n\u001b[32m    749\u001b[39m \u001b[38;5;28;01mif\u001b[39;00m response.status_code != \u001b[32m200\u001b[39m:\n\u001b[32m--> \u001b[39m\u001b[32m750\u001b[39m     \u001b[38;5;28;01mraise\u001b[39;00m UnexpectedStatusCodeException(\u001b[33m\"\u001b[39m\u001b[33mCreate class\u001b[39m\u001b[33m\"\u001b[39m, response)\n",
      "\u001b[31mUnexpectedStatusCodeException\u001b[39m: Create class! Unexpected status code: 422, with response body: {'error': [{'message': 'vectorizer: no module with name \"text2vec-huggingface\" present'}]}."
     ]
    }
   ],
   "source": [
    "class_obj = {\n",
    "    \"class\": \"Test2\",\n",
    "    \"vectorizer\": \"text2vec-huggingface\",  # this could be any vectorizer\n",
    "    \"properties\": [\n",
    "        {\n",
    "            \"name\": \"title\",\n",
    "            \"dataType\": [\"text\"],\n",
    "            \"moduleConfig\": {\n",
    "                \"text2vec-huggingface\": {  # this must match the vectorizer used\n",
    "                    \"vectorizePropertyName\": True,\n",
    "                    \"tokenization\": \"lowercase\"\n",
    "                }\n",
    "            }\n",
    "        },\n",
    "        {\n",
    "            \"name\": \"body\",\n",
    "            \"dataType\": [\"text\"],\n",
    "            \"moduleConfig\": {\n",
    "                \"text2vec-huggingface\": {  # this must match the vectorizer used\n",
    "                    \"skip\": True,  # Don't vectorize body\n",
    "                    \"tokenization\": \"whitespace\"\n",
    "                }\n",
    "            }\n",
    "        },\n",
    "    ],\n",
    "}\n",
    "\n",
    "client.schema.create_class(class_obj)"
   ]
  },
  {
   "cell_type": "code",
   "execution_count": null,
   "metadata": {},
   "outputs": [],
   "source": [
    "from weaviate.classes.config import Configure, Property, DataType, Tokenization\n",
    "\n",
    "client.collections.create(\n",
    "    \"Article\",\n",
    "    vectorizer_config=Configure.Vectorizer.text2vec_huggingface(),\n",
    "\n",
    "    properties=[\n",
    "        Property(\n",
    "            name=\"title\",\n",
    "            data_type=DataType.TEXT,\n",
    "            vectorize_property_name=True,  # Use \"title\" as part of the value to vectorize\n",
    "            tokenization=Tokenization.LOWERCASE  # Use \"lowecase\" tokenization\n",
    "        ),\n",
    "        Property(\n",
    "            name=\"body\",\n",
    "            data_type=DataType.TEXT,\n",
    "            skip_vectorization=True,  # Don't vectorize this property\n",
    "            tokenization=Tokenization.WHITESPACE  # Use \"whitespace\" tokenization\n",
    "        ),\n",
    "    ]\n",
    ")"
   ]
  },
  {
   "cell_type": "markdown",
   "metadata": {},
   "source": [
    "## limit&offset\n",
    "用于limit设置要返回的固定最大对象数。\n",
    "\n",
    "或者，使用offset来对结果进行分页。"
   ]
  },
  {
   "cell_type": "code",
   "execution_count": null,
   "metadata": {},
   "outputs": [],
   "source": [
    "## V3\n",
    "response = (\n",
    "    client.query\n",
    "    .get(\"JeopardyQuestion\", [\"question\", \"answer\"])\n",
    "    .with_bm25(\n",
    "      query=\"safety\"\n",
    "    )\n",
    "    .with_additional(\"score\")\n",
    "    .with_limit(3)\n",
    "    .do()\n",
    ")\n",
    "\n",
    "print(json.dumps(response, indent=2))"
   ]
  },
  {
   "cell_type": "code",
   "execution_count": null,
   "metadata": {},
   "outputs": [],
   "source": [
    "## V4\n",
    "jeopardy = client.collections.get(\"JeopardyQuestion\")\n",
    "response = jeopardy.query.bm25(\n",
    "    query=\"safety\",\n",
    "    limit=3,\n",
    "    offset=1\n",
    ")\n",
    "\n",
    "for o in response.objects:\n",
    "    print(o.properties)"
   ]
  },
  {
   "cell_type": "markdown",
   "metadata": {},
   "source": [
    "## 限制结果组\n",
    "要将结果限制为与查询距离相似的组，请使用autocut过滤器设置要返回的组数。"
   ]
  },
  {
   "cell_type": "code",
   "execution_count": null,
   "metadata": {},
   "outputs": [],
   "source": [
    "response = (\n",
    "    client.query\n",
    "    .get(\"JeopardyQuestion\", [\"question\", \"answer\"])\n",
    "    .with_bm25(\n",
    "      query=\"safety\"\n",
    "    )\n",
    "    .with_additional(\"score\")\n",
    "    .with_autocut(1)\n",
    "    .do()\n",
    ")\n",
    "\n",
    "print(json.dumps(response, indent=2))"
   ]
  },
  {
   "cell_type": "code",
   "execution_count": null,
   "metadata": {},
   "outputs": [],
   "source": [
    "### V4\n",
    "jeopardy = client.collections.get(\"JeopardyQuestion\")\n",
    "response = jeopardy.query.bm25(\n",
    "    query=\"safety\",\n",
    "    auto_limit=1\n",
    ")\n",
    "\n",
    "for o in response.objects:\n",
    "    print(o.properties)"
   ]
  },
  {
   "cell_type": "markdown",
   "metadata": {},
   "source": [
    "## 小组成绩\n",
    "定义标准来对搜索结果进行分组。"
   ]
  },
  {
   "cell_type": "code",
   "execution_count": null,
   "metadata": {},
   "outputs": [],
   "source": [
    "## V4\n",
    "from weaviate.classes.query import GroupBy\n",
    "\n",
    "jeopardy = client.collections.get(\"JeopardyQuestion\")\n",
    "\n",
    "# Grouping parameters\n",
    "group_by = GroupBy(\n",
    "    prop=\"round\",  # group by this property\n",
    "    objects_per_group=3,  # maximum objects per group\n",
    "    number_of_groups=2,  # maximum number of groups\n",
    ")\n",
    "\n",
    "# Query\n",
    "response = jeopardy.query.bm25(\n",
    "    query=\"California\",\n",
    "    group_by=group_by\n",
    ")\n",
    "\n",
    "for grp_name, grp_content in response.groups.items():\n",
    "    print(grp_name, grp_content.objects)"
   ]
  },
  {
   "cell_type": "markdown",
   "metadata": {},
   "source": [
    "## 筛选结果\n",
    "要获得更具体的结果，请使用filter缩小搜索范围。\n",
    "\n"
   ]
  },
  {
   "cell_type": "code",
   "execution_count": null,
   "metadata": {},
   "outputs": [],
   "source": [
    "response = (\n",
    "    client.query\n",
    "    .get(\"JeopardyQuestion\", [\"question\", \"answer\", \"round\"])\n",
    "    .with_bm25(\n",
    "      query=\"food\"\n",
    "    )\n",
    "    .with_where({\n",
    "        \"path\": [\"round\"],\n",
    "        \"operator\": \"Equal\",\n",
    "        \"valueText\": \"Double Jeopardy!\"\n",
    "    })\n",
    "    .with_additional(\"score\")\n",
    "    .with_limit(3)\n",
    "    .do()\n",
    "  )\n",
    "\n",
    "print(json.dumps(response, indent=2))"
   ]
  },
  {
   "cell_type": "code",
   "execution_count": null,
   "metadata": {},
   "outputs": [],
   "source": [
    "from weaviate.classes.query import Filter\n",
    "\n",
    "jeopardy = client.collections.get(\"JeopardyQuestion\")\n",
    "response = jeopardy.query.bm25(\n",
    "    query=\"food\",\n",
    "    filters=Filter.by_property(\"round\").equal(\"Double Jeopardy!\"),\n",
    "    return_properties=[\"answer\", \"question\", \"round\"], # return these properties\n",
    "    limit=3\n",
    ")\n",
    "\n",
    "for o in response.objects:\n",
    "    print(o.properties)"
   ]
  },
  {
   "cell_type": "markdown",
   "metadata": {},
   "source": [
    "### 标记化"
   ]
  },
  {
   "cell_type": "markdown",
   "metadata": {},
   "source": []
  }
 ],
 "metadata": {
  "kernelspec": {
   "display_name": "llm",
   "language": "python",
   "name": "python3"
  },
  "language_info": {
   "codemirror_mode": {
    "name": "ipython",
    "version": 3
   },
   "file_extension": ".py",
   "mimetype": "text/x-python",
   "name": "python",
   "nbconvert_exporter": "python",
   "pygments_lexer": "ipython3",
   "version": "3.11.11"
  }
 },
 "nbformat": 4,
 "nbformat_minor": 2
}
