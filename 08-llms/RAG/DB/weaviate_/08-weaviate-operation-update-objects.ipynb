{
 "cells": [
  {
   "cell_type": "markdown",
   "metadata": {},
   "source": [
    "# 更新对象\n",
    "Weaviate 允许部分或全部对象更新。"
   ]
  },
  {
   "cell_type": "code",
   "execution_count": 1,
   "metadata": {},
   "outputs": [],
   "source": [
    "import json\n",
    "import weaviate\n",
    "from weaviate.auth import AuthApiKey\n",
    "\n",
    "# 连接到本地部署的 Weaviate\n",
    "client = weaviate.Client(\n",
    "    url=\"http://127.0.0.1:8080\",\n",
    "    auth_client_secret=AuthApiKey(\"WVF5YThaHlkYwhGUSmCRgsX3tD5ngdN8pkih\")\n",
    ")"
   ]
  },
  {
   "cell_type": "markdown",
   "metadata": {},
   "source": [
    "## 更新对象属性\n",
    "此操作仅替换指定属性的整个值，保留未指定的属性。提供集合名称、对象 ID 和要更新的属性。\n",
    "\n",
    "如果您更新先前矢量化的属性的值，Weaviate 会自动重新矢量化该对象。这还会重新索引更新后的对象。\n",
    "\n",
    "但是，如果您在集合定义中添加新属性，Weaviate 只会对新对象进行矢量化。定义新属性时，Weaviate 不会重新矢量化和重新索引现有对象，只有在更新现有属性时才会这样做。"
   ]
  },
  {
   "cell_type": "code",
   "execution_count": 2,
   "metadata": {},
   "outputs": [
    {
     "name": "stderr",
     "output_type": "stream",
     "text": [
      "/opt/anaconda3/envs/llm/lib/python3.11/site-packages/weaviate/data/crud_data.py:533: DeprecationWarning: Weaviate Server version >= 1.14.x STRONGLY recommends using class namespaced APIs, please specify the `class_name` argument for this. The non-class namespaced APIs (None value for `class_name`) are going to be removed in the future versions of the Weaviate Server and Weaviate Python Client.\n",
      "  warnings.warn(\n"
     ]
    },
    {
     "data": {
      "text/plain": [
       "{'class': 'JeopardyQuestion',\n",
       " 'creationTimeUnix': 1744127483985,\n",
       " 'id': '3e8346aa-0c95-433b-8fb3-32aac342f8c0',\n",
       " 'lastUpdateTimeUnix': 1744127483985,\n",
       " 'properties': {'answer': 'Weaviate',\n",
       "  'question': 'This vector DB is OSS and supports automatic property type inference on import'},\n",
       " 'vectorWeights': None}"
      ]
     },
     "execution_count": 2,
     "metadata": {},
     "output_type": "execute_result"
    }
   ],
   "source": [
    "client.data_object.get_by_id(\n",
    "    uuid=\"3e8346aa-0c95-433b-8fb3-32aac342f8c0\"\n",
    ")"
   ]
  },
  {
   "cell_type": "code",
   "execution_count": 4,
   "metadata": {},
   "outputs": [],
   "source": [
    "### V3\n",
    "uuid = \"3e8346aa-0c95-433b-8fb3-32aac342f8c0\"  # replace with the id of the object you want to update\n",
    "client.data_object.update(\n",
    "    uuid=uuid,\n",
    "    class_name=\"JeopardyQuestion\",\n",
    "    data_object={\n",
    "        \"answer\": \"Weaviate Weaviate\" ,\n",
    "    },\n",
    ")"
   ]
  },
  {
   "cell_type": "code",
   "execution_count": 5,
   "metadata": {},
   "outputs": [
    {
     "data": {
      "text/plain": [
       "{'class': 'JeopardyQuestion',\n",
       " 'creationTimeUnix': 1744127483985,\n",
       " 'id': '3e8346aa-0c95-433b-8fb3-32aac342f8c0',\n",
       " 'lastUpdateTimeUnix': 1744164920139,\n",
       " 'properties': {'answer': 'Weaviate Weaviate',\n",
       "  'question': 'This vector DB is OSS and supports automatic property type inference on import'},\n",
       " 'vectorWeights': None}"
      ]
     },
     "execution_count": 5,
     "metadata": {},
     "output_type": "execute_result"
    }
   ],
   "source": [
    "client.data_object.get_by_id(\n",
    "    uuid=\"3e8346aa-0c95-433b-8fb3-32aac342f8c0\"\n",
    ")"
   ]
  },
  {
   "cell_type": "code",
   "execution_count": null,
   "metadata": {},
   "outputs": [],
   "source": [
    "### V4\n",
    "uuid = \"...\"  # replace with the id of the object you want to update\n",
    "\n",
    "jeopardy = client.collections.get(\"JeopardyQuestion\")\n",
    "jeopardy.data.update(\n",
    "    uuid=uuid,\n",
    "    properties={\n",
    "        \"points\": 100,\n",
    "    }\n",
    ")"
   ]
  },
  {
   "cell_type": "markdown",
   "metadata": {},
   "source": [
    "## 更新对象向量\n",
    "对象向量也可以像属性一样进行更新。对于命名向量，以字典/映射的形式提供数据，类似于对象创建。"
   ]
  },
  {
   "cell_type": "code",
   "execution_count": null,
   "metadata": {},
   "outputs": [],
   "source": [
    "## V3\n",
    "client.data_object.update(\n",
    "    uuid=uuid,\n",
    "    class_name=\"JeopardyQuestion\",\n",
    "    data_object={\n",
    "        \"points\": 100,\n",
    "    },\n",
    "    vector=[0.12345] * 1536\n",
    ")"
   ]
  },
  {
   "cell_type": "code",
   "execution_count": null,
   "metadata": {},
   "outputs": [],
   "source": [
    "### V4\n",
    "jeopardy = client.collections.get(\"JeopardyQuestion\")\n",
    "jeopardy.data.update(\n",
    "    uuid=uuid,\n",
    "    properties={\n",
    "        \"points\": 100,\n",
    "    },\n",
    "    vector=[0.12345] * 1536\n",
    ")"
   ]
  },
  {
   "cell_type": "markdown",
   "metadata": {},
   "source": [
    "## 替换整个对象\n",
    "通过提供集合名称、id 和新对象可以替换整个对象。"
   ]
  },
  {
   "cell_type": "code",
   "execution_count": 6,
   "metadata": {},
   "outputs": [],
   "source": [
    "client.data_object.replace(\n",
    "    uuid=uuid,\n",
    "    class_name=\"JeopardyQuestion\",\n",
    "    data_object={\n",
    "        \"answer\": \"Replaced\",\n",
    "        # The other properties will be deleted\n",
    "    },\n",
    ")"
   ]
  },
  {
   "cell_type": "code",
   "execution_count": 7,
   "metadata": {},
   "outputs": [
    {
     "data": {
      "text/plain": [
       "{'class': 'JeopardyQuestion',\n",
       " 'creationTimeUnix': 1744127483985,\n",
       " 'id': '3e8346aa-0c95-433b-8fb3-32aac342f8c0',\n",
       " 'lastUpdateTimeUnix': 1744165009387,\n",
       " 'properties': {'answer': 'Replaced'},\n",
       " 'vectorWeights': None}"
      ]
     },
     "execution_count": 7,
     "metadata": {},
     "output_type": "execute_result"
    }
   ],
   "source": [
    "client.data_object.get_by_id(\n",
    "    uuid=\"3e8346aa-0c95-433b-8fb3-32aac342f8c0\"\n",
    ")"
   ]
  },
  {
   "cell_type": "code",
   "execution_count": null,
   "metadata": {},
   "outputs": [],
   "source": [
    "### V4\n",
    "jeopardy = client.collections.get(\"JeopardyQuestion\")\n",
    "jeopardy.data.replace(\n",
    "    uuid=uuid,\n",
    "    properties={\n",
    "        \"answer\": \"Replaced\",\n",
    "        # The other properties will be deleted\n",
    "    },\n",
    ")"
   ]
  },
  {
   "cell_type": "markdown",
   "metadata": {},
   "source": [
    "## 删除属性\n",
    "尚不支持删除或更新集合定义中的属性。\n",
    "\n",
    "\"\"在对象级别，您可以用已删除这些属性或设置为文本属性的副本替换该对象。"
   ]
  },
  {
   "cell_type": "code",
   "execution_count": null,
   "metadata": {},
   "outputs": [],
   "source": [
    "### V3\n",
    "from typing import List\n",
    "from weaviate import Client\n",
    "\n",
    "def del_props(client: Client, uuid: str, class_name: str, prop_names: List[str]) -> None:\n",
    "    object_data = client.data_object.get(uuid, class_name=class_name)\n",
    "    for prop_name in prop_names:\n",
    "        if prop_name in object_data[\"properties\"]:\n",
    "            del object_data[\"properties\"][prop_name]\n",
    "    client.data_object.replace(object_data[\"properties\"], class_name, uuid)\n",
    "\n",
    "\n",
    "uuid = \"...\"  # replace with the id of the object you want to delete properties from\n",
    "del_props(client, uuid, \"JeopardyQuestion\", [\"answer\"])"
   ]
  },
  {
   "cell_type": "code",
   "execution_count": null,
   "metadata": {},
   "outputs": [],
   "source": [
    "## V4\n",
    "\n",
    "from typing import List\n",
    "from weaviate import WeaviateClient\n",
    "\n",
    "def del_props(client: WeaviateClient, uuid_to_update: str, collection_name: str, prop_names: List[str]) -> None:\n",
    "    collection = client.collections.get(collection_name)\n",
    "\n",
    "    # fetch the object to update\n",
    "    object_data = collection.query.fetch_object_by_id(uuid_to_update)\n",
    "    properties_to_update = object_data.properties\n",
    "\n",
    "    # remove unwanted properties\n",
    "    for prop_name in prop_names:\n",
    "        if prop_name in properties_to_update:\n",
    "            del properties_to_update[prop_name]\n",
    "\n",
    "    # replace the properties\n",
    "    collection.data.replace(\n",
    "        uuid=uuid_to_update,\n",
    "        properties=properties_to_update\n",
    "    )\n",
    "\n",
    "\n",
    "uuid = \"...\"  # replace with the id of the object you want to delete properties from\n",
    "del_props(client, uuid, \"JeopardyQuestion\", [\"answer\"])"
   ]
  }
 ],
 "metadata": {
  "kernelspec": {
   "display_name": "llm",
   "language": "python",
   "name": "python3"
  },
  "language_info": {
   "codemirror_mode": {
    "name": "ipython",
    "version": 3
   },
   "file_extension": ".py",
   "mimetype": "text/x-python",
   "name": "python",
   "nbconvert_exporter": "python",
   "pygments_lexer": "ipython3",
   "version": "3.11.11"
  }
 },
 "nbformat": 4,
 "nbformat_minor": 2
}
