{
 "cells": [
  {
   "cell_type": "markdown",
   "metadata": {},
   "source": [
    "# 读取所有对象\n",
    "Weaviate 提供必要的 API 来迭代所有数据。当您想要手动将数据（和向量嵌入）从一个地方复制/迁移到另一个地方时，这很有用。\n",
    "\n",
    "after这是在运算符（也称为游标 API）的帮助下完成的。\n",
    "\n",
    "迭代器\n",
    "> 新的 API 客户端（目前由 Python Client v4 支持）将此功能封装为Iterator。"
   ]
  },
  {
   "cell_type": "code",
   "execution_count": 1,
   "metadata": {},
   "outputs": [],
   "source": [
    "import json\n",
    "import weaviate\n",
    "from weaviate.auth import AuthApiKey\n",
    "\n",
    "# 连接到本地部署的 Weaviate\n",
    "client = weaviate.Client(\n",
    "    url=\"http://127.0.0.1:8080\",\n",
    "    auth_client_secret=AuthApiKey(\"WVF5YThaHlkYwhGUSmCRgsX3tD5ngdN8pkih\")\n",
    ")"
   ]
  },
  {
   "cell_type": "markdown",
   "metadata": {},
   "source": [
    "## 读取对象属性和 ID\n",
    "以下代码遍历所有对象，提供每个对象的属性和 id。\n"
   ]
  },
  {
   "cell_type": "code",
   "execution_count": 6,
   "metadata": {},
   "outputs": [
    {
     "name": "stdout",
     "output_type": "stream",
     "text": [
      "---- {'data': {'Get': {'MyCollection': [{'_additional': {'id': '250a842c-a36f-4ba1-a3b2-5c2e11bfc04d'}, 'title': 'Object 2'}, {'_additional': {'id': '261f7ad6-2517-443d-8238-db85919aaa25'}, 'title': 'Object 1'}, {'_additional': {'id': '42a6fedc-685c-441a-a84f-589da90710da'}, 'title': 'Object 4'}, {'_additional': {'id': '88a6f10c-1de8-4822-ae01-194853e0a886'}, 'title': 'Object 5'}, {'_additional': {'id': 'df75b23a-3e98-4ff1-85db-4bf8df9f8806'}, 'title': 'Object 3'}]}}}\n",
      "[{'_additional': {'id': '250a842c-a36f-4ba1-a3b2-5c2e11bfc04d'}, 'title': 'Object 2'}, {'_additional': {'id': '261f7ad6-2517-443d-8238-db85919aaa25'}, 'title': 'Object 1'}, {'_additional': {'id': '42a6fedc-685c-441a-a84f-589da90710da'}, 'title': 'Object 4'}, {'_additional': {'id': '88a6f10c-1de8-4822-ae01-194853e0a886'}, 'title': 'Object 5'}, {'_additional': {'id': 'df75b23a-3e98-4ff1-85db-4bf8df9f8806'}, 'title': 'Object 3'}]\n",
      "---- {'data': {'Get': {'MyCollection': []}}}\n"
     ]
    }
   ],
   "source": [
    "# STEP 1 - Prepare a helper function to iterate through data in batches\n",
    "def get_batch_with_cursor(collection_name, batch_size, cursor=None):\n",
    "    # First prepare the query to run through data\n",
    "    query = (\n",
    "        client.query.get(\n",
    "            collection_name,         # update with your collection name\n",
    "            [\"title\"] # update with the required properties\n",
    "        )\n",
    "        .with_additional([\"id\"])\n",
    "        .with_limit(batch_size)\n",
    "    )\n",
    "\n",
    "    # Fetch the next set of results\n",
    "    if cursor is not None:\n",
    "        result = query.with_after(cursor).do()\n",
    "    # Fetch the first set of results\n",
    "    else:\n",
    "        result = query.do()\n",
    "\n",
    "    print(\"----\", result)\n",
    "\n",
    "    return result[\"data\"][\"Get\"][collection_name]\n",
    "\n",
    "# STEP 2 - Iterate through the data\n",
    "cursor = None\n",
    "while True:\n",
    "    # Get the next batch of objects\n",
    "    next_batch = get_batch_with_cursor(\"MyCollection\", 100, cursor)\n",
    "\n",
    "    # Break the loop if empty – we are done\n",
    "    if len(next_batch) == 0:\n",
    "        break\n",
    "\n",
    "    # Here is your next batch of objects\n",
    "    print(next_batch)\n",
    "\n",
    "    # Move the cursor to the last returned uuid\n",
    "    cursor=next_batch[-1][\"_additional\"][\"id\"]"
   ]
  },
  {
   "cell_type": "code",
   "execution_count": null,
   "metadata": {},
   "outputs": [],
   "source": [
    "### V4\n",
    "collection = client.collections.get(\"WineReview\")\n",
    "\n",
    "for item in collection.iterator():\n",
    "    print(item.uuid, item.properties)"
   ]
  },
  {
   "cell_type": "markdown",
   "metadata": {},
   "source": [
    "## 读取所有对象，包括向量\n",
    "读取包括向量在内的所有数据。（也适用于使用命名向量的情况。）"
   ]
  },
  {
   "cell_type": "code",
   "execution_count": null,
   "metadata": {},
   "outputs": [],
   "source": [
    "# STEP 1 - Prepare a helper function to iterate through data in batches\n",
    "def get_batch_with_cursor(collection_name, batch_size, cursor=None):\n",
    "    # First prepare the query to run through data\n",
    "    query = (\n",
    "        client.query.get(\n",
    "            collection_name,         # update with your collection name\n",
    "            [\"title\", \"description\"] # update with the required properties\n",
    "        )\n",
    "        .with_additional([\"id vector\"])\n",
    "        .with_limit(batch_size)\n",
    "    )\n",
    "\n",
    "    # Fetch the next set of results\n",
    "    if cursor is not None:\n",
    "        result = query.with_after(cursor).do()\n",
    "    # Fetch the first set of results\n",
    "    else:\n",
    "        result = query.do()\n",
    "\n",
    "    return result[\"data\"][\"Get\"][collection_name]\n",
    "\n",
    "# STEP 2 - Iterate through the data\n",
    "cursor = None\n",
    "while True:\n",
    "    # Get the next batch of objects\n",
    "    next_batch = get_batch_with_cursor(\"CollectionName\", 100, cursor)\n",
    "\n",
    "    # Break the loop if empty – we are done\n",
    "    if len(next_batch) == 0:\n",
    "        break\n",
    "\n",
    "    # Here is your next batch of objects\n",
    "    print(next_batch)\n",
    "\n",
    "    # Move the cursor to the last returned uuid\n",
    "    cursor=next_batch[-1][\"_additional\"][\"id\"]"
   ]
  },
  {
   "cell_type": "code",
   "execution_count": null,
   "metadata": {},
   "outputs": [],
   "source": [
    "### V4\n",
    "\n",
    "collection = client.collections.get(\"WineReview\")\n",
    "\n",
    "for item in collection.iterator(\n",
    "    include_vector=True  # If using named vectors, you can specify ones to include e.g. ['title', 'body'], or True to include all\n",
    "):\n",
    "    print(item.properties)\n",
    "    print(item.vector)"
   ]
  },
  {
   "cell_type": "markdown",
   "metadata": {},
   "source": [
    "## 读取所有对象 - 多租户集合\n",
    "遍历所有租户并读取每个租户的数据。"
   ]
  },
  {
   "cell_type": "code",
   "execution_count": null,
   "metadata": {},
   "outputs": [],
   "source": [
    "# STEP 1 - Prepare a helper function to iterate through data in batches\n",
    "def get_batch_with_cursor(collection_name, tenant_name, batch_size, cursor):\n",
    "    # First prepare the query to run through data\n",
    "    query = (\n",
    "        client.query.get(\n",
    "            collection_name,         # update with your collection name\n",
    "            [\"title\", \"description\"] # update with the required properties\n",
    "        )\n",
    "        .with_tenant(tenant_name)     # tenant name goes here\n",
    "        .with_additional([\"id\"])\n",
    "        .with_limit(batch_size)\n",
    "    )\n",
    "\n",
    "    # Fetch the next set of results\n",
    "    if cursor is not None:\n",
    "        result = query.with_after(cursor).do()\n",
    "    # Fetch the first set of results\n",
    "    else:\n",
    "        result = query.do()\n",
    "\n",
    "    return result[\"data\"][\"Get\"][\"MultiTenancyCollection\"]\n",
    "\n",
    "# Get Tenants\n",
    "tenants = client.schema.get_class_tenants(\n",
    "    class_name=\"MultiTenancyCollection\"  # The class from which the tenants will be retrieved\n",
    ")\n",
    "\n",
    "# STEP 2 - Iterate through Tenants\n",
    "for tenant in tenants:\n",
    "    # Reset the cursor to the beginning\n",
    "    cursor = None\n",
    "    while True:\n",
    "        # Get the next batch of objects\n",
    "        next_batch = get_batch_with_cursor(\"MultiTenancyCollection\", tenant.name, 100, cursor)\n",
    "\n",
    "        # Break the loop if empty – we are done\n",
    "        if len(next_batch) == 0:\n",
    "            break\n",
    "\n",
    "        # Here is your next batch of objects\n",
    "        print(next_batch)\n",
    "\n",
    "        # Move the cursor to the last returned uuid\n",
    "        cursor=next_batch[-1][\"_additional\"][\"id\"]"
   ]
  },
  {
   "cell_type": "code",
   "execution_count": null,
   "metadata": {},
   "outputs": [],
   "source": [
    "multi_collection = client.collections.get(\"WineReviewMT\")\n",
    "\n",
    "# Get a list of tenants\n",
    "tenants = multi_collection.tenants.get()\n",
    "\n",
    "# Iterate through tenants\n",
    "for tenant_name in tenants.keys():\n",
    "    # Iterate through objects within each tenant\n",
    "    for item in multi_collection.with_tenant(tenant_name).iterator():\n",
    "        print(f\"{tenant_name}: {item.properties}\")"
   ]
  },
  {
   "cell_type": "markdown",
   "metadata": {},
   "source": []
  }
 ],
 "metadata": {
  "kernelspec": {
   "display_name": "llm",
   "language": "python",
   "name": "python3"
  },
  "language_info": {
   "codemirror_mode": {
    "name": "ipython",
    "version": 3
   },
   "file_extension": ".py",
   "mimetype": "text/x-python",
   "name": "python",
   "nbconvert_exporter": "python",
   "pygments_lexer": "ipython3",
   "version": "3.11.11"
  }
 },
 "nbformat": 4,
 "nbformat_minor": 2
}
