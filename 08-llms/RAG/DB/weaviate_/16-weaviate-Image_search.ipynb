{
 "cells": [
  {
   "cell_type": "markdown",
   "metadata": {},
   "source": [
    "# 图像搜索 \n",
    "Image搜索使用图像作为搜索输入来执行向量相似性搜索。"
   ]
  },
  {
   "cell_type": "markdown",
   "metadata": {},
   "source": [
    "## 通过本地图片路径\n",
    "使用Near Image运算符执行图像搜索。\n",
    "如果您的查询图像存储在文件中，则可以使用客户端库按文件名进行搜索。"
   ]
  },
  {
   "cell_type": "code",
   "execution_count": null,
   "metadata": {},
   "outputs": [],
   "source": [
    "## V3\n",
    "response = (\n",
    "    client.query\n",
    "    .get(\"Dog\", \"breed\")\n",
    "    .with_near_image({\"image\": \"image.jpg\"})  # default `encode=True` reads & encodes the file\n",
    "    .with_limit(1)\n",
    "    .do()\n",
    ")"
   ]
  },
  {
   "cell_type": "code",
   "execution_count": null,
   "metadata": {},
   "outputs": [],
   "source": [
    "## V4\n",
    "\n",
    "from pathlib import Path\n",
    "\n",
    "dogs = client.collections.get(\"Dog\")\n",
    "response = dogs.query.near_image(\n",
    "    near_image=Path(\"./images/search-image.jpg\"),  # Provide a `Path` object\n",
    "    return_properties=[\"breed\"],\n",
    "    limit=1,\n",
    "    # targetVector: \"vector_name\" # required when using multiple named vectors\n",
    ")\n",
    "\n",
    "print(response.objects[0])\n",
    "\n",
    "client.close()"
   ]
  },
  {
   "cell_type": "markdown",
   "metadata": {},
   "source": [
    "## 通过base64表示\n",
    "您可以通过图像的 base64 表示进行搜索："
   ]
  },
  {
   "cell_type": "code",
   "execution_count": null,
   "metadata": {},
   "outputs": [],
   "source": [
    "## V3\n",
    "\n",
    "base64_string=\"SOME_BASE_64_REPRESENTATION\"\n",
    "\n",
    "# Perform query\n",
    "response = (\n",
    "    client.query\n",
    "    .get(\"Dog\", \"breed\")\n",
    "    .with_near_image(\n",
    "        {\"image\": base64_string},\n",
    "        encode=False  # False because the image is already base64-encoded\n",
    "    )\n",
    "    .with_limit(1)\n",
    "    .do()\n",
    ")\n",
    "\n",
    "print(json.dumps(response, indent=2))"
   ]
  },
  {
   "cell_type": "code",
   "execution_count": null,
   "metadata": {},
   "outputs": [],
   "source": [
    "## V4\n",
    "\n",
    "base64_string=\"SOME_BASE_64_REPRESENTATION\"\n",
    "\n",
    "# Get the collection containing images\n",
    "dogs = client.collections.get(\"Dog\")\n",
    "\n",
    "# Perform query\n",
    "response = dogs.query.near_image(\n",
    "    near_image=base64_string,\n",
    "    return_properties=[\"breed\"],\n",
    "    limit=1,\n",
    "    # targetVector: \"vector_name\" # required when using multiple named vectors\n",
    ")\n",
    "\n",
    "print(response.objects[0])\n",
    "\n",
    "client.close()"
   ]
  },
  {
   "cell_type": "markdown",
   "metadata": {},
   "source": [
    "## 创建在线图像的 base64 表示形式。\n",
    "\n",
    "您可以创建在线图像的 base64 表示形式，并将其用作相似性搜索的输入，如上所示。"
   ]
  },
  {
   "cell_type": "code",
   "execution_count": null,
   "metadata": {},
   "outputs": [],
   "source": [
    "import base64, requests\n",
    "\n",
    "def url_to_base64(url):\n",
    "    image_response = requests.get(url)\n",
    "    content = image_response.content\n",
    "    return base64.b64encode(content).decode(\"utf-8\")\n",
    "\n",
    "base64_img = url_to_base64(\"https://upload.wikimedia.org/wikipedia/commons/thumb/1/14/Deutsches_Museum_Portrait_4.jpg/500px-Deutsches_Museum_Portrait_4.jpg\")\n",
    "\n",
    "client.close()"
   ]
  }
 ],
 "metadata": {
  "language_info": {
   "name": "python"
  }
 },
 "nbformat": 4,
 "nbformat_minor": 2
}
