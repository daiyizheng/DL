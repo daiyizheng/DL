{
 "cells": [
  {
   "cell_type": "markdown",
   "metadata": {},
   "source": [
    "# weaviate操作\n",
    "\n",
    "Weaviate 中的每个对象都只属于一个集合。使用本页上的示例来管理您的集合。\n",
    "\n",
    "       "
   ]
  },
  {
   "cell_type": "code",
   "execution_count": 1,
   "metadata": {},
   "outputs": [],
   "source": [
    "## 测试\n",
    "import weaviate\n",
    "from weaviate.auth import AuthApiKey\n",
    "\n",
    "# 连接到本地部署的 Weaviate\n",
    "client = weaviate.Client(\n",
    "    url=\"http://127.0.0.1:8080\",\n",
    "    auth_client_secret=AuthApiKey(\"WVF5YThaHlkYwhGUSmCRgsX3tD5ngdN8pkih\")\n",
    ")"
   ]
  },
  {
   "cell_type": "code",
   "execution_count": 2,
   "metadata": {},
   "outputs": [
    {
     "data": {
      "text/plain": [
       "True"
      ]
     },
     "execution_count": 2,
     "metadata": {},
     "output_type": "execute_result"
    }
   ],
   "source": [
    "client.is_ready()"
   ]
  },
  {
   "cell_type": "markdown",
   "metadata": {},
   "source": [
    "## 创建集合\n",
    "\n",
    "> Weaviate 遵循 GraphQL 命名约定。             \n",
    "> 集合名称以大写字母开头。          \n",
    "> 属性名称以小写字母开头。              \n",
    "> 如果您使用首字母大写来定义属性名称，Weaviate 会在内部将其更改为小写字母。 "
   ]
  },
  {
   "cell_type": "code",
   "execution_count": 3,
   "metadata": {},
   "outputs": [
    {
     "ename": "AttributeError",
     "evalue": "'Client' object has no attribute 'collections'",
     "output_type": "error",
     "traceback": [
      "\u001b[31m---------------------------------------------------------------------------\u001b[39m",
      "\u001b[31mAttributeError\u001b[39m                            Traceback (most recent call last)",
      "\u001b[36mCell\u001b[39m\u001b[36m \u001b[39m\u001b[32mIn[3]\u001b[39m\u001b[32m, line 11\u001b[39m\n\u001b[32m      6\u001b[39m client.schema.create_class(class_obj)  \u001b[38;5;66;03m# returns null on success\u001b[39;00m\n\u001b[32m      9\u001b[39m \u001b[38;5;66;03m### V4版本\u001b[39;00m\n\u001b[32m---> \u001b[39m\u001b[32m11\u001b[39m \u001b[43mclient\u001b[49m\u001b[43m.\u001b[49m\u001b[43mcollections\u001b[49m.create(\u001b[33m\"\u001b[39m\u001b[33mArticle\u001b[39m\u001b[33m\"\u001b[39m)\n",
      "\u001b[31mAttributeError\u001b[39m: 'Client' object has no attribute 'collections'"
     ]
    }
   ],
   "source": [
    "### V3版本\n",
    "class_name = \"Article\"\n",
    "\n",
    "class_obj = {\"class\": class_name}\n",
    "\n",
    "client.schema.create_class(class_obj)  # returns null on success\n",
    "\n",
    "\n",
    "### V4版本\n",
    "\n",
    "client.collections.create(\"Article\")"
   ]
  },
  {
   "cell_type": "markdown",
   "metadata": {
    "vscode": {
     "languageId": "plaintext"
    }
   },
   "source": [
    "## 创建集合并定义属性\n",
    "属性是集合中的数据字段。每个属性都有一个名称和一个数据类型。"
   ]
  },
  {
   "cell_type": "code",
   "execution_count": null,
   "metadata": {},
   "outputs": [],
   "source": [
    "### V3\n",
    "class_obj = {\n",
    "    \"class\": \"Article\",\n",
    "    \"properties\": [\n",
    "        {\n",
    "            \"name\": \"title\",\n",
    "            \"dataType\": [\"text\"],\n",
    "        },\n",
    "        {\n",
    "            \"name\": \"body\",\n",
    "            \"dataType\": [\"text\"],\n",
    "        },\n",
    "    ],\n",
    "}\n",
    "\n",
    "client.schema.create_class(class_obj)  # returns null on success"
   ]
  },
  {
   "cell_type": "code",
   "execution_count": null,
   "metadata": {},
   "outputs": [],
   "source": [
    "### V4\n",
    "\n",
    "from weaviate.classes.config import Property, DataType\n",
    "\n",
    "# Note that you can use `client.collections.create_from_dict()` to create a collection from a v3-client-style JSON object\n",
    "client.collections.create(\n",
    "    \"Article\",\n",
    "    properties=[\n",
    "        Property(name=\"title\", data_type=DataType.TEXT),\n",
    "        Property(name=\"body\", data_type=DataType.TEXT),\n",
    "    ]\n",
    ")"
   ]
  },
  {
   "cell_type": "markdown",
   "metadata": {},
   "source": [
    "## 向量化器\n",
    "为集合指定一个向量化器"
   ]
  },
  {
   "cell_type": "code",
   "execution_count": null,
   "metadata": {},
   "outputs": [],
   "source": [
    "###V3\n",
    "class_obj = {\n",
    "    \"class\": \"Article\",\n",
    "    \"properties\": [\n",
    "        {\n",
    "            \"name\": \"title\",\n",
    "            \"dataType\": [\"text\"],\n",
    "        },\n",
    "    ],\n",
    "    \"vectorizer\": \"text2vec-openai\"  # this could be any vectorizer\n",
    "}\n",
    "\n",
    "client.schema.create_class(class_obj)"
   ]
  },
  {
   "cell_type": "code",
   "execution_count": null,
   "metadata": {},
   "outputs": [],
   "source": [
    "#### V4\n",
    "from weaviate.classes.config import Configure, Property, DataType\n",
    "\n",
    "client.collections.create(\n",
    "    \"Article\",\n",
    "    vectorizer_config=Configure.Vectorizer.text2vec_openai(),\n",
    "    properties=[  # properties configuration is optional\n",
    "        Property(name=\"title\", data_type=DataType.TEXT),\n",
    "        Property(name=\"body\", data_type=DataType.TEXT),\n",
    "    ]\n",
    ")"
   ]
  },
  {
   "cell_type": "markdown",
   "metadata": {},
   "source": [
    "## 定义命名向量\n",
    "\n",
    "您可以为每个集合定义多个命名向量。这样每个对象都可以由多个向量嵌入表示，每个向量嵌入都有自己的向量索引。\n",
    "因此，每个命名向量配置可以包括其自己的向量器和向量索引设置。"
   ]
  },
  {
   "cell_type": "code",
   "execution_count": null,
   "metadata": {},
   "outputs": [],
   "source": [
    "### V3不支持\n",
    "\n",
    "### V4\n",
    "from weaviate.classes.config import Configure, Property, DataType\n",
    "\n",
    "client.collections.create(\n",
    "    \"ArticleNV\",\n",
    "    vectorizer_config=[\n",
    "        # Set a named vector with the \"text2vec-cohere\" vectorizer\n",
    "        Configure.NamedVectors.text2vec_cohere(\n",
    "            name=\"title\",\n",
    "            source_properties=[\"title\"],                        # (Optional) Set the source property(ies)\n",
    "            vector_index_config=Configure.VectorIndex.hnsw()    # (Optional) Set vector index options\n",
    "        ),\n",
    "        # Set another named vector with the \"text2vec-openai\" vectorizer\n",
    "        Configure.NamedVectors.text2vec_openai(\n",
    "            name=\"title_country\",\n",
    "            source_properties=[\"title\", \"country\"],             # (Optional) Set the source property(ies)\n",
    "            vector_index_config=Configure.VectorIndex.hnsw()    # (Optional) Set vector index options\n",
    "        ),\n",
    "        # Set a named vector for your own uploaded vectors\n",
    "        Configure.NamedVectors.none(\n",
    "            name=\"custom_vector\",\n",
    "            vector_index_config=Configure.VectorIndex.hnsw()    # (Optional) Set vector index options\n",
    "        )\n",
    "    ],\n",
    "    properties=[  # Define properties\n",
    "        Property(name=\"title\", data_type=DataType.TEXT),\n",
    "        Property(name=\"country\", data_type=DataType.TEXT),\n",
    "    ],\n",
    ")"
   ]
  },
  {
   "cell_type": "markdown",
   "metadata": {},
   "source": [
    "## 定义多向量嵌入（如：ColBERT, ColPali）\n",
    "\n",
    "多向量嵌入（又称多向量）是用多个向量（即二维矩阵）来表示一个对象。多向量目前只适用于命名向量的 HNSW 索引。要使用多向量，请为相应的命名向量启用多向量。"
   ]
  },
  {
   "cell_type": "code",
   "execution_count": null,
   "metadata": {},
   "outputs": [],
   "source": [
    "### V4\n",
    "from weaviate.classes.config import Configure, Property, DataType\n",
    "\n",
    "client.collections.create(\n",
    "    \"DemoCollection\",\n",
    "    vectorizer_config=[\n",
    "        # Example 1 - Use a model integration\n",
    "        # The factory function will automatically enable multi-vector support for the HNSW index\n",
    "        Configure.NamedVectors.text2colbert_jinaai(\n",
    "            name=\"jina_colbert\",\n",
    "            source_properties=[\"text\"],\n",
    "        ),\n",
    "        # Example 2 - User-provided multi-vector representations\n",
    "        # Must explicitly enable multi-vector support for the HNSW index\n",
    "        Configure.NamedVectors.none(\n",
    "            name=\"custom_multi_vector\",\n",
    "            vector_index_config=Configure.VectorIndex.hnsw(\n",
    "                multi_vector=Configure.VectorIndex.MultiVector.multi_vector()\n",
    "            ),\n",
    "        ),\n",
    "    ],\n",
    "    properties=[\n",
    "        Property(name=\"text\", data_type=DataType.TEXT)\n",
    "    ]\n",
    "    # Additional parameters not shown\n",
    ")"
   ]
  },
  {
   "cell_type": "markdown",
   "metadata": {},
   "source": [
    "## 指定矢量化器\n",
    "要配置矢量化器如何使用特定集合（即使用什么模型），请设置矢量化器参数。"
   ]
  },
  {
   "cell_type": "code",
   "execution_count": null,
   "metadata": {},
   "outputs": [],
   "source": [
    "### V3\n",
    "class_obj = {\n",
    "    \"class\": \"Article\",\n",
    "    \"vectorizer\": \"text2vec-cohere\",  # this could be any vectorizer\n",
    "    \"moduleConfig\": {\n",
    "        \"text2vec-cohere\": {  # this must match the vectorizer used\n",
    "            \"vectorizeClassName\": True,\n",
    "            \"model\": \"embed-multilingual-v2.0\",\n",
    "        }\n",
    "    }\n",
    "}\n",
    "\n",
    "client.schema.create_class(class_obj)\n",
    "\n"
   ]
  },
  {
   "cell_type": "code",
   "execution_count": null,
   "metadata": {},
   "outputs": [],
   "source": [
    "### V4\n",
    "from weaviate.classes.config import Configure\n",
    "\n",
    "client.collections.create(\n",
    "    \"Article\",\n",
    "    vectorizer_config=Configure.Vectorizer.text2vec_cohere(\n",
    "        model=\"embed-multilingual-v2.0\",\n",
    "        vectorize_collection_name=True\n",
    "    ),\n",
    ")"
   ]
  },
  {
   "cell_type": "markdown",
   "metadata": {},
   "source": [
    "## 设置向量索引类型\n",
    "\n",
    "可以在创建时为每个集合设置向量索引类型，介于`hnsw`、`flat`和`dynamic`索引类型之间。"
   ]
  },
  {
   "cell_type": "code",
   "execution_count": null,
   "metadata": {},
   "outputs": [],
   "source": [
    "## V3\n",
    "class_obj = {\n",
    "    'class': 'Article',\n",
    "    'properties': [\n",
    "        {\n",
    "            'name': 'title',\n",
    "            'dataType': ['text'],\n",
    "        },\n",
    "    ],\n",
    "    'vectorizer': 'text2vec-openai',  # this could be any vectorizer\n",
    "    \"vectorIndexType\": \"hnsw\",  # or \"flat\" or \"dynamic\"\n",
    "}\n",
    "\n",
    "client.schema.create_class(class_obj)"
   ]
  },
  {
   "cell_type": "code",
   "execution_count": null,
   "metadata": {},
   "outputs": [],
   "source": [
    "### V4\n",
    "\n",
    "from weaviate.classes.config import Configure, Property, DataType\n",
    "\n",
    "client.collections.create(\n",
    "    \"Article\",\n",
    "    vectorizer_config=Configure.Vectorizer.text2vec_openai(),\n",
    "    vector_index_config=Configure.VectorIndex.hnsw(),  # Use the HNSW index\n",
    "    # vector_index_config=Configure.VectorIndex.flat(),  # Use the FLAT index\n",
    "    # vector_index_config=Configure.VectorIndex.dynamic(),  # Use the DYNAMIC index\n",
    "    properties=[\n",
    "        Property(name=\"title\", data_type=DataType.TEXT),\n",
    "        Property(name=\"body\", data_type=DataType.TEXT),\n",
    "    ]\n",
    ")"
   ]
  },
  {
   "cell_type": "markdown",
   "metadata": {},
   "source": [
    "## 设置向量索引参数\n",
    "\n",
    "各种矢量索引参数可在创建采集时进行配置，包括压缩和过滤策略。"
   ]
  },
  {
   "cell_type": "code",
   "execution_count": null,
   "metadata": {},
   "outputs": [],
   "source": [
    "### V3\n",
    "class_obj = {\n",
    "    'class': 'Article',\n",
    "    # Additional configuration not shown\n",
    "    \"vectorIndexType\": \"flat\",\n",
    "    \"vectorIndexConfig\": {\n",
    "        \"bq\": {\n",
    "            \"enabled\": True,  # Enable BQ compression. Default: False\n",
    "            \"rescoreLimit\": 200,  # The minimum number of candidates to fetch before rescoring. Default: -1 (No limit)\n",
    "            \"cache\": True,  # Enable use of vector cache. Default: False\n",
    "        },\n",
    "        \"vectorCacheMaxObjects\": 100000,  # Cache size if `cache` enabled. Default: 1000000000000\n",
    "        \"filterStrategy\": \"sweeping\"  # or \"acorn\" (Available from Weaviate v1.27.0)\n",
    "    }\n",
    "}\n",
    "\n",
    "client.schema.create_class(class_obj)\n",
    "\n",
    "\n",
    "\n",
    "### V4\n",
    "\n",
    "from weaviate.classes.config import Configure, Property, DataType, VectorDistances, VectorFilterStrategy\n",
    "\n",
    "client.collections.create(\n",
    "    \"Article\",\n",
    "    # Additional configuration not shown\n",
    "    vector_index_config=Configure.VectorIndex.hnsw(\n",
    "        quantizer=Configure.VectorIndex.Quantizer.bq(),\n",
    "        ef_construction=300,\n",
    "        distance_metric=VectorDistances.COSINE,\n",
    "        filter_strategy=VectorFilterStrategy.SWEEPING  # or ACORN (Available from Weaviate v1.27.0)\n",
    "    ),\n",
    ")"
   ]
  },
  {
   "cell_type": "markdown",
   "metadata": {},
   "source": [
    "## 指定距离度量\n",
    "\n",
    "如果您选择自带矢量，则应指定距离指标"
   ]
  },
  {
   "cell_type": "code",
   "execution_count": null,
   "metadata": {},
   "outputs": [],
   "source": [
    "### V3\n",
    "class_obj = {\n",
    "    \"class\": \"Article\",\n",
    "    \"vectorIndexConfig\": {\n",
    "        \"distance\": \"cosine\",\n",
    "    },\n",
    "}\n",
    "\n",
    "client.schema.create_class(class_obj)\n",
    "\n",
    "### V4\n",
    "\n",
    "from weaviate.classes.config import Configure, VectorDistances\n",
    "\n",
    "client.collections.create(\n",
    "    \"Article\",\n",
    "    vector_index_config=Configure.VectorIndex.hnsw(\n",
    "        distance_metric=VectorDistances.COSINE\n",
    "    ),\n",
    ")"
   ]
  },
  {
   "cell_type": "markdown",
   "metadata": {},
   "source": [
    "## 设置倒排索引参数\n",
    "\n",
    "每个集合都可以配置各种倒排索引参数。一些参数在集合级别设置，而另一些参数在属性级别设置。\n"
   ]
  },
  {
   "cell_type": "code",
   "execution_count": null,
   "metadata": {},
   "outputs": [],
   "source": [
    "### V3\n",
    "\n",
    "class_obj = {\n",
    "    \"class\": \"Article\",\n",
    "    \"vectorizer\": \"text2vec-huggingface\",  # this could be any vectorizer\n",
    "    \"properties\": [\n",
    "        {\n",
    "            \"name\": \"title\",\n",
    "            \"dataType\": [\"text\"],\n",
    "            \"indexFilterable\": True,\n",
    "            \"indexSearchable\": True,\n",
    "            \"moduleConfig\": {\n",
    "                \"text2vec-huggingface\": {}\n",
    "            }\n",
    "        },\n",
    "        {\n",
    "            \"name\": \"chunk\",\n",
    "            \"dataType\": [\"int\"],\n",
    "            \"indexRangeFilters\": True,\n",
    "        },\n",
    "    ],\n",
    "    \"invertedIndexConfig\": {\n",
    "        \"bm25\": {\n",
    "            \"b\": 0.7,\n",
    "            \"k1\": 1.25\n",
    "        },\n",
    "        \"indexTimestamps\": True,\n",
    "        \"indexNullState\": True,\n",
    "        \"indexPropertyLength\": True\n",
    "    }\n",
    "}\n",
    "\n",
    "client.schema.create_class(class_obj)\n",
    "\n"
   ]
  },
  {
   "cell_type": "code",
   "execution_count": null,
   "metadata": {},
   "outputs": [],
   "source": [
    "### V4\n",
    "from weaviate.classes.config import Configure, Property, DataType\n",
    "\n",
    "client.collections.create(\n",
    "    \"Article\",\n",
    "    # Additional settings not shown\n",
    "    properties=[ # properties configuration is optional\n",
    "        Property(\n",
    "            name=\"title\",\n",
    "            data_type=DataType.TEXT,\n",
    "            index_filterable=True,\n",
    "            index_searchable=True,\n",
    "        ),\n",
    "        Property(\n",
    "            name=\"Chunk\",\n",
    "            data_type=DataType.INT,\n",
    "            index_range_filters=True,\n",
    "        ),\n",
    "    ],\n",
    "    inverted_index_config=Configure.inverted_index(  # Optional\n",
    "        bm25_b=0.7,\n",
    "        bm25_k1=1.25,\n",
    "        index_null_state=True,\n",
    "        index_property_length=True,\n",
    "        index_timestamps=True\n",
    "    )\n",
    ")"
   ]
  },
  {
   "cell_type": "markdown",
   "metadata": {},
   "source": [
    "##  指定重新排序模型\n",
    "\n",
    "配置reranker模型集成以对检索到的结果进行重新排序。"
   ]
  },
  {
   "cell_type": "code",
   "execution_count": null,
   "metadata": {},
   "outputs": [],
   "source": [
    "#### V3\n",
    "class_obj = {\n",
    "    \"class\": \"Article\",\n",
    "    \"vectorizer\": \"text2vec-openai\",  # set your vectorizer module\n",
    "    \"moduleConfig\": {\n",
    "        \"reranker-cohere\": {}  # set your reranker module\n",
    "    }\n",
    "}\n",
    "\n",
    "client.schema.create_class(class_obj)\n",
    "\n",
    "### V4\n",
    "from weaviate.classes.config import Configure, Property, DataType\n",
    "\n",
    "client.collections.create(\n",
    "    \"Article\",\n",
    "    vectorizer_config=Configure.Vectorizer.text2vec_openai(),\n",
    "    reranker_config=Configure.Reranker.cohere()\n",
    ")"
   ]
  },
  {
   "cell_type": "markdown",
   "metadata": {},
   "source": [
    "## 更新重新排序模型\n",
    "更新reranker模型集成以对检索到的结果进行重新排序。"
   ]
  },
  {
   "cell_type": "code",
   "execution_count": null,
   "metadata": {},
   "outputs": [],
   "source": [
    "### V3\n",
    "class_obj = {\n",
    "    \"moduleConfig\": {\n",
    "        \"reranker-cohere\": {}  # Update your reranker module\n",
    "    }\n",
    "}\n",
    "\n",
    "client.schema.update_config(\"Article\", class_obj)"
   ]
  },
  {
   "cell_type": "code",
   "execution_count": null,
   "metadata": {},
   "outputs": [],
   "source": [
    "### V4 \n",
    "from weaviate.classes.config import Reconfigure\n",
    "\n",
    "collection = client.collections.get(\"Article\")\n",
    "\n",
    "collection.config.update(\n",
    "    reranker_config=Reconfigure.Reranker.cohere()  # Update the reranker module\n",
    ")"
   ]
  },
  {
   "cell_type": "markdown",
   "metadata": {},
   "source": [
    "## 指定生成模型集成\n",
    "指定一个生成式model_name。"
   ]
  },
  {
   "cell_type": "code",
   "execution_count": null,
   "metadata": {},
   "outputs": [],
   "source": [
    "## V3\n",
    "class_obj = {\n",
    "    \"class\": \"Article\",\n",
    "    \"vectorizer\": \"text2vec-openai\",  # set your vectorizer module\n",
    "    \"moduleConfig\": {\n",
    "        \"generative-openai\": {\n",
    "            \"model\": \"gpt-4\" # select generative model name\n",
    "        }\n",
    "    }\n",
    "}\n",
    "\n",
    "client.schema.create_class(class_obj)\n",
    "\n",
    "\n",
    "### V4\n",
    "\n",
    "from weaviate.classes.config import Configure, Property, DataType\n",
    "\n",
    "client.collections.create(\n",
    "    \"Article\",\n",
    "    vectorizer_config=Configure.Vectorizer.text2vec_openai(),\n",
    "    generative_config=Configure.Generative.openai(\n",
    "        model=\"gpt-4\"\n",
    "    ),\n",
    ")"
   ]
  },
  {
   "cell_type": "markdown",
   "metadata": {},
   "source": [
    "## 更新生成模型\n",
    "更新generative模型集成"
   ]
  },
  {
   "cell_type": "code",
   "execution_count": null,
   "metadata": {},
   "outputs": [],
   "source": [
    "### V3\n",
    "class_obj = {\n",
    "    \"class\": \"Article\",\n",
    "    \"moduleConfig\": {\n",
    "        \"generative-cohere\": {}  # Update your generative module\n",
    "    }\n",
    "}\n",
    "\n",
    "client.schema.update_config(\"Article\", class_obj)"
   ]
  },
  {
   "cell_type": "code",
   "execution_count": null,
   "metadata": {},
   "outputs": [],
   "source": [
    "#### V4\n",
    "from weaviate.classes.config import Reconfigure\n",
    "\n",
    "collection = client.collections.get(\"Article\")\n",
    "\n",
    "collection.config.update(\n",
    "    generative_config=Reconfigure.Generative.cohere()  # Update the generative module\n",
    ")"
   ]
  },
  {
   "cell_type": "markdown",
   "metadata": {},
   "source": [
    "## 复制\n",
    " Weaviate 中v1.25，复制因子一旦设置就无法更改。\n",
    "\n",
    "这是由于中的架构共识算法发生变化v1.25。这将在未来的版本中得到改进。\n",
    "\n"
   ]
  },
  {
   "cell_type": "code",
   "execution_count": null,
   "metadata": {},
   "outputs": [],
   "source": [
    "### V3 \n",
    "\n",
    "class_obj = {\n",
    "    \"class\": \"Article\",\n",
    "    \"replicationConfig\": {\n",
    "        \"factor\": 3,\n",
    "        \"asyncEnabled\": True,\n",
    "        \"deletionStrategy\": \"TimeBasedResolution\"  # Available from Weaviate v1.28.0\n",
    "    },\n",
    "}\n",
    "\n",
    "client.schema.create_class(class_obj)"
   ]
  },
  {
   "cell_type": "code",
   "execution_count": null,
   "metadata": {},
   "outputs": [],
   "source": [
    "### v4\n",
    "from weaviate.classes.config import Configure, ReplicationDeletionStrategy\n",
    "\n",
    "client.collections.create(\n",
    "    \"Article\",\n",
    "    replication_config=Configure.replication(\n",
    "        factor=3,\n",
    "        async_enabled=True,  # Enable asynchronous repair\n",
    "        deletion_strategy=ReplicationDeletionStrategy.TIME_BASED_RESOLUTION,  # Added in v1.28; Set the deletion conflict resolution strategy\n",
    "    )\n",
    ")"
   ]
  },
  {
   "cell_type": "markdown",
   "metadata": {},
   "source": [
    "## 分片\n",
    "\n"
   ]
  },
  {
   "cell_type": "code",
   "execution_count": null,
   "metadata": {},
   "outputs": [],
   "source": [
    "### V3\n",
    "\n",
    "class_obj = {\n",
    "    \"class\": \"Article\",\n",
    "    \"shardingConfig\": {\n",
    "        \"virtualPerPhysical\": 128,\n",
    "        \"desiredCount\": 1,\n",
    "        \"actual_actualCountcount\": 1,\n",
    "        \"desiredVirtualCount\": 128,\n",
    "        \"actualVirtualCount\": 128,\n",
    "    },\n",
    "}\n",
    "\n",
    "client.schema.create_class(class_obj)\n",
    "\n",
    "\n",
    "### V4\n",
    "from weaviate.classes.config import Configure\n",
    "\n",
    "client.collections.create(\n",
    "    \"Article\",\n",
    "    sharding_config=Configure.sharding(\n",
    "        virtual_per_physical=128,\n",
    "        desired_count=1,\n",
    "        desired_virtual_count=128,\n",
    "    )\n",
    ")\n"
   ]
  },
  {
   "cell_type": "markdown",
   "metadata": {},
   "source": [
    "## 多租户\n",
    "创建一个已启用多租户的集合。"
   ]
  },
  {
   "cell_type": "code",
   "execution_count": null,
   "metadata": {},
   "outputs": [],
   "source": [
    "### V3\n",
    "class_obj = {\n",
    "    \"class\": \"Article\",\n",
    "    \"multiTenancyConfig\": {\"enabled\": True}\n",
    "}\n",
    "\n",
    "client.schema.create_class(class_obj)  # returns null on success\n",
    "\n",
    "\n",
    "### V4\n",
    "from weaviate.classes.config import Configure\n",
    "\n",
    "client.collections.create(\n",
    "    \"Article\",\n",
    "    multi_tenancy_config=Configure.multi_tenancy(True)\n",
    ")"
   ]
  },
  {
   "cell_type": "code",
   "execution_count": null,
   "metadata": {},
   "outputs": [],
   "source": []
  },
  {
   "cell_type": "markdown",
   "metadata": {},
   "source": [
    "## 读取所有集合\n",
    "\n",
    "从模式中检索集合定义。"
   ]
  },
  {
   "cell_type": "code",
   "execution_count": 3,
   "metadata": {},
   "outputs": [
    {
     "name": "stdout",
     "output_type": "stream",
     "text": [
      "{\n",
      "  \"class\": \"Test\",\n",
      "  \"invertedIndexConfig\": {\n",
      "    \"bm25\": {\n",
      "      \"b\": 0.75,\n",
      "      \"k1\": 1.2\n",
      "    },\n",
      "    \"cleanupIntervalSeconds\": 60,\n",
      "    \"stopwords\": {\n",
      "      \"additions\": null,\n",
      "      \"preset\": \"en\",\n",
      "      \"removals\": null\n",
      "    }\n",
      "  },\n",
      "  \"properties\": [\n",
      "    {\n",
      "      \"dataType\": [\n",
      "        \"text\"\n",
      "      ],\n",
      "      \"indexFilterable\": true,\n",
      "      \"indexSearchable\": true,\n",
      "      \"name\": \"text\",\n",
      "      \"tokenization\": \"word\"\n",
      "    },\n",
      "    {\n",
      "      \"dataType\": [\n",
      "        \"text\"\n",
      "      ],\n",
      "      \"description\": \"This property was generated by Weaviate's auto-schema feature on Mon Apr  7 06:56:52 2025\",\n",
      "      \"indexFilterable\": true,\n",
      "      \"indexSearchable\": true,\n",
      "      \"name\": \"source\",\n",
      "      \"tokenization\": \"word\"\n",
      "    },\n",
      "    {\n",
      "      \"dataType\": [\n",
      "        \"number\"\n",
      "      ],\n",
      "      \"description\": \"This property was generated by Weaviate's auto-schema feature on Mon Apr  7 06:56:52 2025\",\n",
      "      \"indexFilterable\": true,\n",
      "      \"indexSearchable\": false,\n",
      "      \"name\": \"document_id\"\n",
      "    },\n",
      "    {\n",
      "      \"dataType\": [\n",
      "        \"text\"\n",
      "      ],\n",
      "      \"description\": \"This property was generated by Weaviate's auto-schema feature on Mon Apr  7 06:56:52 2025\",\n",
      "      \"indexFilterable\": true,\n",
      "      \"indexSearchable\": true,\n",
      "      \"name\": \"doc_id\",\n",
      "      \"tokenization\": \"word\"\n",
      "    }\n",
      "  ],\n",
      "  \"replicationConfig\": {\n",
      "    \"factor\": 1\n",
      "  },\n",
      "  \"shardingConfig\": {\n",
      "    \"virtualPerPhysical\": 128,\n",
      "    \"desiredCount\": 1,\n",
      "    \"actualCount\": 1,\n",
      "    \"desiredVirtualCount\": 128,\n",
      "    \"actualVirtualCount\": 128,\n",
      "    \"key\": \"_id\",\n",
      "    \"strategy\": \"hash\",\n",
      "    \"function\": \"murmur3\"\n",
      "  },\n",
      "  \"vectorIndexConfig\": {\n",
      "    \"skip\": false,\n",
      "    \"cleanupIntervalSeconds\": 300,\n",
      "    \"maxConnections\": 64,\n",
      "    \"efConstruction\": 128,\n",
      "    \"ef\": -1,\n",
      "    \"dynamicEfMin\": 100,\n",
      "    \"dynamicEfMax\": 500,\n",
      "    \"dynamicEfFactor\": 8,\n",
      "    \"vectorCacheMaxObjects\": 1000000000000,\n",
      "    \"flatSearchCutoff\": 40000,\n",
      "    \"distance\": \"cosine\",\n",
      "    \"pq\": {\n",
      "      \"enabled\": false,\n",
      "      \"bitCompression\": false,\n",
      "      \"segments\": 0,\n",
      "      \"centroids\": 256,\n",
      "      \"encoder\": {\n",
      "        \"type\": \"kmeans\",\n",
      "        \"distribution\": \"log-normal\"\n",
      "      }\n",
      "    }\n",
      "  },\n",
      "  \"vectorIndexType\": \"hnsw\",\n",
      "  \"vectorizer\": \"none\"\n",
      "}\n"
     ]
    }
   ],
   "source": [
    "### V3\n",
    "import json\n",
    "class_name = \"Test\"\n",
    "\n",
    "response = client.schema.get(class_name)\n",
    "\n",
    "print(json.dumps(response, indent=2))"
   ]
  },
  {
   "cell_type": "code",
   "execution_count": null,
   "metadata": {},
   "outputs": [],
   "source": [
    "### V4\n",
    "\n",
    "articles = client.collections.get(\"Article\")\n",
    "articles_config = articles.config.get()\n",
    "\n",
    "print(articles_config)"
   ]
  },
  {
   "cell_type": "markdown",
   "metadata": {},
   "source": [
    "## 读取所有定义的集合\n",
    "获取数据库模式以检索所有集合定义。"
   ]
  },
  {
   "cell_type": "code",
   "execution_count": 4,
   "metadata": {},
   "outputs": [
    {
     "name": "stdout",
     "output_type": "stream",
     "text": [
      "{\n",
      "  \"classes\": [\n",
      "    {\n",
      "      \"class\": \"Test\",\n",
      "      \"invertedIndexConfig\": {\n",
      "        \"bm25\": {\n",
      "          \"b\": 0.75,\n",
      "          \"k1\": 1.2\n",
      "        },\n",
      "        \"cleanupIntervalSeconds\": 60,\n",
      "        \"stopwords\": {\n",
      "          \"additions\": null,\n",
      "          \"preset\": \"en\",\n",
      "          \"removals\": null\n",
      "        }\n",
      "      },\n",
      "      \"properties\": [\n",
      "        {\n",
      "          \"dataType\": [\n",
      "            \"text\"\n",
      "          ],\n",
      "          \"indexFilterable\": true,\n",
      "          \"indexSearchable\": true,\n",
      "          \"name\": \"text\",\n",
      "          \"tokenization\": \"word\"\n",
      "        },\n",
      "        {\n",
      "          \"dataType\": [\n",
      "            \"text\"\n",
      "          ],\n",
      "          \"description\": \"This property was generated by Weaviate's auto-schema feature on Mon Apr  7 06:56:52 2025\",\n",
      "          \"indexFilterable\": true,\n",
      "          \"indexSearchable\": true,\n",
      "          \"name\": \"source\",\n",
      "          \"tokenization\": \"word\"\n",
      "        },\n",
      "        {\n",
      "          \"dataType\": [\n",
      "            \"number\"\n",
      "          ],\n",
      "          \"description\": \"This property was generated by Weaviate's auto-schema feature on Mon Apr  7 06:56:52 2025\",\n",
      "          \"indexFilterable\": true,\n",
      "          \"indexSearchable\": false,\n",
      "          \"name\": \"document_id\"\n",
      "        },\n",
      "        {\n",
      "          \"dataType\": [\n",
      "            \"text\"\n",
      "          ],\n",
      "          \"description\": \"This property was generated by Weaviate's auto-schema feature on Mon Apr  7 06:56:52 2025\",\n",
      "          \"indexFilterable\": true,\n",
      "          \"indexSearchable\": true,\n",
      "          \"name\": \"doc_id\",\n",
      "          \"tokenization\": \"word\"\n",
      "        }\n",
      "      ],\n",
      "      \"replicationConfig\": {\n",
      "        \"factor\": 1\n",
      "      },\n",
      "      \"shardingConfig\": {\n",
      "        \"virtualPerPhysical\": 128,\n",
      "        \"desiredCount\": 1,\n",
      "        \"actualCount\": 1,\n",
      "        \"desiredVirtualCount\": 128,\n",
      "        \"actualVirtualCount\": 128,\n",
      "        \"key\": \"_id\",\n",
      "        \"strategy\": \"hash\",\n",
      "        \"function\": \"murmur3\"\n",
      "      },\n",
      "      \"vectorIndexConfig\": {\n",
      "        \"skip\": false,\n",
      "        \"cleanupIntervalSeconds\": 300,\n",
      "        \"maxConnections\": 64,\n",
      "        \"efConstruction\": 128,\n",
      "        \"ef\": -1,\n",
      "        \"dynamicEfMin\": 100,\n",
      "        \"dynamicEfMax\": 500,\n",
      "        \"dynamicEfFactor\": 8,\n",
      "        \"vectorCacheMaxObjects\": 1000000000000,\n",
      "        \"flatSearchCutoff\": 40000,\n",
      "        \"distance\": \"cosine\",\n",
      "        \"pq\": {\n",
      "          \"enabled\": false,\n",
      "          \"bitCompression\": false,\n",
      "          \"segments\": 0,\n",
      "          \"centroids\": 256,\n",
      "          \"encoder\": {\n",
      "            \"type\": \"kmeans\",\n",
      "            \"distribution\": \"log-normal\"\n",
      "          }\n",
      "        }\n",
      "      },\n",
      "      \"vectorIndexType\": \"hnsw\",\n",
      "      \"vectorizer\": \"none\"\n",
      "    }\n",
      "  ]\n",
      "}\n"
     ]
    }
   ],
   "source": [
    "response = client.schema.get()\n",
    "\n",
    "print(json.dumps(response, indent=2))"
   ]
  },
  {
   "cell_type": "code",
   "execution_count": null,
   "metadata": {},
   "outputs": [],
   "source": [
    "## V4\n",
    "response = client.collections.list_all(simple=False)\n",
    "\n",
    "print(response)"
   ]
  },
  {
   "cell_type": "markdown",
   "metadata": {},
   "source": [
    "## 更新定义集合\n",
    "您可以更新集合定义来更改可变集合设置。"
   ]
  },
  {
   "cell_type": "code",
   "execution_count": null,
   "metadata": {},
   "outputs": [],
   "source": [
    "### V3\n",
    "class_name = \"Article\"\n",
    "\n",
    "# Update the collection definition\n",
    "collection_def_changes = {\n",
    "    \"class\": class_name,\n",
    "    \"invertedIndexConfig\": {\n",
    "        \"bm25\": {\n",
    "            \"k1\": 1.5  # Change the k1 parameter from 1.2\n",
    "        }\n",
    "    },\n",
    "    \"vectorIndexConfig\": {\n",
    "        \"filterStrategy\": \"acorn\"  #  Available from Weaviate v1.27.0\n",
    "    },\n",
    "    \"replicationConfig\": {\n",
    "        \"deletionStrategy\": \"TimeBasedResolution\"  # Available from Weaviate v1.28.0\n",
    "    }\n",
    "}\n",
    "\n",
    "client.schema.update_config(\"Article\", collection_def_changes)"
   ]
  },
  {
   "cell_type": "code",
   "execution_count": null,
   "metadata": {},
   "outputs": [],
   "source": [
    "### V4\n",
    "from weaviate.classes.config import Reconfigure, VectorFilterStrategy, ReplicationDeletionStrategy\n",
    "\n",
    "articles = client.collections.get(\"Article\")\n",
    "\n",
    "# Update the collection definition\n",
    "articles.config.update(\n",
    "    inverted_index_config=Reconfigure.inverted_index(\n",
    "        bm25_k1=1.5\n",
    "    ),\n",
    "    vector_index_config=Reconfigure.VectorIndex.hnsw(\n",
    "        filter_strategy=VectorFilterStrategy.ACORN  # Available from Weaviate v1.27.0\n",
    "    ),\n",
    "    replication_config=Reconfigure.replication(\n",
    "        deletion_strategy=ReplicationDeletionStrategy.TIME_BASED_RESOLUTION  # Available from Weaviate v1.28.0\n",
    "    )\n",
    ")\n",
    "articles = client.collections.get(\"Article\")\n",
    "\n",
    "article_shards = articles.config.update_shards(\n",
    "    status=\"READY\",\n",
    "    shard_names=shard_names  # The names (List[str]) of the shard to update (or a shard name)\n",
    ")\n",
    "\n",
    "print(article_shards)\n"
   ]
  },
  {
   "cell_type": "markdown",
   "metadata": {},
   "source": [
    "## 更新参数\n",
    "创建收藏夹后，某些参数无法修改。"
   ]
  },
  {
   "cell_type": "code",
   "execution_count": null,
   "metadata": {},
   "outputs": [],
   "source": [
    "### V3\n",
    "class_obj = {\n",
    "    \"invertedIndexConfig\": {\n",
    "      \"stopwords\": {\n",
    "        \"preset\": \"en\",\n",
    "        \"removals\": [\"a\", \"the\"]\n",
    "      },\n",
    "    },\n",
    "}\n",
    "\n",
    "client.schema.update_config(\"Article\", class_obj)\n",
    "class_obj = {\n",
    "    \"invertedIndexConfig\": {\n",
    "      \"stopwords\": {\n",
    "        \"preset\": \"en\",\n",
    "        \"removals\": [\"a\", \"the\"]\n",
    "      },\n",
    "    },\n",
    "}\n",
    "\n",
    "client.schema.update_config(\"Article\", class_obj)"
   ]
  },
  {
   "cell_type": "code",
   "execution_count": null,
   "metadata": {},
   "outputs": [],
   "source": [
    "### V4\n",
    "from weaviate.classes.config import Reconfigure\n",
    "\n",
    "# Get the Article collection object\n",
    "articles = client.collections.get(\"Article\")\n",
    "\n",
    "# Update the collection configuration\n",
    "articles.config.update(\n",
    "    # Note, use Reconfigure here (not Configure)\n",
    "    inverted_index_config=Reconfigure.inverted_index(\n",
    "        stopwords_removals=[\"a\", \"the\"]\n",
    "    )\n",
    ")"
   ]
  },
  {
   "cell_type": "markdown",
   "metadata": {},
   "source": [
    "## 删除集合\n",
    "您可以删除任何不需要的集合以及其中包含的数据。\n"
   ]
  },
  {
   "cell_type": "code",
   "execution_count": null,
   "metadata": {},
   "outputs": [],
   "source": [
    "### V3\n",
    "# delete class \"Article\" - THIS WILL DELETE ALL DATA IN THIS CLASS\n",
    "client.schema.delete_class(\"Article\")  # Replace with your class name"
   ]
  },
  {
   "cell_type": "code",
   "execution_count": null,
   "metadata": {},
   "outputs": [],
   "source": [
    "### V4\n",
    "# collection_name can be a string (\"Article\") or a list of strings ([\"Article\", \"Category\"])\n",
    "client.collections.delete(collection_name)  # THIS WILL DELETE THE SPECIFIED COLLECTION(S) AND THEIR OBJECTS\n",
    "\n",
    "# Note: you can also delete all collections in the Weaviate instance with:\n",
    "# client.collections.delete_all()"
   ]
  },
  {
   "cell_type": "markdown",
   "metadata": {},
   "source": [
    "## 集合添加属性\n",
    "\n",
    "\n"
   ]
  },
  {
   "cell_type": "code",
   "execution_count": null,
   "metadata": {},
   "outputs": [],
   "source": [
    "### V3\n",
    "\n",
    "add_prop = {\n",
    "  \"dataType\": [\n",
    "      \"boolean\"\n",
    "  ],\n",
    "  \"name\": \"onHomepage\"\n",
    "}\n",
    "\n",
    "client.schema.property.create(\"Article\", add_prop)\n"
   ]
  },
  {
   "cell_type": "code",
   "execution_count": null,
   "metadata": {},
   "outputs": [],
   "source": [
    "### V4\n",
    "from weaviate.classes.config import Property, DataType\n",
    "\n",
    "articles = client.collections.get(\"Article\")\n",
    "\n",
    "articles.config.add_property(\n",
    "    Property(\n",
    "        name=\"onHomepage\",\n",
    "        data_type=DataType.BOOL\n",
    "    )\n",
    ")"
   ]
  },
  {
   "cell_type": "markdown",
   "metadata": {},
   "source": [
    "## 检查碎片（用于集合）\n",
    "索引本身可以由多个分片组成。\n",
    "\n"
   ]
  },
  {
   "cell_type": "code",
   "execution_count": 5,
   "metadata": {},
   "outputs": [
    {
     "name": "stdout",
     "output_type": "stream",
     "text": [
      "[{'name': 'hFWnsZHPZvFX', 'status': 'READY'}]\n"
     ]
    }
   ],
   "source": [
    "## V3\n",
    "\n",
    "article_shards = client.schema.get_class_shards(\"Test\")\n",
    "print(article_shards)"
   ]
  },
  {
   "cell_type": "code",
   "execution_count": null,
   "metadata": {},
   "outputs": [],
   "source": [
    "## V4\n",
    "articles = client.collections.get(\"Article\")\n",
    "\n",
    "article_shards = articles.config.get_shards()\n",
    "print(article_shards)"
   ]
  },
  {
   "cell_type": "markdown",
   "metadata": {},
   "source": [
    "## 更新分片状态\n",
    "您可以手动更新分片以更改其状态。例如，在进行其他更改后将分片状态从READONLY更新为READY"
   ]
  },
  {
   "cell_type": "code",
   "execution_count": null,
   "metadata": {},
   "outputs": [],
   "source": [
    "## V3\n",
    "article_shards = client.schema.update_class_shard(\n",
    "  \"Article\",\n",
    "  status=\"READY\",\n",
    "  shard_name=\"shard-1234\"\n",
    ")\n",
    "\n",
    "## V4\n",
    "response = client.collections.list_all(simple=False)\n",
    "\n",
    "print(response)"
   ]
  }
 ],
 "metadata": {
  "kernelspec": {
   "display_name": "llm",
   "language": "python",
   "name": "python3"
  },
  "language_info": {
   "codemirror_mode": {
    "name": "ipython",
    "version": 3
   },
   "file_extension": ".py",
   "mimetype": "text/x-python",
   "name": "python",
   "nbconvert_exporter": "python",
   "pygments_lexer": "ipython3",
   "version": "3.11.11"
  }
 },
 "nbformat": 4,
 "nbformat_minor": 2
}
