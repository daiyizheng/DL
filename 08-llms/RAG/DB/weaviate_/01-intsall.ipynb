{
 "cells": [
  {
   "cell_type": "markdown",
   "metadata": {},
   "source": [
    "# Weaviate 部署\n",
    "\n",
    "1. 简介\n",
    "Weaviate 是一种开源的向量搜索引擎数据库，允许以类属性的方式存储 JSON 文档，并将机器学习向量附加到这些文档上，以在向量空间中表示它们。Weaviate 支持语义搜索、问答提取、分类等功能，并且可以通过 GraphQL-API 轻松访问数据。\n",
    "\n",
    "官网地址：https://weaviate.io/\n"
   ]
  },
  {
   "cell_type": "markdown",
   "metadata": {},
   "source": [
    "## 安装\n",
    "\n",
    "2. 安装 Weaviate\n",
    "从 Docker Hub 下载 Weaviate 的最新镜像：\n",
    "```shell\n",
    "docker pull semitechnologies/weaviate:latest \n",
    "```\n",
    "如果拉取镜像速度较慢，可以尝试替换镜像源。\n",
    "\n",
    "## 运行 Weaviate 容器\n",
    "使用以下命令运行 Weaviate 容器：\n",
    "\n",
    "```shell\n",
    "docker run -d --name weaviate \\\n",
    "    --restart=always \\\n",
    "    -p 8080:8080 \\\n",
    "    -p 50051:50051 \\\n",
    "    -e \"AUTHENTICATION_APIKEY_ENABLED=true\" \\\n",
    "    -e \"AUTHENTICATION_APIKEY_ALLOWED_KEYS=test-secret-key,test2-secret-key\" \\\n",
    "    -e \"AUTHENTICATION_APIKEY_USERS=test@2024.com,test2@2024.com\" \\\n",
    "    -e \"AUTHORIZATION_ADMINLIST_ENABLED=true\" \\\n",
    "    -e \"AUTHORIZATION_ADMINLIST_USERS=test@2024.com\" \\\n",
    "    -e \"AUTHORIZATION_ADMINLIST_READONLY_USERS=test2@2024.com\" \\\n",
    "    -e WEAVIATE_HOSTNAME=0.0.0.0 \\\n",
    "    semitechnologies/weaviate:latest\n",
    "```\n",
    "\n",
    "参数说明\n",
    "`-d`: 让容器在后台运行。\n",
    "`--name weaviate`: 给容器命名为weaviate。\n",
    "`--restart=always`: 配置容器在宿主机重启后自动启动。\n",
    "`-p 8080:8080`: 将容器内的 8080 端口映射到宿主机的 8080 端口。\n",
    "`-p 50051:50051`: 将容器内的 50051 端口映射到宿主机的 50051 端口。\n",
    "`-e \"AUTHENTICATION_APIKEY_ENABLED=true\"`: 启用 API 密钥认证功能。\n",
    "`-e \"AUTHENTICATION_APIKEY_ALLOWED_KEYS=test-secret-key,test2-secret-key\"`: 指定允许使用的 API 密钥列表。\n",
    "`-e \"AUTHENTICATION_APIKEY_USERS=test@2024.com,test2@2024.com\"`: 关联密钥与用户邮箱。\n",
    "`-e \"AUTHORIZATION_ADMINLIST_ENABLED=true\"`: 开启管理员列表授权。\n",
    "`-e \"AUTHORIZATION_ADMINLIST_USERS=test@2024.com\"`: 指定管理员列表中的用户。\n",
    "`-e \"AUTHORIZATION_ADMINLIST_READONLY_USERS=test2@2024.com\"`: 指定只读权限的用户列表。\n",
    "`-e WEAVIATE_HOSTNAME=0.0.0.0`: 设置 Weaviate 的主机名，监听所有可用网络接口。\n",
    "`semitechnologies/weaviate:latest`: 指定要从 Docker Hub 下载并运行的 Weaviate 镜像的最新版本。\n",
    "\n",
    "\n",
    "\n",
    "\n"
   ]
  },
  {
   "cell_type": "markdown",
   "metadata": {},
   "source": []
  }
 ],
 "metadata": {
  "language_info": {
   "name": "python"
  }
 },
 "nbformat": 4,
 "nbformat_minor": 2
}
