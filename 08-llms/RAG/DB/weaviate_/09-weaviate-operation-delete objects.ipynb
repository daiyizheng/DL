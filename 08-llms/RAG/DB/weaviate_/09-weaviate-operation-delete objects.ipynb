{
 "cells": [
  {
   "cell_type": "markdown",
   "metadata": {},
   "source": [
    "#  删除\n",
    "Weaviate 允许通过 ID 或一组标准删除对象。"
   ]
  },
  {
   "cell_type": "code",
   "execution_count": 1,
   "metadata": {},
   "outputs": [],
   "source": [
    "import json\n",
    "import weaviate\n",
    "from weaviate.auth import AuthApiKey\n",
    "\n",
    "# 连接到本地部署的 Weaviate\n",
    "client = weaviate.Client(\n",
    "    url=\"http://127.0.0.1:8080\",\n",
    "    auth_client_secret=AuthApiKey(\"WVF5YThaHlkYwhGUSmCRgsX3tD5ngdN8pkih\")\n",
    ")"
   ]
  },
  {
   "cell_type": "markdown",
   "metadata": {},
   "source": [
    "## 根据 ID 删除对象\n",
    "要通过 id 删除，请指定集合名称和对象 id。"
   ]
  },
  {
   "cell_type": "code",
   "execution_count": null,
   "metadata": {},
   "outputs": [],
   "source": [
    "## V3\n",
    "uuid_to_delete = \"...\"  # replace with the id of the object you want to delete\n",
    "\n",
    "client.data_object.delete(\n",
    "    uuid=uuid_to_delete,\n",
    "    class_name=\"EphemeralObject\",  # Class of the object to be deleted\n",
    ")"
   ]
  },
  {
   "cell_type": "code",
   "execution_count": null,
   "metadata": {},
   "outputs": [],
   "source": [
    "## V4\n",
    "uuid_to_delete = \"...\"  # replace with the id of the object you want to delete\n",
    "\n",
    "collection = client.collections.get(\"EphemeralObject\")\n",
    "collection.data.delete_by_id(\n",
    "    uuid_to_delete\n",
    ")"
   ]
  },
  {
   "cell_type": "markdown",
   "metadata": {},
   "source": [
    "## 删除多个对象\n",
    "要删除符合一组条件的对象，请指定集合和where过滤器。"
   ]
  },
  {
   "cell_type": "code",
   "execution_count": null,
   "metadata": {},
   "outputs": [],
   "source": [
    "## V3\n",
    "client.batch.delete_objects(\n",
    "    class_name=\"EphemeralObject\",\n",
    "    where={\n",
    "        \"path\": [\"name\"],\n",
    "        \"operator\": \"Like\",\n",
    "        \"valueText\": \"EphemeralObject*\"\n",
    "    },\n",
    ")\n"
   ]
  },
  {
   "cell_type": "code",
   "execution_count": null,
   "metadata": {},
   "outputs": [],
   "source": [
    "## V4\n",
    "from weaviate.classes.query import Filter\n",
    "\n",
    "collection = client.collections.get(\"EphemeralObject\")\n",
    "collection.data.delete_many(\n",
    "    where=Filter.by_property(\"name\").like(\"EphemeralObject*\")\n",
    ")"
   ]
  },
  {
   "cell_type": "markdown",
   "metadata": {},
   "source": [
    "### 包含任何/包含全部\n",
    "使用ContainsAny/ContainsAll过滤器根据一组标准删除对象。"
   ]
  },
  {
   "cell_type": "code",
   "execution_count": null,
   "metadata": {},
   "outputs": [],
   "source": [
    "client.batch.delete_objects(\n",
    "    class_name=\"EphemeralObject\",\n",
    "    where={\n",
    "        \"path\": [\"name\"],\n",
    "        \"operator\": \"ContainsAny\",\n",
    "        \"valueTextArray\": [\"asia\", \"europe\"]  # Note the array syntax\n",
    "    },\n",
    ")"
   ]
  },
  {
   "cell_type": "code",
   "execution_count": null,
   "metadata": {},
   "outputs": [],
   "source": [
    "from weaviate.classes.query import Filter\n",
    "\n",
    "collection = client.collections.get(\"EphemeralObject\")\n",
    "collection.data.delete_many(\n",
    "    where=Filter.by_property(\"name\").contains_any([\"europe\", \"asia\"])\n",
    ")"
   ]
  },
  {
   "cell_type": "markdown",
   "metadata": {},
   "source": [
    "## 根据 id 删除多个对象\n",
    "要根据 ID 值删除多个对象，请使用基于标准ContainsAny的过滤器（例如id） "
   ]
  },
  {
   "cell_type": "code",
   "execution_count": null,
   "metadata": {},
   "outputs": [],
   "source": [
    "### V3\n",
    "client.batch.delete_objects(\n",
    "    class_name=\"EphemeralObject\",\n",
    "    where={\n",
    "        \"path\": [\"id\"],\n",
    "        \"operator\": \"ContainsAny\",\n",
    "        \"valueTextArray\": [\"12c88739-7a4e-49fd-bf53-d6a829ba0261\", \"3022b8be-a6dd-4ef4-b213-821f65cee53b\", \"30de68c1-dd53-4bed-86ea-915f34faea63\"]  # Note the array syntax\n",
    "    },\n",
    ")"
   ]
  },
  {
   "cell_type": "code",
   "execution_count": null,
   "metadata": {},
   "outputs": [],
   "source": [
    "from weaviate.classes.query import Filter\n",
    "\n",
    "collection = client.collections.get(\"EphemeralObject\")\n",
    "\n",
    "response = collection.query.fetch_objects(limit=3)  # Fetch 3 object IDs\n",
    "ids = [o.uuid for o in response.objects]  # These can be lists of strings, or `UUID` objects\n",
    "\n",
    "collection.data.delete_many(\n",
    "    where=Filter.by_id().contains_any(ids)  # Delete the 3 objects\n",
    ")"
   ]
  },
  {
   "cell_type": "markdown",
   "metadata": {},
   "source": [
    "## 删除所有对象\n",
    "\n"
   ]
  },
  {
   "cell_type": "markdown",
   "metadata": {},
   "source": [
    "###  可选参数\n",
    "您可以使用它dryRun来检查有多少个对象将被删除，而无需实际执行删除操作。\n",
    "设置output为'verbose'以查看每次删除的更多详细信息（ID 和删除状态）。"
   ]
  },
  {
   "cell_type": "code",
   "execution_count": 2,
   "metadata": {},
   "outputs": [
    {
     "ename": "UnexpectedStatusCodeException",
     "evalue": "Delete in batch! Unexpected status code: 422, with response body: {'error': [{'message': \"validate: class: EphemeralObject doesn't exist\"}]}.",
     "output_type": "error",
     "traceback": [
      "\u001b[31m---------------------------------------------------------------------------\u001b[39m",
      "\u001b[31mUnexpectedStatusCodeException\u001b[39m             Traceback (most recent call last)",
      "\u001b[36mCell\u001b[39m\u001b[36m \u001b[39m\u001b[32mIn[2]\u001b[39m\u001b[32m, line 3\u001b[39m\n\u001b[32m      1\u001b[39m \u001b[38;5;66;03m## V3\u001b[39;00m\n\u001b[32m      2\u001b[39m result = (\n\u001b[32m----> \u001b[39m\u001b[32m3\u001b[39m     \u001b[43mclient\u001b[49m\u001b[43m.\u001b[49m\u001b[43mbatch\u001b[49m\u001b[43m.\u001b[49m\u001b[43mdelete_objects\u001b[49m\u001b[43m(\u001b[49m\n\u001b[32m      4\u001b[39m \u001b[43m        \u001b[49m\u001b[43mclass_name\u001b[49m\u001b[43m=\u001b[49m\u001b[33;43m\"\u001b[39;49m\u001b[33;43mEphemeralObject\u001b[39;49m\u001b[33;43m\"\u001b[39;49m\u001b[43m,\u001b[49m\n\u001b[32m      5\u001b[39m \u001b[43m        \u001b[49m\u001b[38;5;66;43;03m# Same `where` filter as in the GraphQL API\u001b[39;49;00m\n\u001b[32m      6\u001b[39m \u001b[43m        \u001b[49m\u001b[43mwhere\u001b[49m\u001b[43m=\u001b[49m\u001b[43m{\u001b[49m\n\u001b[32m      7\u001b[39m \u001b[43m            \u001b[49m\u001b[33;43m\"\u001b[39;49m\u001b[33;43mpath\u001b[39;49m\u001b[33;43m\"\u001b[39;49m\u001b[43m:\u001b[49m\u001b[43m \u001b[49m\u001b[43m[\u001b[49m\u001b[33;43m\"\u001b[39;49m\u001b[33;43mname\u001b[39;49m\u001b[33;43m\"\u001b[39;49m\u001b[43m]\u001b[49m\u001b[43m,\u001b[49m\n\u001b[32m      8\u001b[39m \u001b[43m            \u001b[49m\u001b[33;43m\"\u001b[39;49m\u001b[33;43moperator\u001b[39;49m\u001b[33;43m\"\u001b[39;49m\u001b[43m:\u001b[49m\u001b[43m \u001b[49m\u001b[33;43m\"\u001b[39;49m\u001b[33;43mLike\u001b[39;49m\u001b[33;43m\"\u001b[39;49m\u001b[43m,\u001b[49m\n\u001b[32m      9\u001b[39m \u001b[43m            \u001b[49m\u001b[33;43m\"\u001b[39;49m\u001b[33;43mvalueText\u001b[39;49m\u001b[33;43m\"\u001b[39;49m\u001b[43m:\u001b[49m\u001b[43m \u001b[49m\u001b[33;43m\"\u001b[39;49m\u001b[33;43mEphemeralObject*\u001b[39;49m\u001b[33;43m\"\u001b[39;49m\n\u001b[32m     10\u001b[39m \u001b[43m        \u001b[49m\u001b[43m}\u001b[49m\u001b[43m,\u001b[49m\n\u001b[32m     11\u001b[39m \u001b[43m        \u001b[49m\u001b[43mdry_run\u001b[49m\u001b[43m=\u001b[49m\u001b[38;5;28;43;01mTrue\u001b[39;49;00m\u001b[43m,\u001b[49m\n\u001b[32m     12\u001b[39m \u001b[43m        \u001b[49m\u001b[43moutput\u001b[49m\u001b[43m=\u001b[49m\u001b[33;43m\"\u001b[39;49m\u001b[33;43mverbose\u001b[39;49m\u001b[33;43m\"\u001b[39;49m\n\u001b[32m     13\u001b[39m \u001b[43m    \u001b[49m\u001b[43m)\u001b[49m\n\u001b[32m     14\u001b[39m )\n\u001b[32m     16\u001b[39m \u001b[38;5;28;01mimport\u001b[39;00m\u001b[38;5;250m \u001b[39m\u001b[34;01mjson\u001b[39;00m\n\u001b[32m     17\u001b[39m \u001b[38;5;28mprint\u001b[39m(json.dumps(result, indent=\u001b[32m2\u001b[39m))\n",
      "\u001b[36mFile \u001b[39m\u001b[32m/opt/anaconda3/envs/llm/lib/python3.11/site-packages/weaviate/batch/crud_batch.py:1267\u001b[39m, in \u001b[36mBatch.delete_objects\u001b[39m\u001b[34m(self, class_name, where, output, dry_run)\u001b[39m\n\u001b[32m   1265\u001b[39m \u001b[38;5;28;01mif\u001b[39;00m response.status_code == \u001b[32m200\u001b[39m:\n\u001b[32m   1266\u001b[39m     \u001b[38;5;28;01mreturn\u001b[39;00m response.json()\n\u001b[32m-> \u001b[39m\u001b[32m1267\u001b[39m \u001b[38;5;28;01mraise\u001b[39;00m UnexpectedStatusCodeException(\u001b[33m\"\u001b[39m\u001b[33mDelete in batch\u001b[39m\u001b[33m\"\u001b[39m, response)\n",
      "\u001b[31mUnexpectedStatusCodeException\u001b[39m: Delete in batch! Unexpected status code: 422, with response body: {'error': [{'message': \"validate: class: EphemeralObject doesn't exist\"}]}."
     ]
    }
   ],
   "source": [
    "## V3\n",
    "result = (\n",
    "    client.batch.delete_objects(\n",
    "        class_name=\"EphemeralObject\",\n",
    "        # Same `where` filter as in the GraphQL API\n",
    "        where={\n",
    "            \"path\": [\"name\"],\n",
    "            \"operator\": \"Like\",\n",
    "            \"valueText\": \"EphemeralObject*\"\n",
    "        },\n",
    "        dry_run=True,\n",
    "        output=\"verbose\"\n",
    "    )\n",
    ")\n",
    "\n",
    "import json\n",
    "print(json.dumps(result, indent=2))"
   ]
  },
  {
   "cell_type": "code",
   "execution_count": null,
   "metadata": {},
   "outputs": [],
   "source": [
    "### V4\n",
    "from weaviate.classes.query import Filter\n",
    "\n",
    "collection = client.collections.get(\"EphemeralObject\")\n",
    "result = collection.data.delete_many(\n",
    "    where=Filter.by_property(\"name\").like(\"EphemeralObject*\"),\n",
    "    dry_run=True,\n",
    "    verbose=True\n",
    ")\n",
    "\n",
    "print(result)"
   ]
  }
 ],
 "metadata": {
  "kernelspec": {
   "display_name": "llm",
   "language": "python",
   "name": "python3"
  },
  "language_info": {
   "codemirror_mode": {
    "name": "ipython",
    "version": 3
   },
   "file_extension": ".py",
   "mimetype": "text/x-python",
   "name": "python",
   "nbconvert_exporter": "python",
   "pygments_lexer": "ipython3",
   "version": "3.11.11"
  }
 },
 "nbformat": 4,
 "nbformat_minor": 2
}
