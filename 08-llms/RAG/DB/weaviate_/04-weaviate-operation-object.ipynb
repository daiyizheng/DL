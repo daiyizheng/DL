{
 "cells": [
  {
   "cell_type": "markdown",
   "metadata": {},
   "source": [
    "# 对象\n",
    "本页上的示例演示了如何在 Weaviate 中创建单个对象。\n"
   ]
  },
  {
   "cell_type": "code",
   "execution_count": 7,
   "metadata": {},
   "outputs": [],
   "source": [
    "## 测试\n",
    "import json\n",
    "import weaviate\n",
    "from weaviate.auth import AuthApiKey\n",
    "\n",
    "# 连接到本地部署的 Weaviate\n",
    "client = weaviate.Client(\n",
    "    url=\"http://127.0.0.1:8080\",\n",
    "    auth_client_secret=AuthApiKey(\"WVF5YThaHlkYwhGUSmCRgsX3tD5ngdN8pkih\")\n",
    ")"
   ]
  },
  {
   "cell_type": "code",
   "execution_count": 2,
   "metadata": {},
   "outputs": [
    {
     "name": "stdout",
     "output_type": "stream",
     "text": [
      "fccecc40-85ef-44af-ae99-89274babd763\n"
     ]
    }
   ],
   "source": [
    "##V3\n",
    "\n",
    "uuid = client.data_object.create(\n",
    "    class_name=\"JeopardyQuestion\",\n",
    "    data_object={\n",
    "        \"question\": \"This vector DB is OSS & supports automatic property type inference on import\",\n",
    "        # \"answer\": \"Weaviate\",  # schema properties can be omitted\n",
    "        \"newProperty\": 123,  # will be automatically added as a number property\n",
    "    }\n",
    ")\n",
    "\n",
    "print(uuid)  # the return value is the object's UUID"
   ]
  },
  {
   "cell_type": "code",
   "execution_count": null,
   "metadata": {},
   "outputs": [],
   "source": [
    "### V4\n",
    "jeopardy = client.collections.get(\"JeopardyQuestion\")\n",
    "\n",
    "uuid = jeopardy.data.insert({\n",
    "    \"question\": \"This vector DB is OSS & supports automatic property type inference on import\",\n",
    "    # \"answer\": \"Weaviate\",  # properties can be omitted\n",
    "    \"newProperty\": 123,  # will be automatically added as a number property\n",
    "})\n",
    "\n",
    "print(uuid)  # the return value is the object's UUID"
   ]
  },
  {
   "cell_type": "markdown",
   "metadata": {},
   "source": [
    "## 创建具有指定向量\n",
    "创建对象时，您可以提供一个向量。（有关指定多个命名向量，请参阅下文。）"
   ]
  },
  {
   "cell_type": "code",
   "execution_count": 3,
   "metadata": {},
   "outputs": [
    {
     "name": "stdout",
     "output_type": "stream",
     "text": [
      "3e8346aa-0c95-433b-8fb3-32aac342f8c0\n"
     ]
    }
   ],
   "source": [
    "uuid = client.data_object.create(\n",
    "    class_name=\"JeopardyQuestion\",\n",
    "    data_object={\n",
    "        \"question\": \"This vector DB is OSS and supports automatic property type inference on import\",\n",
    "        \"answer\": \"Weaviate\",\n",
    "    },\n",
    "    vector=[0.12345] * 1536\n",
    ")\n",
    "\n",
    "print(uuid)  # the return value is the object's UUID"
   ]
  },
  {
   "cell_type": "code",
   "execution_count": null,
   "metadata": {},
   "outputs": [],
   "source": [
    "### V4\n",
    "jeopardy = client.collections.get(\"JeopardyQuestion\")\n",
    "uuid = jeopardy.data.insert(\n",
    "    properties={\n",
    "        \"question\": \"This vector DB is OSS and supports automatic property type inference on import\",\n",
    "        \"answer\": \"Weaviate\",\n",
    "    },\n",
    "    vector=[0.12345] * 1536\n",
    ")\n",
    "\n",
    "print(uuid)  # the return value is the object's UUID"
   ]
  },
  {
   "cell_type": "markdown",
   "metadata": {},
   "source": [
    "## 创建具有命名向量\n",
    "当你创建一个对象时，你可以指定命名向量（如果在你的集合中配置了）。"
   ]
  },
  {
   "cell_type": "code",
   "execution_count": null,
   "metadata": {},
   "outputs": [],
   "source": [
    "### v3不支持\n",
    "### V4\n",
    "\n",
    "reviews = client.collections.get(\"WineReviewNV\")  # This collection must have named vectors configured\n",
    "uuid = reviews.data.insert(\n",
    "    properties={\n",
    "        \"title\": \"A delicious Riesling\",\n",
    "        \"review_body\": \"This wine is a delicious Riesling which pairs well with seafood.\",\n",
    "        \"country\": \"Germany\",\n",
    "    },\n",
    "    # Specify the named vectors, following the collection definition\n",
    "    vector={\n",
    "        \"title\": [0.12345] * 1536,\n",
    "        \"review_body\": [0.31313] * 1536,\n",
    "        \"title_country\": [0.05050] * 1536,\n",
    "    }\n",
    ")\n",
    "\n",
    "print(uuid)  # the return value is the object's UUID"
   ]
  },
  {
   "cell_type": "markdown",
   "metadata": {},
   "source": [
    "## 创建具有指定ID\n"
   ]
  },
  {
   "cell_type": "code",
   "execution_count": 4,
   "metadata": {},
   "outputs": [],
   "source": [
    "##V3\n",
    "uuid = client.data_object.create(\n",
    "    class_name=\"JeopardyQuestion\",\n",
    "    data_object={\n",
    "        \"question\": \"This vector DB is OSS and supports automatic property type inference on import\",\n",
    "        \"answer\": \"Weaviate\",\n",
    "    },\n",
    "    uuid=\"12345678-e64f-5d94-90db-c8cfa3fc1234\"\n",
    ")"
   ]
  },
  {
   "cell_type": "code",
   "execution_count": 5,
   "metadata": {},
   "outputs": [
    {
     "data": {
      "text/plain": [
       "'12345678-e64f-5d94-90db-c8cfa3fc1234'"
      ]
     },
     "execution_count": 5,
     "metadata": {},
     "output_type": "execute_result"
    }
   ],
   "source": [
    "uuid"
   ]
  },
  {
   "cell_type": "code",
   "execution_count": null,
   "metadata": {},
   "outputs": [],
   "source": [
    "### V4\n",
    "properties = {\n",
    "    \"question\": \"This vector DB is OSS and supports automatic property type inference on import\",\n",
    "    \"answer\": \"Weaviate\",\n",
    "}\n",
    "jeopardy = client.collections.get(\"JeopardyQuestion\")\n",
    "uuid = jeopardy.data.insert(\n",
    "    properties=properties,\n",
    "    uuid=\"12345678-e64f-5d94-90db-c8cfa3fc1234\"\n",
    ")\n",
    "\n",
    "print(uuid)  # the return value is the object's UUID"
   ]
  },
  {
   "cell_type": "markdown",
   "metadata": {},
   "source": [
    "## 生成确定性ID\n",
    "您可以根据您的数据对象生成一个 ID。\n",
    "> 对象 ID 不是随机生成的。相同的值始终会生成相同的 ID。\n",
    "> 如果您提供重复的 ID，Weaviate 会抛出错误。使用确定性 ID 可避免插入重复的对象。\n",
    "\n"
   ]
  },
  {
   "cell_type": "code",
   "execution_count": 6,
   "metadata": {},
   "outputs": [
    {
     "name": "stdout",
     "output_type": "stream",
     "text": [
      "c9f915f8-8449-5c86-ad95-5497f1b7886c\n"
     ]
    }
   ],
   "source": [
    "from weaviate.util import generate_uuid5  # Generate a deterministic ID\n",
    "\n",
    "data_object = {\n",
    "    \"question\": \"This vector DB is OSS and supports automatic property type inference on import\",\n",
    "    \"answer\": \"Weaviate\",\n",
    "}\n",
    "uuid = client.data_object.create(\n",
    "    class_name=\"JeopardyQuestion\",\n",
    "    data_object=data_object,\n",
    "    uuid=generate_uuid5(data_object),\n",
    ")\n",
    "print(uuid)"
   ]
  },
  {
   "cell_type": "code",
   "execution_count": null,
   "metadata": {},
   "outputs": [],
   "source": [
    "### V4\n",
    "from weaviate.util import generate_uuid5  # Generate a deterministic ID\n",
    "\n",
    "data_object = {\n",
    "    \"question\": \"This vector DB is OSS and supports automatic property type inference on import\",\n",
    "    \"answer\": \"Weaviate\",\n",
    "}\n",
    "\n",
    "jeopardy = client.collections.get(\"JeopardyQuestion\")\n",
    "uuid = jeopardy.data.insert(\n",
    "    properties=data_object,\n",
    "    uuid=generate_uuid5(data_object),\n",
    ")"
   ]
  },
  {
   "cell_type": "markdown",
   "metadata": {},
   "source": [
    "## 创建具有交叉引用的对象\n",
    "您可以创建一个与其他对象交叉引用的对象。"
   ]
  },
  {
   "cell_type": "code",
   "execution_count": null,
   "metadata": {},
   "outputs": [],
   "source": [
    "# data_obj is a dictionary with the object's properties\n",
    "data_obj[\"hasCategory\"] = [  # Add one or more cross-references through the \"hasCategory\" property\n",
    "    {\"beacon\": f\"weaviate://localhost/JeopardyCategory/{category_uuid}\"}\n",
    "]\n",
    "\n",
    "data_uuid = client.data_object.create(\n",
    "    data_obj,\n",
    "    \"JeopardyQuestion\",\n",
    ")\n",
    "\n",
    "\n",
    "###V4\n",
    "questions = client.collections.get(\"JeopardyQuestion\")\n",
    "\n",
    "questions.data.insert(\n",
    "    properties=properties,  # A dictionary with the properties of the object\n",
    "    uuid=obj_uuid,  # The UUID of the object\n",
    "    references={\"hasCategory\": category_uuid},  # e.g. {\"hasCategory\": \"583876f3-e293-5b5b-9839-03f455f14575\"}\n",
    ")"
   ]
  },
  {
   "cell_type": "markdown",
   "metadata": {},
   "source": [
    "## 创建前验证对象\n",
    "在创建对象之前，您可以根据集合定义来验证它。"
   ]
  },
  {
   "cell_type": "code",
   "execution_count": 8,
   "metadata": {},
   "outputs": [
    {
     "name": "stdout",
     "output_type": "stream",
     "text": [
      "{\n",
      "  \"error\": [\n",
      "    {\n",
      "      \"message\": \"invalid object: no such prop with name 'thisPropShouldNotEndUpInTheSchema' found in class 'JeopardyQuestion' in the schema. Check your schema files for which properties in this class are available\"\n",
      "    }\n",
      "  ],\n",
      "  \"valid\": false\n",
      "}\n"
     ]
    }
   ],
   "source": [
    "result = client.data_object.validate(\n",
    "    class_name=\"JeopardyQuestion\",\n",
    "    data_object={\n",
    "      \"question\": \"This vector DB is open-source and supports auto-schema\",\n",
    "      \"answer\": \"Weaviate\",\n",
    "      \"thisPropShouldNotEndUpInTheSchema\": -1,\n",
    "    },\n",
    "    uuid=\"12345678-1234-1234-1234-123456789012\",\n",
    ")\n",
    "\n",
    "# \"invalid object: no such prop with name \"thisPropShouldNotEndUpInTheSchema\" found...\"\n",
    "print(json.dumps(result, indent=2))\n",
    "\n",
    "## V4 不支持"
   ]
  },
  {
   "cell_type": "markdown",
   "metadata": {},
   "source": [
    "## 多个向量嵌入（命名向量）\n",
    "> 在 v1.24.0 中添加             \n",
    "> Weaviate 集合支持多个命名向量。"
   ]
  },
  {
   "cell_type": "markdown",
   "metadata": {},
   "source": []
  }
 ],
 "metadata": {
  "kernelspec": {
   "display_name": "llm",
   "language": "python",
   "name": "python3"
  },
  "language_info": {
   "codemirror_mode": {
    "name": "ipython",
    "version": 3
   },
   "file_extension": ".py",
   "mimetype": "text/x-python",
   "name": "python",
   "nbconvert_exporter": "python",
   "pygments_lexer": "ipython3",
   "version": "3.11.11"
  }
 },
 "nbformat": 4,
 "nbformat_minor": 2
}
