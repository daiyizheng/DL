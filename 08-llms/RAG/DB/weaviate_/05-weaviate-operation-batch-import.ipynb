{
 "cells": [
  {
   "cell_type": "markdown",
   "metadata": {},
   "source": [
    "# 批量导入\n",
    " "
   ]
  },
  {
   "cell_type": "code",
   "execution_count": 1,
   "metadata": {},
   "outputs": [],
   "source": [
    "## 测试\n",
    "import json\n",
    "import weaviate\n",
    "from weaviate.auth import AuthApiKey\n",
    "\n",
    "# 连接到本地部署的 Weaviate\n",
    "client = weaviate.Client(\n",
    "    url=\"http://127.0.0.1:8080\",\n",
    "    auth_client_secret=AuthApiKey(\"WVF5YThaHlkYwhGUSmCRgsX3tD5ngdN8pkih\")\n",
    ")"
   ]
  },
  {
   "cell_type": "markdown",
   "metadata": {},
   "source": [
    "## 基础导入\n",
    "下面的示例将对象添加到MyCollection集合中。"
   ]
  },
  {
   "cell_type": "code",
   "execution_count": 2,
   "metadata": {},
   "outputs": [],
   "source": [
    "class_name = \"MyCollection\"  # Replace with your class name\n",
    "data_objs = [\n",
    "    {\"title\": f\"Object {i+1}\"} for i in range(5)\n",
    "]\n",
    "client.batch.configure(batch_size=100)  # Configure batch\n",
    "with client.batch as batch:\n",
    "    for data_obj in data_objs:\n",
    "        batch.add_data_object(\n",
    "            data_obj,\n",
    "            class_name,\n",
    "            # tenant=\"tenantA\"  # If multi-tenancy is enabled, specify the tenant to which the object will be added.\n",
    "        )"
   ]
  },
  {
   "cell_type": "markdown",
   "metadata": {},
   "source": [
    "> 在批量导入期间，任何失败的对象或引用都将被存储，并可通过batch.failed_objects和获取batch.failed_references。此外，还会维护失败的对象和引用的运行计数，并可通过batch.number_errors上下文管理器访问。此计数器可用于停止导入过程，以调查失败的对象或引用。\n",
    "\n",
    "\n"
   ]
  },
  {
   "cell_type": "code",
   "execution_count": null,
   "metadata": {},
   "outputs": [],
   "source": [
    "### V4\n",
    "data_rows = [\n",
    "    {\"title\": f\"Object {i+1}\"} for i in range(5)\n",
    "]\n",
    "\n",
    "collection = client.collections.get(\"MyCollection\")\n",
    "\n",
    "with collection.batch.dynamic() as batch:\n",
    "    for data_row in data_rows:\n",
    "        batch.add_object(\n",
    "            properties=data_row,\n",
    "        )\n",
    "        if batch.number_errors > 10:\n",
    "            print(\"Batch import stopped due to excessive errors.\")\n",
    "            break\n",
    "\n",
    "failed_objects = collection.batch.failed_objects\n",
    "if failed_objects:\n",
    "    print(f\"Number of failed imports: {len(failed_objects)}\")\n",
    "    print(f\"First failed object: {failed_objects[0]}\")"
   ]
  },
  {
   "cell_type": "markdown",
   "metadata": {},
   "source": [
    "## 使用 gRPC API \n",
    "gRPC API比 REST API 更快。使用 gRPC API 可以提高导入速度。\n",
    "\n",
    "### V3\n",
    "TypeScript 客户端v3默认使用 gRPC。         \n",
    "旧版 TypeScript 客户端不支持 gRPC。            \n",
    "\n",
    "### V4\n",
    "Python 客户端默认使用 gRPC。更多批量导入配置选项请参见客户端页面。    \n",
    "旧版 Python 客户端不支持 gRPC。\n"
   ]
  },
  {
   "cell_type": "markdown",
   "metadata": {},
   "source": [
    "## 指定 ID\n",
    "Weaviate 为每个对象生成一个 UUID。对象 ID 必须是唯一的。如果您设置了对象 ID，请使用以下确定性 UUID方法之一来防止 ID 重复：\n",
    "\n",
    "- generate_uuid5（Python）\n",
    "- generateUuid5（TypeScript）"
   ]
  },
  {
   "cell_type": "code",
   "execution_count": null,
   "metadata": {},
   "outputs": [],
   "source": [
    "### V3\n",
    "from weaviate.util import generate_uuid5  # Generate a deterministic ID\n",
    "\n",
    "class_name = \"MyCollection\"  # Replace with your class name\n",
    "data_objs = [\n",
    "    {\"title\": f\"Object {i+1}\"} for i in range(5)  # Replace with your actual objects\n",
    "]\n",
    "client.batch.configure(batch_size=100)  # Configure batch\n",
    "with client.batch as batch:\n",
    "    for data_obj in data_objs:\n",
    "        batch.add_data_object(\n",
    "            data_obj,\n",
    "            class_name,\n",
    "            uuid=generate_uuid5(data_obj)  # Optional: Specify an object ID\n",
    "        )"
   ]
  },
  {
   "cell_type": "code",
   "execution_count": null,
   "metadata": {},
   "outputs": [],
   "source": [
    "## V4\n",
    "from weaviate.util import generate_uuid5  # Generate a deterministic ID\n",
    "\n",
    "data_rows = [{\"title\": f\"Object {i+1}\"} for i in range(5)]\n",
    "\n",
    "collection = client.collections.get(\"MyCollection\")\n",
    "\n",
    "with collection.batch.dynamic() as batch:\n",
    "    for data_row in data_rows:\n",
    "        obj_uuid = generate_uuid5(data_row)\n",
    "        batch.add_object(\n",
    "            properties=data_row,\n",
    "            uuid=obj_uuid\n",
    "        )\n",
    "        if batch.number_errors > 10:\n",
    "            print(\"Batch import stopped due to excessive errors.\")\n",
    "            break\n",
    "\n",
    "failed_objects = collection.batch.failed_objects\n",
    "if failed_objects:\n",
    "    print(f\"Number of failed imports: {len(failed_objects)}\")\n",
    "    print(f\"First failed object: {failed_objects[0]}\")"
   ]
  },
  {
   "cell_type": "markdown",
   "metadata": {},
   "source": [
    "## 指定向量\n",
    "使用该vector属性为每个对象指定一个向量。\n",
    "\n"
   ]
  },
  {
   "cell_type": "code",
   "execution_count": null,
   "metadata": {},
   "outputs": [],
   "source": [
    "#### V3\n",
    "\n",
    "class_name = \"MyCollection\"  # Replace with your class name\n",
    "data_objs = [\n",
    "    {\"title\": f\"Object {i+1}\"} for i in range(5)  # Replace with your actual objects\n",
    "]\n",
    "vectors = [\n",
    "    [0.25 + i/100] * 10 for i in range(5)  # Replace with your actual vectors\n",
    "]\n",
    "client.batch.configure(batch_size=100)  # Configure batch\n",
    "with client.batch as batch:\n",
    "    for i, data_obj in enumerate(data_objs):\n",
    "        batch.add_data_object(\n",
    "            data_obj,\n",
    "            class_name,\n",
    "            vector=vectors[i]  # Optional: Specify an object vector\n",
    "        )"
   ]
  },
  {
   "cell_type": "code",
   "execution_count": null,
   "metadata": {},
   "outputs": [],
   "source": [
    "### V4\n",
    "data_rows = [{\"title\": f\"Object {i+1}\"} for i in range(5)]\n",
    "vectors = [[0.1] * 1536 for i in range(5)]\n",
    "\n",
    "collection = client.collections.get(\"MyCollection\")\n",
    "\n",
    "with collection.batch.dynamic() as batch:\n",
    "    for i, data_row in enumerate(data_rows):\n",
    "        batch.add_object(\n",
    "            properties=data_row,\n",
    "            vector=vectors[i]\n",
    "        )\n",
    "        if batch.number_errors > 10:\n",
    "            print(\"Batch import stopped due to excessive errors.\")\n",
    "            break\n",
    "\n",
    "failed_objects = collection.batch.failed_objects\n",
    "if failed_objects:\n",
    "    print(f\"Number of failed imports: {len(failed_objects)}\")\n",
    "    print(f\"First failed object: {failed_objects[0]}\")"
   ]
  },
  {
   "cell_type": "markdown",
   "metadata": {},
   "source": [
    "## 指定命名向量\n",
    "### V3\n",
    "不支持\n",
    "### V4\n",
    "当你创建一个对象时，你可以指定命名向量（如果在你的集合中配置了）。\n",
    " "
   ]
  },
  {
   "cell_type": "code",
   "execution_count": null,
   "metadata": {},
   "outputs": [],
   "source": [
    "data_rows = [{\n",
    "    \"title\": f\"Object {i+1}\",\n",
    "    \"body\": f\"Body {i+1}\"\n",
    "} for i in range(5)]\n",
    "\n",
    "title_vectors = [[0.12] * 1536 for _ in range(5)]\n",
    "body_vectors = [[0.34] * 1536 for _ in range(5)]\n",
    "\n",
    "collection = client.collections.get(\"MyCollection\")\n",
    "\n",
    "with collection.batch.dynamic() as batch:\n",
    "    for i, data_row in enumerate(data_rows):\n",
    "        batch.add_object(\n",
    "            properties=data_row,\n",
    "            vector={\n",
    "                \"title\": title_vectors[i],\n",
    "                \"body\": body_vectors[i],\n",
    "            }\n",
    "        )\n",
    "        if batch.number_errors > 10:\n",
    "            print(\"Batch import stopped due to excessive errors.\")\n",
    "            break\n",
    "\n",
    "failed_objects = collection.batch.failed_objects\n",
    "if failed_objects:\n",
    "    print(f\"Number of failed imports: {len(failed_objects)}\")\n",
    "    print(f\"First failed object: {failed_objects[0]}\")"
   ]
  },
  {
   "cell_type": "markdown",
   "metadata": {},
   "source": [
    "## 带引用导入\n",
    "您可以通过交叉引用批量创建从一个对象到另一个对象的链接。"
   ]
  },
  {
   "cell_type": "code",
   "execution_count": null,
   "metadata": {},
   "outputs": [],
   "source": [
    "## V3\n",
    "with client.batch as batch:\n",
    "    batch.add_reference(\n",
    "        from_object_uuid=\"36ddd591-2dee-4e7e-a3cc-eb86d30a4303\",\n",
    "        from_object_class_name=\"Author\",\n",
    "        from_property_name=\"wroteArticles\",\n",
    "        to_object_uuid=\"6bb06a43-e7f0-393e-9ecf-3c0f4e129064\",\n",
    "        to_object_class_name=\"Article\",\n",
    "        # tenant=\"tenantA\",  # Optional; specify the tenant in multi-tenancy collections\n",
    "    )\n",
    "\n"
   ]
  },
  {
   "cell_type": "code",
   "execution_count": null,
   "metadata": {},
   "outputs": [],
   "source": [
    "## V4\n",
    "collection = client.collections.get(\"Author\")\n",
    "\n",
    "with collection.batch.fixed_size(batch_size=100) as batch:\n",
    "    batch.add_reference(\n",
    "        from_property=\"writesFor\",\n",
    "        from_uuid=from_uuid,\n",
    "        to=target_uuid,\n",
    "    )\n",
    "\n",
    "failed_references = collection.batch.failed_references\n",
    "if failed_references:\n",
    "    print(f\"Number of failed imports: {len(failed_references)}\")\n",
    "    print(f\"First failed reference: {failed_references[0]}\")"
   ]
  },
  {
   "cell_type": "markdown",
   "metadata": {},
   "source": [
    "## 来自大文件的流数据\n",
    "\n",
    "```json\n",
    "[{\n",
    "Air Date: \"2006-11-08\",\n",
    "Round: \"Double Jeopardy!\",\n",
    "Value: 800,\n",
    "Category: \"AMERICAN HISTORY\",\n",
    "Question: \"Abraham Lincoln died across the street from this theatre on April 15, 1865\",\n",
    "Answer: \"Ford's Theatre (the Ford Theatre accepted)\"\n",
    "},\n",
    "{\n",
    "Air Date: \"2005-11-18\",\n",
    "Round: \"Jeopardy!\",\n",
    "Value: 200,\n",
    "Category: \"RHYME TIME\",\n",
    "Question: \"Any pigment on the wall so faded you can barely see it\",\n",
    "Answer: \"faint paint\"\n",
    "}]\n",
    "```"
   ]
  },
  {
   "cell_type": "code",
   "execution_count": null,
   "metadata": {},
   "outputs": [],
   "source": [
    "import weaviate\n",
    "import ijson\n",
    "\n",
    "# Settings for displaying the import progress\n",
    "counter = 0\n",
    "interval = 200  # print progress every this many records; should be bigger than the batch_size\n",
    "\n",
    "def add_object(obj) -> None:\n",
    "    global counter\n",
    "    properties = {\n",
    "        \"question\": obj[\"Question\"],\n",
    "        \"answer\": obj[\"Answer\"],\n",
    "    }\n",
    "\n",
    "    client.batch.configure(batch_size=100)  # Configure batch\n",
    "    with client.batch as batch:\n",
    "        # Add the object to the batch\n",
    "        batch.add_data_object(\n",
    "            data_object=properties,\n",
    "            class_name=\"JeopardyQuestion\",\n",
    "            # If you Bring Your Own Vectors, add the `vector` parameter here\n",
    "            # vector=obj.vector\n",
    "        )\n",
    "\n",
    "        # Calculate and display progress\n",
    "        counter += 1\n",
    "        if counter % interval == 0:\n",
    "            print(f\"Imported {counter} articles...\")\n",
    "\n",
    "\n",
    "print(\"JSON streaming, to avoid running out of memory on large files...\")\n",
    "with open(\"jeopardy_1k.json\", \"rb\") as f:\n",
    "    objects = ijson.items(f, \"item\")\n",
    "    for o in objects:\n",
    "        add_object(o)\n",
    "\n",
    "print(f\"Finished importing {counter} articles.\")"
   ]
  },
  {
   "cell_type": "code",
   "execution_count": null,
   "metadata": {},
   "outputs": [],
   "source": [
    "### V4\n",
    "import ijson\n",
    "\n",
    "# Settings for displaying the import progress\n",
    "counter = 0\n",
    "interval = 200  # print progress every this many records; should be bigger than the batch_size\n",
    "\n",
    "print(\"JSON streaming, to avoid running out of memory on large files...\")\n",
    "with client.batch.fixed_size(batch_size=100) as batch:\n",
    "    with open(\"jeopardy_1k.json\", \"rb\") as f:\n",
    "        objects = ijson.items(f, \"item\")\n",
    "        for obj in objects:\n",
    "            properties = {\n",
    "                \"question\": obj[\"Question\"],\n",
    "                \"answer\": obj[\"Answer\"],\n",
    "            }\n",
    "            batch.add_object(\n",
    "                collection=\"JeopardyQuestion\",\n",
    "                properties=properties,\n",
    "                # If you Bring Your Own Vectors, add the `vector` parameter here\n",
    "                # vector=obj.vector[\"default\"]\n",
    "            )\n",
    "\n",
    "            # Calculate and display progress\n",
    "            counter += 1\n",
    "            if counter % interval == 0:\n",
    "                print(f\"Imported {counter} articles...\")\n",
    "\n",
    "\n",
    "print(f\"Finished importing {counter} articles.\")"
   ]
  },
  {
   "cell_type": "markdown",
   "metadata": {},
   "source": [
    "## 批量矢量化\n",
    "一些模型提供商提供批量矢量化API，其中每个请求可以包含多个对象。\n",
    "\n",
    "从 Weaviate 开始v1.25.0，批量导入会自动使用模型提供商的批量矢量化 API（如果可用）。这减少了对模型提供商的请求数量，从而提高了吞吐量。\n",
    "### 模型提供者配置\n",
    "您可以为每个模型提供程序配置批量矢量化设置，例如每分钟请求数或每分钟令牌数。以下示例为 Cohere 和 OpenAI 集成设置速率限制，并为两者提供 API 密钥。\n",
    "\n",
    "请注意，每个提供商都公开不同的配置选项。"
   ]
  },
  {
   "cell_type": "code",
   "execution_count": null,
   "metadata": {},
   "outputs": [],
   "source": [
    "## V4\n",
    "from weaviate.classes.config import Integrations\n",
    "\n",
    "integrations = [\n",
    "    # Each model provider may expose different parameters\n",
    "    Integrations.cohere(\n",
    "        api_key=cohere_key,\n",
    "        requests_per_minute_embeddings=rpm_embeddings,\n",
    "    ),\n",
    "    Integrations.openai(\n",
    "        api_key=openai_key,\n",
    "        requests_per_minute_embeddings=rpm_embeddings,\n",
    "        tokens_per_minute_embeddings=tpm_embeddings,   # e.g. OpenAI also exposes tokens per minute for embeddings\n",
    "    ),\n",
    "]\n",
    "client.integrations.configure(integrations)"
   ]
  },
  {
   "cell_type": "markdown",
   "metadata": {},
   "source": [
    "## 异步导入\n",
    "从 开始可用v1.22。这是一项实验性功能。请谨慎使用。\n",
    "\n",
    "为了最大限度地提高导入速度，请启用异步索引。\n",
    "要启用异步索引，请在 Weaviate 配置文件`ASYNC_INDEXING`中将环境变量设置为`true`\n",
    "\n",
    "\n",
    "```shell\n",
    "weaviate:\n",
    "  image: cr.weaviate.io/semitechnologies/weaviate:1.30.0\n",
    "  ...\n",
    "  environment:\n",
    "    ASYNC_INDEXING: 'true'\n",
    "  ...\n",
    "```"
   ]
  },
  {
   "cell_type": "markdown",
   "metadata": {},
   "source": [
    "### 自动添加新租户\n",
    "默认情况下，如果您尝试将对象插入不存在的租户，Weaviate 会返回错误。要更改此行为以便 Weaviate 创建新租户，请在集合定义中设置autoTenantCreation为。true\n",
    "\n",
    "自动租户功能可用于v1.25.0批量导入，也可用于v1.25.2单个对象插入。\n",
    "\n",
    "在创建集合时设置autoTenantCreation，或重新配置集合以根据需要更新设置。\n",
    "\n",
    "当您导入大量对象时，自动创建租户非常有用。如果您的数据可能存在细微的不一致或拼写错误，请谨慎操作。例如，名称TenantOne、tenantOne和TenntOne将创建三个不同的租户。\n",
    "\n",
    "有关详细信息，请参阅自动租户。"
   ]
  },
  {
   "cell_type": "markdown",
   "metadata": {},
   "source": []
  }
 ],
 "metadata": {
  "kernelspec": {
   "display_name": "llm",
   "language": "python",
   "name": "python3"
  },
  "language_info": {
   "codemirror_mode": {
    "name": "ipython",
    "version": 3
   },
   "file_extension": ".py",
   "mimetype": "text/x-python",
   "name": "python",
   "nbconvert_exporter": "python",
   "pygments_lexer": "ipython3",
   "version": "3.11.11"
  }
 },
 "nbformat": 4,
 "nbformat_minor": 2
}
