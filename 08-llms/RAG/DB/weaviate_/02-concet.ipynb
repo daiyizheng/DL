{
 "cells": [
  {
   "cell_type": "markdown",
   "metadata": {},
   "source": [
    "# [Weaviate 连接](https://weaviate.io/developers/weaviate/connections/connect-local)\n",
    "\n",
    "## 安装 Weaviate 客户端\n",
    "使用 pip 安装 Weaviate 客户端：\n",
    "\n",
    "```shell\n",
    "pip install -U weaviate-client   \n",
    "\n",
    "```"
   ]
  },
  {
   "cell_type": "markdown",
   "metadata": {},
   "source": [
    "## 编写测试脚本\n",
    "创建一个test.py文件，内容如下\n",
    "\n",
    "### 连接到本地部署的 Weaviate \n",
    "\n",
    "#### 没启用身份验证"
   ]
  },
  {
   "cell_type": "code",
   "execution_count": null,
   "metadata": {},
   "outputs": [],
   "source": [
    "## V3\n",
    "\n",
    "import weaviate\n",
    "\n",
    "# Create the client\n",
    "client = weaviate.Client(\n",
    "    url=\"http://localhost:8080\"\n",
    ")\n",
    "\n",
    "print(client.is_ready())\n",
    "\n",
    "## V4\n",
    "\n",
    "import weaviate\n",
    "\n",
    "client = weaviate.connect_to_local()\n",
    "\n",
    "print(client.is_ready())\n"
   ]
  },
  {
   "cell_type": "code",
   "execution_count": null,
   "metadata": {},
   "outputs": [],
   "source": [
    "### 改变端口\n",
    "### V3\n",
    "import weaviate\n",
    "\n",
    "# Create the client\n",
    "client = weaviate.Client(\n",
    "    url=\"http://127.0.0.1:8080\"\n",
    "    # The v3 client doesn't use the gRPC port\n",
    ")\n",
    "\n",
    "print(client.is_ready())\n",
    "\n",
    "### V4\n",
    "import weaviate\n",
    "\n",
    "client = weaviate.connect_to_local(\n",
    "    host=\"127.0.0.1\",  # Use a string to specify the host\n",
    "    port=8080,\n",
    "    grpc_port=50051,\n",
    ")\n",
    "\n",
    "print(client.is_ready())"
   ]
  },
  {
   "cell_type": "code",
   "execution_count": null,
   "metadata": {},
   "outputs": [],
   "source": [
    "import weaviate\n",
    "from weaviate.auth import AuthApiKey\n",
    "\n",
    "# 连接到本地部署的 Weaviate\n",
    "client = weaviate.Client(\n",
    "    url=\"http://127.0.0.1:8080\",\n",
    "    auth_client_secret=AuthApiKey(\"WVF5YThaHlkYwhGUSmCRgsX3tD5ngdN8pkih\")\n",
    ")\n",
    "\n",
    "# 检查连接是否成功\n",
    "print(client.is_ready())\n"
   ]
  },
  {
   "cell_type": "markdown",
   "metadata": {},
   "source": [
    "### 已启用身份验证"
   ]
  },
  {
   "cell_type": "code",
   "execution_count": null,
   "metadata": {},
   "outputs": [],
   "source": [
    "### V3 版本\n",
    "# Set this environment variable\n",
    "# WEAVIATE_API_KEY   your Weaviate instance API key\n",
    "\n",
    "import os\n",
    "import weaviate\n",
    "\n",
    "# Create the client\n",
    "client = weaviate.Client(\n",
    "    url=\"http://localhost:8080\",\n",
    "    auth_client_secret=weaviate.auth.AuthApiKey(api_key=os.getenv(\"WEAVIATE_API_KEY\")),\n",
    ")\n",
    "\n",
    "print(client.is_ready())"
   ]
  },
  {
   "cell_type": "code",
   "execution_count": null,
   "metadata": {},
   "outputs": [],
   "source": [
    "#### V4 版本\n",
    "import weaviate\n",
    "from weaviate.classes.init import Auth\n",
    "\n",
    "# Best practice: store your credentials in environment variables\n",
    "weaviate_api_key = os.environ[\"WEAVIATE_API_KEY\"]\n",
    "\n",
    "client = weaviate.connect_to_local(\n",
    "    auth_credentials=Auth.api_key(weaviate_api_key)\n",
    ")\n",
    "\n",
    "print(client.is_ready())\n",
    "\n",
    "assert client.is_ready()"
   ]
  },
  {
   "cell_type": "markdown",
   "metadata": {},
   "source": [
    "### OIDC身份验证\n",
    "有关使用 OpenID Connect (OIDC) 进行身份验证的详细信息，[请参阅OIDC 配置。](https://weaviate.io/developers/weaviate/configuration/authentication#oidc)\n",
    "\n",
    "有关更多客户端示例，[请参阅OIDC 身份验证](https://weaviate.io/developers/weaviate/connections/connect-custom#oidc-authentication)。"
   ]
  },
  {
   "cell_type": "code",
   "execution_count": null,
   "metadata": {},
   "outputs": [],
   "source": [
    "### V3\n",
    "# Set this environment variable\n",
    "# COHERE_API_KEY     your Cohere API key\n",
    "\n",
    "import os\n",
    "import weaviate\n",
    "\n",
    "client = weaviate.Client(\n",
    "    url=\"http://localhost:8080\",\n",
    "    additional_headers={\n",
    "        \"X-Cohere-Api-Key\": os.getenv(\"COHERE_API_KEY\")\n",
    "    }\n",
    ")\n",
    "\n",
    "print(client.is_ready())"
   ]
  },
  {
   "cell_type": "code",
   "execution_count": null,
   "metadata": {},
   "outputs": [],
   "source": [
    "### V4\n",
    "import os\n",
    "import weaviate\n",
    "\n",
    "# Best practice: store your credentials in environment variables\n",
    "cohere_api_key = os.environ[\"COHERE_API_KEY\"]\n",
    "\n",
    "client = weaviate.connect_to_local(\n",
    "    headers={\n",
    "        \"X-Cohere-Api-Key\": cohere_api_key\n",
    "    }\n",
    ")\n",
    "\n",
    "print(client.is_ready())"
   ]
  },
  {
   "cell_type": "markdown",
   "metadata": {},
   "source": [
    "### gRPC 超时\n",
    "Python 客户端 v4 和 TypeScript 客户端 v3 使用gRPC。 gRPC 协议对网络延迟敏感。 如果遇到连接超时，请调整初始化、查询和插入的超时值。"
   ]
  },
  {
   "cell_type": "code",
   "execution_count": null,
   "metadata": {},
   "outputs": [],
   "source": [
    "### V4\n",
    "import weaviate\n",
    "from weaviate.classes.init import AdditionalConfig, Timeout\n",
    "\n",
    "client = weaviate.connect_to_local(\n",
    "    port=8080,\n",
    "    grpc_port=50051,\n",
    "    additional_config=AdditionalConfig(\n",
    "        timeout=Timeout(init=30, query=60, insert=120)  # Values in seconds\n",
    "    )\n",
    ")\n",
    "\n",
    "print(client.is_ready())"
   ]
  },
  {
   "cell_type": "markdown",
   "metadata": {},
   "source": [
    "## 自定义连接\n",
    "Python客户端 v4和TypeScript 客户端 v3为常见连接类型提供了辅助方法。它们还提供了自定义方法，以备您需要额外的连接配置时使用。\n"
   ]
  },
  {
   "cell_type": "code",
   "execution_count": null,
   "metadata": {},
   "outputs": [],
   "source": [
    "### V4版本\n",
    "\n",
    "# 或者自定义连接\n",
    "import weaviate, os\n",
    "from weaviate.classes.init import Auth\n",
    "from weaviate.config import AdditionalConfig, Timeout\n",
    "\n",
    "# Best practice: store your credentials in environment variables\n",
    "http_host = os.environ[\"WCD_HTTP_HOST\"]\n",
    "grpc_host = os.environ[\"WCD_GRPC_HOST\"]\n",
    "weaviate_api_key = os.environ[\"WCD_DEMO_RO_KEY\"]\n",
    "\n",
    "client = weaviate.connect_to_custom(\n",
    "    http_host=http_host,        # Hostname for the HTTP API connection\n",
    "    http_port=443,              # Default is 80, WCD uses 443\n",
    "    http_secure=True,           # Whether to use https (secure) for the HTTP API connection\n",
    "    grpc_host=grpc_host,        # Hostname for the gRPC API connection\n",
    "    grpc_port=443,              # Default is 50051, WCD uses 443\n",
    "    grpc_secure=True,           # Whether to use a secure channel for the gRPC API connection\n",
    "    auth_credentials=Auth.api_key(weaviate_api_key),    # API key for authentication\n",
    ")\n",
    "\n",
    "\n",
    "# 检查连接是否成功\n",
    "print(client.is_ready())\n",
    "\n",
    "# 关闭连接\n",
    "print(client.close())\n"
   ]
  },
  {
   "cell_type": "markdown",
   "metadata": {},
   "source": [
    "## 嵌入式 Weaviate\n",
    "嵌入式 Weaviate 是一种部署模型，它从您的应用程序代码而不是从独立的 Weaviate 服务器安装运行 Weaviate 实例。\n",
    "\n",
    "当 Embedded Weaviate 首次启动时，它会在您设置的位置创建一个永久数据存储persistence_data_path。当您的客户端退出时，Embedded Weaviate 实例也会退出，但数据会保留下来。\n",
    "\n",
    "客户端下次运行时，会启动一个新的嵌入式 Weaviate 实例。新的嵌入式 Weaviate 实例会使用数据存储区中保存的数据。\n",
    "\n",
    "有关使用嵌入式 Weaviate 的更多详细信息，请参阅嵌入式 Weaviate。"
   ]
  },
  {
   "cell_type": "code",
   "execution_count": null,
   "metadata": {},
   "outputs": [],
   "source": [
    "#### V3\n",
    "import weaviate\n",
    "from weaviate.embedded import EmbeddedOptions\n",
    "\n",
    "client = weaviate.Client(\n",
    "  embedded_options=EmbeddedOptions()\n",
    ")\n"
   ]
  },
  {
   "cell_type": "code",
   "execution_count": null,
   "metadata": {},
   "outputs": [],
   "source": [
    "### V4\n",
    "import weaviate\n",
    "import os\n",
    "\n",
    "# Best practice: store your credentials in environment variables\n",
    "openai_api_key = os.environ[\"OPENAI_API_KEY\"]\n",
    "\n",
    "client = weaviate.connect_to_embedded(\n",
    "    version=\"1.26.1\",\n",
    "    headers={\n",
    "        \"X-OpenAI-Api-Key\": openai_api_key\n",
    "    },\n",
    ")"
   ]
  },
  {
   "cell_type": "markdown",
   "metadata": {},
   "source": []
  }
 ],
 "metadata": {
  "kernelspec": {
   "display_name": "llm",
   "language": "python",
   "name": "python3"
  },
  "language_info": {
   "codemirror_mode": {
    "name": "ipython",
    "version": 3
   },
   "file_extension": ".py",
   "mimetype": "text/x-python",
   "name": "python",
   "nbconvert_exporter": "python",
   "pygments_lexer": "ipython3",
   "version": "3.11.11"
  }
 },
 "nbformat": 4,
 "nbformat_minor": 2
}
