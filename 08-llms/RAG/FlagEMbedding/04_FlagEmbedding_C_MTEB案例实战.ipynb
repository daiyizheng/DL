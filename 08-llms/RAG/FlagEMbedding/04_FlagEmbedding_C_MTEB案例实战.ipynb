{
 "cells": [
  {
   "cell_type": "markdown",
   "metadata": {},
   "source": [
    "**提前安装：**\n",
    "\n",
    "pip install -U C_MTEB  \n",
    "\n",
    "或  \n",
    "\n",
    "git clone https://github.com/FlagOpen/FlagEmbedding.git  \n",
    "cd FlagEmbedding/C_MTEB  \n",
    "pip install -e .  "
   ]
  },
  {
   "cell_type": "markdown",
   "metadata": {},
   "source": [
    "# 1. 评估 reranker\n"
   ]
  },
  {
   "cell_type": "code",
   "execution_count": null,
   "metadata": {
    "vscode": {
     "languageId": "plaintext"
    }
   },
   "outputs": [],
   "source": [
    "python eval_cross_encoder.py --model_name_or_path BAAI/bge-reranker-base"
   ]
  },
  {
   "cell_type": "markdown",
   "metadata": {},
   "source": [
    "## 评估 embedding\n",
    "\n",
    "python eval_C-MTEB.py --model_name_or_path BAAI/bge-large-zh\n",
    "   \n",
    "   \n",
    "**for MTEB leaderboard**  \n",
    "\n",
    "python eval_MTEB.py --model_name_or_path BAAI/bge-large-en"
   ]
  },
  {
   "cell_type": "markdown",
   "metadata": {},
   "source": []
  }
 ],
 "metadata": {
  "language_info": {
   "name": "python"
  }
 },
 "nbformat": 4,
 "nbformat_minor": 2
}
