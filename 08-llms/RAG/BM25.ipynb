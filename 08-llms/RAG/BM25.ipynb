{
 "cells": [
  {
   "cell_type": "markdown",
   "metadata": {},
   "source": [
    "# BM25\n",
    "BM25是一种排名函数，用于信息检索领域，以在给定查询下对文档集合进行排序。  \n",
    "\n",
    "BM25算法的核心思想是根据词项的出现频率来评估文档对于查询的相关性，  \n",
    "同时通过引入两个调节参数（k1和b）来控制词项频率（TF）的饱和度和文档长度的影响。\n",
    "\n",
    "具体来说，BM25的评分函数如下：  \n",
    "\n",
    "$\\text{Score}(D, Q) = \\sum_{i=1}^{n} \\text{IDF}(q_i) \\cdot \\frac{f(q_i, D) \\cdot (k_1 + 1)}{f(q_i, D) + k_1 \\cdot (1 - b + b \\cdot \\frac{|D|}{\\text{avgdl}})}$\n",
    "\n",
    "其中：\n",
    "- $D$ 是文档，\n",
    "- $Q$ 是查询，\n",
    "- $q_i$ 是查询中的第 $i$ 个词项，\n",
    "- $f(q_i, D)$ 是词项 $q_i$ 在文档 $D$ 中的出现频率，\n",
    "- $|D|$ 是文档 $D$ 的长度，\n",
    "- $\\text{avgdl}$ 是集合中所有文档长度的平均值，\n",
    "- $k_1$ 和 $b$ 是可调节的参数，通常 $k_1$ 在1.2到2.0之间，$b$ 等于0.75，\n",
    "- $\\text{IDF}(q_i)$ 是逆文档频率，用于衡量词项的普遍重要性。\n",
    "\n",
    "通过这种方式，BM25算法能够有效地衡量文档和查询之间的相关性，广泛应用于全文搜索引擎和信息检索系统中。"
   ]
  },
  {
   "cell_type": "code",
   "execution_count": 2,
   "metadata": {},
   "outputs": [],
   "source": [
    "import math\n",
    "from collections import Counter\n",
    "\n",
    "def compute_idf(doc_list):\n",
    "    '''计算一组文档中每个词项的逆文档频率\n",
    "    doc_list : 文档列表\n",
    "    '''\n",
    "    # 存储每个词项的IDF得分\n",
    "    idf_scores = {}\n",
    "    # 文档列表中文档的总数\n",
    "    total_docs = len(doc_list)\n",
    "    # 计数每个词项出现的文档数（即文档频率）\n",
    "    doc_freq = Counter([word for doc in doc_list for word in set(doc)])\n",
    "    # 遍历doc_freq字典的每个项，word是词项，df是该词项出现的文档数。\n",
    "    for word, df in doc_freq.items():\n",
    "        # 根据公式计算每个词项的IDF得分\n",
    "        idf_scores[word] = math.log((total_docs - df + 0.5) / (df + 0.5) + 1)\n",
    "    # 返回包含所有词项及其IDF得分的字典\n",
    "    return idf_scores"
   ]
  },
  {
   "cell_type": "code",
   "execution_count": 3,
   "metadata": {},
   "outputs": [],
   "source": [
    "def bm25_score(doc, query, idf_scores, avgdl, k1=1.5, b=0.75):\n",
    "    '''计算给定文档相对于一个查询的BM25得分\n",
    "    doc : 当前需要计算得分的文档\n",
    "    query : 用户的查询\n",
    "    idf_scores : 一个字典，包含每个词项的IDF得分。\n",
    "    avgdl : 文档集合中文档的平均长度\n",
    "    k1 和 b : BM25算法中的两个调节参数，分别有默认值1.5和0.75。\n",
    "    '''\n",
    "    score = 0.0\n",
    "    # 计算当前文档的长度，即文档中词项的数量。\n",
    "    doc_len = len(doc)\n",
    "    # 使用Counter统计当前文档中每个词项出现的次数。\n",
    "    doc_freqs = Counter(doc)\n",
    "    # 遍历查询中的每个词项\n",
    "    for word in query:\n",
    "        # 检查当前词项是否在idf_scores字典中，即是否计算过IDF得分。\n",
    "        if word in idf_scores:\n",
    "            # 获取当前词项在文档中的频率\n",
    "            df = doc_freqs[word]\n",
    "            # 获取当前词项的IDF得分\n",
    "            idf = idf_scores[word]\n",
    "            # 根据BM25的计算公式，计算每个词项对总得分的贡献，更新当前文档的得分。\n",
    "            score += idf * (df * (k1 + 1)) / (df + k1 * (1 - b + b * (doc_len / avgdl)))\n",
    "    # 返回计算得到的文档BM25得分\n",
    "    return score"
   ]
  },
  {
   "cell_type": "code",
   "execution_count": 4,
   "metadata": {},
   "outputs": [],
   "source": [
    "def compute_avgdl(doc_list):\n",
    "    '''用于计算给定文档集合中文档的平均长度'''\n",
    "    # 计算了所有文档的总长度\n",
    "    total_length = sum(len(doc) for doc in doc_list)\n",
    "    # 计算文档集合的平均文档长度\n",
    "    avgdl = total_length / len(doc_list)\n",
    "    # 返回计算出的平均文档长度\n",
    "    return avgdl"
   ]
  },
  {
   "cell_type": "code",
   "execution_count": 5,
   "metadata": {},
   "outputs": [
    {
     "name": "stdout",
     "output_type": "stream",
     "text": [
      "[0.4868563490194871, 0.4395717395823426, 0.0]\n"
     ]
    }
   ],
   "source": [
    "# 举例演示\n",
    "doc_list = [[\"小猫\", \"在\", \"屋顶\", \"上\"],\n",
    "               [\"小狗\", \"和\", \"小猫\", \"是\", \"好朋友\"],\n",
    "               [\"我\", \"喜欢\", \"看\", \"书\"]]\n",
    "         \n",
    "query = [\"小猫\", \"在哪里\"]\n",
    "\n",
    "# 计算idf_scores和avgdl（重新使用之前定义的函数）\n",
    "idf_scores = compute_idf(doc_list)\n",
    "avgdl = compute_avgdl(doc_list)\n",
    "\n",
    "# 对每个文档计算BM25得分\n",
    "scores = []\n",
    "for doc in doc_list:\n",
    "    score = bm25_score(doc, query, idf_scores, avgdl)\n",
    "    scores.append(score)\n",
    "\n",
    "print(scores)"
   ]
  },
  {
   "cell_type": "code",
   "execution_count": null,
   "metadata": {},
   "outputs": [],
   "source": []
  }
 ],
 "metadata": {
  "kernelspec": {
   "display_name": "Python 3",
   "language": "python",
   "name": "python3"
  },
  "language_info": {
   "codemirror_mode": {
    "name": "ipython",
    "version": 3
   },
   "file_extension": ".py",
   "mimetype": "text/x-python",
   "name": "python",
   "nbconvert_exporter": "python",
   "pygments_lexer": "ipython3",
   "version": "3.11.9"
  }
 },
 "nbformat": 4,
 "nbformat_minor": 2
}
