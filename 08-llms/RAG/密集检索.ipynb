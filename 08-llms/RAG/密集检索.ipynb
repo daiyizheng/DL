{
 "cells": [
  {
   "cell_type": "markdown",
   "metadata": {},
   "source": [
    "# 密集检索"
   ]
  },
  {
   "cell_type": "code",
   "execution_count": 1,
   "metadata": {},
   "outputs": [],
   "source": [
    "# 1. 准备模拟的数据\n",
    "\n",
    "documents = [\n",
    "    \"深度学习技术在计算机视觉领域中非常重要。\",\n",
    "    \"使用深度学习模型可以理解文档的深层语义。\",\n",
    "    \"密集检索器的优势通过学习文档和查询的表示来提高检索的准确率。\"\n",
    "]\n",
    "\n",
    "query = \"密集检索的优势\""
   ]
  },
  {
   "cell_type": "code",
   "execution_count": 2,
   "metadata": {},
   "outputs": [
    {
     "name": "stderr",
     "output_type": "stream",
     "text": [
      "/slurm/home/yrd/shaolab/daiyizheng/.conda/envs/langechain/lib/python3.10/site-packages/tqdm/auto.py:21: TqdmWarning: IProgress not found. Please update jupyter and ipywidgets. See https://ipywidgets.readthedocs.io/en/stable/user_install.html\n",
      "  from .autonotebook import tqdm as notebook_tqdm\n"
     ]
    }
   ],
   "source": [
    "# 2. 加载预训练模型\n",
    "\n",
    "from transformers import BertTokenizer, BertModel\n",
    "import torch"
   ]
  },
  {
   "cell_type": "code",
   "execution_count": 5,
   "metadata": {},
   "outputs": [],
   "source": [
    "tokenizer = BertTokenizer.from_pretrained(\"/slurm/home/yrd/shaolab/daiyizheng/resources/hf_weights/hfl/chinese-macbert-base\")\n",
    "model = BertModel.from_pretrained(\"/slurm/home/yrd/shaolab/daiyizheng/resources/hf_weights/hfl/chinese-macbert-base\")"
   ]
  },
  {
   "cell_type": "code",
   "execution_count": 18,
   "metadata": {},
   "outputs": [],
   "source": [
    "# 3. 获取向量表示\n",
    "def get_embedding(text):\n",
    "    # 输入预处理\n",
    "    inputs = tokenizer(text, return_tensors=\"pt\", padding=True, truncation=True, max_length=512)\n",
    "    # 获取模型最后一层隐藏状态，shape : [batch_size, sequence_length, hidden_size]\n",
    "    # 原因：模型的最后一层隐藏状态通常被认为是对输入文本的一个综合表示，它融合了从文本中提取的所有关键信息。\n",
    "    with torch.no_grad():\n",
    "        outputs = model(**inputs)\n",
    "    # 使用平均池化获取句子表示\n",
    "    # print(outputs.last_hidden_state.shape)\n",
    "    # print(outputs.keys())\n",
    "    embeddings = outputs.last_hidden_state.mean(dim=1)\n",
    "    \n",
    "    return embeddings"
   ]
  },
  {
   "cell_type": "code",
   "execution_count": 19,
   "metadata": {},
   "outputs": [
    {
     "name": "stdout",
     "output_type": "stream",
     "text": [
      "odict_keys(['last_hidden_state', 'pooler_output'])\n"
     ]
    },
    {
     "data": {
      "text/plain": [
       "torch.Size([1, 768])"
      ]
     },
     "execution_count": 19,
     "metadata": {},
     "output_type": "execute_result"
    }
   ],
   "source": [
    "# 4. 获取查询向量\n",
    "\n",
    "query_embedding = get_embedding(query)\n",
    "query_embedding.shape"
   ]
  },
  {
   "cell_type": "code",
   "execution_count": 9,
   "metadata": {},
   "outputs": [],
   "source": [
    "# 5. 获取所有文档的向量（squeeze() 压缩一维，用于后续相似性计算）[3, 1, 768]\n",
    "doc_embeddings = [get_embedding(doc) for doc in documents]"
   ]
  },
  {
   "cell_type": "code",
   "execution_count": 10,
   "metadata": {},
   "outputs": [
    {
     "data": {
      "text/plain": [
       "torch.Size([1, 768])"
      ]
     },
     "execution_count": 10,
     "metadata": {},
     "output_type": "execute_result"
    }
   ],
   "source": [
    "doc_embeddings[0].shape"
   ]
  },
  {
   "cell_type": "code",
   "execution_count": 11,
   "metadata": {},
   "outputs": [
    {
     "data": {
      "text/plain": [
       "torch.Size([3, 1, 768])"
      ]
     },
     "execution_count": 11,
     "metadata": {},
     "output_type": "execute_result"
    }
   ],
   "source": [
    "doc_embeddings = torch.stack(doc_embeddings)\n",
    "doc_embeddings.shape"
   ]
  },
  {
   "cell_type": "code",
   "execution_count": 12,
   "metadata": {},
   "outputs": [
    {
     "data": {
      "text/plain": [
       "torch.Size([3, 768])"
      ]
     },
     "execution_count": 12,
     "metadata": {},
     "output_type": "execute_result"
    }
   ],
   "source": [
    "doc_embeddings = doc_embeddings.squeeze()\n",
    "doc_embeddings.shape"
   ]
  },
  {
   "cell_type": "code",
   "execution_count": 13,
   "metadata": {},
   "outputs": [],
   "source": [
    "# 6. 计算相似度\n",
    "\n",
    "from sklearn.metrics.pairwise import cosine_similarity\n",
    "\n",
    "simialrities = cosine_similarity(query_embedding.numpy(), doc_embeddings.numpy())"
   ]
  },
  {
   "cell_type": "code",
   "execution_count": 20,
   "metadata": {},
   "outputs": [
    {
     "name": "stdout",
     "output_type": "stream",
     "text": [
      "[0.76556075 0.81379014 0.8646308 ]\n"
     ]
    }
   ],
   "source": [
    "final_results = simialrities[0]\n",
    "\n",
    "print(final_results)"
   ]
  },
  {
   "cell_type": "markdown",
   "metadata": {},
   "source": [
    "## 知识补充：平均池化\n",
    "### 1. 示例句子\n",
    "假设我们的句子是：“我爱自然语言处理”，并且我们已经通过一个预训练模型处理了这句话，为句子中的每个词生成了一个向量表示。假设模型的隐藏层大小为`hidden_size = 4`，我们得到以下表示（每个词的表示是一个4维向量）：\n",
    "\n",
    "- “我” -> [0.5, 0.1, -0.4, 0.3]\n",
    "- “爱” -> [0.4, -0.2, 0.6, 0.1]\n",
    "- “自然” -> [0.3, 0.3, -0.1, 0.2]\n",
    "- “语言” -> [-0.1, 0.4, 0.5, -0.2]\n",
    "- “处理” -> [0.2, -0.3, 0.2, 0.4]\n",
    "\n",
    "### 2. 平均池化的过程\n",
    "现在，我们需要将这些词向量合并成一个单一的句子级别向量。使用平均池化的方法，我们将对每个维度分别计算平均值。具体来说，对于每个维度，我们将相应维度的所有值加起来，然后除以词的数量（在这个例子中是5）。\n",
    "\n",
    "- 第一维度的平均值：(0.5 + 0.4 + 0.3 - 0.1 + 0.2) / 5 = 0.26\n",
    "- 第二维度的平均值：(0.1 - 0.2 + 0.3 + 0.4 - 0.3) / 5 = 0.06\n",
    "- 第三维度的平均值：(-0.4 + 0.6 - 0.1 + 0.5 + 0.2) / 5 = 0.16\n",
    "- 第四维度的平均值：(0.3 + 0.1 + 0.2 - 0.2 + 0.4) / 5 = 0.16\n",
    "\n",
    "因此，通过平均池化，我们得到句子的向量表示为[0.26, 0.06, 0.16, 0.16]。\n",
    "\n",
    "### 3. 使用平均池化的原因\n",
    "1. **统一表示**：通过平均池化，无论句子有多长，我们都可以得到一个固定大小的向量表示。这对于后续的处理非常重要，因为它允许我们使用固定大小的输入进行各种计算和比较。\n",
    "\n",
    "2. **整体信息**：平均池化考虑了句子中所有词的信息，提供了一个整体的句子表示。\n",
    "\n",
    "3. **简单有效**：平均池化是一种简单的操作，计算成本低，但在许多任务中效果却意外地好。\n"
   ]
  },
  {
   "cell_type": "markdown",
   "metadata": {},
   "source": []
  }
 ],
 "metadata": {
  "kernelspec": {
   "display_name": "Python 3",
   "language": "python",
   "name": "python3"
  },
  "language_info": {
   "codemirror_mode": {
    "name": "ipython",
    "version": 3
   },
   "file_extension": ".py",
   "mimetype": "text/x-python",
   "name": "python",
   "nbconvert_exporter": "python",
   "pygments_lexer": "ipython3",
   "version": "3.10.14"
  }
 },
 "nbformat": 4,
 "nbformat_minor": 2
}
