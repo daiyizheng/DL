{
 "cells": [
  {
   "cell_type": "markdown",
   "metadata": {},
   "source": [
    "# attention中的query_key_value基本概念\n",
    "\n",
    "\n",
    "## 相关代码\n",
    "### repeat_kv"
   ]
  },
  {
   "cell_type": "code",
   "execution_count": 3,
   "metadata": {},
   "outputs": [],
   "source": [
    "import torch\n",
    "def repeat_kv(x: torch.Tensor, n_rep: int) -> torch.Tensor:\n",
    "    '''这个函数通常被用于在某个特定的维度上复制张量，这样可以创建出具有更高维度的数据。\n",
    "    x : 输入的张量\n",
    "    n_rep : 复制次数\n",
    "    '''\n",
    "    # bs : batch size\n",
    "    # slen : sequence length\n",
    "    # n_kv_heads : number of key/value heads\n",
    "    # head_dim : head dimension\n",
    "    bs, slen, n_kv_heads, head_dim = x.shape\n",
    "    \n",
    "    # 如果n_rep等于1，那就没有必要复制张量，函数直接返回输入张量x。\n",
    "    if n_rep == 1:\n",
    "        return x \n",
    "    \n",
    "    # x[:, :, :, None, :]  添加新维度\n",
    "    # 通过在第四个维度位置插入一个新的维度（使用None或np.newaxis）来增加输入张量x的维度。\n",
    "    \n",
    "    # .expand(bs, slen, n_kv_heads, n_rep, head_dim) 张量扩展\n",
    "    # 使用expand方法来扩展张量的新维度，从而复制该维度。n_rep参数控制了新维度的大小，即复制的次数。\n",
    "    \n",
    "    # .reshape(bs, slen, n_kv_heads * n_rep, head_dim) 重塑张量\n",
    "    # 使用reshape方法将扩展后的张量重塑为最终的形状，这里通过乘以n_rep将 _kv_heads和新添加的维度合并为一个维度，从而得到最终的形状。\n",
    "    return (\n",
    "        x[:, :, :, None, :]\n",
    "        .expand(bs, slen, n_kv_heads, n_rep, head_dim)\n",
    "        .reshape(bs, slen, n_kv_heads * n_rep, head_dim)\n",
    "    )"
   ]
  },
  {
   "cell_type": "code",
   "execution_count": 4,
   "metadata": {},
   "outputs": [
    {
     "name": "stdout",
     "output_type": "stream",
     "text": [
      "torch.Size([2, 2, 2])\n",
      "torch.Size([2, 2, 6, 1])\n"
     ]
    }
   ],
   "source": [
    "# 1. 准备数据\n",
    "\n",
    "# 输入数据\n",
    "x = torch.tensor([\n",
    "    [[1, 2], [3, 4]],\n",
    "    [[5, 6], [7, 8]]\n",
    "])\n",
    "\n",
    "# 复制次数\n",
    "n_rep = 3\n",
    "\n",
    "print(x.shape)\n",
    "\n",
    "# 2. 调用上面定义的函数\n",
    "\n",
    "# 为 x 增加一个维度，匹配四个维度: bs, slen, n_kv_heads, head_dim\n",
    "x = x.unsqueeze(-1) # x shape : (2, 2, 2, 1)\n",
    "\n",
    "# 调用函数\n",
    "output_tensor = repeat_kv(x, n_rep)\n",
    "\n",
    "print(output_tensor.shape)"
   ]
  },
  {
   "cell_type": "markdown",
   "metadata": {},
   "source": [
    "## 计算Query/Key/Value向量原理\n",
    "\n",
    "在自注意力机制中，输入是一个序列的向量表示，每个向量都要被转换为三个不同的向量：Query（查询）向量、Key（键）向量和Value（值）向量。这三个向量是通过线性变换得到的，即通过与权重矩阵相乘来计算。  \n",
    "\n",
    "\n",
    "对于 Query 向量的计算，公式如下：  \n",
    "$Query$ = $X \\cdot W_Q$   \n",
    "其中: \n",
    "- $X$是输入向量，其形状为: (batch_size, seq_len, dim)  \n",
    "- $W_Q$ 是 Query向量的权重矩阵，其形状为 (dim, n_head $\\cdot$ head_dim)  \n",
    "- $Query$是计算得到Query向量，其形状为 (batch_size, seq_len, n_head $\\cdot$ head_dim)   \n",
    "\n",
    "$Key$ 和 $Value$ 向量的计算原理与上一致。  \n",
    "\n",
    "$Key = X \\cdot W_k$\n",
    "\n",
    "$Value = X \\cdot W_v$  "
   ]
  },
  {
   "cell_type": "markdown",
   "metadata": {},
   "source": []
  }
 ],
 "metadata": {
  "kernelspec": {
   "display_name": "langchain",
   "language": "python",
   "name": "python3"
  },
  "language_info": {
   "codemirror_mode": {
    "name": "ipython",
    "version": 3
   },
   "file_extension": ".py",
   "mimetype": "text/x-python",
   "name": "python",
   "nbconvert_exporter": "python",
   "pygments_lexer": "ipython3",
   "version": "3.10.14"
  }
 },
 "nbformat": 4,
 "nbformat_minor": 2
}
