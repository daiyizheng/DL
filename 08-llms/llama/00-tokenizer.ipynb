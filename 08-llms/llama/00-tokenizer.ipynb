{
 "cells": [
  {
   "cell_type": "code",
   "execution_count": null,
   "metadata": {},
   "outputs": [],
   "source": [
    "# Tokenizer"
   ]
  },
  {
   "cell_type": "code",
   "execution_count": null,
   "metadata": {},
   "outputs": [],
   "source": [
    "# Copyright (c) Meta Platforms, Inc. and affiliates.\n",
    "# This software may be used and distributed according to the terms of the Llama 2 Community License Agreement.\n",
    "\n",
    "import os\n",
    "from logging import getLogger\n",
    "from typing import List\n",
    "\n",
    "from sentencepiece import SentencePieceProcessor\n",
    "\n",
    "\n",
    "logger = getLogger()\n",
    "\n",
    "\n",
    "class Tokenizer:\n",
    "    def __init__(self, model_path: str):\n",
    "        # reload tokenizer\n",
    "        # 检查给定的模型路径是否指向一个有效的文件\n",
    "        assert os.path.isfile(model_path), model_path\n",
    "        # 使用SentencePiece模型从这个路径加载分词器\n",
    "        self.sp_model = SentencePieceProcessor(model_file=model_path)\n",
    "        logger.info(f\"Reloaded SentencePiece model from {model_path}\")\n",
    "\n",
    "        # BOS / EOS token IDs\n",
    "        # 从分词器中获取词汇表的大小\n",
    "        self.n_words: int = self.sp_model.vocab_size()\n",
    "        # BOS (开始符号)、EOS (结束符号)、PAD (填充符号)\n",
    "        self.bos_id: int = self.sp_model.bos_id()\n",
    "        self.eos_id: int = self.sp_model.eos_id()\n",
    "        self.pad_id: int = self.sp_model.pad_id()\n",
    "        logger.info(\n",
    "            f\"#words: {self.n_words} - BOS ID: {self.bos_id} - EOS ID: {self.eos_id}\"\n",
    "        )\n",
    "        # 确认从分词器获取的词汇表大小是否与通过get_piece_size()方法获取的值相等。\n",
    "        # 如果不相等，可能表示模型加载过程中出现问题。\n",
    "        assert self.sp_model.vocab_size() == self.sp_model.get_piece_size()\n",
    "\n",
    "    def encode(self, s: str, bos: bool, eos: bool) -> List[int]:\n",
    "        '''将文本转换为模型可接受的数字序列\n",
    "        bos和eos指示是否在序列的开始和结束添加开始和结束符号\n",
    "        '''\n",
    "        assert type(s) is str\n",
    "        # 使用SentencePiece模型将输入的字符串s编码为一个数字序列\n",
    "        t = self.sp_model.encode(s)\n",
    "        if bos:\n",
    "            # 在这个序列的开头添加一个开始符号\n",
    "            t = [self.bos_id] + t\n",
    "        if eos:\n",
    "            # 在序列的末尾添加一个结束符号\n",
    "            t = t + [self.eos_id]\n",
    "        return t\n",
    "\n",
    "    def decode(self, t: List[int]) -> str:\n",
    "        '''将模型输出的数字序列转换回文本'''\n",
    "        return self.sp_model.decode(t)\n"
   ]
  }
 ],
 "metadata": {
  "language_info": {
   "name": "python"
  }
 },
 "nbformat": 4,
 "nbformat_minor": 2
}
