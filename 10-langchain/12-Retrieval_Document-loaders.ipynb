{
 "cells": [
  {
   "cell_type": "markdown",
   "metadata": {},
   "source": [
    "# 自定义文档加载器\n",
    "## 概述\n",
    "\n",
    "基于llm的应用程序通常需要从数据库或文件(如pdf)中提取数据，并将其转换为llm可以使用的格式。在LangChain中，这通常涉及到创建`Document`对象，该对象封装了提取的文本(页面内容)以及包含文档详细信息(如作者姓名或出版日期)的元数据字典。\n",
    "\n",
    "`Document`对象通常被格式化为输入LLM的提示，允许LLM使用`Document`中的信息来生成所需的响应(例如，总结文档)。文档既可以立即使用，也可以索引到一个向量库中，以便将来检索和使用。\n",
    "\n",
    "文档加载的主要抽象是\n",
    "\n",
    "| 名称 | 描述 |\n",
    "| ---- | ---- |\n",
    "| Document | 包含`text`和`metadata` |\n",
    "| BaseLoader | 用于将原始数据转换为`Document` |\n",
    "| Blob | 二进制数据的一种表示形式，它位于文件或内存中 |\n",
    "| BaseBlobParser | 解析`Blob`以生成`Document`对象的逻辑 |\n",
    "\n",
    "本指南将演示如何编写自定义文档加载和文件解析逻辑;具体来说，我们将看到如何\n",
    "1. 通过从`BaseLoader`子类化创建一个标准文档加载器。\n",
    "2. 使用`BaseBlobParser`创建解析器，并将其与`Blob`和`blobloader`结合使用。这主要在处理文件时很有用。\n",
    "\n",
    "\n",
    "\n"
   ]
  },
  {
   "cell_type": "markdown",
   "metadata": {
    "vscode": {
     "languageId": "bat"
    }
   },
   "source": [
    "### Standard Document Loader\n",
    "\n",
    "文档加载器可以通过从`BaseLoader`子类化实现，`BaseLoader`提供了加载文档的标准接口。\n",
    "### Interface\n",
    "| Method Name | Explanation |\n",
    "| ---- | ---- |\n",
    "| lazy_load | 用于逐个惰性加载文档。用于生产代码。 |\n",
    "| alazy_load | `lazy_load`的异步变体 |\n",
    "| load | 用于急切地将所有文档装入内存。用于原型设计或交互工作。 |\n",
    "| aload | 用于急切地将所有文档装入内存。用于原型设计或交互工作。在2024-04年添加到LangChain。 |\n",
    "\n",
    "- `load`方法是一种方便的方法，仅用于它调用的原型--它只是调用了`list(self.lazy_load())`。\n",
    "- `alazy_load`有一个默认实现，它将委托给`lazy_load`。如果您使用async，我们建议重写默认实现并提供本机async实现。\n",
    "\n",
    "### 实施\n",
    "让我们创建一个标准文档加载器的示例，它加载文件并从文件中的每一行创建一个文档。"
   ]
  },
  {
   "cell_type": "code",
   "execution_count": 11,
   "metadata": {},
   "outputs": [],
   "source": [
    "from dotenv import load_dotenv, find_dotenv\n",
    "from langchain.globals import set_debug\n",
    "import os\n",
    "load_dotenv(find_dotenv())\n",
    "set_debug(False)"
   ]
  },
  {
   "cell_type": "code",
   "execution_count": null,
   "metadata": {},
   "outputs": [],
   "source": [
    "from typing import AsyncIterator, Iterator\n",
    "\n",
    "from langchain_core.document_loaders import BaseLoader\n",
    "from langchain_core.documents import Document\n",
    "\n",
    "\n",
    "class CustomDocumentLoader(BaseLoader):\n",
    "    \"\"\"An example document loader that reads a file line by line.\"\"\"\n",
    "\n",
    "    def __init__(self, file_path: str) -> None:\n",
    "        \"\"\"Initialize the loader with a file path.\n",
    "\n",
    "        Args:\n",
    "            file_path: The path to the file to load.\n",
    "        \"\"\"\n",
    "        self.file_path = file_path\n",
    "\n",
    "    def lazy_load(self) -> Iterator[Document]:  # <-- Does not take any arguments\n",
    "        \"\"\"A lazy loader that reads a file line by line.\n",
    "\n",
    "        When you're implementing lazy load methods, you should use a generator\n",
    "        to yield documents one by one.\n",
    "        \"\"\"\n",
    "        with open(self.file_path, encoding=\"utf-8\") as f:\n",
    "            line_number = 0\n",
    "            for line in f:\n",
    "                yield Document(\n",
    "                    page_content=line,\n",
    "                    metadata={\"line_number\": line_number, \"source\": self.file_path},\n",
    "                )\n",
    "                line_number += 1\n",
    "\n",
    "    # alazy_load is OPTIONAL.\n",
    "    # If you leave out the implementation, a default implementation which delegates to lazy_load will be used!\n",
    "    async def alazy_load(\n",
    "        self,\n",
    "    ) -> AsyncIterator[Document]:  # <-- Does not take any arguments\n",
    "        \"\"\"An async lazy loader that reads a file line by line.\"\"\"\n",
    "        # Requires aiofiles\n",
    "        # Install with `pip install aiofiles`\n",
    "        # https://github.com/Tinche/aiofiles\n",
    "        import aiofiles\n",
    "\n",
    "        async with aiofiles.open(self.file_path, encoding=\"utf-8\") as f:\n",
    "            line_number = 0\n",
    "            async for line in f:\n",
    "                yield Document(\n",
    "                    page_content=line,\n",
    "                    metadata={\"line_number\": line_number, \"source\": self.file_path},\n",
    "                )\n",
    "                line_number += 1"
   ]
  },
  {
   "cell_type": "code",
   "execution_count": null,
   "metadata": {},
   "outputs": [],
   "source": [
    "with open(\"./data/meow.txt\", \"w\", encoding=\"utf-8\") as f:\n",
    "    quality_content = \"meow meow🐱 \\n meow meow🐱 \\n meow😻😻\"\n",
    "    f.write(quality_content)\n",
    "\n",
    "loader = CustomDocumentLoader(\"./data/meow.txt\")"
   ]
  },
  {
   "cell_type": "code",
   "execution_count": null,
   "metadata": {},
   "outputs": [],
   "source": [
    "## Test out the lazy load interface\n",
    "for doc in loader.lazy_load():\n",
    "    print()\n",
    "    print(type(doc))\n",
    "    print(doc)"
   ]
  },
  {
   "cell_type": "code",
   "execution_count": null,
   "metadata": {},
   "outputs": [],
   "source": [
    "## Test out the async implementation\n",
    "async for doc in loader.alazy_load():\n",
    "    print()\n",
    "    print(type(doc))\n",
    "    print(doc)"
   ]
  },
  {
   "cell_type": "code",
   "execution_count": null,
   "metadata": {},
   "outputs": [],
   "source": [
    "loader.load()"
   ]
  },
  {
   "cell_type": "markdown",
   "metadata": {},
   "source": [
    "### Working with Files\n",
    "许多文档加载器都涉及解析文件。这些加载器之间的差异通常源于文件的解析方式，而不是文件的加载方式。例如，您可以使用open来读取PDF或markdown文件的二进制内容，但是需要不同的解析逻辑来将二进制数据转换为文本。\n",
    "\n",
    "因此，将解析逻辑与加载逻辑解耦是很有帮助的，这使得重用给定解析器变得更容易，而不管数据是如何加载的。"
   ]
  },
  {
   "cell_type": "markdown",
   "metadata": {},
   "source": [
    "#### BaseBlobParser\n",
    "`BaseBlobParser`是一个接口，它接受`blob`并输出`Document`对象列表。blob是存储在内存或文件中的数据的表示形式。LangChain python有一个`Blob`原语，它的灵感来自`Blob WebAPI`规范。\n",
    "\n",
    "\n"
   ]
  },
  {
   "cell_type": "code",
   "execution_count": null,
   "metadata": {},
   "outputs": [],
   "source": [
    "from langchain_core.document_loaders import BaseBlobParser, Blob\n",
    "\n",
    "\n",
    "class MyParser(BaseBlobParser):\n",
    "    \"\"\"A simple parser that creates a document from each line.\"\"\"\n",
    "\n",
    "    def lazy_parse(self, blob: Blob) -> Iterator[Document]:\n",
    "        \"\"\"Parse a blob into a document line by line.\"\"\"\n",
    "        line_number = 0\n",
    "        with blob.as_bytes_io() as f:\n",
    "            for line in f:\n",
    "                line_number += 1\n",
    "                yield Document(\n",
    "                    page_content=line,\n",
    "                    metadata={\"line_number\": line_number, \"source\": blob.source},\n",
    "                )"
   ]
  },
  {
   "cell_type": "code",
   "execution_count": null,
   "metadata": {},
   "outputs": [],
   "source": [
    "blob = Blob.from_path(\"./data/meow.txt\")\n",
    "parser = MyParser()"
   ]
  },
  {
   "cell_type": "code",
   "execution_count": null,
   "metadata": {},
   "outputs": [],
   "source": [
    "list(parser.lazy_parse(blob))"
   ]
  },
  {
   "cell_type": "markdown",
   "metadata": {},
   "source": [
    "使用blob API还允许直接从内存中加载内容，而不必从文件中读取内容"
   ]
  },
  {
   "cell_type": "code",
   "execution_count": null,
   "metadata": {},
   "outputs": [],
   "source": [
    "blob = Blob(data=b\"some data from memory\\nmeow\")\n",
    "list(parser.lazy_parse(blob))"
   ]
  },
  {
   "cell_type": "markdown",
   "metadata": {},
   "source": [
    "#### Blob\n",
    "让我们快速浏览一下Blob API。\n"
   ]
  },
  {
   "cell_type": "code",
   "execution_count": null,
   "metadata": {},
   "outputs": [],
   "source": [
    "blob = Blob.from_path(\"./data/meow.txt\", metadata={\"foo\": \"bar\"})\n",
    "blob.encoding"
   ]
  },
  {
   "cell_type": "code",
   "execution_count": null,
   "metadata": {},
   "outputs": [],
   "source": [
    "blob.as_bytes()"
   ]
  },
  {
   "cell_type": "code",
   "execution_count": null,
   "metadata": {},
   "outputs": [],
   "source": [
    "blob.as_string()"
   ]
  },
  {
   "cell_type": "code",
   "execution_count": null,
   "metadata": {},
   "outputs": [],
   "source": [
    "blob.as_bytes_io()"
   ]
  },
  {
   "cell_type": "code",
   "execution_count": null,
   "metadata": {},
   "outputs": [],
   "source": [
    "blob.metadata"
   ]
  },
  {
   "cell_type": "code",
   "execution_count": null,
   "metadata": {},
   "outputs": [],
   "source": [
    "blob.source"
   ]
  },
  {
   "cell_type": "markdown",
   "metadata": {},
   "source": [
    "#### Blob Loaders\n",
    "解析器封装将二进制数据解析为文档所需的逻辑，而blob加载器封装从给定存储位置加载blob所需的逻辑。\n",
    "\n",
    "目前，LangChain只支持`FileSystemBlobLoader`。       \n",
    "您可以使用`FileSystemBlobLoader`来加载`blob`，然后使用解析器来解析它们。\n"
   ]
  },
  {
   "cell_type": "code",
   "execution_count": null,
   "metadata": {},
   "outputs": [],
   "source": [
    "from langchain_community.document_loaders.blob_loaders import FileSystemBlobLoader\n",
    "\n",
    "blob_loader = FileSystemBlobLoader(path=\"./data/\", glob=\"*.txt\", show_progress=True)"
   ]
  },
  {
   "cell_type": "code",
   "execution_count": null,
   "metadata": {},
   "outputs": [],
   "source": [
    "parser = MyParser()\n",
    "for blob in blob_loader.yield_blobs():\n",
    "    for doc in parser.lazy_parse(blob):\n",
    "        print(doc)\n",
    "        break"
   ]
  },
  {
   "cell_type": "markdown",
   "metadata": {},
   "source": [
    "#### Generic Loader\n",
    "LangChain有一个`GenericLoader`抽象，它由一个`BlobLoader`和一个`BaseBlobParser`组成。\n",
    "\n",
    "`GenericLoader`旨在提供标准化的类方法，使使用现有`BlobLoader`实现变得容易。目前，只支持`FileSystemBlobLoader`。\n",
    "\n"
   ]
  },
  {
   "cell_type": "code",
   "execution_count": null,
   "metadata": {},
   "outputs": [],
   "source": [
    "from langchain_community.document_loaders.generic import GenericLoader\n",
    "\n",
    "loader = GenericLoader.from_filesystem(\n",
    "    path=\"./data\", glob=\"*.txt\", show_progress=True, parser=MyParser()\n",
    ")\n",
    "\n",
    "for idx, doc in enumerate(loader.lazy_load()):\n",
    "    if idx < 5:\n",
    "        print(doc)\n",
    "\n",
    "print(\"... output truncated for demo purposes\")"
   ]
  },
  {
   "cell_type": "markdown",
   "metadata": {},
   "source": [
    "#### Custom Generic Loader\n",
    "如果您真的喜欢创建类，您可以创建子类并创建一个类来将逻辑封装在一起。\n",
    "\n",
    "您可以从这个类创建子类，以使用现有加载器加载内容。"
   ]
  },
  {
   "cell_type": "code",
   "execution_count": null,
   "metadata": {},
   "outputs": [],
   "source": [
    "from typing import Any\n",
    "\n",
    "\n",
    "class MyCustomLoader(GenericLoader):\n",
    "    @staticmethod\n",
    "    def get_parser(**kwargs: Any) -> BaseBlobParser:\n",
    "        \"\"\"Override this method to associate a default parser with the class.\"\"\"\n",
    "        return MyParser()"
   ]
  },
  {
   "cell_type": "code",
   "execution_count": null,
   "metadata": {},
   "outputs": [],
   "source": [
    "loader = MyCustomLoader.from_filesystem(path=\"./data\", glob=\"*.txt\", show_progress=True)\n",
    "\n",
    "for idx, doc in enumerate(loader.lazy_load()):\n",
    "    if idx < 5:\n",
    "        print(doc)\n",
    "\n",
    "print(\"... output truncated for demo purposes\")"
   ]
  },
  {
   "cell_type": "markdown",
   "metadata": {},
   "source": [
    "### CSV\n",
    "逗号分隔值(CSV)文件是使用逗号分隔值的分隔文本文件。文件的每一行都是一个数据记录。每条记录由一个或多个以逗号分隔的字段组成。\n",
    "\n"
   ]
  },
  {
   "cell_type": "code",
   "execution_count": null,
   "metadata": {},
   "outputs": [],
   "source": [
    "from langchain_community.document_loaders.csv_loader import CSVLoader\n",
    "\n",
    "\n",
    "loader = CSVLoader(file_path='data/mlb_teams_2012.csv')\n",
    "data = loader.load()"
   ]
  },
  {
   "cell_type": "code",
   "execution_count": null,
   "metadata": {},
   "outputs": [],
   "source": [
    "data"
   ]
  },
  {
   "cell_type": "markdown",
   "metadata": {},
   "source": [
    "### Customizing the CSV parsing and loading\n"
   ]
  },
  {
   "cell_type": "code",
   "execution_count": null,
   "metadata": {},
   "outputs": [],
   "source": [
    "loader = CSVLoader(file_path='./data/mlb_teams_2012.csv', csv_args={\n",
    "    'delimiter': ',',\n",
    "    'quotechar': '\"',\n",
    "    'fieldnames': ['MLB Team', 'Payroll in millions', 'Wins']\n",
    "})\n",
    "\n",
    "data = loader.load()"
   ]
  },
  {
   "cell_type": "code",
   "execution_count": null,
   "metadata": {},
   "outputs": [],
   "source": [
    "data"
   ]
  },
  {
   "cell_type": "markdown",
   "metadata": {},
   "source": [
    "### 指定一个列来标识文档源\n",
    "使用`source`列参数为从每行创建的文档指定源。否则，`file_path`将用作从CSV文件创建的所有文档的源。\n",
    "\n",
    "当使用从CSV文件加载的文档用于使用源回答问题的链时，这很有用。\n",
    "\n"
   ]
  },
  {
   "cell_type": "code",
   "execution_count": null,
   "metadata": {},
   "outputs": [],
   "source": [
    "loader = CSVLoader(file_path='./data/mlb_teams_2012.csv', source_column=\"Team\")\n",
    "\n",
    "data = loader.load()"
   ]
  },
  {
   "cell_type": "code",
   "execution_count": null,
   "metadata": {},
   "outputs": [],
   "source": [
    "data"
   ]
  },
  {
   "cell_type": "markdown",
   "metadata": {
    "vscode": {
     "languageId": "bat"
    }
   },
   "source": [
    "### 文件目录\n",
    "这将介绍如何加载目录中的所有文档。\n",
    "\n",
    "在底层，默认情况下使用`UnstructuredLoader`。"
   ]
  },
  {
   "cell_type": "code",
   "execution_count": null,
   "metadata": {},
   "outputs": [],
   "source": [
    "from langchain_community.document_loaders import DirectoryLoader\n"
   ]
  },
  {
   "cell_type": "markdown",
   "metadata": {},
   "source": [
    "我们可以使用`glob`参数来控制加载哪些文件。注意，这里没有加载`.rst`文件或`.html`文件。"
   ]
  },
  {
   "cell_type": "code",
   "execution_count": null,
   "metadata": {},
   "outputs": [],
   "source": [
    "loader = DirectoryLoader('./data', glob=\"**/*.txt\")"
   ]
  },
  {
   "cell_type": "code",
   "execution_count": null,
   "metadata": {},
   "outputs": [],
   "source": [
    "docs = loader.load()\n",
    "docs"
   ]
  },
  {
   "cell_type": "code",
   "execution_count": null,
   "metadata": {},
   "outputs": [],
   "source": [
    "len(docs)"
   ]
  },
  {
   "cell_type": "markdown",
   "metadata": {},
   "source": [
    "### 显示进度条\n",
    "默认情况下不会显示进度条。要显示进度条，请安装`tqdm`库(例如`pip install tqdm`)，并将`show progress`参数设置为`True`。"
   ]
  },
  {
   "cell_type": "code",
   "execution_count": null,
   "metadata": {},
   "outputs": [],
   "source": [
    "loader = DirectoryLoader('./data', glob=\"**/*.txt\", show_progress=True)\n",
    "docs = loader.load()"
   ]
  },
  {
   "cell_type": "markdown",
   "metadata": {},
   "source": [
    "### Use multithreading\n",
    "默认情况下，加载发生在一个线程中。为了使用多个线程，将use多线程标志设置为true。"
   ]
  },
  {
   "cell_type": "code",
   "execution_count": null,
   "metadata": {},
   "outputs": [],
   "source": [
    "loader = DirectoryLoader('./data', glob=\"**/*.md\", use_multithreading=True)\n",
    "docs = loader.load()"
   ]
  },
  {
   "cell_type": "markdown",
   "metadata": {},
   "source": [
    "### 更改装入器类\n",
    "默认情况下，它使用`UnstructuredLoader`类。但是，您可以很容易地更改加载器的类型。"
   ]
  },
  {
   "cell_type": "code",
   "execution_count": null,
   "metadata": {},
   "outputs": [],
   "source": [
    "from langchain_community.document_loaders import TextLoader\n",
    "loader = DirectoryLoader('./data', glob=\"**/*.txt\", loader_cls=TextLoader)\n",
    "docs = loader.load()\n",
    "len(docs)"
   ]
  },
  {
   "cell_type": "markdown",
   "metadata": {},
   "source": [
    "如果需要加载`Python`源代码文件，请使用`PythonLoader`。"
   ]
  },
  {
   "cell_type": "code",
   "execution_count": null,
   "metadata": {},
   "outputs": [],
   "source": [
    "from langchain_community.document_loaders import PythonLoader\n",
    "loader = DirectoryLoader('./data', glob=\"**/*.py\", loader_cls=PythonLoader)\n",
    "docs = loader.load()\n",
    "len(docs)"
   ]
  },
  {
   "cell_type": "markdown",
   "metadata": {},
   "source": [
    "### 自动检测文件编码与TextLoader\n",
    "在这个例子中，我们将看到一些策略，这些策略在使用`TextLoader`类从目录加载大量任意文件时非常有用。\n",
    "首先为了说明这个问题，让我们尝试用任意编码加载多个文本。"
   ]
  },
  {
   "cell_type": "code",
   "execution_count": null,
   "metadata": {},
   "outputs": [],
   "source": [
    "path = './data'\n",
    "loader = DirectoryLoader(path, glob=\"**/*.txt\", loader_cls=TextLoader)\n",
    "loader.load()"
   ]
  },
  {
   "cell_type": "markdown",
   "metadata": {},
   "source": [
    "文件`example-non-utf8.txt`使用不同的编码，因此`load()`函数失败时将显示有用的消息，指出哪个文件解码失败。\n",
    "\n",
    "`TextLoader`的默认行为，任何失败加载任何文档将失败的整个加载过程，没有文档被加载。\n",
    "\n",
    "### B. Silent fail\n",
    "\n",
    "我们可以将参数`silent errors`传递给`DirectoryLoader`，以跳过无法加载的文件并继续加载过程。"
   ]
  },
  {
   "cell_type": "code",
   "execution_count": null,
   "metadata": {},
   "outputs": [],
   "source": [
    "loader = DirectoryLoader(path, glob=\"**/*.txt\", loader_cls=TextLoader, silent_errors=True)\n",
    "docs = loader.load()\n",
    "\n",
    "doc_sources = [doc.metadata['source']  for doc in docs]\n",
    "doc_sources"
   ]
  },
  {
   "cell_type": "markdown",
   "metadata": {},
   "source": [
    "### C. Auto detect encodings\n",
    "我们也可以通过将自动检测编码传递给加载器类来要求`TextLoader`在失败之前自动检测文件编码。"
   ]
  },
  {
   "cell_type": "code",
   "execution_count": null,
   "metadata": {},
   "outputs": [],
   "source": [
    "text_loader_kwargs={'autodetect_encoding': True}\n",
    "loader = DirectoryLoader(path, glob=\"**/*.txt\", loader_cls=TextLoader, loader_kwargs=text_loader_kwargs)\n",
    "docs = loader.load()\n",
    "\n",
    "doc_sources = [doc.metadata['source']  for doc in docs]\n",
    "doc_sources"
   ]
  },
  {
   "cell_type": "markdown",
   "metadata": {},
   "source": [
    "### HTML\n",
    "超文本标记语言或HTML是设计用于在web浏览器中显示的文档的标准标记语言。\n",
    "\n",
    "这将介绍如何将HTML文档加载为我们可以在后续使用的文档格式。"
   ]
  },
  {
   "cell_type": "code",
   "execution_count": null,
   "metadata": {},
   "outputs": [],
   "source": [
    "from langchain_community.document_loaders import UnstructuredHTMLLoader\n",
    "loader = UnstructuredHTMLLoader(\"data/fake-content.html\")\n",
    "data = loader.load()\n",
    "data"
   ]
  },
  {
   "cell_type": "markdown",
   "metadata": {},
   "source": [
    "### Loading HTML with BeautifulSoup4\n",
    "我们还可以使用`BeautifulSoup4`来使用`BSHTMLLoader`加载HTML文档。这将从HTML中将文本提取为页面内容，并将页面标题作为标题提取为元数据。"
   ]
  },
  {
   "cell_type": "code",
   "execution_count": null,
   "metadata": {},
   "outputs": [],
   "source": [
    "from langchain_community.document_loaders import BSHTMLLoader\n",
    "loader = BSHTMLLoader(\"data/fake-content.html\")\n",
    "data = loader.load()\n",
    "data"
   ]
  },
  {
   "cell_type": "markdown",
   "metadata": {},
   "source": [
    "#### Loading HTML with SpiderLoader\n",
    "蜘蛛是最快的爬行动物。它将任何网站转换为纯`HTML`, `markdown`，元数据或文本，同时使您能够使用人工智能进行自定义操作。\n",
    "\n",
    "Spider允许您使用高性能代理来防止检测，缓存AI动作，webhook用于爬行状态，计划爬行等…\n",
    "##### Prerequisite\n",
    "您需要有一个Spider api密钥才能使用这个加载器。你可以在spider.cloud上买到。\n",
    "\n"
   ]
  },
  {
   "cell_type": "code",
   "execution_count": null,
   "metadata": {},
   "outputs": [],
   "source": [
    "from langchain_community.document_loaders.spider import SpiderLoader\n",
    "\n",
    "loader = SpiderLoader(\n",
    "    api_key=os.environ[\"SPIDER_API_KEY\"], \n",
    "    url=\"https://spider.cloud\", \n",
    "    mode=\"crawl\"\n",
    ")\n",
    "\n",
    "data = loader.load()"
   ]
  },
  {
   "cell_type": "markdown",
   "metadata": {},
   "source": [
    "### Loading HTML with FireCrawlLoader\n",
    "FireCrawl抓取并转换任何网站为降价。它会抓取所有可访问的子页面，并为每个页面提供清晰的标记和元数据。\n",
    "\n",
    "firerawl处理复杂的任务，如反向代理、缓存、速率限制和JavaScript阻止的内容。\n",
    "\n",
    "**Prerequisite**      \n",
    "您需要有一个firerawl API密钥才能使用这个加载程序。你可以通过在firerawl注册获得一个。"
   ]
  },
  {
   "cell_type": "code",
   "execution_count": null,
   "metadata": {},
   "outputs": [],
   "source": [
    "%pip install --upgrade --quiet  langchain langchain-community firecrawl-py\n",
    "\n",
    "from langchain_community.document_loaders import FireCrawlLoader\n",
    "\n",
    "\n",
    "loader = FireCrawlLoader(\n",
    "    api_key=\"YOUR_API_KEY\", url=\"https://firecrawl.dev\", mode=\"crawl\"\n",
    ")\n",
    "\n",
    "data = loader.load()"
   ]
  },
  {
   "cell_type": "markdown",
   "metadata": {},
   "source": [
    "### Loading HTML with AzureAIDocumentIntelligenceLoader\n",
    "\n",
    "Azure AI文档智能（以前称为Azure形式识别器）是基于机器学习的服务，它可以提取文本（包括手写），表格，文档结构（例如，标题，截面标题等）和数字或键值配对扫描PDF，图像，办公室和HTML文件。文档智能支持PDF，JPEG/JPG，PNG，BMP，TIFF，HEIF，DOCX，XLSX，PPTX和HTML。\n",
    "\n",
    "当前使用文档智能的加载器实现可以按页面合并内容并将其转换为LangChain文档。默认的输出格式是markdown，它可以很容易地与MarkdownHeaderTextSplitter链接，用于语义文档分块。还可以使用mode=\"single\"或mode=\"page\"返回单个页面或按页面分割的文档中的纯文本。"
   ]
  },
  {
   "cell_type": "code",
   "execution_count": null,
   "metadata": {},
   "outputs": [],
   "source": [
    "!pip install --upgrade --quiet  langchain langchain-community azure-ai-documentintelligence\n",
    "\n",
    "from langchain_community.document_loaders import AzureAIDocumentIntelligenceLoader\n",
    "\n",
    "file_path = \"<filepath>\"\n",
    "endpoint = \"<endpoint>\"\n",
    "key = \"<key>\"\n",
    "loader = AzureAIDocumentIntelligenceLoader(\n",
    "    api_endpoint=endpoint, api_key=key, file_path=file_path, api_model=\"prebuilt-layout\"\n",
    ")\n",
    "\n",
    "documents = loader.load()"
   ]
  },
  {
   "cell_type": "markdown",
   "metadata": {},
   "source": [
    "## JSON\n",
    "JSON (JavaScript Object Notation)是一种开放的标准文件格式和数据交换格式，它使用人类可读的文本来存储和传输由属性值对和数组(或其他可序列化的值)组成的数据对象。\n",
    "\n",
    "JSON行是一种文件格式，其中每行都是一个有效的JSON值。\n",
    "\n",
    "JSONLoader使用指定的jq模式来解析JSON文件。它使用jq python包。有关jq语法的详细文档，请参阅本手册。\n",
    "\n"
   ]
  },
  {
   "cell_type": "code",
   "execution_count": 15,
   "metadata": {},
   "outputs": [
    {
     "data": {
      "text/plain": [
       "{'participants': [{'name': 'User 1'}, {'name': 'User 2'}],\n",
       " 'messages': [{'sender_name': 'User 2',\n",
       "   'timestamp_ms': 1675597571851,\n",
       "   'content': 'Bye!'},\n",
       "  {'sender_name': 'User 1',\n",
       "   'timestamp_ms': 1675597435669,\n",
       "   'content': 'Oh no worries! Bye'},\n",
       "  {'sender_name': 'User 2',\n",
       "   'timestamp_ms': 1675596277579,\n",
       "   'content': 'No Im sorry it was my mistake, the blue one is not for sale'},\n",
       "  {'sender_name': 'User 1',\n",
       "   'timestamp_ms': 1675595140251,\n",
       "   'content': 'I thought you were selling the blue one!'},\n",
       "  {'sender_name': 'User 1',\n",
       "   'timestamp_ms': 1675595109305,\n",
       "   'content': 'Im not interested in this bag. Im interested in the blue one!'},\n",
       "  {'sender_name': 'User 2',\n",
       "   'timestamp_ms': 1675595068468,\n",
       "   'content': 'Here is $129'},\n",
       "  {'sender_name': 'User 2',\n",
       "   'timestamp_ms': 1675595060730,\n",
       "   'photos': [{'uri': 'url_of_some_picture.jpg',\n",
       "     'creation_timestamp': 1675595059}]},\n",
       "  {'sender_name': 'User 2',\n",
       "   'timestamp_ms': 1675595045152,\n",
       "   'content': 'Online is at least $100'},\n",
       "  {'sender_name': 'User 1',\n",
       "   'timestamp_ms': 1675594799696,\n",
       "   'content': 'How much do you want?'},\n",
       "  {'sender_name': 'User 2',\n",
       "   'timestamp_ms': 1675577876645,\n",
       "   'content': 'Goodmorning! $50 is too low.'},\n",
       "  {'sender_name': 'User 1',\n",
       "   'timestamp_ms': 1675549022673,\n",
       "   'content': 'Hi! Im interested in your bag. Im offering $50. Let me know if you are interested. Thanks!'}],\n",
       " 'title': 'User 1 and User 2 chat',\n",
       " 'is_still_participant': True,\n",
       " 'thread_path': 'inbox/User 1 and User 2 chat',\n",
       " 'magic_words': [],\n",
       " 'image': {'uri': 'image_of_the_chat.jpg', 'creation_timestamp': 1675549016},\n",
       " 'joinable_mode': {'mode': 1, 'link': ''}}"
      ]
     },
     "execution_count": 15,
     "metadata": {},
     "output_type": "execute_result"
    }
   ],
   "source": [
    "from langchain_community.document_loaders import JSONLoader\n",
    "import json\n",
    "from pathlib import Path\n",
    "from pprint import pprint\n",
    "\n",
    "\n",
    "file_path='./data/facebook_chat.json'\n",
    "data = json.loads(Path(file_path).read_text())\n",
    "data"
   ]
  },
  {
   "cell_type": "markdown",
   "metadata": {},
   "source": [
    "### Using JSONLoader\n",
    "\n",
    "假设我们有兴趣提取JSON数据的消息键中的内容字段下的值。这可以通过JSONLoader轻松完成，如下所示。\n",
    "#### JSON file\n"
   ]
  },
  {
   "cell_type": "code",
   "execution_count": null,
   "metadata": {},
   "outputs": [],
   "source": [
    "loader = JSONLoader(\n",
    "    file_path='./data/facebook_chat.json',\n",
    "    jq_schema='.messages[].content',\n",
    "    text_content=False)\n",
    "\n",
    "data = loader.load()\n",
    "data"
   ]
  },
  {
   "cell_type": "markdown",
   "metadata": {},
   "source": [
    "#### JSON Lines file\n",
    "如果您想从JSON Lines文件加载文档，则传递`JSON Lines =True`并指定jq模式以从单个JSON对象提取页面内容。"
   ]
  },
  {
   "cell_type": "code",
   "execution_count": null,
   "metadata": {},
   "outputs": [],
   "source": [
    "file_path = './data/facebook_chat_messages.jsonl'\n",
    "pprint(Path(file_path).read_text())\n",
    "loader = JSONLoader(\n",
    "    file_path='./data/facebook_chat_messages.jsonl',\n",
    "    jq_schema='.content',\n",
    "    text_content=False,\n",
    "    json_lines=True)\n",
    "\n",
    "data = loader.load()\n",
    "data"
   ]
  },
  {
   "cell_type": "markdown",
   "metadata": {},
   "source": [
    "另一个选项是`set jq schema='.'`并提供`content_key`\n"
   ]
  },
  {
   "cell_type": "code",
   "execution_count": null,
   "metadata": {},
   "outputs": [],
   "source": [
    "loader = JSONLoader(\n",
    "    file_path='./data/facebook_chat_messages.jsonl',\n",
    "    jq_schema='.',\n",
    "    content_key='sender_name',\n",
    "    json_lines=True)\n",
    "\n",
    "data = loader.load()\n",
    "data"
   ]
  },
  {
   "cell_type": "markdown",
   "metadata": {},
   "source": [
    "### JSON file with jq schema content_key\n",
    "要使用jq模式中的内容键从JSON文件加载文档，请设置内容键jq parsable=True。确保内容键是兼容的，并且可以使用jq模式进行解析。"
   ]
  },
  {
   "cell_type": "code",
   "execution_count": null,
   "metadata": {},
   "outputs": [],
   "source": [
    "file_path = './data/sample.json'\n",
    "pprint(Path(file_path).read_text())\n",
    "loader = JSONLoader(\n",
    "    file_path=file_path,\n",
    "    jq_schema=\".data[]\",\n",
    "    content_key=\".attributes.message\",\n",
    "    is_content_key_jq_parsable=True,\n",
    ")\n",
    "\n",
    "data = loader.load()"
   ]
  },
  {
   "cell_type": "markdown",
   "metadata": {},
   "source": [
    "### Extracting metadata\n",
    "通常，我们希望将JSON文件中可用的元数据包含到从内容创建的文档中。\n",
    "下面演示如何使用`JSONLoader`提取元数据。\n",
    "\n",
    "有一些关键的变化需要注意。在前面的示例中，我们没有收集元数据，我们设法在模式中直接指定可以从中提取`page_content`的值。\n",
    "\n",
    "`.messages[].content`\n",
    "\n",
    "在当前的示例中，我们必须告诉加载器遍历消息字段中的记录。jq模式必须是\n",
    "\n",
    "\n",
    "这允许我们将记录(dict)传递到必须实现的元数据函数中。元数据函数负责确定记录中的哪些信息片段应该包含在存储在最终Document对象中的元数据中。\n",
    "\n",
    "此外，我们现在必须通过`content_key`参数在加载器中显式指定需要从中提取页面内容值的记录中的键。\n",
    "\n"
   ]
  },
  {
   "cell_type": "code",
   "execution_count": 2,
   "metadata": {},
   "outputs": [
    {
     "name": "stdout",
     "output_type": "stream",
     "text": [
      "---- {'sender_name': 'User 2', 'timestamp_ms': 1675597571851, 'content': 'Bye!'}\n",
      "---- {'sender_name': 'User 1', 'timestamp_ms': 1675597435669, 'content': 'Oh no worries! Bye'}\n",
      "---- {'sender_name': 'User 2', 'timestamp_ms': 1675596277579, 'content': 'No Im sorry it was my mistake, the blue one is not for sale'}\n",
      "---- {'sender_name': 'User 1', 'timestamp_ms': 1675595140251, 'content': 'I thought you were selling the blue one!'}\n",
      "---- {'sender_name': 'User 1', 'timestamp_ms': 1675595109305, 'content': 'Im not interested in this bag. Im interested in the blue one!'}\n",
      "---- {'sender_name': 'User 2', 'timestamp_ms': 1675595068468, 'content': 'Here is $129'}\n",
      "---- {'sender_name': 'User 2', 'timestamp_ms': 1675595060730, 'content': 'Online is at least $100', 'photos': [{'uri': 'url_of_some_picture.jpg', 'creation_timestamp': 1675595059}]}\n",
      "---- {'sender_name': 'User 2', 'timestamp_ms': 1675595045152, 'content': 'Online is at least $100'}\n",
      "---- {'sender_name': 'User 1', 'timestamp_ms': 1675594799696, 'content': 'How much do you want?'}\n",
      "---- {'sender_name': 'User 2', 'timestamp_ms': 1675577876645, 'content': 'Goodmorning! $50 is too low.'}\n",
      "---- {'sender_name': 'User 1', 'timestamp_ms': 1675549022673, 'content': 'Hi! Im interested in your bag. Im offering $50. Let me know if you are interested. Thanks!'}\n"
     ]
    },
    {
     "data": {
      "text/plain": [
       "[Document(page_content='Bye!', metadata={'source': '/Users/dyz/Documents/DL/10-langchain/data/facebook_chat.json', 'seq_num': 1, 'sender_name': 'User 2', 'timestamp_ms': 1675597571851}),\n",
       " Document(page_content='Oh no worries! Bye', metadata={'source': '/Users/dyz/Documents/DL/10-langchain/data/facebook_chat.json', 'seq_num': 2, 'sender_name': 'User 1', 'timestamp_ms': 1675597435669}),\n",
       " Document(page_content='No Im sorry it was my mistake, the blue one is not for sale', metadata={'source': '/Users/dyz/Documents/DL/10-langchain/data/facebook_chat.json', 'seq_num': 3, 'sender_name': 'User 2', 'timestamp_ms': 1675596277579}),\n",
       " Document(page_content='I thought you were selling the blue one!', metadata={'source': '/Users/dyz/Documents/DL/10-langchain/data/facebook_chat.json', 'seq_num': 4, 'sender_name': 'User 1', 'timestamp_ms': 1675595140251}),\n",
       " Document(page_content='Im not interested in this bag. Im interested in the blue one!', metadata={'source': '/Users/dyz/Documents/DL/10-langchain/data/facebook_chat.json', 'seq_num': 5, 'sender_name': 'User 1', 'timestamp_ms': 1675595109305}),\n",
       " Document(page_content='Here is $129', metadata={'source': '/Users/dyz/Documents/DL/10-langchain/data/facebook_chat.json', 'seq_num': 6, 'sender_name': 'User 2', 'timestamp_ms': 1675595068468}),\n",
       " Document(page_content='Online is at least $100', metadata={'source': '/Users/dyz/Documents/DL/10-langchain/data/facebook_chat.json', 'seq_num': 7, 'sender_name': 'User 2', 'timestamp_ms': 1675595060730}),\n",
       " Document(page_content='Online is at least $100', metadata={'source': '/Users/dyz/Documents/DL/10-langchain/data/facebook_chat.json', 'seq_num': 8, 'sender_name': 'User 2', 'timestamp_ms': 1675595045152}),\n",
       " Document(page_content='How much do you want?', metadata={'source': '/Users/dyz/Documents/DL/10-langchain/data/facebook_chat.json', 'seq_num': 9, 'sender_name': 'User 1', 'timestamp_ms': 1675594799696}),\n",
       " Document(page_content='Goodmorning! $50 is too low.', metadata={'source': '/Users/dyz/Documents/DL/10-langchain/data/facebook_chat.json', 'seq_num': 10, 'sender_name': 'User 2', 'timestamp_ms': 1675577876645}),\n",
       " Document(page_content='Hi! Im interested in your bag. Im offering $50. Let me know if you are interested. Thanks!', metadata={'source': '/Users/dyz/Documents/DL/10-langchain/data/facebook_chat.json', 'seq_num': 11, 'sender_name': 'User 1', 'timestamp_ms': 1675549022673})]"
      ]
     },
     "execution_count": 2,
     "metadata": {},
     "output_type": "execute_result"
    }
   ],
   "source": [
    "# Define the metadata extraction function.\n",
    "from langchain_community.document_loaders import JSONLoader\n",
    "def metadata_func(record: dict, metadata: dict) -> dict:\n",
    "\n",
    "    metadata[\"sender_name\"] = record.get(\"sender_name\")\n",
    "    metadata[\"timestamp_ms\"] = record.get(\"timestamp_ms\")\n",
    "\n",
    "    return metadata\n",
    "\n",
    "\n",
    "loader = JSONLoader(\n",
    "    file_path='./data/facebook_chat.json',\n",
    "    jq_schema='.messages[]',\n",
    "    content_key=\"content\",\n",
    "    metadata_func=metadata_func\n",
    ")\n",
    "\n",
    "data = loader.load()\n",
    "data"
   ]
  },
  {
   "cell_type": "markdown",
   "metadata": {},
   "source": [
    "### The metadata_func\n",
    "如上所示，元数据函数接受JSONLoader生成的默认元数据。这允许用户完全控制元数据的格式。\n",
    "\n",
    "例如，默认元数据包含源键和seq num键。但是，JSON数据也可能包含这些键。然后，用户可以利用元数据函数重命名默认键，并使用JSON数据中的键。\n",
    "\n",
    "下面的示例展示了如何修改源代码，使其只包含相对于langchain目录的文件源信息。"
   ]
  },
  {
   "cell_type": "code",
   "execution_count": 3,
   "metadata": {},
   "outputs": [
    {
     "name": "stdout",
     "output_type": "stream",
     "text": [
      "---- {'sender_name': 'User 2', 'timestamp_ms': 1675597571851, 'content': 'Bye!'}\n"
     ]
    },
    {
     "ename": "ValueError",
     "evalue": "'langchain' is not in list",
     "output_type": "error",
     "traceback": [
      "\u001b[0;31m---------------------------------------------------------------------------\u001b[0m",
      "\u001b[0;31mValueError\u001b[0m                                Traceback (most recent call last)",
      "Cell \u001b[0;32mIn[3], line 22\u001b[0m\n\u001b[1;32m     12\u001b[0m     \u001b[38;5;28;01mreturn\u001b[39;00m metadata\n\u001b[1;32m     15\u001b[0m loader \u001b[38;5;241m=\u001b[39m JSONLoader(\n\u001b[1;32m     16\u001b[0m     file_path\u001b[38;5;241m=\u001b[39m\u001b[38;5;124m'\u001b[39m\u001b[38;5;124m./data/facebook_chat.json\u001b[39m\u001b[38;5;124m'\u001b[39m,\n\u001b[1;32m     17\u001b[0m     jq_schema\u001b[38;5;241m=\u001b[39m\u001b[38;5;124m'\u001b[39m\u001b[38;5;124m.messages[]\u001b[39m\u001b[38;5;124m'\u001b[39m,\n\u001b[1;32m     18\u001b[0m     content_key\u001b[38;5;241m=\u001b[39m\u001b[38;5;124m\"\u001b[39m\u001b[38;5;124mcontent\u001b[39m\u001b[38;5;124m\"\u001b[39m,\n\u001b[1;32m     19\u001b[0m     metadata_func\u001b[38;5;241m=\u001b[39mmetadata_func\n\u001b[1;32m     20\u001b[0m )\n\u001b[0;32m---> 22\u001b[0m data \u001b[38;5;241m=\u001b[39m \u001b[43mloader\u001b[49m\u001b[38;5;241;43m.\u001b[39;49m\u001b[43mload\u001b[49m\u001b[43m(\u001b[49m\u001b[43m)\u001b[49m\n",
      "File \u001b[0;32m~/opt/anaconda3/envs/langchain/lib/python3.10/site-packages/langchain_core/document_loaders/base.py:29\u001b[0m, in \u001b[0;36mBaseLoader.load\u001b[0;34m(self)\u001b[0m\n\u001b[1;32m     27\u001b[0m \u001b[38;5;28;01mdef\u001b[39;00m \u001b[38;5;21mload\u001b[39m(\u001b[38;5;28mself\u001b[39m) \u001b[38;5;241m-\u001b[39m\u001b[38;5;241m>\u001b[39m List[Document]:\n\u001b[1;32m     28\u001b[0m \u001b[38;5;250m    \u001b[39m\u001b[38;5;124;03m\"\"\"Load data into Document objects.\"\"\"\u001b[39;00m\n\u001b[0;32m---> 29\u001b[0m     \u001b[38;5;28;01mreturn\u001b[39;00m \u001b[38;5;28;43mlist\u001b[39;49m\u001b[43m(\u001b[49m\u001b[38;5;28;43mself\u001b[39;49m\u001b[38;5;241;43m.\u001b[39;49m\u001b[43mlazy_load\u001b[49m\u001b[43m(\u001b[49m\u001b[43m)\u001b[49m\u001b[43m)\u001b[49m\n",
      "File \u001b[0;32m~/opt/anaconda3/envs/langchain/lib/python3.10/site-packages/langchain_community/document_loaders/json_loader.py:82\u001b[0m, in \u001b[0;36mJSONLoader.lazy_load\u001b[0;34m(self)\u001b[0m\n\u001b[1;32m     80\u001b[0m                     index \u001b[38;5;241m+\u001b[39m\u001b[38;5;241m=\u001b[39m \u001b[38;5;241m1\u001b[39m\n\u001b[1;32m     81\u001b[0m \u001b[38;5;28;01melse\u001b[39;00m:\n\u001b[0;32m---> 82\u001b[0m     \u001b[38;5;28;01mfor\u001b[39;00m doc \u001b[38;5;129;01min\u001b[39;00m \u001b[38;5;28mself\u001b[39m\u001b[38;5;241m.\u001b[39m_parse(\u001b[38;5;28mself\u001b[39m\u001b[38;5;241m.\u001b[39mfile_path\u001b[38;5;241m.\u001b[39mread_text(encoding\u001b[38;5;241m=\u001b[39m\u001b[38;5;124m\"\u001b[39m\u001b[38;5;124mutf-8\u001b[39m\u001b[38;5;124m\"\u001b[39m), index):\n\u001b[1;32m     83\u001b[0m         \u001b[38;5;28;01myield\u001b[39;00m doc\n\u001b[1;32m     84\u001b[0m         index \u001b[38;5;241m+\u001b[39m\u001b[38;5;241m=\u001b[39m \u001b[38;5;241m1\u001b[39m\n",
      "File \u001b[0;32m~/opt/anaconda3/envs/langchain/lib/python3.10/site-packages/langchain_community/document_loaders/json_loader.py:100\u001b[0m, in \u001b[0;36mJSONLoader._parse\u001b[0;34m(self, content, index)\u001b[0m\n\u001b[1;32m     98\u001b[0m \u001b[38;5;28;01mfor\u001b[39;00m i, sample \u001b[38;5;129;01min\u001b[39;00m \u001b[38;5;28menumerate\u001b[39m(data, index \u001b[38;5;241m+\u001b[39m \u001b[38;5;241m1\u001b[39m):\n\u001b[1;32m     99\u001b[0m     text \u001b[38;5;241m=\u001b[39m \u001b[38;5;28mself\u001b[39m\u001b[38;5;241m.\u001b[39m_get_text(sample\u001b[38;5;241m=\u001b[39msample)\n\u001b[0;32m--> 100\u001b[0m     metadata \u001b[38;5;241m=\u001b[39m \u001b[38;5;28;43mself\u001b[39;49m\u001b[38;5;241;43m.\u001b[39;49m\u001b[43m_get_metadata\u001b[49m\u001b[43m(\u001b[49m\n\u001b[1;32m    101\u001b[0m \u001b[43m        \u001b[49m\u001b[43msample\u001b[49m\u001b[38;5;241;43m=\u001b[39;49m\u001b[43msample\u001b[49m\u001b[43m,\u001b[49m\u001b[43m \u001b[49m\u001b[43msource\u001b[49m\u001b[38;5;241;43m=\u001b[39;49m\u001b[38;5;28;43mstr\u001b[39;49m\u001b[43m(\u001b[49m\u001b[38;5;28;43mself\u001b[39;49m\u001b[38;5;241;43m.\u001b[39;49m\u001b[43mfile_path\u001b[49m\u001b[43m)\u001b[49m\u001b[43m,\u001b[49m\u001b[43m \u001b[49m\u001b[43mseq_num\u001b[49m\u001b[38;5;241;43m=\u001b[39;49m\u001b[43mi\u001b[49m\n\u001b[1;32m    102\u001b[0m \u001b[43m    \u001b[49m\u001b[43m)\u001b[49m\n\u001b[1;32m    103\u001b[0m     \u001b[38;5;28;01myield\u001b[39;00m Document(page_content\u001b[38;5;241m=\u001b[39mtext, metadata\u001b[38;5;241m=\u001b[39mmetadata)\n",
      "File \u001b[0;32m~/opt/anaconda3/envs/langchain/lib/python3.10/site-packages/langchain_community/document_loaders/json_loader.py:142\u001b[0m, in \u001b[0;36m_get_metadata\u001b[0;34m(self, sample, **additional_fields)\u001b[0m\n\u001b[1;32m    140\u001b[0m     if self._metadata_func is not None:\n\u001b[1;32m    141\u001b[0m         return self._metadata_func(sample, additional_fields)\n\u001b[0;32m--> 142\u001b[0m     else:\n\u001b[1;32m    143\u001b[0m         return additional_fields\n\u001b[1;32m    145\u001b[0m def _validate_content_key(self, data: Any) -> None:\n",
      "Cell \u001b[0;32mIn[3], line 9\u001b[0m, in \u001b[0;36mmetadata_func\u001b[0;34m(record, metadata)\u001b[0m\n\u001b[1;32m      7\u001b[0m \u001b[38;5;28;01mif\u001b[39;00m \u001b[38;5;124m\"\u001b[39m\u001b[38;5;124msource\u001b[39m\u001b[38;5;124m\"\u001b[39m \u001b[38;5;129;01min\u001b[39;00m metadata:\n\u001b[1;32m      8\u001b[0m     source \u001b[38;5;241m=\u001b[39m metadata[\u001b[38;5;124m\"\u001b[39m\u001b[38;5;124msource\u001b[39m\u001b[38;5;124m\"\u001b[39m]\u001b[38;5;241m.\u001b[39msplit(\u001b[38;5;124m\"\u001b[39m\u001b[38;5;124m/\u001b[39m\u001b[38;5;124m\"\u001b[39m)\n\u001b[0;32m----> 9\u001b[0m     source \u001b[38;5;241m=\u001b[39m source[\u001b[43msource\u001b[49m\u001b[38;5;241;43m.\u001b[39;49m\u001b[43mindex\u001b[49m\u001b[43m(\u001b[49m\u001b[38;5;124;43m\"\u001b[39;49m\u001b[38;5;124;43mlangchain\u001b[39;49m\u001b[38;5;124;43m\"\u001b[39;49m\u001b[43m)\u001b[49m:]\n\u001b[1;32m     10\u001b[0m     metadata[\u001b[38;5;124m\"\u001b[39m\u001b[38;5;124msource\u001b[39m\u001b[38;5;124m\"\u001b[39m] \u001b[38;5;241m=\u001b[39m \u001b[38;5;124m\"\u001b[39m\u001b[38;5;124m/\u001b[39m\u001b[38;5;124m\"\u001b[39m\u001b[38;5;241m.\u001b[39mjoin(source)\n\u001b[1;32m     12\u001b[0m \u001b[38;5;28;01mreturn\u001b[39;00m metadata\n",
      "\u001b[0;31mValueError\u001b[0m: 'langchain' is not in list"
     ]
    }
   ],
   "source": [
    "# Define the metadata extraction function.\n",
    "def metadata_func(record: dict, metadata: dict) -> dict:\n",
    "\n",
    "    metadata[\"sender_name\"] = record.get(\"sender_name\")\n",
    "    metadata[\"timestamp_ms\"] = record.get(\"timestamp_ms\")\n",
    "\n",
    "    if \"source\" in metadata:\n",
    "        source = metadata[\"source\"].split(\"/\")\n",
    "        source = source[source.index(\"langchain\"):]\n",
    "        metadata[\"source\"] = \"/\".join(source)\n",
    "\n",
    "    return metadata\n",
    "\n",
    "\n",
    "loader = JSONLoader(\n",
    "    file_path='./data/facebook_chat.json',\n",
    "    jq_schema='.messages[]',\n",
    "    content_key=\"content\",\n",
    "    metadata_func=metadata_func\n",
    ")\n",
    "\n",
    "data = loader.load()"
   ]
  },
  {
   "cell_type": "markdown",
   "metadata": {},
   "source": [
    "### Common JSON structures with jq schema\n",
    "下面的列表提供了一个可能的jq模式的参考，用户可以根据结构从JSON数据中提取内容。\n",
    "```json\n",
    "\n",
    "JSON        -> [{\"text\": ...}, {\"text\": ...}, {\"text\": ...}]\n",
    "jq_schema   -> \".[].text\"\n",
    "\n",
    "JSON        -> {\"key\": [{\"text\": ...}, {\"text\": ...}, {\"text\": ...}]}\n",
    "jq_schema   -> \".key[].text\"\n",
    "\n",
    "JSON        -> [\"...\", \"...\", \"...\"]\n",
    "jq_schema   -> \".[]\"\n",
    "```"
   ]
  },
  {
   "cell_type": "markdown",
   "metadata": {},
   "source": [
    "### Markdown\n",
    "Markdown是一种轻量级标记语言，用于使用纯文本编辑器创建格式化文本。\n",
    "这将介绍如何将Markdown文档加载为我们可以在后续使用的文档格式。\n",
    "\n",
    "!pip install unstructured > /dev/null"
   ]
  },
  {
   "cell_type": "code",
   "execution_count": 6,
   "metadata": {},
   "outputs": [
    {
     "data": {
      "text/plain": [
       "[Document(page_content='学习笔记\\n\\n01 Python\\n\\n02 数据分析\\n\\n03 深度学习框架\\n\\nPytorch\\n\\nBatchNorm\\n\\n04 基础算法\\n\\n05 Statistical Inference\\n\\n重要性采样\\n\\n逆变换采样\\n\\n拒绝抽样\\n\\n吉布斯采样\\n\\n朗格万-蒙特卡洛\\n\\nMetropolis Hastings\\n\\n06 机器学习scikit-learn\\n\\nLinerRegression\\n\\nLogistics Regression\\n\\nTree\\n\\nRandomForest\\n\\nGBDT\\n\\nXGBoost\\n\\n深度学习模型\\n\\n注意力机制\\n\\n非参数注意力\\n\\n参数注意力\\n\\n内积注意力\\n\\n加性注意力\\n\\n多头注意力机制\\n\\nself-Attention\\n\\nPostions位置编码\\n\\nAIGC\\n\\nVAE\\n\\nGAN\\n\\nChatGPT', metadata={'source': './../README.md'})]"
      ]
     },
     "execution_count": 6,
     "metadata": {},
     "output_type": "execute_result"
    }
   ],
   "source": [
    "from langchain_community.document_loaders import UnstructuredMarkdownLoader\n",
    "markdown_path = \"./../README.md\"\n",
    "loader = UnstructuredMarkdownLoader(markdown_path)\n",
    "data = loader.load()\n",
    "data\n"
   ]
  },
  {
   "cell_type": "markdown",
   "metadata": {},
   "source": [
    "##### Retain Elements\n",
    "在底层，非结构化为不同的文本块创建不同的“元素”。默认情况下，我们将它们组合在一起，但您可以通过指定`mode=\"elements\"`轻松保持这种分离。"
   ]
  },
  {
   "cell_type": "code",
   "execution_count": 7,
   "metadata": {},
   "outputs": [
    {
     "data": {
      "text/plain": [
       "[Document(page_content='学习笔记', metadata={'source': './../README.md', 'last_modified': '2024-05-02T20:56:44', 'page_number': 1, 'languages': ['eng'], 'filetype': 'text/markdown', 'file_directory': './..', 'filename': 'README.md', 'category': 'Title'}),\n",
       " Document(page_content='01 Python', metadata={'source': './../README.md', 'last_modified': '2024-05-02T20:56:44', 'page_number': 1, 'languages': ['eng'], 'filetype': 'text/markdown', 'file_directory': './..', 'filename': 'README.md', 'category': 'Title'}),\n",
       " Document(page_content='02 数据分析', metadata={'source': './../README.md', 'last_modified': '2024-05-02T20:56:44', 'page_number': 1, 'languages': ['eng'], 'filetype': 'text/markdown', 'file_directory': './..', 'filename': 'README.md', 'category': 'Title'}),\n",
       " Document(page_content='03 深度学习框架', metadata={'source': './../README.md', 'last_modified': '2024-05-02T20:56:44', 'page_number': 1, 'languages': ['eng'], 'filetype': 'text/markdown', 'file_directory': './..', 'filename': 'README.md', 'category': 'Title'}),\n",
       " Document(page_content='Pytorch', metadata={'source': './../README.md', 'last_modified': '2024-05-02T20:56:44', 'page_number': 1, 'languages': ['eng'], 'filetype': 'text/markdown', 'file_directory': './..', 'filename': 'README.md', 'category': 'Title'}),\n",
       " Document(page_content='BatchNorm', metadata={'source': './../README.md', 'last_modified': '2024-05-02T20:56:44', 'page_number': 1, 'languages': ['eng'], 'parent_id': '5afa0d72dfe56b63088e863ce141db02', 'filetype': 'text/markdown', 'file_directory': './..', 'filename': 'README.md', 'category': 'ListItem'}),\n",
       " Document(page_content='04 基础算法', metadata={'source': './../README.md', 'last_modified': '2024-05-02T20:56:44', 'page_number': 1, 'languages': ['eng'], 'filetype': 'text/markdown', 'file_directory': './..', 'filename': 'README.md', 'category': 'Title'}),\n",
       " Document(page_content='05 Statistical Inference', metadata={'source': './../README.md', 'last_modified': '2024-05-02T20:56:44', 'page_number': 1, 'languages': ['eng'], 'filetype': 'text/markdown', 'file_directory': './..', 'filename': 'README.md', 'category': 'Title'}),\n",
       " Document(page_content='重要性采样', metadata={'source': './../README.md', 'last_modified': '2024-05-02T20:56:44', 'page_number': 1, 'languages': ['eng'], 'parent_id': '19efd145a7c7977c35f54c71e0bdd965', 'filetype': 'text/markdown', 'file_directory': './..', 'filename': 'README.md', 'category': 'ListItem'}),\n",
       " Document(page_content='逆变换采样', metadata={'source': './../README.md', 'last_modified': '2024-05-02T20:56:44', 'page_number': 1, 'languages': ['eng'], 'parent_id': '19efd145a7c7977c35f54c71e0bdd965', 'filetype': 'text/markdown', 'file_directory': './..', 'filename': 'README.md', 'category': 'ListItem'}),\n",
       " Document(page_content='拒绝抽样', metadata={'source': './../README.md', 'last_modified': '2024-05-02T20:56:44', 'page_number': 1, 'languages': ['eng'], 'parent_id': '19efd145a7c7977c35f54c71e0bdd965', 'filetype': 'text/markdown', 'file_directory': './..', 'filename': 'README.md', 'category': 'ListItem'}),\n",
       " Document(page_content='吉布斯采样', metadata={'source': './../README.md', 'last_modified': '2024-05-02T20:56:44', 'page_number': 1, 'languages': ['eng'], 'parent_id': '19efd145a7c7977c35f54c71e0bdd965', 'filetype': 'text/markdown', 'file_directory': './..', 'filename': 'README.md', 'category': 'ListItem'}),\n",
       " Document(page_content='朗格万-蒙特卡洛', metadata={'source': './../README.md', 'last_modified': '2024-05-02T20:56:44', 'page_number': 1, 'languages': ['eng'], 'parent_id': '19efd145a7c7977c35f54c71e0bdd965', 'filetype': 'text/markdown', 'file_directory': './..', 'filename': 'README.md', 'category': 'ListItem'}),\n",
       " Document(page_content='Metropolis Hastings', metadata={'source': './../README.md', 'last_modified': '2024-05-02T20:56:44', 'page_number': 1, 'languages': ['eng'], 'parent_id': '19efd145a7c7977c35f54c71e0bdd965', 'filetype': 'text/markdown', 'file_directory': './..', 'filename': 'README.md', 'category': 'ListItem'}),\n",
       " Document(page_content='06 机器学习scikit-learn', metadata={'source': './../README.md', 'last_modified': '2024-05-02T20:56:44', 'page_number': 1, 'languages': ['eng'], 'filetype': 'text/markdown', 'file_directory': './..', 'filename': 'README.md', 'category': 'Title'}),\n",
       " Document(page_content='LinerRegression', metadata={'source': './../README.md', 'last_modified': '2024-05-02T20:56:44', 'page_number': 1, 'languages': ['eng'], 'parent_id': '7a2d763e6af37854fac4d8d9dd547402', 'filetype': 'text/markdown', 'file_directory': './..', 'filename': 'README.md', 'category': 'ListItem'}),\n",
       " Document(page_content='Logistics Regression', metadata={'source': './../README.md', 'last_modified': '2024-05-02T20:56:44', 'page_number': 1, 'languages': ['eng'], 'parent_id': '7a2d763e6af37854fac4d8d9dd547402', 'filetype': 'text/markdown', 'file_directory': './..', 'filename': 'README.md', 'category': 'ListItem'}),\n",
       " Document(page_content='Tree', metadata={'source': './../README.md', 'last_modified': '2024-05-02T20:56:44', 'page_number': 1, 'languages': ['eng'], 'parent_id': '7a2d763e6af37854fac4d8d9dd547402', 'filetype': 'text/markdown', 'file_directory': './..', 'filename': 'README.md', 'category': 'ListItem'}),\n",
       " Document(page_content='RandomForest', metadata={'source': './../README.md', 'last_modified': '2024-05-02T20:56:44', 'page_number': 1, 'languages': ['eng'], 'parent_id': '7a2d763e6af37854fac4d8d9dd547402', 'filetype': 'text/markdown', 'file_directory': './..', 'filename': 'README.md', 'category': 'ListItem'}),\n",
       " Document(page_content='GBDT', metadata={'source': './../README.md', 'last_modified': '2024-05-02T20:56:44', 'page_number': 1, 'languages': ['eng'], 'parent_id': '7a2d763e6af37854fac4d8d9dd547402', 'filetype': 'text/markdown', 'file_directory': './..', 'filename': 'README.md', 'category': 'ListItem'}),\n",
       " Document(page_content='XGBoost', metadata={'source': './../README.md', 'last_modified': '2024-05-02T20:56:44', 'page_number': 1, 'languages': ['eng'], 'parent_id': '7a2d763e6af37854fac4d8d9dd547402', 'filetype': 'text/markdown', 'file_directory': './..', 'filename': 'README.md', 'category': 'ListItem'}),\n",
       " Document(page_content='深度学习模型', metadata={'source': './../README.md', 'last_modified': '2024-05-02T20:56:44', 'page_number': 1, 'languages': ['eng'], 'filetype': 'text/markdown', 'file_directory': './..', 'filename': 'README.md', 'category': 'Title'}),\n",
       " Document(page_content='注意力机制', metadata={'source': './../README.md', 'last_modified': '2024-05-02T20:56:44', 'page_number': 1, 'languages': ['eng'], 'filetype': 'text/markdown', 'file_directory': './..', 'filename': 'README.md', 'category': 'Title'}),\n",
       " Document(page_content='非参数注意力', metadata={'source': './../README.md', 'last_modified': '2024-05-02T20:56:44', 'page_number': 1, 'languages': ['eng'], 'parent_id': '97143b1a5da30ae0a0bf56d06a12a310', 'filetype': 'text/markdown', 'file_directory': './..', 'filename': 'README.md', 'category': 'ListItem'}),\n",
       " Document(page_content='参数注意力', metadata={'source': './../README.md', 'last_modified': '2024-05-02T20:56:44', 'page_number': 1, 'languages': ['eng'], 'parent_id': '97143b1a5da30ae0a0bf56d06a12a310', 'filetype': 'text/markdown', 'file_directory': './..', 'filename': 'README.md', 'category': 'ListItem'}),\n",
       " Document(page_content='内积注意力', metadata={'source': './../README.md', 'last_modified': '2024-05-02T20:56:44', 'page_number': 1, 'languages': ['eng'], 'parent_id': '97143b1a5da30ae0a0bf56d06a12a310', 'filetype': 'text/markdown', 'file_directory': './..', 'filename': 'README.md', 'category': 'ListItem'}),\n",
       " Document(page_content='加性注意力', metadata={'source': './../README.md', 'last_modified': '2024-05-02T20:56:44', 'page_number': 1, 'languages': ['eng'], 'parent_id': '97143b1a5da30ae0a0bf56d06a12a310', 'filetype': 'text/markdown', 'file_directory': './..', 'filename': 'README.md', 'category': 'ListItem'}),\n",
       " Document(page_content='多头注意力机制', metadata={'source': './../README.md', 'last_modified': '2024-05-02T20:56:44', 'page_number': 1, 'languages': ['eng'], 'parent_id': '97143b1a5da30ae0a0bf56d06a12a310', 'filetype': 'text/markdown', 'file_directory': './..', 'filename': 'README.md', 'category': 'ListItem'}),\n",
       " Document(page_content='self-Attention', metadata={'source': './../README.md', 'last_modified': '2024-05-02T20:56:44', 'page_number': 1, 'languages': ['eng'], 'parent_id': '97143b1a5da30ae0a0bf56d06a12a310', 'filetype': 'text/markdown', 'file_directory': './..', 'filename': 'README.md', 'category': 'ListItem'}),\n",
       " Document(page_content='Postions位置编码', metadata={'source': './../README.md', 'last_modified': '2024-05-02T20:56:44', 'page_number': 1, 'languages': ['eng'], 'filetype': 'text/markdown', 'file_directory': './..', 'filename': 'README.md', 'category': 'Title'}),\n",
       " Document(page_content='AIGC', metadata={'source': './../README.md', 'last_modified': '2024-05-02T20:56:44', 'page_number': 1, 'languages': ['eng'], 'filetype': 'text/markdown', 'file_directory': './..', 'filename': 'README.md', 'category': 'Title'}),\n",
       " Document(page_content='VAE', metadata={'source': './../README.md', 'last_modified': '2024-05-02T20:56:44', 'page_number': 1, 'languages': ['eng'], 'parent_id': '12aacdedc7ddaf87623df80c41fbd5b7', 'filetype': 'text/markdown', 'file_directory': './..', 'filename': 'README.md', 'category': 'ListItem'}),\n",
       " Document(page_content='GAN', metadata={'source': './../README.md', 'last_modified': '2024-05-02T20:56:44', 'page_number': 1, 'languages': ['eng'], 'parent_id': '12aacdedc7ddaf87623df80c41fbd5b7', 'filetype': 'text/markdown', 'file_directory': './..', 'filename': 'README.md', 'category': 'ListItem'}),\n",
       " Document(page_content='ChatGPT', metadata={'source': './../README.md', 'last_modified': '2024-05-02T20:56:44', 'page_number': 1, 'languages': ['eng'], 'filetype': 'text/markdown', 'file_directory': './..', 'filename': 'README.md', 'category': 'Title'})]"
      ]
     },
     "execution_count": 7,
     "metadata": {},
     "output_type": "execute_result"
    }
   ],
   "source": [
    "loader = UnstructuredMarkdownLoader(markdown_path, mode=\"elements\")\n",
    "data = loader.load()\n",
    "data"
   ]
  },
  {
   "cell_type": "markdown",
   "metadata": {},
   "source": [
    "## Microsoft Office\n",
    "Microsoft Office办公软件套件包括Microsoft Word、Microsoft Excel、Microsoft PowerPoint、Microsoft Outlook和Microsoft OneNote。适用于Microsoft Windows和macOS操作系统。它也可以在安卓和iOS上使用。\n",
    "\n",
    "这将介绍如何将常用的文件格式(包括DOCX、XLSX和PPTX文档)加载为我们可以在下游使用的文档格式。\n",
    "\n",
    "### Loading DOCX, XLSX, PPTX with AzureAIDocumentIntelligenceLoader\n",
    "Azure AI文档智能（以前称为Azure形式识别器）是基于机器学习的服务，它可以提取文本（包括手写），表格，文档结构（例如，标题，截面标题等）和数字或键值配对扫描PDF，图像，办公室和HTML文件。文档智能支持`PDF`，`JPEG/JPG`，`PNG`，`BMP`，`TIFF`，`HEIF`，`DOCX`，`XLSX`，`PPTX`和`HTML`。\n",
    "\n",
    "当前使用文档智能的加载器实现可以按页面合并内容并将其转换为`LangChain`文档。默认的输出格式是`markdown`，它可以很容易地与`MarkdownHeaderTextSplitter`链接，用于语义文档分块。还可以使用`mode=\"single\"`或`mode=\"page\"`返回单个页面或按页面分割的文档中的纯文本。\n",
    "\n",
    "**前提**\n",
    "在3个预览区之一的Azure AI文档智能资源:美国东部，美国西部，西欧-如果你没有，请按照本文档创建一个。您将把<endpoint>和<key>作为参数传递给加载器。\n",
    "\n",
    "\n",
    "\n"
   ]
  },
  {
   "cell_type": "code",
   "execution_count": null,
   "metadata": {},
   "outputs": [],
   "source": [
    "!pip install --upgrade --quiet  langchain langchain-community azure-ai-documentintelligence\n",
    "\n",
    "from langchain_community.document_loaders import AzureAIDocumentIntelligenceLoader\n",
    "\n",
    "file_path = \"<filepath>\"\n",
    "endpoint = \"<endpoint>\"\n",
    "key = \"<key>\"\n",
    "loader = AzureAIDocumentIntelligenceLoader(\n",
    "    api_endpoint=endpoint, api_key=key, file_path=file_path, api_model=\"prebuilt-layout\"\n",
    ")\n",
    "\n",
    "documents = loader.load()"
   ]
  },
  {
   "cell_type": "markdown",
   "metadata": {},
   "source": [
    "### PDF\n",
    "可移植文档格式(PDF)，标准化为ISO 32000，是Adobe在1992年开发的一种文件格式，用于以独立于应用软件、硬件和操作系统的方式呈现文档，包括文本格式和图像。\n",
    "\n",
    "这将介绍如何将PDF文档加载为我们在下游使用的Document格式。\n",
    "\n",
    "#### Using PyPDF\n",
    "使用pypdf将PDF加载到文档数组中，其中每个文档包含页面内容和带有页码的元数据。\n",
    "\n",
    "\n"
   ]
  },
  {
   "cell_type": "code",
   "execution_count": 8,
   "metadata": {},
   "outputs": [],
   "source": [
    "from langchain_community.document_loaders import PyPDFLoader\n",
    "\n",
    "loader = PyPDFLoader(\"./data/layout-parser-paper.pdf\")\n",
    "pages = loader.load_and_split()"
   ]
  },
  {
   "cell_type": "code",
   "execution_count": 9,
   "metadata": {},
   "outputs": [
    {
     "data": {
      "text/plain": [
       "Document(page_content='LayoutParser : A Uniﬁed Toolkit for Deep\\nLearning Based Document Image Analysis\\nZejiang Shen1( \\x00), Ruochen Zhang2, Melissa Dell3, Benjamin Charles Germain\\nLee4, Jacob Carlson3, and Weining Li5\\n1Allen Institute for AI\\nshannons@allenai.org\\n2Brown University\\nruochen zhang@brown.edu\\n3Harvard University\\n{melissadell,jacob carlson }@fas.harvard.edu\\n4University of Washington\\nbcgl@cs.washington.edu\\n5University of Waterloo\\nw422li@uwaterloo.ca\\nAbstract. Recent advances in document image analysis (DIA) have been\\nprimarily driven by the application of neural networks. Ideally, research\\noutcomes could be easily deployed in production and extended for further\\ninvestigation. However, various factors like loosely organized codebases\\nand sophisticated model conﬁgurations complicate the easy reuse of im-\\nportant innovations by a wide audience. Though there have been on-going\\neﬀorts to improve reusability and simplify deep learning (DL) model\\ndevelopment in disciplines like natural language processing and computer\\nvision, none of them are optimized for challenges in the domain of DIA.\\nThis represents a major gap in the existing toolkit, as DIA is central to\\nacademic research across a wide range of disciplines in the social sciences\\nand humanities. This paper introduces LayoutParser , an open-source\\nlibrary for streamlining the usage of DL in DIA research and applica-\\ntions. The core LayoutParser library comes with a set of simple and\\nintuitive interfaces for applying and customizing DL models for layout de-\\ntection, character recognition, and many other document processing tasks.\\nTo promote extensibility, LayoutParser also incorporates a community\\nplatform for sharing both pre-trained models and full document digiti-\\nzation pipelines. We demonstrate that LayoutParser is helpful for both\\nlightweight and large-scale digitization pipelines in real-word use cases.\\nThe library is publicly available at https://layout-parser.github.io .\\nKeywords: Document Image Analysis ·Deep Learning ·Layout Analysis\\n·Character Recognition ·Open Source library ·Toolkit.\\n1 Introduction\\nDeep Learning(DL)-based approaches are the state-of-the-art for a wide range of\\ndocument image analysis (DIA) tasks including document image classiﬁcation [ 11,arXiv:2103.15348v2  [cs.CV]  21 Jun 2021', metadata={'source': './data/layout-parser-paper.pdf', 'page': 0})"
      ]
     },
     "execution_count": 9,
     "metadata": {},
     "output_type": "execute_result"
    }
   ],
   "source": [
    "pages[0]"
   ]
  },
  {
   "cell_type": "code",
   "execution_count": 12,
   "metadata": {},
   "outputs": [
    {
     "name": "stdout",
     "output_type": "stream",
     "text": [
      "9: 10 Z. Shen et al.\n",
      "Fig. 4: Illustration of (a) the original historical Japanese document with layout\n",
      "detection results and (b) a recreated version of the document image that achieves\n",
      "much better character recognition recall. The reorganization algorithm rearranges\n",
      "the tokens based on the their detect\n",
      "3: 4 Z. Shen et al.\n",
      "Efficient Data AnnotationC u s t o m i z e d  M o d e l  T r a i n i n gModel Cust omizationDI A Model HubDI A Pipeline SharingCommunity PlatformLa y out Detection ModelsDocument Images \n",
      "T h e  C o r e  L a y o u t P a r s e r  L i b r a r yOCR ModuleSt or age & VisualizationLa y ou\n"
     ]
    }
   ],
   "source": [
    "from langchain_community.vectorstores import FAISS\n",
    "from langchain_openai import OpenAIEmbeddings\n",
    "\n",
    "faiss_index = FAISS.from_documents(pages, OpenAIEmbeddings())\n",
    "docs = faiss_index.similarity_search(\"How will the community be engaged?\", k=2)\n",
    "for doc in docs:\n",
    "    print(str(doc.metadata[\"page\"]) + \":\", doc.page_content[:300])"
   ]
  },
  {
   "cell_type": "markdown",
   "metadata": {},
   "source": [
    "#### Extracting images\n",
    "使用`rapidocr-onnxruntime`包，我们也可以提取图像作为文本\n"
   ]
  },
  {
   "cell_type": "code",
   "execution_count": 13,
   "metadata": {},
   "outputs": [
    {
     "data": {
      "text/plain": [
       "'LayoutParser : A Uniﬁed Toolkit for DL-Based DIA 5\\nTable 1: Current layout detection models in the LayoutParser model zoo\\nDataset Base Model1Large Model Notes\\nPubLayNet [38] F / M M Layouts of modern scientiﬁc documents\\nPRImA [3] M - Layouts of scanned modern magazines and scientiﬁc reports\\nNewspaper [17] F - Layouts of scanned US newspapers from the 20th century\\nTableBank [18] F F Table region on modern scientiﬁc and business document\\nHJDataset [31] F / M - Layouts of history Japanese documents\\n1For each dataset, we train several models of diﬀerent sizes for diﬀerent needs (the trade-oﬀ between accuracy\\nvs. computational cost). For “base model” and “large model”, we refer to using the ResNet 50 or ResNet 101\\nbackbones [ 13], respectively. One can train models of diﬀerent architectures, like Faster R-CNN [ 28] (F) and Mask\\nR-CNN [ 12] (M). For example, an F in the Large Model column indicates it has a Faster R-CNN model trained\\nusing the ResNet 101 backbone. The platform is maintained and a number of additions will be made to the model\\nzoo in coming months.\\nlayout data structures , which are optimized for eﬃciency and versatility. 3) When\\nnecessary, users can employ existing or customized OCR models via the uniﬁed\\nAPI provided in the OCR module . 4)LayoutParser comes with a set of utility\\nfunctions for the visualization and storage of the layout data. 5) LayoutParser\\nis also highly customizable, via its integration with functions for layout data\\nannotation and model training . We now provide detailed descriptions for each\\ncomponent.\\n3.1 Layout Detection Models\\nInLayoutParser , a layout model takes a document image as an input and\\ngenerates a list of rectangular boxes for the target content regions. Diﬀerent\\nfrom traditional methods, it relies on deep convolutional neural networks rather\\nthan manually curated rules to identify content regions. It is formulated as an\\nobject detection problem and state-of-the-art models like Faster R-CNN [ 28] and\\nMask R-CNN [ 12] are used. This yields prediction results of high accuracy and\\nmakes it possible to build a concise, generalized interface for layout detection.\\nLayoutParser , built upon Detectron2 [ 35], provides a minimal API that can\\nperform layout detection with only four lines of code in Python:\\n1import layoutparser as lp\\n2image = cv2. imread (\" image_file \") # load images\\n3model = lp. Detectron2LayoutModel (\\n4 \"lp :// PubLayNet / faster_rcnn_R_50_FPN_3x / config \")\\n5layout = model . detect ( image )\\nLayoutParser provides a wealth of pre-trained model weights using various\\ndatasets covering diﬀerent languages, time periods, and document types. Due to\\ndomain shift [ 7], the prediction performance can notably drop when models are ap-\\nplied to target samples that are signiﬁcantly diﬀerent from the training dataset. As\\ndocument structures and layouts vary greatly in diﬀerent domains, it is important\\nto select models trained on a dataset similar to the test samples. A semantic syntax\\nis used for initializing the model weights in LayoutParser , using both the dataset\\nname and model name lp://<dataset-name>/<model-architecture-name> .'"
      ]
     },
     "execution_count": 13,
     "metadata": {},
     "output_type": "execute_result"
    }
   ],
   "source": [
    "loader = PyPDFLoader(\"https://arxiv.org/pdf/2103.15348.pdf\", extract_images=True)\n",
    "pages = loader.load()\n",
    "pages[4].page_content"
   ]
  },
  {
   "cell_type": "markdown",
   "metadata": {},
   "source": [
    "#### Using PyMuPDF\n",
    "这是最快的PDF解析选项，包含关于PDF及其页面的详细元数据，并且每页返回一个文档。\n"
   ]
  },
  {
   "cell_type": "code",
   "execution_count": 16,
   "metadata": {},
   "outputs": [
    {
     "data": {
      "text/plain": [
       "Document(page_content='LayoutParser: A Uniﬁed Toolkit for Deep\\nLearning Based Document Image Analysis\\nZejiang Shen1 (\\x00), Ruochen Zhang2, Melissa Dell3, Benjamin Charles Germain\\nLee4, Jacob Carlson3, and Weining Li5\\n1 Allen Institute for AI\\nshannons@allenai.org\\n2 Brown University\\nruochen zhang@brown.edu\\n3 Harvard University\\n{melissadell,jacob carlson}@fas.harvard.edu\\n4 University of Washington\\nbcgl@cs.washington.edu\\n5 University of Waterloo\\nw422li@uwaterloo.ca\\nAbstract. Recent advances in document image analysis (DIA) have been\\nprimarily driven by the application of neural networks. Ideally, research\\noutcomes could be easily deployed in production and extended for further\\ninvestigation. However, various factors like loosely organized codebases\\nand sophisticated model conﬁgurations complicate the easy reuse of im-\\nportant innovations by a wide audience. Though there have been on-going\\neﬀorts to improve reusability and simplify deep learning (DL) model\\ndevelopment in disciplines like natural language processing and computer\\nvision, none of them are optimized for challenges in the domain of DIA.\\nThis represents a major gap in the existing toolkit, as DIA is central to\\nacademic research across a wide range of disciplines in the social sciences\\nand humanities. This paper introduces LayoutParser, an open-source\\nlibrary for streamlining the usage of DL in DIA research and applica-\\ntions. The core LayoutParser library comes with a set of simple and\\nintuitive interfaces for applying and customizing DL models for layout de-\\ntection, character recognition, and many other document processing tasks.\\nTo promote extensibility, LayoutParser also incorporates a community\\nplatform for sharing both pre-trained models and full document digiti-\\nzation pipelines. We demonstrate that LayoutParser is helpful for both\\nlightweight and large-scale digitization pipelines in real-word use cases.\\nThe library is publicly available at https://layout-parser.github.io.\\nKeywords: Document Image Analysis · Deep Learning · Layout Analysis\\n· Character Recognition · Open Source library · Toolkit.\\n1\\nIntroduction\\nDeep Learning(DL)-based approaches are the state-of-the-art for a wide range of\\ndocument image analysis (DIA) tasks including document image classiﬁcation [11,\\narXiv:2103.15348v2  [cs.CV]  21 Jun 2021\\n', metadata={'source': './data/layout-parser-paper.pdf', 'file_path': './data/layout-parser-paper.pdf', 'page': 0, 'total_pages': 16, 'format': 'PDF 1.5', 'title': '', 'author': '', 'subject': '', 'keywords': '', 'creator': 'LaTeX with hyperref', 'producer': 'pdfTeX-1.40.21', 'creationDate': 'D:20210622012710Z', 'modDate': 'D:20210622012710Z', 'trapped': ''})"
      ]
     },
     "execution_count": 16,
     "metadata": {},
     "output_type": "execute_result"
    }
   ],
   "source": [
    "from langchain_community.document_loaders import PyMuPDFLoader\n",
    "loader = PyMuPDFLoader(\"./data/layout-parser-paper.pdf\")\n",
    "data = loader.load()\n",
    "data[0]"
   ]
  },
  {
   "cell_type": "markdown",
   "metadata": {},
   "source": [
    "此外，您可以将PyMuPDF文档中的任何选项作为关键字参数传递给load调用，并将其传递给`get_text()`调用。"
   ]
  },
  {
   "cell_type": "markdown",
   "metadata": {},
   "source": [
    "#### Using MathPix\n",
    "受丹尼尔·格罗斯（Daniel Gross）https://gist.github.com/danielgross/3ab4104e14faccc12b49200843adab21的启发\n"
   ]
  },
  {
   "cell_type": "code",
   "execution_count": 17,
   "metadata": {},
   "outputs": [
    {
     "ename": "ValueError",
     "evalue": "Did not find mathpix_api_key, please add an environment variable `MATHPIX_API_KEY` which contains it, or pass `mathpix_api_key` as a named parameter.",
     "output_type": "error",
     "traceback": [
      "\u001b[0;31m---------------------------------------------------------------------------\u001b[0m",
      "\u001b[0;31mValueError\u001b[0m                                Traceback (most recent call last)",
      "Cell \u001b[0;32mIn[17], line 2\u001b[0m\n\u001b[1;32m      1\u001b[0m \u001b[38;5;28;01mfrom\u001b[39;00m \u001b[38;5;21;01mlangchain_community\u001b[39;00m\u001b[38;5;21;01m.\u001b[39;00m\u001b[38;5;21;01mdocument_loaders\u001b[39;00m \u001b[38;5;28;01mimport\u001b[39;00m MathpixPDFLoader\n\u001b[0;32m----> 2\u001b[0m loader \u001b[38;5;241m=\u001b[39m \u001b[43mMathpixPDFLoader\u001b[49m\u001b[43m(\u001b[49m\u001b[38;5;124;43m\"\u001b[39;49m\u001b[38;5;124;43mdata/layout-parser-paper.pdf\u001b[39;49m\u001b[38;5;124;43m\"\u001b[39;49m\u001b[43m)\u001b[49m\n\u001b[1;32m      3\u001b[0m data \u001b[38;5;241m=\u001b[39m loader\u001b[38;5;241m.\u001b[39mload()\n\u001b[1;32m      4\u001b[0m data\n",
      "File \u001b[0;32m~/opt/anaconda3/envs/langchain/lib/python3.10/site-packages/langchain_community/document_loaders/pdf.py:418\u001b[0m, in \u001b[0;36mMathpixPDFLoader.__init__\u001b[0;34m(self, file_path, processed_file_format, max_wait_time_seconds, should_clean_pdf, extra_request_data, **kwargs)\u001b[0m\n\u001b[1;32m    398\u001b[0m \u001b[38;5;28;01mdef\u001b[39;00m \u001b[38;5;21m__init__\u001b[39m(\n\u001b[1;32m    399\u001b[0m     \u001b[38;5;28mself\u001b[39m,\n\u001b[1;32m    400\u001b[0m     file_path: \u001b[38;5;28mstr\u001b[39m,\n\u001b[0;32m   (...)\u001b[0m\n\u001b[1;32m    405\u001b[0m     \u001b[38;5;241m*\u001b[39m\u001b[38;5;241m*\u001b[39mkwargs: Any,\n\u001b[1;32m    406\u001b[0m ) \u001b[38;5;241m-\u001b[39m\u001b[38;5;241m>\u001b[39m \u001b[38;5;28;01mNone\u001b[39;00m:\n\u001b[1;32m    407\u001b[0m \u001b[38;5;250m    \u001b[39m\u001b[38;5;124;03m\"\"\"Initialize with a file path.\u001b[39;00m\n\u001b[1;32m    408\u001b[0m \n\u001b[1;32m    409\u001b[0m \u001b[38;5;124;03m    Args:\u001b[39;00m\n\u001b[0;32m   (...)\u001b[0m\n\u001b[1;32m    416\u001b[0m \u001b[38;5;124;03m        **kwargs: additional keyword arguments.\u001b[39;00m\n\u001b[1;32m    417\u001b[0m \u001b[38;5;124;03m    \"\"\"\u001b[39;00m\n\u001b[0;32m--> 418\u001b[0m     \u001b[38;5;28mself\u001b[39m\u001b[38;5;241m.\u001b[39mmathpix_api_key \u001b[38;5;241m=\u001b[39m \u001b[43mget_from_dict_or_env\u001b[49m\u001b[43m(\u001b[49m\n\u001b[1;32m    419\u001b[0m \u001b[43m        \u001b[49m\u001b[43mkwargs\u001b[49m\u001b[43m,\u001b[49m\u001b[43m \u001b[49m\u001b[38;5;124;43m\"\u001b[39;49m\u001b[38;5;124;43mmathpix_api_key\u001b[39;49m\u001b[38;5;124;43m\"\u001b[39;49m\u001b[43m,\u001b[49m\u001b[43m \u001b[49m\u001b[38;5;124;43m\"\u001b[39;49m\u001b[38;5;124;43mMATHPIX_API_KEY\u001b[39;49m\u001b[38;5;124;43m\"\u001b[39;49m\n\u001b[1;32m    420\u001b[0m \u001b[43m    \u001b[49m\u001b[43m)\u001b[49m\n\u001b[1;32m    421\u001b[0m     \u001b[38;5;28mself\u001b[39m\u001b[38;5;241m.\u001b[39mmathpix_api_id \u001b[38;5;241m=\u001b[39m get_from_dict_or_env(\n\u001b[1;32m    422\u001b[0m         kwargs, \u001b[38;5;124m\"\u001b[39m\u001b[38;5;124mmathpix_api_id\u001b[39m\u001b[38;5;124m\"\u001b[39m, \u001b[38;5;124m\"\u001b[39m\u001b[38;5;124mMATHPIX_API_ID\u001b[39m\u001b[38;5;124m\"\u001b[39m\n\u001b[1;32m    423\u001b[0m     )\n\u001b[1;32m    425\u001b[0m     \u001b[38;5;66;03m# The base class isn't expecting these and doesn't collect **kwargs\u001b[39;00m\n",
      "File \u001b[0;32m~/opt/anaconda3/envs/langchain/lib/python3.10/site-packages/langchain_core/utils/env.py:31\u001b[0m, in \u001b[0;36mget_from_dict_or_env\u001b[0;34m(data, key, env_key, default)\u001b[0m\n\u001b[1;32m     29\u001b[0m     \u001b[38;5;28;01mreturn\u001b[39;00m data[key]\n\u001b[1;32m     30\u001b[0m \u001b[38;5;28;01melse\u001b[39;00m:\n\u001b[0;32m---> 31\u001b[0m     \u001b[38;5;28;01mreturn\u001b[39;00m \u001b[43mget_from_env\u001b[49m\u001b[43m(\u001b[49m\u001b[43mkey\u001b[49m\u001b[43m,\u001b[49m\u001b[43m \u001b[49m\u001b[43menv_key\u001b[49m\u001b[43m,\u001b[49m\u001b[43m \u001b[49m\u001b[43mdefault\u001b[49m\u001b[38;5;241;43m=\u001b[39;49m\u001b[43mdefault\u001b[49m\u001b[43m)\u001b[49m\n",
      "File \u001b[0;32m~/opt/anaconda3/envs/langchain/lib/python3.10/site-packages/langchain_core/utils/env.py:41\u001b[0m, in \u001b[0;36mget_from_env\u001b[0;34m(key, env_key, default)\u001b[0m\n\u001b[1;32m     39\u001b[0m     \u001b[38;5;28;01mreturn\u001b[39;00m default\n\u001b[1;32m     40\u001b[0m \u001b[38;5;28;01melse\u001b[39;00m:\n\u001b[0;32m---> 41\u001b[0m     \u001b[38;5;28;01mraise\u001b[39;00m \u001b[38;5;167;01mValueError\u001b[39;00m(\n\u001b[1;32m     42\u001b[0m         \u001b[38;5;124mf\u001b[39m\u001b[38;5;124m\"\u001b[39m\u001b[38;5;124mDid not find \u001b[39m\u001b[38;5;132;01m{\u001b[39;00mkey\u001b[38;5;132;01m}\u001b[39;00m\u001b[38;5;124m, please add an environment variable\u001b[39m\u001b[38;5;124m\"\u001b[39m\n\u001b[1;32m     43\u001b[0m         \u001b[38;5;124mf\u001b[39m\u001b[38;5;124m\"\u001b[39m\u001b[38;5;124m `\u001b[39m\u001b[38;5;132;01m{\u001b[39;00menv_key\u001b[38;5;132;01m}\u001b[39;00m\u001b[38;5;124m` which contains it, or pass\u001b[39m\u001b[38;5;124m\"\u001b[39m\n\u001b[1;32m     44\u001b[0m         \u001b[38;5;124mf\u001b[39m\u001b[38;5;124m\"\u001b[39m\u001b[38;5;124m `\u001b[39m\u001b[38;5;132;01m{\u001b[39;00mkey\u001b[38;5;132;01m}\u001b[39;00m\u001b[38;5;124m` as a named parameter.\u001b[39m\u001b[38;5;124m\"\u001b[39m\n\u001b[1;32m     45\u001b[0m     )\n",
      "\u001b[0;31mValueError\u001b[0m: Did not find mathpix_api_key, please add an environment variable `MATHPIX_API_KEY` which contains it, or pass `mathpix_api_key` as a named parameter."
     ]
    }
   ],
   "source": [
    "from langchain_community.document_loaders import MathpixPDFLoader\n",
    "loader = MathpixPDFLoader(\"data/layout-parser-paper.pdf\")\n",
    "data = loader.load()\n",
    "data\n"
   ]
  },
  {
   "cell_type": "markdown",
   "metadata": {},
   "source": [
    "### Using Unstructured\n",
    "unstructured[all-docs]包目前支持加载文本文件、ppt、html、pdf、图像等。"
   ]
  },
  {
   "cell_type": "code",
   "execution_count": 22,
   "metadata": {},
   "outputs": [],
   "source": [
    "from langchain_community.document_loaders import UnstructuredPDFLoader\n",
    "loader = UnstructuredPDFLoader(\"data/layout-parser-paper.pdf\")"
   ]
  },
  {
   "cell_type": "code",
   "execution_count": 23,
   "metadata": {},
   "outputs": [
    {
     "ename": "ImportError",
     "evalue": "cannot import name 'open_filename' from 'pdfminer.utils' (/Users/dyz/opt/anaconda3/envs/langchain/lib/python3.10/site-packages/pdfminer/utils.py)",
     "output_type": "error",
     "traceback": [
      "\u001b[0;31m---------------------------------------------------------------------------\u001b[0m",
      "\u001b[0;31mImportError\u001b[0m                               Traceback (most recent call last)",
      "Cell \u001b[0;32mIn[23], line 1\u001b[0m\n\u001b[0;32m----> 1\u001b[0m data \u001b[38;5;241m=\u001b[39m \u001b[43mloader\u001b[49m\u001b[38;5;241;43m.\u001b[39;49m\u001b[43mload\u001b[49m\u001b[43m(\u001b[49m\u001b[43m)\u001b[49m\n\u001b[1;32m      2\u001b[0m data[\u001b[38;5;241m0\u001b[39m]\n",
      "File \u001b[0;32m~/opt/anaconda3/envs/langchain/lib/python3.10/site-packages/langchain_core/document_loaders/base.py:29\u001b[0m, in \u001b[0;36mBaseLoader.load\u001b[0;34m(self)\u001b[0m\n\u001b[1;32m     27\u001b[0m \u001b[38;5;28;01mdef\u001b[39;00m \u001b[38;5;21mload\u001b[39m(\u001b[38;5;28mself\u001b[39m) \u001b[38;5;241m-\u001b[39m\u001b[38;5;241m>\u001b[39m List[Document]:\n\u001b[1;32m     28\u001b[0m \u001b[38;5;250m    \u001b[39m\u001b[38;5;124;03m\"\"\"Load data into Document objects.\"\"\"\u001b[39;00m\n\u001b[0;32m---> 29\u001b[0m     \u001b[38;5;28;01mreturn\u001b[39;00m \u001b[38;5;28;43mlist\u001b[39;49m\u001b[43m(\u001b[49m\u001b[38;5;28;43mself\u001b[39;49m\u001b[38;5;241;43m.\u001b[39;49m\u001b[43mlazy_load\u001b[49m\u001b[43m(\u001b[49m\u001b[43m)\u001b[49m\u001b[43m)\u001b[49m\n",
      "File \u001b[0;32m~/opt/anaconda3/envs/langchain/lib/python3.10/site-packages/langchain_community/document_loaders/unstructured.py:88\u001b[0m, in \u001b[0;36mUnstructuredBaseLoader.lazy_load\u001b[0;34m(self)\u001b[0m\n\u001b[1;32m     86\u001b[0m \u001b[38;5;28;01mdef\u001b[39;00m \u001b[38;5;21mlazy_load\u001b[39m(\u001b[38;5;28mself\u001b[39m) \u001b[38;5;241m-\u001b[39m\u001b[38;5;241m>\u001b[39m Iterator[Document]:\n\u001b[1;32m     87\u001b[0m \u001b[38;5;250m    \u001b[39m\u001b[38;5;124;03m\"\"\"Load file.\"\"\"\u001b[39;00m\n\u001b[0;32m---> 88\u001b[0m     elements \u001b[38;5;241m=\u001b[39m \u001b[38;5;28;43mself\u001b[39;49m\u001b[38;5;241;43m.\u001b[39;49m\u001b[43m_get_elements\u001b[49m\u001b[43m(\u001b[49m\u001b[43m)\u001b[49m\n\u001b[1;32m     89\u001b[0m     \u001b[38;5;28mself\u001b[39m\u001b[38;5;241m.\u001b[39m_post_process_elements(elements)\n\u001b[1;32m     90\u001b[0m     \u001b[38;5;28;01mif\u001b[39;00m \u001b[38;5;28mself\u001b[39m\u001b[38;5;241m.\u001b[39mmode \u001b[38;5;241m==\u001b[39m \u001b[38;5;124m\"\u001b[39m\u001b[38;5;124melements\u001b[39m\u001b[38;5;124m\"\u001b[39m:\n",
      "File \u001b[0;32m~/opt/anaconda3/envs/langchain/lib/python3.10/site-packages/langchain_community/document_loaders/pdf.py:71\u001b[0m, in \u001b[0;36mUnstructuredPDFLoader._get_elements\u001b[0;34m(self)\u001b[0m\n\u001b[1;32m     70\u001b[0m \u001b[38;5;28;01mdef\u001b[39;00m \u001b[38;5;21m_get_elements\u001b[39m(\u001b[38;5;28mself\u001b[39m) \u001b[38;5;241m-\u001b[39m\u001b[38;5;241m>\u001b[39m List:\n\u001b[0;32m---> 71\u001b[0m     \u001b[38;5;28;01mfrom\u001b[39;00m \u001b[38;5;21;01munstructured\u001b[39;00m\u001b[38;5;21;01m.\u001b[39;00m\u001b[38;5;21;01mpartition\u001b[39;00m\u001b[38;5;21;01m.\u001b[39;00m\u001b[38;5;21;01mpdf\u001b[39;00m \u001b[38;5;28;01mimport\u001b[39;00m partition_pdf\n\u001b[1;32m     73\u001b[0m     \u001b[38;5;28;01mreturn\u001b[39;00m partition_pdf(filename\u001b[38;5;241m=\u001b[39m\u001b[38;5;28mself\u001b[39m\u001b[38;5;241m.\u001b[39mfile_path, \u001b[38;5;241m*\u001b[39m\u001b[38;5;241m*\u001b[39m\u001b[38;5;28mself\u001b[39m\u001b[38;5;241m.\u001b[39munstructured_kwargs)\n",
      "File \u001b[0;32m~/opt/anaconda3/envs/langchain/lib/python3.10/site-packages/unstructured/partition/pdf.py:37\u001b[0m\n\u001b[1;32m     29\u001b[0m \u001b[38;5;28;01mfrom\u001b[39;00m \u001b[38;5;21;01mpdfminer\u001b[39;00m\u001b[38;5;21;01m.\u001b[39;00m\u001b[38;5;21;01mlayout\u001b[39;00m \u001b[38;5;28;01mimport\u001b[39;00m (\n\u001b[1;32m     30\u001b[0m     LTChar,\n\u001b[1;32m     31\u001b[0m     LTContainer,\n\u001b[0;32m   (...)\u001b[0m\n\u001b[1;32m     34\u001b[0m     LTTextBox,\n\u001b[1;32m     35\u001b[0m )\n\u001b[1;32m     36\u001b[0m \u001b[38;5;28;01mfrom\u001b[39;00m \u001b[38;5;21;01mpdfminer\u001b[39;00m\u001b[38;5;21;01m.\u001b[39;00m\u001b[38;5;21;01mpdftypes\u001b[39;00m \u001b[38;5;28;01mimport\u001b[39;00m PDFObjRef\n\u001b[0;32m---> 37\u001b[0m \u001b[38;5;28;01mfrom\u001b[39;00m \u001b[38;5;21;01mpdfminer\u001b[39;00m\u001b[38;5;21;01m.\u001b[39;00m\u001b[38;5;21;01mutils\u001b[39;00m \u001b[38;5;28;01mimport\u001b[39;00m open_filename\n\u001b[1;32m     38\u001b[0m \u001b[38;5;28;01mfrom\u001b[39;00m \u001b[38;5;21;01mPIL\u001b[39;00m \u001b[38;5;28;01mimport\u001b[39;00m Image \u001b[38;5;28;01mas\u001b[39;00m PILImage\n\u001b[1;32m     39\u001b[0m \u001b[38;5;28;01mfrom\u001b[39;00m \u001b[38;5;21;01mpillow_heif\u001b[39;00m \u001b[38;5;28;01mimport\u001b[39;00m register_heif_opener\n",
      "\u001b[0;31mImportError\u001b[0m: cannot import name 'open_filename' from 'pdfminer.utils' (/Users/dyz/opt/anaconda3/envs/langchain/lib/python3.10/site-packages/pdfminer/utils.py)"
     ]
    }
   ],
   "source": [
    "data = loader.load()\n",
    "data[0]"
   ]
  },
  {
   "cell_type": "markdown",
   "metadata": {},
   "source": [
    "#### Retain Elements\n",
    "在底层，非结构化为不同的文本块创建不同的“元素”。默认情况下，我们将它们组合在一起，但您可以通过指定`mode=\"elements\"`轻松保持这种分离。\n",
    "\n"
   ]
  },
  {
   "cell_type": "code",
   "execution_count": 24,
   "metadata": {},
   "outputs": [],
   "source": [
    "loader = UnstructuredPDFLoader(\"data/layout-parser-paper.pdf\", mode=\"elements\")\n",
    "data = loader.load()\n",
    "data[0]"
   ]
  },
  {
   "cell_type": "markdown",
   "metadata": {},
   "source": [
    "#### Fetching remote PDFs using Unstructured\n",
    "这涵盖了如何将在线PDF加载到可以使用下游的文档格式中。这可以用于各种在线PDF网站，例如https://open.umn.edu/opentextbooks/textbooks/和https://arxiv.org/archive/\n",
    "\n",
    "注意:所有其他PDF加载器也可以用来获取远程PDF，但是`OnlinePDFLoader`是一个遗留函数，并且专门与`UnstructuredPDFLoader`一起工作。"
   ]
  },
  {
   "cell_type": "code",
   "execution_count": null,
   "metadata": {},
   "outputs": [],
   "source": [
    "from langchain_community.document_loaders import OnlinePDFLoader\n",
    "loader = OnlinePDFLoader(\"https://arxiv.org/pdf/2302.03803.pdf\")\n",
    "data = loader.load()\n",
    "data[0]"
   ]
  },
  {
   "cell_type": "markdown",
   "metadata": {},
   "source": [
    "### Using PyPDFium2\n"
   ]
  },
  {
   "cell_type": "code",
   "execution_count": 26,
   "metadata": {},
   "outputs": [
    {
     "name": "stderr",
     "output_type": "stream",
     "text": [
      "/Users/dyz/opt/anaconda3/envs/langchain/lib/python3.10/site-packages/pypdfium2/_helpers/textpage.py:81: UserWarning: get_text_range() call with default params will be implicitly redirected to get_text_bounded()\n",
      "  warnings.warn(\"get_text_range() call with default params will be implicitly redirected to get_text_bounded()\")\n"
     ]
    },
    {
     "data": {
      "text/plain": [
       "[Document(page_content='LayoutParser: A Unified Toolkit for Deep\\r\\nLearning Based Document Image Analysis\\r\\nZejiang Shen\\r\\n1\\r\\n(), Ruochen Zhang\\r\\n2\\r\\n, Melissa Dell\\r\\n3\\r\\n, Benjamin Charles Germain\\r\\nLee\\r\\n4\\r\\n, Jacob Carlson\\r\\n3\\r\\n, and Weining Li\\r\\n5\\r\\n1 Allen Institute for AI\\r\\nshannons@allenai.org 2 Brown University\\r\\nruochen zhang@brown.edu 3 Harvard University\\r\\n{melissadell,jacob carlson}@fas.harvard.edu\\r\\n4 University of Washington\\r\\nbcgl@cs.washington.edu 5 University of Waterloo\\r\\nw422li@uwaterloo.ca\\r\\nAbstract. Recent advances in document image analysis (DIA) have been\\r\\nprimarily driven by the application of neural networks. Ideally, research\\r\\noutcomes could be easily deployed in production and extended for further\\r\\ninvestigation. However, various factors like loosely organized codebases\\r\\nand sophisticated model configurations complicate the easy reuse of im\\x02portant innovations by a wide audience. Though there have been on-going\\r\\nefforts to improve reusability and simplify deep learning (DL) model\\r\\ndevelopment in disciplines like natural language processing and computer\\r\\nvision, none of them are optimized for challenges in the domain of DIA.\\r\\nThis represents a major gap in the existing toolkit, as DIA is central to\\r\\nacademic research across a wide range of disciplines in the social sciences\\r\\nand humanities. This paper introduces LayoutParser, an open-source\\r\\nlibrary for streamlining the usage of DL in DIA research and applica\\x02tions. The core LayoutParser library comes with a set of simple and\\r\\nintuitive interfaces for applying and customizing DL models for layout de\\x02tection, character recognition, and many other document processing tasks.\\r\\nTo promote extensibility, LayoutParser also incorporates a community\\r\\nplatform for sharing both pre-trained models and full document digiti\\x02zation pipelines. We demonstrate that LayoutParser is helpful for both\\r\\nlightweight and large-scale digitization pipelines in real-word use cases.\\r\\nThe library is publicly available at https://layout-parser.github.io.\\r\\nKeywords: Document Image Analysis· Deep Learning· Layout Analysis\\r\\n· Character Recognition· Open Source library· Toolkit.\\r\\n1 Introduction\\r\\nDeep Learning(DL)-based approaches are the state-of-the-art for a wide range of\\r\\ndocument image analysis (DIA) tasks including document image classification [11,\\r\\narXiv:2103.15348v2 [cs.CV] 21 Jun 2021\\n', metadata={'source': 'data/layout-parser-paper.pdf', 'page': 0}),\n",
       " Document(page_content='2 Z. Shen et al.\\r\\n37], layout detection [38, 22], table detection [26], and scene text detection [4].\\r\\nA generalized learning-based framework dramatically reduces the need for the\\r\\nmanual specification of complicated rules, which is the status quo with traditional\\r\\nmethods. DL has the potential to transform DIA pipelines and benefit a broad\\r\\nspectrum of large-scale document digitization projects.\\r\\nHowever, there are several practical difficulties for taking advantages of re\\x02cent advances in DL-based methods: 1) DL models are notoriously convoluted\\r\\nfor reuse and extension. Existing models are developed using distinct frame\\x02works like TensorFlow [1] or PyTorch [24], and the high-level parameters can\\r\\nbe obfuscated by implementation details [8]. It can be a time-consuming and\\r\\nfrustrating experience to debug, reproduce, and adapt existing models for DIA,\\r\\nand many researchers who would benefit the most from using these methods lack\\r\\nthe technical background to implement them from scratch. 2) Document images\\r\\ncontain diverse and disparate patterns across domains, and customized training\\r\\nis often required to achieve a desirable detection accuracy. Currently there is no\\r\\nfull-fledged infrastructure for easily curating the target document image datasets\\r\\nand fine-tuning or re-training the models. 3) DIA usually requires a sequence of\\r\\nmodels and other processing to obtain the final outputs. Often research teams use\\r\\nDL models and then perform further document analyses in separate processes,\\r\\nand these pipelines are not documented in any central location (and often not\\r\\ndocumented at all). This makes it difficult for research teams to learn about how\\r\\nfull pipelines are implemented and leads them to invest significant resources in\\r\\nreinventing the DIA wheel.\\r\\nLayoutParser provides a unified toolkit to support DL-based document image\\r\\nanalysis and processing. To address the aforementioned challenges, LayoutParser\\r\\nis built with the following components:\\r\\n1. An off-the-shelf toolkit for applying DL models for layout detection, character\\r\\nrecognition, and other DIA tasks (Section 3)\\r\\n2. A rich repository of pre-trained neural network models (Model Zoo) that\\r\\nunderlies the off-the-shelf usage\\r\\n3. Comprehensive tools for efficient document image data annotation and model\\r\\ntuning to support different levels of customization\\r\\n4. A DL model hub and community platform for the easy sharing, distribu\\x02tion, and discussion of DIA models and pipelines, to promote reusability,\\r\\nreproducibility, and extensibility (Section 4)\\r\\nThe library implements simple and intuitive Python APIs without sacrificing\\r\\ngeneralizability and versatility, and can be easily installed via pip. Its convenient\\r\\nfunctions for handling document image data can be seamlessly integrated with\\r\\nexisting DIA pipelines. With detailed documentations and carefully curated\\r\\ntutorials, we hope this tool will benefit a variety of end-users, and will lead to\\r\\nadvances in applications in both industry and academic research.\\r\\nLayoutParser is well aligned with recent efforts for improving DL model\\r\\nreusability in other disciplines like natural language processing [8, 34] and com\\x02puter vision [35], but with a focus on unique challenges in DIA. We show\\r\\nLayoutParser can be applied in sophisticated and large-scale digitization projects\\n', metadata={'source': 'data/layout-parser-paper.pdf', 'page': 1}),\n",
       " Document(page_content='LayoutParser: A Unified Toolkit for DL-Based DIA 3\\r\\nthat require precision, efficiency, and robustness, as well as simple and light\\x02weight document processing tasks focusing on efficacy and flexibility (Section 5).\\r\\nLayoutParser is being actively maintained, and support for more deep learning\\r\\nmodels and novel methods in text-based layout analysis methods [37, 34] is\\r\\nplanned.\\r\\nThe rest of the paper is organized as follows. Section 2 provides an overview\\r\\nof related work. The core LayoutParser library, DL Model Zoo, and customized\\r\\nmodel training are described in Section 3, and the DL model hub and commu\\x02nity platform are detailed in Section 4. Section 5 shows two examples of how\\r\\nLayoutParser can be used in practical DIA projects, and Section 6 concludes.\\r\\n2 Related Work\\r\\nRecently, various DL models and datasets have been developed for layout analysis\\r\\ntasks. The dhSegment [22] utilizes fully convolutional networks [20] for segmen\\x02tation tasks on historical documents. Object detection-based methods like Faster\\r\\nR-CNN [28] and Mask R-CNN [12] are used for identifying document elements [38]\\r\\nand detecting tables [30, 26]. Most recently, Graph Neural Networks [29] have also\\r\\nbeen used in table detection [27]. However, these models are usually implemented\\r\\nindividually and there is no unified framework to load and use such models.\\r\\nThere has been a surge of interest in creating open-source tools for document\\r\\nimage processing: a search of document image analysis in Github leads to 5M\\r\\nrelevant code pieces 6; yet most of them rely on traditional rule-based methods\\r\\nor provide limited functionalities. The closest prior research to our work is the\\r\\nOCR-D project7, which also tries to build a complete toolkit for DIA. However,\\r\\nsimilar to the platform developed by Neudecker et al. [21], it is designed for\\r\\nanalyzing historical documents, and provides no supports for recent DL models.\\r\\nThe DocumentLayoutAnalysis project8focuses on processing born-digital PDF\\r\\ndocuments via analyzing the stored PDF data. Repositories like DeepLayout9\\r\\nand Detectron2-PubLayNet10 are individual deep learning models trained on\\r\\nlayout analysis datasets without support for the full DIA pipeline. The Document\\r\\nAnalysis and Exploitation (DAE) platform [15] and the DeepDIVA project [2]\\r\\naim to improve the reproducibility of DIA methods (or DL models), yet they\\r\\nare not actively maintained. OCR engines like Tesseract [14], easyOCR11 and\\r\\npaddleOCR12 usually do not come with comprehensive functionalities for other\\r\\nDIA tasks like layout analysis.\\r\\nRecent years have also seen numerous efforts to create libraries for promoting\\r\\nreproducibility and reusability in the field of DL. Libraries like Dectectron2 [35],\\r\\n6 The number shown is obtained by specifying the search type as ‘code’.\\r\\n7 https://ocr-d.de/en/about\\r\\n8 https://github.com/BobLd/DocumentLayoutAnalysis\\r\\n9 https://github.com/leonlulu/DeepLayout\\r\\n10 https://github.com/hpanwar08/detectron2\\r\\n11 https://github.com/JaidedAI/EasyOCR\\r\\n12 https://github.com/PaddlePaddle/PaddleOCR\\n', metadata={'source': 'data/layout-parser-paper.pdf', 'page': 2}),\n",
       " Document(page_content='4 Z. Shen et al.\\r\\nEfficient Data Annotation\\r\\nCustomized Model Training\\r\\nModel Customization\\r\\nDIA Model Hub\\r\\nDIA Pipeline Sharing\\r\\nCommunity Platform\\r\\nLayout Detection Models\\r\\nDocument Images \\r\\nThe Core LayoutParser Library\\r\\nOCR Module Layout Data Structure Storage & Visualization\\r\\nFig. 1: The overall architecture of LayoutParser. For an input document image,\\r\\nthe core LayoutParser library provides a set of off-the-shelf tools for layout\\r\\ndetection, OCR, visualization, and storage, backed by a carefully designed layout\\r\\ndata structure. LayoutParser also supports high level customization via efficient\\r\\nlayout annotation and model training functions. These improve model accuracy\\r\\non the target samples. The community platform enables the easy sharing of DIA\\r\\nmodels and whole digitization pipelines to promote reusability and reproducibility.\\r\\nA collection of detailed documentation, tutorials and exemplar projects make\\r\\nLayoutParser easy to learn and use.\\r\\nAllenNLP [8] and transformers [34] have provided the community with complete\\r\\nDL-based support for developing and deploying models for general computer\\r\\nvision and natural language processing problems. LayoutParser, on the other\\r\\nhand, specializes specifically in DIA tasks. LayoutParser is also equipped with a\\r\\ncommunity platform inspired by established model hubs such as Torch Hub [23]\\r\\nand TensorFlow Hub [1]. It enables the sharing of pretrained models as well as\\r\\nfull document processing pipelines that are unique to DIA tasks.\\r\\nThere have been a variety of document data collections to facilitate the\\r\\ndevelopment of DL models. Some examples include PRImA [3](magazine layouts),\\r\\nPubLayNet [38](academic paper layouts), Table Bank [18](tables in academic\\r\\npapers), Newspaper Navigator Dataset [16, 17](newspaper figure layouts) and\\r\\nHJDataset [31](historical Japanese document layouts). A spectrum of models\\r\\ntrained on these datasets are currently available in the LayoutParser model zoo\\r\\nto support different use cases.\\r\\n3 The Core LayoutParser Library\\r\\nAt the core of LayoutParser is an off-the-shelf toolkit that streamlines DL\\x02based document image analysis. Five components support a simple interface\\r\\nwith comprehensive functionalities: 1) The layout detection models enable using\\r\\npre-trained or self-trained DL models for layout detection with just four lines\\r\\nof code. 2) The detected layout information is stored in carefully engineered\\n', metadata={'source': 'data/layout-parser-paper.pdf', 'page': 3}),\n",
       " Document(page_content='LayoutParser: A Unified Toolkit for DL-Based DIA 5\\r\\nTable 1: Current layout detection models in the LayoutParser model zoo\\r\\nDataset Base Model1 Large Model Notes\\r\\nPubLayNet [38] F / M M Layouts of modern scientific documents\\r\\nPRImA [3] M - Layouts of scanned modern magazines and scientific reports\\r\\nNewspaper [17] F - Layouts of scanned US newspapers from the 20th century\\r\\nTableBank [18] F F Table region on modern scientific and business document\\r\\nHJDataset [31] F / M - Layouts of history Japanese documents\\r\\n1 For each dataset, we train several models of different sizes for different needs (the trade-off between accuracy\\r\\nvs. computational cost). For “base model” and “large model”, we refer to using the ResNet 50 or ResNet 101\\r\\nbackbones [13], respectively. One can train models of different architectures, like Faster R-CNN [28] (F) and Mask\\r\\nR-CNN [12] (M). For example, an F in the Large Model column indicates it has a Faster R-CNN model trained\\r\\nusing the ResNet 101 backbone. The platform is maintained and a number of additions will be made to the model\\r\\nzoo in coming months.\\r\\nlayout data structures, which are optimized for efficiency and versatility. 3) When\\r\\nnecessary, users can employ existing or customized OCR models via the unified\\r\\nAPI provided in the OCR module. 4) LayoutParser comes with a set of utility\\r\\nfunctions for the visualization and storage of the layout data. 5) LayoutParser\\r\\nis also highly customizable, via its integration with functions for layout data\\r\\nannotation and model training. We now provide detailed descriptions for each\\r\\ncomponent.\\r\\n3.1 Layout Detection Models\\r\\nIn LayoutParser, a layout model takes a document image as an input and\\r\\ngenerates a list of rectangular boxes for the target content regions. Different\\r\\nfrom traditional methods, it relies on deep convolutional neural networks rather\\r\\nthan manually curated rules to identify content regions. It is formulated as an\\r\\nobject detection problem and state-of-the-art models like Faster R-CNN [28] and\\r\\nMask R-CNN [12] are used. This yields prediction results of high accuracy and\\r\\nmakes it possible to build a concise, generalized interface for layout detection.\\r\\nLayoutParser, built upon Detectron2 [35], provides a minimal API that can\\r\\nperform layout detection with only four lines of code in Python:\\r\\n1 import layoutparser as lp\\r\\n2 image = cv2 . imread (\" image_file \") # load images\\r\\n3 model = lp . Detectron2LayoutModel (\\r\\n4 \"lp :// PubLayNet / faster_rcnn_R_50_FPN_3x / config \")\\r\\n5 layout = model . detect ( image )\\r\\nLayoutParser provides a wealth of pre-trained model weights using various\\r\\ndatasets covering different languages, time periods, and document types. Due to\\r\\ndomain shift [7], the prediction performance can notably drop when models are ap\\x02plied to target samples that are significantly different from the training dataset. As\\r\\ndocument structures and layouts vary greatly in different domains, it is important\\r\\nto select models trained on a dataset similar to the test samples. A semantic syntax\\r\\nis used for initializing the model weights in LayoutParser, using both the dataset\\r\\nname and model name lp://<dataset-name>/<model-architecture-name>.\\n', metadata={'source': 'data/layout-parser-paper.pdf', 'page': 4}),\n",
       " Document(page_content='6 Z. Shen et al.\\r\\nFig. 2: The relationship between the three types of layout data structures.\\r\\nCoordinate supports three kinds of variation; TextBlock consists of the co\\x02ordinate information and extra features like block text, types, and reading orders;\\r\\na Layout object is a list of all possible layout elements, including other Layout\\r\\nobjects. They all support the same set of transformation and operation APIs for\\r\\nmaximum flexibility.\\r\\nShown in Table 1, LayoutParser currently hosts 9 pre-trained models trained\\r\\non 5 different datasets. Description of the training dataset is provided alongside\\r\\nwith the trained models such that users can quickly identify the most suitable\\r\\nmodels for their tasks. Additionally, when such a model is not readily available,\\r\\nLayoutParser also supports training customized layout models and community\\r\\nsharing of the models (detailed in Section 3.5).\\r\\n3.2 Layout Data Structures\\r\\nA critical feature of LayoutParser is the implementation of a series of data\\r\\nstructures and operations that can be used to efficiently process and manipulate\\r\\nthe layout elements. In document image analysis pipelines, various post-processing\\r\\non the layout analysis model outputs is usually required to obtain the final\\r\\noutputs. Traditionally, this requires exporting DL model outputs and then loading\\r\\nthe results into other pipelines. All model outputs from LayoutParser will be\\r\\nstored in carefully engineered data types optimized for further processing, which\\r\\nmakes it possible to build an end-to-end document digitization pipeline within\\r\\nLayoutParser. There are three key components in the data structure, namely\\r\\nthe Coordinate system, the TextBlock, and the Layout. They provide different\\r\\nlevels of abstraction for the layout data, and a set of APIs are supported for\\r\\ntransformations or operations on these classes.\\n', metadata={'source': 'data/layout-parser-paper.pdf', 'page': 5}),\n",
       " Document(page_content='LayoutParser: A Unified Toolkit for DL-Based DIA 7\\r\\nCoordinates are the cornerstones for storing layout information. Currently,\\r\\nthree types of Coordinate data structures are provided in LayoutParser, shown\\r\\nin Figure 2. Interval and Rectangle are the most common data types and\\r\\nsupport specifying 1D or 2D regions within a document. They are parameterized\\r\\nwith 2 and 4 parameters. A Quadrilateral class is also implemented to support\\r\\na more generalized representation of rectangular regions when the document\\r\\nis skewed or distorted, where the 4 corner points can be specified and a total\\r\\nof 8 degrees of freedom are supported. A wide collection of transformations\\r\\nlike shift, pad, and scale, and operations like intersect, union, and is_in,\\r\\nare supported for these classes. Notably, it is common to separate a segment\\r\\nof the image and analyze it individually. LayoutParser provides full support\\r\\nfor this scenario via image cropping operations crop_image and coordinate\\r\\ntransformations like relative_to and condition_on that transform coordinates\\r\\nto and from their relative representations. We refer readers to Table 2 for a more\\r\\ndetailed description of these operations13.\\r\\nBased on Coordinates, we implement the TextBlock class that stores both\\r\\nthe positional and extra features of individual layout elements. It also supports\\r\\nspecifying the reading orders via setting the parent field to the index of the parent\\r\\nobject. A Layout class is built that takes in a list of TextBlocks and supports\\r\\nprocessing the elements in batch. Layout can also be nested to support hierarchical\\r\\nlayout structures. They support the same operations and transformations as the\\r\\nCoordinate classes, minimizing both learning and deployment effort.\\r\\n3.3 OCR\\r\\nLayoutParser provides a unified interface for existing OCR tools. Though there\\r\\nare many OCR tools available, they are usually configured differently with distinct\\r\\nAPIs or protocols for using them. It can be inefficient to add new OCR tools into\\r\\nan existing pipeline, and difficult to make direct comparisons among the available\\r\\ntools to find the best option for a particular project. To this end, LayoutParser\\r\\nbuilds a series of wrappers among existing OCR engines, and provides nearly\\r\\nthe same syntax for using them. It supports a plug-and-play style of using OCR\\r\\nengines, making it effortless to switch, evaluate, and compare different OCR\\r\\nmodules:\\r\\n1 ocr_agent = lp . TesseractAgent ()\\r\\n2 # Can be easily switched to other OCR software\\r\\n3 tokens = ocr_agent . detect ( image )\\r\\nThe OCR outputs will also be stored in the aforementioned layout data\\r\\nstructures and can be seamlessly incorporated into the digitization pipeline.\\r\\nCurrently LayoutParser supports the Tesseract and Google Cloud Vision OCR\\r\\nengines.\\r\\nLayoutParser also comes with a DL-based CNN-RNN OCR model [6] trained\\r\\nwith the Connectionist Temporal Classification (CTC) loss [10]. It can be used\\r\\nlike the other OCR modules, and can be easily trained on customized datasets.\\r\\n13 This is also available in the LayoutParser documentation pages.\\n', metadata={'source': 'data/layout-parser-paper.pdf', 'page': 6}),\n",
       " Document(page_content='8 Z. Shen et al.\\r\\nTable 2: All operations supported by the layout elements. The same APIs are\\r\\nsupported across different layout element classes including Coordinate types,\\r\\nTextBlock and Layout.\\r\\nOperation Name Description\\r\\nblock.pad(top, bottom, right, left) Enlarge the current block according to the input\\r\\nblock.scale(fx, fy) Scale the current block given the ratio\\r\\nin x and y direction\\r\\nblock.shift(dx, dy) Move the current block with the shift\\r\\ndistances in x and y direction\\r\\nblock1.is in(block2) Whether block1 is inside of block2\\r\\nblock1.intersect(block2) Return the intersection region of block1 and block2.\\r\\nCoordinate type to be determined based on the inputs.\\r\\nblock1.union(block2) Return the union region of block1 and block2.\\r\\nCoordinate type to be determined based on the inputs.\\r\\nblock1.relative to(block2) Convert the absolute coordinates of block1 to\\r\\nrelative coordinates to block2\\r\\nblock1.condition on(block2) Calculate the absolute coordinates of block1 given\\r\\nthe canvas block2’s absolute coordinates\\r\\nblock.crop image(image) Obtain the image segments in the block region\\r\\n3.4 Storage and visualization\\r\\nThe end goal of DIA is to transform the image-based document data into a\\r\\nstructured database. LayoutParser supports exporting layout data into different\\r\\nformats like JSON, csv, and will add the support for the METS/ALTO XML\\r\\nformat 14 . It can also load datasets from layout analysis-specific formats like\\r\\nCOCO [38] and the Page Format [25] for training layout models (Section 3.5).\\r\\nVisualization of the layout detection results is critical for both presentation\\r\\nand debugging. LayoutParser is built with an integrated API for displaying the\\r\\nlayout information along with the original document image. Shown in Figure 3, it\\r\\nenables presenting layout data with rich meta information and features in different\\r\\nmodes. More detailed information can be found in the online LayoutParser\\r\\ndocumentation page.\\r\\n3.5 Customized Model Training\\r\\nBesides the off-the-shelf library, LayoutParser is also highly customizable with\\r\\nsupports for highly unique and challenging document analysis tasks. Target\\r\\ndocument images can be vastly different from the existing datasets for train\\x02ing layout models, which leads to low layout detection accuracy. Training data\\r\\n14 https://altoxml.github.io\\n', metadata={'source': 'data/layout-parser-paper.pdf', 'page': 7}),\n",
       " Document(page_content='LayoutParser: A Unified Toolkit for DL-Based DIA 9\\r\\nFig. 3: Layout detection and OCR results visualization generated by the\\r\\nLayoutParser APIs. Mode I directly overlays the layout region bounding boxes\\r\\nand categories over the original image. Mode II recreates the original document\\r\\nvia drawing the OCR’d texts at their corresponding positions on the image\\r\\ncanvas. In this figure, tokens in textual regions are filtered using the API and\\r\\nthen displayed.\\r\\ncan also be highly sensitive and not sharable publicly. To overcome these chal\\x02lenges, LayoutParser is built with rich features for efficient data annotation and\\r\\ncustomized model training.\\r\\nLayoutParser incorporates a toolkit optimized for annotating document lay\\x02outs using object-level active learning [32]. With the help from a layout detection\\r\\nmodel trained along with labeling, only the most important layout objects within\\r\\neach image, rather than the whole image, are required for labeling. The rest of\\r\\nthe regions are automatically annotated with high confidence predictions from\\r\\nthe layout detection model. This allows a layout dataset to be created more\\r\\nefficiently with only around 60% of the labeling budget.\\r\\nAfter the training dataset is curated, LayoutParser supports different modes\\r\\nfor training the layout models. Fine-tuning can be used for training models on a\\r\\nsmall newly-labeled dataset by initializing the model with existing pre-trained\\r\\nweights. Training from scratch can be helpful when the source dataset and\\r\\ntarget are significantly different and a large training set is available. However, as\\r\\nsuggested in Studer et al.’s work[33], loading pre-trained weights on large-scale\\r\\ndatasets like ImageNet [5], even from totally different domains, can still boost\\r\\nmodel performance. Through the integrated API provided by LayoutParser,\\r\\nusers can easily compare model performances on the benchmark datasets.\\n', metadata={'source': 'data/layout-parser-paper.pdf', 'page': 8}),\n",
       " Document(page_content='10 Z. Shen et al.\\r\\nFig. 4: Illustration of (a) the original historical Japanese document with layout\\r\\ndetection results and (b) a recreated version of the document image that achieves\\r\\nmuch better character recognition recall. The reorganization algorithm rearranges\\r\\nthe tokens based on the their detected bounding boxes given a maximum allowed\\r\\nheight.\\r\\n4 LayoutParser Community Platform\\r\\nAnother focus of LayoutParser is promoting the reusability of layout detection\\r\\nmodels and full digitization pipelines. Similar to many existing deep learning\\r\\nlibraries, LayoutParser comes with a community model hub for distributing\\r\\nlayout models. End-users can upload their self-trained models to the model hub,\\r\\nand these models can be loaded into a similar interface as the currently available\\r\\nLayoutParser pre-trained models. For example, the model trained on the News\\r\\nNavigator dataset [17] has been incorporated in the model hub.\\r\\nBeyond DL models, LayoutParser also promotes the sharing of entire doc\\x02ument digitization pipelines. For example, sometimes the pipeline requires the\\r\\ncombination of multiple DL models to achieve better accuracy. Currently, pipelines\\r\\nare mainly described in academic papers and implementations are often not pub\\x02licly available. To this end, the LayoutParser community platform also enables\\r\\nthe sharing of layout pipelines to promote the discussion and reuse of techniques.\\r\\nFor each shared pipeline, it has a dedicated project page, with links to the source\\r\\ncode, documentation, and an outline of the approaches. A discussion panel is\\r\\nprovided for exchanging ideas. Combined with the core LayoutParser library,\\r\\nusers can easily build reusable components based on the shared pipelines and\\r\\napply them to solve their unique problems.\\r\\n5 Use Cases\\r\\nThe core objective of LayoutParser is to make it easier to create both large-scale\\r\\nand light-weight document digitization pipelines. Large-scale document processing\\n', metadata={'source': 'data/layout-parser-paper.pdf', 'page': 9}),\n",
       " Document(page_content='LayoutParser: A Unified Toolkit for DL-Based DIA 11\\r\\nfocuses on precision, efficiency, and robustness. The target documents may have\\r\\ncomplicated structures, and may require training multiple layout detection models\\r\\nto achieve the optimal accuracy. Light-weight pipelines are built for relatively\\r\\nsimple documents, with an emphasis on development ease, speed and flexibility.\\r\\nIdeally one only needs to use existing resources, and model training should be\\r\\navoided. Through two exemplar projects, we show how practitioners in both\\r\\nacademia and industry can easily build such pipelines using LayoutParser and\\r\\nextract high-quality structured document data for their downstream tasks. The\\r\\nsource code for these projects will be publicly available in the LayoutParser\\r\\ncommunity hub.\\r\\n5.1 A Comprehensive Historical Document Digitization Pipeline\\r\\nThe digitization of historical documents can unlock valuable data that can shed\\r\\nlight on many important social, economic, and historical questions. Yet due to\\r\\nscan noises, page wearing, and the prevalence of complicated layout structures, ob\\x02taining a structured representation of historical document scans is often extremely\\r\\ncomplicated.\\r\\nFig. 5: Illustration of how LayoutParser\\r\\nhelps with the historical document digi\\x02tization pipeline.\\r\\nIn this example, LayoutParser was\\r\\nused to develop a comprehensive\\r\\npipeline, shown in Figure 5, to gener\\x02ate high-quality structured data from\\r\\nhistorical Japanese firm financial ta\\x02bles with complicated layouts. The\\r\\npipeline applies two layout models to\\r\\nidentify different levels of document\\r\\nstructures and two customized OCR\\r\\nengines for optimized character recog\\x02nition accuracy.\\r\\nAs shown in Figure 4 (a), the\\r\\ndocument contains columns of text\\r\\nwritten vertically 15, a common style\\r\\nin Japanese. Due to scanning noise\\r\\nand archaic printing technology, the\\r\\ncolumns can be skewed or have vari\\x02able widths, and hence cannot be eas\\x02ily identified via rule-based methods.\\r\\nWithin each column, words are sepa\\x02rated by white spaces of variable size,\\r\\nand the vertical positions of objects\\r\\ncan be an indicator of their layout\\r\\ntype.\\r\\n15 A document page consists of eight rows like this. For simplicity we skip the row\\r\\nsegmentation discussion and refer readers to the source code when available.\\n', metadata={'source': 'data/layout-parser-paper.pdf', 'page': 10}),\n",
       " Document(page_content='12 Z. Shen et al.\\r\\nTo decipher the complicated layout\\r\\nstructure, two object detection models have been trained to recognize individual\\r\\ncolumns and tokens, respectively. A small training set (400 images with approxi\\x02mately 100 annotations each) is curated via the active learning based annotation\\r\\ntool [32] in LayoutParser. The models learn to identify both the categories and\\r\\nregions for each token or column via their distinct visual features. The layout\\r\\ndata structure enables easy grouping of the tokens within each column, and\\r\\nrearranging columns to achieve the correct reading orders based on the horizontal\\r\\nposition. Errors are identified and rectified via checking the consistency of the\\r\\nmodel predictions. Therefore, though trained on a small dataset, the pipeline\\r\\nachieves a high level of layout detection accuracy: it achieves a 96.97 AP [19]\\r\\nscore across 5 categories for the column detection model, and a 89.23 AP across\\r\\n4 categories for the token detection model.\\r\\nA combination of character recognition methods is developed to tackle the\\r\\nunique challenges in this document. In our experiments, we found that irregular\\r\\nspacing between the tokens led to a low character recognition recall rate, whereas\\r\\nexisting OCR models tend to perform better on densely-arranged texts. To\\r\\novercome this challenge, we create a document reorganization algorithm that\\r\\nrearranges the text based on the token bounding boxes detected in the layout\\r\\nanalysis step. Figure 4 (b) illustrates the generated image of dense text, which is\\r\\nsent to the OCR APIs as a whole to reduce the transaction costs. The flexible\\r\\ncoordinate system in LayoutParser is used to transform the OCR results relative\\r\\nto their original positions on the page.\\r\\nAdditionally, it is common for historical documents to use unique fonts\\r\\nwith different glyphs, which significantly degrades the accuracy of OCR models\\r\\ntrained on modern texts. In this document, a special flat font is used for printing\\r\\nnumbers and could not be detected by off-the-shelf OCR engines. Using the highly\\r\\nflexible functionalities from LayoutParser, a pipeline approach is constructed\\r\\nthat achieves a high recognition accuracy with minimal effort. As the characters\\r\\nhave unique visual structures and are usually clustered together, we train the\\r\\nlayout model to identify number regions with a dedicated category. Subsequently,\\r\\nLayoutParser crops images within these regions, and identifies characters within\\r\\nthem using a self-trained OCR model based on a CNN-RNN [6]. The model\\r\\ndetects a total of 15 possible categories, and achieves a 0.98 Jaccard score16 and\\r\\na 0.17 average Levinstein distances17 for token prediction on the test set.\\r\\nOverall, it is possible to create an intricate and highly accurate digitization\\r\\npipeline for large-scale digitization using LayoutParser. The pipeline avoids\\r\\nspecifying the complicated rules used in traditional methods, is straightforward\\r\\nto develop, and is robust to outliers. The DL models also generate fine-grained\\r\\nresults that enable creative approaches like page reorganization for OCR.\\r\\n16 This measures the overlap between the detected and ground-truth characters, and\\r\\nthe maximum is 1.\\r\\n17 This measures the number of edits from the ground-truth text to the predicted text,\\r\\nand lower is better.\\n', metadata={'source': 'data/layout-parser-paper.pdf', 'page': 11}),\n",
       " Document(page_content='LayoutParser: A Unified Toolkit for DL-Based DIA 13\\r\\nFig. 6: This lightweight table detector can identify tables (outlined in red) and\\r\\ncells (shaded in blue) in different locations on a page. In very few cases (d), it\\r\\nmight generate minor error predictions, e.g, failing to capture the top text line of\\r\\na table.\\r\\n5.2 A light-weight Visual Table Extractor\\r\\nDetecting tables and parsing their structures (table extraction) are of central im\\x02portance for many document digitization tasks. Many previous works [26, 30, 27]\\r\\nand tools 18 have been developed to identify and parse table structures. Yet they\\r\\nmight require training complicated models from scratch, or are only applicable\\r\\nfor born-digital PDF documents. In this section, we show how LayoutParser can\\r\\nhelp build a light-weight accurate visual table extractor for legal docket tables\\r\\nusing the existing resources with minimal effort.\\r\\nThe extractor uses a pre-trained layout detection model for identifying the\\r\\ntable regions and some simple rules for pairing the rows and the columns in the\\r\\nPDF image. Mask R-CNN [12] trained on the PubLayNet dataset [38] from the\\r\\nLayoutParser Model Zoo can be used for detecting table regions. By filtering\\r\\nout model predictions of low confidence and removing overlapping predictions,\\r\\nLayoutParser can identify the tabular regions on each page, which significantly\\r\\nsimplifies the subsequent steps. By applying the line detection functions within\\r\\nthe tabular segments, provided in the utility module from LayoutParser, the\\r\\npipeline can identify the three distinct columns in the tables. A row clustering\\r\\nmethod is then applied via analyzing the y coordinates of token bounding boxes in\\r\\nthe left-most column, which are obtained from the OCR engines. A non-maximal\\r\\nsuppression algorithm is used to remove duplicated rows with extremely small\\r\\ngaps. Shown in Figure 6, the built pipeline can detect tables at different positions\\r\\non a page accurately. Continued tables from different pages are concatenated,\\r\\nand a structured table representation has been easily created.\\r\\n18 https://github.com/atlanhq/camelot, https://github.com/tabulapdf/tabula\\n', metadata={'source': 'data/layout-parser-paper.pdf', 'page': 12}),\n",
       " Document(page_content='14 Z. Shen et al.\\r\\n6 Conclusion\\r\\nLayoutParser provides a comprehensive toolkit for deep learning-based document\\r\\nimage analysis. The off-the-shelf library is easy to install, and can be used to\\r\\nbuild flexible and accurate pipelines for processing documents with complicated\\r\\nstructures. It also supports high-level customization and enables easy labeling and\\r\\ntraining of DL models on unique document image datasets. The LayoutParser\\r\\ncommunity platform facilitates sharing DL models and DIA pipelines, inviting\\r\\ndiscussion and promoting code reproducibility and reusability. The LayoutParser\\r\\nteam is committed to keeping the library updated continuously and bringing\\r\\nthe most recent advances in DL-based DIA, such as multi-modal document\\r\\nmodeling [37, 36, 9] (an upcoming priority), to a diverse audience of end-users.\\r\\nAcknowledgements We thank the anonymous reviewers for their comments\\r\\nand suggestions. This project is supported in part by NSF Grant OIA-2033558\\r\\nand funding from the Harvard Data Science Initiative and Harvard Catalyst.\\r\\nZejiang Shen thanks Doug Downey for suggestions.\\r\\nReferences\\r\\n[1] Abadi, M., Agarwal, A., Barham, P., Brevdo, E., Chen, Z., Citro, C., Corrado,\\r\\nG.S., Davis, A., Dean, J., Devin, M., Ghemawat, S., Goodfellow, I., Harp, A.,\\r\\nIrving, G., Isard, M., Jia, Y., Jozefowicz, R., Kaiser, L., Kudlur, M., Levenberg,\\r\\nJ., Man´e, D., Monga, R., Moore, S., Murray, D., Olah, C., Schuster, M., Shlens, J.,\\r\\nSteiner, B., Sutskever, I., Talwar, K., Tucker, P., Vanhoucke, V., Vasudevan, V.,\\r\\nVi´egas, F., Vinyals, O., Warden, P., Wattenberg, M., Wicke, M., Yu, Y., Zheng,\\r\\nX.: TensorFlow: Large-scale machine learning on heterogeneous systems (2015),\\r\\nhttps://www.tensorflow.org/, software available from tensorflow.org\\r\\n[2] Alberti, M., Pondenkandath, V., W¨ursch, M., Ingold, R., Liwicki, M.: Deepdiva: a\\r\\nhighly-functional python framework for reproducible experiments. In: 2018 16th\\r\\nInternational Conference on Frontiers in Handwriting Recognition (ICFHR). pp.\\r\\n423–428. IEEE (2018)\\r\\n[3] Antonacopoulos, A., Bridson, D., Papadopoulos, C., Pletschacher, S.: A realistic\\r\\ndataset for performance evaluation of document layout analysis. In: 2009 10th\\r\\nInternational Conference on Document Analysis and Recognition. pp. 296–300.\\r\\nIEEE (2009)\\r\\n[4] Baek, Y., Lee, B., Han, D., Yun, S., Lee, H.: Character region awareness for text\\r\\ndetection. In: Proceedings of the IEEE/CVF Conference on Computer Vision and\\r\\nPattern Recognition. pp. 9365–9374 (2019)\\r\\n[5] Deng, J., Dong, W., Socher, R., Li, L.J., Li, K., Fei-Fei, L.: ImageNet: A Large-Scale\\r\\nHierarchical Image Database. In: CVPR09 (2009)\\r\\n[6] Deng, Y., Kanervisto, A., Ling, J., Rush, A.M.: Image-to-markup generation with\\r\\ncoarse-to-fine attention. In: International Conference on Machine Learning. pp.\\r\\n980–989. PMLR (2017)\\r\\n[7] Ganin, Y., Lempitsky, V.: Unsupervised domain adaptation by backpropagation.\\r\\nIn: International conference on machine learning. pp. 1180–1189. PMLR (2015)\\n', metadata={'source': 'data/layout-parser-paper.pdf', 'page': 13}),\n",
       " Document(page_content='LayoutParser: A Unified Toolkit for DL-Based DIA 15\\r\\n[8] Gardner, M., Grus, J., Neumann, M., Tafjord, O., Dasigi, P., Liu, N., Peters,\\r\\nM., Schmitz, M., Zettlemoyer, L.: Allennlp: A deep semantic natural language\\r\\nprocessing platform. arXiv preprint arXiv:1803.07640 (2018)\\r\\n[9] Lukasz Garncarek, Powalski, R., Stanis lawek, T., Topolski, B., Halama, P.,\\r\\nGrali´nski, F.: Lambert: Layout-aware (language) modeling using bert for in\\x02formation extraction (2020)\\r\\n[10] Graves, A., Fern´andez, S., Gomez, F., Schmidhuber, J.: Connectionist temporal\\r\\nclassification: labelling unsegmented sequence data with recurrent neural networks.\\r\\nIn: Proceedings of the 23rd international conference on Machine learning. pp.\\r\\n369–376 (2006)\\r\\n[11] Harley, A.W., Ufkes, A., Derpanis, K.G.: Evaluation of deep convolutional nets for\\r\\ndocument image classification and retrieval. In: 2015 13th International Conference\\r\\non Document Analysis and Recognition (ICDAR). pp. 991–995. IEEE (2015)\\r\\n[12] He, K., Gkioxari, G., Doll´ar, P., Girshick, R.: Mask r-cnn. In: Proceedings of the\\r\\nIEEE international conference on computer vision. pp. 2961–2969 (2017)\\r\\n[13] He, K., Zhang, X., Ren, S., Sun, J.: Deep residual learning for image recognition.\\r\\nIn: Proceedings of the IEEE conference on computer vision and pattern recognition.\\r\\npp. 770–778 (2016)\\r\\n[14] Kay, A.: Tesseract: An open-source optical character recognition engine. Linux J.\\r\\n2007(159), 2 (Jul 2007)\\r\\n[15] Lamiroy, B., Lopresti, D.: An open architecture for end-to-end document analysis\\r\\nbenchmarking. In: 2011 International Conference on Document Analysis and\\r\\nRecognition. pp. 42–47. IEEE (2011)\\r\\n[16] Lee, B.C., Weld, D.S.: Newspaper navigator: Open faceted search for 1.5\\r\\nmillion images. In: Adjunct Publication of the 33rd Annual ACM Sym\\x02posium on User Interface Software and Technology. p. 120–122. UIST\\r\\n’20 Adjunct, Association for Computing Machinery, New York, NY, USA\\r\\n(2020). https://doi.org/10.1145/3379350.3416143, https://doi-org.offcampus.\\r\\nlib.washington.edu/10.1145/3379350.3416143\\r\\n[17] Lee, B.C.G., Mears, J., Jakeway, E., Ferriter, M., Adams, C., Yarasavage, N.,\\r\\nThomas, D., Zwaard, K., Weld, D.S.: The Newspaper Navigator Dataset: Extracting\\r\\nHeadlines and Visual Content from 16 Million Historic Newspaper Pages in\\r\\nChronicling America, p. 3055–3062. Association for Computing Machinery, New\\r\\nYork, NY, USA (2020), https://doi.org/10.1145/3340531.3412767\\r\\n[18] Li, M., Cui, L., Huang, S., Wei, F., Zhou, M., Li, Z.: Tablebank: Table benchmark\\r\\nfor image-based table detection and recognition. arXiv preprint arXiv:1903.01949\\r\\n(2019)\\r\\n[19] Lin, T.Y., Maire, M., Belongie, S., Hays, J., Perona, P., Ramanan, D., Doll´ar, P.,\\r\\nZitnick, C.L.: Microsoft coco: Common objects in context. In: European conference\\r\\non computer vision. pp. 740–755. Springer (2014)\\r\\n[20] Long, J., Shelhamer, E., Darrell, T.: Fully convolutional networks for semantic\\r\\nsegmentation. In: Proceedings of the IEEE conference on computer vision and\\r\\npattern recognition. pp. 3431–3440 (2015)\\r\\n[21] Neudecker, C., Schlarb, S., Dogan, Z.M., Missier, P., Sufi, S., Williams, A., Wolsten\\x02croft, K.: An experimental workflow development platform for historical document\\r\\ndigitisation and analysis. In: Proceedings of the 2011 workshop on historical\\r\\ndocument imaging and processing. pp. 161–168 (2011)\\r\\n[22] Oliveira, S.A., Seguin, B., Kaplan, F.: dhsegment: A generic deep-learning approach\\r\\nfor document segmentation. In: 2018 16th International Conference on Frontiers\\r\\nin Handwriting Recognition (ICFHR). pp. 7–12. IEEE (2018)\\n', metadata={'source': 'data/layout-parser-paper.pdf', 'page': 14}),\n",
       " Document(page_content='16 Z. Shen et al.\\r\\n[23] Paszke, A., Gross, S., Chintala, S., Chanan, G., Yang, E., DeVito, Z., Lin, Z.,\\r\\nDesmaison, A., Antiga, L., Lerer, A.: Automatic differentiation in pytorch (2017)\\r\\n[24] Paszke, A., Gross, S., Massa, F., Lerer, A., Bradbury, J., Chanan, G., Killeen,\\r\\nT., Lin, Z., Gimelshein, N., Antiga, L., et al.: Pytorch: An imperative style,\\r\\nhigh-performance deep learning library. arXiv preprint arXiv:1912.01703 (2019)\\r\\n[25] Pletschacher, S., Antonacopoulos, A.: The page (page analysis and ground-truth\\r\\nelements) format framework. In: 2010 20th International Conference on Pattern\\r\\nRecognition. pp. 257–260. IEEE (2010)\\r\\n[26] Prasad, D., Gadpal, A., Kapadni, K., Visave, M., Sultanpure, K.: Cascadetabnet:\\r\\nAn approach for end to end table detection and structure recognition from image\\x02based documents. In: Proceedings of the IEEE/CVF Conference on Computer\\r\\nVision and Pattern Recognition Workshops. pp. 572–573 (2020)\\r\\n[27] Qasim, S.R., Mahmood, H., Shafait, F.: Rethinking table recognition using graph\\r\\nneural networks. In: 2019 International Conference on Document Analysis and\\r\\nRecognition (ICDAR). pp. 142–147. IEEE (2019)\\r\\n[28] Ren, S., He, K., Girshick, R., Sun, J.: Faster r-cnn: Towards real-time object\\r\\ndetection with region proposal networks. In: Advances in neural information\\r\\nprocessing systems. pp. 91–99 (2015)\\r\\n[29] Scarselli, F., Gori, M., Tsoi, A.C., Hagenbuchner, M., Monfardini, G.: The graph\\r\\nneural network model. IEEE transactions on neural networks 20(1), 61–80 (2008)\\r\\n[30] Schreiber, S., Agne, S., Wolf, I., Dengel, A., Ahmed, S.: Deepdesrt: Deep learning\\r\\nfor detection and structure recognition of tables in document images. In: 2017 14th\\r\\nIAPR international conference on document analysis and recognition (ICDAR).\\r\\nvol. 1, pp. 1162–1167. IEEE (2017)\\r\\n[31] Shen, Z., Zhang, K., Dell, M.: A large dataset of historical japanese documents\\r\\nwith complex layouts. In: Proceedings of the IEEE/CVF Conference on Computer\\r\\nVision and Pattern Recognition Workshops. pp. 548–549 (2020)\\r\\n[32] Shen, Z., Zhao, J., Dell, M., Yu, Y., Li, W.: Olala: Object-level active learning\\r\\nbased layout annotation. arXiv preprint arXiv:2010.01762 (2020)\\r\\n[33] Studer, L., Alberti, M., Pondenkandath, V., Goktepe, P., Kolonko, T., Fischer,\\r\\nA., Liwicki, M., Ingold, R.: A comprehensive study of imagenet pre-training for\\r\\nhistorical document image analysis. In: 2019 International Conference on Document\\r\\nAnalysis and Recognition (ICDAR). pp. 720–725. IEEE (2019)\\r\\n[34] Wolf, T., Debut, L., Sanh, V., Chaumond, J., Delangue, C., Moi, A., Cistac, P.,\\r\\nRault, T., Louf, R., Funtowicz, M., et al.: Huggingface’s transformers: State-of\\x02the-art natural language processing. arXiv preprint arXiv:1910.03771 (2019)\\r\\n[35] Wu, Y., Kirillov, A., Massa, F., Lo, W.Y., Girshick, R.: Detectron2. https://\\r\\ngithub.com/facebookresearch/detectron2 (2019)\\r\\n[36] Xu, Y., Xu, Y., Lv, T., Cui, L., Wei, F., Wang, G., Lu, Y., Florencio, D., Zhang, C.,\\r\\nChe, W., et al.: Layoutlmv2: Multi-modal pre-training for visually-rich document\\r\\nunderstanding. arXiv preprint arXiv:2012.14740 (2020)\\r\\n[37] Xu, Y., Li, M., Cui, L., Huang, S., Wei, F., Zhou, M.: Layoutlm: Pre-training of\\r\\ntext and layout for document image understanding (2019)\\r\\n[38] Zhong, X., Tang, J., Yepes, A.J.: Publaynet: largest dataset ever for doc\\x02ument layout analysis. In: 2019 International Conference on Document\\r\\nAnalysis and Recognition (ICDAR). pp. 1015–1022. IEEE (Sep 2019).\\r\\nhttps://doi.org/10.1109/ICDAR.2019.00166\\n', metadata={'source': 'data/layout-parser-paper.pdf', 'page': 15})]"
      ]
     },
     "execution_count": 26,
     "metadata": {},
     "output_type": "execute_result"
    }
   ],
   "source": [
    "from langchain_community.document_loaders import PyPDFium2Loader\n",
    "loader = PyPDFium2Loader(\"data/layout-parser-paper.pdf\")\n",
    "data = loader.load()\n",
    "data"
   ]
  },
  {
   "cell_type": "markdown",
   "metadata": {},
   "source": [
    "### Using PDFMiner\n",
    "PDFMiner是一个可以帮助从PDF文档中提取信息和分析数据的工具。     \n",
    "!pip install pdfminer.six"
   ]
  },
  {
   "cell_type": "code",
   "execution_count": 30,
   "metadata": {},
   "outputs": [
    {
     "ename": "ImportError",
     "evalue": "`pdfminer` package not found, please install it with `pip install pdfminer.six`",
     "output_type": "error",
     "traceback": [
      "\u001b[0;31m---------------------------------------------------------------------------\u001b[0m",
      "\u001b[0;31mImportError\u001b[0m                               Traceback (most recent call last)",
      "File \u001b[0;32m~/opt/anaconda3/envs/langchain/lib/python3.10/site-packages/langchain_community/document_loaders/pdf.py:287\u001b[0m, in \u001b[0;36mPDFMinerLoader.__init__\u001b[0;34m(self, file_path, headers, extract_images, concatenate_pages)\u001b[0m\n\u001b[1;32m    286\u001b[0m \u001b[38;5;28;01mtry\u001b[39;00m:\n\u001b[0;32m--> 287\u001b[0m     \u001b[38;5;28;01mfrom\u001b[39;00m \u001b[38;5;21;01mpdfminer\u001b[39;00m\u001b[38;5;21;01m.\u001b[39;00m\u001b[38;5;21;01mhigh_level\u001b[39;00m \u001b[38;5;28;01mimport\u001b[39;00m extract_text  \u001b[38;5;66;03m# noqa:F401\u001b[39;00m\n\u001b[1;32m    288\u001b[0m \u001b[38;5;28;01mexcept\u001b[39;00m \u001b[38;5;167;01mImportError\u001b[39;00m:\n",
      "File \u001b[0;32m~/opt/anaconda3/envs/langchain/lib/python3.10/site-packages/pdfminer/high_level.py:8\u001b[0m\n\u001b[1;32m      6\u001b[0m \u001b[38;5;28;01mfrom\u001b[39;00m \u001b[38;5;21;01mtyping\u001b[39;00m \u001b[38;5;28;01mimport\u001b[39;00m Any, BinaryIO, Container, Iterator, Optional, cast\n\u001b[0;32m----> 8\u001b[0m \u001b[38;5;28;01mfrom\u001b[39;00m \u001b[38;5;21;01m.\u001b[39;00m\u001b[38;5;21;01mconverter\u001b[39;00m \u001b[38;5;28;01mimport\u001b[39;00m (\n\u001b[1;32m      9\u001b[0m     XMLConverter,\n\u001b[1;32m     10\u001b[0m     HTMLConverter,\n\u001b[1;32m     11\u001b[0m     TextConverter,\n\u001b[1;32m     12\u001b[0m     PDFPageAggregator,\n\u001b[1;32m     13\u001b[0m     HOCRConverter,\n\u001b[1;32m     14\u001b[0m )\n\u001b[1;32m     15\u001b[0m \u001b[38;5;28;01mfrom\u001b[39;00m \u001b[38;5;21;01m.\u001b[39;00m\u001b[38;5;21;01mimage\u001b[39;00m \u001b[38;5;28;01mimport\u001b[39;00m ImageWriter\n",
      "File \u001b[0;32m~/opt/anaconda3/envs/langchain/lib/python3.10/site-packages/pdfminer/converter.py:20\u001b[0m\n\u001b[1;32m     19\u001b[0m \u001b[38;5;28;01mfrom\u001b[39;00m \u001b[38;5;21;01m.\u001b[39;00m \u001b[38;5;28;01mimport\u001b[39;00m utils\n\u001b[0;32m---> 20\u001b[0m \u001b[38;5;28;01mfrom\u001b[39;00m \u001b[38;5;21;01m.\u001b[39;00m\u001b[38;5;21;01mimage\u001b[39;00m \u001b[38;5;28;01mimport\u001b[39;00m ImageWriter\n\u001b[1;32m     21\u001b[0m \u001b[38;5;28;01mfrom\u001b[39;00m \u001b[38;5;21;01m.\u001b[39;00m\u001b[38;5;21;01mlayout\u001b[39;00m \u001b[38;5;28;01mimport\u001b[39;00m LAParams, LTComponent, TextGroupElement\n",
      "File \u001b[0;32m~/opt/anaconda3/envs/langchain/lib/python3.10/site-packages/pdfminer/image.py:18\u001b[0m\n\u001b[1;32m     17\u001b[0m \u001b[38;5;28;01mfrom\u001b[39;00m \u001b[38;5;21;01m.\u001b[39;00m\u001b[38;5;21;01mpdfcolor\u001b[39;00m \u001b[38;5;28;01mimport\u001b[39;00m LITERAL_DEVICE_RGB\n\u001b[0;32m---> 18\u001b[0m \u001b[38;5;28;01mfrom\u001b[39;00m \u001b[38;5;21;01m.\u001b[39;00m\u001b[38;5;21;01mpdftypes\u001b[39;00m \u001b[38;5;28;01mimport\u001b[39;00m (\n\u001b[1;32m     19\u001b[0m     LITERALS_DCT_DECODE,\n\u001b[1;32m     20\u001b[0m     LITERALS_JBIG2_DECODE,\n\u001b[1;32m     21\u001b[0m     LITERALS_JPX_DECODE,\n\u001b[1;32m     22\u001b[0m     LITERALS_FLATE_DECODE,\n\u001b[1;32m     23\u001b[0m )\n\u001b[1;32m     25\u001b[0m PIL_ERROR_MESSAGE \u001b[38;5;241m=\u001b[39m (\n\u001b[1;32m     26\u001b[0m     \u001b[38;5;124m\"\u001b[39m\u001b[38;5;124mCould not import Pillow. This dependency of pdfminer.six is not \u001b[39m\u001b[38;5;124m\"\u001b[39m\n\u001b[1;32m     27\u001b[0m     \u001b[38;5;124m\"\u001b[39m\u001b[38;5;124minstalled by default. You need it to to save jpg images to a file. Install it \u001b[39m\u001b[38;5;124m\"\u001b[39m\n\u001b[1;32m     28\u001b[0m     \u001b[38;5;124m\"\u001b[39m\u001b[38;5;124mwith `pip install \u001b[39m\u001b[38;5;124m'\u001b[39m\u001b[38;5;124mpdfminer.six[image]\u001b[39m\u001b[38;5;124m'\u001b[39m\u001b[38;5;124m`\u001b[39m\u001b[38;5;124m\"\u001b[39m\n\u001b[1;32m     29\u001b[0m )\n",
      "\u001b[0;31mImportError\u001b[0m: cannot import name 'LITERALS_JBIG2_DECODE' from 'pdfminer.pdftypes' (/Users/dyz/opt/anaconda3/envs/langchain/lib/python3.10/site-packages/pdfminer/pdftypes.py)",
      "\nDuring handling of the above exception, another exception occurred:\n",
      "\u001b[0;31mImportError\u001b[0m                               Traceback (most recent call last)",
      "Cell \u001b[0;32mIn[30], line 2\u001b[0m\n\u001b[1;32m      1\u001b[0m \u001b[38;5;28;01mfrom\u001b[39;00m \u001b[38;5;21;01mlangchain_community\u001b[39;00m\u001b[38;5;21;01m.\u001b[39;00m\u001b[38;5;21;01mdocument_loaders\u001b[39;00m \u001b[38;5;28;01mimport\u001b[39;00m PDFMinerLoader\n\u001b[0;32m----> 2\u001b[0m loader \u001b[38;5;241m=\u001b[39m \u001b[43mPDFMinerLoader\u001b[49m\u001b[43m(\u001b[49m\u001b[38;5;124;43m\"\u001b[39;49m\u001b[38;5;124;43mdata/layout-parser-paper.pdf\u001b[39;49m\u001b[38;5;124;43m\"\u001b[39;49m\u001b[43m)\u001b[49m\n\u001b[1;32m      3\u001b[0m data \u001b[38;5;241m=\u001b[39m loader\u001b[38;5;241m.\u001b[39mload()\n\u001b[1;32m      4\u001b[0m data[\u001b[38;5;241m0\u001b[39m]\n",
      "File \u001b[0;32m~/opt/anaconda3/envs/langchain/lib/python3.10/site-packages/langchain_community/document_loaders/pdf.py:289\u001b[0m, in \u001b[0;36mPDFMinerLoader.__init__\u001b[0;34m(self, file_path, headers, extract_images, concatenate_pages)\u001b[0m\n\u001b[1;32m    287\u001b[0m     \u001b[38;5;28;01mfrom\u001b[39;00m \u001b[38;5;21;01mpdfminer\u001b[39;00m\u001b[38;5;21;01m.\u001b[39;00m\u001b[38;5;21;01mhigh_level\u001b[39;00m \u001b[38;5;28;01mimport\u001b[39;00m extract_text  \u001b[38;5;66;03m# noqa:F401\u001b[39;00m\n\u001b[1;32m    288\u001b[0m \u001b[38;5;28;01mexcept\u001b[39;00m \u001b[38;5;167;01mImportError\u001b[39;00m:\n\u001b[0;32m--> 289\u001b[0m     \u001b[38;5;28;01mraise\u001b[39;00m \u001b[38;5;167;01mImportError\u001b[39;00m(\n\u001b[1;32m    290\u001b[0m         \u001b[38;5;124m\"\u001b[39m\u001b[38;5;124m`pdfminer` package not found, please install it with \u001b[39m\u001b[38;5;124m\"\u001b[39m\n\u001b[1;32m    291\u001b[0m         \u001b[38;5;124m\"\u001b[39m\u001b[38;5;124m`pip install pdfminer.six`\u001b[39m\u001b[38;5;124m\"\u001b[39m\n\u001b[1;32m    292\u001b[0m     )\n\u001b[1;32m    294\u001b[0m \u001b[38;5;28msuper\u001b[39m()\u001b[38;5;241m.\u001b[39m\u001b[38;5;21m__init__\u001b[39m(file_path, headers\u001b[38;5;241m=\u001b[39mheaders)\n\u001b[1;32m    295\u001b[0m \u001b[38;5;28mself\u001b[39m\u001b[38;5;241m.\u001b[39mparser \u001b[38;5;241m=\u001b[39m PDFMinerParser(\n\u001b[1;32m    296\u001b[0m     extract_images\u001b[38;5;241m=\u001b[39mextract_images, concatenate_pages\u001b[38;5;241m=\u001b[39mconcatenate_pages\n\u001b[1;32m    297\u001b[0m )\n",
      "\u001b[0;31mImportError\u001b[0m: `pdfminer` package not found, please install it with `pip install pdfminer.six`"
     ]
    }
   ],
   "source": [
    "from langchain_community.document_loaders import PDFMinerLoader\n",
    "loader = PDFMinerLoader(\"data/layout-parser-paper.pdf\")\n",
    "data = loader.load()\n",
    "data[0]"
   ]
  },
  {
   "cell_type": "markdown",
   "metadata": {},
   "source": [
    "#### Using PDFMiner to generate HTML text\n",
    "这可能有助于将文本分解为分段，因为可以通过`BeautifulSoup`解析输出HTML内容，以获取有关字体大小，页码，PDF标题/页脚等的更结构化和丰富的信息。\n",
    "\n"
   ]
  },
  {
   "cell_type": "code",
   "execution_count": 31,
   "metadata": {},
   "outputs": [
    {
     "ename": "ImportError",
     "evalue": "`pdfminer` package not found, please install it with `pip install pdfminer.six`",
     "output_type": "error",
     "traceback": [
      "\u001b[0;31m---------------------------------------------------------------------------\u001b[0m",
      "\u001b[0;31mImportError\u001b[0m                               Traceback (most recent call last)",
      "File \u001b[0;32m~/opt/anaconda3/envs/langchain/lib/python3.10/site-packages/langchain_community/document_loaders/pdf.py:316\u001b[0m, in \u001b[0;36mPDFMinerPDFasHTMLLoader.__init__\u001b[0;34m(self, file_path, headers)\u001b[0m\n\u001b[1;32m    315\u001b[0m \u001b[38;5;28;01mtry\u001b[39;00m:\n\u001b[0;32m--> 316\u001b[0m     \u001b[38;5;28;01mfrom\u001b[39;00m \u001b[38;5;21;01mpdfminer\u001b[39;00m\u001b[38;5;21;01m.\u001b[39;00m\u001b[38;5;21;01mhigh_level\u001b[39;00m \u001b[38;5;28;01mimport\u001b[39;00m extract_text_to_fp  \u001b[38;5;66;03m# noqa:F401\u001b[39;00m\n\u001b[1;32m    317\u001b[0m \u001b[38;5;28;01mexcept\u001b[39;00m \u001b[38;5;167;01mImportError\u001b[39;00m:\n",
      "File \u001b[0;32m~/opt/anaconda3/envs/langchain/lib/python3.10/site-packages/pdfminer/high_level.py:8\u001b[0m\n\u001b[1;32m      6\u001b[0m \u001b[38;5;28;01mfrom\u001b[39;00m \u001b[38;5;21;01mtyping\u001b[39;00m \u001b[38;5;28;01mimport\u001b[39;00m Any, BinaryIO, Container, Iterator, Optional, cast\n\u001b[0;32m----> 8\u001b[0m \u001b[38;5;28;01mfrom\u001b[39;00m \u001b[38;5;21;01m.\u001b[39;00m\u001b[38;5;21;01mconverter\u001b[39;00m \u001b[38;5;28;01mimport\u001b[39;00m (\n\u001b[1;32m      9\u001b[0m     XMLConverter,\n\u001b[1;32m     10\u001b[0m     HTMLConverter,\n\u001b[1;32m     11\u001b[0m     TextConverter,\n\u001b[1;32m     12\u001b[0m     PDFPageAggregator,\n\u001b[1;32m     13\u001b[0m     HOCRConverter,\n\u001b[1;32m     14\u001b[0m )\n\u001b[1;32m     15\u001b[0m \u001b[38;5;28;01mfrom\u001b[39;00m \u001b[38;5;21;01m.\u001b[39;00m\u001b[38;5;21;01mimage\u001b[39;00m \u001b[38;5;28;01mimport\u001b[39;00m ImageWriter\n",
      "File \u001b[0;32m~/opt/anaconda3/envs/langchain/lib/python3.10/site-packages/pdfminer/converter.py:20\u001b[0m\n\u001b[1;32m     19\u001b[0m \u001b[38;5;28;01mfrom\u001b[39;00m \u001b[38;5;21;01m.\u001b[39;00m \u001b[38;5;28;01mimport\u001b[39;00m utils\n\u001b[0;32m---> 20\u001b[0m \u001b[38;5;28;01mfrom\u001b[39;00m \u001b[38;5;21;01m.\u001b[39;00m\u001b[38;5;21;01mimage\u001b[39;00m \u001b[38;5;28;01mimport\u001b[39;00m ImageWriter\n\u001b[1;32m     21\u001b[0m \u001b[38;5;28;01mfrom\u001b[39;00m \u001b[38;5;21;01m.\u001b[39;00m\u001b[38;5;21;01mlayout\u001b[39;00m \u001b[38;5;28;01mimport\u001b[39;00m LAParams, LTComponent, TextGroupElement\n",
      "File \u001b[0;32m~/opt/anaconda3/envs/langchain/lib/python3.10/site-packages/pdfminer/image.py:18\u001b[0m\n\u001b[1;32m     17\u001b[0m \u001b[38;5;28;01mfrom\u001b[39;00m \u001b[38;5;21;01m.\u001b[39;00m\u001b[38;5;21;01mpdfcolor\u001b[39;00m \u001b[38;5;28;01mimport\u001b[39;00m LITERAL_DEVICE_RGB\n\u001b[0;32m---> 18\u001b[0m \u001b[38;5;28;01mfrom\u001b[39;00m \u001b[38;5;21;01m.\u001b[39;00m\u001b[38;5;21;01mpdftypes\u001b[39;00m \u001b[38;5;28;01mimport\u001b[39;00m (\n\u001b[1;32m     19\u001b[0m     LITERALS_DCT_DECODE,\n\u001b[1;32m     20\u001b[0m     LITERALS_JBIG2_DECODE,\n\u001b[1;32m     21\u001b[0m     LITERALS_JPX_DECODE,\n\u001b[1;32m     22\u001b[0m     LITERALS_FLATE_DECODE,\n\u001b[1;32m     23\u001b[0m )\n\u001b[1;32m     25\u001b[0m PIL_ERROR_MESSAGE \u001b[38;5;241m=\u001b[39m (\n\u001b[1;32m     26\u001b[0m     \u001b[38;5;124m\"\u001b[39m\u001b[38;5;124mCould not import Pillow. This dependency of pdfminer.six is not \u001b[39m\u001b[38;5;124m\"\u001b[39m\n\u001b[1;32m     27\u001b[0m     \u001b[38;5;124m\"\u001b[39m\u001b[38;5;124minstalled by default. You need it to to save jpg images to a file. Install it \u001b[39m\u001b[38;5;124m\"\u001b[39m\n\u001b[1;32m     28\u001b[0m     \u001b[38;5;124m\"\u001b[39m\u001b[38;5;124mwith `pip install \u001b[39m\u001b[38;5;124m'\u001b[39m\u001b[38;5;124mpdfminer.six[image]\u001b[39m\u001b[38;5;124m'\u001b[39m\u001b[38;5;124m`\u001b[39m\u001b[38;5;124m\"\u001b[39m\n\u001b[1;32m     29\u001b[0m )\n",
      "\u001b[0;31mImportError\u001b[0m: cannot import name 'LITERALS_JBIG2_DECODE' from 'pdfminer.pdftypes' (/Users/dyz/opt/anaconda3/envs/langchain/lib/python3.10/site-packages/pdfminer/pdftypes.py)",
      "\nDuring handling of the above exception, another exception occurred:\n",
      "\u001b[0;31mImportError\u001b[0m                               Traceback (most recent call last)",
      "Cell \u001b[0;32mIn[31], line 2\u001b[0m\n\u001b[1;32m      1\u001b[0m \u001b[38;5;28;01mfrom\u001b[39;00m \u001b[38;5;21;01mlangchain_community\u001b[39;00m\u001b[38;5;21;01m.\u001b[39;00m\u001b[38;5;21;01mdocument_loaders\u001b[39;00m \u001b[38;5;28;01mimport\u001b[39;00m PDFMinerPDFasHTMLLoader\n\u001b[0;32m----> 2\u001b[0m loader \u001b[38;5;241m=\u001b[39m \u001b[43mPDFMinerPDFasHTMLLoader\u001b[49m\u001b[43m(\u001b[49m\u001b[38;5;124;43m\"\u001b[39;49m\u001b[38;5;124;43mdata/layout-parser-paper.pdf\u001b[39;49m\u001b[38;5;124;43m\"\u001b[39;49m\u001b[43m)\u001b[49m\n\u001b[1;32m      3\u001b[0m data \u001b[38;5;241m=\u001b[39m loader\u001b[38;5;241m.\u001b[39mload()[\u001b[38;5;241m0\u001b[39m]   \u001b[38;5;66;03m# entire PDF is loaded as a single Document\u001b[39;00m\n",
      "File \u001b[0;32m~/opt/anaconda3/envs/langchain/lib/python3.10/site-packages/langchain_community/document_loaders/pdf.py:318\u001b[0m, in \u001b[0;36mPDFMinerPDFasHTMLLoader.__init__\u001b[0;34m(self, file_path, headers)\u001b[0m\n\u001b[1;32m    316\u001b[0m     \u001b[38;5;28;01mfrom\u001b[39;00m \u001b[38;5;21;01mpdfminer\u001b[39;00m\u001b[38;5;21;01m.\u001b[39;00m\u001b[38;5;21;01mhigh_level\u001b[39;00m \u001b[38;5;28;01mimport\u001b[39;00m extract_text_to_fp  \u001b[38;5;66;03m# noqa:F401\u001b[39;00m\n\u001b[1;32m    317\u001b[0m \u001b[38;5;28;01mexcept\u001b[39;00m \u001b[38;5;167;01mImportError\u001b[39;00m:\n\u001b[0;32m--> 318\u001b[0m     \u001b[38;5;28;01mraise\u001b[39;00m \u001b[38;5;167;01mImportError\u001b[39;00m(\n\u001b[1;32m    319\u001b[0m         \u001b[38;5;124m\"\u001b[39m\u001b[38;5;124m`pdfminer` package not found, please install it with \u001b[39m\u001b[38;5;124m\"\u001b[39m\n\u001b[1;32m    320\u001b[0m         \u001b[38;5;124m\"\u001b[39m\u001b[38;5;124m`pip install pdfminer.six`\u001b[39m\u001b[38;5;124m\"\u001b[39m\n\u001b[1;32m    321\u001b[0m     )\n\u001b[1;32m    323\u001b[0m \u001b[38;5;28msuper\u001b[39m()\u001b[38;5;241m.\u001b[39m\u001b[38;5;21m__init__\u001b[39m(file_path, headers\u001b[38;5;241m=\u001b[39mheaders)\n",
      "\u001b[0;31mImportError\u001b[0m: `pdfminer` package not found, please install it with `pip install pdfminer.six`"
     ]
    }
   ],
   "source": [
    "from langchain_community.document_loaders import PDFMinerPDFasHTMLLoader\n",
    "loader = PDFMinerPDFasHTMLLoader(\"data/layout-parser-paper.pdf\")\n",
    "data = loader.load()[0]   # entire PDF is loaded as a single Document\n"
   ]
  },
  {
   "cell_type": "code",
   "execution_count": null,
   "metadata": {},
   "outputs": [],
   "source": [
    "from bs4 import BeautifulSoup\n",
    "soup = BeautifulSoup(data.page_content,'html.parser')\n",
    "content = soup.find_all('div')\n",
    "\n",
    "import re\n",
    "cur_fs = None\n",
    "cur_text = ''\n",
    "snippets = []   # first collect all snippets that have the same font size\n",
    "for c in content:\n",
    "    sp = c.find('span')\n",
    "    if not sp:\n",
    "        continue\n",
    "    st = sp.get('style')\n",
    "    if not st:\n",
    "        continue\n",
    "    fs = re.findall('font-size:(\\d+)px',st)\n",
    "    if not fs:\n",
    "        continue\n",
    "    fs = int(fs[0])\n",
    "    if not cur_fs:\n",
    "        cur_fs = fs\n",
    "    if fs == cur_fs:\n",
    "        cur_text += c.text\n",
    "    else:\n",
    "        snippets.append((cur_text,cur_fs))\n",
    "        cur_fs = fs\n",
    "        cur_text = c.text\n",
    "snippets.append((cur_text,cur_fs))\n",
    "# Note: The above logic is very straightforward. One can also add more strategies such as removing duplicate snippets (as\n",
    "# headers/footers in a PDF appear on multiple pages so if we find duplicates it's safe to assume that it is redundant info)"
   ]
  },
  {
   "cell_type": "code",
   "execution_count": null,
   "metadata": {},
   "outputs": [],
   "source": [
    "from langchain_community.docstore.document import Document\n",
    "cur_idx = -1\n",
    "semantic_snippets = []\n",
    "# Assumption: headings have higher font size than their respective content\n",
    "for s in snippets:\n",
    "    # if current snippet's font size > previous section's heading => it is a new heading\n",
    "    if not semantic_snippets or s[1] > semantic_snippets[cur_idx].metadata['heading_font']:\n",
    "        metadata={'heading':s[0], 'content_font': 0, 'heading_font': s[1]}\n",
    "        metadata.update(data.metadata)\n",
    "        semantic_snippets.append(Document(page_content='',metadata=metadata))\n",
    "        cur_idx += 1\n",
    "        continue\n",
    "\n",
    "    # if current snippet's font size <= previous section's content => content belongs to the same section (one can also create\n",
    "    # a tree like structure for sub sections if needed but that may require some more thinking and may be data specific)\n",
    "    if not semantic_snippets[cur_idx].metadata['content_font'] or s[1] <= semantic_snippets[cur_idx].metadata['content_font']:\n",
    "        semantic_snippets[cur_idx].page_content += s[0]\n",
    "        semantic_snippets[cur_idx].metadata['content_font'] = max(s[1], semantic_snippets[cur_idx].metadata['content_font'])\n",
    "        continue\n",
    "\n",
    "    # if current snippet's font size > previous section's content but less than previous section's heading than also make a new\n",
    "    # section (e.g. title of a PDF will have the highest font size but we don't want it to subsume all sections)\n",
    "    metadata={'heading':s[0], 'content_font': 0, 'heading_font': s[1]}\n",
    "    metadata.update(data.metadata)\n",
    "    semantic_snippets.append(Document(page_content='',metadata=metadata))\n",
    "    cur_idx += 1"
   ]
  },
  {
   "cell_type": "markdown",
   "metadata": {},
   "source": [
    "### PyPDF Directory\n"
   ]
  },
  {
   "cell_type": "code",
   "execution_count": 32,
   "metadata": {},
   "outputs": [],
   "source": [
    "from langchain_community.document_loaders import PyPDFDirectoryLoader\n",
    "loader = PyPDFDirectoryLoader(\"./data\")\n",
    "docs = loader.load()"
   ]
  },
  {
   "cell_type": "code",
   "execution_count": 33,
   "metadata": {},
   "outputs": [
    {
     "data": {
      "text/plain": [
       "[Document(page_content='LayoutParser : A Uniﬁed Toolkit for Deep\\nLearning Based Document Image Analysis\\nZejiang Shen1( \\x00), Ruochen Zhang2, Melissa Dell3, Benjamin Charles Germain\\nLee4, Jacob Carlson3, and Weining Li5\\n1Allen Institute for AI\\nshannons@allenai.org\\n2Brown University\\nruochen zhang@brown.edu\\n3Harvard University\\n{melissadell,jacob carlson }@fas.harvard.edu\\n4University of Washington\\nbcgl@cs.washington.edu\\n5University of Waterloo\\nw422li@uwaterloo.ca\\nAbstract. Recent advances in document image analysis (DIA) have been\\nprimarily driven by the application of neural networks. Ideally, research\\noutcomes could be easily deployed in production and extended for further\\ninvestigation. However, various factors like loosely organized codebases\\nand sophisticated model conﬁgurations complicate the easy reuse of im-\\nportant innovations by a wide audience. Though there have been on-going\\neﬀorts to improve reusability and simplify deep learning (DL) model\\ndevelopment in disciplines like natural language processing and computer\\nvision, none of them are optimized for challenges in the domain of DIA.\\nThis represents a major gap in the existing toolkit, as DIA is central to\\nacademic research across a wide range of disciplines in the social sciences\\nand humanities. This paper introduces LayoutParser , an open-source\\nlibrary for streamlining the usage of DL in DIA research and applica-\\ntions. The core LayoutParser library comes with a set of simple and\\nintuitive interfaces for applying and customizing DL models for layout de-\\ntection, character recognition, and many other document processing tasks.\\nTo promote extensibility, LayoutParser also incorporates a community\\nplatform for sharing both pre-trained models and full document digiti-\\nzation pipelines. We demonstrate that LayoutParser is helpful for both\\nlightweight and large-scale digitization pipelines in real-word use cases.\\nThe library is publicly available at https://layout-parser.github.io .\\nKeywords: Document Image Analysis ·Deep Learning ·Layout Analysis\\n·Character Recognition ·Open Source library ·Toolkit.\\n1 Introduction\\nDeep Learning(DL)-based approaches are the state-of-the-art for a wide range of\\ndocument image analysis (DIA) tasks including document image classiﬁcation [ 11,arXiv:2103.15348v2  [cs.CV]  21 Jun 2021', metadata={'source': 'data/layout-parser-paper.pdf', 'page': 0}),\n",
       " Document(page_content='2 Z. Shen et al.\\n37], layout detection [ 38,22], table detection [ 26], and scene text detection [ 4].\\nA generalized learning-based framework dramatically reduces the need for the\\nmanual speciﬁcation of complicated rules, which is the status quo with traditional\\nmethods. DL has the potential to transform DIA pipelines and beneﬁt a broad\\nspectrum of large-scale document digitization projects.\\nHowever, there are several practical diﬃculties for taking advantages of re-\\ncent advances in DL-based methods: 1) DL models are notoriously convoluted\\nfor reuse and extension. Existing models are developed using distinct frame-\\nworks like TensorFlow [ 1] or PyTorch [ 24], and the high-level parameters can\\nbe obfuscated by implementation details [ 8]. It can be a time-consuming and\\nfrustrating experience to debug, reproduce, and adapt existing models for DIA,\\nand many researchers who would beneﬁt the most from using these methods lack\\nthe technical background to implement them from scratch. 2) Document images\\ncontain diverse and disparate patterns across domains, and customized training\\nis often required to achieve a desirable detection accuracy. Currently there is no\\nfull-ﬂedged infrastructure for easily curating the target document image datasets\\nand ﬁne-tuning or re-training the models. 3) DIA usually requires a sequence of\\nmodels and other processing to obtain the ﬁnal outputs. Often research teams use\\nDL models and then perform further document analyses in separate processes,\\nand these pipelines are not documented in any central location (and often not\\ndocumented at all). This makes it diﬃcult for research teams to learn about how\\nfull pipelines are implemented and leads them to invest signiﬁcant resources in\\nreinventing the DIA wheel .\\nLayoutParser provides a uniﬁed toolkit to support DL-based document image\\nanalysis and processing. To address the aforementioned challenges, LayoutParser\\nis built with the following components:\\n1.An oﬀ-the-shelf toolkit for applying DL models for layout detection, character\\nrecognition, and other DIA tasks (Section 3)\\n2.A rich repository of pre-trained neural network models (Model Zoo) that\\nunderlies the oﬀ-the-shelf usage\\n3.Comprehensive tools for eﬃcient document image data annotation and model\\ntuning to support diﬀerent levels of customization\\n4.A DL model hub and community platform for the easy sharing, distribu-\\ntion, and discussion of DIA models and pipelines, to promote reusability,\\nreproducibility, and extensibility (Section 4)\\nThe library implements simple and intuitive Python APIs without sacriﬁcing\\ngeneralizability and versatility, and can be easily installed via pip. Its convenient\\nfunctions for handling document image data can be seamlessly integrated with\\nexisting DIA pipelines. With detailed documentations and carefully curated\\ntutorials, we hope this tool will beneﬁt a variety of end-users, and will lead to\\nadvances in applications in both industry and academic research.\\nLayoutParser is well aligned with recent eﬀorts for improving DL model\\nreusability in other disciplines like natural language processing [ 8,34] and com-\\nputer vision [ 35], but with a focus on unique challenges in DIA. We show\\nLayoutParser can be applied in sophisticated and large-scale digitization projects', metadata={'source': 'data/layout-parser-paper.pdf', 'page': 1}),\n",
       " Document(page_content='LayoutParser : A Uniﬁed Toolkit for DL-Based DIA 3\\nthat require precision, eﬃciency, and robustness, as well as simple and light-\\nweight document processing tasks focusing on eﬃcacy and ﬂexibility (Section 5).\\nLayoutParser is being actively maintained, and support for more deep learning\\nmodels and novel methods in text-based layout analysis methods [ 37,34] is\\nplanned.\\nThe rest of the paper is organized as follows. Section 2 provides an overview\\nof related work. The core LayoutParser library, DL Model Zoo, and customized\\nmodel training are described in Section 3, and the DL model hub and commu-\\nnity platform are detailed in Section 4. Section 5 shows two examples of how\\nLayoutParser can be used in practical DIA projects, and Section 6 concludes.\\n2 Related Work\\nRecently, various DL models and datasets have been developed for layout analysis\\ntasks. The dhSegment [ 22] utilizes fully convolutional networks [ 20] for segmen-\\ntation tasks on historical documents. Object detection-based methods like Faster\\nR-CNN [ 28] and Mask R-CNN [ 12] are used for identifying document elements [ 38]\\nand detecting tables [ 30,26]. Most recently, Graph Neural Networks [ 29] have also\\nbeen used in table detection [ 27]. However, these models are usually implemented\\nindividually and there is no uniﬁed framework to load and use such models.\\nThere has been a surge of interest in creating open-source tools for document\\nimage processing: a search of document image analysis in Github leads to 5M\\nrelevant code pieces6; yet most of them rely on traditional rule-based methods\\nor provide limited functionalities. The closest prior research to our work is the\\nOCR-D project7, which also tries to build a complete toolkit for DIA. However,\\nsimilar to the platform developed by Neudecker et al. [ 21], it is designed for\\nanalyzing historical documents, and provides no supports for recent DL models.\\nThe DocumentLayoutAnalysis project8focuses on processing born-digital PDF\\ndocuments via analyzing the stored PDF data. Repositories like DeepLayout9\\nand Detectron2-PubLayNet10are individual deep learning models trained on\\nlayout analysis datasets without support for the full DIA pipeline. The Document\\nAnalysis and Exploitation (DAE) platform [ 15] and the DeepDIVA project [ 2]\\naim to improve the reproducibility of DIA methods (or DL models), yet they\\nare not actively maintained. OCR engines like Tesseract [14],easyOCR11and\\npaddleOCR12usually do not come with comprehensive functionalities for other\\nDIA tasks like layout analysis.\\nRecent years have also seen numerous eﬀorts to create libraries for promoting\\nreproducibility and reusability in the ﬁeld of DL. Libraries like Dectectron2 [ 35],\\n6The number shown is obtained by specifying the search type as ‘code’.\\n7https://ocr-d.de/en/about\\n8https://github.com/BobLd/DocumentLayoutAnalysis\\n9https://github.com/leonlulu/DeepLayout\\n10https://github.com/hpanwar08/detectron2\\n11https://github.com/JaidedAI/EasyOCR\\n12https://github.com/PaddlePaddle/PaddleOCR', metadata={'source': 'data/layout-parser-paper.pdf', 'page': 2}),\n",
       " Document(page_content='4 Z. Shen et al.\\nEfficient Data AnnotationC u s t o m i z e d  M o d e l  T r a i n i n gModel Cust omizationDI A Model HubDI A Pipeline SharingCommunity PlatformLa y out Detection ModelsDocument Images \\nT h e  C o r e  L a y o u t P a r s e r  L i b r a r yOCR ModuleSt or age & VisualizationLa y out Data Structur e\\nFig. 1: The overall architecture of LayoutParser . For an input document image,\\nthe core LayoutParser library provides a set of oﬀ-the-shelf tools for layout\\ndetection, OCR, visualization, and storage, backed by a carefully designed layout\\ndata structure. LayoutParser also supports high level customization via eﬃcient\\nlayout annotation and model training functions. These improve model accuracy\\non the target samples. The community platform enables the easy sharing of DIA\\nmodels and whole digitization pipelines to promote reusability and reproducibility.\\nA collection of detailed documentation, tutorials and exemplar projects make\\nLayoutParser easy to learn and use.\\nAllenNLP [ 8] and transformers [ 34] have provided the community with complete\\nDL-based support for developing and deploying models for general computer\\nvision and natural language processing problems. LayoutParser , on the other\\nhand, specializes speciﬁcally in DIA tasks. LayoutParser is also equipped with a\\ncommunity platform inspired by established model hubs such as Torch Hub [23]\\nandTensorFlow Hub [1]. It enables the sharing of pretrained models as well as\\nfull document processing pipelines that are unique to DIA tasks.\\nThere have been a variety of document data collections to facilitate the\\ndevelopment of DL models. Some examples include PRImA [ 3](magazine layouts),\\nPubLayNet [ 38](academic paper layouts), Table Bank [ 18](tables in academic\\npapers), Newspaper Navigator Dataset [ 16,17](newspaper ﬁgure layouts) and\\nHJDataset [31](historical Japanese document layouts). A spectrum of models\\ntrained on these datasets are currently available in the LayoutParser model zoo\\nto support diﬀerent use cases.\\n3 The Core LayoutParser Library\\nAt the core of LayoutParser is an oﬀ-the-shelf toolkit that streamlines DL-\\nbased document image analysis. Five components support a simple interface\\nwith comprehensive functionalities: 1) The layout detection models enable using\\npre-trained or self-trained DL models for layout detection with just four lines\\nof code. 2) The detected layout information is stored in carefully engineered', metadata={'source': 'data/layout-parser-paper.pdf', 'page': 3}),\n",
       " Document(page_content='LayoutParser : A Uniﬁed Toolkit for DL-Based DIA 5\\nTable 1: Current layout detection models in the LayoutParser model zoo\\nDataset Base Model1Large Model Notes\\nPubLayNet [38] F / M M Layouts of modern scientiﬁc documents\\nPRImA [3] M - Layouts of scanned modern magazines and scientiﬁc reports\\nNewspaper [17] F - Layouts of scanned US newspapers from the 20th century\\nTableBank [18] F F Table region on modern scientiﬁc and business document\\nHJDataset [31] F / M - Layouts of history Japanese documents\\n1For each dataset, we train several models of diﬀerent sizes for diﬀerent needs (the trade-oﬀ between accuracy\\nvs. computational cost). For “base model” and “large model”, we refer to using the ResNet 50 or ResNet 101\\nbackbones [ 13], respectively. One can train models of diﬀerent architectures, like Faster R-CNN [ 28] (F) and Mask\\nR-CNN [ 12] (M). For example, an F in the Large Model column indicates it has a Faster R-CNN model trained\\nusing the ResNet 101 backbone. The platform is maintained and a number of additions will be made to the model\\nzoo in coming months.\\nlayout data structures , which are optimized for eﬃciency and versatility. 3) When\\nnecessary, users can employ existing or customized OCR models via the uniﬁed\\nAPI provided in the OCR module . 4)LayoutParser comes with a set of utility\\nfunctions for the visualization and storage of the layout data. 5) LayoutParser\\nis also highly customizable, via its integration with functions for layout data\\nannotation and model training . We now provide detailed descriptions for each\\ncomponent.\\n3.1 Layout Detection Models\\nInLayoutParser , a layout model takes a document image as an input and\\ngenerates a list of rectangular boxes for the target content regions. Diﬀerent\\nfrom traditional methods, it relies on deep convolutional neural networks rather\\nthan manually curated rules to identify content regions. It is formulated as an\\nobject detection problem and state-of-the-art models like Faster R-CNN [ 28] and\\nMask R-CNN [ 12] are used. This yields prediction results of high accuracy and\\nmakes it possible to build a concise, generalized interface for layout detection.\\nLayoutParser , built upon Detectron2 [ 35], provides a minimal API that can\\nperform layout detection with only four lines of code in Python:\\n1import layoutparser as lp\\n2image = cv2. imread (\" image_file \") # load images\\n3model = lp. Detectron2LayoutModel (\\n4 \"lp :// PubLayNet / faster_rcnn_R_50_FPN_3x / config \")\\n5layout = model . detect ( image )\\nLayoutParser provides a wealth of pre-trained model weights using various\\ndatasets covering diﬀerent languages, time periods, and document types. Due to\\ndomain shift [ 7], the prediction performance can notably drop when models are ap-\\nplied to target samples that are signiﬁcantly diﬀerent from the training dataset. As\\ndocument structures and layouts vary greatly in diﬀerent domains, it is important\\nto select models trained on a dataset similar to the test samples. A semantic syntax\\nis used for initializing the model weights in LayoutParser , using both the dataset\\nname and model name lp://<dataset-name>/<model-architecture-name> .', metadata={'source': 'data/layout-parser-paper.pdf', 'page': 4}),\n",
       " Document(page_content='6 Z. Shen et al.\\nFig. 2: The relationship between the three types of layout data structures.\\nCoordinate supports three kinds of variation; TextBlock consists of the co-\\nordinate information and extra features like block text, types, and reading orders;\\naLayout object is a list of all possible layout elements, including other Layout\\nobjects. They all support the same set of transformation and operation APIs for\\nmaximum ﬂexibility.\\nShown in Table 1, LayoutParser currently hosts 9 pre-trained models trained\\non 5 diﬀerent datasets. Description of the training dataset is provided alongside\\nwith the trained models such that users can quickly identify the most suitable\\nmodels for their tasks. Additionally, when such a model is not readily available,\\nLayoutParser also supports training customized layout models and community\\nsharing of the models (detailed in Section 3.5).\\n3.2 Layout Data Structures\\nA critical feature of LayoutParser is the implementation of a series of data\\nstructures and operations that can be used to eﬃciently process and manipulate\\nthe layout elements. In document image analysis pipelines, various post-processing\\non the layout analysis model outputs is usually required to obtain the ﬁnal\\noutputs. Traditionally, this requires exporting DL model outputs and then loading\\nthe results into other pipelines. All model outputs from LayoutParser will be\\nstored in carefully engineered data types optimized for further processing, which\\nmakes it possible to build an end-to-end document digitization pipeline within\\nLayoutParser . There are three key components in the data structure, namely\\ntheCoordinate system, the TextBlock , and the Layout . They provide diﬀerent\\nlevels of abstraction for the layout data, and a set of APIs are supported for\\ntransformations or operations on these classes.', metadata={'source': 'data/layout-parser-paper.pdf', 'page': 5}),\n",
       " Document(page_content='LayoutParser : A Uniﬁed Toolkit for DL-Based DIA 7\\nCoordinates are the cornerstones for storing layout information. Currently,\\nthree types of Coordinate data structures are provided in LayoutParser , shown\\nin Figure 2. Interval and Rectangle are the most common data types and\\nsupport specifying 1D or 2D regions within a document. They are parameterized\\nwith 2 and 4 parameters. A Quadrilateral class is also implemented to support\\na more generalized representation of rectangular regions when the document\\nis skewed or distorted, where the 4 corner points can be speciﬁed and a total\\nof 8 degrees of freedom are supported. A wide collection of transformations\\nlikeshift ,pad, and scale , and operations like intersect ,union , and is_in ,\\nare supported for these classes. Notably, it is common to separate a segment\\nof the image and analyze it individually. LayoutParser provides full support\\nfor this scenario via image cropping operations crop_image and coordinate\\ntransformations like relative_to andcondition_on that transform coordinates\\nto and from their relative representations. We refer readers to Table 2 for a more\\ndetailed description of these operations13.\\nBased on Coordinate s, we implement the TextBlock class that stores both\\nthe positional and extra features of individual layout elements. It also supports\\nspecifying the reading orders via setting the parent ﬁeld to the index of the parent\\nobject. A Layout class is built that takes in a list of TextBlock s and supports\\nprocessing the elements in batch. Layout can also be nested to support hierarchical\\nlayout structures. They support the same operations and transformations as the\\nCoordinate classes, minimizing both learning and deployment eﬀort.\\n3.3 OCR\\nLayoutParser provides a uniﬁed interface for existing OCR tools. Though there\\nare many OCR tools available, they are usually conﬁgured diﬀerently with distinct\\nAPIs or protocols for using them. It can be ineﬃcient to add new OCR tools into\\nan existing pipeline, and diﬃcult to make direct comparisons among the available\\ntools to ﬁnd the best option for a particular project. To this end, LayoutParser\\nbuilds a series of wrappers among existing OCR engines, and provides nearly\\nthe same syntax for using them. It supports a plug-and-play style of using OCR\\nengines, making it eﬀortless to switch, evaluate, and compare diﬀerent OCR\\nmodules:\\n1ocr_agent = lp. TesseractAgent ()\\n2# Can be easily switched to other OCR software\\n3tokens = ocr_agent . detect ( image )\\nThe OCR outputs will also be stored in the aforementioned layout data\\nstructures and can be seamlessly incorporated into the digitization pipeline.\\nCurrently LayoutParser supports the Tesseract and Google Cloud Vision OCR\\nengines.\\nLayoutParser also comes with a DL-based CNN-RNN OCR model [ 6] trained\\nwith the Connectionist Temporal Classiﬁcation (CTC) loss [ 10]. It can be used\\nlike the other OCR modules, and can be easily trained on customized datasets.\\n13This is also available in the LayoutParser documentation pages.', metadata={'source': 'data/layout-parser-paper.pdf', 'page': 6}),\n",
       " Document(page_content='8 Z. Shen et al.\\nTable 2: All operations supported by the layout elements. The same APIs are\\nsupported across diﬀerent layout element classes including Coordinate types,\\nTextBlock andLayout .\\nOperation Name Description\\nblock.pad(top, bottom, right, left) Enlarge the current block according to the input\\nblock.scale(fx, fy)Scale the current block given the ratio\\nin x and y direction\\nblock.shift(dx, dy)Move the current block with the shift\\ndistances in x and y direction\\nblock1.is in(block2) Whether block1 is inside of block2\\nblock1.intersect(block2)Return the intersection region of block1 and block2.\\nCoordinate type to be determined based on the inputs.\\nblock1.union(block2)Return the union region of block1 and block2.\\nCoordinate type to be determined based on the inputs.\\nblock1.relative to(block2)Convert the absolute coordinates of block1 to\\nrelative coordinates to block2\\nblock1.condition on(block2)Calculate the absolute coordinates of block1 given\\nthe canvas block2’s absolute coordinates\\nblock.crop image(image) Obtain the image segments in the block region\\n3.4 Storage and visualization\\nThe end goal of DIA is to transform the image-based document data into a\\nstructured database. LayoutParser supports exporting layout data into diﬀerent\\nformats like JSON,csv, and will add the support for the METS/ALTO XML\\nformat14. It can also load datasets from layout analysis-speciﬁc formats like\\nCOCO [38] and the Page Format [25] for training layout models (Section 3.5).\\nVisualization of the layout detection results is critical for both presentation\\nand debugging. LayoutParser is built with an integrated API for displaying the\\nlayout information along with the original document image. Shown in Figure 3, it\\nenables presenting layout data with rich meta information and features in diﬀerent\\nmodes. More detailed information can be found in the online LayoutParser\\ndocumentation page.\\n3.5 Customized Model Training\\nBesides the oﬀ-the-shelf library, LayoutParser is also highly customizable with\\nsupports for highly unique and challenging document analysis tasks. Target\\ndocument images can be vastly diﬀerent from the existing datasets for train-\\ning layout models, which leads to low layout detection accuracy. Training data\\n14https://altoxml.github.io', metadata={'source': 'data/layout-parser-paper.pdf', 'page': 7}),\n",
       " Document(page_content='LayoutParser : A Uniﬁed Toolkit for DL-Based DIA 9\\nFig. 3: Layout detection and OCR results visualization generated by the\\nLayoutParser APIs. Mode I directly overlays the layout region bounding boxes\\nand categories over the original image. Mode II recreates the original document\\nvia drawing the OCR’d texts at their corresponding positions on the image\\ncanvas. In this ﬁgure, tokens in textual regions are ﬁltered using the API and\\nthen displayed.\\ncan also be highly sensitive and not sharable publicly. To overcome these chal-\\nlenges, LayoutParser is built with rich features for eﬃcient data annotation and\\ncustomized model training.\\nLayoutParser incorporates a toolkit optimized for annotating document lay-\\nouts using object-level active learning [ 32]. With the help from a layout detection\\nmodel trained along with labeling, only the most important layout objects within\\neach image, rather than the whole image, are required for labeling. The rest of\\nthe regions are automatically annotated with high conﬁdence predictions from\\nthe layout detection model. This allows a layout dataset to be created more\\neﬃciently with only around 60% of the labeling budget.\\nAfter the training dataset is curated, LayoutParser supports diﬀerent modes\\nfor training the layout models. Fine-tuning can be used for training models on a\\nsmall newly-labeled dataset by initializing the model with existing pre-trained\\nweights. Training from scratch can be helpful when the source dataset and\\ntarget are signiﬁcantly diﬀerent and a large training set is available. However, as\\nsuggested in Studer et al.’s work[ 33], loading pre-trained weights on large-scale\\ndatasets like ImageNet [ 5], even from totally diﬀerent domains, can still boost\\nmodel performance. Through the integrated API provided by LayoutParser ,\\nusers can easily compare model performances on the benchmark datasets.', metadata={'source': 'data/layout-parser-paper.pdf', 'page': 8}),\n",
       " Document(page_content='10 Z. Shen et al.\\nFig. 4: Illustration of (a) the original historical Japanese document with layout\\ndetection results and (b) a recreated version of the document image that achieves\\nmuch better character recognition recall. The reorganization algorithm rearranges\\nthe tokens based on the their detected bounding boxes given a maximum allowed\\nheight.\\n4LayoutParser Community Platform\\nAnother focus of LayoutParser is promoting the reusability of layout detection\\nmodels and full digitization pipelines. Similar to many existing deep learning\\nlibraries, LayoutParser comes with a community model hub for distributing\\nlayout models. End-users can upload their self-trained models to the model hub,\\nand these models can be loaded into a similar interface as the currently available\\nLayoutParser pre-trained models. For example, the model trained on the News\\nNavigator dataset [17] has been incorporated in the model hub.\\nBeyond DL models, LayoutParser also promotes the sharing of entire doc-\\nument digitization pipelines. For example, sometimes the pipeline requires the\\ncombination of multiple DL models to achieve better accuracy. Currently, pipelines\\nare mainly described in academic papers and implementations are often not pub-\\nlicly available. To this end, the LayoutParser community platform also enables\\nthe sharing of layout pipelines to promote the discussion and reuse of techniques.\\nFor each shared pipeline, it has a dedicated project page, with links to the source\\ncode, documentation, and an outline of the approaches. A discussion panel is\\nprovided for exchanging ideas. Combined with the core LayoutParser library,\\nusers can easily build reusable components based on the shared pipelines and\\napply them to solve their unique problems.\\n5 Use Cases\\nThe core objective of LayoutParser is to make it easier to create both large-scale\\nand light-weight document digitization pipelines. Large-scale document processing', metadata={'source': 'data/layout-parser-paper.pdf', 'page': 9}),\n",
       " Document(page_content='LayoutParser : A Uniﬁed Toolkit for DL-Based DIA 11\\nfocuses on precision, eﬃciency, and robustness. The target documents may have\\ncomplicated structures, and may require training multiple layout detection models\\nto achieve the optimal accuracy. Light-weight pipelines are built for relatively\\nsimple documents, with an emphasis on development ease, speed and ﬂexibility.\\nIdeally one only needs to use existing resources, and model training should be\\navoided. Through two exemplar projects, we show how practitioners in both\\nacademia and industry can easily build such pipelines using LayoutParser and\\nextract high-quality structured document data for their downstream tasks. The\\nsource code for these projects will be publicly available in the LayoutParser\\ncommunity hub.\\n5.1 A Comprehensive Historical Document Digitization Pipeline\\nThe digitization of historical documents can unlock valuable data that can shed\\nlight on many important social, economic, and historical questions. Yet due to\\nscan noises, page wearing, and the prevalence of complicated layout structures, ob-\\ntaining a structured representation of historical document scans is often extremely\\ncomplicated.\\nFig. 5: Illustration of how LayoutParser\\nhelps with the historical document digi-\\ntization pipeline.In this example, LayoutParser was\\nused to develop a comprehensive\\npipeline, shown in Figure 5, to gener-\\nate high-quality structured data from\\nhistorical Japanese ﬁrm ﬁnancial ta-\\nbles with complicated layouts. The\\npipeline applies two layout models to\\nidentify diﬀerent levels of document\\nstructures and two customized OCR\\nengines for optimized character recog-\\nnition accuracy.\\nAs shown in Figure 4 (a), the\\ndocument contains columns of text\\nwritten vertically15, a common style\\nin Japanese. Due to scanning noise\\nand archaic printing technology, the\\ncolumns can be skewed or have vari-\\nable widths, and hence cannot be eas-\\nily identiﬁed via rule-based methods.\\nWithin each column, words are sepa-\\nrated by white spaces of variable size,\\nand the vertical positions of objects\\ncan be an indicator of their layout\\ntype.\\n15A document page consists of eight rows like this. For simplicity we skip the row\\nsegmentation discussion and refer readers to the source code when available.', metadata={'source': 'data/layout-parser-paper.pdf', 'page': 10}),\n",
       " Document(page_content='12 Z. Shen et al.\\nTo decipher the complicated layout\\nstructure, two object detection models have been trained to recognize individual\\ncolumns and tokens, respectively. A small training set (400 images with approxi-\\nmately 100 annotations each) is curated via the active learning based annotation\\ntool [ 32] inLayoutParser . The models learn to identify both the categories and\\nregions for each token or column via their distinct visual features. The layout\\ndata structure enables easy grouping of the tokens within each column, and\\nrearranging columns to achieve the correct reading orders based on the horizontal\\nposition. Errors are identiﬁed and rectiﬁed via checking the consistency of the\\nmodel predictions. Therefore, though trained on a small dataset, the pipeline\\nachieves a high level of layout detection accuracy: it achieves a 96.97 AP [ 19]\\nscore across 5 categories for the column detection model, and a 89.23 AP across\\n4 categories for the token detection model.\\nA combination of character recognition methods is developed to tackle the\\nunique challenges in this document. In our experiments, we found that irregular\\nspacing between the tokens led to a low character recognition recall rate, whereas\\nexisting OCR models tend to perform better on densely-arranged texts. To\\novercome this challenge, we create a document reorganization algorithm that\\nrearranges the text based on the token bounding boxes detected in the layout\\nanalysis step. Figure 4 (b) illustrates the generated image of dense text, which is\\nsent to the OCR APIs as a whole to reduce the transaction costs. The ﬂexible\\ncoordinate system in LayoutParser is used to transform the OCR results relative\\nto their original positions on the page.\\nAdditionally, it is common for historical documents to use unique fonts\\nwith diﬀerent glyphs, which signiﬁcantly degrades the accuracy of OCR models\\ntrained on modern texts. In this document, a special ﬂat font is used for printing\\nnumbers and could not be detected by oﬀ-the-shelf OCR engines. Using the highly\\nﬂexible functionalities from LayoutParser , a pipeline approach is constructed\\nthat achieves a high recognition accuracy with minimal eﬀort. As the characters\\nhave unique visual structures and are usually clustered together, we train the\\nlayout model to identify number regions with a dedicated category. Subsequently,\\nLayoutParser crops images within these regions, and identiﬁes characters within\\nthem using a self-trained OCR model based on a CNN-RNN [ 6]. The model\\ndetects a total of 15 possible categories, and achieves a 0.98 Jaccard score16and\\na 0.17 average Levinstein distances17for token prediction on the test set.\\nOverall, it is possible to create an intricate and highly accurate digitization\\npipeline for large-scale digitization using LayoutParser . The pipeline avoids\\nspecifying the complicated rules used in traditional methods, is straightforward\\nto develop, and is robust to outliers. The DL models also generate ﬁne-grained\\nresults that enable creative approaches like page reorganization for OCR.\\n16This measures the overlap between the detected and ground-truth characters, and\\nthe maximum is 1.\\n17This measures the number of edits from the ground-truth text to the predicted text,\\nand lower is better.', metadata={'source': 'data/layout-parser-paper.pdf', 'page': 11}),\n",
       " Document(page_content='LayoutParser : A Uniﬁed Toolkit for DL-Based DIA 13\\nFig. 6: This lightweight table detector can identify tables (outlined in red) and\\ncells (shaded in blue) in diﬀerent locations on a page. In very few cases (d), it\\nmight generate minor error predictions, e.g, failing to capture the top text line of\\na table.\\n5.2 A light-weight Visual Table Extractor\\nDetecting tables and parsing their structures (table extraction) are of central im-\\nportance for many document digitization tasks. Many previous works [ 26,30,27]\\nand tools18have been developed to identify and parse table structures. Yet they\\nmight require training complicated models from scratch, or are only applicable\\nfor born-digital PDF documents. In this section, we show how LayoutParser can\\nhelp build a light-weight accurate visual table extractor for legal docket tables\\nusing the existing resources with minimal eﬀort.\\nThe extractor uses a pre-trained layout detection model for identifying the\\ntable regions and some simple rules for pairing the rows and the columns in the\\nPDF image. Mask R-CNN [ 12] trained on the PubLayNet dataset [ 38] from the\\nLayoutParser Model Zoo can be used for detecting table regions. By ﬁltering\\nout model predictions of low conﬁdence and removing overlapping predictions,\\nLayoutParser can identify the tabular regions on each page, which signiﬁcantly\\nsimpliﬁes the subsequent steps. By applying the line detection functions within\\nthe tabular segments, provided in the utility module from LayoutParser , the\\npipeline can identify the three distinct columns in the tables. A row clustering\\nmethod is then applied via analyzing the y coordinates of token bounding boxes in\\nthe left-most column, which are obtained from the OCR engines. A non-maximal\\nsuppression algorithm is used to remove duplicated rows with extremely small\\ngaps. Shown in Figure 6, the built pipeline can detect tables at diﬀerent positions\\non a page accurately. Continued tables from diﬀerent pages are concatenated,\\nand a structured table representation has been easily created.\\n18https://github.com/atlanhq/camelot, https://github.com/tabulapdf/tabula', metadata={'source': 'data/layout-parser-paper.pdf', 'page': 12}),\n",
       " Document(page_content='14 Z. Shen et al.\\n6 Conclusion\\nLayoutParser provides a comprehensive toolkit for deep learning-based document\\nimage analysis. The oﬀ-the-shelf library is easy to install, and can be used to\\nbuild ﬂexible and accurate pipelines for processing documents with complicated\\nstructures. It also supports high-level customization and enables easy labeling and\\ntraining of DL models on unique document image datasets. The LayoutParser\\ncommunity platform facilitates sharing DL models and DIA pipelines, inviting\\ndiscussion and promoting code reproducibility and reusability. The LayoutParser\\nteam is committed to keeping the library updated continuously and bringing\\nthe most recent advances in DL-based DIA, such as multi-modal document\\nmodeling [37, 36, 9] (an upcoming priority), to a diverse audience of end-users.\\nAcknowledgements We thank the anonymous reviewers for their comments\\nand suggestions. This project is supported in part by NSF Grant OIA-2033558\\nand funding from the Harvard Data Science Initiative and Harvard Catalyst.\\nZejiang Shen thanks Doug Downey for suggestions.\\nReferences\\n[1]Abadi, M., Agarwal, A., Barham, P., Brevdo, E., Chen, Z., Citro, C., Corrado,\\nG.S., Davis, A., Dean, J., Devin, M., Ghemawat, S., Goodfellow, I., Harp, A.,\\nIrving, G., Isard, M., Jia, Y., Jozefowicz, R., Kaiser, L., Kudlur, M., Levenberg,\\nJ., Man´ e, D., Monga, R., Moore, S., Murray, D., Olah, C., Schuster, M., Shlens, J.,\\nSteiner, B., Sutskever, I., Talwar, K., Tucker, P., Vanhoucke, V., Vasudevan, V.,\\nVi´ egas, F., Vinyals, O., Warden, P., Wattenberg, M., Wicke, M., Yu, Y., Zheng,\\nX.: TensorFlow: Large-scale machine learning on heterogeneous systems (2015),\\nhttps://www.tensorflow.org/ , software available from tensorﬂow.org\\n[2]Alberti, M., Pondenkandath, V., W¨ ursch, M., Ingold, R., Liwicki, M.: Deepdiva: a\\nhighly-functional python framework for reproducible experiments. In: 2018 16th\\nInternational Conference on Frontiers in Handwriting Recognition (ICFHR). pp.\\n423–428. IEEE (2018)\\n[3]Antonacopoulos, A., Bridson, D., Papadopoulos, C., Pletschacher, S.: A realistic\\ndataset for performance evaluation of document layout analysis. In: 2009 10th\\nInternational Conference on Document Analysis and Recognition. pp. 296–300.\\nIEEE (2009)\\n[4]Baek, Y., Lee, B., Han, D., Yun, S., Lee, H.: Character region awareness for text\\ndetection. In: Proceedings of the IEEE/CVF Conference on Computer Vision and\\nPattern Recognition. pp. 9365–9374 (2019)\\n[5]Deng, J., Dong, W., Socher, R., Li, L.J., Li, K., Fei-Fei, L.: ImageNet: A Large-Scale\\nHierarchical Image Database. In: CVPR09 (2009)\\n[6]Deng, Y., Kanervisto, A., Ling, J., Rush, A.M.: Image-to-markup generation with\\ncoarse-to-ﬁne attention. In: International Conference on Machine Learning. pp.\\n980–989. PMLR (2017)\\n[7]Ganin, Y., Lempitsky, V.: Unsupervised domain adaptation by backpropagation.\\nIn: International conference on machine learning. pp. 1180–1189. PMLR (2015)', metadata={'source': 'data/layout-parser-paper.pdf', 'page': 13}),\n",
       " Document(page_content='LayoutParser : A Uniﬁed Toolkit for DL-Based DIA 15\\n[8]Gardner, M., Grus, J., Neumann, M., Tafjord, O., Dasigi, P., Liu, N., Peters,\\nM., Schmitz, M., Zettlemoyer, L.: Allennlp: A deep semantic natural language\\nprocessing platform. arXiv preprint arXiv:1803.07640 (2018)\\n[9]  L ukasz Garncarek, Powalski, R., Stanis lawek, T., Topolski, B., Halama, P.,\\nGrali´ nski, F.: Lambert: Layout-aware (language) modeling using bert for in-\\nformation extraction (2020)\\n[10]Graves, A., Fern´ andez, S., Gomez, F., Schmidhuber, J.: Connectionist temporal\\nclassiﬁcation: labelling unsegmented sequence data with recurrent neural networks.\\nIn: Proceedings of the 23rd international conference on Machine learning. pp.\\n369–376 (2006)\\n[11] Harley, A.W., Ufkes, A., Derpanis, K.G.: Evaluation of deep convolutional nets for\\ndocument image classiﬁcation and retrieval. In: 2015 13th International Conference\\non Document Analysis and Recognition (ICDAR). pp. 991–995. IEEE (2015)\\n[12] He, K., Gkioxari, G., Doll´ ar, P., Girshick, R.: Mask r-cnn. In: Proceedings of the\\nIEEE international conference on computer vision. pp. 2961–2969 (2017)\\n[13] He, K., Zhang, X., Ren, S., Sun, J.: Deep residual learning for image recognition.\\nIn: Proceedings of the IEEE conference on computer vision and pattern recognition.\\npp. 770–778 (2016)\\n[14] Kay, A.: Tesseract: An open-source optical character recognition engine. Linux J.\\n2007 (159), 2 (Jul 2007)\\n[15] Lamiroy, B., Lopresti, D.: An open architecture for end-to-end document analysis\\nbenchmarking. In: 2011 International Conference on Document Analysis and\\nRecognition. pp. 42–47. IEEE (2011)\\n[16]Lee, B.C., Weld, D.S.: Newspaper navigator: Open faceted search for 1.5\\nmillion images. In: Adjunct Publication of the 33rd Annual ACM Sym-\\nposium on User Interface Software and Technology. p. 120–122. UIST\\n’20 Adjunct, Association for Computing Machinery, New York, NY, USA\\n(2020). https://doi.org/10.1145/3379350.3416143, https://doi-org.offcampus.\\nlib.washington.edu/10.1145/3379350.3416143\\n[17]Lee, B.C.G., Mears, J., Jakeway, E., Ferriter, M., Adams, C., Yarasavage, N.,\\nThomas, D., Zwaard, K., Weld, D.S.: The Newspaper Navigator Dataset: Extracting\\nHeadlines and Visual Content from 16 Million Historic Newspaper Pages in\\nChronicling America, p. 3055–3062. Association for Computing Machinery, New\\nYork, NY, USA (2020), https://doi.org/10.1145/3340531.3412767\\n[18] Li, M., Cui, L., Huang, S., Wei, F., Zhou, M., Li, Z.: Tablebank: Table benchmark\\nfor image-based table detection and recognition. arXiv preprint arXiv:1903.01949\\n(2019)\\n[19] Lin, T.Y., Maire, M., Belongie, S., Hays, J., Perona, P., Ramanan, D., Doll´ ar, P.,\\nZitnick, C.L.: Microsoft coco: Common objects in context. In: European conference\\non computer vision. pp. 740–755. Springer (2014)\\n[20]Long, J., Shelhamer, E., Darrell, T.: Fully convolutional networks for semantic\\nsegmentation. In: Proceedings of the IEEE conference on computer vision and\\npattern recognition. pp. 3431–3440 (2015)\\n[21] Neudecker, C., Schlarb, S., Dogan, Z.M., Missier, P., Suﬁ, S., Williams, A., Wolsten-\\ncroft, K.: An experimental workﬂow development platform for historical document\\ndigitisation and analysis. In: Proceedings of the 2011 workshop on historical\\ndocument imaging and processing. pp. 161–168 (2011)\\n[22] Oliveira, S.A., Seguin, B., Kaplan, F.: dhsegment: A generic deep-learning approach\\nfor document segmentation. In: 2018 16th International Conference on Frontiers\\nin Handwriting Recognition (ICFHR). pp. 7–12. IEEE (2018)', metadata={'source': 'data/layout-parser-paper.pdf', 'page': 14}),\n",
       " Document(page_content='16 Z. Shen et al.\\n[23]Paszke, A., Gross, S., Chintala, S., Chanan, G., Yang, E., DeVito, Z., Lin, Z.,\\nDesmaison, A., Antiga, L., Lerer, A.: Automatic diﬀerentiation in pytorch (2017)\\n[24]Paszke, A., Gross, S., Massa, F., Lerer, A., Bradbury, J., Chanan, G., Killeen,\\nT., Lin, Z., Gimelshein, N., Antiga, L., et al.: Pytorch: An imperative style,\\nhigh-performance deep learning library. arXiv preprint arXiv:1912.01703 (2019)\\n[25] Pletschacher, S., Antonacopoulos, A.: The page (page analysis and ground-truth\\nelements) format framework. In: 2010 20th International Conference on Pattern\\nRecognition. pp. 257–260. IEEE (2010)\\n[26] Prasad, D., Gadpal, A., Kapadni, K., Visave, M., Sultanpure, K.: Cascadetabnet:\\nAn approach for end to end table detection and structure recognition from image-\\nbased documents. In: Proceedings of the IEEE/CVF Conference on Computer\\nVision and Pattern Recognition Workshops. pp. 572–573 (2020)\\n[27] Qasim, S.R., Mahmood, H., Shafait, F.: Rethinking table recognition using graph\\nneural networks. In: 2019 International Conference on Document Analysis and\\nRecognition (ICDAR). pp. 142–147. IEEE (2019)\\n[28]Ren, S., He, K., Girshick, R., Sun, J.: Faster r-cnn: Towards real-time object\\ndetection with region proposal networks. In: Advances in neural information\\nprocessing systems. pp. 91–99 (2015)\\n[29] Scarselli, F., Gori, M., Tsoi, A.C., Hagenbuchner, M., Monfardini, G.: The graph\\nneural network model. IEEE transactions on neural networks 20(1), 61–80 (2008)\\n[30] Schreiber, S., Agne, S., Wolf, I., Dengel, A., Ahmed, S.: Deepdesrt: Deep learning\\nfor detection and structure recognition of tables in document images. In: 2017 14th\\nIAPR international conference on document analysis and recognition (ICDAR).\\nvol. 1, pp. 1162–1167. IEEE (2017)\\n[31]Shen, Z., Zhang, K., Dell, M.: A large dataset of historical japanese documents\\nwith complex layouts. In: Proceedings of the IEEE/CVF Conference on Computer\\nVision and Pattern Recognition Workshops. pp. 548–549 (2020)\\n[32]Shen, Z., Zhao, J., Dell, M., Yu, Y., Li, W.: Olala: Object-level active learning\\nbased layout annotation. arXiv preprint arXiv:2010.01762 (2020)\\n[33]Studer, L., Alberti, M., Pondenkandath, V., Goktepe, P., Kolonko, T., Fischer,\\nA., Liwicki, M., Ingold, R.: A comprehensive study of imagenet pre-training for\\nhistorical document image analysis. In: 2019 International Conference on Document\\nAnalysis and Recognition (ICDAR). pp. 720–725. IEEE (2019)\\n[34]Wolf, T., Debut, L., Sanh, V., Chaumond, J., Delangue, C., Moi, A., Cistac, P.,\\nRault, T., Louf, R., Funtowicz, M., et al.: Huggingface’s transformers: State-of-\\nthe-art natural language processing. arXiv preprint arXiv:1910.03771 (2019)\\n[35]Wu, Y., Kirillov, A., Massa, F., Lo, W.Y., Girshick, R.: Detectron2. https://\\ngithub.com/facebookresearch/detectron2 (2019)\\n[36] Xu, Y., Xu, Y., Lv, T., Cui, L., Wei, F., Wang, G., Lu, Y., Florencio, D., Zhang, C.,\\nChe, W., et al.: Layoutlmv2: Multi-modal pre-training for visually-rich document\\nunderstanding. arXiv preprint arXiv:2012.14740 (2020)\\n[37] Xu, Y., Li, M., Cui, L., Huang, S., Wei, F., Zhou, M.: Layoutlm: Pre-training of\\ntext and layout for document image understanding (2019)\\n[38]Zhong, X., Tang, J., Yepes, A.J.: Publaynet: largest dataset ever for doc-\\nument layout analysis. In: 2019 International Conference on Document\\nAnalysis and Recognition (ICDAR). pp. 1015–1022. IEEE (Sep 2019).\\nhttps://doi.org/10.1109/ICDAR.2019.00166', metadata={'source': 'data/layout-parser-paper.pdf', 'page': 15})]"
      ]
     },
     "execution_count": 33,
     "metadata": {},
     "output_type": "execute_result"
    }
   ],
   "source": [
    "docs"
   ]
  },
  {
   "cell_type": "markdown",
   "metadata": {},
   "source": [
    "### Using PDFPlumbe\n",
    "与PyMuPDF一样，输出文档包含关于PDF及其页面的详细元数据，并且每页返回一个文档。\n",
    "\n"
   ]
  },
  {
   "cell_type": "code",
   "execution_count": 41,
   "metadata": {},
   "outputs": [
    {
     "ename": "TypeError",
     "evalue": "'type' object is not subscriptable",
     "output_type": "error",
     "traceback": [
      "\u001b[0;31m---------------------------------------------------------------------------\u001b[0m",
      "\u001b[0;31mTypeError\u001b[0m                                 Traceback (most recent call last)",
      "Cell \u001b[0;32mIn[41], line 2\u001b[0m\n\u001b[1;32m      1\u001b[0m \u001b[38;5;28;01mfrom\u001b[39;00m \u001b[38;5;21;01mlangchain_community\u001b[39;00m\u001b[38;5;21;01m.\u001b[39;00m\u001b[38;5;21;01mdocument_loaders\u001b[39;00m \u001b[38;5;28;01mimport\u001b[39;00m PDFPlumberLoader\n\u001b[0;32m----> 2\u001b[0m loader \u001b[38;5;241m=\u001b[39m \u001b[43mPDFPlumberLoader\u001b[49m\u001b[43m(\u001b[49m\u001b[38;5;124;43m\"\u001b[39;49m\u001b[38;5;124;43mdata/layout-parser-paper.pdf\u001b[39;49m\u001b[38;5;124;43m\"\u001b[39;49m\u001b[43m)\u001b[49m\n\u001b[1;32m      3\u001b[0m data \u001b[38;5;241m=\u001b[39m loader\u001b[38;5;241m.\u001b[39mload()\n\u001b[1;32m      4\u001b[0m data\n",
      "File \u001b[0;32m~/opt/anaconda3/envs/langchain/lib/python3.10/site-packages/langchain_community/document_loaders/pdf.py:556\u001b[0m, in \u001b[0;36mPDFPlumberLoader.__init__\u001b[0;34m(self, file_path, text_kwargs, dedupe, headers, extract_images)\u001b[0m\n\u001b[1;32m    554\u001b[0m \u001b[38;5;250m\u001b[39m\u001b[38;5;124;03m\"\"\"Initialize with a file path.\"\"\"\u001b[39;00m\n\u001b[1;32m    555\u001b[0m \u001b[38;5;28;01mtry\u001b[39;00m:\n\u001b[0;32m--> 556\u001b[0m     \u001b[38;5;28;01mimport\u001b[39;00m \u001b[38;5;21;01mpdfplumber\u001b[39;00m  \u001b[38;5;66;03m# noqa:F401\u001b[39;00m\n\u001b[1;32m    557\u001b[0m \u001b[38;5;28;01mexcept\u001b[39;00m \u001b[38;5;167;01mImportError\u001b[39;00m:\n\u001b[1;32m    558\u001b[0m     \u001b[38;5;28;01mraise\u001b[39;00m \u001b[38;5;167;01mImportError\u001b[39;00m(\n\u001b[1;32m    559\u001b[0m         \u001b[38;5;124m\"\u001b[39m\u001b[38;5;124mpdfplumber package not found, please install it with \u001b[39m\u001b[38;5;124m\"\u001b[39m\n\u001b[1;32m    560\u001b[0m         \u001b[38;5;124m\"\u001b[39m\u001b[38;5;124m`pip install pdfplumber`\u001b[39m\u001b[38;5;124m\"\u001b[39m\n\u001b[1;32m    561\u001b[0m     )\n",
      "File \u001b[0;32m~/opt/anaconda3/envs/langchain/lib/python3.10/site-packages/pdfplumber/__init__.py:15\u001b[0m\n\u001b[1;32m     13\u001b[0m \u001b[38;5;28;01mfrom\u001b[39;00m \u001b[38;5;21;01m.\u001b[39;00m \u001b[38;5;28;01mimport\u001b[39;00m utils\n\u001b[1;32m     14\u001b[0m \u001b[38;5;28;01mfrom\u001b[39;00m \u001b[38;5;21;01m.\u001b[39;00m\u001b[38;5;21;01m_version\u001b[39;00m \u001b[38;5;28;01mimport\u001b[39;00m __version__\n\u001b[0;32m---> 15\u001b[0m \u001b[38;5;28;01mfrom\u001b[39;00m \u001b[38;5;21;01m.\u001b[39;00m\u001b[38;5;21;01mpdf\u001b[39;00m \u001b[38;5;28;01mimport\u001b[39;00m PDF\n\u001b[1;32m     16\u001b[0m \u001b[38;5;28;01mfrom\u001b[39;00m \u001b[38;5;21;01m.\u001b[39;00m\u001b[38;5;21;01mrepair\u001b[39;00m \u001b[38;5;28;01mimport\u001b[39;00m repair\n\u001b[1;32m     18\u001b[0m \u001b[38;5;28mopen\u001b[39m \u001b[38;5;241m=\u001b[39m PDF\u001b[38;5;241m.\u001b[39mopen\n",
      "File \u001b[0;32m~/opt/anaconda3/envs/langchain/lib/python3.10/site-packages/pdfplumber/pdf.py:9\u001b[0m\n\u001b[1;32m      6\u001b[0m \u001b[38;5;28;01mfrom\u001b[39;00m \u001b[38;5;21;01mtyping\u001b[39;00m \u001b[38;5;28;01mimport\u001b[39;00m Any, Dict, List, Optional, Tuple, Type, Union\n\u001b[1;32m      8\u001b[0m \u001b[38;5;28;01mfrom\u001b[39;00m \u001b[38;5;21;01mpdfminer\u001b[39;00m\u001b[38;5;21;01m.\u001b[39;00m\u001b[38;5;21;01mlayout\u001b[39;00m \u001b[38;5;28;01mimport\u001b[39;00m LAParams\n\u001b[0;32m----> 9\u001b[0m \u001b[38;5;28;01mfrom\u001b[39;00m \u001b[38;5;21;01mpdfminer\u001b[39;00m\u001b[38;5;21;01m.\u001b[39;00m\u001b[38;5;21;01mpdfdocument\u001b[39;00m \u001b[38;5;28;01mimport\u001b[39;00m PDFDocument\n\u001b[1;32m     10\u001b[0m \u001b[38;5;28;01mfrom\u001b[39;00m \u001b[38;5;21;01mpdfminer\u001b[39;00m\u001b[38;5;21;01m.\u001b[39;00m\u001b[38;5;21;01mpdfinterp\u001b[39;00m \u001b[38;5;28;01mimport\u001b[39;00m PDFResourceManager\n\u001b[1;32m     11\u001b[0m \u001b[38;5;28;01mfrom\u001b[39;00m \u001b[38;5;21;01mpdfminer\u001b[39;00m\u001b[38;5;21;01m.\u001b[39;00m\u001b[38;5;21;01mpdfpage\u001b[39;00m \u001b[38;5;28;01mimport\u001b[39;00m PDFPage\n",
      "File \u001b[0;32m~/opt/anaconda3/envs/langchain/lib/python3.10/site-packages/pdfminer/pdfdocument.py:27\u001b[0m\n\u001b[1;32m     25\u001b[0m \u001b[38;5;28;01mfrom\u001b[39;00m \u001b[38;5;21;01m.\u001b[39;00m \u001b[38;5;28;01mimport\u001b[39;00m settings\n\u001b[1;32m     26\u001b[0m \u001b[38;5;28;01mfrom\u001b[39;00m \u001b[38;5;21;01m.\u001b[39;00m\u001b[38;5;21;01marcfour\u001b[39;00m \u001b[38;5;28;01mimport\u001b[39;00m Arcfour\n\u001b[0;32m---> 27\u001b[0m \u001b[38;5;28;01mfrom\u001b[39;00m \u001b[38;5;21;01m.\u001b[39;00m\u001b[38;5;21;01mdata_structures\u001b[39;00m \u001b[38;5;28;01mimport\u001b[39;00m NumberTree\n\u001b[1;32m     28\u001b[0m \u001b[38;5;28;01mfrom\u001b[39;00m \u001b[38;5;21;01m.\u001b[39;00m\u001b[38;5;21;01mpdfparser\u001b[39;00m \u001b[38;5;28;01mimport\u001b[39;00m PDFSyntaxError, PDFParser, PDFStreamParser\n\u001b[1;32m     29\u001b[0m \u001b[38;5;28;01mfrom\u001b[39;00m \u001b[38;5;21;01m.\u001b[39;00m\u001b[38;5;21;01mpdftypes\u001b[39;00m \u001b[38;5;28;01mimport\u001b[39;00m (\n\u001b[1;32m     30\u001b[0m     DecipherCallable,\n\u001b[1;32m     31\u001b[0m     PDFException,\n\u001b[0;32m   (...)\u001b[0m\n\u001b[1;32m     41\u001b[0m     stream_value,\n\u001b[1;32m     42\u001b[0m )\n",
      "File \u001b[0;32m~/opt/anaconda3/envs/langchain/lib/python3.10/site-packages/pdfminer/data_structures.py:4\u001b[0m\n\u001b[1;32m      1\u001b[0m \u001b[38;5;28;01mfrom\u001b[39;00m \u001b[38;5;21;01mtyping\u001b[39;00m \u001b[38;5;28;01mimport\u001b[39;00m Any, Iterable, List, Optional, Tuple\n\u001b[1;32m      3\u001b[0m \u001b[38;5;28;01mfrom\u001b[39;00m \u001b[38;5;21;01mpdfminer\u001b[39;00m \u001b[38;5;28;01mimport\u001b[39;00m settings\n\u001b[0;32m----> 4\u001b[0m \u001b[38;5;28;01mfrom\u001b[39;00m \u001b[38;5;21;01mpdfminer\u001b[39;00m\u001b[38;5;21;01m.\u001b[39;00m\u001b[38;5;21;01mpdfparser\u001b[39;00m \u001b[38;5;28;01mimport\u001b[39;00m PDFSyntaxError\n\u001b[1;32m      5\u001b[0m \u001b[38;5;28;01mfrom\u001b[39;00m \u001b[38;5;21;01mpdfminer\u001b[39;00m\u001b[38;5;21;01m.\u001b[39;00m\u001b[38;5;21;01mpdftypes\u001b[39;00m \u001b[38;5;28;01mimport\u001b[39;00m list_value, int_value, dict_value\n\u001b[1;32m      6\u001b[0m \u001b[38;5;28;01mfrom\u001b[39;00m \u001b[38;5;21;01mpdfminer\u001b[39;00m\u001b[38;5;21;01m.\u001b[39;00m\u001b[38;5;21;01mutils\u001b[39;00m \u001b[38;5;28;01mimport\u001b[39;00m choplist\n",
      "File \u001b[0;32m~/opt/anaconda3/envs/langchain/lib/python3.10/site-packages/pdfminer/pdfparser.py:28\u001b[0m\n\u001b[1;32m     24\u001b[0m     \u001b[38;5;28;01mpass\u001b[39;00m\n\u001b[1;32m     27\u001b[0m \u001b[38;5;66;03m# PDFParser stack holds all the base types plus PDFStream, PDFObjRef, and None\u001b[39;00m\n\u001b[0;32m---> 28\u001b[0m \u001b[38;5;28;01mclass\u001b[39;00m \u001b[38;5;21;01mPDFParser\u001b[39;00m(\u001b[43mPSStackParser\u001b[49m\u001b[43m[\u001b[49m\u001b[43mUnion\u001b[49m\u001b[43m[\u001b[49m\u001b[43mPSKeyword\u001b[49m\u001b[43m,\u001b[49m\u001b[43m \u001b[49m\u001b[43mPDFStream\u001b[49m\u001b[43m,\u001b[49m\u001b[43m \u001b[49m\u001b[43mPDFObjRef\u001b[49m\u001b[43m,\u001b[49m\u001b[43m \u001b[49m\u001b[38;5;28;43;01mNone\u001b[39;49;00m\u001b[43m]\u001b[49m\u001b[43m]\u001b[49m):\n\u001b[1;32m     29\u001b[0m \u001b[38;5;250m    \u001b[39m\u001b[38;5;124;03m\"\"\"\u001b[39;00m\n\u001b[1;32m     30\u001b[0m \u001b[38;5;124;03m    PDFParser fetch PDF objects from a file stream.\u001b[39;00m\n\u001b[1;32m     31\u001b[0m \u001b[38;5;124;03m    It can handle indirect references by referring to\u001b[39;00m\n\u001b[0;32m   (...)\u001b[0m\n\u001b[1;32m     42\u001b[0m \n\u001b[1;32m     43\u001b[0m \u001b[38;5;124;03m    \"\"\"\u001b[39;00m\n\u001b[1;32m     45\u001b[0m     \u001b[38;5;28;01mdef\u001b[39;00m \u001b[38;5;21m__init__\u001b[39m(\u001b[38;5;28mself\u001b[39m, fp: BinaryIO) \u001b[38;5;241m-\u001b[39m\u001b[38;5;241m>\u001b[39m \u001b[38;5;28;01mNone\u001b[39;00m:\n",
      "\u001b[0;31mTypeError\u001b[0m: 'type' object is not subscriptable"
     ]
    }
   ],
   "source": [
    "from langchain_community.document_loaders import PDFPlumberLoader\n",
    "loader = PDFPlumberLoader(\"data/layout-parser-paper.pdf\")\n",
    "data = loader.load()\n",
    "data[0]"
   ]
  },
  {
   "cell_type": "markdown",
   "metadata": {},
   "source": [
    "### Using AmazonTextractPDFParser\n",
    "AmazonTextractPDFLoader调用Amazon文本服务将pdf转换为文档结构。加载器目前使用的是纯OCR，根据需求，还计划了更多的功能，比如布局支持。支持单页和多页文档，最多可达3000页，大小为512 MB。\n",
    "\n",
    "为了使调用成功，需要一个AWS帐户，类似于AWS CLI的要求。\n",
    "\n",
    "除了AWS配置之外，它与其他PDF加载器非常相似，同时也支持JPEG、PNG、TIFF和非本机PDF格式。"
   ]
  },
  {
   "cell_type": "code",
   "execution_count": 42,
   "metadata": {},
   "outputs": [
    {
     "ename": "ValueError",
     "evalue": "File path data/alejandro_rosalez_sample-small.jpeg is not a valid file or url",
     "output_type": "error",
     "traceback": [
      "\u001b[0;31m---------------------------------------------------------------------------\u001b[0m",
      "\u001b[0;31mValueError\u001b[0m                                Traceback (most recent call last)",
      "Cell \u001b[0;32mIn[42], line 2\u001b[0m\n\u001b[1;32m      1\u001b[0m \u001b[38;5;28;01mfrom\u001b[39;00m \u001b[38;5;21;01mlangchain_community\u001b[39;00m\u001b[38;5;21;01m.\u001b[39;00m\u001b[38;5;21;01mdocument_loaders\u001b[39;00m \u001b[38;5;28;01mimport\u001b[39;00m AmazonTextractPDFLoader\n\u001b[0;32m----> 2\u001b[0m loader \u001b[38;5;241m=\u001b[39m \u001b[43mAmazonTextractPDFLoader\u001b[49m\u001b[43m(\u001b[49m\u001b[38;5;124;43m\"\u001b[39;49m\u001b[38;5;124;43mdata/alejandro_rosalez_sample-small.jpeg\u001b[39;49m\u001b[38;5;124;43m\"\u001b[39;49m\u001b[43m)\u001b[49m\n\u001b[1;32m      3\u001b[0m documents \u001b[38;5;241m=\u001b[39m loader\u001b[38;5;241m.\u001b[39mload()\n\u001b[1;32m      4\u001b[0m documents\n",
      "File \u001b[0;32m~/opt/anaconda3/envs/langchain/lib/python3.10/site-packages/langchain_community/document_loaders/pdf.py:632\u001b[0m, in \u001b[0;36mAmazonTextractPDFLoader.__init__\u001b[0;34m(self, file_path, textract_features, client, credentials_profile_name, region_name, endpoint_url, headers, linearization_config)\u001b[0m\n\u001b[1;32m    605\u001b[0m \u001b[38;5;28;01mdef\u001b[39;00m \u001b[38;5;21m__init__\u001b[39m(\n\u001b[1;32m    606\u001b[0m     \u001b[38;5;28mself\u001b[39m,\n\u001b[1;32m    607\u001b[0m     file_path: \u001b[38;5;28mstr\u001b[39m,\n\u001b[0;32m   (...)\u001b[0m\n\u001b[1;32m    615\u001b[0m     linearization_config: Optional[\u001b[38;5;124m\"\u001b[39m\u001b[38;5;124mTextLinearizationConfig\u001b[39m\u001b[38;5;124m\"\u001b[39m] \u001b[38;5;241m=\u001b[39m \u001b[38;5;28;01mNone\u001b[39;00m,\n\u001b[1;32m    616\u001b[0m ) \u001b[38;5;241m-\u001b[39m\u001b[38;5;241m>\u001b[39m \u001b[38;5;28;01mNone\u001b[39;00m:\n\u001b[1;32m    617\u001b[0m \u001b[38;5;250m    \u001b[39m\u001b[38;5;124;03m\"\"\"Initialize the loader.\u001b[39;00m\n\u001b[1;32m    618\u001b[0m \n\u001b[1;32m    619\u001b[0m \u001b[38;5;124;03m    Args:\u001b[39;00m\n\u001b[0;32m   (...)\u001b[0m\n\u001b[1;32m    630\u001b[0m \u001b[38;5;124;03m                              the `textractor` pkg\u001b[39;00m\n\u001b[1;32m    631\u001b[0m \u001b[38;5;124;03m    \"\"\"\u001b[39;00m\n\u001b[0;32m--> 632\u001b[0m     \u001b[38;5;28;43msuper\u001b[39;49m\u001b[43m(\u001b[49m\u001b[43m)\u001b[49m\u001b[38;5;241;43m.\u001b[39;49m\u001b[38;5;21;43m__init__\u001b[39;49m\u001b[43m(\u001b[49m\u001b[43mfile_path\u001b[49m\u001b[43m,\u001b[49m\u001b[43m \u001b[49m\u001b[43mheaders\u001b[49m\u001b[38;5;241;43m=\u001b[39;49m\u001b[43mheaders\u001b[49m\u001b[43m)\u001b[49m\n\u001b[1;32m    634\u001b[0m     \u001b[38;5;28;01mtry\u001b[39;00m:\n\u001b[1;32m    635\u001b[0m         \u001b[38;5;28;01mimport\u001b[39;00m \u001b[38;5;21;01mtextractcaller\u001b[39;00m \u001b[38;5;28;01mas\u001b[39;00m \u001b[38;5;21;01mtc\u001b[39;00m\n",
      "File \u001b[0;32m~/opt/anaconda3/envs/langchain/lib/python3.10/site-packages/langchain_community/document_loaders/pdf.py:116\u001b[0m, in \u001b[0;36mBasePDFLoader.__init__\u001b[0;34m(self, file_path, headers)\u001b[0m\n\u001b[1;32m    114\u001b[0m         \u001b[38;5;28mself\u001b[39m\u001b[38;5;241m.\u001b[39mfile_path \u001b[38;5;241m=\u001b[39m \u001b[38;5;28mstr\u001b[39m(temp_pdf)\n\u001b[1;32m    115\u001b[0m \u001b[38;5;28;01melif\u001b[39;00m \u001b[38;5;129;01mnot\u001b[39;00m os\u001b[38;5;241m.\u001b[39mpath\u001b[38;5;241m.\u001b[39misfile(\u001b[38;5;28mself\u001b[39m\u001b[38;5;241m.\u001b[39mfile_path):\n\u001b[0;32m--> 116\u001b[0m     \u001b[38;5;28;01mraise\u001b[39;00m \u001b[38;5;167;01mValueError\u001b[39;00m(\u001b[38;5;124m\"\u001b[39m\u001b[38;5;124mFile path \u001b[39m\u001b[38;5;132;01m%s\u001b[39;00m\u001b[38;5;124m is not a valid file or url\u001b[39m\u001b[38;5;124m\"\u001b[39m \u001b[38;5;241m%\u001b[39m \u001b[38;5;28mself\u001b[39m\u001b[38;5;241m.\u001b[39mfile_path)\n",
      "\u001b[0;31mValueError\u001b[0m: File path data/alejandro_rosalez_sample-small.jpeg is not a valid file or url"
     ]
    }
   ],
   "source": [
    "from langchain_community.document_loaders import AmazonTextractPDFLoader\n",
    "loader = AmazonTextractPDFLoader(\"data/alejandro_rosalez_sample-small.jpeg\")\n",
    "documents = loader.load()\n",
    "documents"
   ]
  },
  {
   "cell_type": "markdown",
   "metadata": {},
   "source": [
    "### Using AzureAIDocumentIntelligenceLoader\n",
    "Azure AI文档智能（以前称为Azure形式识别器）是基于机器学习的服务，它可以提取文本（包括手写），表格，文档结构（例如，标题，截面标题等）和数字或键值配对扫描PDF，图像，办公室和HTML文件。文档智能支持PDF，JPEG/JPG，PNG，BMP，TIFF，HEIF，DOCX，XLSX，PPTX和HTML。\n",
    "\n",
    "当前使用文档智能的加载器实现可以按页面合并内容并将其转换为LangChain文档。默认的输出格式是markdown，它可以很容易地与`MarkdownHeaderTextSplitter`链接，用于语义文档分块。还可以使用mode=\"single\"或mode=\"page\"返回单个页面或按页面分割的文档中的纯文本。\n",
    "\n",
    "在3个预览区之一的Azure AI文档智能资源:美国东部，美国西部，西欧-如果你没有，请按照本文档创建一个。您将把<endpoint>和<key>作为参数传递给加载器。\n",
    "\n"
   ]
  },
  {
   "cell_type": "code",
   "execution_count": null,
   "metadata": {},
   "outputs": [],
   "source": [
    "!pip install --upgrade --quiet  langchain langchain-community azure-ai-documentintelligence\n",
    "\n",
    "from langchain_community.document_loaders import AzureAIDocumentIntelligenceLoader\n",
    "\n",
    "file_path = \"<filepath>\"\n",
    "endpoint = \"<endpoint>\"\n",
    "key = \"<key>\"\n",
    "loader = AzureAIDocumentIntelligenceLoader(\n",
    "    api_endpoint=endpoint, api_key=key, file_path=file_path, api_model=\"prebuilt-layout\"\n",
    ")\n",
    "\n",
    "documents = loader.load()"
   ]
  },
  {
   "cell_type": "markdown",
   "metadata": {},
   "source": [
    "### Using UpstageLayoutAnalysisLoader\n",
    "`Upstagelayoutanalysis Loader`调用了`UpStage Layout Analysis API`来检测各种文档格式的文档元素，包括表和数字。该装载机采用纯OCR提取文本信息并检测诸如`JPEG`，`PNG`，`BMP`，`PDF`，`TIFF`和`HEIC`文件之类的文档中的元素。对于数字诞生的PDF文档，用户可以通过设置`use_ocr = false`（这是默认值）来放弃OCR并在文件中使用文本信息。支持单页和多页文档，当`use_ocr = true`时，限制为100页，文件大小为50 mb，而当`use_ocr = false`（仅适用于PDF文件）时，没有限制。\n",
    "\n",
    "要访问后台布局分析API，您需要API访问令牌。请参考提供的快速入门指南，以获得访问令牌并开始使用后台布局分析API。"
   ]
  },
  {
   "cell_type": "code",
   "execution_count": null,
   "metadata": {},
   "outputs": [],
   "source": [
    "import os\n",
    "\n",
    "os.environ[\"UPSTAGE_DOCUMENT_AI_API_KEY\"] = \"YOUR_API_KEY\"\n",
    "\n",
    "from langchain_upstage import UpstageLayoutAnalysisLoader\n",
    "\n",
    "file_path = \"/PATH/TO/FILE.pdf\"\n",
    "\n",
    "loader = UpstageLayoutAnalysisLoader(file_path)\n",
    "data = loader.load()"
   ]
  }
 ],
 "metadata": {
  "kernelspec": {
   "display_name": "langchain",
   "language": "python",
   "name": "python3"
  },
  "language_info": {
   "codemirror_mode": {
    "name": "ipython",
    "version": 3
   },
   "file_extension": ".py",
   "mimetype": "text/x-python",
   "name": "python",
   "nbconvert_exporter": "python",
   "pygments_lexer": "ipython3",
   "version": "3.10.14"
  }
 },
 "nbformat": 4,
 "nbformat_minor": 2
}
