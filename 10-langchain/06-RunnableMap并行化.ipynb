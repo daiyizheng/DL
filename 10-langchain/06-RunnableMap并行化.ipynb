{
 "cells": [
  {
   "cell_type": "markdown",
   "metadata": {},
   "source": [
    "# [RunnableMap](https://python.langchain.com/docs/expression_language/how_to/map)并行化\n",
    "\n",
    " RunnableParallel（又名RunnableMap）可以很容易地并行执行多个 Runnables，并将这些 Runnable 的输出作为映射返回。"
   ]
  },
  {
   "cell_type": "code",
   "execution_count": 2,
   "metadata": {},
   "outputs": [],
   "source": [
    "from dotenv import load_dotenv, find_dotenv\n",
    "load_dotenv(find_dotenv())\n",
    "\n",
    "from langchain.globals import set_debug\n",
    "set_debug(False) "
   ]
  },
  {
   "cell_type": "code",
   "execution_count": 4,
   "metadata": {},
   "outputs": [],
   "source": [
    "from langchain_openai import ChatOpenAI\n",
    "from langchain_core.prompts import ChatPromptTemplate\n",
    "from langchain_core.runnables import RunnableParallel\n",
    "\n",
    "model = ChatOpenAI()\n",
    "joke_chain = ChatPromptTemplate.from_template(\"tell me a joke about {topic}\") | model\n",
    "poem_chain = (\n",
    "    ChatPromptTemplate.from_template(\"write a 2-line poem about {topic}\") | model\n",
    ")\n",
    "\n",
    "map_chain = RunnableParallel(joke=joke_chain, poem=poem_chain)\n",
    "joke_chain.invoke({\"topic\": \"bear\"})\n"
   ]
  },
  {
   "cell_type": "markdown",
   "metadata": {},
   "source": [
    "可以看到，map_chain的运行时间和前两者相近，这说明map_chain里的两个流水线是并行运行的。"
   ]
  },
  {
   "cell_type": "markdown",
   "metadata": {},
   "source": [
    "## 统一各组件输入输出格式\n",
    "\n",
    "在`LangChain`的流水线`(pipeline)`中，我们会有多个组件串联执行。每个组件可能期望不同格式的输入或产生不同格式的输出。为了桥接组件之间的格式差异，我们可以在它们之间插入RunnableMap来转换数据格式，这样外部用户只需要关心自己的输入输出即可。下面是一些映射的常见使用场景:\n",
    "\n",
    "- 将标记(token)流转换为字符串或其他自定义数据类型\n",
    "- 解析自然语言并提取结构化数据,如实体、关系等\n",
    "- 将无结构文本整理为结构化的数据,如JSON\n",
    "- 调整数据维度,如展平、旋转等\n",
    "- 过滤或清理无用的数据\n",
    "  \n",
    "下面的示例中，`prompt`组件需要一个包含\"`context`\"和\"`question`\"键的字典作为输入。而用户只输入了一个问题字符串。于是使用了一个`RunnableMap`，通过检索器`retriever`获取上下文，并用`RunnablePassthrough`传递用户输入的问题字符串，这样就得到了prompt组件需要的输入格式。\n",
    "\n"
   ]
  },
  {
   "cell_type": "code",
   "execution_count": 5,
   "metadata": {},
   "outputs": [
    {
     "data": {
      "text/plain": [
       "'Harrison worked at Kensho.'"
      ]
     },
     "execution_count": 5,
     "metadata": {},
     "output_type": "execute_result"
    }
   ],
   "source": [
    "from langchain_community.embeddings import OpenAIEmbeddings\n",
    "from langchain_core.output_parsers import StrOutputParser\n",
    "from langchain_core.runnables import RunnablePassthrough\n",
    "from langchain_community.vectorstores import FAISS\n",
    "\n",
    "vectorstore = FAISS.from_texts(\n",
    "    [\"harrison worked at kensho\"], embedding=OpenAIEmbeddings()\n",
    ")\n",
    "# 定义了一个检索器 retriever,可以从文本中检索上下文\n",
    "retriever = vectorstore.as_retriever()  \n",
    "# template 定义了一个带占位符的prompt模板，所以prompt组件需要一个包含context和question键的字典作为输入。\n",
    "template = \"\"\"Answer the question based only on the following context:\n",
    "{context}\n",
    "\n",
    "Question: {question}\n",
    "\"\"\"\n",
    "prompt = ChatPromptTemplate.from_template(template)\n",
    "\n",
    "retrieval_chain = (\n",
    "    {\"context\": retriever, \"question\": RunnablePassthrough()}\n",
    "    | prompt\n",
    "    | model\n",
    "    | StrOutputParser()\n",
    ")\n",
    "\n",
    "retrieval_chain.invoke(\"where did harrison work?\")\n"
   ]
  },
  {
   "cell_type": "markdown",
   "metadata": {},
   "source": [
    "上面代码中，我们定义了`retrieval_chain`流水线:\n",
    "\n",
    "- 首先是一个字典，通过`retriever`获得`context`，并使用`RunnablePassthrough`直接传递用户输入作为`question`。\n",
    "- 传入`prompt`组件，其中字典被自动转换成了`RunnableMap`。\n",
    "- 最后通过解析器处理`prompt`的输出。\n",
    "\n",
    "\n",
    "在这个示例代码中，`RunnableMap`的功能是通过传递`RunnablePassthrough`来实现的。我们使用了一个字典包装检索器`retriever`和`RunnablePassthrough`，分别提供了`prompt`需要的\"`context`\"和\"`question`\"。\n"
   ]
  },
  {
   "cell_type": "code",
   "execution_count": null,
   "metadata": {},
   "outputs": [],
   "source": [
    "{\"context\": retriever, \"question\": RunnablePassthrough()}"
   ]
  },
  {
   "cell_type": "markdown",
   "metadata": {},
   "source": [
    "`RunnablePassthrough`可以自动捕获并传递用户的原始输入，作为\"`question`\"的值。而在连接时，由于有`Runnable`的参与，类型转换是自动完成的，不需要做明确的`RunnableMap`包装。而如果是要明确写出来，可以是：\n",
    "\n"
   ]
  },
  {
   "cell_type": "code",
   "execution_count": null,
   "metadata": {},
   "outputs": [],
   "source": [
    "from langchain_core.runnables import RunnableMap\n",
    "\n",
    "retrieval_map = RunnableMap(\n",
    "    {\"context\": retriever, \"question\": RunnablePassthrough()}\n",
    ")\n",
    "retrieval_chain = (\n",
    "    retrieval_map\n",
    "    | prompt\n",
    "    | model\n",
    "    | StrOutputParser()  \n",
    ")\n"
   ]
  },
  {
   "cell_type": "markdown",
   "metadata": {},
   "source": [
    " 这样代码中就会更明确一些，表示我们这里准备的是一个可运行的 map，需要自动进行类型转换，以匹配后续组件的输入。\n",
    "\n",
    "  可见，`RunnableMap`不仅可以并行组合多个流水线，还能用来格式转换，这加强了它在构建流水线上的灵活性。"
   ]
  },
  {
   "cell_type": "markdown",
   "metadata": {},
   "source": []
  }
 ],
 "metadata": {
  "kernelspec": {
   "display_name": "langchain",
   "language": "python",
   "name": "python3"
  },
  "language_info": {
   "codemirror_mode": {
    "name": "ipython",
    "version": 3
   },
   "file_extension": ".py",
   "mimetype": "text/x-python",
   "name": "python",
   "nbconvert_exporter": "python",
   "pygments_lexer": "ipython3",
   "version": "3.10.14"
  }
 },
 "nbformat": 4,
 "nbformat_minor": 2
}
