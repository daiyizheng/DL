{
 "cells": [
  {
   "cell_type": "markdown",
   "metadata": {},
   "source": [
    "# Elasticsearch\n",
    "## 正在运行并连接Elasticsearch"
   ]
  },
  {
   "cell_type": "markdown",
   "metadata": {},
   "source": [
    "设置 Elasticsearch 实例的主要方法有两种：\n",
    "\n",
    "Elastic Cloud：Elastic Cloud 是一种托管的 Elasticsearch 服务。注册即可免费试用。\n",
    "要连接到不需要登录凭据的 Elasticsearch 实例（启动启用安全性的 docker 实例），请将 Elasticsearch URL 和索引名称以及嵌入对象传递给构造函数。\n",
    "\n",
    "本地安装 Elasticsearch：通过在本地运行 Elasticsearch 来开始使用。最简单的方法是使用官方 Elasticsearch Docker 镜像。有关更多信息，请参阅[Elasticsearch Docker](https://www.elastic.co/guide/en/elasticsearch/reference/current/docker.html) 文档。\n",
    "\n",
    "\n",
    "## 通过\n",
    "示例：运行禁用安全性的单节点 Elasticsearch 实例。不建议将其用于生产用途。\n",
    "```shell\n",
    "docker run -p 9200:9200 -e \"discovery.type=single-node\" -e \"xpack.security.enabled=false\" -e \"xpack.security.http.ssl.enabled=false\" docker.elastic.co/elasticsearch/elasticsearch:8.12.1\n",
    "```\n",
    "一旦 Elasticsearch 实例运行，您就可以使用 Elasticsearch URL 和索引名称以及嵌入对象到构造函数来连接到它。\n",
    "\n",
    "例子：\n"
   ]
  },
  {
   "cell_type": "code",
   "execution_count": 2,
   "metadata": {},
   "outputs": [],
   "source": [
    "from dotenv import load_dotenv, find_dotenv\n",
    "from langchain.globals import set_debug\n",
    "\n",
    "load_dotenv(find_dotenv())\n",
    "set_debug(False)"
   ]
  },
  {
   "cell_type": "code",
   "execution_count": 3,
   "metadata": {},
   "outputs": [],
   "source": [
    "from langchain_elasticsearch import ElasticsearchStore\n",
    "from langchain_openai import OpenAIEmbeddings\n",
    "\n",
    "embedding = OpenAIEmbeddings()\n",
    "elastic_vector_search = ElasticsearchStore(\n",
    "    es_url=\"http://36.150.110.168:9200/\",\n",
    "    index_name=\"test_index\",\n",
    "    embedding=embedding\n",
    ")"
   ]
  },
  {
   "cell_type": "markdown",
   "metadata": {},
   "source": [
    "对于生产，我们建议您在启用安全性的情况下运行。要使用登录凭据进行连接，您可以使用参数`es_api_key`或`es_user`和`es_password`。\n",
    "\n",
    "例子"
   ]
  },
  {
   "cell_type": "code",
   "execution_count": 10,
   "metadata": {},
   "outputs": [],
   "source": [
    "from langchain_elasticsearch import ElasticsearchStore\n",
    "from langchain_openai import OpenAIEmbeddings\n",
    "\n",
    "embedding = OpenAIEmbeddings()\n",
    "elastic_vector_search = ElasticsearchStore(\n",
    "    es_url=\"https://740ce5a8b5904eacbc138def7cb1bde9.us-central1.gcp.cloud.es.io:443\",\n",
    "    index_name=\"test_index\",\n",
    "    embedding=embedding,\n",
    "    es_user=\"enterprise_search\",\n",
    "    es_password=\"123456\"\n",
    ")"
   ]
  },
  {
   "cell_type": "code",
   "execution_count": 5,
   "metadata": {},
   "outputs": [],
   "source": [
    "embedding = OpenAIEmbeddings()\n",
    "elastic_vector_search = ElasticsearchStore(\n",
    "    es_url=\"https://740ce5a8b5904eacbc138def7cb1bde9.us-central1.gcp.cloud.es.io:443\",\n",
    "    index_name=\"test_index\",\n",
    "    embedding=embedding,\n",
    "    es_api_key=\"QWtvejVaQUJKVFV6WjA2Z2hRT1g6STFNaGpHa0RSX2lRRXlCSWwzVDBiUQ==\"\n",
    ")"
   ]
  },
  {
   "cell_type": "markdown",
   "metadata": {},
   "source": [
    "API 参考：[ElasticsearchStore](https://api.python.langchain.com/en/latest/vectorstores/langchain_elasticsearch.vectorstores.ElasticsearchStore.html)\n",
    "如何获取默认“elastic”用户的密码         \n",
    "要获取默认“elastic”用户的 Elastic Cloud 密码：        \n",
    "\n",
    "登录 Elastic Cloud 控制台https://cloud.elastic.co       \n",
    "转到“安全”>“用户”       \n",
    "找到“elastic”用户并点击“编辑”       \n",
    "点击“重置密码”       \n",
    "根据提示重置密码       \n",
    "如何获取 API 密钥      \n",
    "要获取 API 密钥：      \n",
    "\n",
    "登录 Elastic Cloud 控制台https://cloud.elastic.co       \n",
    "打开 Kibana 并转到“堆栈管理”>“API 密钥”      \n",
    "点击“创建 API 密钥”      \n",
    "输入 API 密钥的名称并点击“创建”         \n",
    "复制 API 密钥并粘贴到api_key参数中    "
   ]
  },
  {
   "cell_type": "markdown",
   "metadata": {},
   "source": [
    "\n",
    "## 基本示例\n",
    "这个例子中，我们将通过 TextLoader 加载“state_of_the_union.txt”，将文本分块为 500 个字的块，然后将每个块索引到 Elasticsearch 中。\n",
    "\n",
    "一旦数据被索引，我们就会执行一个简单的查询来找到与查询“总统对 Ketanji Brown Jackson 有何评价”相似的前 4 个块。\n",
    "\n",
    "Elasticsearch 使用docker在 localhost:9200 本地运行。有关如何从 Elastic Cloud 连接到 Elasticsearch 的更多详细信息，请参阅上面的使用身份验证进行连接。\n"
   ]
  },
  {
   "cell_type": "code",
   "execution_count": 15,
   "metadata": {},
   "outputs": [],
   "source": [
    "from langchain_elasticsearch import ElasticsearchStore\n",
    "from langchain_openai import OpenAIEmbeddings"
   ]
  },
  {
   "cell_type": "markdown",
   "metadata": {},
   "source": [
    "API 参考：ElasticsearchStore | OpenAIEmbeddings"
   ]
  },
  {
   "cell_type": "code",
   "execution_count": 16,
   "metadata": {},
   "outputs": [],
   "source": [
    "from langchain_community.document_loaders import TextLoader\n",
    "from langchain_text_splitters import CharacterTextSplitter\n",
    "\n",
    "loader = TextLoader(\"../data/state_of_the_union.txt\")\n",
    "documents = loader.load()\n",
    "text_splitter = CharacterTextSplitter(chunk_size=500, chunk_overlap=0)\n",
    "docs = text_splitter.split_documents(documents)\n",
    "\n",
    "embeddings = OpenAIEmbeddings()"
   ]
  },
  {
   "cell_type": "code",
   "execution_count": 15,
   "metadata": {},
   "outputs": [
    {
     "name": "stdout",
     "output_type": "stream",
     "text": [
      "[Document(metadata={'source': '../data/state_of_the_union.txt'}, page_content='One of the most serious constitutional responsibilities a President has is nominating someone to serve on the United States Supreme Court. \\n\\nAnd I did that 4 days ago, when I nominated Circuit Court of Appeals Judge Ketanji Brown Jackson. One of our nation’s top legal minds, who will continue Justice Breyer’s legacy of excellence.'), Document(metadata={'source': '../data/state_of_the_union.txt'}, page_content='A former top litigator in private practice. A former federal public defender. And from a family of public school educators and police officers. A consensus builder. Since she’s been nominated, she’s received a broad range of support—from the Fraternal Order of Police to former judges appointed by Democrats and Republicans. \\n\\nAnd if we are to advance liberty and justice, we need to secure the Border and fix the immigration system.'), Document(metadata={'source': '../data/state_of_the_union.txt'}, page_content='But in my administration, the watchdogs have been welcomed back. \\n\\nWe’re going after the criminals who stole billions in relief money meant for small businesses and millions of Americans.  \\n\\nAnd tonight, I’m announcing that the Justice Department will name a chief prosecutor for pandemic fraud. \\n\\nBy the end of this year, the deficit will be down to less than half what it was before I took office.  \\n\\nThe only president ever to cut the deficit by more than one trillion dollars in a single year.'), Document(metadata={'source': '../data/state_of_the_union.txt'}, page_content='This is personal to me and Jill, to Kamala, and to so many of you. \\n\\nCancer is the #2 cause of death in America–second only to heart disease. \\n\\nLast month, I announced our plan to supercharge  \\nthe Cancer Moonshot that President Obama asked me to lead six years ago. \\n\\nOur goal is to cut the cancer death rate by at least 50% over the next 25 years, turn more cancers from death sentences into treatable diseases.  \\n\\nMore support for patients and families.')]\n"
     ]
    }
   ],
   "source": [
    "db = ElasticsearchStore.from_documents(\n",
    "    docs,\n",
    "    es_url=\"https://740ce5a8b5904eacbc138def7cb1bde9.us-central1.gcp.cloud.es.io:443\",\n",
    "    index_name=\"test-basic\",\n",
    "    embedding=embedding,\n",
    "    es_api_key=\"QWtvejVaQUJKVFV6WjA2Z2hRT1g6STFNaGpHa0RSX2lRRXlCSWwzVDBiUQ==\"\n",
    ")\n",
    "\n",
    "db.client.indices.refresh(index=\"test-basic\")\n",
    "\n",
    "query = \"What did the president say about Ketanji Brown Jackson\"\n",
    "results = db.similarity_search(query)\n",
    "print(results)"
   ]
  },
  {
   "cell_type": "markdown",
   "metadata": {},
   "source": [
    "## 元数据\n",
    "ElasticsearchStore支持将元数据与文档一起存储。此元数据字典对象存储在 Elasticsearch 文档中的元数据对象字段中。根据元数据值，Elasticsearch 将通过推断元数据值的数据类型来自动设置映射。例如，如果元数据值是字符串，Elasticsearch 将把元数据对象字段的映射设置为字符串类型。\n",
    "\n"
   ]
  },
  {
   "cell_type": "code",
   "execution_count": 17,
   "metadata": {},
   "outputs": [
    {
     "name": "stdout",
     "output_type": "stream",
     "text": [
      "{'source': '../data/state_of_the_union.txt', 'date': '2016-01-01', 'rating': 2, 'author': 'John Doe'}\n"
     ]
    }
   ],
   "source": [
    "# Adding metadata to documents\n",
    "for i, doc in enumerate(docs):\n",
    "    doc.metadata[\"date\"] = f\"{range(2010, 2020)[i % 10]}-01-01\"\n",
    "    doc.metadata[\"rating\"] = range(1, 6)[i % 5]\n",
    "    doc.metadata[\"author\"] = [\"John Doe\", \"Jane Doe\"][i % 2]\n",
    "\n",
    "db = ElasticsearchStore.from_documents(\n",
    "    docs, \n",
    "    embedding=embeddings, \n",
    "    es_url=\"https://740ce5a8b5904eacbc138def7cb1bde9.us-central1.gcp.cloud.es.io:443\",\n",
    "    es_api_key=\"QWtvejVaQUJKVFV6WjA2Z2hRT1g6STFNaGpHa0RSX2lRRXlCSWwzVDBiUQ==\",\n",
    "    index_name=\"test-metadata\"\n",
    ")\n",
    "\n",
    "query = \"What did the president say about Ketanji Brown Jackson\"\n",
    "docs = db.similarity_search(query)\n",
    "print(docs[0].metadata)"
   ]
  },
  {
   "cell_type": "markdown",
   "metadata": {},
   "source": [
    "### 示例：按精确\n",
    "注意：我们正在使用未经分析的关键字子字段"
   ]
  },
  {
   "cell_type": "code",
   "execution_count": 18,
   "metadata": {},
   "outputs": [
    {
     "name": "stdout",
     "output_type": "stream",
     "text": [
      "{'source': '../data/state_of_the_union.txt', 'date': '2016-01-01', 'rating': 2, 'author': 'John Doe'}\n"
     ]
    }
   ],
   "source": [
    "docs = db.similarity_search(\n",
    "    query, filter=[{\"term\": {\"metadata.author.keyword\": \"John Doe\"}}]\n",
    ")\n",
    "print(docs[0].metadata)"
   ]
  },
  {
   "cell_type": "markdown",
   "metadata": {},
   "source": [
    "### 示例:按部分匹配过滤\n",
    "\n",
    "本示例展示了如何按部分匹配进行过滤。当您不知道元数据字段的确切值时，这很有用。例如，如果希望按元数据字段author进行筛选，而又不知道作者的确切值，那么可以使用部分匹配来按作者的姓氏进行筛选。还支持模糊匹配。“Jon”与“John Doe”匹配，因为“Jon”与“John”token非常匹配。"
   ]
  },
  {
   "cell_type": "code",
   "execution_count": 19,
   "metadata": {},
   "outputs": [
    {
     "name": "stdout",
     "output_type": "stream",
     "text": [
      "{'source': '../data/state_of_the_union.txt', 'date': '2016-01-01', 'rating': 2, 'author': 'John Doe'}\n"
     ]
    }
   ],
   "source": [
    "docs = db.similarity_search(\n",
    "    query,\n",
    "    filter=[{\"match\": {\"metadata.author\": {\"query\": \"Jon\", \"fuzziness\": \"AUTO\"}}}],\n",
    ")\n",
    "print(docs[0].metadata)"
   ]
  },
  {
   "cell_type": "markdown",
   "metadata": {},
   "source": [
    "### 示例：按日期范围\n"
   ]
  },
  {
   "cell_type": "code",
   "execution_count": 20,
   "metadata": {},
   "outputs": [
    {
     "name": "stdout",
     "output_type": "stream",
     "text": [
      "{'source': '../data/state_of_the_union.txt', 'date': '2017-01-01', 'rating': 3, 'author': 'Jane Doe'}\n"
     ]
    }
   ],
   "source": [
    "docs = db.similarity_search(\n",
    "    \"Any mention about Fred?\",\n",
    "    filter=[{\"range\": {\"metadata.date\": {\"gte\": \"2010-01-01\"}}}],\n",
    ")\n",
    "print(docs[0].metadata)"
   ]
  },
  {
   "cell_type": "markdown",
   "metadata": {},
   "source": [
    "### 示例：按数字范围\n"
   ]
  },
  {
   "cell_type": "code",
   "execution_count": 21,
   "metadata": {},
   "outputs": [
    {
     "name": "stdout",
     "output_type": "stream",
     "text": [
      "{'source': '../data/state_of_the_union.txt', 'date': '2017-01-01', 'rating': 3, 'author': 'Jane Doe'}\n"
     ]
    }
   ],
   "source": [
    "docs = db.similarity_search(\n",
    "    \"Any mention about Fred?\", filter=[{\"range\": {\"metadata.rating\": {\"gte\": 2}}}]\n",
    ")\n",
    "print(docs[0].metadata)"
   ]
  },
  {
   "cell_type": "markdown",
   "metadata": {},
   "source": [
    "## 示例：按地理距离\n",
    "需要为 声明具有 `geo_point` 映射的索引`metadata.geo_location`。"
   ]
  },
  {
   "cell_type": "code",
   "execution_count": 24,
   "metadata": {},
   "outputs": [
    {
     "ename": "BadRequestError",
     "evalue": "BadRequestError(400, 'search_phase_execution_exception', 'failed to find geo field [metadata.geo_location]')",
     "output_type": "error",
     "traceback": [
      "\u001b[0;31m---------------------------------------------------------------------------\u001b[0m",
      "\u001b[0;31mBadRequestError\u001b[0m                           Traceback (most recent call last)",
      "\u001b[1;32m/slurm/home/admin/nlp/DL/10-langchain/Vector stores/Elasticsearch.ipynb 单元格 25\u001b[0m line \u001b[0;36m1\n\u001b[0;32m----> <a href='vscode-notebook-cell://ssh-remote%2Bcentos-master-admin/slurm/home/admin/nlp/DL/10-langchain/Vector%20stores/Elasticsearch.ipynb#X40sdnNjb2RlLXJlbW90ZQ%3D%3D?line=0'>1</a>\u001b[0m docs \u001b[39m=\u001b[39m db\u001b[39m.\u001b[39;49msimilarity_search(\n\u001b[1;32m      <a href='vscode-notebook-cell://ssh-remote%2Bcentos-master-admin/slurm/home/admin/nlp/DL/10-langchain/Vector%20stores/Elasticsearch.ipynb#X40sdnNjb2RlLXJlbW90ZQ%3D%3D?line=1'>2</a>\u001b[0m     \u001b[39m\"\u001b[39;49m\u001b[39mAny mention about Fred?\u001b[39;49m\u001b[39m\"\u001b[39;49m,\n\u001b[1;32m      <a href='vscode-notebook-cell://ssh-remote%2Bcentos-master-admin/slurm/home/admin/nlp/DL/10-langchain/Vector%20stores/Elasticsearch.ipynb#X40sdnNjb2RlLXJlbW90ZQ%3D%3D?line=2'>3</a>\u001b[0m     \u001b[39mfilter\u001b[39;49m\u001b[39m=\u001b[39;49m[\n\u001b[1;32m      <a href='vscode-notebook-cell://ssh-remote%2Bcentos-master-admin/slurm/home/admin/nlp/DL/10-langchain/Vector%20stores/Elasticsearch.ipynb#X40sdnNjb2RlLXJlbW90ZQ%3D%3D?line=3'>4</a>\u001b[0m         {\n\u001b[1;32m      <a href='vscode-notebook-cell://ssh-remote%2Bcentos-master-admin/slurm/home/admin/nlp/DL/10-langchain/Vector%20stores/Elasticsearch.ipynb#X40sdnNjb2RlLXJlbW90ZQ%3D%3D?line=4'>5</a>\u001b[0m             \u001b[39m\"\u001b[39;49m\u001b[39mgeo_distance\u001b[39;49m\u001b[39m\"\u001b[39;49m: {\n\u001b[1;32m      <a href='vscode-notebook-cell://ssh-remote%2Bcentos-master-admin/slurm/home/admin/nlp/DL/10-langchain/Vector%20stores/Elasticsearch.ipynb#X40sdnNjb2RlLXJlbW90ZQ%3D%3D?line=5'>6</a>\u001b[0m                 \u001b[39m\"\u001b[39;49m\u001b[39mdistance\u001b[39;49m\u001b[39m\"\u001b[39;49m: \u001b[39m\"\u001b[39;49m\u001b[39m200km\u001b[39;49m\u001b[39m\"\u001b[39;49m,\n\u001b[1;32m      <a href='vscode-notebook-cell://ssh-remote%2Bcentos-master-admin/slurm/home/admin/nlp/DL/10-langchain/Vector%20stores/Elasticsearch.ipynb#X40sdnNjb2RlLXJlbW90ZQ%3D%3D?line=6'>7</a>\u001b[0m                 \u001b[39m\"\u001b[39;49m\u001b[39mmetadata.geo_location\u001b[39;49m\u001b[39m\"\u001b[39;49m: {\u001b[39m\"\u001b[39;49m\u001b[39mlat\u001b[39;49m\u001b[39m\"\u001b[39;49m: \u001b[39m40\u001b[39;49m, \u001b[39m\"\u001b[39;49m\u001b[39mlon\u001b[39;49m\u001b[39m\"\u001b[39;49m: \u001b[39m-\u001b[39;49m\u001b[39m70\u001b[39;49m},\n\u001b[1;32m      <a href='vscode-notebook-cell://ssh-remote%2Bcentos-master-admin/slurm/home/admin/nlp/DL/10-langchain/Vector%20stores/Elasticsearch.ipynb#X40sdnNjb2RlLXJlbW90ZQ%3D%3D?line=7'>8</a>\u001b[0m             }\n\u001b[1;32m      <a href='vscode-notebook-cell://ssh-remote%2Bcentos-master-admin/slurm/home/admin/nlp/DL/10-langchain/Vector%20stores/Elasticsearch.ipynb#X40sdnNjb2RlLXJlbW90ZQ%3D%3D?line=8'>9</a>\u001b[0m         }\n\u001b[1;32m     <a href='vscode-notebook-cell://ssh-remote%2Bcentos-master-admin/slurm/home/admin/nlp/DL/10-langchain/Vector%20stores/Elasticsearch.ipynb#X40sdnNjb2RlLXJlbW90ZQ%3D%3D?line=9'>10</a>\u001b[0m     ],\n\u001b[1;32m     <a href='vscode-notebook-cell://ssh-remote%2Bcentos-master-admin/slurm/home/admin/nlp/DL/10-langchain/Vector%20stores/Elasticsearch.ipynb#X40sdnNjb2RlLXJlbW90ZQ%3D%3D?line=10'>11</a>\u001b[0m )\n\u001b[1;32m     <a href='vscode-notebook-cell://ssh-remote%2Bcentos-master-admin/slurm/home/admin/nlp/DL/10-langchain/Vector%20stores/Elasticsearch.ipynb#X40sdnNjb2RlLXJlbW90ZQ%3D%3D?line=11'>12</a>\u001b[0m \u001b[39mprint\u001b[39m(docs[\u001b[39m0\u001b[39m])\n",
      "File \u001b[0;32m~/.conda/envs/rag/lib/python3.11/site-packages/langchain_elasticsearch/vectorstores.py:764\u001b[0m, in \u001b[0;36mElasticsearchStore.similarity_search\u001b[0;34m(self, query, k, fetch_k, filter, custom_query, doc_builder, **kwargs)\u001b[0m\n\u001b[1;32m    739\u001b[0m \u001b[39mdef\u001b[39;00m \u001b[39msimilarity_search\u001b[39m(\n\u001b[1;32m    740\u001b[0m     \u001b[39mself\u001b[39m,\n\u001b[1;32m    741\u001b[0m     query: \u001b[39mstr\u001b[39m,\n\u001b[0;32m   (...)\u001b[0m\n\u001b[1;32m    750\u001b[0m     \u001b[39m*\u001b[39m\u001b[39m*\u001b[39mkwargs: Any,\n\u001b[1;32m    751\u001b[0m ) \u001b[39m-\u001b[39m\u001b[39m>\u001b[39m List[Document]:\n\u001b[1;32m    752\u001b[0m \u001b[39m    \u001b[39m\u001b[39m\"\"\"Return Elasticsearch documents most similar to query.\u001b[39;00m\n\u001b[1;32m    753\u001b[0m \n\u001b[1;32m    754\u001b[0m \u001b[39m    Args:\u001b[39;00m\n\u001b[0;32m   (...)\u001b[0m\n\u001b[1;32m    762\u001b[0m \u001b[39m        in descending order of similarity.\u001b[39;00m\n\u001b[1;32m    763\u001b[0m \u001b[39m    \"\"\"\u001b[39;00m\n\u001b[0;32m--> 764\u001b[0m     hits \u001b[39m=\u001b[39m \u001b[39mself\u001b[39;49m\u001b[39m.\u001b[39;49m_store\u001b[39m.\u001b[39;49msearch(\n\u001b[1;32m    765\u001b[0m         query\u001b[39m=\u001b[39;49mquery,\n\u001b[1;32m    766\u001b[0m         k\u001b[39m=\u001b[39;49mk,\n\u001b[1;32m    767\u001b[0m         num_candidates\u001b[39m=\u001b[39;49mfetch_k,\n\u001b[1;32m    768\u001b[0m         \u001b[39mfilter\u001b[39;49m\u001b[39m=\u001b[39;49m\u001b[39mfilter\u001b[39;49m,\n\u001b[1;32m    769\u001b[0m         custom_query\u001b[39m=\u001b[39;49mcustom_query,\n\u001b[1;32m    770\u001b[0m     )\n\u001b[1;32m    771\u001b[0m     docs \u001b[39m=\u001b[39m _hits_to_docs_scores(\n\u001b[1;32m    772\u001b[0m         hits\u001b[39m=\u001b[39mhits,\n\u001b[1;32m    773\u001b[0m         content_field\u001b[39m=\u001b[39m\u001b[39mself\u001b[39m\u001b[39m.\u001b[39mquery_field,\n\u001b[1;32m    774\u001b[0m         doc_builder\u001b[39m=\u001b[39mdoc_builder,\n\u001b[1;32m    775\u001b[0m     )\n\u001b[1;32m    776\u001b[0m     \u001b[39mreturn\u001b[39;00m [doc \u001b[39mfor\u001b[39;00m doc, _score \u001b[39min\u001b[39;00m docs]\n",
      "File \u001b[0;32m~/.conda/envs/rag/lib/python3.11/site-packages/elasticsearch/helpers/vectorstore/_sync/vectorstore.py:274\u001b[0m, in \u001b[0;36mVectorStore.search\u001b[0;34m(self, query, query_vector, k, num_candidates, fields, filter, custom_query)\u001b[0m\n\u001b[1;32m    271\u001b[0m     query_body \u001b[39m=\u001b[39m custom_query(query_body, query)\n\u001b[1;32m    272\u001b[0m     logger\u001b[39m.\u001b[39mdebug(\u001b[39mf\u001b[39m\u001b[39m\"\u001b[39m\u001b[39mCalling custom_query, Query body now: \u001b[39m\u001b[39m{\u001b[39;00mquery_body\u001b[39m}\u001b[39;00m\u001b[39m\"\u001b[39m)\n\u001b[0;32m--> 274\u001b[0m response \u001b[39m=\u001b[39m \u001b[39mself\u001b[39;49m\u001b[39m.\u001b[39;49mclient\u001b[39m.\u001b[39;49msearch(\n\u001b[1;32m    275\u001b[0m     index\u001b[39m=\u001b[39;49m\u001b[39mself\u001b[39;49m\u001b[39m.\u001b[39;49mindex,\n\u001b[1;32m    276\u001b[0m     \u001b[39m*\u001b[39;49m\u001b[39m*\u001b[39;49mquery_body,\n\u001b[1;32m    277\u001b[0m     size\u001b[39m=\u001b[39;49mk,\n\u001b[1;32m    278\u001b[0m     source\u001b[39m=\u001b[39;49m\u001b[39mTrue\u001b[39;49;00m,\n\u001b[1;32m    279\u001b[0m     source_includes\u001b[39m=\u001b[39;49mfields,\n\u001b[1;32m    280\u001b[0m )\n\u001b[1;32m    281\u001b[0m hits: List[Dict[\u001b[39mstr\u001b[39m, Any]] \u001b[39m=\u001b[39m response[\u001b[39m\"\u001b[39m\u001b[39mhits\u001b[39m\u001b[39m\"\u001b[39m][\u001b[39m\"\u001b[39m\u001b[39mhits\u001b[39m\u001b[39m\"\u001b[39m]\n\u001b[1;32m    283\u001b[0m \u001b[39mreturn\u001b[39;00m hits\n",
      "File \u001b[0;32m~/.conda/envs/rag/lib/python3.11/site-packages/elasticsearch/_sync/client/utils.py:446\u001b[0m, in \u001b[0;36m_rewrite_parameters.<locals>.wrapper.<locals>.wrapped\u001b[0;34m(*args, **kwargs)\u001b[0m\n\u001b[1;32m    443\u001b[0m         \u001b[39mexcept\u001b[39;00m \u001b[39mKeyError\u001b[39;00m:\n\u001b[1;32m    444\u001b[0m             \u001b[39mpass\u001b[39;00m\n\u001b[0;32m--> 446\u001b[0m \u001b[39mreturn\u001b[39;00m api(\u001b[39m*\u001b[39;49margs, \u001b[39m*\u001b[39;49m\u001b[39m*\u001b[39;49mkwargs)\n",
      "File \u001b[0;32m~/.conda/envs/rag/lib/python3.11/site-packages/elasticsearch/_sync/client/__init__.py:4119\u001b[0m, in \u001b[0;36mElasticsearch.search\u001b[0;34m(self, index, aggregations, aggs, allow_no_indices, allow_partial_search_results, analyze_wildcard, analyzer, batched_reduce_size, ccs_minimize_roundtrips, collapse, default_operator, df, docvalue_fields, error_trace, expand_wildcards, explain, ext, fields, filter_path, force_synthetic_source, from_, highlight, human, ignore_throttled, ignore_unavailable, indices_boost, knn, lenient, max_concurrent_shard_requests, min_compatible_shard_node, min_score, pit, post_filter, pre_filter_shard_size, preference, pretty, profile, q, query, rank, request_cache, rescore, rest_total_hits_as_int, retriever, routing, runtime_mappings, script_fields, scroll, search_after, search_type, seq_no_primary_term, size, slice, sort, source, source_excludes, source_includes, stats, stored_fields, suggest, suggest_field, suggest_mode, suggest_size, suggest_text, terminate_after, timeout, track_scores, track_total_hits, typed_keys, version, body)\u001b[0m\n\u001b[1;32m   4117\u001b[0m \u001b[39mif\u001b[39;00m __body \u001b[39mis\u001b[39;00m \u001b[39mnot\u001b[39;00m \u001b[39mNone\u001b[39;00m:\n\u001b[1;32m   4118\u001b[0m     __headers[\u001b[39m\"\u001b[39m\u001b[39mcontent-type\u001b[39m\u001b[39m\"\u001b[39m] \u001b[39m=\u001b[39m \u001b[39m\"\u001b[39m\u001b[39mapplication/json\u001b[39m\u001b[39m\"\u001b[39m\n\u001b[0;32m-> 4119\u001b[0m \u001b[39mreturn\u001b[39;00m \u001b[39mself\u001b[39;49m\u001b[39m.\u001b[39;49mperform_request(  \u001b[39m# type: ignore[return-value]\u001b[39;49;00m\n\u001b[1;32m   4120\u001b[0m     \u001b[39m\"\u001b[39;49m\u001b[39mPOST\u001b[39;49m\u001b[39m\"\u001b[39;49m,\n\u001b[1;32m   4121\u001b[0m     __path,\n\u001b[1;32m   4122\u001b[0m     params\u001b[39m=\u001b[39;49m__query,\n\u001b[1;32m   4123\u001b[0m     headers\u001b[39m=\u001b[39;49m__headers,\n\u001b[1;32m   4124\u001b[0m     body\u001b[39m=\u001b[39;49m__body,\n\u001b[1;32m   4125\u001b[0m     endpoint_id\u001b[39m=\u001b[39;49m\u001b[39m\"\u001b[39;49m\u001b[39msearch\u001b[39;49m\u001b[39m\"\u001b[39;49m,\n\u001b[1;32m   4126\u001b[0m     path_parts\u001b[39m=\u001b[39;49m__path_parts,\n\u001b[1;32m   4127\u001b[0m )\n",
      "File \u001b[0;32m~/.conda/envs/rag/lib/python3.11/site-packages/elasticsearch/_sync/client/_base.py:271\u001b[0m, in \u001b[0;36mBaseClient.perform_request\u001b[0;34m(self, method, path, params, headers, body, endpoint_id, path_parts)\u001b[0m\n\u001b[1;32m    255\u001b[0m \u001b[39mdef\u001b[39;00m \u001b[39mperform_request\u001b[39m(\n\u001b[1;32m    256\u001b[0m     \u001b[39mself\u001b[39m,\n\u001b[1;32m    257\u001b[0m     method: \u001b[39mstr\u001b[39m,\n\u001b[0;32m   (...)\u001b[0m\n\u001b[1;32m    264\u001b[0m     path_parts: Optional[Mapping[\u001b[39mstr\u001b[39m, Any]] \u001b[39m=\u001b[39m \u001b[39mNone\u001b[39;00m,\n\u001b[1;32m    265\u001b[0m ) \u001b[39m-\u001b[39m\u001b[39m>\u001b[39m ApiResponse[Any]:\n\u001b[1;32m    266\u001b[0m     \u001b[39mwith\u001b[39;00m \u001b[39mself\u001b[39m\u001b[39m.\u001b[39m_otel\u001b[39m.\u001b[39mspan(\n\u001b[1;32m    267\u001b[0m         method,\n\u001b[1;32m    268\u001b[0m         endpoint_id\u001b[39m=\u001b[39mendpoint_id,\n\u001b[1;32m    269\u001b[0m         path_parts\u001b[39m=\u001b[39mpath_parts \u001b[39mor\u001b[39;00m {},\n\u001b[1;32m    270\u001b[0m     ) \u001b[39mas\u001b[39;00m otel_span:\n\u001b[0;32m--> 271\u001b[0m         response \u001b[39m=\u001b[39m \u001b[39mself\u001b[39;49m\u001b[39m.\u001b[39;49m_perform_request(\n\u001b[1;32m    272\u001b[0m             method,\n\u001b[1;32m    273\u001b[0m             path,\n\u001b[1;32m    274\u001b[0m             params\u001b[39m=\u001b[39;49mparams,\n\u001b[1;32m    275\u001b[0m             headers\u001b[39m=\u001b[39;49mheaders,\n\u001b[1;32m    276\u001b[0m             body\u001b[39m=\u001b[39;49mbody,\n\u001b[1;32m    277\u001b[0m             otel_span\u001b[39m=\u001b[39;49motel_span,\n\u001b[1;32m    278\u001b[0m         )\n\u001b[1;32m    279\u001b[0m         otel_span\u001b[39m.\u001b[39mset_elastic_cloud_metadata(response\u001b[39m.\u001b[39mmeta\u001b[39m.\u001b[39mheaders)\n\u001b[1;32m    280\u001b[0m         \u001b[39mreturn\u001b[39;00m response\n",
      "File \u001b[0;32m~/.conda/envs/rag/lib/python3.11/site-packages/elasticsearch/_sync/client/_base.py:352\u001b[0m, in \u001b[0;36mBaseClient._perform_request\u001b[0;34m(self, method, path, params, headers, body, otel_span)\u001b[0m\n\u001b[1;32m    349\u001b[0m         \u001b[39mexcept\u001b[39;00m (\u001b[39mValueError\u001b[39;00m, \u001b[39mKeyError\u001b[39;00m, \u001b[39mTypeError\u001b[39;00m):\n\u001b[1;32m    350\u001b[0m             \u001b[39mpass\u001b[39;00m\n\u001b[0;32m--> 352\u001b[0m     \u001b[39mraise\u001b[39;00m HTTP_EXCEPTIONS\u001b[39m.\u001b[39mget(meta\u001b[39m.\u001b[39mstatus, ApiError)(\n\u001b[1;32m    353\u001b[0m         message\u001b[39m=\u001b[39mmessage, meta\u001b[39m=\u001b[39mmeta, body\u001b[39m=\u001b[39mresp_body\n\u001b[1;32m    354\u001b[0m     )\n\u001b[1;32m    356\u001b[0m \u001b[39m# 'X-Elastic-Product: Elasticsearch' should be on every 2XX response.\u001b[39;00m\n\u001b[1;32m    357\u001b[0m \u001b[39mif\u001b[39;00m \u001b[39mnot\u001b[39;00m \u001b[39mself\u001b[39m\u001b[39m.\u001b[39m_verified_elasticsearch:\n\u001b[1;32m    358\u001b[0m     \u001b[39m# If the header is set we mark the server as verified.\u001b[39;00m\n",
      "\u001b[0;31mBadRequestError\u001b[0m: BadRequestError(400, 'search_phase_execution_exception', 'failed to find geo field [metadata.geo_location]')"
     ]
    }
   ],
   "source": [
    "docs = db.similarity_search(\n",
    "    \"Any mention about Fred?\",\n",
    "    filter=[\n",
    "        {\n",
    "            \"geo_distance\": {\n",
    "                \"distance\": \"200km\",\n",
    "                \"metadata.geo_location\": {\"lat\": 40, \"lon\": -70},\n",
    "            }\n",
    "        }\n",
    "    ],\n",
    ")\n",
    "print(docs[0])"
   ]
  },
  {
   "cell_type": "markdown",
   "metadata": {},
   "source": [
    "## 距离相似度算法\n",
    "Elasticsearch 支持以下向量距离相似度算法：\n",
    "\n",
    "- 余弦\n",
    "- 欧几里得\n",
    "- 点积\n",
    "- 余弦相似度算法是默认算法。\n",
    "\n",
    "您可以通过相似性参数指定所需的相似性算法。\n",
    "\n",
    "注意： 根据检索策略，相似度算法不能在查询时更改。需要在为字段创建索引映射时设置。如果需要更改相似度算法，则需要删除索引并使用正确的 `distance_strategy` 重新创建。"
   ]
  },
  {
   "cell_type": "code",
   "execution_count": null,
   "metadata": {},
   "outputs": [],
   "source": [
    "\n",
    "db = ElasticsearchStore.from_documents(\n",
    "    docs, \n",
    "    embeddings, \n",
    "    es_url=\"http://localhost:9200\", \n",
    "    index_name=\"test\",\n",
    "    distance_strategy=\"COSINE\"\n",
    "    # distance_strategy=\"EUCLIDEAN_DISTANCE\"\n",
    "    # distance_strategy=\"DOT_PRODUCT\"\n",
    ")\n"
   ]
  },
  {
   "cell_type": "markdown",
   "metadata": {},
   "source": [
    "## 检索策略\n",
    "\n",
    "Elasticsearch与其他仅面向向量的数据库相比有很大的优势，因为它能够支持广泛的检索策略。在本手册中，我们将配置ElasticsearchStore以支持一些最常见的检索策略。默认情况下，ElasticsearchStore使用DenseVectorStrategy(在0.2.0版本之前称为ApproxRetrievalStrategy)。"
   ]
  },
  {
   "cell_type": "markdown",
   "metadata": {},
   "source": [
    "### DenseVectorStrategy\n",
    "这将返回与查询向量最相似的前k个向量。k参数在初始化ElasticsearchStore时设置。缺省值为10。"
   ]
  },
  {
   "cell_type": "code",
   "execution_count": 5,
   "metadata": {},
   "outputs": [
    {
     "ename": "NameError",
     "evalue": "name 'docs' is not defined",
     "output_type": "error",
     "traceback": [
      "\u001b[0;31m---------------------------------------------------------------------------\u001b[0m",
      "\u001b[0;31mNameError\u001b[0m                                 Traceback (most recent call last)",
      "\u001b[1;32m/slurm/home/admin/nlp/DL/10-langchain/Vector stores/Elasticsearch.ipynb 单元格 30\u001b[0m line \u001b[0;36m4\n\u001b[1;32m      <a href='vscode-notebook-cell://ssh-remote%2Badmin/slurm/home/admin/nlp/DL/10-langchain/Vector%20stores/Elasticsearch.ipynb#X41sdnNjb2RlLXJlbW90ZQ%3D%3D?line=0'>1</a>\u001b[0m \u001b[39mfrom\u001b[39;00m \u001b[39mlangchain_elasticsearch\u001b[39;00m \u001b[39mimport\u001b[39;00m DenseVectorStrategy\n\u001b[1;32m      <a href='vscode-notebook-cell://ssh-remote%2Badmin/slurm/home/admin/nlp/DL/10-langchain/Vector%20stores/Elasticsearch.ipynb#X41sdnNjb2RlLXJlbW90ZQ%3D%3D?line=2'>3</a>\u001b[0m db \u001b[39m=\u001b[39m ElasticsearchStore\u001b[39m.\u001b[39mfrom_documents(\n\u001b[0;32m----> <a href='vscode-notebook-cell://ssh-remote%2Badmin/slurm/home/admin/nlp/DL/10-langchain/Vector%20stores/Elasticsearch.ipynb#X41sdnNjb2RlLXJlbW90ZQ%3D%3D?line=3'>4</a>\u001b[0m     docs,\n\u001b[1;32m      <a href='vscode-notebook-cell://ssh-remote%2Badmin/slurm/home/admin/nlp/DL/10-langchain/Vector%20stores/Elasticsearch.ipynb#X41sdnNjb2RlLXJlbW90ZQ%3D%3D?line=4'>5</a>\u001b[0m     embeddings,\n\u001b[1;32m      <a href='vscode-notebook-cell://ssh-remote%2Badmin/slurm/home/admin/nlp/DL/10-langchain/Vector%20stores/Elasticsearch.ipynb#X41sdnNjb2RlLXJlbW90ZQ%3D%3D?line=5'>6</a>\u001b[0m     es_url\u001b[39m=\u001b[39m\u001b[39m\"\u001b[39m\u001b[39mhttps://740ce5a8b5904eacbc138def7cb1bde9.us-central1.gcp.cloud.es.io:443\u001b[39m\u001b[39m\"\u001b[39m,\n\u001b[1;32m      <a href='vscode-notebook-cell://ssh-remote%2Badmin/slurm/home/admin/nlp/DL/10-langchain/Vector%20stores/Elasticsearch.ipynb#X41sdnNjb2RlLXJlbW90ZQ%3D%3D?line=6'>7</a>\u001b[0m     index_name\u001b[39m=\u001b[39m\u001b[39m\"\u001b[39m\u001b[39mtest\u001b[39m\u001b[39m\"\u001b[39m,\n\u001b[1;32m      <a href='vscode-notebook-cell://ssh-remote%2Badmin/slurm/home/admin/nlp/DL/10-langchain/Vector%20stores/Elasticsearch.ipynb#X41sdnNjb2RlLXJlbW90ZQ%3D%3D?line=7'>8</a>\u001b[0m     es_api_key\u001b[39m=\u001b[39m\u001b[39m\"\u001b[39m\u001b[39mQWtvejVaQUJKVFV6WjA2Z2hRT1g6STFNaGpHa0RSX2lRRXlCSWwzVDBiUQ==\u001b[39m\u001b[39m\"\u001b[39m,\n\u001b[1;32m      <a href='vscode-notebook-cell://ssh-remote%2Badmin/slurm/home/admin/nlp/DL/10-langchain/Vector%20stores/Elasticsearch.ipynb#X41sdnNjb2RlLXJlbW90ZQ%3D%3D?line=8'>9</a>\u001b[0m     strategy\u001b[39m=\u001b[39mDenseVectorStrategy(),\n\u001b[1;32m     <a href='vscode-notebook-cell://ssh-remote%2Badmin/slurm/home/admin/nlp/DL/10-langchain/Vector%20stores/Elasticsearch.ipynb#X41sdnNjb2RlLXJlbW90ZQ%3D%3D?line=9'>10</a>\u001b[0m )\n\u001b[1;32m     <a href='vscode-notebook-cell://ssh-remote%2Badmin/slurm/home/admin/nlp/DL/10-langchain/Vector%20stores/Elasticsearch.ipynb#X41sdnNjb2RlLXJlbW90ZQ%3D%3D?line=11'>12</a>\u001b[0m docs \u001b[39m=\u001b[39m db\u001b[39m.\u001b[39msimilarity_search(\n\u001b[1;32m     <a href='vscode-notebook-cell://ssh-remote%2Badmin/slurm/home/admin/nlp/DL/10-langchain/Vector%20stores/Elasticsearch.ipynb#X41sdnNjb2RlLXJlbW90ZQ%3D%3D?line=12'>13</a>\u001b[0m     query\u001b[39m=\u001b[39m\u001b[39m\"\u001b[39m\u001b[39mWhat did the president say about Ketanji Brown Jackson?\u001b[39m\u001b[39m\"\u001b[39m, k\u001b[39m=\u001b[39m\u001b[39m10\u001b[39m\n\u001b[1;32m     <a href='vscode-notebook-cell://ssh-remote%2Badmin/slurm/home/admin/nlp/DL/10-langchain/Vector%20stores/Elasticsearch.ipynb#X41sdnNjb2RlLXJlbW90ZQ%3D%3D?line=13'>14</a>\u001b[0m )\n",
      "\u001b[0;31mNameError\u001b[0m: name 'docs' is not defined"
     ]
    }
   ],
   "source": [
    "from langchain_elasticsearch import DenseVectorStrategy\n",
    "\n",
    "db = ElasticsearchStore.from_documents(\n",
    "    docs,\n",
    "    embeddings,\n",
    "    es_url=\"https://740ce5a8b5904eacbc138def7cb1bde9.us-central1.gcp.cloud.es.io:443\",\n",
    "    index_name=\"test\",\n",
    "    es_api_key=\"QWtvejVaQUJKVFV6WjA2Z2hRT1g6STFNaGpHa0RSX2lRRXlCSWwzVDBiUQ==\",\n",
    "    strategy=DenseVectorStrategy(),\n",
    ")\n",
    "\n",
    "docs = db.similarity_search(\n",
    "    query=\"What did the president say about Ketanji Brown Jackson?\", k=10\n",
    ")"
   ]
  },
  {
   "cell_type": "code",
   "execution_count": 27,
   "metadata": {},
   "outputs": [
    {
     "data": {
      "text/plain": [
       "Document(metadata={'source': '../data/state_of_the_union.txt', 'date': '2017-01-01', 'rating': 3, 'author': 'Jane Doe'}, page_content='A former top litigator in private practice. A former federal public defender. And from a family of public school educators and police officers. A consensus builder. Since she’s been nominated, she’s received a broad range of support—from the Fraternal Order of Police to former judges appointed by Democrats and Republicans. \\n\\nAnd if we are to advance liberty and justice, we need to secure the Border and fix the immigration system.')"
      ]
     },
     "execution_count": 27,
     "metadata": {},
     "output_type": "execute_result"
    }
   ],
   "source": [
    "docs[0]"
   ]
  },
  {
   "cell_type": "markdown",
   "metadata": {},
   "source": [
    "### 示例:密集向量和关键字搜索的混合检索\n",
    "这个示例将展示如何配置ElasticsearchStore来执行混合检索，使用近似语义搜索和基于关键字的搜索的组合。我们使用RRF来平衡来自不同检索方法的两个分数。\n",
    "\n",
    "我们使用RRF来平衡来自不同检索方法的两个分数。为了启用混合检索，我们需要在`DenseVectorStrategy`构造函数中设置`hybrid=True`。"
   ]
  },
  {
   "cell_type": "code",
   "execution_count": null,
   "metadata": {},
   "outputs": [],
   "source": [
    "\n",
    "db = ElasticsearchStore.from_documents(\n",
    "    docs, \n",
    "    embeddings, \n",
    "    es_url=\"https://740ce5a8b5904eacbc138def7cb1bde9.us-central1.gcp.cloud.es.io:443\",\n",
    "    index_name=\"test\",\n",
    "    es_api_key=\"QWtvejVaQUJKVFV6WjA2Z2hRT1g6STFNaGpHa0RSX2lRRXlCSWwzVDBiUQ==\",\n",
    "    strategy=DenseVectorStrategy(hybrid=True)\n",
    ")"
   ]
  },
  {
   "cell_type": "markdown",
   "metadata": {},
   "source": [
    "当启用hybrid时，执行的查询将是近似语义搜索和基于关键字的搜索的组合。它将使用rrf(互惠等级融合)来平衡来自不同检索方法的两个分数。注意RRF需要Elasticsearch 8.9.0或更高版本。"
   ]
  },
  {
   "cell_type": "markdown",
   "metadata": {},
   "source": [
    "```json\n",
    "{\n",
    "    \"knn\": {\n",
    "        \"field\": \"vector\",\n",
    "        \"filter\": [],\n",
    "        \"k\": 1,\n",
    "        \"num_candidates\": 50,\n",
    "        \"query_vector\": [1.0, ..., 0.0],\n",
    "    },\n",
    "    \"query\": {\n",
    "        \"bool\": {\n",
    "            \"filter\": [],\n",
    "            \"must\": [{\"match\": {\"text\": {\"query\": \"foo\"}}}],\n",
    "        }\n",
    "    },\n",
    "    \"rank\": {\"rrf\": {}},\n",
    "}\n",
    "```"
   ]
  },
  {
   "cell_type": "markdown",
   "metadata": {},
   "source": [
    "### 示例:在Elasticsearch中使用嵌入模型进行密集向量搜索\n",
    "这个示例将展示如何配置ElasticsearchStore，以使用部署在Elasticsearch中的嵌入模型进行密集向量检索。要使用它，通过查询模型id参数在DenseVectorStrategy构造函数中指定模型id。说明该模型需要部署并运行在Elasticsearch ml节点上。关于如何使用eland部署模型，请参阅笔记本示例。"
   ]
  },
  {
   "cell_type": "code",
   "execution_count": 6,
   "metadata": {},
   "outputs": [],
   "source": [
    "DENSE_SELF_DEPLOYED_INDEX_NAME = \"test-dense-self-deployed\"\n",
    "\n",
    "# 注意：这没有指定嵌入函数，相反，我们将使用部署在 Elasticsearch 中的嵌入模型\n",
    "db = ElasticsearchStore(\n",
    "    es_cloud_id=\"e2c70ef1bb04406da4169b5a2af80afd:dXMtY2VudHJhbDEuZ2NwLmNsb3VkLmVzLmlvOjQ0MyQ3NDBjZTVhOGI1OTA0ZWFjYmMxMzhkZWY3Y2IxYmRlOSQ5Zjc0YmUyZDA2NTg0ODcwODlmMzBhMWFhODJmMGE2MQ==\",\n",
    "    es_user=\"elastic\",\n",
    "    es_password=\"uBCEbXYCICojRp0ELUxIUCga\",\n",
    "    index_name=DENSE_SELF_DEPLOYED_INDEX_NAME,\n",
    "    query_field=\"text_field\",\n",
    "    vector_query_field=\"vector_query_field.predicted_value\",\n",
    "    strategy=DenseVectorStrategy(model_id=\"sentence-transformers__all-minilm-l6-v2\"),\n",
    ")\n",
    "\n"
   ]
  },
  {
   "cell_type": "code",
   "execution_count": 7,
   "metadata": {},
   "outputs": [
    {
     "data": {
      "text/plain": [
       "ObjectApiResponse({'acknowledged': True})"
      ]
     },
     "execution_count": 7,
     "metadata": {},
     "output_type": "execute_result"
    }
   ],
   "source": [
    "# 设置一个 Ingest Pipeline 来执行文本字段的嵌入\n",
    "db.client.ingest.put_pipeline(\n",
    "    id=\"test_pipeline\",\n",
    "    processors=[\n",
    "        {\n",
    "            \"inference\": {\n",
    "                \"model_id\": \"sentence-transformers__all-minilm-l6-v2\",\n",
    "                \"field_map\": {\"query_field\": \"text_field\"},\n",
    "                \"target_field\": \"vector_query_field\",\n",
    "            }\n",
    "        }\n",
    "    ],\n",
    ")\n",
    "\n"
   ]
  },
  {
   "cell_type": "code",
   "execution_count": 8,
   "metadata": {},
   "outputs": [
    {
     "data": {
      "text/plain": [
       "ObjectApiResponse({'acknowledged': True, 'shards_acknowledged': True, 'index': 'test-dense-self-deployed'})"
      ]
     },
     "execution_count": 8,
     "metadata": {},
     "output_type": "execute_result"
    }
   ],
   "source": [
    "# 使用管道创建新索引，不依赖 langchain 来创建索引\n",
    "db.client.indices.create(\n",
    "    index=DENSE_SELF_DEPLOYED_INDEX_NAME,\n",
    "    mappings={\n",
    "        \"properties\": {\n",
    "            \"text_field\": {\"type\": \"text\"},\n",
    "            \"vector_query_field\": {\n",
    "                \"properties\": {\n",
    "                    \"predicted_value\": {\n",
    "                        \"type\": \"dense_vector\",\n",
    "                        \"dims\": 384,\n",
    "                        \"index\": True,\n",
    "                        \"similarity\": \"l2_norm\",\n",
    "                    }\n",
    "                }\n",
    "            },\n",
    "        }\n",
    "    },\n",
    "    settings={\"index\": {\"default_pipeline\": \"test_pipeline\"}},\n",
    ")\n",
    "\n"
   ]
  },
  {
   "cell_type": "code",
   "execution_count": 14,
   "metadata": {},
   "outputs": [
    {
     "name": "stdout",
     "output_type": "stream",
     "text": [
      "1 document(s) failed to index.\n"
     ]
    }
   ],
   "source": [
    "try:\n",
    "    db.from_texts(\n",
    "        [\"hello world\"],\n",
    "        es_cloud_id=\"e2c70ef1bb04406da4169b5a2af80afd:dXMtY2VudHJhbDEuZ2NwLmNsb3VkLmVzLmlvOjQ0MyQ3NDBjZTVhOGI1OTA0ZWFjYmMxMzhkZWY3Y2IxYmRlOSQ5Zjc0YmUyZDA2NTg0ODcwODlmMzBhMWFhODJmMGE2MQ==\",\n",
    "        es_user=\"elastic\",\n",
    "        es_password=\"uBCEbXYCICojRp0ELUxIUCga\",\n",
    "        index_name=DENSE_SELF_DEPLOYED_INDEX_NAME,\n",
    "        query_field=\"text_field\",\n",
    "        vector_query_field=\"vector_query_field.predicted_value\",\n",
    "        strategy=DenseVectorStrategy(model_id=\"sentence-transformers__all-minilm-l6-v2\"),\n",
    "    )\n",
    "\n",
    "    # Perform search\n",
    "    db.similarity_search(\"hello world\", k=10)\n",
    "except Exception as e:\n",
    "    print(e)"
   ]
  },
  {
   "cell_type": "markdown",
   "metadata": {},
   "source": [
    "### SparseVectorStrategy (ELSER)\n",
    "此策略使用 Elasticsearch 的稀疏向量检索来检索 top-k 结果。目前我们仅支持我们自己的“ELSER”嵌入模型。\n",
    "\n",
    "注意这需要在 Elasticsearch ml 节点中部署并运行 ELSER 模型。\n",
    "\n",
    "要使用此功能，请在构造函数中指定（在 0.2.0 版本之前`SparseVectorStrategy`调用） 。您需要提供模型ID `SparseVectorRetrievalStrategyElasticsearchStore`"
   ]
  },
  {
   "cell_type": "code",
   "execution_count": 18,
   "metadata": {},
   "outputs": [
    {
     "ename": "NotFoundError",
     "evalue": "NotFoundError(404, 'resource_not_found_exception', 'Could not find trained model [elser_model_2]')",
     "output_type": "error",
     "traceback": [
      "\u001b[0;31m---------------------------------------------------------------------------\u001b[0m",
      "\u001b[0;31mNotFoundError\u001b[0m                             Traceback (most recent call last)",
      "\u001b[1;32m/slurm/home/admin/nlp/DL/10-langchain/Vector stores/Elasticsearch.ipynb 单元格 42\u001b[0m line \u001b[0;36m5\n\u001b[1;32m      <a href='vscode-notebook-cell://ssh-remote%2Badmin/slurm/home/admin/nlp/DL/10-langchain/Vector%20stores/Elasticsearch.ipynb#X62sdnNjb2RlLXJlbW90ZQ%3D%3D?line=0'>1</a>\u001b[0m \u001b[39mfrom\u001b[39;00m \u001b[39mlangchain_elasticsearch\u001b[39;00m \u001b[39mimport\u001b[39;00m SparseVectorStrategy\n\u001b[1;32m      <a href='vscode-notebook-cell://ssh-remote%2Badmin/slurm/home/admin/nlp/DL/10-langchain/Vector%20stores/Elasticsearch.ipynb#X62sdnNjb2RlLXJlbW90ZQ%3D%3D?line=2'>3</a>\u001b[0m \u001b[39m# Note that this example doesn't have an embedding function. This is because we infer the tokens at index time and at query time within Elasticsearch.\u001b[39;00m\n\u001b[1;32m      <a href='vscode-notebook-cell://ssh-remote%2Badmin/slurm/home/admin/nlp/DL/10-langchain/Vector%20stores/Elasticsearch.ipynb#X62sdnNjb2RlLXJlbW90ZQ%3D%3D?line=3'>4</a>\u001b[0m \u001b[39m# This requires the ELSER model to be loaded and running in Elasticsearch.\u001b[39;00m\n\u001b[0;32m----> <a href='vscode-notebook-cell://ssh-remote%2Badmin/slurm/home/admin/nlp/DL/10-langchain/Vector%20stores/Elasticsearch.ipynb#X62sdnNjb2RlLXJlbW90ZQ%3D%3D?line=4'>5</a>\u001b[0m db \u001b[39m=\u001b[39m ElasticsearchStore\u001b[39m.\u001b[39;49mfrom_documents(\n\u001b[1;32m      <a href='vscode-notebook-cell://ssh-remote%2Badmin/slurm/home/admin/nlp/DL/10-langchain/Vector%20stores/Elasticsearch.ipynb#X62sdnNjb2RlLXJlbW90ZQ%3D%3D?line=5'>6</a>\u001b[0m     docs,\n\u001b[1;32m      <a href='vscode-notebook-cell://ssh-remote%2Badmin/slurm/home/admin/nlp/DL/10-langchain/Vector%20stores/Elasticsearch.ipynb#X62sdnNjb2RlLXJlbW90ZQ%3D%3D?line=6'>7</a>\u001b[0m     es_cloud_id\u001b[39m=\u001b[39;49m\u001b[39m\"\u001b[39;49m\u001b[39me2c70ef1bb04406da4169b5a2af80afd:dXMtY2VudHJhbDEuZ2NwLmNsb3VkLmVzLmlvOjQ0MyQ3NDBjZTVhOGI1OTA0ZWFjYmMxMzhkZWY3Y2IxYmRlOSQ5Zjc0YmUyZDA2NTg0ODcwODlmMzBhMWFhODJmMGE2MQ==\u001b[39;49m\u001b[39m\"\u001b[39;49m,\n\u001b[1;32m      <a href='vscode-notebook-cell://ssh-remote%2Badmin/slurm/home/admin/nlp/DL/10-langchain/Vector%20stores/Elasticsearch.ipynb#X62sdnNjb2RlLXJlbW90ZQ%3D%3D?line=7'>8</a>\u001b[0m         es_user\u001b[39m=\u001b[39;49m\u001b[39m\"\u001b[39;49m\u001b[39melastic\u001b[39;49m\u001b[39m\"\u001b[39;49m,\n\u001b[1;32m      <a href='vscode-notebook-cell://ssh-remote%2Badmin/slurm/home/admin/nlp/DL/10-langchain/Vector%20stores/Elasticsearch.ipynb#X62sdnNjb2RlLXJlbW90ZQ%3D%3D?line=8'>9</a>\u001b[0m         es_password\u001b[39m=\u001b[39;49m\u001b[39m\"\u001b[39;49m\u001b[39muBCEbXYCICojRp0ELUxIUCga\u001b[39;49m\u001b[39m\"\u001b[39;49m,\n\u001b[1;32m     <a href='vscode-notebook-cell://ssh-remote%2Badmin/slurm/home/admin/nlp/DL/10-langchain/Vector%20stores/Elasticsearch.ipynb#X62sdnNjb2RlLXJlbW90ZQ%3D%3D?line=9'>10</a>\u001b[0m     index_name\u001b[39m=\u001b[39;49m\u001b[39m\"\u001b[39;49m\u001b[39mtest-elser\u001b[39;49m\u001b[39m\"\u001b[39;49m,\n\u001b[1;32m     <a href='vscode-notebook-cell://ssh-remote%2Badmin/slurm/home/admin/nlp/DL/10-langchain/Vector%20stores/Elasticsearch.ipynb#X62sdnNjb2RlLXJlbW90ZQ%3D%3D?line=10'>11</a>\u001b[0m     strategy\u001b[39m=\u001b[39;49mSparseVectorStrategy(model_id\u001b[39m=\u001b[39;49m\u001b[39m\"\u001b[39;49m\u001b[39melser_model_2\u001b[39;49m\u001b[39m\"\u001b[39;49m),\n\u001b[1;32m     <a href='vscode-notebook-cell://ssh-remote%2Badmin/slurm/home/admin/nlp/DL/10-langchain/Vector%20stores/Elasticsearch.ipynb#X62sdnNjb2RlLXJlbW90ZQ%3D%3D?line=11'>12</a>\u001b[0m )\n\u001b[1;32m     <a href='vscode-notebook-cell://ssh-remote%2Badmin/slurm/home/admin/nlp/DL/10-langchain/Vector%20stores/Elasticsearch.ipynb#X62sdnNjb2RlLXJlbW90ZQ%3D%3D?line=13'>14</a>\u001b[0m db\u001b[39m.\u001b[39mclient\u001b[39m.\u001b[39mindices\u001b[39m.\u001b[39mrefresh(index\u001b[39m=\u001b[39m\u001b[39m\"\u001b[39m\u001b[39mtest-elser\u001b[39m\u001b[39m\"\u001b[39m)\n\u001b[1;32m     <a href='vscode-notebook-cell://ssh-remote%2Badmin/slurm/home/admin/nlp/DL/10-langchain/Vector%20stores/Elasticsearch.ipynb#X62sdnNjb2RlLXJlbW90ZQ%3D%3D?line=15'>16</a>\u001b[0m results \u001b[39m=\u001b[39m db\u001b[39m.\u001b[39msimilarity_search(\n\u001b[1;32m     <a href='vscode-notebook-cell://ssh-remote%2Badmin/slurm/home/admin/nlp/DL/10-langchain/Vector%20stores/Elasticsearch.ipynb#X62sdnNjb2RlLXJlbW90ZQ%3D%3D?line=16'>17</a>\u001b[0m     \u001b[39m\"\u001b[39m\u001b[39mWhat did the president say about Ketanji Brown Jackson\u001b[39m\u001b[39m\"\u001b[39m, k\u001b[39m=\u001b[39m\u001b[39m4\u001b[39m\n\u001b[1;32m     <a href='vscode-notebook-cell://ssh-remote%2Badmin/slurm/home/admin/nlp/DL/10-langchain/Vector%20stores/Elasticsearch.ipynb#X62sdnNjb2RlLXJlbW90ZQ%3D%3D?line=17'>18</a>\u001b[0m )\n",
      "File \u001b[0;32m~/.conda/envs/dl/lib/python3.11/site-packages/langchain_elasticsearch/vectorstores.py:1138\u001b[0m, in \u001b[0;36mElasticsearchStore.from_documents\u001b[0;34m(cls, documents, embedding, bulk_kwargs, **kwargs)\u001b[0m\n\u001b[1;32m   1135\u001b[0m elasticsearchStore \u001b[39m=\u001b[39m ElasticsearchStore(embedding\u001b[39m=\u001b[39membedding, \u001b[39m*\u001b[39m\u001b[39m*\u001b[39mkwargs)\n\u001b[1;32m   1137\u001b[0m \u001b[39m# Encode the provided texts and add them to the newly created index.\u001b[39;00m\n\u001b[0;32m-> 1138\u001b[0m elasticsearchStore\u001b[39m.\u001b[39;49madd_documents(documents, bulk_kwargs\u001b[39m=\u001b[39;49mbulk_kwargs)\n\u001b[1;32m   1140\u001b[0m \u001b[39mreturn\u001b[39;00m elasticsearchStore\n",
      "File \u001b[0;32m~/.conda/envs/dl/lib/python3.11/site-packages/langchain_core/vectorstores/base.py:491\u001b[0m, in \u001b[0;36mVectorStore.add_documents\u001b[0;34m(self, documents, **kwargs)\u001b[0m\n\u001b[1;32m    489\u001b[0m texts \u001b[39m=\u001b[39m [doc\u001b[39m.\u001b[39mpage_content \u001b[39mfor\u001b[39;00m doc \u001b[39min\u001b[39;00m documents]\n\u001b[1;32m    490\u001b[0m metadatas \u001b[39m=\u001b[39m [doc\u001b[39m.\u001b[39mmetadata \u001b[39mfor\u001b[39;00m doc \u001b[39min\u001b[39;00m documents]\n\u001b[0;32m--> 491\u001b[0m \u001b[39mreturn\u001b[39;00m \u001b[39mself\u001b[39;49m\u001b[39m.\u001b[39;49madd_texts(texts, metadatas, \u001b[39m*\u001b[39;49m\u001b[39m*\u001b[39;49mkwargs)\n",
      "File \u001b[0;32m~/.conda/envs/dl/lib/python3.11/site-packages/langchain_elasticsearch/vectorstores.py:978\u001b[0m, in \u001b[0;36mElasticsearchStore.add_texts\u001b[0;34m(self, texts, metadatas, ids, refresh_indices, create_index_if_not_exists, bulk_kwargs, **kwargs)\u001b[0m\n\u001b[1;32m    951\u001b[0m \u001b[39mdef\u001b[39;00m \u001b[39madd_texts\u001b[39m(\n\u001b[1;32m    952\u001b[0m     \u001b[39mself\u001b[39m,\n\u001b[1;32m    953\u001b[0m     texts: Iterable[\u001b[39mstr\u001b[39m],\n\u001b[0;32m   (...)\u001b[0m\n\u001b[1;32m    959\u001b[0m     \u001b[39m*\u001b[39m\u001b[39m*\u001b[39mkwargs: Any,\n\u001b[1;32m    960\u001b[0m ) \u001b[39m-\u001b[39m\u001b[39m>\u001b[39m List[\u001b[39mstr\u001b[39m]:\n\u001b[1;32m    961\u001b[0m \u001b[39m    \u001b[39m\u001b[39m\"\"\"Run more texts through the embeddings and add to the store.\u001b[39;00m\n\u001b[1;32m    962\u001b[0m \n\u001b[1;32m    963\u001b[0m \u001b[39m    Args:\u001b[39;00m\n\u001b[0;32m   (...)\u001b[0m\n\u001b[1;32m    976\u001b[0m \u001b[39m        List of ids from adding the texts into the store.\u001b[39;00m\n\u001b[1;32m    977\u001b[0m \u001b[39m    \"\"\"\u001b[39;00m\n\u001b[0;32m--> 978\u001b[0m     \u001b[39mreturn\u001b[39;00m \u001b[39mself\u001b[39;49m\u001b[39m.\u001b[39;49m_store\u001b[39m.\u001b[39;49madd_texts(\n\u001b[1;32m    979\u001b[0m         texts\u001b[39m=\u001b[39;49m\u001b[39mlist\u001b[39;49m(texts),\n\u001b[1;32m    980\u001b[0m         metadatas\u001b[39m=\u001b[39;49mmetadatas,\n\u001b[1;32m    981\u001b[0m         ids\u001b[39m=\u001b[39;49mids,\n\u001b[1;32m    982\u001b[0m         refresh_indices\u001b[39m=\u001b[39;49mrefresh_indices,\n\u001b[1;32m    983\u001b[0m         create_index_if_not_exists\u001b[39m=\u001b[39;49mcreate_index_if_not_exists,\n\u001b[1;32m    984\u001b[0m         bulk_kwargs\u001b[39m=\u001b[39;49mbulk_kwargs,\n\u001b[1;32m    985\u001b[0m     )\n",
      "File \u001b[0;32m~/.conda/envs/dl/lib/python3.11/site-packages/elasticsearch/helpers/vectorstore/_sync/vectorstore.py:128\u001b[0m, in \u001b[0;36mVectorStore.add_texts\u001b[0;34m(self, texts, metadatas, vectors, ids, refresh_indices, create_index_if_not_exists, bulk_kwargs)\u001b[0m\n\u001b[1;32m    125\u001b[0m requests \u001b[39m=\u001b[39m []\n\u001b[1;32m    127\u001b[0m \u001b[39mif\u001b[39;00m create_index_if_not_exists:\n\u001b[0;32m--> 128\u001b[0m     \u001b[39mself\u001b[39;49m\u001b[39m.\u001b[39;49m_create_index_if_not_exists()\n\u001b[1;32m    130\u001b[0m \u001b[39mif\u001b[39;00m \u001b[39mself\u001b[39m\u001b[39m.\u001b[39membedding_service \u001b[39mand\u001b[39;00m \u001b[39mnot\u001b[39;00m vectors:\n\u001b[1;32m    131\u001b[0m     vectors \u001b[39m=\u001b[39m \u001b[39mself\u001b[39m\u001b[39m.\u001b[39membedding_service\u001b[39m.\u001b[39membed_documents(texts)\n",
      "File \u001b[0;32m~/.conda/envs/dl/lib/python3.11/site-packages/elasticsearch/helpers/vectorstore/_sync/vectorstore.py:315\u001b[0m, in \u001b[0;36mVectorStore._create_index_if_not_exists\u001b[0;34m(self)\u001b[0m\n\u001b[1;32m    312\u001b[0m     metadata \u001b[39m=\u001b[39m \u001b[39mdict\u001b[39m(\u001b[39m*\u001b[39m\u001b[39m*\u001b[39mmetadata[\u001b[39m\"\u001b[39m\u001b[39mproperties\u001b[39m\u001b[39m\"\u001b[39m], \u001b[39m*\u001b[39m\u001b[39m*\u001b[39m\u001b[39mself\u001b[39m\u001b[39m.\u001b[39mmetadata_mappings)\n\u001b[1;32m    313\u001b[0m     mappings[\u001b[39m\"\u001b[39m\u001b[39mproperties\u001b[39m\u001b[39m\"\u001b[39m][\u001b[39m\"\u001b[39m\u001b[39mmetadata\u001b[39m\u001b[39m\"\u001b[39m] \u001b[39m=\u001b[39m {\u001b[39m\"\u001b[39m\u001b[39mproperties\u001b[39m\u001b[39m\"\u001b[39m: metadata}\n\u001b[0;32m--> 315\u001b[0m \u001b[39mself\u001b[39;49m\u001b[39m.\u001b[39;49mretrieval_strategy\u001b[39m.\u001b[39;49mbefore_index_creation(\n\u001b[1;32m    316\u001b[0m     client\u001b[39m=\u001b[39;49m\u001b[39mself\u001b[39;49m\u001b[39m.\u001b[39;49mclient,\n\u001b[1;32m    317\u001b[0m     text_field\u001b[39m=\u001b[39;49m\u001b[39mself\u001b[39;49m\u001b[39m.\u001b[39;49mtext_field,\n\u001b[1;32m    318\u001b[0m     vector_field\u001b[39m=\u001b[39;49m\u001b[39mself\u001b[39;49m\u001b[39m.\u001b[39;49mvector_field,\n\u001b[1;32m    319\u001b[0m )\n\u001b[1;32m    320\u001b[0m \u001b[39mself\u001b[39m\u001b[39m.\u001b[39mclient\u001b[39m.\u001b[39mindices\u001b[39m.\u001b[39mcreate(\n\u001b[1;32m    321\u001b[0m     index\u001b[39m=\u001b[39m\u001b[39mself\u001b[39m\u001b[39m.\u001b[39mindex, mappings\u001b[39m=\u001b[39mmappings, settings\u001b[39m=\u001b[39msettings\n\u001b[1;32m    322\u001b[0m )\n",
      "File \u001b[0;32m~/.conda/envs/dl/lib/python3.11/site-packages/elasticsearch/helpers/vectorstore/_sync/strategies.py:165\u001b[0m, in \u001b[0;36mSparseVectorStrategy.before_index_creation\u001b[0;34m(self, client, text_field, vector_field)\u001b[0m\n\u001b[1;32m    161\u001b[0m \u001b[39mdef\u001b[39;00m \u001b[39mbefore_index_creation\u001b[39m(\n\u001b[1;32m    162\u001b[0m     \u001b[39mself\u001b[39m, \u001b[39m*\u001b[39m, client: Elasticsearch, text_field: \u001b[39mstr\u001b[39m, vector_field: \u001b[39mstr\u001b[39m\n\u001b[1;32m    163\u001b[0m ) \u001b[39m-\u001b[39m\u001b[39m>\u001b[39m \u001b[39mNone\u001b[39;00m:\n\u001b[1;32m    164\u001b[0m     \u001b[39mif\u001b[39;00m \u001b[39mself\u001b[39m\u001b[39m.\u001b[39mmodel_id:\n\u001b[0;32m--> 165\u001b[0m         model_must_be_deployed(client, \u001b[39mself\u001b[39;49m\u001b[39m.\u001b[39;49mmodel_id)\n\u001b[1;32m    167\u001b[0m         \u001b[39m# Create a pipeline for the model\u001b[39;00m\n\u001b[1;32m    168\u001b[0m         client\u001b[39m.\u001b[39mingest\u001b[39m.\u001b[39mput_pipeline(\n\u001b[1;32m    169\u001b[0m             \u001b[39mid\u001b[39m\u001b[39m=\u001b[39m\u001b[39mself\u001b[39m\u001b[39m.\u001b[39m_pipeline_name,\n\u001b[1;32m    170\u001b[0m             description\u001b[39m=\u001b[39m\u001b[39m\"\u001b[39m\u001b[39mEmbedding pipeline for Python VectorStore\u001b[39m\u001b[39m\"\u001b[39m,\n\u001b[0;32m   (...)\u001b[0m\n\u001b[1;32m    182\u001b[0m             ],\n\u001b[1;32m    183\u001b[0m         )\n",
      "File \u001b[0;32m~/.conda/envs/dl/lib/python3.11/site-packages/elasticsearch/helpers/vectorstore/_sync/_utils.py:28\u001b[0m, in \u001b[0;36mmodel_must_be_deployed\u001b[0;34m(client, model_id)\u001b[0m\n\u001b[1;32m     26\u001b[0m doc \u001b[39m=\u001b[39m {\u001b[39m\"\u001b[39m\u001b[39mtext_field\u001b[39m\u001b[39m\"\u001b[39m: \u001b[39mf\u001b[39m\u001b[39m\"\u001b[39m\u001b[39mtest if the model \u001b[39m\u001b[39m'\u001b[39m\u001b[39m{\u001b[39;00mmodel_id\u001b[39m}\u001b[39;00m\u001b[39m'\u001b[39m\u001b[39m is deployed\u001b[39m\u001b[39m\"\u001b[39m}\n\u001b[1;32m     27\u001b[0m \u001b[39mtry\u001b[39;00m:\n\u001b[0;32m---> 28\u001b[0m     client\u001b[39m.\u001b[39;49mml\u001b[39m.\u001b[39;49minfer_trained_model(model_id\u001b[39m=\u001b[39;49mmodel_id, docs\u001b[39m=\u001b[39;49m[doc])\n\u001b[1;32m     29\u001b[0m \u001b[39mexcept\u001b[39;00m BadRequestError:\n\u001b[1;32m     30\u001b[0m     \u001b[39m# The model is deployed but expects a different input field name.\u001b[39;00m\n\u001b[1;32m     31\u001b[0m     \u001b[39mpass\u001b[39;00m\n",
      "File \u001b[0;32m~/.conda/envs/dl/lib/python3.11/site-packages/elasticsearch/_sync/client/utils.py:446\u001b[0m, in \u001b[0;36m_rewrite_parameters.<locals>.wrapper.<locals>.wrapped\u001b[0;34m(*args, **kwargs)\u001b[0m\n\u001b[1;32m    443\u001b[0m         \u001b[39mexcept\u001b[39;00m \u001b[39mKeyError\u001b[39;00m:\n\u001b[1;32m    444\u001b[0m             \u001b[39mpass\u001b[39;00m\n\u001b[0;32m--> 446\u001b[0m \u001b[39mreturn\u001b[39;00m api(\u001b[39m*\u001b[39;49margs, \u001b[39m*\u001b[39;49m\u001b[39m*\u001b[39;49mkwargs)\n",
      "File \u001b[0;32m~/.conda/envs/dl/lib/python3.11/site-packages/elasticsearch/_sync/client/ml.py:2576\u001b[0m, in \u001b[0;36mMlClient.infer_trained_model\u001b[0;34m(self, model_id, docs, error_trace, filter_path, human, inference_config, pretty, timeout, body)\u001b[0m\n\u001b[1;32m   2574\u001b[0m         __body[\u001b[39m\"\u001b[39m\u001b[39minference_config\u001b[39m\u001b[39m\"\u001b[39m] \u001b[39m=\u001b[39m inference_config\n\u001b[1;32m   2575\u001b[0m __headers \u001b[39m=\u001b[39m {\u001b[39m\"\u001b[39m\u001b[39maccept\u001b[39m\u001b[39m\"\u001b[39m: \u001b[39m\"\u001b[39m\u001b[39mapplication/json\u001b[39m\u001b[39m\"\u001b[39m, \u001b[39m\"\u001b[39m\u001b[39mcontent-type\u001b[39m\u001b[39m\"\u001b[39m: \u001b[39m\"\u001b[39m\u001b[39mapplication/json\u001b[39m\u001b[39m\"\u001b[39m}\n\u001b[0;32m-> 2576\u001b[0m \u001b[39mreturn\u001b[39;00m \u001b[39mself\u001b[39;49m\u001b[39m.\u001b[39;49mperform_request(  \u001b[39m# type: ignore[return-value]\u001b[39;49;00m\n\u001b[1;32m   2577\u001b[0m     \u001b[39m\"\u001b[39;49m\u001b[39mPOST\u001b[39;49m\u001b[39m\"\u001b[39;49m,\n\u001b[1;32m   2578\u001b[0m     __path,\n\u001b[1;32m   2579\u001b[0m     params\u001b[39m=\u001b[39;49m__query,\n\u001b[1;32m   2580\u001b[0m     headers\u001b[39m=\u001b[39;49m__headers,\n\u001b[1;32m   2581\u001b[0m     body\u001b[39m=\u001b[39;49m__body,\n\u001b[1;32m   2582\u001b[0m     endpoint_id\u001b[39m=\u001b[39;49m\u001b[39m\"\u001b[39;49m\u001b[39mml.infer_trained_model\u001b[39;49m\u001b[39m\"\u001b[39;49m,\n\u001b[1;32m   2583\u001b[0m     path_parts\u001b[39m=\u001b[39;49m__path_parts,\n\u001b[1;32m   2584\u001b[0m )\n",
      "File \u001b[0;32m~/.conda/envs/dl/lib/python3.11/site-packages/elasticsearch/_sync/client/_base.py:423\u001b[0m, in \u001b[0;36mNamespacedClient.perform_request\u001b[0;34m(self, method, path, params, headers, body, endpoint_id, path_parts)\u001b[0m\n\u001b[1;32m    410\u001b[0m \u001b[39mdef\u001b[39;00m \u001b[39mperform_request\u001b[39m(\n\u001b[1;32m    411\u001b[0m     \u001b[39mself\u001b[39m,\n\u001b[1;32m    412\u001b[0m     method: \u001b[39mstr\u001b[39m,\n\u001b[0;32m   (...)\u001b[0m\n\u001b[1;32m    421\u001b[0m     \u001b[39m# Use the internal clients .perform_request() implementation\u001b[39;00m\n\u001b[1;32m    422\u001b[0m     \u001b[39m# so we take advantage of their transport options.\u001b[39;00m\n\u001b[0;32m--> 423\u001b[0m     \u001b[39mreturn\u001b[39;00m \u001b[39mself\u001b[39;49m\u001b[39m.\u001b[39;49m_client\u001b[39m.\u001b[39;49mperform_request(\n\u001b[1;32m    424\u001b[0m         method,\n\u001b[1;32m    425\u001b[0m         path,\n\u001b[1;32m    426\u001b[0m         params\u001b[39m=\u001b[39;49mparams,\n\u001b[1;32m    427\u001b[0m         headers\u001b[39m=\u001b[39;49mheaders,\n\u001b[1;32m    428\u001b[0m         body\u001b[39m=\u001b[39;49mbody,\n\u001b[1;32m    429\u001b[0m         endpoint_id\u001b[39m=\u001b[39;49mendpoint_id,\n\u001b[1;32m    430\u001b[0m         path_parts\u001b[39m=\u001b[39;49mpath_parts,\n\u001b[1;32m    431\u001b[0m     )\n",
      "File \u001b[0;32m~/.conda/envs/dl/lib/python3.11/site-packages/elasticsearch/_sync/client/_base.py:271\u001b[0m, in \u001b[0;36mBaseClient.perform_request\u001b[0;34m(self, method, path, params, headers, body, endpoint_id, path_parts)\u001b[0m\n\u001b[1;32m    255\u001b[0m \u001b[39mdef\u001b[39;00m \u001b[39mperform_request\u001b[39m(\n\u001b[1;32m    256\u001b[0m     \u001b[39mself\u001b[39m,\n\u001b[1;32m    257\u001b[0m     method: \u001b[39mstr\u001b[39m,\n\u001b[0;32m   (...)\u001b[0m\n\u001b[1;32m    264\u001b[0m     path_parts: Optional[Mapping[\u001b[39mstr\u001b[39m, Any]] \u001b[39m=\u001b[39m \u001b[39mNone\u001b[39;00m,\n\u001b[1;32m    265\u001b[0m ) \u001b[39m-\u001b[39m\u001b[39m>\u001b[39m ApiResponse[Any]:\n\u001b[1;32m    266\u001b[0m     \u001b[39mwith\u001b[39;00m \u001b[39mself\u001b[39m\u001b[39m.\u001b[39m_otel\u001b[39m.\u001b[39mspan(\n\u001b[1;32m    267\u001b[0m         method,\n\u001b[1;32m    268\u001b[0m         endpoint_id\u001b[39m=\u001b[39mendpoint_id,\n\u001b[1;32m    269\u001b[0m         path_parts\u001b[39m=\u001b[39mpath_parts \u001b[39mor\u001b[39;00m {},\n\u001b[1;32m    270\u001b[0m     ) \u001b[39mas\u001b[39;00m otel_span:\n\u001b[0;32m--> 271\u001b[0m         response \u001b[39m=\u001b[39m \u001b[39mself\u001b[39;49m\u001b[39m.\u001b[39;49m_perform_request(\n\u001b[1;32m    272\u001b[0m             method,\n\u001b[1;32m    273\u001b[0m             path,\n\u001b[1;32m    274\u001b[0m             params\u001b[39m=\u001b[39;49mparams,\n\u001b[1;32m    275\u001b[0m             headers\u001b[39m=\u001b[39;49mheaders,\n\u001b[1;32m    276\u001b[0m             body\u001b[39m=\u001b[39;49mbody,\n\u001b[1;32m    277\u001b[0m             otel_span\u001b[39m=\u001b[39;49motel_span,\n\u001b[1;32m    278\u001b[0m         )\n\u001b[1;32m    279\u001b[0m         otel_span\u001b[39m.\u001b[39mset_elastic_cloud_metadata(response\u001b[39m.\u001b[39mmeta\u001b[39m.\u001b[39mheaders)\n\u001b[1;32m    280\u001b[0m         \u001b[39mreturn\u001b[39;00m response\n",
      "File \u001b[0;32m~/.conda/envs/dl/lib/python3.11/site-packages/elasticsearch/_sync/client/_base.py:352\u001b[0m, in \u001b[0;36mBaseClient._perform_request\u001b[0;34m(self, method, path, params, headers, body, otel_span)\u001b[0m\n\u001b[1;32m    349\u001b[0m         \u001b[39mexcept\u001b[39;00m (\u001b[39mValueError\u001b[39;00m, \u001b[39mKeyError\u001b[39;00m, \u001b[39mTypeError\u001b[39;00m):\n\u001b[1;32m    350\u001b[0m             \u001b[39mpass\u001b[39;00m\n\u001b[0;32m--> 352\u001b[0m     \u001b[39mraise\u001b[39;00m HTTP_EXCEPTIONS\u001b[39m.\u001b[39mget(meta\u001b[39m.\u001b[39mstatus, ApiError)(\n\u001b[1;32m    353\u001b[0m         message\u001b[39m=\u001b[39mmessage, meta\u001b[39m=\u001b[39mmeta, body\u001b[39m=\u001b[39mresp_body\n\u001b[1;32m    354\u001b[0m     )\n\u001b[1;32m    356\u001b[0m \u001b[39m# 'X-Elastic-Product: Elasticsearch' should be on every 2XX response.\u001b[39;00m\n\u001b[1;32m    357\u001b[0m \u001b[39mif\u001b[39;00m \u001b[39mnot\u001b[39;00m \u001b[39mself\u001b[39m\u001b[39m.\u001b[39m_verified_elasticsearch:\n\u001b[1;32m    358\u001b[0m     \u001b[39m# If the header is set we mark the server as verified.\u001b[39;00m\n",
      "\u001b[0;31mNotFoundError\u001b[0m: NotFoundError(404, 'resource_not_found_exception', 'Could not find trained model [elser_model_2]')"
     ]
    }
   ],
   "source": [
    "from langchain_elasticsearch import SparseVectorStrategy\n",
    "\n",
    "# Note that this example doesn't have an embedding function. This is because we infer the tokens at index time and at query time within Elasticsearch.\n",
    "# This requires the ELSER model to be loaded and running in Elasticsearch.\n",
    "db = ElasticsearchStore.from_documents(\n",
    "    docs,\n",
    "    es_cloud_id=\"e2c70ef1bb04406da4169b5a2af80afd:dXMtY2VudHJhbDEuZ2NwLmNsb3VkLmVzLmlvOjQ0MyQ3NDBjZTVhOGI1OTA0ZWFjYmMxMzhkZWY3Y2IxYmRlOSQ5Zjc0YmUyZDA2NTg0ODcwODlmMzBhMWFhODJmMGE2MQ==\",\n",
    "        es_user=\"elastic\",\n",
    "        es_password=\"uBCEbXYCICojRp0ELUxIUCga\",\n",
    "    index_name=\"test-elser\",\n",
    "    strategy=SparseVectorStrategy(model_id=\"elser_model_2\"),\n",
    ")\n",
    "\n",
    "db.client.indices.refresh(index=\"test-elser\")\n",
    "\n",
    "results = db.similarity_search(\n",
    "    \"What did the president say about Ketanji Brown Jackson\", k=4\n",
    ")\n",
    "print(results[0])"
   ]
  },
  {
   "cell_type": "markdown",
   "metadata": {},
   "source": [
    "### DenseVectorScriptScoreStrategy\n",
    "该策略使用Elasticsearch的脚本分数查询执行精确向量检索(也称为蛮力)来检索top-k结果。(这个策略在0.2.0版本之前被称为`ExactRetrievalStrategy`。)\n",
    "要使用它，在ElasticsearchStore构造函数中指定`DenseVectorScriptScoreStrategy`。"
   ]
  },
  {
   "cell_type": "code",
   "execution_count": null,
   "metadata": {},
   "outputs": [],
   "source": [
    "from langchain_elasticsearch import DenseVectorScriptScoreStrategy\n",
    "\n",
    "db = ElasticsearchStore.from_documents(\n",
    "    docs, \n",
    "    embeddings, \n",
    "    es_url=\"http://localhost:9200\", \n",
    "    index_name=\"test\",\n",
    "    strategy=DenseVectorScriptScoreStrategy(),\n",
    ")"
   ]
  },
  {
   "cell_type": "markdown",
   "metadata": {},
   "source": [
    "### BM25Strategy\n",
    "最后，您可以使用全文关键字搜索。\n",
    "\n",
    "要使用它，在ElasticsearchStore构造函数中指定`BM25Strategy`。"
   ]
  },
  {
   "cell_type": "code",
   "execution_count": 19,
   "metadata": {},
   "outputs": [],
   "source": [
    "from langchain_elasticsearch import BM25Strategy\n",
    "\n",
    "db = ElasticsearchStore.from_documents(\n",
    "    docs, \n",
    "    es_url=\"http://36.150.110.168:9200\", \n",
    "    index_name=\"test\",\n",
    "    strategy=BM25Strategy(),\n",
    ")"
   ]
  },
  {
   "cell_type": "markdown",
   "metadata": {},
   "source": [
    "#### BM25RetrievalStrategy\n",
    "\n",
    "该策略允许用户使用纯 BM25 进行搜索，而无需向量搜索。\n",
    "\n",
    "要使用它，请BM25RetrievalStrategy在ElasticsearchStore构造函数中指定。\n",
    "\n",
    "请注意，在下面的示例中，未指定嵌入选项，这表明搜索是在不使用嵌入的情况下进行的。"
   ]
  },
  {
   "cell_type": "code",
   "execution_count": 2,
   "metadata": {},
   "outputs": [
    {
     "name": "stdout",
     "output_type": "stream",
     "text": [
      "[Document(page_content='foo'), Document(page_content='foo'), Document(page_content='foo bar'), Document(page_content='foo bar'), Document(page_content='foo bar baz'), Document(page_content='foo bar baz')]\n"
     ]
    }
   ],
   "source": [
    "\n",
    "\n",
    "from langchain_elasticsearch import ElasticsearchStore\n",
    "\n",
    "db = ElasticsearchStore(\n",
    "    es_url=\"http://36.150.110.168:9200\",\n",
    "    index_name=\"test_index\",\n",
    "    strategy=ElasticsearchStore.BM25RetrievalStrategy(),\n",
    ")\n",
    "\n",
    "db.add_texts(\n",
    "    [\"foo\", \"foo bar\", \"foo bar baz\", \"bar\", \"bar baz\", \"baz\"],\n",
    ")\n",
    "\n",
    "results = db.similarity_search(query=\"foo\", k=10)\n",
    "print(results)"
   ]
  },
  {
   "cell_type": "markdown",
   "metadata": {},
   "source": [
    "### 自定义查询\n",
    "在搜索中使用自定义查询参数，您可以调整用于从Elasticsearch检索文档的查询。如果您想使用更复杂的查询，以支持字段的线性提升，这将非常有用。"
   ]
  },
  {
   "cell_type": "code",
   "execution_count": 7,
   "metadata": {},
   "outputs": [
    {
     "name": "stdout",
     "output_type": "stream",
     "text": [
      "Query Retriever created by the retrieval strategy:\n",
      "{'query': {'bool': {'must': [{'match': {'text': {'query': 'foo'}}}], 'filter': []}}}\n",
      "\n",
      "Query thats actually used in Elasticsearch:\n",
      "{'query': {'match': {'text': 'foo'}}}\n",
      "\n",
      "Results:\n",
      "[Document(page_content='foo'), Document(page_content='foo'), Document(page_content='foo bar'), Document(page_content='foo bar')]\n"
     ]
    }
   ],
   "source": [
    "# Example of a custom query thats just doing a BM25 search on the text field.\n",
    "def custom_query(query_body: dict, query: str):\n",
    "    \"\"\"Custom query to be used in Elasticsearch.\n",
    "    Args:\n",
    "        query_body (dict): Elasticsearch query body.\n",
    "        query (str): Query string.\n",
    "    Returns:\n",
    "        dict: Elasticsearch query body.\n",
    "    \"\"\"\n",
    "    print(\"Query Retriever created by the retrieval strategy:\")\n",
    "    print(query_body)\n",
    "    print()\n",
    "\n",
    "    new_query_body = {\"query\": {\"match\": {\"text\": query}}}\n",
    "\n",
    "    print(\"Query thats actually used in Elasticsearch:\")\n",
    "    print(new_query_body)\n",
    "    print()\n",
    "\n",
    "    return new_query_body\n",
    "\n",
    "results = db.similarity_search(\n",
    "    \"foo\",\n",
    "    k=4,\n",
    "    custom_query=custom_query,\n",
    ")\n",
    "print(\"Results:\")\n",
    "print(results)"
   ]
  },
  {
   "cell_type": "markdown",
   "metadata": {},
   "source": [
    "#### 自定义文档生成器\n",
    "在搜索中使用文档构建器参数，您可以调整如何使用从Elasticsearch检索的数据构建文档。如果索引不是使用Langchain创建的，这一点特别有用。\n",
    "\n",
    "\n"
   ]
  },
  {
   "cell_type": "code",
   "execution_count": 9,
   "metadata": {},
   "outputs": [
    {
     "name": "stdout",
     "output_type": "stream",
     "text": [
      "hit {'_index': 'test_index', '_id': '262b8336-910e-4444-aead-eb87293d2534', '_score': 0.8287628, '_source': {'metadata': {}, 'text': 'foo'}}\n",
      "hit {'_index': 'test_index', '_id': '2ca5a718-028d-4b4f-b79d-c47a95984698', '_score': 0.8287628, '_source': {'metadata': {}, 'text': 'foo'}}\n",
      "hit {'_index': 'test_index', '_id': '0b7a994d-5599-4548-b9fe-9a732dbe910f', '_score': 0.64072424, '_source': {'metadata': {}, 'text': 'foo bar'}}\n",
      "hit {'_index': 'test_index', '_id': '74ab7279-6886-40fe-b981-776de99c2239', '_score': 0.64072424, '_source': {'metadata': {}, 'text': 'foo bar'}}\n",
      "Results:\n",
      "page_content='Missing content!' metadata={'page_number': -1, 'original_filename': 'Missing filename!'}\n"
     ]
    }
   ],
   "source": [
    "from typing import Dict\n",
    "\n",
    "from langchain_core.documents import Document\n",
    "\n",
    "\n",
    "def custom_document_builder(hit: Dict) -> Document:\n",
    "    print(\"hit\", hit)\n",
    "    src = hit.get(\"_source\", {})\n",
    "    return Document(\n",
    "        page_content=src.get(\"content\", \"Missing content!\"),\n",
    "        metadata={\n",
    "            \"page_number\": src.get(\"page_number\", -1),\n",
    "            \"original_filename\": src.get(\"original_filename\", \"Missing filename!\"),\n",
    "        },\n",
    "    )\n",
    "\n",
    "\n",
    "results = db.similarity_search(\n",
    "    \"foo\",\n",
    "    k=4,\n",
    "    doc_builder=custom_document_builder,\n",
    ")\n",
    "print(\"Results:\")\n",
    "print(results[0])"
   ]
  },
  {
   "cell_type": "markdown",
   "metadata": {},
   "source": [
    "## 常见\n",
    "\n",
    "问题:当索引文档到Elasticsearch时，我得到超时错误。我该如何解决这个问题\n",
    "\n",
    "一个可能的问题是您的文档可能需要更长的时间来索引到Elasticsearch。ElasticsearchStore使用Elasticsearch批量API，它有一些默认值，你可以调整以减少超时错误的机会。当您使用SparseVectorRetrievalStrategy时，这也是一个好主意。默认值为\n",
    "\n",
    "- chunk_size: 500\n",
    "- max_chunk_bytes: 100MB\n",
    "\n",
    "要调整这些，您可以将`chunk_size`和`max_chunk_bytes`参数传递给 ElasticsearchStore`add_texts`方法。"
   ]
  },
  {
   "cell_type": "markdown",
   "metadata": {},
   "source": [
    "```json\n",
    "    vector_store.add_texts(\n",
    "        texts,\n",
    "        bulk_kwargs={\n",
    "            \"chunk_size\": 50,\n",
    "            \"max_chunk_bytes\": 200000000\n",
    "        }\n",
    "    )\n",
    "```"
   ]
  },
  {
   "cell_type": "markdown",
   "metadata": {},
   "source": [
    "### 升级到 ElasticsearchStore\n",
    "如果您已经在基于 langchain 的项目中使用了 Elasticsearch，那么您可能正在使用旧实现：ElasticVectorSearch和，ElasticKNNSearch这两个实现现已弃用。我们引入了一个名为的新实现，ElasticsearchStore它更加灵活且更易于使用。本笔记本将指导您完成升级到新实现的过程。\n",
    "\n",
    "\n",
    "新的实现现在是一个类ElasticsearchStore，可以通过策略用于近似密集向量、精确密集向量、稀疏向量（ELSER）、BM25 检索和混合检索。"
   ]
  },
  {
   "cell_type": "markdown",
   "metadata": {},
   "source": [
    "### I am using ElasticKNNSearch"
   ]
  },
  {
   "cell_type": "code",
   "execution_count": null,
   "metadata": {},
   "outputs": [],
   "source": [
    "## 旧的实现\n",
    "from langchain_community.vectorstores.elastic_vector_search import ElasticKNNSearch\n",
    "\n",
    "db = ElasticKNNSearch(\n",
    "  elasticsearch_url=\"http://localhost:9200\",\n",
    "  index_name=\"test_index\",\n",
    "  embedding=embedding\n",
    ")\n"
   ]
  },
  {
   "cell_type": "code",
   "execution_count": null,
   "metadata": {},
   "outputs": [],
   "source": [
    "## 新的实现 \n",
    "\n",
    "from langchain_elasticsearch import ElasticsearchStore, DenseVectorStrategy\n",
    "\n",
    "db = ElasticsearchStore(\n",
    "  es_url=\"http://localhost:9200\",\n",
    "  index_name=\"test_index\",\n",
    "  embedding=embedding,\n",
    "  # if you use the model_id\n",
    "  # strategy=DenseVectorStrategy(model_id=\"test_model\")\n",
    "  # if you use hybrid search\n",
    "  # strategy=DenseVectorStrategy(hybrid=True)\n",
    ")"
   ]
  },
  {
   "cell_type": "markdown",
   "metadata": {},
   "source": [
    "## ElasticVectorSearch\n"
   ]
  },
  {
   "cell_type": "code",
   "execution_count": null,
   "metadata": {},
   "outputs": [],
   "source": [
    "## 旧的实现\n",
    "\n",
    "from langchain_community.vectorstores.elastic_vector_search import ElasticVectorSearch\n",
    "\n",
    "db = ElasticVectorSearch(\n",
    "  elasticsearch_url=\"http://localhost:9200\",\n",
    "  index_name=\"test_index\",\n",
    "  embedding=embedding\n",
    ")\n"
   ]
  },
  {
   "cell_type": "code",
   "execution_count": null,
   "metadata": {},
   "outputs": [],
   "source": [
    "## 新的实现 \n",
    "from langchain_elasticsearch import ElasticsearchStore, DenseVectorScriptScoreStrategy\n",
    "\n",
    "db = ElasticsearchStore(\n",
    "  es_url=\"http://localhost:9200\",\n",
    "  index_name=\"test_index\",\n",
    "  embedding=embedding,\n",
    "  strategy=DenseVectorScriptScoreStrategy()\n",
    ")"
   ]
  },
  {
   "cell_type": "markdown",
   "metadata": {},
   "source": [
    "## 删除索引\n",
    "\n"
   ]
  },
  {
   "cell_type": "code",
   "execution_count": 11,
   "metadata": {},
   "outputs": [
    {
     "ename": "ConnectionTimeout",
     "evalue": "Connection timed out",
     "output_type": "error",
     "traceback": [
      "\u001b[0;31m---------------------------------------------------------------------------\u001b[0m",
      "\u001b[0;31mConnectionTimeout\u001b[0m                         Traceback (most recent call last)",
      "\u001b[1;32m/slurm/home/admin/nlp/DL/10-langchain/Vector stores/Elasticsearch.ipynb 单元格 63\u001b[0m line \u001b[0;36m1\n\u001b[0;32m----> <a href='vscode-notebook-cell://ssh-remote%2Badmin/slurm/home/admin/nlp/DL/10-langchain/Vector%20stores/Elasticsearch.ipynb#Y124sdnNjb2RlLXJlbW90ZQ%3D%3D?line=0'>1</a>\u001b[0m db\u001b[39m.\u001b[39;49mclient\u001b[39m.\u001b[39;49mindices\u001b[39m.\u001b[39;49mdelete(\n\u001b[1;32m      <a href='vscode-notebook-cell://ssh-remote%2Badmin/slurm/home/admin/nlp/DL/10-langchain/Vector%20stores/Elasticsearch.ipynb#Y124sdnNjb2RlLXJlbW90ZQ%3D%3D?line=1'>2</a>\u001b[0m     index\u001b[39m=\u001b[39;49m\u001b[39m\"\u001b[39;49m\u001b[39mtest-metadata, test-elser, test-basic\u001b[39;49m\u001b[39m\"\u001b[39;49m,\n\u001b[1;32m      <a href='vscode-notebook-cell://ssh-remote%2Badmin/slurm/home/admin/nlp/DL/10-langchain/Vector%20stores/Elasticsearch.ipynb#Y124sdnNjb2RlLXJlbW90ZQ%3D%3D?line=2'>3</a>\u001b[0m     ignore_unavailable\u001b[39m=\u001b[39;49m\u001b[39mTrue\u001b[39;49;00m,\n\u001b[1;32m      <a href='vscode-notebook-cell://ssh-remote%2Badmin/slurm/home/admin/nlp/DL/10-langchain/Vector%20stores/Elasticsearch.ipynb#Y124sdnNjb2RlLXJlbW90ZQ%3D%3D?line=3'>4</a>\u001b[0m     allow_no_indices\u001b[39m=\u001b[39;49m\u001b[39mTrue\u001b[39;49;00m,\n\u001b[1;32m      <a href='vscode-notebook-cell://ssh-remote%2Badmin/slurm/home/admin/nlp/DL/10-langchain/Vector%20stores/Elasticsearch.ipynb#Y124sdnNjb2RlLXJlbW90ZQ%3D%3D?line=4'>5</a>\u001b[0m )\n",
      "File \u001b[0;32m~/.conda/envs/dl/lib/python3.11/site-packages/elasticsearch/_sync/client/utils.py:446\u001b[0m, in \u001b[0;36m_rewrite_parameters.<locals>.wrapper.<locals>.wrapped\u001b[0;34m(*args, **kwargs)\u001b[0m\n\u001b[1;32m    443\u001b[0m         \u001b[39mexcept\u001b[39;00m \u001b[39mKeyError\u001b[39;00m:\n\u001b[1;32m    444\u001b[0m             \u001b[39mpass\u001b[39;00m\n\u001b[0;32m--> 446\u001b[0m \u001b[39mreturn\u001b[39;00m api(\u001b[39m*\u001b[39;49margs, \u001b[39m*\u001b[39;49m\u001b[39m*\u001b[39;49mkwargs)\n",
      "File \u001b[0;32m~/.conda/envs/dl/lib/python3.11/site-packages/elasticsearch/_sync/client/indices.py:736\u001b[0m, in \u001b[0;36mIndicesClient.delete\u001b[0;34m(self, index, allow_no_indices, error_trace, expand_wildcards, filter_path, human, ignore_unavailable, master_timeout, pretty, timeout)\u001b[0m\n\u001b[1;32m    734\u001b[0m     __query[\u001b[39m\"\u001b[39m\u001b[39mtimeout\u001b[39m\u001b[39m\"\u001b[39m] \u001b[39m=\u001b[39m timeout\n\u001b[1;32m    735\u001b[0m __headers \u001b[39m=\u001b[39m {\u001b[39m\"\u001b[39m\u001b[39maccept\u001b[39m\u001b[39m\"\u001b[39m: \u001b[39m\"\u001b[39m\u001b[39mapplication/json\u001b[39m\u001b[39m\"\u001b[39m}\n\u001b[0;32m--> 736\u001b[0m \u001b[39mreturn\u001b[39;00m \u001b[39mself\u001b[39;49m\u001b[39m.\u001b[39;49mperform_request(  \u001b[39m# type: ignore[return-value]\u001b[39;49;00m\n\u001b[1;32m    737\u001b[0m     \u001b[39m\"\u001b[39;49m\u001b[39mDELETE\u001b[39;49m\u001b[39m\"\u001b[39;49m,\n\u001b[1;32m    738\u001b[0m     __path,\n\u001b[1;32m    739\u001b[0m     params\u001b[39m=\u001b[39;49m__query,\n\u001b[1;32m    740\u001b[0m     headers\u001b[39m=\u001b[39;49m__headers,\n\u001b[1;32m    741\u001b[0m     endpoint_id\u001b[39m=\u001b[39;49m\u001b[39m\"\u001b[39;49m\u001b[39mindices.delete\u001b[39;49m\u001b[39m\"\u001b[39;49m,\n\u001b[1;32m    742\u001b[0m     path_parts\u001b[39m=\u001b[39;49m__path_parts,\n\u001b[1;32m    743\u001b[0m )\n",
      "File \u001b[0;32m~/.conda/envs/dl/lib/python3.11/site-packages/elasticsearch/_sync/client/_base.py:423\u001b[0m, in \u001b[0;36mNamespacedClient.perform_request\u001b[0;34m(self, method, path, params, headers, body, endpoint_id, path_parts)\u001b[0m\n\u001b[1;32m    410\u001b[0m \u001b[39mdef\u001b[39;00m \u001b[39mperform_request\u001b[39m(\n\u001b[1;32m    411\u001b[0m     \u001b[39mself\u001b[39m,\n\u001b[1;32m    412\u001b[0m     method: \u001b[39mstr\u001b[39m,\n\u001b[0;32m   (...)\u001b[0m\n\u001b[1;32m    421\u001b[0m     \u001b[39m# Use the internal clients .perform_request() implementation\u001b[39;00m\n\u001b[1;32m    422\u001b[0m     \u001b[39m# so we take advantage of their transport options.\u001b[39;00m\n\u001b[0;32m--> 423\u001b[0m     \u001b[39mreturn\u001b[39;00m \u001b[39mself\u001b[39;49m\u001b[39m.\u001b[39;49m_client\u001b[39m.\u001b[39;49mperform_request(\n\u001b[1;32m    424\u001b[0m         method,\n\u001b[1;32m    425\u001b[0m         path,\n\u001b[1;32m    426\u001b[0m         params\u001b[39m=\u001b[39;49mparams,\n\u001b[1;32m    427\u001b[0m         headers\u001b[39m=\u001b[39;49mheaders,\n\u001b[1;32m    428\u001b[0m         body\u001b[39m=\u001b[39;49mbody,\n\u001b[1;32m    429\u001b[0m         endpoint_id\u001b[39m=\u001b[39;49mendpoint_id,\n\u001b[1;32m    430\u001b[0m         path_parts\u001b[39m=\u001b[39;49mpath_parts,\n\u001b[1;32m    431\u001b[0m     )\n",
      "File \u001b[0;32m~/.conda/envs/dl/lib/python3.11/site-packages/elasticsearch/_sync/client/_base.py:271\u001b[0m, in \u001b[0;36mBaseClient.perform_request\u001b[0;34m(self, method, path, params, headers, body, endpoint_id, path_parts)\u001b[0m\n\u001b[1;32m    255\u001b[0m \u001b[39mdef\u001b[39;00m \u001b[39mperform_request\u001b[39m(\n\u001b[1;32m    256\u001b[0m     \u001b[39mself\u001b[39m,\n\u001b[1;32m    257\u001b[0m     method: \u001b[39mstr\u001b[39m,\n\u001b[0;32m   (...)\u001b[0m\n\u001b[1;32m    264\u001b[0m     path_parts: Optional[Mapping[\u001b[39mstr\u001b[39m, Any]] \u001b[39m=\u001b[39m \u001b[39mNone\u001b[39;00m,\n\u001b[1;32m    265\u001b[0m ) \u001b[39m-\u001b[39m\u001b[39m>\u001b[39m ApiResponse[Any]:\n\u001b[1;32m    266\u001b[0m     \u001b[39mwith\u001b[39;00m \u001b[39mself\u001b[39m\u001b[39m.\u001b[39m_otel\u001b[39m.\u001b[39mspan(\n\u001b[1;32m    267\u001b[0m         method,\n\u001b[1;32m    268\u001b[0m         endpoint_id\u001b[39m=\u001b[39mendpoint_id,\n\u001b[1;32m    269\u001b[0m         path_parts\u001b[39m=\u001b[39mpath_parts \u001b[39mor\u001b[39;00m {},\n\u001b[1;32m    270\u001b[0m     ) \u001b[39mas\u001b[39;00m otel_span:\n\u001b[0;32m--> 271\u001b[0m         response \u001b[39m=\u001b[39m \u001b[39mself\u001b[39;49m\u001b[39m.\u001b[39;49m_perform_request(\n\u001b[1;32m    272\u001b[0m             method,\n\u001b[1;32m    273\u001b[0m             path,\n\u001b[1;32m    274\u001b[0m             params\u001b[39m=\u001b[39;49mparams,\n\u001b[1;32m    275\u001b[0m             headers\u001b[39m=\u001b[39;49mheaders,\n\u001b[1;32m    276\u001b[0m             body\u001b[39m=\u001b[39;49mbody,\n\u001b[1;32m    277\u001b[0m             otel_span\u001b[39m=\u001b[39;49motel_span,\n\u001b[1;32m    278\u001b[0m         )\n\u001b[1;32m    279\u001b[0m         otel_span\u001b[39m.\u001b[39mset_elastic_cloud_metadata(response\u001b[39m.\u001b[39mmeta\u001b[39m.\u001b[39mheaders)\n\u001b[1;32m    280\u001b[0m         \u001b[39mreturn\u001b[39;00m response\n",
      "File \u001b[0;32m~/.conda/envs/dl/lib/python3.11/site-packages/elasticsearch/_sync/client/_base.py:316\u001b[0m, in \u001b[0;36mBaseClient._perform_request\u001b[0;34m(self, method, path, params, headers, body, otel_span)\u001b[0m\n\u001b[1;32m    313\u001b[0m \u001b[39melse\u001b[39;00m:\n\u001b[1;32m    314\u001b[0m     target \u001b[39m=\u001b[39m path\n\u001b[0;32m--> 316\u001b[0m meta, resp_body \u001b[39m=\u001b[39m \u001b[39mself\u001b[39;49m\u001b[39m.\u001b[39;49mtransport\u001b[39m.\u001b[39;49mperform_request(\n\u001b[1;32m    317\u001b[0m     method,\n\u001b[1;32m    318\u001b[0m     target,\n\u001b[1;32m    319\u001b[0m     headers\u001b[39m=\u001b[39;49mrequest_headers,\n\u001b[1;32m    320\u001b[0m     body\u001b[39m=\u001b[39;49mbody,\n\u001b[1;32m    321\u001b[0m     request_timeout\u001b[39m=\u001b[39;49m\u001b[39mself\u001b[39;49m\u001b[39m.\u001b[39;49m_request_timeout,\n\u001b[1;32m    322\u001b[0m     max_retries\u001b[39m=\u001b[39;49m\u001b[39mself\u001b[39;49m\u001b[39m.\u001b[39;49m_max_retries,\n\u001b[1;32m    323\u001b[0m     retry_on_status\u001b[39m=\u001b[39;49m\u001b[39mself\u001b[39;49m\u001b[39m.\u001b[39;49m_retry_on_status,\n\u001b[1;32m    324\u001b[0m     retry_on_timeout\u001b[39m=\u001b[39;49m\u001b[39mself\u001b[39;49m\u001b[39m.\u001b[39;49m_retry_on_timeout,\n\u001b[1;32m    325\u001b[0m     client_meta\u001b[39m=\u001b[39;49m\u001b[39mself\u001b[39;49m\u001b[39m.\u001b[39;49m_client_meta,\n\u001b[1;32m    326\u001b[0m     otel_span\u001b[39m=\u001b[39;49motel_span,\n\u001b[1;32m    327\u001b[0m )\n\u001b[1;32m    329\u001b[0m \u001b[39m# HEAD with a 404 is returned as a normal response\u001b[39;00m\n\u001b[1;32m    330\u001b[0m \u001b[39m# since this is used as an 'exists' functionality.\u001b[39;00m\n\u001b[1;32m    331\u001b[0m \u001b[39mif\u001b[39;00m \u001b[39mnot\u001b[39;00m (method \u001b[39m==\u001b[39m \u001b[39m\"\u001b[39m\u001b[39mHEAD\u001b[39m\u001b[39m\"\u001b[39m \u001b[39mand\u001b[39;00m meta\u001b[39m.\u001b[39mstatus \u001b[39m==\u001b[39m \u001b[39m404\u001b[39m) \u001b[39mand\u001b[39;00m (\n\u001b[1;32m    332\u001b[0m     \u001b[39mnot\u001b[39;00m \u001b[39m200\u001b[39m \u001b[39m<\u001b[39m\u001b[39m=\u001b[39m meta\u001b[39m.\u001b[39mstatus \u001b[39m<\u001b[39m \u001b[39m299\u001b[39m\n\u001b[1;32m    333\u001b[0m     \u001b[39mand\u001b[39;00m (\n\u001b[0;32m   (...)\u001b[0m\n\u001b[1;32m    337\u001b[0m     )\n\u001b[1;32m    338\u001b[0m ):\n",
      "File \u001b[0;32m~/.conda/envs/dl/lib/python3.11/site-packages/elastic_transport/_transport.py:342\u001b[0m, in \u001b[0;36mTransport.perform_request\u001b[0;34m(self, method, target, body, headers, max_retries, retry_on_status, retry_on_timeout, request_timeout, client_meta, otel_span)\u001b[0m\n\u001b[1;32m    340\u001b[0m \u001b[39mtry\u001b[39;00m:\n\u001b[1;32m    341\u001b[0m     otel_span\u001b[39m.\u001b[39mset_node_metadata(node\u001b[39m.\u001b[39mhost, node\u001b[39m.\u001b[39mport, node\u001b[39m.\u001b[39mbase_url, target)\n\u001b[0;32m--> 342\u001b[0m     resp \u001b[39m=\u001b[39m node\u001b[39m.\u001b[39;49mperform_request(\n\u001b[1;32m    343\u001b[0m         method,\n\u001b[1;32m    344\u001b[0m         target,\n\u001b[1;32m    345\u001b[0m         body\u001b[39m=\u001b[39;49mrequest_body,\n\u001b[1;32m    346\u001b[0m         headers\u001b[39m=\u001b[39;49mrequest_headers,\n\u001b[1;32m    347\u001b[0m         request_timeout\u001b[39m=\u001b[39;49mrequest_timeout,\n\u001b[1;32m    348\u001b[0m     )\n\u001b[1;32m    349\u001b[0m     _logger\u001b[39m.\u001b[39minfo(\n\u001b[1;32m    350\u001b[0m         \u001b[39m\"\u001b[39m\u001b[39m%s\u001b[39;00m\u001b[39m \u001b[39m\u001b[39m%s\u001b[39;00m\u001b[39m%s\u001b[39;00m\u001b[39m [status:\u001b[39m\u001b[39m%s\u001b[39;00m\u001b[39m duration:\u001b[39m\u001b[39m%.3f\u001b[39;00m\u001b[39ms]\u001b[39m\u001b[39m\"\u001b[39m\n\u001b[1;32m    351\u001b[0m         \u001b[39m%\u001b[39m (\n\u001b[0;32m   (...)\u001b[0m\n\u001b[1;32m    357\u001b[0m         )\n\u001b[1;32m    358\u001b[0m     )\n\u001b[1;32m    360\u001b[0m     \u001b[39mif\u001b[39;00m method \u001b[39m!=\u001b[39m \u001b[39m\"\u001b[39m\u001b[39mHEAD\u001b[39m\u001b[39m\"\u001b[39m:\n",
      "File \u001b[0;32m~/.conda/envs/dl/lib/python3.11/site-packages/elastic_transport/_node/_http_urllib3.py:202\u001b[0m, in \u001b[0;36mUrllib3HttpNode.perform_request\u001b[0;34m(self, method, target, body, headers, request_timeout)\u001b[0m\n\u001b[1;32m    194\u001b[0m         err \u001b[39m=\u001b[39m \u001b[39mConnectionError\u001b[39;00m(\u001b[39mstr\u001b[39m(e), errors\u001b[39m=\u001b[39m(e,))\n\u001b[1;32m    195\u001b[0m     \u001b[39mself\u001b[39m\u001b[39m.\u001b[39m_log_request(\n\u001b[1;32m    196\u001b[0m         method\u001b[39m=\u001b[39mmethod,\n\u001b[1;32m    197\u001b[0m         target\u001b[39m=\u001b[39mtarget,\n\u001b[0;32m   (...)\u001b[0m\n\u001b[1;32m    200\u001b[0m         exception\u001b[39m=\u001b[39merr,\n\u001b[1;32m    201\u001b[0m     )\n\u001b[0;32m--> 202\u001b[0m     \u001b[39mraise\u001b[39;00m err \u001b[39mfrom\u001b[39;00m \u001b[39mNone\u001b[39;00m\n\u001b[1;32m    204\u001b[0m meta \u001b[39m=\u001b[39m ApiResponseMeta(\n\u001b[1;32m    205\u001b[0m     node\u001b[39m=\u001b[39m\u001b[39mself\u001b[39m\u001b[39m.\u001b[39mconfig,\n\u001b[1;32m    206\u001b[0m     duration\u001b[39m=\u001b[39mduration,\n\u001b[0;32m   (...)\u001b[0m\n\u001b[1;32m    209\u001b[0m     headers\u001b[39m=\u001b[39mresponse_headers,\n\u001b[1;32m    210\u001b[0m )\n\u001b[1;32m    211\u001b[0m \u001b[39mself\u001b[39m\u001b[39m.\u001b[39m_log_request(\n\u001b[1;32m    212\u001b[0m     method\u001b[39m=\u001b[39mmethod,\n\u001b[1;32m    213\u001b[0m     target\u001b[39m=\u001b[39mtarget,\n\u001b[0;32m   (...)\u001b[0m\n\u001b[1;32m    217\u001b[0m     response\u001b[39m=\u001b[39mdata,\n\u001b[1;32m    218\u001b[0m )\n",
      "\u001b[0;31mConnectionTimeout\u001b[0m: Connection timed out"
     ]
    }
   ],
   "source": [
    "db.client.indices.delete(\n",
    "    index=\"test-metadata, test-elser, test-basic\",\n",
    "    ignore_unavailable=True,\n",
    "    allow_no_indices=True,\n",
    ")"
   ]
  },
  {
   "cell_type": "code",
   "execution_count": null,
   "metadata": {},
   "outputs": [],
   "source": []
  }
 ],
 "metadata": {
  "kernelspec": {
   "display_name": "Python 3",
   "language": "python",
   "name": "python3"
  },
  "language_info": {
   "codemirror_mode": {
    "name": "ipython",
    "version": 3
   },
   "file_extension": ".py",
   "mimetype": "text/x-python",
   "name": "python",
   "nbconvert_exporter": "python",
   "pygments_lexer": "ipython3",
   "version": "3.11.9"
  }
 },
 "nbformat": 4,
 "nbformat_minor": 2
}
