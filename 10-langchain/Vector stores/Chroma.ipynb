{
 "cells": [
  {
   "cell_type": "markdown",
   "metadata": {},
   "source": [
    "# Chroma\n",
    "`pip install langchain-chroma`\n",
    "Chroma是一个 AI 原生开源矢量数据库，专注于提高开发人员的工作效率和幸福感。Chroma 已获得 Apache 2.0 许可。\n",
    "\n",
    "Chroma 以多种模式运行。请参阅下文中与 LangChain 集成的示例。\n",
    "- `in-memory`- 在 Python 脚本或 Jupyter Notebook 中\n",
    "- `in-memory with persistance`- 在脚本或笔记本中保存/加载到磁盘\n",
    "- `in a docker container`- 作为在本地机器或云端运行的服务器\n",
    "\n",
    "与任何其他数据库一样，您可以：\n",
    "- .add\n",
    "- .get\n",
    "- .update\n",
    "- .upsert\n",
    "- .delete\n",
    "- .peek\n",
    "- 并.query运行相似性搜索。       \n",
    "查看完整文档：[docs](https://docs.trychroma.com/)。要直接访问这些方法，您可以这样做._collection.method()\n",
    "\n",
    "<img src=\"https://docs.trychroma.com/img/hrm4.svg\">"
   ]
  },
  {
   "cell_type": "markdown",
   "metadata": {},
   "source": [
    "## chromadb 简单尝试\n"
   ]
  },
  {
   "cell_type": "code",
   "execution_count": 4,
   "metadata": {},
   "outputs": [],
   "source": [
    "###  pip install chromadb\n",
    "## 创建 Chroma 客户端\n",
    "import chromadb\n",
    "chroma_client = chromadb.Client()\n",
    "## 创建集合\n",
    "# collection = chroma_client.delete_collection(name=\"my_collection\")\n",
    "collection = chroma_client.create_collection(name=\"my_collection\")\n"
   ]
  },
  {
   "cell_type": "code",
   "execution_count": 5,
   "metadata": {},
   "outputs": [
    {
     "name": "stderr",
     "output_type": "stream",
     "text": [
      "/slurm/home/admin/.cache/chroma/onnx_models/all-MiniLM-L6-v2/onnx.tar.gz: 100%|██████████| 79.3M/79.3M [00:33<00:00, 2.52MiB/s]\n"
     ]
    }
   ],
   "source": [
    "## 向集合中添加一些文本文档\n",
    "collection.add(\n",
    "    documents=[\n",
    "        \"This is a document about pineapple\",\n",
    "        \"This is a document about oranges\"\n",
    "    ],\n",
    "    ids=[\"id1\", \"id2\"]\n",
    ")"
   ]
  },
  {
   "cell_type": "code",
   "execution_count": 6,
   "metadata": {},
   "outputs": [
    {
     "name": "stdout",
     "output_type": "stream",
     "text": [
      "{'ids': [['id1', 'id2']], 'distances': [[1.0404009819030762, 1.2430799007415771]], 'metadatas': [[None, None]], 'embeddings': None, 'documents': [['This is a document about pineapple', 'This is a document about oranges']], 'uris': None, 'data': None, 'included': ['metadatas', 'documents', 'distances']}\n"
     ]
    }
   ],
   "source": [
    "## 查询集合\n",
    "results = collection.query(\n",
    "    query_texts=[\"This is a query document about hawaii\"], # Chroma will embed this for you\n",
    "    n_results=2 # how many results to return\n",
    ")\n",
    "print(results)\n"
   ]
  },
  {
   "cell_type": "markdown",
   "metadata": {},
   "source": [
    "## 启动持久 Chroma 客户端"
   ]
  },
  {
   "cell_type": "code",
   "execution_count": 7,
   "metadata": {},
   "outputs": [],
   "source": [
    "client = chromadb.PersistentClient(path=\"/slurm/home/admin/nlp/DL/tests/chroma_vextor\")\n",
    "\n",
    "\n"
   ]
  },
  {
   "cell_type": "code",
   "execution_count": 8,
   "metadata": {},
   "outputs": [
    {
     "data": {
      "text/plain": [
       "1721022626040168606"
      ]
     },
     "execution_count": 8,
     "metadata": {},
     "output_type": "execute_result"
    }
   ],
   "source": [
    "client.heartbeat() # client是否连接\n"
   ]
  },
  {
   "cell_type": "code",
   "execution_count": 9,
   "metadata": {},
   "outputs": [
    {
     "ename": "ValueError",
     "evalue": "Resetting is not allowed by this configuration (to enable it, set `allow_reset` to `True` in your Settings() or include `ALLOW_RESET=TRUE` in your environment variables)",
     "output_type": "error",
     "traceback": [
      "\u001b[0;31m---------------------------------------------------------------------------\u001b[0m",
      "\u001b[0;31mValueError\u001b[0m                                Traceback (most recent call last)",
      "Cell \u001b[0;32mIn[9], line 1\u001b[0m\n\u001b[0;32m----> 1\u001b[0m \u001b[43mclient\u001b[49m\u001b[38;5;241;43m.\u001b[39;49m\u001b[43mreset\u001b[49m\u001b[43m(\u001b[49m\u001b[43m)\u001b[49m \u001b[38;5;66;03m# 清空数据，不可逆\u001b[39;00m\n",
      "File \u001b[0;32m~/.conda/envs/dl/lib/python3.11/site-packages/chromadb/api/client.py:340\u001b[0m, in \u001b[0;36mClient.reset\u001b[0;34m(self)\u001b[0m\n\u001b[1;32m    338\u001b[0m \u001b[38;5;129m@override\u001b[39m\n\u001b[1;32m    339\u001b[0m \u001b[38;5;28;01mdef\u001b[39;00m \u001b[38;5;21mreset\u001b[39m(\u001b[38;5;28mself\u001b[39m) \u001b[38;5;241m-\u001b[39m\u001b[38;5;241m>\u001b[39m \u001b[38;5;28mbool\u001b[39m:\n\u001b[0;32m--> 340\u001b[0m     \u001b[38;5;28;01mreturn\u001b[39;00m \u001b[38;5;28;43mself\u001b[39;49m\u001b[38;5;241;43m.\u001b[39;49m\u001b[43m_server\u001b[49m\u001b[38;5;241;43m.\u001b[39;49m\u001b[43mreset\u001b[49m\u001b[43m(\u001b[49m\u001b[43m)\u001b[49m\n",
      "File \u001b[0;32m~/.conda/envs/dl/lib/python3.11/site-packages/chromadb/api/segment.py:783\u001b[0m, in \u001b[0;36mSegmentAPI.reset\u001b[0;34m(self)\u001b[0m\n\u001b[1;32m    781\u001b[0m \u001b[38;5;129m@override\u001b[39m\n\u001b[1;32m    782\u001b[0m \u001b[38;5;28;01mdef\u001b[39;00m \u001b[38;5;21mreset\u001b[39m(\u001b[38;5;28mself\u001b[39m) \u001b[38;5;241m-\u001b[39m\u001b[38;5;241m>\u001b[39m \u001b[38;5;28mbool\u001b[39m:\n\u001b[0;32m--> 783\u001b[0m     \u001b[38;5;28;43mself\u001b[39;49m\u001b[38;5;241;43m.\u001b[39;49m\u001b[43m_system\u001b[49m\u001b[38;5;241;43m.\u001b[39;49m\u001b[43mreset_state\u001b[49m\u001b[43m(\u001b[49m\u001b[43m)\u001b[49m\n\u001b[1;32m    784\u001b[0m     \u001b[38;5;28;01mreturn\u001b[39;00m \u001b[38;5;28;01mTrue\u001b[39;00m\n",
      "File \u001b[0;32m~/.conda/envs/dl/lib/python3.11/site-packages/chromadb/config.py:430\u001b[0m, in \u001b[0;36mSystem.reset_state\u001b[0;34m(self)\u001b[0m\n\u001b[1;32m    428\u001b[0m \u001b[38;5;250m\u001b[39m\u001b[38;5;124;03m\"\"\"Reset the state of this system and all constituents in reverse dependency order\"\"\"\u001b[39;00m\n\u001b[1;32m    429\u001b[0m \u001b[38;5;28;01mif\u001b[39;00m \u001b[38;5;129;01mnot\u001b[39;00m \u001b[38;5;28mself\u001b[39m\u001b[38;5;241m.\u001b[39msettings\u001b[38;5;241m.\u001b[39mallow_reset:\n\u001b[0;32m--> 430\u001b[0m     \u001b[38;5;28;01mraise\u001b[39;00m \u001b[38;5;167;01mValueError\u001b[39;00m(\n\u001b[1;32m    431\u001b[0m         \u001b[38;5;124m\"\u001b[39m\u001b[38;5;124mResetting is not allowed by this configuration (to enable it, set `allow_reset` to `True` in your Settings() or include `ALLOW_RESET=TRUE` in your environment variables)\u001b[39m\u001b[38;5;124m\"\u001b[39m\n\u001b[1;32m    432\u001b[0m     )\n\u001b[1;32m    433\u001b[0m \u001b[38;5;28;01mfor\u001b[39;00m component \u001b[38;5;129;01min\u001b[39;00m \u001b[38;5;28mreversed\u001b[39m(\u001b[38;5;28mlist\u001b[39m(\u001b[38;5;28mself\u001b[39m\u001b[38;5;241m.\u001b[39mcomponents())):\n\u001b[1;32m    434\u001b[0m     component\u001b[38;5;241m.\u001b[39mreset_state()\n",
      "\u001b[0;31mValueError\u001b[0m: Resetting is not allowed by this configuration (to enable it, set `allow_reset` to `True` in your Settings() or include `ALLOW_RESET=TRUE` in your environment variables)"
     ]
    }
   ],
   "source": [
    "client.reset() # 清空数据，不可逆 ALLOW_RESET=TRUE` in your environment variables"
   ]
  },
  {
   "cell_type": "markdown",
   "metadata": {},
   "source": [
    "## 在客户端/服务器模式下运行Chroma\n",
    "\n",
    "Chroma 还可配置为以客户端/服务器模式运行。在此模式下，Chroma 客户端连接到在单独进程中运行的 Chroma 服务器。\n",
    "\n",
    "要启动 Chroma 服务器，请运行以下命令："
   ]
  },
  {
   "cell_type": "code",
   "execution_count": null,
   "metadata": {},
   "outputs": [],
   "source": [
    "chroma run --path /db_path"
   ]
  },
  {
   "cell_type": "code",
   "execution_count": 10,
   "metadata": {},
   "outputs": [],
   "source": [
    "chroma_client = chromadb.HttpClient(host='localhost', port=8000)"
   ]
  },
  {
   "cell_type": "markdown",
   "metadata": {},
   "source": [
    "Chroma 还提供了异步 HTTP 客户端。其行为和方法签名与同步客户端相同，但所有会阻塞的方法现在都是异步的。要使用它，请改为调用AsyncHttpClient："
   ]
  },
  {
   "cell_type": "code",
   "execution_count": 12,
   "metadata": {},
   "outputs": [],
   "source": [
    "import asyncio\n",
    "import chromadb\n",
    "async def main():\n",
    "    client = await chromadb.AsyncHttpClient()\n",
    "    collection = await client.create_collection(name=\"my_collection\")\n",
    "    await collection.add(\n",
    "        documents=[\"hello world\"],\n",
    "        ids=[\"id1\"]\n",
    "    )\n",
    "asyncio.run(main())"
   ]
  },
  {
   "cell_type": "markdown",
   "metadata": {},
   "source": [
    "## 使用 Python HTTP 客户端\n",
    "如果您在客户端-服务器模式下运行 Chroma，则可能不需要完整的 Chroma 库。相反，您可以使用轻量级的仅客户端库。 在这种情况下，您可以安装该chromadb-client软件包。此软件包是服务器的轻量级 HTTP 客户端，依赖性最小。\n",
    "\n",
    "`pip install chromadb-client`"
   ]
  },
  {
   "cell_type": "code",
   "execution_count": null,
   "metadata": {},
   "outputs": [],
   "source": [
    "import chromadb\n",
    "# Example setup of the client to connect to your chroma server\n",
    "client = chromadb.HttpClient(host='localhost', port=8000)\n",
    "# Or for async usage:\n",
    "async def main():\n",
    "    client = await chromadb.AsyncHttpClient(host='localhost', port=8000)"
   ]
  },
  {
   "cell_type": "markdown",
   "metadata": {},
   "source": [
    "## 使用集合\n",
    "### 创建、检查和删除集合#\n",
    "Chroma 在 URL 中使用集合名称，因此命名时有一些限制：\n",
    "\n",
    "- 名称的长度必须介于 3 到 63 个字符之间。\n",
    "- 名称必须以小写字母或数字开头和结尾，中间可以包含点、破折号和下划线。\n",
    "- 名称不得包含两个连续的点。\n",
    "- 该名称不能是有效的 IP 地址。\n",
    "\n",
    "Chroma 集合使用名称和可选的嵌入函数创建。如果您提供嵌入函数，则每次获取集合时都必须提供该函数。"
   ]
  },
  {
   "cell_type": "code",
   "execution_count": null,
   "metadata": {},
   "outputs": [],
   "source": [
    "collection = client.create_collection(name=\"my_collection\", embedding_function=emb_fn)\n",
    "collection = client.get_collection(name=\"my_collection\", embedding_function=emb_fn)\n"
   ]
  },
  {
   "cell_type": "markdown",
   "metadata": {},
   "source": [
    "嵌入函数以文本为输入，并执行标记化和嵌入。如果没有提供嵌入函数，Chroma 将默认使用[句子转换器](https://www.sbert.net/index.html)。\n",
    "> 您可以了解有关🧬[嵌入函数的更多信息](https://docs.trychroma.com/guides/embeddings)，以及如何创建自己的函数。\n",
    "\n",
    "可以使用 按照名称检索现有集合`.get_collection`，并使用 删除集合`.delete_collection`。您还可以使用`.get_or_create_collection`获取集合（如果存在）或创建集合（如果不存在）。\n"
   ]
  },
  {
   "cell_type": "code",
   "execution_count": null,
   "metadata": {},
   "outputs": [],
   "source": [
    "collection = client.get_collection(name=\"test\") # Get a collection object from an existing collection, by name. Will raise an exception if it's not found.\n",
    "collection = client.get_or_create_collection(name=\"test\") # Get a collection object from an existing collection, by name. If it doesn't exist, create it.\n",
    "client.delete_collection(name=\"my_collection\") # Delete a collection and all associated embeddings, documents, and metadata. ⚠️ This is destructive and not reversible\n"
   ]
  },
  {
   "cell_type": "markdown",
   "metadata": {},
   "source": [
    "集合有一些实用的便捷方法。"
   ]
  },
  {
   "cell_type": "code",
   "execution_count": null,
   "metadata": {},
   "outputs": [],
   "source": [
    "collection.peek() # returns a list of the first 10 items in the collection\n",
    "collection.count() # returns the number of items in the collection\n",
    "collection.modify(name=\"new_name\") # Rename the coll"
   ]
  },
  {
   "cell_type": "code",
   "execution_count": null,
   "metadata": {},
   "outputs": [],
   "source": [
    "## 距离函数\n",
    "collection = client.create_collection(\n",
    "    name=\"collection_name\",\n",
    "    metadata={\"hnsw:space\": \"cosine\"} # l2 is the default\n",
    ")\n"
   ]
  },
  {
   "cell_type": "markdown",
   "metadata": {},
   "source": [
    "有效选项为hnsw:space“l2”、“ip”或“cosine”。默认值为“l2”，即 L2 范数的平方。\n",
    "| Distance | parameter |  |\n",
    "| :--- | :--- | :--- |\n",
    "| Squared L2 | 12 | $d=\\sum\\left(A_i-B_i\\right)^2$ |\n",
    "| Inner product | ip | $d=1.0-\\sum\\left(A_i \\times B_i\\right)$ |\n",
    "| Cosine similarity | cosine | $d=1.0-\\frac{\\sum\\left(A_i \\times B_i\\right)}{\\sqrt{\\sum\\left(A_i^2\\right)} \\cdot \\sqrt{\\sum\\left(B_i^2\\right)}}$ |"
   ]
  },
  {
   "cell_type": "markdown",
   "metadata": {},
   "source": [
    "### 向集合中添加数据\n",
    "\n",
    "\n"
   ]
  },
  {
   "cell_type": "code",
   "execution_count": null,
   "metadata": {},
   "outputs": [],
   "source": [
    "collection.add(\n",
    "    documents=[\"lorem ipsum...\", \"doc2\", \"doc3\", ...],\n",
    "    metadatas=[{\"chapter\": \"3\", \"verse\": \"16\"}, {\"chapter\": \"3\", \"verse\": \"5\"}, {\"chapter\": \"29\", \"verse\": \"11\"}, ...],\n",
    "    ids=[\"id1\", \"id2\", \"id3\", ...]\n",
    ")"
   ]
  },
  {
   "cell_type": "markdown",
   "metadata": {},
   "source": [
    "如果提供的embeddings尺寸与集合的尺寸不一样，就会引发异常。\n",
    "\n",
    "embeddings您还可以将文档存储在其他地方，只需向 Chroma 提供和列表即可metadata。您可以使用ids将嵌入与存储在其他地方的文档关联起来。"
   ]
  },
  {
   "cell_type": "code",
   "execution_count": null,
   "metadata": {},
   "outputs": [],
   "source": [
    "collection.add(\n",
    "    embeddings=[[1.1, 2.3, 3.2], [4.5, 6.9, 4.4], [1.1, 2.3, 3.2], ...],\n",
    "    metadatas=[{\"chapter\": \"3\", \"verse\": \"16\"}, {\"chapter\": \"3\", \"verse\": \"5\"}, {\"chapter\": \"29\", \"verse\": \"11\"}, ...],\n",
    "    ids=[\"id1\", \"id2\", \"id3\", ...]\n",
    ")\n"
   ]
  },
  {
   "cell_type": "markdown",
   "metadata": {},
   "source": [
    "使用该方法，可以用多种方式查询色度集合`.query`。\n",
    "\n",
    "您可以通过一组 进行查询`query_embeddings`。"
   ]
  },
  {
   "cell_type": "code",
   "execution_count": null,
   "metadata": {},
   "outputs": [],
   "source": [
    "collection.query(\n",
    "    query_embeddings=[[11.1, 12.1, 13.1],[1.1, 2.3, 3.2], ...],\n",
    "    n_results=10,\n",
    "    where={\"metadata_field\": \"is_equal_to_this\"},\n",
    "    where_document={\"$contains\":\"search_string\"}\n",
    ")\n"
   ]
  },
  {
   "cell_type": "markdown",
   "metadata": {},
   "source": [
    "查询将按顺序返回n_results与每个 最接近的匹配项。可以提供可选的过滤词典，以便根据与每个文档关联的 进行过滤。此外，还可以提供可选的过滤词典，以便根据文档的内容进行过滤。query_embedding where metadata where_document\n",
    "\n",
    "如果提供的query_embeddings尺寸与集合的尺寸不一样，就会引发异常。\n",
    "\n",
    "您还可以通过一组 进行查询query_texts。Chroma 将首先query_text使用集合的嵌入函数对每个 进行嵌入，然后使用生成的嵌入执行查询。"
   ]
  },
  {
   "cell_type": "code",
   "execution_count": null,
   "metadata": {},
   "outputs": [],
   "source": [
    "collection.query(\n",
    "    query_texts=[\"doc10\", \"thus spake zarathustra\", ...],\n",
    "    n_results=10,\n",
    "    where={\"metadata_field\": \"is_equal_to_this\"},\n",
    "    where_document={\"$contains\":\"search_string\"}\n",
    ")\n"
   ]
  },
  {
   "cell_type": "markdown",
   "metadata": {},
   "source": [
    "id您还可以使用从集合中检索项目`.get`。\n"
   ]
  },
  {
   "cell_type": "code",
   "execution_count": null,
   "metadata": {},
   "outputs": [],
   "source": [
    "collection.get(\n",
    "\tids=[\"id1\", \"id2\", \"id3\", ...],\n",
    "\twhere={\"style\": \"style1\"}\n",
    ")\n"
   ]
  },
  {
   "cell_type": "markdown",
   "metadata": {},
   "source": [
    ".get还支持where和where_document过滤器。如果没有ids提供，它将返回集合中符合where和where_document过滤器的所有项目。\n",
    "\n",
    "选择返回哪些数据\n",
    "使用 get 或 query 时，您可以使用 include 参数指定要返回的数据 - 、、和 中的任意一个（embeddings对于query，）documents。默认情况下，Chroma 将返回，对于 query，返回结果中的 。默认情况下，为了提高性能，将排除 ，并且始终返回 。您可以通过将包含的字段名称数组传递给 query 或 get 方法的 includes 参数来指定要返回哪些数据。"
   ]
  },
  {
   "cell_type": "code",
   "execution_count": null,
   "metadata": {},
   "outputs": [],
   "source": [
    "\n",
    "# Only get documents and ids\n",
    "collection.get(\n",
    "    include=[\"documents\"]\n",
    ")\n",
    "\n",
    "collection.query(\n",
    "    query_embeddings=[[11.1, 12.1, 13.1],[1.1, 2.3, 3.2], ...],\n",
    "    include=[\"documents\"]\n",
    ")\n"
   ]
  },
  {
   "cell_type": "markdown",
   "metadata": {},
   "source": [
    "### 使用 Where 过滤器\n",
    "metadata Chroma 支持按和内容过滤查询document。where过滤器用于按 过滤metadata，where_document过滤器用于按document内容过滤。\n",
    "\n",
    "按元数据过滤\n",
    "为了过滤元数据，您必须where为查询提供过滤字典。该字典必须具有以下结构：\n",
    "\n",
    "```python\n",
    "{\n",
    "    \"metadata_field\": {\n",
    "        <Operator>: <Value>\n",
    "    }\n",
    "}\n",
    "\n",
    "```\n",
    "\n"
   ]
  },
  {
   "cell_type": "markdown",
   "metadata": {},
   "source": [
    "过滤元数据支持以下运算符：\n",
    "\n",
    "- $eq- 等于（字符串，整数，浮点数）\n",
    "- $ne- 不等于（字符串、整数、浮点数）\n",
    "- $gt- 大于（int，float）\n",
    "- $gte- 大于或等于（int，float）\n",
    "- $lt- 小于（int，float）\n",
    "- $lte- 小于或等于 (int, float)\n",
    "\n",
    "使用 $eq 运算符相当于使用where过滤器。\n",
    "\n",
    "```json\n",
    "{\n",
    "    \"metadata_field\": \"search_string\"\n",
    "}\n",
    "\n",
    "# is equivalent to\n",
    "\n",
    "{\n",
    "    \"metadata_field\": {\n",
    "        \"$eq\": \"search_string\"\n",
    "    }\n",
    "}\n",
    "\n",
    "\n",
    "```"
   ]
  },
  {
   "cell_type": "markdown",
   "metadata": {},
   "source": [
    "#### 使用逻辑运算符\n",
    "\n",
    "您还可以使用逻辑运算符`$and`和`$or`来组合多个过滤器。\n",
    "\n",
    "运算符`$and`将返回与列表中所有过滤器匹配的结果。\n",
    "\n",
    "```\n",
    "{\n",
    "    \"$and\": [\n",
    "        {\n",
    "            \"metadata_field\": {\n",
    "                <Operator>: <Value>\n",
    "            }\n",
    "        },\n",
    "        {\n",
    "            \"metadata_field\": {\n",
    "                <Operator>: <Value>\n",
    "            }\n",
    "        }\n",
    "    ]\n",
    "}\n",
    "\n",
    "```"
   ]
  },
  {
   "cell_type": "markdown",
   "metadata": {},
   "source": [
    "#### 使用包含运算符（$in和$nin）\n",
    "支持以下包含运算符：\n",
    "\n",
    "- $in- 值在预定义列表中（字符串、整数、浮点数、布尔值）\n",
    "- $nin- 值不在预定义列表中（字符串、整数、浮点数、布尔值）\n",
    "运算符$in将返回元数据属性属于所提供列表的一部分的结果：\n",
    "\n",
    "```\n",
    "{\n",
    "  \"metadata_field\": {\n",
    "    \"$in\": [\"value1\", \"value2\", \"value3\"]\n",
    "  }\n",
    "}\n",
    "\n",
    "```\n"
   ]
  },
  {
   "cell_type": "markdown",
   "metadata": {},
   "source": [
    "### 更新集合中的数据\n",
    "可以使用 更新集合中项目的任何属性.update。\n"
   ]
  },
  {
   "cell_type": "code",
   "execution_count": null,
   "metadata": {},
   "outputs": [],
   "source": [
    "collection.update(\n",
    "    ids=[\"id1\", \"id2\", \"id3\", ...],\n",
    "    embeddings=[[1.1, 2.3, 3.2], [4.5, 6.9, 4.4], [1.1, 2.3, 3.2], ...],\n",
    "    metadatas=[{\"chapter\": \"3\", \"verse\": \"16\"}, {\"chapter\": \"3\", \"verse\": \"5\"}, {\"chapter\": \"29\", \"verse\": \"11\"}, ...],\n",
    "    documents=[\"doc1\", \"doc2\", \"doc3\", ...],\n",
    ")\n"
   ]
  },
  {
   "cell_type": "markdown",
   "metadata": {},
   "source": [
    "如果id在集合中未找到，则会记录错误并忽略更新。如果documents提供了但没有相应的embeddings，则将使用集合的嵌入函数重新计算嵌入。\n",
    "\n",
    "如果提供的embeddings尺寸与集合的尺寸不一样，就会引发异常。\n",
    "\n",
    "Chroma 还支持一项upsert操作，该操作可以更新现有项目，如果它们尚不存在则添加它们。"
   ]
  },
  {
   "cell_type": "code",
   "execution_count": null,
   "metadata": {},
   "outputs": [],
   "source": [
    "collection.upsert(\n",
    "    ids=[\"id1\", \"id2\", \"id3\", ...],\n",
    "    embeddings=[[1.1, 2.3, 3.2], [4.5, 6.9, 4.4], [1.1, 2.3, 3.2], ...],\n",
    "    metadatas=[{\"chapter\": \"3\", \"verse\": \"16\"}, {\"chapter\": \"3\", \"verse\": \"5\"}, {\"chapter\": \"29\", \"verse\": \"11\"}, ...],\n",
    "    documents=[\"doc1\", \"doc2\", \"doc3\", ...],\n",
    ")\n"
   ]
  },
  {
   "cell_type": "markdown",
   "metadata": {},
   "source": [
    "如果id集合中不存在，则将根据 创建相应的项目add。具有现有 的项目id将根据 进行更新update。"
   ]
  },
  {
   "cell_type": "markdown",
   "metadata": {},
   "source": [
    "### 从集合中删除数据\n",
    "idChroma 支持使用从集合中删除项目.delete。与每个项目相关的嵌入、文档和元数据都将被删除。⚠️ 当然，这是一个破坏性操作，无法撤消。"
   ]
  },
  {
   "cell_type": "code",
   "execution_count": null,
   "metadata": {},
   "outputs": [],
   "source": [
    "collection.delete(\n",
    "    ids=[\"id1\", \"id2\", \"id3\",...],\n",
    "\twhere={\"chapter\": \"20\"}\n",
    ")\n"
   ]
  },
  {
   "cell_type": "markdown",
   "metadata": {},
   "source": []
  }
 ],
 "metadata": {
  "kernelspec": {
   "display_name": "Python 3",
   "language": "python",
   "name": "python3"
  },
  "language_info": {
   "codemirror_mode": {
    "name": "ipython",
    "version": 3
   },
   "file_extension": ".py",
   "mimetype": "text/x-python",
   "name": "python",
   "nbconvert_exporter": "python",
   "pygments_lexer": "ipython3",
   "version": "3.11.9"
  }
 },
 "nbformat": 4,
 "nbformat_minor": 2
}
