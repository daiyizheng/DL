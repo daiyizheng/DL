{
 "cells": [
  {
   "cell_type": "markdown",
   "metadata": {},
   "source": [
    "# Transformer\n",
    "\n",
    "`Transformer`是2017年推出的一种利用注意力机制的深度学习模型。它主要用于自然语言处理(NLP)领域，但最近的研究也将其应用于其他任务，如视频理解。\n",
    "\n",
    "在本文档中，我们将看到如何使用`e3nn`实现等变注意机制。\n",
    "\n",
    "我们将实现公式(1)的SE(3)-Transformers。输出特征f'，由\n",
    "$$\\begin{array}{r}\n",
    "f_i^{\\prime}=\\sum_{j=1}^n \\alpha_{i j} v_j \\\\\n",
    "\\alpha_{i j}=\\frac{\\exp \\left(q_i^T k_j\\right)}{\\sum_{j^{\\prime}=1}^n \\exp \\left(q_i^T k_{j^{\\prime}}\\right)}\n",
    "\\end{array}$$\n",
    "\n",
    "其中$q,k,v$分别称为查询，键和值。它们是输入特征$f$的函数。\n",
    "\n",
    "$$\\begin{aligned}\n",
    "q & =h_Q(f) \\\\\n",
    "k & =h_K(f) \\\\\n",
    "v & =h_V(f)\n",
    "\\end{aligned}$$\n",
    "\n",
    "所有这些公式在同一篇文章的图(2)中得到了很好的说明。\n",
    "\n",
    "![](images/11.png)\n",
    "\n",
    "\n",
    "首先，我们需要定义输入、查询、键和输出的副本。注意，输出和值共享相同的$irreps$。"
   ]
  },
  {
   "cell_type": "code",
   "execution_count": 10,
   "metadata": {},
   "outputs": [],
   "source": [
    "import torch\n",
    "from torch_cluster import radius_graph\n",
    "from torch_scatter import scatter\n",
    "from e3nn import o3, nn\n",
    "from e3nn.math import soft_one_hot_linspace, soft_unit_step\n",
    "import matplotlib.pyplot as plt"
   ]
  },
  {
   "cell_type": "code",
   "execution_count": 5,
   "metadata": {},
   "outputs": [],
   "source": [
    "# Just define arbitrary irreps\n",
    "irreps_input = o3.Irreps(\"10x0e + 5x1o + 2x2e\")\n",
    "irreps_query = o3.Irreps(\"11x0e + 4x1o\")\n",
    "irreps_key = o3.Irreps(\"12x0e + 3x1o\")\n",
    "irreps_output = o3.Irreps(\"14x0e + 6x1o\")  # also irreps of the values"
   ]
  },
  {
   "cell_type": "markdown",
   "metadata": {},
   "source": [
    "让我们创建一个可以应用注意力机制的随机图"
   ]
  },
  {
   "cell_type": "code",
   "execution_count": 6,
   "metadata": {},
   "outputs": [],
   "source": [
    "num_nodes = 20\n",
    "\n",
    "pos = torch.randn(num_nodes, 3)\n",
    "f = irreps_input.randn(num_nodes, -1)\n",
    "\n",
    "# create graph\n",
    "max_radius = 1.3\n",
    "edge_src, edge_dst = radius_graph(pos, max_radius)\n",
    "edge_vec = pos[edge_src] - pos[edge_dst]\n",
    "edge_length = edge_vec.norm(dim=1)"
   ]
  },
  {
   "cell_type": "markdown",
   "metadata": {},
   "source": [
    "查询$q_i$是输入特征$f_i$的线性组合。"
   ]
  },
  {
   "cell_type": "code",
   "execution_count": 7,
   "metadata": {},
   "outputs": [
    {
     "name": "stderr",
     "output_type": "stream",
     "text": [
      "/DYZ/dyz1/anaconda3/envs/gnn/lib/python3.8/site-packages/torch/jit/_check.py:181: UserWarning: The TorchScript type system doesn't support instance-level annotations on empty non-base types in `__init__`. Instead, either 1) use a type annotation in the class body, or 2) wrap the type in `torch.jit.Attribute`.\n",
      "  warnings.warn(\"The TorchScript type system doesn't support \"\n"
     ]
    }
   ],
   "source": [
    "h_q = o3.Linear(irreps_input, irreps_query)"
   ]
  },
  {
   "cell_type": "markdown",
   "metadata": {},
   "source": [
    "为了生成依赖于半径的权重，我们在一个基础上投影边的长度"
   ]
  },
  {
   "cell_type": "code",
   "execution_count": 9,
   "metadata": {},
   "outputs": [],
   "source": [
    "number_of_basis = 10\n",
    "edge_length_embedded = soft_one_hot_linspace(\n",
    "    edge_length,\n",
    "    start=0.0,\n",
    "    end=max_radius,\n",
    "    number=number_of_basis,\n",
    "    basis='smooth_finite',\n",
    "    cutoff=True  # goes (smoothly) to zero at `start` and `end`\n",
    ")\n",
    "edge_length_embedded = edge_length_embedded.mul(number_of_basis**0.5)"
   ]
  },
  {
   "cell_type": "markdown",
   "metadata": {},
   "source": [
    "我们还需要一个介于0和1之间的数字来平滑地表示如果边的长度小于`max_radius`"
   ]
  },
  {
   "cell_type": "code",
   "execution_count": 11,
   "metadata": {},
   "outputs": [],
   "source": [
    "edge_weight_cutoff = soft_unit_step(10 * (1 - edge_length / max_radius))"
   ]
  },
  {
   "cell_type": "markdown",
   "metadata": {},
   "source": [
    "这是使用的函数图\n",
    "\n",
    "为了创建值和键，我们必须使用边缘的相对位置。我们将使用球面谐波对相对位置有更丰富的描述"
   ]
  },
  {
   "cell_type": "code",
   "execution_count": 12,
   "metadata": {},
   "outputs": [],
   "source": [
    "irreps_sh = o3.Irreps.spherical_harmonics(3)\n",
    "edge_sh = o3.spherical_harmonics(irreps_sh, edge_vec, True, normalization='component')"
   ]
  },
  {
   "cell_type": "markdown",
   "metadata": {},
   "source": [
    "我们将在输入和球面谐波之间做一个张量积来创建值和键。因为我们想要这些张量积的权重依赖于边的长度，我们将使用多层感知器生成权重。"
   ]
  },
  {
   "cell_type": "code",
   "execution_count": 13,
   "metadata": {},
   "outputs": [
    {
     "name": "stderr",
     "output_type": "stream",
     "text": [
      "/DYZ/dyz1/anaconda3/envs/gnn/lib/python3.8/site-packages/torch/jit/_check.py:181: UserWarning: The TorchScript type system doesn't support instance-level annotations on empty non-base types in `__init__`. Instead, either 1) use a type annotation in the class body, or 2) wrap the type in `torch.jit.Attribute`.\n",
      "  warnings.warn(\"The TorchScript type system doesn't support \"\n"
     ]
    }
   ],
   "source": [
    "tp_k = o3.FullyConnectedTensorProduct(irreps_input, irreps_sh, irreps_key, shared_weights=False)\n",
    "fc_k = nn.FullyConnectedNet([number_of_basis, 16, tp_k.weight_numel], act=torch.nn.functional.silu)\n",
    "\n",
    "tp_v = o3.FullyConnectedTensorProduct(irreps_input, irreps_sh, irreps_output, shared_weights=False)\n",
    "fc_v = nn.FullyConnectedNet([number_of_basis, 16, tp_v.weight_numel], act=torch.nn.functional.silu)"
   ]
  },
  {
   "cell_type": "markdown",
   "metadata": {},
   "source": [
    "对于公式的对应，$tp_v, fc_v$表示$h_k$, $tp_v, fc_v$表示$h_v$。然后我们需要一种方法来计算查询和键之间的点积"
   ]
  },
  {
   "cell_type": "code",
   "execution_count": 14,
   "metadata": {},
   "outputs": [],
   "source": [
    "dot = o3.FullyConnectedTensorProduct(irreps_query, irreps_key, \"0e\")"
   ]
  },
  {
   "cell_type": "markdown",
   "metadata": {},
   "source": [
    "`tp_k, tp_v`和`dot`\n",
    "\n",
    "![](./images/22.png)"
   ]
  },
  {
   "cell_type": "markdown",
   "metadata": {},
   "source": [
    "最后，我们可以使用我们创建的所有模块来计算注意力机制"
   ]
  },
  {
   "cell_type": "code",
   "execution_count": 15,
   "metadata": {},
   "outputs": [],
   "source": [
    "# compute the queries (per node), keys (per edge) and values (per edge)\n",
    "q = h_q(f)\n",
    "k = tp_k(f[edge_src], edge_sh, fc_k(edge_length_embedded))\n",
    "v = tp_v(f[edge_src], edge_sh, fc_v(edge_length_embedded))\n",
    "\n",
    "# compute the softmax (per edge)\n",
    "exp = edge_weight_cutoff[:, None] * dot(q[edge_dst], k).exp()  # compute the numerator\n",
    "z = scatter(exp, edge_dst, dim=0, dim_size=len(f))  # compute the denominator (per nodes)\n",
    "z[z == 0] = 1  # to avoid 0/0 when all the neighbors are exactly at the cutoff\n",
    "alpha = exp / z[edge_dst]\n",
    "\n",
    "# compute the outputs (per node)\n",
    "f_out = scatter(alpha.relu().sqrt() * v, edge_dst, dim=0, dim_size=len(f))"
   ]
  },
  {
   "cell_type": "markdown",
   "metadata": {},
   "source": [
    "请注意，该实现与本文略有不同。\n",
    "- 当我们移动点（删除/创建新的边缘）时，请特别注意使整个操作变得平稳。它是通过`edge_weight_cutoff, edge_length_embedded`和径向神经网络的属性`f(0)=0`来完成的。\n",
    "- 输出的权重为$\\sqrt{\\alpha_{i j}}$代替$\\alpha_{i j}$以确保适当的正则化。\n",
    "\n",
    "下面从归一化开始，对两者进行检查。\n",
    "\n"
   ]
  },
  {
   "cell_type": "code",
   "execution_count": 16,
   "metadata": {},
   "outputs": [
    {
     "data": {
      "text/plain": [
       "(-0.09971921145915985, 0.9955587387084961)"
      ]
     },
     "execution_count": 16,
     "metadata": {},
     "output_type": "execute_result"
    }
   ],
   "source": [
    "f_out.mean().item(), f_out.std().item()"
   ]
  },
  {
   "cell_type": "markdown",
   "metadata": {},
   "source": [
    "我们把所有的东西都放到一个函数里来检验平滑性和等方差。"
   ]
  },
  {
   "cell_type": "code",
   "execution_count": 17,
   "metadata": {},
   "outputs": [],
   "source": [
    "def transformer(f, pos):\n",
    "    edge_src, edge_dst = radius_graph(pos, max_radius)\n",
    "    edge_vec = pos[edge_src] - pos[edge_dst]\n",
    "    edge_length = edge_vec.norm(dim=1)\n",
    "\n",
    "    edge_length_embedded = soft_one_hot_linspace(\n",
    "        edge_length,\n",
    "        start=0.0,\n",
    "        end=max_radius,\n",
    "        number=number_of_basis,\n",
    "        basis='smooth_finite',\n",
    "        cutoff=True\n",
    "    )\n",
    "    edge_length_embedded = edge_length_embedded.mul(number_of_basis**0.5)\n",
    "    edge_weight_cutoff = soft_unit_step(10 * (1 - edge_length / max_radius))\n",
    "\n",
    "    edge_sh = o3.spherical_harmonics(irreps_sh, edge_vec, True, normalization='component')\n",
    "\n",
    "    q = h_q(f)\n",
    "    k = tp_k(f[edge_src], edge_sh, fc_k(edge_length_embedded))\n",
    "    v = tp_v(f[edge_src], edge_sh, fc_v(edge_length_embedded))\n",
    "\n",
    "    exp = edge_weight_cutoff[:, None] * dot(q[edge_dst], k).exp()\n",
    "    z = scatter(exp, edge_dst, dim=0, dim_size=len(f))\n",
    "    z[z == 0] = 1\n",
    "    alpha = exp / z[edge_dst]\n",
    "\n",
    "    return scatter(alpha.relu().sqrt() * v, edge_dst, dim=0, dim_size=len(f))"
   ]
  },
  {
   "cell_type": "markdown",
   "metadata": {},
   "source": [
    "这是一个平滑检查:两个节点被放置在距离为1的地方(`max_radius > 1`)，这样它们就可以看到彼此。来自远方的第三个节点慢慢地向它们移动。"
   ]
  },
  {
   "cell_type": "code",
   "execution_count": 18,
   "metadata": {},
   "outputs": [
    {
     "data": {
      "text/plain": [
       "[<matplotlib.lines.Line2D at 0x7f21f923bfa0>,\n",
       " <matplotlib.lines.Line2D at 0x7f21f923bfd0>,\n",
       " <matplotlib.lines.Line2D at 0x7f21f9248040>,\n",
       " <matplotlib.lines.Line2D at 0x7f21f9248190>,\n",
       " <matplotlib.lines.Line2D at 0x7f21f9248280>]"
      ]
     },
     "execution_count": 18,
     "metadata": {},
     "output_type": "execute_result"
    },
    {
     "data": {
      "image/png": "[encoded data removed]",
      "text/plain": [
       "<Figure size 432x288 with 1 Axes>"
      ]
     },
     "metadata": {
      "needs_background": "light"
     },
     "output_type": "display_data"
    }
   ],
   "source": [
    "f = irreps_input.randn(3, -1)\n",
    "\n",
    "xs = torch.linspace(-1.3, -1.0, 200)\n",
    "outputs = []\n",
    "\n",
    "for x in xs:\n",
    "    pos = torch.tensor([\n",
    "        [0.0, 0.5, 0.0],       # this node always sees...\n",
    "        [0.0, -0.5, 0.0],      # ...this node\n",
    "        [x.item(), 0.0, 0.0],  # this node moves slowly\n",
    "    ])\n",
    "\n",
    "    with torch.no_grad():\n",
    "        outputs.append(transformer(f, pos))\n",
    "\n",
    "outputs = torch.stack(outputs)\n",
    "plt.plot(xs, outputs[:, 0, [0, 1, 14, 15, 16]], 'k')  # plots 2 scalars and 1 vector\n",
    "plt.plot(xs, outputs[:, 1, [0, 1, 14, 15, 16]], 'g')\n",
    "plt.plot(xs, outputs[:, 2, [0, 1, 14, 15, 16]], 'r')"
   ]
  },
  {
   "cell_type": "markdown",
   "metadata": {},
   "source": [
    "最后我们可以检查一下等方差"
   ]
  },
  {
   "cell_type": "code",
   "execution_count": 19,
   "metadata": {},
   "outputs": [
    {
     "data": {
      "text/plain": [
       "True"
      ]
     },
     "execution_count": 19,
     "metadata": {},
     "output_type": "execute_result"
    }
   ],
   "source": [
    "f = irreps_input.randn(10, -1)\n",
    "pos = torch.randn(10, 3)\n",
    "\n",
    "rot = o3.rand_matrix()\n",
    "D_in = irreps_input.D_from_matrix(rot)\n",
    "D_out = irreps_output.D_from_matrix(rot)\n",
    "\n",
    "f_before = transformer(f @ D_in.T, pos @ rot.T)\n",
    "f_after = transformer(f, pos) @ D_out.T\n",
    "\n",
    "torch.allclose(f_before, f_after, atol=1e-3, rtol=1e-3)"
   ]
  },
  {
   "cell_type": "markdown",
   "metadata": {},
   "source": [
    "对向后传递进行额外的完整性检查"
   ]
  },
  {
   "cell_type": "code",
   "execution_count": 20,
   "metadata": {},
   "outputs": [],
   "source": [
    "for x in [0.0, 1e-6,  max_radius / 2, max_radius - 1e-6, max_radius, max_radius + 1e-6, 2 * max_radius]:\n",
    "    f = irreps_input.randn(2, -1, requires_grad=True)\n",
    "    pos = torch.tensor([\n",
    "        [0.0, 0.0, 0.0],\n",
    "        [x, 0.0, 0.0],\n",
    "    ], requires_grad=True)\n",
    "    transformer(f, pos).sum().backward()\n",
    "\n",
    "    assert f.grad is None or torch.isfinite(f.grad).all()\n",
    "    assert torch.isfinite(pos.grad).all()"
   ]
  },
  {
   "cell_type": "code",
   "execution_count": null,
   "metadata": {},
   "outputs": [],
   "source": []
  }
 ],
 "metadata": {
  "kernelspec": {
   "display_name": "Python 3.8.5 ('gnn')",
   "language": "python",
   "name": "python3"
  },
  "language_info": {
   "codemirror_mode": {
    "name": "ipython",
    "version": 3
   },
   "file_extension": ".py",
   "mimetype": "text/x-python",
   "name": "python",
   "nbconvert_exporter": "python",
   "pygments_lexer": "ipython3",
   "version": "3.8.5"
  },
  "orig_nbformat": 4,
  "vscode": {
   "interpreter": {
    "hash": "bbc91dbcb0051019ae97b751bde437ca7a1084c41c512133368dd180960dc485"
   }
  }
 },
 "nbformat": 4,
 "nbformat_minor": 2
}
