{
 "cells": [
  {
   "cell_type": "markdown",
   "metadata": {},
   "source": [
    "# Self-Attention 介绍\n",
    "\n",
    "- 将序列$\\left(x_1, x_2, \\cdots, x_i\\right)$中每一个值作为$\\text {key, value}$ 和 $query$，来提取特征 $\\left(y_1, y_2, \\cdots, y_i\\right)$\n",
    "- 也就是$y_i=f\\left(x_i,\\left(x_1, x_1\\right),\\left(x_2, x_2\\right), \\cdots,\\left(x_n, x_n\\right)\\right)$\n",
    "- 这里 $key$，$value$ 和 $query$ 都是来自与自己，就不需要之前的 $encoder$ 和 $decoder$;\n",
    "- 相当于给定$\\left(x_1, x_2, \\cdots, x_i\\right)$，可以生成一个$\\left(y_1, y_2, \\cdots, y_i\\right)$"
   ]
  },
  {
   "cell_type": "markdown",
   "metadata": {},
   "source": [
    "## Self-Attention 与 CNN 和 RNN 的比较\n",
    "- CNN 的 kernel 比较小，要比较多的层数才可以看得范围比较多；\n",
    "- RNN 中信息的传递，如果距离比较远，需要的步骤也很多，且 RNN 无法直接并行；\n",
    "- self-attention，信息传递是可以直接传递过去的，可以抓取很远的信息；"
   ]
  },
  {
   "cell_type": "code",
   "execution_count": 2,
   "metadata": {},
   "outputs": [
    {
     "name": "stderr",
     "output_type": "stream",
     "text": [
      "/DYZ/dyz1/anaconda3/envs/cv_project/lib/python3.7/site-packages/tqdm/auto.py:22: TqdmWarning: IProgress not found. Please update jupyter and ipywidgets. See https://ipywidgets.readthedocs.io/en/stable/user_install.html\n",
      "  from .autonotebook import tqdm as notebook_tqdm\n"
     ]
    }
   ],
   "source": [
    "import math\n",
    "import torch\n",
    "from torch import nn\n",
    "from lib.d2l_torch import MultiHeadAttention, plot, show_heatmaps"
   ]
  },
  {
   "cell_type": "code",
   "execution_count": 3,
   "metadata": {},
   "outputs": [
    {
     "name": "stdout",
     "output_type": "stream",
     "text": [
      "torch.Size([2, 4, 100])\n",
      "torch.Size([2, 4, 100])\n"
     ]
    },
    {
     "name": "stderr",
     "output_type": "stream",
     "text": [
      "/DYZ/dyz1/anaconda3/envs/cv_project/lib/python3.7/site-packages/torch/nn/modules/lazy.py:178: UserWarning: Lazy modules are a new feature under heavy development so changes to the API or functionality can happen at any moment.\n",
      "  warnings.warn('Lazy modules are a new feature under heavy development '\n"
     ]
    }
   ],
   "source": [
    "# 可以让输入和输出完全一样大小\n",
    "num_hiddens = 100 # `qkv` 转换后的大小维度, 单个的维度为 num_hiddens/num_heads\n",
    "num_heads = 5 # head 的数量\n",
    "attention = MultiHeadAttention(num_hiddens, num_heads, 0.5)\n",
    "\n",
    "# 构建输入\n",
    "batch_size = 2\n",
    "num_queries = 4\n",
    "valid_lens = torch.tensor([3, 2])\n",
    "X = torch.ones((batch_size, num_queries, num_hiddens))\n",
    "print(X.shape)\n",
    "attention_result = attention(X, X, X, valid_lens) # q, k, v 都是 x\n",
    "# attention 之后的大小 (batch_size, number of queries, num_hiddens)\n",
    "print(attention_result.shape)"
   ]
  },
  {
   "cell_type": "code",
   "execution_count": 4,
   "metadata": {},
   "outputs": [
    {
     "name": "stdout",
     "output_type": "stream",
     "text": [
      "torch.Size([2, 4, 100])\n",
      "torch.Size([2, 4, 50])\n"
     ]
    },
    {
     "name": "stderr",
     "output_type": "stream",
     "text": [
      "/DYZ/dyz1/anaconda3/envs/cv_project/lib/python3.7/site-packages/torch/nn/modules/lazy.py:178: UserWarning: Lazy modules are a new feature under heavy development so changes to the API or functionality can happen at any moment.\n",
      "  warnings.warn('Lazy modules are a new feature under heavy development '\n"
     ]
    }
   ],
   "source": [
    "# 也可以修改输入和输出的大小\n",
    "num_hiddens = 50 # `qkv` 转换后的大小维度, 单个的维度为 num_hiddens/num_heads\n",
    "num_heads = 5 # head 的数量\n",
    "attention = MultiHeadAttention(num_hiddens, num_heads, 0.5)\n",
    "\n",
    "batch_size = 2\n",
    "num_queries = 4\n",
    "valid_lens = torch.tensor([3, 2])\n",
    "X = torch.ones((batch_size, num_queries, num_hiddens*2))\n",
    "print(X.shape)\n",
    "attention_result = attention(X, X, X, valid_lens) # q, k, v 都是 x\n",
    "print(attention_result.shape) # attention 之后的大小 (batch_size, number of queries, num_hiddens)\n"
   ]
  },
  {
   "cell_type": "code",
   "execution_count": null,
   "metadata": {},
   "outputs": [],
   "source": []
  }
 ],
 "metadata": {
  "kernelspec": {
   "display_name": "Python 3.7.5 ('cv_project')",
   "language": "python",
   "name": "python3"
  },
  "language_info": {
   "codemirror_mode": {
    "name": "ipython",
    "version": 3
   },
   "file_extension": ".py",
   "mimetype": "text/x-python",
   "name": "python",
   "nbconvert_exporter": "python",
   "pygments_lexer": "ipython3",
   "version": "3.7.5"
  },
  "orig_nbformat": 4,
  "vscode": {
   "interpreter": {
    "hash": "c4a9c97a8b021f57fd72049f636b97cda4a73e3b574c4423a7c228fa056b5e4b"
   }
  }
 },
 "nbformat": 4,
 "nbformat_minor": 2
}
