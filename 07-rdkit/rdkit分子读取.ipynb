{
 "cells": [
  {
   "attachments": {},
   "cell_type": "markdown",
   "metadata": {},
   "source": [
    "# rdkit 分子读取"
   ]
  },
  {
   "cell_type": "code",
   "execution_count": 1,
   "metadata": {},
   "outputs": [],
   "source": [
    "from rdkit import Chem"
   ]
  },
  {
   "attachments": {},
   "cell_type": "markdown",
   "metadata": {},
   "source": [
    "## 读SMILES/SMARTS"
   ]
  },
  {
   "cell_type": "code",
   "execution_count": 2,
   "metadata": {},
   "outputs": [
    {
     "data": {
      "text/plain": [
       "<rdkit.Chem.rdchem.Mol at 0x7f8b242cd8d0>"
      ]
     },
     "execution_count": 2,
     "metadata": {},
     "output_type": "execute_result"
    }
   ],
   "source": [
    "m = Chem.MolFromSmiles('C[C@H](O)c1ccccc1')\n",
    "m"
   ]
  },
  {
   "cell_type": "code",
   "execution_count": 3,
   "metadata": {},
   "outputs": [
    {
     "data": {
      "text/plain": [
       "<rdkit.Chem.rdchem.Mol at 0x7f8b242cdcf0>"
      ]
     },
     "execution_count": 3,
     "metadata": {},
     "output_type": "execute_result"
    }
   ],
   "source": [
    "m = Chem.MolFromSmarts('Cc1ccccc1')\n",
    "m"
   ]
  },
  {
   "attachments": {},
   "cell_type": "markdown",
   "metadata": {},
   "source": [
    "## 文件批量读取\n",
    "\n",
    "从`.csv`批量读取：`SmilesMolSupplier(data, delimiter, smilesColumn, nameColumn, titleLine, sanitize)`       \n",
    "`data`：数据文件                    \n",
    "`delimiter`：分隔符，默认为’ ’                           \n",
    "`smilesColumn`：SMILES所在列，默认为0                    \n",
    "`nameColumn`：SMILES名称所在列，默认为1                \n",
    "`titleLine`：是否含有标题行，默认True                      \n",
    "`sanitize`：是否检查正确性，默认True                       \n"
   ]
  },
  {
   "cell_type": "code",
   "execution_count": 4,
   "metadata": {},
   "outputs": [
    {
     "name": "stdout",
     "output_type": "stream",
     "text": [
      "['C1=CC=CC=CC=C1', 'c1ccccc1', 'c1ccoc1']\n"
     ]
    }
   ],
   "source": [
    "suppl = Chem.SmilesMolSupplier(data=\"./data/batch.csv\", delimiter=\",\")\n",
    "smiles = [Chem.MolToSmiles(m) for m in suppl]\n",
    "print(smiles)"
   ]
  },
  {
   "attachments": {},
   "cell_type": "markdown",
   "metadata": {},
   "source": [
    "从文本批量读取：`SmilesMolSupplierFromText()`                 \n",
    "参数基本同上"
   ]
  },
  {
   "cell_type": "code",
   "execution_count": 12,
   "metadata": {},
   "outputs": [
    {
     "name": "stdout",
     "output_type": "stream",
     "text": [
      "['C1=CC=CC=CC=C1', 'c1ccccc1', 'c1ccoc1']\n"
     ]
    }
   ],
   "source": [
    "with open(\"./data/batch.csv\", \"r\", encoding=\"utf-8\") as f:\n",
    "    content = f.read()\n",
    "suppl = Chem.SmilesMolSupplierFromText(text=content, delimiter=\",\")\n",
    "smiles = [Chem.MolToSmiles(m) for m in suppl]\n",
    "print(smiles)"
   ]
  },
  {
   "attachments": {},
   "cell_type": "markdown",
   "metadata": {},
   "source": [
    "DataFrame批量读取     \n",
    "\n",
    "读取DataFrame中的SMILES：`AddMoleculeColumnToFrame(frame, smilesCol, molCol, includeFingerprints)`              \n",
    "`frame`：DataFrame对象                          \n",
    "`smilesCol`：SMILES所在列                            \n",
    "`molCol`：新列名，将存放产生的rdkit mol对象                \n",
    "`includeFingerprints`：是否生成指纹                    \n"
   ]
  },
  {
   "cell_type": "code",
   "execution_count": 13,
   "metadata": {},
   "outputs": [],
   "source": [
    "from rdkit.Chem import PandasTools\n",
    "import pandas as pd"
   ]
  },
  {
   "cell_type": "code",
   "execution_count": 19,
   "metadata": {},
   "outputs": [
    {
     "data": {
      "text/html": [
       "<div>\n",
       "<style scoped>\n",
       "    .dataframe tbody tr th:only-of-type {\n",
       "        vertical-align: middle;\n",
       "    }\n",
       "\n",
       "    .dataframe tbody tr th {\n",
       "        vertical-align: top;\n",
       "    }\n",
       "\n",
       "    .dataframe thead th {\n",
       "        text-align: right;\n",
       "    }\n",
       "</style>\n",
       "<table border=\"1\" class=\"dataframe\">\n",
       "  <thead>\n",
       "    <tr style=\"text-align: right;\">\n",
       "      <th></th>\n",
       "      <th>SMILES</th>\n",
       "      <th>Name</th>\n",
       "    </tr>\n",
       "  </thead>\n",
       "  <tbody>\n",
       "    <tr>\n",
       "      <th>0</th>\n",
       "      <td>C1=CC=CC=CC=C1</td>\n",
       "      <td>0</td>\n",
       "    </tr>\n",
       "    <tr>\n",
       "      <th>1</th>\n",
       "      <td>c1ccccc1</td>\n",
       "      <td>1</td>\n",
       "    </tr>\n",
       "    <tr>\n",
       "      <th>2</th>\n",
       "      <td>c1cocc1</td>\n",
       "      <td>2</td>\n",
       "    </tr>\n",
       "  </tbody>\n",
       "</table>\n",
       "</div>"
      ],
      "text/plain": [
       "           SMILES  Name\n",
       "0  C1=CC=CC=CC=C1     0\n",
       "1        c1ccccc1     1\n",
       "2         c1cocc1     2"
      ]
     },
     "execution_count": 19,
     "metadata": {},
     "output_type": "execute_result"
    }
   ],
   "source": [
    "df = pd.read_csv('./data/batch.csv')\n",
    "df"
   ]
  },
  {
   "cell_type": "code",
   "execution_count": 20,
   "metadata": {},
   "outputs": [
    {
     "name": "stdout",
     "output_type": "stream",
     "text": [
      "\u001b[0;31mSignature:\u001b[0m\n",
      "\u001b[0mPandasTools\u001b[0m\u001b[0;34m.\u001b[0m\u001b[0mAddMoleculeColumnToFrame\u001b[0m\u001b[0;34m(\u001b[0m\u001b[0;34m\u001b[0m\n",
      "\u001b[0;34m\u001b[0m    \u001b[0mframe\u001b[0m\u001b[0;34m,\u001b[0m\u001b[0;34m\u001b[0m\n",
      "\u001b[0;34m\u001b[0m    \u001b[0msmilesCol\u001b[0m\u001b[0;34m=\u001b[0m\u001b[0;34m'Smiles'\u001b[0m\u001b[0;34m,\u001b[0m\u001b[0;34m\u001b[0m\n",
      "\u001b[0;34m\u001b[0m    \u001b[0mmolCol\u001b[0m\u001b[0;34m=\u001b[0m\u001b[0;34m'ROMol'\u001b[0m\u001b[0;34m,\u001b[0m\u001b[0;34m\u001b[0m\n",
      "\u001b[0;34m\u001b[0m    \u001b[0mincludeFingerprints\u001b[0m\u001b[0;34m=\u001b[0m\u001b[0;32mFalse\u001b[0m\u001b[0;34m,\u001b[0m\u001b[0;34m\u001b[0m\n",
      "\u001b[0;34m\u001b[0m\u001b[0;34m)\u001b[0m\u001b[0;34m\u001b[0m\u001b[0;34m\u001b[0m\u001b[0m\n",
      "\u001b[0;31mDocstring:\u001b[0m\n",
      "Converts the molecules contains in \"smilesCol\" to RDKit molecules and appends them to the\n",
      "dataframe \"frame\" using the specified column name.\n",
      "If desired, a fingerprint can be computed and stored with the molecule objects to accelerate\n",
      "substructure matching\n",
      "\u001b[0;31mFile:\u001b[0m      ~/anaconda3/envs/gnn/lib/python3.8/site-packages/rdkit/Chem/PandasTools.py\n",
      "\u001b[0;31mType:\u001b[0m      function\n"
     ]
    }
   ],
   "source": [
    "PandasTools.AddMoleculeColumnToFrame?"
   ]
  },
  {
   "cell_type": "code",
   "execution_count": 21,
   "metadata": {},
   "outputs": [],
   "source": [
    "PandasTools.AddMoleculeColumnToFrame(frame=df,smilesCol='SMILES', molCol='mol' ,includeFingerprints=True)"
   ]
  },
  {
   "cell_type": "code",
   "execution_count": 22,
   "metadata": {},
   "outputs": [
    {
     "data": {
      "text/html": [
       "<div>\n",
       "<style scoped>\n",
       "    .dataframe tbody tr th:only-of-type {\n",
       "        vertical-align: middle;\n",
       "    }\n",
       "\n",
       "    .dataframe tbody tr th {\n",
       "        vertical-align: top;\n",
       "    }\n",
       "\n",
       "    .dataframe thead th {\n",
       "        text-align: right;\n",
       "    }\n",
       "</style>\n",
       "<table border=\"1\" class=\"dataframe\">\n",
       "  <thead>\n",
       "    <tr style=\"text-align: right;\">\n",
       "      <th></th>\n",
       "      <th>SMILES</th>\n",
       "      <th>Name</th>\n",
       "      <th>mol</th>\n",
       "    </tr>\n",
       "  </thead>\n",
       "  <tbody>\n",
       "    <tr>\n",
       "      <th>0</th>\n",
       "      <td>C1=CC=CC=CC=C1</td>\n",
       "      <td>0</td>\n",
       "      <td style=\"text-align: center;\"><div style=\"width: 200px; height: 200px\" data-content=\"rdkit/molecule\"><img src=\"data:image/png;base64,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\" alt=\"Mol\"/></div></td>\n",
       "    </tr>\n",
       "    <tr>\n",
       "      <th>1</th>\n",
       "      <td>c1ccccc1</td>\n",
       "      <td>1</td>\n",
       "      <td style=\"text-align: center;\"><div style=\"width: 200px; height: 200px\" data-content=\"rdkit/molecule\"><img src=\"data:image/png;base64,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\" alt=\"Mol\"/></div></td>\n",
       "    </tr>\n",
       "    <tr>\n",
       "      <th>2</th>\n",
       "      <td>c1cocc1</td>\n",
       "      <td>2</td>\n",
       "      <td style=\"text-align: center;\"><div style=\"width: 200px; height: 200px\" data-content=\"rdkit/molecule\"><img src=\"data:image/png;base64,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\" alt=\"Mol\"/></div></td>\n",
       "    </tr>\n",
       "  </tbody>\n",
       "</table>\n",
       "</div>"
      ],
      "text/plain": [
       "           SMILES  Name                                               mol\n",
       "0  C1=CC=CC=CC=C1     0  <rdkit.Chem.rdchem.Mol object at 0x7f8b23ce0c90>\n",
       "1        c1ccccc1     1  <rdkit.Chem.rdchem.Mol object at 0x7f8b23ce0bd0>\n",
       "2         c1cocc1     2  <rdkit.Chem.rdchem.Mol object at 0x7f8b23ce0b10>"
      ]
     },
     "execution_count": 22,
     "metadata": {},
     "output_type": "execute_result"
    }
   ],
   "source": [
    "df"
   ]
  },
  {
   "attachments": {},
   "cell_type": "markdown",
   "metadata": {},
   "source": [
    "下面我们可以计算分子的质量"
   ]
  },
  {
   "cell_type": "code",
   "execution_count": 23,
   "metadata": {},
   "outputs": [
    {
     "data": {
      "text/html": [
       "<div>\n",
       "<style scoped>\n",
       "    .dataframe tbody tr th:only-of-type {\n",
       "        vertical-align: middle;\n",
       "    }\n",
       "\n",
       "    .dataframe tbody tr th {\n",
       "        vertical-align: top;\n",
       "    }\n",
       "\n",
       "    .dataframe thead th {\n",
       "        text-align: right;\n",
       "    }\n",
       "</style>\n",
       "<table border=\"1\" class=\"dataframe\">\n",
       "  <thead>\n",
       "    <tr style=\"text-align: right;\">\n",
       "      <th></th>\n",
       "      <th>SMILES</th>\n",
       "      <th>Name</th>\n",
       "      <th>mol</th>\n",
       "      <th>MW</th>\n",
       "    </tr>\n",
       "  </thead>\n",
       "  <tbody>\n",
       "    <tr>\n",
       "      <th>0</th>\n",
       "      <td>C1=CC=CC=CC=C1</td>\n",
       "      <td>0</td>\n",
       "      <td style=\"text-align: center;\"><div style=\"width: 200px; height: 200px\" data-content=\"rdkit/molecule\"><img src=\"data:image/png;base64,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\" alt=\"Mol\"/></div></td>\n",
       "      <td>104.152</td>\n",
       "    </tr>\n",
       "    <tr>\n",
       "      <th>1</th>\n",
       "      <td>c1ccccc1</td>\n",
       "      <td>1</td>\n",
       "      <td style=\"text-align: center;\"><div style=\"width: 200px; height: 200px\" data-content=\"rdkit/molecule\"><img src=\"data:image/png;base64,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\" alt=\"Mol\"/></div></td>\n",
       "      <td>78.114</td>\n",
       "    </tr>\n",
       "    <tr>\n",
       "      <th>2</th>\n",
       "      <td>c1cocc1</td>\n",
       "      <td>2</td>\n",
       "      <td style=\"text-align: center;\"><div style=\"width: 200px; height: 200px\" data-content=\"rdkit/molecule\"><img src=\"data:image/png;base64,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\" alt=\"Mol\"/></div></td>\n",
       "      <td>68.075</td>\n",
       "    </tr>\n",
       "  </tbody>\n",
       "</table>\n",
       "</div>"
      ],
      "text/plain": [
       "           SMILES  Name                                               mol  \\\n",
       "0  C1=CC=CC=CC=C1     0  <rdkit.Chem.rdchem.Mol object at 0x7f8b23ce0c90>   \n",
       "1        c1ccccc1     1  <rdkit.Chem.rdchem.Mol object at 0x7f8b23ce0bd0>   \n",
       "2         c1cocc1     2  <rdkit.Chem.rdchem.Mol object at 0x7f8b23ce0b10>   \n",
       "\n",
       "        MW  \n",
       "0  104.152  \n",
       "1   78.114  \n",
       "2   68.075  "
      ]
     },
     "execution_count": 23,
     "metadata": {},
     "output_type": "execute_result"
    }
   ],
   "source": [
    "from rdkit.Chem import Descriptors\n",
    "\n",
    "df[\"MW\"] = df[\"mol\"].apply(Descriptors.MolWt)\n",
    "df"
   ]
  },
  {
   "attachments": {},
   "cell_type": "markdown",
   "metadata": {},
   "source": [
    "从`.sdf`里批量读取：`SDMolSupplier(fileName, sanitize, removeHs, strictParsing)`                \n",
    "`fileName`：文件名                \n",
    "`sanitize`：检查化合价，计算芳香性、共轭、杂化、kekule，默认True              \n",
    "`removeHs`：是否隐藏氢原子，默认True                    \n",
    "`strictParsing`：是否使用严格模式进行解析，默认True                "
   ]
  },
  {
   "cell_type": "code",
   "execution_count": 25,
   "metadata": {},
   "outputs": [
    {
     "name": "stdout",
     "output_type": "stream",
     "text": [
      "\u001b[0;31mDocstring:\u001b[0m     \n",
      "A class which supplies molecules from an SD file.\n",
      "\n",
      "Usage examples:\n",
      "\n",
      "  1) Lazy evaluation: the molecules are not constructed until we ask for them:\n",
      "\n",
      "     >>> suppl = SDMolSupplier('in.sdf')\n",
      "     >>> for mol in suppl:\n",
      "     ...    mol.GetNumAtoms()\n",
      "\n",
      "  2) Lazy evaluation 2:\n",
      "\n",
      "     >>> suppl = SDMolSupplier('in.sdf')\n",
      "     >>> mol1 = next(suppl)\n",
      "     >>> mol2 = next(suppl)\n",
      "     >>> suppl.reset()\n",
      "     >>> mol3 = next(suppl)\n",
      "     # mol3 and mol1 are the same:\n",
      "     >>> MolToSmiles(mol3)==MolToSmiles(mol1)\n",
      "\n",
      "  3) Random Access:\n",
      "\n",
      "     >>> suppl = SDMolSupplier('in.sdf')\n",
      "     >>> mol1 = suppl[0] \n",
      "     >>> mol2 = suppl[1] \n",
      "     # NOTE: this will generate an IndexError if the supplier doesn't have that many\n",
      "     molecules.\n",
      "\n",
      "  4) Random Access 2:  looping over all molecules \n",
      "\n",
      "     >>> suppl = SDMolSupplier('in.sdf')\n",
      "     >>> nMols = len(suppl)\n",
      "     >>> for i in range(nMols):\n",
      "     ...   suppl[i].GetNumAtoms()\n",
      "\n",
      "Properties in the SD file are used to set properties on each molecule.\n",
      "The properties are accessible using the mol.GetProp(propName) method.\n",
      "\u001b[0;31mInit docstring:\u001b[0m\n",
      "__init__( (object)arg1) -> None :\n",
      "\n",
      "    C++ signature :\n",
      "        void __init__(_object*)\n",
      "\n",
      "__init__( (object)arg1, (str)fileName [, (bool)sanitize=True [, (bool)removeHs=True [, (bool)strictParsing=True]]]) -> None :\n",
      "\n",
      "    C++ signature :\n",
      "        void __init__(_object*,std::string [,bool=True [,bool=True [,bool=True]]])\n",
      "\u001b[0;31mFile:\u001b[0m           ~/anaconda3/envs/gnn/lib/python3.8/site-packages/rdkit/Chem/rdmolfiles.so\n",
      "\u001b[0;31mType:\u001b[0m           class\n",
      "\u001b[0;31mSubclasses:\u001b[0m     \n"
     ]
    }
   ],
   "source": [
    "from rdkit.Chem import SDMolSupplier\n",
    "SDMolSupplier?"
   ]
  },
  {
   "cell_type": "code",
   "execution_count": 24,
   "metadata": {},
   "outputs": [
    {
     "name": "stdout",
     "output_type": "stream",
     "text": [
      "['C1=CC=CC=CC=C1', 'c1ccccc1', 'c1ccoc1']\n"
     ]
    }
   ],
   "source": [
    "\n",
    "suppl = SDMolSupplier(\"./data/batch.sdf\")\n",
    "smiles = [Chem.MolToSmiles(m) for m in suppl]\n",
    "print(smiles)"
   ]
  },
  {
   "attachments": {},
   "cell_type": "markdown",
   "metadata": {},
   "source": [
    "从压缩包file object/.gz里读取"
   ]
  },
  {
   "cell_type": "code",
   "execution_count": 26,
   "metadata": {},
   "outputs": [
    {
     "name": "stdout",
     "output_type": "stream",
     "text": [
      "['C1=CC=CC=CC=C1', 'c1ccccc1', 'c1ccoc1']\n"
     ]
    }
   ],
   "source": [
    "import gzip\n",
    "gz_file = gzip.open(\"./data/batch.sdf.gz\", \"r\")\n",
    "suppl = Chem.ForwardSDMolSupplier(gz_file)\n",
    "smiles = [Chem.MolToSmiles(m) for m in suppl]\n",
    "print(smiles)"
   ]
  },
  {
   "attachments": {},
   "cell_type": "markdown",
   "metadata": {},
   "source": [
    "## 读.mol\n",
    "从`.mol`里读取：`MolFromMolFile(fileName, sanitize, removeHs, strictParsing)`\n"
   ]
  },
  {
   "cell_type": "code",
   "execution_count": 29,
   "metadata": {},
   "outputs": [
    {
     "data": {
      "text/plain": [
       "<rdkit.Chem.rdchem.Mol at 0x7f8b1b53b1b0>"
      ]
     },
     "execution_count": 29,
     "metadata": {},
     "output_type": "execute_result"
    }
   ],
   "source": [
    "m = Chem.MolFromMolFile('./data/single.mol')\n",
    "m"
   ]
  },
  {
   "attachments": {},
   "cell_type": "markdown",
   "metadata": {},
   "source": [
    "## 读.mol2\n",
    "不推荐，容易出bug：`MolFromMol2File(…)`"
   ]
  },
  {
   "cell_type": "code",
   "execution_count": 35,
   "metadata": {},
   "outputs": [
    {
     "name": "stdout",
     "output_type": "stream",
     "text": [
      "[C]1=[C][C]=[C][C]=[C][C]=[C]1\n"
     ]
    }
   ],
   "source": [
    "m = Chem.MolFromMol2File('data/batch.mol2')\n",
    "print(Chem.MolToSmiles(m))\n"
   ]
  },
  {
   "attachments": {},
   "cell_type": "markdown",
   "metadata": {},
   "source": [
    "## 读取pdb"
   ]
  },
  {
   "cell_type": "code",
   "execution_count": 37,
   "metadata": {},
   "outputs": [
    {
     "name": "stdout",
     "output_type": "stream",
     "text": [
      "C1=CC=CC=CC=C1\n"
     ]
    }
   ],
   "source": [
    "mol = Chem.MolFromPDBFile(\"./data/single.pdb\")\n",
    "print(Chem.MolToSmiles(mol))"
   ]
  },
  {
   "cell_type": "code",
   "execution_count": 38,
   "metadata": {},
   "outputs": [
    {
     "name": "stdout",
     "output_type": "stream",
     "text": [
      "C1=CC=CC=CC=C1\n"
     ]
    }
   ],
   "source": [
    "mol =Chem.MolFromPDBBlock(\"\"\"COMPND    UNNAMED\n",
    "AUTHOR    GENERATED BY OPEN BABEL 3.1.1\n",
    "HETATM    1  C   UNL     1       0.000   0.000   0.000  1.00  0.00           C  \n",
    "HETATM    2  C   UNL     1       0.000   0.000   0.000  1.00  0.00           C  \n",
    "HETATM    3  C   UNL     1       0.000   0.000   0.000  1.00  0.00           C  \n",
    "HETATM    4  C   UNL     1       0.000   0.000   0.000  1.00  0.00           C  \n",
    "HETATM    5  C   UNL     1       0.000   0.000   0.000  1.00  0.00           C  \n",
    "HETATM    6  C   UNL     1       0.000   0.000   0.000  1.00  0.00           C  \n",
    "HETATM    7  C   UNL     1       0.000   0.000   0.000  1.00  0.00           C  \n",
    "HETATM    8  C   UNL     1       0.000   0.000   0.000  1.00  0.00           C  \n",
    "CONECT    1    8    2    2                                            \n",
    "CONECT    2    1    1    3                                            \n",
    "CONECT    3    2    4    4                                            \n",
    "CONECT    4    3    3    5                                            \n",
    "CONECT    5    4    6    6                                            \n",
    "CONECT    6    5    5    7                                            \n",
    "CONECT    7    6    8    8                                            \n",
    "CONECT    8    7    7    1                                            \n",
    "MASTER        0    0    0    0    0    0    0    0    8    0    8    0\n",
    "END\"\"\")\n",
    "print(Chem.MolToSmiles(mol))"
   ]
  },
  {
   "attachments": {},
   "cell_type": "markdown",
   "metadata": {},
   "source": [
    "## 读取fasta序列\n"
   ]
  },
  {
   "cell_type": "code",
   "execution_count": 47,
   "metadata": {},
   "outputs": [
    {
     "data": {
      "text/plain": [
       "<rdkit.Chem.rdchem.Mol at 0x7f8b1b545030>"
      ]
     },
     "execution_count": 47,
     "metadata": {},
     "output_type": "execute_result"
    }
   ],
   "source": [
    "mol = Chem.MolFromFASTA(\"\"\">3CA7_1|Chain A|Protein spitz|Drosophila melanogaster (7227)\n",
    "TFPTYKCPETFDAWYCLNDAHCFAVKIADLPVYSCECAIGFMGQRCEYKEID\"\"\")\n",
    "mol"
   ]
  },
  {
   "cell_type": "code",
   "execution_count": 48,
   "metadata": {},
   "outputs": [
    {
     "data": {
      "text/plain": [
       "<rdkit.Chem.rdchem.Mol at 0x7f8b1b545510>"
      ]
     },
     "execution_count": 48,
     "metadata": {},
     "output_type": "execute_result"
    }
   ],
   "source": [
    "mol = Chem.MolFromSequence(\"TFPTYKCPETFDAWYCLNDAHCFAVKIADLPVYSCECAIGFMGQRCEYKEID\")\n",
    "mol"
   ]
  },
  {
   "cell_type": "code",
   "execution_count": null,
   "metadata": {},
   "outputs": [],
   "source": [
    "## 读取Inchi"
   ]
  },
  {
   "cell_type": "code",
   "execution_count": 50,
   "metadata": {},
   "outputs": [
    {
     "name": "stdout",
     "output_type": "stream",
     "text": [
      "C[C@H](O)c1ccccc1\n"
     ]
    }
   ],
   "source": [
    "mol = Chem.MolFromInchi(\"InChI=1S/C8H10O/c1-7(9)8-5-3-2-4-6-8/h2-7,9H,1H3/t7-/m0/s1\")\n",
    "print(Chem.MolToSmiles(mol))"
   ]
  }
 ],
 "metadata": {
  "kernelspec": {
   "display_name": "gnn",
   "language": "python",
   "name": "python3"
  },
  "language_info": {
   "codemirror_mode": {
    "name": "ipython",
    "version": 3
   },
   "file_extension": ".py",
   "mimetype": "text/x-python",
   "name": "python",
   "nbconvert_exporter": "python",
   "pygments_lexer": "ipython3",
   "version": "3.8.5"
  },
  "orig_nbformat": 4,
  "vscode": {
   "interpreter": {
    "hash": "bbc91dbcb0051019ae97b751bde437ca7a1084c41c512133368dd180960dc485"
   }
  }
 },
 "nbformat": 4,
 "nbformat_minor": 2
}
