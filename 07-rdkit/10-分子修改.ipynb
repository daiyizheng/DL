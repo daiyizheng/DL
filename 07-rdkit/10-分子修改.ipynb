{
 "cells": [
  {
   "cell_type": "markdown",
   "metadata": {},
   "source": [
    "## rdkit 分子修改"
   ]
  },
  {
   "cell_type": "code",
   "execution_count": null,
   "metadata": {},
   "outputs": [],
   "source": [
    "from rdkit import Chem\n",
    "from rdkit.Chem import Draw"
   ]
  },
  {
   "cell_type": "markdown",
   "metadata": {},
   "source": [
    "## 简单的分子修改\n",
    "### 氢原子显示与隐藏\n",
    "正常情况下，分子在rdkit中存储时，氢以隐式氢的形式存储，即不会在图片中显示出来。当需要加入氢原子时，例如要生成和优化立体结构，可以通过函数加上氢原子。\n",
    "\n",
    "```python\n",
    "rdkit.Chem.rdmolops.AddHs(\n",
    "    (Mol)mol   # 要修饰的分子\n",
    "    [,(bool) explicitOnly = False # （可选）如果设置了此切换，则仅将显式Hs添加到分子中。默认值为0（添加隐式和显式Hs）。\n",
    "    [,(bool) addCoords = False # (可选) 如果设置了此开关，则Hs将设置3D坐标。默认值为0（无3D坐标）。\n",
    "    [,(AtomPairsParameters) onlyOnAtoms = None  # （可选）如果提供了此序列，则仅将这些原子视为具有添加的Hs\n",
    "    [,(bool)addResidueInfo = False # （可选）如果为true，则将残基信息添加到氢原子（对PDB文件有用）。\n",
    "    ]]]]\n",
    ")\n",
    "```\n",
    "\n",
    "\n",
    "\n",
    "```python\n",
    "rdkit.Chem.rdmolops.RemoveHs(\n",
    "    (Mol)mol  # 要修饰的分子\n",
    "    [，（bool）implicitOnly = False # hiddenOnly ：（可选）如果设置了此切换，则只会从图中删除隐式Hs。默认值为0（删除隐式和显式Hs）。\n",
    "    [，（bool）updateExplicitCount = False  #（可选）如果设置了此切换，则将更新具有Hs的原子的显式H计数。默认值为0（不更新显式H计数）。\n",
    "    [，（bool）sanitize = True  # （可选）如果设置了此切换开关，则去除Hs后将对分子进行消毒。缺省值为1（进行消毒）。\n",
    "    ] ] ])\n",
    "```"
   ]
  },
  {
   "cell_type": "code",
   "execution_count": 5,
   "metadata": {},
   "outputs": [
    {
     "name": "stdout",
     "output_type": "stream",
     "text": [
      "3\n",
      "9\n",
      "3\n"
     ]
    }
   ],
   "source": [
    "mol = Chem.MolFromSmiles(\"CCO\")\n",
    "print(mol.GetNumAtoms())\n",
    "\n",
    "mol = Chem.AddHs(mol)\n",
    "print(mol.GetNumAtoms())\n",
    "\n",
    "mol = Chem.RemoveAllHs(mol)\n",
    "print(mol.GetNumAtoms())"
   ]
  },
  {
   "cell_type": "markdown",
   "metadata": {},
   "source": [
    "### 芳香键与kekule式转换\n",
    "芳香键在Rdkit中存储类型为\"AROMATIC\"，可以转化为kelule式：Kekulize()\n",
    "将芳香键的类型修改为单双建的类型"
   ]
  },
  {
   "cell_type": "code",
   "execution_count": 8,
   "metadata": {},
   "outputs": [
    {
     "name": "stdout",
     "output_type": "stream",
     "text": [
      "AROMATIC\n",
      "AROMATIC\n",
      "AROMATIC\n",
      "AROMATIC\n",
      "AROMATIC\n",
      "AROMATIC\n",
      "DOUBLE\n",
      "SINGLE\n",
      "DOUBLE\n",
      "SINGLE\n",
      "DOUBLE\n",
      "SINGLE\n"
     ]
    },
    {
     "data": {
      "text/plain": [
       "True"
      ]
     },
     "execution_count": 8,
     "metadata": {},
     "output_type": "execute_result"
    }
   ],
   "source": [
    "mol = Chem.MolFromSmiles('c1ccccc1')\n",
    "\n",
    "for bond in mol.GetBonds():\n",
    "    print(bond.GetBondType())\n",
    "    \n",
    "Chem.Kekulize(mol)\n",
    "\n",
    "for bond in mol.GetBonds():\n",
    "    print(bond.GetBondType())\n",
    "    \n"
   ]
  },
  {
   "cell_type": "markdown",
   "metadata": {},
   "source": [
    "转化后，类型中虽然变为单键和双键，但依然是芳香键    \n"
   ]
  },
  {
   "cell_type": "code",
   "execution_count": 9,
   "metadata": {},
   "outputs": [
    {
     "data": {
      "text/plain": [
       "True"
      ]
     },
     "execution_count": 9,
     "metadata": {},
     "output_type": "execute_result"
    }
   ],
   "source": [
    "mol.GetBondWithIdx(1).GetIsAromatic()"
   ]
  },
  {
   "cell_type": "markdown",
   "metadata": {},
   "source": [
    "之所以仍然为芳香键，是因为分子有一个跟芳香性相关的属性Flags，记录了芳香性的信息。可以在kelulize时将`clearAromaticFlags`参数设置为True"
   ]
  },
  {
   "cell_type": "code",
   "execution_count": 11,
   "metadata": {},
   "outputs": [
    {
     "name": "stdout",
     "output_type": "stream",
     "text": [
      "DOUBLE\n",
      "False\n"
     ]
    }
   ],
   "source": [
    "Chem.Kekulize(mol, clearAromaticFlags=True)\n",
    "print(mol.GetBondWithIdx(0).GetBondType())\n",
    "\n",
    "print(mol.GetBondWithIdx(1).GetIsAromatic())\n"
   ]
  },
  {
   "cell_type": "markdown",
   "metadata": {},
   "source": [
    "如果想修改回芳香键，可以对分子进行检查：`SanitizeMol()`"
   ]
  },
  {
   "cell_type": "code",
   "execution_count": 12,
   "metadata": {},
   "outputs": [
    {
     "name": "stdout",
     "output_type": "stream",
     "text": [
      "AROMATIC\n"
     ]
    }
   ],
   "source": [
    "Chem.SanitizeMol(mol)\n",
    "\n",
    "print(mol.GetBondWithIdx(0).GetBondType())"
   ]
  },
  {
   "cell_type": "markdown",
   "metadata": {},
   "source": [
    "## 复杂的分子修饰\n",
    "### Atom和Bond对象的编辑功能\n",
    "**Atom对象**\n",
    "在rdkit的Atom对象中也提供了一系列功能，可以对分子进行原位编辑。\n",
    "- 修改形式电荷：atom.SetFormalCharge(int)\n",
    "- 修改杂化方式为SP3：atom.HybridizationType(Chem.HybridizationType.SP3)\n",
    "- 修改为芳香原子：atom.SetIsAromatic(True)\n",
    "- 修改为同位素标记原子：atom.SetIsotope(int)\n",
    "- 不带隐式氢：atom.SetNoImplicit(True)\n",
    "- 固定显示氢：atom.SetNumExplicitHs(int)\n",
    "\n",
    "**Bond对象**\n",
    "- 修改键的显示方式：SetBondDir(Chem.BondDir.BEGINDASH)\n",
    "- 修改为芳香键：SetBondType(Chem.BondType.AROMATIC)\n",
    "- 修改键芳香性的Flags：SetIsAromatic(bool)\n",
    "- 是否共轭：SetIsConjugated(bool)\n",
    "\n",
    "\n"
   ]
  },
  {
   "cell_type": "markdown",
   "metadata": {},
   "source": [
    "# 修改手性碳：SetChiralTag()\n",
    "- 参数设置为Chem.ChiralType.CHI_TETRAHEDRAL_CCW时，为S型（Counter Clockwise，逆时针）\n",
    "- 参数设置为Chem.ChiralType.CHI_TETRAHEDRAL_CW时，为R型（Clockwise，顺时针）\n",
    "- 还有CHI_OTHER、CHI_UNSPECIFIED不指定类型"
   ]
  },
  {
   "cell_type": "code",
   "execution_count": 14,
   "metadata": {},
   "outputs": [
    {
     "data": {
      "image/png": "[encoded data removed]",
      "text/plain": [
       "<rdkit.Chem.rdchem.Mol at 0x7fb2b54df5d0>"
      ]
     },
     "execution_count": 14,
     "metadata": {},
     "output_type": "execute_result"
    }
   ],
   "source": [
    "mol = Chem.MolFromSmiles('OC(N)C')\n",
    "mol"
   ]
  },
  {
   "cell_type": "code",
   "execution_count": 16,
   "metadata": {},
   "outputs": [
    {
     "data": {
      "image/png": "[encoded data removed]",
      "text/plain": [
       "<rdkit.Chem.rdchem.Mol at 0x7fb2b54df5d0>"
      ]
     },
     "execution_count": 16,
     "metadata": {},
     "output_type": "execute_result"
    }
   ],
   "source": [
    "mol.GetAtomWithIdx(1).SetChiralTag(Chem.ChiralType.CHI_TETRAHEDRAL_CW)\n",
    "\n",
    "mol"
   ]
  },
  {
   "cell_type": "markdown",
   "metadata": {},
   "source": [
    "## 修改原子：atom.SetAtomicNum()"
   ]
  },
  {
   "cell_type": "code",
   "execution_count": 21,
   "metadata": {},
   "outputs": [
    {
     "data": {
      "image/png": "[encoded data removed]",
      "text/plain": [
       "<rdkit.Chem.rdchem.Mol at 0x7fb2b549f150>"
      ]
     },
     "execution_count": 21,
     "metadata": {},
     "output_type": "execute_result"
    }
   ],
   "source": [
    "mol = Chem.MolFromSmiles('c1ccccc1')\n",
    "mol\n",
    "\n"
   ]
  },
  {
   "cell_type": "code",
   "execution_count": 23,
   "metadata": {},
   "outputs": [
    {
     "data": {
      "image/png": "[encoded data removed]",
      "text/plain": [
       "<rdkit.Chem.rdchem.Mol at 0x7fb2b549f150>"
      ]
     },
     "execution_count": 23,
     "metadata": {},
     "output_type": "execute_result"
    }
   ],
   "source": [
    "mol.GetAtomWithIdx(0).SetAtomicNum(7)\n",
    "Chem.SanitizeMol(mol)\n",
    "mol"
   ]
  },
  {
   "cell_type": "markdown",
   "metadata": {},
   "source": [
    "## 修改键类型"
   ]
  },
  {
   "cell_type": "code",
   "execution_count": 24,
   "metadata": {},
   "outputs": [
    {
     "name": "stdout",
     "output_type": "stream",
     "text": [
      "C=CO\n"
     ]
    }
   ],
   "source": [
    "# 从SMILES字符串创建分子对象\n",
    "mol = Chem.MolFromSmiles('CCO')\n",
    "\n",
    "# 将第一个碳原子和第二个碳原子之间的键改为双键\n",
    "mol.GetBondBetweenAtoms(0, 1).SetBondType(Chem.rdchem.BondType.DOUBLE)\n",
    "\n",
    "# 输出修改键类型后的SMILES字符串\n",
    "print(Chem.MolToSmiles(mol))"
   ]
  },
  {
   "cell_type": "markdown",
   "metadata": {},
   "source": [
    "## RWMol编辑 \n",
    "更复杂的操作可以使用rdkit.Chem.rdchem.RWMol类（用于分子读写的类）。这个类在修改分子方面，性能更好，它可以提供一个“活动的”分子，并且共享了mol对象的操作接口。修改完毕后，只需要用GetMol()就可以获得最终的分子"
   ]
  },
  {
   "cell_type": "code",
   "execution_count": 26,
   "metadata": {},
   "outputs": [
    {
     "data": {
      "image/png": "[encoded data removed]",
      "text/plain": [
       "<rdkit.Chem.rdchem.Mol at 0x7fb2b549f930>"
      ]
     },
     "execution_count": 26,
     "metadata": {},
     "output_type": "execute_result"
    }
   ],
   "source": [
    "m = Chem.MolFromSmiles('CC(=O)C=CC=C')\n",
    "mw = Chem.RWMol(m)\n",
    "mw.GetMol()\n"
   ]
  },
  {
   "cell_type": "markdown",
   "metadata": {},
   "source": [
    "### 重头设计分子"
   ]
  },
  {
   "cell_type": "code",
   "execution_count": 28,
   "metadata": {},
   "outputs": [],
   "source": [
    "from rdkit import Chem\n",
    "\n",
    "# 创建RWMol对象\n",
    "mol = Chem.RWMol()"
   ]
  },
  {
   "cell_type": "markdown",
   "metadata": {},
   "source": [
    "#### 添加原子：AddAtom(atom)\n",
    "\n",
    "atom：要添加的原子对象\n",
    "返回值是新添加原子的索引"
   ]
  },
  {
   "cell_type": "code",
   "execution_count": 29,
   "metadata": {},
   "outputs": [
    {
     "data": {
      "image/png": "[encoded data removed]",
      "text/plain": [
       "<rdkit.Chem.rdchem.RWMol at 0x7fb2b54a25b0>"
      ]
     },
     "execution_count": 29,
     "metadata": {},
     "output_type": "execute_result"
    }
   ],
   "source": [
    "# 添加原子\n",
    "atom1 = Chem.Atom(6)  # 碳原子\n",
    "atom2 = Chem.Atom(8)  # 氧原子\n",
    "mol.AddAtom(atom1)\n",
    "mol.AddAtom(atom2)\n",
    "\n",
    "mol"
   ]
  },
  {
   "cell_type": "markdown",
   "metadata": {},
   "source": [
    "#### 添加键：`AddBond(beginAtomIdx, endAtomIdx, order)`\n",
    "- `beginAtomIdx`：键的起始原子\n",
    "- `endAtomIdx`：键的末尾原子\n",
    "- `order`：键的类型"
   ]
  },
  {
   "cell_type": "code",
   "execution_count": 31,
   "metadata": {},
   "outputs": [
    {
     "name": "stdout",
     "output_type": "stream",
     "text": [
      "CO\n"
     ]
    }
   ],
   "source": [
    "# 添加键\n",
    "mol.AddBond(0, 1, Chem.BondType.SINGLE)\n",
    "\n",
    "# 输出添加原子和键后的SMILES字符串\n",
    "print(Chem.MolToSmiles(mol))"
   ]
  },
  {
   "cell_type": "markdown",
   "metadata": {},
   "source": [
    "#### 删除原子：`RemoveAtom()`\n",
    "传入原子索引\n",
    "每次删除后，索引都会更新"
   ]
  },
  {
   "cell_type": "code",
   "execution_count": 32,
   "metadata": {},
   "outputs": [
    {
     "data": {
      "image/png": "[encoded data removed]",
      "text/plain": [
       "<rdkit.Chem.rdchem.RWMol at 0x7fb2b54a25b0>"
      ]
     },
     "execution_count": 32,
     "metadata": {},
     "output_type": "execute_result"
    }
   ],
   "source": [
    "mol.RemoveAtom(0)\n",
    "mol"
   ]
  },
  {
   "cell_type": "markdown",
   "metadata": {},
   "source": [
    "#### 其他一些操作Mol的方法，对RWMol也同样适用\n",
    "\n",
    "sanitize参数设置为SANITIZE_NONE。这意味着在读取分子时不会执行任何验证或修复操作。"
   ]
  },
  {
   "cell_type": "code",
   "execution_count": 33,
   "metadata": {},
   "outputs": [
    {
     "name": "stdout",
     "output_type": "stream",
     "text": [
      "O\n",
      "SANITIZE_NONE\n",
      "O\n"
     ]
    }
   ],
   "source": [
    "print(Chem.MolToSmiles(mol))\n",
    "\n",
    "print(Chem.SanitizeMol(mol))\n",
    "\n",
    "print(Chem.MolToSmiles(mol))\n",
    "\n"
   ]
  },
  {
   "cell_type": "markdown",
   "metadata": {},
   "source": [
    "#### 修改完后，可以获取该分子的Mol对象：`mw.GetMol()`\n"
   ]
  },
  {
   "cell_type": "code",
   "execution_count": 34,
   "metadata": {},
   "outputs": [
    {
     "name": "stdout",
     "output_type": "stream",
     "text": [
      "<rdkit.Chem.rdchem.RWMol object at 0x7fb2b54a25b0>\n"
     ]
    },
    {
     "data": {
      "text/plain": [
       "rdkit.Chem.rdchem.Mol"
      ]
     },
     "execution_count": 34,
     "metadata": {},
     "output_type": "execute_result"
    }
   ],
   "source": [
    "print(mol)\n",
    "m_edit = mol.GetMol()\n",
    "type(m_edit)\n",
    "\n"
   ]
  },
  {
   "cell_type": "code",
   "execution_count": null,
   "metadata": {},
   "outputs": [],
   "source": []
  }
 ],
 "metadata": {
  "kernelspec": {
   "display_name": "gnn",
   "language": "python",
   "name": "python3"
  },
  "language_info": {
   "codemirror_mode": {
    "name": "ipython",
    "version": 3
   },
   "file_extension": ".py",
   "mimetype": "text/x-python",
   "name": "python",
   "nbconvert_exporter": "python",
   "pygments_lexer": "ipython3",
   "version": "3.8.5"
  },
  "orig_nbformat": 4
 },
 "nbformat": 4,
 "nbformat_minor": 2
}
