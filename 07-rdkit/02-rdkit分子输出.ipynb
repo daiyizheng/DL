{
 "cells": [
  {
   "attachments": {},
   "cell_type": "markdown",
   "metadata": {},
   "source": [
    "# rdkit分子输出"
   ]
  },
  {
   "cell_type": "code",
   "execution_count": 1,
   "metadata": {},
   "outputs": [],
   "source": [
    "from rdkit import Chem"
   ]
  },
  {
   "attachments": {},
   "cell_type": "markdown",
   "metadata": {},
   "source": [
    "## 输出SMILES/SMARTS\n",
    "输出SMILES：`MolToSmiles(mol, isomericSmiles, kekuleSmiles, canonical, …)`               \n",
    "`kekuleSmiles`：默认False，不使用kekule时：脂肪族碳用\"C\"表示（大写），芳香族用\"c\"表示（小写）        \n",
    "`isomericSmiles`：默认True，区分同分异构体（\"@“表示手性，”\\“和”/\"表示顺反异构）            \n",
    "`canonical`：默认True，输出标准SMILES      \n"
   ]
  },
  {
   "cell_type": "code",
   "execution_count": 3,
   "metadata": {},
   "outputs": [
    {
     "name": "stdout",
     "output_type": "stream",
     "text": [
      "\u001b[0;31mDocstring:\u001b[0m\n",
      "MolToSmiles( (Mol)mol, (SmilesWriteParams)params) -> str :\n",
      "    Returns the canonical SMILES string for a molecule\n",
      "\n",
      "    C++ signature :\n",
      "        std::string MolToSmiles(RDKit::ROMol,RDKit::SmilesWriteParams)\n",
      "\n",
      "MolToSmiles( (Mol)mol [, (bool)isomericSmiles=True [, (bool)kekuleSmiles=False [, (int)rootedAtAtom=-1 [, (bool)canonical=True [, (bool)allBondsExplicit=False [, (bool)allHsExplicit=False [, (bool)doRandom=False]]]]]]]) -> str :\n",
      "    Returns the canonical SMILES string for a molecule\n",
      "      ARGUMENTS:\n",
      "    \n",
      "        - mol: the molecule\n",
      "        - isomericSmiles: (optional) include information about stereochemistry in\n",
      "          the SMILES.  Defaults to true.\n",
      "        - kekuleSmiles: (optional) use the Kekule form (no aromatic bonds) in\n",
      "          the SMILES.  Defaults to false.\n",
      "        - rootedAtAtom: (optional) if non-negative, this forces the SMILES \n",
      "          to start at a particular atom. Defaults to -1.\n",
      "        - canonical: (optional) if false no attempt will be made to canonicalize\n",
      "          the molecule. Defaults to true.\n",
      "        - allBondsExplicit: (optional) if true, all bond orders will be explicitly indicated\n",
      "          in the output SMILES. Defaults to false.\n",
      "        - allHsExplicit: (optional) if true, all H counts will be explicitly indicated\n",
      "          in the output SMILES. Defaults to false.\n",
      "    \n",
      "      RETURNS:\n",
      "    \n",
      "        a string\n",
      "    \n",
      "    \n",
      "\n",
      "    C++ signature :\n",
      "        std::string MolToSmiles(RDKit::ROMol [,bool=True [,bool=False [,int=-1 [,bool=True [,bool=False [,bool=False [,bool=False]]]]]]])\n",
      "\u001b[0;31mType:\u001b[0m      function\n"
     ]
    }
   ],
   "source": [
    "Chem.MolToSmiles?"
   ]
  },
  {
   "cell_type": "code",
   "execution_count": 2,
   "metadata": {},
   "outputs": [
    {
     "name": "stdout",
     "output_type": "stream",
     "text": [
      "['C1=CC=CC=CC=C1', 'c1ccccc1', 'c1ccoc1']\n"
     ]
    }
   ],
   "source": [
    "m1 = Chem.MolFromSmiles('C1=CC=CC=CC=C1')\n",
    "m2 = Chem.MolFromSmiles('C1=CC=CC=C1')\n",
    "m3 = Chem.MolFromSmiles('C1=COC=C1')\n",
    "mols = [m1, m2, m3]\n",
    "print([Chem.MolToSmiles(mol) for mol in mols])\n",
    "\n"
   ]
  },
  {
   "attachments": {},
   "cell_type": "markdown",
   "metadata": {},
   "source": [
    "### 输出kekule式\n",
    "\n",
    "kekule形式：在符合4N+2规则的芳香体系中，通过使用双键代替小写的碳原子来表示芳香性           \n",
    "4N+2规则：也叫Hueckel规则，在闭环共轭体系中，当π电子数为4n+2时，才具有芳香性        "
   ]
  },
  {
   "cell_type": "code",
   "execution_count": 6,
   "metadata": {},
   "outputs": [
    {
     "name": "stdout",
     "output_type": "stream",
     "text": [
      "['C1=CC=CC=CC=C1', 'C1=CC=CC=C1', 'C1=COC=C1']\n"
     ]
    }
   ],
   "source": [
    "for mol in mols:\n",
    "    Chem.Kekulize(mol)\n",
    "print([Chem.MolToSmiles(mol, kekuleSmiles=True) for mol in mols])\n",
    "\n"
   ]
  },
  {
   "attachments": {},
   "cell_type": "markdown",
   "metadata": {},
   "source": [
    "### 设置立体参数\n",
    "通过isomericSmiles控制"
   ]
  },
  {
   "cell_type": "code",
   "execution_count": 7,
   "metadata": {},
   "outputs": [
    {
     "name": "stdout",
     "output_type": "stream",
     "text": [
      "C[C@H](O)c1ccccc1\n",
      "CC(O)c1ccccc1\n"
     ]
    }
   ],
   "source": [
    "m = Chem.MolFromSmiles('C[C@H](O)c1ccccc1')\n",
    "print(Chem.MolToSmiles(m))\n",
    "\n",
    "print(Chem.MolToSmiles(m, isomericSmiles=False))\n",
    "\n"
   ]
  },
  {
   "attachments": {},
   "cell_type": "markdown",
   "metadata": {},
   "source": [
    "## 批量输出SMILES\n",
    "批量输出SMILES：`SmilesWriter(fileName, delimiter, includeHeader, nameHeader, isomericSmiles, kekuleSmiles)`\n",
    "`fileName`：输出文件名            \n",
    "`delimiter`：分隔符，默认为空格’ ’             \n",
    "`includeHeader`：是否写入表头，默认True            \n",
    "`nameHeader`：分子名一列的列名，默认’Name’          \n",
    "`isomericSmiles`：立体信息，默认True             \n",
    "`kekuleSmiles`：kekule形式，默认False           "
   ]
  },
  {
   "cell_type": "code",
   "execution_count": 8,
   "metadata": {},
   "outputs": [],
   "source": [
    "writer = Chem.SmilesWriter('data/batch.smi', delimiter='\\t')\n",
    "for i, mol in enumerate(mols):\n",
    "    writer.write(mol)\n",
    "writer.close()\n"
   ]
  },
  {
   "attachments": {},
   "cell_type": "markdown",
   "metadata": {},
   "source": [
    "### 批量输出SMILES和属性\n",
    "批量输出SMILES及属性，通过以下函数进行操作：             \n",
    "`mol.GetPropNames()`，查看分子属性列表            \n",
    "`mol.GetProp()`，获取相应属性               \n",
    "`mol.SetProp(key, val)`，新增属性名key、对应属性值val              \n",
    "`writer.SetProps()`，设置哪些属性要输出                    \n"
   ]
  },
  {
   "cell_type": "code",
   "execution_count": 9,
   "metadata": {},
   "outputs": [
    {
     "name": "stdout",
     "output_type": "stream",
     "text": [
      "number of mols: 3\n",
      "mol properties: ['MW', 'LOGP']\n"
     ]
    }
   ],
   "source": [
    "from rdkit.Chem import Descriptors\n",
    "\n",
    "writer = Chem.SmilesWriter('data/batch_smiles.smi', delimiter='\\t', nameHeader='mol_id')\n",
    "writer.SetProps(['LOGP', 'MW'])\n",
    "for i, mol in enumerate(mols):\n",
    "     mw = Descriptors.ExactMolWt(mol)\n",
    "     logp = Descriptors.MolLogP(mol)\n",
    "     mol.SetProp('MW', '%.2f' %(mw))\n",
    "     mol.SetProp('LOGP', '%.2f' %(logp))\n",
    "     mol.SetProp('_Name', 'No_%s' %(i))\n",
    "     writer.write(mol)\n",
    "writer.close()\n",
    "print('number of mols:', writer.NumMols())\n",
    "\n",
    "print('mol properties:', [i for i in mol.GetPropNames()])\n"
   ]
  },
  {
   "attachments": {},
   "cell_type": "markdown",
   "metadata": {},
   "source": [
    "## 输出SMARTS\n",
    "输出SMARTS：`MolToSmarts()`"
   ]
  },
  {
   "cell_type": "code",
   "execution_count": 10,
   "metadata": {},
   "outputs": [
    {
     "data": {
      "text/plain": [
       "'[#6]1:[#6]:[#8]:[#6]:[#6]:1'"
      ]
     },
     "execution_count": 10,
     "metadata": {},
     "output_type": "execute_result"
    }
   ],
   "source": [
    "Chem.MolToSmarts(m3, isomericSmiles=True)"
   ]
  },
  {
   "attachments": {},
   "cell_type": "markdown",
   "metadata": {},
   "source": [
    "## 输出`.sdf`\n",
    "批量输出到文件：`SDWriter()`        \n",
    "使用方法类似于SMILES的批量输出        \n",
    "      "
   ]
  },
  {
   "cell_type": "code",
   "execution_count": 11,
   "metadata": {},
   "outputs": [],
   "source": [
    "writer = Chem.SDWriter('data/batch.sdf')\n",
    "writer.SetProps(['LOGP', 'MW'])\n",
    "for i, mol in enumerate(mols):\n",
    "     mw = Descriptors.ExactMolWt(mol)\n",
    "     logp = Descriptors.MolLogP(mol)\n",
    "     mol.SetProp('MW', '%.2f' %(mw))\n",
    "     mol.SetProp('LOGP', '%.2f' %(logp))\n",
    "     mol.SetProp('_Name', 'No_%s' %(i))\n",
    "     writer.write(mol)\n",
    "writer.close()\n"
   ]
  },
  {
   "attachments": {},
   "cell_type": "markdown",
   "metadata": {},
   "source": [
    "## .批量输出到.gz\n"
   ]
  },
  {
   "cell_type": "code",
   "execution_count": 12,
   "metadata": {},
   "outputs": [],
   "source": [
    "import gzip\n",
    "outf = gzip.open('data/batch.sdf.gz','wt+')\n",
    "writer = Chem.SDWriter(outf)\n",
    "for mol in mols:\n",
    "    writer.write(mol)\n",
    "writer.close()\n",
    "outf.close()\n"
   ]
  },
  {
   "attachments": {},
   "cell_type": "markdown",
   "metadata": {},
   "source": [
    "## 输出.mol\n",
    "直接输出：`MolToMolBlock()`\n"
   ]
  },
  {
   "cell_type": "code",
   "execution_count": 13,
   "metadata": {},
   "outputs": [
    {
     "name": "stdout",
     "output_type": "stream",
     "text": [
      "No_0\n",
      "     RDKit          2D\n",
      "\n",
      "  8  8  0  0  0  0  0  0  0  0999 V2000\n",
      "    1.9598    0.0000    0.0000 C   0  0  0  0  0  0  0  0  0  0  0  0\n",
      "    1.3858   -1.3858    0.0000 C   0  0  0  0  0  0  0  0  0  0  0  0\n",
      "   -0.0000   -1.9598    0.0000 C   0  0  0  0  0  0  0  0  0  0  0  0\n",
      "   -1.3858   -1.3858    0.0000 C   0  0  0  0  0  0  0  0  0  0  0  0\n",
      "   -1.9598    0.0000    0.0000 C   0  0  0  0  0  0  0  0  0  0  0  0\n",
      "   -1.3858    1.3858    0.0000 C   0  0  0  0  0  0  0  0  0  0  0  0\n",
      "    0.0000    1.9598    0.0000 C   0  0  0  0  0  0  0  0  0  0  0  0\n",
      "    1.3858    1.3858    0.0000 C   0  0  0  0  0  0  0  0  0  0  0  0\n",
      "  1  2  2  0\n",
      "  2  3  1  0\n",
      "  3  4  2  0\n",
      "  4  5  1  0\n",
      "  5  6  2  0\n",
      "  6  7  1  0\n",
      "  7  8  2  0\n",
      "  8  1  1  0\n",
      "M  END\n",
      "\n"
     ]
    }
   ],
   "source": [
    "print(Chem.MolToMolBlock(m1))"
   ]
  },
  {
   "attachments": {},
   "cell_type": "markdown",
   "metadata": {},
   "source": [
    "输出到文件：`MolToMolFile(mol, filename, includeStereo, …)`     \n",
    "`mol`：mol对象          \n",
    "`filename`：文件名         \n",
    "`includeStereo`：立体信息，默认True         "
   ]
  },
  {
   "cell_type": "code",
   "execution_count": 14,
   "metadata": {},
   "outputs": [],
   "source": [
    "m1.SetProp('_Name', 'cyclobutane')\n",
    "Chem.MolToMolFile(m1, 'data/sig.mol')\n"
   ]
  },
  {
   "attachments": {},
   "cell_type": "markdown",
   "metadata": {},
   "source": [
    "## 输出其他格式:pdb, fasta, xyz…\n",
    "\n",
    "```python\n",
    "# PDB\n",
    "Chem.MolToPDBBlock()\n",
    "Chem.MolToPDBFile()\n",
    "Chem.PDBWriter()\n",
    "# FASTA\n",
    "Chem.MolToFASTA()\n",
    "# XYZ\n",
    "Chem.MolToXYZBlock()\n",
    "Chem.MolToXYZFile()\n",
    "\n",
    "```"
   ]
  },
  {
   "cell_type": "markdown",
   "metadata": {},
   "source": []
  }
 ],
 "metadata": {
  "kernelspec": {
   "display_name": "gnn",
   "language": "python",
   "name": "python3"
  },
  "language_info": {
   "codemirror_mode": {
    "name": "ipython",
    "version": 3
   },
   "file_extension": ".py",
   "mimetype": "text/x-python",
   "name": "python",
   "nbconvert_exporter": "python",
   "pygments_lexer": "ipython3",
   "version": "3.8.5"
  },
  "orig_nbformat": 4,
  "vscode": {
   "interpreter": {
    "hash": "bbc91dbcb0051019ae97b751bde437ca7a1084c41c512133368dd180960dc485"
   }
  }
 },
 "nbformat": 4,
 "nbformat_minor": 2
}
