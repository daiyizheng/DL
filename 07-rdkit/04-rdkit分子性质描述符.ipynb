{
 "cells": [
  {
   "cell_type": "markdown",
   "metadata": {},
   "source": [
    "# Rdkit|分子性质描述符（Descriptors）\n"
   ]
  },
  {
   "cell_type": "code",
   "execution_count": 1,
   "metadata": {},
   "outputs": [],
   "source": [
    "from rdkit import Chem\n",
    "from rdkit import DataStructs\n",
    "\n",
    "from rdkit.Chem import AllChem\n",
    "from rdkit.Chem import Descriptors\n",
    "from rdkit.Chem import rdMolDescriptors\n",
    "from rdkit.Chem import Draw\n",
    "\n",
    "from rdkit.Chem.Draw import SimilarityMaps\n"
   ]
  },
  {
   "attachments": {},
   "cell_type": "markdown",
   "metadata": {},
   "source": [
    "## 性质描述符计算\n",
    "`rdkit.Descriptors` 模块可以计算许多分子属性，包括但不限于以下几个方面：\n",
    "\n",
    "### 物理化学性质：\n",
    "- 分子量（Molecular weight）   \n",
    "- 分子式（Molecular formula）   \n",
    "- 荷电数（Formal charge）   \n",
    "- 荷电状态（Formal charge state）    \n",
    "- 碳原子数（Number of carbon atoms）    \n",
    "- 氢键供体数（Number of hydrogen bond donors）    \n",
    "- 氢键受体数（Number of hydrogen bond acceptors）    \n",
    "- 旋光度（Optical rotation）    \n",
    "- 紫外吸收最大波长（Maximum UV absorbance wavelength）   \n",
    "\n",
    "### 拓扑性质：\n",
    "\n",
    "- 莫尔体积（Molar volume）   \n",
    "- 莫尔极性表面积（Molar polar surface area）   \n",
    "- 倍数不饱和度（Ring count）   \n",
    "- 原子数（Number of atoms）   \n",
    "- 原子种类数（Number of atom types）  \n",
    "- 键数（Number of bonds）   \n",
    "- 键种类数（Number of bond types）   \n",
    "\n",
    "### 几何性质：\n",
    "\n",
    "- 分子长度、宽度和高度（Molecular length, width, and height）  \n",
    "- 分子形状描述符（Molecular shape descriptors）   \n",
    "- 分子表面积（Molecular surface area）   \n",
    "\n",
    "### 药物性质：\n",
    "\n",
    "- 脂溶性（LogP）  \n",
    "- 水溶性（LogS）  \n",
    "- 生物利用度（Bioavailability）  \n",
    "- 药物相似性（Drug likeness）   \n",
    "\n",
    "### 电子结构性质：\n",
    "\n",
    "- 能量最低的分子轨道（Lowest energy molecular orbital）     \n",
    "- 能量最高的分子轨道（Highest energy molecular orbital）     \n",
    "- 能量最低的半满分子轨道（Lowest energy half-filled molecular orbital）   \n",
    "- 能量最高的非满分子轨道（Highest energy non-filled molecular orbital）     \n",
    "\n",
    "### 分子动力学性质：\n",
    "\n",
    "- 热力学性质（Thermodynamic properties）   \n",
    "- 动力学性质（Kinetic properties）   \n",
    "- 活性位点描述符（Active site descriptors）   \n",
    "\n",
    "### 其他属性：\n",
    "\n",
    "- 拓扑极性表面积（Topological polar surface area）   \n",
    "- 晶体密度（Crystal density）   \n",
    "- 分子内氢键数量（Number of intramolecular hydrogen bonds）   \n",
    "- 分子间氢键数量（Number of intermolecular hydrogen bonds）   \n",
    "- 分子内离子对数量（Number of intramolecular ion pairs）   \n",
    "- 分子间离子对数量（Number of intermolecular ion pairs）   \n",
    "\n",
    "这些属性可以根据需要进行计算和分析，以帮助研究人员更好地理解和预测分子的性质和行为。"
   ]
  },
  {
   "cell_type": "code",
   "execution_count": 16,
   "metadata": {},
   "outputs": [
    {
     "name": "stdout",
     "output_type": "stream",
     "text": [
      "分子的相对分子质量为： 122.12299999999998\n"
     ]
    }
   ],
   "source": [
    "## 分子量计算\n",
    "mol = Chem.MolFromSmiles('c1ccccc1C(=O)O')\n",
    "# 计算分子的相对分子质量\n",
    "mol_weight = Descriptors.MolWt(mol)\n",
    "\n",
    "# 输出结果\n",
    "print('分子的相对分子质量为：', mol_weight)"
   ]
  },
  {
   "cell_type": "code",
   "execution_count": 18,
   "metadata": {},
   "outputs": [
    {
     "name": "stdout",
     "output_type": "stream",
     "text": [
      "脂溶性 1.3848\n"
     ]
    }
   ],
   "source": [
    "## 脂溶性（LogP）\n",
    "logp_m = Descriptors.MolLogP(mol)\n",
    "print(\"脂溶性\", logp_m)"
   ]
  },
  {
   "cell_type": "code",
   "execution_count": 17,
   "metadata": {},
   "outputs": [
    {
     "name": "stdout",
     "output_type": "stream",
     "text": [
      "拓扑极性表面积: 37.3\n"
     ]
    }
   ],
   "source": [
    "## 拓扑极性表面积（Topological polar surface area）\n",
    "tpsa_m = Descriptors.TPSA(mol)\n",
    "print(\"拓扑极性表面积:\", tpsa_m)"
   ]
  },
  {
   "cell_type": "code",
   "execution_count": 20,
   "metadata": {},
   "outputs": [
    {
     "name": "stdout",
     "output_type": "stream",
     "text": [
      "分子第一个原子电荷 -0.04769375004654255\n"
     ]
    }
   ],
   "source": [
    "## 分子电荷分布计算\n",
    "## Gasteiger电荷是一种计算分子中原子电荷分布的方法，它基于分子中每个原子周围的电子密度和邻居原子的电荷。\n",
    "AllChem.ComputeGasteigerCharges(mol) \n",
    "charge_atm0 = float(mol.GetAtomWithIdx(0).GetProp('_GasteigerCharge'))\n",
    "\n",
    "\n",
    "print('分子第一个原子电荷', charge_atm0)\n",
    "# the gasteigerCharge of the first atom - 0.04769375004654255"
   ]
  },
  {
   "attachments": {},
   "cell_type": "markdown",
   "metadata": {},
   "source": [
    "## 原子对性质的贡献可视化\n",
    "相似性地图也可用于性质的可视化，只要性质可以分解到原子上就可以进行可视化       \n",
    "\n",
    "`AllChem.ComputeGasteigerCharges` 是一个函数，它可以计算分子的Gasteiger电荷。这些电荷是基于分子的共振结构和原子类型计算的，可以用于描述分子的电性、反应性和其他性质。    \n",
    "\n",
    "`SimilarityMaps.GetSimilarityMapFromWeights` 是一个函数，它可以根据分子中的指定特征权重生成相似性图谱。这个函数通常用于可视化分子中不同区域的相似性和差异性，以及这些区域对于分子的整体相似性的贡献。该函数需要一个RDKit分子对象和一个权重列表作为输入。"
   ]
  },
  {
   "cell_type": "code",
   "execution_count": 12,
   "metadata": {},
   "outputs": [
    {
     "name": "stdout",
     "output_type": "stream",
     "text": [
      "[0.07771844728655561, -0.492820796983233, 0.16152918919178583, -0.01602219709262404, -0.05770529265149885, -0.050816379353719424, 0.024978185790941746, -0.00237222532795198, 0.19244618980318173, 0.28654036365436475, -0.2657003945289995, -0.34935691936673163, 0.017840495848308394, -0.03446611044002525, -0.03873971707569541, -0.001658098696669069, -0.29982407384979287, 0.015855299823588617, 0.030662879547007613, -0.36715829261179367, 0.06502826940121241, -0.03636566023234588, -0.05790012527553211, -0.03404808267884825, 0.09076826966888336, -0.25292830777068237, 0.04589736871527414, 0.04598776260803381, -0.2508095590227565, 0.11193305580241227, 0.030662879547007613, 0.015855299823588617, -0.4470028418642525, 0.1764058687346651]\n"
     ]
    }
   ],
   "source": [
    "mol = Chem.MolFromSmiles(\"COc1cccc2cc(C(=O)NCCCCN3CCN(c4cccc5nccnc54)CC3)oc21\")\n",
    "AllChem.ComputeGasteigerCharges(mol)\n",
    "contribs = [ float(mol.GetAtomWithIdx(i).GetProp(\"_GasteigerCharge\"))  for i in range(mol.GetNumAtoms())]\n",
    "print(contribs)\n",
    "\n",
    "d = Draw.MolDraw2DSVG(400, 400)\n",
    "d.ClearDrawing()\n",
    "\n",
    "fig = SimilarityMaps.GetSimilarityMapFromWeights(\n",
    "    mol,\n",
    "    contribs,\n",
    "    colorMap='jet',\n",
    "    contourLines=10,\n",
    "    draw2d=d\n",
    ")\n",
    "d.FinishDrawing()\n",
    "\n",
    "with open('./data/mol29.svg', 'w+') as outf:\n",
    "    outf.write(d.GetDrawingText())"
   ]
  },
  {
   "attachments": {},
   "cell_type": "markdown",
   "metadata": {},
   "source": [
    "## `rdMolDescriptors._CalcCrippenContribs`\n",
    "`rdMolDescriptors._CalcCrippenContribs` 是一个函数，它可以计算分子的Crippen规范化贡献。这些贡献是基于分子的原子电荷和分子的几何形状计算的，可以用于描述分子的溶解度、生物利用度和其他性质。这个函数通常与RDKit分子对象一起使用。\n",
    "\n",
    "`rdMolDescriptors._CalcCrippenContribs` 函数的输出结果是一个元组，其中包含两个长度为分子中原子数的列表。第一个列表包含每个原子的Crippen贡献的平均值，第二个列表包含每个原子的Crippen贡献的标准差。这些列表可以用于进一步分析分子的性质和行为。"
   ]
  },
  {
   "cell_type": "code",
   "execution_count": 15,
   "metadata": {},
   "outputs": [
    {
     "name": "stdout",
     "output_type": "stream",
     "text": [
      "[(-0.2035, 2.753), (-0.4195, 1.182), (0.5437, 3.853), (0.1581, 3.35), (0.1581, 3.35), (0.1581, 3.35), (0.2955, 4.346), (0.1581, 3.35), (0.136, 3.509), (-0.2783, 5.007), (0.1129, 0.2215), (-0.7096, 2.173), (-0.2035, 2.753), (0.1441, 2.503), (0.1441, 2.503), (-0.2035, 2.753), (-0.3187, 1.839), (-0.2035, 2.753), (-0.2035, 2.753), (-0.4458, 2.819), (0.4619, 4.067), (0.1581, 3.35), (0.1581, 3.35), (0.1581, 3.35), (0.2955, 4.346), (-0.3239, 2.202), (0.1581, 3.35), (0.1581, 3.35), (-0.3239, 2.202), (0.2955, 4.346), (-0.2035, 2.753), (-0.2035, 2.753), (0.1552, 1.08), (0.2955, 4.346)]\n"
     ]
    }
   ],
   "source": [
    "# RDKit中内置Crippen方法计算原子logP。\n",
    "mol = Chem.MolFromSmiles(\"COc1cccc2cc(C(=O)NCCCCN3CCN(c4cccc5nccnc54)CC3)oc21\")\n",
    "contribs = rdMolDescriptors._CalcCrippenContribs(mol)\n",
    "print(contribs)\n",
    "d = Draw.MolDraw2DSVG(400, 400)\n",
    "d.ClearDrawing()\n",
    "fig = SimilarityMaps.GetSimilarityMapFromWeights(\n",
    "    mol,\n",
    "    [x for x, y in contribs],\n",
    "    colorMap='jet',\n",
    "    contourLines=10,\n",
    "    draw2d=d\n",
    ")\n",
    "d.FinishDrawing()\n",
    "with open('./data/mol30.svg', 'w+') as outf:\n",
    "    outf.write(d.GetDrawingText())\n"
   ]
  },
  {
   "cell_type": "code",
   "execution_count": null,
   "metadata": {},
   "outputs": [],
   "source": []
  }
 ],
 "metadata": {
  "kernelspec": {
   "display_name": "gnn",
   "language": "python",
   "name": "python3"
  },
  "language_info": {
   "codemirror_mode": {
    "name": "ipython",
    "version": 3
   },
   "file_extension": ".py",
   "mimetype": "text/x-python",
   "name": "python",
   "nbconvert_exporter": "python",
   "pygments_lexer": "ipython3",
   "version": "3.8.5"
  },
  "orig_nbformat": 4,
  "vscode": {
   "interpreter": {
    "hash": "bbc91dbcb0051019ae97b751bde437ca7a1084c41c512133368dd180960dc485"
   }
  }
 },
 "nbformat": 4,
 "nbformat_minor": 2
}
