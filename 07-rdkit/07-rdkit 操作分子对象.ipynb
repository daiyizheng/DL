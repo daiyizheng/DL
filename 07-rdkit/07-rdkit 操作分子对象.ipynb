{
 "cells": [
  {
   "attachments": {},
   "cell_type": "markdown",
   "metadata": {},
   "source": [
    "# rdkit 操作分子对象\n",
    "\n"
   ]
  },
  {
   "cell_type": "code",
   "execution_count": 6,
   "metadata": {},
   "outputs": [],
   "source": [
    "from rdkit import Chem\n",
    "from rdkit.Chem import Draw"
   ]
  },
  {
   "cell_type": "markdown",
   "metadata": {},
   "source": [
    "## 获取分子中的原子"
   ]
  },
  {
   "cell_type": "code",
   "execution_count": 24,
   "metadata": {},
   "outputs": [
    {
     "name": "stdout",
     "output_type": "stream",
     "text": [
      "<rdkit.Chem.rdchem._ROAtomSeq object at 0x7f349ad6b8d0>\n",
      "<rdkit.Chem.rdchem.Atom object at 0x7f349ad6b930>\n",
      "类型= <class 'rdkit.Chem.rdchem._ROAtomSeq'>\n",
      "类型0= <class 'rdkit.Chem.rdchem.Atom'>\n",
      "省略氢的原子数= 7\n"
     ]
    }
   ],
   "source": [
    "smi='C1CCCCCC1'\n",
    "mol = Chem.MolFromSmiles(smi)\n",
    "\n",
    "atoms = mol.GetAtoms()\n",
    "atoms_num = mol.GetNumAtoms()\n",
    "\n",
    "print(atoms)  # <rdkit.Chem.rdchem._ROAtomSeq object at 0x1050ddc10>\n",
    "print(atoms[0])  # <rdkit.Chem.rdchem.Atom object at 0x10aa13760>\n",
    "print('类型=',type(atoms))  # 类型= <class 'rdkit.Chem.rdchem._ROAtomSeq'>\n",
    "print('类型0=',type(atoms[0]))  # 类型0= <class 'rdkit.Chem.rdchem.Atom'>\n",
    "print(\"省略氢的原子数=\",atoms_num)\n",
    "\n"
   ]
  },
  {
   "attachments": {},
   "cell_type": "markdown",
   "metadata": {},
   "source": [
    "## 获取原子的坐标信息\n",
    "> 注：前提，导入的原子必须带有坐标信息"
   ]
  },
  {
   "cell_type": "code",
   "execution_count": 8,
   "metadata": {},
   "outputs": [
    {
     "data": {
      "image/png": "[encoded data removed]",
      "text/plain": [
       "<PIL.PngImagePlugin.PngImageFile image mode=RGB size=300x300>"
      ]
     },
     "execution_count": 8,
     "metadata": {},
     "output_type": "execute_result"
    }
   ],
   "source": [
    "mol = Chem.MolFromPDBFile(\"./data/single.pdb\")\n",
    "Draw.MolToImage(mol)"
   ]
  },
  {
   "cell_type": "code",
   "execution_count": 9,
   "metadata": {},
   "outputs": [
    {
     "name": "stdout",
     "output_type": "stream",
     "text": [
      "0.0\n",
      "0.0\n",
      "0.0\n",
      "0.0\n",
      "0.0 0.0 0.0\n",
      "[0.0, 0.0, 0.0]\n"
     ]
    }
   ],
   "source": [
    "print(mol.GetConformer().GetAtomPosition(1)[0])\n",
    "print(mol.GetConformer().GetAtomPosition(1).x)\n",
    "print(mol.GetConformer().GetAtomPosition(1).y)\n",
    "print(mol.GetConformer().GetAtomPosition(1).z)\n",
    "x,y,z = mol.GetConformer().GetAtomPosition(1)\n",
    "print(x,y,z)\n",
    "xyz = list(mol.GetConformer().GetAtomPosition(3))\n",
    "print(xyz)\n"
   ]
  },
  {
   "attachments": {},
   "cell_type": "markdown",
   "metadata": {},
   "source": [
    "## 访问单个原子的信息\n",
    "访问原子信息可能用到的函数\n",
    "- `mol.GetAtoms()`：对原子进行遍历\n",
    "- `GetIdx()`：获取原子索引\n",
    "- `GetAtomicNum()`：获取原子序号\n",
    "- `GetSymbol()`：获取原子符号\n",
    "- `GetDegree()`：获取原子连接数（受H是否隐藏影响）\n",
    "- `GetTotalDegree()`：获取原子总连接数（与H是否隐藏无关）\n",
    "- `GetFormalCharge()`：获取原子形式电荷\n",
    "- `GetHybridization()`: 获取原子杂化方式\n",
    "- `GetExplicitValence()`: 获取原子显式化合价\n",
    "- `GetImplicitValence()`: 获取原子隐式化合价\n",
    "- `GetTotalValence()`：获取原子总的化合价\n"
   ]
  },
  {
   "cell_type": "code",
   "execution_count": 10,
   "metadata": {},
   "outputs": [
    {
     "name": "stdout",
     "output_type": "stream",
     "text": [
      "标签= C\n",
      "原子显式化合价= 3\n",
      "原子隐式化合价= 1\n",
      "原子总的化合价= 4\n",
      "原子元素周期编号= 6\n",
      "杂化类型= SP2\n",
      "是否在芳香烃内= False\n",
      "该原子连接的氢原子个数= 1\n",
      "[6, 6]\n"
     ]
    }
   ],
   "source": [
    "atom = mol.GetAtomWithIdx(0)\n",
    "print(\"标签=\", atom.GetSymbol()) #  C\n",
    "print(\"原子显式化合价=\", atom.GetExplicitValence()) # 4\n",
    "print(\"原子隐式化合价=\", atom.GetImplicitValence()) # 4\n",
    "print(\"原子总的化合价=\", atom.GetTotalValence()) # 4\n",
    "print(\"原子元素周期编号=\", atom.GetAtomicNum())  # 6\n",
    "\n",
    "print(\"杂化类型=\", atom.GetHybridization()) # 返回杂化类型   杂化类型= SP3\n",
    "print(\"是否在芳香烃内=\", atom.GetIsAromatic()) # 该原子是否在芳香烃内   是否在芳香烃内= False\n",
    "\n",
    "# 与该原子连接的氢原子个数\n",
    "print(\"该原子连接的氢原子个数=\", atom.GetTotalNumHs()) #  该原子连接的氢原子个数= 3\n",
    "\n",
    "# 返回该原子的所有邻居原子，以元祖的形式返回\n",
    "neighbors = atom.GetNeighbors() \n",
    "print([x.GetAtomicNum() for x in neighbors])  #[6]\n"
   ]
  },
  {
   "attachments": {},
   "cell_type": "markdown",
   "metadata": {},
   "source": [
    "## 访问所有原子"
   ]
  },
  {
   "cell_type": "code",
   "execution_count": 11,
   "metadata": {},
   "outputs": [
    {
     "name": "stdout",
     "output_type": "stream",
     "text": [
      "id\tnum\texp\tsymbol\tdegree\tcharge\thybrid\n",
      "0\t6\t2\tC\t2\t0\tSP3\n",
      "1\t6\t2\tC\t2\t0\tSP3\n",
      "2\t6\t2\tC\t2\t0\tSP3\n",
      "3\t6\t2\tC\t2\t0\tSP3\n",
      "4\t6\t2\tC\t2\t0\tSP3\n",
      "5\t6\t2\tC\t2\t0\tSP3\n",
      "6\t6\t2\tC\t2\t0\tSP3\n"
     ]
    }
   ],
   "source": [
    "print('\\t'.join(['id', 'num', 'exp','symbol', 'degree', 'charge', 'hybrid']))\n",
    "for at in atoms:\n",
    "    print(at.GetIdx(), end='\\t')\n",
    "    print(at.GetAtomicNum(), end='\\t')\n",
    "    print(at.GetExplicitValence(), end='\\t')\n",
    "    print(at.GetSymbol(), end='\\t')\n",
    "    print(at.GetDegree(), end='\\t')\n",
    "    print(at.GetFormalCharge(), end='\\t')\n",
    "    print(at.GetHybridization())\n"
   ]
  },
  {
   "attachments": {},
   "cell_type": "markdown",
   "metadata": {},
   "source": [
    "## 分子中的键操作"
   ]
  },
  {
   "cell_type": "code",
   "execution_count": 12,
   "metadata": {},
   "outputs": [
    {
     "name": "stdout",
     "output_type": "stream",
     "text": [
      "<rdkit.Chem.rdchem._ROBondSeq object at 0x7f349adbba50>\n",
      "<class 'rdkit.Chem.rdchem._ROBondSeq'>\n",
      "<rdkit.Chem.rdchem.Bond object at 0x7f349ad5d210>\n",
      "<class 'rdkit.Chem.rdchem.Bond'>\n"
     ]
    }
   ],
   "source": [
    "bonds = mol.GetBonds()\n",
    "print(bonds)\n",
    "print(type(bonds))\n",
    "print(bonds[0])\n",
    "print(type(bonds[0]))"
   ]
  },
  {
   "attachments": {},
   "cell_type": "markdown",
   "metadata": {},
   "source": [
    "### 获取键的信息\n",
    "获取分子中键的信息所能用到的函数\n",
    "- `m.GetBonds()`: 对键进行遍历\n",
    "- `GetIdx()`: 获取键的索引\n",
    "- `GetBondType()`: 获取键的类型\n",
    "- `GetBondTypeAsDouble()`: 以数字形式显示键的类型\n",
    "- `GetIsAromatic()`: 是否为芳香键\n",
    "- `GetIsConjugated()`: 是否为共轭键\n",
    "- `IsInRing()`: 是否在环中\n",
    "- `IsInRingSize(n)`: 是否在n元环中\n",
    "- `GetBeginAtom()`: 获取起始原子\n",
    "- `GetEndAtom()`: 获取末尾原子"
   ]
  },
  {
   "cell_type": "code",
   "execution_count": 14,
   "metadata": {},
   "outputs": [
    {
     "name": "stdout",
     "output_type": "stream",
     "text": [
      "<class 'rdkit.Chem.rdchem._ROBondSeq'>\n",
      "id\ttype\tdouble\taromic\tconjug\tring\tbegin\tend\n",
      "0\tSINGLE\t1.0\tFalse\tTrue\tTrue\t0\t7\n",
      "1\tDOUBLE\t2.0\tFalse\tTrue\tTrue\t0\t1\n",
      "2\tSINGLE\t1.0\tFalse\tTrue\tTrue\t1\t2\n",
      "3\tDOUBLE\t2.0\tFalse\tTrue\tTrue\t2\t3\n",
      "4\tSINGLE\t1.0\tFalse\tTrue\tTrue\t3\t4\n",
      "5\tDOUBLE\t2.0\tFalse\tTrue\tTrue\t4\t5\n",
      "6\tSINGLE\t1.0\tFalse\tTrue\tTrue\t5\t6\n",
      "7\tDOUBLE\t2.0\tFalse\tTrue\tTrue\t6\t7\n"
     ]
    }
   ],
   "source": [
    "bonds = mol.GetBonds()  # 对键进行遍历\n",
    "print(type(bonds))\n",
    "\n",
    "print('\\t'.join(['id', 'type', 'double', 'aromic', 'conjug', 'ring', 'begin', 'end']))\n",
    "for bond in bonds:\n",
    "    print(bond.GetIdx(), end='\\t')\n",
    "    print(bond.GetBondType(), end='\\t')\n",
    "    print(bond.GetBondTypeAsDouble(), end='\\t')\n",
    "    print(bond.GetIsAromatic(), end='\\t')\n",
    "    print(bond.GetIsConjugated(), end='\\t')\n",
    "    print(bond.IsInRing(), end='\\t')\n",
    "    print(bond.GetBeginAtomIdx(), end='\\t')\n",
    "    print(bond.GetEndAtomIdx())\n"
   ]
  },
  {
   "cell_type": "code",
   "execution_count": 15,
   "metadata": {},
   "outputs": [
    {
     "data": {
      "image/png": "[encoded data removed]",
      "text/plain": [
       "<PIL.PngImagePlugin.PngImageFile image mode=RGB size=300x300>"
      ]
     },
     "execution_count": 15,
     "metadata": {},
     "output_type": "execute_result"
    }
   ],
   "source": [
    "m = Chem.MolFromSmiles('OC1C2C1CC2')\n",
    "Draw.MolToImage(m)"
   ]
  },
  {
   "cell_type": "code",
   "execution_count": 16,
   "metadata": {},
   "outputs": [
    {
     "name": "stdout",
     "output_type": "stream",
     "text": [
      "atom2 in ring: True\n",
      "atom2 in 3-ring: True\n",
      "atom2 in 4-ring: True\n",
      "atom2 in 5-ring: False\n"
     ]
    }
   ],
   "source": [
    "#  ‘IsInRingSize(n)’：判断是否在n-元环上\n",
    "atom2  = m.GetAtomWithIdx(2)\n",
    "print(\"atom2 in ring:\", atom2.IsInRing())\n",
    "print(\"atom2 in 3-ring:\", atom2.IsInRingSize(3))\n",
    "print(\"atom2 in 4-ring:\", atom2.IsInRingSize(4))\n",
    "print(\"atom2 in 5-ring:\", atom2.IsInRingSize(5))"
   ]
  },
  {
   "cell_type": "code",
   "execution_count": 17,
   "metadata": {},
   "outputs": [
    {
     "name": "stdout",
     "output_type": "stream",
     "text": [
      "num of ring 2\n",
      "ring consisted of atoms id: [1, 2, 3]\n",
      "ring consisted of atoms id: [4, 5, 2, 3]\n"
     ]
    }
   ],
   "source": [
    "## 获取分子中所有的环 GetSymmSSSR(m)\n",
    "ssr = Chem.GetSymmSSSR(m)\n",
    "num_ring = len(ssr)\n",
    "print(\"num of ring\", num_ring)\n",
    "for ring in ssr:\n",
    "    print(\"ring consisted of atoms id:\",list(ring))\n"
   ]
  },
  {
   "cell_type": "markdown",
   "metadata": {},
   "source": [
    "## 获取分子中所有的环\n",
    "获取分子环信息用到的函数\n",
    "- `GetRingInfo()`: 直接获取环的信息\n",
    "- `NumRings()`: 查看一共有几个环\n",
    "- `NumAtomRings()`: 查看原子在几个环中\n",
    "- `IsAtomInRingOfSize(n, n1)`: 查看id为n的原子是否在n1元环中\n",
    "- `IsBondInRingOfSize(n , n1)`: 查看id为n的键是否在n1元环中"
   ]
  },
  {
   "cell_type": "code",
   "execution_count": 18,
   "metadata": {},
   "outputs": [
    {
     "data": {
      "text/plain": [
       "['AddRing',\n",
       " 'AreAtomsInSameRing',\n",
       " 'AreAtomsInSameRingOfSize',\n",
       " 'AreBondsInSameRing',\n",
       " 'AreBondsInSameRingOfSize',\n",
       " 'AreRingFamiliesInitialized',\n",
       " 'AtomMembers',\n",
       " 'AtomRingFamilies',\n",
       " 'AtomRingSizes',\n",
       " 'AtomRings',\n",
       " 'BondMembers',\n",
       " 'BondRingFamilies',\n",
       " 'BondRingSizes',\n",
       " 'BondRings',\n",
       " 'IsAtomInRingOfSize',\n",
       " 'IsBondInRingOfSize',\n",
       " 'MinAtomRingSize',\n",
       " 'MinBondRingSize',\n",
       " 'NumAtomRings',\n",
       " 'NumBondRings',\n",
       " 'NumRelevantCycles',\n",
       " 'NumRingFamilies',\n",
       " 'NumRings',\n",
       " '__class__',\n",
       " '__delattr__',\n",
       " '__dict__',\n",
       " '__dir__',\n",
       " '__doc__',\n",
       " '__eq__',\n",
       " '__format__',\n",
       " '__ge__',\n",
       " '__getattribute__',\n",
       " '__gt__',\n",
       " '__hash__',\n",
       " '__init__',\n",
       " '__init_subclass__',\n",
       " '__le__',\n",
       " '__lt__',\n",
       " '__module__',\n",
       " '__ne__',\n",
       " '__new__',\n",
       " '__reduce__',\n",
       " '__reduce_ex__',\n",
       " '__repr__',\n",
       " '__setattr__',\n",
       " '__sizeof__',\n",
       " '__str__',\n",
       " '__subclasshook__',\n",
       " '__weakref__']"
      ]
     },
     "execution_count": 18,
     "metadata": {},
     "output_type": "execute_result"
    }
   ],
   "source": [
    "# 获取分子中环的信息 GetRingInfo()\n",
    "ri = m.GetRingInfo()\n",
    "dir(ri)"
   ]
  },
  {
   "cell_type": "code",
   "execution_count": 23,
   "metadata": {},
   "outputs": [
    {
     "name": "stdout",
     "output_type": "stream",
     "text": [
      "分子中环的个数= 1\n",
      "1\n",
      "False\n",
      "False\n",
      "((0, 1, 2, 3, 4, 5, 6, 7),)\n",
      "(0,)\n"
     ]
    }
   ],
   "source": [
    "ri = mol.GetRingInfo()\n",
    "print('分子中环的个数=',ri.NumRings())  # 分子中环的个数= 3\n",
    "print(ri.NumAtomRings(2))  # 0\n",
    "print(ri.IsAtomInRingOfSize(3,3))  # False\n",
    "print(ri.IsBondInRingOfSize(2,3))  # False\n",
    "\n",
    "print(ri.AtomRings()) # 过滤大环分子\n",
    "print(ri.AtomMembers(1))"
   ]
  },
  {
   "cell_type": "code",
   "execution_count": 20,
   "metadata": {},
   "outputs": [
    {
     "name": "stdout",
     "output_type": "stream",
     "text": [
      "通过索引获取键 DOUBLE\n"
     ]
    }
   ],
   "source": [
    "# 通过索引获取键 SINGLE\n",
    "print('通过索引获取键', mol.GetBondWithIdx(3).GetBondType())  "
   ]
  }
 ],
 "metadata": {
  "kernelspec": {
   "display_name": "gnn",
   "language": "python",
   "name": "python3"
  },
  "language_info": {
   "codemirror_mode": {
    "name": "ipython",
    "version": 3
   },
   "file_extension": ".py",
   "mimetype": "text/x-python",
   "name": "python",
   "nbconvert_exporter": "python",
   "pygments_lexer": "ipython3",
   "version": "3.8.5"
  },
  "orig_nbformat": 4,
  "vscode": {
   "interpreter": {
    "hash": "bbc91dbcb0051019ae97b751bde437ca7a1084c41c512133368dd180960dc485"
   }
  }
 },
 "nbformat": 4,
 "nbformat_minor": 2
}
