{
 "cells": [
  {
   "cell_type": "markdown",
   "metadata": {},
   "source": [
    "# WGCNA加权基因共表达网络分析——关联基因模块与表型\n",
    "\n",
    "> 本节概览   \n",
    "> 1. WGCNA基本概念： 定义、关键术语、基本流程、一些注意事项   \n",
    "> 2. WGCNA运行：    \n",
    "> ⓪输入数据准备   \n",
    "> ①判断数据质量，绘制样品的系统聚类树   \n",
    "> ②挑选最佳阈值power   \n",
    "> ③ 构建加权共表达网络（ 一步法和分步法），识别基因模块   \n",
    "> ④ 关联基因模块与表型：模块与表型相关性热图、模块与表型相关性boxplot图、基因与模块、表型相关性散点图   \n",
    "> ⑤ WGCNA的标配热图 ，模块相关性展示   \n",
    "> ⑥ 对感兴趣模块的基因进行批量GO分析    \n",
    "> ⑦ 感兴趣模块绘制热图    \n",
    "> ⑧ 提取感兴趣模块的基因名, 导出基因至 VisANT 或 cytoscape作图   "
   ]
  },
  {
   "cell_type": "markdown",
   "metadata": {},
   "source": [
    "简单来说，WGCNA其实相当于是对**多个复杂分组**进行的差异分析，用于找寻不同分组/表型的特征基因模块，从而进行下一步分析(如可以对模块内的基因进行GO富集、PPI分析等等). 其最最核心之处就在于能**将基因模块与样本表型进行关联**。\n",
    "\n",
    "\n",
    "## 参考资料\n",
    "WGCNA官方说明文档：\n",
    "\n",
    "[WGCNA: R package for performing Weighted Gene Co-expression Network Analysis (ucla.edu)](https://link.zhihu.com/?target=https%3A//horvath.genetics.ucla.edu/html/CoexpressionNetwork/Rpackages/WGCNA/index.html)\n",
    "\n",
    "WGCNA文章链接：\n",
    "\n",
    "算法—— [A general framework for weighted gene co-expression network analysis - PubMed (nih.gov)](https://link.zhihu.com/?target=https%3A//pubmed.ncbi.nlm.nih.gov/16646834/)\n",
    "\n",
    "R包—— [WGCNA: an R package for weighted correlation network analysis - PMC (nih.gov)](https://link.zhihu.com/?target=https%3A//www.ncbi.nlm.nih.gov/pmc/articles/PMC2631488/)\n",
    "\n",
    "官方英文教程：\n",
    "\n",
    "[GBMTutorialHorvath.doc (ucla.edu) YeastTutorialHorvath.doc (ucla.edu)](https://link.zhihu.com/?target=https%3A//horvath.genetics.ucla.edu/html/GeneralFramework/GBMTutorialHorvath.pdf)\n",
    "\n",
    "[FemaleLiver-02-networkConstr-man.pdf (ucla.edu)](https://link.zhihu.com/?target=https%3A//horvath.genetics.ucla.edu/html/CoexpressionNetwork/Rpackages/WGCNA/Tutorials/FemaleLiver-02-networkConstr-man.pdf)（含分步法构建加权共表达网络）\n",
    "\n",
    "注意事项： [WGCNA package: Frequently Asked Questions (ucla.edu)](https://link.zhihu.com/?target=https%3A//horvath.genetics.ucla.edu/html/CoexpressionNetwork/Rpackages/WGCNA/faq.html)\n",
    "\n",
    "优秀的中文教程：\n",
    "\n",
    "[GEO/task4-NPC at master · jmzeng1314/GEO · GitHub](https://link.zhihu.com/?target=https%3A//github.com/jmzeng1314/GEO/tree/master/task4-NPC)\n",
    "\n",
    "[一文看懂WGCNA 分析(2019更新版)](https://link.zhihu.com/?target=https%3A//cloud.tencent.com/developer/article/1516749)\n",
    "\n",
    "[手把手10分文章WGCNA复现：小胶质细胞亚群在脑发育时髓鞘形成的作用](https://link.zhihu.com/?target=https%3A//mp.weixin.qq.com/s/VKOc5LpcWDuG_wZgBO1s2w)\n",
    "\n",
    "[GitHub - jmzeng1314/my_WGCNA](https://link.zhihu.com/?target=https%3A//github.com/jmzeng1314/my_WGCNA)\n",
    "\n",
    "[WGCNA分析，简单全面的最新教程](https://link.zhihu.com/?target=https%3A//cloud.tencent.com/developer/article/1936465)\n",
    "\n"
   ]
  },
  {
   "cell_type": "markdown",
   "metadata": {
    "vscode": {
     "languageId": "r"
    }
   },
   "source": [
    "## 1. WGCNA基本概念\n",
    "### 1.1 定义\n",
    "WGCNA（Weighted Gene Co-Expression Network Analysis ），即加权基因共表达网络分析，用于寻找高度相关的基因构成的`基因模块module`，利用`模块特征基因eigengene`（模块内第一主成分）或模块内的关键基因`Hub gene`来总结这些模块，将`模块与样本性状进行关联`。"
   ]
  },
  {
   "cell_type": "markdown",
   "metadata": {},
   "source": [
    "### 1.2 其他关键术语\n",
    "关键术语（Connectivity、Adjacency matrix、TOM等）见：\n",
    "\n",
    "Simulated-00-Background.pdf (ucla.edu)\n",
    "\n",
    "[一文看懂WGCNA](https://link.zhihu.com/?target=https%3A//cloud.tencent.com/developer/article/1516749) 分析 [WGCNA分析，简单全面的最新教程](https://link.zhihu.com/?target=https%3A//cloud.tencent.com/developer/article/1936465)"
   ]
  },
  {
   "cell_type": "markdown",
   "metadata": {},
   "source": [
    "### 1.3 基本流程\n",
    "构建基因共表达网络 >> 识别基因模块 >> 关联基因模块与表型 >> 研究基因模块间关系 >> 从感兴趣的基因模块中寻找关键驱动基因\n",
    "\n",
    "<image src=\"../image/51.png\">\n",
    "<image src=\"../image/52.png\">\n"
   ]
  },
  {
   "cell_type": "markdown",
   "metadata": {},
   "source": [
    "## 1.4 一些注意事项\n",
    "[WGCNA package: Frequently Asked Questions (ucla.edu)](https://link.zhihu.com/?target=https%3A//horvath.genetics.ucla.edu/html/CoexpressionNetwork/Rpackages/WGCNA/faq.html)\n",
    "\n",
    "- **样本数** >= 15\n",
    "- **基因过滤方法** 采用均值、方差、中位数、绝对中位差MAD等方法，过滤低表达或样本间变化小的基因，但不建议用差异分析的方法进行过滤\n",
    "- **输入数据形式** 如果有批次效应,需要先进行去除； 处理RNAseq数据，需要采用DESeq2的varianceStabilizingTransformation方法，或将基因标准化后的数据（如FPKM、CPM等）进行log2(x+1)转化\n",
    "- **经验软阈值power** 当无向网络在power小于15或有向网络power小于30内，计算出的power无法达到要求时（即没有一个power值可以使无标度网络图谱结构R^2达到0.8且平均连接度降到100以下），可采用经验power值：\n",
    "\n",
    "<image src=\"../image/53.png\">"
   ]
  },
  {
   "cell_type": "markdown",
   "metadata": {},
   "source": [
    "## 2. WGCNA运行\n",
    "主要参考修改自以下代码：\n",
    "\n",
    "[GEO/task4-NPC at master · jmzeng1314/GEO · GitHub](https://link.zhihu.com/?target=https%3A//github.com/jmzeng1314/GEO/tree/master/task4-NPC)\n",
    "\n",
    "[手把手10分文章WGCNA复现：小胶质细胞亚群在脑发育时髓鞘形成的作用](https://link.zhihu.com/?target=https%3A//mp.weixin.qq.com/s/VKOc5LpcWDuG_wZgBO1s2w)\n",
    "\n",
    "以下实战数据来自于[https://www.ncbi.nlm.nih.gov/geo/query/acc.cgi?acc=GSE154290](https://link.zhihu.com/?target=https%3A//www.ncbi.nlm.nih.gov/geo/query/acc.cgi%3Facc%3DGSE154290)，Supplementary file中的GSE154290_RNA.FPKM.txt.gz文件\n",
    "\n",
    "<image src=\"../image/54.png\">"
   ]
  },
  {
   "cell_type": "markdown",
   "metadata": {},
   "source": [
    "### ⓪ 输入数据准备\n",
    "读取`fpkm`表达矩阵，进行`log2(x+1)`转化；最后对矩阵进行转置，变成行为样品、列为基因的形式\n",
    "\n",
    "```R\n",
    "rm(list = ls())  \n",
    "options(stringsAsFactors = F)\n",
    "Sys.setenv(LANGUAGE = \"en\")\n",
    "library(WGCNA)\n",
    "library(FactoMineR)\n",
    "library(factoextra)  \n",
    "library(tidyverse) # ggplot2 stringer dplyr tidyr readr purrr  tibble forcats\n",
    "library(data.table) #多核读取文件\n",
    "dir.create('8.WGCNA')\n",
    "setwd('8.WGCNA')\n",
    "### 启用WGCNA多核计算\n",
    "enableWGCNAThreads(nThreads = 0.75*parallel::detectCores()) \n",
    "\n",
    "################################# 0.输入数据准备 ################################\n",
    "### 读取表达矩阵\n",
    "if (T) {\n",
    "  fpkm00 <- fread(\"../GSE154290_RNA.FPKM.txt.gz\",data.table = F)\n",
    "  ### 合并具有相同基因名的行\n",
    "  table(duplicated(fpkm00$gene)) #统计重复基因名的基因\n",
    "  gene <- fpkm00$gene ; fpkm00 <- fpkm00[,-1]\n",
    "  fpkm0 <- aggregate(fpkm00, by=list(gene), FUN=sum)\n",
    "  fpkm <- column_to_rownames(fpkm0,\"Group.1\")\n",
    "}\n",
    "data <- log2(fpkm+1)\n",
    "\n",
    "### 筛选MAD前5000的基因\n",
    "keep_data <- data[order(apply(data,1,mad), decreasing = T)[1:5000],]\n",
    "\n",
    "### 创建datTraits，包含分组、表型等信息\n",
    "datTraits <- data.frame(row.names = colnames(data),group=colnames(data))\n",
    "fix(datTraits)\n",
    "\n",
    "### 给分组加上编号\n",
    "grouptype <- data.frame(group=sort(unique(datTraits$group)),\n",
    "                       groupNo=1:length(unique(datTraits$group)))\n",
    "# fix(grouptype)\n",
    "datTraits$groupNo = \"NA\"\n",
    "for(i in 1:nrow(grouptype)){\n",
    "  datTraits[which(datTraits$group == grouptype$group[i]),'groupNo'] <- grouptype$groupNo[i]}\n",
    "datTraits\n",
    "\n",
    "### 转置\n",
    "datExpr0 <- as.data.frame(t(keep_data))\n",
    "\n",
    "```"
   ]
  },
  {
   "cell_type": "code",
   "execution_count": 104,
   "metadata": {
    "vscode": {
     "languageId": "r"
    }
   },
   "outputs": [
    {
     "name": "stderr",
     "output_type": "stream",
     "text": [
      "Warning message in dir.create(\"8.WGCNA\"):\n",
      "“'8.WGCNA' already exists”\n"
     ]
    },
    {
     "name": "stdout",
     "output_type": "stream",
     "text": [
      "Allowing parallel execution with up to 6 working processes.\n"
     ]
    }
   ],
   "source": [
    "rm(list = ls())\n",
    "setwd(\"/slurm/home/admin/nlp/DL/97-bioinformatics/gene_process_for_python/data/salmon\")\n",
    "options(stringsAsFactors = F)\n",
    "Sys.setenv(LANGUAGE = \"en\")\n",
    "library(WGCNA)\n",
    "library(FactoMineR)\n",
    "library(factoextra)\n",
    "library(tidyverse) # ggplot2 stringer dplyr tidyr readr purrr  tibble forcats\n",
    "library(data.table) # 多核读取文件\n",
    "dir.create(\"8.WGCNA\")\n",
    "setwd(\"8.WGCNA\")\n",
    "### 启用WGCNA多核计算\n",
    "enableWGCNAThreads(nThreads = 0.75 * parallel::detectCores())\n"
   ]
  },
  {
   "cell_type": "code",
   "execution_count": 105,
   "metadata": {
    "vscode": {
     "languageId": "r"
    }
   },
   "outputs": [
    {
     "data": {
      "text/html": [],
      "text/latex": [],
      "text/markdown": [],
      "text/plain": [
       "character(0)"
      ]
     },
     "metadata": {},
     "output_type": "display_data"
    }
   ],
   "source": [
    "ls()\n"
   ]
  },
  {
   "cell_type": "code",
   "execution_count": 106,
   "metadata": {
    "vscode": {
     "languageId": "r"
    }
   },
   "outputs": [],
   "source": [
    "################################# 0.输入数据准备 ################################\n",
    "### 读取表达矩阵\n",
    "if (T) {\n",
    "    fpkm00 <- fread(\"../../GSE154290_RNA.FPKM.txt.gz\", data.table = F)\n",
    "    ### 合并具有相同基因名的行\n",
    "    table(duplicated(fpkm00$gene)) # 统计重复基因名的基因\n",
    "    gene <- fpkm00$gene\n",
    "    fpkm00 <- fpkm00[, -1]\n",
    "    # head(fpkm00)\n",
    "    fpkm0 <- aggregate(fpkm00, by = list(gene), FUN = sum)\n",
    "\n",
    "    fpkm <- column_to_rownames(fpkm0, \"Group.1\") # 指定列设置为行索引。\n",
    "}\n"
   ]
  },
  {
   "cell_type": "code",
   "execution_count": 107,
   "metadata": {
    "vscode": {
     "languageId": "r"
    }
   },
   "outputs": [
    {
     "data": {
      "text/html": [
       "<style>\n",
       ".list-inline {list-style: none; margin:0; padding: 0}\n",
       ".list-inline>li {display: inline-block}\n",
       ".list-inline>li:not(:last-child)::after {content: \"\\00b7\"; padding: 0 .5ex}\n",
       "</style>\n",
       "<ol class=list-inline><li>'fpkm'</li><li>'fpkm0'</li><li>'fpkm00'</li><li>'gene'</li></ol>\n"
      ],
      "text/latex": [
       "\\begin{enumerate*}\n",
       "\\item 'fpkm'\n",
       "\\item 'fpkm0'\n",
       "\\item 'fpkm00'\n",
       "\\item 'gene'\n",
       "\\end{enumerate*}\n"
      ],
      "text/markdown": [
       "1. 'fpkm'\n",
       "2. 'fpkm0'\n",
       "3. 'fpkm00'\n",
       "4. 'gene'\n",
       "\n",
       "\n"
      ],
      "text/plain": [
       "[1] \"fpkm\"   \"fpkm0\"  \"fpkm00\" \"gene\"  "
      ]
     },
     "metadata": {},
     "output_type": "display_data"
    }
   ],
   "source": [
    "ls()\n"
   ]
  },
  {
   "cell_type": "code",
   "execution_count": 108,
   "metadata": {
    "vscode": {
     "languageId": "r"
    }
   },
   "outputs": [
    {
     "data": {
      "text/html": [
       "<table class=\"dataframe\">\n",
       "<caption>A data.frame: 6 × 19</caption>\n",
       "<thead>\n",
       "\t<tr><th></th><th scope=col>mESCs_rep1</th><th scope=col>mESCs_rep2</th><th scope=col>EpiLCs-rep1</th><th scope=col>EpiLCs-rep2</th><th scope=col>EpiSCs-rep1</th><th scope=col>EpiSCs-rep2</th><th scope=col>Epiblastoids-day2</th><th scope=col>Epiblastoids-day3</th><th scope=col>Epiblastoids-day4</th><th scope=col>fPSCs_P1</th><th scope=col>fPSCs_P10</th><th scope=col>fPSCs_P20</th><th scope=col>fPSCs_P30</th><th scope=col>fPSCs_CMT_P11</th><th scope=col>fPSCs_46C_P24</th><th scope=col>fPSCs_BVSC_P14</th><th scope=col>fPSCs_ROSAmTmG_P12</th><th scope=col>E5.5_fPSCs_P10</th><th scope=col>E6.5_fPSCs_P10</th></tr>\n",
       "\t<tr><th></th><th scope=col>&lt;dbl&gt;</th><th scope=col>&lt;dbl&gt;</th><th scope=col>&lt;dbl&gt;</th><th scope=col>&lt;dbl&gt;</th><th scope=col>&lt;dbl&gt;</th><th scope=col>&lt;dbl&gt;</th><th scope=col>&lt;dbl&gt;</th><th scope=col>&lt;dbl&gt;</th><th scope=col>&lt;dbl&gt;</th><th scope=col>&lt;dbl&gt;</th><th scope=col>&lt;dbl&gt;</th><th scope=col>&lt;dbl&gt;</th><th scope=col>&lt;dbl&gt;</th><th scope=col>&lt;dbl&gt;</th><th scope=col>&lt;dbl&gt;</th><th scope=col>&lt;dbl&gt;</th><th scope=col>&lt;dbl&gt;</th><th scope=col>&lt;dbl&gt;</th><th scope=col>&lt;dbl&gt;</th></tr>\n",
       "</thead>\n",
       "<tbody>\n",
       "\t<tr><th scope=row>-343C11.2</th><td>0.00000000</td><td>0.0000000</td><td>0.00000000</td><td>0.00000000</td><td>0.00000000</td><td>0.00000000</td><td>0.00000000</td><td>0.00000000</td><td>0.000000000</td><td>0.00000000</td><td>0.00000000</td><td>0.00000000</td><td>0.00000000</td><td>0.00000000</td><td>0.00000000</td><td>0.00000000</td><td>0.00000000</td><td>0.00000000</td><td>0.000000</td></tr>\n",
       "\t<tr><th scope=row>00R_Pgap2</th><td>4.66185333</td><td>4.7336600</td><td>4.39210884</td><td>4.71033296</td><td>4.37310228</td><td>4.48554398</td><td>4.12270353</td><td>4.25116804</td><td>4.517226049</td><td>4.31148088</td><td>4.51799982</td><td>4.96714559</td><td>4.80792344</td><td>4.14735278</td><td>4.30951674</td><td>4.33987729</td><td>4.24371097</td><td>4.81591357</td><td>4.846119</td></tr>\n",
       "\t<tr><th scope=row>0610009O20Rik</th><td>4.34582228</td><td>3.9441682</td><td>4.82097077</td><td>4.88074003</td><td>5.03053883</td><td>5.09539993</td><td>4.51716305</td><td>4.51685586</td><td>4.815275793</td><td>4.80685747</td><td>4.83758474</td><td>4.94027920</td><td>4.81759297</td><td>4.50172110</td><td>4.50161856</td><td>4.51486873</td><td>4.22488019</td><td>4.74321830</td><td>4.464000</td></tr>\n",
       "\t<tr><th scope=row>1-Mar</th><td>0.02872614</td><td>0.1306239</td><td>0.03589975</td><td>0.01044329</td><td>0.07432731</td><td>0.05140273</td><td>0.01741741</td><td>0.03063836</td><td>0.110928450</td><td>0.08050895</td><td>0.05346032</td><td>0.02026252</td><td>0.01344511</td><td>0.04932408</td><td>0.02684254</td><td>0.08917948</td><td>0.02057545</td><td>0.03999744</td><td>0.000000</td></tr>\n",
       "\t<tr><th scope=row>1-Sep</th><td>6.87687530</td><td>6.4293711</td><td>4.45086001</td><td>3.95544059</td><td>1.11131582</td><td>0.87030632</td><td>4.09257813</td><td>1.72521851</td><td>1.246061434</td><td>1.19544776</td><td>0.99435959</td><td>1.06204432</td><td>1.51998164</td><td>1.03275326</td><td>1.42567521</td><td>1.37099561</td><td>1.33408024</td><td>1.30433931</td><td>1.005227</td></tr>\n",
       "\t<tr><th scope=row>10-Mar</th><td>0.00000000</td><td>0.0000000</td><td>0.00000000</td><td>0.00000000</td><td>0.00000000</td><td>0.03059316</td><td>0.00000000</td><td>0.00000000</td><td>0.006645593</td><td>0.00000000</td><td>0.00000000</td><td>0.00000000</td><td>0.00000000</td><td>0.00000000</td><td>0.00000000</td><td>0.00000000</td><td>0.00000000</td><td>0.00000000</td><td>0.000000</td></tr>\n",
       "</tbody>\n",
       "</table>\n"
      ],
      "text/latex": [
       "A data.frame: 6 × 19\n",
       "\\begin{tabular}{r|lllllllllllllllllll}\n",
       "  & mESCs\\_rep1 & mESCs\\_rep2 & EpiLCs-rep1 & EpiLCs-rep2 & EpiSCs-rep1 & EpiSCs-rep2 & Epiblastoids-day2 & Epiblastoids-day3 & Epiblastoids-day4 & fPSCs\\_P1 & fPSCs\\_P10 & fPSCs\\_P20 & fPSCs\\_P30 & fPSCs\\_CMT\\_P11 & fPSCs\\_46C\\_P24 & fPSCs\\_BVSC\\_P14 & fPSCs\\_ROSAmTmG\\_P12 & E5.5\\_fPSCs\\_P10 & E6.5\\_fPSCs\\_P10\\\\\n",
       "  & <dbl> & <dbl> & <dbl> & <dbl> & <dbl> & <dbl> & <dbl> & <dbl> & <dbl> & <dbl> & <dbl> & <dbl> & <dbl> & <dbl> & <dbl> & <dbl> & <dbl> & <dbl> & <dbl>\\\\\n",
       "\\hline\n",
       "\t-343C11.2 & 0.00000000 & 0.0000000 & 0.00000000 & 0.00000000 & 0.00000000 & 0.00000000 & 0.00000000 & 0.00000000 & 0.000000000 & 0.00000000 & 0.00000000 & 0.00000000 & 0.00000000 & 0.00000000 & 0.00000000 & 0.00000000 & 0.00000000 & 0.00000000 & 0.000000\\\\\n",
       "\t00R\\_Pgap2 & 4.66185333 & 4.7336600 & 4.39210884 & 4.71033296 & 4.37310228 & 4.48554398 & 4.12270353 & 4.25116804 & 4.517226049 & 4.31148088 & 4.51799982 & 4.96714559 & 4.80792344 & 4.14735278 & 4.30951674 & 4.33987729 & 4.24371097 & 4.81591357 & 4.846119\\\\\n",
       "\t0610009O20Rik & 4.34582228 & 3.9441682 & 4.82097077 & 4.88074003 & 5.03053883 & 5.09539993 & 4.51716305 & 4.51685586 & 4.815275793 & 4.80685747 & 4.83758474 & 4.94027920 & 4.81759297 & 4.50172110 & 4.50161856 & 4.51486873 & 4.22488019 & 4.74321830 & 4.464000\\\\\n",
       "\t1-Mar & 0.02872614 & 0.1306239 & 0.03589975 & 0.01044329 & 0.07432731 & 0.05140273 & 0.01741741 & 0.03063836 & 0.110928450 & 0.08050895 & 0.05346032 & 0.02026252 & 0.01344511 & 0.04932408 & 0.02684254 & 0.08917948 & 0.02057545 & 0.03999744 & 0.000000\\\\\n",
       "\t1-Sep & 6.87687530 & 6.4293711 & 4.45086001 & 3.95544059 & 1.11131582 & 0.87030632 & 4.09257813 & 1.72521851 & 1.246061434 & 1.19544776 & 0.99435959 & 1.06204432 & 1.51998164 & 1.03275326 & 1.42567521 & 1.37099561 & 1.33408024 & 1.30433931 & 1.005227\\\\\n",
       "\t10-Mar & 0.00000000 & 0.0000000 & 0.00000000 & 0.00000000 & 0.00000000 & 0.03059316 & 0.00000000 & 0.00000000 & 0.006645593 & 0.00000000 & 0.00000000 & 0.00000000 & 0.00000000 & 0.00000000 & 0.00000000 & 0.00000000 & 0.00000000 & 0.00000000 & 0.000000\\\\\n",
       "\\end{tabular}\n"
      ],
      "text/markdown": [
       "\n",
       "A data.frame: 6 × 19\n",
       "\n",
       "| <!--/--> | mESCs_rep1 &lt;dbl&gt; | mESCs_rep2 &lt;dbl&gt; | EpiLCs-rep1 &lt;dbl&gt; | EpiLCs-rep2 &lt;dbl&gt; | EpiSCs-rep1 &lt;dbl&gt; | EpiSCs-rep2 &lt;dbl&gt; | Epiblastoids-day2 &lt;dbl&gt; | Epiblastoids-day3 &lt;dbl&gt; | Epiblastoids-day4 &lt;dbl&gt; | fPSCs_P1 &lt;dbl&gt; | fPSCs_P10 &lt;dbl&gt; | fPSCs_P20 &lt;dbl&gt; | fPSCs_P30 &lt;dbl&gt; | fPSCs_CMT_P11 &lt;dbl&gt; | fPSCs_46C_P24 &lt;dbl&gt; | fPSCs_BVSC_P14 &lt;dbl&gt; | fPSCs_ROSAmTmG_P12 &lt;dbl&gt; | E5.5_fPSCs_P10 &lt;dbl&gt; | E6.5_fPSCs_P10 &lt;dbl&gt; |\n",
       "|---|---|---|---|---|---|---|---|---|---|---|---|---|---|---|---|---|---|---|---|\n",
       "| -343C11.2 | 0.00000000 | 0.0000000 | 0.00000000 | 0.00000000 | 0.00000000 | 0.00000000 | 0.00000000 | 0.00000000 | 0.000000000 | 0.00000000 | 0.00000000 | 0.00000000 | 0.00000000 | 0.00000000 | 0.00000000 | 0.00000000 | 0.00000000 | 0.00000000 | 0.000000 |\n",
       "| 00R_Pgap2 | 4.66185333 | 4.7336600 | 4.39210884 | 4.71033296 | 4.37310228 | 4.48554398 | 4.12270353 | 4.25116804 | 4.517226049 | 4.31148088 | 4.51799982 | 4.96714559 | 4.80792344 | 4.14735278 | 4.30951674 | 4.33987729 | 4.24371097 | 4.81591357 | 4.846119 |\n",
       "| 0610009O20Rik | 4.34582228 | 3.9441682 | 4.82097077 | 4.88074003 | 5.03053883 | 5.09539993 | 4.51716305 | 4.51685586 | 4.815275793 | 4.80685747 | 4.83758474 | 4.94027920 | 4.81759297 | 4.50172110 | 4.50161856 | 4.51486873 | 4.22488019 | 4.74321830 | 4.464000 |\n",
       "| 1-Mar | 0.02872614 | 0.1306239 | 0.03589975 | 0.01044329 | 0.07432731 | 0.05140273 | 0.01741741 | 0.03063836 | 0.110928450 | 0.08050895 | 0.05346032 | 0.02026252 | 0.01344511 | 0.04932408 | 0.02684254 | 0.08917948 | 0.02057545 | 0.03999744 | 0.000000 |\n",
       "| 1-Sep | 6.87687530 | 6.4293711 | 4.45086001 | 3.95544059 | 1.11131582 | 0.87030632 | 4.09257813 | 1.72521851 | 1.246061434 | 1.19544776 | 0.99435959 | 1.06204432 | 1.51998164 | 1.03275326 | 1.42567521 | 1.37099561 | 1.33408024 | 1.30433931 | 1.005227 |\n",
       "| 10-Mar | 0.00000000 | 0.0000000 | 0.00000000 | 0.00000000 | 0.00000000 | 0.03059316 | 0.00000000 | 0.00000000 | 0.006645593 | 0.00000000 | 0.00000000 | 0.00000000 | 0.00000000 | 0.00000000 | 0.00000000 | 0.00000000 | 0.00000000 | 0.00000000 | 0.000000 |\n",
       "\n"
      ],
      "text/plain": [
       "              mESCs_rep1 mESCs_rep2 EpiLCs-rep1 EpiLCs-rep2 EpiSCs-rep1\n",
       "-343C11.2     0.00000000 0.0000000  0.00000000  0.00000000  0.00000000 \n",
       "00R_Pgap2     4.66185333 4.7336600  4.39210884  4.71033296  4.37310228 \n",
       "0610009O20Rik 4.34582228 3.9441682  4.82097077  4.88074003  5.03053883 \n",
       "1-Mar         0.02872614 0.1306239  0.03589975  0.01044329  0.07432731 \n",
       "1-Sep         6.87687530 6.4293711  4.45086001  3.95544059  1.11131582 \n",
       "10-Mar        0.00000000 0.0000000  0.00000000  0.00000000  0.00000000 \n",
       "              EpiSCs-rep2 Epiblastoids-day2 Epiblastoids-day3 Epiblastoids-day4\n",
       "-343C11.2     0.00000000  0.00000000        0.00000000        0.000000000      \n",
       "00R_Pgap2     4.48554398  4.12270353        4.25116804        4.517226049      \n",
       "0610009O20Rik 5.09539993  4.51716305        4.51685586        4.815275793      \n",
       "1-Mar         0.05140273  0.01741741        0.03063836        0.110928450      \n",
       "1-Sep         0.87030632  4.09257813        1.72521851        1.246061434      \n",
       "10-Mar        0.03059316  0.00000000        0.00000000        0.006645593      \n",
       "              fPSCs_P1   fPSCs_P10  fPSCs_P20  fPSCs_P30  fPSCs_CMT_P11\n",
       "-343C11.2     0.00000000 0.00000000 0.00000000 0.00000000 0.00000000   \n",
       "00R_Pgap2     4.31148088 4.51799982 4.96714559 4.80792344 4.14735278   \n",
       "0610009O20Rik 4.80685747 4.83758474 4.94027920 4.81759297 4.50172110   \n",
       "1-Mar         0.08050895 0.05346032 0.02026252 0.01344511 0.04932408   \n",
       "1-Sep         1.19544776 0.99435959 1.06204432 1.51998164 1.03275326   \n",
       "10-Mar        0.00000000 0.00000000 0.00000000 0.00000000 0.00000000   \n",
       "              fPSCs_46C_P24 fPSCs_BVSC_P14 fPSCs_ROSAmTmG_P12 E5.5_fPSCs_P10\n",
       "-343C11.2     0.00000000    0.00000000     0.00000000         0.00000000    \n",
       "00R_Pgap2     4.30951674    4.33987729     4.24371097         4.81591357    \n",
       "0610009O20Rik 4.50161856    4.51486873     4.22488019         4.74321830    \n",
       "1-Mar         0.02684254    0.08917948     0.02057545         0.03999744    \n",
       "1-Sep         1.42567521    1.37099561     1.33408024         1.30433931    \n",
       "10-Mar        0.00000000    0.00000000     0.00000000         0.00000000    \n",
       "              E6.5_fPSCs_P10\n",
       "-343C11.2     0.000000      \n",
       "00R_Pgap2     4.846119      \n",
       "0610009O20Rik 4.464000      \n",
       "1-Mar         0.000000      \n",
       "1-Sep         1.005227      \n",
       "10-Mar        0.000000      "
      ]
     },
     "metadata": {},
     "output_type": "display_data"
    }
   ],
   "source": [
    "data <- log2(fpkm + 1)\n",
    "head(data)\n"
   ]
  },
  {
   "cell_type": "code",
   "execution_count": 109,
   "metadata": {
    "vscode": {
     "languageId": "r"
    }
   },
   "outputs": [
    {
     "data": {
      "text/html": [
       "<table class=\"dataframe\">\n",
       "<caption>A data.frame: 6 × 1</caption>\n",
       "<thead>\n",
       "\t<tr><th></th><th scope=col>group</th></tr>\n",
       "\t<tr><th></th><th scope=col>&lt;chr&gt;</th></tr>\n",
       "</thead>\n",
       "<tbody>\n",
       "\t<tr><th scope=row>mESCs_rep1</th><td>naive    </td></tr>\n",
       "\t<tr><th scope=row>mESCs_rep2</th><td>naive    </td></tr>\n",
       "\t<tr><th scope=row>EpiLCs-rep1</th><td>formative</td></tr>\n",
       "\t<tr><th scope=row>EpiLCs-rep2</th><td>formative</td></tr>\n",
       "\t<tr><th scope=row>EpiSCs-rep1</th><td>primed   </td></tr>\n",
       "\t<tr><th scope=row>EpiSCs-rep2</th><td>primed   </td></tr>\n",
       "</tbody>\n",
       "</table>\n"
      ],
      "text/latex": [
       "A data.frame: 6 × 1\n",
       "\\begin{tabular}{r|l}\n",
       "  & group\\\\\n",
       "  & <chr>\\\\\n",
       "\\hline\n",
       "\tmESCs\\_rep1 & naive    \\\\\n",
       "\tmESCs\\_rep2 & naive    \\\\\n",
       "\tEpiLCs-rep1 & formative\\\\\n",
       "\tEpiLCs-rep2 & formative\\\\\n",
       "\tEpiSCs-rep1 & primed   \\\\\n",
       "\tEpiSCs-rep2 & primed   \\\\\n",
       "\\end{tabular}\n"
      ],
      "text/markdown": [
       "\n",
       "A data.frame: 6 × 1\n",
       "\n",
       "| <!--/--> | group &lt;chr&gt; |\n",
       "|---|---|\n",
       "| mESCs_rep1 | naive     |\n",
       "| mESCs_rep2 | naive     |\n",
       "| EpiLCs-rep1 | formative |\n",
       "| EpiLCs-rep2 | formative |\n",
       "| EpiSCs-rep1 | primed    |\n",
       "| EpiSCs-rep2 | primed    |\n",
       "\n"
      ],
      "text/plain": [
       "            group    \n",
       "mESCs_rep1  naive    \n",
       "mESCs_rep2  naive    \n",
       "EpiLCs-rep1 formative\n",
       "EpiLCs-rep2 formative\n",
       "EpiSCs-rep1 primed   \n",
       "EpiSCs-rep2 primed   "
      ]
     },
     "metadata": {},
     "output_type": "display_data"
    }
   ],
   "source": [
    "### 筛选MAD前5000的基因\n",
    "keep_data <- data[order(apply(data, 1, mad), decreasing = T)[1:5000], ]\n",
    "\n",
    "### 创建datTraits，包含分组、表型等信息\n",
    "datTraits <- data.frame(row.names = colnames(data), group = colnames(data))\n",
    "# fix(datTraits) ## 需要手动输入\n",
    "ctr <- \"naive\"\n",
    "exp <- \"formative\"\n",
    "exp1 <- \"primed\"\n",
    "datTraits$group <- c(ctr, ctr, exp, exp, exp1, exp1, exp, exp, exp, exp, exp, exp, exp, exp, exp, exp, exp, exp, exp)\n",
    "\n",
    "head(datTraits)\n"
   ]
  },
  {
   "cell_type": "code",
   "execution_count": 110,
   "metadata": {
    "vscode": {
     "languageId": "r"
    }
   },
   "outputs": [],
   "source": [
    "# custom_change <- function(x) {\n",
    "#     if (x == ctr) {\n",
    "#         1\n",
    "#     } else if (x == exp) {\n",
    "#         2\n",
    "#     } else {\n",
    "#         3\n",
    "#     }\n",
    "# }\n",
    "# datTraits$groupNo <- lapply(datTraits$group, FUN = custom_change)\n",
    "\n",
    "# head(datTraits)\n"
   ]
  },
  {
   "cell_type": "code",
   "execution_count": 111,
   "metadata": {
    "vscode": {
     "languageId": "r"
    }
   },
   "outputs": [
    {
     "data": {
      "text/html": [
       "<table class=\"dataframe\">\n",
       "<caption>A data.frame: 3 × 2</caption>\n",
       "<thead>\n",
       "\t<tr><th scope=col>group</th><th scope=col>groupNo</th></tr>\n",
       "\t<tr><th scope=col>&lt;chr&gt;</th><th scope=col>&lt;int&gt;</th></tr>\n",
       "</thead>\n",
       "<tbody>\n",
       "\t<tr><td>formative</td><td>1</td></tr>\n",
       "\t<tr><td>naive    </td><td>2</td></tr>\n",
       "\t<tr><td>primed   </td><td>3</td></tr>\n",
       "</tbody>\n",
       "</table>\n"
      ],
      "text/latex": [
       "A data.frame: 3 × 2\n",
       "\\begin{tabular}{ll}\n",
       " group & groupNo\\\\\n",
       " <chr> & <int>\\\\\n",
       "\\hline\n",
       "\t formative & 1\\\\\n",
       "\t naive     & 2\\\\\n",
       "\t primed    & 3\\\\\n",
       "\\end{tabular}\n"
      ],
      "text/markdown": [
       "\n",
       "A data.frame: 3 × 2\n",
       "\n",
       "| group &lt;chr&gt; | groupNo &lt;int&gt; |\n",
       "|---|---|\n",
       "| formative | 1 |\n",
       "| naive     | 2 |\n",
       "| primed    | 3 |\n",
       "\n"
      ],
      "text/plain": [
       "  group     groupNo\n",
       "1 formative 1      \n",
       "2 naive     2      \n",
       "3 primed    3      "
      ]
     },
     "metadata": {},
     "output_type": "display_data"
    }
   ],
   "source": [
    "### 给分组加上编号\n",
    "grouptype <- data.frame(\n",
    "    group = sort(unique(datTraits$group)),\n",
    "    groupNo = 1:length(unique(datTraits$group))\n",
    ")\n",
    "# fix(grouptype)\n",
    "grouptype\n"
   ]
  },
  {
   "cell_type": "code",
   "execution_count": 112,
   "metadata": {
    "vscode": {
     "languageId": "r"
    }
   },
   "outputs": [
    {
     "data": {
      "text/html": [
       "<table class=\"dataframe\">\n",
       "<caption>A data.frame: 6 × 2</caption>\n",
       "<thead>\n",
       "\t<tr><th></th><th scope=col>group</th><th scope=col>groupNo</th></tr>\n",
       "\t<tr><th></th><th scope=col>&lt;chr&gt;</th><th scope=col>&lt;chr&gt;</th></tr>\n",
       "</thead>\n",
       "<tbody>\n",
       "\t<tr><th scope=row>mESCs_rep1</th><td>naive    </td><td>2</td></tr>\n",
       "\t<tr><th scope=row>mESCs_rep2</th><td>naive    </td><td>2</td></tr>\n",
       "\t<tr><th scope=row>EpiLCs-rep1</th><td>formative</td><td>1</td></tr>\n",
       "\t<tr><th scope=row>EpiLCs-rep2</th><td>formative</td><td>1</td></tr>\n",
       "\t<tr><th scope=row>EpiSCs-rep1</th><td>primed   </td><td>3</td></tr>\n",
       "\t<tr><th scope=row>EpiSCs-rep2</th><td>primed   </td><td>3</td></tr>\n",
       "</tbody>\n",
       "</table>\n"
      ],
      "text/latex": [
       "A data.frame: 6 × 2\n",
       "\\begin{tabular}{r|ll}\n",
       "  & group & groupNo\\\\\n",
       "  & <chr> & <chr>\\\\\n",
       "\\hline\n",
       "\tmESCs\\_rep1 & naive     & 2\\\\\n",
       "\tmESCs\\_rep2 & naive     & 2\\\\\n",
       "\tEpiLCs-rep1 & formative & 1\\\\\n",
       "\tEpiLCs-rep2 & formative & 1\\\\\n",
       "\tEpiSCs-rep1 & primed    & 3\\\\\n",
       "\tEpiSCs-rep2 & primed    & 3\\\\\n",
       "\\end{tabular}\n"
      ],
      "text/markdown": [
       "\n",
       "A data.frame: 6 × 2\n",
       "\n",
       "| <!--/--> | group &lt;chr&gt; | groupNo &lt;chr&gt; |\n",
       "|---|---|---|\n",
       "| mESCs_rep1 | naive     | 2 |\n",
       "| mESCs_rep2 | naive     | 2 |\n",
       "| EpiLCs-rep1 | formative | 1 |\n",
       "| EpiLCs-rep2 | formative | 1 |\n",
       "| EpiSCs-rep1 | primed    | 3 |\n",
       "| EpiSCs-rep2 | primed    | 3 |\n",
       "\n"
      ],
      "text/plain": [
       "            group     groupNo\n",
       "mESCs_rep1  naive     2      \n",
       "mESCs_rep2  naive     2      \n",
       "EpiLCs-rep1 formative 1      \n",
       "EpiLCs-rep2 formative 1      \n",
       "EpiSCs-rep1 primed    3      \n",
       "EpiSCs-rep2 primed    3      "
      ]
     },
     "metadata": {},
     "output_type": "display_data"
    }
   ],
   "source": [
    "datTraits$groupNo <- \"NA\"\n",
    "for (i in 1:nrow(grouptype)) {\n",
    "    datTraits[which(datTraits$group == grouptype$group[i]), \"groupNo\"] <- grouptype$groupNo[i]\n",
    "}\n",
    "head(datTraits)\n"
   ]
  },
  {
   "cell_type": "code",
   "execution_count": 113,
   "metadata": {
    "vscode": {
     "languageId": "r"
    }
   },
   "outputs": [
    {
     "data": {
      "text/html": [
       "<table class=\"dataframe\">\n",
       "<caption>A matrix: 6 × 5000 of type dbl</caption>\n",
       "<thead>\n",
       "\t<tr><th></th><th scope=col>Rps4l</th><th scope=col>Foxa2</th><th scope=col>Trim25</th><th scope=col>Rn7s2</th><th scope=col>Pga5</th><th scope=col>Hmgn2-ps1</th><th scope=col>Cyp26a1</th><th scope=col>Rn7s1</th><th scope=col>Ccnd2</th><th scope=col>Cer1</th><th scope=col>⋯</th><th scope=col>Mrps34</th><th scope=col>Ssbp3</th><th scope=col>Cdc73</th><th scope=col>Ibtk</th><th scope=col>Msl3l2</th><th scope=col>Chrac1</th><th scope=col>Zfp1</th><th scope=col>Bnip3l</th><th scope=col>Zgrf1</th><th scope=col>Ict1</th></tr>\n",
       "</thead>\n",
       "<tbody>\n",
       "\t<tr><th scope=row>mESCs_rep1</th><td>9.364239</td><td>0.00000000</td><td>5.019402</td><td> 8.329729</td><td>3.1043372</td><td>1.199664</td><td>0.000000</td><td> 8.615014</td><td>0.07077262</td><td>0.0000000</td><td>⋯</td><td>4.973798</td><td>3.204773</td><td>2.548518</td><td>4.092253</td><td>1.189475</td><td>3.886839</td><td>3.470314</td><td>4.560274</td><td>1.883031</td><td>4.959247</td></tr>\n",
       "\t<tr><th scope=row>mESCs_rep2</th><td>9.361816</td><td>0.05717713</td><td>4.839792</td><td>10.747218</td><td>3.6812268</td><td>1.293418</td><td>0.000000</td><td>10.681172</td><td>0.24103962</td><td>0.0000000</td><td>⋯</td><td>5.372327</td><td>3.337484</td><td>2.852679</td><td>3.663817</td><td>1.036932</td><td>4.236858</td><td>3.555849</td><td>4.888410</td><td>2.088757</td><td>5.071970</td></tr>\n",
       "\t<tr><th scope=row>EpiLCs-rep1</th><td>8.713411</td><td>0.29836740</td><td>4.267069</td><td> 1.963335</td><td>0.0000000</td><td>6.376873</td><td>0.000000</td><td> 1.872018</td><td>1.09129769</td><td>0.1437722</td><td>⋯</td><td>5.870853</td><td>5.900903</td><td>3.590798</td><td>4.469322</td><td>1.950021</td><td>3.508038</td><td>3.892652</td><td>4.579324</td><td>1.852818</td><td>3.544153</td></tr>\n",
       "\t<tr><th scope=row>EpiLCs-rep2</th><td>9.241885</td><td>0.12629627</td><td>3.820633</td><td> 3.256059</td><td>0.0000000</td><td>2.095296</td><td>0.000000</td><td> 2.885387</td><td>0.72986944</td><td>0.0000000</td><td>⋯</td><td>6.139104</td><td>5.543977</td><td>3.425835</td><td>4.373150</td><td>2.217453</td><td>4.276472</td><td>3.763082</td><td>4.917200</td><td>2.051321</td><td>3.761461</td></tr>\n",
       "\t<tr><th scope=row>EpiSCs-rep1</th><td>2.542505</td><td>3.71238316</td><td>2.628363</td><td> 1.623698</td><td>0.7710615</td><td>3.562474</td><td>2.628462</td><td> 1.368269</td><td>5.73316255</td><td>1.6183754</td><td>⋯</td><td>5.389302</td><td>6.511996</td><td>2.870072</td><td>3.456040</td><td>2.041343</td><td>3.956251</td><td>2.773357</td><td>4.746138</td><td>1.292282</td><td>4.271781</td></tr>\n",
       "\t<tr><th scope=row>EpiSCs-rep2</th><td>2.427830</td><td>3.36911355</td><td>2.634759</td><td> 1.820877</td><td>0.8610176</td><td>2.590056</td><td>3.197960</td><td> 1.623713</td><td>5.09980927</td><td>1.4977886</td><td>⋯</td><td>6.047203</td><td>6.216100</td><td>2.655662</td><td>3.148852</td><td>1.967036</td><td>3.830026</td><td>2.826492</td><td>4.291499</td><td>1.185843</td><td>3.718221</td></tr>\n",
       "</tbody>\n",
       "</table>\n"
      ],
      "text/latex": [
       "A matrix: 6 × 5000 of type dbl\n",
       "\\begin{tabular}{r|lllllllllllllllllllll}\n",
       "  & Rps4l & Foxa2 & Trim25 & Rn7s2 & Pga5 & Hmgn2-ps1 & Cyp26a1 & Rn7s1 & Ccnd2 & Cer1 & ⋯ & Mrps34 & Ssbp3 & Cdc73 & Ibtk & Msl3l2 & Chrac1 & Zfp1 & Bnip3l & Zgrf1 & Ict1\\\\\n",
       "\\hline\n",
       "\tmESCs\\_rep1 & 9.364239 & 0.00000000 & 5.019402 &  8.329729 & 3.1043372 & 1.199664 & 0.000000 &  8.615014 & 0.07077262 & 0.0000000 & ⋯ & 4.973798 & 3.204773 & 2.548518 & 4.092253 & 1.189475 & 3.886839 & 3.470314 & 4.560274 & 1.883031 & 4.959247\\\\\n",
       "\tmESCs\\_rep2 & 9.361816 & 0.05717713 & 4.839792 & 10.747218 & 3.6812268 & 1.293418 & 0.000000 & 10.681172 & 0.24103962 & 0.0000000 & ⋯ & 5.372327 & 3.337484 & 2.852679 & 3.663817 & 1.036932 & 4.236858 & 3.555849 & 4.888410 & 2.088757 & 5.071970\\\\\n",
       "\tEpiLCs-rep1 & 8.713411 & 0.29836740 & 4.267069 &  1.963335 & 0.0000000 & 6.376873 & 0.000000 &  1.872018 & 1.09129769 & 0.1437722 & ⋯ & 5.870853 & 5.900903 & 3.590798 & 4.469322 & 1.950021 & 3.508038 & 3.892652 & 4.579324 & 1.852818 & 3.544153\\\\\n",
       "\tEpiLCs-rep2 & 9.241885 & 0.12629627 & 3.820633 &  3.256059 & 0.0000000 & 2.095296 & 0.000000 &  2.885387 & 0.72986944 & 0.0000000 & ⋯ & 6.139104 & 5.543977 & 3.425835 & 4.373150 & 2.217453 & 4.276472 & 3.763082 & 4.917200 & 2.051321 & 3.761461\\\\\n",
       "\tEpiSCs-rep1 & 2.542505 & 3.71238316 & 2.628363 &  1.623698 & 0.7710615 & 3.562474 & 2.628462 &  1.368269 & 5.73316255 & 1.6183754 & ⋯ & 5.389302 & 6.511996 & 2.870072 & 3.456040 & 2.041343 & 3.956251 & 2.773357 & 4.746138 & 1.292282 & 4.271781\\\\\n",
       "\tEpiSCs-rep2 & 2.427830 & 3.36911355 & 2.634759 &  1.820877 & 0.8610176 & 2.590056 & 3.197960 &  1.623713 & 5.09980927 & 1.4977886 & ⋯ & 6.047203 & 6.216100 & 2.655662 & 3.148852 & 1.967036 & 3.830026 & 2.826492 & 4.291499 & 1.185843 & 3.718221\\\\\n",
       "\\end{tabular}\n"
      ],
      "text/markdown": [
       "\n",
       "A matrix: 6 × 5000 of type dbl\n",
       "\n",
       "| <!--/--> | Rps4l | Foxa2 | Trim25 | Rn7s2 | Pga5 | Hmgn2-ps1 | Cyp26a1 | Rn7s1 | Ccnd2 | Cer1 | ⋯ | Mrps34 | Ssbp3 | Cdc73 | Ibtk | Msl3l2 | Chrac1 | Zfp1 | Bnip3l | Zgrf1 | Ict1 |\n",
       "|---|---|---|---|---|---|---|---|---|---|---|---|---|---|---|---|---|---|---|---|---|---|\n",
       "| mESCs_rep1 | 9.364239 | 0.00000000 | 5.019402 |  8.329729 | 3.1043372 | 1.199664 | 0.000000 |  8.615014 | 0.07077262 | 0.0000000 | ⋯ | 4.973798 | 3.204773 | 2.548518 | 4.092253 | 1.189475 | 3.886839 | 3.470314 | 4.560274 | 1.883031 | 4.959247 |\n",
       "| mESCs_rep2 | 9.361816 | 0.05717713 | 4.839792 | 10.747218 | 3.6812268 | 1.293418 | 0.000000 | 10.681172 | 0.24103962 | 0.0000000 | ⋯ | 5.372327 | 3.337484 | 2.852679 | 3.663817 | 1.036932 | 4.236858 | 3.555849 | 4.888410 | 2.088757 | 5.071970 |\n",
       "| EpiLCs-rep1 | 8.713411 | 0.29836740 | 4.267069 |  1.963335 | 0.0000000 | 6.376873 | 0.000000 |  1.872018 | 1.09129769 | 0.1437722 | ⋯ | 5.870853 | 5.900903 | 3.590798 | 4.469322 | 1.950021 | 3.508038 | 3.892652 | 4.579324 | 1.852818 | 3.544153 |\n",
       "| EpiLCs-rep2 | 9.241885 | 0.12629627 | 3.820633 |  3.256059 | 0.0000000 | 2.095296 | 0.000000 |  2.885387 | 0.72986944 | 0.0000000 | ⋯ | 6.139104 | 5.543977 | 3.425835 | 4.373150 | 2.217453 | 4.276472 | 3.763082 | 4.917200 | 2.051321 | 3.761461 |\n",
       "| EpiSCs-rep1 | 2.542505 | 3.71238316 | 2.628363 |  1.623698 | 0.7710615 | 3.562474 | 2.628462 |  1.368269 | 5.73316255 | 1.6183754 | ⋯ | 5.389302 | 6.511996 | 2.870072 | 3.456040 | 2.041343 | 3.956251 | 2.773357 | 4.746138 | 1.292282 | 4.271781 |\n",
       "| EpiSCs-rep2 | 2.427830 | 3.36911355 | 2.634759 |  1.820877 | 0.8610176 | 2.590056 | 3.197960 |  1.623713 | 5.09980927 | 1.4977886 | ⋯ | 6.047203 | 6.216100 | 2.655662 | 3.148852 | 1.967036 | 3.830026 | 2.826492 | 4.291499 | 1.185843 | 3.718221 |\n",
       "\n"
      ],
      "text/plain": [
       "            Rps4l    Foxa2      Trim25   Rn7s2     Pga5      Hmgn2-ps1 Cyp26a1 \n",
       "mESCs_rep1  9.364239 0.00000000 5.019402  8.329729 3.1043372 1.199664  0.000000\n",
       "mESCs_rep2  9.361816 0.05717713 4.839792 10.747218 3.6812268 1.293418  0.000000\n",
       "EpiLCs-rep1 8.713411 0.29836740 4.267069  1.963335 0.0000000 6.376873  0.000000\n",
       "EpiLCs-rep2 9.241885 0.12629627 3.820633  3.256059 0.0000000 2.095296  0.000000\n",
       "EpiSCs-rep1 2.542505 3.71238316 2.628363  1.623698 0.7710615 3.562474  2.628462\n",
       "EpiSCs-rep2 2.427830 3.36911355 2.634759  1.820877 0.8610176 2.590056  3.197960\n",
       "            Rn7s1     Ccnd2      Cer1      ⋯ Mrps34   Ssbp3    Cdc73   \n",
       "mESCs_rep1   8.615014 0.07077262 0.0000000 ⋯ 4.973798 3.204773 2.548518\n",
       "mESCs_rep2  10.681172 0.24103962 0.0000000 ⋯ 5.372327 3.337484 2.852679\n",
       "EpiLCs-rep1  1.872018 1.09129769 0.1437722 ⋯ 5.870853 5.900903 3.590798\n",
       "EpiLCs-rep2  2.885387 0.72986944 0.0000000 ⋯ 6.139104 5.543977 3.425835\n",
       "EpiSCs-rep1  1.368269 5.73316255 1.6183754 ⋯ 5.389302 6.511996 2.870072\n",
       "EpiSCs-rep2  1.623713 5.09980927 1.4977886 ⋯ 6.047203 6.216100 2.655662\n",
       "            Ibtk     Msl3l2   Chrac1   Zfp1     Bnip3l   Zgrf1    Ict1    \n",
       "mESCs_rep1  4.092253 1.189475 3.886839 3.470314 4.560274 1.883031 4.959247\n",
       "mESCs_rep2  3.663817 1.036932 4.236858 3.555849 4.888410 2.088757 5.071970\n",
       "EpiLCs-rep1 4.469322 1.950021 3.508038 3.892652 4.579324 1.852818 3.544153\n",
       "EpiLCs-rep2 4.373150 2.217453 4.276472 3.763082 4.917200 2.051321 3.761461\n",
       "EpiSCs-rep1 3.456040 2.041343 3.956251 2.773357 4.746138 1.292282 4.271781\n",
       "EpiSCs-rep2 3.148852 1.967036 3.830026 2.826492 4.291499 1.185843 3.718221"
      ]
     },
     "metadata": {},
     "output_type": "display_data"
    }
   ],
   "source": [
    "head(t(keep_data))\n"
   ]
  },
  {
   "cell_type": "code",
   "execution_count": 114,
   "metadata": {
    "vscode": {
     "languageId": "r"
    }
   },
   "outputs": [
    {
     "data": {
      "text/html": [
       "<table class=\"dataframe\">\n",
       "<caption>A data.frame: 6 × 5000</caption>\n",
       "<thead>\n",
       "\t<tr><th></th><th scope=col>Rps4l</th><th scope=col>Foxa2</th><th scope=col>Trim25</th><th scope=col>Rn7s2</th><th scope=col>Pga5</th><th scope=col>Hmgn2-ps1</th><th scope=col>Cyp26a1</th><th scope=col>Rn7s1</th><th scope=col>Ccnd2</th><th scope=col>Cer1</th><th scope=col>⋯</th><th scope=col>Mrps34</th><th scope=col>Ssbp3</th><th scope=col>Cdc73</th><th scope=col>Ibtk</th><th scope=col>Msl3l2</th><th scope=col>Chrac1</th><th scope=col>Zfp1</th><th scope=col>Bnip3l</th><th scope=col>Zgrf1</th><th scope=col>Ict1</th></tr>\n",
       "\t<tr><th></th><th scope=col>&lt;dbl&gt;</th><th scope=col>&lt;dbl&gt;</th><th scope=col>&lt;dbl&gt;</th><th scope=col>&lt;dbl&gt;</th><th scope=col>&lt;dbl&gt;</th><th scope=col>&lt;dbl&gt;</th><th scope=col>&lt;dbl&gt;</th><th scope=col>&lt;dbl&gt;</th><th scope=col>&lt;dbl&gt;</th><th scope=col>&lt;dbl&gt;</th><th scope=col>⋯</th><th scope=col>&lt;dbl&gt;</th><th scope=col>&lt;dbl&gt;</th><th scope=col>&lt;dbl&gt;</th><th scope=col>&lt;dbl&gt;</th><th scope=col>&lt;dbl&gt;</th><th scope=col>&lt;dbl&gt;</th><th scope=col>&lt;dbl&gt;</th><th scope=col>&lt;dbl&gt;</th><th scope=col>&lt;dbl&gt;</th><th scope=col>&lt;dbl&gt;</th></tr>\n",
       "</thead>\n",
       "<tbody>\n",
       "\t<tr><th scope=row>mESCs_rep1</th><td>9.364239</td><td>0.00000000</td><td>5.019402</td><td> 8.329729</td><td>3.1043372</td><td>1.199664</td><td>0.000000</td><td> 8.615014</td><td>0.07077262</td><td>0.0000000</td><td>⋯</td><td>4.973798</td><td>3.204773</td><td>2.548518</td><td>4.092253</td><td>1.189475</td><td>3.886839</td><td>3.470314</td><td>4.560274</td><td>1.883031</td><td>4.959247</td></tr>\n",
       "\t<tr><th scope=row>mESCs_rep2</th><td>9.361816</td><td>0.05717713</td><td>4.839792</td><td>10.747218</td><td>3.6812268</td><td>1.293418</td><td>0.000000</td><td>10.681172</td><td>0.24103962</td><td>0.0000000</td><td>⋯</td><td>5.372327</td><td>3.337484</td><td>2.852679</td><td>3.663817</td><td>1.036932</td><td>4.236858</td><td>3.555849</td><td>4.888410</td><td>2.088757</td><td>5.071970</td></tr>\n",
       "\t<tr><th scope=row>EpiLCs-rep1</th><td>8.713411</td><td>0.29836740</td><td>4.267069</td><td> 1.963335</td><td>0.0000000</td><td>6.376873</td><td>0.000000</td><td> 1.872018</td><td>1.09129769</td><td>0.1437722</td><td>⋯</td><td>5.870853</td><td>5.900903</td><td>3.590798</td><td>4.469322</td><td>1.950021</td><td>3.508038</td><td>3.892652</td><td>4.579324</td><td>1.852818</td><td>3.544153</td></tr>\n",
       "\t<tr><th scope=row>EpiLCs-rep2</th><td>9.241885</td><td>0.12629627</td><td>3.820633</td><td> 3.256059</td><td>0.0000000</td><td>2.095296</td><td>0.000000</td><td> 2.885387</td><td>0.72986944</td><td>0.0000000</td><td>⋯</td><td>6.139104</td><td>5.543977</td><td>3.425835</td><td>4.373150</td><td>2.217453</td><td>4.276472</td><td>3.763082</td><td>4.917200</td><td>2.051321</td><td>3.761461</td></tr>\n",
       "\t<tr><th scope=row>EpiSCs-rep1</th><td>2.542505</td><td>3.71238316</td><td>2.628363</td><td> 1.623698</td><td>0.7710615</td><td>3.562474</td><td>2.628462</td><td> 1.368269</td><td>5.73316255</td><td>1.6183754</td><td>⋯</td><td>5.389302</td><td>6.511996</td><td>2.870072</td><td>3.456040</td><td>2.041343</td><td>3.956251</td><td>2.773357</td><td>4.746138</td><td>1.292282</td><td>4.271781</td></tr>\n",
       "\t<tr><th scope=row>EpiSCs-rep2</th><td>2.427830</td><td>3.36911355</td><td>2.634759</td><td> 1.820877</td><td>0.8610176</td><td>2.590056</td><td>3.197960</td><td> 1.623713</td><td>5.09980927</td><td>1.4977886</td><td>⋯</td><td>6.047203</td><td>6.216100</td><td>2.655662</td><td>3.148852</td><td>1.967036</td><td>3.830026</td><td>2.826492</td><td>4.291499</td><td>1.185843</td><td>3.718221</td></tr>\n",
       "</tbody>\n",
       "</table>\n"
      ],
      "text/latex": [
       "A data.frame: 6 × 5000\n",
       "\\begin{tabular}{r|lllllllllllllllllllll}\n",
       "  & Rps4l & Foxa2 & Trim25 & Rn7s2 & Pga5 & Hmgn2-ps1 & Cyp26a1 & Rn7s1 & Ccnd2 & Cer1 & ⋯ & Mrps34 & Ssbp3 & Cdc73 & Ibtk & Msl3l2 & Chrac1 & Zfp1 & Bnip3l & Zgrf1 & Ict1\\\\\n",
       "  & <dbl> & <dbl> & <dbl> & <dbl> & <dbl> & <dbl> & <dbl> & <dbl> & <dbl> & <dbl> & ⋯ & <dbl> & <dbl> & <dbl> & <dbl> & <dbl> & <dbl> & <dbl> & <dbl> & <dbl> & <dbl>\\\\\n",
       "\\hline\n",
       "\tmESCs\\_rep1 & 9.364239 & 0.00000000 & 5.019402 &  8.329729 & 3.1043372 & 1.199664 & 0.000000 &  8.615014 & 0.07077262 & 0.0000000 & ⋯ & 4.973798 & 3.204773 & 2.548518 & 4.092253 & 1.189475 & 3.886839 & 3.470314 & 4.560274 & 1.883031 & 4.959247\\\\\n",
       "\tmESCs\\_rep2 & 9.361816 & 0.05717713 & 4.839792 & 10.747218 & 3.6812268 & 1.293418 & 0.000000 & 10.681172 & 0.24103962 & 0.0000000 & ⋯ & 5.372327 & 3.337484 & 2.852679 & 3.663817 & 1.036932 & 4.236858 & 3.555849 & 4.888410 & 2.088757 & 5.071970\\\\\n",
       "\tEpiLCs-rep1 & 8.713411 & 0.29836740 & 4.267069 &  1.963335 & 0.0000000 & 6.376873 & 0.000000 &  1.872018 & 1.09129769 & 0.1437722 & ⋯ & 5.870853 & 5.900903 & 3.590798 & 4.469322 & 1.950021 & 3.508038 & 3.892652 & 4.579324 & 1.852818 & 3.544153\\\\\n",
       "\tEpiLCs-rep2 & 9.241885 & 0.12629627 & 3.820633 &  3.256059 & 0.0000000 & 2.095296 & 0.000000 &  2.885387 & 0.72986944 & 0.0000000 & ⋯ & 6.139104 & 5.543977 & 3.425835 & 4.373150 & 2.217453 & 4.276472 & 3.763082 & 4.917200 & 2.051321 & 3.761461\\\\\n",
       "\tEpiSCs-rep1 & 2.542505 & 3.71238316 & 2.628363 &  1.623698 & 0.7710615 & 3.562474 & 2.628462 &  1.368269 & 5.73316255 & 1.6183754 & ⋯ & 5.389302 & 6.511996 & 2.870072 & 3.456040 & 2.041343 & 3.956251 & 2.773357 & 4.746138 & 1.292282 & 4.271781\\\\\n",
       "\tEpiSCs-rep2 & 2.427830 & 3.36911355 & 2.634759 &  1.820877 & 0.8610176 & 2.590056 & 3.197960 &  1.623713 & 5.09980927 & 1.4977886 & ⋯ & 6.047203 & 6.216100 & 2.655662 & 3.148852 & 1.967036 & 3.830026 & 2.826492 & 4.291499 & 1.185843 & 3.718221\\\\\n",
       "\\end{tabular}\n"
      ],
      "text/markdown": [
       "\n",
       "A data.frame: 6 × 5000\n",
       "\n",
       "| <!--/--> | Rps4l &lt;dbl&gt; | Foxa2 &lt;dbl&gt; | Trim25 &lt;dbl&gt; | Rn7s2 &lt;dbl&gt; | Pga5 &lt;dbl&gt; | Hmgn2-ps1 &lt;dbl&gt; | Cyp26a1 &lt;dbl&gt; | Rn7s1 &lt;dbl&gt; | Ccnd2 &lt;dbl&gt; | Cer1 &lt;dbl&gt; | ⋯ ⋯ | Mrps34 &lt;dbl&gt; | Ssbp3 &lt;dbl&gt; | Cdc73 &lt;dbl&gt; | Ibtk &lt;dbl&gt; | Msl3l2 &lt;dbl&gt; | Chrac1 &lt;dbl&gt; | Zfp1 &lt;dbl&gt; | Bnip3l &lt;dbl&gt; | Zgrf1 &lt;dbl&gt; | Ict1 &lt;dbl&gt; |\n",
       "|---|---|---|---|---|---|---|---|---|---|---|---|---|---|---|---|---|---|---|---|---|---|\n",
       "| mESCs_rep1 | 9.364239 | 0.00000000 | 5.019402 |  8.329729 | 3.1043372 | 1.199664 | 0.000000 |  8.615014 | 0.07077262 | 0.0000000 | ⋯ | 4.973798 | 3.204773 | 2.548518 | 4.092253 | 1.189475 | 3.886839 | 3.470314 | 4.560274 | 1.883031 | 4.959247 |\n",
       "| mESCs_rep2 | 9.361816 | 0.05717713 | 4.839792 | 10.747218 | 3.6812268 | 1.293418 | 0.000000 | 10.681172 | 0.24103962 | 0.0000000 | ⋯ | 5.372327 | 3.337484 | 2.852679 | 3.663817 | 1.036932 | 4.236858 | 3.555849 | 4.888410 | 2.088757 | 5.071970 |\n",
       "| EpiLCs-rep1 | 8.713411 | 0.29836740 | 4.267069 |  1.963335 | 0.0000000 | 6.376873 | 0.000000 |  1.872018 | 1.09129769 | 0.1437722 | ⋯ | 5.870853 | 5.900903 | 3.590798 | 4.469322 | 1.950021 | 3.508038 | 3.892652 | 4.579324 | 1.852818 | 3.544153 |\n",
       "| EpiLCs-rep2 | 9.241885 | 0.12629627 | 3.820633 |  3.256059 | 0.0000000 | 2.095296 | 0.000000 |  2.885387 | 0.72986944 | 0.0000000 | ⋯ | 6.139104 | 5.543977 | 3.425835 | 4.373150 | 2.217453 | 4.276472 | 3.763082 | 4.917200 | 2.051321 | 3.761461 |\n",
       "| EpiSCs-rep1 | 2.542505 | 3.71238316 | 2.628363 |  1.623698 | 0.7710615 | 3.562474 | 2.628462 |  1.368269 | 5.73316255 | 1.6183754 | ⋯ | 5.389302 | 6.511996 | 2.870072 | 3.456040 | 2.041343 | 3.956251 | 2.773357 | 4.746138 | 1.292282 | 4.271781 |\n",
       "| EpiSCs-rep2 | 2.427830 | 3.36911355 | 2.634759 |  1.820877 | 0.8610176 | 2.590056 | 3.197960 |  1.623713 | 5.09980927 | 1.4977886 | ⋯ | 6.047203 | 6.216100 | 2.655662 | 3.148852 | 1.967036 | 3.830026 | 2.826492 | 4.291499 | 1.185843 | 3.718221 |\n",
       "\n"
      ],
      "text/plain": [
       "            Rps4l    Foxa2      Trim25   Rn7s2     Pga5      Hmgn2-ps1 Cyp26a1 \n",
       "mESCs_rep1  9.364239 0.00000000 5.019402  8.329729 3.1043372 1.199664  0.000000\n",
       "mESCs_rep2  9.361816 0.05717713 4.839792 10.747218 3.6812268 1.293418  0.000000\n",
       "EpiLCs-rep1 8.713411 0.29836740 4.267069  1.963335 0.0000000 6.376873  0.000000\n",
       "EpiLCs-rep2 9.241885 0.12629627 3.820633  3.256059 0.0000000 2.095296  0.000000\n",
       "EpiSCs-rep1 2.542505 3.71238316 2.628363  1.623698 0.7710615 3.562474  2.628462\n",
       "EpiSCs-rep2 2.427830 3.36911355 2.634759  1.820877 0.8610176 2.590056  3.197960\n",
       "            Rn7s1     Ccnd2      Cer1      ⋯ Mrps34   Ssbp3    Cdc73   \n",
       "mESCs_rep1   8.615014 0.07077262 0.0000000 ⋯ 4.973798 3.204773 2.548518\n",
       "mESCs_rep2  10.681172 0.24103962 0.0000000 ⋯ 5.372327 3.337484 2.852679\n",
       "EpiLCs-rep1  1.872018 1.09129769 0.1437722 ⋯ 5.870853 5.900903 3.590798\n",
       "EpiLCs-rep2  2.885387 0.72986944 0.0000000 ⋯ 6.139104 5.543977 3.425835\n",
       "EpiSCs-rep1  1.368269 5.73316255 1.6183754 ⋯ 5.389302 6.511996 2.870072\n",
       "EpiSCs-rep2  1.623713 5.09980927 1.4977886 ⋯ 6.047203 6.216100 2.655662\n",
       "            Ibtk     Msl3l2   Chrac1   Zfp1     Bnip3l   Zgrf1    Ict1    \n",
       "mESCs_rep1  4.092253 1.189475 3.886839 3.470314 4.560274 1.883031 4.959247\n",
       "mESCs_rep2  3.663817 1.036932 4.236858 3.555849 4.888410 2.088757 5.071970\n",
       "EpiLCs-rep1 4.469322 1.950021 3.508038 3.892652 4.579324 1.852818 3.544153\n",
       "EpiLCs-rep2 4.373150 2.217453 4.276472 3.763082 4.917200 2.051321 3.761461\n",
       "EpiSCs-rep1 3.456040 2.041343 3.956251 2.773357 4.746138 1.292282 4.271781\n",
       "EpiSCs-rep2 3.148852 1.967036 3.830026 2.826492 4.291499 1.185843 3.718221"
      ]
     },
     "metadata": {},
     "output_type": "display_data"
    }
   ],
   "source": [
    "### 转置\n",
    "datExpr0 <- as.data.frame(t(keep_data))\n",
    "head(datExpr0)\n"
   ]
  },
  {
   "cell_type": "markdown",
   "metadata": {},
   "source": [
    "### ① 判断数据质量，绘制样品的系统聚类树\n",
    "\n",
    "```R\n",
    "查看样本和基因的数据质量，去除低质量数据；绘制样品的系统聚类树，若存在一个显著离群点则需要剔除掉；还可以做PCA图查看样品分布情况\n",
    "\n",
    "############################## 1.判断数据质量 ################################\n",
    "\n",
    "### 判断数据质量--缺失值\n",
    "gsg <- goodSamplesGenes(datExpr0,verbose = 3)\n",
    "gsg$allOK\n",
    "if (!gsg$allOK){\n",
    "  # Optionally, print the gene and sample names that were removed:\n",
    "  if (sum(!gsg$goodGenes)>0)\n",
    "    printFlush(paste(\"Removing genes:\", paste(names(datExpr0)[!gsg$goodGenes],\n",
    "                                              collapse = \", \")));\n",
    "  if (sum(!gsg$goodSamples)>0)\n",
    "    printFlush(paste(\"Removing samples:\",\n",
    "                     paste(rownames(datExpr0)[!gsg$goodSamples], collapse = \", \")));\n",
    "  # Remove the offending genes and samples from the data:\n",
    "  datExpr0 = datExpr0[gsg$goodSamples, gsg$goodGenes]\n",
    "}\n",
    "gsg <- goodSamplesGenes(datExpr0,verbose = 3)\n",
    "gsg$allOK\n",
    "\n",
    "### 绘制样品的系统聚类树\n",
    "if(T){\n",
    "  #针对样本做聚类树\n",
    "  sampleTree <- hclust(dist(datExpr0), method = \"average\")\n",
    "  par(mar = c(0,5,2,0))\n",
    "  plot(sampleTree, main = \"Sample clustering\", sub=\"\", xlab=\"\", cex.lab = 2, \n",
    "       cex.axis = 1, cex.main = 1,cex.lab=1)\n",
    "  ## 若样本有性状、表型，可以添加对应颜色，查看是否聚类合理\n",
    "  sample_colors <- numbers2colors(as.numeric(factor(datTraits$group)), \n",
    "                                  colors = rainbow(length(table(datTraits$group))), \n",
    "                                                   signed = FALSE)\n",
    "  ## 绘制样品的系统聚类树及对应性状\n",
    "  par(mar = c(1,4,3,1),cex=0.8)\n",
    "  pdf(\"step1_Sample dendrogram and trait.pdf\",width = 8,height = 6)\n",
    "  plotDendroAndColors(sampleTree, sample_colors,\n",
    "                      groupLabels = \"trait\",\n",
    "                      cex.dendroLabels = 0.8,\n",
    "                      marAll = c(1, 4, 3, 1),\n",
    "                      cex.rowText = 0.01,\n",
    "                      main = \"Sample dendrogram and trait\" )\n",
    "  ## Plot a line to show the cut\n",
    "  # abline(h = 23500, col = \"red\") #根据实际情况而定\n",
    "  dev.off()\n",
    "}\n",
    "\n",
    "##若存在显著离群点；剔除掉\n",
    "if(F){\n",
    "  clust <- cutreeStatic(sampleTree, cutHeight = 23500, minSize = 10) # cutHeight根据实际情况而定\n",
    "  table(clust)\n",
    "  keepSamples <- (clust==1)\n",
    "  datExpr0 <- datExpr0[keepSamples, ]\n",
    "  datTraits <- datTraits[keepSamples,]\n",
    "  dim(datExpr0) \n",
    "}\n",
    "\n",
    "### 判断数据质量 : PCA进行分组查看\n",
    "rm(list = ls())  \n",
    "load(\"step1_input.Rdata\")\n",
    "group_list <- datTraits$group\n",
    "dat.pca <- PCA(datExpr0, graph = F) \n",
    "pca <- fviz_pca_ind(dat.pca,\n",
    "                    title = \"Principal Component Analysis\",\n",
    "                    legend.title = \"Groups\",\n",
    "                    geom.ind = c(\"point\",\"text\"), #\"point\",\"text\"\n",
    "                    pointsize = 2,\n",
    "                    labelsize = 4,\n",
    "                    repel = TRUE, #标签不重叠\n",
    "                    col.ind = group_list, # 分组上色\n",
    "                    axes.linetype=NA,  # remove axeslines\n",
    "                    mean.point=F#去除分组中心点\n",
    "                    ) +\n",
    "  theme(legend.position = \"none\")+  # \"none\" REMOVE legend\n",
    "  coord_fixed(ratio = 1) #坐标轴的纵横比\n",
    "pca\n",
    "ggsave(pca,filename= \"step1_Sample PCA analysis.pdf\", width = 8, height = 8)\n",
    "\n",
    "##保存数据\n",
    "datExpr <- datExpr0\n",
    "nGenes <- ncol(datExpr)\n",
    "nSamples <- nrow(datExpr)\n",
    "save(nGenes,nSamples,datExpr,datTraits,file=\"step1_input.Rdata\")\n",
    "```"
   ]
  },
  {
   "cell_type": "code",
   "execution_count": 115,
   "metadata": {
    "vscode": {
     "languageId": "r"
    }
   },
   "outputs": [
    {
     "name": "stdout",
     "output_type": "stream",
     "text": [
      " Flagging genes and samples with too many missing values...\n",
      "  ..step 1\n"
     ]
    },
    {
     "data": {
      "text/html": [
       "TRUE"
      ],
      "text/latex": [
       "TRUE"
      ],
      "text/markdown": [
       "TRUE"
      ],
      "text/plain": [
       "[1] TRUE"
      ]
     },
     "metadata": {},
     "output_type": "display_data"
    },
    {
     "name": "stdout",
     "output_type": "stream",
     "text": [
      " Flagging genes and samples with too many missing values...\n",
      "  ..step 1\n"
     ]
    },
    {
     "data": {
      "text/html": [
       "TRUE"
      ],
      "text/latex": [
       "TRUE"
      ],
      "text/markdown": [
       "TRUE"
      ],
      "text/plain": [
       "[1] TRUE"
      ]
     },
     "metadata": {},
     "output_type": "display_data"
    }
   ],
   "source": [
    "############################## 1.判断数据质量 ################################\n",
    "\n",
    "### 判断数据质量--缺失值\n",
    "gsg <- goodSamplesGenes(datExpr0, verbose = 3)\n",
    "gsg$allOK\n",
    "if (!gsg$allOK) {\n",
    "  # Optionally, print the gene and sample names that were removed:\n",
    "  if (sum(!gsg$goodGenes) > 0) {\n",
    "    printFlush(paste(\"Removing genes:\", paste(names(datExpr0)[!gsg$goodGenes],\n",
    "      collapse = \", \"\n",
    "    )))\n",
    "  }\n",
    "  if (sum(!gsg$goodSamples) > 0) {\n",
    "    printFlush(paste(\n",
    "      \"Removing samples:\",\n",
    "      paste(rownames(datExpr0)[!gsg$goodSamples], collapse = \", \")\n",
    "    ))\n",
    "  }\n",
    "  # Remove the offending genes and samples from the data:\n",
    "  datExpr0 <- datExpr0[gsg$goodSamples, gsg$goodGenes]\n",
    "}\n",
    "gsg <- goodSamplesGenes(datExpr0, verbose = 3)\n",
    "gsg$allOK\n"
   ]
  },
  {
   "cell_type": "code",
   "execution_count": 116,
   "metadata": {
    "vscode": {
     "languageId": "r"
    }
   },
   "outputs": [
    {
     "data": {
      "text/html": [
       "<strong>png:</strong> 2"
      ],
      "text/latex": [
       "\\textbf{png:} 2"
      ],
      "text/markdown": [
       "**png:** 2"
      ],
      "text/plain": [
       "png \n",
       "  2 "
      ]
     },
     "metadata": {},
     "output_type": "display_data"
    },
    {
     "data": {
      "image/png": "[encoded data removed]",
      "text/plain": [
       "Plot with title “Sample clustering”"
      ]
     },
     "metadata": {
      "image/png": {
       "height": 420,
       "width": 420
      }
     },
     "output_type": "display_data"
    }
   ],
   "source": [
    "### 绘制样品的系统聚类树\n",
    "if (T) {\n",
    "    # 针对样本做聚类树\n",
    "    sampleTree <- hclust(dist(datExpr0),\n",
    "        method = \"average\"\n",
    "    )\n",
    "    par(mar = c(0, 5, 2, 0))\n",
    "    plot(sampleTree,\n",
    "        main = \"Sample clustering\", sub = \"\", xlab = \"\", cex.lab = 2,\n",
    "        cex.axis = 1, cex.main = 1, cex.lab = 1\n",
    "    )\n",
    "    ## 若样本有性状、表型，可以添加对应颜色，查看是否聚类合理\n",
    "    sample_colors <- numbers2colors(as.numeric(factor(datTraits$group)),\n",
    "        colors = rainbow(length(table(datTraits$group))),\n",
    "        signed = FALSE\n",
    "    )\n",
    "    ## 绘制样品的系统聚类树及对应性状\n",
    "    par(mar = c(1, 4, 3, 1), cex = 0.8)\n",
    "    pdf(\"step1_Sample dendrogram and trait.pdf\", width = 8, height = 6)\n",
    "    plotDendroAndColors(sampleTree, sample_colors,\n",
    "        groupLabels = \"trait\",\n",
    "        cex.dendroLabels = 0.8,\n",
    "        marAll = c(1, 4, 3, 1),\n",
    "        cex.rowText = 0.01,\n",
    "        main = \"Sample dendrogram and trait\"\n",
    "    )\n",
    "    ## Plot a line to show the cut\n",
    "    # abline(h = 23500, col = \"red\") #根据实际情况而定\n",
    "    dev.off()\n",
    "}\n"
   ]
  },
  {
   "cell_type": "code",
   "execution_count": 121,
   "metadata": {
    "vscode": {
     "languageId": "r"
    }
   },
   "outputs": [],
   "source": [
    "## 若存在显著离群点；剔除掉\n",
    "if (F) {\n",
    "  clust <- cutreeStatic(sampleTree,\n",
    "    cutHeight = 23500,\n",
    "    minSize = 10\n",
    "  ) # cutHeight根据实际情况而定\n",
    "  table(clust)\n",
    "  keepSamples <- (clust == 1)\n",
    "  datExpr0 <- datExpr0[keepSamples, ]\n",
    "  datTraits <- datTraits[keepSamples, ]\n",
    "  dim(datExpr0)\n",
    "}\n",
    "## 保存处理后的结果\n",
    "save(datExpr0, datTraits, file = \"step1_input.Rdata\")\n"
   ]
  },
  {
   "cell_type": "code",
   "execution_count": 122,
   "metadata": {
    "vscode": {
     "languageId": "r"
    }
   },
   "outputs": [
    {
     "name": "stderr",
     "output_type": "stream",
     "text": [
      "Warning message:\n",
      "“\u001b[1m\u001b[22mRemoved 1 row containing missing values or values outside the scale range\n",
      "(`geom_segment()`).”\n",
      "Warning message:\n",
      "“\u001b[1m\u001b[22mRemoved 1 row containing missing values or values outside the scale range\n",
      "(`geom_segment()`).”\n",
      "Warning message:\n",
      "“\u001b[1m\u001b[22mRemoved 1 row containing missing values or values outside the scale range\n",
      "(`geom_segment()`).”\n",
      "Warning message:\n",
      "“\u001b[1m\u001b[22mRemoved 1 row containing missing values or values outside the scale range\n",
      "(`geom_segment()`).”\n"
     ]
    },
    {
     "data": {
      "image/png": "[encoded data removed]",
      "text/plain": [
       "plot without title"
      ]
     },
     "metadata": {
      "image/png": {
       "height": 420,
       "width": 420
      }
     },
     "output_type": "display_data"
    }
   ],
   "source": [
    "### 判断数据质量 : PCA进行分组查看\n",
    "rm(list = ls())\n",
    "load(\"step1_input.Rdata\")\n",
    "group_list <- datTraits$group\n",
    "dat.pca <- PCA(datExpr0, graph = F)\n",
    "pca <- fviz_pca_ind(dat.pca,\n",
    "    title = \"Principal Component Analysis\",\n",
    "    legend.title = \"Groups\",\n",
    "    geom.ind = c(\"point\", \"text\"), # \"point\",\"text\"\n",
    "    pointsize = 2,\n",
    "    labelsize = 4,\n",
    "    repel = TRUE, # 标签不重叠\n",
    "    col.ind = group_list, # 分组上色\n",
    "    axes.linetype = NA, # remove axeslines\n",
    "    mean.point = F # 去除分组中心点\n",
    ") +\n",
    "    theme(legend.position = \"none\") + # \"none\" REMOVE legend\n",
    "    coord_fixed(ratio = 1) # 坐标轴的纵横比\n",
    "pca\n",
    "ggsave(pca, filename = \"step1_Sample PCA analysis_1.pdf\", width = 8, height = 8)\n",
    "\n",
    "## 保存数据\n",
    "datExpr <- datExpr0\n",
    "nGenes <- ncol(datExpr)\n",
    "nSamples <- nrow(datExpr)\n",
    "save(nGenes, nSamples, datExpr, datTraits, file = \"step1_input.Rdata\")\n"
   ]
  },
  {
   "cell_type": "markdown",
   "metadata": {},
   "source": [
    "### ② 挑选最佳阈值power\n",
    "挑选标准：`R^2 > 0.8` , `slope ≈ -1`，选择`R^2` 与` power`关系图的拐点处的`power`值\n",
    "\n",
    "<image src=\"../image/55.png\">\n",
    "\n",
    "`sft$powerEstimate`可以给出所设定`R^2 cut-off`（默认为0.85）处的power值\n",
    "\n",
    "```R\n",
    "############################### 2.挑选最佳阈值power ###################################\n",
    "rm(list = ls())  \n",
    "load(\"step1_input.Rdata\")\n",
    "R.sq_cutoff = 0.8  #设置R^2 cut-off，默认为0.85\n",
    "if(T){\n",
    "  # Call the network topology analysis function\n",
    "  #设置power参数选择范围\n",
    "  powers <- c(seq(1,20,by = 1), seq(22,30,by = 2)) \n",
    "  sft <- pickSoftThreshold(datExpr, \n",
    "                           networkType = \"unsigned\",\n",
    "                           powerVector = powers, \n",
    "                           RsquaredCut = R.sq_cutoff,  \n",
    "                           verbose = 5)\n",
    "  #SFT.R.sq > 0.8 , slope ≈ -1\n",
    "  pdf(\"step2_power-value.pdf\",width = 16,height = 12)\n",
    "  # Plot the results: 寻找拐点，确认最终power取值\n",
    "  par(mfrow = c(1,2));\n",
    "  cex1 = 0.9;\n",
    "  # Scale-free topology fit index as a function of the soft-thresholding power\n",
    "  plot(sft$fitIndices[,1], -sign(sft$fitIndices[,3])*sft$fitIndices[,2],\n",
    "       xlab=\"Soft Threshold (power)\",ylab=\"Scale Free Topology Model Fit,signed R^2\",type=\"n\")\n",
    "  text(sft$fitIndices[,1], -sign(sft$fitIndices[,3])*sft$fitIndices[,2],\n",
    "       labels=powers,cex=cex1,col=\"red\")\n",
    "  # this line corresponds to using an R^2 cut-off of h\n",
    "  abline(h=R.sq_cutoff ,col=\"red\")\n",
    "  # Mean connectivity as a function of the soft-thresholding power\n",
    "  plot(sft$fitIndices[,1], sft$fitIndices[,5],\n",
    "       xlab=\"Soft Threshold (power)\",ylab=\"Mean Connectivity\", type=\"n\")\n",
    "  text(sft$fitIndices[,1], sft$fitIndices[,5], labels=powers, cex=cex1,col=\"red\")\n",
    "  abline(h=100,col=\"red\")\n",
    "  dev.off()\n",
    "}\n",
    "\n",
    "sft$powerEstimate  #查看估计的最佳power\n",
    "# power = sft$powerEstimate\n",
    "power = 15\n",
    "\n",
    "```\n",
    "\n",
    "<image src=\"../image/56.png\">\n"
   ]
  },
  {
   "cell_type": "code",
   "execution_count": 128,
   "metadata": {
    "vscode": {
     "languageId": "r"
    }
   },
   "outputs": [],
   "source": [
    "rm(list = ls())\n",
    "load(\"step1_input.Rdata\")\n"
   ]
  },
  {
   "cell_type": "code",
   "execution_count": 133,
   "metadata": {
    "vscode": {
     "languageId": "r"
    }
   },
   "outputs": [
    {
     "data": {
      "text/html": [
       "<style>\n",
       ".list-inline {list-style: none; margin:0; padding: 0}\n",
       ".list-inline>li {display: inline-block}\n",
       ".list-inline>li:not(:last-child)::after {content: \"\\00b7\"; padding: 0 .5ex}\n",
       "</style>\n",
       "<ol class=list-inline><li>'datExpr'</li><li>'datTraits'</li><li>'nGenes'</li><li>'nSamples'</li><li>'sampel_num'</li></ol>\n"
      ],
      "text/latex": [
       "\\begin{enumerate*}\n",
       "\\item 'datExpr'\n",
       "\\item 'datTraits'\n",
       "\\item 'nGenes'\n",
       "\\item 'nSamples'\n",
       "\\item 'sampel\\_num'\n",
       "\\end{enumerate*}\n"
      ],
      "text/markdown": [
       "1. 'datExpr'\n",
       "2. 'datTraits'\n",
       "3. 'nGenes'\n",
       "4. 'nSamples'\n",
       "5. 'sampel_num'\n",
       "\n",
       "\n"
      ],
      "text/plain": [
       "[1] \"datExpr\"    \"datTraits\"  \"nGenes\"     \"nSamples\"   \"sampel_num\""
      ]
     },
     "metadata": {},
     "output_type": "display_data"
    },
    {
     "data": {
      "text/html": [
       "<table class=\"dataframe\">\n",
       "<caption>A data.frame: 6 × 2</caption>\n",
       "<thead>\n",
       "\t<tr><th></th><th scope=col>group</th><th scope=col>groupNo</th></tr>\n",
       "\t<tr><th></th><th scope=col>&lt;chr&gt;</th><th scope=col>&lt;chr&gt;</th></tr>\n",
       "</thead>\n",
       "<tbody>\n",
       "\t<tr><th scope=row>mESCs_rep1</th><td>naive    </td><td>2</td></tr>\n",
       "\t<tr><th scope=row>mESCs_rep2</th><td>naive    </td><td>2</td></tr>\n",
       "\t<tr><th scope=row>EpiLCs-rep1</th><td>formative</td><td>1</td></tr>\n",
       "\t<tr><th scope=row>EpiLCs-rep2</th><td>formative</td><td>1</td></tr>\n",
       "\t<tr><th scope=row>EpiSCs-rep1</th><td>primed   </td><td>3</td></tr>\n",
       "\t<tr><th scope=row>EpiSCs-rep2</th><td>primed   </td><td>3</td></tr>\n",
       "</tbody>\n",
       "</table>\n"
      ],
      "text/latex": [
       "A data.frame: 6 × 2\n",
       "\\begin{tabular}{r|ll}\n",
       "  & group & groupNo\\\\\n",
       "  & <chr> & <chr>\\\\\n",
       "\\hline\n",
       "\tmESCs\\_rep1 & naive     & 2\\\\\n",
       "\tmESCs\\_rep2 & naive     & 2\\\\\n",
       "\tEpiLCs-rep1 & formative & 1\\\\\n",
       "\tEpiLCs-rep2 & formative & 1\\\\\n",
       "\tEpiSCs-rep1 & primed    & 3\\\\\n",
       "\tEpiSCs-rep2 & primed    & 3\\\\\n",
       "\\end{tabular}\n"
      ],
      "text/markdown": [
       "\n",
       "A data.frame: 6 × 2\n",
       "\n",
       "| <!--/--> | group &lt;chr&gt; | groupNo &lt;chr&gt; |\n",
       "|---|---|---|\n",
       "| mESCs_rep1 | naive     | 2 |\n",
       "| mESCs_rep2 | naive     | 2 |\n",
       "| EpiLCs-rep1 | formative | 1 |\n",
       "| EpiLCs-rep2 | formative | 1 |\n",
       "| EpiSCs-rep1 | primed    | 3 |\n",
       "| EpiSCs-rep2 | primed    | 3 |\n",
       "\n"
      ],
      "text/plain": [
       "            group     groupNo\n",
       "mESCs_rep1  naive     2      \n",
       "mESCs_rep2  naive     2      \n",
       "EpiLCs-rep1 formative 1      \n",
       "EpiLCs-rep2 formative 1      \n",
       "EpiSCs-rep1 primed    3      \n",
       "EpiSCs-rep2 primed    3      "
      ]
     },
     "metadata": {},
     "output_type": "display_data"
    }
   ],
   "source": [
    "ls()\n",
    "## 为了减少计算量\n",
    "sampel_num <- 6\n",
    "datExpr <- datExpr[1:sampel_num, ]\n",
    "datTraits <- datTraits[1:sampel_num, ]\n",
    "datTraits\n"
   ]
  },
  {
   "cell_type": "code",
   "execution_count": null,
   "metadata": {
    "vscode": {
     "languageId": "r"
    }
   },
   "outputs": [],
   "source": [
    "head\n"
   ]
  },
  {
   "cell_type": "code",
   "execution_count": 134,
   "metadata": {
    "vscode": {
     "languageId": "r"
    }
   },
   "outputs": [
    {
     "name": "stdout",
     "output_type": "stream",
     "text": [
      "pickSoftThreshold: will use block size 5000.\n",
      " pickSoftThreshold: calculating connectivity for given powers...\n",
      "   ..working on genes 1 through 5000 of 5000\n"
     ]
    }
   ],
   "source": [
    "############################### 2.挑选最佳阈值power ###################################\n",
    "\n",
    "R.sq_cutoff <- 0.8 # 设置R^2 cut-off，默认为0.85\n",
    "if (T) {\n",
    "    # Call the network topology analysis function\n",
    "    # 设置power参数选择范围\n",
    "    powers <- c(seq(1, 20, by = 1), seq(22, 30, by = 2))\n",
    "    ## 软阈值的筛选\n",
    "    sft <- pickSoftThreshold(datExpr,\n",
    "        networkType = \"unsigned\",\n",
    "        powerVector = powers,\n",
    "        RsquaredCut = R.sq_cutoff,\n",
    "        verbose = 5\n",
    "    )\n",
    "    # SFT.R.sq > 0.8 , slope ≈ -1\n",
    "    pdf(\"step2_power-value.pdf\",\n",
    "        width = 16,\n",
    "        height = 12\n",
    "    )\n",
    "    # Plot the results: 寻找拐点，确认最终power取值\n",
    "    par(mfrow = c(1, 2))\n",
    "    cex1 <- 0.9\n",
    "    # Scale-free topology fit index as a function of the soft-thresholding power\n",
    "    plot(sft$fitIndices[, 1], -sign(sft$fitIndices[, 3]) * sft$fitIndices[, 2],\n",
    "        xlab = \"Soft Threshold (power)\", ylab = \"Scale Free Topology Model Fit,signed R^2\", type = \"n\"\n",
    "    )\n",
    "    text(sft$fitIndices[, 1], -sign(sft$fitIndices[, 3]) * sft$fitIndices[, 2],\n",
    "        labels = powers, cex = cex1, col = \"red\"\n",
    "    )\n",
    "    # this line corresponds to using an R^2 cut-off of h\n",
    "    abline(h = R.sq_cutoff, col = \"red\")\n",
    "    # Mean connectivity as a function of the soft-thresholding power\n",
    "    plot(sft$fitIndices[, 1], sft$fitIndices[, 5],\n",
    "        xlab = \"Soft Threshold (power)\", ylab = \"Mean Connectivity\", type = \"n\"\n",
    "    )\n",
    "    text(sft$fitIndices[, 1], sft$fitIndices[, 5], labels = powers, cex = cex1, col = \"red\")\n",
    "    abline(h = 100, col = \"red\")\n",
    "    dev.off()\n",
    "}\n"
   ]
  },
  {
   "cell_type": "code",
   "execution_count": null,
   "metadata": {
    "vscode": {
     "languageId": "r"
    }
   },
   "outputs": [],
   "source": [
    "sft$powerEstimate # 查看估计的最佳power\n",
    "# power = sft$powerEstimate\n",
    "power <- 15 ##\n",
    "\n",
    "# 若无向网络在power小于15或有向网络power小于30内，没有一个power值使\n",
    "# 无标度网络图谱结构R^2达到0.8且平均连接度在100以下，可能是由于\n",
    "# 部分样品与其他样品差别太大。这可能由批次效应、样品异质性或实验条件对\n",
    "# 表达影响太大等造成。可以通过绘制样品聚类查看分组信息和有无异常样品。\n",
    "# 如果这确实是由有意义的生物变化引起的，也可以使用下面的经验power值。\n",
    "if (is.na(power)) {\n",
    "    # 官方推荐 \"signed\" 或 \"signed hybrid\"\n",
    "    # 为与原文档一致，故未修改\n",
    "    type <- \"unsigned\"\n",
    "    nSamples <- nrow(datExpr)\n",
    "    power <- ifelse(nSamples < 20, ifelse(type == \"unsigned\", 9, 18),\n",
    "        ifelse(nSamples < 30, ifelse(type == \"unsigned\", 8, 16),\n",
    "            ifelse(nSamples < 40, ifelse(type == \"unsigned\", 7, 14),\n",
    "                ifelse(type == \"unsigned\", 6, 12)\n",
    "            )\n",
    "        )\n",
    "    )\n",
    "}\n",
    "\n",
    "save(sft,\n",
    "    power,\n",
    "    file = \"step2_power_value.Rdata\"\n",
    ")\n"
   ]
  },
  {
   "cell_type": "markdown",
   "metadata": {
    "vscode": {
     "languageId": "r"
    }
   },
   "source": [
    "### ③ 构建加权共表达网络，识别基因模块\n",
    "构建加权共表达网络可选择`一步法（one step）`或 `分步法（step by step）`进行。 一般情况下优先选择采用简便的一步法，当想要调整得到的基因模块数目时，采用分步法更灵活\n",
    "\n",
    "**一步法构建加权共表达网络，识别基因模块**\n",
    "主要调整参数为`minModuleSize`和`mergeCutHeight` , 数值越大模块越少\n",
    "\n",
    "```R\n",
    "##################### 3.一步法构建加权共表达网络，识别基因模块 ####################\n",
    "load(file = \"step1_input.Rdata\")\n",
    "load(file = \"step2_power_value.Rdata\")\n",
    "if(T){\n",
    "  net <- blockwiseModules(\n",
    "    datExpr,\n",
    "    power = power,\n",
    "    maxBlockSize = ncol(datExpr),\n",
    "    corType = \"pearson\", #默认为\"pearson\",\"bicor\"则更能考虑离群点的影响\n",
    "    networkType = \"unsigned\",\n",
    "    TOMType = \"unsigned\", \n",
    "    minModuleSize = 30,    ##越大模块越少\n",
    "    mergeCutHeight = 0.25, ##越大模块越少\n",
    "    numericLabels = TRUE, \n",
    "    saveTOMs = F,\n",
    "    verbose = 3\n",
    "  )\n",
    "  table(net$colors) \n",
    "  # power: 上一步计算的软阈值\n",
    "  # maxBlockSize:计算机能处理的最大模块的基因数量(默认5000),16G内存可以处理2万个，\n",
    "  # 计算资源允许的情况下最好放在一个block里面。\n",
    "  # corType：计算相关性的方法；可选pearson(默认)，bicor。后者更能考虑离群点的影响。\n",
    "  # networkType:计算邻接矩阵时，是否考虑正负相关性；默认为\"unsigned\",可选\"signed\", \"signed hybrid\"\n",
    "  # TOMType：计算TOM矩阵时，是否考虑正负相关性；默认为\"signed\",可选\"unsigned\"。但是根据幂律转换的邻接矩阵(权重)的非负性，所以认为这里选择\"signed\"也没有太多的意义。\n",
    "  # numericLabels: 返回数字而不是颜色作为模块的名字，后面可以再转换为颜色\n",
    "  # saveTOMs：最耗费时间的计算，可存储起来供后续使用，\n",
    "  # mergeCutHeight: 合并模块的阈值，越大模块越少,一般为0.25\n",
    "  # minModuleSize: 每个模块里最少放多少个基因，设定越大模块越少\n",
    "  # 输出结果根据模块中基因数目的多少，降序排列，依次编号为 `1-最大模块数`。\n",
    "  # **0 (grey)**表示**未**分入任何模块的基因。\n",
    "}\n",
    "\n",
    "## 模块可视化，层级聚类树展示各个模块\n",
    "if(T){\n",
    "  # Convert labels to colors for plotting\n",
    "  moduleColors <- labels2colors(net$colors)\n",
    "  table(moduleColors)\n",
    "  # Plot the dendrogram and the module colors underneath\n",
    "  pdf(\"step3_genes-modules_ClusterDendrogram.pdf\",width = 16,height = 12)\n",
    "  plotDendroAndColors(net$dendrograms[[1]], moduleColors[net$blockGenes[[1]]],\n",
    "                      \"Module colors\",\n",
    "                      dendroLabels = FALSE, hang = 0.03,\n",
    "                      addGuide = TRUE, guideHang = 0.05)\n",
    "  dev.off()\n",
    "}\n",
    "save(net, moduleColors, file = \"step3_genes_modules.Rdata\")\n",
    "```\n",
    "\n",
    "<image src=\"../image/57.png\">"
   ]
  },
  {
   "cell_type": "code",
   "execution_count": null,
   "metadata": {
    "vscode": {
     "languageId": "r"
    }
   },
   "outputs": [],
   "source": [
    "##################### 3.一步法构建加权共表达网络，识别基因模块 ####################\n",
    "load(file = \"step1_input.Rdata\")\n",
    "load(file = \"step2_power_value.Rdata\")\n",
    "if (T) {\n",
    "    net <- blockwiseModules(\n",
    "        datExpr,\n",
    "        power = power,\n",
    "        maxBlockSize = ncol(datExpr),\n",
    "        corType = \"pearson\", # 默认为\"pearson\",\"bicor\"则更能考虑离群点的影响\n",
    "        networkType = \"unsigned\",\n",
    "        TOMType = \"unsigned\",\n",
    "        minModuleSize = 30, ## 越大模块越少\n",
    "        mergeCutHeight = 0.25, ## 越大模块越少\n",
    "        numericLabels = TRUE,\n",
    "        saveTOMs = F,\n",
    "        verbose = 3\n",
    "    )\n",
    "    table(net$colors)\n",
    "    # power: 上一步计算的软阈值\n",
    "    # maxBlockSize:计算机能处理的最大模块的基因数量(默认5000),16G内存可以处理2万个，\n",
    "    # 计算资源允许的情况下最好放在一个block里面。\n",
    "    # corType：计算相关性的方法；可选pearson(默认)，bicor。后者更能考虑离群点的影响。\n",
    "    # networkType:计算邻接矩阵时，是否考虑正负相关性；默认为\"unsigned\",可选\"signed\", \"signed hybrid\"\n",
    "    # TOMType：计算TOM矩阵时，是否考虑正负相关性；默认为\"signed\",可选\"unsigned\"。但是根据幂律转换的邻接矩阵(权重)的非负性，所以认为这里选择\"signed\"也没有太多的意义。\n",
    "    # numericLabels: 返回数字而不是颜色作为模块的名字，后面可以再转换为颜色\n",
    "    # saveTOMs：最耗费时间的计算，可存储起来供后续使用，\n",
    "    # mergeCutHeight: 合并模块的阈值，越大模块越少,一般为0.25\n",
    "    # minModuleSize: 每个模块里最少放多少个基因，设定越大模块越少\n",
    "    # 输出结果根据模块中基因数目的多少，降序排列，依次编号为 `1-最大模块数`。\n",
    "    # **0 (grey)**表示**未**分入任何模块的基因。\n",
    "}\n",
    "\n",
    "## 模块可视化，层级聚类树展示各个模块\n",
    "if (T) {\n",
    "    # Convert labels to colors for plotting\n",
    "    moduleColors <- labels2colors(net$colors)\n",
    "    table(moduleColors)\n",
    "    # Plot the dendrogram and the module colors underneath\n",
    "    pdf(\"step3_genes-modules_ClusterDendrogram.pdf\", width = 16, height = 12)\n",
    "    plotDendroAndColors(net$dendrograms[[1]], moduleColors[net$blockGenes[[1]]],\n",
    "        \"Module colors\",\n",
    "        dendroLabels = FALSE, hang = 0.03,\n",
    "        addGuide = TRUE, guideHang = 0.05\n",
    "    )\n",
    "    dev.off()\n",
    "}\n",
    "save(net, moduleColors, file = \"step3_genes_modules.Rdata\")\n"
   ]
  },
  {
   "cell_type": "markdown",
   "metadata": {},
   "source": [
    "**分步法构建加权共表达网络，识别基因模块**\n",
    "与一步法类似，主要调整参数为`minModuleSize`和`MEDissThres` , 数值越大模块越少\n",
    "\n",
    "\n",
    "```R\n",
    "#####################  分布法完成网络构建，一般不用 #################################\n",
    "if(F){\n",
    "  ## 构建加权共表达网络分为两步：\n",
    "  ## 1. 计算邻近值，也是就是两个基因在不同样品中表达量的表达相关系数(pearson correlation rho)，\n",
    "  ## 2. 计算topology overlap similarity (TOM)。 用TOM表示两个基因在网络结构上的相似性，即两个基因如果具有相似的邻近基因，这两个基因更倾向于有相互作用。\n",
    "\n",
    "  ###(1)网络构建 Co-expression similarity and adjacency \n",
    "  adjacency = adjacency(datExpr, power = power) \n",
    "\n",
    "  ###(2) 邻近矩阵到拓扑矩阵的转换，Turn adjacency into topological overlap\n",
    "  TOM = TOMsimilarity(adjacency)\n",
    "  dissTOM = 1-TOM\n",
    "\n",
    "  ###(3) 聚类拓扑矩阵 Clustering using TOM\n",
    "  # Call the hierarchical clustering function\n",
    "  geneTree = hclust(as.dist(dissTOM), method = \"average\");\n",
    "  # Plot the resulting clustering tree (dendrogram)\n",
    "  ## 这个时候的geneTree与一步法的 net$dendrograms[[1]] 性质类似，但是还需要进行进一步处理\n",
    "  plot(geneTree, xlab=\"\", sub=\"\", main = \"Gene clustering on TOM-based dissimilarity\",\n",
    "       labels = FALSE, hang = 0.04)\n",
    "\n",
    "  ###(4) 聚类分支的修整 dynamicTreeCut \n",
    "  ################# set the minimum module size ##############################\n",
    "  minModuleSize = 30\n",
    "  ####\n",
    "  # Module identification using dynamic tree cut:\n",
    "  dynamicMods = cutreeDynamic(dendro = geneTree, distM = dissTOM,\n",
    "                              deepSplit = 2, pamRespectsDendro = FALSE,\n",
    "                              minClusterSize = minModuleSize)\n",
    "  table(dynamicMods)\n",
    "  # Convert numeric lables into colors\n",
    "  dynamicColors = labels2colors(dynamicMods)\n",
    "  table(dynamicColors)\n",
    "  # Plot the dendrogram and colors underneath\n",
    "  plotDendroAndColors(geneTree, dynamicColors, \"Dynamic Tree Cut\",\n",
    "                      dendroLabels = FALSE, hang = 0.03,\n",
    "                      addGuide = TRUE, guideHang = 0.05,\n",
    "                      main = \"Gene dendrogram and module colors\")\n",
    "\n",
    "  ###(5) 聚类结果相似模块的融合 Merging of modules whose expression profiles are very similar\n",
    "  # Calculate eigengenes\n",
    "  MEList = moduleEigengenes(datExpr, colors = dynamicColors)\n",
    "  MEs = MEList$eigengenes\n",
    "  # Calculate dissimilarity of module eigengenes\n",
    "  MEDiss = 1-cor(MEs)\n",
    "  # Cluster module eigengenes\n",
    "  METree = hclust(as.dist(MEDiss), method = \"average\")\n",
    "  #一般选择 height cut 为0.25,对应于有75%相关性，进行融合\n",
    "  ###################### set  Merging height cut  ################################\n",
    "  MEDissThres = 0.5\n",
    "  ####\n",
    "  # Plot the result\n",
    "  plot(METree, main = \"Clustering of module eigengenes\",\n",
    "       xlab = \"\", sub = \"\")\n",
    "  # Plot the cut line into the dendrogram\n",
    "  abline(h=MEDissThres, col = \"red\")\n",
    "  # Call an automatic merging function\n",
    "  merge = mergeCloseModules(datExpr, dynamicColors, cutHeight = MEDissThres, verbose = 3)\n",
    "  # The merged module colors\n",
    "  mergedColors = merge$colors\n",
    "  # Eigengenes of the new merged modules:\n",
    "  mergedMEs = merge$newMEs\n",
    "  # 统计mergedmodule\n",
    "  table(mergedColors)\n",
    "\n",
    "  ### (6) plot the gene dendrogram \n",
    "  pdf(file = \"step3_stepbystep_DynamicTreeCut_genes-modules.pdf\", width = 16,height = 12)\n",
    "  plotDendroAndColors(geneTree, cbind(dynamicColors, mergedColors),\n",
    "                      c(\"Dynamic Tree Cut\", \"Merged dynamic\"),\n",
    "                      dendroLabels = FALSE, hang = 0.03,\n",
    "                      addGuide = TRUE, guideHang = 0.05)\n",
    "  dev.off()\n",
    "\n",
    "  ### 保存数据\n",
    "  # Rename to moduleColors\n",
    "  moduleColors = mergedColors\n",
    "  # Construct numerical labels corresponding to the colors\n",
    "  colorOrder = c(\"grey\", standardColors(50))\n",
    "  moduleLabels = match(moduleColors, colorOrder)-1\n",
    "  MEs = mergedMEs\n",
    "  # Save module colors and labels for use in subsequent parts\n",
    "  save(MEs, moduleLabels, moduleColors, geneTree, \n",
    "       file = \"step3_stepByStep_genes_modules.Rdata\")\n",
    "\n",
    "}\n",
    "```\n",
    "\n",
    "<image src=\"../image/58.png\">"
   ]
  },
  {
   "cell_type": "code",
   "execution_count": null,
   "metadata": {
    "vscode": {
     "languageId": "r"
    }
   },
   "outputs": [],
   "source": [
    "#####################  分布法完成网络构建，一般不用 #################################\n",
    "if (F) {\n",
    "    ## 构建加权共表达网络分为两步：\n",
    "    ## 1. 计算邻近值，也是就是两个基因在不同样品中表达量的表达相关系数(pearson correlation rho)，\n",
    "    ## 2. 计算topology overlap similarity (TOM)。 用TOM表示两个基因在网络结构上的相似性，即两个基因如果具有相似的邻近基因，这两个基因更倾向于有相互作用。\n",
    "\n",
    "    ### (1)网络构建 Co-expression similarity and adjacency\n",
    "    adjacency <- adjacency(datExpr, power = power)\n",
    "\n",
    "    ### (2) 邻近矩阵到拓扑矩阵的转换，Turn adjacency into topological overlap\n",
    "    TOM <- TOMsimilarity(adjacency)\n",
    "    dissTOM <- 1 - TOM\n",
    "\n",
    "    ### (3) 聚类拓扑矩阵 Clustering using TOM\n",
    "    # Call the hierarchical clustering function\n",
    "    geneTree <- hclust(as.dist(dissTOM), method = \"average\")\n",
    "    # Plot the resulting clustering tree (dendrogram)\n",
    "    ## 这个时候的geneTree与一步法的 net$dendrograms[[1]] 性质类似，但是还需要进行进一步处理\n",
    "    plot(geneTree,\n",
    "        xlab = \"\", sub = \"\", main = \"Gene clustering on TOM-based dissimilarity\",\n",
    "        labels = FALSE, hang = 0.04\n",
    "    )\n",
    "\n",
    "    ### (4) 聚类分支的修整 dynamicTreeCut\n",
    "    ################# set the minimum module size ##############################\n",
    "    minModuleSize <- 30\n",
    "    ####\n",
    "    # Module identification using dynamic tree cut:\n",
    "    dynamicMods <- cutreeDynamic(\n",
    "        dendro = geneTree, distM = dissTOM,\n",
    "        deepSplit = 2, pamRespectsDendro = FALSE,\n",
    "        minClusterSize = minModuleSize\n",
    "    )\n",
    "    table(dynamicMods)\n",
    "    # Convert numeric lables into colors\n",
    "    dynamicColors <- labels2colors(dynamicMods)\n",
    "    table(dynamicColors)\n",
    "    # Plot the dendrogram and colors underneath\n",
    "    plotDendroAndColors(geneTree, dynamicColors, \"Dynamic Tree Cut\",\n",
    "        dendroLabels = FALSE, hang = 0.03,\n",
    "        addGuide = TRUE, guideHang = 0.05,\n",
    "        main = \"Gene dendrogram and module colors\"\n",
    "    )\n",
    "\n",
    "    ### (5) 聚类结果相似模块的融合 Merging of modules whose expression profiles are very similar\n",
    "    # Calculate eigengenes\n",
    "    MEList <- moduleEigengenes(datExpr, colors = dynamicColors)\n",
    "    MEs <- MEList$eigengenes\n",
    "    # Calculate dissimilarity of module eigengenes\n",
    "    MEDiss <- 1 - cor(MEs)\n",
    "    # Cluster module eigengenes\n",
    "    METree <- hclust(as.dist(MEDiss), method = \"average\")\n",
    "    # 一般选择 height cut 为0.25,对应于有75%相关性，进行融合\n",
    "    ###################### set  Merging height cut  ################################\n",
    "    MEDissThres <- 0.5\n",
    "    ####\n",
    "    # Plot the result\n",
    "    plot(METree,\n",
    "        main = \"Clustering of module eigengenes\",\n",
    "        xlab = \"\", sub = \"\"\n",
    "    )\n",
    "    # Plot the cut line into the dendrogram\n",
    "    abline(h = MEDissThres, col = \"red\")\n",
    "    # Call an automatic merging function\n",
    "    merge <- mergeCloseModules(datExpr, dynamicColors, cutHeight = MEDissThres, verbose = 3)\n",
    "    # The merged module colors\n",
    "    mergedColors <- merge$colors\n",
    "    # Eigengenes of the new merged modules:\n",
    "    mergedMEs <- merge$newMEs\n",
    "    # 统计mergedmodule\n",
    "    table(mergedColors)\n",
    "\n",
    "    ### (6) plot the gene dendrogram\n",
    "    pdf(file = \"step3_stepbystep_DynamicTreeCut_genes-modules.pdf\", width = 16, height = 12)\n",
    "    plotDendroAndColors(geneTree, cbind(dynamicColors, mergedColors),\n",
    "        c(\"Dynamic Tree Cut\", \"Merged dynamic\"),\n",
    "        dendroLabels = FALSE, hang = 0.03,\n",
    "        addGuide = TRUE, guideHang = 0.05\n",
    "    )\n",
    "    dev.off()\n",
    "\n",
    "    ### 保存数据\n",
    "    # Rename to moduleColors\n",
    "    moduleColors <- mergedColors\n",
    "    # Construct numerical labels corresponding to the colors\n",
    "    colorOrder <- c(\"grey\", standardColors(50))\n",
    "    moduleLabels <- match(moduleColors, colorOrder) - 1\n",
    "    MEs <- mergedMEs\n",
    "    # Save module colors and labels for use in subsequent parts\n",
    "    save(MEs, moduleLabels, moduleColors, geneTree,\n",
    "        file = \"step3_stepByStep_genes_modules.Rdata\"\n",
    "    )\n",
    "}\n"
   ]
  },
  {
   "cell_type": "markdown",
   "metadata": {},
   "source": [
    "### ④ 关联基因模块与表型\n",
    "\n",
    "绘制模块与表型的**相关性热图**、**模块与表型的相关性boxplot图**、**基因与模块**、**表型的相关性散点图**； 结合所得各类相关性结果，判断出哪些模块与表型是高度相关的，从而关联基因模块与表型。\n",
    "\n",
    "这里示范在绘制基因与模块、表型的相关性散点图时，选择要查看的离散性状的表型是“primed”\n",
    "\n",
    "```R\n",
    "####################### 4.关联基因模块与表型 #####################################\n",
    "rm(list = ls())  \n",
    "load(file = \"step1_input.Rdata\")\n",
    "load(file = \"step2_power_value.Rdata\")\n",
    "load(file = \"step3_genes_modules.Rdata\")\n",
    "\n",
    "## 模块与表型的相关性热图\n",
    "if(T){\n",
    "  datTraits$group <- as.factor(datTraits$group)\n",
    "  design <- model.matrix(~0+datTraits$group)\n",
    "  colnames(design) <- levels(datTraits$group) #get the group\n",
    "  MES0 <- moduleEigengenes(datExpr,moduleColors)$eigengenes  #Calculate module eigengenes.\n",
    "  MEs <- orderMEs(MES0)  #Put close eigenvectors next to each other\n",
    "  moduleTraitCor <- cor(MEs,design,use = \"p\")\n",
    "  moduleTraitPvalue <- corPvalueStudent(moduleTraitCor,nSamples)\n",
    "  textMatrix <- paste0(signif(moduleTraitCor,2),\"\\n(\",\n",
    "                      signif(moduleTraitPvalue,1),\")\")\n",
    "  dim(textMatrix) <- dim(moduleTraitCor)\n",
    "\n",
    "  pdf(\"step4_Module-trait-relationship_heatmap.pdf\",\n",
    "      width = 2*length(colnames(design)), \n",
    "      height = 0.6*length(names(MEs)) )\n",
    "  par(mar=c(5, 9, 3, 3)) #留白：下、左、上、右\n",
    "  labeledHeatmap(Matrix = moduleTraitCor,\n",
    "                 xLabels = colnames(design),\n",
    "                 yLabels = names(MEs),\n",
    "                 ySymbols = names(MEs),\n",
    "                 colorLabels = F,\n",
    "                 colors = blueWhiteRed(50),\n",
    "                 textMatrix = textMatrix,\n",
    "                 setStdMargins = F,\n",
    "                 cex.text = 0.5,\n",
    "                 zlim = c(-1,1), \n",
    "                 main = \"Module-trait relationships\")\n",
    "  dev.off()\n",
    "  save(design, file = \"step4_design.Rdata\")\n",
    "}\n",
    "\n",
    "\n",
    "### 模块与表型的相关性boxplot图 \n",
    "if(T){\n",
    "mes_group <- merge(MEs,datTraits,by=\"row.names\") \n",
    "library(gplots)\n",
    "library(ggpubr)\n",
    "library(grid)\n",
    "library(gridExtra) \n",
    "draw_ggboxplot <- function(data,Module=\"Module\",group=\"group\"){\n",
    "  ggboxplot(data,x=group, y=Module,\n",
    "            ylab = paste0(Module),\n",
    "            xlab = group,\n",
    "            fill = group,\n",
    "            palette = \"jco\",\n",
    "            #add=\"jitter\",\n",
    "            legend = \"\") +stat_compare_means()\n",
    "}\n",
    "# 批量画boxplot\n",
    "colorNames <- names(MEs)\n",
    "pdf(\"step4_Module-trait-relationship_boxplot.pdf\", width = 7.5,height = 1.6*ncol(MEs))\n",
    "p <- lapply(colorNames,function(x) {\n",
    "  draw_ggboxplot(mes_group, Module = x, group = \"group\")\n",
    "})\n",
    "do.call(grid.arrange,c(p,ncol=2)) #排布为每行2个\n",
    "dev.off()\n",
    "}\n",
    "\n",
    "\n",
    "### 基因与模块、表型的相关性散点图\n",
    "#所有的模块都可以跟基因算出相关系数，所有的连续型性状也可以跟基因算出相关系数， \n",
    "#如果跟性状显著相关的基因也跟某个模块显著相关，那么这些基因可能就非常重要。\n",
    "\n",
    "# 选择离散性状的表型\n",
    "levels(datTraits$group)\n",
    "choose_group <- \"primed\"  \n",
    "\n",
    "if(T){\n",
    "  modNames <- substring(names(MEs), 3)\n",
    "\n",
    "  ### 计算模块与基因的相关性矩阵 \n",
    "  ## Module Membership: 模块内基因表达与模块特征值的相关性\n",
    "  geneModuleMembership <- as.data.frame(cor(datExpr, MEs, use = \"p\"))\n",
    "  MMPvalue <- as.data.frame(corPvalueStudent(as.matrix(geneModuleMembership), nSamples))\n",
    "  names(geneModuleMembership) <- paste0(\"MM\", modNames)\n",
    "  names(MMPvalue) <- paste0(\"p.MM\", modNames)\n",
    "\n",
    "  ###  计算性状与基因的相关性矩阵 \n",
    "  ## Gene significance，GS：比较样本某个基因与对应表型的相关性\n",
    "  ## 连续型性状\n",
    "  # trait <- datTraits$groupNo  \n",
    "  ## 非连续型性状，需转为0-1矩阵, 已存于design中\n",
    "  trait <- as.data.frame(design[,choose_group])\n",
    "  geneTraitSignificance <- as.data.frame(cor(datExpr,trait,use = \"p\"))\n",
    "  GSPvalue <- as.data.frame(corPvalueStudent(as.matrix(geneTraitSignificance),nSamples))\n",
    "  names(geneTraitSignificance) <- paste0(\"GS\")\n",
    "  names(GSPvalue) <- paste0(\"GS\")\n",
    "\n",
    "  ### 可视化基因与模块、表型的相关性.\n",
    "  #selectModule<-c(\"blue\",\"green\",\"purple\",\"grey\")  ##可以选择自己想要的模块\n",
    "  selectModule <- modNames  ## 全部模块批量作图\n",
    "  pdf(\"step4_gene-Module-trait-significance.pdf\",width=7, height=1.5*ncol(MEs))\n",
    "  par(mfrow=c(ceiling(length(selectModule)/2),2)) #批量作图开始\n",
    "  for(module in selectModule){\n",
    "    column <- match(module,selectModule)\n",
    "    print(module)\n",
    "    moduleGenes <- moduleColors==module\n",
    "    verboseScatterplot(abs(geneModuleMembership[moduleGenes, column]),\n",
    "                       abs(geneTraitSignificance[moduleGenes, 1]),\n",
    "                       xlab = paste(\"Module Membership in\", module, \"module\"),\n",
    "                       ylab = \"Gene significance for trait\",\n",
    "                       main = paste(\"Module membership vs. gene significance\\n\"),\n",
    "                       cex.main = 1.2, cex.lab = 1.2, cex.axis = 1.2, col = module)\n",
    "  }\n",
    "  dev.off()\n",
    "}\n",
    "```\n",
    "\n",
    "<image src=\"../image/59.png\">\n",
    "\n",
    "<image src=\"../image/60.png\">\n",
    "\n",
    "<image src=\"../image/61.png\">\n",
    "\n",
    "通过以上可发现，与primed表型相关密切的模块有royalblue、blue等"
   ]
  },
  {
   "cell_type": "code",
   "execution_count": null,
   "metadata": {
    "vscode": {
     "languageId": "r"
    }
   },
   "outputs": [],
   "source": [
    "####################### 4.关联基因模块与表型 #####################################\n",
    "rm(list = ls())\n",
    "load(file = \"step1_input.Rdata\")\n",
    "load(file = \"step2_power_value.Rdata\")\n",
    "load(file = \"step3_genes_modules.Rdata\")\n",
    "\n",
    "## 模块与表型的相关性热图\n",
    "if (T) {\n",
    "    datTraits$group <- as.factor(datTraits$group)\n",
    "    design <- model.matrix(~ 0 + datTraits$group)\n",
    "    colnames(design) <- levels(datTraits$group) # get the group\n",
    "    MES0 <- moduleEigengenes(datExpr, moduleColors)$eigengenes # Calculate module eigengenes.\n",
    "    MEs <- orderMEs(MES0) # Put close eigenvectors next to each other\n",
    "    moduleTraitCor <- cor(MEs, design, use = \"p\")\n",
    "    moduleTraitPvalue <- corPvalueStudent(moduleTraitCor, nSamples)\n",
    "    textMatrix <- paste0(\n",
    "        signif(moduleTraitCor, 2), \"\\n(\",\n",
    "        signif(moduleTraitPvalue, 1), \")\"\n",
    "    )\n",
    "    dim(textMatrix) <- dim(moduleTraitCor)\n",
    "\n",
    "    pdf(\"step4_Module-trait-relationship_heatmap.pdf\",\n",
    "        width = 2 * length(colnames(design)),\n",
    "        height = 0.6 * length(names(MEs))\n",
    "    )\n",
    "    par(mar = c(5, 9, 3, 3)) # 留白：下、左、上、右\n",
    "    labeledHeatmap(\n",
    "        Matrix = moduleTraitCor,\n",
    "        xLabels = colnames(design),\n",
    "        yLabels = names(MEs),\n",
    "        ySymbols = names(MEs),\n",
    "        colorLabels = F,\n",
    "        colors = blueWhiteRed(50),\n",
    "        textMatrix = textMatrix,\n",
    "        setStdMargins = F,\n",
    "        cex.text = 0.5,\n",
    "        zlim = c(-1, 1),\n",
    "        main = \"Module-trait relationships\"\n",
    "    )\n",
    "    dev.off()\n",
    "    save(design, file = \"step4_design.Rdata\")\n",
    "}\n",
    "\n",
    "\n",
    "### 模块与表型的相关性boxplot图\n",
    "if (T) {\n",
    "    mes_group <- merge(MEs, datTraits, by = \"row.names\")\n",
    "    library(gplots)\n",
    "    library(ggpubr)\n",
    "    library(grid)\n",
    "    library(gridExtra)\n",
    "    draw_ggboxplot <- function(data, Module = \"Module\", group = \"group\") {\n",
    "        ggboxplot(data,\n",
    "            x = group, y = Module,\n",
    "            ylab = paste0(Module),\n",
    "            xlab = group,\n",
    "            fill = group,\n",
    "            palette = \"jco\",\n",
    "            # add=\"jitter\",\n",
    "            legend = \"\"\n",
    "        ) + stat_compare_means()\n",
    "    }\n",
    "    # 批量画boxplot\n",
    "    colorNames <- names(MEs)\n",
    "    pdf(\"step4_Module-trait-relationship_boxplot.pdf\", width = 7.5, height = 1.6 * ncol(MEs))\n",
    "    p <- lapply(colorNames, function(x) {\n",
    "        draw_ggboxplot(mes_group, Module = x, group = \"group\")\n",
    "    })\n",
    "    do.call(grid.arrange, c(p, ncol = 2)) # 排布为每行2个\n",
    "    dev.off()\n",
    "}\n",
    "\n",
    "\n",
    "### 基因与模块、表型的相关性散点图\n",
    "# 所有的模块都可以跟基因算出相关系数，所有的连续型性状也可以跟基因算出相关系数，\n",
    "# 如果跟性状显著相关的基因也跟某个模块显著相关，那么这些基因可能就非常重要。\n",
    "\n",
    "# 选择离散性状的表型\n",
    "levels(datTraits$group)\n",
    "choose_group <- \"primed\"\n",
    "\n",
    "if (T) {\n",
    "    modNames <- substring(names(MEs), 3)\n",
    "\n",
    "    ### 计算模块与基因的相关性矩阵\n",
    "    ## Module Membership: 模块内基因表达与模块特征值的相关性\n",
    "    geneModuleMembership <- as.data.frame(cor(datExpr, MEs, use = \"p\"))\n",
    "    MMPvalue <- as.data.frame(corPvalueStudent(as.matrix(geneModuleMembership), nSamples))\n",
    "    names(geneModuleMembership) <- paste0(\"MM\", modNames)\n",
    "    names(MMPvalue) <- paste0(\"p.MM\", modNames)\n",
    "\n",
    "    ###  计算性状与基因的相关性矩阵\n",
    "    ## Gene significance，GS：比较样本某个基因与对应表型的相关性\n",
    "    ## 连续型性状\n",
    "    # trait <- datTraits$groupNo\n",
    "    ## 非连续型性状，需转为0-1矩阵, 已存于design中\n",
    "    trait <- as.data.frame(design[, choose_group])\n",
    "    geneTraitSignificance <- as.data.frame(cor(datExpr, trait, use = \"p\"))\n",
    "    GSPvalue <- as.data.frame(corPvalueStudent(as.matrix(geneTraitSignificance), nSamples))\n",
    "    names(geneTraitSignificance) <- paste0(\"GS\")\n",
    "    names(GSPvalue) <- paste0(\"GS\")\n",
    "\n",
    "    ### 可视化基因与模块、表型的相关性.\n",
    "    # selectModule<-c(\"blue\",\"green\",\"purple\",\"grey\")  ##可以选择自己想要的模块\n",
    "    selectModule <- modNames ## 全部模块批量作图\n",
    "    pdf(\"step4_gene-Module-trait-significance.pdf\", width = 7, height = 1.5 * ncol(MEs))\n",
    "    par(mfrow = c(ceiling(length(selectModule) / 2), 2)) # 批量作图开始\n",
    "    for (module in selectModule) {\n",
    "        column <- match(module, selectModule)\n",
    "        print(module)\n",
    "        moduleGenes <- moduleColors == module\n",
    "        verboseScatterplot(abs(geneModuleMembership[moduleGenes, column]),\n",
    "            abs(geneTraitSignificance[moduleGenes, 1]),\n",
    "            xlab = paste(\"Module Membership in\", module, \"module\"),\n",
    "            ylab = \"Gene significance for trait\",\n",
    "            main = paste(\"Module membership vs. gene significance\\n\"),\n",
    "            cex.main = 1.2, cex.lab = 1.2, cex.axis = 1.2, col = module\n",
    "        )\n",
    "    }\n",
    "    dev.off()\n",
    "}\n"
   ]
  },
  {
   "cell_type": "markdown",
   "metadata": {},
   "source": [
    "### ⑤ WGCNA可视化：TOMplot 、Eigengene-adjacency-heatmap\n",
    "WGCNA的标配热图TOMplot / Network heapmap plot，描绘了分析中所有基因之间的拓扑重叠矩阵（TOM），颜色越深表示基因之间的相关性越大； Eigengene-adjacency-heatmap 展示基因模块之间的相关性，还可以加入表型信息，查看表型与哪些模块相关性高\n",
    "\n",
    "```R\n",
    "#########################  5. WGCNA可视化：TOMplot  Eigengene-adjacency-heatmap ##################################\n",
    "rm(list = ls())  \n",
    "load(file = 'step1_input.Rdata')\n",
    "load(file = \"step2_power_value.Rdata\")\n",
    "load(file = \"step3_genes_modules.Rdata\")\n",
    "load(file = \"step4_design.Rdata\")\n",
    "\n",
    "if(T){\n",
    "  TOM=TOMsimilarityFromExpr(datExpr,power=power)\n",
    "  dissTOM=1-TOM\n",
    "  ## draw all genes \n",
    "  if(T){\n",
    "    geneTree = net$dendrograms[[1]]\n",
    "    plotTOM = dissTOM^7\n",
    "    diag(plotTOM)=NA\n",
    "    png(\"step5_TOMplot_Network-heatmap.png\",width = 800, height=600) \n",
    "    TOMplot(plotTOM,geneTree,moduleColors,\n",
    "            col=gplots::colorpanel(250,'red',\"orange\",'lemonchiffon'),\n",
    "            main=\"Network heapmap plot\")\n",
    "    dev.off()\n",
    "  }\n",
    "  ### draw selected genes to save time...just for test...\n",
    "  if(F){\n",
    "    nSelect =0.1*nGenes\n",
    "    set.seed(123)\n",
    "    select=sample(nGenes,size = nSelect)\n",
    "    selectTOM = dissTOM[select,select]\n",
    "    selectTree = hclust(as.dist(selectTOM),method = \"average\")\n",
    "    selectColors = moduleColors[select]\n",
    "    plotDiss=selectTOM^7\n",
    "    diag(plotDiss)=NA\n",
    "    pdf(\"step5_select_TOMplot_Network-heatmap.pdf\",width=8, height=6)\n",
    "    TOMplot(plotDiss,selectTree,selectColors,\n",
    "            col=gplots::colorpanel(250,'red',\"orange\",'lemonchiffon'),\n",
    "            main=\"Network heapmap plot of selected gene\")\n",
    "    dev.off()\n",
    "  }\n",
    "}\n",
    "\n",
    "\n",
    "### 模块相关性展示 Eigengene-adjacency-heatmap\n",
    "if(T){\n",
    "  MEs = moduleEigengenes(datExpr,moduleColors)$eigengenes\n",
    "  MET = orderMEs(MEs)\n",
    "  # 若添加表型数据\n",
    "  if(T){\n",
    "    ## 连续型性状\n",
    "    # MET = orderMEs(cbind(MEs,datTraits$groupNo))\n",
    "    ## 非连续型性状，需将是否属于这个表型进行0,1数值化，已存于design中\n",
    "    design\n",
    "    primed = as.data.frame(design[,3])\n",
    "    names(primed) = \"primed\"\n",
    "    # Add the weight to existing module eigengenes\n",
    "    MET = orderMEs(cbind(MEs, primed))\n",
    "  }\n",
    "  pdf(\"step5_module_cor_Eigengene-dendrogram.pdf\",width = 8,height = 10)\n",
    "  plotEigengeneNetworks(MET, setLabels=\"\", \n",
    "                        marDendro = c(0,4,1,4),  # 留白：下右上左\n",
    "                        marHeatmap = c(5,5,1,2), # 留白：下右上左\n",
    "                        cex.lab = 0.8,\n",
    "                        xLabelsAngle = 90)\n",
    "  dev.off()\n",
    "}\n",
    "\n",
    "```\n",
    "\n",
    "<image src=\"../image/62.png\">\n",
    "<image src=\"../image/63.png\">\n",
    "从上图可以发现，primed表型与\"royalblue\"模块聚类是最接近的\n"
   ]
  },
  {
   "cell_type": "code",
   "execution_count": null,
   "metadata": {
    "vscode": {
     "languageId": "r"
    }
   },
   "outputs": [],
   "source": [
    "#########################  5. WGCNA可视化：TOMplot  Eigengene-adjacency-heatmap ##################################\n",
    "rm(list = ls())\n",
    "load(file = \"step1_input.Rdata\")\n",
    "load(file = \"step2_power_value.Rdata\")\n",
    "load(file = \"step3_genes_modules.Rdata\")\n",
    "load(file = \"step4_design.Rdata\")\n",
    "\n",
    "if (T) {\n",
    "    TOM <- TOMsimilarityFromExpr(datExpr, power = power)\n",
    "    dissTOM <- 1 - TOM\n",
    "    ## draw all genes\n",
    "    if (T) {\n",
    "        geneTree <- net$dendrograms[[1]]\n",
    "        plotTOM <- dissTOM^7\n",
    "        diag(plotTOM) <- NA\n",
    "        png(\"step5_TOMplot_Network-heatmap.png\", width = 800, height = 600)\n",
    "        TOMplot(plotTOM, geneTree, moduleColors,\n",
    "            col = gplots::colorpanel(250, \"red\", \"orange\", \"lemonchiffon\"),\n",
    "            main = \"Network heapmap plot\"\n",
    "        )\n",
    "        dev.off()\n",
    "    }\n",
    "    ### draw selected genes to save time...just for test...\n",
    "    if (F) {\n",
    "        nSelect <- 0.1 * nGenes\n",
    "        set.seed(123)\n",
    "        select <- sample(nGenes, size = nSelect)\n",
    "        selectTOM <- dissTOM[select, select]\n",
    "        selectTree <- hclust(as.dist(selectTOM), method = \"average\")\n",
    "        selectColors <- moduleColors[select]\n",
    "        plotDiss <- selectTOM^7\n",
    "        diag(plotDiss) <- NA\n",
    "        pdf(\"step5_select_TOMplot_Network-heatmap.pdf\", width = 8, height = 6)\n",
    "        TOMplot(plotDiss, selectTree, selectColors,\n",
    "            col = gplots::colorpanel(250, \"red\", \"orange\", \"lemonchiffon\"),\n",
    "            main = \"Network heapmap plot of selected gene\"\n",
    "        )\n",
    "        dev.off()\n",
    "    }\n",
    "}\n",
    "\n",
    "\n",
    "### 模块相关性展示 Eigengene-adjacency-heatmap\n",
    "if (T) {\n",
    "    MEs <- moduleEigengenes(datExpr, moduleColors)$eigengenes\n",
    "    MET <- orderMEs(MEs)\n",
    "    # 若添加表型数据\n",
    "    if (T) {\n",
    "        ## 连续型性状\n",
    "        # MET = orderMEs(cbind(MEs,datTraits$groupNo))\n",
    "        ## 非连续型性状，需将是否属于这个表型进行0,1数值化，已存于design中\n",
    "        design\n",
    "        primed <- as.data.frame(design[, 3])\n",
    "        names(primed) <- \"primed\"\n",
    "        # Add the weight to existing module eigengenes\n",
    "        MET <- orderMEs(cbind(MEs, primed))\n",
    "    }\n",
    "    pdf(\"step5_module_cor_Eigengene-dendrogram.pdf\", width = 8, height = 10)\n",
    "    plotEigengeneNetworks(MET,\n",
    "        setLabels = \"\",\n",
    "        marDendro = c(0, 4, 1, 4), # 留白：下右上左\n",
    "        marHeatmap = c(5, 5, 1, 2), # 留白：下右上左\n",
    "        cex.lab = 0.8,\n",
    "        xLabelsAngle = 90\n",
    "    )\n",
    "    dev.off()\n",
    "}\n"
   ]
  },
  {
   "cell_type": "markdown",
   "metadata": {},
   "source": [
    "### ⑥ 对感兴趣模块的基因进行GO分析\n",
    "这里选取了与表型相关度较高的`\"black\",\"pink\",\"royalblue\"`模块进行GO分析\n",
    "\n",
    "```R\n",
    "#################### 6. 选择感兴趣基因模块进行GO分析 ####################\n",
    "rm(list = ls())  \n",
    "load(file = 'step1_input.Rdata')\n",
    "load(file = \"step2_power_value.Rdata\")\n",
    "load(file = \"step3_genes_modules.Rdata\")\n",
    "load(file = \"step4_design.Rdata\")\n",
    "\n",
    "### 条件设置\n",
    "OrgDb = \"org.Mm.eg.db\"  # \"org.Mm.eg.db\"  \"org.Hs.eg.db\"\n",
    "genetype = \"SYMBOL\"    # \"SYMBOL\"   \"ENSEMBL\"\n",
    "table(moduleColors)\n",
    "choose_module <- c(\"black\",\"pink\",\"royalblue\")\n",
    "\n",
    "if(T){\n",
    "  library(clusterProfiler)\n",
    "  library(org.Mm.eg.db)\n",
    "  library(org.Hs.eg.db)\n",
    "\n",
    "  gene_module <- data.frame(gene=colnames(datExpr),\n",
    "                            module=moduleColors)\n",
    "  write.csv(gene_module,file = \"step6_gene_moduleColors.csv\",row.names = F, quote = F) \n",
    "  tmp <- bitr(gene_module$gene,fromType = genetype,  # \"SYMBOL\"   \"ENSEMBL\"\n",
    "              toType = \"ENTREZID\",\n",
    "              OrgDb = OrgDb )\n",
    "  gene_module_entrz <- merge(tmp,gene_module, by.x=genetype, by.y=\"gene\")\n",
    "\n",
    "  choose_gene_module_entrz <- gene_module_entrz[gene_module_entrz$module %in% choose_module,]\n",
    "\n",
    "  ###run go analysis\n",
    "  formula_res <- compareCluster(\n",
    "    ENTREZID~module,\n",
    "    data = choose_gene_module_entrz,\n",
    "    fun = \"enrichGO\",\n",
    "    OrgDb = OrgDb,\n",
    "    ont = \"BP\",  #One of \"BP\", \"MF\", and \"CC\"  or \"ALL\"\n",
    "    pAdjustMethod = \"BH\",\n",
    "    pvalueCutoff = 0.25,\n",
    "    qvalueCutoff = 0.25\n",
    "  )\n",
    "\n",
    "  ###精简GO富集的结果,去冗余\n",
    "  lineage1_ego <- simplify( \n",
    "    formula_res,\n",
    "    cutoff=0.5,\n",
    "    by=\"p.adjust\",\n",
    "    select_fun=min\n",
    "  )\n",
    "  save(gene_module, formula_res, lineage1_ego, file=\"step6_module_GO_term.Rdata\")\n",
    "  write.csv(lineage1_ego@compareClusterResult,\n",
    "            file=\"step6_module_GO_term.csv\")\n",
    "  ### 绘制dotplot图\n",
    "  dotp <- dotplot(lineage1_ego,\n",
    "                  showCategory=10,\n",
    "                  includeAll = TRUE, #将有overlap的结果也展示出来\n",
    "                  label_format=90)\n",
    "  ggsave(dotp,filename= \"step6_module_GO_term.pdf\", #device = cairo_pdf,\n",
    "         width = 12, \n",
    "         height = 15)\n",
    "}\n",
    "```\n",
    "\n",
    "<image src=\"../image/64.png\">"
   ]
  },
  {
   "cell_type": "code",
   "execution_count": null,
   "metadata": {
    "vscode": {
     "languageId": "r"
    }
   },
   "outputs": [],
   "source": [
    "#################### 6. 选择感兴趣基因模块进行GO分析 ####################\n",
    "rm(list = ls())\n",
    "load(file = \"step1_input.Rdata\")\n",
    "load(file = \"step2_power_value.Rdata\")\n",
    "load(file = \"step3_genes_modules.Rdata\")\n",
    "load(file = \"step4_design.Rdata\")\n",
    "\n",
    "### 条件设置\n",
    "OrgDb <- \"org.Mm.eg.db\" # \"org.Mm.eg.db\"  \"org.Hs.eg.db\"\n",
    "genetype <- \"SYMBOL\" # \"SYMBOL\"   \"ENSEMBL\"\n",
    "table(moduleColors)\n",
    "choose_module <- c(\"black\", \"pink\", \"royalblue\")\n",
    "\n",
    "if (T) {\n",
    "    library(clusterProfiler)\n",
    "    library(org.Mm.eg.db)\n",
    "    library(org.Hs.eg.db)\n",
    "\n",
    "    gene_module <- data.frame(\n",
    "        gene = colnames(datExpr),\n",
    "        module = moduleColors\n",
    "    )\n",
    "    write.csv(gene_module, file = \"step6_gene_moduleColors.csv\", row.names = F, quote = F)\n",
    "    tmp <- bitr(gene_module$gene,\n",
    "        fromType = genetype, # \"SYMBOL\"   \"ENSEMBL\"\n",
    "        toType = \"ENTREZID\",\n",
    "        OrgDb = OrgDb\n",
    "    )\n",
    "    gene_module_entrz <- merge(tmp, gene_module, by.x = genetype, by.y = \"gene\")\n",
    "\n",
    "    choose_gene_module_entrz <- gene_module_entrz[gene_module_entrz$module %in% choose_module, ]\n",
    "\n",
    "    ### run go analysis\n",
    "    formula_res <- compareCluster(\n",
    "        ENTREZID ~ module,\n",
    "        data = choose_gene_module_entrz,\n",
    "        fun = \"enrichGO\",\n",
    "        OrgDb = OrgDb,\n",
    "        ont = \"BP\", # One of \"BP\", \"MF\", and \"CC\"  or \"ALL\"\n",
    "        pAdjustMethod = \"BH\",\n",
    "        pvalueCutoff = 0.25,\n",
    "        qvalueCutoff = 0.25\n",
    "    )\n",
    "\n",
    "    ### 精简GO富集的结果,去冗余\n",
    "    lineage1_ego <- simplify(\n",
    "        formula_res,\n",
    "        cutoff = 0.5,\n",
    "        by = \"p.adjust\",\n",
    "        select_fun = min\n",
    "    )\n",
    "    save(gene_module, formula_res, lineage1_ego, file = \"step6_module_GO_term.Rdata\")\n",
    "    write.csv(lineage1_ego@compareClusterResult,\n",
    "        file = \"step6_module_GO_term.csv\"\n",
    "    )\n",
    "    ### 绘制dotplot图\n",
    "    dotp <- dotplot(lineage1_ego,\n",
    "        showCategory = 10,\n",
    "        includeAll = TRUE, # 将有overlap的结果也展示出来\n",
    "        label_format = 90\n",
    "    )\n",
    "    ggsave(dotp,\n",
    "        filename = \"step6_module_GO_term.pdf\", # device = cairo_pdf,\n",
    "        width = 12,\n",
    "        height = 15\n",
    "    )\n",
    "}\n"
   ]
  },
  {
   "cell_type": "markdown",
   "metadata": {},
   "source": [
    "### ⑦ 感兴趣基因模块绘制热图\n",
    "这里选取了与`primed`表型相关度很高的`royalblue`模块绘制热图\n",
    "\n",
    "```R\n",
    "############################### 7.感兴趣基因模块绘制热图 ######################################\n",
    "rm(list = ls())  \n",
    "load(file = 'step1_input.Rdata')\n",
    "load(file = \"step3_genes_modules.Rdata\")\n",
    "table(moduleColors)\n",
    "\n",
    "module = \"royalblue\"\n",
    "### 感兴趣模块画热图 \n",
    "if(T){\n",
    "  dat=datExpr[,moduleColors==module]\n",
    "  library(pheatmap)\n",
    "  n=t(scale(dat)) #对基因做scale，并转置表达矩阵为行为基因、列为样本形式\n",
    "  # n[n>2]=2 \n",
    "  # n[n< -2]= -2\n",
    "  # n[1:4,1:4]\n",
    "\n",
    "  group_list=datTraits$group\n",
    "  ac=data.frame(g=group_list)\n",
    "  rownames(ac)=colnames(n)\n",
    "\n",
    "  pheatmap::pheatmap(n,\n",
    "                     fontsize = 8,\n",
    "                     show_colnames =T,\n",
    "                     show_rownames = F,\n",
    "                     cluster_cols = T,\n",
    "                     annotation_col =ac,\n",
    "                     width = 8,\n",
    "                     height = 6,\n",
    "                     angle_col=45,\n",
    "                     main = paste0(\"module_\",module,\"-gene heatmap\"),\n",
    "                     filename = paste0(\"step7_module_\",module,\"_Gene-heatmap.pdf\"))\n",
    "\n",
    "}\n",
    "\n",
    "```\n",
    "\n",
    "<image src=\"../image/65.png\">"
   ]
  },
  {
   "cell_type": "code",
   "execution_count": null,
   "metadata": {
    "vscode": {
     "languageId": "r"
    }
   },
   "outputs": [],
   "source": [
    "############################### 7.感兴趣基因模块绘制热图 ######################################\n",
    "rm(list = ls())\n",
    "load(file = \"step1_input.Rdata\")\n",
    "load(file = \"step3_genes_modules.Rdata\")\n",
    "table(moduleColors)\n",
    "\n",
    "module <- \"royalblue\"\n",
    "### 感兴趣模块画热图\n",
    "if (T) {\n",
    "    dat <- datExpr[, moduleColors == module]\n",
    "    library(pheatmap)\n",
    "    n <- t(scale(dat)) # 对基因做scale，并转置表达矩阵为行为基因、列为样本形式\n",
    "    # n[n>2]=2\n",
    "    # n[n< -2]= -2\n",
    "    # n[1:4,1:4]\n",
    "\n",
    "    group_list <- datTraits$group\n",
    "    ac <- data.frame(g = group_list)\n",
    "    rownames(ac) <- colnames(n)\n",
    "\n",
    "    pheatmap::pheatmap(n,\n",
    "        fontsize = 8,\n",
    "        show_colnames = T,\n",
    "        show_rownames = F,\n",
    "        cluster_cols = T,\n",
    "        annotation_col = ac,\n",
    "        width = 8,\n",
    "        height = 6,\n",
    "        angle_col = 45,\n",
    "        main = paste0(\"module_\", module, \"-gene heatmap\"),\n",
    "        filename = paste0(\"step7_module_\", module, \"_Gene-heatmap.pdf\")\n",
    "    )\n",
    "}\n"
   ]
  },
  {
   "cell_type": "markdown",
   "metadata": {},
   "source": [
    "### ⑧ 导出基因至 VisANT 或 cytoscape\n",
    "将感兴趣模块 \"royalblue\"的基因导出 VisANT或cytoscape，cytoscape作图请参阅RNA-seq入门实战（十）：[PPI蛋白互作网络构建（下）——Cytoscape软件的使用](https://link.zhihu.com/?target=https%3A//www.jianshu.com/p/0ccc47ed9506)\n",
    "\n",
    "```R\n",
    "################### 8.感兴趣模块基因导出 VisANT or cytoscape ######################\n",
    "rm(list = ls())  \n",
    "load(file = 'step1_input.Rdata')\n",
    "load(file = \"step2_power_value.Rdata\")\n",
    "load(file = \"step3_genes_modules.Rdata\")\n",
    "module = \"royalblue\"\n",
    "if(T){\n",
    "  ### 提取感兴趣模块基因名\n",
    "  gene <- colnames(datExpr) \n",
    "  inModule <- moduleColors==module\n",
    "  modgene <- gene[inModule]\n",
    "\n",
    "  ### 模块对应的基因关系矩阵\n",
    "  TOM <- TOMsimilarityFromExpr(datExpr,power=power)\n",
    "  modTOM <- TOM[inModule,inModule]\n",
    "  dimnames(modTOM) <- list(modgene,modgene)\n",
    "\n",
    "   ### 筛选连接度最大的top100基因\n",
    "  nTop = 100\n",
    "  IMConn = softConnectivity(datExpr[, modgene]) #计算连接度\n",
    "  top = (rank(-IMConn) <= nTop) #选取连接度最大的top100\n",
    "  filter_modTOM <- modTOM[top, top]\n",
    "\n",
    "  # for visANT\n",
    "  vis <- exportNetworkToVisANT(filter_modTOM,\n",
    "                               file = paste(\"step8_visANTinput-\",module,\".txt\",sep = \"\"),\n",
    "                               weighted = T,threshold = 0)\n",
    "  # for cytoscape\n",
    "  cyt <- exportNetworkToCytoscape(filter_modTOM,\n",
    "                                 edgeFile = paste(\"step8_CytoscapeInput-edges-\", paste(module, collapse=\"-\"), \".txt\", sep=\"\"),\n",
    "                                 nodeFile = paste(\"step8_CytoscapeInput-nodes-\", paste(module, collapse=\"-\"), \".txt\", sep=\"\"),\n",
    "                                 weighted = TRUE,\n",
    "                                 threshold = 0.15,  #weighted权重筛选阈值，可调整\n",
    "                                 nodeNames = modgene[top], \n",
    "                                 nodeAttr = moduleColors[inModule][top])\n",
    "}\n",
    "```\n",
    "\n"
   ]
  },
  {
   "cell_type": "code",
   "execution_count": null,
   "metadata": {
    "vscode": {
     "languageId": "r"
    }
   },
   "outputs": [],
   "source": [
    "################### 8.感兴趣模块基因导出 VisANT or cytoscape ######################\n",
    "rm(list = ls())\n",
    "load(file = \"step1_input.Rdata\")\n",
    "load(file = \"step2_power_value.Rdata\")\n",
    "load(file = \"step3_genes_modules.Rdata\")\n",
    "module <- \"royalblue\"\n",
    "if (T) {\n",
    "    ### 提取感兴趣模块基因名\n",
    "    gene <- colnames(datExpr)\n",
    "    inModule <- moduleColors == module\n",
    "    modgene <- gene[inModule]\n",
    "\n",
    "    ### 模块对应的基因关系矩阵\n",
    "    TOM <- TOMsimilarityFromExpr(datExpr, power = power)\n",
    "    modTOM <- TOM[inModule, inModule]\n",
    "    dimnames(modTOM) <- list(modgene, modgene)\n",
    "\n",
    "    ### 筛选连接度最大的top100基因\n",
    "    nTop <- 100\n",
    "    IMConn <- softConnectivity(datExpr[, modgene]) # 计算连接度\n",
    "    top <- (rank(-IMConn) <= nTop) # 选取连接度最大的top100\n",
    "    filter_modTOM <- modTOM[top, top]\n",
    "\n",
    "    # for visANT\n",
    "    vis <- exportNetworkToVisANT(filter_modTOM,\n",
    "        file = paste(\"step8_visANTinput-\", module, \".txt\", sep = \"\"),\n",
    "        weighted = T, threshold = 0\n",
    "    )\n",
    "    # for cytoscape\n",
    "    cyt <- exportNetworkToCytoscape(filter_modTOM,\n",
    "        edgeFile = paste(\"step8_CytoscapeInput-edges-\", paste(module, collapse = \"-\"), \".txt\", sep = \"\"),\n",
    "        nodeFile = paste(\"step8_CytoscapeInput-nodes-\", paste(module, collapse = \"-\"), \".txt\", sep = \"\"),\n",
    "        weighted = TRUE,\n",
    "        threshold = 0.15, # weighted权重筛选阈值，可调整\n",
    "        nodeNames = modgene[top],\n",
    "        nodeAttr = moduleColors[inModule][top]\n",
    "    )\n",
    "}\n"
   ]
  },
  {
   "cell_type": "markdown",
   "metadata": {},
   "source": [
    "将文件导入cytoscape后，可作图如下：\n",
    "\n",
    "<image src=\"../image/66.png\">"
   ]
  },
  {
   "cell_type": "markdown",
   "metadata": {},
   "source": []
  }
 ],
 "metadata": {
  "kernelspec": {
   "display_name": "R",
   "language": "R",
   "name": "ir"
  },
  "language_info": {
   "codemirror_mode": "r",
   "file_extension": ".r",
   "mimetype": "text/x-r-source",
   "name": "R",
   "pygments_lexer": "r",
   "version": "4.4.0"
  }
 },
 "nbformat": 4,
 "nbformat_minor": 2
}
