{
 "cells": [
  {
   "cell_type": "markdown",
   "metadata": {},
   "source": [
    "# GO、KEGG富集分析与enrichplot超全可视化攻略\n",
    "\n",
    "> 1. 获取DEG结果的上下调差异基因\n",
    "> 2. bitr()函数转化基因名为entrez ID\n",
    "> 3. 利用clusterProfiler进行KEGG与GO富集\n",
    "> 4. 用enrichplot进行富集结果可视化：pathview goplot barplot dotplot cnetplot emapplot treeplot heatplot upsetplot\n",
    "\n",
    "一下介绍用差异基因进行GO、KEGG富集分析与enrichplot可视化"
   ]
  },
  {
   "cell_type": "markdown",
   "metadata": {
    "vscode": {
     "languageId": "r"
    }
   },
   "source": [
    "## 1. 获取DEG结果的上下调差异基因\n",
    "载入上节[RNA-seq入门的简单实战（五）](https://link.zhihu.com/?target=https%3A//www.jianshu.com/p/9a44614da397)中保存的三种差异分析结果数据，这里示范选取DESeq2的结果数据，进行筛选条件设置后获取上下调基因名\n",
    "\n",
    "```R\n",
    "rm(list=ls())\n",
    "options(stringsAsFactors = F) \n",
    "library(clusterProfiler)\n",
    "library(enrichplot)\n",
    "library(tidyverse)\n",
    "library(ggstatsplot)\n",
    "library(ggnewscale)\n",
    "# library(org.Hs.eg.db)\n",
    "library(org.Mm.eg.db)\n",
    "library(DOSE)\n",
    "library(pathview)  #BiocManager::install(\"pathview\",ask = F,update = F)\n",
    "\n",
    "##数据载入和目录设置\n",
    "setwd(\"C:/Users/Lenovo/Desktop/test\")\n",
    "load(file = '1.counts.Rdata')\n",
    "load(list.files(path = \"./3.DEG\",pattern = 'DEG_results.Rdata',full.names = T))\n",
    "dir.create(\"4.Enrichment_KEGG_GO\")\n",
    "setwd(\"4.Enrichment_KEGG_GO\")\n",
    "\n",
    "#####  筛选条件设置 #######\n",
    "log2FC_cutoff = log2(10)\n",
    "pvalue_cutoff = 0.001\n",
    "padj_cutoff = 0.001\n",
    "\n",
    "####获取DEG结果的上下调基因 ####\n",
    "#DEG_DESeq2[,c(2,5,6)]  DEG_limma_voom[,c(1,4,5)] DEG_edgeR[,c(1,4,5)] \n",
    "need_DEG <- DEG_DESeq2[,c(2,5,6)]  \n",
    "head(need_DEG)\n",
    "colnames(need_DEG) <- c('log2FoldChange','pvalue','padj')\n",
    "\n",
    "gene_up=rownames(need_DEG[with(need_DEG,log2FoldChange > log2FC_cutoff & pvalue<pvalue_cutoff & padj<padj_cutoff),])\n",
    "gene_down=rownames(need_DEG[with(need_DEG,log2FoldChange < -log2FC_cutoff & pvalue<pvalue_cutoff & padj<padj_cutoff),])\n",
    "\n",
    "```"
   ]
  },
  {
   "cell_type": "code",
   "execution_count": 1,
   "metadata": {
    "vscode": {
     "languageId": "r"
    }
   },
   "outputs": [
    {
     "name": "stderr",
     "output_type": "stream",
     "text": [
      "\n",
      "\n",
      "clusterProfiler v4.12.6 Learn more at https://yulab-smu.top/contribution-knowledge-mining/\n",
      "\n",
      "Please cite:\n",
      "\n",
      "Guangchuang Yu, Li-Gen Wang, Yanyan Han and Qing-Yu He.\n",
      "clusterProfiler: an R package for comparing biological themes among\n",
      "gene clusters. OMICS: A Journal of Integrative Biology. 2012,\n",
      "16(5):284-287\n",
      "\n",
      "\n",
      "Attaching package: ‘clusterProfiler’\n",
      "\n",
      "\n",
      "The following object is masked from ‘package:stats’:\n",
      "\n",
      "    filter\n",
      "\n",
      "\n",
      "Warning message:\n",
      "“package ‘tidyverse’ was built under R version 4.4.1”\n",
      "Warning message:\n",
      "“package ‘tibble’ was built under R version 4.4.1”\n",
      "Warning message:\n",
      "“package ‘tidyr’ was built under R version 4.4.1”\n",
      "Warning message:\n",
      "“package ‘readr’ was built under R version 4.4.1”\n",
      "Warning message:\n",
      "“package ‘purrr’ was built under R version 4.4.1”\n",
      "Warning message:\n",
      "“package ‘dplyr’ was built under R version 4.4.1”\n",
      "Warning message:\n",
      "“package ‘stringr’ was built under R version 4.4.1”\n",
      "Warning message:\n",
      "“package ‘lubridate’ was built under R version 4.4.1”\n",
      "── \u001b[1mAttaching core tidyverse packages\u001b[22m ──────────────────────── tidyverse 2.0.0 ──\n",
      "\u001b[32m✔\u001b[39m \u001b[34mdplyr    \u001b[39m 1.1.4     \u001b[32m✔\u001b[39m \u001b[34mreadr    \u001b[39m 2.1.5\n",
      "\u001b[32m✔\u001b[39m \u001b[34mforcats  \u001b[39m 1.0.0     \u001b[32m✔\u001b[39m \u001b[34mstringr  \u001b[39m 1.5.1\n",
      "\u001b[32m✔\u001b[39m \u001b[34mggplot2  \u001b[39m 3.5.1     \u001b[32m✔\u001b[39m \u001b[34mtibble   \u001b[39m 3.2.1\n",
      "\u001b[32m✔\u001b[39m \u001b[34mlubridate\u001b[39m 1.9.3     \u001b[32m✔\u001b[39m \u001b[34mtidyr    \u001b[39m 1.3.1\n",
      "\u001b[32m✔\u001b[39m \u001b[34mpurrr    \u001b[39m 1.0.2     \n",
      "── \u001b[1mConflicts\u001b[22m ────────────────────────────────────────── tidyverse_conflicts() ──\n",
      "\u001b[31m✖\u001b[39m \u001b[34mdplyr\u001b[39m::\u001b[32mfilter()\u001b[39m   masks \u001b[34mclusterProfiler\u001b[39m::filter(), \u001b[34mstats\u001b[39m::filter()\n",
      "\u001b[31m✖\u001b[39m \u001b[34mdplyr\u001b[39m::\u001b[32mlag()\u001b[39m      masks \u001b[34mstats\u001b[39m::lag()\n",
      "\u001b[31m✖\u001b[39m \u001b[34mpurrr\u001b[39m::\u001b[32msimplify()\u001b[39m masks \u001b[34mclusterProfiler\u001b[39m::simplify()\n",
      "\u001b[36mℹ\u001b[39m Use the conflicted package (\u001b[3m\u001b[34m<http://conflicted.r-lib.org/>\u001b[39m\u001b[23m) to force all conflicts to become errors\n",
      "You can cite this package as:\n",
      "     Patil, I. (2021). Visualizations with statistical details: The 'ggstatsplot' approach.\n",
      "     Journal of Open Source Software, 6(61), 3167, doi:10.21105/joss.03167\n",
      "\n",
      "Loading required package: AnnotationDbi\n",
      "\n",
      "Warning message:\n",
      "“package ‘AnnotationDbi’ was built under R version 4.4.1”\n",
      "Loading required package: stats4\n",
      "\n",
      "Loading required package: BiocGenerics\n",
      "\n",
      "Warning message:\n",
      "“package ‘BiocGenerics’ was built under R version 4.4.1”\n",
      "\n",
      "Attaching package: ‘BiocGenerics’\n",
      "\n",
      "\n",
      "The following objects are masked from ‘package:lubridate’:\n",
      "\n",
      "    intersect, setdiff, union\n",
      "\n",
      "\n",
      "The following objects are masked from ‘package:dplyr’:\n",
      "\n",
      "    combine, intersect, setdiff, union\n",
      "\n",
      "\n",
      "The following objects are masked from ‘package:stats’:\n",
      "\n",
      "    IQR, mad, sd, var, xtabs\n",
      "\n",
      "\n",
      "The following objects are masked from ‘package:base’:\n",
      "\n",
      "    anyDuplicated, aperm, append, as.data.frame, basename, cbind,\n",
      "    colnames, dirname, do.call, duplicated, eval, evalq, Filter, Find,\n",
      "    get, grep, grepl, intersect, is.unsorted, lapply, Map, mapply,\n",
      "    match, mget, order, paste, pmax, pmax.int, pmin, pmin.int,\n",
      "    Position, rank, rbind, Reduce, rownames, sapply, setdiff, table,\n",
      "    tapply, union, unique, unsplit, which.max, which.min\n",
      "\n",
      "\n",
      "Loading required package: Biobase\n",
      "\n",
      "Warning message:\n",
      "“package ‘Biobase’ was built under R version 4.4.1”\n",
      "Welcome to Bioconductor\n",
      "\n",
      "    Vignettes contain introductory material; view with\n",
      "    'browseVignettes()'. To cite Bioconductor, see\n",
      "    'citation(\"Biobase\")', and for packages 'citation(\"pkgname\")'.\n",
      "\n",
      "\n",
      "Loading required package: IRanges\n",
      "\n",
      "Warning message:\n",
      "“package ‘IRanges’ was built under R version 4.4.1”\n",
      "Loading required package: S4Vectors\n",
      "\n",
      "Warning message:\n",
      "“package ‘S4Vectors’ was built under R version 4.4.1”\n",
      "\n",
      "Attaching package: ‘S4Vectors’\n",
      "\n",
      "\n",
      "The following objects are masked from ‘package:lubridate’:\n",
      "\n",
      "    second, second<-\n",
      "\n",
      "\n",
      "The following objects are masked from ‘package:dplyr’:\n",
      "\n",
      "    first, rename\n",
      "\n",
      "\n",
      "The following object is masked from ‘package:tidyr’:\n",
      "\n",
      "    expand\n",
      "\n",
      "\n",
      "The following object is masked from ‘package:clusterProfiler’:\n",
      "\n",
      "    rename\n",
      "\n",
      "\n",
      "The following object is masked from ‘package:utils’:\n",
      "\n",
      "    findMatches\n",
      "\n",
      "\n",
      "The following objects are masked from ‘package:base’:\n",
      "\n",
      "    expand.grid, I, unname\n",
      "\n",
      "\n",
      "\n",
      "Attaching package: ‘IRanges’\n",
      "\n",
      "\n",
      "The following object is masked from ‘package:lubridate’:\n",
      "\n",
      "    %within%\n",
      "\n",
      "\n",
      "The following objects are masked from ‘package:dplyr’:\n",
      "\n",
      "    collapse, desc, slice\n",
      "\n",
      "\n",
      "The following object is masked from ‘package:purrr’:\n",
      "\n",
      "    reduce\n",
      "\n",
      "\n",
      "The following object is masked from ‘package:clusterProfiler’:\n",
      "\n",
      "    slice\n",
      "\n",
      "\n",
      "\n",
      "Attaching package: ‘AnnotationDbi’\n",
      "\n",
      "\n",
      "The following object is masked from ‘package:dplyr’:\n",
      "\n",
      "    select\n",
      "\n",
      "\n",
      "The following object is masked from ‘package:clusterProfiler’:\n",
      "\n",
      "    select\n",
      "\n",
      "\n",
      "\n",
      "\n",
      "DOSE v3.30.5  For help: https://yulab-smu.top/biomedical-knowledge-mining-book/\n",
      "\n",
      "If you use DOSE in published research, please cite:\n",
      "Guangchuang Yu, Li-Gen Wang, Guang-Rong Yan, Qing-Yu He. DOSE: an R/Bioconductor package for Disease Ontology Semantic and Enrichment analysis. Bioinformatics 2015, 31(4):608-609\n",
      "\n",
      "\n",
      "\n",
      "\n",
      "##############################################################################\n",
      "Pathview is an open source software package distributed under GNU General\n",
      "Public License version 3 (GPLv3). Details of GPLv3 is available at\n",
      "http://www.gnu.org/licenses/gpl-3.0.html. Particullary, users are required to\n",
      "formally cite the original Pathview paper (not just mention it) in publications\n",
      "or products. For details, do citation(\"pathview\") within R.\n",
      "\n",
      "The pathview downloads and uses KEGG data. Non-academic uses may require a KEGG\n",
      "license agreement (details at http://www.kegg.jp/kegg/legal.html).\n",
      "##############################################################################\n",
      "\n"
     ]
    }
   ],
   "source": [
    "rm(list = ls())\n",
    "options(stringsAsFactors = F)\n",
    "library(clusterProfiler)\n",
    "library(enrichplot)\n",
    "library(tidyverse)\n",
    "library(ggstatsplot)\n",
    "library(ggnewscale)\n",
    "# library(org.Hs.eg.db)\n",
    "library(org.Mm.eg.db)\n",
    "library(DOSE)\n",
    "library(pathview) # BiocManager::install(\"pathview\",ask = F,update = F)\n"
   ]
  },
  {
   "cell_type": "code",
   "execution_count": 2,
   "metadata": {
    "vscode": {
     "languageId": "r"
    }
   },
   "outputs": [
    {
     "name": "stderr",
     "output_type": "stream",
     "text": [
      "Warning message in dir.create(\"4.Enrichment_KEGG_GO\"):\n",
      "“'4.Enrichment_KEGG_GO' already exists”\n"
     ]
    }
   ],
   "source": [
    "## 数据载入和目录设置\n",
    "setwd(\"/slurm/home/admin/nlp/DL/97-bioinformatics/gene_process_for_python/data/salmon\")\n",
    "load(file = \"1.counts.Rdata\")\n",
    "load(list.files(\n",
    "    path = \"./3.DEG\",\n",
    "    pattern = \"test_DEG_results.Rdata\",\n",
    "    full.names = T\n",
    "))\n",
    "dir.create(\"4.Enrichment_KEGG_GO\")\n",
    "setwd(\"4.Enrichment_KEGG_GO\")\n"
   ]
  },
  {
   "cell_type": "code",
   "execution_count": 3,
   "metadata": {
    "vscode": {
     "languageId": "r"
    }
   },
   "outputs": [
    {
     "data": {
      "text/html": [
       "<style>\n",
       ".list-inline {list-style: none; margin:0; padding: 0}\n",
       ".list-inline>li {display: inline-block}\n",
       ".list-inline>li:not(:last-child)::after {content: \"\\00b7\"; padding: 0 .5ex}\n",
       "</style>\n",
       "<ol class=list-inline><li>'counts'</li><li>'counts_raw'</li><li>'DEG_DEseq2'</li><li>'DEG_edgeR'</li><li>'DEG_limma_voom'</li><li>'gl'</li><li>'group_list'</li><li>'tpm'</li><li>'txi'</li></ol>\n"
      ],
      "text/latex": [
       "\\begin{enumerate*}\n",
       "\\item 'counts'\n",
       "\\item 'counts\\_raw'\n",
       "\\item 'DEG\\_DEseq2'\n",
       "\\item 'DEG\\_edgeR'\n",
       "\\item 'DEG\\_limma\\_voom'\n",
       "\\item 'gl'\n",
       "\\item 'group\\_list'\n",
       "\\item 'tpm'\n",
       "\\item 'txi'\n",
       "\\end{enumerate*}\n"
      ],
      "text/markdown": [
       "1. 'counts'\n",
       "2. 'counts_raw'\n",
       "3. 'DEG_DEseq2'\n",
       "4. 'DEG_edgeR'\n",
       "5. 'DEG_limma_voom'\n",
       "6. 'gl'\n",
       "7. 'group_list'\n",
       "8. 'tpm'\n",
       "9. 'txi'\n",
       "\n",
       "\n"
      ],
      "text/plain": [
       "[1] \"counts\"         \"counts_raw\"     \"DEG_DEseq2\"     \"DEG_edgeR\"     \n",
       "[5] \"DEG_limma_voom\" \"gl\"             \"group_list\"     \"tpm\"           \n",
       "[9] \"txi\"           "
      ]
     },
     "metadata": {},
     "output_type": "display_data"
    }
   ],
   "source": [
    "ls()\n"
   ]
  },
  {
   "cell_type": "code",
   "execution_count": 4,
   "metadata": {
    "vscode": {
     "languageId": "r"
    }
   },
   "outputs": [
    {
     "data": {
      "text/html": [
       "<table class=\"dataframe\">\n",
       "<caption>A data.frame: 6 × 6</caption>\n",
       "<thead>\n",
       "\t<tr><th></th><th scope=col>baseMean</th><th scope=col>log2FoldChange</th><th scope=col>lfcSE</th><th scope=col>stat</th><th scope=col>pvalue</th><th scope=col>padj</th></tr>\n",
       "\t<tr><th></th><th scope=col>&lt;dbl&gt;</th><th scope=col>&lt;dbl&gt;</th><th scope=col>&lt;dbl&gt;</th><th scope=col>&lt;dbl&gt;</th><th scope=col>&lt;dbl&gt;</th><th scope=col>&lt;dbl&gt;</th></tr>\n",
       "</thead>\n",
       "<tbody>\n",
       "\t<tr><th scope=row>Flnc</th><td>3345.676</td><td> 8.986039</td><td>0.3870012</td><td> 23.21967</td><td>2.882235e-119</td><td>4.165695e-115</td></tr>\n",
       "\t<tr><th scope=row>Col1a1</th><td>3767.525</td><td> 9.417875</td><td>0.4067599</td><td> 23.15340</td><td>1.343511e-118</td><td>9.708885e-115</td></tr>\n",
       "\t<tr><th scope=row>Tdh</th><td>8321.303</td><td>-7.761669</td><td>0.3695588</td><td>-21.00253</td><td> 6.218390e-98</td><td> 2.995813e-94</td></tr>\n",
       "\t<tr><th scope=row>Ccnd2</th><td>2290.531</td><td> 9.407858</td><td>0.4507644</td><td> 20.87090</td><td> 9.846209e-97</td><td> 3.557681e-93</td></tr>\n",
       "\t<tr><th scope=row>Col1a2</th><td>2296.689</td><td> 9.564556</td><td>0.4665376</td><td> 20.50115</td><td> 2.102742e-93</td><td> 6.078186e-90</td></tr>\n",
       "\t<tr><th scope=row>Pim2</th><td>6380.677</td><td> 6.261063</td><td>0.3076036</td><td> 20.35432</td><td> 4.250990e-92</td><td> 1.023993e-88</td></tr>\n",
       "</tbody>\n",
       "</table>\n"
      ],
      "text/latex": [
       "A data.frame: 6 × 6\n",
       "\\begin{tabular}{r|llllll}\n",
       "  & baseMean & log2FoldChange & lfcSE & stat & pvalue & padj\\\\\n",
       "  & <dbl> & <dbl> & <dbl> & <dbl> & <dbl> & <dbl>\\\\\n",
       "\\hline\n",
       "\tFlnc & 3345.676 &  8.986039 & 0.3870012 &  23.21967 & 2.882235e-119 & 4.165695e-115\\\\\n",
       "\tCol1a1 & 3767.525 &  9.417875 & 0.4067599 &  23.15340 & 1.343511e-118 & 9.708885e-115\\\\\n",
       "\tTdh & 8321.303 & -7.761669 & 0.3695588 & -21.00253 &  6.218390e-98 &  2.995813e-94\\\\\n",
       "\tCcnd2 & 2290.531 &  9.407858 & 0.4507644 &  20.87090 &  9.846209e-97 &  3.557681e-93\\\\\n",
       "\tCol1a2 & 2296.689 &  9.564556 & 0.4665376 &  20.50115 &  2.102742e-93 &  6.078186e-90\\\\\n",
       "\tPim2 & 6380.677 &  6.261063 & 0.3076036 &  20.35432 &  4.250990e-92 &  1.023993e-88\\\\\n",
       "\\end{tabular}\n"
      ],
      "text/markdown": [
       "\n",
       "A data.frame: 6 × 6\n",
       "\n",
       "| <!--/--> | baseMean &lt;dbl&gt; | log2FoldChange &lt;dbl&gt; | lfcSE &lt;dbl&gt; | stat &lt;dbl&gt; | pvalue &lt;dbl&gt; | padj &lt;dbl&gt; |\n",
       "|---|---|---|---|---|---|---|\n",
       "| Flnc | 3345.676 |  8.986039 | 0.3870012 |  23.21967 | 2.882235e-119 | 4.165695e-115 |\n",
       "| Col1a1 | 3767.525 |  9.417875 | 0.4067599 |  23.15340 | 1.343511e-118 | 9.708885e-115 |\n",
       "| Tdh | 8321.303 | -7.761669 | 0.3695588 | -21.00253 |  6.218390e-98 |  2.995813e-94 |\n",
       "| Ccnd2 | 2290.531 |  9.407858 | 0.4507644 |  20.87090 |  9.846209e-97 |  3.557681e-93 |\n",
       "| Col1a2 | 2296.689 |  9.564556 | 0.4665376 |  20.50115 |  2.102742e-93 |  6.078186e-90 |\n",
       "| Pim2 | 6380.677 |  6.261063 | 0.3076036 |  20.35432 |  4.250990e-92 |  1.023993e-88 |\n",
       "\n"
      ],
      "text/plain": [
       "       baseMean log2FoldChange lfcSE     stat      pvalue        padj         \n",
       "Flnc   3345.676  8.986039      0.3870012  23.21967 2.882235e-119 4.165695e-115\n",
       "Col1a1 3767.525  9.417875      0.4067599  23.15340 1.343511e-118 9.708885e-115\n",
       "Tdh    8321.303 -7.761669      0.3695588 -21.00253  6.218390e-98  2.995813e-94\n",
       "Ccnd2  2290.531  9.407858      0.4507644  20.87090  9.846209e-97  3.557681e-93\n",
       "Col1a2 2296.689  9.564556      0.4665376  20.50115  2.102742e-93  6.078186e-90\n",
       "Pim2   6380.677  6.261063      0.3076036  20.35432  4.250990e-92  1.023993e-88"
      ]
     },
     "metadata": {},
     "output_type": "display_data"
    }
   ],
   "source": [
    "head(DEG_DEseq2)\n"
   ]
  },
  {
   "cell_type": "code",
   "execution_count": 5,
   "metadata": {
    "vscode": {
     "languageId": "r"
    }
   },
   "outputs": [],
   "source": [
    "#####  筛选条件设置 #######\n",
    "log2FC_cutoff <- log2(10)\n",
    "pvalue_cutoff <- 0.001\n",
    "padj_cutoff <- 0.001\n"
   ]
  },
  {
   "cell_type": "code",
   "execution_count": 6,
   "metadata": {
    "vscode": {
     "languageId": "r"
    }
   },
   "outputs": [
    {
     "data": {
      "text/html": [
       "<table class=\"dataframe\">\n",
       "<caption>A data.frame: 6 × 3</caption>\n",
       "<thead>\n",
       "\t<tr><th></th><th scope=col>log2FoldChange</th><th scope=col>pvalue</th><th scope=col>padj</th></tr>\n",
       "\t<tr><th></th><th scope=col>&lt;dbl&gt;</th><th scope=col>&lt;dbl&gt;</th><th scope=col>&lt;dbl&gt;</th></tr>\n",
       "</thead>\n",
       "<tbody>\n",
       "\t<tr><th scope=row>Flnc</th><td> 8.986039</td><td>2.882235e-119</td><td>4.165695e-115</td></tr>\n",
       "\t<tr><th scope=row>Col1a1</th><td> 9.417875</td><td>1.343511e-118</td><td>9.708885e-115</td></tr>\n",
       "\t<tr><th scope=row>Tdh</th><td>-7.761669</td><td> 6.218390e-98</td><td> 2.995813e-94</td></tr>\n",
       "\t<tr><th scope=row>Ccnd2</th><td> 9.407858</td><td> 9.846209e-97</td><td> 3.557681e-93</td></tr>\n",
       "\t<tr><th scope=row>Col1a2</th><td> 9.564556</td><td> 2.102742e-93</td><td> 6.078186e-90</td></tr>\n",
       "\t<tr><th scope=row>Pim2</th><td> 6.261063</td><td> 4.250990e-92</td><td> 1.023993e-88</td></tr>\n",
       "</tbody>\n",
       "</table>\n"
      ],
      "text/latex": [
       "A data.frame: 6 × 3\n",
       "\\begin{tabular}{r|lll}\n",
       "  & log2FoldChange & pvalue & padj\\\\\n",
       "  & <dbl> & <dbl> & <dbl>\\\\\n",
       "\\hline\n",
       "\tFlnc &  8.986039 & 2.882235e-119 & 4.165695e-115\\\\\n",
       "\tCol1a1 &  9.417875 & 1.343511e-118 & 9.708885e-115\\\\\n",
       "\tTdh & -7.761669 &  6.218390e-98 &  2.995813e-94\\\\\n",
       "\tCcnd2 &  9.407858 &  9.846209e-97 &  3.557681e-93\\\\\n",
       "\tCol1a2 &  9.564556 &  2.102742e-93 &  6.078186e-90\\\\\n",
       "\tPim2 &  6.261063 &  4.250990e-92 &  1.023993e-88\\\\\n",
       "\\end{tabular}\n"
      ],
      "text/markdown": [
       "\n",
       "A data.frame: 6 × 3\n",
       "\n",
       "| <!--/--> | log2FoldChange &lt;dbl&gt; | pvalue &lt;dbl&gt; | padj &lt;dbl&gt; |\n",
       "|---|---|---|---|\n",
       "| Flnc |  8.986039 | 2.882235e-119 | 4.165695e-115 |\n",
       "| Col1a1 |  9.417875 | 1.343511e-118 | 9.708885e-115 |\n",
       "| Tdh | -7.761669 |  6.218390e-98 |  2.995813e-94 |\n",
       "| Ccnd2 |  9.407858 |  9.846209e-97 |  3.557681e-93 |\n",
       "| Col1a2 |  9.564556 |  2.102742e-93 |  6.078186e-90 |\n",
       "| Pim2 |  6.261063 |  4.250990e-92 |  1.023993e-88 |\n",
       "\n"
      ],
      "text/plain": [
       "       log2FoldChange pvalue        padj         \n",
       "Flnc    8.986039      2.882235e-119 4.165695e-115\n",
       "Col1a1  9.417875      1.343511e-118 9.708885e-115\n",
       "Tdh    -7.761669       6.218390e-98  2.995813e-94\n",
       "Ccnd2   9.407858       9.846209e-97  3.557681e-93\n",
       "Col1a2  9.564556       2.102742e-93  6.078186e-90\n",
       "Pim2    6.261063       4.250990e-92  1.023993e-88"
      ]
     },
     "metadata": {},
     "output_type": "display_data"
    }
   ],
   "source": [
    "head(DEG_DEseq2[, c(2, 5, 6)])\n"
   ]
  },
  {
   "cell_type": "code",
   "execution_count": 7,
   "metadata": {
    "vscode": {
     "languageId": "r"
    }
   },
   "outputs": [
    {
     "data": {
      "text/html": [
       "<table class=\"dataframe\">\n",
       "<caption>A data.frame: 6 × 3</caption>\n",
       "<thead>\n",
       "\t<tr><th></th><th scope=col>log2FoldChange</th><th scope=col>pvalue</th><th scope=col>padj</th></tr>\n",
       "\t<tr><th></th><th scope=col>&lt;dbl&gt;</th><th scope=col>&lt;dbl&gt;</th><th scope=col>&lt;dbl&gt;</th></tr>\n",
       "</thead>\n",
       "<tbody>\n",
       "\t<tr><th scope=row>Flnc</th><td> 8.986039</td><td>2.882235e-119</td><td>4.165695e-115</td></tr>\n",
       "\t<tr><th scope=row>Col1a1</th><td> 9.417875</td><td>1.343511e-118</td><td>9.708885e-115</td></tr>\n",
       "\t<tr><th scope=row>Tdh</th><td>-7.761669</td><td> 6.218390e-98</td><td> 2.995813e-94</td></tr>\n",
       "\t<tr><th scope=row>Ccnd2</th><td> 9.407858</td><td> 9.846209e-97</td><td> 3.557681e-93</td></tr>\n",
       "\t<tr><th scope=row>Col1a2</th><td> 9.564556</td><td> 2.102742e-93</td><td> 6.078186e-90</td></tr>\n",
       "\t<tr><th scope=row>Pim2</th><td> 6.261063</td><td> 4.250990e-92</td><td> 1.023993e-88</td></tr>\n",
       "</tbody>\n",
       "</table>\n"
      ],
      "text/latex": [
       "A data.frame: 6 × 3\n",
       "\\begin{tabular}{r|lll}\n",
       "  & log2FoldChange & pvalue & padj\\\\\n",
       "  & <dbl> & <dbl> & <dbl>\\\\\n",
       "\\hline\n",
       "\tFlnc &  8.986039 & 2.882235e-119 & 4.165695e-115\\\\\n",
       "\tCol1a1 &  9.417875 & 1.343511e-118 & 9.708885e-115\\\\\n",
       "\tTdh & -7.761669 &  6.218390e-98 &  2.995813e-94\\\\\n",
       "\tCcnd2 &  9.407858 &  9.846209e-97 &  3.557681e-93\\\\\n",
       "\tCol1a2 &  9.564556 &  2.102742e-93 &  6.078186e-90\\\\\n",
       "\tPim2 &  6.261063 &  4.250990e-92 &  1.023993e-88\\\\\n",
       "\\end{tabular}\n"
      ],
      "text/markdown": [
       "\n",
       "A data.frame: 6 × 3\n",
       "\n",
       "| <!--/--> | log2FoldChange &lt;dbl&gt; | pvalue &lt;dbl&gt; | padj &lt;dbl&gt; |\n",
       "|---|---|---|---|\n",
       "| Flnc |  8.986039 | 2.882235e-119 | 4.165695e-115 |\n",
       "| Col1a1 |  9.417875 | 1.343511e-118 | 9.708885e-115 |\n",
       "| Tdh | -7.761669 |  6.218390e-98 |  2.995813e-94 |\n",
       "| Ccnd2 |  9.407858 |  9.846209e-97 |  3.557681e-93 |\n",
       "| Col1a2 |  9.564556 |  2.102742e-93 |  6.078186e-90 |\n",
       "| Pim2 |  6.261063 |  4.250990e-92 |  1.023993e-88 |\n",
       "\n"
      ],
      "text/plain": [
       "       log2FoldChange pvalue        padj         \n",
       "Flnc    8.986039      2.882235e-119 4.165695e-115\n",
       "Col1a1  9.417875      1.343511e-118 9.708885e-115\n",
       "Tdh    -7.761669       6.218390e-98  2.995813e-94\n",
       "Ccnd2   9.407858       9.846209e-97  3.557681e-93\n",
       "Col1a2  9.564556       2.102742e-93  6.078186e-90\n",
       "Pim2    6.261063       4.250990e-92  1.023993e-88"
      ]
     },
     "metadata": {},
     "output_type": "display_data"
    }
   ],
   "source": [
    "#### 获取DEG结果的上下调基因 ####\n",
    "# DEG_DESeq2[,c(2,5,6)]  DEG_limma_voom[,c(1,4,5)] DEG_edgeR[,c(1,4,5)]\n",
    "need_DEG <- DEG_DEseq2[, c(2, 5, 6)]\n",
    "head(need_DEG)\n",
    "colnames(need_DEG) <- c(\n",
    "    \"log2FoldChange\",\n",
    "    \"pvalue\",\n",
    "    \"padj\"\n",
    ")\n",
    "\n",
    "gene_up <- rownames(need_DEG[with(need_DEG, log2FoldChange > log2FC_cutoff & pvalue < pvalue_cutoff & padj < padj_cutoff), ])\n",
    "gene_down <- rownames(need_DEG[with(need_DEG, log2FoldChange < -log2FC_cutoff & pvalue < pvalue_cutoff & padj < padj_cutoff), ])\n"
   ]
  },
  {
   "cell_type": "code",
   "execution_count": 8,
   "metadata": {
    "vscode": {
     "languageId": "r"
    }
   },
   "outputs": [
    {
     "data": {
      "text/html": [
       "<style>\n",
       ".list-inline {list-style: none; margin:0; padding: 0}\n",
       ".list-inline>li {display: inline-block}\n",
       ".list-inline>li:not(:last-child)::after {content: \"\\00b7\"; padding: 0 .5ex}\n",
       "</style>\n",
       "<ol class=list-inline><li>'Flnc'</li><li>'Col1a1'</li><li>'Ccnd2'</li><li>'Col1a2'</li><li>'Pim2'</li><li>'Peg10'</li></ol>\n"
      ],
      "text/latex": [
       "\\begin{enumerate*}\n",
       "\\item 'Flnc'\n",
       "\\item 'Col1a1'\n",
       "\\item 'Ccnd2'\n",
       "\\item 'Col1a2'\n",
       "\\item 'Pim2'\n",
       "\\item 'Peg10'\n",
       "\\end{enumerate*}\n"
      ],
      "text/markdown": [
       "1. 'Flnc'\n",
       "2. 'Col1a1'\n",
       "3. 'Ccnd2'\n",
       "4. 'Col1a2'\n",
       "5. 'Pim2'\n",
       "6. 'Peg10'\n",
       "\n",
       "\n"
      ],
      "text/plain": [
       "[1] \"Flnc\"   \"Col1a1\" \"Ccnd2\"  \"Col1a2\" \"Pim2\"   \"Peg10\" "
      ]
     },
     "metadata": {},
     "output_type": "display_data"
    }
   ],
   "source": [
    "head(gene_up)\n"
   ]
  },
  {
   "cell_type": "code",
   "execution_count": 9,
   "metadata": {
    "vscode": {
     "languageId": "r"
    }
   },
   "outputs": [
    {
     "data": {
      "text/html": [
       "<style>\n",
       ".list-inline {list-style: none; margin:0; padding: 0}\n",
       ".list-inline>li {display: inline-block}\n",
       ".list-inline>li:not(:last-child)::after {content: \"\\00b7\"; padding: 0 .5ex}\n",
       "</style>\n",
       "<ol class=list-inline><li>'Tdh'</li><li>'Rps4l'</li><li>'Esrrb'</li><li>'Tfcp2l1'</li><li>'Tpm3-rs7'</li><li>'Hist1h2ap'</li></ol>\n"
      ],
      "text/latex": [
       "\\begin{enumerate*}\n",
       "\\item 'Tdh'\n",
       "\\item 'Rps4l'\n",
       "\\item 'Esrrb'\n",
       "\\item 'Tfcp2l1'\n",
       "\\item 'Tpm3-rs7'\n",
       "\\item 'Hist1h2ap'\n",
       "\\end{enumerate*}\n"
      ],
      "text/markdown": [
       "1. 'Tdh'\n",
       "2. 'Rps4l'\n",
       "3. 'Esrrb'\n",
       "4. 'Tfcp2l1'\n",
       "5. 'Tpm3-rs7'\n",
       "6. 'Hist1h2ap'\n",
       "\n",
       "\n"
      ],
      "text/plain": [
       "[1] \"Tdh\"       \"Rps4l\"     \"Esrrb\"     \"Tfcp2l1\"   \"Tpm3-rs7\"  \"Hist1h2ap\""
      ]
     },
     "metadata": {},
     "output_type": "display_data"
    }
   ],
   "source": [
    "head(gene_down)\n"
   ]
  },
  {
   "cell_type": "markdown",
   "metadata": {},
   "source": [
    "## 2. 转化基因名为entrez ID\n",
    "在进行差异基因富集分析前，需要先将基因名为`entrez ID`。 转化ID前要载入`org.Hs.eg.db\\org.Mm.eg.db`，其包含着各大主流数据库的数据，如`entrez ID`和`ensembl`等等，使用`keytypes(org.Mm.eg.db)` 可查看所有支持及可转化类型。 一般利用`clusterProfiler`包的`bitr()`函数或者`mapIds()`函数进行转换，用法如下：\n",
    "\n",
    "\n",
    "```R\n",
    "#### 转化基因名为entrez ID ####\n",
    "#org.Hs.eg.db\\org.Mm.eg.db包含着各大主流数据库的数据，如entrez ID和ensembl,\n",
    "#keytypes(org.Hs.eg.db) #查看所有支持及可转化类型 常用 \"ENTREZID\",\"ENSEMBL\",\"SYMBOL\"\n",
    "gene_up_entrez <- as.character(na.omit(bitr(gene_up, #数据集\n",
    "                                            fromType=\"SYMBOL\", #输入格式\n",
    "                                            toType=\"ENTREZID\", # 转为ENTERZID格式\n",
    "                                            OrgDb=\"org.Mm.eg.db\")[,2])) #\"org.Hs.eg.db\" \"org.Mm.eg.db\"\n",
    "gene_down_entrez <- as.character(na.omit(bitr(gene_down, #数据集\n",
    "                                              fromType=\"SYMBOL\", #输入格式\n",
    "                                              toType=\"ENTREZID\", # 转为ENTERZID格式\n",
    "                                              OrgDb=\"org.Mm.eg.db\")[,2])) #\"org.Hs.eg.db\" \"org.Mm.eg.db\"\n",
    "gene_diff_entrez <- unique(c(gene_up_entrez ,gene_down_entrez ))\n",
    "## 或者使用mapIds\n",
    "# gene_up_ENTREZID <- as.character(na.omit(mapIds(x = org.Mm.eg.db,\n",
    "#                                                  keys =  gene_up,\n",
    "#                                                  keytype = \"SYMBOL\",\n",
    "#                                                  column = \"ENTREZID\")))\n",
    "```"
   ]
  },
  {
   "cell_type": "code",
   "execution_count": 11,
   "metadata": {
    "vscode": {
     "languageId": "r"
    }
   },
   "outputs": [
    {
     "name": "stderr",
     "output_type": "stream",
     "text": [
      "'select()' returned 1:1 mapping between keys and columns\n",
      "\n",
      "Warning message in bitr(gene_up, fromType = \"SYMBOL\", toType = \"ENTREZID\", OrgDb = \"org.Mm.eg.db\"):\n",
      "“1.62% of input gene IDs are fail to map...”\n"
     ]
    },
    {
     "data": {
      "text/html": [
       "<style>\n",
       ".list-inline {list-style: none; margin:0; padding: 0}\n",
       ".list-inline>li {display: inline-block}\n",
       ".list-inline>li:not(:last-child)::after {content: \"\\00b7\"; padding: 0 .5ex}\n",
       "</style>\n",
       "<ol class=list-inline><li>'68794'</li><li>'12842'</li><li>'12444'</li><li>'12843'</li><li>'18715'</li><li>'170676'</li></ol>\n"
      ],
      "text/latex": [
       "\\begin{enumerate*}\n",
       "\\item '68794'\n",
       "\\item '12842'\n",
       "\\item '12444'\n",
       "\\item '12843'\n",
       "\\item '18715'\n",
       "\\item '170676'\n",
       "\\end{enumerate*}\n"
      ],
      "text/markdown": [
       "1. '68794'\n",
       "2. '12842'\n",
       "3. '12444'\n",
       "4. '12843'\n",
       "5. '18715'\n",
       "6. '170676'\n",
       "\n",
       "\n"
      ],
      "text/plain": [
       "[1] \"68794\"  \"12842\"  \"12444\"  \"12843\"  \"18715\"  \"170676\""
      ]
     },
     "metadata": {},
     "output_type": "display_data"
    }
   ],
   "source": [
    "head(bitr(gene_up,\n",
    "    fromType = \"SYMBOL\",\n",
    "    toType = \"ENTREZID\",\n",
    "    OrgDb = \"org.Mm.eg.db\"\n",
    ")[, 2])\n"
   ]
  },
  {
   "cell_type": "code",
   "execution_count": 12,
   "metadata": {
    "vscode": {
     "languageId": "r"
    }
   },
   "outputs": [
    {
     "name": "stderr",
     "output_type": "stream",
     "text": [
      "'select()' returned 1:1 mapping between keys and columns\n",
      "\n",
      "Warning message in bitr(gene_up, fromType = \"SYMBOL\", toType = \"ENTREZID\", OrgDb = \"org.Mm.eg.db\"):\n",
      "“1.62% of input gene IDs are fail to map...”\n",
      "'select()' returned 1:1 mapping between keys and columns\n",
      "\n",
      "Warning message in bitr(gene_down, fromType = \"SYMBOL\", toType = \"ENTREZID\", OrgDb = \"org.Mm.eg.db\"):\n",
      "“10.87% of input gene IDs are fail to map...”\n"
     ]
    }
   ],
   "source": [
    "#### 转化基因名为entrez ID ####\n",
    "# org.Hs.eg.db\\org.Mm.eg.db包含着各大主流数据库的数据，如entrez ID和ensembl,\n",
    "# keytypes(org.Hs.eg.db) #查看所有支持及可转化类型 常用 \"ENTREZID\",\"ENSEMBL\",\"SYMBOL\"\n",
    "gene_up_entrez <- as.character(na.omit(bitr(gene_up, # 数据集\n",
    "    fromType = \"SYMBOL\", # 输入格式\n",
    "    toType = \"ENTREZID\", # 转为ENTERZID格式\n",
    "    OrgDb = \"org.Mm.eg.db\"\n",
    ")[, 2])) # \"org.Hs.eg.db\" \"org.Mm.eg.db\"\n",
    "gene_down_entrez <- as.character(na.omit(bitr(gene_down, # 数据集\n",
    "    fromType = \"SYMBOL\", # 输入格式\n",
    "    toType = \"ENTREZID\", # 转为ENTERZID格式\n",
    "    OrgDb = \"org.Mm.eg.db\"\n",
    ")[, 2])) # \"org.Hs.eg.db\" \"org.Mm.eg.db\"\n",
    "gene_diff_entrez <- unique(c(gene_up_entrez, gene_down_entrez))\n",
    "## 或者使用mapIds\n",
    "# gene_up_ENTREZID <- as.character(na.omit(mapIds(x = org.Mm.eg.db,\n",
    "#                                                  keys =  gene_up,\n",
    "#                                                  keytype = \"SYMBOL\",\n",
    "#                                                  column = \"ENTREZID\")))\n"
   ]
  },
  {
   "cell_type": "code",
   "execution_count": 13,
   "metadata": {
    "vscode": {
     "languageId": "r"
    }
   },
   "outputs": [
    {
     "data": {
      "text/html": [
       "<style>\n",
       ".list-inline {list-style: none; margin:0; padding: 0}\n",
       ".list-inline>li {display: inline-block}\n",
       ".list-inline>li:not(:last-child)::after {content: \"\\00b7\"; padding: 0 .5ex}\n",
       "</style>\n",
       "<ol class=list-inline><li>'68794'</li><li>'12842'</li><li>'12444'</li><li>'12843'</li><li>'18715'</li><li>'170676'</li></ol>\n"
      ],
      "text/latex": [
       "\\begin{enumerate*}\n",
       "\\item '68794'\n",
       "\\item '12842'\n",
       "\\item '12444'\n",
       "\\item '12843'\n",
       "\\item '18715'\n",
       "\\item '170676'\n",
       "\\end{enumerate*}\n"
      ],
      "text/markdown": [
       "1. '68794'\n",
       "2. '12842'\n",
       "3. '12444'\n",
       "4. '12843'\n",
       "5. '18715'\n",
       "6. '170676'\n",
       "\n",
       "\n"
      ],
      "text/plain": [
       "[1] \"68794\"  \"12842\"  \"12444\"  \"12843\"  \"18715\"  \"170676\""
      ]
     },
     "metadata": {},
     "output_type": "display_data"
    }
   ],
   "source": [
    "head(gene_diff_entrez)\n"
   ]
  },
  {
   "cell_type": "markdown",
   "metadata": {},
   "source": [
    "## 3. 利用clusterProfiler进行KEGG与GO富集\n",
    "有了上一步所得上下调差异基因的entrez ID，我们就可以利用clusterProfiler包的enrichKEGG()和enrichGO()函数进行富集分析了。在这里仅示范对上调基因进行富集，实际应用中可以将上下调和合并的基因都分别进行富集查看结果。\n",
    "\n",
    "需要注意以下事项：\n",
    "\n",
    "- 函数的参数`pvalueCutoff` 默认为 `0.05`，`qvalueCutoff` 默认为 `0.2`，可根据实际情况自行调整大一些\n",
    "- `enrichGO()`中要设置`OrgDb = \"org.Mm.eg.db\"`；`readable = TRUE`表示将`entrez ID`转化为`gene Symbol`；\n",
    "- `ont` 参数可以选择`\"BP\", \"MF\" \"CC\" 或 \"ALL\"`，表示对细胞组分（cellular component, CC）、分子功能（molecular function, MF）、生物过程（biological process, BP)或全部的基因通路进行富集，可以根据实际需求选择\n",
    "- `enrichKEGG()`要设置`organism = \"mmu\"`，由于其没有readable参数，因此之后还要用DOSE包的setReadable进行转化`entrez ID`为`gene Symbol`\n",
    "\n",
    "```R\n",
    "#### KEGG、GO富集 ####\n",
    "kegg_enrich_results <- enrichKEGG(gene  = gene_up_entrez,\n",
    "                                  organism  = \"mmu\", #物种人类 hsa 小鼠mmu\n",
    "                                  pvalueCutoff = 0.05,\n",
    "                                  qvalueCutoff = 0.2)\n",
    "kk_read <- DOSE::setReadable(kegg_enrich_results, \n",
    "                                         OrgDb=\"org.Mm.eg.db\", \n",
    "                                         keyType='ENTREZID')#ENTREZID to gene Symbol\n",
    "write.csv(kk_read@result,'KEGG_gene_up_enrichresults.csv') \n",
    "save(kegg_enrich_results, file ='KEGG_gene_up_enrichresults.Rdata')\n",
    "\n",
    "go_enrich_results <- enrichGO(gene = gene_up_entrez,\n",
    "                              OrgDb = \"org.Mm.eg.db\",\n",
    "                              ont   = \"ALL\"  ,     #One of \"BP\", \"MF\"  \"CC\"  \"ALL\" \n",
    "                              pvalueCutoff  = 0.05,\n",
    "                              qvalueCutoff  = 0.2,\n",
    "                              readable      = TRUE)\n",
    "write.csv(go_enrich_results@result, 'GO_gene_up_BP_enrichresults.csv') \n",
    "save(go_enrich_results, file ='GO_gene_up_enrichresults.Rdata')\n",
    "\n",
    "```"
   ]
  },
  {
   "cell_type": "code",
   "execution_count": 14,
   "metadata": {
    "vscode": {
     "languageId": "r"
    }
   },
   "outputs": [
    {
     "name": "stderr",
     "output_type": "stream",
     "text": [
      "Reading KEGG annotation online: \"https://rest.kegg.jp/link/mmu/pathway\"...\n",
      "\n",
      "Reading KEGG annotation online: \"https://rest.kegg.jp/list/pathway/mmu\"...\n",
      "\n"
     ]
    }
   ],
   "source": [
    "#### KEGG、GO富集 ####\n",
    "kegg_enrich_results <- enrichKEGG(\n",
    "    gene = gene_up_entrez,\n",
    "    organism = \"mmu\", # 物种人类 hsa 小鼠mmu\n",
    "    pvalueCutoff = 0.05,\n",
    "    qvalueCutoff = 0.2\n",
    ")\n",
    "kk_read <- DOSE::setReadable(kegg_enrich_results,\n",
    "    OrgDb = \"org.Mm.eg.db\",\n",
    "    keyType = \"ENTREZID\"\n",
    ") # ENTREZID to gene Symbol\n",
    "write.csv(kk_read@result, \"KEGG_gene_up_enrichresults.csv\")\n",
    "save(kegg_enrich_results, file = \"KEGG_gene_up_enrichresults.Rdata\")\n",
    "\n",
    "go_enrich_results <- enrichGO(\n",
    "    gene = gene_up_entrez,\n",
    "    OrgDb = \"org.Mm.eg.db\",\n",
    "    ont = \"ALL\", # One of \"BP\", \"MF\"  \"CC\"  \"ALL\"\n",
    "    pvalueCutoff = 0.05,\n",
    "    qvalueCutoff = 0.2,\n",
    "    readable = TRUE\n",
    ")\n",
    "write.csv(go_enrich_results@result, \"GO_gene_up_BP_enrichresults.csv\")\n",
    "save(go_enrich_results, file = \"GO_gene_up_enrichresults.Rdata\")\n"
   ]
  },
  {
   "cell_type": "markdown",
   "metadata": {},
   "source": [
    "## 4. 富集结果可视化：pathview goplot barplot dotplot cnetplot emapplot treeplot heatplot upsetplot\n",
    "在富集到通路后就要进行可视化展示了，参见`clusterprofiler`说明书 `Introduction | Biomedical Knowledge Mining using GOSemSim and clusterProfiler (yulab-smu.top)`，其中enrichplot包可以对富集结果进行超级丰富的可视化。\n",
    "\n",
    "下面就来总结介绍一下clusterprofiler说明书介绍的各种富集结果可视化方法，其中`4.1pathview` 只针对`KEGG`， `4.2goplot`只针对GO结果，其他可视化方法则对两者都通用\n",
    "\n",
    "\n",
    "### 4.1 pathview ——KEGG通路可视化\n",
    "将KEGG通路进行可视化一般有以下三种方法：\n",
    "- 使用函数 `browseKEGG(enrich_results, select_pathway)`进行网页查看相关通路，如\n",
    "\n",
    "```R\n",
    "browseKEGG(kegg_enrich_results, 'mmu04310') #网页查看通路\n",
    "```\n",
    "<image src=\"../image/31.png\">\n",
    "\n",
    "网页版的pathview https://pathview.uncc.edu/guest-home，可以上传数据进行在线可视化\n",
    "<image src=\"../image/32.png\">\n",
    "- pathview包：\n",
    "\n",
    "pathview()函数中需要输入含log2FC信息的gene.data、pathway.id 和species物种信息，会生成含有基因上下调信息的基因通路图。\n",
    "\n",
    "注意函数中有一个重要参数kegg.native ：若TRUE则输出完整gene pathway的png文件，若为FALSE则输出只含输入基因信息的pdf文件 。 参数limit可以对图例color bar范围（即log2FC范围）进行调整。\n",
    "\n",
    "其他参数使用详见官方说明：[pathview.pdf (bioconductor.org)](https://link.zhihu.com/?target=http%3A//bioconductor.org/packages/release/bioc/vignettes/pathview/inst/doc/pathview.pdf)，再推荐一篇简要中文教程：[可视化kegg通路-pathview包 | KeepNotes blog (bioinfo-scrounger.com)](https://link.zhihu.com/?target=https%3A//www.bioinfo-scrounger.com/archives/639/)\n",
    "\n",
    "下面选取富集排名第3（富集结果是按pvalue由小到大排序的）的\"Wnt signaling pathway\" 进行示范。\n",
    "\n",
    "\n",
    "参数kegg.native = T，所得如下：\n",
    "<image src=\"../image/33.png\">\n",
    "\n",
    "\n",
    "参数kegg.native = F，所得如下：\n",
    "<image src=\"../image/34.png\">\n"
   ]
  },
  {
   "cell_type": "code",
   "execution_count": 15,
   "metadata": {
    "vscode": {
     "languageId": "r"
    }
   },
   "outputs": [
    {
     "name": "stderr",
     "output_type": "stream",
     "text": [
      "'select()' returned 1:1 mapping between keys and columns\n",
      "\n",
      "Warning message in bitr(names(genelist), fromType = \"SYMBOL\", toType = \"ENTREZID\", :\n",
      "“4.57% of input gene IDs are fail to map...”\n"
     ]
    },
    {
     "data": {
      "text/html": [
       "<style>\n",
       ".list-inline {list-style: none; margin:0; padding: 0}\n",
       ".list-inline>li {display: inline-block}\n",
       ".list-inline>li:not(:last-child)::after {content: \"\\00b7\"; padding: 0 .5ex}\n",
       "</style>\n",
       "<ol class=list-inline><li>'Cytoskeleton in muscle cells - Mus musculus (house mouse)'</li><li>'ECM-receptor interaction - Mus musculus (house mouse)'</li><li>'Focal adhesion - Mus musculus (house mouse)'</li><li>'PI3K-Akt signaling pathway - Mus musculus (house mouse)'</li><li>'Proteoglycans in cancer - Mus musculus (house mouse)'</li><li>'Rap1 signaling pathway - Mus musculus (house mouse)'</li><li>'Hippo signaling pathway - Mus musculus (house mouse)'</li><li>'AGE-RAGE signaling pathway in diabetic complications - Mus musculus (house mouse)'</li><li>'Wnt signaling pathway - Mus musculus (house mouse)'</li><li>'Relaxin signaling pathway - Mus musculus (house mouse)'</li></ol>\n"
      ],
      "text/latex": [
       "\\begin{enumerate*}\n",
       "\\item 'Cytoskeleton in muscle cells - Mus musculus (house mouse)'\n",
       "\\item 'ECM-receptor interaction - Mus musculus (house mouse)'\n",
       "\\item 'Focal adhesion - Mus musculus (house mouse)'\n",
       "\\item 'PI3K-Akt signaling pathway - Mus musculus (house mouse)'\n",
       "\\item 'Proteoglycans in cancer - Mus musculus (house mouse)'\n",
       "\\item 'Rap1 signaling pathway - Mus musculus (house mouse)'\n",
       "\\item 'Hippo signaling pathway - Mus musculus (house mouse)'\n",
       "\\item 'AGE-RAGE signaling pathway in diabetic complications - Mus musculus (house mouse)'\n",
       "\\item 'Wnt signaling pathway - Mus musculus (house mouse)'\n",
       "\\item 'Relaxin signaling pathway - Mus musculus (house mouse)'\n",
       "\\end{enumerate*}\n"
      ],
      "text/markdown": [
       "1. 'Cytoskeleton in muscle cells - Mus musculus (house mouse)'\n",
       "2. 'ECM-receptor interaction - Mus musculus (house mouse)'\n",
       "3. 'Focal adhesion - Mus musculus (house mouse)'\n",
       "4. 'PI3K-Akt signaling pathway - Mus musculus (house mouse)'\n",
       "5. 'Proteoglycans in cancer - Mus musculus (house mouse)'\n",
       "6. 'Rap1 signaling pathway - Mus musculus (house mouse)'\n",
       "7. 'Hippo signaling pathway - Mus musculus (house mouse)'\n",
       "8. 'AGE-RAGE signaling pathway in diabetic complications - Mus musculus (house mouse)'\n",
       "9. 'Wnt signaling pathway - Mus musculus (house mouse)'\n",
       "10. 'Relaxin signaling pathway - Mus musculus (house mouse)'\n",
       "\n",
       "\n"
      ],
      "text/plain": [
       " [1] \"Cytoskeleton in muscle cells - Mus musculus (house mouse)\"                        \n",
       " [2] \"ECM-receptor interaction - Mus musculus (house mouse)\"                            \n",
       " [3] \"Focal adhesion - Mus musculus (house mouse)\"                                      \n",
       " [4] \"PI3K-Akt signaling pathway - Mus musculus (house mouse)\"                          \n",
       " [5] \"Proteoglycans in cancer - Mus musculus (house mouse)\"                             \n",
       " [6] \"Rap1 signaling pathway - Mus musculus (house mouse)\"                              \n",
       " [7] \"Hippo signaling pathway - Mus musculus (house mouse)\"                             \n",
       " [8] \"AGE-RAGE signaling pathway in diabetic complications - Mus musculus (house mouse)\"\n",
       " [9] \"Wnt signaling pathway - Mus musculus (house mouse)\"                               \n",
       "[10] \"Relaxin signaling pathway - Mus musculus (house mouse)\"                           "
      ]
     },
     "metadata": {},
     "output_type": "display_data"
    }
   ],
   "source": [
    "# 构建含log2FC信息的genelist\n",
    "genelist <- as.numeric(DEG_DEseq2[, 2])\n",
    "names(genelist) <- row.names(DEG_DEseq2)\n",
    "# genelist ID转化\n",
    "genelist_entrez <- genelist\n",
    "names(genelist_entrez) <- bitr(names(genelist),\n",
    "    fromType = \"SYMBOL\", toType = \"ENTREZID\",\n",
    "    OrgDb = \"org.Mm.eg.db\"\n",
    ")[, 2]\n",
    "genelist_entrez <- genelist_entrez[!is.na(names(genelist_entrez))]\n",
    "\n",
    "## 查看与选择所需通路\n",
    "kk_read@result$Description[1:10] # 查看前10通路\n",
    "\n",
    "i <- 3\n",
    "\n",
    "select_pathway <- kk_read@result$ID[i] # 选择所需通路的ID号\n"
   ]
  },
  {
   "cell_type": "code",
   "execution_count": 21,
   "metadata": {
    "vscode": {
     "languageId": "r"
    }
   },
   "outputs": [
    {
     "data": {
      "text/html": [
       "<style>\n",
       ".dl-inline {width: auto; margin:0; padding: 0}\n",
       ".dl-inline>dt, .dl-inline>dd {float: none; width: auto; display: inline-block}\n",
       ".dl-inline>dt::after {content: \":\\0020\"; padding-right: .5ex}\n",
       ".dl-inline>dt:not(:first-of-type) {padding-left: .5ex}\n",
       "</style><dl class=dl-inline><dt>68794</dt><dd>8.98603878647107</dd><dt>12842</dt><dd>9.41787497513386</dd><dt>58865</dt><dd>-7.76166947625082</dd><dt>12444</dt><dd>9.40785842581307</dd><dt>12843</dt><dd>9.56455588451044</dd><dt>18715</dt><dd>6.26106341928107</dd></dl>\n"
      ],
      "text/latex": [
       "\\begin{description*}\n",
       "\\item[68794] 8.98603878647107\n",
       "\\item[12842] 9.41787497513386\n",
       "\\item[58865] -7.76166947625082\n",
       "\\item[12444] 9.40785842581307\n",
       "\\item[12843] 9.56455588451044\n",
       "\\item[18715] 6.26106341928107\n",
       "\\end{description*}\n"
      ],
      "text/markdown": [
       "68794\n",
       ":   8.9860387864710712842\n",
       ":   9.4178749751338658865\n",
       ":   -7.7616694762508212444\n",
       ":   9.4078584258130712843\n",
       ":   9.5645558845104418715\n",
       ":   6.26106341928107\n",
       "\n"
      ],
      "text/plain": [
       "    68794     12842     58865     12444     12843     18715 \n",
       " 8.986039  9.417875 -7.761669  9.407858  9.564556  6.261063 "
      ]
     },
     "metadata": {},
     "output_type": "display_data"
    }
   ],
   "source": [
    "head(genelist_entrez)\n"
   ]
  },
  {
   "cell_type": "code",
   "execution_count": 25,
   "metadata": {
    "vscode": {
     "languageId": "r"
    }
   },
   "outputs": [
    {
     "name": "stderr",
     "output_type": "stream",
     "text": [
      "'select()' returned 1:1 mapping between keys and columns\n",
      "\n",
      "Warning message in readPNG(paste(kegg.dir, \"/\", pathway.name, \".png\", sep = \"\")):\n",
      "“libpng warning: Application built with libpng-1.5.13 but running with 1.6.43”\n"
     ]
    },
    {
     "ename": "ERROR",
     "evalue": "Error in readPNG(paste(kegg.dir, \"/\", pathway.name, \".png\", sep = \"\")): unable to initialize libpng\n",
     "output_type": "error",
     "traceback": [
      "Error in readPNG(paste(kegg.dir, \"/\", pathway.name, \".png\", sep = \"\")): unable to initialize libpng\nTraceback:\n",
      "1. pathview(gene.data = genelist_entrez, pathway.id = select_pathway, \n .     species = \"mmu\", kegg.native = T, new.signature = F, limit = list(gene = 2.5, \n .         cpd = 1))",
      "2. keggview.native(plot.data.gene = plot.data.gene, cols.ts.gene = cols.ts.gene, \n .     plot.data.cpd = plot.data.cpd, cols.ts.cpd = cols.ts.cpd, \n .     node.data = node.data, pathway.name = pathway.name[i], kegg.dir = kegg.dir, \n .     limit = limit, bins = bins, both.dirs = both.dirs, discrete = discrete, \n .     low = low, mid = mid, high = high, na.col = na.col, ...)",
      "3. readPNG(paste(kegg.dir, \"/\", pathway.name, \".png\", sep = \"\"))"
     ]
    }
   ],
   "source": [
    "pathview(\n",
    "    gene.data = genelist_entrez,\n",
    "    pathway.id = select_pathway,\n",
    "    species = \"mmu\", # 人类hsa 小鼠mmu\n",
    "    kegg.native = T, # TRUE输出完整pathway的png文件，F输出基因列表的pdf文件\n",
    "    new.signature = F, # pdf是否显示pathway标注\n",
    "    limit = list(gene = 2.5, cpd = 1) # 图例color bar范围调整\n",
    ")\n"
   ]
  },
  {
   "cell_type": "code",
   "execution_count": 19,
   "metadata": {
    "vscode": {
     "languageId": "r"
    }
   },
   "outputs": [
    {
     "name": "stderr",
     "output_type": "stream",
     "text": [
      "'select()' returned 1:1 mapping between keys and columns\n",
      "\n",
      "Info: Working in directory /slurm/home/admin/nlp/DL/97-bioinformatics/gene_process_for_python/data/salmon/4.Enrichment_KEGG_GO\n",
      "\n",
      "Info: Writing image file mmu04510.pathview.pdf\n",
      "\n"
     ]
    }
   ],
   "source": [
    "pathview(\n",
    "    gene.data = genelist_entrez,\n",
    "    pathway.id = select_pathway,\n",
    "    species = \"mmu\", # 人类hsa 小鼠mmu\n",
    "    kegg.native = F, # TRUE输出完整pathway的png文件，F输出基因列表的pdf文件\n",
    "    new.signature = F, # pdf是否显示pathway标注\n",
    "    limit = list(gene = 2.5, cpd = 1) # 图例color bar范围调整\n",
    ")\n"
   ]
  },
  {
   "cell_type": "markdown",
   "metadata": {},
   "source": [
    "## 4.2 goplot—— GO富集结果的有向无环图 directed acyclic graph\n",
    "注意当enrichGO()的ont为'ALL'时不能运行该图，会报错。以下 goplot展示的是enrichGO()的ont='BP'时的go_enrich_results\n",
    "\n",
    "\n",
    "<image src=\"../image/35.png\">"
   ]
  },
  {
   "cell_type": "code",
   "execution_count": 26,
   "metadata": {
    "vscode": {
     "languageId": "r"
    }
   },
   "outputs": [
    {
     "name": "stdout",
     "output_type": "stream",
     "text": [
      "GOALL.sqlite is not found, download it online...\n"
     ]
    },
    {
     "ename": "ERROR",
     "evalue": "\u001b[1m\u001b[33mError\u001b[39m in `req_perform()`:\u001b[22m\n\u001b[33m!\u001b[39m HTTP 404 Not Found.\n",
     "output_type": "error",
     "traceback": [
      "\u001b[1m\u001b[33mError\u001b[39m in `req_perform()`:\u001b[22m\n\u001b[33m!\u001b[39m HTTP 404 Not Found.\nTraceback:\n",
      "1. goplot(go_enrich_results, showCategory = 10)",
      "2. goplot(go_enrich_results, showCategory = 10)",
      "3. goplot.enrichResult(x, showCategory = showCategory, color = color, \n .     layout = layout, geom = geom, ...)",
      "4. getAncestors(x@ontology)",
      "5. get_onto_data(ont, output = \"list\", \"ancestor\")",
      "6. load_onto(ont)",
      "7. mydownload(url, gzdbfile)",
      "8. req_perform(req, path = destfile)",
      "9. handle_resp(req, resp, error_call = error_call)",
      "10. resp_abort(resp, req, body, call = error_call)",
      "11. abort(c(message, resp_auth_message(resp), info), status = status, \n  .     resp = resp, class = c(glue(\"httr2_http_{status}\"), \"httr2_http\", \n  .         \"httr2_error\"), request = req, call = call)",
      "12. signal_abort(cnd, .file)"
     ]
    }
   ],
   "source": [
    "## goplot : Gene Ontology is organized as a directed acyclic graph.有向无环图\n",
    "gop <- goplot(go_enrich_results, showCategory = 10)\n",
    "ggsave(gop, filename = \"goplot.pdf\", width = 10, height = 10)\n"
   ]
  },
  {
   "cell_type": "markdown",
   "metadata": {},
   "source": [
    "## 4.3 barplot与dotplot——最常用的可视化图形\n",
    "barplot与dotplot展示富集通路的p.adj，generatio，count信息。 如果enrichGO的ont为'ALL'，barplot与dotplot还可以设置使不同ont项目通路分隔开展示\n",
    "\n",
    "<image src=\"../image/36.png\">\n"
   ]
  },
  {
   "cell_type": "code",
   "execution_count": 31,
   "metadata": {
    "vscode": {
     "languageId": "r"
    }
   },
   "outputs": [],
   "source": [
    "### barplot\n",
    "fn <- \"barp\"\n",
    "\n",
    "barp <- barplot(go_enrich_results, font.size = 14, showCategory = 10) +\n",
    "    theme(plot.margin = unit(c(1, 1, 1, 1), \"lines\"))\n",
    "\n",
    "# 如果enrichGO的ont为'ALL'\n",
    "if (F) {\n",
    "    barp <- barplot(go_enrich_results,\n",
    "        split = \"ONTOLOGY\",\n",
    "        font.size = 14\n",
    "    ) +\n",
    "        facet_grid(ONTOLOGY ~ .,\n",
    "            scale = \"free\"\n",
    "        ) +\n",
    "        theme(plot.margin = unit(c(1, 1, 1, 1), \"lines\")) # 调整图形四周留白大小\n",
    "}\n",
    "ggsave(barp,\n",
    "    filename = paste0(fn, \".pdf\"),\n",
    "    width = 10,\n",
    "    height = 10\n",
    ")\n",
    "\n",
    "\n",
    "fn <- \"dotp\"\n",
    "\n",
    "### dotplot\n",
    "dotp <- enrichplot::dotplot(go_enrich_results, font.size = 14) +\n",
    "    theme(\n",
    "        legend.key.size = unit(10, \"pt\"), # 调整图例大小\n",
    "        plot.margin = unit(c(1, 1, 1, 1), \"lines\")\n",
    "    ) # 调整四周留白大小\n",
    "\n",
    "# 如果enrichGO的ont为'ALL'\n",
    "if (F) {\n",
    "    dotp <- enrichplot::dotplot(go_enrich_results,\n",
    "        font.size = 8,\n",
    "        split = \"ONTOLOGY\"\n",
    "    ) +\n",
    "        facet_grid(ONTOLOGY ~ .,\n",
    "            scale = \"free\"\n",
    "        ) +\n",
    "        theme(\n",
    "            legend.key.size = unit(10, \"pt\"), # 调整图例大小\n",
    "            plot.margin = unit(c(1, 1, 1, 1), \"lines\")\n",
    "        ) # 调整四周留白大小\n",
    "}\n",
    "ggsave(dotp, filename = paste0(fn, \".pdf\"), width = 10, height = 10)\n"
   ]
  },
  {
   "cell_type": "markdown",
   "metadata": {},
   "source": [
    "## 4.4 cnetplot——Gene-Concept Network\n",
    "\n",
    "`cnetplot`展示了各通路下的基因网络。绘制`cnetplot`有两种展现方式， 更改参数`circular` 为 F（默认）或T可以分别得到散布状和圈状分布的`cnetplot`；`cnetplot`还可以输入含`log2FC`信息的`genelist` ，会将`log2FC`信息展现在图中\n",
    "\n",
    "<image src=\"../image/37.png\">\n"
   ]
  },
  {
   "cell_type": "code",
   "execution_count": 32,
   "metadata": {
    "vscode": {
     "languageId": "r"
    }
   },
   "outputs": [
    {
     "data": {
      "text/html": [
       "<table class=\"dataframe\">\n",
       "<caption>A data.frame: 6 × 6</caption>\n",
       "<thead>\n",
       "\t<tr><th></th><th scope=col>baseMean</th><th scope=col>log2FoldChange</th><th scope=col>lfcSE</th><th scope=col>stat</th><th scope=col>pvalue</th><th scope=col>padj</th></tr>\n",
       "\t<tr><th></th><th scope=col>&lt;dbl&gt;</th><th scope=col>&lt;dbl&gt;</th><th scope=col>&lt;dbl&gt;</th><th scope=col>&lt;dbl&gt;</th><th scope=col>&lt;dbl&gt;</th><th scope=col>&lt;dbl&gt;</th></tr>\n",
       "</thead>\n",
       "<tbody>\n",
       "\t<tr><th scope=row>Flnc</th><td>3345.676</td><td> 8.986039</td><td>0.3870012</td><td> 23.21967</td><td>2.882235e-119</td><td>4.165695e-115</td></tr>\n",
       "\t<tr><th scope=row>Col1a1</th><td>3767.525</td><td> 9.417875</td><td>0.4067599</td><td> 23.15340</td><td>1.343511e-118</td><td>9.708885e-115</td></tr>\n",
       "\t<tr><th scope=row>Tdh</th><td>8321.303</td><td>-7.761669</td><td>0.3695588</td><td>-21.00253</td><td> 6.218390e-98</td><td> 2.995813e-94</td></tr>\n",
       "\t<tr><th scope=row>Ccnd2</th><td>2290.531</td><td> 9.407858</td><td>0.4507644</td><td> 20.87090</td><td> 9.846209e-97</td><td> 3.557681e-93</td></tr>\n",
       "\t<tr><th scope=row>Col1a2</th><td>2296.689</td><td> 9.564556</td><td>0.4665376</td><td> 20.50115</td><td> 2.102742e-93</td><td> 6.078186e-90</td></tr>\n",
       "\t<tr><th scope=row>Pim2</th><td>6380.677</td><td> 6.261063</td><td>0.3076036</td><td> 20.35432</td><td> 4.250990e-92</td><td> 1.023993e-88</td></tr>\n",
       "</tbody>\n",
       "</table>\n"
      ],
      "text/latex": [
       "A data.frame: 6 × 6\n",
       "\\begin{tabular}{r|llllll}\n",
       "  & baseMean & log2FoldChange & lfcSE & stat & pvalue & padj\\\\\n",
       "  & <dbl> & <dbl> & <dbl> & <dbl> & <dbl> & <dbl>\\\\\n",
       "\\hline\n",
       "\tFlnc & 3345.676 &  8.986039 & 0.3870012 &  23.21967 & 2.882235e-119 & 4.165695e-115\\\\\n",
       "\tCol1a1 & 3767.525 &  9.417875 & 0.4067599 &  23.15340 & 1.343511e-118 & 9.708885e-115\\\\\n",
       "\tTdh & 8321.303 & -7.761669 & 0.3695588 & -21.00253 &  6.218390e-98 &  2.995813e-94\\\\\n",
       "\tCcnd2 & 2290.531 &  9.407858 & 0.4507644 &  20.87090 &  9.846209e-97 &  3.557681e-93\\\\\n",
       "\tCol1a2 & 2296.689 &  9.564556 & 0.4665376 &  20.50115 &  2.102742e-93 &  6.078186e-90\\\\\n",
       "\tPim2 & 6380.677 &  6.261063 & 0.3076036 &  20.35432 &  4.250990e-92 &  1.023993e-88\\\\\n",
       "\\end{tabular}\n"
      ],
      "text/markdown": [
       "\n",
       "A data.frame: 6 × 6\n",
       "\n",
       "| <!--/--> | baseMean &lt;dbl&gt; | log2FoldChange &lt;dbl&gt; | lfcSE &lt;dbl&gt; | stat &lt;dbl&gt; | pvalue &lt;dbl&gt; | padj &lt;dbl&gt; |\n",
       "|---|---|---|---|---|---|---|\n",
       "| Flnc | 3345.676 |  8.986039 | 0.3870012 |  23.21967 | 2.882235e-119 | 4.165695e-115 |\n",
       "| Col1a1 | 3767.525 |  9.417875 | 0.4067599 |  23.15340 | 1.343511e-118 | 9.708885e-115 |\n",
       "| Tdh | 8321.303 | -7.761669 | 0.3695588 | -21.00253 |  6.218390e-98 |  2.995813e-94 |\n",
       "| Ccnd2 | 2290.531 |  9.407858 | 0.4507644 |  20.87090 |  9.846209e-97 |  3.557681e-93 |\n",
       "| Col1a2 | 2296.689 |  9.564556 | 0.4665376 |  20.50115 |  2.102742e-93 |  6.078186e-90 |\n",
       "| Pim2 | 6380.677 |  6.261063 | 0.3076036 |  20.35432 |  4.250990e-92 |  1.023993e-88 |\n",
       "\n"
      ],
      "text/plain": [
       "       baseMean log2FoldChange lfcSE     stat      pvalue        padj         \n",
       "Flnc   3345.676  8.986039      0.3870012  23.21967 2.882235e-119 4.165695e-115\n",
       "Col1a1 3767.525  9.417875      0.4067599  23.15340 1.343511e-118 9.708885e-115\n",
       "Tdh    8321.303 -7.761669      0.3695588 -21.00253  6.218390e-98  2.995813e-94\n",
       "Ccnd2  2290.531  9.407858      0.4507644  20.87090  9.846209e-97  3.557681e-93\n",
       "Col1a2 2296.689  9.564556      0.4665376  20.50115  2.102742e-93  6.078186e-90\n",
       "Pim2   6380.677  6.261063      0.3076036  20.35432  4.250990e-92  1.023993e-88"
      ]
     },
     "metadata": {},
     "output_type": "display_data"
    }
   ],
   "source": [
    "head(DEG_DEseq2)\n"
   ]
  },
  {
   "cell_type": "code",
   "execution_count": 33,
   "metadata": {
    "vscode": {
     "languageId": "r"
    }
   },
   "outputs": [
    {
     "name": "stderr",
     "output_type": "stream",
     "text": [
      "Warning message in cnetplot.enrichResult(x, ...):\n",
      "“Use 'color.params = list(foldChange = your_value)' instead of 'foldChange'.\n",
      " The foldChange parameter will be removed in the next version.”\n",
      "Warning message in cnetplot.enrichResult(x, ...):\n",
      "“Use 'color.params = list(edge = your_value)' instead of 'colorEdge'.\n",
      " The colorEdge parameter will be removed in the next version.”\n",
      "Warning message in cnetplot.enrichResult(x, ...):\n",
      "“Use 'color.params = list(category = your_value)' instead of 'color_category'.\n",
      " The color_category parameter will be removed in the next version.”\n",
      "Warning message in cnetplot.enrichResult(x, ...):\n",
      "“Use 'color.params = list(foldChange = your_value)' instead of 'foldChange'.\n",
      " The foldChange parameter will be removed in the next version.”\n",
      "Warning message in cnetplot.enrichResult(x, ...):\n",
      "“Use 'color.params = list(edge = your_value)' instead of 'colorEdge'.\n",
      " The colorEdge parameter will be removed in the next version.”\n",
      "Warning message:\n",
      "“\u001b[1m\u001b[22mRemoved 6 rows containing missing values or values outside the scale range\n",
      "(`geom_text_repel()`).”\n"
     ]
    }
   ],
   "source": [
    "### cnetplot: Gene-Concept Network\n",
    "# 构建含log2FC信息的genelist\n",
    "genelist <- as.numeric(DEG_DEseq2[, 2])\n",
    "names(genelist) <- row.names(DEG_DEseq2)\n",
    "\n",
    "cnetp1 <- cnetplot(go_enrich_results,\n",
    "    foldChange = genelist,\n",
    "    showCategory = 6,\n",
    "    colorEdge = T,\n",
    "    node_label = \"all\",\n",
    "    color_category = \"steelblue\"\n",
    ")\n",
    "cnetp2 <- cnetplot(go_enrich_results,\n",
    "    foldChange = genelist,\n",
    "    showCategory = 6,\n",
    "    node_label = \"gene\",\n",
    "    circular = T,\n",
    "    colorEdge = T\n",
    ")\n",
    "ggsave(cnetp1, filename = \"cnetplot.pdf\", width = 12, height = 10)\n",
    "ggsave(cnetp2, filename = \"cnetplot_cir.pdf\", width = 15, height = 10)\n"
   ]
  },
  {
   "cell_type": "markdown",
   "metadata": {},
   "source": [
    "## 4.5 emapplot ——Enrichment Map\n",
    "`emapplot`富集图将被富集的术语组织成一个边缘连接重叠基因集的网络，相互重叠的基因集往往会聚集在一起，因此有助于我们识别功能模块。 注意使用`emapplot`前还需要用`pairwise_termsim()`处理富集结果\n",
    "\n",
    "<image src=\"../image/38.png\">"
   ]
  },
  {
   "cell_type": "code",
   "execution_count": 34,
   "metadata": {
    "vscode": {
     "languageId": "r"
    }
   },
   "outputs": [],
   "source": [
    "### emapplot :Enrichment Map\n",
    "pt <- pairwise_termsim(go_enrich_results)\n",
    "emapp <- emapplot(pt,\n",
    "    showCategory = 30,\n",
    "    node_label   = \"category\"\n",
    ") # 'category', 'group', 'all' and 'none'.)\n",
    "ggsave(emapp,\n",
    "    filename = \"emapplot.pdf\",\n",
    "    width = 10,\n",
    "    height = 10\n",
    ")\n"
   ]
  },
  {
   "cell_type": "markdown",
   "metadata": {},
   "source": [
    "## 4.6 heatplot: Heatmap-like functional classification\n",
    "与`cnetplot`展示内容类似，但是将不同富集通路的相同基因聚在了一起，有助于我们更好识别基因模块\n",
    "\n",
    "<image src=\"../image/39.png\">"
   ]
  },
  {
   "cell_type": "code",
   "execution_count": 35,
   "metadata": {
    "vscode": {
     "languageId": "r"
    }
   },
   "outputs": [],
   "source": [
    "## heatplot: Heatmap-like functional classification\n",
    "# 构建含log2FC信息的genelist\n",
    "genelist <- as.numeric(DEG_DEseq2[, 2])\n",
    "names(genelist) <- row.names(DEG_DEseq2)\n",
    "\n",
    "heatp <- heatplot(go_enrich_results,\n",
    "    foldChange = genelist,\n",
    "    showCategory = 5\n",
    ")\n",
    "ggsave(heatp,\n",
    "    filename = \"heatplot.pdf\",\n",
    "    width = 20,\n",
    "    height = 10\n",
    ")\n"
   ]
  },
  {
   "cell_type": "markdown",
   "metadata": {},
   "source": [
    "## 4.7 upsetplot——不同富集通路间的重叠基因数量\n",
    "`upsetplot`展示不同富集通路间的重叠基因数量。\n",
    "\n",
    "<image src=\"../image/40.png\">"
   ]
  },
  {
   "cell_type": "code",
   "execution_count": 41,
   "metadata": {
    "vscode": {
     "languageId": "r"
    }
   },
   "outputs": [],
   "source": [
    "## upsetplot  # emphasizes the gene overlapping among different gene sets\n",
    "upsetp <- upsetplot(go_enrich_results,\n",
    "    n = 10\n",
    ") +\n",
    "    theme(plot.margin = unit(\n",
    "        c(1, 1, 1, 1),\n",
    "        \"lines\"\n",
    "    )) # 调整图形四周留白大小\n",
    "\n",
    "\n",
    "ggsave(upsetp,\n",
    "    filename = \"upsetplot.pdf\",\n",
    "    width = 15,\n",
    "    height = 10\n",
    ")\n"
   ]
  },
  {
   "cell_type": "markdown",
   "metadata": {},
   "source": [
    "## 4.7 treeplot——集结果术语的层次聚类与高频词标记\n",
    "`treeplot`对富集结果术语进行层次聚类, 并使用高频词标记，有助于我们从繁多的富集结果中快速提取有用关键信息。 使用 `treeplot`也需要用`pairwise_termsim()`处理富集结果。\n",
    "\n",
    "<image src=\"../image/41.png\">"
   ]
  },
  {
   "cell_type": "code",
   "execution_count": 42,
   "metadata": {
    "vscode": {
     "languageId": "r"
    }
   },
   "outputs": [],
   "source": [
    "## Tree plot  #\n",
    "pt <- pairwise_termsim(go_enrich_results)\n",
    "treep <- treeplot(pt,\n",
    "    showCategory = 30\n",
    ")\n",
    "ggsave(treep,\n",
    "    filename = \"treeplot.pdf\",\n",
    "    width = 18,\n",
    "    height = 10\n",
    ")\n"
   ]
  },
  {
   "cell_type": "markdown",
   "metadata": {},
   "source": [
    "> GO、KEGG富集与可视化到此就结束啦 如果所得显著差异基因很少，或无法富集到有生物学意义的通路时又该怎么办呢，下节将介绍一种不依赖于差异基因筛选的富集分析方法——GSEA ( • ̀ω•́ )✧"
   ]
  },
  {
   "cell_type": "code",
   "execution_count": null,
   "metadata": {
    "vscode": {
     "languageId": "r"
    }
   },
   "outputs": [],
   "source": []
  }
 ],
 "metadata": {
  "kernelspec": {
   "display_name": "R",
   "language": "R",
   "name": "ir"
  },
  "language_info": {
   "codemirror_mode": "r",
   "file_extension": ".r",
   "mimetype": "text/x-r-source",
   "name": "R",
   "pygments_lexer": "r",
   "version": "4.4.0"
  }
 },
 "nbformat": 4,
 "nbformat_minor": 2
}
