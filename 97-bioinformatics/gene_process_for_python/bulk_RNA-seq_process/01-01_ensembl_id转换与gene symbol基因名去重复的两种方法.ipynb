{
 "cells": [
  {
   "cell_type": "markdown",
   "metadata": {},
   "source": [
    "# ensembl_id转换与gene symbol基因名去重复的两种方法\n",
    "在RNA-seq下游分析中经常遇到需要将基因表达矩阵行名的ensembl_id ( gene_id ) 转换为gene symbol ( gene_name )的情况，而在转换时经常会出现多个ensembl_id对应与一个gene symbol的情形，此时就出现了重复的gene symbol。 重复的gene symbol当然是不能作为基因表达矩阵行名的，此时就需要我们去除重复的gene symbol。\n",
    "\n",
    "gene symbol去重复有一般有两种思路：\n",
    "> 1.只保留平均表达量最高的gene symbol                \n",
    "> 2. 合并所有gene symbol（基因表达量进行加和或者取平均）"
   ]
  },
  {
   "cell_type": "markdown",
   "metadata": {},
   "source": [
    "## 一、获取ensembl_id与gene symbol的对应文件\n",
    "首先需要得到所需的gtf文件（最好是上游基因计数时所用文件）\n",
    "一般在gencode下载GENCODE - [The Mouse GENCODE Release History](https://link.zhihu.com/?target=https%3A//www.gencodegenes.org/mouse/releases.html)，本次示例选取小鼠mm10（grcm38）基因组版本，因此选取GENCODE 对应版本M25，选择regions为ALL的GTF文件进行下载即可\n"
   ]
  },
  {
   "cell_type": "markdown",
   "metadata": {
    "vscode": {
     "languageId": "r"
    }
   },
   "source": [
    "## 解压"
   ]
  },
  {
   "cell_type": "code",
   "execution_count": null,
   "metadata": {
    "vscode": {
     "languageId": "r"
    }
   },
   "outputs": [],
   "source": [
    "!gunzip gencode.vM25.chr_patch_hapl_scaff.annotation.gtf.gz"
   ]
  },
  {
   "cell_type": "markdown",
   "metadata": {},
   "source": [
    "## 提取基因符号\n",
    "- 接着需要提取gtf文件中`ensembl_id(gene_id)`和`gene symbol(gene_name)`的对应关系\n",
    "- 此步在linux或者R中操作都可以，个人比较喜欢用linux命令，因此示范一下在linux中的操作，最后会得到`g2s_vm25_gencode.txt`文件"
   ]
  },
  {
   "cell_type": "markdown",
   "metadata": {},
   "source": [
    "`vim gtf_geneid2symbol_gencode.sh  `\n",
    "以下为.sh文件内容  \n",
    "```shell\n",
    "gtf=\"gencode.vM25.chr_patch_hapl_scaff.annotation.gtf\"\n",
    "### gene_id to gene_name\n",
    "grep 'gene_id' $gtf | awk -F 'gene_id \\\"' '{print $2}' |awk -F '\\\"' '{print $1}' >gene_id_tmp\n",
    "grep 'gene_id' $gtf | awk -F 'gene_name \\\"' '{print $2}' |awk -F '\\\"' '{print $1}' >gene_name_tmp\n",
    "paste gene_id_tmp gene_name_tmp >last_tmp\n",
    "uniq last_tmp >g2s_vm25_gencode.txt\n",
    "rm *_tmp\n",
    "\n",
    "```\n",
    "\n",
    "`bash gtf_geneid2symbol_gencode.sh`"
   ]
  },
  {
   "cell_type": "markdown",
   "metadata": {},
   "source": [
    "## 取最高表达量的一个重复gene symbol ( 较繁琐，不全面，不推荐 )\n",
    "整体思路：\n",
    "\n",
    "- 构建包含ensembl_id、gene symbol和基因表达中位数的ids对象\n",
    "- 将gene symbol按照基因表达从大到小排列\n",
    "- 去重复gene symbol行\n",
    "- 根据ids的行名保留表达矩阵并将行名转为gene symbol"
   ]
  },
  {
   "cell_type": "code",
   "execution_count": 2,
   "metadata": {
    "vscode": {
     "languageId": "r"
    }
   },
   "outputs": [
    {
     "name": "stderr",
     "output_type": "stream",
     "text": [
      "── \u001b[1mAttaching core tidyverse packages\u001b[22m ──────────────────────── tidyverse 2.0.0 ──\n",
      "\u001b[32m✔\u001b[39m \u001b[34mdplyr    \u001b[39m 1.1.4     \u001b[32m✔\u001b[39m \u001b[34mreadr    \u001b[39m 2.1.5\n",
      "\u001b[32m✔\u001b[39m \u001b[34mforcats  \u001b[39m 1.0.0     \u001b[32m✔\u001b[39m \u001b[34mstringr  \u001b[39m 1.5.1\n",
      "\u001b[32m✔\u001b[39m \u001b[34mggplot2  \u001b[39m 3.5.1     \u001b[32m✔\u001b[39m \u001b[34mtibble   \u001b[39m 3.2.1\n",
      "\u001b[32m✔\u001b[39m \u001b[34mlubridate\u001b[39m 1.9.3     \u001b[32m✔\u001b[39m \u001b[34mtidyr    \u001b[39m 1.3.1\n",
      "\u001b[32m✔\u001b[39m \u001b[34mpurrr    \u001b[39m 1.0.2     \n",
      "── \u001b[1mConflicts\u001b[22m ────────────────────────────────────────── tidyverse_conflicts() ──\n",
      "\u001b[31m✖\u001b[39m \u001b[34mdplyr\u001b[39m::\u001b[32mfilter()\u001b[39m masks \u001b[34mstats\u001b[39m::filter()\n",
      "\u001b[31m✖\u001b[39m \u001b[34mdplyr\u001b[39m::\u001b[32mlag()\u001b[39m    masks \u001b[34mstats\u001b[39m::lag()\n",
      "\u001b[36mℹ\u001b[39m Use the conflicted package (\u001b[3m\u001b[34m<http://conflicted.r-lib.org/>\u001b[39m\u001b[23m) to force all conflicts to become errors\n",
      "\n",
      "Attaching package: ‘data.table’\n",
      "\n",
      "\n",
      "The following objects are masked from ‘package:lubridate’:\n",
      "\n",
      "    hour, isoweek, mday, minute, month, quarter, second, wday, week,\n",
      "    yday, year\n",
      "\n",
      "\n",
      "The following objects are masked from ‘package:dplyr’:\n",
      "\n",
      "    between, first, last\n",
      "\n",
      "\n",
      "The following object is masked from ‘package:purrr’:\n",
      "\n",
      "    transpose\n",
      "\n",
      "\n"
     ]
    },
    {
     "ename": "ERROR",
     "evalue": "Error in eval(expr, envir, enclos): object 'counts' not found\n",
     "output_type": "error",
     "traceback": [
      "Error in eval(expr, envir, enclos): object 'counts' not found\nTraceback:\n",
      "1. head(counts)"
     ]
    }
   ],
   "source": [
    "library(tidyverse) # ggplot2 stringer dplyr tidyr readr purrr  tibble forcats\n",
    "library(data.table) # 多核读取文件\n",
    "head(counts) # counts是需要转换ensembl_id的表达矩阵  其行名为ensembl_id\n",
    "\n",
    "## 从gtf文件提取信息,获得gencode的基因id对应symbol的ids矩阵\n",
    "ids <- data.frame(\n",
    "    geneid = rownames(counts),\n",
    "    median = apply(counts, 1, median)\n",
    ") # 计算基因表达中位数，用于之后排序\n",
    "g2s <- fread(\"g2s_vm25_gencode.txt\",\n",
    "    header = F,\n",
    "    data.table = F\n",
    ") # 载入从gencode的gtf文件中提取的信息文件\n",
    "colnames(g2s) <- c(\"geneid\", \"symbol\")\n",
    "\n",
    "table(ids$geneid %in% g2s$geneid) # 查看需要转化的geneid在g2s的匹配情况\n",
    "ids <- ids[ids$geneid %in% g2s$geneid, ] # 取出在gencode数据库的gtf注释中能找到的geneid\n",
    "ids$symbol <- g2s[match(ids$geneid, g2s$geneid), 2] # match返回其第二个参数中第一个参数匹配的位置,把g2s的geneid按照ids$geneid的顺序一个个取出来，从而得到ids$symbol这一列\n",
    "ids <- ids[order(ids$symbol, ids$median, decreasing = T), ] # 将ids按照symbol排序，再把ids$symbol按照ids$median由大到小排序\n",
    "\n",
    "## 去重复\n",
    "dim(ids)\n",
    "table(duplicated(ids$symbol)) # 统计查看重复的symbol\n",
    "ids <- ids[!duplicated(ids$symbol), ] # 取出不重复的ids$symbol\n",
    "\n",
    "## 转化geneid为symbol\n",
    "counts <- counts[rownames(ids), ] # 取出表达矩阵中ids有的行\n",
    "rownames(counts) <- ids[match(rownames(counts), ids$geneid), \"symbol\"] # 根据geneid和symbol进行匹配\n"
   ]
  },
  {
   "cell_type": "markdown",
   "metadata": {},
   "source": [
    "## 三、合并所有重复的gene symbol ( 简单，全面，推荐 )\n",
    "主要思路为利用aggregate函数根据symbol列中的相同基因合并基因表达矩阵"
   ]
  },
  {
   "cell_type": "code",
   "execution_count": null,
   "metadata": {
    "vscode": {
     "languageId": "r"
    }
   },
   "outputs": [],
   "source": [
    "library(tidyverse) # ggplot2 stringer dplyr tidyr readr purrr  tibble forcats\n",
    "library(data.table) # 多核读取文件\n",
    "\n",
    "g2s <- fread(\"g2s_vm25_gencode.txt\",\n",
    "    header = F,\n",
    "    data.table = F\n",
    ") # 载入从gencode的gtf文件中提取的信息文件\n",
    "colnames(g2s) <- c(\"geneid\", \"symbol\")\n",
    "\n",
    "symbol <- g2s[\n",
    "    match(\n",
    "        rownames(counts),\n",
    "        g2s$geneid\n",
    "    ),\n",
    "    \"symbol\"\n",
    "] # 匹配counts行名对应的symbol\n",
    "table(duplicated(symbol)) # 统计查看重复的symbol\n",
    "\n",
    "## 使用aggregate根据symbol列中的相同基因进行合并\n",
    "counts <- aggregate(counts, by = list(symbol), FUN = sum)\n",
    "counts <- column_to_rownames(counts, \"Group.1\")\n"
   ]
  }
 ],
 "metadata": {
  "kernelspec": {
   "display_name": "R",
   "language": "R",
   "name": "ir"
  },
  "language_info": {
   "codemirror_mode": "r",
   "file_extension": ".r",
   "mimetype": "text/x-r-source",
   "name": "R",
   "pygments_lexer": "r",
   "version": "4.4.1"
  }
 },
 "nbformat": 4,
 "nbformat_minor": 2
}
