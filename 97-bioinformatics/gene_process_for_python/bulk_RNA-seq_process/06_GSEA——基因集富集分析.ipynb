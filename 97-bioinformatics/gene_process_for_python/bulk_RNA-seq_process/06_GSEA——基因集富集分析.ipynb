{
 "cells": [
  {
   "cell_type": "markdown",
   "metadata": {},
   "source": [
    "# GSEA——基因集富集分析\n",
    "> 本节概览：\n",
    "> 1. GSEA简单介绍\n",
    "> 2. 创建GSEA分析所需的geneList，包含log2FoldChange和ENTREZID信息\n",
    "> 3. 利用clusterProfiler进行GSEA富集GO与KEGG通路\n",
    "> 4. GSEA富集结果可视化：GSEA结果图、 gsearank plot 、ridgeplot\n"
   ]
  },
  {
   "cell_type": "markdown",
   "metadata": {},
   "source": [
    "## 1. GSEA简单介绍\n",
    "以下对GSEA涉及的一些重要概念进行了简单介绍，详细介绍见：\n",
    "\n",
    "[一文掌握GSEA，超详细教程 - 云+社区 - 腾讯云 (tencent.com)](https://link.zhihu.com/?target=https%3A//cloud.tencent.com/developer/article/1426130)\n",
    "\n",
    "[史上最全GSEA可视化教程，今天让你彻底搞懂GSEA！ - 知乎 (zhihu.com)](https://zhuanlan.zhihu.com/p/393056080)"
   ]
  },
  {
   "cell_type": "markdown",
   "metadata": {},
   "source": [
    "## 1.1 GSEA定义与基本原理：\n",
    "- **定义**： 基因集富集分析(Gene Set Enrichment Analysis, GSEA)是一种计算方法，用来确定一组先验定义的基因集是否在两种生物状态之间显示出统计学上显著的、一致的差异。 官网地址：GSEA (gsea-msigdb.org)\n",
    "- **基本原理**： 使用预定义的基因集（通常来自功能注释或先前实验的结果），将基因按照在两类样本中的差异表达程度排序，然后检验预先设定的基因集合是否在这个排序表的顶端或者底端富集。基因集合富集分析检测基因集合而不是单个基因的表达变化，因此可以包含这些细微的表达变化，预期得到更为理想的结果\n",
    "- **与GO\\KEGG差异基因富集分析区别**： 差异基因富集分析是先筛选差异基因，再判断差异基因在哪些注释的通路存在富集；这涉及到阈值的设定，存在一定主观性并且只能用于表达变化较大的基因，即我们定义的显著差异基因。而GSEA则不局限于差异基因，从基因集的富集角度出发，理论上更容易囊括细微但协调性的变化对生物通路的影响。\n",
    "\n",
    "<image src=\"../image/42.png\">\n"
   ]
  },
  {
   "cell_type": "markdown",
   "metadata": {},
   "source": [
    "## 1.2 MSigDB（Molecular Signatures Database）:\n",
    "分子特征数据库。一般进行GSEA或GSVA使用的就是该数据库中的基因集，我们也可以自定义基因集。`MSigDB`所包含的基因集如下所示: 其中`KEGG`信息包含在`C2`中，`GO`信息包含在`C5`中。\n",
    "\n",
    "<image src=\"../image/43.png\">"
   ]
  },
  {
   "cell_type": "markdown",
   "metadata": {},
   "source": [
    "## 1.3 GSEA中关键概念\n",
    "- `ES（Enrichment Score）`：富集得分 ES反应基因集成员s在排序列表L的两端富集的程度。计算方式是，从基因集L的第一个基因开始，计算一个累计统计值。当遇到一个落在s里面的基因，则增加统计值。遇到一个不在s里面的基因，则降低统计值。 每一步统计值增加或减少的幅度与基因的表达变化程度（`fold-change值`）是相关的。富集得分ES最后定义为最大的峰值。正值ES表示基因集在列表的顶部富集，负值ES表示基因集在列表的底部富集。 p-value用来评估富集得分(ES)的显著性，通过排列检验 (`permutation test`)计算观察到的富集得分(ES)出现的可能性。\n",
    "- `NES (Normalized Enrichment Score)`：标准化富集得分 每个基因子集s计算得到的ES根据基因集的大小进行标准化得到标准化富集得分Normalized Enrichment Score (NES)。随后会针对NES计算假阳性率FDR。\n",
    "- `Leading-edge subset`：领头基因亚集 对富集贡献最大的基因成员\n",
    "一般认为|NES|>1，p-value<0.05，FDR<0.25的通路是显著富集的。 |NES|值越大，FDR值就越小，说明分析的结果可信度越高。\n"
   ]
  },
  {
   "cell_type": "markdown",
   "metadata": {},
   "source": [
    "## 2. 创建GSEA分析所需的geneList\n",
    "在了解了GSEA基本概念后就可以正式开始实操了，首先需要将基因按照在两类样本中的差异表达程度排序。 下面我们构建包含了`geneList`，里面含有从大到小排序的`log2FoldChange`和对应的`ENTREZID`信息：\n",
    "\n",
    "```R\n",
    "rm(list = ls())  \n",
    "options(stringsAsFactors = F)\n",
    "# library(org.Hs.eg.db)\n",
    "library(org.Mm.eg.db)\n",
    "library(clusterProfiler)\n",
    "library(enrichplot)\n",
    "library(tidyverse)\n",
    "library(ggstatsplot)\n",
    "\n",
    "setwd(\"C:/Users/Lenovo/Desktop/test\")\n",
    "load(list.files(path = \"./3.DEG\",pattern = 'DEG_results.Rdata',full.names = T))\n",
    "dir.create(\"5.GSEA_kegg_go\")\n",
    "setwd(\"5.GSEA_kegg_go\")\n",
    "\n",
    "## 物种设置\n",
    "organism = 'mmu'    #  人类'hsa' 小鼠'mmu'   \n",
    "OrgDb = 'org.Mm.eg.db'#人类\"org.Hs.eg.db\" 小鼠\"org.Mm.eg.db\"\n",
    "\n",
    "#### 按照需要可选择不同的DEG方法数据集 ####\n",
    "need_DEG <- DEG_DESeq2\n",
    "need_DEG <- need_DEG[,c(2,5)] #选择log2FoldChange和pvalue（凑成数据框）\n",
    "\n",
    "colnames(need_DEG) <- c('log2FoldChange','pvalue')\n",
    "need_DEG$SYMBOL <- rownames(need_DEG)\n",
    "\n",
    "##### 创建gsea分析的geneList（包含从大到小排列的log2FoldChange和ENTREZID信息）####\n",
    "#转化id  \n",
    "df <- bitr(rownames(need_DEG), \n",
    "           fromType = \"SYMBOL\",\n",
    "           toType =  \"ENTREZID\",\n",
    "           OrgDb = OrgDb) #人数据库org.Hs.eg.db 小鼠org.Mm.eg.db\n",
    "need_DEG <- merge(need_DEG, df, by='SYMBOL')  #按照SYMBOL合并注释信息\n",
    "geneList <- need_DEG$log2FoldChange\n",
    "names(geneList) <- need_DEG$ENTREZID\n",
    "geneList <- sort(geneList, decreasing = T)   #从大到小排序\n",
    "```"
   ]
  },
  {
   "cell_type": "code",
   "execution_count": 3,
   "metadata": {
    "vscode": {
     "languageId": "r"
    }
   },
   "outputs": [
    {
     "name": "stderr",
     "output_type": "stream",
     "text": [
      "Warning message in dir.create(\"5.GSEA_kegg_go\"):\n",
      "“'5.GSEA_kegg_go' already exists”\n"
     ]
    },
    {
     "data": {
      "text/html": [
       "<style>\n",
       ".list-inline {list-style: none; margin:0; padding: 0}\n",
       ".list-inline>li {display: inline-block}\n",
       ".list-inline>li:not(:last-child)::after {content: \"\\00b7\"; padding: 0 .5ex}\n",
       "</style>\n",
       "<ol class=list-inline><li>'DEG_DEseq2'</li><li>'DEG_edgeR'</li><li>'DEG_limma_voom'</li></ol>\n"
      ],
      "text/latex": [
       "\\begin{enumerate*}\n",
       "\\item 'DEG\\_DEseq2'\n",
       "\\item 'DEG\\_edgeR'\n",
       "\\item 'DEG\\_limma\\_voom'\n",
       "\\end{enumerate*}\n"
      ],
      "text/markdown": [
       "1. 'DEG_DEseq2'\n",
       "2. 'DEG_edgeR'\n",
       "3. 'DEG_limma_voom'\n",
       "\n",
       "\n"
      ],
      "text/plain": [
       "[1] \"DEG_DEseq2\"     \"DEG_edgeR\"      \"DEG_limma_voom\""
      ]
     },
     "metadata": {},
     "output_type": "display_data"
    }
   ],
   "source": [
    "rm(list = ls())\n",
    "options(stringsAsFactors = F)\n",
    "# library(org.Hs.eg.db)\n",
    "library(org.Mm.eg.db)\n",
    "library(clusterProfiler)\n",
    "library(enrichplot)\n",
    "library(tidyverse)\n",
    "library(ggstatsplot)\n",
    "\n",
    "setwd(\"/slurm/home/admin/nlp/DL/97-bioinformatics/gene_process_for_python/data/salmon\")\n",
    "load(list.files(\n",
    "    path = \"./3.DEG\",\n",
    "    pattern = \"test_DEG_results.Rdata\",\n",
    "    full.names = T\n",
    "))\n",
    "dir.create(\"5.GSEA_kegg_go\")\n",
    "setwd(\"5.GSEA_kegg_go\")\n",
    "\n",
    "\n",
    "ls()\n"
   ]
  },
  {
   "cell_type": "code",
   "execution_count": 5,
   "metadata": {
    "vscode": {
     "languageId": "r"
    }
   },
   "outputs": [
    {
     "data": {
      "text/html": [
       "<table class=\"dataframe\">\n",
       "<caption>A data.frame: 6 × 2</caption>\n",
       "<thead>\n",
       "\t<tr><th></th><th scope=col>log2FoldChange</th><th scope=col>pvalue</th></tr>\n",
       "\t<tr><th></th><th scope=col>&lt;dbl&gt;</th><th scope=col>&lt;dbl&gt;</th></tr>\n",
       "</thead>\n",
       "<tbody>\n",
       "\t<tr><th scope=row>Flnc</th><td> 8.986039</td><td>2.882235e-119</td></tr>\n",
       "\t<tr><th scope=row>Col1a1</th><td> 9.417875</td><td>1.343511e-118</td></tr>\n",
       "\t<tr><th scope=row>Tdh</th><td>-7.761669</td><td> 6.218390e-98</td></tr>\n",
       "\t<tr><th scope=row>Ccnd2</th><td> 9.407858</td><td> 9.846209e-97</td></tr>\n",
       "\t<tr><th scope=row>Col1a2</th><td> 9.564556</td><td> 2.102742e-93</td></tr>\n",
       "\t<tr><th scope=row>Pim2</th><td> 6.261063</td><td> 4.250990e-92</td></tr>\n",
       "</tbody>\n",
       "</table>\n"
      ],
      "text/latex": [
       "A data.frame: 6 × 2\n",
       "\\begin{tabular}{r|ll}\n",
       "  & log2FoldChange & pvalue\\\\\n",
       "  & <dbl> & <dbl>\\\\\n",
       "\\hline\n",
       "\tFlnc &  8.986039 & 2.882235e-119\\\\\n",
       "\tCol1a1 &  9.417875 & 1.343511e-118\\\\\n",
       "\tTdh & -7.761669 &  6.218390e-98\\\\\n",
       "\tCcnd2 &  9.407858 &  9.846209e-97\\\\\n",
       "\tCol1a2 &  9.564556 &  2.102742e-93\\\\\n",
       "\tPim2 &  6.261063 &  4.250990e-92\\\\\n",
       "\\end{tabular}\n"
      ],
      "text/markdown": [
       "\n",
       "A data.frame: 6 × 2\n",
       "\n",
       "| <!--/--> | log2FoldChange &lt;dbl&gt; | pvalue &lt;dbl&gt; |\n",
       "|---|---|---|\n",
       "| Flnc |  8.986039 | 2.882235e-119 |\n",
       "| Col1a1 |  9.417875 | 1.343511e-118 |\n",
       "| Tdh | -7.761669 |  6.218390e-98 |\n",
       "| Ccnd2 |  9.407858 |  9.846209e-97 |\n",
       "| Col1a2 |  9.564556 |  2.102742e-93 |\n",
       "| Pim2 |  6.261063 |  4.250990e-92 |\n",
       "\n"
      ],
      "text/plain": [
       "       log2FoldChange pvalue       \n",
       "Flnc    8.986039      2.882235e-119\n",
       "Col1a1  9.417875      1.343511e-118\n",
       "Tdh    -7.761669       6.218390e-98\n",
       "Ccnd2   9.407858       9.846209e-97\n",
       "Col1a2  9.564556       2.102742e-93\n",
       "Pim2    6.261063       4.250990e-92"
      ]
     },
     "metadata": {},
     "output_type": "display_data"
    }
   ],
   "source": [
    "## 物种设置\n",
    "organism <- \"mmu\" #  人类'hsa' 小鼠'mmu'\n",
    "OrgDb <- \"org.Mm.eg.db\" # 人类\"org.Hs.eg.db\" 小鼠\"org.Mm.eg.db\"\n",
    "\n",
    "#### 按照需要可选择不同的DEG方法数据集 ####\n",
    "need_DEG <- DEG_DEseq2\n",
    "need_DEG <- need_DEG[, c(2, 5)] # 选择log2FoldChange和pvalue（凑成数据框）\n",
    "head(need_DEG)\n"
   ]
  },
  {
   "cell_type": "code",
   "execution_count": 6,
   "metadata": {
    "vscode": {
     "languageId": "r"
    }
   },
   "outputs": [
    {
     "data": {
      "text/html": [
       "<table class=\"dataframe\">\n",
       "<caption>A data.frame: 6 × 2</caption>\n",
       "<thead>\n",
       "\t<tr><th></th><th scope=col>log2FoldChange</th><th scope=col>pvalue</th></tr>\n",
       "\t<tr><th></th><th scope=col>&lt;dbl&gt;</th><th scope=col>&lt;dbl&gt;</th></tr>\n",
       "</thead>\n",
       "<tbody>\n",
       "\t<tr><th scope=row>Flnc</th><td> 8.986039</td><td>2.882235e-119</td></tr>\n",
       "\t<tr><th scope=row>Col1a1</th><td> 9.417875</td><td>1.343511e-118</td></tr>\n",
       "\t<tr><th scope=row>Tdh</th><td>-7.761669</td><td> 6.218390e-98</td></tr>\n",
       "\t<tr><th scope=row>Ccnd2</th><td> 9.407858</td><td> 9.846209e-97</td></tr>\n",
       "\t<tr><th scope=row>Col1a2</th><td> 9.564556</td><td> 2.102742e-93</td></tr>\n",
       "\t<tr><th scope=row>Pim2</th><td> 6.261063</td><td> 4.250990e-92</td></tr>\n",
       "</tbody>\n",
       "</table>\n"
      ],
      "text/latex": [
       "A data.frame: 6 × 2\n",
       "\\begin{tabular}{r|ll}\n",
       "  & log2FoldChange & pvalue\\\\\n",
       "  & <dbl> & <dbl>\\\\\n",
       "\\hline\n",
       "\tFlnc &  8.986039 & 2.882235e-119\\\\\n",
       "\tCol1a1 &  9.417875 & 1.343511e-118\\\\\n",
       "\tTdh & -7.761669 &  6.218390e-98\\\\\n",
       "\tCcnd2 &  9.407858 &  9.846209e-97\\\\\n",
       "\tCol1a2 &  9.564556 &  2.102742e-93\\\\\n",
       "\tPim2 &  6.261063 &  4.250990e-92\\\\\n",
       "\\end{tabular}\n"
      ],
      "text/markdown": [
       "\n",
       "A data.frame: 6 × 2\n",
       "\n",
       "| <!--/--> | log2FoldChange &lt;dbl&gt; | pvalue &lt;dbl&gt; |\n",
       "|---|---|---|\n",
       "| Flnc |  8.986039 | 2.882235e-119 |\n",
       "| Col1a1 |  9.417875 | 1.343511e-118 |\n",
       "| Tdh | -7.761669 |  6.218390e-98 |\n",
       "| Ccnd2 |  9.407858 |  9.846209e-97 |\n",
       "| Col1a2 |  9.564556 |  2.102742e-93 |\n",
       "| Pim2 |  6.261063 |  4.250990e-92 |\n",
       "\n"
      ],
      "text/plain": [
       "       log2FoldChange pvalue       \n",
       "Flnc    8.986039      2.882235e-119\n",
       "Col1a1  9.417875      1.343511e-118\n",
       "Tdh    -7.761669       6.218390e-98\n",
       "Ccnd2   9.407858       9.846209e-97\n",
       "Col1a2  9.564556       2.102742e-93\n",
       "Pim2    6.261063       4.250990e-92"
      ]
     },
     "metadata": {},
     "output_type": "display_data"
    }
   ],
   "source": [
    "colnames(need_DEG) <- c(\"log2FoldChange\", \"pvalue\")\n",
    "head(need_DEG)\n"
   ]
  },
  {
   "cell_type": "code",
   "execution_count": 8,
   "metadata": {
    "vscode": {
     "languageId": "r"
    }
   },
   "outputs": [
    {
     "data": {
      "text/html": [
       "<table class=\"dataframe\">\n",
       "<caption>A data.frame: 6 × 3</caption>\n",
       "<thead>\n",
       "\t<tr><th></th><th scope=col>log2FoldChange</th><th scope=col>pvalue</th><th scope=col>SYMBOL</th></tr>\n",
       "\t<tr><th></th><th scope=col>&lt;dbl&gt;</th><th scope=col>&lt;dbl&gt;</th><th scope=col>&lt;chr&gt;</th></tr>\n",
       "</thead>\n",
       "<tbody>\n",
       "\t<tr><th scope=row>Flnc</th><td> 8.986039</td><td>2.882235e-119</td><td>Flnc  </td></tr>\n",
       "\t<tr><th scope=row>Col1a1</th><td> 9.417875</td><td>1.343511e-118</td><td>Col1a1</td></tr>\n",
       "\t<tr><th scope=row>Tdh</th><td>-7.761669</td><td> 6.218390e-98</td><td>Tdh   </td></tr>\n",
       "\t<tr><th scope=row>Ccnd2</th><td> 9.407858</td><td> 9.846209e-97</td><td>Ccnd2 </td></tr>\n",
       "\t<tr><th scope=row>Col1a2</th><td> 9.564556</td><td> 2.102742e-93</td><td>Col1a2</td></tr>\n",
       "\t<tr><th scope=row>Pim2</th><td> 6.261063</td><td> 4.250990e-92</td><td>Pim2  </td></tr>\n",
       "</tbody>\n",
       "</table>\n"
      ],
      "text/latex": [
       "A data.frame: 6 × 3\n",
       "\\begin{tabular}{r|lll}\n",
       "  & log2FoldChange & pvalue & SYMBOL\\\\\n",
       "  & <dbl> & <dbl> & <chr>\\\\\n",
       "\\hline\n",
       "\tFlnc &  8.986039 & 2.882235e-119 & Flnc  \\\\\n",
       "\tCol1a1 &  9.417875 & 1.343511e-118 & Col1a1\\\\\n",
       "\tTdh & -7.761669 &  6.218390e-98 & Tdh   \\\\\n",
       "\tCcnd2 &  9.407858 &  9.846209e-97 & Ccnd2 \\\\\n",
       "\tCol1a2 &  9.564556 &  2.102742e-93 & Col1a2\\\\\n",
       "\tPim2 &  6.261063 &  4.250990e-92 & Pim2  \\\\\n",
       "\\end{tabular}\n"
      ],
      "text/markdown": [
       "\n",
       "A data.frame: 6 × 3\n",
       "\n",
       "| <!--/--> | log2FoldChange &lt;dbl&gt; | pvalue &lt;dbl&gt; | SYMBOL &lt;chr&gt; |\n",
       "|---|---|---|---|\n",
       "| Flnc |  8.986039 | 2.882235e-119 | Flnc   |\n",
       "| Col1a1 |  9.417875 | 1.343511e-118 | Col1a1 |\n",
       "| Tdh | -7.761669 |  6.218390e-98 | Tdh    |\n",
       "| Ccnd2 |  9.407858 |  9.846209e-97 | Ccnd2  |\n",
       "| Col1a2 |  9.564556 |  2.102742e-93 | Col1a2 |\n",
       "| Pim2 |  6.261063 |  4.250990e-92 | Pim2   |\n",
       "\n"
      ],
      "text/plain": [
       "       log2FoldChange pvalue        SYMBOL\n",
       "Flnc    8.986039      2.882235e-119 Flnc  \n",
       "Col1a1  9.417875      1.343511e-118 Col1a1\n",
       "Tdh    -7.761669       6.218390e-98 Tdh   \n",
       "Ccnd2   9.407858       9.846209e-97 Ccnd2 \n",
       "Col1a2  9.564556       2.102742e-93 Col1a2\n",
       "Pim2    6.261063       4.250990e-92 Pim2  "
      ]
     },
     "metadata": {},
     "output_type": "display_data"
    }
   ],
   "source": [
    "need_DEG$SYMBOL <- rownames(need_DEG)\n",
    "head(need_DEG)\n"
   ]
  },
  {
   "cell_type": "code",
   "execution_count": 11,
   "metadata": {
    "vscode": {
     "languageId": "r"
    }
   },
   "outputs": [
    {
     "name": "stderr",
     "output_type": "stream",
     "text": [
      "'select()' returned 1:1 mapping between keys and columns\n",
      "\n",
      "Warning message in bitr(rownames(need_DEG), fromType = \"SYMBOL\", toType = \"ENTREZID\", :\n",
      "“4.57% of input gene IDs are fail to map...”\n"
     ]
    },
    {
     "data": {
      "text/html": [
       "<table class=\"dataframe\">\n",
       "<caption>A data.frame: 6 × 2</caption>\n",
       "<thead>\n",
       "\t<tr><th></th><th scope=col>SYMBOL</th><th scope=col>ENTREZID</th></tr>\n",
       "\t<tr><th></th><th scope=col>&lt;chr&gt;</th><th scope=col>&lt;chr&gt;</th></tr>\n",
       "</thead>\n",
       "<tbody>\n",
       "\t<tr><th scope=row>1</th><td>Flnc  </td><td>68794</td></tr>\n",
       "\t<tr><th scope=row>2</th><td>Col1a1</td><td>12842</td></tr>\n",
       "\t<tr><th scope=row>3</th><td>Tdh   </td><td>58865</td></tr>\n",
       "\t<tr><th scope=row>4</th><td>Ccnd2 </td><td>12444</td></tr>\n",
       "\t<tr><th scope=row>5</th><td>Col1a2</td><td>12843</td></tr>\n",
       "\t<tr><th scope=row>6</th><td>Pim2  </td><td>18715</td></tr>\n",
       "</tbody>\n",
       "</table>\n"
      ],
      "text/latex": [
       "A data.frame: 6 × 2\n",
       "\\begin{tabular}{r|ll}\n",
       "  & SYMBOL & ENTREZID\\\\\n",
       "  & <chr> & <chr>\\\\\n",
       "\\hline\n",
       "\t1 & Flnc   & 68794\\\\\n",
       "\t2 & Col1a1 & 12842\\\\\n",
       "\t3 & Tdh    & 58865\\\\\n",
       "\t4 & Ccnd2  & 12444\\\\\n",
       "\t5 & Col1a2 & 12843\\\\\n",
       "\t6 & Pim2   & 18715\\\\\n",
       "\\end{tabular}\n"
      ],
      "text/markdown": [
       "\n",
       "A data.frame: 6 × 2\n",
       "\n",
       "| <!--/--> | SYMBOL &lt;chr&gt; | ENTREZID &lt;chr&gt; |\n",
       "|---|---|---|\n",
       "| 1 | Flnc   | 68794 |\n",
       "| 2 | Col1a1 | 12842 |\n",
       "| 3 | Tdh    | 58865 |\n",
       "| 4 | Ccnd2  | 12444 |\n",
       "| 5 | Col1a2 | 12843 |\n",
       "| 6 | Pim2   | 18715 |\n",
       "\n"
      ],
      "text/plain": [
       "  SYMBOL ENTREZID\n",
       "1 Flnc   68794   \n",
       "2 Col1a1 12842   \n",
       "3 Tdh    58865   \n",
       "4 Ccnd2  12444   \n",
       "5 Col1a2 12843   \n",
       "6 Pim2   18715   "
      ]
     },
     "metadata": {},
     "output_type": "display_data"
    }
   ],
   "source": [
    "head(bitr(rownames(need_DEG),\n",
    "    fromType = \"SYMBOL\",\n",
    "    toType = \"ENTREZID\",\n",
    "    OrgDb = OrgDb\n",
    ")) # gene并不是gene symbol，而是gene id,这种情况可以利用bitr函数进行转换\n"
   ]
  },
  {
   "cell_type": "code",
   "execution_count": 12,
   "metadata": {
    "vscode": {
     "languageId": "r"
    }
   },
   "outputs": [
    {
     "name": "stderr",
     "output_type": "stream",
     "text": [
      "'select()' returned 1:1 mapping between keys and columns\n",
      "\n",
      "Warning message in bitr(rownames(need_DEG), fromType = \"SYMBOL\", toType = \"ENTREZID\", :\n",
      "“4.57% of input gene IDs are fail to map...”\n"
     ]
    },
    {
     "data": {
      "text/html": [
       "<style>\n",
       ".list-inline {list-style: none; margin:0; padding: 0}\n",
       ".list-inline>li {display: inline-block}\n",
       ".list-inline>li:not(:last-child)::after {content: \"\\00b7\"; padding: 0 .5ex}\n",
       "</style>\n",
       "<ol class=list-inline><li>-0.315366897059172</li><li>0.40020085082241</li><li>0.140365559239895</li><li>0.0100895956475766</li><li>-0.227857682771934</li><li>-0.100300924655081</li></ol>\n"
      ],
      "text/latex": [
       "\\begin{enumerate*}\n",
       "\\item -0.315366897059172\n",
       "\\item 0.40020085082241\n",
       "\\item 0.140365559239895\n",
       "\\item 0.0100895956475766\n",
       "\\item -0.227857682771934\n",
       "\\item -0.100300924655081\n",
       "\\end{enumerate*}\n"
      ],
      "text/markdown": [
       "1. -0.315366897059172\n",
       "2. 0.40020085082241\n",
       "3. 0.140365559239895\n",
       "4. 0.0100895956475766\n",
       "5. -0.227857682771934\n",
       "6. -0.100300924655081\n",
       "\n",
       "\n"
      ],
      "text/plain": [
       "[1] -0.3153669  0.4002009  0.1403656  0.0100896 -0.2278577 -0.1003009"
      ]
     },
     "metadata": {},
     "output_type": "display_data"
    }
   ],
   "source": [
    "##### 创建gsea分析的geneList（包含从大到小排列的log2FoldChange和ENTREZID信息）####\n",
    "# 转化id\n",
    "df <- bitr(rownames(need_DEG),\n",
    "    fromType = \"SYMBOL\",\n",
    "    toType = \"ENTREZID\",\n",
    "    OrgDb = OrgDb\n",
    ") # 人数据库org.Hs.eg.db 小鼠org.Mm.eg.db\n",
    "need_DEG <- merge(need_DEG, df, by = \"SYMBOL\") # 按照SYMBOL合并注释信息\n",
    "geneList <- need_DEG$log2FoldChange\n",
    "head(geneList)\n"
   ]
  },
  {
   "cell_type": "code",
   "execution_count": 16,
   "metadata": {
    "vscode": {
     "languageId": "r"
    }
   },
   "outputs": [],
   "source": [
    "names(geneList) <- need_DEG$ENTREZID\n",
    "geneList <- sort(geneList,\n",
    "    decreasing = T\n",
    ") # 从大到小排序\n"
   ]
  },
  {
   "cell_type": "markdown",
   "metadata": {},
   "source": [
    "## 3. 利用clusterProfiler包进行GSEA富集\n",
    "`clusterProfiler`包内的`gseGO()`和`gseKEGG()`函数可以很方便地对`GO`与`KEGG`通路进行`GSEA`， 再使用`DOSE::setReadable`转化`id` 。\n",
    "\n",
    "```R\n",
    "##### gsea富集 ####\n",
    "KEGG_kk_entrez <- gseKEGG(geneList     = geneList,\n",
    "                          organism     = organism, #人hsa 鼠mmu\n",
    "                          pvalueCutoff = 0.25)  #实际为padj阈值,可调整 \n",
    "KEGG_kk <- DOSE::setReadable(KEGG_kk_entrez, \n",
    "                             OrgDb=OrgDb,\n",
    "                             keyType='ENTREZID')#转化id             \n",
    "\n",
    "GO_kk_entrez <- gseGO(geneList     = geneList,\n",
    "                      ont          = \"ALL\",  # \"BP\"、\"MF\"和\"CC\"或\"ALL\"\n",
    "                      OrgDb        = OrgDb,#人类org.Hs.eg.db 鼠org.Mm.eg.db\n",
    "                      keyType      = \"ENTREZID\",\n",
    "                      pvalueCutoff = 0.25)   #实际为padj阈值可调整\n",
    "GO_kk <- DOSE::setReadable(GO_kk_entrez, \n",
    "                           OrgDb=OrgDb,\n",
    "                           keyType='ENTREZID')#转化id \n",
    "\n",
    "save(KEGG_kk_entrez, GO_kk_entrez, file = \"GSEA_result.RData\")\n",
    "```"
   ]
  },
  {
   "cell_type": "code",
   "execution_count": 19,
   "metadata": {
    "vscode": {
     "languageId": "r"
    }
   },
   "outputs": [
    {
     "ename": "ERROR",
     "evalue": "Error in eval(expr, envir, enclos): object 'KEGG_kk_entrez' not found\n",
     "output_type": "error",
     "traceback": [
      "Error in eval(expr, envir, enclos): object 'KEGG_kk_entrez' not found\nTraceback:\n"
     ]
    }
   ],
   "source": []
  },
  {
   "cell_type": "code",
   "execution_count": 20,
   "metadata": {
    "vscode": {
     "languageId": "r"
    }
   },
   "outputs": [
    {
     "name": "stderr",
     "output_type": "stream",
     "text": [
      "Reading KEGG annotation online: \"https://rest.kegg.jp/link/mmu/pathway\"...\n",
      "\n",
      "Reading KEGG annotation online: \"https://rest.kegg.jp/list/pathway/mmu\"...\n",
      "\n",
      "using 'fgsea' for GSEA analysis, please cite Korotkevich et al (2019).\n",
      "\n",
      "\n",
      "preparing geneSet collections...\n",
      "\n",
      "GSEA analysis...\n",
      "\n",
      "Warning message in preparePathwaysAndStats(pathways, stats, minSize, maxSize, gseaParam, :\n",
      "“There are ties in the preranked stats (0.85% of the list).\n",
      "The order of those tied genes will be arbitrary, which may produce unexpected results.”\n",
      "Warning message in fgseaMultilevel(pathways = pathways, stats = stats, minSize = minSize, :\n",
      "“For some pathways, in reality P-values are less than 1e-10. You can set the `eps` argument to zero for better estimation.”\n",
      "leading edge analysis...\n",
      "\n",
      "done...\n",
      "\n",
      "using 'fgsea' for GSEA analysis, please cite Korotkevich et al (2019).\n",
      "\n",
      "\n",
      "preparing geneSet collections...\n",
      "\n",
      "GSEA analysis...\n",
      "\n",
      "Warning message in preparePathwaysAndStats(pathways, stats, minSize, maxSize, gseaParam, :\n",
      "“There are ties in the preranked stats (0.85% of the list).\n",
      "The order of those tied genes will be arbitrary, which may produce unexpected results.”\n",
      "Warning message in fgseaMultilevel(pathways = pathways, stats = stats, minSize = minSize, :\n",
      "“For some pathways, in reality P-values are less than 1e-10. You can set the `eps` argument to zero for better estimation.”\n",
      "leading edge analysis...\n",
      "\n",
      "done...\n",
      "\n"
     ]
    },
    {
     "data": {
      "text/plain": [
       "#\n",
       "# Gene Set Enrichment Analysis\n",
       "#\n",
       "#...@organism \t mmu \n",
       "#...@setType \t KEGG \n",
       "#...@keytype \t ENTREZID \n",
       "#...@geneList \t Named num [1:13792] 11.97 11.03 11 10.7 9.56 ...\n",
       " - attr(*, \"names\")= chr [1:13792] \"104457\" \"68364\" \"56372\" \"68725\" ...\n",
       "#...nPerm \t \n",
       "#...pvalues adjusted by 'BH' with cutoff <0.25 \n",
       "#...226 enriched terms found\n",
       "'data.frame':\t226 obs. of  11 variables:\n",
       " $ ID             : chr  \"mmu05168\" \"mmu02010\" \"mmu00071\" \"mmu00280\" ...\n",
       " $ Description    : chr  \"Herpes simplex virus 1 infection - Mus musculus (house mouse)\" \"ABC transporters - Mus musculus (house mouse)\" \"Fatty acid degradation - Mus musculus (house mouse)\" \"Valine, leucine and isoleucine degradation - Mus musculus (house mouse)\" ...\n",
       " $ setSize        : int  373 30 42 48 39 58 40 83 44 49 ...\n",
       " $ enrichmentScore: num  -0.847 0.97 0.876 0.842 0.88 ...\n",
       " $ NES            : num  -3.25 2.83 2.77 2.73 2.71 ...\n",
       " $ pvalue         : num  1e-10 1e-10 1e-10 1e-10 1e-10 ...\n",
       " $ p.adjust       : num  1.96e-09 1.96e-09 1.96e-09 1.96e-09 1.96e-09 ...\n",
       " $ qvalue         : num  9.16e-10 9.16e-10 9.16e-10 9.16e-10 9.16e-10 ...\n",
       " $ rank           : num  481 196 547 1233 547 ...\n",
       " $ leading_edge   : chr  \"tags=53%, list=3%, signal=52%\" \"tags=93%, list=1%, signal=92%\" \"tags=67%, list=4%, signal=64%\" \"tags=54%, list=9%, signal=49%\" ...\n",
       " $ core_enrichment: chr  \"Zfp1/Zfp101/Zfp108/Zfp109/Zfp11/Zfp111/Zfp112/Zfp113/Zfp114/Zfp119a/Zfp119b/Zfp12/Zfp120/Zfp128/Zfp13/Zfp14/Zfp\"| __truncated__ \"Abca1/Abca2/Abca3/Abca5/Abca7/Abcb10/Abcb11/Abcb1a/Abcb1b/Abcb4/Abcb6/Abcb7/Abcb8/Abcb9/Abcc1/Abcc10/Abcc2/Abcc\"| __truncated__ \"Acaa1a/Acaa1b/Acaa2/Acadl/Acadm/Acads/Acadsb/Acadvl/Acat1/Acat2/Acat3/Acox1/Acox3/Acsbg1/Acsbg2/Acsbg3/Acsl1/Ac\"| __truncated__ \"Aacs/Abat/Acaa1a/Acaa1b/Acaa2/Acad8/Acadm/Acads/Acadsb/Acat1/Acat2/Acat3/Acsf3/Aldh1b1/Aldh2/Aldh3a2/Aldh6a1/Al\"| __truncated__ ...\n",
       "#...Citation\n",
       " T Wu, E Hu, S Xu, M Chen, P Guo, Z Dai, T Feng, L Zhou, W Tang, L Zhan, X Fu, S Liu, X Bo, and G Yu.\n",
       " clusterProfiler 4.0: A universal enrichment tool for interpreting omics data.\n",
       " The Innovation. 2021, 2(3):100141 \n"
      ]
     },
     "metadata": {},
     "output_type": "display_data"
    }
   ],
   "source": [
    "##### gsea富集 ####\n",
    "KEGG_kk_entrez <- gseKEGG(\n",
    "    geneList = geneList,\n",
    "    organism = organism, # 人hsa 鼠mmu\n",
    "    pvalueCutoff = 0.25\n",
    ") # 实际为padj阈值,可调整\n",
    "KEGG_kk <- DOSE::setReadable(KEGG_kk_entrez,\n",
    "    OrgDb = OrgDb,\n",
    "    keyType = \"ENTREZID\"\n",
    ") # 转化id\n",
    "\n",
    "GO_kk_entrez <- gseGO(\n",
    "    geneList = geneList,\n",
    "    ont = \"ALL\", # \"BP\"、\"MF\"和\"CC\"或\"ALL\"\n",
    "    OrgDb = OrgDb, # 人类org.Hs.eg.db 鼠org.Mm.eg.db\n",
    "    keyType = \"ENTREZID\",\n",
    "    pvalueCutoff = 0.25\n",
    ") # 实际为padj阈值可调整\n",
    "GO_kk <- DOSE::setReadable(GO_kk_entrez,\n",
    "    OrgDb = OrgDb,\n",
    "    keyType = \"ENTREZID\"\n",
    ") # 转化id\n"
   ]
  },
  {
   "cell_type": "code",
   "execution_count": 26,
   "metadata": {
    "vscode": {
     "languageId": "r"
    }
   },
   "outputs": [],
   "source": [
    "save(KEGG_kk_entrez, GO_kk_entrez, file = \"GSEA_result.RData\")\n"
   ]
  },
  {
   "cell_type": "markdown",
   "metadata": {},
   "source": [
    "## 4. GSEA富集结果可视化\n",
    "GSEA的可视化主要是GSEA结果图、 gsearank plot和ridgeplot山脊图。 同样也可以进行其他可视化如barplot、dotplot、cnetplot等等，详见RNA-seq入门的简单实战（六）：[GO、KEGG富集分析与超全可视化攻略](https://link.zhihu.com/?target=https%3A//www.jianshu.com/p/78ab0f792dda) 或者参阅说明书[Chapter 15 Visualization of functional enrichment result | Biomedical Knowledge Mining using GOSemSim and clusterProfiler (yulab-smu.top)](https://link.zhihu.com/?target=https%3A//yulab-smu.top/biomedical-knowledge-mining-book/enrichplot.html)，这里就不再进行展示啦\n",
    "\n",
    "\n",
    "### 4.1 gseaplot GSEA结果图\n",
    "下面选取KEGG通路的富集结果进行gseaplot绘图示范\n",
    "\n",
    "首先对富集结果进行条件筛选，一般认为`|NES|>1`，`NOM pvalue<0.05`，`FDR（padj）<0.25`的通路是显著富集的；还可以从结果中细分出上下调通路单独绘图，以下代码仅展示KEGG通路富集结果的上调通路。 `gseaplot2()`函数既可以对单独的通路绘图，也可以合并几个通路一起绘图；各类详细参数设置见以下代码处\n",
    "\n",
    "\n",
    "```R\n",
    "##选取富集结果\n",
    "kk_gse <- KEGG_kk\n",
    "kk_gse_entrez <- KEGG_kk_entrez\n",
    "\n",
    "###条件筛选 \n",
    "#一般认为|NES|>1，NOM pvalue<0.05，FDR（padj）<0.25的通路是显著富集的\n",
    "kk_gse_cut <- kk_gse[kk_gse$pvalue<0.05 & kk_gse$p.adjust<0.25 & abs(kk_gse$NES)>1]\n",
    "kk_gse_cut_down <- kk_gse_cut[kk_gse_cut$NES < 0,]\n",
    "kk_gse_cut_up <- kk_gse_cut[kk_gse_cut$NES > 0,]\n",
    "\n",
    "#选择展现NES前几个通路 \n",
    "down_gsea <- kk_gse_cut_down[tail(order(kk_gse_cut_down$NES,decreasing = T),10),]\n",
    "up_gsea <- kk_gse_cut_up[head(order(kk_gse_cut_up$NES,decreasing = T),10),]\n",
    "diff_gsea <- kk_gse_cut[head(order(abs(kk_gse_cut$NES),decreasing = T),10),]\n",
    "\n",
    "\n",
    "#### 经典的GSEA图 \n",
    "up_gsea$Description\n",
    "i=2\n",
    "gseap1 <- gseaplot2(kk_gse,\n",
    "                    up_gsea$ID[i],#富集的ID编号\n",
    "                    title = up_gsea$Description[i],#标题\n",
    "                    color = \"red\", #GSEA线条颜色\n",
    "                    base_size = 20,#基础字体大小\n",
    "                    rel_heights = c(1.5, 0.5, 1),#副图的相对高度\n",
    "                    subplots = 1:3,   #要显示哪些副图 如subplots=c(1,3) #只要第一和第三个图\n",
    "                    ES_geom = \"line\", #enrichment score用线还是用点\"dot\"\n",
    "                    pvalue_table = T) #显示pvalue等信息\n",
    "ggsave(gseap1, filename = 'GSEA_up_1.pdf', width =10, height =8)\n",
    "\n",
    "#### 合并 GSEA通路 \n",
    "gseap2 <- gseaplot2(kk_gse,\n",
    "                    up_gsea$ID,#富集的ID编号\n",
    "                    title = \"UP_GSEA_all\",#标题\n",
    "                    color = \"red\",#GSEA线条颜色\n",
    "                    base_size = 20,#基础字体大小\n",
    "                    rel_heights = c(1.5, 0.5, 1),#副图的相对高度\n",
    "                    subplots = 1:3, #要显示哪些副图 如subplots=c(1,3) #只要第一和第三个图\n",
    "                    ES_geom = \"line\",#enrichment score用线还是用点\"dot\"\n",
    "                    pvalue_table = T) #显示pvalue等信息\n",
    "ggsave(gseap2, filename = \"GSEA_up_all.pdf\",width =12,height =12)\n",
    "\n",
    "```\n"
   ]
  },
  {
   "cell_type": "code",
   "execution_count": 27,
   "metadata": {
    "vscode": {
     "languageId": "r"
    }
   },
   "outputs": [],
   "source": [
    "## 选取富集结果\n",
    "kk_gse <- KEGG_kk\n",
    "kk_gse_entrez <- KEGG_kk_entrez\n",
    "\n",
    "### 条件筛选\n",
    "# 一般认为|NES|>1，NOM pvalue<0.05，FDR（padj）<0.25的通路是显著富集的\n",
    "kk_gse_cut <- kk_gse[kk_gse$pvalue < 0.05 & kk_gse$p.adjust < 0.25 & abs(kk_gse$NES) > 1]\n",
    "kk_gse_cut_down <- kk_gse_cut[kk_gse_cut$NES < 0, ]\n",
    "kk_gse_cut_up <- kk_gse_cut[kk_gse_cut$NES > 0, ]\n"
   ]
  },
  {
   "cell_type": "code",
   "execution_count": 28,
   "metadata": {
    "vscode": {
     "languageId": "r"
    }
   },
   "outputs": [],
   "source": [
    "# 选择展现NES前几个通路\n",
    "down_gsea <- kk_gse_cut_down[tail(order(kk_gse_cut_down$NES, decreasing = T), 10), ]\n",
    "up_gsea <- kk_gse_cut_up[head(order(kk_gse_cut_up$NES, decreasing = T), 10), ]\n",
    "diff_gsea <- kk_gse_cut[head(order(abs(kk_gse_cut$NES), decreasing = T), 10), ]\n"
   ]
  },
  {
   "cell_type": "code",
   "execution_count": 29,
   "metadata": {
    "vscode": {
     "languageId": "r"
    }
   },
   "outputs": [
    {
     "data": {
      "text/html": [
       "<style>\n",
       ".list-inline {list-style: none; margin:0; padding: 0}\n",
       ".list-inline>li {display: inline-block}\n",
       ".list-inline>li:not(:last-child)::after {content: \"\\00b7\"; padding: 0 .5ex}\n",
       "</style>\n",
       "<ol class=list-inline><li>'ABC transporters - Mus musculus (house mouse)'</li><li>'Fatty acid degradation - Mus musculus (house mouse)'</li><li>'Valine, leucine and isoleucine degradation - Mus musculus (house mouse)'</li><li>'Pyruvate metabolism - Mus musculus (house mouse)'</li><li>'Fatty acid metabolism - Mus musculus (house mouse)'</li><li>'Regulation of lipolysis in adipocytes - Mus musculus (house mouse)'</li><li>'Progesterone-mediated oocyte maturation - Mus musculus (house mouse)'</li><li>'Bile secretion - Mus musculus (house mouse)'</li><li>'Gastric acid secretion - Mus musculus (house mouse)'</li><li>'Aldosterone synthesis and secretion - Mus musculus (house mouse)'</li></ol>\n"
      ],
      "text/latex": [
       "\\begin{enumerate*}\n",
       "\\item 'ABC transporters - Mus musculus (house mouse)'\n",
       "\\item 'Fatty acid degradation - Mus musculus (house mouse)'\n",
       "\\item 'Valine, leucine and isoleucine degradation - Mus musculus (house mouse)'\n",
       "\\item 'Pyruvate metabolism - Mus musculus (house mouse)'\n",
       "\\item 'Fatty acid metabolism - Mus musculus (house mouse)'\n",
       "\\item 'Regulation of lipolysis in adipocytes - Mus musculus (house mouse)'\n",
       "\\item 'Progesterone-mediated oocyte maturation - Mus musculus (house mouse)'\n",
       "\\item 'Bile secretion - Mus musculus (house mouse)'\n",
       "\\item 'Gastric acid secretion - Mus musculus (house mouse)'\n",
       "\\item 'Aldosterone synthesis and secretion - Mus musculus (house mouse)'\n",
       "\\end{enumerate*}\n"
      ],
      "text/markdown": [
       "1. 'ABC transporters - Mus musculus (house mouse)'\n",
       "2. 'Fatty acid degradation - Mus musculus (house mouse)'\n",
       "3. 'Valine, leucine and isoleucine degradation - Mus musculus (house mouse)'\n",
       "4. 'Pyruvate metabolism - Mus musculus (house mouse)'\n",
       "5. 'Fatty acid metabolism - Mus musculus (house mouse)'\n",
       "6. 'Regulation of lipolysis in adipocytes - Mus musculus (house mouse)'\n",
       "7. 'Progesterone-mediated oocyte maturation - Mus musculus (house mouse)'\n",
       "8. 'Bile secretion - Mus musculus (house mouse)'\n",
       "9. 'Gastric acid secretion - Mus musculus (house mouse)'\n",
       "10. 'Aldosterone synthesis and secretion - Mus musculus (house mouse)'\n",
       "\n",
       "\n"
      ],
      "text/plain": [
       " [1] \"ABC transporters - Mus musculus (house mouse)\"                          \n",
       " [2] \"Fatty acid degradation - Mus musculus (house mouse)\"                    \n",
       " [3] \"Valine, leucine and isoleucine degradation - Mus musculus (house mouse)\"\n",
       " [4] \"Pyruvate metabolism - Mus musculus (house mouse)\"                       \n",
       " [5] \"Fatty acid metabolism - Mus musculus (house mouse)\"                     \n",
       " [6] \"Regulation of lipolysis in adipocytes - Mus musculus (house mouse)\"     \n",
       " [7] \"Progesterone-mediated oocyte maturation - Mus musculus (house mouse)\"   \n",
       " [8] \"Bile secretion - Mus musculus (house mouse)\"                            \n",
       " [9] \"Gastric acid secretion - Mus musculus (house mouse)\"                    \n",
       "[10] \"Aldosterone synthesis and secretion - Mus musculus (house mouse)\"       "
      ]
     },
     "metadata": {},
     "output_type": "display_data"
    }
   ],
   "source": [
    "#### 经典的GSEA图\n",
    "up_gsea$Description\n",
    "i <- 2\n",
    "gseap1 <- gseaplot2(kk_gse,\n",
    "    up_gsea$ID[i], # 富集的ID编号\n",
    "    title = up_gsea$Description[i], # 标题\n",
    "    color = \"red\", # GSEA线条颜色\n",
    "    base_size = 20, # 基础字体大小\n",
    "    rel_heights = c(1.5, 0.5, 1), # 副图的相对高度\n",
    "    subplots = 1:3, # 要显示哪些副图 如subplots=c(1,3) #只要第一和第三个图\n",
    "    ES_geom = \"line\", # enrichment score用线还是用点\"dot\"\n",
    "    pvalue_table = T\n",
    ") # 显示pvalue等信息\n",
    "ggsave(gseap1, filename = \"GSEA_up_1.pdf\", width = 10, height = 8)\n"
   ]
  },
  {
   "cell_type": "code",
   "execution_count": 30,
   "metadata": {
    "vscode": {
     "languageId": "r"
    }
   },
   "outputs": [],
   "source": [
    "#### 合并 GSEA通路\n",
    "gseap2 <- gseaplot2(kk_gse,\n",
    "    up_gsea$ID, # 富集的ID编号\n",
    "    title = \"UP_GSEA_all\", # 标题\n",
    "    color = \"red\", # GSEA线条颜色\n",
    "    base_size = 20, # 基础字体大小\n",
    "    rel_heights = c(1.5, 0.5, 1), # 副图的相对高度\n",
    "    subplots = 1:3, # 要显示哪些副图 如subplots=c(1,3) #只要第一和第三个图\n",
    "    ES_geom = \"line\", # enrichment score用线还是用点\"dot\"\n",
    "    pvalue_table = T\n",
    ") # 显示pvalue等信息\n",
    "ggsave(gseap2, filename = \"GSEA_up_all.pdf\", width = 12, height = 12)\n"
   ]
  },
  {
   "cell_type": "markdown",
   "metadata": {},
   "source": [
    "<image src=\"../image/47.png\">\n",
    "<image src=\"../image/48.png\">\n",
    "下面解释一下GSEA图的含义：\n",
    "\n",
    "- 第1部分是ES折线图，离垂直距离x=0轴最远的峰值便是基因集的ES值，峰出现在排序基因集的前端（ES值大于0）则说明通路上调，出现在后端（ES值小于0）则说明通路下调。\n",
    "- 第二部分为基因集成员位置图，用竖线标记了基因集中各成员出现在基因排序列表中的位置。若竖线集中分布在基因排序列表的前端或后端，说明该基因集通路上调或下调；若竖线较均匀分布在基因排序列表中，则说明该基因集通路在比较的两个数据中无明显变化。 红色部分对应的基因在实验组中高表达，蓝色部分对应的基因在对照组中高表达， leading edge subset 是（0,0）到曲线峰值ES出现对应的这部分基因成员。\n",
    "- 第三部分是排序后所有基因rank值（由log2FoldChang值计算得出）的分布，以灰色面积图显展示。"
   ]
  },
  {
   "cell_type": "markdown",
   "metadata": {},
   "source": [
    "### 4.2 gsearank plot 绘制特定基因集的基因排序列表\n",
    "`gsearank()`展示特定基因集的排序，横坐标为基因排序，纵坐标为ES值，利用cowplot和ggplot2包可以批量出图。"
   ]
  },
  {
   "cell_type": "code",
   "execution_count": 31,
   "metadata": {
    "vscode": {
     "languageId": "r"
    }
   },
   "outputs": [
    {
     "name": "stderr",
     "output_type": "stream",
     "text": [
      "Warning message:\n",
      "“package ‘cowplot’ was built under R version 4.4.1”\n",
      "\n",
      "Attaching package: ‘cowplot’\n",
      "\n",
      "\n",
      "The following object is masked from ‘package:lubridate’:\n",
      "\n",
      "    stamp\n",
      "\n",
      "\n"
     ]
    }
   ],
   "source": [
    "## gsearank plot 绘制出属于特定基因集的基因排序列表\n",
    "## 绘制up_gsea前3个富集通路\n",
    "library(cowplot)\n",
    "library(ggplot2)\n",
    "pp <- lapply(1:3, function(i) {\n",
    "    anno <- up_gsea[i, c(\"NES\", \"pvalue\", \"p.adjust\")]\n",
    "    lab <- paste0(names(anno), \"=\", round(anno, 3), collapse = \"\\n\")\n",
    "\n",
    "    gsearank(kk_gse,\n",
    "        up_gsea$ID[1],\n",
    "        title = up_gsea$Description[i]\n",
    "    ) +\n",
    "        xlab(NULL) +\n",
    "        # ylab(NULL) +\n",
    "        annotate(\"text\", 10000,\n",
    "            up_gsea[i, \"enrichmentScore\"] * .75,\n",
    "            label = lab,\n",
    "            hjust = 0, vjust = 0\n",
    "        )\n",
    "})\n",
    "rankp <- plot_grid(plotlist = pp, ncol = 1)\n",
    "ggsave(rankp, filename = \"gsearank_up.pdf\", width = 8, height = 10)\n"
   ]
  },
  {
   "cell_type": "markdown",
   "metadata": {},
   "source": [
    "<image src=\"../image/49.png\">"
   ]
  },
  {
   "cell_type": "markdown",
   "metadata": {},
   "source": [
    "### 4.3 ridgeplot山脊图\n",
    "展示富集通路的核心富集基因的表达分布，x轴为富集通路的核心富集基因表达变化的log2倍，值为正值表示表达上调，值为负值表示表达下调。\n"
   ]
  },
  {
   "cell_type": "code",
   "execution_count": 32,
   "metadata": {
    "vscode": {
     "languageId": "r"
    }
   },
   "outputs": [
    {
     "name": "stderr",
     "output_type": "stream",
     "text": [
      "Picking joint bandwidth of 0.313\n",
      "\n"
     ]
    }
   ],
   "source": [
    "## ridgeplot\n",
    "ridgep <- ridgeplot(kk_gse_entrez,\n",
    "    showCategory = 15,\n",
    "    fill = \"p.adjust\",\n",
    "    core_enrichment = TRUE,\n",
    "    label_format = 30, # 设置轴标签文字的每行字符数长度，过长则会自动换行。\n",
    "    orderBy = \"NES\",\n",
    "    decreasing = F\n",
    ")\n",
    "ggsave(ridgep, filename = \"ridgeplot.pdf\", width = 10, height = 10)\n"
   ]
  },
  {
   "cell_type": "markdown",
   "metadata": {},
   "source": [
    "<image src=\"../image/50.png\">"
   ]
  },
  {
   "cell_type": "code",
   "execution_count": null,
   "metadata": {
    "vscode": {
     "languageId": "r"
    }
   },
   "outputs": [],
   "source": []
  }
 ],
 "metadata": {
  "kernelspec": {
   "display_name": "R",
   "language": "R",
   "name": "ir"
  },
  "language_info": {
   "codemirror_mode": "r",
   "file_extension": ".r",
   "mimetype": "text/x-r-source",
   "name": "R",
   "pygments_lexer": "r",
   "version": "4.4.0"
  }
 },
 "nbformat": 4,
 "nbformat_minor": 2
}
