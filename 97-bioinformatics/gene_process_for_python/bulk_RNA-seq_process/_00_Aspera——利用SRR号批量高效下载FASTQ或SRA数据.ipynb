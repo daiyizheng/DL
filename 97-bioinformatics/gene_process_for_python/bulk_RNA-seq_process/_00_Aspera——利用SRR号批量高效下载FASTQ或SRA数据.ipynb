{
 "cells": [
  {
   "cell_type": "markdown",
   "metadata": {},
   "source": [
    "# Aspera——利用SRR号批量高效下载FASTQ或SRA数据\n",
    "> 本节简单介绍Aspera安装和使用，并给出利用SRR号批量下载FASTQ或SRA数据的方法，通过比较发现aspera的下载速度与prefetch相比有了质的飞跃"
   ]
  },
  {
   "cell_type": "code",
   "execution_count": null,
   "metadata": {},
   "outputs": [],
   "source": []
  }
 ],
 "metadata": {
  "language_info": {
   "name": "python"
  }
 },
 "nbformat": 4,
 "nbformat_minor": 2
}
