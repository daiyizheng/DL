{
 "cells": [
  {
   "cell_type": "markdown",
   "metadata": {},
   "source": [
    "# 差异分析——DESeq2 edgeR limma的使用与比较\n",
    "\n",
    "> 本节概览：\n",
    "> 1. DESeq2、 edgeR、limma的使用\n",
    "> 2. 三类差异分析软件的结果比较——相关性、韦恩图\n",
    "> 3. 选取差异基因绘制火山图和热图"
   ]
  },
  {
   "cell_type": "markdown",
   "metadata": {},
   "source": [
    "## 一、DESeq2、 edgeR、limma的使用\n",
    "强烈建议查看官方说明书进行这三种差异分析的学习，链接在文章末尾给出。 注意，这三个包都需要输入counts进行分析，不能用`tpm`、`fpkm`等归一化后的数据。 正式分析前先进行目录设置、实验组和对照组的指定：\n",
    "\n"
   ]
  },
  {
   "cell_type": "code",
   "execution_count": 1,
   "metadata": {
    "vscode": {
     "languageId": "r"
    }
   },
   "outputs": [
    {
     "name": "stderr",
     "output_type": "stream",
     "text": [
      "Warning message in dir.create(\"3.DEG\"):\n",
      "“'3.DEG' already exists”\n"
     ]
    }
   ],
   "source": [
    "rm(list = ls())\n",
    "options(stringsAsFactors = F)\n",
    "\n",
    "setwd(\"/slurm/home/admin/nlp/DL/97-bioinformatics/gene_process_for_python/data/salmon\")\n",
    "load(file = \"1.counts.Rdata\")\n",
    "dir.create(\"3.DEG\")\n",
    "setwd(\"3.DEG\")\n"
   ]
  },
  {
   "cell_type": "code",
   "execution_count": 2,
   "metadata": {
    "vscode": {
     "languageId": "r"
    }
   },
   "outputs": [],
   "source": [
    "## 设定 实验组exp / 对照组ctr\n",
    "exp <- \"primed\"\n",
    "ctr <- \"naive\"\n"
   ]
  },
  {
   "cell_type": "markdown",
   "metadata": {},
   "source": [
    "## 1. DESeq2\n",
    "DESeq2是目前最常用的差异分析R包。除了可以导入counts外，如果上游使用salmon，DESeq2官方还给出了直接导入tximport生成的txi对象的方法。counts与txi的获取见RNA-seq入门的简单实战（三）：[从featureCounts与Salmon输出文件获取counts矩阵](https://link.zhihu.com/?target=https%3A//www.jianshu.com/p/15ef7df72391)\n",
    "\n"
   ]
  },
  {
   "cell_type": "code",
   "execution_count": 3,
   "metadata": {
    "vscode": {
     "languageId": "r"
    }
   },
   "outputs": [
    {
     "data": {
      "text/html": [
       "<style>\n",
       ".list-inline {list-style: none; margin:0; padding: 0}\n",
       ".list-inline>li {display: inline-block}\n",
       ".list-inline>li:not(:last-child)::after {content: \"\\00b7\"; padding: 0 .5ex}\n",
       "</style>\n",
       "<ol class=list-inline><li>'RNA_mESCs'</li><li>'RNA_mESCs'</li><li>'RNA_EpiSCs'</li></ol>\n"
      ],
      "text/latex": [
       "\\begin{enumerate*}\n",
       "\\item 'RNA\\_mESCs'\n",
       "\\item 'RNA\\_mESCs'\n",
       "\\item 'RNA\\_EpiSCs'\n",
       "\\end{enumerate*}\n"
      ],
      "text/markdown": [
       "1. 'RNA_mESCs'\n",
       "2. 'RNA_mESCs'\n",
       "3. 'RNA_EpiSCs'\n",
       "\n",
       "\n"
      ],
      "text/plain": [
       "[1] \"RNA_mESCs\"  \"RNA_mESCs\"  \"RNA_EpiSCs\""
      ]
     },
     "metadata": {},
     "output_type": "display_data"
    }
   ],
   "source": [
    "group_list\n"
   ]
  },
  {
   "cell_type": "code",
   "execution_count": 4,
   "metadata": {
    "vscode": {
     "languageId": "r"
    }
   },
   "outputs": [
    {
     "data": {
      "text/html": [
       "<table class=\"dataframe\">\n",
       "<caption>A data.frame: 3 × 1</caption>\n",
       "<thead>\n",
       "\t<tr><th></th><th scope=col>group_list</th></tr>\n",
       "\t<tr><th></th><th scope=col>&lt;chr&gt;</th></tr>\n",
       "</thead>\n",
       "<tbody>\n",
       "\t<tr><th scope=row>RNA_mESCs_1</th><td>RNA_mESCs </td></tr>\n",
       "\t<tr><th scope=row>RNA_mESCs_2</th><td>RNA_mESCs </td></tr>\n",
       "\t<tr><th scope=row>RNA_mESCs_3</th><td>RNA_EpiSCs</td></tr>\n",
       "</tbody>\n",
       "</table>\n"
      ],
      "text/latex": [
       "A data.frame: 3 × 1\n",
       "\\begin{tabular}{r|l}\n",
       "  & group\\_list\\\\\n",
       "  & <chr>\\\\\n",
       "\\hline\n",
       "\tRNA\\_mESCs\\_1 & RNA\\_mESCs \\\\\n",
       "\tRNA\\_mESCs\\_2 & RNA\\_mESCs \\\\\n",
       "\tRNA\\_mESCs\\_3 & RNA\\_EpiSCs\\\\\n",
       "\\end{tabular}\n"
      ],
      "text/markdown": [
       "\n",
       "A data.frame: 3 × 1\n",
       "\n",
       "| <!--/--> | group_list &lt;chr&gt; |\n",
       "|---|---|\n",
       "| RNA_mESCs_1 | RNA_mESCs  |\n",
       "| RNA_mESCs_2 | RNA_mESCs  |\n",
       "| RNA_mESCs_3 | RNA_EpiSCs |\n",
       "\n"
      ],
      "text/plain": [
       "            group_list\n",
       "RNA_mESCs_1 RNA_mESCs \n",
       "RNA_mESCs_2 RNA_mESCs \n",
       "RNA_mESCs_3 RNA_EpiSCs"
      ]
     },
     "metadata": {},
     "output_type": "display_data"
    }
   ],
   "source": [
    "gl\n"
   ]
  },
  {
   "cell_type": "code",
   "execution_count": 5,
   "metadata": {
    "vscode": {
     "languageId": "r"
    }
   },
   "outputs": [
    {
     "data": {
      "text/html": [
       "<table class=\"dataframe\">\n",
       "<caption>A data.frame: 6 × 3</caption>\n",
       "<thead>\n",
       "\t<tr><th></th><th scope=col>RNA_mESCs</th><th scope=col>RNA_mESCs</th><th scope=col>RNA_EpiSCs</th></tr>\n",
       "\t<tr><th></th><th scope=col>&lt;int&gt;</th><th scope=col>&lt;int&gt;</th><th scope=col>&lt;int&gt;</th></tr>\n",
       "</thead>\n",
       "<tbody>\n",
       "\t<tr><th scope=row>0610009B22Rik</th><td>153</td><td> 338</td><td> 79</td></tr>\n",
       "\t<tr><th scope=row>0610010F05Rik</th><td>189</td><td> 181</td><td>286</td></tr>\n",
       "\t<tr><th scope=row>0610010K14Rik</th><td>590</td><td> 861</td><td>408</td></tr>\n",
       "\t<tr><th scope=row>0610012G03Rik</th><td>699</td><td>1033</td><td>191</td></tr>\n",
       "\t<tr><th scope=row>0610030E20Rik</th><td>256</td><td> 319</td><td>269</td></tr>\n",
       "\t<tr><th scope=row>0610040J01Rik</th><td>  4</td><td>   0</td><td> 11</td></tr>\n",
       "</tbody>\n",
       "</table>\n"
      ],
      "text/latex": [
       "A data.frame: 6 × 3\n",
       "\\begin{tabular}{r|lll}\n",
       "  & RNA\\_mESCs & RNA\\_mESCs & RNA\\_EpiSCs\\\\\n",
       "  & <int> & <int> & <int>\\\\\n",
       "\\hline\n",
       "\t0610009B22Rik & 153 &  338 &  79\\\\\n",
       "\t0610010F05Rik & 189 &  181 & 286\\\\\n",
       "\t0610010K14Rik & 590 &  861 & 408\\\\\n",
       "\t0610012G03Rik & 699 & 1033 & 191\\\\\n",
       "\t0610030E20Rik & 256 &  319 & 269\\\\\n",
       "\t0610040J01Rik &   4 &    0 &  11\\\\\n",
       "\\end{tabular}\n"
      ],
      "text/markdown": [
       "\n",
       "A data.frame: 6 × 3\n",
       "\n",
       "| <!--/--> | RNA_mESCs &lt;int&gt; | RNA_mESCs &lt;int&gt; | RNA_EpiSCs &lt;int&gt; |\n",
       "|---|---|---|---|\n",
       "| 0610009B22Rik | 153 |  338 |  79 |\n",
       "| 0610010F05Rik | 189 |  181 | 286 |\n",
       "| 0610010K14Rik | 590 |  861 | 408 |\n",
       "| 0610012G03Rik | 699 | 1033 | 191 |\n",
       "| 0610030E20Rik | 256 |  319 | 269 |\n",
       "| 0610040J01Rik |   4 |    0 |  11 |\n",
       "\n"
      ],
      "text/plain": [
       "              RNA_mESCs RNA_mESCs RNA_EpiSCs\n",
       "0610009B22Rik 153        338       79       \n",
       "0610010F05Rik 189        181      286       \n",
       "0610010K14Rik 590        861      408       \n",
       "0610012G03Rik 699       1033      191       \n",
       "0610030E20Rik 256        319      269       \n",
       "0610040J01Rik   4          0       11       "
      ]
     },
     "metadata": {},
     "output_type": "display_data"
    }
   ],
   "source": [
    "head(counts)\n"
   ]
  },
  {
   "cell_type": "code",
   "execution_count": 6,
   "metadata": {
    "vscode": {
     "languageId": "r"
    }
   },
   "outputs": [
    {
     "data": {
      "text/html": [
       "<table class=\"dataframe\">\n",
       "<caption>A data.frame: 3 × 1</caption>\n",
       "<thead>\n",
       "\t<tr><th></th><th scope=col>group_list</th></tr>\n",
       "\t<tr><th></th><th scope=col>&lt;chr&gt;</th></tr>\n",
       "</thead>\n",
       "<tbody>\n",
       "\t<tr><th scope=row>RNA_mESCs_1</th><td>naive </td></tr>\n",
       "\t<tr><th scope=row>RNA_mESCs_2</th><td>naive </td></tr>\n",
       "\t<tr><th scope=row>RNA_mESCs_3</th><td>primed</td></tr>\n",
       "</tbody>\n",
       "</table>\n"
      ],
      "text/latex": [
       "A data.frame: 3 × 1\n",
       "\\begin{tabular}{r|l}\n",
       "  & group\\_list\\\\\n",
       "  & <chr>\\\\\n",
       "\\hline\n",
       "\tRNA\\_mESCs\\_1 & naive \\\\\n",
       "\tRNA\\_mESCs\\_2 & naive \\\\\n",
       "\tRNA\\_mESCs\\_3 & primed\\\\\n",
       "\\end{tabular}\n"
      ],
      "text/markdown": [
       "\n",
       "A data.frame: 3 × 1\n",
       "\n",
       "| <!--/--> | group_list &lt;chr&gt; |\n",
       "|---|---|\n",
       "| RNA_mESCs_1 | naive  |\n",
       "| RNA_mESCs_2 | naive  |\n",
       "| RNA_mESCs_3 | primed |\n",
       "\n"
      ],
      "text/plain": [
       "            group_list\n",
       "RNA_mESCs_1 naive     \n",
       "RNA_mESCs_2 naive     \n",
       "RNA_mESCs_3 primed    "
      ]
     },
     "metadata": {},
     "output_type": "display_data"
    }
   ],
   "source": [
    "rownames(gl) <- c(\"RNA_mESCs_1\", \"RNA_mESCs_2\", \"RNA_mESCs_3\")\n",
    "gl$group_list <- c(\"naive\", \"naive\", \"primed\")\n",
    "gl\n"
   ]
  },
  {
   "cell_type": "code",
   "execution_count": 10,
   "metadata": {
    "vscode": {
     "languageId": "r"
    }
   },
   "outputs": [],
   "source": [
    "group_list <- c(\"naive\", \"naive\", \"primed\")"
   ]
  },
  {
   "cell_type": "code",
   "execution_count": 13,
   "metadata": {
    "vscode": {
     "languageId": "r"
    }
   },
   "outputs": [],
   "source": [
    "colnames(counts) <- c(\"RNA_mESCs_1\", \"RNA_mESCs_2\", \"RNA_mESCs_3\")"
   ]
  },
  {
   "cell_type": "code",
   "execution_count": 15,
   "metadata": {
    "vscode": {
     "languageId": "r"
    }
   },
   "outputs": [
    {
     "data": {
      "text/html": [
       "<table class=\"dataframe\">\n",
       "<caption>A data.frame: 6 × 3</caption>\n",
       "<thead>\n",
       "\t<tr><th></th><th scope=col>RNA_mESCs_1</th><th scope=col>RNA_mESCs_2</th><th scope=col>RNA_mESCs_3</th></tr>\n",
       "\t<tr><th></th><th scope=col>&lt;int&gt;</th><th scope=col>&lt;int&gt;</th><th scope=col>&lt;int&gt;</th></tr>\n",
       "</thead>\n",
       "<tbody>\n",
       "\t<tr><th scope=row>0610009B22Rik</th><td>153</td><td> 338</td><td> 79</td></tr>\n",
       "\t<tr><th scope=row>0610010F05Rik</th><td>189</td><td> 181</td><td>286</td></tr>\n",
       "\t<tr><th scope=row>0610010K14Rik</th><td>590</td><td> 861</td><td>408</td></tr>\n",
       "\t<tr><th scope=row>0610012G03Rik</th><td>699</td><td>1033</td><td>191</td></tr>\n",
       "\t<tr><th scope=row>0610030E20Rik</th><td>256</td><td> 319</td><td>269</td></tr>\n",
       "\t<tr><th scope=row>0610040J01Rik</th><td>  4</td><td>   0</td><td> 11</td></tr>\n",
       "</tbody>\n",
       "</table>\n"
      ],
      "text/latex": [
       "A data.frame: 6 × 3\n",
       "\\begin{tabular}{r|lll}\n",
       "  & RNA\\_mESCs\\_1 & RNA\\_mESCs\\_2 & RNA\\_mESCs\\_3\\\\\n",
       "  & <int> & <int> & <int>\\\\\n",
       "\\hline\n",
       "\t0610009B22Rik & 153 &  338 &  79\\\\\n",
       "\t0610010F05Rik & 189 &  181 & 286\\\\\n",
       "\t0610010K14Rik & 590 &  861 & 408\\\\\n",
       "\t0610012G03Rik & 699 & 1033 & 191\\\\\n",
       "\t0610030E20Rik & 256 &  319 & 269\\\\\n",
       "\t0610040J01Rik &   4 &    0 &  11\\\\\n",
       "\\end{tabular}\n"
      ],
      "text/markdown": [
       "\n",
       "A data.frame: 6 × 3\n",
       "\n",
       "| <!--/--> | RNA_mESCs_1 &lt;int&gt; | RNA_mESCs_2 &lt;int&gt; | RNA_mESCs_3 &lt;int&gt; |\n",
       "|---|---|---|---|\n",
       "| 0610009B22Rik | 153 |  338 |  79 |\n",
       "| 0610010F05Rik | 189 |  181 | 286 |\n",
       "| 0610010K14Rik | 590 |  861 | 408 |\n",
       "| 0610012G03Rik | 699 | 1033 | 191 |\n",
       "| 0610030E20Rik | 256 |  319 | 269 |\n",
       "| 0610040J01Rik |   4 |    0 |  11 |\n",
       "\n"
      ],
      "text/plain": [
       "              RNA_mESCs_1 RNA_mESCs_2 RNA_mESCs_3\n",
       "0610009B22Rik 153          338         79        \n",
       "0610010F05Rik 189          181        286        \n",
       "0610010K14Rik 590          861        408        \n",
       "0610012G03Rik 699         1033        191        \n",
       "0610030E20Rik 256          319        269        \n",
       "0610040J01Rik   4            0         11        "
      ]
     },
     "metadata": {},
     "output_type": "display_data"
    },
    {
     "data": {
      "text/html": [
       "<style>\n",
       ".list-inline {list-style: none; margin:0; padding: 0}\n",
       ".list-inline>li {display: inline-block}\n",
       ".list-inline>li:not(:last-child)::after {content: \"\\00b7\"; padding: 0 .5ex}\n",
       "</style>\n",
       "<ol class=list-inline><li>'naive'</li><li>'naive'</li><li>'primed'</li></ol>\n"
      ],
      "text/latex": [
       "\\begin{enumerate*}\n",
       "\\item 'naive'\n",
       "\\item 'naive'\n",
       "\\item 'primed'\n",
       "\\end{enumerate*}\n"
      ],
      "text/markdown": [
       "1. 'naive'\n",
       "2. 'naive'\n",
       "3. 'primed'\n",
       "\n",
       "\n"
      ],
      "text/plain": [
       "[1] \"naive\"  \"naive\"  \"primed\""
      ]
     },
     "metadata": {},
     "output_type": "display_data"
    },
    {
     "data": {
      "text/html": [
       "<table class=\"dataframe\">\n",
       "<caption>A data.frame: 3 × 1</caption>\n",
       "<thead>\n",
       "\t<tr><th></th><th scope=col>group_list</th></tr>\n",
       "\t<tr><th></th><th scope=col>&lt;chr&gt;</th></tr>\n",
       "</thead>\n",
       "<tbody>\n",
       "\t<tr><th scope=row>RNA_mESCs_1</th><td>naive </td></tr>\n",
       "\t<tr><th scope=row>RNA_mESCs_2</th><td>naive </td></tr>\n",
       "\t<tr><th scope=row>RNA_mESCs_3</th><td>primed</td></tr>\n",
       "</tbody>\n",
       "</table>\n"
      ],
      "text/latex": [
       "A data.frame: 3 × 1\n",
       "\\begin{tabular}{r|l}\n",
       "  & group\\_list\\\\\n",
       "  & <chr>\\\\\n",
       "\\hline\n",
       "\tRNA\\_mESCs\\_1 & naive \\\\\n",
       "\tRNA\\_mESCs\\_2 & naive \\\\\n",
       "\tRNA\\_mESCs\\_3 & primed\\\\\n",
       "\\end{tabular}\n"
      ],
      "text/markdown": [
       "\n",
       "A data.frame: 3 × 1\n",
       "\n",
       "| <!--/--> | group_list &lt;chr&gt; |\n",
       "|---|---|\n",
       "| RNA_mESCs_1 | naive  |\n",
       "| RNA_mESCs_2 | naive  |\n",
       "| RNA_mESCs_3 | primed |\n",
       "\n"
      ],
      "text/plain": [
       "            group_list\n",
       "RNA_mESCs_1 naive     \n",
       "RNA_mESCs_2 naive     \n",
       "RNA_mESCs_3 primed    "
      ]
     },
     "metadata": {},
     "output_type": "display_data"
    }
   ],
   "source": [
    "head(counts)\n",
    "group_list\n",
    "gl"
   ]
  },
  {
   "cell_type": "code",
   "execution_count": 14,
   "metadata": {
    "vscode": {
     "languageId": "r"
    }
   },
   "outputs": [
    {
     "name": "stderr",
     "output_type": "stream",
     "text": [
      "Warning message in DESeqDataSet(se, design = design, ignoreRank):\n",
      "“some variables in design formula are characters, converting to factors”\n"
     ]
    }
   ],
   "source": [
    "library(DESeq2)\n",
    "# library(\"BiocParallel\") # 启用多核计算\n",
    "\n",
    "## 构建dds DESeqDataSet\n",
    "if (T) {\n",
    "    dds <- DESeqDataSetFromMatrix(\n",
    "        countData = counts,\n",
    "        colData = gl,\n",
    "        design = ~group_list\n",
    "    )\n",
    "}\n",
    "if (F) { # 若上游为salmon\n",
    "    dds <- DESeqDataSetFromTximport(txi,\n",
    "        colData = gl,\n",
    "        design = ~group_list\n",
    "    )\n",
    "}\n",
    "\n",
    "\n"
   ]
  },
  {
   "cell_type": "code",
   "execution_count": 17,
   "metadata": {
    "vscode": {
     "languageId": "r"
    }
   },
   "outputs": [
    {
     "data": {
      "text/html": [
       "'naive'"
      ],
      "text/latex": [
       "'naive'"
      ],
      "text/markdown": [
       "'naive'"
      ],
      "text/plain": [
       "[1] \"naive\""
      ]
     },
     "metadata": {},
     "output_type": "display_data"
    },
    {
     "data": {
      "text/html": [
       "'primed'"
      ],
      "text/latex": [
       "'primed'"
      ],
      "text/markdown": [
       "'primed'"
      ],
      "text/plain": [
       "[1] \"primed\""
      ]
     },
     "metadata": {},
     "output_type": "display_data"
    },
    {
     "data": {
      "text/html": [
       "<style>\n",
       ".list-inline {list-style: none; margin:0; padding: 0}\n",
       ".list-inline>li {display: inline-block}\n",
       ".list-inline>li:not(:last-child)::after {content: \"\\00b7\"; padding: 0 .5ex}\n",
       "</style>\n",
       "<ol class=list-inline><li>naive</li><li>naive</li><li>primed</li></ol>\n",
       "\n",
       "<details>\n",
       "\t<summary style=display:list-item;cursor:pointer>\n",
       "\t\t<strong>Levels</strong>:\n",
       "\t</summary>\n",
       "\t<style>\n",
       "\t.list-inline {list-style: none; margin:0; padding: 0}\n",
       "\t.list-inline>li {display: inline-block}\n",
       "\t.list-inline>li:not(:last-child)::after {content: \"\\00b7\"; padding: 0 .5ex}\n",
       "\t</style>\n",
       "\t<ol class=list-inline><li>'naive'</li><li>'primed'</li></ol>\n",
       "</details>"
      ],
      "text/latex": [
       "\\begin{enumerate*}\n",
       "\\item naive\n",
       "\\item naive\n",
       "\\item primed\n",
       "\\end{enumerate*}\n",
       "\n",
       "\\emph{Levels}: \\begin{enumerate*}\n",
       "\\item 'naive'\n",
       "\\item 'primed'\n",
       "\\end{enumerate*}\n"
      ],
      "text/markdown": [
       "1. naive\n",
       "2. naive\n",
       "3. primed\n",
       "\n",
       "\n",
       "\n",
       "**Levels**: 1. 'naive'\n",
       "2. 'primed'\n",
       "\n",
       "\n"
      ],
      "text/plain": [
       "[1] naive  naive  primed\n",
       "Levels: naive primed"
      ]
     },
     "metadata": {},
     "output_type": "display_data"
    }
   ],
   "source": [
    "ctr\n",
    "exp\n",
    "relevel(dds$group_list,\n",
    "    ref = ctr\n",
    ")"
   ]
  },
  {
   "cell_type": "code",
   "execution_count": 25,
   "metadata": {
    "vscode": {
     "languageId": "r"
    }
   },
   "outputs": [
    {
     "data": {
      "text/html": [
       "<table class=\"dataframe\">\n",
       "<caption>A data.frame: 5 × 1</caption>\n",
       "<thead>\n",
       "\t<tr><th scope=col>color</th></tr>\n",
       "\t<tr><th scope=col>&lt;fct&gt;</th></tr>\n",
       "</thead>\n",
       "<tbody>\n",
       "\t<tr><td>红色</td></tr>\n",
       "\t<tr><td>蓝色</td></tr>\n",
       "\t<tr><td>绿色</td></tr>\n",
       "\t<tr><td>红色</td></tr>\n",
       "\t<tr><td>绿色</td></tr>\n",
       "</tbody>\n",
       "</table>\n"
      ],
      "text/latex": [
       "A data.frame: 5 × 1\n",
       "\\begin{tabular}{l}\n",
       " color\\\\\n",
       " <fct>\\\\\n",
       "\\hline\n",
       "\t 红色\\\\\n",
       "\t 蓝色\\\\\n",
       "\t 绿色\\\\\n",
       "\t 红色\\\\\n",
       "\t 绿色\\\\\n",
       "\\end{tabular}\n"
      ],
      "text/markdown": [
       "\n",
       "A data.frame: 5 × 1\n",
       "\n",
       "| color &lt;fct&gt; |\n",
       "|---|\n",
       "| 红色 |\n",
       "| 蓝色 |\n",
       "| 绿色 |\n",
       "| 红色 |\n",
       "| 绿色 |\n",
       "\n"
      ],
      "text/plain": [
       "  color\n",
       "1 红色 \n",
       "2 蓝色 \n",
       "3 绿色 \n",
       "4 红色 \n",
       "5 绿色 "
      ]
     },
     "metadata": {},
     "output_type": "display_data"
    }
   ],
   "source": [
    "# 创建数据集\n",
    "data <- data.frame(color = factor(c(\"红色\", \"蓝色\", \"绿色\", \"红色\", \"绿色\")))\n",
    "\n",
    "data"
   ]
  },
  {
   "cell_type": "code",
   "execution_count": 27,
   "metadata": {
    "vscode": {
     "languageId": "r"
    }
   },
   "outputs": [
    {
     "data": {
      "text/html": [
       "<style>\n",
       ".list-inline {list-style: none; margin:0; padding: 0}\n",
       ".list-inline>li {display: inline-block}\n",
       ".list-inline>li:not(:last-child)::after {content: \"\\00b7\"; padding: 0 .5ex}\n",
       "</style>\n",
       "<ol class=list-inline><li>'红色'</li><li>'绿色'</li><li>'蓝色'</li></ol>\n"
      ],
      "text/latex": [
       "\\begin{enumerate*}\n",
       "\\item '红色'\n",
       "\\item '绿色'\n",
       "\\item '蓝色'\n",
       "\\end{enumerate*}\n"
      ],
      "text/markdown": [
       "1. '红色'\n",
       "2. '绿色'\n",
       "3. '蓝色'\n",
       "\n",
       "\n"
      ],
      "text/plain": [
       "[1] \"红色\" \"绿色\" \"蓝色\""
      ]
     },
     "metadata": {},
     "output_type": "display_data"
    },
    {
     "data": {
      "text/html": [
       "<style>\n",
       ".list-inline {list-style: none; margin:0; padding: 0}\n",
       ".list-inline>li {display: inline-block}\n",
       ".list-inline>li:not(:last-child)::after {content: \"\\00b7\"; padding: 0 .5ex}\n",
       "</style>\n",
       "<ol class=list-inline><li>红色</li><li>蓝色</li><li>绿色</li><li>红色</li><li>绿色</li></ol>\n",
       "\n",
       "<details>\n",
       "\t<summary style=display:list-item;cursor:pointer>\n",
       "\t\t<strong>Levels</strong>:\n",
       "\t</summary>\n",
       "\t<style>\n",
       "\t.list-inline {list-style: none; margin:0; padding: 0}\n",
       "\t.list-inline>li {display: inline-block}\n",
       "\t.list-inline>li:not(:last-child)::after {content: \"\\00b7\"; padding: 0 .5ex}\n",
       "\t</style>\n",
       "\t<ol class=list-inline><li>'蓝色'</li><li>'红色'</li><li>'绿色'</li></ol>\n",
       "</details>"
      ],
      "text/latex": [
       "\\begin{enumerate*}\n",
       "\\item 红色\n",
       "\\item 蓝色\n",
       "\\item 绿色\n",
       "\\item 红色\n",
       "\\item 绿色\n",
       "\\end{enumerate*}\n",
       "\n",
       "\\emph{Levels}: \\begin{enumerate*}\n",
       "\\item '蓝色'\n",
       "\\item '红色'\n",
       "\\item '绿色'\n",
       "\\end{enumerate*}\n"
      ],
      "text/markdown": [
       "1. 红色\n",
       "2. 蓝色\n",
       "3. 绿色\n",
       "4. 红色\n",
       "5. 绿色\n",
       "\n",
       "\n",
       "\n",
       "**Levels**: 1. '蓝色'\n",
       "2. '红色'\n",
       "3. '绿色'\n",
       "\n",
       "\n"
      ],
      "text/plain": [
       "[1] 红色 蓝色 绿色 红色 绿色\n",
       "Levels: 蓝色 红色 绿色"
      ]
     },
     "metadata": {},
     "output_type": "display_data"
    }
   ],
   "source": [
    "# 查看因子变量水平\n",
    "levels(data$color)\n",
    "relevel(data$color, ref=\"蓝色\")\n"
   ]
  },
  {
   "cell_type": "code",
   "execution_count": 19,
   "metadata": {
    "vscode": {
     "languageId": "r"
    }
   },
   "outputs": [
    {
     "data": {
      "text/plain": [
       "class: DESeqDataSet \n",
       "dim: 16081 3 \n",
       "metadata(1): version\n",
       "assays(1): counts\n",
       "rownames(16081): 0610009B22Rik 0610010F05Rik ... Zzef1 Zzz3\n",
       "rowData names(0):\n",
       "colnames(3): RNA_mESCs_1 RNA_mESCs_2 RNA_mESCs_3\n",
       "colData names(1): group_list"
      ]
     },
     "metadata": {},
     "output_type": "display_data"
    }
   ],
   "source": [
    "dds$group_list <- relevel(dds$group_list, \n",
    "ref = ctr)   #指定 control group\n",
    "dds"
   ]
  },
  {
   "cell_type": "code",
   "execution_count": 32,
   "metadata": {
    "vscode": {
     "languageId": "r"
    }
   },
   "outputs": [
    {
     "data": {
      "text/html": [
       "<table class=\"dataframe\">\n",
       "<caption>A matrix: 6 × 3 of type int</caption>\n",
       "<thead>\n",
       "\t<tr><th></th><th scope=col>RNA_mESCs_1</th><th scope=col>RNA_mESCs_2</th><th scope=col>RNA_mESCs_3</th></tr>\n",
       "</thead>\n",
       "<tbody>\n",
       "\t<tr><th scope=row>0610009B22Rik</th><td>153</td><td> 338</td><td> 79</td></tr>\n",
       "\t<tr><th scope=row>0610010F05Rik</th><td>189</td><td> 181</td><td>286</td></tr>\n",
       "\t<tr><th scope=row>0610010K14Rik</th><td>590</td><td> 861</td><td>408</td></tr>\n",
       "\t<tr><th scope=row>0610012G03Rik</th><td>699</td><td>1033</td><td>191</td></tr>\n",
       "\t<tr><th scope=row>0610030E20Rik</th><td>256</td><td> 319</td><td>269</td></tr>\n",
       "\t<tr><th scope=row>0610040J01Rik</th><td>  4</td><td>   0</td><td> 11</td></tr>\n",
       "</tbody>\n",
       "</table>\n"
      ],
      "text/latex": [
       "A matrix: 6 × 3 of type int\n",
       "\\begin{tabular}{r|lll}\n",
       "  & RNA\\_mESCs\\_1 & RNA\\_mESCs\\_2 & RNA\\_mESCs\\_3\\\\\n",
       "\\hline\n",
       "\t0610009B22Rik & 153 &  338 &  79\\\\\n",
       "\t0610010F05Rik & 189 &  181 & 286\\\\\n",
       "\t0610010K14Rik & 590 &  861 & 408\\\\\n",
       "\t0610012G03Rik & 699 & 1033 & 191\\\\\n",
       "\t0610030E20Rik & 256 &  319 & 269\\\\\n",
       "\t0610040J01Rik &   4 &    0 &  11\\\\\n",
       "\\end{tabular}\n"
      ],
      "text/markdown": [
       "\n",
       "A matrix: 6 × 3 of type int\n",
       "\n",
       "| <!--/--> | RNA_mESCs_1 | RNA_mESCs_2 | RNA_mESCs_3 |\n",
       "|---|---|---|---|\n",
       "| 0610009B22Rik | 153 |  338 |  79 |\n",
       "| 0610010F05Rik | 189 |  181 | 286 |\n",
       "| 0610010K14Rik | 590 |  861 | 408 |\n",
       "| 0610012G03Rik | 699 | 1033 | 191 |\n",
       "| 0610030E20Rik | 256 |  319 | 269 |\n",
       "| 0610040J01Rik |   4 |    0 |  11 |\n",
       "\n"
      ],
      "text/plain": [
       "              RNA_mESCs_1 RNA_mESCs_2 RNA_mESCs_3\n",
       "0610009B22Rik 153          338         79        \n",
       "0610010F05Rik 189          181        286        \n",
       "0610010K14Rik 590          861        408        \n",
       "0610012G03Rik 699         1033        191        \n",
       "0610030E20Rik 256          319        269        \n",
       "0610040J01Rik   4            0         11        "
      ]
     },
     "metadata": {},
     "output_type": "display_data"
    },
    {
     "data": {
      "text/html": [
       "4.5"
      ],
      "text/latex": [
       "4.5"
      ],
      "text/markdown": [
       "4.5"
      ],
      "text/plain": [
       "[1] 4.5"
      ]
     },
     "metadata": {},
     "output_type": "display_data"
    }
   ],
   "source": [
    "head(counts(dds))\n",
    "1.5*ncol(counts)"
   ]
  },
  {
   "cell_type": "code",
   "execution_count": 37,
   "metadata": {
    "vscode": {
     "languageId": "r"
    }
   },
   "outputs": [
    {
     "data": {
      "text/plain": [
       "log2 fold change (MLE): group_list primed vs naive \n",
       "Wald test p-value: group list primed vs naive \n",
       "DataFrame with 6 rows and 6 columns\n",
       "               baseMean log2FoldChange     lfcSE      stat      pvalue\n",
       "              <numeric>      <numeric> <numeric> <numeric>   <numeric>\n",
       "0610009B22Rik 170.89731      -1.072949  0.651635 -1.646550 9.96505e-02\n",
       "0610010F05Rik 230.57198       1.093646  0.571761  1.912766 5.57780e-02\n",
       "0610010K14Rik 591.85960      -0.315367  0.410847 -0.767603 4.42723e-01\n",
       "0610012G03Rik 582.84251      -1.664216  0.419146 -3.970497 7.17228e-05\n",
       "0610030E20Rik 281.46161       0.400201  0.515044  0.777023 4.37145e-01\n",
       "0610040J01Rik   5.98334       2.730157  3.180938  0.858287 3.90734e-01\n",
       "                     padj\n",
       "                <numeric>\n",
       "0610009B22Rik 0.198797372\n",
       "0610010F05Rik 0.126436492\n",
       "0610010K14Rik 0.595911984\n",
       "0610012G03Rik 0.000448167\n",
       "0610030E20Rik 0.590859787\n",
       "0610040J01Rik          NA"
      ]
     },
     "metadata": {},
     "output_type": "display_data"
    }
   ],
   "source": [
    "head(res)"
   ]
  },
  {
   "cell_type": "code",
   "execution_count": 38,
   "metadata": {
    "vscode": {
     "languageId": "r"
    }
   },
   "outputs": [],
   "source": [
    "resOrdered <- res[order(res$padj),]  #order根据padj从小到大排序结果\n",
    "tempDEG <- as.data.frame(resOrdered)\n",
    "DEG_DEseq2 <- na.omit(tempDEG)"
   ]
  },
  {
   "cell_type": "code",
   "execution_count": 40,
   "metadata": {
    "vscode": {
     "languageId": "r"
    }
   },
   "outputs": [
    {
     "data": {
      "text/html": [
       "<table class=\"dataframe\">\n",
       "<caption>A data.frame: 6 × 6</caption>\n",
       "<thead>\n",
       "\t<tr><th></th><th scope=col>baseMean</th><th scope=col>log2FoldChange</th><th scope=col>lfcSE</th><th scope=col>stat</th><th scope=col>pvalue</th><th scope=col>padj</th></tr>\n",
       "\t<tr><th></th><th scope=col>&lt;dbl&gt;</th><th scope=col>&lt;dbl&gt;</th><th scope=col>&lt;dbl&gt;</th><th scope=col>&lt;dbl&gt;</th><th scope=col>&lt;dbl&gt;</th><th scope=col>&lt;dbl&gt;</th></tr>\n",
       "</thead>\n",
       "<tbody>\n",
       "\t<tr><th scope=row>Flnc</th><td>3345.676</td><td> 8.986039</td><td>0.3870012</td><td> 23.21967</td><td>2.882235e-119</td><td>4.165695e-115</td></tr>\n",
       "\t<tr><th scope=row>Col1a1</th><td>3767.525</td><td> 9.417875</td><td>0.4067599</td><td> 23.15340</td><td>1.343511e-118</td><td>9.708885e-115</td></tr>\n",
       "\t<tr><th scope=row>Tdh</th><td>8321.303</td><td>-7.761669</td><td>0.3695588</td><td>-21.00253</td><td> 6.218390e-98</td><td> 2.995813e-94</td></tr>\n",
       "\t<tr><th scope=row>Ccnd2</th><td>2290.531</td><td> 9.407858</td><td>0.4507644</td><td> 20.87090</td><td> 9.846209e-97</td><td> 3.557681e-93</td></tr>\n",
       "\t<tr><th scope=row>Col1a2</th><td>2296.689</td><td> 9.564556</td><td>0.4665376</td><td> 20.50115</td><td> 2.102742e-93</td><td> 6.078186e-90</td></tr>\n",
       "\t<tr><th scope=row>Pim2</th><td>6380.677</td><td> 6.261063</td><td>0.3076036</td><td> 20.35432</td><td> 4.250990e-92</td><td> 1.023993e-88</td></tr>\n",
       "</tbody>\n",
       "</table>\n"
      ],
      "text/latex": [
       "A data.frame: 6 × 6\n",
       "\\begin{tabular}{r|llllll}\n",
       "  & baseMean & log2FoldChange & lfcSE & stat & pvalue & padj\\\\\n",
       "  & <dbl> & <dbl> & <dbl> & <dbl> & <dbl> & <dbl>\\\\\n",
       "\\hline\n",
       "\tFlnc & 3345.676 &  8.986039 & 0.3870012 &  23.21967 & 2.882235e-119 & 4.165695e-115\\\\\n",
       "\tCol1a1 & 3767.525 &  9.417875 & 0.4067599 &  23.15340 & 1.343511e-118 & 9.708885e-115\\\\\n",
       "\tTdh & 8321.303 & -7.761669 & 0.3695588 & -21.00253 &  6.218390e-98 &  2.995813e-94\\\\\n",
       "\tCcnd2 & 2290.531 &  9.407858 & 0.4507644 &  20.87090 &  9.846209e-97 &  3.557681e-93\\\\\n",
       "\tCol1a2 & 2296.689 &  9.564556 & 0.4665376 &  20.50115 &  2.102742e-93 &  6.078186e-90\\\\\n",
       "\tPim2 & 6380.677 &  6.261063 & 0.3076036 &  20.35432 &  4.250990e-92 &  1.023993e-88\\\\\n",
       "\\end{tabular}\n"
      ],
      "text/markdown": [
       "\n",
       "A data.frame: 6 × 6\n",
       "\n",
       "| <!--/--> | baseMean &lt;dbl&gt; | log2FoldChange &lt;dbl&gt; | lfcSE &lt;dbl&gt; | stat &lt;dbl&gt; | pvalue &lt;dbl&gt; | padj &lt;dbl&gt; |\n",
       "|---|---|---|---|---|---|---|\n",
       "| Flnc | 3345.676 |  8.986039 | 0.3870012 |  23.21967 | 2.882235e-119 | 4.165695e-115 |\n",
       "| Col1a1 | 3767.525 |  9.417875 | 0.4067599 |  23.15340 | 1.343511e-118 | 9.708885e-115 |\n",
       "| Tdh | 8321.303 | -7.761669 | 0.3695588 | -21.00253 |  6.218390e-98 |  2.995813e-94 |\n",
       "| Ccnd2 | 2290.531 |  9.407858 | 0.4507644 |  20.87090 |  9.846209e-97 |  3.557681e-93 |\n",
       "| Col1a2 | 2296.689 |  9.564556 | 0.4665376 |  20.50115 |  2.102742e-93 |  6.078186e-90 |\n",
       "| Pim2 | 6380.677 |  6.261063 | 0.3076036 |  20.35432 |  4.250990e-92 |  1.023993e-88 |\n",
       "\n"
      ],
      "text/plain": [
       "       baseMean log2FoldChange lfcSE     stat      pvalue        padj         \n",
       "Flnc   3345.676  8.986039      0.3870012  23.21967 2.882235e-119 4.165695e-115\n",
       "Col1a1 3767.525  9.417875      0.4067599  23.15340 1.343511e-118 9.708885e-115\n",
       "Tdh    8321.303 -7.761669      0.3695588 -21.00253  6.218390e-98  2.995813e-94\n",
       "Ccnd2  2290.531  9.407858      0.4507644  20.87090  9.846209e-97  3.557681e-93\n",
       "Col1a2 2296.689  9.564556      0.4665376  20.50115  2.102742e-93  6.078186e-90\n",
       "Pim2   6380.677  6.261063      0.3076036  20.35432  4.250990e-92  1.023993e-88"
      ]
     },
     "metadata": {},
     "output_type": "display_data"
    }
   ],
   "source": [
    "DEG_DEseq2 <- na.omit(tempDEG)\n",
    "\n",
    "head(DEG_DEseq2)"
   ]
  },
  {
   "cell_type": "code",
   "execution_count": 42,
   "metadata": {
    "vscode": {
     "languageId": "r"
    }
   },
   "outputs": [],
   "source": [
    "write.csv(DEG_DEseq2, \"DEG_DEseq2.csv\") #  row.names=FALSE"
   ]
  },
  {
   "cell_type": "markdown",
   "metadata": {
    "vscode": {
     "languageId": "r"
    }
   },
   "source": [
    "## edgeR\n",
    "\n",
    "使用EdgeR时注意选择合适的分析算法，官方建议`bulk RNA-seq`选择`quasi-likelihood(QL) F-test tests`，scRNA-seq 或是没有重复样品的数据选用 `likelihood ratio test`。\n",
    "\n",
    "```R\n",
    "library(edgeR)  #install.packages(\"statmod\")\n",
    "library(statmod)\n",
    "\n",
    "#分组矩阵design构建\n",
    "group <- factor(group_list)\n",
    "group <- relevel(group,ctr)     #将对照组的因子设置为1\n",
    "design <- model.matrix(~0+group)\n",
    "rownames(design) <- colnames(counts)\n",
    "colnames(design) <- levels(group)\n",
    "\n",
    "## 表达矩阵DGEList构建与过滤低表达基因\n",
    "dge <- DGEList(counts=counts, group=group)\n",
    "keep.exprs <- filterByExpr(dge) #自动筛选过滤低表达基因\n",
    "dge <- dge[keep.exprs,,keep.lib.sizes=FALSE] \n",
    "dge <- calcNormFactors(dge, method = 'TMM') #归一化因子用于 normalizes the library sizes\n",
    "dge <- estimateDisp(dge, design, robust=T) \n",
    "\n",
    "## To perform quasi-likelihood(QL) F-test tests:  bulk RNA-seq \n",
    "fit <- glmQLFit(dge, design, robust=T)  #拟合模型 \n",
    "lt <- glmQLFTest(fit, contrast=c(-1,1)) #统计检验#注意比对顺序:实验-1 /对照1\n",
    "\n",
    "## To perform likelihood ratio test：  scRNA-seq and no replicates data\n",
    "# fit <- glmFit(dge, design, robust=T)\n",
    "# lt <- glmLRT(fit, contrast=c(-1,1))  #比对:顺序实验/对照，已设对照为1\n",
    "\n",
    "tempDEG <- topTags(lt, n = Inf) #sort by PValue, n is the number of genes/tags to return\n",
    "tempDEG <- as.data.frame(tempDEG)\n",
    "DEG_edgeR <- na.omit(tempDEG)\n",
    "```\n"
   ]
  },
  {
   "cell_type": "code",
   "execution_count": 46,
   "metadata": {
    "vscode": {
     "languageId": "r"
    }
   },
   "outputs": [
    {
     "data": {
      "text/html": [
       "<style>\n",
       ".list-inline {list-style: none; margin:0; padding: 0}\n",
       ".list-inline>li {display: inline-block}\n",
       ".list-inline>li:not(:last-child)::after {content: \"\\00b7\"; padding: 0 .5ex}\n",
       "</style>\n",
       "<ol class=list-inline><li>naive</li><li>naive</li><li>primed</li></ol>\n",
       "\n",
       "<details>\n",
       "\t<summary style=display:list-item;cursor:pointer>\n",
       "\t\t<strong>Levels</strong>:\n",
       "\t</summary>\n",
       "\t<style>\n",
       "\t.list-inline {list-style: none; margin:0; padding: 0}\n",
       "\t.list-inline>li {display: inline-block}\n",
       "\t.list-inline>li:not(:last-child)::after {content: \"\\00b7\"; padding: 0 .5ex}\n",
       "\t</style>\n",
       "\t<ol class=list-inline><li>'naive'</li><li>'primed'</li></ol>\n",
       "</details>"
      ],
      "text/latex": [
       "\\begin{enumerate*}\n",
       "\\item naive\n",
       "\\item naive\n",
       "\\item primed\n",
       "\\end{enumerate*}\n",
       "\n",
       "\\emph{Levels}: \\begin{enumerate*}\n",
       "\\item 'naive'\n",
       "\\item 'primed'\n",
       "\\end{enumerate*}\n"
      ],
      "text/markdown": [
       "1. naive\n",
       "2. naive\n",
       "3. primed\n",
       "\n",
       "\n",
       "\n",
       "**Levels**: 1. 'naive'\n",
       "2. 'primed'\n",
       "\n",
       "\n"
      ],
      "text/plain": [
       "[1] naive  naive  primed\n",
       "Levels: naive primed"
      ]
     },
     "metadata": {},
     "output_type": "display_data"
    }
   ],
   "source": [
    "library(edgeR)  #install.packages(\"statmod\")\n",
    "library(statmod)\n",
    "#分组矩阵design构建\n",
    "group <- factor(group_list)\n",
    "group <- relevel(group,ctr)     #将对照组的因子设置为1\n",
    "\n",
    "group"
   ]
  },
  {
   "cell_type": "code",
   "execution_count": 47,
   "metadata": {
    "vscode": {
     "languageId": "r"
    }
   },
   "outputs": [
    {
     "data": {
      "text/html": [
       "<table class=\"dataframe\">\n",
       "<caption>A matrix: 3 × 2 of type dbl</caption>\n",
       "<thead>\n",
       "\t<tr><th></th><th scope=col>groupnaive</th><th scope=col>groupprimed</th></tr>\n",
       "</thead>\n",
       "<tbody>\n",
       "\t<tr><th scope=row>1</th><td>1</td><td>0</td></tr>\n",
       "\t<tr><th scope=row>2</th><td>1</td><td>0</td></tr>\n",
       "\t<tr><th scope=row>3</th><td>0</td><td>1</td></tr>\n",
       "</tbody>\n",
       "</table>\n"
      ],
      "text/latex": [
       "A matrix: 3 × 2 of type dbl\n",
       "\\begin{tabular}{r|ll}\n",
       "  & groupnaive & groupprimed\\\\\n",
       "\\hline\n",
       "\t1 & 1 & 0\\\\\n",
       "\t2 & 1 & 0\\\\\n",
       "\t3 & 0 & 1\\\\\n",
       "\\end{tabular}\n"
      ],
      "text/markdown": [
       "\n",
       "A matrix: 3 × 2 of type dbl\n",
       "\n",
       "| <!--/--> | groupnaive | groupprimed |\n",
       "|---|---|---|\n",
       "| 1 | 1 | 0 |\n",
       "| 2 | 1 | 0 |\n",
       "| 3 | 0 | 1 |\n",
       "\n"
      ],
      "text/plain": [
       "  groupnaive groupprimed\n",
       "1 1          0          \n",
       "2 1          0          \n",
       "3 0          1          "
      ]
     },
     "metadata": {},
     "output_type": "display_data"
    }
   ],
   "source": [
    "design <- model.matrix(~0+group)\n",
    "design"
   ]
  },
  {
   "cell_type": "code",
   "execution_count": 48,
   "metadata": {
    "vscode": {
     "languageId": "r"
    }
   },
   "outputs": [],
   "source": [
    "rownames(design) <- colnames(counts)\n",
    "colnames(design) <- levels(group)"
   ]
  },
  {
   "cell_type": "code",
   "execution_count": 49,
   "metadata": {
    "vscode": {
     "languageId": "r"
    }
   },
   "outputs": [
    {
     "data": {
      "text/html": [
       "<table class=\"dataframe\">\n",
       "<caption>A matrix: 3 × 2 of type dbl</caption>\n",
       "<thead>\n",
       "\t<tr><th></th><th scope=col>naive</th><th scope=col>primed</th></tr>\n",
       "</thead>\n",
       "<tbody>\n",
       "\t<tr><th scope=row>RNA_mESCs_1</th><td>1</td><td>0</td></tr>\n",
       "\t<tr><th scope=row>RNA_mESCs_2</th><td>1</td><td>0</td></tr>\n",
       "\t<tr><th scope=row>RNA_mESCs_3</th><td>0</td><td>1</td></tr>\n",
       "</tbody>\n",
       "</table>\n"
      ],
      "text/latex": [
       "A matrix: 3 × 2 of type dbl\n",
       "\\begin{tabular}{r|ll}\n",
       "  & naive & primed\\\\\n",
       "\\hline\n",
       "\tRNA\\_mESCs\\_1 & 1 & 0\\\\\n",
       "\tRNA\\_mESCs\\_2 & 1 & 0\\\\\n",
       "\tRNA\\_mESCs\\_3 & 0 & 1\\\\\n",
       "\\end{tabular}\n"
      ],
      "text/markdown": [
       "\n",
       "A matrix: 3 × 2 of type dbl\n",
       "\n",
       "| <!--/--> | naive | primed |\n",
       "|---|---|---|\n",
       "| RNA_mESCs_1 | 1 | 0 |\n",
       "| RNA_mESCs_2 | 1 | 0 |\n",
       "| RNA_mESCs_3 | 0 | 1 |\n",
       "\n"
      ],
      "text/plain": [
       "            naive primed\n",
       "RNA_mESCs_1 1     0     \n",
       "RNA_mESCs_2 1     0     \n",
       "RNA_mESCs_3 0     1     "
      ]
     },
     "metadata": {},
     "output_type": "display_data"
    }
   ],
   "source": [
    "design"
   ]
  },
  {
   "cell_type": "code",
   "execution_count": 50,
   "metadata": {
    "vscode": {
     "languageId": "r"
    }
   },
   "outputs": [],
   "source": [
    "## 表达矩阵DGEList构建与过滤低表达基因\n",
    "dge <- DGEList(counts=counts, group=group)\n",
    "keep.exprs <- filterByExpr(dge) #自动筛选过滤低表达基因\n",
    "dge <- dge[keep.exprs,,keep.lib.sizes=FALSE] \n",
    "dge <- calcNormFactors(dge, method = 'TMM') #归一化因子用于 normalizes the library sizes\n",
    "dge <- estimateDisp(dge, design, robust=T) "
   ]
  },
  {
   "cell_type": "code",
   "execution_count": 51,
   "metadata": {
    "vscode": {
     "languageId": "r"
    }
   },
   "outputs": [],
   "source": [
    "## To perform quasi-likelihood(QL) F-test tests:  bulk RNA-seq \n",
    "fit <- glmQLFit(dge, design, robust=T)  #拟合模型 \n",
    "lt <- glmQLFTest(fit, contrast=c(-1,1)) #统计检验#注意比对顺序:实验-1 /对照1"
   ]
  },
  {
   "cell_type": "code",
   "execution_count": 52,
   "metadata": {
    "vscode": {
     "languageId": "r"
    }
   },
   "outputs": [
    {
     "data": {
      "text/html": [
       "<table class=\"dataframe\">\n",
       "<caption>A data.frame: 6 × 5</caption>\n",
       "<thead>\n",
       "\t<tr><th></th><th scope=col>logFC</th><th scope=col>logCPM</th><th scope=col>F</th><th scope=col>PValue</th><th scope=col>FDR</th></tr>\n",
       "\t<tr><th></th><th scope=col>&lt;dbl&gt;</th><th scope=col>&lt;dbl&gt;</th><th scope=col>&lt;dbl&gt;</th><th scope=col>&lt;dbl&gt;</th><th scope=col>&lt;dbl&gt;</th></tr>\n",
       "</thead>\n",
       "<tbody>\n",
       "\t<tr><th scope=row>Thbs1</th><td>11.818224</td><td>6.854249</td><td>802.1300</td><td>8.326680e-11</td><td>1.075151e-06</td></tr>\n",
       "\t<tr><th scope=row>Flnc</th><td> 8.946265</td><td>7.772494</td><td>860.1838</td><td>1.903734e-10</td><td>1.075151e-06</td></tr>\n",
       "\t<tr><th scope=row>Ccnd2</th><td> 9.359894</td><td>7.225570</td><td>833.4719</td><td>2.234467e-10</td><td>1.075151e-06</td></tr>\n",
       "\t<tr><th scope=row>Col1a2</th><td> 9.512840</td><td>7.229433</td><td>709.8172</td><td>4.683039e-10</td><td>1.429758e-06</td></tr>\n",
       "\t<tr><th scope=row>Col1a1</th><td> 9.377527</td><td>7.943848</td><td>717.8321</td><td>4.952400e-10</td><td>1.429758e-06</td></tr>\n",
       "\t<tr><th scope=row>Nnat</th><td> 8.921586</td><td>6.925845</td><td>608.7556</td><td>1.017035e-09</td><td>2.017942e-06</td></tr>\n",
       "</tbody>\n",
       "</table>\n"
      ],
      "text/latex": [
       "A data.frame: 6 × 5\n",
       "\\begin{tabular}{r|lllll}\n",
       "  & logFC & logCPM & F & PValue & FDR\\\\\n",
       "  & <dbl> & <dbl> & <dbl> & <dbl> & <dbl>\\\\\n",
       "\\hline\n",
       "\tThbs1 & 11.818224 & 6.854249 & 802.1300 & 8.326680e-11 & 1.075151e-06\\\\\n",
       "\tFlnc &  8.946265 & 7.772494 & 860.1838 & 1.903734e-10 & 1.075151e-06\\\\\n",
       "\tCcnd2 &  9.359894 & 7.225570 & 833.4719 & 2.234467e-10 & 1.075151e-06\\\\\n",
       "\tCol1a2 &  9.512840 & 7.229433 & 709.8172 & 4.683039e-10 & 1.429758e-06\\\\\n",
       "\tCol1a1 &  9.377527 & 7.943848 & 717.8321 & 4.952400e-10 & 1.429758e-06\\\\\n",
       "\tNnat &  8.921586 & 6.925845 & 608.7556 & 1.017035e-09 & 2.017942e-06\\\\\n",
       "\\end{tabular}\n"
      ],
      "text/markdown": [
       "\n",
       "A data.frame: 6 × 5\n",
       "\n",
       "| <!--/--> | logFC &lt;dbl&gt; | logCPM &lt;dbl&gt; | F &lt;dbl&gt; | PValue &lt;dbl&gt; | FDR &lt;dbl&gt; |\n",
       "|---|---|---|---|---|---|\n",
       "| Thbs1 | 11.818224 | 6.854249 | 802.1300 | 8.326680e-11 | 1.075151e-06 |\n",
       "| Flnc |  8.946265 | 7.772494 | 860.1838 | 1.903734e-10 | 1.075151e-06 |\n",
       "| Ccnd2 |  9.359894 | 7.225570 | 833.4719 | 2.234467e-10 | 1.075151e-06 |\n",
       "| Col1a2 |  9.512840 | 7.229433 | 709.8172 | 4.683039e-10 | 1.429758e-06 |\n",
       "| Col1a1 |  9.377527 | 7.943848 | 717.8321 | 4.952400e-10 | 1.429758e-06 |\n",
       "| Nnat |  8.921586 | 6.925845 | 608.7556 | 1.017035e-09 | 2.017942e-06 |\n",
       "\n"
      ],
      "text/plain": [
       "       logFC     logCPM   F        PValue       FDR         \n",
       "Thbs1  11.818224 6.854249 802.1300 8.326680e-11 1.075151e-06\n",
       "Flnc    8.946265 7.772494 860.1838 1.903734e-10 1.075151e-06\n",
       "Ccnd2   9.359894 7.225570 833.4719 2.234467e-10 1.075151e-06\n",
       "Col1a2  9.512840 7.229433 709.8172 4.683039e-10 1.429758e-06\n",
       "Col1a1  9.377527 7.943848 717.8321 4.952400e-10 1.429758e-06\n",
       "Nnat    8.921586 6.925845 608.7556 1.017035e-09 2.017942e-06"
      ]
     },
     "metadata": {},
     "output_type": "display_data"
    }
   ],
   "source": [
    "## To perform likelihood ratio test：  scRNA-seq and no replicates data\n",
    "# fit <- glmFit(dge, design, robust=T)\n",
    "# lt <- glmLRT(fit, contrast=c(-1,1))  #比对:顺序实验/对照，已设对照为1\n",
    "\n",
    "tempDEG <- topTags(lt, n = Inf) #sort by PValue, n is the number of genes/tags to return\n",
    "tempDEG <- as.data.frame(tempDEG)\n",
    "DEG_edgeR <- na.omit(tempDEG)\n",
    "\n",
    "head(DEG_edgeR)"
   ]
  },
  {
   "cell_type": "code",
   "execution_count": 53,
   "metadata": {
    "vscode": {
     "languageId": "r"
    }
   },
   "outputs": [],
   "source": [
    "write.csv(DEG_edgeR, \"./edgeR.csv\")"
   ]
  },
  {
   "cell_type": "markdown",
   "metadata": {},
   "source": [
    "## limma\n",
    "\n",
    "limma进行差异分析有两种方法 ：limma-trend和voom，在样本测序深度相差不大时两种方法差距不大，而测序深度相差大时voom更有优势，因此我们一般都选择voom的方法进行差异分析。`Limma-voom` vs `limma-trend `(bioconductor.org)\n",
    "\n",
    "```R\n",
    "library(limma)\n",
    "library(edgeR)\n",
    "\n",
    "#分组矩阵design构建\n",
    "design <- model.matrix(~0+factor(group_list)) #构建分组矩阵\n",
    "colnames(design) <- levels(factor(group_list))\n",
    "rownames(design) <- colnames(counts)\n",
    "\n",
    "## 表达矩阵DGEList构建与过滤低表达基因\n",
    "dge <- DGEList(counts=counts) \n",
    "keep.exprs <- filterByExpr(dge,design=design) #过滤低表达基因\n",
    "dge <- dge[keep.exprs,,keep.lib.sizes=FALSE] \n",
    "dge <- calcNormFactors(dge)  #归一化基因表达分布,得到的归一化系数被用作文库大小的缩放系数\n",
    "cont.matrix <- makeContrasts(contrasts=paste0(exp,'-',ctr), #比对顺序实验/对照\n",
    "                             levels = design)\n",
    "\n",
    "## DE分析  limma-trend（logCPM,有相似文库大小）  or  voom（文库大小差异大）\n",
    "# de <- cpm(dge, log=TRUE, prior.count=3)  #如选择logCPM，则eBayes设trend=TRUE\n",
    "de <- voom(dge,design,plot=TRUE, normalize=\"quantile\")\n",
    "fit1 <- lmFit(de, design)               #线性拟合\n",
    "fit2 <- contrasts.fit(fit1,cont.matrix) #统计检验\n",
    "efit <- eBayes(fit2, trend=F)  #Apply empirical Bayes smoothing to the standard errors\n",
    "\n",
    "tempDEG <- topTable(efit, coef=paste0(exp,'-',ctr), n=Inf)  #padj值从小到大排列\n",
    "DEG_limma_voom  <- na.omit(tempDEG)\n",
    "```\n"
   ]
  },
  {
   "cell_type": "code",
   "execution_count": 54,
   "metadata": {
    "vscode": {
     "languageId": "r"
    }
   },
   "outputs": [],
   "source": [
    "library(limma)\n",
    "library(edgeR)\n",
    "\n"
   ]
  },
  {
   "cell_type": "code",
   "execution_count": 57,
   "metadata": {
    "vscode": {
     "languageId": "r"
    }
   },
   "outputs": [
    {
     "data": {
      "text/html": [
       "<style>\n",
       ".list-inline {list-style: none; margin:0; padding: 0}\n",
       ".list-inline>li {display: inline-block}\n",
       ".list-inline>li:not(:last-child)::after {content: \"\\00b7\"; padding: 0 .5ex}\n",
       "</style>\n",
       "<ol class=list-inline><li>naive</li><li>naive</li><li>primed</li></ol>\n",
       "\n",
       "<details>\n",
       "\t<summary style=display:list-item;cursor:pointer>\n",
       "\t\t<strong>Levels</strong>:\n",
       "\t</summary>\n",
       "\t<style>\n",
       "\t.list-inline {list-style: none; margin:0; padding: 0}\n",
       "\t.list-inline>li {display: inline-block}\n",
       "\t.list-inline>li:not(:last-child)::after {content: \"\\00b7\"; padding: 0 .5ex}\n",
       "\t</style>\n",
       "\t<ol class=list-inline><li>'naive'</li><li>'primed'</li></ol>\n",
       "</details>"
      ],
      "text/latex": [
       "\\begin{enumerate*}\n",
       "\\item naive\n",
       "\\item naive\n",
       "\\item primed\n",
       "\\end{enumerate*}\n",
       "\n",
       "\\emph{Levels}: \\begin{enumerate*}\n",
       "\\item 'naive'\n",
       "\\item 'primed'\n",
       "\\end{enumerate*}\n"
      ],
      "text/markdown": [
       "1. naive\n",
       "2. naive\n",
       "3. primed\n",
       "\n",
       "\n",
       "\n",
       "**Levels**: 1. 'naive'\n",
       "2. 'primed'\n",
       "\n",
       "\n"
      ],
      "text/plain": [
       "[1] naive  naive  primed\n",
       "Levels: naive primed"
      ]
     },
     "metadata": {},
     "output_type": "display_data"
    }
   ],
   "source": [
    "factor(group_list)"
   ]
  },
  {
   "cell_type": "code",
   "execution_count": 55,
   "metadata": {
    "vscode": {
     "languageId": "r"
    }
   },
   "outputs": [
    {
     "data": {
      "text/html": [
       "<table class=\"dataframe\">\n",
       "<caption>A matrix: 3 × 2 of type dbl</caption>\n",
       "<thead>\n",
       "\t<tr><th></th><th scope=col>factor(group_list)naive</th><th scope=col>factor(group_list)primed</th></tr>\n",
       "</thead>\n",
       "<tbody>\n",
       "\t<tr><th scope=row>1</th><td>1</td><td>0</td></tr>\n",
       "\t<tr><th scope=row>2</th><td>1</td><td>0</td></tr>\n",
       "\t<tr><th scope=row>3</th><td>0</td><td>1</td></tr>\n",
       "</tbody>\n",
       "</table>\n"
      ],
      "text/latex": [
       "A matrix: 3 × 2 of type dbl\n",
       "\\begin{tabular}{r|ll}\n",
       "  & factor(group\\_list)naive & factor(group\\_list)primed\\\\\n",
       "\\hline\n",
       "\t1 & 1 & 0\\\\\n",
       "\t2 & 1 & 0\\\\\n",
       "\t3 & 0 & 1\\\\\n",
       "\\end{tabular}\n"
      ],
      "text/markdown": [
       "\n",
       "A matrix: 3 × 2 of type dbl\n",
       "\n",
       "| <!--/--> | factor(group_list)naive | factor(group_list)primed |\n",
       "|---|---|---|\n",
       "| 1 | 1 | 0 |\n",
       "| 2 | 1 | 0 |\n",
       "| 3 | 0 | 1 |\n",
       "\n"
      ],
      "text/plain": [
       "  factor(group_list)naive factor(group_list)primed\n",
       "1 1                       0                       \n",
       "2 1                       0                       \n",
       "3 0                       1                       "
      ]
     },
     "metadata": {},
     "output_type": "display_data"
    }
   ],
   "source": [
    "#分组矩阵design构建\n",
    "design <- model.matrix(~0+factor(group_list)) #构建分组矩阵\n",
    "design\n",
    "colnames(design) <- levels(factor(group_list))\n",
    "rownames(design) <- colnames(counts)"
   ]
  },
  {
   "cell_type": "code",
   "execution_count": 58,
   "metadata": {
    "vscode": {
     "languageId": "r"
    }
   },
   "outputs": [],
   "source": [
    "## 表达矩阵DGEList构建与过滤低表达基因\n",
    "dge <- DGEList(counts=counts) \n",
    "keep.exprs <- filterByExpr(dge,design=design) #过滤低表达基因\n",
    "dge <- dge[keep.exprs,,keep.lib.sizes=FALSE] \n",
    "dge <- calcNormFactors(dge)  #归一化基因表达分布,得到的归一化系数被用作文库大小的缩放系数\n",
    "cont.matrix <- makeContrasts(contrasts=paste0(exp,'-',ctr), #比对顺序实验/对照\n",
    "                             levels = design)"
   ]
  },
  {
   "cell_type": "code",
   "execution_count": 59,
   "metadata": {
    "vscode": {
     "languageId": "r"
    }
   },
   "outputs": [
    {
     "name": "stderr",
     "output_type": "stream",
     "text": [
      "Warning message:\n",
      "“Zero sample variances detected, have been offset away from zero”\n"
     ]
    },
    {
     "data": {
      "image/png": "[encoded data removed]",
      "text/plain": [
       "Plot with title “voom: Mean-variance trend”"
      ]
     },
     "metadata": {
      "image/png": {
       "height": 420,
       "width": 420
      }
     },
     "output_type": "display_data"
    }
   ],
   "source": [
    "## DE分析  limma-trend（logCPM,有相似文库大小）  or  voom（文库大小差异大）\n",
    "# de <- cpm(dge, log=TRUE, prior.count=3)  #如选择logCPM，则eBayes设trend=TRUE\n",
    "de <- voom(dge,design,plot=TRUE, normalize=\"quantile\")\n",
    "fit1 <- lmFit(de, design)               #线性拟合\n",
    "fit2 <- contrasts.fit(fit1,cont.matrix) #统计检验\n",
    "efit <- eBayes(fit2, trend=F)  #Apply empirical Bayes smoothing to the standard errors\n",
    "\n",
    "tempDEG <- topTable(efit, coef=paste0(exp,'-',ctr), n=Inf)  #padj值从小到大排列\n",
    "DEG_limma_voom  <- na.omit(tempDEG)"
   ]
  },
  {
   "cell_type": "code",
   "execution_count": 60,
   "metadata": {
    "vscode": {
     "languageId": "r"
    }
   },
   "outputs": [],
   "source": [
    "write.csv(DEG_limma_voom, \"DEG_limma_voom.csv\")"
   ]
  },
  {
   "cell_type": "markdown",
   "metadata": {},
   "source": [
    "## 4. 保存DEG数据\n"
   ]
  },
  {
   "cell_type": "code",
   "execution_count": 63,
   "metadata": {
    "vscode": {
     "languageId": "r"
    }
   },
   "outputs": [
    {
     "data": {
      "text/html": [
       "<style>\n",
       ".list-inline {list-style: none; margin:0; padding: 0}\n",
       ".list-inline>li {display: inline-block}\n",
       ".list-inline>li:not(:last-child)::after {content: \"\\00b7\"; padding: 0 .5ex}\n",
       "</style>\n",
       "<ol class=list-inline><li>'Tpm1'</li><li>'Pim2'</li><li>'Peg10'</li><li>'Cnn2'</li><li>'Grb10'</li><li>'Gm28437'</li></ol>\n"
      ],
      "text/latex": [
       "\\begin{enumerate*}\n",
       "\\item 'Tpm1'\n",
       "\\item 'Pim2'\n",
       "\\item 'Peg10'\n",
       "\\item 'Cnn2'\n",
       "\\item 'Grb10'\n",
       "\\item 'Gm28437'\n",
       "\\end{enumerate*}\n"
      ],
      "text/markdown": [
       "1. 'Tpm1'\n",
       "2. 'Pim2'\n",
       "3. 'Peg10'\n",
       "4. 'Cnn2'\n",
       "5. 'Grb10'\n",
       "6. 'Gm28437'\n",
       "\n",
       "\n"
      ],
      "text/plain": [
       "[1] \"Tpm1\"    \"Pim2\"    \"Peg10\"   \"Cnn2\"    \"Grb10\"   \"Gm28437\""
      ]
     },
     "metadata": {},
     "output_type": "display_data"
    }
   ],
   "source": [
    "#### 保存DEG数据 ####\n",
    "save(DEG_limma_voom,DEG_DEseq2,DEG_edgeR,\n",
    "       file ='test_DEG_results.Rdata') \n",
    "\n",
    "#### 合并三种DEG文件交集至csv\n",
    "allg <- intersect(rownames(DEG_limma_voom),rownames(DEG_edgeR))#取交集\n",
    "allg <- intersect(allg,rownames(DEG_DEseq2))\n",
    "head(allg)"
   ]
  },
  {
   "cell_type": "code",
   "execution_count": 64,
   "metadata": {
    "vscode": {
     "languageId": "r"
    }
   },
   "outputs": [
    {
     "data": {
      "text/html": [
       "<style>\n",
       ".list-inline {list-style: none; margin:0; padding: 0}\n",
       ".list-inline>li {display: inline-block}\n",
       ".list-inline>li:not(:last-child)::after {content: \"\\00b7\"; padding: 0 .5ex}\n",
       "</style>\n",
       "<ol class=list-inline><li>'logFC'</li><li>'P.Value'</li><li>'adj.P.Val'</li><li>'logFC'</li><li>'PValue'</li><li>'FDR'</li><li>'log2FoldChange'</li><li>'pvalue'</li><li>'padj'</li></ol>\n"
      ],
      "text/latex": [
       "\\begin{enumerate*}\n",
       "\\item 'logFC'\n",
       "\\item 'P.Value'\n",
       "\\item 'adj.P.Val'\n",
       "\\item 'logFC'\n",
       "\\item 'PValue'\n",
       "\\item 'FDR'\n",
       "\\item 'log2FoldChange'\n",
       "\\item 'pvalue'\n",
       "\\item 'padj'\n",
       "\\end{enumerate*}\n"
      ],
      "text/markdown": [
       "1. 'logFC'\n",
       "2. 'P.Value'\n",
       "3. 'adj.P.Val'\n",
       "4. 'logFC'\n",
       "5. 'PValue'\n",
       "6. 'FDR'\n",
       "7. 'log2FoldChange'\n",
       "8. 'pvalue'\n",
       "9. 'padj'\n",
       "\n",
       "\n"
      ],
      "text/plain": [
       "[1] \"logFC\"          \"P.Value\"        \"adj.P.Val\"      \"logFC\"         \n",
       "[5] \"PValue\"         \"FDR\"            \"log2FoldChange\" \"pvalue\"        \n",
       "[9] \"padj\"          "
      ]
     },
     "metadata": {},
     "output_type": "display_data"
    }
   ],
   "source": [
    "ALL_DEG <- cbind(DEG_limma_voom[allg,c(1,4,5)],\n",
    "                 DEG_edgeR[allg,c(1,4,5)],\n",
    "                 DEG_DEseq2[allg,c(2,5,6)]) \n",
    "colnames(ALL_DEG)\n",
    "colnames(ALL_DEG) <- c('limma_log2FC','limma_pvalue','limma_padj',\n",
    "                        'edgeR_log2FC','edgeR_pvalue','edgeR_padj',\n",
    "                        'DEseq2_log2FC','DEseq2_pvalue','DEseq2_padj')\n",
    "write.csv(ALL_DEG,file = 'test_DEG_results.csv')"
   ]
  },
  {
   "cell_type": "markdown",
   "metadata": {},
   "source": [
    "## 二、3种差异分析结果比较\n",
    "\n",
    "由于本次样品两组间差异十分显著，差异基因很多，因此筛选阈值调整为：`FoldChang=10，padj=0.001`。一般情况下选择`FoldChang=1.5~4，padj<=0.05`即可，根据样本情况而定。 下面查看三种差异分析结果的相关性和差异基因的重叠情况。\n",
    "\n",
    "```R\n",
    "#### 比较一下三种DEG方法结果 ####\n",
    "load(list.files(pattern = 'DEG_results.Rdata'))\n",
    "a <- read.csv(file = list.files(pattern = 'DEG_results.csv'),\n",
    "              header = T,\n",
    "              row.names = 1)\n",
    "\n",
    "#查看相关性、一致性\n",
    "colnames(a)\n",
    "print(cor(a[,c(1,4,7)])) \n",
    "\n",
    "#查看显著差异基因重叠性，绘制韦恩图\n",
    "#BiocManager::install(\"RBGL\") #安装依赖包\n",
    "#install.packages(\"Vennerable\", repos=\"http://R-Forge.R-project.org\") #安装Vennerable包\n",
    "library(Vennerable) \n",
    "\n",
    "log2FC_cutoff=log2(10);  p_cutoff=0.001   #筛选显著差异基因比较\n",
    "if(T){#根据Padj筛选\n",
    "DEseq2_deg <- rownames(DEG_DEseq2[with(DEG_DEseq2,abs(log2FoldChange)>log2FC_cutoff & padj<p_cutoff),])\n",
    "edgeR_deg <- rownames(DEG_edgeR[with(DEG_edgeR,abs(logFC)>log2FC_cutoff & FDR<p_cutoff),])\n",
    "limma_deg <- rownames(DEG_limma_voom[with(DEG_limma_voom,abs(logFC)>log2FC_cutoff & adj.P.Val<p_cutoff),])\n",
    "}\n",
    "\n",
    "mylist <- list(DEseq2=DEseq2_deg, edgeR=edgeR_deg, limma=limma_deg)\n",
    "str(mylist)\n",
    "Vennplot <- Venn(mylist)\n",
    "Vennplot1 <- Vennplot[,c('DEseq2','edgeR')]\n",
    "Vennplot2 <- Vennplot[,c('DEseq2','limma')]\n",
    "Vennplot3 <- Vennplot[,c('limma','edgeR')]\n",
    "\n",
    "pdf(file = paste0('3DEG_Vennplot_lg2FC',log2FC_cutoff,'.pdf'))\n",
    "plot(Vennplot, doWeights = F)\n",
    "plot(Vennplot, doWeights = T) #doWeights=T设置为按数量比例绘图\n",
    "plot(Vennplot1, doWeights = T)\n",
    "plot(Vennplot2, doWeights = T)\n",
    "plot(Vennplot3, doWeights = T)\n",
    "# dev.off()\n",
    "```\n"
   ]
  },
  {
   "cell_type": "code",
   "execution_count": 65,
   "metadata": {
    "vscode": {
     "languageId": "r"
    }
   },
   "outputs": [
    {
     "data": {
      "text/html": [
       "'test_DEG_results.csv'"
      ],
      "text/latex": [
       "'test\\_DEG\\_results.csv'"
      ],
      "text/markdown": [
       "'test_DEG_results.csv'"
      ],
      "text/plain": [
       "[1] \"test_DEG_results.csv\""
      ]
     },
     "metadata": {},
     "output_type": "display_data"
    },
    {
     "data": {
      "text/html": [
       "<table class=\"dataframe\">\n",
       "<caption>A data.frame: 6 × 9</caption>\n",
       "<thead>\n",
       "\t<tr><th></th><th scope=col>limma_log2FC</th><th scope=col>limma_pvalue</th><th scope=col>limma_padj</th><th scope=col>edgeR_log2FC</th><th scope=col>edgeR_pvalue</th><th scope=col>edgeR_padj</th><th scope=col>DEseq2_log2FC</th><th scope=col>DEseq2_pvalue</th><th scope=col>DEseq2_padj</th></tr>\n",
       "\t<tr><th></th><th scope=col>&lt;dbl&gt;</th><th scope=col>&lt;dbl&gt;</th><th scope=col>&lt;dbl&gt;</th><th scope=col>&lt;dbl&gt;</th><th scope=col>&lt;dbl&gt;</th><th scope=col>&lt;dbl&gt;</th><th scope=col>&lt;dbl&gt;</th><th scope=col>&lt;dbl&gt;</th><th scope=col>&lt;dbl&gt;</th></tr>\n",
       "</thead>\n",
       "<tbody>\n",
       "\t<tr><th scope=row>Tpm1</th><td>4.946443</td><td>6.347314e-06</td><td>0.01508032</td><td>4.849864</td><td>5.378621e-09</td><td>2.742934e-06</td><td>4.880980</td><td>6.676383e-61</td><td>3.711299e-58</td></tr>\n",
       "\t<tr><th scope=row>Pim2</th><td>6.328607</td><td>4.870439e-06</td><td>0.01508032</td><td>6.229345</td><td>1.099565e-09</td><td>2.017942e-06</td><td>6.261063</td><td>4.250990e-92</td><td>1.023993e-88</td></tr>\n",
       "\t<tr><th scope=row>Peg10</th><td>6.905772</td><td>8.850248e-06</td><td>0.01508032</td><td>6.764739</td><td>2.661146e-09</td><td>2.742934e-06</td><td>6.796205</td><td>2.314311e-91</td><td>4.778392e-88</td></tr>\n",
       "\t<tr><th scope=row>Cnn2</th><td>4.735250</td><td>1.345062e-05</td><td>0.01508032</td><td>4.747496</td><td>9.356466e-09</td><td>2.904057e-06</td><td>4.778866</td><td>8.216343e-53</td><td>3.298633e-50</td></tr>\n",
       "\t<tr><th scope=row>Grb10</th><td>5.326215</td><td>1.424813e-05</td><td>0.01508032</td><td>5.252398</td><td>6.411420e-09</td><td>2.747673e-06</td><td>5.283679</td><td>1.380200e-62</td><td>8.673058e-60</td></tr>\n",
       "\t<tr><th scope=row>Gm28437</th><td>6.128020</td><td>1.481064e-05</td><td>0.01508032</td><td>6.155817</td><td>5.417522e-09</td><td>2.742934e-06</td><td>6.186847</td><td>3.150111e-78</td><td>3.035237e-75</td></tr>\n",
       "</tbody>\n",
       "</table>\n"
      ],
      "text/latex": [
       "A data.frame: 6 × 9\n",
       "\\begin{tabular}{r|lllllllll}\n",
       "  & limma\\_log2FC & limma\\_pvalue & limma\\_padj & edgeR\\_log2FC & edgeR\\_pvalue & edgeR\\_padj & DEseq2\\_log2FC & DEseq2\\_pvalue & DEseq2\\_padj\\\\\n",
       "  & <dbl> & <dbl> & <dbl> & <dbl> & <dbl> & <dbl> & <dbl> & <dbl> & <dbl>\\\\\n",
       "\\hline\n",
       "\tTpm1 & 4.946443 & 6.347314e-06 & 0.01508032 & 4.849864 & 5.378621e-09 & 2.742934e-06 & 4.880980 & 6.676383e-61 & 3.711299e-58\\\\\n",
       "\tPim2 & 6.328607 & 4.870439e-06 & 0.01508032 & 6.229345 & 1.099565e-09 & 2.017942e-06 & 6.261063 & 4.250990e-92 & 1.023993e-88\\\\\n",
       "\tPeg10 & 6.905772 & 8.850248e-06 & 0.01508032 & 6.764739 & 2.661146e-09 & 2.742934e-06 & 6.796205 & 2.314311e-91 & 4.778392e-88\\\\\n",
       "\tCnn2 & 4.735250 & 1.345062e-05 & 0.01508032 & 4.747496 & 9.356466e-09 & 2.904057e-06 & 4.778866 & 8.216343e-53 & 3.298633e-50\\\\\n",
       "\tGrb10 & 5.326215 & 1.424813e-05 & 0.01508032 & 5.252398 & 6.411420e-09 & 2.747673e-06 & 5.283679 & 1.380200e-62 & 8.673058e-60\\\\\n",
       "\tGm28437 & 6.128020 & 1.481064e-05 & 0.01508032 & 6.155817 & 5.417522e-09 & 2.742934e-06 & 6.186847 & 3.150111e-78 & 3.035237e-75\\\\\n",
       "\\end{tabular}\n"
      ],
      "text/markdown": [
       "\n",
       "A data.frame: 6 × 9\n",
       "\n",
       "| <!--/--> | limma_log2FC &lt;dbl&gt; | limma_pvalue &lt;dbl&gt; | limma_padj &lt;dbl&gt; | edgeR_log2FC &lt;dbl&gt; | edgeR_pvalue &lt;dbl&gt; | edgeR_padj &lt;dbl&gt; | DEseq2_log2FC &lt;dbl&gt; | DEseq2_pvalue &lt;dbl&gt; | DEseq2_padj &lt;dbl&gt; |\n",
       "|---|---|---|---|---|---|---|---|---|---|\n",
       "| Tpm1 | 4.946443 | 6.347314e-06 | 0.01508032 | 4.849864 | 5.378621e-09 | 2.742934e-06 | 4.880980 | 6.676383e-61 | 3.711299e-58 |\n",
       "| Pim2 | 6.328607 | 4.870439e-06 | 0.01508032 | 6.229345 | 1.099565e-09 | 2.017942e-06 | 6.261063 | 4.250990e-92 | 1.023993e-88 |\n",
       "| Peg10 | 6.905772 | 8.850248e-06 | 0.01508032 | 6.764739 | 2.661146e-09 | 2.742934e-06 | 6.796205 | 2.314311e-91 | 4.778392e-88 |\n",
       "| Cnn2 | 4.735250 | 1.345062e-05 | 0.01508032 | 4.747496 | 9.356466e-09 | 2.904057e-06 | 4.778866 | 8.216343e-53 | 3.298633e-50 |\n",
       "| Grb10 | 5.326215 | 1.424813e-05 | 0.01508032 | 5.252398 | 6.411420e-09 | 2.747673e-06 | 5.283679 | 1.380200e-62 | 8.673058e-60 |\n",
       "| Gm28437 | 6.128020 | 1.481064e-05 | 0.01508032 | 6.155817 | 5.417522e-09 | 2.742934e-06 | 6.186847 | 3.150111e-78 | 3.035237e-75 |\n",
       "\n"
      ],
      "text/plain": [
       "        limma_log2FC limma_pvalue limma_padj edgeR_log2FC edgeR_pvalue\n",
       "Tpm1    4.946443     6.347314e-06 0.01508032 4.849864     5.378621e-09\n",
       "Pim2    6.328607     4.870439e-06 0.01508032 6.229345     1.099565e-09\n",
       "Peg10   6.905772     8.850248e-06 0.01508032 6.764739     2.661146e-09\n",
       "Cnn2    4.735250     1.345062e-05 0.01508032 4.747496     9.356466e-09\n",
       "Grb10   5.326215     1.424813e-05 0.01508032 5.252398     6.411420e-09\n",
       "Gm28437 6.128020     1.481064e-05 0.01508032 6.155817     5.417522e-09\n",
       "        edgeR_padj   DEseq2_log2FC DEseq2_pvalue DEseq2_padj \n",
       "Tpm1    2.742934e-06 4.880980      6.676383e-61  3.711299e-58\n",
       "Pim2    2.017942e-06 6.261063      4.250990e-92  1.023993e-88\n",
       "Peg10   2.742934e-06 6.796205      2.314311e-91  4.778392e-88\n",
       "Cnn2    2.904057e-06 4.778866      8.216343e-53  3.298633e-50\n",
       "Grb10   2.747673e-06 5.283679      1.380200e-62  8.673058e-60\n",
       "Gm28437 2.742934e-06 6.186847      3.150111e-78  3.035237e-75"
      ]
     },
     "metadata": {},
     "output_type": "display_data"
    }
   ],
   "source": [
    "#### 比较一下三种DEG方法结果 ####\n",
    "load(list.files(pattern = 'DEG_results.Rdata'))\n",
    "list.files(pattern = 'DEG_results.csv')\n",
    "a <- read.csv(file = list.files(pattern = 'DEG_results.csv'),\n",
    "              header = T,\n",
    "              row.names = 1)\n",
    "\n",
    "head(a)"
   ]
  },
  {
   "cell_type": "code",
   "execution_count": 66,
   "metadata": {
    "vscode": {
     "languageId": "r"
    }
   },
   "outputs": [
    {
     "data": {
      "text/html": [
       "<style>\n",
       ".list-inline {list-style: none; margin:0; padding: 0}\n",
       ".list-inline>li {display: inline-block}\n",
       ".list-inline>li:not(:last-child)::after {content: \"\\00b7\"; padding: 0 .5ex}\n",
       "</style>\n",
       "<ol class=list-inline><li>'limma_log2FC'</li><li>'limma_pvalue'</li><li>'limma_padj'</li><li>'edgeR_log2FC'</li><li>'edgeR_pvalue'</li><li>'edgeR_padj'</li><li>'DEseq2_log2FC'</li><li>'DEseq2_pvalue'</li><li>'DEseq2_padj'</li></ol>\n"
      ],
      "text/latex": [
       "\\begin{enumerate*}\n",
       "\\item 'limma\\_log2FC'\n",
       "\\item 'limma\\_pvalue'\n",
       "\\item 'limma\\_padj'\n",
       "\\item 'edgeR\\_log2FC'\n",
       "\\item 'edgeR\\_pvalue'\n",
       "\\item 'edgeR\\_padj'\n",
       "\\item 'DEseq2\\_log2FC'\n",
       "\\item 'DEseq2\\_pvalue'\n",
       "\\item 'DEseq2\\_padj'\n",
       "\\end{enumerate*}\n"
      ],
      "text/markdown": [
       "1. 'limma_log2FC'\n",
       "2. 'limma_pvalue'\n",
       "3. 'limma_padj'\n",
       "4. 'edgeR_log2FC'\n",
       "5. 'edgeR_pvalue'\n",
       "6. 'edgeR_padj'\n",
       "7. 'DEseq2_log2FC'\n",
       "8. 'DEseq2_pvalue'\n",
       "9. 'DEseq2_padj'\n",
       "\n",
       "\n"
      ],
      "text/plain": [
       "[1] \"limma_log2FC\"  \"limma_pvalue\"  \"limma_padj\"    \"edgeR_log2FC\" \n",
       "[5] \"edgeR_pvalue\"  \"edgeR_padj\"    \"DEseq2_log2FC\" \"DEseq2_pvalue\"\n",
       "[9] \"DEseq2_padj\"  "
      ]
     },
     "metadata": {},
     "output_type": "display_data"
    },
    {
     "name": "stdout",
     "output_type": "stream",
     "text": [
      "              limma_log2FC edgeR_log2FC DEseq2_log2FC\n",
      "limma_log2FC     1.0000000    0.9604493     0.9706300\n",
      "edgeR_log2FC     0.9604493    1.0000000     0.9984325\n",
      "DEseq2_log2FC    0.9706300    0.9984325     1.0000000\n"
     ]
    }
   ],
   "source": [
    "#查看相关性、一致性\n",
    "colnames(a)\n",
    "print(cor(a[,c(1,4,7)])) "
   ]
  },
  {
   "cell_type": "code",
   "execution_count": 89,
   "metadata": {
    "vscode": {
     "languageId": "r"
    }
   },
   "outputs": [
    {
     "data": {
      "text/html": [
       "<table class=\"dataframe\">\n",
       "<caption>A data.frame: 14435 × 6</caption>\n",
       "<thead>\n",
       "\t<tr><th></th><th scope=col>logFC</th><th scope=col>AveExpr</th><th scope=col>t</th><th scope=col>P.Value</th><th scope=col>adj.P.Val</th><th scope=col>B</th></tr>\n",
       "\t<tr><th></th><th scope=col>&lt;dbl&gt;</th><th scope=col>&lt;dbl&gt;</th><th scope=col>&lt;dbl&gt;</th><th scope=col>&lt;dbl&gt;</th><th scope=col>&lt;dbl&gt;</th><th scope=col>&lt;dbl&gt;</th></tr>\n",
       "</thead>\n",
       "<tbody>\n",
       "\t<tr><th scope=row>Tpm1</th><td> 4.946443</td><td>7.595238</td><td> 27.50056</td><td>6.347314e-06</td><td>0.01508032</td><td>4.881370</td></tr>\n",
       "\t<tr><th scope=row>Pim2</th><td> 6.328607</td><td>6.140621</td><td> 29.28884</td><td>4.870439e-06</td><td>0.01508032</td><td>4.851553</td></tr>\n",
       "\t<tr><th scope=row>Peg10</th><td> 6.905772</td><td>5.938592</td><td> 25.40842</td><td>8.850248e-06</td><td>0.01508032</td><td>4.396838</td></tr>\n",
       "\t<tr><th scope=row>Cnn2</th><td> 4.735250</td><td>6.267418</td><td> 22.99659</td><td>1.345062e-05</td><td>0.01508032</td><td>4.173143</td></tr>\n",
       "\t<tr><th scope=row>Grb10</th><td> 5.326215</td><td>6.723045</td><td> 22.68291</td><td>1.424813e-05</td><td>0.01508032</td><td>4.165840</td></tr>\n",
       "\t<tr><th scope=row>Gm28437</th><td> 6.128020</td><td>7.107691</td><td> 22.47442</td><td>1.481064e-05</td><td>0.01508032</td><td>4.162270</td></tr>\n",
       "\t<tr><th scope=row>Glipr2</th><td> 4.691459</td><td>6.419948</td><td> 22.73357</td><td>1.411546e-05</td><td>0.01508032</td><td>4.148621</td></tr>\n",
       "\t<tr><th scope=row>Lin28a</th><td> 4.176914</td><td>7.584894</td><td> 21.59372</td><td>1.751253e-05</td><td>0.01508032</td><td>4.031961</td></tr>\n",
       "\t<tr><th scope=row>Vim</th><td> 3.268232</td><td>9.558458</td><td> 20.29577</td><td>2.270450e-05</td><td>0.01508032</td><td>3.823638</td></tr>\n",
       "\t<tr><th scope=row>Zyx</th><td> 7.154565</td><td>4.592749</td><td> 21.38286</td><td>1.824760e-05</td><td>0.01508032</td><td>3.563835</td></tr>\n",
       "\t<tr><th scope=row>Prdx6</th><td> 3.608247</td><td>7.008359</td><td> 18.69465</td><td>3.201905e-05</td><td>0.01508032</td><td>3.463933</td></tr>\n",
       "\t<tr><th scope=row>Igfbp5</th><td> 6.717262</td><td>4.617985</td><td> 19.48002</td><td>2.695698e-05</td><td>0.01508032</td><td>3.336956</td></tr>\n",
       "\t<tr><th scope=row>Axl</th><td> 5.196752</td><td>4.485145</td><td> 19.21171</td><td>2.856715e-05</td><td>0.01508032</td><td>3.334331</td></tr>\n",
       "\t<tr><th scope=row>Pea15a</th><td> 5.998375</td><td>4.186173</td><td> 19.78651</td><td>2.525252e-05</td><td>0.01508032</td><td>3.317116</td></tr>\n",
       "\t<tr><th scope=row>Dbn1</th><td> 7.365936</td><td>3.822144</td><td> 20.99595</td><td>1.969832e-05</td><td>0.01508032</td><td>3.247696</td></tr>\n",
       "\t<tr><th scope=row>Tgfbi</th><td> 6.114590</td><td>4.005156</td><td> 19.24107</td><td>2.838525e-05</td><td>0.01508032</td><td>3.185358</td></tr>\n",
       "\t<tr><th scope=row>Hmga1</th><td> 3.069864</td><td>8.824270</td><td> 17.40071</td><td>4.320377e-05</td><td>0.01508032</td><td>3.185183</td></tr>\n",
       "\t<tr><th scope=row>Tpm3</th><td> 3.030680</td><td>8.477302</td><td> 17.21455</td><td>4.518714e-05</td><td>0.01508032</td><td>3.141246</td></tr>\n",
       "\t<tr><th scope=row>Marcks</th><td> 5.612768</td><td>6.050193</td><td> 17.25214</td><td>4.477776e-05</td><td>0.01508032</td><td>3.123655</td></tr>\n",
       "\t<tr><th scope=row>S100a6</th><td> 7.001343</td><td>3.532056</td><td> 19.92753</td><td>2.451307e-05</td><td>0.01508032</td><td>3.053851</td></tr>\n",
       "\t<tr><th scope=row>Sox4</th><td> 5.090317</td><td>4.532335</td><td> 17.35276</td><td>4.370419e-05</td><td>0.01508032</td><td>3.018949</td></tr>\n",
       "\t<tr><th scope=row>Prtg</th><td> 4.135534</td><td>5.659549</td><td> 16.82780</td><td>4.967981e-05</td><td>0.01508032</td><td>3.018445</td></tr>\n",
       "\t<tr><th scope=row>Parva</th><td> 5.542041</td><td>4.293853</td><td> 17.35519</td><td>4.367861e-05</td><td>0.01508032</td><td>2.969768</td></tr>\n",
       "\t<tr><th scope=row>Cdkn1c</th><td> 6.191648</td><td>3.583123</td><td> 18.45887</td><td>3.376346e-05</td><td>0.01508032</td><td>2.949100</td></tr>\n",
       "\t<tr><th scope=row>Gsn</th><td> 4.581890</td><td>4.359648</td><td> 16.96340</td><td>4.804447e-05</td><td>0.01508032</td><td>2.934431</td></tr>\n",
       "\t<tr><th scope=row>Ahcy</th><td> 4.019832</td><td>5.428288</td><td> 16.42446</td><td>5.496755e-05</td><td>0.01508032</td><td>2.916357</td></tr>\n",
       "\t<tr><th scope=row>Ass1</th><td>-3.656461</td><td>7.867293</td><td>-16.36103</td><td>5.586117e-05</td><td>0.01508032</td><td>2.906793</td></tr>\n",
       "\t<tr><th scope=row>Gm8113</th><td> 4.702386</td><td>4.330727</td><td> 16.80716</td><td>4.993482e-05</td><td>0.01508032</td><td>2.895796</td></tr>\n",
       "\t<tr><th scope=row>Flnc</th><td> 8.992205</td><td>3.346145</td><td> 21.80567</td><td>1.681011e-05</td><td>0.01508032</td><td>2.895255</td></tr>\n",
       "\t<tr><th scope=row>Mmd</th><td> 3.827681</td><td>5.303503</td><td> 16.28141</td><td>5.700830e-05</td><td>0.01508032</td><td>2.878145</td></tr>\n",
       "\t<tr><th scope=row>⋮</th><td>⋮</td><td>⋮</td><td>⋮</td><td>⋮</td><td>⋮</td><td>⋮</td></tr>\n",
       "\t<tr><th scope=row>Prrc2b</th><td> 8.845499e-02</td><td> 8.773355</td><td> 0.2635626240</td><td>0.8044836</td><td>0.8547564</td><td>-7.376744</td></tr>\n",
       "\t<tr><th scope=row>Tardbp</th><td>-2.014867e-02</td><td> 8.203140</td><td>-0.0778666537</td><td>0.9414857</td><td>0.9588222</td><td>-7.376766</td></tr>\n",
       "\t<tr><th scope=row>Myo10</th><td>-6.847275e-02</td><td> 8.548565</td><td>-0.1974118798</td><td>0.8526474</td><td>0.8920108</td><td>-7.377936</td></tr>\n",
       "\t<tr><th scope=row>Brd2</th><td>-4.850278e-03</td><td> 8.183650</td><td>-0.0240524533</td><td>0.9819049</td><td>0.9878588</td><td>-7.378971</td></tr>\n",
       "\t<tr><th scope=row>H3f3a</th><td>-5.507784e-02</td><td> 8.535418</td><td>-0.1871694720</td><td>0.8601804</td><td>0.8971606</td><td>-7.380241</td></tr>\n",
       "\t<tr><th scope=row>Cdk4</th><td> 6.474599e-02</td><td> 9.064881</td><td> 0.3025224376</td><td>0.7765758</td><td>0.8324574</td><td>-7.380789</td></tr>\n",
       "\t<tr><th scope=row>Cdc37</th><td>-1.895076e-02</td><td> 8.313471</td><td>-0.1002930620</td><td>0.9246949</td><td>0.9461278</td><td>-7.381665</td></tr>\n",
       "\t<tr><th scope=row>Map4</th><td>-2.906462e-02</td><td> 8.469450</td><td>-0.1064348886</td><td>0.9201041</td><td>0.9427671</td><td>-7.390772</td></tr>\n",
       "\t<tr><th scope=row>Snrnp70</th><td> 2.106308e-02</td><td> 8.464954</td><td> 0.1075115547</td><td>0.9192997</td><td>0.9422104</td><td>-7.391636</td></tr>\n",
       "\t<tr><th scope=row>Eif3l</th><td>-3.280673e-02</td><td> 8.668642</td><td>-0.1746676972</td><td>0.8693989</td><td>0.9045029</td><td>-7.391746</td></tr>\n",
       "\t<tr><th scope=row>Impdh2</th><td>-4.599530e-02</td><td> 8.946978</td><td>-0.2336381808</td><td>0.8261598</td><td>0.8714371</td><td>-7.393683</td></tr>\n",
       "\t<tr><th scope=row>Prmt1</th><td>-1.159702e-03</td><td> 8.466328</td><td>-0.0043131048</td><td>0.9967548</td><td>0.9977095</td><td>-7.398510</td></tr>\n",
       "\t<tr><th scope=row>U2af2</th><td> 7.555490e-03</td><td> 8.491815</td><td> 0.0396844211</td><td>0.9701509</td><td>0.9794529</td><td>-7.399279</td></tr>\n",
       "\t<tr><th scope=row>Eftud2</th><td>-5.523303e-03</td><td> 8.561464</td><td>-0.0254179819</td><td>0.9808779</td><td>0.9872828</td><td>-7.403913</td></tr>\n",
       "\t<tr><th scope=row>Snrnp200</th><td> 6.991216e-05</td><td> 8.562566</td><td> 0.0002795143</td><td>0.9997897</td><td>0.9997897</td><td>-7.404460</td></tr>\n",
       "\t<tr><th scope=row>Hspa5</th><td> 2.062637e-02</td><td> 8.657119</td><td> 0.0918439047</td><td>0.9310159</td><td>0.9511122</td><td>-7.405808</td></tr>\n",
       "\t<tr><th scope=row>Sptan1</th><td>-2.454664e-02</td><td> 8.725525</td><td>-0.0685740691</td><td>0.9484544</td><td>0.9635399</td><td>-7.411045</td></tr>\n",
       "\t<tr><th scope=row>D10Wsu102e</th><td> 1.206286e-01</td><td>10.325849</td><td> 0.4312291961</td><td>0.6874118</td><td>0.7609148</td><td>-7.414328</td></tr>\n",
       "\t<tr><th scope=row>Cad</th><td>-5.069945e-02</td><td> 9.226103</td><td>-0.1990146371</td><td>0.8514703</td><td>0.8914074</td><td>-7.419679</td></tr>\n",
       "\t<tr><th scope=row>Gdi2</th><td> 2.264493e-02</td><td> 8.963718</td><td> 0.1250958440</td><td>0.9061795</td><td>0.9327100</td><td>-7.419910</td></tr>\n",
       "\t<tr><th scope=row>Vdac1</th><td>-4.753754e-02</td><td> 9.608516</td><td>-0.2729037630</td><td>0.7977587</td><td>0.8492133</td><td>-7.423537</td></tr>\n",
       "\t<tr><th scope=row>Ddb1</th><td> 7.907668e-02</td><td>10.061913</td><td> 0.3638735447</td><td>0.7334461</td><td>0.7978970</td><td>-7.424275</td></tr>\n",
       "\t<tr><th scope=row>H3f3b</th><td>-1.520020e-02</td><td> 9.026733</td><td>-0.0771668990</td><td>0.9420103</td><td>0.9592211</td><td>-7.429000</td></tr>\n",
       "\t<tr><th scope=row>Ywhag</th><td> 4.101678e-02</td><td> 9.444048</td><td> 0.1996569285</td><td>0.8509987</td><td>0.8911269</td><td>-7.435376</td></tr>\n",
       "\t<tr><th scope=row>Tcp1</th><td>-3.648554e-02</td><td> 9.516120</td><td>-0.2001496155</td><td>0.8506370</td><td>0.8910907</td><td>-7.438517</td></tr>\n",
       "\t<tr><th scope=row>Tkt</th><td>-3.028021e-02</td><td> 9.404413</td><td>-0.1633780655</td><td>0.8777450</td><td>0.9109389</td><td>-7.439376</td></tr>\n",
       "\t<tr><th scope=row>Eif3c</th><td>-2.681406e-03</td><td> 9.232151</td><td>-0.0140544740</td><td>0.9894257</td><td>0.9931410</td><td>-7.445282</td></tr>\n",
       "\t<tr><th scope=row>Hspa9</th><td>-1.932166e-02</td><td> 9.472346</td><td>-0.1062745996</td><td>0.9202239</td><td>0.9428229</td><td>-7.453520</td></tr>\n",
       "\t<tr><th scope=row>Fasn</th><td> 4.569970e-02</td><td> 9.885082</td><td> 0.1682917037</td><td>0.8741101</td><td>0.9082767</td><td>-7.473191</td></tr>\n",
       "\t<tr><th scope=row>Ybx1</th><td>-3.079496e-02</td><td>10.039042</td><td>-0.1817205716</td><td>0.8641951</td><td>0.8999824</td><td>-7.480017</td></tr>\n",
       "</tbody>\n",
       "</table>\n"
      ],
      "text/latex": [
       "A data.frame: 14435 × 6\n",
       "\\begin{tabular}{r|llllll}\n",
       "  & logFC & AveExpr & t & P.Value & adj.P.Val & B\\\\\n",
       "  & <dbl> & <dbl> & <dbl> & <dbl> & <dbl> & <dbl>\\\\\n",
       "\\hline\n",
       "\tTpm1 &  4.946443 & 7.595238 &  27.50056 & 6.347314e-06 & 0.01508032 & 4.881370\\\\\n",
       "\tPim2 &  6.328607 & 6.140621 &  29.28884 & 4.870439e-06 & 0.01508032 & 4.851553\\\\\n",
       "\tPeg10 &  6.905772 & 5.938592 &  25.40842 & 8.850248e-06 & 0.01508032 & 4.396838\\\\\n",
       "\tCnn2 &  4.735250 & 6.267418 &  22.99659 & 1.345062e-05 & 0.01508032 & 4.173143\\\\\n",
       "\tGrb10 &  5.326215 & 6.723045 &  22.68291 & 1.424813e-05 & 0.01508032 & 4.165840\\\\\n",
       "\tGm28437 &  6.128020 & 7.107691 &  22.47442 & 1.481064e-05 & 0.01508032 & 4.162270\\\\\n",
       "\tGlipr2 &  4.691459 & 6.419948 &  22.73357 & 1.411546e-05 & 0.01508032 & 4.148621\\\\\n",
       "\tLin28a &  4.176914 & 7.584894 &  21.59372 & 1.751253e-05 & 0.01508032 & 4.031961\\\\\n",
       "\tVim &  3.268232 & 9.558458 &  20.29577 & 2.270450e-05 & 0.01508032 & 3.823638\\\\\n",
       "\tZyx &  7.154565 & 4.592749 &  21.38286 & 1.824760e-05 & 0.01508032 & 3.563835\\\\\n",
       "\tPrdx6 &  3.608247 & 7.008359 &  18.69465 & 3.201905e-05 & 0.01508032 & 3.463933\\\\\n",
       "\tIgfbp5 &  6.717262 & 4.617985 &  19.48002 & 2.695698e-05 & 0.01508032 & 3.336956\\\\\n",
       "\tAxl &  5.196752 & 4.485145 &  19.21171 & 2.856715e-05 & 0.01508032 & 3.334331\\\\\n",
       "\tPea15a &  5.998375 & 4.186173 &  19.78651 & 2.525252e-05 & 0.01508032 & 3.317116\\\\\n",
       "\tDbn1 &  7.365936 & 3.822144 &  20.99595 & 1.969832e-05 & 0.01508032 & 3.247696\\\\\n",
       "\tTgfbi &  6.114590 & 4.005156 &  19.24107 & 2.838525e-05 & 0.01508032 & 3.185358\\\\\n",
       "\tHmga1 &  3.069864 & 8.824270 &  17.40071 & 4.320377e-05 & 0.01508032 & 3.185183\\\\\n",
       "\tTpm3 &  3.030680 & 8.477302 &  17.21455 & 4.518714e-05 & 0.01508032 & 3.141246\\\\\n",
       "\tMarcks &  5.612768 & 6.050193 &  17.25214 & 4.477776e-05 & 0.01508032 & 3.123655\\\\\n",
       "\tS100a6 &  7.001343 & 3.532056 &  19.92753 & 2.451307e-05 & 0.01508032 & 3.053851\\\\\n",
       "\tSox4 &  5.090317 & 4.532335 &  17.35276 & 4.370419e-05 & 0.01508032 & 3.018949\\\\\n",
       "\tPrtg &  4.135534 & 5.659549 &  16.82780 & 4.967981e-05 & 0.01508032 & 3.018445\\\\\n",
       "\tParva &  5.542041 & 4.293853 &  17.35519 & 4.367861e-05 & 0.01508032 & 2.969768\\\\\n",
       "\tCdkn1c &  6.191648 & 3.583123 &  18.45887 & 3.376346e-05 & 0.01508032 & 2.949100\\\\\n",
       "\tGsn &  4.581890 & 4.359648 &  16.96340 & 4.804447e-05 & 0.01508032 & 2.934431\\\\\n",
       "\tAhcy &  4.019832 & 5.428288 &  16.42446 & 5.496755e-05 & 0.01508032 & 2.916357\\\\\n",
       "\tAss1 & -3.656461 & 7.867293 & -16.36103 & 5.586117e-05 & 0.01508032 & 2.906793\\\\\n",
       "\tGm8113 &  4.702386 & 4.330727 &  16.80716 & 4.993482e-05 & 0.01508032 & 2.895796\\\\\n",
       "\tFlnc &  8.992205 & 3.346145 &  21.80567 & 1.681011e-05 & 0.01508032 & 2.895255\\\\\n",
       "\tMmd &  3.827681 & 5.303503 &  16.28141 & 5.700830e-05 & 0.01508032 & 2.878145\\\\\n",
       "\t⋮ & ⋮ & ⋮ & ⋮ & ⋮ & ⋮ & ⋮\\\\\n",
       "\tPrrc2b &  8.845499e-02 &  8.773355 &  0.2635626240 & 0.8044836 & 0.8547564 & -7.376744\\\\\n",
       "\tTardbp & -2.014867e-02 &  8.203140 & -0.0778666537 & 0.9414857 & 0.9588222 & -7.376766\\\\\n",
       "\tMyo10 & -6.847275e-02 &  8.548565 & -0.1974118798 & 0.8526474 & 0.8920108 & -7.377936\\\\\n",
       "\tBrd2 & -4.850278e-03 &  8.183650 & -0.0240524533 & 0.9819049 & 0.9878588 & -7.378971\\\\\n",
       "\tH3f3a & -5.507784e-02 &  8.535418 & -0.1871694720 & 0.8601804 & 0.8971606 & -7.380241\\\\\n",
       "\tCdk4 &  6.474599e-02 &  9.064881 &  0.3025224376 & 0.7765758 & 0.8324574 & -7.380789\\\\\n",
       "\tCdc37 & -1.895076e-02 &  8.313471 & -0.1002930620 & 0.9246949 & 0.9461278 & -7.381665\\\\\n",
       "\tMap4 & -2.906462e-02 &  8.469450 & -0.1064348886 & 0.9201041 & 0.9427671 & -7.390772\\\\\n",
       "\tSnrnp70 &  2.106308e-02 &  8.464954 &  0.1075115547 & 0.9192997 & 0.9422104 & -7.391636\\\\\n",
       "\tEif3l & -3.280673e-02 &  8.668642 & -0.1746676972 & 0.8693989 & 0.9045029 & -7.391746\\\\\n",
       "\tImpdh2 & -4.599530e-02 &  8.946978 & -0.2336381808 & 0.8261598 & 0.8714371 & -7.393683\\\\\n",
       "\tPrmt1 & -1.159702e-03 &  8.466328 & -0.0043131048 & 0.9967548 & 0.9977095 & -7.398510\\\\\n",
       "\tU2af2 &  7.555490e-03 &  8.491815 &  0.0396844211 & 0.9701509 & 0.9794529 & -7.399279\\\\\n",
       "\tEftud2 & -5.523303e-03 &  8.561464 & -0.0254179819 & 0.9808779 & 0.9872828 & -7.403913\\\\\n",
       "\tSnrnp200 &  6.991216e-05 &  8.562566 &  0.0002795143 & 0.9997897 & 0.9997897 & -7.404460\\\\\n",
       "\tHspa5 &  2.062637e-02 &  8.657119 &  0.0918439047 & 0.9310159 & 0.9511122 & -7.405808\\\\\n",
       "\tSptan1 & -2.454664e-02 &  8.725525 & -0.0685740691 & 0.9484544 & 0.9635399 & -7.411045\\\\\n",
       "\tD10Wsu102e &  1.206286e-01 & 10.325849 &  0.4312291961 & 0.6874118 & 0.7609148 & -7.414328\\\\\n",
       "\tCad & -5.069945e-02 &  9.226103 & -0.1990146371 & 0.8514703 & 0.8914074 & -7.419679\\\\\n",
       "\tGdi2 &  2.264493e-02 &  8.963718 &  0.1250958440 & 0.9061795 & 0.9327100 & -7.419910\\\\\n",
       "\tVdac1 & -4.753754e-02 &  9.608516 & -0.2729037630 & 0.7977587 & 0.8492133 & -7.423537\\\\\n",
       "\tDdb1 &  7.907668e-02 & 10.061913 &  0.3638735447 & 0.7334461 & 0.7978970 & -7.424275\\\\\n",
       "\tH3f3b & -1.520020e-02 &  9.026733 & -0.0771668990 & 0.9420103 & 0.9592211 & -7.429000\\\\\n",
       "\tYwhag &  4.101678e-02 &  9.444048 &  0.1996569285 & 0.8509987 & 0.8911269 & -7.435376\\\\\n",
       "\tTcp1 & -3.648554e-02 &  9.516120 & -0.2001496155 & 0.8506370 & 0.8910907 & -7.438517\\\\\n",
       "\tTkt & -3.028021e-02 &  9.404413 & -0.1633780655 & 0.8777450 & 0.9109389 & -7.439376\\\\\n",
       "\tEif3c & -2.681406e-03 &  9.232151 & -0.0140544740 & 0.9894257 & 0.9931410 & -7.445282\\\\\n",
       "\tHspa9 & -1.932166e-02 &  9.472346 & -0.1062745996 & 0.9202239 & 0.9428229 & -7.453520\\\\\n",
       "\tFasn &  4.569970e-02 &  9.885082 &  0.1682917037 & 0.8741101 & 0.9082767 & -7.473191\\\\\n",
       "\tYbx1 & -3.079496e-02 & 10.039042 & -0.1817205716 & 0.8641951 & 0.8999824 & -7.480017\\\\\n",
       "\\end{tabular}\n"
      ],
      "text/markdown": [
       "\n",
       "A data.frame: 14435 × 6\n",
       "\n",
       "| <!--/--> | logFC &lt;dbl&gt; | AveExpr &lt;dbl&gt; | t &lt;dbl&gt; | P.Value &lt;dbl&gt; | adj.P.Val &lt;dbl&gt; | B &lt;dbl&gt; |\n",
       "|---|---|---|---|---|---|---|\n",
       "| Tpm1 |  4.946443 | 7.595238 |  27.50056 | 6.347314e-06 | 0.01508032 | 4.881370 |\n",
       "| Pim2 |  6.328607 | 6.140621 |  29.28884 | 4.870439e-06 | 0.01508032 | 4.851553 |\n",
       "| Peg10 |  6.905772 | 5.938592 |  25.40842 | 8.850248e-06 | 0.01508032 | 4.396838 |\n",
       "| Cnn2 |  4.735250 | 6.267418 |  22.99659 | 1.345062e-05 | 0.01508032 | 4.173143 |\n",
       "| Grb10 |  5.326215 | 6.723045 |  22.68291 | 1.424813e-05 | 0.01508032 | 4.165840 |\n",
       "| Gm28437 |  6.128020 | 7.107691 |  22.47442 | 1.481064e-05 | 0.01508032 | 4.162270 |\n",
       "| Glipr2 |  4.691459 | 6.419948 |  22.73357 | 1.411546e-05 | 0.01508032 | 4.148621 |\n",
       "| Lin28a |  4.176914 | 7.584894 |  21.59372 | 1.751253e-05 | 0.01508032 | 4.031961 |\n",
       "| Vim |  3.268232 | 9.558458 |  20.29577 | 2.270450e-05 | 0.01508032 | 3.823638 |\n",
       "| Zyx |  7.154565 | 4.592749 |  21.38286 | 1.824760e-05 | 0.01508032 | 3.563835 |\n",
       "| Prdx6 |  3.608247 | 7.008359 |  18.69465 | 3.201905e-05 | 0.01508032 | 3.463933 |\n",
       "| Igfbp5 |  6.717262 | 4.617985 |  19.48002 | 2.695698e-05 | 0.01508032 | 3.336956 |\n",
       "| Axl |  5.196752 | 4.485145 |  19.21171 | 2.856715e-05 | 0.01508032 | 3.334331 |\n",
       "| Pea15a |  5.998375 | 4.186173 |  19.78651 | 2.525252e-05 | 0.01508032 | 3.317116 |\n",
       "| Dbn1 |  7.365936 | 3.822144 |  20.99595 | 1.969832e-05 | 0.01508032 | 3.247696 |\n",
       "| Tgfbi |  6.114590 | 4.005156 |  19.24107 | 2.838525e-05 | 0.01508032 | 3.185358 |\n",
       "| Hmga1 |  3.069864 | 8.824270 |  17.40071 | 4.320377e-05 | 0.01508032 | 3.185183 |\n",
       "| Tpm3 |  3.030680 | 8.477302 |  17.21455 | 4.518714e-05 | 0.01508032 | 3.141246 |\n",
       "| Marcks |  5.612768 | 6.050193 |  17.25214 | 4.477776e-05 | 0.01508032 | 3.123655 |\n",
       "| S100a6 |  7.001343 | 3.532056 |  19.92753 | 2.451307e-05 | 0.01508032 | 3.053851 |\n",
       "| Sox4 |  5.090317 | 4.532335 |  17.35276 | 4.370419e-05 | 0.01508032 | 3.018949 |\n",
       "| Prtg |  4.135534 | 5.659549 |  16.82780 | 4.967981e-05 | 0.01508032 | 3.018445 |\n",
       "| Parva |  5.542041 | 4.293853 |  17.35519 | 4.367861e-05 | 0.01508032 | 2.969768 |\n",
       "| Cdkn1c |  6.191648 | 3.583123 |  18.45887 | 3.376346e-05 | 0.01508032 | 2.949100 |\n",
       "| Gsn |  4.581890 | 4.359648 |  16.96340 | 4.804447e-05 | 0.01508032 | 2.934431 |\n",
       "| Ahcy |  4.019832 | 5.428288 |  16.42446 | 5.496755e-05 | 0.01508032 | 2.916357 |\n",
       "| Ass1 | -3.656461 | 7.867293 | -16.36103 | 5.586117e-05 | 0.01508032 | 2.906793 |\n",
       "| Gm8113 |  4.702386 | 4.330727 |  16.80716 | 4.993482e-05 | 0.01508032 | 2.895796 |\n",
       "| Flnc |  8.992205 | 3.346145 |  21.80567 | 1.681011e-05 | 0.01508032 | 2.895255 |\n",
       "| Mmd |  3.827681 | 5.303503 |  16.28141 | 5.700830e-05 | 0.01508032 | 2.878145 |\n",
       "| ⋮ | ⋮ | ⋮ | ⋮ | ⋮ | ⋮ | ⋮ |\n",
       "| Prrc2b |  8.845499e-02 |  8.773355 |  0.2635626240 | 0.8044836 | 0.8547564 | -7.376744 |\n",
       "| Tardbp | -2.014867e-02 |  8.203140 | -0.0778666537 | 0.9414857 | 0.9588222 | -7.376766 |\n",
       "| Myo10 | -6.847275e-02 |  8.548565 | -0.1974118798 | 0.8526474 | 0.8920108 | -7.377936 |\n",
       "| Brd2 | -4.850278e-03 |  8.183650 | -0.0240524533 | 0.9819049 | 0.9878588 | -7.378971 |\n",
       "| H3f3a | -5.507784e-02 |  8.535418 | -0.1871694720 | 0.8601804 | 0.8971606 | -7.380241 |\n",
       "| Cdk4 |  6.474599e-02 |  9.064881 |  0.3025224376 | 0.7765758 | 0.8324574 | -7.380789 |\n",
       "| Cdc37 | -1.895076e-02 |  8.313471 | -0.1002930620 | 0.9246949 | 0.9461278 | -7.381665 |\n",
       "| Map4 | -2.906462e-02 |  8.469450 | -0.1064348886 | 0.9201041 | 0.9427671 | -7.390772 |\n",
       "| Snrnp70 |  2.106308e-02 |  8.464954 |  0.1075115547 | 0.9192997 | 0.9422104 | -7.391636 |\n",
       "| Eif3l | -3.280673e-02 |  8.668642 | -0.1746676972 | 0.8693989 | 0.9045029 | -7.391746 |\n",
       "| Impdh2 | -4.599530e-02 |  8.946978 | -0.2336381808 | 0.8261598 | 0.8714371 | -7.393683 |\n",
       "| Prmt1 | -1.159702e-03 |  8.466328 | -0.0043131048 | 0.9967548 | 0.9977095 | -7.398510 |\n",
       "| U2af2 |  7.555490e-03 |  8.491815 |  0.0396844211 | 0.9701509 | 0.9794529 | -7.399279 |\n",
       "| Eftud2 | -5.523303e-03 |  8.561464 | -0.0254179819 | 0.9808779 | 0.9872828 | -7.403913 |\n",
       "| Snrnp200 |  6.991216e-05 |  8.562566 |  0.0002795143 | 0.9997897 | 0.9997897 | -7.404460 |\n",
       "| Hspa5 |  2.062637e-02 |  8.657119 |  0.0918439047 | 0.9310159 | 0.9511122 | -7.405808 |\n",
       "| Sptan1 | -2.454664e-02 |  8.725525 | -0.0685740691 | 0.9484544 | 0.9635399 | -7.411045 |\n",
       "| D10Wsu102e |  1.206286e-01 | 10.325849 |  0.4312291961 | 0.6874118 | 0.7609148 | -7.414328 |\n",
       "| Cad | -5.069945e-02 |  9.226103 | -0.1990146371 | 0.8514703 | 0.8914074 | -7.419679 |\n",
       "| Gdi2 |  2.264493e-02 |  8.963718 |  0.1250958440 | 0.9061795 | 0.9327100 | -7.419910 |\n",
       "| Vdac1 | -4.753754e-02 |  9.608516 | -0.2729037630 | 0.7977587 | 0.8492133 | -7.423537 |\n",
       "| Ddb1 |  7.907668e-02 | 10.061913 |  0.3638735447 | 0.7334461 | 0.7978970 | -7.424275 |\n",
       "| H3f3b | -1.520020e-02 |  9.026733 | -0.0771668990 | 0.9420103 | 0.9592211 | -7.429000 |\n",
       "| Ywhag |  4.101678e-02 |  9.444048 |  0.1996569285 | 0.8509987 | 0.8911269 | -7.435376 |\n",
       "| Tcp1 | -3.648554e-02 |  9.516120 | -0.2001496155 | 0.8506370 | 0.8910907 | -7.438517 |\n",
       "| Tkt | -3.028021e-02 |  9.404413 | -0.1633780655 | 0.8777450 | 0.9109389 | -7.439376 |\n",
       "| Eif3c | -2.681406e-03 |  9.232151 | -0.0140544740 | 0.9894257 | 0.9931410 | -7.445282 |\n",
       "| Hspa9 | -1.932166e-02 |  9.472346 | -0.1062745996 | 0.9202239 | 0.9428229 | -7.453520 |\n",
       "| Fasn |  4.569970e-02 |  9.885082 |  0.1682917037 | 0.8741101 | 0.9082767 | -7.473191 |\n",
       "| Ybx1 | -3.079496e-02 | 10.039042 | -0.1817205716 | 0.8641951 | 0.8999824 | -7.480017 |\n",
       "\n"
      ],
      "text/plain": [
       "           logFC         AveExpr   t             P.Value      adj.P.Val \n",
       "Tpm1        4.946443     7.595238   27.50056     6.347314e-06 0.01508032\n",
       "Pim2        6.328607     6.140621   29.28884     4.870439e-06 0.01508032\n",
       "Peg10       6.905772     5.938592   25.40842     8.850248e-06 0.01508032\n",
       "Cnn2        4.735250     6.267418   22.99659     1.345062e-05 0.01508032\n",
       "Grb10       5.326215     6.723045   22.68291     1.424813e-05 0.01508032\n",
       "Gm28437     6.128020     7.107691   22.47442     1.481064e-05 0.01508032\n",
       "Glipr2      4.691459     6.419948   22.73357     1.411546e-05 0.01508032\n",
       "Lin28a      4.176914     7.584894   21.59372     1.751253e-05 0.01508032\n",
       "Vim         3.268232     9.558458   20.29577     2.270450e-05 0.01508032\n",
       "Zyx         7.154565     4.592749   21.38286     1.824760e-05 0.01508032\n",
       "Prdx6       3.608247     7.008359   18.69465     3.201905e-05 0.01508032\n",
       "Igfbp5      6.717262     4.617985   19.48002     2.695698e-05 0.01508032\n",
       "Axl         5.196752     4.485145   19.21171     2.856715e-05 0.01508032\n",
       "Pea15a      5.998375     4.186173   19.78651     2.525252e-05 0.01508032\n",
       "Dbn1        7.365936     3.822144   20.99595     1.969832e-05 0.01508032\n",
       "Tgfbi       6.114590     4.005156   19.24107     2.838525e-05 0.01508032\n",
       "Hmga1       3.069864     8.824270   17.40071     4.320377e-05 0.01508032\n",
       "Tpm3        3.030680     8.477302   17.21455     4.518714e-05 0.01508032\n",
       "Marcks      5.612768     6.050193   17.25214     4.477776e-05 0.01508032\n",
       "S100a6      7.001343     3.532056   19.92753     2.451307e-05 0.01508032\n",
       "Sox4        5.090317     4.532335   17.35276     4.370419e-05 0.01508032\n",
       "Prtg        4.135534     5.659549   16.82780     4.967981e-05 0.01508032\n",
       "Parva       5.542041     4.293853   17.35519     4.367861e-05 0.01508032\n",
       "Cdkn1c      6.191648     3.583123   18.45887     3.376346e-05 0.01508032\n",
       "Gsn         4.581890     4.359648   16.96340     4.804447e-05 0.01508032\n",
       "Ahcy        4.019832     5.428288   16.42446     5.496755e-05 0.01508032\n",
       "Ass1       -3.656461     7.867293  -16.36103     5.586117e-05 0.01508032\n",
       "Gm8113      4.702386     4.330727   16.80716     4.993482e-05 0.01508032\n",
       "Flnc        8.992205     3.346145   21.80567     1.681011e-05 0.01508032\n",
       "Mmd         3.827681     5.303503   16.28141     5.700830e-05 0.01508032\n",
       "⋮          ⋮             ⋮         ⋮             ⋮            ⋮         \n",
       "Prrc2b      8.845499e-02  8.773355  0.2635626240 0.8044836    0.8547564 \n",
       "Tardbp     -2.014867e-02  8.203140 -0.0778666537 0.9414857    0.9588222 \n",
       "Myo10      -6.847275e-02  8.548565 -0.1974118798 0.8526474    0.8920108 \n",
       "Brd2       -4.850278e-03  8.183650 -0.0240524533 0.9819049    0.9878588 \n",
       "H3f3a      -5.507784e-02  8.535418 -0.1871694720 0.8601804    0.8971606 \n",
       "Cdk4        6.474599e-02  9.064881  0.3025224376 0.7765758    0.8324574 \n",
       "Cdc37      -1.895076e-02  8.313471 -0.1002930620 0.9246949    0.9461278 \n",
       "Map4       -2.906462e-02  8.469450 -0.1064348886 0.9201041    0.9427671 \n",
       "Snrnp70     2.106308e-02  8.464954  0.1075115547 0.9192997    0.9422104 \n",
       "Eif3l      -3.280673e-02  8.668642 -0.1746676972 0.8693989    0.9045029 \n",
       "Impdh2     -4.599530e-02  8.946978 -0.2336381808 0.8261598    0.8714371 \n",
       "Prmt1      -1.159702e-03  8.466328 -0.0043131048 0.9967548    0.9977095 \n",
       "U2af2       7.555490e-03  8.491815  0.0396844211 0.9701509    0.9794529 \n",
       "Eftud2     -5.523303e-03  8.561464 -0.0254179819 0.9808779    0.9872828 \n",
       "Snrnp200    6.991216e-05  8.562566  0.0002795143 0.9997897    0.9997897 \n",
       "Hspa5       2.062637e-02  8.657119  0.0918439047 0.9310159    0.9511122 \n",
       "Sptan1     -2.454664e-02  8.725525 -0.0685740691 0.9484544    0.9635399 \n",
       "D10Wsu102e  1.206286e-01 10.325849  0.4312291961 0.6874118    0.7609148 \n",
       "Cad        -5.069945e-02  9.226103 -0.1990146371 0.8514703    0.8914074 \n",
       "Gdi2        2.264493e-02  8.963718  0.1250958440 0.9061795    0.9327100 \n",
       "Vdac1      -4.753754e-02  9.608516 -0.2729037630 0.7977587    0.8492133 \n",
       "Ddb1        7.907668e-02 10.061913  0.3638735447 0.7334461    0.7978970 \n",
       "H3f3b      -1.520020e-02  9.026733 -0.0771668990 0.9420103    0.9592211 \n",
       "Ywhag       4.101678e-02  9.444048  0.1996569285 0.8509987    0.8911269 \n",
       "Tcp1       -3.648554e-02  9.516120 -0.2001496155 0.8506370    0.8910907 \n",
       "Tkt        -3.028021e-02  9.404413 -0.1633780655 0.8777450    0.9109389 \n",
       "Eif3c      -2.681406e-03  9.232151 -0.0140544740 0.9894257    0.9931410 \n",
       "Hspa9      -1.932166e-02  9.472346 -0.1062745996 0.9202239    0.9428229 \n",
       "Fasn        4.569970e-02  9.885082  0.1682917037 0.8741101    0.9082767 \n",
       "Ybx1       -3.079496e-02 10.039042 -0.1817205716 0.8641951    0.8999824 \n",
       "           B        \n",
       "Tpm1       4.881370 \n",
       "Pim2       4.851553 \n",
       "Peg10      4.396838 \n",
       "Cnn2       4.173143 \n",
       "Grb10      4.165840 \n",
       "Gm28437    4.162270 \n",
       "Glipr2     4.148621 \n",
       "Lin28a     4.031961 \n",
       "Vim        3.823638 \n",
       "Zyx        3.563835 \n",
       "Prdx6      3.463933 \n",
       "Igfbp5     3.336956 \n",
       "Axl        3.334331 \n",
       "Pea15a     3.317116 \n",
       "Dbn1       3.247696 \n",
       "Tgfbi      3.185358 \n",
       "Hmga1      3.185183 \n",
       "Tpm3       3.141246 \n",
       "Marcks     3.123655 \n",
       "S100a6     3.053851 \n",
       "Sox4       3.018949 \n",
       "Prtg       3.018445 \n",
       "Parva      2.969768 \n",
       "Cdkn1c     2.949100 \n",
       "Gsn        2.934431 \n",
       "Ahcy       2.916357 \n",
       "Ass1       2.906793 \n",
       "Gm8113     2.895796 \n",
       "Flnc       2.895255 \n",
       "Mmd        2.878145 \n",
       "⋮          ⋮        \n",
       "Prrc2b     -7.376744\n",
       "Tardbp     -7.376766\n",
       "Myo10      -7.377936\n",
       "Brd2       -7.378971\n",
       "H3f3a      -7.380241\n",
       "Cdk4       -7.380789\n",
       "Cdc37      -7.381665\n",
       "Map4       -7.390772\n",
       "Snrnp70    -7.391636\n",
       "Eif3l      -7.391746\n",
       "Impdh2     -7.393683\n",
       "Prmt1      -7.398510\n",
       "U2af2      -7.399279\n",
       "Eftud2     -7.403913\n",
       "Snrnp200   -7.404460\n",
       "Hspa5      -7.405808\n",
       "Sptan1     -7.411045\n",
       "D10Wsu102e -7.414328\n",
       "Cad        -7.419679\n",
       "Gdi2       -7.419910\n",
       "Vdac1      -7.423537\n",
       "Ddb1       -7.424275\n",
       "H3f3b      -7.429000\n",
       "Ywhag      -7.435376\n",
       "Tcp1       -7.438517\n",
       "Tkt        -7.439376\n",
       "Eif3c      -7.445282\n",
       "Hspa9      -7.453520\n",
       "Fasn       -7.473191\n",
       "Ybx1       -7.480017"
      ]
     },
     "metadata": {},
     "output_type": "display_data"
    }
   ],
   "source": [
    "DEG_limma_voom"
   ]
  },
  {
   "cell_type": "code",
   "execution_count": 99,
   "metadata": {
    "vscode": {
     "languageId": "r"
    }
   },
   "outputs": [],
   "source": [
    "#查看显著差异基因重叠性，绘制韦恩图\n",
    "#BiocManager::install(\"RBGL\") #安装依赖包\n",
    "#install.packages(\"Vennerable\", repos=\"http://R-Forge.R-project.org\") #安装Vennerable包\n",
    "library(Vennerable) \n",
    "\n",
    "log2FC_cutoff=log2(10);  \n",
    "p_cutoff=0.1   #筛选显著差异基因比较\n",
    "if(T){#根据Padj筛选\n",
    "DEseq2_deg <- rownames(DEG_DEseq2[with(DEG_DEseq2,abs(log2FoldChange)>log2FC_cutoff & padj<p_cutoff),])\n",
    "edgeR_deg <- rownames(DEG_edgeR[with(DEG_edgeR,abs(logFC)>log2FC_cutoff & FDR<p_cutoff),])\n",
    "limma_deg <- rownames(DEG_limma_voom[with(DEG_limma_voom,abs(logFC)>log2FC_cutoff & adj.P.Val<p_cutoff),])\n",
    "}"
   ]
  },
  {
   "cell_type": "code",
   "execution_count": 100,
   "metadata": {
    "vscode": {
     "languageId": "r"
    }
   },
   "outputs": [
    {
     "data": {
      "text/html": [
       "<style>\n",
       ".list-inline {list-style: none; margin:0; padding: 0}\n",
       ".list-inline>li {display: inline-block}\n",
       ".list-inline>li:not(:last-child)::after {content: \"\\00b7\"; padding: 0 .5ex}\n",
       "</style>\n",
       "<ol class=list-inline><li>'Tpm1'</li><li>'Pim2'</li><li>'Peg10'</li><li>'Cnn2'</li><li>'Grb10'</li><li>'Gm28437'</li><li>'Glipr2'</li><li>'Lin28a'</li><li>'Zyx'</li><li>'Prdx6'</li><li>'Igfbp5'</li><li>'Axl'</li><li>'Pea15a'</li><li>'Dbn1'</li><li>'Tgfbi'</li><li>'Marcks'</li><li>'S100a6'</li><li>'Sox4'</li><li>'Prtg'</li><li>'Parva'</li><li>'Cdkn1c'</li><li>'Gsn'</li><li>'Ahcy'</li><li>'Ass1'</li><li>'Gm8113'</li><li>'Flnc'</li><li>'Mmd'</li><li>'Arl4c'</li><li>'Ccn2'</li><li>'Phldb1'</li><li>'Dpysl3'</li><li>'Prickle1'</li><li>'Fzd2'</li><li>'Clip3'</li><li>'Rpl15-ps6'</li><li>'Lgals1'</li><li>'Anxa5'</li><li>'Nrep'</li><li>'Serpine1'</li><li>'Alpl'</li><li>'Fkbp10'</li><li>'Nanog'</li><li>'Col1a1'</li><li>'Lef1'</li><li>'Ak4'</li><li>'Arrb1'</li><li>'Tspan9'</li><li>'Kit'</li><li>'Ttyh3'</li><li>'Pdlim7'</li><li>'Rtl8b'</li><li>'Fgf4'</li><li>'Serpinh1'</li><li>'Upp1'</li><li>'Aif1l'</li><li>'Tpm2'</li><li>'Lbh'</li><li>'Igfbp3'</li><li>'Krt8'</li><li>'Dtx4'</li><li>'Rps7-ps3'</li><li>'Rps4l'</li><li>'Gja1'</li><li>'Jam2'</li><li>'Sox11'</li><li>'Basp1'</li><li>'Tdh'</li><li>'Dusp6'</li><li>'Anxa2'</li><li>'Sall2'</li><li>'Hmga2'</li><li>'Krt18'</li><li>'Dysf'</li><li>'Itga3'</li><li>'Tpt1-ps3'</li><li>'Selenon'</li><li>'Spred3'</li><li>'Loxl2'</li><li>'Anxa1'</li><li>'Wnt7b'</li><li>'Cryab'</li><li>'Nnat'</li><li>'T'</li><li>'Col4a1'</li><li>'Ccnd2'</li><li>'Itga7'</li><li>'Rhobtb3'</li><li>'Sema6a'</li><li>'Pcdh1'</li><li>'Car2'</li><li>'Agpat4'</li><li>'Crmp1'</li><li>'Klf2'</li><li>'Mmp9'</li><li>'Gm10282'</li><li>'Mxra8'</li><li>'Itgb3'</li><li>'Gjb3'</li><li>'Klf4'</li><li>'Col5a2'</li><li>'Angptl2'</li><li>'Inf2'</li><li>'Rassf3'</li><li>'Emp3'</li><li>'Nuak1'</li><li>'Fosl2'</li><li>'Slc39a14'</li><li>'Mogat2'</li><li>'Lsr'</li><li>'Phlda1'</li><li>'Adcy6'</li><li>'Efnb2'</li><li>'Bmp1'</li><li>'Efnb1'</li><li>'Tspan2'</li><li>'Pmaip1'</li><li>'Ano10'</li><li>'Rab31'</li><li>'Serpinf1'</li><li>'Colec12'</li><li>'Sfrp2'</li><li>'Trib2'</li><li>'Mest'</li><li>'Rpp25'</li><li>'Dusp5'</li><li>'Mmp2'</li><li>'Sorbs3'</li><li>'Zfp703'</li><li>'Ak3'</li><li>'Rps27'</li><li>'Gdpd5'</li><li>'Zfp629'</li><li>'Pxdn'</li><li>'Cd248'</li><li>'Csf1'</li><li>'Bin1'</li><li>'Satb1'</li><li>'Bag2'</li><li>'Igsf9'</li><li>'Col1a2'</li><li>'Zfp334'</li><li>'Perp'</li><li>'Amot'</li><li>'Soat1'</li><li>'Pou3f1'</li><li>'Apln'</li><li>'Snx33'</li><li>'Mmp14'</li><li>'Col2a1'</li><li>'App'</li><li>'Col7a1'</li><li>'Aldh1l1'</li><li>'Lmo4'</li><li>'Cntfr'</li><li>'Rdh10'</li><li>'Plekho1'</li><li>'Gm12191'</li><li>'Mtarc2'</li><li>'Kif1a'</li><li>'Dlg4'</li><li>'Mpdz'</li><li>'Plxnb1'</li><li>'Myc'</li><li>'Lrrfip1'</li><li>'Tpm3-rs7'</li><li>'Ccn4'</li><li>'Sox1'</li><li>'Celsr2'</li><li>'Inpp5d'</li><li>'Grik5'</li><li>'Mapk12'</li><li>'Castor2'</li><li>'Sort1'</li><li>'Rtl8a'</li><li>'Pbx3'</li><li>'Tspan7'</li><li>'Endod1'</li><li>'Elf3'</li><li>'Atxn1l'</li><li>'Limd2'</li><li>'Hist1h2ap'</li><li>'Epha1'</li><li>'Clcn5'</li><li>'Ltbp1'</li><li>'Esrrb'</li><li>'Dmtn'</li><li>'Fbn1'</li><li>'Mxd4'</li><li>'Gm10359'</li><li>'Sema4c'</li><li>'Meis3'</li><li>'Antxr1'</li><li>'Des'</li><li>'Dap'</li><li>'Lats2'</li><li>'Vash2'</li><li>'A4galt'</li><li>'Lrrc8b'</li><li>'Tagln'</li><li>'Mical2'</li><li>⋯</li><li>'Nlrp4a'</li><li>'Gcm2'</li><li>'Pi15'</li><li>'Gm13223'</li><li>'Aipl1'</li><li>'Frmpd1'</li><li>'AU022751'</li><li>'Pramel1'</li><li>'Tacstd2'</li><li>'Acsbg2'</li><li>'Me3'</li><li>'Pgr'</li><li>'Gm45105'</li><li>'Gm6505'</li><li>'Ubash3a'</li><li>'Olfr1385'</li><li>'Gm20431'</li><li>'Gm13034'</li><li>'Iqca'</li><li>'Gm14139'</li><li>'Tex15'</li><li>'Nos1ap'</li><li>'Gm650'</li><li>'Chrna5'</li><li>'Dusp26'</li><li>'Majin'</li><li>'Gm45351'</li><li>'Zfp980'</li><li>'Gm6284'</li><li>'Arhgap9'</li><li>'Galnt6'</li><li>'Spi1'</li><li>'Pax3'</li><li>'Tmem74b'</li><li>'Gpr179'</li><li>'Col20a1'</li><li>'Zyg11a'</li><li>'Ccdc122'</li><li>'Cdh15'</li><li>'Phactr3'</li><li>'2210409E12Rik'</li><li>'AL691519.1'</li><li>'Gabrb1'</li><li>'Slc9a2'</li><li>'Cd180'</li><li>'Slc2a7'</li><li>'0610040J01Rik'</li><li>'Nkx6-3'</li><li>'Xlr5c'</li><li>'Gm14387'</li><li>'Gm15455'</li><li>'Ccdc155'</li><li>'Rbp4'</li><li>'Cpsf4l'</li><li>'Acoxl'</li><li>'Gm17067'</li><li>'Ngfr'</li><li>'Csf3r'</li><li>'Adgrg5'</li><li>'Sycp2l'</li><li>'Fbp2'</li><li>'Gm7789'</li><li>'Gtsf1'</li><li>'Foxr1'</li><li>'Atp4a'</li><li>'Lims2'</li><li>'Ggt6'</li><li>'C3'</li><li>'Kcnh3'</li><li>'1700010I14Rik'</li><li>'Fsd2'</li><li>'Rhox9'</li><li>'Clcnkb'</li><li>'1700066B19Rik'</li><li>'Eif4ebp3'</li><li>'Nlrp14'</li><li>'Sec1'</li><li>'Nkx3-1'</li><li>'Hydin'</li><li>'Aldh3b2'</li><li>'Gm15091'</li><li>'Gm48691'</li><li>'Gm32996'</li><li>'Gm42927'</li><li>'Cd84'</li><li>'Prkcb'</li><li>'Apof'</li><li>'Vmn2r-ps104'</li><li>'Bcl11b'</li><li>'1700029I15Rik'</li><li>'Fam124a'</li><li>'Zfp600'</li><li>'Tex13b'</li><li>'Gm13233'</li><li>'Pramel6'</li><li>'Car5a'</li><li>'Gm13092'</li><li>'Gata3'</li><li>'Slfn3'</li><li>'C330022B21Rik'</li><li>'1810049J17Rik'</li><li>'Atp6v1c2'</li><li>'Gm10323'</li><li>'Gm48216'</li><li>'Sytl4'</li><li>'Gm15023'</li><li>'Wdr20rt'</li><li>'DXBay18'</li><li>'Fthl17f'</li><li>'1700001P01Rik'</li><li>'Sult1a1'</li><li>'Kcnn3'</li><li>'Hoxc5'</li><li>'D130040H23Rik'</li><li>'Galnt3'</li><li>'Hnf1a'</li><li>'Pla2g2f'</li><li>'Olfr709-ps1'</li><li>'Gm13231'</li><li>'Psenen-ps'</li><li>'Mroh4'</li><li>'Gm3219'</li><li>'Oas2'</li><li>'Gm28729'</li><li>'Ccdc172'</li><li>'Npb'</li><li>'Kdm5d'</li><li>'Pkd1l2'</li><li>'Gm7765'</li><li>'Gm9892'</li><li>'Syt1'</li><li>'Hlx'</li><li>'Slc15a1'</li><li>'Gm19428'</li><li>'Plscr2'</li><li>'Scn3a'</li><li>'Htr5a'</li><li>'Gm48218'</li><li>'Trpv3'</li><li>'Gm12569'</li><li>'Zfp975'</li><li>'Cfh'</li><li>'Gm5842'</li><li>'Gm18632'</li><li>'Gm14444'</li><li>'Gm28040'</li><li>'Zfp973'</li><li>'Mal'</li><li>'Ceacam10'</li><li>'Gm2128'</li><li>'Gsta2'</li><li>'Slamf6'</li><li>'Zbtb16'</li><li>'Cdx1'</li><li>'Asz1'</li><li>'Ly6k'</li><li>'Spata21'</li><li>'Hesx1'</li><li>'Slc5a1'</li><li>'Serpinb1b'</li><li>'Rab44'</li><li>'Macrod1'</li><li>'Krt13'</li><li>'Card11'</li><li>'Gm364'</li><li>'Them5'</li><li>'Dpp4'</li><li>'Slc13a2'</li><li>'Gm15097'</li><li>'Gm1980'</li><li>'Gm49037'</li><li>'Cps1'</li><li>'Gm6916'</li><li>'Gm12895'</li><li>'Gck'</li><li>'Gm15442'</li><li>'Dcaf8l'</li><li>'Gm45965'</li><li>'Sapcd1'</li><li>'Gm13230'</li><li>'Gm29721'</li><li>'Zfp936'</li><li>'Aire'</li><li>'Xlr4a'</li><li>'Pacrg'</li><li>'Tceal7'</li><li>'Hal'</li><li>'Lrcol1'</li><li>'Rhox4e'</li><li>'Zfp977'</li><li>'LO018689.6'</li><li>'Gm7332'</li><li>'Gm21750'</li><li>'Mrgprf'</li><li>'Dio3'</li><li>'Zfp990'</li><li>'Nlrp12'</li><li>'Zfp987'</li><li>'Zfp985'</li><li>'Zfp488'</li></ol>\n"
      ],
      "text/latex": [
       "\\begin{enumerate*}\n",
       "\\item 'Tpm1'\n",
       "\\item 'Pim2'\n",
       "\\item 'Peg10'\n",
       "\\item 'Cnn2'\n",
       "\\item 'Grb10'\n",
       "\\item 'Gm28437'\n",
       "\\item 'Glipr2'\n",
       "\\item 'Lin28a'\n",
       "\\item 'Zyx'\n",
       "\\item 'Prdx6'\n",
       "\\item 'Igfbp5'\n",
       "\\item 'Axl'\n",
       "\\item 'Pea15a'\n",
       "\\item 'Dbn1'\n",
       "\\item 'Tgfbi'\n",
       "\\item 'Marcks'\n",
       "\\item 'S100a6'\n",
       "\\item 'Sox4'\n",
       "\\item 'Prtg'\n",
       "\\item 'Parva'\n",
       "\\item 'Cdkn1c'\n",
       "\\item 'Gsn'\n",
       "\\item 'Ahcy'\n",
       "\\item 'Ass1'\n",
       "\\item 'Gm8113'\n",
       "\\item 'Flnc'\n",
       "\\item 'Mmd'\n",
       "\\item 'Arl4c'\n",
       "\\item 'Ccn2'\n",
       "\\item 'Phldb1'\n",
       "\\item 'Dpysl3'\n",
       "\\item 'Prickle1'\n",
       "\\item 'Fzd2'\n",
       "\\item 'Clip3'\n",
       "\\item 'Rpl15-ps6'\n",
       "\\item 'Lgals1'\n",
       "\\item 'Anxa5'\n",
       "\\item 'Nrep'\n",
       "\\item 'Serpine1'\n",
       "\\item 'Alpl'\n",
       "\\item 'Fkbp10'\n",
       "\\item 'Nanog'\n",
       "\\item 'Col1a1'\n",
       "\\item 'Lef1'\n",
       "\\item 'Ak4'\n",
       "\\item 'Arrb1'\n",
       "\\item 'Tspan9'\n",
       "\\item 'Kit'\n",
       "\\item 'Ttyh3'\n",
       "\\item 'Pdlim7'\n",
       "\\item 'Rtl8b'\n",
       "\\item 'Fgf4'\n",
       "\\item 'Serpinh1'\n",
       "\\item 'Upp1'\n",
       "\\item 'Aif1l'\n",
       "\\item 'Tpm2'\n",
       "\\item 'Lbh'\n",
       "\\item 'Igfbp3'\n",
       "\\item 'Krt8'\n",
       "\\item 'Dtx4'\n",
       "\\item 'Rps7-ps3'\n",
       "\\item 'Rps4l'\n",
       "\\item 'Gja1'\n",
       "\\item 'Jam2'\n",
       "\\item 'Sox11'\n",
       "\\item 'Basp1'\n",
       "\\item 'Tdh'\n",
       "\\item 'Dusp6'\n",
       "\\item 'Anxa2'\n",
       "\\item 'Sall2'\n",
       "\\item 'Hmga2'\n",
       "\\item 'Krt18'\n",
       "\\item 'Dysf'\n",
       "\\item 'Itga3'\n",
       "\\item 'Tpt1-ps3'\n",
       "\\item 'Selenon'\n",
       "\\item 'Spred3'\n",
       "\\item 'Loxl2'\n",
       "\\item 'Anxa1'\n",
       "\\item 'Wnt7b'\n",
       "\\item 'Cryab'\n",
       "\\item 'Nnat'\n",
       "\\item 'T'\n",
       "\\item 'Col4a1'\n",
       "\\item 'Ccnd2'\n",
       "\\item 'Itga7'\n",
       "\\item 'Rhobtb3'\n",
       "\\item 'Sema6a'\n",
       "\\item 'Pcdh1'\n",
       "\\item 'Car2'\n",
       "\\item 'Agpat4'\n",
       "\\item 'Crmp1'\n",
       "\\item 'Klf2'\n",
       "\\item 'Mmp9'\n",
       "\\item 'Gm10282'\n",
       "\\item 'Mxra8'\n",
       "\\item 'Itgb3'\n",
       "\\item 'Gjb3'\n",
       "\\item 'Klf4'\n",
       "\\item 'Col5a2'\n",
       "\\item 'Angptl2'\n",
       "\\item 'Inf2'\n",
       "\\item 'Rassf3'\n",
       "\\item 'Emp3'\n",
       "\\item 'Nuak1'\n",
       "\\item 'Fosl2'\n",
       "\\item 'Slc39a14'\n",
       "\\item 'Mogat2'\n",
       "\\item 'Lsr'\n",
       "\\item 'Phlda1'\n",
       "\\item 'Adcy6'\n",
       "\\item 'Efnb2'\n",
       "\\item 'Bmp1'\n",
       "\\item 'Efnb1'\n",
       "\\item 'Tspan2'\n",
       "\\item 'Pmaip1'\n",
       "\\item 'Ano10'\n",
       "\\item 'Rab31'\n",
       "\\item 'Serpinf1'\n",
       "\\item 'Colec12'\n",
       "\\item 'Sfrp2'\n",
       "\\item 'Trib2'\n",
       "\\item 'Mest'\n",
       "\\item 'Rpp25'\n",
       "\\item 'Dusp5'\n",
       "\\item 'Mmp2'\n",
       "\\item 'Sorbs3'\n",
       "\\item 'Zfp703'\n",
       "\\item 'Ak3'\n",
       "\\item 'Rps27'\n",
       "\\item 'Gdpd5'\n",
       "\\item 'Zfp629'\n",
       "\\item 'Pxdn'\n",
       "\\item 'Cd248'\n",
       "\\item 'Csf1'\n",
       "\\item 'Bin1'\n",
       "\\item 'Satb1'\n",
       "\\item 'Bag2'\n",
       "\\item 'Igsf9'\n",
       "\\item 'Col1a2'\n",
       "\\item 'Zfp334'\n",
       "\\item 'Perp'\n",
       "\\item 'Amot'\n",
       "\\item 'Soat1'\n",
       "\\item 'Pou3f1'\n",
       "\\item 'Apln'\n",
       "\\item 'Snx33'\n",
       "\\item 'Mmp14'\n",
       "\\item 'Col2a1'\n",
       "\\item 'App'\n",
       "\\item 'Col7a1'\n",
       "\\item 'Aldh1l1'\n",
       "\\item 'Lmo4'\n",
       "\\item 'Cntfr'\n",
       "\\item 'Rdh10'\n",
       "\\item 'Plekho1'\n",
       "\\item 'Gm12191'\n",
       "\\item 'Mtarc2'\n",
       "\\item 'Kif1a'\n",
       "\\item 'Dlg4'\n",
       "\\item 'Mpdz'\n",
       "\\item 'Plxnb1'\n",
       "\\item 'Myc'\n",
       "\\item 'Lrrfip1'\n",
       "\\item 'Tpm3-rs7'\n",
       "\\item 'Ccn4'\n",
       "\\item 'Sox1'\n",
       "\\item 'Celsr2'\n",
       "\\item 'Inpp5d'\n",
       "\\item 'Grik5'\n",
       "\\item 'Mapk12'\n",
       "\\item 'Castor2'\n",
       "\\item 'Sort1'\n",
       "\\item 'Rtl8a'\n",
       "\\item 'Pbx3'\n",
       "\\item 'Tspan7'\n",
       "\\item 'Endod1'\n",
       "\\item 'Elf3'\n",
       "\\item 'Atxn1l'\n",
       "\\item 'Limd2'\n",
       "\\item 'Hist1h2ap'\n",
       "\\item 'Epha1'\n",
       "\\item 'Clcn5'\n",
       "\\item 'Ltbp1'\n",
       "\\item 'Esrrb'\n",
       "\\item 'Dmtn'\n",
       "\\item 'Fbn1'\n",
       "\\item 'Mxd4'\n",
       "\\item 'Gm10359'\n",
       "\\item 'Sema4c'\n",
       "\\item 'Meis3'\n",
       "\\item 'Antxr1'\n",
       "\\item 'Des'\n",
       "\\item 'Dap'\n",
       "\\item 'Lats2'\n",
       "\\item 'Vash2'\n",
       "\\item 'A4galt'\n",
       "\\item 'Lrrc8b'\n",
       "\\item 'Tagln'\n",
       "\\item 'Mical2'\n",
       "\\item ⋯\n",
       "\\item 'Nlrp4a'\n",
       "\\item 'Gcm2'\n",
       "\\item 'Pi15'\n",
       "\\item 'Gm13223'\n",
       "\\item 'Aipl1'\n",
       "\\item 'Frmpd1'\n",
       "\\item 'AU022751'\n",
       "\\item 'Pramel1'\n",
       "\\item 'Tacstd2'\n",
       "\\item 'Acsbg2'\n",
       "\\item 'Me3'\n",
       "\\item 'Pgr'\n",
       "\\item 'Gm45105'\n",
       "\\item 'Gm6505'\n",
       "\\item 'Ubash3a'\n",
       "\\item 'Olfr1385'\n",
       "\\item 'Gm20431'\n",
       "\\item 'Gm13034'\n",
       "\\item 'Iqca'\n",
       "\\item 'Gm14139'\n",
       "\\item 'Tex15'\n",
       "\\item 'Nos1ap'\n",
       "\\item 'Gm650'\n",
       "\\item 'Chrna5'\n",
       "\\item 'Dusp26'\n",
       "\\item 'Majin'\n",
       "\\item 'Gm45351'\n",
       "\\item 'Zfp980'\n",
       "\\item 'Gm6284'\n",
       "\\item 'Arhgap9'\n",
       "\\item 'Galnt6'\n",
       "\\item 'Spi1'\n",
       "\\item 'Pax3'\n",
       "\\item 'Tmem74b'\n",
       "\\item 'Gpr179'\n",
       "\\item 'Col20a1'\n",
       "\\item 'Zyg11a'\n",
       "\\item 'Ccdc122'\n",
       "\\item 'Cdh15'\n",
       "\\item 'Phactr3'\n",
       "\\item '2210409E12Rik'\n",
       "\\item 'AL691519.1'\n",
       "\\item 'Gabrb1'\n",
       "\\item 'Slc9a2'\n",
       "\\item 'Cd180'\n",
       "\\item 'Slc2a7'\n",
       "\\item '0610040J01Rik'\n",
       "\\item 'Nkx6-3'\n",
       "\\item 'Xlr5c'\n",
       "\\item 'Gm14387'\n",
       "\\item 'Gm15455'\n",
       "\\item 'Ccdc155'\n",
       "\\item 'Rbp4'\n",
       "\\item 'Cpsf4l'\n",
       "\\item 'Acoxl'\n",
       "\\item 'Gm17067'\n",
       "\\item 'Ngfr'\n",
       "\\item 'Csf3r'\n",
       "\\item 'Adgrg5'\n",
       "\\item 'Sycp2l'\n",
       "\\item 'Fbp2'\n",
       "\\item 'Gm7789'\n",
       "\\item 'Gtsf1'\n",
       "\\item 'Foxr1'\n",
       "\\item 'Atp4a'\n",
       "\\item 'Lims2'\n",
       "\\item 'Ggt6'\n",
       "\\item 'C3'\n",
       "\\item 'Kcnh3'\n",
       "\\item '1700010I14Rik'\n",
       "\\item 'Fsd2'\n",
       "\\item 'Rhox9'\n",
       "\\item 'Clcnkb'\n",
       "\\item '1700066B19Rik'\n",
       "\\item 'Eif4ebp3'\n",
       "\\item 'Nlrp14'\n",
       "\\item 'Sec1'\n",
       "\\item 'Nkx3-1'\n",
       "\\item 'Hydin'\n",
       "\\item 'Aldh3b2'\n",
       "\\item 'Gm15091'\n",
       "\\item 'Gm48691'\n",
       "\\item 'Gm32996'\n",
       "\\item 'Gm42927'\n",
       "\\item 'Cd84'\n",
       "\\item 'Prkcb'\n",
       "\\item 'Apof'\n",
       "\\item 'Vmn2r-ps104'\n",
       "\\item 'Bcl11b'\n",
       "\\item '1700029I15Rik'\n",
       "\\item 'Fam124a'\n",
       "\\item 'Zfp600'\n",
       "\\item 'Tex13b'\n",
       "\\item 'Gm13233'\n",
       "\\item 'Pramel6'\n",
       "\\item 'Car5a'\n",
       "\\item 'Gm13092'\n",
       "\\item 'Gata3'\n",
       "\\item 'Slfn3'\n",
       "\\item 'C330022B21Rik'\n",
       "\\item '1810049J17Rik'\n",
       "\\item 'Atp6v1c2'\n",
       "\\item 'Gm10323'\n",
       "\\item 'Gm48216'\n",
       "\\item 'Sytl4'\n",
       "\\item 'Gm15023'\n",
       "\\item 'Wdr20rt'\n",
       "\\item 'DXBay18'\n",
       "\\item 'Fthl17f'\n",
       "\\item '1700001P01Rik'\n",
       "\\item 'Sult1a1'\n",
       "\\item 'Kcnn3'\n",
       "\\item 'Hoxc5'\n",
       "\\item 'D130040H23Rik'\n",
       "\\item 'Galnt3'\n",
       "\\item 'Hnf1a'\n",
       "\\item 'Pla2g2f'\n",
       "\\item 'Olfr709-ps1'\n",
       "\\item 'Gm13231'\n",
       "\\item 'Psenen-ps'\n",
       "\\item 'Mroh4'\n",
       "\\item 'Gm3219'\n",
       "\\item 'Oas2'\n",
       "\\item 'Gm28729'\n",
       "\\item 'Ccdc172'\n",
       "\\item 'Npb'\n",
       "\\item 'Kdm5d'\n",
       "\\item 'Pkd1l2'\n",
       "\\item 'Gm7765'\n",
       "\\item 'Gm9892'\n",
       "\\item 'Syt1'\n",
       "\\item 'Hlx'\n",
       "\\item 'Slc15a1'\n",
       "\\item 'Gm19428'\n",
       "\\item 'Plscr2'\n",
       "\\item 'Scn3a'\n",
       "\\item 'Htr5a'\n",
       "\\item 'Gm48218'\n",
       "\\item 'Trpv3'\n",
       "\\item 'Gm12569'\n",
       "\\item 'Zfp975'\n",
       "\\item 'Cfh'\n",
       "\\item 'Gm5842'\n",
       "\\item 'Gm18632'\n",
       "\\item 'Gm14444'\n",
       "\\item 'Gm28040'\n",
       "\\item 'Zfp973'\n",
       "\\item 'Mal'\n",
       "\\item 'Ceacam10'\n",
       "\\item 'Gm2128'\n",
       "\\item 'Gsta2'\n",
       "\\item 'Slamf6'\n",
       "\\item 'Zbtb16'\n",
       "\\item 'Cdx1'\n",
       "\\item 'Asz1'\n",
       "\\item 'Ly6k'\n",
       "\\item 'Spata21'\n",
       "\\item 'Hesx1'\n",
       "\\item 'Slc5a1'\n",
       "\\item 'Serpinb1b'\n",
       "\\item 'Rab44'\n",
       "\\item 'Macrod1'\n",
       "\\item 'Krt13'\n",
       "\\item 'Card11'\n",
       "\\item 'Gm364'\n",
       "\\item 'Them5'\n",
       "\\item 'Dpp4'\n",
       "\\item 'Slc13a2'\n",
       "\\item 'Gm15097'\n",
       "\\item 'Gm1980'\n",
       "\\item 'Gm49037'\n",
       "\\item 'Cps1'\n",
       "\\item 'Gm6916'\n",
       "\\item 'Gm12895'\n",
       "\\item 'Gck'\n",
       "\\item 'Gm15442'\n",
       "\\item 'Dcaf8l'\n",
       "\\item 'Gm45965'\n",
       "\\item 'Sapcd1'\n",
       "\\item 'Gm13230'\n",
       "\\item 'Gm29721'\n",
       "\\item 'Zfp936'\n",
       "\\item 'Aire'\n",
       "\\item 'Xlr4a'\n",
       "\\item 'Pacrg'\n",
       "\\item 'Tceal7'\n",
       "\\item 'Hal'\n",
       "\\item 'Lrcol1'\n",
       "\\item 'Rhox4e'\n",
       "\\item 'Zfp977'\n",
       "\\item 'LO018689.6'\n",
       "\\item 'Gm7332'\n",
       "\\item 'Gm21750'\n",
       "\\item 'Mrgprf'\n",
       "\\item 'Dio3'\n",
       "\\item 'Zfp990'\n",
       "\\item 'Nlrp12'\n",
       "\\item 'Zfp987'\n",
       "\\item 'Zfp985'\n",
       "\\item 'Zfp488'\n",
       "\\end{enumerate*}\n"
      ],
      "text/markdown": [
       "1. 'Tpm1'\n",
       "2. 'Pim2'\n",
       "3. 'Peg10'\n",
       "4. 'Cnn2'\n",
       "5. 'Grb10'\n",
       "6. 'Gm28437'\n",
       "7. 'Glipr2'\n",
       "8. 'Lin28a'\n",
       "9. 'Zyx'\n",
       "10. 'Prdx6'\n",
       "11. 'Igfbp5'\n",
       "12. 'Axl'\n",
       "13. 'Pea15a'\n",
       "14. 'Dbn1'\n",
       "15. 'Tgfbi'\n",
       "16. 'Marcks'\n",
       "17. 'S100a6'\n",
       "18. 'Sox4'\n",
       "19. 'Prtg'\n",
       "20. 'Parva'\n",
       "21. 'Cdkn1c'\n",
       "22. 'Gsn'\n",
       "23. 'Ahcy'\n",
       "24. 'Ass1'\n",
       "25. 'Gm8113'\n",
       "26. 'Flnc'\n",
       "27. 'Mmd'\n",
       "28. 'Arl4c'\n",
       "29. 'Ccn2'\n",
       "30. 'Phldb1'\n",
       "31. 'Dpysl3'\n",
       "32. 'Prickle1'\n",
       "33. 'Fzd2'\n",
       "34. 'Clip3'\n",
       "35. 'Rpl15-ps6'\n",
       "36. 'Lgals1'\n",
       "37. 'Anxa5'\n",
       "38. 'Nrep'\n",
       "39. 'Serpine1'\n",
       "40. 'Alpl'\n",
       "41. 'Fkbp10'\n",
       "42. 'Nanog'\n",
       "43. 'Col1a1'\n",
       "44. 'Lef1'\n",
       "45. 'Ak4'\n",
       "46. 'Arrb1'\n",
       "47. 'Tspan9'\n",
       "48. 'Kit'\n",
       "49. 'Ttyh3'\n",
       "50. 'Pdlim7'\n",
       "51. 'Rtl8b'\n",
       "52. 'Fgf4'\n",
       "53. 'Serpinh1'\n",
       "54. 'Upp1'\n",
       "55. 'Aif1l'\n",
       "56. 'Tpm2'\n",
       "57. 'Lbh'\n",
       "58. 'Igfbp3'\n",
       "59. 'Krt8'\n",
       "60. 'Dtx4'\n",
       "61. 'Rps7-ps3'\n",
       "62. 'Rps4l'\n",
       "63. 'Gja1'\n",
       "64. 'Jam2'\n",
       "65. 'Sox11'\n",
       "66. 'Basp1'\n",
       "67. 'Tdh'\n",
       "68. 'Dusp6'\n",
       "69. 'Anxa2'\n",
       "70. 'Sall2'\n",
       "71. 'Hmga2'\n",
       "72. 'Krt18'\n",
       "73. 'Dysf'\n",
       "74. 'Itga3'\n",
       "75. 'Tpt1-ps3'\n",
       "76. 'Selenon'\n",
       "77. 'Spred3'\n",
       "78. 'Loxl2'\n",
       "79. 'Anxa1'\n",
       "80. 'Wnt7b'\n",
       "81. 'Cryab'\n",
       "82. 'Nnat'\n",
       "83. 'T'\n",
       "84. 'Col4a1'\n",
       "85. 'Ccnd2'\n",
       "86. 'Itga7'\n",
       "87. 'Rhobtb3'\n",
       "88. 'Sema6a'\n",
       "89. 'Pcdh1'\n",
       "90. 'Car2'\n",
       "91. 'Agpat4'\n",
       "92. 'Crmp1'\n",
       "93. 'Klf2'\n",
       "94. 'Mmp9'\n",
       "95. 'Gm10282'\n",
       "96. 'Mxra8'\n",
       "97. 'Itgb3'\n",
       "98. 'Gjb3'\n",
       "99. 'Klf4'\n",
       "100. 'Col5a2'\n",
       "101. 'Angptl2'\n",
       "102. 'Inf2'\n",
       "103. 'Rassf3'\n",
       "104. 'Emp3'\n",
       "105. 'Nuak1'\n",
       "106. 'Fosl2'\n",
       "107. 'Slc39a14'\n",
       "108. 'Mogat2'\n",
       "109. 'Lsr'\n",
       "110. 'Phlda1'\n",
       "111. 'Adcy6'\n",
       "112. 'Efnb2'\n",
       "113. 'Bmp1'\n",
       "114. 'Efnb1'\n",
       "115. 'Tspan2'\n",
       "116. 'Pmaip1'\n",
       "117. 'Ano10'\n",
       "118. 'Rab31'\n",
       "119. 'Serpinf1'\n",
       "120. 'Colec12'\n",
       "121. 'Sfrp2'\n",
       "122. 'Trib2'\n",
       "123. 'Mest'\n",
       "124. 'Rpp25'\n",
       "125. 'Dusp5'\n",
       "126. 'Mmp2'\n",
       "127. 'Sorbs3'\n",
       "128. 'Zfp703'\n",
       "129. 'Ak3'\n",
       "130. 'Rps27'\n",
       "131. 'Gdpd5'\n",
       "132. 'Zfp629'\n",
       "133. 'Pxdn'\n",
       "134. 'Cd248'\n",
       "135. 'Csf1'\n",
       "136. 'Bin1'\n",
       "137. 'Satb1'\n",
       "138. 'Bag2'\n",
       "139. 'Igsf9'\n",
       "140. 'Col1a2'\n",
       "141. 'Zfp334'\n",
       "142. 'Perp'\n",
       "143. 'Amot'\n",
       "144. 'Soat1'\n",
       "145. 'Pou3f1'\n",
       "146. 'Apln'\n",
       "147. 'Snx33'\n",
       "148. 'Mmp14'\n",
       "149. 'Col2a1'\n",
       "150. 'App'\n",
       "151. 'Col7a1'\n",
       "152. 'Aldh1l1'\n",
       "153. 'Lmo4'\n",
       "154. 'Cntfr'\n",
       "155. 'Rdh10'\n",
       "156. 'Plekho1'\n",
       "157. 'Gm12191'\n",
       "158. 'Mtarc2'\n",
       "159. 'Kif1a'\n",
       "160. 'Dlg4'\n",
       "161. 'Mpdz'\n",
       "162. 'Plxnb1'\n",
       "163. 'Myc'\n",
       "164. 'Lrrfip1'\n",
       "165. 'Tpm3-rs7'\n",
       "166. 'Ccn4'\n",
       "167. 'Sox1'\n",
       "168. 'Celsr2'\n",
       "169. 'Inpp5d'\n",
       "170. 'Grik5'\n",
       "171. 'Mapk12'\n",
       "172. 'Castor2'\n",
       "173. 'Sort1'\n",
       "174. 'Rtl8a'\n",
       "175. 'Pbx3'\n",
       "176. 'Tspan7'\n",
       "177. 'Endod1'\n",
       "178. 'Elf3'\n",
       "179. 'Atxn1l'\n",
       "180. 'Limd2'\n",
       "181. 'Hist1h2ap'\n",
       "182. 'Epha1'\n",
       "183. 'Clcn5'\n",
       "184. 'Ltbp1'\n",
       "185. 'Esrrb'\n",
       "186. 'Dmtn'\n",
       "187. 'Fbn1'\n",
       "188. 'Mxd4'\n",
       "189. 'Gm10359'\n",
       "190. 'Sema4c'\n",
       "191. 'Meis3'\n",
       "192. 'Antxr1'\n",
       "193. 'Des'\n",
       "194. 'Dap'\n",
       "195. 'Lats2'\n",
       "196. 'Vash2'\n",
       "197. 'A4galt'\n",
       "198. 'Lrrc8b'\n",
       "199. 'Tagln'\n",
       "200. 'Mical2'\n",
       "201. ⋯\n",
       "202. 'Nlrp4a'\n",
       "203. 'Gcm2'\n",
       "204. 'Pi15'\n",
       "205. 'Gm13223'\n",
       "206. 'Aipl1'\n",
       "207. 'Frmpd1'\n",
       "208. 'AU022751'\n",
       "209. 'Pramel1'\n",
       "210. 'Tacstd2'\n",
       "211. 'Acsbg2'\n",
       "212. 'Me3'\n",
       "213. 'Pgr'\n",
       "214. 'Gm45105'\n",
       "215. 'Gm6505'\n",
       "216. 'Ubash3a'\n",
       "217. 'Olfr1385'\n",
       "218. 'Gm20431'\n",
       "219. 'Gm13034'\n",
       "220. 'Iqca'\n",
       "221. 'Gm14139'\n",
       "222. 'Tex15'\n",
       "223. 'Nos1ap'\n",
       "224. 'Gm650'\n",
       "225. 'Chrna5'\n",
       "226. 'Dusp26'\n",
       "227. 'Majin'\n",
       "228. 'Gm45351'\n",
       "229. 'Zfp980'\n",
       "230. 'Gm6284'\n",
       "231. 'Arhgap9'\n",
       "232. 'Galnt6'\n",
       "233. 'Spi1'\n",
       "234. 'Pax3'\n",
       "235. 'Tmem74b'\n",
       "236. 'Gpr179'\n",
       "237. 'Col20a1'\n",
       "238. 'Zyg11a'\n",
       "239. 'Ccdc122'\n",
       "240. 'Cdh15'\n",
       "241. 'Phactr3'\n",
       "242. '2210409E12Rik'\n",
       "243. 'AL691519.1'\n",
       "244. 'Gabrb1'\n",
       "245. 'Slc9a2'\n",
       "246. 'Cd180'\n",
       "247. 'Slc2a7'\n",
       "248. '0610040J01Rik'\n",
       "249. 'Nkx6-3'\n",
       "250. 'Xlr5c'\n",
       "251. 'Gm14387'\n",
       "252. 'Gm15455'\n",
       "253. 'Ccdc155'\n",
       "254. 'Rbp4'\n",
       "255. 'Cpsf4l'\n",
       "256. 'Acoxl'\n",
       "257. 'Gm17067'\n",
       "258. 'Ngfr'\n",
       "259. 'Csf3r'\n",
       "260. 'Adgrg5'\n",
       "261. 'Sycp2l'\n",
       "262. 'Fbp2'\n",
       "263. 'Gm7789'\n",
       "264. 'Gtsf1'\n",
       "265. 'Foxr1'\n",
       "266. 'Atp4a'\n",
       "267. 'Lims2'\n",
       "268. 'Ggt6'\n",
       "269. 'C3'\n",
       "270. 'Kcnh3'\n",
       "271. '1700010I14Rik'\n",
       "272. 'Fsd2'\n",
       "273. 'Rhox9'\n",
       "274. 'Clcnkb'\n",
       "275. '1700066B19Rik'\n",
       "276. 'Eif4ebp3'\n",
       "277. 'Nlrp14'\n",
       "278. 'Sec1'\n",
       "279. 'Nkx3-1'\n",
       "280. 'Hydin'\n",
       "281. 'Aldh3b2'\n",
       "282. 'Gm15091'\n",
       "283. 'Gm48691'\n",
       "284. 'Gm32996'\n",
       "285. 'Gm42927'\n",
       "286. 'Cd84'\n",
       "287. 'Prkcb'\n",
       "288. 'Apof'\n",
       "289. 'Vmn2r-ps104'\n",
       "290. 'Bcl11b'\n",
       "291. '1700029I15Rik'\n",
       "292. 'Fam124a'\n",
       "293. 'Zfp600'\n",
       "294. 'Tex13b'\n",
       "295. 'Gm13233'\n",
       "296. 'Pramel6'\n",
       "297. 'Car5a'\n",
       "298. 'Gm13092'\n",
       "299. 'Gata3'\n",
       "300. 'Slfn3'\n",
       "301. 'C330022B21Rik'\n",
       "302. '1810049J17Rik'\n",
       "303. 'Atp6v1c2'\n",
       "304. 'Gm10323'\n",
       "305. 'Gm48216'\n",
       "306. 'Sytl4'\n",
       "307. 'Gm15023'\n",
       "308. 'Wdr20rt'\n",
       "309. 'DXBay18'\n",
       "310. 'Fthl17f'\n",
       "311. '1700001P01Rik'\n",
       "312. 'Sult1a1'\n",
       "313. 'Kcnn3'\n",
       "314. 'Hoxc5'\n",
       "315. 'D130040H23Rik'\n",
       "316. 'Galnt3'\n",
       "317. 'Hnf1a'\n",
       "318. 'Pla2g2f'\n",
       "319. 'Olfr709-ps1'\n",
       "320. 'Gm13231'\n",
       "321. 'Psenen-ps'\n",
       "322. 'Mroh4'\n",
       "323. 'Gm3219'\n",
       "324. 'Oas2'\n",
       "325. 'Gm28729'\n",
       "326. 'Ccdc172'\n",
       "327. 'Npb'\n",
       "328. 'Kdm5d'\n",
       "329. 'Pkd1l2'\n",
       "330. 'Gm7765'\n",
       "331. 'Gm9892'\n",
       "332. 'Syt1'\n",
       "333. 'Hlx'\n",
       "334. 'Slc15a1'\n",
       "335. 'Gm19428'\n",
       "336. 'Plscr2'\n",
       "337. 'Scn3a'\n",
       "338. 'Htr5a'\n",
       "339. 'Gm48218'\n",
       "340. 'Trpv3'\n",
       "341. 'Gm12569'\n",
       "342. 'Zfp975'\n",
       "343. 'Cfh'\n",
       "344. 'Gm5842'\n",
       "345. 'Gm18632'\n",
       "346. 'Gm14444'\n",
       "347. 'Gm28040'\n",
       "348. 'Zfp973'\n",
       "349. 'Mal'\n",
       "350. 'Ceacam10'\n",
       "351. 'Gm2128'\n",
       "352. 'Gsta2'\n",
       "353. 'Slamf6'\n",
       "354. 'Zbtb16'\n",
       "355. 'Cdx1'\n",
       "356. 'Asz1'\n",
       "357. 'Ly6k'\n",
       "358. 'Spata21'\n",
       "359. 'Hesx1'\n",
       "360. 'Slc5a1'\n",
       "361. 'Serpinb1b'\n",
       "362. 'Rab44'\n",
       "363. 'Macrod1'\n",
       "364. 'Krt13'\n",
       "365. 'Card11'\n",
       "366. 'Gm364'\n",
       "367. 'Them5'\n",
       "368. 'Dpp4'\n",
       "369. 'Slc13a2'\n",
       "370. 'Gm15097'\n",
       "371. 'Gm1980'\n",
       "372. 'Gm49037'\n",
       "373. 'Cps1'\n",
       "374. 'Gm6916'\n",
       "375. 'Gm12895'\n",
       "376. 'Gck'\n",
       "377. 'Gm15442'\n",
       "378. 'Dcaf8l'\n",
       "379. 'Gm45965'\n",
       "380. 'Sapcd1'\n",
       "381. 'Gm13230'\n",
       "382. 'Gm29721'\n",
       "383. 'Zfp936'\n",
       "384. 'Aire'\n",
       "385. 'Xlr4a'\n",
       "386. 'Pacrg'\n",
       "387. 'Tceal7'\n",
       "388. 'Hal'\n",
       "389. 'Lrcol1'\n",
       "390. 'Rhox4e'\n",
       "391. 'Zfp977'\n",
       "392. 'LO018689.6'\n",
       "393. 'Gm7332'\n",
       "394. 'Gm21750'\n",
       "395. 'Mrgprf'\n",
       "396. 'Dio3'\n",
       "397. 'Zfp990'\n",
       "398. 'Nlrp12'\n",
       "399. 'Zfp987'\n",
       "400. 'Zfp985'\n",
       "401. 'Zfp488'\n",
       "\n",
       "\n"
      ],
      "text/plain": [
       "   [1] \"Tpm1\"          \"Pim2\"          \"Peg10\"         \"Cnn2\"         \n",
       "   [5] \"Grb10\"         \"Gm28437\"       \"Glipr2\"        \"Lin28a\"       \n",
       "   [9] \"Zyx\"           \"Prdx6\"         \"Igfbp5\"        \"Axl\"          \n",
       "  [13] \"Pea15a\"        \"Dbn1\"          \"Tgfbi\"         \"Marcks\"       \n",
       "  [17] \"S100a6\"        \"Sox4\"          \"Prtg\"          \"Parva\"        \n",
       "  [21] \"Cdkn1c\"        \"Gsn\"           \"Ahcy\"          \"Ass1\"         \n",
       "  [25] \"Gm8113\"        \"Flnc\"          \"Mmd\"           \"Arl4c\"        \n",
       "  [29] \"Ccn2\"          \"Phldb1\"        \"Dpysl3\"        \"Prickle1\"     \n",
       "  [33] \"Fzd2\"          \"Clip3\"         \"Rpl15-ps6\"     \"Lgals1\"       \n",
       "  [37] \"Anxa5\"         \"Nrep\"          \"Serpine1\"      \"Alpl\"         \n",
       "  [41] \"Fkbp10\"        \"Nanog\"         \"Col1a1\"        \"Lef1\"         \n",
       "  [45] \"Ak4\"           \"Arrb1\"         \"Tspan9\"        \"Kit\"          \n",
       "  [49] \"Ttyh3\"         \"Pdlim7\"        \"Rtl8b\"         \"Fgf4\"         \n",
       "  [53] \"Serpinh1\"      \"Upp1\"          \"Aif1l\"         \"Tpm2\"         \n",
       "  [57] \"Lbh\"           \"Igfbp3\"        \"Krt8\"          \"Dtx4\"         \n",
       "  [61] \"Rps7-ps3\"      \"Rps4l\"         \"Gja1\"          \"Jam2\"         \n",
       "  [65] \"Sox11\"         \"Basp1\"         \"Tdh\"           \"Dusp6\"        \n",
       "  [69] \"Anxa2\"         \"Sall2\"         \"Hmga2\"         \"Krt18\"        \n",
       "  [73] \"Dysf\"          \"Itga3\"         \"Tpt1-ps3\"      \"Selenon\"      \n",
       "  [77] \"Spred3\"        \"Loxl2\"         \"Anxa1\"         \"Wnt7b\"        \n",
       "  [81] \"Cryab\"         \"Nnat\"          \"T\"             \"Col4a1\"       \n",
       "  [85] \"Ccnd2\"         \"Itga7\"         \"Rhobtb3\"       \"Sema6a\"       \n",
       "  [89] \"Pcdh1\"         \"Car2\"          \"Agpat4\"        \"Crmp1\"        \n",
       "  [93] \"Klf2\"          \"Mmp9\"          \"Gm10282\"       \"Mxra8\"        \n",
       "  [97] \"Itgb3\"         \"Gjb3\"          \"Klf4\"          \"Col5a2\"       \n",
       " [101] \"Angptl2\"       \"Inf2\"          \"Rassf3\"        \"Emp3\"         \n",
       " [105] \"Nuak1\"         \"Fosl2\"         \"Slc39a14\"      \"Mogat2\"       \n",
       " [109] \"Lsr\"           \"Phlda1\"        \"Adcy6\"         \"Efnb2\"        \n",
       " [113] \"Bmp1\"          \"Efnb1\"         \"Tspan2\"        \"Pmaip1\"       \n",
       " [117] \"Ano10\"         \"Rab31\"         \"Serpinf1\"      \"Colec12\"      \n",
       " [121] \"Sfrp2\"         \"Trib2\"         \"Mest\"          \"Rpp25\"        \n",
       " [125] \"Dusp5\"         \"Mmp2\"          \"Sorbs3\"        \"Zfp703\"       \n",
       " [129] \"Ak3\"           \"Rps27\"         \"Gdpd5\"         \"Zfp629\"       \n",
       " [133] \"Pxdn\"          \"Cd248\"         \"Csf1\"          \"Bin1\"         \n",
       " [137] \"Satb1\"         \"Bag2\"          \"Igsf9\"         \"Col1a2\"       \n",
       " [141] \"Zfp334\"        \"Perp\"          \"Amot\"          \"Soat1\"        \n",
       " [145] \"Pou3f1\"        \"Apln\"          \"Snx33\"         \"Mmp14\"        \n",
       " [149] \"Col2a1\"        \"App\"           \"Col7a1\"        \"Aldh1l1\"      \n",
       " [153] \"Lmo4\"          \"Cntfr\"         \"Rdh10\"         \"Plekho1\"      \n",
       " [157] \"Gm12191\"       \"Mtarc2\"        \"Kif1a\"         \"Dlg4\"         \n",
       " [161] \"Mpdz\"          \"Plxnb1\"        \"Myc\"           \"Lrrfip1\"      \n",
       " [165] \"Tpm3-rs7\"      \"Ccn4\"          \"Sox1\"          \"Celsr2\"       \n",
       " [169] \"Inpp5d\"        \"Grik5\"         \"Mapk12\"        \"Castor2\"      \n",
       " [173] \"Sort1\"         \"Rtl8a\"         \"Pbx3\"          \"Tspan7\"       \n",
       " [177] \"Endod1\"        \"Elf3\"          \"Atxn1l\"        \"Limd2\"        \n",
       " [181] \"Hist1h2ap\"     \"Epha1\"         \"Clcn5\"         \"Ltbp1\"        \n",
       " [185] \"Esrrb\"         \"Dmtn\"          \"Fbn1\"          \"Mxd4\"         \n",
       " [189] \"Gm10359\"       \"Sema4c\"        \"Meis3\"         \"Antxr1\"       \n",
       " [193] \"Des\"           \"Dap\"           \"Lats2\"         \"Vash2\"        \n",
       " [197] \"A4galt\"        \"Lrrc8b\"        \"Tagln\"         \"Mical2\"       \n",
       " [201] \"Osbpl5\"        \"Plat\"          \"Arhgef26\"      \"Irs2\"         \n",
       " [205] \"Cgnl1\"         \"Zfp296\"        \"Penk\"          \"Ets1\"         \n",
       " [209] \"Kpna2\"         \"Bcl3\"          \"Thbs3\"         \"Tgfb2\"        \n",
       " [213] \"Lrp2\"          \"Tshz1\"         \"Cdh2\"          \"Greb1\"        \n",
       " [217] \"Cdc42ep1\"      \"Tmx4\"          \"Gpsm1\"         \"Dusp18\"       \n",
       " [221] \"Slc1a3\"        \"Reep2\"         \"Rin1\"          \"Greb1l\"       \n",
       " [225] \"Lin28b\"        \"Slc5a5\"        \"Camk2d\"        \"Rfx2\"         \n",
       " [229] \"Stom\"          \"Ly75\"          \"Efna5\"         \"Akr1b8\"       \n",
       " [233] \"Fbn2\"          \"Gm4332\"        \"Trap1a\"        \"Ehd2\"         \n",
       " [237] \"Lrrn4\"         \"Ldhb\"          \"Mcf2\"          \"Emilin1\"      \n",
       " [241] \"Prmt2\"         \"Rpl15-ps2\"     \"Msln\"          \"Aff3\"         \n",
       " [245] \"Ecm1\"          \"Sh3pxd2b\"      \"Sprr2a2\"       \"Jakmip1\"      \n",
       " [249] \"Thbs1\"         \"Slc25a24\"      \"Zfp608\"        \"Pam\"          \n",
       " [253] \"Samd14\"        \"Gli3\"          \"Col4a2\"        \"Pde3b\"        \n",
       " [257] \"Ptprn\"         \"Jun\"           \"Crb2\"          \"Tinagl1\"      \n",
       " [261] \"Pcdhgb6\"       \"Tgfb1i1\"       \"Fgf15\"         \"Frem2\"        \n",
       " [265] \"Vopp1\"         \"Gpr153\"        \"Foxp1\"         \"Cacng7\"       \n",
       " [269] \"Adgrl2\"        \"Slc30a4\"       \"Lhfp\"          \"Vcl\"          \n",
       " [273] \"Fndc4\"         \"Zfp59\"         \"Cpne2\"         \"Nsmf\"         \n",
       " [277] \"Arhgef5\"       \"Arhgef40\"      \"Chmp4c\"        \"Igf2\"         \n",
       " [281] \"Tmem88\"        \"Spry4\"         \"Pecam1\"        \"Icam1\"        \n",
       " [285] \"Mrc2\"          \"Nr6a1\"         \"Mmp25\"         \"Pmp22\"        \n",
       " [289] \"Fbxo15\"        \"Arap3\"         \"Pdgfrl\"        \"Tdrp\"         \n",
       " [293] \"Gnas\"          \"Cd44\"          \"Stox2\"         \"Armcx3\"       \n",
       " [297] \"Specc1\"        \"Fignl2\"        \"Maml3\"         \"Armcx2\"       \n",
       " [301] \"Plxdc2\"        \"C530008M17Rik\" \"Pkdcc\"         \"Dpysl2\"       \n",
       " [305] \"Kctd11\"        \"Ttc39b\"        \"Runx1\"         \"Slit1\"        \n",
       " [309] \"Tbc1d8\"        \"Vrtn\"          \"Samd4\"         \"Trpm1\"        \n",
       " [313] \"Oas1a\"         \"Mapk11\"        \"Grip1\"         \"Zfp42\"        \n",
       " [317] \"Shroom4\"       \"Tcaf1\"         \"Pcsk6\"         \"Klf8\"         \n",
       " [321] \"Rnf217\"        \"Hand1\"         \"Gdf3\"          \"Jak3\"         \n",
       " [325] \"Liph\"          \"Lrp3\"          \"Nbl1\"          \"Gbp2\"         \n",
       " [329] \"Tet3\"          \"Tnfaip2\"       \"Setd7\"         \"Cotl1\"        \n",
       " [333] \"Sema3e\"        \"Cdk14\"         \"Zfp362\"        \"Adgra2\"       \n",
       " [337] \"Kif21a\"        \"Syt7\"          \"Dhrs3\"         \"Myrf\"         \n",
       " [341] \"Shisa4\"        \"Igfbp4\"        \"Casp8\"         \"Dennd2c\"      \n",
       " [345] \"Helz2\"         \"Eng\"           \"Loxl1\"         \"Myh7b\"        \n",
       " [349] \"Ank2\"          \"Vgf\"           \"Dchs1\"         \"Npnt\"         \n",
       " [353] \"Timp3\"         \"Rdm1\"          \"Lrrc8c\"        \"Fras1\"        \n",
       " [357] \"Nckap1l\"       \"Pear1\"         \"Tfcp2l1\"       \"Plxnd1\"       \n",
       " [361] \"Prob1\"         \"Fign\"          \"Synpo\"         \"Jph4\"         \n",
       " [365] \"Zeb2\"          \"Sv2a\"          \"Sox9\"          \"Adamts15\"     \n",
       " [369] \"Ckmt1\"         \"Capn2\"         \"Slc30a2\"       \"Ubash3b\"      \n",
       " [373] \"Nfasc\"         \"Lrrk1\"         \"Irs1\"          \"Prnd\"         \n",
       " [377] \"Ddc\"           \"Esrp1\"         \"Mn1\"           \"Gm14391\"      \n",
       " [381] \"Nptxr\"         \"Ecscr\"         \"Fzd3\"          \"Rfx4\"         \n",
       " [385] \"Cspg4\"         \"Plau\"          \"Mfap3l\"        \"Wdr86\"        \n",
       " [389] \"Mitf\"          \"6330403K07Rik\" \"Nkd1\"          \"Zfp521\"       \n",
       " [393] \"Acss1\"         \"Spsb4\"         \"Antxr2\"        \"D430019H16Rik\"\n",
       " [397] \"Fads3\"         \"Dclk1\"         \"Hmgn3\"         \"Cnih2\"        \n",
       " [401] \"Cobl\"          \"Synpo2l\"       \"Hsd11b2\"       \"Tmem246\"      \n",
       " [405] \"Lrrk2\"         \"Eml1\"          \"Trim67\"        \"Tmem119\"      \n",
       " [409] \"Tmod2\"         \"Car14\"         \"Fam219a\"       \"Pitx2\"        \n",
       " [413] \"Klhl30\"        \"Slc39a8\"       \"Pitpnm1\"       \"Pxdc1\"        \n",
       " [417] \"Fgf5\"          \"Klhl23\"        \"Myl9\"          \"Meis1\"        \n",
       " [421] \"Tubb4a\"        \"Iglon5\"        \"Sh3kbp1\"       \"Prkar2b\"      \n",
       " [425] \"Gnao1\"         \"Septin1\"       \"Grin1\"         \"Zfp618\"       \n",
       " [429] \"Col5a1\"        \"Speg\"          \"Ubxn2a\"        \"Pogk\"         \n",
       " [433] \"Ehbp1l1\"       \"Nkx6-1\"        \"Add2\"          \"Syt13\"        \n",
       " [437] \"Tox2\"          \"Sgce\"          \"Foxa2\"         \"Zhx2\"         \n",
       " [441] \"Nrcam\"         \"Flt1\"          \"Nupr1\"         \"H2ac12\"       \n",
       " [445] \"Nhsl2\"         \"Sdc3\"          \"Egr1\"          \"Dab2\"         \n",
       " [449] \"Tspan15\"       \"Gm9747\"        \"Lfng\"          \"Creb3l1\"      \n",
       " [453] \"Gjb5\"          \"Col12a1\"       \"Tmem176a\"      \"Csdc2\"        \n",
       " [457] \"Arhgap31\"      \"Col16a1\"       \"Heph\"          \"Ildr1\"        \n",
       " [461] \"Stk39\"         \"Cyp11a1\"       \"Fgf13\"         \"Mapt\"         \n",
       " [465] \"Gm4864\"        \"Arhgap33\"      \"Dusp4\"         \"Fam57b\"       \n",
       " [469] \"Wnt5a\"         \"Gab2\"          \"Slc4a5\"        \"Cxcl12\"       \n",
       " [473] \"Gm4631\"        \"Klf15\"         \"Timp2\"         \"Ssc5d\"        \n",
       " [477] \"Hsd17b14\"      \"Gls2\"          \"Trim62\"        \"Prr36\"        \n",
       " [481] \"Fhl2\"          \"Zfp423\"        \"Ctdspl\"        \"Rtl8c\"        \n",
       " [485] \"Sertad4\"       \"Ltbr\"          \"Dgat2\"         \"Rgs16\"        \n",
       " [489] \"Aebp1\"         \"Crlf1\"         \"Cdh13\"         \"Spon1\"        \n",
       " [493] \"Arhgef28\"      \"Gprin1\"        \"Zfp697\"        \"Vasn\"         \n",
       " [497] \"Jph1\"          \"9930012K11Rik\" \"Morc4\"         \"C1qtnf6\"      \n",
       " [501] \"Nr5a2\"         \"Gstp2\"         \"Tbx3\"          \"Vtn\"          \n",
       " [505] \"Prss35\"        \"Lratd1\"        \"Fbxl7\"         \"Foxa1\"        \n",
       " [509] \"Chst2\"         \"Opn3\"          \"Adamts1\"       \"Slc52a3\"      \n",
       " [513] \"Ildr2\"         \"Nt5e\"          \"Parp8\"         \"Adap1\"        \n",
       " [517] \"Shank2\"        \"Fbxo16\"        \"Apc2\"          \"Dhrs9\"        \n",
       " [521] \"Xaf1\"          \"Cdh4\"          \"Tcim\"          \"Rem2\"         \n",
       " [525] \"M1ap\"          \"Tmcc3\"         \"Zfp809\"        \"Itpripl2\"     \n",
       " [529] \"Rap1gds1\"      \"Pgf\"           \"Rhobtb1\"       \"Rims4\"        \n",
       " [533] \"Notum\"         \"C130074G19Rik\" \"Thbd\"          \"Cbs\"          \n",
       " [537] \"Cacng4\"        \"Dzip1l\"        \"Gatm\"          \"Col4a5\"       \n",
       " [541] \"Prox1\"         \"Kctd12\"        \"Atxn1\"         \"Ptgs1\"        \n",
       " [545] \"Zcchc18\"       \"Rec8\"          \"Scarf2\"        \"Bcl11a\"       \n",
       " [549] \"Aqp3\"          \"Rgl1\"          \"Pth1r\"         \"Mmrn2\"        \n",
       " [553] \"Fam102b\"       \"Dnajc6\"        \"Sema5a\"        \"Stag3\"        \n",
       " [557] \"Fstl1\"         \"Tmem176b\"      \"Fam149a\"       \"Ust\"          \n",
       " [561] \"Snph\"          \"Tgfb3\"         \"Podnl1\"        \"Ltb\"          \n",
       " [565] \"Col6a3\"        \"Prkd1\"         \"Isoc2a\"        \"Zfp607b\"      \n",
       " [569] \"Olfr718-ps1\"   \"Kcnn4\"         \"Fzd1\"          \"Pde8a\"        \n",
       " [573] \"Msrb3\"         \"Thbs2\"         \"Amigo2\"        \"Gm12481\"      \n",
       " [577] \"Fam81a\"        \"B4galnt3\"      \"Cap2\"          \"Zmiz1\"        \n",
       " [581] \"Kcnj3\"         \"Ankrd34a\"      \"Lrrc4b\"        \"Cx3cl1\"       \n",
       " [585] \"Igdcc4\"        \"Arl14epl\"      \"Nedd9\"         \"Zbtb42\"       \n",
       " [589] \"Pfkp\"          \"Wls\"           \"St8sia3\"       \"Sp6\"          \n",
       " [593] \"Zfp467\"        \"Cplx2\"         \"Itpka\"         \"CR936839.3\"   \n",
       " [597] \"Slco3a1\"       \"Aim2\"          \"Slitrk5\"       \"Abca1\"        \n",
       " [601] \"Cyp2s1\"        \"Fhdc1\"         \"Slc28a1\"       \"St3gal1\"      \n",
       " [605] \"Rflnb\"         \"Thsd7a\"        \"Mthfd2l\"       \"H2ac7\"        \n",
       " [609] \"Nes\"           \"Irx3\"          \"Pla2g7\"        \"Tuba3a\"       \n",
       " [613] \"Fam131b\"       \"Fgf8\"          \"Wipf3\"         \"Morc1\"        \n",
       " [617] \"Bmp2\"          \"Phf11d\"        \"Nudt11\"        \"Zfp575\"       \n",
       " [621] \"Elovl4\"        \"Foxi3\"         \"Cpm\"           \"Madcam1\"      \n",
       " [625] \"Atp10a\"        \"Cd82\"          \"Abcg1\"         \"Dagla\"        \n",
       " [629] \"Gm11249\"       \"Stard13\"       \"Podxl2\"        \"Calcr\"        \n",
       " [633] \"Lmx1b\"         \"Angptl7\"       \"Ghr\"           \"Nog\"          \n",
       " [637] \"Dlk1\"          \"Gbp4\"          \"Gpa33\"         \"Fgfr3\"        \n",
       " [641] \"Ntrk2\"         \"Apod\"          \"Unc45b\"        \"Cdh11\"        \n",
       " [645] \"Bhmt2\"         \"Sema6d\"        \"Syngap1\"       \"Irx5\"         \n",
       " [649] \"Astn1\"         \"Ube2ql1\"       \"Mreg\"          \"Fxyd5\"        \n",
       " [653] \"Stbd1\"         \"Psmb8\"         \"Nexmif\"        \"Lynx1\"        \n",
       " [657] \"Wnt4\"          \"Piezo2\"        \"Slfn9\"         \"Rin3\"         \n",
       " [661] \"Ptprm\"         \"Rasgef1b\"      \"Fgfr2\"         \"Cadps\"        \n",
       " [665] \"Sox3\"          \"Fcgrt\"         \"Sytl2\"         \"Cobll1\"       \n",
       " [669] \"Tcl1\"          \"Crispld1\"      \"Ccdc80\"        \"Ngf\"          \n",
       " [673] \"Bcl2\"          \"Slc1a1\"        \"Ptn\"           \"Cmtm8\"        \n",
       " [677] \"Adcy7\"         \"Zfhx4\"         \"Sema3c\"        \"Cacnb2\"       \n",
       " [681] \"Ccdc141\"       \"Magel2\"        \"Lrrc3\"         \"Ppp1r14c\"     \n",
       " [685] \"Ifitm1\"        \"Nexn\"          \"Tex19.1\"       \"Septin5\"      \n",
       " [689] \"Megf6\"         \"Zfpm2\"         \"Klhdc8a\"       \"Mfhas1\"       \n",
       " [693] \"Loxl4\"         \"Lgr6\"          \"Slc17a9\"       \"Slc4a4\"       \n",
       " [697] \"Calb2\"         \"Nr2f2\"         \"Calcoco2\"      \"Gm13394\"      \n",
       " [701] \"Bhmt\"          \"Iffo2\"         \"Ankrd35\"       \"Hsf2bp\"       \n",
       " [705] \"Cbr3\"          \"Dmgdh\"         \"Triml2\"        \"Cyyr1\"        \n",
       " [709] \"Enho\"          \"Igsf10\"        \"Dppa5a\"        \"Ror1\"         \n",
       " [713] \"Flt4\"          \"Mapk10\"        \"Tdgf1-ps1\"     \"Myo7a\"        \n",
       " [717] \"Prdm14\"        \"Rgs17\"         \"Arsi\"          \"Ano1\"         \n",
       " [721] \"Wipf1\"         \"mt-Nd3\"        \"Cadm3\"         \"Steap1\"       \n",
       " [725] \"Unc5a\"         \"Tnfrsf23\"      \"Pla2g1b\"       \"Zfp125\"       \n",
       " [729] \"Dach1\"         \"Ano9\"          \"Dll1\"          \"Mxra7\"        \n",
       " [733] \"Insm1\"         \"Fam163b\"       \"Lmx1a\"         \"Hmgcll1\"      \n",
       " [737] \"Clgn\"          \"Igsf11\"        \"Rasl11a\"       \"Hspa12b\"      \n",
       " [741] \"Zfp459\"        \"Dpysl4\"        \"Mmp16\"         \"Dppa4\"        \n",
       " [745] \"Rpl37rt\"       \"Gria3\"         \"Rpl27-ps3\"     \"Ptgs2\"        \n",
       " [749] \"Tent5a\"        \"Nkx2-9\"        \"Zhx3\"          \"Slc45a1\"      \n",
       " [753] \"CT009635.3\"    \"Mfsd2a\"        \"Cdh5\"          \"Dusp22\"       \n",
       " [757] \"Has2\"          \"Tmem200a\"      \"Hebp1\"         \"Cxcl1\"        \n",
       " [761] \"Zfp503\"        \"Tdrkh\"         \"Selenop\"       \"Car3\"         \n",
       " [765] \"Gpat2\"         \"Fam171a1\"      \"Crabp2\"        \"Adam12\"       \n",
       " [769] \"Myh7\"          \"Adrb3\"         \"Gm47654\"       \"St8sia6\"      \n",
       " [773] \"Rspo3\"         \"Crxos\"         \"Frzb\"          \"Rsph3a\"       \n",
       " [777] \"Camk1g\"        \"Fkbp6\"         \"Tafa5\"         \"Lrrc34\"       \n",
       " [781] \"Gm48415\"       \"Gm42669\"       \"Pcdh8\"         \"Pycard\"       \n",
       " [785] \"Tril\"          \"Mlkl\"          \"Ednra\"         \"Fabp3\"        \n",
       " [789] \"Clvs2\"         \"Sdsl\"          \"Rps2-ps13\"     \"Slc6a17\"      \n",
       " [793] \"Mylpf\"         \"Egfr\"          \"Ldb2\"          \"Nfatc1\"       \n",
       " [797] \"Gsap\"          \"Zfp819\"        \"Chst7\"         \"Stc1\"         \n",
       " [801] \"Gfra1\"         \"Aldoc\"         \"Cdh10\"         \"Rinl\"         \n",
       " [805] \"Tram1l1\"       \"Steap2\"        \"Rnf165\"        \"Sh3bp5\"       \n",
       " [809] \"Furin\"         \"Obsl1\"         \"Npr2\"          \"Col23a1\"      \n",
       " [813] \"Rab39b\"        \"Pla1a\"         \"Nr0b1\"         \"Pou2f3\"       \n",
       " [817] \"Pramef12\"      \"Siglecg\"       \"Soga3\"         \"Nlgn3\"        \n",
       " [821] \"Plcl1\"         \"Fbxo32\"        \"Arhgef9\"       \"Man1a\"        \n",
       " [825] \"Irak3\"         \"St8sia2\"       \"Ccn1\"          \"Pla2g4e\"      \n",
       " [829] \"Acsbg1\"        \"Rflna\"         \"Mgarp\"         \"Sohlh2\"       \n",
       " [833] \"En2\"           \"Grhl3\"         \"Triml1\"        \"Gpr173\"       \n",
       " [837] \"Sez6l2\"        \"Dnah8\"         \"Btbd17\"        \"Sh3gl2\"       \n",
       " [841] \"Nrg1\"          \"Arhgap30\"      \"Oprl1\"         \"Chst15\"       \n",
       " [845] \"Tdrd12\"        \"Acsbg3\"        \"2810459M11Rik\" \"Disp2\"        \n",
       " [849] \"Mboat1\"        \"Slc36a4\"       \"Ppm1e\"         \"Dnmt3a\"       \n",
       " [853] \"Uba1y\"         \"Accsl\"         \"Tspan12\"       \"Sobp\"         \n",
       " [857] \"Hdac9\"         \"Gxylt2\"        \"Gbp9\"          \"Fam25c\"       \n",
       " [861] \"Oas1g\"         \"Entpd1\"        \"Igf1r\"         \"Six2\"         \n",
       " [865] \"Rpl36a-ps2\"    \"BC034090\"      \"Prdm1\"         \"Vav3\"         \n",
       " [869] \"Itga8\"         \"S1pr1\"         \"Pomc\"          \"Daam2\"        \n",
       " [873] \"Pkd2l1\"        \"Slc35d3\"       \"Dok2\"          \"Wnt10b\"       \n",
       " [877] \"Atcay\"         \"Olig1\"         \"Rnf17\"         \"Lrrc31\"       \n",
       " [881] \"Fgf14\"         \"Shisal1\"       \"Fam178b\"       \"Nudt10\"       \n",
       " [885] \"Snai2\"         \"AW551984\"      \"Cyth4\"         \"Rtl5\"         \n",
       " [889] \"H2-M5\"         \"Tcaf2\"         \"Alcam\"         \"Cldn34c1\"     \n",
       " [893] \"Anxa3\"         \"Sh3tc1\"        \"Lpar4\"         \"Setbp1\"       \n",
       " [897] \"Ccdc187\"       \"Krt42\"         \"Il4ra\"         \"Faxc\"         \n",
       " [901] \"Bcl2l14\"       \"Fut4\"          \"Gpm6a\"         \"Card10\"       \n",
       " [905] \"Pcsk2\"         \"Adam8\"         \"Ooep\"          \"Arhgdib\"      \n",
       " [909] \"Dab1\"          \"Gramd3\"        \"Rps6-ps4\"      \"Dmrt1\"        \n",
       " [913] \"Serpinb1a\"     \"Rpl39l\"        \"Prrg1\"         \"Wnk4\"         \n",
       " [917] \"Prr23a3\"       \"Asphd2\"        \"Cyp4f39\"       \"Gsc\"          \n",
       " [921] \"Gfra2\"         \"Sh2d4b\"        \"Pard3b\"        \"Spag16\"       \n",
       " [925] \"D1Pas1\"        \"Foxc1\"         \"Ism1\"          \"Cgrrf1\"       \n",
       " [929] \"Cdh22\"         \"Pkia\"          \"Lrrc2\"         \"Vash1\"        \n",
       " [933] \"Cass4\"         \"Uty\"           \"Gm10146\"       \"Cd40\"         \n",
       " [937] \"Kat6b\"         \"Pou3f4\"        \"Gria4\"         \"Sdk1\"         \n",
       " [941] \"Stxbp6\"        \"Plbd1\"         \"Gjb2\"          \"Prelid2\"      \n",
       " [945] \"Hoxc13\"        \"Cnrip1\"        \"Zfp264\"        \"Bves\"         \n",
       " [949] \"Rec114\"        \"Zscan5b\"       \"Per2\"          \"Nat8l\"        \n",
       " [953] \"Tceal5\"        \"Shd\"           \"Dnah1\"         \"Eya2\"         \n",
       " [957] \"Cox7a1\"        \"Zfp469\"        \"Ar\"            \"Fam171b\"      \n",
       " [961] \"Gtsf1l\"        \"Klhl29\"        \"Fmr1nb\"        \"Zfp9\"         \n",
       " [965] \"Mapk4\"         \"Wnk2\"          \"Wnt2b\"         \"Map7\"         \n",
       " [969] \"Dtna\"          \"Gna15\"         \"Apoc1\"         \"Capn5\"        \n",
       " [973] \"Ccdc85a\"       \"Rasgrp1\"       \"Gm10705\"       \"Pwwp2b\"       \n",
       " [977] \"Syt17\"         \"Rbmxl2\"        \"1700030C10Rik\" \"Sox5\"         \n",
       " [981] \"Lypd6\"         \"Cdo1\"          \"En1\"           \"Ccdc184\"      \n",
       " [985] \"Ncf2\"          \"Robo2\"         \"Mageb16\"       \"Pkd1l1\"       \n",
       " [989] \"Ap1m2\"         \"Rprm\"          \"Gm12463\"       \"Foxo6\"        \n",
       " [993] \"Farp1\"         \"Dipk1c\"        \"Glipr1\"        \"Wnt3\"         \n",
       " [997] \"Gm12751\"       \"Sgms2\"         \"Itga5\"         \"Cyp26b1\"      \n",
       "[1001] \"Pde4b\"         \"Myo1a\"         \"Vsir\"          \"Epp13\"        \n",
       "[1005] \"Fam107a\"       \"Bmp6\"          \"Slc9b1\"        \"Psma8\"        \n",
       "[1009] \"Rapgef5\"       \"Mobp\"          \"Rapsn\"         \"Eif2s3y\"      \n",
       "[1013] \"Foxq1\"         \"Ptprt\"         \"Rab36\"         \"Rimkla\"       \n",
       "[1017] \"Patl2\"         \"Metrnl\"        \"Hjv\"           \"Odaph\"        \n",
       "[1021] \"Asb4\"          \"Smc1b\"         \"Mtm1\"          \"Mamdc2\"       \n",
       "[1025] \"Rhox5\"         \"Olfml3\"        \"Rasgef1a\"      \"H2-M6-ps\"     \n",
       "[1029] \"Ly6h\"          \"Fv1\"           \"Stk31\"         \"Samd12\"       \n",
       "[1033] \"Hecw2\"         \"Mrgpre\"        \"Ttn\"           \"Tuba8\"        \n",
       "[1037] \"Myom2\"         \"Mid2\"          \"Rbp1\"          \"Zcchc12\"      \n",
       "[1041] \"Gm14401\"       \"Igsf23\"        \"Pcdhga6\"       \"Magi2\"        \n",
       "[1045] \"Mlf1\"          \"Cacna1b\"       \"Sap25\"         \"Gjb4\"         \n",
       "[1049] \"Gm6802\"        \"Tnfsf11\"       \"Ctso\"          \"Pla2r1\"       \n",
       "[1053] \"Bmp8b\"         \"Rpl10l\"        \"Cdyl2\"         \"Olfr1459\"     \n",
       "[1057] \"Apobec2\"       \"Adcyap1r1\"     \"Slc8a1\"        \"Selenbp1\"     \n",
       "[1061] \"Pcdhb22\"       \"Kirrel3\"       \"L1cam\"         \"Rps6kl1\"      \n",
       "[1065] \"Gm8186\"        \"Smad9\"         \"Prelid3a\"      \"Zfp978\"       \n",
       "[1069] \"Adcy4\"         \"Dock8\"         \"Tulp2\"         \"Sox15\"        \n",
       "[1073] \"Zfp986\"        \"Gm4322\"        \"Scg3\"          \"Tjp3\"         \n",
       "[1077] \"Mov10l1\"       \"Nuggc\"         \"Gm4779\"        \"Htra3\"        \n",
       "[1081] \"Pgc\"           \"Gstp3\"         \"Srarp\"         \"Aurkc\"        \n",
       "[1085] \"Tmem150c\"      \"Ism2\"          \"Psors1c2\"      \"P4ha3\"        \n",
       "[1089] \"Nod2\"          \"2410141K09Rik\" \"Gstt1\"         \"Hoxb2\"        \n",
       "[1093] \"Cubn\"          \"Tex14\"         \"Itga11\"        \"Cacna1h\"      \n",
       "[1097] \"Meioc\"         \"Lnx1\"          \"Shc3\"          \"2210418O10Rik\"\n",
       "[1101] \"F5\"            \"Capsl\"         \"Slc6a7\"        \"Abcc3\"        \n",
       "[1105] \"Kif26b\"        \"Nkx6-2\"        \"Gm14325\"       \"Dusp8\"        \n",
       "[1109] \"Procr\"         \"Cacng8\"        \"Gpx2\"          \"Herc6\"        \n",
       "[1113] \"Pak3\"          \"Foxf2\"         \"Gm13228\"       \"Zfp42-ps1\"    \n",
       "[1117] \"Negr1\"         \"Rtn4r\"         \"Ccdc149\"       \"Gdf15\"        \n",
       "[1121] \"Fam163a\"       \"Itih5\"         \"Ak5\"           \"6430548M08Rik\"\n",
       "[1125] \"Plekhd1\"       \"Prr15l\"        \"Dglucy\"        \"Osm\"          \n",
       "[1129] \"Zbtb46\"        \"Khdc3\"         \"Fam241b\"       \"2410137M14Rik\"\n",
       "[1133] \"Gpr160\"        \"Dlx3\"          \"Olig3\"         \"Robo4\"        \n",
       "[1137] \"Slc8a3\"        \"Ccr7\"          \"Ncan\"          \"Rgs2\"         \n",
       "[1141] \"Ubxn11\"        \"Was\"           \"5730507C01Rik\" \"Cp\"           \n",
       "[1145] \"Nsg1\"          \"Nptx1\"         \"Fndc5\"         \"Spic\"         \n",
       "[1149] \"Sprr2a3\"       \"Nell2\"         \"Crim1\"         \"Gm12918\"      \n",
       "[1153] \"Trim65\"        \"Cnga4\"         \"Nr2f1\"         \"Cttnbp2\"      \n",
       "[1157] \"Pcdha12\"       \"Qpct\"          \"Ctnna2\"        \"Tekt1\"        \n",
       "[1161] \"Fgf3\"          \"Gm40881\"       \"Hoxb13\"        \"Pnma5\"        \n",
       "[1165] \"Acap1\"         \"Gstm2\"         \"AC132444.6\"    \"Rgl3\"         \n",
       "[1169] \"Rnf125\"        \"Igsf1\"         \"Gdpd2\"         \"4930548H24Rik\"\n",
       "[1173] \"Gstm3\"         \"Misp3\"         \"Gm7903\"        \"LT629151.2\"   \n",
       "[1177] \"Gm1673\"        \"Timm8a2\"       \"Inhba\"         \"Ppp1r14d\"     \n",
       "[1181] \"Anks1b\"        \"Tma7-ps\"       \"Snx20\"         \"Serpinb6c\"    \n",
       "[1185] \"Ttll6\"         \"Gm7972\"        \"Syce1\"         \"Nxf3\"         \n",
       "[1189] \"Calhm2\"        \"Ptpre\"         \"Fthl17c\"       \"Gm6741\"       \n",
       "[1193] \"Reg2\"          \"Gm10593\"       \"Tmem54\"        \"Rbpj-ps3\"     \n",
       "[1197] \"Itga9\"         \"Chgb\"          \"Pdlim3\"        \"Lrriq4\"       \n",
       "[1201] \"Slco4c1\"       \"Pramef17\"      \"Tek\"           \"Gm13128\"      \n",
       "[1205] \"Dppa2\"         \"Gpr63\"         \"Ebf4\"          \"Gm14411\"      \n",
       "[1209] \"Tspan1\"        \"Stx11\"         \"Gm11841\"       \"Mypn\"         \n",
       "[1213] \"Slc16a9\"       \"Irs4\"          \"Msx2\"          \"Rasef\"        \n",
       "[1217] \"Lpar5\"         \"Gm12245\"       \"Dnajc5g\"       \"Olfr506\"      \n",
       "[1221] \"Gm10324\"       \"Gm14124\"       \"Bin2\"          \"Alpk3\"        \n",
       "[1225] \"Galnt17\"       \"Ceacam1\"       \"Dcdc2a\"        \"Hormad2\"      \n",
       "[1229] \"Gm11839\"       \"Ggn\"           \"Ikzf1\"         \"Lrrc4\"        \n",
       "[1233] \"Prrx2\"         \"Fam161a\"       \"Osbp2\"         \"Lmo3\"         \n",
       "[1237] \"Lypd1\"         \"Obox6\"         \"Ankrd44\"       \"Pla2g5\"       \n",
       "[1241] \"Fxyd2\"         \"Slc23a4\"       \"Foxj1\"         \"Gm20521\"      \n",
       "[1245] \"Cntn2\"         \"Rbm44\"         \"Slc18a3\"       \"Abcc2\"        \n",
       "[1249] \"Wnt9a\"         \"Cpt1b\"         \"Dram1\"         \"Rspo1\"        \n",
       "[1253] \"Fam20a\"        \"B3galt1\"       \"Ephb2\"         \"Gm14412\"      \n",
       "[1257] \"Hoxc12\"        \"Slfn8\"         \"Naa11\"         \"Lum\"          \n",
       "[1261] \"C1rl\"          \"Gm47628\"       \"Tuba3b\"        \"Gm14117\"      \n",
       "[1265] \"Gm5643\"        \"Hoxb3\"         \"Zfp229\"        \"Efemp1\"       \n",
       "[1269] \"Pnldc1\"        \"Gm48132\"       \"Fam89a\"        \"Smim40\"       \n",
       "[1273] \"Ffar2\"         \"Pou2f2\"        \"Gm1070\"        \"Slc7a2\"       \n",
       "[1277] \"Rasal1\"        \"Plxnc1\"        \"Nlrp4f\"        \"Mep1b\"        \n",
       "[1281] \"Irf2\"          \"Gm46427\"       \"8030474K03Rik\" \"Gm6477\"       \n",
       "[1285] \"Ddx3y\"         \"Cacna1i\"       \"Rhox2a\"        \"Sash3\"        \n",
       "[1289] \"Oasl1\"         \"Npr3\"          \"Dazl\"          \"Pip5k1b\"      \n",
       "[1293] \"Gm47406\"       \"Calr4\"         \"B630019K06Rik\" \"Sox7\"         \n",
       "[1297] \"Car8\"          \"Gm2260\"        \"H2-DMb1\"       \"Nrsn1\"        \n",
       "[1301] \"Noxred1\"       \"Coch\"          \"Gm48416\"       \"Fam217b\"      \n",
       "[1305] \"Scube1\"        \"Smtnl1\"        \"Rcan2\"         \"Gm6871\"       \n",
       "[1309] \"Bmper\"         \"Stk32a\"        \"Gm13736\"       \"1700029P11Rik\"\n",
       "[1313] \"Sp100\"         \"Aox3\"          \"Rhox1\"         \"Vwf\"          \n",
       "[1317] \"Gm2004\"        \"Gm9347\"        \"Dusp23\"        \"Vwa5b1\"       \n",
       "[1321] \"Slc44a4\"       \"Cpne7\"         \"Tph1\"          \"Gm15452\"      \n",
       "[1325] \"Gm128\"         \"Mgst1\"         \"H2ac10\"        \"Matn1\"        \n",
       "[1329] \"Psd3\"          \"Zfp97\"         \"Sema3d\"        \"Zfp993\"       \n",
       "[1333] \"Smpd3\"         \"Pou3f2\"        \"Zfp640\"        \"Filip1l\"      \n",
       "[1337] \"Shank3\"        \"Xlr5b\"         \"Zp3\"           \"Gm48493\"      \n",
       "[1341] \"Cacng6\"        \"Cbfa2t3\"       \"Kcna2\"         \"Gm21897\"      \n",
       "[1345] \"Fosb\"          \"Misp\"          \"Ushbp1\"        \"Urah\"         \n",
       "[1349] \"Sv2c\"          \"Cfap57\"        \"Slc38a3\"       \"H2-T24\"       \n",
       "[1353] \"Hrk\"           \"Ddx4\"          \"Tmem145\"       \"Dlx2\"         \n",
       "[1357] \"Klk1\"          \"Hoxc4\"         \"Hmcn1\"         \"Dpys\"         \n",
       "[1361] \"Klb\"           \"Dscam\"         \"Gm14443\"       \"Esam\"         \n",
       "[1365] \"Kiss1\"         \"Mef2c\"         \"Adra2a\"        \"Celf3\"        \n",
       "[1369] \"Gm14698\"       \"Fam221b\"       \"Adhfe1\"        \"Pnpla3\"       \n",
       "[1373] \"Neto2\"         \"Tnni1\"         \"Fam187b\"       \"Gpr50\"        \n",
       "[1377] \"Adamts17\"      \"Ablim2\"        \"Adap2\"         \"D630023F18Rik\"\n",
       "[1381] \"Itgal\"         \"Vwa3b\"         \"Gpr37\"         \"Ttpa\"         \n",
       "[1385] \"Gm37164\"       \"Sox8\"          \"Amhr2\"         \"Chsy3\"        \n",
       "[1389] \"Tmem178\"       \"Gm7896\"        \"Pla2g4f\"       \"Stra8\"        \n",
       "[1393] \"Ces2b\"         \"Dusp2\"         \"Pde10a\"        \"Sh2d4a\"       \n",
       "[1397] \"Alox5\"         \"Gm48240\"       \"F2\"            \"Gm12666\"      \n",
       "[1401] \"Angpt2\"        \"Tet2\"          \"Acvrl1\"        \"Gm8864\"       \n",
       "[1405] \"Tlr5\"          \"Tnfrsf9\"       \"Gm7901\"        \"Fam83f\"       \n",
       "[1409] \"Vwa5b2\"        \"Prph\"          \"Nrip3\"         \"St8sia5\"      \n",
       "[1413] \"Tap2\"          \"Tlx2\"          \"Tox\"           \"Ltbp2\"        \n",
       "[1417] \"Usp26\"         \"Naalad2\"       \"Cnksr2\"        \"Gm6789\"       \n",
       "[1421] \"Sstr2\"         \"Ptpru\"         \"Rhov\"          \"Gm48360\"      \n",
       "[1425] \"Gm10221\"       \"Zfp960\"        \"Tspear\"        \"Mymx\"         \n",
       "[1429] \"Gm21411\"       \"Cyct\"          \"Efhc2\"         \"Tex11\"        \n",
       "[1433] \"1700020L24Rik\" \"Gm13337\"       \"Gm14137\"       \"Gm5148\"       \n",
       "[1437] \"Gm47331\"       \"Cpn1\"          \"Gm13241\"       \"Fthl17d\"      \n",
       "[1441] \"Mia\"           \"Mafb\"          \"Trpc1\"         \"Rps18-ps6\"    \n",
       "[1445] \"Rtn4rl2\"       \"Gm14322\"       \"Slc5a11\"       \"Xlr5a\"        \n",
       "[1449] \"Pdcl2\"         \"Rnf150\"        \"Ltk\"           \"Tdrd7\"        \n",
       "[1453] \"Gm3264\"        \"C2cd4b\"        \"Dcstamp\"       \"Gm18336\"      \n",
       "[1457] \"Calb1\"         \"Gm18537\"       \"Gm14403\"       \"Mecom\"        \n",
       "[1461] \"Panx2\"         \"Gm14409\"       \"Echdc3\"        \"Msx3\"         \n",
       "[1465] \"Jaml\"          \"Vwa2\"          \"Gm40989\"       \"B430305J03Rik\"\n",
       "[1469] \"Cd3e\"          \"Emilin3\"       \"Adamts20\"      \"Col11a2\"      \n",
       "[1473] \"Gm29609\"       \"Cd4\"           \"Gm11427\"       \"Asic2\"        \n",
       "[1477] \"Gm4366\"        \"Trim50\"        \"Gsta3\"         \"1700016D06Rik\"\n",
       "[1481] \"Ccdc177\"       \"A2m\"           \"Xlr3a\"         \"Apom\"         \n",
       "[1485] \"Rex2\"          \"Fam83b\"        \"Papss2\"        \"Npas1\"        \n",
       "[1489] \"Cfb\"           \"Sgo2b\"         \"Car7\"          \"Ldhc\"         \n",
       "[1493] \"Tgfa\"          \"Pcsk5\"         \"Ly6g6e\"        \"Gm10401\"      \n",
       "[1497] \"Gm14494\"       \"Mael\"          \"Rgs10\"         \"Gm13033\"      \n",
       "[1501] \"Btbd18\"        \"Csmd2\"         \"Nos1\"          \"Hmcn2\"        \n",
       "[1505] \"Gm6170\"        \"Brinp1\"        \"Casq1\"         \"Kcnc1\"        \n",
       "[1509] \"Calhm5\"        \"Slc16a5\"       \"Lipc\"          \"Gja4\"         \n",
       "[1513] \"Stab2\"         \"Zfp989\"        \"Slc51a\"        \"Gm7666\"       \n",
       "[1517] \"LO018689.4\"    \"Defb42\"        \"D630039A03Rik\" \"Xlr3b\"        \n",
       "[1521] \"Ifi27\"         \"Abcb1a\"        \"Ajap1\"         \"Cxcl11\"       \n",
       "[1525] \"Prdm6\"         \"Gpr155\"        \"Rps12-ps3\"     \"Nrxn1\"        \n",
       "[1529] \"Pde3a\"         \"Tifab\"         \"Fam184a\"       \"Sec14l4\"      \n",
       "[1533] \"Grin2c\"        \"Otud7a\"        \"Btnl7-ps\"      \"Sult6b1\"      \n",
       "[1537] \"Pfn4\"          \"Gm19119\"       \"Tmprss5\"       \"Gm46426\"      \n",
       "[1541] \"Stpg1\"         \"Gm13147\"       \"Samd7\"         \"Fank1\"        \n",
       "[1545] \"Ctsk\"          \"Sh3tc2\"        \"Pramel7\"       \"Foxl2\"        \n",
       "[1549] \"Gm9292\"        \"Marchf11\"      \"Atp8a2\"        \"Brinp2\"       \n",
       "[1553] \"Csrp3\"         \"Flg\"           \"Cabp4\"         \"Gbgt1\"        \n",
       "[1557] \"Terb2\"         \"Gm11620\"       \"Tbc1d30\"       \"Gm10340\"      \n",
       "[1561] \"Masp2\"         \"Cela2a\"        \"Slc34a3\"       \"Hoxa3\"        \n",
       "[1565] \"Pcdhac2\"       \"Pglyrp1\"       \"Mst1\"          \"Gm10108\"      \n",
       "[1569] \"Sytl3\"         \"Clec2l\"        \"Gm14418\"       \"Gm5134\"       \n",
       "[1573] \"Myom3\"         \"C130073F10Rik\" \"Cplx1\"         \"mt-Atp8\"      \n",
       "[1577] \"Slc28a3\"       \"Nol4\"          \"Olfr46\"        \"Gm14406\"      \n",
       "[1581] \"Gm48244\"       \"Gm2381\"        \"H2-Eb1\"        \"Gm3667\"       \n",
       "[1585] \"Tbx1\"          \"Gm3148\"        \"Ott\"           \"Catip\"        \n",
       "[1589] \"Gm2808\"        \"Gm13135\"       \"Slc22a15\"      \"Hsh2d\"        \n",
       "[1593] \"Akap6\"         \"4930550L24Rik\" \"Edaradd\"       \"Cyp4v3\"       \n",
       "[1597] \"Mrvi1\"         \"Fut9\"          \"Gm6851\"        \"Gm47102\"      \n",
       "[1601] \"Cct6b\"         \"Dpep3\"         \"Wbp2nl\"        \"Prr23a1\"      \n",
       "[1605] \"Exph5\"         \"Unc5cl\"        \"Cldn5\"         \"Gm12161\"      \n",
       "[1609] \"Ldhd\"          \"Cmbl\"          \"Ebf2\"          \"2300002M23Rik\"\n",
       "[1613] \"Hivep3\"        \"Ciita\"         \"Nlrp4a\"        \"Gcm2\"         \n",
       "[1617] \"Pi15\"          \"Gm13223\"       \"Aipl1\"         \"Frmpd1\"       \n",
       "[1621] \"AU022751\"      \"Pramel1\"       \"Tacstd2\"       \"Acsbg2\"       \n",
       "[1625] \"Me3\"           \"Pgr\"           \"Gm45105\"       \"Gm6505\"       \n",
       "[1629] \"Ubash3a\"       \"Olfr1385\"      \"Gm20431\"       \"Gm13034\"      \n",
       "[1633] \"Iqca\"          \"Gm14139\"       \"Tex15\"         \"Nos1ap\"       \n",
       "[1637] \"Gm650\"         \"Chrna5\"        \"Dusp26\"        \"Majin\"        \n",
       "[1641] \"Gm45351\"       \"Zfp980\"        \"Gm6284\"        \"Arhgap9\"      \n",
       "[1645] \"Galnt6\"        \"Spi1\"          \"Pax3\"          \"Tmem74b\"      \n",
       "[1649] \"Gpr179\"        \"Col20a1\"       \"Zyg11a\"        \"Ccdc122\"      \n",
       "[1653] \"Cdh15\"         \"Phactr3\"       \"2210409E12Rik\" \"AL691519.1\"   \n",
       "[1657] \"Gabrb1\"        \"Slc9a2\"        \"Cd180\"         \"Slc2a7\"       \n",
       "[1661] \"0610040J01Rik\" \"Nkx6-3\"        \"Xlr5c\"         \"Gm14387\"      \n",
       "[1665] \"Gm15455\"       \"Ccdc155\"       \"Rbp4\"          \"Cpsf4l\"       \n",
       "[1669] \"Acoxl\"         \"Gm17067\"       \"Ngfr\"          \"Csf3r\"        \n",
       "[1673] \"Adgrg5\"        \"Sycp2l\"        \"Fbp2\"          \"Gm7789\"       \n",
       "[1677] \"Gtsf1\"         \"Foxr1\"         \"Atp4a\"         \"Lims2\"        \n",
       "[1681] \"Ggt6\"          \"C3\"            \"Kcnh3\"         \"1700010I14Rik\"\n",
       "[1685] \"Fsd2\"          \"Rhox9\"         \"Clcnkb\"        \"1700066B19Rik\"\n",
       "[1689] \"Eif4ebp3\"      \"Nlrp14\"        \"Sec1\"          \"Nkx3-1\"       \n",
       "[1693] \"Hydin\"         \"Aldh3b2\"       \"Gm15091\"       \"Gm48691\"      \n",
       "[1697] \"Gm32996\"       \"Gm42927\"       \"Cd84\"          \"Prkcb\"        \n",
       "[1701] \"Apof\"          \"Vmn2r-ps104\"   \"Bcl11b\"        \"1700029I15Rik\"\n",
       "[1705] \"Fam124a\"       \"Zfp600\"        \"Tex13b\"        \"Gm13233\"      \n",
       "[1709] \"Pramel6\"       \"Car5a\"         \"Gm13092\"       \"Gata3\"        \n",
       "[1713] \"Slfn3\"         \"C330022B21Rik\" \"1810049J17Rik\" \"Atp6v1c2\"     \n",
       "[1717] \"Gm10323\"       \"Gm48216\"       \"Sytl4\"         \"Gm15023\"      \n",
       "[1721] \"Wdr20rt\"       \"DXBay18\"       \"Fthl17f\"       \"1700001P01Rik\"\n",
       "[1725] \"Sult1a1\"       \"Kcnn3\"         \"Hoxc5\"         \"D130040H23Rik\"\n",
       "[1729] \"Galnt3\"        \"Hnf1a\"         \"Pla2g2f\"       \"Olfr709-ps1\"  \n",
       "[1733] \"Gm13231\"       \"Psenen-ps\"     \"Mroh4\"         \"Gm3219\"       \n",
       "[1737] \"Oas2\"          \"Gm28729\"       \"Ccdc172\"       \"Npb\"          \n",
       "[1741] \"Kdm5d\"         \"Pkd1l2\"        \"Gm7765\"        \"Gm9892\"       \n",
       "[1745] \"Syt1\"          \"Hlx\"           \"Slc15a1\"       \"Gm19428\"      \n",
       "[1749] \"Plscr2\"        \"Scn3a\"         \"Htr5a\"         \"Gm48218\"      \n",
       "[1753] \"Trpv3\"         \"Gm12569\"       \"Zfp975\"        \"Cfh\"          \n",
       "[1757] \"Gm5842\"        \"Gm18632\"       \"Gm14444\"       \"Gm28040\"      \n",
       "[1761] \"Zfp973\"        \"Mal\"           \"Ceacam10\"      \"Gm2128\"       \n",
       "[1765] \"Gsta2\"         \"Slamf6\"        \"Zbtb16\"        \"Cdx1\"         \n",
       "[1769] \"Asz1\"          \"Ly6k\"          \"Spata21\"       \"Hesx1\"        \n",
       "[1773] \"Slc5a1\"        \"Serpinb1b\"     \"Rab44\"         \"Macrod1\"      \n",
       "[1777] \"Krt13\"         \"Card11\"        \"Gm364\"         \"Them5\"        \n",
       "[1781] \"Dpp4\"          \"Slc13a2\"       \"Gm15097\"       \"Gm1980\"       \n",
       "[1785] \"Gm49037\"       \"Cps1\"          \"Gm6916\"        \"Gm12895\"      \n",
       "[1789] \"Gck\"           \"Gm15442\"       \"Dcaf8l\"        \"Gm45965\"      \n",
       "[1793] \"Sapcd1\"        \"Gm13230\"       \"Gm29721\"       \"Zfp936\"       \n",
       "[1797] \"Aire\"          \"Xlr4a\"         \"Pacrg\"         \"Tceal7\"       \n",
       "[1801] \"Hal\"           \"Lrcol1\"        \"Rhox4e\"        \"Zfp977\"       \n",
       "[1805] \"LO018689.6\"    \"Gm7332\"        \"Gm21750\"       \"Mrgprf\"       \n",
       "[1809] \"Dio3\"          \"Zfp990\"        \"Nlrp12\"        \"Zfp987\"       \n",
       "[1813] \"Zfp985\"        \"Zfp488\"       "
      ]
     },
     "metadata": {},
     "output_type": "display_data"
    }
   ],
   "source": [
    "limma_deg"
   ]
  },
  {
   "cell_type": "code",
   "execution_count": 101,
   "metadata": {
    "vscode": {
     "languageId": "r"
    }
   },
   "outputs": [],
   "source": [
    "mylist <- list(DEseq2=DEseq2_deg, \n",
    "               edgeR=edgeR_deg, \n",
    "               limma=limma_deg)\n",
    "\n"
   ]
  },
  {
   "cell_type": "code",
   "execution_count": 103,
   "metadata": {
    "vscode": {
     "languageId": "r"
    }
   },
   "outputs": [
    {
     "name": "stdout",
     "output_type": "stream",
     "text": [
      "List of 3\n",
      " $ DEseq2: chr [1:1843] \"Flnc\" \"Col1a1\" \"Tdh\" \"Ccnd2\" ...\n",
      " $ edgeR : chr [1:2107] \"Thbs1\" \"Flnc\" \"Ccnd2\" \"Col1a2\" ...\n",
      " $ limma : chr [1:1814] \"Tpm1\" \"Pim2\" \"Peg10\" \"Cnn2\" ...\n"
     ]
    },
    {
     "data": {
      "image/png": "[encoded data removed]",
      "text/plain": [
       "plot without title"
      ]
     },
     "metadata": {
      "image/png": {
       "height": 420,
       "width": 420
      }
     },
     "output_type": "display_data"
    },
    {
     "data": {
      "image/png": "[encoded data removed]",
      "text/plain": [
       "plot without title"
      ]
     },
     "metadata": {
      "image/png": {
       "height": 420,
       "width": 420
      }
     },
     "output_type": "display_data"
    },
    {
     "data": {
      "image/png": "[encoded data removed]",
      "text/plain": [
       "plot without title"
      ]
     },
     "metadata": {
      "image/png": {
       "height": 420,
       "width": 420
      }
     },
     "output_type": "display_data"
    },
    {
     "data": {
      "image/png": "[encoded data removed]",
      "text/plain": [
       "plot without title"
      ]
     },
     "metadata": {
      "image/png": {
       "height": 420,
       "width": 420
      }
     },
     "output_type": "display_data"
    },
    {
     "data": {
      "image/png": "[encoded data removed]",
      "text/plain": [
       "plot without title"
      ]
     },
     "metadata": {
      "image/png": {
       "height": 420,
       "width": 420
      }
     },
     "output_type": "display_data"
    }
   ],
   "source": [
    "\n",
    "str(mylist)\n",
    "Vennplot <- Venn(mylist)\n",
    "Vennplot1 <- Vennplot[,c('DEseq2','edgeR')]\n",
    "Vennplot2 <- Vennplot[,c('DEseq2','limma')]\n",
    "Vennplot3 <- Vennplot[,c('limma','edgeR')]\n",
    "\n",
    "# pdf(file = paste0('3DEG_Vennplot_lg2FC',log2FC_cutoff,'.pdf'))\n",
    "plot(Vennplot, doWeights = F)\n",
    "plot(Vennplot, doWeights = T) #doWeights=T设置为按数量比例绘图\n",
    "plot(Vennplot1, doWeights = T)\n",
    "plot(Vennplot2, doWeights = T)\n",
    "plot(Vennplot3, doWeights = T)\n",
    "# dev.off()"
   ]
  },
  {
   "cell_type": "markdown",
   "metadata": {},
   "source": [
    "## 三、选取差异基因绘制火山图和热图\n",
    "以下示范选取`DESeq2`差异分析结果进行绘制, 筛选阈值设置为：`FoldChang=10，padj=0.001`\n",
    "### 1. 火山图的绘制\n",
    "\n",
    "```R\n",
    "library(ggplot2)\n",
    "library(pheatmap)\n",
    "##筛选条件设置\n",
    "log2FC_cutoff = log2(10)\n",
    "padj_cutoff = 0.001\n",
    "##选取差异分析结果\n",
    "need_DEG <- DEG_DEseq2[,c(2,6)] #选取log2FoldChange, padj信息\n",
    "colnames(need_DEG) <- c('log2FoldChange','padj') \n",
    "\n",
    "need_DEG$significance  <- as.factor(ifelse(need_DEG$padj < padj_cutoff & abs(need_DEG$log2FoldChange) > log2FC_cutoff,\n",
    "                                           ifelse(need_DEG$log2FoldChange > log2FC_cutoff ,'UP','DOWN'),'NOT'))\n",
    "\n",
    "title <- paste0(' Up :  ',nrow(need_DEG[need_DEG$significance =='UP',]) ,\n",
    "                     '\\n Down : ',nrow(need_DEG[need_DEG$significance =='DOWN',]),\n",
    "                     '\\n FoldChange >= ',round(2^log2FC_cutoff,3))\n",
    "\n",
    "g <- ggplot(data=need_DEG, \n",
    "            aes(x=log2FoldChange, y=-log10(padj), \n",
    "                color=significance)) +\n",
    "  #点和背景\n",
    "  geom_point(alpha=0.4, size=1) +\n",
    "  theme_classic()+ #无网格线\n",
    "  #坐标轴\n",
    "  xlab(\"log2 ( FoldChange )\") + \n",
    "  ylab(\"-log10 ( P.adjust )\") +\n",
    "  #标题文本\n",
    "  ggtitle( title ) +\n",
    "  #分区颜色                  \n",
    "  scale_colour_manual(values = c('blue','grey','red'))+ \n",
    "  #辅助线\n",
    "  geom_vline(xintercept = c(-log2FC_cutoff,log2FC_cutoff),lty=4,col=\"grey\",lwd=0.8) +\n",
    "  geom_hline(yintercept = -log10(padj_cutoff),lty=4,col=\"grey\",lwd=0.8) +\n",
    "  #图例标题间距等设置\n",
    "  theme(plot.title = element_text(hjust = 0.5), \n",
    "        plot.margin=unit(c(2,2,2,2),'lines'), #上右下左\n",
    "        legend.title = element_blank(), #不显示图例标题\n",
    "        legend.position=\"right\")  #图例位置\n",
    "\n",
    "ggsave(g,filename = 'volcano_padj.pdf',width =8,height =7.5)\n",
    "```\n"
   ]
  },
  {
   "cell_type": "code",
   "execution_count": 104,
   "metadata": {
    "vscode": {
     "languageId": "r"
    }
   },
   "outputs": [],
   "source": [
    "library(ggplot2)\n",
    "library(pheatmap)\n",
    "##筛选条件设置\n",
    "log2FC_cutoff = log2(10)\n",
    "padj_cutoff = 0.001\n",
    "##选取差异分析结果\n",
    "need_DEG <- DEG_DEseq2[,c(2,6)] #选取log2FoldChange, padj信息\n",
    "colnames(need_DEG) <- c('log2FoldChange','padj') \n",
    "\n",
    "need_DEG$significance  <- as.factor(ifelse(need_DEG$padj < padj_cutoff & abs(need_DEG$log2FoldChange) > log2FC_cutoff,\n",
    "                                           ifelse(need_DEG$log2FoldChange > log2FC_cutoff ,'UP','DOWN'),'NOT'))\n",
    "\n",
    "title <- paste0(' Up :  ',nrow(need_DEG[need_DEG$significance =='UP',]) ,\n",
    "                     '\\n Down : ',nrow(need_DEG[need_DEG$significance =='DOWN',]),\n",
    "                     '\\n FoldChange >= ',round(2^log2FC_cutoff,3))\n",
    "\n",
    "g <- ggplot(data=need_DEG, \n",
    "            aes(x=log2FoldChange, \n",
    "                y=-log10(padj), \n",
    "                color=significance)) +\n",
    "  #点和背景\n",
    "  geom_point(alpha=0.4, size=1) +\n",
    "  theme_classic()+ #无网格线\n",
    "  #坐标轴\n",
    "  xlab(\"log2 ( FoldChange )\") + \n",
    "  ylab(\"-log10 ( P.adjust )\") +\n",
    "  #标题文本\n",
    "  ggtitle( title ) +\n",
    "  #分区颜色                  \n",
    "  scale_colour_manual(values = c('blue','grey','red'))+ \n",
    "  #辅助线\n",
    "  geom_vline(xintercept = c(-log2FC_cutoff,log2FC_cutoff),lty=4,col=\"grey\",lwd=0.8) +\n",
    "  geom_hline(yintercept = -log10(padj_cutoff),lty=4,col=\"grey\",lwd=0.8) +\n",
    "  #图例标题间距等设置\n",
    "  theme(plot.title = element_text(hjust = 0.5), \n",
    "        plot.margin=unit(c(2,2,2,2),'lines'), #上右下左\n",
    "        legend.title = element_blank(), #不显示图例标题\n",
    "        legend.position=\"right\")  #图例位置\n",
    "\n",
    "ggsave(g,filename = 'volcano_padj.pdf',width =8,height =7.5)"
   ]
  },
  {
   "cell_type": "markdown",
   "metadata": {},
   "source": [
    "### 2. 热图的绘制\n",
    "\n",
    "```R\n",
    "##选择要展示基因表达量的数据\n",
    "# dat <- log2(edgeR::cpm(counts)+1) \n",
    "dat <- log2(tpm+1)\n",
    "# dat <- read.table(\"../2.check/Deseq2_rld.txt\"); colnames(dat) <- rownames(gl)  #R读取数据列名可能会出错，需要重新对应一下\n",
    "\n",
    "gene_up <- rownames(need_DEG[with(need_DEG,log2FoldChange>log2FC_cutoff & padj<padj_cutoff),])\n",
    "gene_down <- rownames(need_DEG[with(need_DEG,log2FoldChange< -log2FC_cutoff & padj<padj_cutoff),])\n",
    "cg <- c(head(gene_up, 50),   #取前50 padj上下调基因名\n",
    "        head(gene_down, 50))\n",
    "cg <- na.omit(match(cg,rownames(dat))) \n",
    "\n",
    "pheatmap::pheatmap(dat[cg,],\n",
    "                   show_colnames =T,\n",
    "                   show_rownames = F,\n",
    "                   #scale = \"row\",\n",
    "                   fontsize = 7 ,\n",
    "                   cluster_cols = T,\n",
    "                   annotation_col=gl,\n",
    "                   filename = 'heatmap_top50up&down_DEG.pdf')\n",
    "```"
   ]
  },
  {
   "cell_type": "code",
   "execution_count": 114,
   "metadata": {
    "vscode": {
     "languageId": "r"
    }
   },
   "outputs": [
    {
     "data": {
      "text/html": [
       "<style>\n",
       ".list-inline {list-style: none; margin:0; padding: 0}\n",
       ".list-inline>li {display: inline-block}\n",
       ".list-inline>li:not(:last-child)::after {content: \"\\00b7\"; padding: 0 .5ex}\n",
       "</style>\n",
       "<ol class=list-inline><li>4620</li><li>2752</li><li>2093</li><li>2753</li><li>10335</li><li>10135</li></ol>\n"
      ],
      "text/latex": [
       "\\begin{enumerate*}\n",
       "\\item 4620\n",
       "\\item 2752\n",
       "\\item 2093\n",
       "\\item 2753\n",
       "\\item 10335\n",
       "\\item 10135\n",
       "\\end{enumerate*}\n"
      ],
      "text/markdown": [
       "1. 4620\n",
       "2. 2752\n",
       "3. 2093\n",
       "4. 2753\n",
       "5. 10335\n",
       "6. 10135\n",
       "\n",
       "\n"
      ],
      "text/plain": [
       "[1]  4620  2752  2093  2753 10335 10135"
      ]
     },
     "metadata": {},
     "output_type": "display_data"
    }
   ],
   "source": [
    "##选择要展示基因表达量的数据\n",
    "# dat <- log2(edgeR::cpm(counts)+1) \n",
    "dat <- log2(tpm+1)\n",
    "# dat <- read.table(\"../2.check/Deseq2_rld.txt\"); colnames(dat) <- rownames(gl)  #R读取数据列名可能会出错，需要重新对应一下\n",
    "\n",
    "gene_up <- rownames(need_DEG[with(need_DEG,log2FoldChange>log2FC_cutoff & padj<padj_cutoff),])\n",
    "gene_down <- rownames(need_DEG[with(need_DEG,log2FoldChange< -log2FC_cutoff & padj<padj_cutoff),])\n",
    "cg <- c(head(gene_up, 50),   #取前50 padj上下调基因名\n",
    "        head(gene_down, 50))\n",
    "cg <- na.omit(match(cg,rownames(dat))) \n",
    "\n",
    "head(cg)"
   ]
  },
  {
   "cell_type": "code",
   "execution_count": 115,
   "metadata": {
    "vscode": {
     "languageId": "r"
    }
   },
   "outputs": [],
   "source": [
    "colnames(dat) <- c(\"RNA_mESCs_1\",\"RNA_mESCs_2\",\"RNA_EpiSCs_3\")"
   ]
  },
  {
   "cell_type": "code",
   "execution_count": 116,
   "metadata": {
    "vscode": {
     "languageId": "r"
    }
   },
   "outputs": [
    {
     "data": {
      "text/html": [
       "<table class=\"dataframe\">\n",
       "<caption>A data.frame: 6 × 3</caption>\n",
       "<thead>\n",
       "\t<tr><th></th><th scope=col>RNA_mESCs_1</th><th scope=col>RNA_mESCs_2</th><th scope=col>RNA_EpiSCs_3</th></tr>\n",
       "\t<tr><th></th><th scope=col>&lt;dbl&gt;</th><th scope=col>&lt;dbl&gt;</th><th scope=col>&lt;dbl&gt;</th></tr>\n",
       "</thead>\n",
       "<tbody>\n",
       "\t<tr><th scope=row>Flnc</th><td>0.2677767</td><td>0.2365551</td><td>6.470185</td></tr>\n",
       "\t<tr><th scope=row>Col1a1</th><td>0.4090455</td><td>0.2362477</td><td>7.160135</td></tr>\n",
       "\t<tr><th scope=row>Ccnd2</th><td>0.2056102</td><td>0.4463293</td><td>6.385243</td></tr>\n",
       "\t<tr><th scope=row>Col1a2</th><td>0.1499123</td><td>0.2323464</td><td>6.629996</td></tr>\n",
       "\t<tr><th scope=row>Pim2</th><td>3.7386585</td><td>3.5197876</td><td>9.602298</td></tr>\n",
       "\t<tr><th scope=row>Peg10</th><td>2.0129630</td><td>1.5553676</td><td>7.862660</td></tr>\n",
       "</tbody>\n",
       "</table>\n"
      ],
      "text/latex": [
       "A data.frame: 6 × 3\n",
       "\\begin{tabular}{r|lll}\n",
       "  & RNA\\_mESCs\\_1 & RNA\\_mESCs\\_2 & RNA\\_EpiSCs\\_3\\\\\n",
       "  & <dbl> & <dbl> & <dbl>\\\\\n",
       "\\hline\n",
       "\tFlnc & 0.2677767 & 0.2365551 & 6.470185\\\\\n",
       "\tCol1a1 & 0.4090455 & 0.2362477 & 7.160135\\\\\n",
       "\tCcnd2 & 0.2056102 & 0.4463293 & 6.385243\\\\\n",
       "\tCol1a2 & 0.1499123 & 0.2323464 & 6.629996\\\\\n",
       "\tPim2 & 3.7386585 & 3.5197876 & 9.602298\\\\\n",
       "\tPeg10 & 2.0129630 & 1.5553676 & 7.862660\\\\\n",
       "\\end{tabular}\n"
      ],
      "text/markdown": [
       "\n",
       "A data.frame: 6 × 3\n",
       "\n",
       "| <!--/--> | RNA_mESCs_1 &lt;dbl&gt; | RNA_mESCs_2 &lt;dbl&gt; | RNA_EpiSCs_3 &lt;dbl&gt; |\n",
       "|---|---|---|---|\n",
       "| Flnc | 0.2677767 | 0.2365551 | 6.470185 |\n",
       "| Col1a1 | 0.4090455 | 0.2362477 | 7.160135 |\n",
       "| Ccnd2 | 0.2056102 | 0.4463293 | 6.385243 |\n",
       "| Col1a2 | 0.1499123 | 0.2323464 | 6.629996 |\n",
       "| Pim2 | 3.7386585 | 3.5197876 | 9.602298 |\n",
       "| Peg10 | 2.0129630 | 1.5553676 | 7.862660 |\n",
       "\n"
      ],
      "text/plain": [
       "       RNA_mESCs_1 RNA_mESCs_2 RNA_EpiSCs_3\n",
       "Flnc   0.2677767   0.2365551   6.470185    \n",
       "Col1a1 0.4090455   0.2362477   7.160135    \n",
       "Ccnd2  0.2056102   0.4463293   6.385243    \n",
       "Col1a2 0.1499123   0.2323464   6.629996    \n",
       "Pim2   3.7386585   3.5197876   9.602298    \n",
       "Peg10  2.0129630   1.5553676   7.862660    "
      ]
     },
     "metadata": {},
     "output_type": "display_data"
    }
   ],
   "source": [
    "head(dat[cg,])"
   ]
  },
  {
   "cell_type": "code",
   "execution_count": 117,
   "metadata": {
    "vscode": {
     "languageId": "r"
    }
   },
   "outputs": [],
   "source": [
    "pheatmap::pheatmap(dat[cg,],\n",
    "                   show_colnames =T,\n",
    "                   show_rownames = F,\n",
    "                   #scale = \"row\",\n",
    "                   fontsize = 7 ,\n",
    "                   cluster_cols = T,\n",
    "                   annotation_col=gl,\n",
    "                   filename = 'heatmap_top50up&down_DEG.pdf')"
   ]
  },
  {
   "cell_type": "markdown",
   "metadata": {},
   "source": [
    "> 到此就完成了基因差异分析的基本过程，得到了不同分组间的差异基因相关信息，接下来就要对差异基因进行富集分析啦"
   ]
  },
  {
   "cell_type": "code",
   "execution_count": null,
   "metadata": {
    "vscode": {
     "languageId": "r"
    }
   },
   "outputs": [],
   "source": []
  }
 ],
 "metadata": {
  "language_info": {
   "name": "python"
  }
 },
 "nbformat": 4,
 "nbformat_minor": 2
}
