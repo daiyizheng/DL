{
 "cells": [
  {
   "cell_type": "markdown",
   "metadata": {},
   "source": [
    "# 使用PyWGCNA进行功能富集分析\n",
    "找到共表达模块后，您可以使用函数富集分析分别研究每个模块。PyWGCNA使用`functional_richment_analysis（）`函数直接从GO、KEGG和REACTOME数据库支持此功能。\n",
    "\n",
    "在本笔记本中，我们将向您展示如何做到这一点！\n",
    "首先读取PyWGCNA对象。\n",
    "通过检查`gene_name`是否是`datExpr.var`的列之一，确保上述数据库解析的基因名称存在。"
   ]
  },
  {
   "cell_type": "code",
   "execution_count": 1,
   "metadata": {},
   "outputs": [
    {
     "name": "stdout",
     "output_type": "stream",
     "text": [
      "\u001b[1m\u001b[94mReading 5xFAD WGCNA done!\u001b[0m\n"
     ]
    },
    {
     "data": {
      "text/html": [
       "<div>\n",
       "<style scoped>\n",
       "    .dataframe tbody tr th:only-of-type {\n",
       "        vertical-align: middle;\n",
       "    }\n",
       "\n",
       "    .dataframe tbody tr th {\n",
       "        vertical-align: top;\n",
       "    }\n",
       "\n",
       "    .dataframe thead th {\n",
       "        text-align: right;\n",
       "    }\n",
       "</style>\n",
       "<table border=\"1\" class=\"dataframe\">\n",
       "  <thead>\n",
       "    <tr style=\"text-align: right;\">\n",
       "      <th></th>\n",
       "      <th>dynamicColors</th>\n",
       "      <th>moduleColors</th>\n",
       "      <th>moduleLabels</th>\n",
       "      <th>gene_name</th>\n",
       "      <th>gene_biotype</th>\n",
       "    </tr>\n",
       "  </thead>\n",
       "  <tbody>\n",
       "    <tr>\n",
       "      <th>ENSMUSG00000000028</th>\n",
       "      <td>darkred</td>\n",
       "      <td>darkred</td>\n",
       "      <td>4.0</td>\n",
       "      <td>Cdc45</td>\n",
       "      <td>protein_coding</td>\n",
       "    </tr>\n",
       "    <tr>\n",
       "      <th>ENSMUSG00000000049</th>\n",
       "      <td>darkred</td>\n",
       "      <td>darkred</td>\n",
       "      <td>4.0</td>\n",
       "      <td>Apoh</td>\n",
       "      <td>protein_coding</td>\n",
       "    </tr>\n",
       "    <tr>\n",
       "      <th>ENSMUSG00000000056</th>\n",
       "      <td>darkgrey</td>\n",
       "      <td>darkgrey</td>\n",
       "      <td>3.0</td>\n",
       "      <td>Narf</td>\n",
       "      <td>protein_coding</td>\n",
       "    </tr>\n",
       "    <tr>\n",
       "      <th>ENSMUSG00000000058</th>\n",
       "      <td>coral</td>\n",
       "      <td>coral</td>\n",
       "      <td>2.0</td>\n",
       "      <td>Cav2</td>\n",
       "      <td>protein_coding</td>\n",
       "    </tr>\n",
       "    <tr>\n",
       "      <th>ENSMUSG00000000078</th>\n",
       "      <td>gainsboro</td>\n",
       "      <td>gainsboro</td>\n",
       "      <td>7.0</td>\n",
       "      <td>Klf6</td>\n",
       "      <td>protein_coding</td>\n",
       "    </tr>\n",
       "  </tbody>\n",
       "</table>\n",
       "</div>"
      ],
      "text/plain": [
       "                   dynamicColors moduleColors  moduleLabels gene_name  \\\n",
       "ENSMUSG00000000028       darkred      darkred           4.0     Cdc45   \n",
       "ENSMUSG00000000049       darkred      darkred           4.0      Apoh   \n",
       "ENSMUSG00000000056      darkgrey     darkgrey           3.0      Narf   \n",
       "ENSMUSG00000000058         coral        coral           2.0      Cav2   \n",
       "ENSMUSG00000000078     gainsboro    gainsboro           7.0      Klf6   \n",
       "\n",
       "                      gene_biotype  \n",
       "ENSMUSG00000000028  protein_coding  \n",
       "ENSMUSG00000000049  protein_coding  \n",
       "ENSMUSG00000000056  protein_coding  \n",
       "ENSMUSG00000000058  protein_coding  \n",
       "ENSMUSG00000000078  protein_coding  "
      ]
     },
     "execution_count": 1,
     "metadata": {},
     "output_type": "execute_result"
    }
   ],
   "source": [
    "import PyWGCNA\n",
    "pyWGCNA_5xFAD = PyWGCNA.readWGCNA(\"5xFAD.p\")\n",
    "pyWGCNA_5xFAD.datExpr.var.head(5)"
   ]
  },
  {
   "cell_type": "markdown",
   "metadata": {},
   "source": [
    "## 基因本体论（GO）分析\n",
    "假设我们想调查深灰色模块。\n",
    "在定义了我们想要使用的基因集库之后, [此处](https://maayanlab.cloud/Enrichr/#libraries)"
   ]
  },
  {
   "cell_type": "code",
   "execution_count": 5,
   "metadata": {},
   "outputs": [],
   "source": [
    "pyWGCNA_5xFAD.figureType = \"png\"\n",
    "gene_set_library = [\"GO_Biological_Process_2021\", \"GO_Cellular_Component_2021\", \"GO_Molecular_Function_2021\"]\n",
    "pyWGCNA_5xFAD.functional_enrichment_analysis(type=\"GO\",\n",
    "                                             moduleName=\"coral\",\n",
    "                                             sets=gene_set_library,\n",
    "                                             p_value=0.05,\n",
    "                                             file_name=\"GO_coral_2021\")"
   ]
  },
  {
   "cell_type": "markdown",
   "metadata": {},
   "source": [
    "![GO](figures/GO/GO_coral_2021.png)"
   ]
  },
  {
   "cell_type": "code",
   "execution_count": 6,
   "metadata": {},
   "outputs": [
    {
     "name": "stdout",
     "output_type": "stream",
     "text": [
      "\u001b[93mKEGG directory does not exist!\n",
      "Creating KEGG directory!\u001b[0m\n"
     ]
    }
   ],
   "source": [
    "pyWGCNA_5xFAD.figureType = \"png\"\n",
    "gene_set_library = [\"KEGG_2019_Mouse\"]\n",
    "pyWGCNA_5xFAD.functional_enrichment_analysis(type=\"KEGG\",\n",
    "                                             moduleName=\"coral\",\n",
    "                                             sets=gene_set_library,\n",
    "                                             p_value=0.05)"
   ]
  },
  {
   "cell_type": "markdown",
   "metadata": {},
   "source": [
    "![GO](figures/KEGG/coral.png)"
   ]
  },
  {
   "cell_type": "code",
   "execution_count": 7,
   "metadata": {},
   "outputs": [
    {
     "name": "stdout",
     "output_type": "stream",
     "text": [
      "\u001b[93mREACTOME directory does not exist!\n",
      "Creating REACTOME directory!\u001b[0m\n",
      "827 out of 1335 genes (identifiers) in the sample were found in Reactome.\n",
      "7748 pathways were hit by at least one of them, which 0 of them have p-value less than 0.05.\n",
      "Report was saved figures/REACTOME/coral.pdf!\n",
      "For more information please visit https://reactome.org/PathwayBrowser/#/DTAB=AN&ANALYSIS=MjAyMzAzMjIwODA5MTVfMTA3NzE%3D\n"
     ]
    }
   ],
   "source": [
    "pyWGCNA_5xFAD.figureType = \"pdf\"\n",
    "pyWGCNA_5xFAD.functional_enrichment_analysis(type=\"REACTOME\",\n",
    "                                             moduleName=\"coral\",\n",
    "                                             p_value=0.05)"
   ]
  }
 ],
 "metadata": {
  "kernelspec": {
   "display_name": "Python 3 (ipykernel)",
   "language": "python",
   "name": "python3"
  },
  "language_info": {
   "codemirror_mode": {
    "name": "ipython",
    "version": 3
   },
   "file_extension": ".py",
   "mimetype": "text/x-python",
   "name": "python",
   "nbconvert_exporter": "python",
   "pygments_lexer": "ipython3",
   "version": "3.10.4"
  }
 },
 "nbformat": 4,
 "nbformat_minor": 4
}
