{
 "cells": [
  {
   "cell_type": "markdown",
   "metadata": {
    "vscode": {
     "languageId": "r"
    }
   },
   "source": [
    "# 假设检验\n",
    "\n",
    "先验知识：T 置信区间\n",
    "\n",
    "样本量比较小的时候一般使用T分 布 ，T置信区间和之前讨论的正态分布置信区间类\n",
    "似 ：$E_{s t} \\pm T Q \\times S E_{E s t}$, t分布在样本量很大时非常近似于正态分布。当一个案例 中t分布和正态分布都可以使用时使用t分布。t置信区间：$\\bar{x} \\pm t_{n-1} * S_{\\bar{x}}$\n",
    "使用manipulate包来观察t分布在不同自由度下的变化\n"
   ]
  },
  {
   "cell_type": "code",
   "execution_count": 4,
   "metadata": {
    "vscode": {
     "languageId": "r"
    }
   },
   "outputs": [
    {
     "data": {
      "text/html": [
       "1000"
      ],
      "text/latex": [
       "1000"
      ],
      "text/markdown": [
       "1000"
      ],
      "text/plain": [
       "[1] 1000"
      ]
     },
     "metadata": {},
     "output_type": "display_data"
    }
   ],
   "source": [
    "library(manipulate)\n",
    "k <- 1000\n",
    "xvals <- seq(-5, 5, length = k)\n",
    "length(xvals)\n"
   ]
  },
  {
   "cell_type": "code",
   "execution_count": 5,
   "metadata": {
    "vscode": {
     "languageId": "r"
    }
   },
   "outputs": [],
   "source": [
    "myplot <- function(df) {\n",
    "    d <- data.frame(\n",
    "        y = c(dnorm(xvals), dt(xvals, df)), x = xvals,\n",
    "        dist = factor(rep(c(\"Normal\", \"T\"), c(k, k)))\n",
    "    )\n",
    "    g <- ggplot(d, aes(x = x, y = y)) +\n",
    "        geom_line(size = 2, aes(colour = dist))\n",
    "    g\n",
    "}\n"
   ]
  },
  {
   "cell_type": "code",
   "execution_count": 10,
   "metadata": {
    "vscode": {
     "languageId": "r"
    }
   },
   "outputs": [
    {
     "ename": "ERROR",
     "evalue": "Error in manipulate(myplot(mu), mu = slider(1, 30, step = 1)): The manipulate package must be run from within RStudio\n",
     "output_type": "error",
     "traceback": [
      "Error in manipulate(myplot(mu), mu = slider(1, 30, step = 1)): The manipulate package must be run from within RStudio\nTraceback:\n",
      "1. manipulate(myplot(mu), mu = slider(1, 30, step = 1))",
      "2. stop(\"The manipulate package must be run from within RStudio\")"
     ]
    }
   ],
   "source": [
    "manipulate(myplot(mu), mu = slider(1, 30, step = 1))\n"
   ]
  },
  {
   "cell_type": "markdown",
   "metadata": {},
   "source": [
    "## 计算不同样本类型的T置信区间\n",
    "配对样本T置信区间，使用自带的sleep数据：  \n",
    "  "
   ]
  },
  {
   "cell_type": "code",
   "execution_count": 11,
   "metadata": {
    "vscode": {
     "languageId": "r"
    }
   },
   "outputs": [
    {
     "data": {
      "text/html": [
       "<style>\n",
       ".list-inline {list-style: none; margin:0; padding: 0}\n",
       ".list-inline>li {display: inline-block}\n",
       ".list-inline>li:not(:last-child)::after {content: \"\\00b7\"; padding: 0 .5ex}\n",
       "</style>\n",
       "<ol class=list-inline><li>1.2</li><li>2.4</li><li>1.3</li><li>1.3</li><li>0</li><li>1</li><li>1.8</li><li>0.8</li><li>4.6</li><li>1.4</li></ol>\n"
      ],
      "text/latex": [
       "\\begin{enumerate*}\n",
       "\\item 1.2\n",
       "\\item 2.4\n",
       "\\item 1.3\n",
       "\\item 1.3\n",
       "\\item 0\n",
       "\\item 1\n",
       "\\item 1.8\n",
       "\\item 0.8\n",
       "\\item 4.6\n",
       "\\item 1.4\n",
       "\\end{enumerate*}\n"
      ],
      "text/markdown": [
       "1. 1.2\n",
       "2. 2.4\n",
       "3. 1.3\n",
       "4. 1.3\n",
       "5. 0\n",
       "6. 1\n",
       "7. 1.8\n",
       "8. 0.8\n",
       "9. 4.6\n",
       "10. 1.4\n",
       "\n",
       "\n"
      ],
      "text/plain": [
       " [1] 1.2 2.4 1.3 1.3 0.0 1.0 1.8 0.8 4.6 1.4"
      ]
     },
     "metadata": {},
     "output_type": "display_data"
    }
   ],
   "source": [
    "data(sleep)\n",
    "g1 <- sleep$extra[1:10]\n",
    "g2 <- sleep$extra[11:20]\n",
    "diff <- g2 - g1\n",
    "diff\n"
   ]
  },
  {
   "cell_type": "code",
   "execution_count": 26,
   "metadata": {
    "vscode": {
     "languageId": "r"
    }
   },
   "outputs": [
    {
     "data": {
      "text/html": [
       "<table class=\"dataframe\">\n",
       "<caption>A data.frame: 20 × 3</caption>\n",
       "<thead>\n",
       "\t<tr><th scope=col>extra</th><th scope=col>group</th><th scope=col>ID</th></tr>\n",
       "\t<tr><th scope=col>&lt;dbl&gt;</th><th scope=col>&lt;fct&gt;</th><th scope=col>&lt;fct&gt;</th></tr>\n",
       "</thead>\n",
       "<tbody>\n",
       "\t<tr><td> 0.7</td><td>1</td><td>1 </td></tr>\n",
       "\t<tr><td>-1.6</td><td>1</td><td>2 </td></tr>\n",
       "\t<tr><td>-0.2</td><td>1</td><td>3 </td></tr>\n",
       "\t<tr><td>-1.2</td><td>1</td><td>4 </td></tr>\n",
       "\t<tr><td>-0.1</td><td>1</td><td>5 </td></tr>\n",
       "\t<tr><td> 3.4</td><td>1</td><td>6 </td></tr>\n",
       "\t<tr><td> 3.7</td><td>1</td><td>7 </td></tr>\n",
       "\t<tr><td> 0.8</td><td>1</td><td>8 </td></tr>\n",
       "\t<tr><td> 0.0</td><td>1</td><td>9 </td></tr>\n",
       "\t<tr><td> 2.0</td><td>1</td><td>10</td></tr>\n",
       "\t<tr><td> 1.9</td><td>2</td><td>1 </td></tr>\n",
       "\t<tr><td> 0.8</td><td>2</td><td>2 </td></tr>\n",
       "\t<tr><td> 1.1</td><td>2</td><td>3 </td></tr>\n",
       "\t<tr><td> 0.1</td><td>2</td><td>4 </td></tr>\n",
       "\t<tr><td>-0.1</td><td>2</td><td>5 </td></tr>\n",
       "\t<tr><td> 4.4</td><td>2</td><td>6 </td></tr>\n",
       "\t<tr><td> 5.5</td><td>2</td><td>7 </td></tr>\n",
       "\t<tr><td> 1.6</td><td>2</td><td>8 </td></tr>\n",
       "\t<tr><td> 4.6</td><td>2</td><td>9 </td></tr>\n",
       "\t<tr><td> 3.4</td><td>2</td><td>10</td></tr>\n",
       "</tbody>\n",
       "</table>\n"
      ],
      "text/latex": [
       "A data.frame: 20 × 3\n",
       "\\begin{tabular}{lll}\n",
       " extra & group & ID\\\\\n",
       " <dbl> & <fct> & <fct>\\\\\n",
       "\\hline\n",
       "\t  0.7 & 1 & 1 \\\\\n",
       "\t -1.6 & 1 & 2 \\\\\n",
       "\t -0.2 & 1 & 3 \\\\\n",
       "\t -1.2 & 1 & 4 \\\\\n",
       "\t -0.1 & 1 & 5 \\\\\n",
       "\t  3.4 & 1 & 6 \\\\\n",
       "\t  3.7 & 1 & 7 \\\\\n",
       "\t  0.8 & 1 & 8 \\\\\n",
       "\t  0.0 & 1 & 9 \\\\\n",
       "\t  2.0 & 1 & 10\\\\\n",
       "\t  1.9 & 2 & 1 \\\\\n",
       "\t  0.8 & 2 & 2 \\\\\n",
       "\t  1.1 & 2 & 3 \\\\\n",
       "\t  0.1 & 2 & 4 \\\\\n",
       "\t -0.1 & 2 & 5 \\\\\n",
       "\t  4.4 & 2 & 6 \\\\\n",
       "\t  5.5 & 2 & 7 \\\\\n",
       "\t  1.6 & 2 & 8 \\\\\n",
       "\t  4.6 & 2 & 9 \\\\\n",
       "\t  3.4 & 2 & 10\\\\\n",
       "\\end{tabular}\n"
      ],
      "text/markdown": [
       "\n",
       "A data.frame: 20 × 3\n",
       "\n",
       "| extra &lt;dbl&gt; | group &lt;fct&gt; | ID &lt;fct&gt; |\n",
       "|---|---|---|\n",
       "|  0.7 | 1 | 1  |\n",
       "| -1.6 | 1 | 2  |\n",
       "| -0.2 | 1 | 3  |\n",
       "| -1.2 | 1 | 4  |\n",
       "| -0.1 | 1 | 5  |\n",
       "|  3.4 | 1 | 6  |\n",
       "|  3.7 | 1 | 7  |\n",
       "|  0.8 | 1 | 8  |\n",
       "|  0.0 | 1 | 9  |\n",
       "|  2.0 | 1 | 10 |\n",
       "|  1.9 | 2 | 1  |\n",
       "|  0.8 | 2 | 2  |\n",
       "|  1.1 | 2 | 3  |\n",
       "|  0.1 | 2 | 4  |\n",
       "| -0.1 | 2 | 5  |\n",
       "|  4.4 | 2 | 6  |\n",
       "|  5.5 | 2 | 7  |\n",
       "|  1.6 | 2 | 8  |\n",
       "|  4.6 | 2 | 9  |\n",
       "|  3.4 | 2 | 10 |\n",
       "\n"
      ],
      "text/plain": [
       "   extra group ID\n",
       "1   0.7  1     1 \n",
       "2  -1.6  1     2 \n",
       "3  -0.2  1     3 \n",
       "4  -1.2  1     4 \n",
       "5  -0.1  1     5 \n",
       "6   3.4  1     6 \n",
       "7   3.7  1     7 \n",
       "8   0.8  1     8 \n",
       "9   0.0  1     9 \n",
       "10  2.0  1     10\n",
       "11  1.9  2     1 \n",
       "12  0.8  2     2 \n",
       "13  1.1  2     3 \n",
       "14  0.1  2     4 \n",
       "15 -0.1  2     5 \n",
       "16  4.4  2     6 \n",
       "17  5.5  2     7 \n",
       "18  1.6  2     8 \n",
       "19  4.6  2     9 \n",
       "20  3.4  2     10"
      ]
     },
     "metadata": {},
     "output_type": "display_data"
    }
   ],
   "source": [
    "sleep\n"
   ]
  },
  {
   "cell_type": "code",
   "execution_count": 25,
   "metadata": {
    "vscode": {
     "languageId": "r"
    }
   },
   "outputs": [
    {
     "data": {
      "text/html": [
       "<style>\n",
       ".list-inline {list-style: none; margin:0; padding: 0}\n",
       ".list-inline>li {display: inline-block}\n",
       ".list-inline>li:not(:last-child)::after {content: \"\\00b7\"; padding: 0 .5ex}\n",
       "</style>\n",
       "<ol class=list-inline><li>1.9</li><li>0.8</li><li>1.1</li><li>0.1</li><li>-0.1</li><li>4.4</li><li>5.5</li><li>1.6</li><li>4.6</li><li>3.4</li></ol>\n"
      ],
      "text/latex": [
       "\\begin{enumerate*}\n",
       "\\item 1.9\n",
       "\\item 0.8\n",
       "\\item 1.1\n",
       "\\item 0.1\n",
       "\\item -0.1\n",
       "\\item 4.4\n",
       "\\item 5.5\n",
       "\\item 1.6\n",
       "\\item 4.6\n",
       "\\item 3.4\n",
       "\\end{enumerate*}\n"
      ],
      "text/markdown": [
       "1. 1.9\n",
       "2. 0.8\n",
       "3. 1.1\n",
       "4. 0.1\n",
       "5. -0.1\n",
       "6. 4.4\n",
       "7. 5.5\n",
       "8. 1.6\n",
       "9. 4.6\n",
       "10. 3.4\n",
       "\n",
       "\n"
      ],
      "text/plain": [
       " [1]  1.9  0.8  1.1  0.1 -0.1  4.4  5.5  1.6  4.6  3.4"
      ]
     },
     "metadata": {},
     "output_type": "display_data"
    }
   ],
   "source": [
    "g2\n"
   ]
  },
  {
   "cell_type": "code",
   "execution_count": 19,
   "metadata": {
    "vscode": {
     "languageId": "r"
    }
   },
   "outputs": [
    {
     "data": {
      "text/html": [
       "2.2621571627982"
      ],
      "text/latex": [
       "2.2621571627982"
      ],
      "text/markdown": [
       "2.2621571627982"
      ],
      "text/plain": [
       "[1] 2.262157"
      ]
     },
     "metadata": {},
     "output_type": "display_data"
    }
   ],
   "source": [
    "qt(0.975, n - 1)\n"
   ]
  },
  {
   "cell_type": "code",
   "execution_count": 22,
   "metadata": {
    "vscode": {
     "languageId": "r"
    }
   },
   "outputs": [
    {
     "data": {
      "text/html": [
       "<style>\n",
       ".list-inline {list-style: none; margin:0; padding: 0}\n",
       ".list-inline>li {display: inline-block}\n",
       ".list-inline>li:not(:last-child)::after {content: \"\\00b7\"; padding: 0 .5ex}\n",
       "</style>\n",
       "<ol class=list-inline><li>0.700114236723018</li><li>2.45988576327698</li></ol>\n"
      ],
      "text/latex": [
       "\\begin{enumerate*}\n",
       "\\item 0.700114236723018\n",
       "\\item 2.45988576327698\n",
       "\\end{enumerate*}\n"
      ],
      "text/markdown": [
       "1. 0.700114236723018\n",
       "2. 2.45988576327698\n",
       "\n",
       "\n"
      ],
      "text/plain": [
       "[1] 0.7001142 2.4598858"
      ]
     },
     "metadata": {},
     "output_type": "display_data"
    },
    {
     "data": {
      "text/html": [
       "1.58"
      ],
      "text/latex": [
       "1.58"
      ],
      "text/markdown": [
       "1.58"
      ],
      "text/plain": [
       "[1] 1.58"
      ]
     },
     "metadata": {},
     "output_type": "display_data"
    }
   ],
   "source": [
    "mn <- mean(diff)\n",
    "s <- sd(diff)\n",
    "\n",
    "n <- 10\n",
    "mn + c(-1, 1) * qt(0.975, n - 1) * s / sqrt(n)\n",
    "\n",
    "mn\n"
   ]
  },
  {
   "cell_type": "code",
   "execution_count": 46,
   "metadata": {
    "vscode": {
     "languageId": "r"
    }
   },
   "outputs": [
    {
     "data": {
      "text/plain": [
       "\n",
       "\tPaired t-test\n",
       "\n",
       "data:  g2 and g1\n",
       "t = 4.0621, df = 9, p-value = 0.002833\n",
       "alternative hypothesis: true mean difference is not equal to 0\n",
       "95 percent confidence interval:\n",
       " 0.7001142 2.4598858\n",
       "sample estimates:\n",
       "mean difference \n",
       "           1.58 \n"
      ]
     },
     "metadata": {},
     "output_type": "display_data"
    }
   ],
   "source": [
    "t.test(g2, g1, paired = T)\n"
   ]
  },
  {
   "cell_type": "code",
   "execution_count": 23,
   "metadata": {
    "vscode": {
     "languageId": "r"
    }
   },
   "outputs": [
    {
     "data": {
      "text/html": [
       "<style>\n",
       ".list-inline {list-style: none; margin:0; padding: 0}\n",
       ".list-inline>li {display: inline-block}\n",
       ".list-inline>li:not(:last-child)::after {content: \"\\00b7\"; padding: 0 .5ex}\n",
       "</style>\n",
       "<ol class=list-inline><li>0.700114236723018</li><li>2.45988576327698</li></ol>\n"
      ],
      "text/latex": [
       "\\begin{enumerate*}\n",
       "\\item 0.700114236723018\n",
       "\\item 2.45988576327698\n",
       "\\end{enumerate*}\n"
      ],
      "text/markdown": [
       "1. 0.700114236723018\n",
       "2. 2.45988576327698\n",
       "\n",
       "\n"
      ],
      "text/plain": [
       "[1] 0.7001142 2.4598858"
      ]
     },
     "metadata": {},
     "output_type": "display_data"
    }
   ],
   "source": [
    "t.test(g2, g1, paired = T)$conf[1:2]\n"
   ]
  },
  {
   "cell_type": "code",
   "execution_count": 48,
   "metadata": {
    "vscode": {
     "languageId": "r"
    }
   },
   "outputs": [
    {
     "data": {
      "text/plain": [
       "\n",
       "\tOne Sample t-test\n",
       "\n",
       "data:  diff\n",
       "t = 4.0621, df = 9, p-value = 0.002833\n",
       "alternative hypothesis: true mean is not equal to 0\n",
       "95 percent confidence interval:\n",
       " 0.7001142 2.4598858\n",
       "sample estimates:\n",
       "mean of x \n",
       "     1.58 \n"
      ]
     },
     "metadata": {},
     "output_type": "display_data"
    }
   ],
   "source": [
    "t.test(diff, mu = 0)\n"
   ]
  },
  {
   "cell_type": "code",
   "execution_count": 47,
   "metadata": {
    "vscode": {
     "languageId": "r"
    }
   },
   "outputs": [
    {
     "data": {
      "text/html": [
       "0.406212768338204"
      ],
      "text/latex": [
       "0.406212768338204"
      ],
      "text/markdown": [
       "0.406212768338204"
      ],
      "text/plain": [
       "[1] 0.4062128"
      ]
     },
     "metadata": {},
     "output_type": "display_data"
    }
   ],
   "source": [
    "mean(diff) / sd(diff) / sqrt(n)\n"
   ]
  },
  {
   "cell_type": "code",
   "execution_count": 52,
   "metadata": {
    "vscode": {
     "languageId": "r"
    }
   },
   "outputs": [
    {
     "data": {
      "text/html": [
       "0.0028330078403902"
      ],
      "text/latex": [
       "0.0028330078403902"
      ],
      "text/markdown": [
       "0.0028330078403902"
      ],
      "text/plain": [
       "[1] 0.002833008"
      ]
     },
     "metadata": {},
     "output_type": "display_data"
    }
   ],
   "source": [
    "## 累计分布\n",
    "\n",
    "(1 - pt(4.0621, 9)) * 2\n"
   ]
  },
  {
   "cell_type": "code",
   "execution_count": 34,
   "metadata": {
    "vscode": {
     "languageId": "r"
    }
   },
   "outputs": [
    {
     "data": {
      "text/html": [
       "<style>\n",
       ".list-inline {list-style: none; margin:0; padding: 0}\n",
       ".list-inline>li {display: inline-block}\n",
       ".list-inline>li:not(:last-child)::after {content: \"\\00b7\"; padding: 0 .5ex}\n",
       "</style>\n",
       "<ol class=list-inline><li>1</li><li>1</li><li>1</li><li>1</li><li>1</li><li>1</li><li>1</li><li>1</li><li>1</li><li>1</li><li>2</li><li>2</li><li>2</li><li>2</li><li>2</li><li>2</li><li>2</li><li>2</li><li>2</li><li>2</li></ol>\n",
       "\n",
       "<details>\n",
       "\t<summary style=display:list-item;cursor:pointer>\n",
       "\t\t<strong>Levels</strong>:\n",
       "\t</summary>\n",
       "\t<style>\n",
       "\t.list-inline {list-style: none; margin:0; padding: 0}\n",
       "\t.list-inline>li {display: inline-block}\n",
       "\t.list-inline>li:not(:last-child)::after {content: \"\\00b7\"; padding: 0 .5ex}\n",
       "\t</style>\n",
       "\t<ol class=list-inline><li>'2'</li><li>'1'</li></ol>\n",
       "</details>"
      ],
      "text/latex": [
       "\\begin{enumerate*}\n",
       "\\item 1\n",
       "\\item 1\n",
       "\\item 1\n",
       "\\item 1\n",
       "\\item 1\n",
       "\\item 1\n",
       "\\item 1\n",
       "\\item 1\n",
       "\\item 1\n",
       "\\item 1\n",
       "\\item 2\n",
       "\\item 2\n",
       "\\item 2\n",
       "\\item 2\n",
       "\\item 2\n",
       "\\item 2\n",
       "\\item 2\n",
       "\\item 2\n",
       "\\item 2\n",
       "\\item 2\n",
       "\\end{enumerate*}\n",
       "\n",
       "\\emph{Levels}: \\begin{enumerate*}\n",
       "\\item '2'\n",
       "\\item '1'\n",
       "\\end{enumerate*}\n"
      ],
      "text/markdown": [
       "1. 1\n",
       "2. 1\n",
       "3. 1\n",
       "4. 1\n",
       "5. 1\n",
       "6. 1\n",
       "7. 1\n",
       "8. 1\n",
       "9. 1\n",
       "10. 1\n",
       "11. 2\n",
       "12. 2\n",
       "13. 2\n",
       "14. 2\n",
       "15. 2\n",
       "16. 2\n",
       "17. 2\n",
       "18. 2\n",
       "19. 2\n",
       "20. 2\n",
       "\n",
       "\n",
       "\n",
       "**Levels**: 1. '2'\n",
       "2. '1'\n",
       "\n",
       "\n"
      ],
      "text/plain": [
       " [1] 1 1 1 1 1 1 1 1 1 1 2 2 2 2 2 2 2 2 2 2\n",
       "Levels: 2 1"
      ]
     },
     "metadata": {},
     "output_type": "display_data"
    }
   ],
   "source": [
    "I(relevel(sleep$group, 2))\n"
   ]
  },
  {
   "cell_type": "code",
   "execution_count": 56,
   "metadata": {
    "vscode": {
     "languageId": "r"
    }
   },
   "outputs": [
    {
     "ename": "ERROR",
     "evalue": "Error in t.test.formula(extra ~ group, data = sleep, paired = T): cannot use 'paired' in formula method\n",
     "output_type": "error",
     "traceback": [
      "Error in t.test.formula(extra ~ group, data = sleep, paired = T): cannot use 'paired' in formula method\nTraceback:\n",
      "1. t.test(extra ~ group, data = sleep, paired = T)",
      "2. t.test.formula(extra ~ group, data = sleep, paired = T)",
      "3. stop(\"cannot use 'paired' in formula method\")"
     ]
    }
   ],
   "source": [
    "t.test(extra ~ group,\n",
    "    data = sleep,\n",
    "    paired = T\n",
    ")\n"
   ]
  },
  {
   "cell_type": "markdown",
   "metadata": {},
   "source": [
    "## 同方差独立组的T置信区间\n",
    "对于两组独立同分布，且样本量不同的样本$X_i, Y_i$(对应样本量$n_x, n_y$),不能使用配\n",
    "对检验，注意这里我们假设两样本同分布，即总体方差相同，但是实际上我们得到的 是样本方差，实际数值未必相同。\n",
    "$(1-\\alpha) \\times 100 \\%$水平下，$\\mu_y-\\mu_x$的$t$置信区间:\n",
    "$$\\bar{Y}-\\bar{X} \\pm t_{n_x+n_y-2,1-\\alpha / 2} S_p\\left(\\frac{1}{n_x}+\\frac{1}{n_y}\\right)^{1 / 2}$$\n",
    "其中：$S_p^2=\\left\\{\\left(n_x-1\\right) S_x^2+\\left(n_y-1\\right) S_y^2\\right\\} /\\left(n_x+n_y-2\\right)$    \n",
    "注意使用配对比不使用配对方差包含的信息更多，即在能配对的情况下，使用配对得\n",
    "到的结果更准确。"
   ]
  },
  {
   "cell_type": "code",
   "execution_count": 39,
   "metadata": {
    "vscode": {
     "languageId": "r"
    }
   },
   "outputs": [
    {
     "data": {
      "text/html": [
       "<style>\n",
       ".list-inline {list-style: none; margin:0; padding: 0}\n",
       ".list-inline>li {display: inline-block}\n",
       ".list-inline>li:not(:last-child)::after {content: \"\\00b7\"; padding: 0 .5ex}\n",
       "</style>\n",
       "<ol class=list-inline><li>-0.20548323071171</li><li>3.36548323071171</li></ol>\n"
      ],
      "text/latex": [
       "\\begin{enumerate*}\n",
       "\\item -0.20548323071171\n",
       "\\item 3.36548323071171\n",
       "\\end{enumerate*}\n"
      ],
      "text/markdown": [
       "1. -0.20548323071171\n",
       "2. 3.36548323071171\n",
       "\n",
       "\n"
      ],
      "text/plain": [
       "[1] -0.2054832  3.3654832"
      ]
     },
     "metadata": {},
     "output_type": "display_data"
    }
   ],
   "source": [
    "t.test(extra ~ I(relevel(group, 2)), data = sleep)$conf[1:2]\n"
   ]
  },
  {
   "cell_type": "markdown",
   "metadata": {},
   "source": [
    "## 配对数据描述\n"
   ]
  },
  {
   "cell_type": "code",
   "execution_count": 41,
   "metadata": {
    "vscode": {
     "languageId": "r"
    }
   },
   "outputs": [
    {
     "name": "stderr",
     "output_type": "stream",
     "text": [
      "Warning message:\n",
      "“\u001b[1m\u001b[22mUsing `size` aesthetic for lines was deprecated in ggplot2 3.4.0.\n",
      "\u001b[36mℹ\u001b[39m Please use `linewidth` instead.”\n"
     ]
    },
    {
     "data": {
      "image/png": "[encoded data removed]",
      "text/plain": [
       "plot without title"
      ]
     },
     "metadata": {
      "image/png": {
       "height": 420,
       "width": 420
      }
     },
     "output_type": "display_data"
    }
   ],
   "source": [
    "library(ggplot2)\n",
    "g <- ggplot(sleep, aes(x = group, y = extra, group = factor(ID)))\n",
    "g <- g + geom_line(size = 1, aes(colour = ID)) + geom_point(size = 10, pch = 21, fill = \"salmon\", alpha = .5)\n",
    "g\n"
   ]
  },
  {
   "cell_type": "markdown",
   "metadata": {},
   "source": [
    "## 异方差独立组的T置信区间\n",
    "\n",
    "如果不确定两组样本是否同方差，则可以假设两组样本异方差，对应计算方法如下：\n",
    "$$\\bar{Y}-\\bar{X} \\pm t_{d f} \\times\\left(\\frac{s_x^2}{n_x}+\\frac{s_y^2}{n_y}\\right)^{1 / 2}$$\n",
    "\n",
    "其中自由度：\n",
    "$df=\\frac{\\left(S_x^2 / n_x+S_y^2 / n_y\\right)^2}{\\left(\\frac{S_x^2}{n_x}\\right)^2 /\\left(n_x-1\\right)+\\left(\\frac{S_y^2}{n_y}\\right)^2 /\\left(n_y-1\\right)}$\n"
   ]
  },
  {
   "cell_type": "markdown",
   "metadata": {},
   "source": [
    "## 单样本T检验\n",
    "\n",
    "通过单样本数据判断总体均值是否与假设的检验值之间存在显著性差异，是对总体均 值的假设检验。检验步骤如下：\n",
    "原假设：\n",
    "- $H_0$, 总体均值$\\mu$等于$\\mu_0$    \n",
    "- 显著性水平：选取常用的$\\alpha=5 \\%$\n",
    "- 通过样本数据计算t统计量：$t=\\frac{\\left(\\bar{x}-\\mu_0\\right)}{S_{\\bar{x}}}$\n",
    "- 通过t统计量求得相应的p值来判断是否拒绝原假设"
   ]
  },
  {
   "cell_type": "code",
   "execution_count": 43,
   "metadata": {
    "vscode": {
     "languageId": "r"
    }
   },
   "outputs": [
    {
     "name": "stderr",
     "output_type": "stream",
     "text": [
      "Warning message in mean.default(x):\n",
      "“argument is not numeric or logical: returning NA”\n"
     ]
    },
    {
     "ename": "ERROR",
     "evalue": "Error in var(x): 'x' is NULL\n",
     "output_type": "error",
     "traceback": [
      "Error in var(x): 'x' is NULL\nTraceback:\n",
      "1. t.test(sleep$rate, mu = 0.1)",
      "2. t.test.default(sleep$rate, mu = 0.1)",
      "3. var(x)"
     ]
    }
   ],
   "source": [
    "t.test(sleep$rate, mu = 0.1)\n"
   ]
  },
  {
   "cell_type": "markdown",
   "metadata": {},
   "source": [
    "## 多变量关系检验方法综述\n",
    "|    X\\Y   |  分类(包含名义和等级)   |   连续  |\n",
    "| ---- | ---- |----|\n",
    "|   分类(包含名义和等级)    |   交叉表(列联表)分析         |  两样本T检验，方差分析(多分类，ANOVA)  |\n",
    "|   连续    |   两样本T检验，方差分析(多分类，ANOVA)       |  相关分析  |\n"
   ]
  },
  {
   "cell_type": "markdown",
   "metadata": {},
   "source": [
    "## 两样本T检验\n",
    "\n",
    "T 检验用于检测均值的差异性，单样本T检验检验的是假设的总体均值和样本均值的差  异；双样本T检验检验的是两个样本均值的差异是否显著。常用于检验某二分类变量区 分下的某连续变量是否有显著差异。\n",
    "这里我们分析用到的数据是信用卡数据creditcard_exp.csv,  变量\"avg_exp\"表示信用 卡消费，\"gender\"    '表示性别(男=1)。"
   ]
  },
  {
   "cell_type": "code",
   "execution_count": 58,
   "metadata": {
    "vscode": {
     "languageId": "r"
    }
   },
   "outputs": [
    {
     "data": {
      "text/html": [
       "<table class=\"dataframe\">\n",
       "<caption>A data.frame: 3 × 2</caption>\n",
       "<thead>\n",
       "\t<tr><th></th><th scope=col>avg_exp</th><th scope=col>gender</th></tr>\n",
       "\t<tr><th></th><th scope=col>&lt;dbl&gt;</th><th scope=col>&lt;fct&gt;</th></tr>\n",
       "</thead>\n",
       "<tbody>\n",
       "\t<tr><th scope=row>61</th><td> 485.65</td><td>0</td></tr>\n",
       "\t<tr><th scope=row>50</th><td> 711.89</td><td>0</td></tr>\n",
       "\t<tr><th scope=row>13</th><td>1102.20</td><td>1</td></tr>\n",
       "</tbody>\n",
       "</table>\n"
      ],
      "text/latex": [
       "A data.frame: 3 × 2\n",
       "\\begin{tabular}{r|ll}\n",
       "  & avg\\_exp & gender\\\\\n",
       "  & <dbl> & <fct>\\\\\n",
       "\\hline\n",
       "\t61 &  485.65 & 0\\\\\n",
       "\t50 &  711.89 & 0\\\\\n",
       "\t13 & 1102.20 & 1\\\\\n",
       "\\end{tabular}\n"
      ],
      "text/markdown": [
       "\n",
       "A data.frame: 3 × 2\n",
       "\n",
       "| <!--/--> | avg_exp &lt;dbl&gt; | gender &lt;fct&gt; |\n",
       "|---|---|---|\n",
       "| 61 |  485.65 | 0 |\n",
       "| 50 |  711.89 | 0 |\n",
       "| 13 | 1102.20 | 1 |\n",
       "\n"
      ],
      "text/plain": [
       "   avg_exp gender\n",
       "61  485.65 0     \n",
       "50  711.89 0     \n",
       "13 1102.20 1     "
      ]
     },
     "metadata": {},
     "output_type": "display_data"
    }
   ],
   "source": [
    "creditcard_exp <- read.csv(\"data/creditcard_exp.csv\", fileEncoding = \"GBK\")\n",
    "creditcard_exp <- na.omit(creditcard_exp)\n",
    "creditcard_exp$gender <- as.factor(creditcard_exp$gender)\n",
    "creditcard_exp$edu_class <- as.factor(creditcard_exp$edu_class)\n",
    "creditcard_exp[runif(3, 1, nrow(creditcard_exp)), c(\"avg_exp\", \"gender\")]\n"
   ]
  },
  {
   "cell_type": "code",
   "execution_count": 59,
   "metadata": {
    "vscode": {
     "languageId": "r"
    }
   },
   "outputs": [
    {
     "data": {
      "text/plain": [
       "$`0`\n",
       "   Min. 1st Qu.  Median    Mean 3rd Qu.    Max. \n",
       "  163.2   593.3   813.6   925.7  1204.8  1992.4 \n",
       "\n",
       "$`1`\n",
       "   Min. 1st Qu.  Median    Mean 3rd Qu.    Max. \n",
       "  648.1   829.9  1020.0  1128.5  1238.2  2430.0 \n"
      ]
     },
     "metadata": {},
     "output_type": "display_data"
    },
    {
     "data": {
      "image/png": "[encoded data removed]",
      "text/plain": [
       "plot without title"
      ]
     },
     "metadata": {
      "image/png": {
       "height": 420,
       "width": 420
      }
     },
     "output_type": "display_data"
    }
   ],
   "source": [
    "attach(creditcard_exp)\n",
    "par(mar = c(4, 4, 1, 4))\n",
    "tapply(avg_exp, gender, summary)\n",
    "boxplot(avg_exp ~ gender) # $`0\n"
   ]
  },
  {
   "cell_type": "markdown",
   "metadata": {},
   "source": [
    "## 前提条件\n",
    "\n",
    "双样本T检验需要满足的前提条件：\n",
    "观测之间相互独立；每组均服从正态分布\n",
    "这里需要注意两组方差的异同，方差相同与方差不同对应的T统计量的计算公式是不一 样的。方差的异同可以通过方差齐性检验判断：\n",
    "原假设：两个样本方差相同      \n",
    "$\\text { F统计量: } F=\\frac{\\max \\left(S_1^2, S_2^2\\right)}{\\min \\left(S_1^2, S_2^2\\right)} \\text { 服从F分布:F-distribution(wiki) }$\n"
   ]
  },
  {
   "cell_type": "markdown",
   "metadata": {},
   "source": [
    "## 双样本T 检验流程\n",
    "\n",
    "\n",
    "- 根据两样本数据或者是分组变量计算相应的均值 \n",
    "- 进行方差齐性检验\n",
    "- 进行双样本T检验，根据方差齐性检验的结果设置T检验的参数"
   ]
  },
  {
   "cell_type": "code",
   "execution_count": 65,
   "metadata": {
    "vscode": {
     "languageId": "r"
    }
   },
   "outputs": [
    {
     "data": {
      "text/html": [
       "<style>\n",
       ".list-inline {list-style: none; margin:0; padding: 0}\n",
       ".list-inline>li {display: inline-block}\n",
       ".list-inline>li:not(:last-child)::after {content: \"\\00b7\"; padding: 0 .5ex}\n",
       "</style>\n",
       "<ol class=list-inline><li>1217.03</li><li>1251.5</li><li>856.57</li><li>1321.83</li><li>816.03</li><li>1151.15</li><li>1233.77</li><li>802.52</li><li>2167.77</li><li>654.58</li><li>1102.2</li><li>2430.03</li><li>1052.35</li><li>791.98</li><li>1672.2</li><li>1342</li><li>883.72</li><li>726.64</li><li>552.83</li><li>987.66</li><li>1214.54</li><li>1472.82</li><li>744.66</li><li>1344.05</li><li>1778.3</li><li>834.47</li><li>648.15</li><li>884.58</li><li>1606.43</li><li>959.83</li><li>1992.39</li><li>1752.47</li><li>1434.55</li><li>565.8</li><li>1581.94</li><li>711.89</li><li>994.54</li><li>888.46</li><li>701.07</li><li>806.13</li><li>1299.37</li><li>809.51</li><li>610.25</li><li>485.65</li><li>963.68</li><li>993.87</li><li>524</li><li>1403.72</li><li>1629.05</li><li>745.87</li><li>527.19</li><li>520.38</li><li>251.56</li><li>817.79</li><li>889.08</li><li>1048.34</li><li>847.78</li><li>593.11</li><li>772.69</li><li>545.2</li><li>905.52</li><li>1175.49</li><li>1006.35</li><li>727.62</li><li>695.85</li><li>491.04</li><li>468.61</li><li>593.92</li><li>418.78</li><li>163.18</li></ol>\n"
      ],
      "text/latex": [
       "\\begin{enumerate*}\n",
       "\\item 1217.03\n",
       "\\item 1251.5\n",
       "\\item 856.57\n",
       "\\item 1321.83\n",
       "\\item 816.03\n",
       "\\item 1151.15\n",
       "\\item 1233.77\n",
       "\\item 802.52\n",
       "\\item 2167.77\n",
       "\\item 654.58\n",
       "\\item 1102.2\n",
       "\\item 2430.03\n",
       "\\item 1052.35\n",
       "\\item 791.98\n",
       "\\item 1672.2\n",
       "\\item 1342\n",
       "\\item 883.72\n",
       "\\item 726.64\n",
       "\\item 552.83\n",
       "\\item 987.66\n",
       "\\item 1214.54\n",
       "\\item 1472.82\n",
       "\\item 744.66\n",
       "\\item 1344.05\n",
       "\\item 1778.3\n",
       "\\item 834.47\n",
       "\\item 648.15\n",
       "\\item 884.58\n",
       "\\item 1606.43\n",
       "\\item 959.83\n",
       "\\item 1992.39\n",
       "\\item 1752.47\n",
       "\\item 1434.55\n",
       "\\item 565.8\n",
       "\\item 1581.94\n",
       "\\item 711.89\n",
       "\\item 994.54\n",
       "\\item 888.46\n",
       "\\item 701.07\n",
       "\\item 806.13\n",
       "\\item 1299.37\n",
       "\\item 809.51\n",
       "\\item 610.25\n",
       "\\item 485.65\n",
       "\\item 963.68\n",
       "\\item 993.87\n",
       "\\item 524\n",
       "\\item 1403.72\n",
       "\\item 1629.05\n",
       "\\item 745.87\n",
       "\\item 527.19\n",
       "\\item 520.38\n",
       "\\item 251.56\n",
       "\\item 817.79\n",
       "\\item 889.08\n",
       "\\item 1048.34\n",
       "\\item 847.78\n",
       "\\item 593.11\n",
       "\\item 772.69\n",
       "\\item 545.2\n",
       "\\item 905.52\n",
       "\\item 1175.49\n",
       "\\item 1006.35\n",
       "\\item 727.62\n",
       "\\item 695.85\n",
       "\\item 491.04\n",
       "\\item 468.61\n",
       "\\item 593.92\n",
       "\\item 418.78\n",
       "\\item 163.18\n",
       "\\end{enumerate*}\n"
      ],
      "text/markdown": [
       "1. 1217.03\n",
       "2. 1251.5\n",
       "3. 856.57\n",
       "4. 1321.83\n",
       "5. 816.03\n",
       "6. 1151.15\n",
       "7. 1233.77\n",
       "8. 802.52\n",
       "9. 2167.77\n",
       "10. 654.58\n",
       "11. 1102.2\n",
       "12. 2430.03\n",
       "13. 1052.35\n",
       "14. 791.98\n",
       "15. 1672.2\n",
       "16. 1342\n",
       "17. 883.72\n",
       "18. 726.64\n",
       "19. 552.83\n",
       "20. 987.66\n",
       "21. 1214.54\n",
       "22. 1472.82\n",
       "23. 744.66\n",
       "24. 1344.05\n",
       "25. 1778.3\n",
       "26. 834.47\n",
       "27. 648.15\n",
       "28. 884.58\n",
       "29. 1606.43\n",
       "30. 959.83\n",
       "31. 1992.39\n",
       "32. 1752.47\n",
       "33. 1434.55\n",
       "34. 565.8\n",
       "35. 1581.94\n",
       "36. 711.89\n",
       "37. 994.54\n",
       "38. 888.46\n",
       "39. 701.07\n",
       "40. 806.13\n",
       "41. 1299.37\n",
       "42. 809.51\n",
       "43. 610.25\n",
       "44. 485.65\n",
       "45. 963.68\n",
       "46. 993.87\n",
       "47. 524\n",
       "48. 1403.72\n",
       "49. 1629.05\n",
       "50. 745.87\n",
       "51. 527.19\n",
       "52. 520.38\n",
       "53. 251.56\n",
       "54. 817.79\n",
       "55. 889.08\n",
       "56. 1048.34\n",
       "57. 847.78\n",
       "58. 593.11\n",
       "59. 772.69\n",
       "60. 545.2\n",
       "61. 905.52\n",
       "62. 1175.49\n",
       "63. 1006.35\n",
       "64. 727.62\n",
       "65. 695.85\n",
       "66. 491.04\n",
       "67. 468.61\n",
       "68. 593.92\n",
       "69. 418.78\n",
       "70. 163.18\n",
       "\n",
       "\n"
      ],
      "text/plain": [
       " [1] 1217.03 1251.50  856.57 1321.83  816.03 1151.15 1233.77  802.52 2167.77\n",
       "[10]  654.58 1102.20 2430.03 1052.35  791.98 1672.20 1342.00  883.72  726.64\n",
       "[19]  552.83  987.66 1214.54 1472.82  744.66 1344.05 1778.30  834.47  648.15\n",
       "[28]  884.58 1606.43  959.83 1992.39 1752.47 1434.55  565.80 1581.94  711.89\n",
       "[37]  994.54  888.46  701.07  806.13 1299.37  809.51  610.25  485.65  963.68\n",
       "[46]  993.87  524.00 1403.72 1629.05  745.87  527.19  520.38  251.56  817.79\n",
       "[55]  889.08 1048.34  847.78  593.11  772.69  545.20  905.52 1175.49 1006.35\n",
       "[64]  727.62  695.85  491.04  468.61  593.92  418.78  163.18"
      ]
     },
     "metadata": {},
     "output_type": "display_data"
    }
   ],
   "source": [
    "avg_exp\n"
   ]
  },
  {
   "cell_type": "code",
   "execution_count": 66,
   "metadata": {
    "vscode": {
     "languageId": "r"
    }
   },
   "outputs": [
    {
     "data": {
      "text/html": [
       "<style>\n",
       ".list-inline {list-style: none; margin:0; padding: 0}\n",
       ".list-inline>li {display: inline-block}\n",
       ".list-inline>li:not(:last-child)::after {content: \"\\00b7\"; padding: 0 .5ex}\n",
       "</style>\n",
       "<ol class=list-inline><li>1</li><li>1</li><li>1</li><li>1</li><li>1</li><li>1</li><li>1</li><li>1</li><li>1</li><li>1</li><li>1</li><li>1</li><li>1</li><li>0</li><li>0</li><li>0</li><li>1</li><li>1</li><li>0</li><li>1</li><li>0</li><li>1</li><li>0</li><li>0</li><li>0</li><li>1</li><li>1</li><li>0</li><li>0</li><li>1</li><li>0</li><li>0</li><li>0</li><li>0</li><li>0</li><li>0</li><li>0</li><li>0</li><li>0</li><li>0</li><li>0</li><li>0</li><li>0</li><li>0</li><li>0</li><li>0</li><li>0</li><li>0</li><li>0</li><li>0</li><li>0</li><li>0</li><li>0</li><li>0</li><li>0</li><li>0</li><li>0</li><li>0</li><li>0</li><li>0</li><li>0</li><li>0</li><li>0</li><li>0</li><li>0</li><li>0</li><li>0</li><li>0</li><li>0</li><li>0</li></ol>\n",
       "\n",
       "<details>\n",
       "\t<summary style=display:list-item;cursor:pointer>\n",
       "\t\t<strong>Levels</strong>:\n",
       "\t</summary>\n",
       "\t<style>\n",
       "\t.list-inline {list-style: none; margin:0; padding: 0}\n",
       "\t.list-inline>li {display: inline-block}\n",
       "\t.list-inline>li:not(:last-child)::after {content: \"\\00b7\"; padding: 0 .5ex}\n",
       "\t</style>\n",
       "\t<ol class=list-inline><li>'0'</li><li>'1'</li></ol>\n",
       "</details>"
      ],
      "text/latex": [
       "\\begin{enumerate*}\n",
       "\\item 1\n",
       "\\item 1\n",
       "\\item 1\n",
       "\\item 1\n",
       "\\item 1\n",
       "\\item 1\n",
       "\\item 1\n",
       "\\item 1\n",
       "\\item 1\n",
       "\\item 1\n",
       "\\item 1\n",
       "\\item 1\n",
       "\\item 1\n",
       "\\item 0\n",
       "\\item 0\n",
       "\\item 0\n",
       "\\item 1\n",
       "\\item 1\n",
       "\\item 0\n",
       "\\item 1\n",
       "\\item 0\n",
       "\\item 1\n",
       "\\item 0\n",
       "\\item 0\n",
       "\\item 0\n",
       "\\item 1\n",
       "\\item 1\n",
       "\\item 0\n",
       "\\item 0\n",
       "\\item 1\n",
       "\\item 0\n",
       "\\item 0\n",
       "\\item 0\n",
       "\\item 0\n",
       "\\item 0\n",
       "\\item 0\n",
       "\\item 0\n",
       "\\item 0\n",
       "\\item 0\n",
       "\\item 0\n",
       "\\item 0\n",
       "\\item 0\n",
       "\\item 0\n",
       "\\item 0\n",
       "\\item 0\n",
       "\\item 0\n",
       "\\item 0\n",
       "\\item 0\n",
       "\\item 0\n",
       "\\item 0\n",
       "\\item 0\n",
       "\\item 0\n",
       "\\item 0\n",
       "\\item 0\n",
       "\\item 0\n",
       "\\item 0\n",
       "\\item 0\n",
       "\\item 0\n",
       "\\item 0\n",
       "\\item 0\n",
       "\\item 0\n",
       "\\item 0\n",
       "\\item 0\n",
       "\\item 0\n",
       "\\item 0\n",
       "\\item 0\n",
       "\\item 0\n",
       "\\item 0\n",
       "\\item 0\n",
       "\\item 0\n",
       "\\end{enumerate*}\n",
       "\n",
       "\\emph{Levels}: \\begin{enumerate*}\n",
       "\\item '0'\n",
       "\\item '1'\n",
       "\\end{enumerate*}\n"
      ],
      "text/markdown": [
       "1. 1\n",
       "2. 1\n",
       "3. 1\n",
       "4. 1\n",
       "5. 1\n",
       "6. 1\n",
       "7. 1\n",
       "8. 1\n",
       "9. 1\n",
       "10. 1\n",
       "11. 1\n",
       "12. 1\n",
       "13. 1\n",
       "14. 0\n",
       "15. 0\n",
       "16. 0\n",
       "17. 1\n",
       "18. 1\n",
       "19. 0\n",
       "20. 1\n",
       "21. 0\n",
       "22. 1\n",
       "23. 0\n",
       "24. 0\n",
       "25. 0\n",
       "26. 1\n",
       "27. 1\n",
       "28. 0\n",
       "29. 0\n",
       "30. 1\n",
       "31. 0\n",
       "32. 0\n",
       "33. 0\n",
       "34. 0\n",
       "35. 0\n",
       "36. 0\n",
       "37. 0\n",
       "38. 0\n",
       "39. 0\n",
       "40. 0\n",
       "41. 0\n",
       "42. 0\n",
       "43. 0\n",
       "44. 0\n",
       "45. 0\n",
       "46. 0\n",
       "47. 0\n",
       "48. 0\n",
       "49. 0\n",
       "50. 0\n",
       "51. 0\n",
       "52. 0\n",
       "53. 0\n",
       "54. 0\n",
       "55. 0\n",
       "56. 0\n",
       "57. 0\n",
       "58. 0\n",
       "59. 0\n",
       "60. 0\n",
       "61. 0\n",
       "62. 0\n",
       "63. 0\n",
       "64. 0\n",
       "65. 0\n",
       "66. 0\n",
       "67. 0\n",
       "68. 0\n",
       "69. 0\n",
       "70. 0\n",
       "\n",
       "\n",
       "\n",
       "**Levels**: 1. '0'\n",
       "2. '1'\n",
       "\n",
       "\n"
      ],
      "text/plain": [
       " [1] 1 1 1 1 1 1 1 1 1 1 1 1 1 0 0 0 1 1 0 1 0 1 0 0 0 1 1 0 0 1 0 0 0 0 0 0 0 0\n",
       "[39] 0 0 0 0 0 0 0 0 0 0 0 0 0 0 0 0 0 0 0 0 0 0 0 0 0 0 0 0 0 0 0 0\n",
       "Levels: 0 1"
      ]
     },
     "metadata": {},
     "output_type": "display_data"
    }
   ],
   "source": [
    "gender\n"
   ]
  },
  {
   "cell_type": "code",
   "execution_count": 62,
   "metadata": {
    "vscode": {
     "languageId": "r"
    }
   },
   "outputs": [
    {
     "data": {
      "text/plain": [
       "\n",
       "\tF test to compare two variances\n",
       "\n",
       "data:  avg_exp by gender\n",
       "F = 0.86857, num df = 49, denom df = 19, p-value = 0.6702\n",
       "alternative hypothesis: true ratio of variances is not equal to 1\n",
       "95 percent confidence interval:\n",
       " 0.3779117 1.7529818\n",
       "sample estimates:\n",
       "ratio of variances \n",
       "          0.868572 \n"
      ]
     },
     "metadata": {},
     "output_type": "display_data"
    }
   ],
   "source": [
    "var.test(avg_exp ~ gender)\n"
   ]
  },
  {
   "cell_type": "code",
   "execution_count": 63,
   "metadata": {
    "vscode": {
     "languageId": "r"
    }
   },
   "outputs": [
    {
     "data": {
      "text/plain": [
       "\n",
       "\tTwo Sample t-test\n",
       "\n",
       "data:  avg_exp by gender\n",
       "t = -1.7429, df = 68, p-value = 0.08587\n",
       "alternative hypothesis: true difference in means between group 0 and group 1 is not equal to 0\n",
       "95 percent confidence interval:\n",
       " -435.04352   29.39192\n",
       "sample estimates:\n",
       "mean in group 0 mean in group 1 \n",
       "       925.7052       1128.5310 \n"
      ]
     },
     "metadata": {},
     "output_type": "display_data"
    }
   ],
   "source": [
    "t.test(avg_exp ~ gender, var.equal = T)\n"
   ]
  },
  {
   "cell_type": "code",
   "execution_count": 64,
   "metadata": {
    "vscode": {
     "languageId": "r"
    }
   },
   "outputs": [
    {
     "data": {
      "text/plain": [
       "\n",
       "\tWelch Two Sample t-test\n",
       "\n",
       "data:  avg_exp by gender\n",
       "t = -1.6904, df = 32.953, p-value = 0.1004\n",
       "alternative hypothesis: true difference in means between group 0 and group 1 is not equal to 0\n",
       "95 percent confidence interval:\n",
       " -446.96001   41.30841\n",
       "sample estimates:\n",
       "mean in group 0 mean in group 1 \n",
       "       925.7052       1128.5310 \n"
      ]
     },
     "metadata": {},
     "output_type": "display_data"
    }
   ],
   "source": [
    "t.test(avg_exp ~ gender, var.equal = F)\n"
   ]
  },
  {
   "cell_type": "markdown",
   "metadata": {},
   "source": []
  }
 ],
 "metadata": {
  "kernelspec": {
   "display_name": "R",
   "language": "R",
   "name": "ir"
  },
  "language_info": {
   "codemirror_mode": "r",
   "file_extension": ".r",
   "mimetype": "text/x-r-source",
   "name": "R",
   "pygments_lexer": "r",
   "version": "4.4.1"
  }
 },
 "nbformat": 4,
 "nbformat_minor": 2
}
