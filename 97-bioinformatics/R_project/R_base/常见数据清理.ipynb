{
 "cells": [
  {
   "cell_type": "markdown",
   "metadata": {},
   "source": [
    "# 常见数据清理\n",
    "## 排序-sort"
   ]
  },
  {
   "cell_type": "code",
   "execution_count": 1,
   "metadata": {
    "vscode": {
     "languageId": "r"
    }
   },
   "outputs": [
    {
     "data": {
      "text/html": [
       "<table class=\"dataframe\">\n",
       "<caption>A data.frame: 5 × 3</caption>\n",
       "<thead>\n",
       "\t<tr><th scope=col>var1</th><th scope=col>var2</th><th scope=col>var3</th></tr>\n",
       "\t<tr><th scope=col>&lt;int&gt;</th><th scope=col>&lt;int&gt;</th><th scope=col>&lt;int&gt;</th></tr>\n",
       "</thead>\n",
       "<tbody>\n",
       "\t<tr><td>5</td><td> 6</td><td>13</td></tr>\n",
       "\t<tr><td>3</td><td> 9</td><td>11</td></tr>\n",
       "\t<tr><td>1</td><td> 8</td><td>15</td></tr>\n",
       "\t<tr><td>4</td><td> 7</td><td>12</td></tr>\n",
       "\t<tr><td>2</td><td>10</td><td>14</td></tr>\n",
       "</tbody>\n",
       "</table>\n"
      ],
      "text/latex": [
       "A data.frame: 5 × 3\n",
       "\\begin{tabular}{lll}\n",
       " var1 & var2 & var3\\\\\n",
       " <int> & <int> & <int>\\\\\n",
       "\\hline\n",
       "\t 5 &  6 & 13\\\\\n",
       "\t 3 &  9 & 11\\\\\n",
       "\t 1 &  8 & 15\\\\\n",
       "\t 4 &  7 & 12\\\\\n",
       "\t 2 & 10 & 14\\\\\n",
       "\\end{tabular}\n"
      ],
      "text/markdown": [
       "\n",
       "A data.frame: 5 × 3\n",
       "\n",
       "| var1 &lt;int&gt; | var2 &lt;int&gt; | var3 &lt;int&gt; |\n",
       "|---|---|---|\n",
       "| 5 |  6 | 13 |\n",
       "| 3 |  9 | 11 |\n",
       "| 1 |  8 | 15 |\n",
       "| 4 |  7 | 12 |\n",
       "| 2 | 10 | 14 |\n",
       "\n"
      ],
      "text/plain": [
       "  var1 var2 var3\n",
       "1 5     6   13  \n",
       "2 3     9   11  \n",
       "3 1     8   15  \n",
       "4 4     7   12  \n",
       "5 2    10   14  "
      ]
     },
     "metadata": {},
     "output_type": "display_data"
    }
   ],
   "source": [
    "X <- data.frame(var1 = sample(1:5), var2 = sample(6:10), var3 = sample(11:15))\n",
    "set.seed(1)\n",
    "X\n"
   ]
  },
  {
   "cell_type": "code",
   "execution_count": 2,
   "metadata": {
    "vscode": {
     "languageId": "r"
    }
   },
   "outputs": [
    {
     "data": {
      "text/html": [
       "<table class=\"dataframe\">\n",
       "<caption>A data.frame: 5 × 3</caption>\n",
       "<thead>\n",
       "\t<tr><th></th><th scope=col>var1</th><th scope=col>var2</th><th scope=col>var3</th></tr>\n",
       "\t<tr><th></th><th scope=col>&lt;int&gt;</th><th scope=col>&lt;int&gt;</th><th scope=col>&lt;int&gt;</th></tr>\n",
       "</thead>\n",
       "<tbody>\n",
       "\t<tr><th scope=row>1</th><td>5</td><td> 6</td><td>13</td></tr>\n",
       "\t<tr><th scope=row>4</th><td>4</td><td> 7</td><td>12</td></tr>\n",
       "\t<tr><th scope=row>3</th><td>1</td><td> 8</td><td>15</td></tr>\n",
       "\t<tr><th scope=row>5</th><td>2</td><td>10</td><td>14</td></tr>\n",
       "\t<tr><th scope=row>2</th><td>3</td><td> 9</td><td>11</td></tr>\n",
       "</tbody>\n",
       "</table>\n"
      ],
      "text/latex": [
       "A data.frame: 5 × 3\n",
       "\\begin{tabular}{r|lll}\n",
       "  & var1 & var2 & var3\\\\\n",
       "  & <int> & <int> & <int>\\\\\n",
       "\\hline\n",
       "\t1 & 5 &  6 & 13\\\\\n",
       "\t4 & 4 &  7 & 12\\\\\n",
       "\t3 & 1 &  8 & 15\\\\\n",
       "\t5 & 2 & 10 & 14\\\\\n",
       "\t2 & 3 &  9 & 11\\\\\n",
       "\\end{tabular}\n"
      ],
      "text/markdown": [
       "\n",
       "A data.frame: 5 × 3\n",
       "\n",
       "| <!--/--> | var1 &lt;int&gt; | var2 &lt;int&gt; | var3 &lt;int&gt; |\n",
       "|---|---|---|---|\n",
       "| 1 | 5 |  6 | 13 |\n",
       "| 4 | 4 |  7 | 12 |\n",
       "| 3 | 1 |  8 | 15 |\n",
       "| 5 | 2 | 10 | 14 |\n",
       "| 2 | 3 |  9 | 11 |\n",
       "\n"
      ],
      "text/plain": [
       "  var1 var2 var3\n",
       "1 5     6   13  \n",
       "4 4     7   12  \n",
       "3 1     8   15  \n",
       "5 2    10   14  \n",
       "2 3     9   11  "
      ]
     },
     "metadata": {},
     "output_type": "display_data"
    }
   ],
   "source": [
    "X <- X[sample(1:5), ]\n",
    "X\n"
   ]
  },
  {
   "cell_type": "code",
   "execution_count": 3,
   "metadata": {
    "vscode": {
     "languageId": "r"
    }
   },
   "outputs": [
    {
     "data": {
      "text/html": [
       "<table class=\"dataframe\">\n",
       "<caption>A data.frame: 5 × 3</caption>\n",
       "<thead>\n",
       "\t<tr><th></th><th scope=col>var1</th><th scope=col>var2</th><th scope=col>var3</th></tr>\n",
       "\t<tr><th></th><th scope=col>&lt;int&gt;</th><th scope=col>&lt;int&gt;</th><th scope=col>&lt;int&gt;</th></tr>\n",
       "</thead>\n",
       "<tbody>\n",
       "\t<tr><th scope=row>1</th><td>5</td><td>NA</td><td>13</td></tr>\n",
       "\t<tr><th scope=row>4</th><td>4</td><td> 7</td><td>12</td></tr>\n",
       "\t<tr><th scope=row>3</th><td>1</td><td>NA</td><td>15</td></tr>\n",
       "\t<tr><th scope=row>5</th><td>2</td><td>10</td><td>14</td></tr>\n",
       "\t<tr><th scope=row>2</th><td>3</td><td> 9</td><td>11</td></tr>\n",
       "</tbody>\n",
       "</table>\n"
      ],
      "text/latex": [
       "A data.frame: 5 × 3\n",
       "\\begin{tabular}{r|lll}\n",
       "  & var1 & var2 & var3\\\\\n",
       "  & <int> & <int> & <int>\\\\\n",
       "\\hline\n",
       "\t1 & 5 & NA & 13\\\\\n",
       "\t4 & 4 &  7 & 12\\\\\n",
       "\t3 & 1 & NA & 15\\\\\n",
       "\t5 & 2 & 10 & 14\\\\\n",
       "\t2 & 3 &  9 & 11\\\\\n",
       "\\end{tabular}\n"
      ],
      "text/markdown": [
       "\n",
       "A data.frame: 5 × 3\n",
       "\n",
       "| <!--/--> | var1 &lt;int&gt; | var2 &lt;int&gt; | var3 &lt;int&gt; |\n",
       "|---|---|---|---|\n",
       "| 1 | 5 | NA | 13 |\n",
       "| 4 | 4 |  7 | 12 |\n",
       "| 3 | 1 | NA | 15 |\n",
       "| 5 | 2 | 10 | 14 |\n",
       "| 2 | 3 |  9 | 11 |\n",
       "\n"
      ],
      "text/plain": [
       "  var1 var2 var3\n",
       "1 5    NA   13  \n",
       "4 4     7   12  \n",
       "3 1    NA   15  \n",
       "5 2    10   14  \n",
       "2 3     9   11  "
      ]
     },
     "metadata": {},
     "output_type": "display_data"
    }
   ],
   "source": [
    "X$var2[c(1, 3)] <- NA\n",
    "X\n"
   ]
  },
  {
   "cell_type": "code",
   "execution_count": 4,
   "metadata": {
    "vscode": {
     "languageId": "r"
    }
   },
   "outputs": [
    {
     "data": {
      "text/html": [
       "<style>\n",
       ".list-inline {list-style: none; margin:0; padding: 0}\n",
       ".list-inline>li {display: inline-block}\n",
       ".list-inline>li:not(:last-child)::after {content: \"\\00b7\"; padding: 0 .5ex}\n",
       "</style>\n",
       "<ol class=list-inline><li>1</li><li>2</li><li>3</li><li>4</li><li>5</li></ol>\n"
      ],
      "text/latex": [
       "\\begin{enumerate*}\n",
       "\\item 1\n",
       "\\item 2\n",
       "\\item 3\n",
       "\\item 4\n",
       "\\item 5\n",
       "\\end{enumerate*}\n"
      ],
      "text/markdown": [
       "1. 1\n",
       "2. 2\n",
       "3. 3\n",
       "4. 4\n",
       "5. 5\n",
       "\n",
       "\n"
      ],
      "text/plain": [
       "[1] 1 2 3 4 5"
      ]
     },
     "metadata": {},
     "output_type": "display_data"
    }
   ],
   "source": [
    "sort(X$var1)\n"
   ]
  },
  {
   "cell_type": "code",
   "execution_count": 6,
   "metadata": {
    "vscode": {
     "languageId": "r"
    }
   },
   "outputs": [
    {
     "data": {
      "text/html": [
       "<style>\n",
       ".list-inline {list-style: none; margin:0; padding: 0}\n",
       ".list-inline>li {display: inline-block}\n",
       ".list-inline>li:not(:last-child)::after {content: \"\\00b7\"; padding: 0 .5ex}\n",
       "</style>\n",
       "<ol class=list-inline><li>5</li><li>4</li><li>3</li><li>2</li><li>1</li></ol>\n"
      ],
      "text/latex": [
       "\\begin{enumerate*}\n",
       "\\item 5\n",
       "\\item 4\n",
       "\\item 3\n",
       "\\item 2\n",
       "\\item 1\n",
       "\\end{enumerate*}\n"
      ],
      "text/markdown": [
       "1. 5\n",
       "2. 4\n",
       "3. 3\n",
       "4. 2\n",
       "5. 1\n",
       "\n",
       "\n"
      ],
      "text/plain": [
       "[1] 5 4 3 2 1"
      ]
     },
     "metadata": {},
     "output_type": "display_data"
    }
   ],
   "source": [
    "sort(X$var1, decreasing = TRUE)\n"
   ]
  },
  {
   "cell_type": "code",
   "execution_count": 7,
   "metadata": {
    "vscode": {
     "languageId": "r"
    }
   },
   "outputs": [
    {
     "data": {
      "text/html": [
       "<style>\n",
       ".list-inline {list-style: none; margin:0; padding: 0}\n",
       ".list-inline>li {display: inline-block}\n",
       ".list-inline>li:not(:last-child)::after {content: \"\\00b7\"; padding: 0 .5ex}\n",
       "</style>\n",
       "<ol class=list-inline><li>7</li><li>9</li><li>10</li></ol>\n"
      ],
      "text/latex": [
       "\\begin{enumerate*}\n",
       "\\item 7\n",
       "\\item 9\n",
       "\\item 10\n",
       "\\end{enumerate*}\n"
      ],
      "text/markdown": [
       "1. 7\n",
       "2. 9\n",
       "3. 10\n",
       "\n",
       "\n"
      ],
      "text/plain": [
       "[1]  7  9 10"
      ]
     },
     "metadata": {},
     "output_type": "display_data"
    }
   ],
   "source": [
    "sort(X$var2)\n"
   ]
  },
  {
   "cell_type": "code",
   "execution_count": 9,
   "metadata": {
    "vscode": {
     "languageId": "r"
    }
   },
   "outputs": [
    {
     "data": {
      "text/html": [
       "'integer'"
      ],
      "text/latex": [
       "'integer'"
      ],
      "text/markdown": [
       "'integer'"
      ],
      "text/plain": [
       "[1] \"integer\""
      ]
     },
     "metadata": {},
     "output_type": "display_data"
    }
   ],
   "source": [
    "class(X$var1)\n"
   ]
  },
  {
   "cell_type": "code",
   "execution_count": 10,
   "metadata": {
    "vscode": {
     "languageId": "r"
    }
   },
   "outputs": [
    {
     "data": {
      "text/html": [
       "<style>\n",
       ".list-inline {list-style: none; margin:0; padding: 0}\n",
       ".list-inline>li {display: inline-block}\n",
       ".list-inline>li:not(:last-child)::after {content: \"\\00b7\"; padding: 0 .5ex}\n",
       "</style>\n",
       "<ol class=list-inline><li>7</li><li>9</li><li>10</li><li>&lt;NA&gt;</li><li>&lt;NA&gt;</li></ol>\n"
      ],
      "text/latex": [
       "\\begin{enumerate*}\n",
       "\\item 7\n",
       "\\item 9\n",
       "\\item 10\n",
       "\\item <NA>\n",
       "\\item <NA>\n",
       "\\end{enumerate*}\n"
      ],
      "text/markdown": [
       "1. 7\n",
       "2. 9\n",
       "3. 10\n",
       "4. &lt;NA&gt;\n",
       "5. &lt;NA&gt;\n",
       "\n",
       "\n"
      ],
      "text/plain": [
       "[1]  7  9 10 NA NA"
      ]
     },
     "metadata": {},
     "output_type": "display_data"
    }
   ],
   "source": [
    "sort(X$var2, na.last = TRUE)\n"
   ]
  },
  {
   "cell_type": "markdown",
   "metadata": {},
   "source": [
    "## 排序-order"
   ]
  },
  {
   "cell_type": "code",
   "execution_count": 12,
   "metadata": {
    "vscode": {
     "languageId": "r"
    }
   },
   "outputs": [
    {
     "data": {
      "text/html": [
       "<style>\n",
       ".list-inline {list-style: none; margin:0; padding: 0}\n",
       ".list-inline>li {display: inline-block}\n",
       ".list-inline>li:not(:last-child)::after {content: \"\\00b7\"; padding: 0 .5ex}\n",
       "</style>\n",
       "<ol class=list-inline><li>3</li><li>4</li><li>5</li><li>2</li><li>1</li></ol>\n"
      ],
      "text/latex": [
       "\\begin{enumerate*}\n",
       "\\item 3\n",
       "\\item 4\n",
       "\\item 5\n",
       "\\item 2\n",
       "\\item 1\n",
       "\\end{enumerate*}\n"
      ],
      "text/markdown": [
       "1. 3\n",
       "2. 4\n",
       "3. 5\n",
       "4. 2\n",
       "5. 1\n",
       "\n",
       "\n"
      ],
      "text/plain": [
       "[1] 3 4 5 2 1"
      ]
     },
     "metadata": {},
     "output_type": "display_data"
    }
   ],
   "source": [
    "order(X$var1)\n"
   ]
  },
  {
   "cell_type": "code",
   "execution_count": 13,
   "metadata": {
    "vscode": {
     "languageId": "r"
    }
   },
   "outputs": [
    {
     "data": {
      "text/html": [
       "<table class=\"dataframe\">\n",
       "<caption>A data.frame: 5 × 3</caption>\n",
       "<thead>\n",
       "\t<tr><th></th><th scope=col>var1</th><th scope=col>var2</th><th scope=col>var3</th></tr>\n",
       "\t<tr><th></th><th scope=col>&lt;int&gt;</th><th scope=col>&lt;int&gt;</th><th scope=col>&lt;int&gt;</th></tr>\n",
       "</thead>\n",
       "<tbody>\n",
       "\t<tr><th scope=row>3</th><td>1</td><td>NA</td><td>15</td></tr>\n",
       "\t<tr><th scope=row>5</th><td>2</td><td>10</td><td>14</td></tr>\n",
       "\t<tr><th scope=row>2</th><td>3</td><td> 9</td><td>11</td></tr>\n",
       "\t<tr><th scope=row>4</th><td>4</td><td> 7</td><td>12</td></tr>\n",
       "\t<tr><th scope=row>1</th><td>5</td><td>NA</td><td>13</td></tr>\n",
       "</tbody>\n",
       "</table>\n"
      ],
      "text/latex": [
       "A data.frame: 5 × 3\n",
       "\\begin{tabular}{r|lll}\n",
       "  & var1 & var2 & var3\\\\\n",
       "  & <int> & <int> & <int>\\\\\n",
       "\\hline\n",
       "\t3 & 1 & NA & 15\\\\\n",
       "\t5 & 2 & 10 & 14\\\\\n",
       "\t2 & 3 &  9 & 11\\\\\n",
       "\t4 & 4 &  7 & 12\\\\\n",
       "\t1 & 5 & NA & 13\\\\\n",
       "\\end{tabular}\n"
      ],
      "text/markdown": [
       "\n",
       "A data.frame: 5 × 3\n",
       "\n",
       "| <!--/--> | var1 &lt;int&gt; | var2 &lt;int&gt; | var3 &lt;int&gt; |\n",
       "|---|---|---|---|\n",
       "| 3 | 1 | NA | 15 |\n",
       "| 5 | 2 | 10 | 14 |\n",
       "| 2 | 3 |  9 | 11 |\n",
       "| 4 | 4 |  7 | 12 |\n",
       "| 1 | 5 | NA | 13 |\n",
       "\n"
      ],
      "text/plain": [
       "  var1 var2 var3\n",
       "3 1    NA   15  \n",
       "5 2    10   14  \n",
       "2 3     9   11  \n",
       "4 4     7   12  \n",
       "1 5    NA   13  "
      ]
     },
     "metadata": {},
     "output_type": "display_data"
    }
   ],
   "source": [
    "X[order(X$var1), ]\n"
   ]
  },
  {
   "cell_type": "code",
   "execution_count": 14,
   "metadata": {
    "vscode": {
     "languageId": "r"
    }
   },
   "outputs": [
    {
     "data": {
      "text/html": [
       "<table class=\"dataframe\">\n",
       "<caption>A data.frame: 5 × 3</caption>\n",
       "<thead>\n",
       "\t<tr><th></th><th scope=col>var1</th><th scope=col>var2</th><th scope=col>var3</th></tr>\n",
       "\t<tr><th></th><th scope=col>&lt;int&gt;</th><th scope=col>&lt;int&gt;</th><th scope=col>&lt;int&gt;</th></tr>\n",
       "</thead>\n",
       "<tbody>\n",
       "\t<tr><th scope=row>3</th><td>1</td><td>NA</td><td>15</td></tr>\n",
       "\t<tr><th scope=row>5</th><td>2</td><td>10</td><td>14</td></tr>\n",
       "\t<tr><th scope=row>2</th><td>3</td><td> 9</td><td>11</td></tr>\n",
       "\t<tr><th scope=row>4</th><td>4</td><td> 7</td><td>12</td></tr>\n",
       "\t<tr><th scope=row>1</th><td>5</td><td>NA</td><td>13</td></tr>\n",
       "</tbody>\n",
       "</table>\n"
      ],
      "text/latex": [
       "A data.frame: 5 × 3\n",
       "\\begin{tabular}{r|lll}\n",
       "  & var1 & var2 & var3\\\\\n",
       "  & <int> & <int> & <int>\\\\\n",
       "\\hline\n",
       "\t3 & 1 & NA & 15\\\\\n",
       "\t5 & 2 & 10 & 14\\\\\n",
       "\t2 & 3 &  9 & 11\\\\\n",
       "\t4 & 4 &  7 & 12\\\\\n",
       "\t1 & 5 & NA & 13\\\\\n",
       "\\end{tabular}\n"
      ],
      "text/markdown": [
       "\n",
       "A data.frame: 5 × 3\n",
       "\n",
       "| <!--/--> | var1 &lt;int&gt; | var2 &lt;int&gt; | var3 &lt;int&gt; |\n",
       "|---|---|---|---|\n",
       "| 3 | 1 | NA | 15 |\n",
       "| 5 | 2 | 10 | 14 |\n",
       "| 2 | 3 |  9 | 11 |\n",
       "| 4 | 4 |  7 | 12 |\n",
       "| 1 | 5 | NA | 13 |\n",
       "\n"
      ],
      "text/plain": [
       "  var1 var2 var3\n",
       "3 1    NA   15  \n",
       "5 2    10   14  \n",
       "2 3     9   11  \n",
       "4 4     7   12  \n",
       "1 5    NA   13  "
      ]
     },
     "metadata": {},
     "output_type": "display_data"
    }
   ],
   "source": [
    "X[order(X$var1, X$var3), ]\n"
   ]
  },
  {
   "cell_type": "markdown",
   "metadata": {},
   "source": [
    "## 排序-arrange"
   ]
  },
  {
   "cell_type": "code",
   "execution_count": 15,
   "metadata": {
    "vscode": {
     "languageId": "r"
    }
   },
   "outputs": [],
   "source": [
    "library(plyr)\n"
   ]
  },
  {
   "cell_type": "code",
   "execution_count": 16,
   "metadata": {
    "vscode": {
     "languageId": "r"
    }
   },
   "outputs": [],
   "source": [
    "X[3, 1] <- 1\n"
   ]
  },
  {
   "cell_type": "code",
   "execution_count": 17,
   "metadata": {
    "vscode": {
     "languageId": "r"
    }
   },
   "outputs": [
    {
     "data": {
      "text/html": [
       "<table class=\"dataframe\">\n",
       "<caption>A data.frame: 5 × 3</caption>\n",
       "<thead>\n",
       "\t<tr><th></th><th scope=col>var1</th><th scope=col>var2</th><th scope=col>var3</th></tr>\n",
       "\t<tr><th></th><th scope=col>&lt;dbl&gt;</th><th scope=col>&lt;int&gt;</th><th scope=col>&lt;int&gt;</th></tr>\n",
       "</thead>\n",
       "<tbody>\n",
       "\t<tr><th scope=row>1</th><td>5</td><td>NA</td><td>13</td></tr>\n",
       "\t<tr><th scope=row>4</th><td>4</td><td> 7</td><td>12</td></tr>\n",
       "\t<tr><th scope=row>3</th><td>1</td><td>NA</td><td>15</td></tr>\n",
       "\t<tr><th scope=row>5</th><td>2</td><td>10</td><td>14</td></tr>\n",
       "\t<tr><th scope=row>2</th><td>3</td><td> 9</td><td>11</td></tr>\n",
       "</tbody>\n",
       "</table>\n"
      ],
      "text/latex": [
       "A data.frame: 5 × 3\n",
       "\\begin{tabular}{r|lll}\n",
       "  & var1 & var2 & var3\\\\\n",
       "  & <dbl> & <int> & <int>\\\\\n",
       "\\hline\n",
       "\t1 & 5 & NA & 13\\\\\n",
       "\t4 & 4 &  7 & 12\\\\\n",
       "\t3 & 1 & NA & 15\\\\\n",
       "\t5 & 2 & 10 & 14\\\\\n",
       "\t2 & 3 &  9 & 11\\\\\n",
       "\\end{tabular}\n"
      ],
      "text/markdown": [
       "\n",
       "A data.frame: 5 × 3\n",
       "\n",
       "| <!--/--> | var1 &lt;dbl&gt; | var2 &lt;int&gt; | var3 &lt;int&gt; |\n",
       "|---|---|---|---|\n",
       "| 1 | 5 | NA | 13 |\n",
       "| 4 | 4 |  7 | 12 |\n",
       "| 3 | 1 | NA | 15 |\n",
       "| 5 | 2 | 10 | 14 |\n",
       "| 2 | 3 |  9 | 11 |\n",
       "\n"
      ],
      "text/plain": [
       "  var1 var2 var3\n",
       "1 5    NA   13  \n",
       "4 4     7   12  \n",
       "3 1    NA   15  \n",
       "5 2    10   14  \n",
       "2 3     9   11  "
      ]
     },
     "metadata": {},
     "output_type": "display_data"
    }
   ],
   "source": [
    "X\n"
   ]
  },
  {
   "cell_type": "code",
   "execution_count": 19,
   "metadata": {
    "vscode": {
     "languageId": "r"
    }
   },
   "outputs": [
    {
     "data": {
      "text/html": [
       "<table class=\"dataframe\">\n",
       "<caption>A data.frame: 5 × 3</caption>\n",
       "<thead>\n",
       "\t<tr><th scope=col>var1</th><th scope=col>var2</th><th scope=col>var3</th></tr>\n",
       "\t<tr><th scope=col>&lt;dbl&gt;</th><th scope=col>&lt;int&gt;</th><th scope=col>&lt;int&gt;</th></tr>\n",
       "</thead>\n",
       "<tbody>\n",
       "\t<tr><td>1</td><td>NA</td><td>15</td></tr>\n",
       "\t<tr><td>2</td><td>10</td><td>14</td></tr>\n",
       "\t<tr><td>3</td><td> 9</td><td>11</td></tr>\n",
       "\t<tr><td>4</td><td> 7</td><td>12</td></tr>\n",
       "\t<tr><td>5</td><td>NA</td><td>13</td></tr>\n",
       "</tbody>\n",
       "</table>\n"
      ],
      "text/latex": [
       "A data.frame: 5 × 3\n",
       "\\begin{tabular}{lll}\n",
       " var1 & var2 & var3\\\\\n",
       " <dbl> & <int> & <int>\\\\\n",
       "\\hline\n",
       "\t 1 & NA & 15\\\\\n",
       "\t 2 & 10 & 14\\\\\n",
       "\t 3 &  9 & 11\\\\\n",
       "\t 4 &  7 & 12\\\\\n",
       "\t 5 & NA & 13\\\\\n",
       "\\end{tabular}\n"
      ],
      "text/markdown": [
       "\n",
       "A data.frame: 5 × 3\n",
       "\n",
       "| var1 &lt;dbl&gt; | var2 &lt;int&gt; | var3 &lt;int&gt; |\n",
       "|---|---|---|\n",
       "| 1 | NA | 15 |\n",
       "| 2 | 10 | 14 |\n",
       "| 3 |  9 | 11 |\n",
       "| 4 |  7 | 12 |\n",
       "| 5 | NA | 13 |\n",
       "\n"
      ],
      "text/plain": [
       "  var1 var2 var3\n",
       "1 1    NA   15  \n",
       "2 2    10   14  \n",
       "3 3     9   11  \n",
       "4 4     7   12  \n",
       "5 5    NA   13  "
      ]
     },
     "metadata": {},
     "output_type": "display_data"
    }
   ],
   "source": [
    "arrange(X, var1, var3)\n"
   ]
  },
  {
   "cell_type": "code",
   "execution_count": 21,
   "metadata": {
    "vscode": {
     "languageId": "r"
    }
   },
   "outputs": [
    {
     "data": {
      "text/html": [
       "<table class=\"dataframe\">\n",
       "<caption>A data.frame: 5 × 3</caption>\n",
       "<thead>\n",
       "\t<tr><th scope=col>var1</th><th scope=col>var2</th><th scope=col>var3</th></tr>\n",
       "\t<tr><th scope=col>&lt;dbl&gt;</th><th scope=col>&lt;int&gt;</th><th scope=col>&lt;int&gt;</th></tr>\n",
       "</thead>\n",
       "<tbody>\n",
       "\t<tr><td>5</td><td>NA</td><td>13</td></tr>\n",
       "\t<tr><td>4</td><td> 7</td><td>12</td></tr>\n",
       "\t<tr><td>3</td><td> 9</td><td>11</td></tr>\n",
       "\t<tr><td>2</td><td>10</td><td>14</td></tr>\n",
       "\t<tr><td>1</td><td>NA</td><td>15</td></tr>\n",
       "</tbody>\n",
       "</table>\n"
      ],
      "text/latex": [
       "A data.frame: 5 × 3\n",
       "\\begin{tabular}{lll}\n",
       " var1 & var2 & var3\\\\\n",
       " <dbl> & <int> & <int>\\\\\n",
       "\\hline\n",
       "\t 5 & NA & 13\\\\\n",
       "\t 4 &  7 & 12\\\\\n",
       "\t 3 &  9 & 11\\\\\n",
       "\t 2 & 10 & 14\\\\\n",
       "\t 1 & NA & 15\\\\\n",
       "\\end{tabular}\n"
      ],
      "text/markdown": [
       "\n",
       "A data.frame: 5 × 3\n",
       "\n",
       "| var1 &lt;dbl&gt; | var2 &lt;int&gt; | var3 &lt;int&gt; |\n",
       "|---|---|---|\n",
       "| 5 | NA | 13 |\n",
       "| 4 |  7 | 12 |\n",
       "| 3 |  9 | 11 |\n",
       "| 2 | 10 | 14 |\n",
       "| 1 | NA | 15 |\n",
       "\n"
      ],
      "text/plain": [
       "  var1 var2 var3\n",
       "1 5    NA   13  \n",
       "2 4     7   12  \n",
       "3 3     9   11  \n",
       "4 2    10   14  \n",
       "5 1    NA   15  "
      ]
     },
     "metadata": {},
     "output_type": "display_data"
    }
   ],
   "source": [
    "arrange(X, desc(var1), var3)\n"
   ]
  },
  {
   "cell_type": "markdown",
   "metadata": {},
   "source": [
    "## 匹配数据\n",
    "- match   返回x在table 中的位置，没有的话返回nomatch 指定的值 \n",
    "- \"%in%\"<-function(x,table)match(x,table,nomatch    =0)>0"
   ]
  },
  {
   "cell_type": "code",
   "execution_count": 22,
   "metadata": {
    "vscode": {
     "languageId": "r"
    }
   },
   "outputs": [
    {
     "data": {
      "text/html": [
       "<style>\n",
       ".list-inline {list-style: none; margin:0; padding: 0}\n",
       ".list-inline>li {display: inline-block}\n",
       ".list-inline>li:not(:last-child)::after {content: \"\\00b7\"; padding: 0 .5ex}\n",
       "</style>\n",
       "<ol class=list-inline><li>12</li><li>14</li><li>16</li><li>20</li><li>&lt;NA&gt;</li></ol>\n"
      ],
      "text/latex": [
       "\\begin{enumerate*}\n",
       "\\item 12\n",
       "\\item 14\n",
       "\\item 16\n",
       "\\item 20\n",
       "\\item <NA>\n",
       "\\end{enumerate*}\n"
      ],
      "text/markdown": [
       "1. 12\n",
       "2. 14\n",
       "3. 16\n",
       "4. 20\n",
       "5. &lt;NA&gt;\n",
       "\n",
       "\n"
      ],
      "text/plain": [
       "[1] 12 14 16 20 NA"
      ]
     },
     "metadata": {},
     "output_type": "display_data"
    }
   ],
   "source": [
    "match(c(1, 3, 5, 9, 21), -10:10)\n"
   ]
  },
  {
   "cell_type": "code",
   "execution_count": 23,
   "metadata": {
    "vscode": {
     "languageId": "r"
    }
   },
   "outputs": [
    {
     "data": {
      "text/html": [
       "<style>\n",
       ".list-inline {list-style: none; margin:0; padding: 0}\n",
       ".list-inline>li {display: inline-block}\n",
       ".list-inline>li:not(:last-child)::after {content: \"\\00b7\"; padding: 0 .5ex}\n",
       "</style>\n",
       "<ol class=list-inline><li>TRUE</li><li>TRUE</li><li>TRUE</li><li>TRUE</li><li>FALSE</li></ol>\n"
      ],
      "text/latex": [
       "\\begin{enumerate*}\n",
       "\\item TRUE\n",
       "\\item TRUE\n",
       "\\item TRUE\n",
       "\\item TRUE\n",
       "\\item FALSE\n",
       "\\end{enumerate*}\n"
      ],
      "text/markdown": [
       "1. TRUE\n",
       "2. TRUE\n",
       "3. TRUE\n",
       "4. TRUE\n",
       "5. FALSE\n",
       "\n",
       "\n"
      ],
      "text/plain": [
       "[1]  TRUE  TRUE  TRUE  TRUE FALSE"
      ]
     },
     "metadata": {},
     "output_type": "display_data"
    }
   ],
   "source": [
    "c(1, 3, 5, 9, 21) %in% -10:10\n"
   ]
  },
  {
   "cell_type": "markdown",
   "metadata": {},
   "source": [
    "## which  输入逻辑向量，返回真值所在的位置\n",
    "- which.max 和which.min在向量中分别寻找最大值和最小值"
   ]
  },
  {
   "cell_type": "code",
   "execution_count": 24,
   "metadata": {
    "vscode": {
     "languageId": "r"
    }
   },
   "outputs": [
    {
     "data": {
      "text/html": [
       "<style>\n",
       ".list-inline {list-style: none; margin:0; padding: 0}\n",
       ".list-inline>li {display: inline-block}\n",
       ".list-inline>li:not(:last-child)::after {content: \"\\00b7\"; padding: 0 .5ex}\n",
       "</style>\n",
       "<ol class=list-inline><li>1</li><li>3</li><li>7</li></ol>\n"
      ],
      "text/latex": [
       "\\begin{enumerate*}\n",
       "\\item 1\n",
       "\\item 3\n",
       "\\item 7\n",
       "\\end{enumerate*}\n"
      ],
      "text/markdown": [
       "1. 1\n",
       "2. 3\n",
       "3. 7\n",
       "\n",
       "\n"
      ],
      "text/plain": [
       "[1] 1 3 7"
      ]
     },
     "metadata": {},
     "output_type": "display_data"
    }
   ],
   "source": [
    "which(c(TRUE, FALSE, TRUE, NA, FALSE, FALSE, TRUE))\n"
   ]
  },
  {
   "cell_type": "code",
   "execution_count": 25,
   "metadata": {
    "vscode": {
     "languageId": "r"
    }
   },
   "outputs": [
    {
     "data": {
      "text/html": [
       "5"
      ],
      "text/latex": [
       "5"
      ],
      "text/markdown": [
       "5"
      ],
      "text/plain": [
       "[1] 5"
      ]
     },
     "metadata": {},
     "output_type": "display_data"
    }
   ],
   "source": [
    "which.max(c(1:4, 11, 0:5))\n"
   ]
  },
  {
   "cell_type": "code",
   "execution_count": 26,
   "metadata": {
    "vscode": {
     "languageId": "r"
    }
   },
   "outputs": [
    {
     "data": {
      "text/html": [
       "6"
      ],
      "text/latex": [
       "6"
      ],
      "text/markdown": [
       "6"
      ],
      "text/plain": [
       "[1] 6"
      ]
     },
     "metadata": {},
     "output_type": "display_data"
    }
   ],
   "source": [
    "which.min(c(1:4, 11, 0:5))\n"
   ]
  },
  {
   "cell_type": "markdown",
   "metadata": {},
   "source": [
    "## 切割数据\n"
   ]
  },
  {
   "cell_type": "code",
   "execution_count": 27,
   "metadata": {
    "vscode": {
     "languageId": "r"
    }
   },
   "outputs": [
    {
     "data": {
      "text/html": [
       "<style>\n",
       ".list-inline {list-style: none; margin:0; padding: 0}\n",
       ".list-inline>li {display: inline-block}\n",
       ".list-inline>li:not(:last-child)::after {content: \"\\00b7\"; padding: 0 .5ex}\n",
       "</style>\n",
       "<ol class=list-inline><li>(0.981,4.8]</li><li>(0.981,4.8]</li><li>(0.981,4.8]</li><li>(0.981,4.8]</li><li>(4.8,8.6]</li><li>(4.8,8.6]</li><li>(4.8,8.6]</li><li>(4.8,8.6]</li><li>(8.6,12.4]</li><li>(8.6,12.4]</li><li>(8.6,12.4]</li><li>(8.6,12.4]</li><li>(12.4,16.2]</li><li>(12.4,16.2]</li><li>(12.4,16.2]</li><li>(12.4,16.2]</li><li>(16.2,20]</li><li>(16.2,20]</li><li>(16.2,20]</li><li>(16.2,20]</li></ol>\n",
       "\n",
       "<details>\n",
       "\t<summary style=display:list-item;cursor:pointer>\n",
       "\t\t<strong>Levels</strong>:\n",
       "\t</summary>\n",
       "\t<style>\n",
       "\t.list-inline {list-style: none; margin:0; padding: 0}\n",
       "\t.list-inline>li {display: inline-block}\n",
       "\t.list-inline>li:not(:last-child)::after {content: \"\\00b7\"; padding: 0 .5ex}\n",
       "\t</style>\n",
       "\t<ol class=list-inline><li>'(0.981,4.8]'</li><li>'(4.8,8.6]'</li><li>'(8.6,12.4]'</li><li>'(12.4,16.2]'</li><li>'(16.2,20]'</li></ol>\n",
       "</details>"
      ],
      "text/latex": [
       "\\begin{enumerate*}\n",
       "\\item (0.981,4.8{]}\n",
       "\\item (0.981,4.8{]}\n",
       "\\item (0.981,4.8{]}\n",
       "\\item (0.981,4.8{]}\n",
       "\\item (4.8,8.6{]}\n",
       "\\item (4.8,8.6{]}\n",
       "\\item (4.8,8.6{]}\n",
       "\\item (4.8,8.6{]}\n",
       "\\item (8.6,12.4{]}\n",
       "\\item (8.6,12.4{]}\n",
       "\\item (8.6,12.4{]}\n",
       "\\item (8.6,12.4{]}\n",
       "\\item (12.4,16.2{]}\n",
       "\\item (12.4,16.2{]}\n",
       "\\item (12.4,16.2{]}\n",
       "\\item (12.4,16.2{]}\n",
       "\\item (16.2,20{]}\n",
       "\\item (16.2,20{]}\n",
       "\\item (16.2,20{]}\n",
       "\\item (16.2,20{]}\n",
       "\\end{enumerate*}\n",
       "\n",
       "\\emph{Levels}: \\begin{enumerate*}\n",
       "\\item '(0.981,4.8{]}'\n",
       "\\item '(4.8,8.6{]}'\n",
       "\\item '(8.6,12.4{]}'\n",
       "\\item '(12.4,16.2{]}'\n",
       "\\item '(16.2,20{]}'\n",
       "\\end{enumerate*}\n"
      ],
      "text/markdown": [
       "1. (0.981,4.8]\n",
       "2. (0.981,4.8]\n",
       "3. (0.981,4.8]\n",
       "4. (0.981,4.8]\n",
       "5. (4.8,8.6]\n",
       "6. (4.8,8.6]\n",
       "7. (4.8,8.6]\n",
       "8. (4.8,8.6]\n",
       "9. (8.6,12.4]\n",
       "10. (8.6,12.4]\n",
       "11. (8.6,12.4]\n",
       "12. (8.6,12.4]\n",
       "13. (12.4,16.2]\n",
       "14. (12.4,16.2]\n",
       "15. (12.4,16.2]\n",
       "16. (12.4,16.2]\n",
       "17. (16.2,20]\n",
       "18. (16.2,20]\n",
       "19. (16.2,20]\n",
       "20. (16.2,20]\n",
       "\n",
       "\n",
       "\n",
       "**Levels**: 1. '(0.981,4.8]'\n",
       "2. '(4.8,8.6]'\n",
       "3. '(8.6,12.4]'\n",
       "4. '(12.4,16.2]'\n",
       "5. '(16.2,20]'\n",
       "\n",
       "\n"
      ],
      "text/plain": [
       " [1] (0.981,4.8] (0.981,4.8] (0.981,4.8] (0.981,4.8] (4.8,8.6]   (4.8,8.6]  \n",
       " [7] (4.8,8.6]   (4.8,8.6]   (8.6,12.4]  (8.6,12.4]  (8.6,12.4]  (8.6,12.4] \n",
       "[13] (12.4,16.2] (12.4,16.2] (12.4,16.2] (12.4,16.2] (16.2,20]   (16.2,20]  \n",
       "[19] (16.2,20]   (16.2,20]  \n",
       "Levels: (0.981,4.8] (4.8,8.6] (8.6,12.4] (12.4,16.2] (16.2,20]"
      ]
     },
     "metadata": {},
     "output_type": "display_data"
    }
   ],
   "source": [
    "cut(1:20, 5)\n"
   ]
  },
  {
   "cell_type": "code",
   "execution_count": 28,
   "metadata": {
    "vscode": {
     "languageId": "r"
    }
   },
   "outputs": [
    {
     "data": {
      "text/html": [
       "<style>\n",
       ".list-inline {list-style: none; margin:0; padding: 0}\n",
       ".list-inline>li {display: inline-block}\n",
       ".list-inline>li:not(:last-child)::after {content: \"\\00b7\"; padding: 0 .5ex}\n",
       "</style>\n",
       "<ol class=list-inline><li>&lt;NA&gt;</li><li>(1,5]</li><li>(1,5]</li><li>(1,5]</li><li>(1,5]</li><li>(5,9]</li><li>(5,9]</li><li>(5,9]</li><li>(5,9]</li><li>(9,13]</li><li>(9,13]</li><li>(9,13]</li><li>(9,13]</li><li>(13,17]</li><li>(13,17]</li><li>(13,17]</li><li>(13,17]</li><li>(17,20]</li><li>(17,20]</li><li>(17,20]</li></ol>\n",
       "\n",
       "<details>\n",
       "\t<summary style=display:list-item;cursor:pointer>\n",
       "\t\t<strong>Levels</strong>:\n",
       "\t</summary>\n",
       "\t<style>\n",
       "\t.list-inline {list-style: none; margin:0; padding: 0}\n",
       "\t.list-inline>li {display: inline-block}\n",
       "\t.list-inline>li:not(:last-child)::after {content: \"\\00b7\"; padding: 0 .5ex}\n",
       "\t</style>\n",
       "\t<ol class=list-inline><li>'(1,5]'</li><li>'(5,9]'</li><li>'(9,13]'</li><li>'(13,17]'</li><li>'(17,20]'</li></ol>\n",
       "</details>"
      ],
      "text/latex": [
       "\\begin{enumerate*}\n",
       "\\item <NA>\n",
       "\\item (1,5{]}\n",
       "\\item (1,5{]}\n",
       "\\item (1,5{]}\n",
       "\\item (1,5{]}\n",
       "\\item (5,9{]}\n",
       "\\item (5,9{]}\n",
       "\\item (5,9{]}\n",
       "\\item (5,9{]}\n",
       "\\item (9,13{]}\n",
       "\\item (9,13{]}\n",
       "\\item (9,13{]}\n",
       "\\item (9,13{]}\n",
       "\\item (13,17{]}\n",
       "\\item (13,17{]}\n",
       "\\item (13,17{]}\n",
       "\\item (13,17{]}\n",
       "\\item (17,20{]}\n",
       "\\item (17,20{]}\n",
       "\\item (17,20{]}\n",
       "\\end{enumerate*}\n",
       "\n",
       "\\emph{Levels}: \\begin{enumerate*}\n",
       "\\item '(1,5{]}'\n",
       "\\item '(5,9{]}'\n",
       "\\item '(9,13{]}'\n",
       "\\item '(13,17{]}'\n",
       "\\item '(17,20{]}'\n",
       "\\end{enumerate*}\n"
      ],
      "text/markdown": [
       "1. &lt;NA&gt;\n",
       "2. (1,5]\n",
       "3. (1,5]\n",
       "4. (1,5]\n",
       "5. (1,5]\n",
       "6. (5,9]\n",
       "7. (5,9]\n",
       "8. (5,9]\n",
       "9. (5,9]\n",
       "10. (9,13]\n",
       "11. (9,13]\n",
       "12. (9,13]\n",
       "13. (9,13]\n",
       "14. (13,17]\n",
       "15. (13,17]\n",
       "16. (13,17]\n",
       "17. (13,17]\n",
       "18. (17,20]\n",
       "19. (17,20]\n",
       "20. (17,20]\n",
       "\n",
       "\n",
       "\n",
       "**Levels**: 1. '(1,5]'\n",
       "2. '(5,9]'\n",
       "3. '(9,13]'\n",
       "4. '(13,17]'\n",
       "5. '(17,20]'\n",
       "\n",
       "\n"
      ],
      "text/plain": [
       " [1] <NA>    (1,5]   (1,5]   (1,5]   (1,5]   (5,9]   (5,9]   (5,9]   (5,9]  \n",
       "[10] (9,13]  (9,13]  (9,13]  (9,13]  (13,17] (13,17] (13,17] (13,17] (17,20]\n",
       "[19] (17,20] (17,20]\n",
       "Levels: (1,5] (5,9] (9,13] (13,17] (17,20]"
      ]
     },
     "metadata": {},
     "output_type": "display_data"
    }
   ],
   "source": [
    "cut(1:20, c(1, 5, 9, 13, 17, 20))\n"
   ]
  },
  {
   "cell_type": "markdown",
   "metadata": {},
   "source": [
    "## 切割数据-Hmisc包\n"
   ]
  },
  {
   "cell_type": "code",
   "execution_count": 31,
   "metadata": {
    "vscode": {
     "languageId": "r"
    }
   },
   "outputs": [
    {
     "name": "stderr",
     "output_type": "stream",
     "text": [
      "\n",
      "Attaching package: ‘Hmisc’\n",
      "\n",
      "\n",
      "The following objects are masked from ‘package:plyr’:\n",
      "\n",
      "    is.discrete, summarize\n",
      "\n",
      "\n",
      "The following objects are masked from ‘package:base’:\n",
      "\n",
      "    format.pval, units\n",
      "\n",
      "\n"
     ]
    },
    {
     "data": {
      "text/html": [
       "<style>\n",
       ".list-inline {list-style: none; margin:0; padding: 0}\n",
       ".list-inline>li {display: inline-block}\n",
       ".list-inline>li:not(:last-child)::after {content: \"\\00b7\"; padding: 0 .5ex}\n",
       "</style>\n",
       "<ol class=list-inline><li>[ 1, 5)</li><li>[ 1, 5)</li><li>[ 1, 5)</li><li>[ 1, 5)</li><li>[ 5, 9)</li><li>[ 5, 9)</li><li>[ 5, 9)</li><li>[ 5, 9)</li><li>[ 9,13)</li><li>[ 9,13)</li><li>[ 9,13)</li><li>[ 9,13)</li><li>[13,17)</li><li>[13,17)</li><li>[13,17)</li><li>[13,17)</li><li>[17,20]</li><li>[17,20]</li><li>[17,20]</li><li>[17,20]</li></ol>\n",
       "\n",
       "<details>\n",
       "\t<summary style=display:list-item;cursor:pointer>\n",
       "\t\t<strong>Levels</strong>:\n",
       "\t</summary>\n",
       "\t<style>\n",
       "\t.list-inline {list-style: none; margin:0; padding: 0}\n",
       "\t.list-inline>li {display: inline-block}\n",
       "\t.list-inline>li:not(:last-child)::after {content: \"\\00b7\"; padding: 0 .5ex}\n",
       "\t</style>\n",
       "\t<ol class=list-inline><li>'[ 1, 5)'</li><li>'[ 5, 9)'</li><li>'[ 9,13)'</li><li>'[13,17)'</li><li>'[17,20]'</li></ol>\n",
       "</details>"
      ],
      "text/latex": [
       "\\begin{enumerate*}\n",
       "\\item {[} 1, 5)\n",
       "\\item {[} 1, 5)\n",
       "\\item {[} 1, 5)\n",
       "\\item {[} 1, 5)\n",
       "\\item {[} 5, 9)\n",
       "\\item {[} 5, 9)\n",
       "\\item {[} 5, 9)\n",
       "\\item {[} 5, 9)\n",
       "\\item {[} 9,13)\n",
       "\\item {[} 9,13)\n",
       "\\item {[} 9,13)\n",
       "\\item {[} 9,13)\n",
       "\\item {[}13,17)\n",
       "\\item {[}13,17)\n",
       "\\item {[}13,17)\n",
       "\\item {[}13,17)\n",
       "\\item {[}17,20{]}\n",
       "\\item {[}17,20{]}\n",
       "\\item {[}17,20{]}\n",
       "\\item {[}17,20{]}\n",
       "\\end{enumerate*}\n",
       "\n",
       "\\emph{Levels}: \\begin{enumerate*}\n",
       "\\item '{[} 1, 5)'\n",
       "\\item '{[} 5, 9)'\n",
       "\\item '{[} 9,13)'\n",
       "\\item '{[}13,17)'\n",
       "\\item '{[}17,20{]}'\n",
       "\\end{enumerate*}\n"
      ],
      "text/markdown": [
       "1. [ 1, 5)\n",
       "2. [ 1, 5)\n",
       "3. [ 1, 5)\n",
       "4. [ 1, 5)\n",
       "5. [ 5, 9)\n",
       "6. [ 5, 9)\n",
       "7. [ 5, 9)\n",
       "8. [ 5, 9)\n",
       "9. [ 9,13)\n",
       "10. [ 9,13)\n",
       "11. [ 9,13)\n",
       "12. [ 9,13)\n",
       "13. [13,17)\n",
       "14. [13,17)\n",
       "15. [13,17)\n",
       "16. [13,17)\n",
       "17. [17,20]\n",
       "18. [17,20]\n",
       "19. [17,20]\n",
       "20. [17,20]\n",
       "\n",
       "\n",
       "\n",
       "**Levels**: 1. '[ 1, 5)'\n",
       "2. '[ 5, 9)'\n",
       "3. '[ 9,13)'\n",
       "4. '[13,17)'\n",
       "5. '[17,20]'\n",
       "\n",
       "\n"
      ],
      "text/plain": [
       " [1] [ 1, 5) [ 1, 5) [ 1, 5) [ 1, 5) [ 5, 9) [ 5, 9) [ 5, 9) [ 5, 9) [ 9,13)\n",
       "[10] [ 9,13) [ 9,13) [ 9,13) [13,17) [13,17) [13,17) [13,17) [17,20] [17,20]\n",
       "[19] [17,20] [17,20]\n",
       "Levels: [ 1, 5) [ 5, 9) [ 9,13) [13,17) [17,20]"
      ]
     },
     "metadata": {},
     "output_type": "display_data"
    }
   ],
   "source": [
    "library(Hmisc)\n",
    "\n",
    "Hmisc::cut2(1:20, g = 5)\n"
   ]
  },
  {
   "cell_type": "code",
   "execution_count": 32,
   "metadata": {
    "vscode": {
     "languageId": "r"
    }
   },
   "outputs": [
    {
     "data": {
      "text/html": [
       "<style>\n",
       ".list-inline {list-style: none; margin:0; padding: 0}\n",
       ".list-inline>li {display: inline-block}\n",
       ".list-inline>li:not(:last-child)::after {content: \"\\00b7\"; padding: 0 .5ex}\n",
       "</style>\n",
       "<ol class=list-inline><li>[ 1, 5)</li><li>[ 1, 5)</li><li>[ 1, 5)</li><li>[ 1, 5)</li><li>[ 5, 9)</li><li>[ 5, 9)</li><li>[ 5, 9)</li><li>[ 5, 9)</li><li>[ 9,13)</li><li>[ 9,13)</li><li>[ 9,13)</li><li>[ 9,13)</li><li>[13,17)</li><li>[13,17)</li><li>[13,17)</li><li>[13,17)</li><li>[17,20]</li><li>[17,20]</li><li>[17,20]</li><li>[17,20]</li></ol>\n",
       "\n",
       "<details>\n",
       "\t<summary style=display:list-item;cursor:pointer>\n",
       "\t\t<strong>Levels</strong>:\n",
       "\t</summary>\n",
       "\t<style>\n",
       "\t.list-inline {list-style: none; margin:0; padding: 0}\n",
       "\t.list-inline>li {display: inline-block}\n",
       "\t.list-inline>li:not(:last-child)::after {content: \"\\00b7\"; padding: 0 .5ex}\n",
       "\t</style>\n",
       "\t<ol class=list-inline><li>'[ 1, 5)'</li><li>'[ 5, 9)'</li><li>'[ 9,13)'</li><li>'[13,17)'</li><li>'[17,20]'</li></ol>\n",
       "</details>"
      ],
      "text/latex": [
       "\\begin{enumerate*}\n",
       "\\item {[} 1, 5)\n",
       "\\item {[} 1, 5)\n",
       "\\item {[} 1, 5)\n",
       "\\item {[} 1, 5)\n",
       "\\item {[} 5, 9)\n",
       "\\item {[} 5, 9)\n",
       "\\item {[} 5, 9)\n",
       "\\item {[} 5, 9)\n",
       "\\item {[} 9,13)\n",
       "\\item {[} 9,13)\n",
       "\\item {[} 9,13)\n",
       "\\item {[} 9,13)\n",
       "\\item {[}13,17)\n",
       "\\item {[}13,17)\n",
       "\\item {[}13,17)\n",
       "\\item {[}13,17)\n",
       "\\item {[}17,20{]}\n",
       "\\item {[}17,20{]}\n",
       "\\item {[}17,20{]}\n",
       "\\item {[}17,20{]}\n",
       "\\end{enumerate*}\n",
       "\n",
       "\\emph{Levels}: \\begin{enumerate*}\n",
       "\\item '{[} 1, 5)'\n",
       "\\item '{[} 5, 9)'\n",
       "\\item '{[} 9,13)'\n",
       "\\item '{[}13,17)'\n",
       "\\item '{[}17,20{]}'\n",
       "\\end{enumerate*}\n"
      ],
      "text/markdown": [
       "1. [ 1, 5)\n",
       "2. [ 1, 5)\n",
       "3. [ 1, 5)\n",
       "4. [ 1, 5)\n",
       "5. [ 5, 9)\n",
       "6. [ 5, 9)\n",
       "7. [ 5, 9)\n",
       "8. [ 5, 9)\n",
       "9. [ 9,13)\n",
       "10. [ 9,13)\n",
       "11. [ 9,13)\n",
       "12. [ 9,13)\n",
       "13. [13,17)\n",
       "14. [13,17)\n",
       "15. [13,17)\n",
       "16. [13,17)\n",
       "17. [17,20]\n",
       "18. [17,20]\n",
       "19. [17,20]\n",
       "20. [17,20]\n",
       "\n",
       "\n",
       "\n",
       "**Levels**: 1. '[ 1, 5)'\n",
       "2. '[ 5, 9)'\n",
       "3. '[ 9,13)'\n",
       "4. '[13,17)'\n",
       "5. '[17,20]'\n",
       "\n",
       "\n"
      ],
      "text/plain": [
       " [1] [ 1, 5) [ 1, 5) [ 1, 5) [ 1, 5) [ 5, 9) [ 5, 9) [ 5, 9) [ 5, 9) [ 9,13)\n",
       "[10] [ 9,13) [ 9,13) [ 9,13) [13,17) [13,17) [13,17) [13,17) [17,20] [17,20]\n",
       "[19] [17,20] [17,20]\n",
       "Levels: [ 1, 5) [ 5, 9) [ 9,13) [13,17) [17,20]"
      ]
     },
     "metadata": {},
     "output_type": "display_data"
    }
   ],
   "source": [
    "Hmisc::cut2(1:20, cuts = c(1, 5, 9, 13, 17, 20))\n"
   ]
  },
  {
   "cell_type": "markdown",
   "metadata": {},
   "source": [
    "## 重塑数据-熔化\n"
   ]
  },
  {
   "cell_type": "code",
   "execution_count": 37,
   "metadata": {
    "vscode": {
     "languageId": "r"
    }
   },
   "outputs": [
    {
     "data": {
      "text/html": [
       "<table class=\"dataframe\">\n",
       "<caption>A data.frame: 2 × 12</caption>\n",
       "<thead>\n",
       "\t<tr><th></th><th scope=col>mpg</th><th scope=col>cyl</th><th scope=col>disp</th><th scope=col>hp</th><th scope=col>drat</th><th scope=col>wt</th><th scope=col>qsec</th><th scope=col>vs</th><th scope=col>am</th><th scope=col>gear</th><th scope=col>carb</th><th scope=col>carname</th></tr>\n",
       "\t<tr><th></th><th scope=col>&lt;dbl&gt;</th><th scope=col>&lt;dbl&gt;</th><th scope=col>&lt;dbl&gt;</th><th scope=col>&lt;dbl&gt;</th><th scope=col>&lt;dbl&gt;</th><th scope=col>&lt;dbl&gt;</th><th scope=col>&lt;dbl&gt;</th><th scope=col>&lt;dbl&gt;</th><th scope=col>&lt;dbl&gt;</th><th scope=col>&lt;dbl&gt;</th><th scope=col>&lt;dbl&gt;</th><th scope=col>&lt;chr&gt;</th></tr>\n",
       "</thead>\n",
       "<tbody>\n",
       "\t<tr><th scope=row>Mazda RX4</th><td>21</td><td>6</td><td>160</td><td>110</td><td>3.9</td><td>2.620</td><td>16.46</td><td>0</td><td>1</td><td>4</td><td>4</td><td>Mazda RX4    </td></tr>\n",
       "\t<tr><th scope=row>Mazda RX4 Wag</th><td>21</td><td>6</td><td>160</td><td>110</td><td>3.9</td><td>2.875</td><td>17.02</td><td>0</td><td>1</td><td>4</td><td>4</td><td>Mazda RX4 Wag</td></tr>\n",
       "</tbody>\n",
       "</table>\n"
      ],
      "text/latex": [
       "A data.frame: 2 × 12\n",
       "\\begin{tabular}{r|llllllllllll}\n",
       "  & mpg & cyl & disp & hp & drat & wt & qsec & vs & am & gear & carb & carname\\\\\n",
       "  & <dbl> & <dbl> & <dbl> & <dbl> & <dbl> & <dbl> & <dbl> & <dbl> & <dbl> & <dbl> & <dbl> & <chr>\\\\\n",
       "\\hline\n",
       "\tMazda RX4 & 21 & 6 & 160 & 110 & 3.9 & 2.620 & 16.46 & 0 & 1 & 4 & 4 & Mazda RX4    \\\\\n",
       "\tMazda RX4 Wag & 21 & 6 & 160 & 110 & 3.9 & 2.875 & 17.02 & 0 & 1 & 4 & 4 & Mazda RX4 Wag\\\\\n",
       "\\end{tabular}\n"
      ],
      "text/markdown": [
       "\n",
       "A data.frame: 2 × 12\n",
       "\n",
       "| <!--/--> | mpg &lt;dbl&gt; | cyl &lt;dbl&gt; | disp &lt;dbl&gt; | hp &lt;dbl&gt; | drat &lt;dbl&gt; | wt &lt;dbl&gt; | qsec &lt;dbl&gt; | vs &lt;dbl&gt; | am &lt;dbl&gt; | gear &lt;dbl&gt; | carb &lt;dbl&gt; | carname &lt;chr&gt; |\n",
       "|---|---|---|---|---|---|---|---|---|---|---|---|---|\n",
       "| Mazda RX4 | 21 | 6 | 160 | 110 | 3.9 | 2.620 | 16.46 | 0 | 1 | 4 | 4 | Mazda RX4     |\n",
       "| Mazda RX4 Wag | 21 | 6 | 160 | 110 | 3.9 | 2.875 | 17.02 | 0 | 1 | 4 | 4 | Mazda RX4 Wag |\n",
       "\n"
      ],
      "text/plain": [
       "              mpg cyl disp hp  drat wt    qsec  vs am gear carb carname      \n",
       "Mazda RX4     21  6   160  110 3.9  2.620 16.46 0  1  4    4    Mazda RX4    \n",
       "Mazda RX4 Wag 21  6   160  110 3.9  2.875 17.02 0  1  4    4    Mazda RX4 Wag"
      ]
     },
     "metadata": {},
     "output_type": "display_data"
    }
   ],
   "source": [
    "library(reshape2)\n",
    "head(mtcars, 2)\n"
   ]
  },
  {
   "cell_type": "code",
   "execution_count": 41,
   "metadata": {
    "vscode": {
     "languageId": "r"
    }
   },
   "outputs": [
    {
     "data": {
      "text/html": [
       "12"
      ],
      "text/latex": [
       "12"
      ],
      "text/markdown": [
       "12"
      ],
      "text/plain": [
       "[1] 12"
      ]
     },
     "metadata": {},
     "output_type": "display_data"
    }
   ],
   "source": [
    "mtcars$carname <- rownames(mtcars)\n",
    "length(mtcars)\n"
   ]
  },
  {
   "cell_type": "markdown",
   "metadata": {},
   "source": [
    "melt\n",
    "\n",
    "data：要转换的数据框；      \n",
    "id.vars：指定哪些列是标识符，不需要被转换；     \n",
    "measure.vars：指定哪些列需要被转换；      \n",
    "variable.name：新列的列名，默认为“variable”；      \n",
    "value.name：新列中数值的列名，默认为“value”。     "
   ]
  },
  {
   "cell_type": "code",
   "execution_count": 44,
   "metadata": {
    "vscode": {
     "languageId": "r"
    }
   },
   "outputs": [
    {
     "data": {
      "text/html": [
       "5"
      ],
      "text/latex": [
       "5"
      ],
      "text/markdown": [
       "5"
      ],
      "text/plain": [
       "[1] 5"
      ]
     },
     "metadata": {},
     "output_type": "display_data"
    },
    {
     "data": {
      "text/html": [
       "<table class=\"dataframe\">\n",
       "<caption>A data.frame: 64 × 5</caption>\n",
       "<thead>\n",
       "\t<tr><th scope=col>carname</th><th scope=col>gear</th><th scope=col>cyl</th><th scope=col>variable</th><th scope=col>value</th></tr>\n",
       "\t<tr><th scope=col>&lt;chr&gt;</th><th scope=col>&lt;dbl&gt;</th><th scope=col>&lt;dbl&gt;</th><th scope=col>&lt;fct&gt;</th><th scope=col>&lt;dbl&gt;</th></tr>\n",
       "</thead>\n",
       "<tbody>\n",
       "\t<tr><td>Mazda RX4          </td><td>4</td><td>6</td><td>mpg</td><td>21.0</td></tr>\n",
       "\t<tr><td>Mazda RX4 Wag      </td><td>4</td><td>6</td><td>mpg</td><td>21.0</td></tr>\n",
       "\t<tr><td>Datsun 710         </td><td>4</td><td>4</td><td>mpg</td><td>22.8</td></tr>\n",
       "\t<tr><td>Hornet 4 Drive     </td><td>3</td><td>6</td><td>mpg</td><td>21.4</td></tr>\n",
       "\t<tr><td>Hornet Sportabout  </td><td>3</td><td>8</td><td>mpg</td><td>18.7</td></tr>\n",
       "\t<tr><td>Valiant            </td><td>3</td><td>6</td><td>mpg</td><td>18.1</td></tr>\n",
       "\t<tr><td>Duster 360         </td><td>3</td><td>8</td><td>mpg</td><td>14.3</td></tr>\n",
       "\t<tr><td>Merc 240D          </td><td>4</td><td>4</td><td>mpg</td><td>24.4</td></tr>\n",
       "\t<tr><td>Merc 230           </td><td>4</td><td>4</td><td>mpg</td><td>22.8</td></tr>\n",
       "\t<tr><td>Merc 280           </td><td>4</td><td>6</td><td>mpg</td><td>19.2</td></tr>\n",
       "\t<tr><td>Merc 280C          </td><td>4</td><td>6</td><td>mpg</td><td>17.8</td></tr>\n",
       "\t<tr><td>Merc 450SE         </td><td>3</td><td>8</td><td>mpg</td><td>16.4</td></tr>\n",
       "\t<tr><td>Merc 450SL         </td><td>3</td><td>8</td><td>mpg</td><td>17.3</td></tr>\n",
       "\t<tr><td>Merc 450SLC        </td><td>3</td><td>8</td><td>mpg</td><td>15.2</td></tr>\n",
       "\t<tr><td>Cadillac Fleetwood </td><td>3</td><td>8</td><td>mpg</td><td>10.4</td></tr>\n",
       "\t<tr><td>Lincoln Continental</td><td>3</td><td>8</td><td>mpg</td><td>10.4</td></tr>\n",
       "\t<tr><td>Chrysler Imperial  </td><td>3</td><td>8</td><td>mpg</td><td>14.7</td></tr>\n",
       "\t<tr><td>Fiat 128           </td><td>4</td><td>4</td><td>mpg</td><td>32.4</td></tr>\n",
       "\t<tr><td>Honda Civic        </td><td>4</td><td>4</td><td>mpg</td><td>30.4</td></tr>\n",
       "\t<tr><td>Toyota Corolla     </td><td>4</td><td>4</td><td>mpg</td><td>33.9</td></tr>\n",
       "\t<tr><td>Toyota Corona      </td><td>3</td><td>4</td><td>mpg</td><td>21.5</td></tr>\n",
       "\t<tr><td>Dodge Challenger   </td><td>3</td><td>8</td><td>mpg</td><td>15.5</td></tr>\n",
       "\t<tr><td>AMC Javelin        </td><td>3</td><td>8</td><td>mpg</td><td>15.2</td></tr>\n",
       "\t<tr><td>Camaro Z28         </td><td>3</td><td>8</td><td>mpg</td><td>13.3</td></tr>\n",
       "\t<tr><td>Pontiac Firebird   </td><td>3</td><td>8</td><td>mpg</td><td>19.2</td></tr>\n",
       "\t<tr><td>Fiat X1-9          </td><td>4</td><td>4</td><td>mpg</td><td>27.3</td></tr>\n",
       "\t<tr><td>Porsche 914-2      </td><td>5</td><td>4</td><td>mpg</td><td>26.0</td></tr>\n",
       "\t<tr><td>Lotus Europa       </td><td>5</td><td>4</td><td>mpg</td><td>30.4</td></tr>\n",
       "\t<tr><td>Ford Pantera L     </td><td>5</td><td>8</td><td>mpg</td><td>15.8</td></tr>\n",
       "\t<tr><td>Ferrari Dino       </td><td>5</td><td>6</td><td>mpg</td><td>19.7</td></tr>\n",
       "\t<tr><td>⋮</td><td>⋮</td><td>⋮</td><td>⋮</td><td>⋮</td></tr>\n",
       "\t<tr><td>Datsun 710         </td><td>4</td><td>4</td><td>hp</td><td> 93</td></tr>\n",
       "\t<tr><td>Hornet 4 Drive     </td><td>3</td><td>6</td><td>hp</td><td>110</td></tr>\n",
       "\t<tr><td>Hornet Sportabout  </td><td>3</td><td>8</td><td>hp</td><td>175</td></tr>\n",
       "\t<tr><td>Valiant            </td><td>3</td><td>6</td><td>hp</td><td>105</td></tr>\n",
       "\t<tr><td>Duster 360         </td><td>3</td><td>8</td><td>hp</td><td>245</td></tr>\n",
       "\t<tr><td>Merc 240D          </td><td>4</td><td>4</td><td>hp</td><td> 62</td></tr>\n",
       "\t<tr><td>Merc 230           </td><td>4</td><td>4</td><td>hp</td><td> 95</td></tr>\n",
       "\t<tr><td>Merc 280           </td><td>4</td><td>6</td><td>hp</td><td>123</td></tr>\n",
       "\t<tr><td>Merc 280C          </td><td>4</td><td>6</td><td>hp</td><td>123</td></tr>\n",
       "\t<tr><td>Merc 450SE         </td><td>3</td><td>8</td><td>hp</td><td>180</td></tr>\n",
       "\t<tr><td>Merc 450SL         </td><td>3</td><td>8</td><td>hp</td><td>180</td></tr>\n",
       "\t<tr><td>Merc 450SLC        </td><td>3</td><td>8</td><td>hp</td><td>180</td></tr>\n",
       "\t<tr><td>Cadillac Fleetwood </td><td>3</td><td>8</td><td>hp</td><td>205</td></tr>\n",
       "\t<tr><td>Lincoln Continental</td><td>3</td><td>8</td><td>hp</td><td>215</td></tr>\n",
       "\t<tr><td>Chrysler Imperial  </td><td>3</td><td>8</td><td>hp</td><td>230</td></tr>\n",
       "\t<tr><td>Fiat 128           </td><td>4</td><td>4</td><td>hp</td><td> 66</td></tr>\n",
       "\t<tr><td>Honda Civic        </td><td>4</td><td>4</td><td>hp</td><td> 52</td></tr>\n",
       "\t<tr><td>Toyota Corolla     </td><td>4</td><td>4</td><td>hp</td><td> 65</td></tr>\n",
       "\t<tr><td>Toyota Corona      </td><td>3</td><td>4</td><td>hp</td><td> 97</td></tr>\n",
       "\t<tr><td>Dodge Challenger   </td><td>3</td><td>8</td><td>hp</td><td>150</td></tr>\n",
       "\t<tr><td>AMC Javelin        </td><td>3</td><td>8</td><td>hp</td><td>150</td></tr>\n",
       "\t<tr><td>Camaro Z28         </td><td>3</td><td>8</td><td>hp</td><td>245</td></tr>\n",
       "\t<tr><td>Pontiac Firebird   </td><td>3</td><td>8</td><td>hp</td><td>175</td></tr>\n",
       "\t<tr><td>Fiat X1-9          </td><td>4</td><td>4</td><td>hp</td><td> 66</td></tr>\n",
       "\t<tr><td>Porsche 914-2      </td><td>5</td><td>4</td><td>hp</td><td> 91</td></tr>\n",
       "\t<tr><td>Lotus Europa       </td><td>5</td><td>4</td><td>hp</td><td>113</td></tr>\n",
       "\t<tr><td>Ford Pantera L     </td><td>5</td><td>8</td><td>hp</td><td>264</td></tr>\n",
       "\t<tr><td>Ferrari Dino       </td><td>5</td><td>6</td><td>hp</td><td>175</td></tr>\n",
       "\t<tr><td>Maserati Bora      </td><td>5</td><td>8</td><td>hp</td><td>335</td></tr>\n",
       "\t<tr><td>Volvo 142E         </td><td>4</td><td>4</td><td>hp</td><td>109</td></tr>\n",
       "</tbody>\n",
       "</table>\n"
      ],
      "text/latex": [
       "A data.frame: 64 × 5\n",
       "\\begin{tabular}{lllll}\n",
       " carname & gear & cyl & variable & value\\\\\n",
       " <chr> & <dbl> & <dbl> & <fct> & <dbl>\\\\\n",
       "\\hline\n",
       "\t Mazda RX4           & 4 & 6 & mpg & 21.0\\\\\n",
       "\t Mazda RX4 Wag       & 4 & 6 & mpg & 21.0\\\\\n",
       "\t Datsun 710          & 4 & 4 & mpg & 22.8\\\\\n",
       "\t Hornet 4 Drive      & 3 & 6 & mpg & 21.4\\\\\n",
       "\t Hornet Sportabout   & 3 & 8 & mpg & 18.7\\\\\n",
       "\t Valiant             & 3 & 6 & mpg & 18.1\\\\\n",
       "\t Duster 360          & 3 & 8 & mpg & 14.3\\\\\n",
       "\t Merc 240D           & 4 & 4 & mpg & 24.4\\\\\n",
       "\t Merc 230            & 4 & 4 & mpg & 22.8\\\\\n",
       "\t Merc 280            & 4 & 6 & mpg & 19.2\\\\\n",
       "\t Merc 280C           & 4 & 6 & mpg & 17.8\\\\\n",
       "\t Merc 450SE          & 3 & 8 & mpg & 16.4\\\\\n",
       "\t Merc 450SL          & 3 & 8 & mpg & 17.3\\\\\n",
       "\t Merc 450SLC         & 3 & 8 & mpg & 15.2\\\\\n",
       "\t Cadillac Fleetwood  & 3 & 8 & mpg & 10.4\\\\\n",
       "\t Lincoln Continental & 3 & 8 & mpg & 10.4\\\\\n",
       "\t Chrysler Imperial   & 3 & 8 & mpg & 14.7\\\\\n",
       "\t Fiat 128            & 4 & 4 & mpg & 32.4\\\\\n",
       "\t Honda Civic         & 4 & 4 & mpg & 30.4\\\\\n",
       "\t Toyota Corolla      & 4 & 4 & mpg & 33.9\\\\\n",
       "\t Toyota Corona       & 3 & 4 & mpg & 21.5\\\\\n",
       "\t Dodge Challenger    & 3 & 8 & mpg & 15.5\\\\\n",
       "\t AMC Javelin         & 3 & 8 & mpg & 15.2\\\\\n",
       "\t Camaro Z28          & 3 & 8 & mpg & 13.3\\\\\n",
       "\t Pontiac Firebird    & 3 & 8 & mpg & 19.2\\\\\n",
       "\t Fiat X1-9           & 4 & 4 & mpg & 27.3\\\\\n",
       "\t Porsche 914-2       & 5 & 4 & mpg & 26.0\\\\\n",
       "\t Lotus Europa        & 5 & 4 & mpg & 30.4\\\\\n",
       "\t Ford Pantera L      & 5 & 8 & mpg & 15.8\\\\\n",
       "\t Ferrari Dino        & 5 & 6 & mpg & 19.7\\\\\n",
       "\t ⋮ & ⋮ & ⋮ & ⋮ & ⋮\\\\\n",
       "\t Datsun 710          & 4 & 4 & hp &  93\\\\\n",
       "\t Hornet 4 Drive      & 3 & 6 & hp & 110\\\\\n",
       "\t Hornet Sportabout   & 3 & 8 & hp & 175\\\\\n",
       "\t Valiant             & 3 & 6 & hp & 105\\\\\n",
       "\t Duster 360          & 3 & 8 & hp & 245\\\\\n",
       "\t Merc 240D           & 4 & 4 & hp &  62\\\\\n",
       "\t Merc 230            & 4 & 4 & hp &  95\\\\\n",
       "\t Merc 280            & 4 & 6 & hp & 123\\\\\n",
       "\t Merc 280C           & 4 & 6 & hp & 123\\\\\n",
       "\t Merc 450SE          & 3 & 8 & hp & 180\\\\\n",
       "\t Merc 450SL          & 3 & 8 & hp & 180\\\\\n",
       "\t Merc 450SLC         & 3 & 8 & hp & 180\\\\\n",
       "\t Cadillac Fleetwood  & 3 & 8 & hp & 205\\\\\n",
       "\t Lincoln Continental & 3 & 8 & hp & 215\\\\\n",
       "\t Chrysler Imperial   & 3 & 8 & hp & 230\\\\\n",
       "\t Fiat 128            & 4 & 4 & hp &  66\\\\\n",
       "\t Honda Civic         & 4 & 4 & hp &  52\\\\\n",
       "\t Toyota Corolla      & 4 & 4 & hp &  65\\\\\n",
       "\t Toyota Corona       & 3 & 4 & hp &  97\\\\\n",
       "\t Dodge Challenger    & 3 & 8 & hp & 150\\\\\n",
       "\t AMC Javelin         & 3 & 8 & hp & 150\\\\\n",
       "\t Camaro Z28          & 3 & 8 & hp & 245\\\\\n",
       "\t Pontiac Firebird    & 3 & 8 & hp & 175\\\\\n",
       "\t Fiat X1-9           & 4 & 4 & hp &  66\\\\\n",
       "\t Porsche 914-2       & 5 & 4 & hp &  91\\\\\n",
       "\t Lotus Europa        & 5 & 4 & hp & 113\\\\\n",
       "\t Ford Pantera L      & 5 & 8 & hp & 264\\\\\n",
       "\t Ferrari Dino        & 5 & 6 & hp & 175\\\\\n",
       "\t Maserati Bora       & 5 & 8 & hp & 335\\\\\n",
       "\t Volvo 142E          & 4 & 4 & hp & 109\\\\\n",
       "\\end{tabular}\n"
      ],
      "text/markdown": [
       "\n",
       "A data.frame: 64 × 5\n",
       "\n",
       "| carname &lt;chr&gt; | gear &lt;dbl&gt; | cyl &lt;dbl&gt; | variable &lt;fct&gt; | value &lt;dbl&gt; |\n",
       "|---|---|---|---|---|\n",
       "| Mazda RX4           | 4 | 6 | mpg | 21.0 |\n",
       "| Mazda RX4 Wag       | 4 | 6 | mpg | 21.0 |\n",
       "| Datsun 710          | 4 | 4 | mpg | 22.8 |\n",
       "| Hornet 4 Drive      | 3 | 6 | mpg | 21.4 |\n",
       "| Hornet Sportabout   | 3 | 8 | mpg | 18.7 |\n",
       "| Valiant             | 3 | 6 | mpg | 18.1 |\n",
       "| Duster 360          | 3 | 8 | mpg | 14.3 |\n",
       "| Merc 240D           | 4 | 4 | mpg | 24.4 |\n",
       "| Merc 230            | 4 | 4 | mpg | 22.8 |\n",
       "| Merc 280            | 4 | 6 | mpg | 19.2 |\n",
       "| Merc 280C           | 4 | 6 | mpg | 17.8 |\n",
       "| Merc 450SE          | 3 | 8 | mpg | 16.4 |\n",
       "| Merc 450SL          | 3 | 8 | mpg | 17.3 |\n",
       "| Merc 450SLC         | 3 | 8 | mpg | 15.2 |\n",
       "| Cadillac Fleetwood  | 3 | 8 | mpg | 10.4 |\n",
       "| Lincoln Continental | 3 | 8 | mpg | 10.4 |\n",
       "| Chrysler Imperial   | 3 | 8 | mpg | 14.7 |\n",
       "| Fiat 128            | 4 | 4 | mpg | 32.4 |\n",
       "| Honda Civic         | 4 | 4 | mpg | 30.4 |\n",
       "| Toyota Corolla      | 4 | 4 | mpg | 33.9 |\n",
       "| Toyota Corona       | 3 | 4 | mpg | 21.5 |\n",
       "| Dodge Challenger    | 3 | 8 | mpg | 15.5 |\n",
       "| AMC Javelin         | 3 | 8 | mpg | 15.2 |\n",
       "| Camaro Z28          | 3 | 8 | mpg | 13.3 |\n",
       "| Pontiac Firebird    | 3 | 8 | mpg | 19.2 |\n",
       "| Fiat X1-9           | 4 | 4 | mpg | 27.3 |\n",
       "| Porsche 914-2       | 5 | 4 | mpg | 26.0 |\n",
       "| Lotus Europa        | 5 | 4 | mpg | 30.4 |\n",
       "| Ford Pantera L      | 5 | 8 | mpg | 15.8 |\n",
       "| Ferrari Dino        | 5 | 6 | mpg | 19.7 |\n",
       "| ⋮ | ⋮ | ⋮ | ⋮ | ⋮ |\n",
       "| Datsun 710          | 4 | 4 | hp |  93 |\n",
       "| Hornet 4 Drive      | 3 | 6 | hp | 110 |\n",
       "| Hornet Sportabout   | 3 | 8 | hp | 175 |\n",
       "| Valiant             | 3 | 6 | hp | 105 |\n",
       "| Duster 360          | 3 | 8 | hp | 245 |\n",
       "| Merc 240D           | 4 | 4 | hp |  62 |\n",
       "| Merc 230            | 4 | 4 | hp |  95 |\n",
       "| Merc 280            | 4 | 6 | hp | 123 |\n",
       "| Merc 280C           | 4 | 6 | hp | 123 |\n",
       "| Merc 450SE          | 3 | 8 | hp | 180 |\n",
       "| Merc 450SL          | 3 | 8 | hp | 180 |\n",
       "| Merc 450SLC         | 3 | 8 | hp | 180 |\n",
       "| Cadillac Fleetwood  | 3 | 8 | hp | 205 |\n",
       "| Lincoln Continental | 3 | 8 | hp | 215 |\n",
       "| Chrysler Imperial   | 3 | 8 | hp | 230 |\n",
       "| Fiat 128            | 4 | 4 | hp |  66 |\n",
       "| Honda Civic         | 4 | 4 | hp |  52 |\n",
       "| Toyota Corolla      | 4 | 4 | hp |  65 |\n",
       "| Toyota Corona       | 3 | 4 | hp |  97 |\n",
       "| Dodge Challenger    | 3 | 8 | hp | 150 |\n",
       "| AMC Javelin         | 3 | 8 | hp | 150 |\n",
       "| Camaro Z28          | 3 | 8 | hp | 245 |\n",
       "| Pontiac Firebird    | 3 | 8 | hp | 175 |\n",
       "| Fiat X1-9           | 4 | 4 | hp |  66 |\n",
       "| Porsche 914-2       | 5 | 4 | hp |  91 |\n",
       "| Lotus Europa        | 5 | 4 | hp | 113 |\n",
       "| Ford Pantera L      | 5 | 8 | hp | 264 |\n",
       "| Ferrari Dino        | 5 | 6 | hp | 175 |\n",
       "| Maserati Bora       | 5 | 8 | hp | 335 |\n",
       "| Volvo 142E          | 4 | 4 | hp | 109 |\n",
       "\n"
      ],
      "text/plain": [
       "   carname             gear cyl variable value\n",
       "1  Mazda RX4           4    6   mpg      21.0 \n",
       "2  Mazda RX4 Wag       4    6   mpg      21.0 \n",
       "3  Datsun 710          4    4   mpg      22.8 \n",
       "4  Hornet 4 Drive      3    6   mpg      21.4 \n",
       "5  Hornet Sportabout   3    8   mpg      18.7 \n",
       "6  Valiant             3    6   mpg      18.1 \n",
       "7  Duster 360          3    8   mpg      14.3 \n",
       "8  Merc 240D           4    4   mpg      24.4 \n",
       "9  Merc 230            4    4   mpg      22.8 \n",
       "10 Merc 280            4    6   mpg      19.2 \n",
       "11 Merc 280C           4    6   mpg      17.8 \n",
       "12 Merc 450SE          3    8   mpg      16.4 \n",
       "13 Merc 450SL          3    8   mpg      17.3 \n",
       "14 Merc 450SLC         3    8   mpg      15.2 \n",
       "15 Cadillac Fleetwood  3    8   mpg      10.4 \n",
       "16 Lincoln Continental 3    8   mpg      10.4 \n",
       "17 Chrysler Imperial   3    8   mpg      14.7 \n",
       "18 Fiat 128            4    4   mpg      32.4 \n",
       "19 Honda Civic         4    4   mpg      30.4 \n",
       "20 Toyota Corolla      4    4   mpg      33.9 \n",
       "21 Toyota Corona       3    4   mpg      21.5 \n",
       "22 Dodge Challenger    3    8   mpg      15.5 \n",
       "23 AMC Javelin         3    8   mpg      15.2 \n",
       "24 Camaro Z28          3    8   mpg      13.3 \n",
       "25 Pontiac Firebird    3    8   mpg      19.2 \n",
       "26 Fiat X1-9           4    4   mpg      27.3 \n",
       "27 Porsche 914-2       5    4   mpg      26.0 \n",
       "28 Lotus Europa        5    4   mpg      30.4 \n",
       "29 Ford Pantera L      5    8   mpg      15.8 \n",
       "30 Ferrari Dino        5    6   mpg      19.7 \n",
       "⋮  ⋮                   ⋮    ⋮   ⋮        ⋮    \n",
       "35 Datsun 710          4    4   hp        93  \n",
       "36 Hornet 4 Drive      3    6   hp       110  \n",
       "37 Hornet Sportabout   3    8   hp       175  \n",
       "38 Valiant             3    6   hp       105  \n",
       "39 Duster 360          3    8   hp       245  \n",
       "40 Merc 240D           4    4   hp        62  \n",
       "41 Merc 230            4    4   hp        95  \n",
       "42 Merc 280            4    6   hp       123  \n",
       "43 Merc 280C           4    6   hp       123  \n",
       "44 Merc 450SE          3    8   hp       180  \n",
       "45 Merc 450SL          3    8   hp       180  \n",
       "46 Merc 450SLC         3    8   hp       180  \n",
       "47 Cadillac Fleetwood  3    8   hp       205  \n",
       "48 Lincoln Continental 3    8   hp       215  \n",
       "49 Chrysler Imperial   3    8   hp       230  \n",
       "50 Fiat 128            4    4   hp        66  \n",
       "51 Honda Civic         4    4   hp        52  \n",
       "52 Toyota Corolla      4    4   hp        65  \n",
       "53 Toyota Corona       3    4   hp        97  \n",
       "54 Dodge Challenger    3    8   hp       150  \n",
       "55 AMC Javelin         3    8   hp       150  \n",
       "56 Camaro Z28          3    8   hp       245  \n",
       "57 Pontiac Firebird    3    8   hp       175  \n",
       "58 Fiat X1-9           4    4   hp        66  \n",
       "59 Porsche 914-2       5    4   hp        91  \n",
       "60 Lotus Europa        5    4   hp       113  \n",
       "61 Ford Pantera L      5    8   hp       264  \n",
       "62 Ferrari Dino        5    6   hp       175  \n",
       "63 Maserati Bora       5    8   hp       335  \n",
       "64 Volvo 142E          4    4   hp       109  "
      ]
     },
     "metadata": {},
     "output_type": "display_data"
    }
   ],
   "source": [
    "carMelt <- melt(mtcars,\n",
    "    id.vars = c(\"carname\", \"gear\", \"cyl\"),\n",
    "    measure.vars = c(\"mpg\", \"hp\")\n",
    ")\n",
    "length(carMelt)\n",
    "carMelt\n"
   ]
  },
  {
   "cell_type": "code",
   "execution_count": 47,
   "metadata": {
    "vscode": {
     "languageId": "r"
    }
   },
   "outputs": [
    {
     "data": {
      "text/html": [
       "<table class=\"dataframe\">\n",
       "<caption>A data.frame: 3 × 5</caption>\n",
       "<thead>\n",
       "\t<tr><th></th><th scope=col>carname</th><th scope=col>gear</th><th scope=col>cyl</th><th scope=col>variable</th><th scope=col>value</th></tr>\n",
       "\t<tr><th></th><th scope=col>&lt;chr&gt;</th><th scope=col>&lt;dbl&gt;</th><th scope=col>&lt;dbl&gt;</th><th scope=col>&lt;fct&gt;</th><th scope=col>&lt;dbl&gt;</th></tr>\n",
       "</thead>\n",
       "<tbody>\n",
       "\t<tr><th scope=row>1</th><td>Mazda RX4    </td><td>4</td><td>6</td><td>mpg</td><td>21.0</td></tr>\n",
       "\t<tr><th scope=row>2</th><td>Mazda RX4 Wag</td><td>4</td><td>6</td><td>mpg</td><td>21.0</td></tr>\n",
       "\t<tr><th scope=row>3</th><td>Datsun 710   </td><td>4</td><td>4</td><td>mpg</td><td>22.8</td></tr>\n",
       "</tbody>\n",
       "</table>\n"
      ],
      "text/latex": [
       "A data.frame: 3 × 5\n",
       "\\begin{tabular}{r|lllll}\n",
       "  & carname & gear & cyl & variable & value\\\\\n",
       "  & <chr> & <dbl> & <dbl> & <fct> & <dbl>\\\\\n",
       "\\hline\n",
       "\t1 & Mazda RX4     & 4 & 6 & mpg & 21.0\\\\\n",
       "\t2 & Mazda RX4 Wag & 4 & 6 & mpg & 21.0\\\\\n",
       "\t3 & Datsun 710    & 4 & 4 & mpg & 22.8\\\\\n",
       "\\end{tabular}\n"
      ],
      "text/markdown": [
       "\n",
       "A data.frame: 3 × 5\n",
       "\n",
       "| <!--/--> | carname &lt;chr&gt; | gear &lt;dbl&gt; | cyl &lt;dbl&gt; | variable &lt;fct&gt; | value &lt;dbl&gt; |\n",
       "|---|---|---|---|---|---|\n",
       "| 1 | Mazda RX4     | 4 | 6 | mpg | 21.0 |\n",
       "| 2 | Mazda RX4 Wag | 4 | 6 | mpg | 21.0 |\n",
       "| 3 | Datsun 710    | 4 | 4 | mpg | 22.8 |\n",
       "\n"
      ],
      "text/plain": [
       "  carname       gear cyl variable value\n",
       "1 Mazda RX4     4    6   mpg      21.0 \n",
       "2 Mazda RX4 Wag 4    6   mpg      21.0 \n",
       "3 Datsun 710    4    4   mpg      22.8 "
      ]
     },
     "metadata": {},
     "output_type": "display_data"
    }
   ],
   "source": [
    "head(carMelt, n = 3)\n"
   ]
  },
  {
   "cell_type": "code",
   "execution_count": 48,
   "metadata": {
    "vscode": {
     "languageId": "r"
    }
   },
   "outputs": [
    {
     "data": {
      "text/html": [
       "<pre class=language-r><code>function (data, formula, fun.aggregate = NULL, ..., margins = NULL, \n",
       "<span style=white-space:pre-wrap>    subset = NULL, fill = NULL, drop = TRUE, value.var = guess_value(data)) </span>\n",
       "{\n",
       "<span style=white-space:pre-wrap>    formula &lt;- parse_formula(formula, names(data), value.var)</span>\n",
       "<span style=white-space:pre-wrap>    if (length(formula) &gt; 2) {</span>\n",
       "<span style=white-space:pre-wrap>        stop(\"Dataframes have at most two output dimensions\")</span>\n",
       "<span style=white-space:pre-wrap>    }</span>\n",
       "<span style=white-space:pre-wrap>    if (!is.null(margins)) {</span>\n",
       "<span style=white-space:pre-wrap>        data &lt;- add_margins(data, lapply(formula, names), margins)</span>\n",
       "<span style=white-space:pre-wrap>    }</span>\n",
       "<span style=white-space:pre-wrap>    res &lt;- cast(data, formula, fun.aggregate, ..., subset = subset, </span>\n",
       "<span style=white-space:pre-wrap>        fill = fill, drop = drop, value.var = value.var)</span>\n",
       "<span style=white-space:pre-wrap>    data &lt;- as.data.frame.matrix(res$data, stringsAsFactors = FALSE)</span>\n",
       "<span style=white-space:pre-wrap>    names(data) &lt;- array_names(res$labels[[2]])</span>\n",
       "<span style=white-space:pre-wrap>    stopifnot(nrow(res$labels[[1]]) == nrow(data))</span>\n",
       "<span style=white-space:pre-wrap>    cbind(res$labels[[1]], data)</span>\n",
       "}</code></pre>"
      ],
      "text/latex": [
       "\\begin{minted}{r}\n",
       "function (data, formula, fun.aggregate = NULL, ..., margins = NULL, \n",
       "    subset = NULL, fill = NULL, drop = TRUE, value.var = guess\\_value(data)) \n",
       "\\{\n",
       "    formula <- parse\\_formula(formula, names(data), value.var)\n",
       "    if (length(formula) > 2) \\{\n",
       "        stop(\"Dataframes have at most two output dimensions\")\n",
       "    \\}\n",
       "    if (!is.null(margins)) \\{\n",
       "        data <- add\\_margins(data, lapply(formula, names), margins)\n",
       "    \\}\n",
       "    res <- cast(data, formula, fun.aggregate, ..., subset = subset, \n",
       "        fill = fill, drop = drop, value.var = value.var)\n",
       "    data <- as.data.frame.matrix(res\\$data, stringsAsFactors = FALSE)\n",
       "    names(data) <- array\\_names(res\\$labels{[}{[}2{]}{]})\n",
       "    stopifnot(nrow(res\\$labels{[}{[}1{]}{]}) == nrow(data))\n",
       "    cbind(res\\$labels{[}{[}1{]}{]}, data)\n",
       "\\}\n",
       "\\end{minted}"
      ],
      "text/markdown": [
       "```r\n",
       "function (data, formula, fun.aggregate = NULL, ..., margins = NULL, \n",
       "    subset = NULL, fill = NULL, drop = TRUE, value.var = guess_value(data)) \n",
       "{\n",
       "    formula <- parse_formula(formula, names(data), value.var)\n",
       "    if (length(formula) > 2) {\n",
       "        stop(\"Dataframes have at most two output dimensions\")\n",
       "    }\n",
       "    if (!is.null(margins)) {\n",
       "        data <- add_margins(data, lapply(formula, names), margins)\n",
       "    }\n",
       "    res <- cast(data, formula, fun.aggregate, ..., subset = subset, \n",
       "        fill = fill, drop = drop, value.var = value.var)\n",
       "    data <- as.data.frame.matrix(res$data, stringsAsFactors = FALSE)\n",
       "    names(data) <- array_names(res$labels[[2]])\n",
       "    stopifnot(nrow(res$labels[[1]]) == nrow(data))\n",
       "    cbind(res$labels[[1]], data)\n",
       "}\n",
       "```"
      ],
      "text/plain": [
       "function (data, formula, fun.aggregate = NULL, ..., margins = NULL, \n",
       "    subset = NULL, fill = NULL, drop = TRUE, value.var = guess_value(data)) \n",
       "{\n",
       "    formula <- parse_formula(formula, names(data), value.var)\n",
       "    if (length(formula) > 2) {\n",
       "        stop(\"Dataframes have at most two output dimensions\")\n",
       "    }\n",
       "    if (!is.null(margins)) {\n",
       "        data <- add_margins(data, lapply(formula, names), margins)\n",
       "    }\n",
       "    res <- cast(data, formula, fun.aggregate, ..., subset = subset, \n",
       "        fill = fill, drop = drop, value.var = value.var)\n",
       "    data <- as.data.frame.matrix(res$data, stringsAsFactors = FALSE)\n",
       "    names(data) <- array_names(res$labels[[2]])\n",
       "    stopifnot(nrow(res$labels[[1]]) == nrow(data))\n",
       "    cbind(res$labels[[1]], data)\n",
       "}\n",
       "<bytecode: 0x556b553f6340>\n",
       "<environment: namespace:reshape2>"
      ]
     },
     "metadata": {},
     "output_type": "display_data"
    }
   ],
   "source": [
    "dcast\n"
   ]
  },
  {
   "cell_type": "code",
   "execution_count": 51,
   "metadata": {
    "vscode": {
     "languageId": "r"
    }
   },
   "outputs": [
    {
     "name": "stderr",
     "output_type": "stream",
     "text": [
      "Aggregation function missing: defaulting to length\n",
      "\n"
     ]
    },
    {
     "data": {
      "text/html": [
       "<table class=\"dataframe\">\n",
       "<caption>A data.frame: 3 × 3</caption>\n",
       "<thead>\n",
       "\t<tr><th scope=col>cyl</th><th scope=col>mpg</th><th scope=col>hp</th></tr>\n",
       "\t<tr><th scope=col>&lt;dbl&gt;</th><th scope=col>&lt;int&gt;</th><th scope=col>&lt;int&gt;</th></tr>\n",
       "</thead>\n",
       "<tbody>\n",
       "\t<tr><td>4</td><td>11</td><td>11</td></tr>\n",
       "\t<tr><td>6</td><td> 7</td><td> 7</td></tr>\n",
       "\t<tr><td>8</td><td>14</td><td>14</td></tr>\n",
       "</tbody>\n",
       "</table>\n"
      ],
      "text/latex": [
       "A data.frame: 3 × 3\n",
       "\\begin{tabular}{lll}\n",
       " cyl & mpg & hp\\\\\n",
       " <dbl> & <int> & <int>\\\\\n",
       "\\hline\n",
       "\t 4 & 11 & 11\\\\\n",
       "\t 6 &  7 &  7\\\\\n",
       "\t 8 & 14 & 14\\\\\n",
       "\\end{tabular}\n"
      ],
      "text/markdown": [
       "\n",
       "A data.frame: 3 × 3\n",
       "\n",
       "| cyl &lt;dbl&gt; | mpg &lt;int&gt; | hp &lt;int&gt; |\n",
       "|---|---|---|\n",
       "| 4 | 11 | 11 |\n",
       "| 6 |  7 |  7 |\n",
       "| 8 | 14 | 14 |\n",
       "\n"
      ],
      "text/plain": [
       "  cyl mpg hp\n",
       "1 4   11  11\n",
       "2 6    7   7\n",
       "3 8   14  14"
      ]
     },
     "metadata": {},
     "output_type": "display_data"
    }
   ],
   "source": [
    "dcast(carMelt, cyl ~ variable, value.var = \"value\")\n",
    "# cyl ~ variable 表示将年份作为行，性别作为列，value.var 参数表示需要转换的值的变量名。\n",
    "#\n"
   ]
  },
  {
   "cell_type": "code",
   "execution_count": 49,
   "metadata": {
    "vscode": {
     "languageId": "r"
    }
   },
   "outputs": [
    {
     "data": {
      "text/html": [
       "<table class=\"dataframe\">\n",
       "<caption>A data.frame: 3 × 3</caption>\n",
       "<thead>\n",
       "\t<tr><th scope=col>cyl</th><th scope=col>mpg</th><th scope=col>hp</th></tr>\n",
       "\t<tr><th scope=col>&lt;dbl&gt;</th><th scope=col>&lt;dbl&gt;</th><th scope=col>&lt;dbl&gt;</th></tr>\n",
       "</thead>\n",
       "<tbody>\n",
       "\t<tr><td>4</td><td>26.66364</td><td> 82.63636</td></tr>\n",
       "\t<tr><td>6</td><td>19.74286</td><td>122.28571</td></tr>\n",
       "\t<tr><td>8</td><td>15.10000</td><td>209.21429</td></tr>\n",
       "</tbody>\n",
       "</table>\n"
      ],
      "text/latex": [
       "A data.frame: 3 × 3\n",
       "\\begin{tabular}{lll}\n",
       " cyl & mpg & hp\\\\\n",
       " <dbl> & <dbl> & <dbl>\\\\\n",
       "\\hline\n",
       "\t 4 & 26.66364 &  82.63636\\\\\n",
       "\t 6 & 19.74286 & 122.28571\\\\\n",
       "\t 8 & 15.10000 & 209.21429\\\\\n",
       "\\end{tabular}\n"
      ],
      "text/markdown": [
       "\n",
       "A data.frame: 3 × 3\n",
       "\n",
       "| cyl &lt;dbl&gt; | mpg &lt;dbl&gt; | hp &lt;dbl&gt; |\n",
       "|---|---|---|\n",
       "| 4 | 26.66364 |  82.63636 |\n",
       "| 6 | 19.74286 | 122.28571 |\n",
       "| 8 | 15.10000 | 209.21429 |\n",
       "\n"
      ],
      "text/plain": [
       "  cyl mpg      hp       \n",
       "1 4   26.66364  82.63636\n",
       "2 6   19.74286 122.28571\n",
       "3 8   15.10000 209.21429"
      ]
     },
     "metadata": {},
     "output_type": "display_data"
    }
   ],
   "source": [
    "dcast(carMelt, cyl ~ variable, mean)\n"
   ]
  },
  {
   "cell_type": "code",
   "execution_count": 52,
   "metadata": {
    "vscode": {
     "languageId": "r"
    }
   },
   "outputs": [
    {
     "name": "stderr",
     "output_type": "stream",
     "text": [
      "Aggregation function missing: defaulting to length\n",
      "\n"
     ]
    },
    {
     "data": {
      "text/html": [
       "<style>\n",
       ".list-inline {list-style: none; margin:0; padding: 0}\n",
       ".list-inline>li {display: inline-block}\n",
       ".list-inline>li:not(:last-child)::after {content: \"\\00b7\"; padding: 0 .5ex}\n",
       "</style>\n",
       "<ol class=list-inline><li>1</li><li>2</li><li>12</li><li>8</li><li>4</li><li>0</li><li>2</li><li>1</li><li>2</li><li>1</li><li>2</li><li>12</li><li>8</li><li>4</li><li>0</li><li>2</li><li>1</li><li>2</li></ol>\n"
      ],
      "text/latex": [
       "\\begin{enumerate*}\n",
       "\\item 1\n",
       "\\item 2\n",
       "\\item 12\n",
       "\\item 8\n",
       "\\item 4\n",
       "\\item 0\n",
       "\\item 2\n",
       "\\item 1\n",
       "\\item 2\n",
       "\\item 1\n",
       "\\item 2\n",
       "\\item 12\n",
       "\\item 8\n",
       "\\item 4\n",
       "\\item 0\n",
       "\\item 2\n",
       "\\item 1\n",
       "\\item 2\n",
       "\\end{enumerate*}\n"
      ],
      "text/markdown": [
       "1. 1\n",
       "2. 2\n",
       "3. 12\n",
       "4. 8\n",
       "5. 4\n",
       "6. 0\n",
       "7. 2\n",
       "8. 1\n",
       "9. 2\n",
       "10. 1\n",
       "11. 2\n",
       "12. 12\n",
       "13. 8\n",
       "14. 4\n",
       "15. 0\n",
       "16. 2\n",
       "17. 1\n",
       "18. 2\n",
       "\n",
       "\n"
      ],
      "text/plain": [
       ", , mpg\n",
       "\n",
       "   3 4 5\n",
       "4  1 8 2\n",
       "6  2 4 1\n",
       "8 12 0 2\n",
       "\n",
       ", , hp\n",
       "\n",
       "   3 4 5\n",
       "4  1 8 2\n",
       "6  2 4 1\n",
       "8 12 0 2\n"
      ]
     },
     "metadata": {},
     "output_type": "display_data"
    }
   ],
   "source": [
    "acast(carMelt, cyl ~ gear ~ variable)\n"
   ]
  },
  {
   "cell_type": "code",
   "execution_count": null,
   "metadata": {
    "vscode": {
     "languageId": "r"
    }
   },
   "outputs": [],
   "source": []
  }
 ],
 "metadata": {
  "kernelspec": {
   "display_name": "R",
   "language": "R",
   "name": "ir"
  },
  "language_info": {
   "codemirror_mode": "r",
   "file_extension": ".r",
   "mimetype": "text/x-r-source",
   "name": "R",
   "pygments_lexer": "r",
   "version": "4.4.1"
  }
 },
 "nbformat": 4,
 "nbformat_minor": 2
}
