{
 "cells": [
  {
   "cell_type": "markdown",
   "metadata": {},
   "source": [
    "# 控制结构\n",
    "\n",
    "R语言中的控制结构可以用来控制程序的执行流程，默认是从上到下执行的，其他基本 的控制结构包括：\n",
    "- if-else结构：用于测试逻辑条件\n",
    "- for   结构：用于执行固定次数的循环\n",
    "- while   结构：用于在某个条件成立时执行循环 \n",
    "- repeat   结构：用于直接执行无限循环\n",
    "- break 语句：用于终止并跳出循环\n",
    "- next   语句：用于跳过循环中的当前迭代 \n",
    "- return    语句：用于从函数中退出"
   ]
  },
  {
   "cell_type": "markdown",
   "metadata": {},
   "source": [
    "## if\n",
    "\n",
    "仅在满足一个条件时执行，即条件只能得到一个逻辑值，else一定要跟在大括号后面，else 语句并不是必须的.可以多个if语句\n",
    "\n",
    "```shell\n",
    "if(条件){语句\n",
    "} else   {语句}\n",
    "if (条件1){语句\n",
    "} else  if (条件2){语句 } else    {语句}\n",
    "```"
   ]
  },
  {
   "cell_type": "code",
   "execution_count": 1,
   "metadata": {
    "vscode": {
     "languageId": "r"
    }
   },
   "outputs": [
    {
     "data": {
      "text/html": [
       "1.3361005129933"
      ],
      "text/latex": [
       "1.3361005129933"
      ],
      "text/markdown": [
       "1.3361005129933"
      ],
      "text/plain": [
       "[1] 1.336101"
      ]
     },
     "metadata": {},
     "output_type": "display_data"
    }
   ],
   "source": [
    "x <- rnorm(1, 3, 1)\n",
    "x\n"
   ]
  },
  {
   "cell_type": "code",
   "execution_count": 2,
   "metadata": {
    "vscode": {
     "languageId": "r"
    }
   },
   "outputs": [
    {
     "data": {
      "text/html": [
       "0"
      ],
      "text/latex": [
       "0"
      ],
      "text/markdown": [
       "0"
      ],
      "text/plain": [
       "[1] 0"
      ]
     },
     "metadata": {},
     "output_type": "display_data"
    }
   ],
   "source": [
    "if (x > 3) {\n",
    "    y <- 10\n",
    "} else {\n",
    "    y <- 0\n",
    "}\n",
    "y\n"
   ]
  },
  {
   "cell_type": "code",
   "execution_count": 3,
   "metadata": {
    "vscode": {
     "languageId": "r"
    }
   },
   "outputs": [
    {
     "data": {
      "text/html": [
       "0"
      ],
      "text/latex": [
       "0"
      ],
      "text/markdown": [
       "0"
      ],
      "text/plain": [
       "[1] 0"
      ]
     },
     "metadata": {},
     "output_type": "display_data"
    }
   ],
   "source": [
    "y <- if (x > 3) {\n",
    "    10\n",
    "} else {\n",
    "    0\n",
    "}\n",
    "y\n"
   ]
  },
  {
   "cell_type": "markdown",
   "metadata": {},
   "source": [
    "ifelse, switch\n",
    "\n",
    "ifelse结构比较紧凑的向量化版本(输入输出均为向量，向量可以有多个元素),根据条件 执行后面两个语句中的一个"
   ]
  },
  {
   "cell_type": "code",
   "execution_count": 8,
   "metadata": {
    "vscode": {
     "languageId": "r"
    }
   },
   "outputs": [
    {
     "data": {
      "text/html": [
       "<style>\n",
       ".list-inline {list-style: none; margin:0; padding: 0}\n",
       ".list-inline>li {display: inline-block}\n",
       ".list-inline>li:not(:last-child)::after {content: \"\\00b7\"; padding: 0 .5ex}\n",
       "</style>\n",
       "<ol class=list-inline><li>53</li><li>41</li><li>46</li><li>44</li><li>51</li><li>53</li><li>47</li><li>55</li><li>47</li><li>52</li></ol>\n"
      ],
      "text/latex": [
       "\\begin{enumerate*}\n",
       "\\item 53\n",
       "\\item 41\n",
       "\\item 46\n",
       "\\item 44\n",
       "\\item 51\n",
       "\\item 53\n",
       "\\item 47\n",
       "\\item 55\n",
       "\\item 47\n",
       "\\item 52\n",
       "\\end{enumerate*}\n"
      ],
      "text/markdown": [
       "1. 53\n",
       "2. 41\n",
       "3. 46\n",
       "4. 44\n",
       "5. 51\n",
       "6. 53\n",
       "7. 47\n",
       "8. 55\n",
       "9. 47\n",
       "10. 52\n",
       "\n",
       "\n"
      ],
      "text/plain": [
       " [1] 53 41 46 44 51 53 47 55 47 52"
      ]
     },
     "metadata": {},
     "output_type": "display_data"
    },
    {
     "data": {
      "text/html": [
       "'字'"
      ],
      "text/latex": [
       "'字'"
      ],
      "text/markdown": [
       "'字'"
      ],
      "text/plain": [
       "[1] \"字\""
      ]
     },
     "metadata": {},
     "output_type": "display_data"
    }
   ],
   "source": [
    "# 生成10个二项分布随机变量，每个变量都是100次试验中成功的次数，成功的概率为0.5\n",
    "rbinom(10, 100, 0.5)\n",
    "ifelse(rbinom(1, 1, 0.5), \"字\", \"花\")\n"
   ]
  },
  {
   "cell_type": "markdown",
   "metadata": {},
   "source": [
    "## switch  \n",
    "\n",
    "根据后面一个表达式的值选择语句执行：switch(expr,...), \n",
    "- 表达式是数字则按顺序，字符则按名字，表达式长度必须为1\n",
    "- 按名字匹配都匹配不到，且最后一句没有给名字，则执行最后一句"
   ]
  },
  {
   "cell_type": "code",
   "execution_count": 9,
   "metadata": {
    "vscode": {
     "languageId": "r"
    }
   },
   "outputs": [
    {
     "data": {
      "text/html": [
       "'要'"
      ],
      "text/latex": [
       "'要'"
      ],
      "text/markdown": [
       "'要'"
      ],
      "text/plain": [
       "[1] \"要\""
      ]
     },
     "metadata": {},
     "output_type": "display_data"
    },
    {
     "data": {
      "text/html": [
       "4.5"
      ],
      "text/latex": [
       "4.5"
      ],
      "text/markdown": [
       "4.5"
      ],
      "text/plain": [
       "[1] 4.5"
      ]
     },
     "metadata": {},
     "output_type": "display_data"
    },
    {
     "name": "stdout",
     "output_type": "stream",
     "text": [
      "[1] \"nothing\"\n"
     ]
    }
   ],
   "source": [
    "switch(2,\n",
    "    \" 不\",\n",
    "    \"要\"\n",
    ")\n",
    "\n",
    "switch(\"median\",\n",
    "    median = median(c(-1:9, 50)),\n",
    "    mean = mean(c(-1:9, 50))\n",
    ") ## [1]4.5\n",
    "switch(\"aaa\",\n",
    "    median = median(c(-1:9, 50)),\n",
    "    mean = mean(c(-1:9, 50)),\n",
    "    print(\"nothing\")\n",
    ")\n"
   ]
  },
  {
   "cell_type": "markdown",
   "metadata": {},
   "source": [
    "## for\n",
    "\n",
    "\n",
    "最常见的循环运算符.基本思想是：设置一个循环下标(通常为i),然后循环下标遍历一个整 数数列，每取一个值就代入循环中的语句计算一次，直到遍历完数列中所有数."
   ]
  },
  {
   "cell_type": "code",
   "execution_count": 10,
   "metadata": {
    "vscode": {
     "languageId": "r"
    }
   },
   "outputs": [
    {
     "name": "stdout",
     "output_type": "stream",
     "text": [
      "[1] 1\n",
      "[1] 2\n"
     ]
    }
   ],
   "source": [
    "for (i in 1:2) {\n",
    "    print(i)\n",
    "}\n"
   ]
  },
  {
   "cell_type": "code",
   "execution_count": 11,
   "metadata": {
    "vscode": {
     "languageId": "r"
    }
   },
   "outputs": [
    {
     "name": "stdout",
     "output_type": "stream",
     "text": [
      "[1] \"a\"\n",
      "[1] \"b\"\n"
     ]
    }
   ],
   "source": [
    "x <- c(\"a\", \"b\")\n",
    "for (i in 1:2) {\n",
    "    print(x[i])\n",
    "}\n"
   ]
  },
  {
   "cell_type": "code",
   "execution_count": 12,
   "metadata": {
    "vscode": {
     "languageId": "r"
    }
   },
   "outputs": [
    {
     "name": "stdout",
     "output_type": "stream",
     "text": [
      "[1] \"a\"\n",
      "[1] \"b\"\n"
     ]
    }
   ],
   "source": [
    "for (i in seq_along(x)) {\n",
    "    print(x[i])\n",
    "} ## seq_along         相比seq 更有效率，输入向量，输出等长的数列\n"
   ]
  },
  {
   "cell_type": "markdown",
   "metadata": {},
   "source": [
    "for嵌套循环\n",
    "\n",
    "嵌套越多给理解带来的难度越大，尽量不要超过两层 ."
   ]
  },
  {
   "cell_type": "code",
   "execution_count": 13,
   "metadata": {
    "vscode": {
     "languageId": "r"
    }
   },
   "outputs": [
    {
     "name": "stdout",
     "output_type": "stream",
     "text": [
      "[1] 1\n",
      "[1] 3\n",
      "[1] 5\n",
      "[1] 2\n",
      "[1] 4\n",
      "[1] 6\n"
     ]
    }
   ],
   "source": [
    "x <- matrix(1:6, 2, 3)\n",
    "for  (i in seq_len(nrow(x))) {\n",
    "    for (j in seq_len(ncol(x))) {\n",
    "        print(x[i, j])\n",
    "    }\n",
    "}\n"
   ]
  },
  {
   "cell_type": "markdown",
   "metadata": {},
   "source": [
    "## while\n",
    "\n",
    "\n",
    "从条件语句开始，得到真执行后面的执行语句，执行完后继续判定条件，直到条件得到假， 循环结束. (可能由于循环条件的设置不当而造成死循环)"
   ]
  },
  {
   "cell_type": "code",
   "execution_count": 14,
   "metadata": {
    "vscode": {
     "languageId": "r"
    }
   },
   "outputs": [
    {
     "name": "stdout",
     "output_type": "stream",
     "text": [
      "[1] 0\n",
      "[1] 1\n",
      "[1] 2\n",
      "[1] 3\n",
      "[1] 4\n",
      "[1] 5\n"
     ]
    }
   ],
   "source": [
    "count <- 0\n",
    "while (count < 6) {\n",
    "    print(count)\n",
    "    count <- count + 1\n",
    "}\n"
   ]
  },
  {
   "cell_type": "markdown",
   "metadata": {},
   "source": [
    "多条件\n",
    "\n",
    "\n",
    "条件语句常常多于一句，一般由左至右执行"
   ]
  },
  {
   "cell_type": "code",
   "execution_count": 15,
   "metadata": {
    "vscode": {
     "languageId": "r"
    }
   },
   "outputs": [
    {
     "name": "stdout",
     "output_type": "stream",
     "text": [
      "[1] 5\n",
      "[1] 4\n",
      "[1] 3\n",
      "[1] 4\n",
      "[1] 3\n"
     ]
    }
   ],
   "source": [
    "z <- 5\n",
    "while (z >= 3 && z <= 10) {\n",
    "    print(z)\n",
    "    coin <- rbinom(1, 1, 0.5) ##    投一枚均匀硬币\n",
    "    if (coin == 1) {\n",
    "        z <- z + 1\n",
    "    } else {\n",
    "        z <- z - 1\n",
    "    } ## 小型的随机游走\n",
    "}\n"
   ]
  },
  {
   "cell_type": "markdown",
   "metadata": {},
   "source": [
    "## repeat\n",
    "\n",
    "\n",
    "无限循环，在统计应用中使用较少，但是偶尔会用到。终止的办法是使用break函\n",
    "\n",
    "以上是计算算法收敛常用的函数，但是并不是所有的算法都是收敛的。算法的效果还 部分取决于容差，容差越小，循环的时间越长。通常来说，由于难以预测循环的时\n",
    "间，就会存在无限循环的危险。\n",
    "最好使用for 循环，for 循环具有对该循环可运行迭代次数的硬性限制。可有效防止死 循环。\n",
    "\n",
    "在repeat函数中，如果算法没有收敛也不会出现警告，而是一直循环下去"
   ]
  },
  {
   "cell_type": "code",
   "execution_count": null,
   "metadata": {
    "vscode": {
     "languageId": "r"
    }
   },
   "outputs": [],
   "source": [
    "x <- 1\n",
    "tol <- le - 8\n",
    "repeat{\n",
    "    xl <- computeEstimate() ## 自己写的一个函数\n",
    "    if (abs(x1 - x0) < tol) {\n",
    "        break\n",
    "    } else {\n",
    "        xO <- xl\n",
    "    }\n",
    "}\n"
   ]
  },
  {
   "cell_type": "markdown",
   "metadata": {},
   "source": [
    "## next,return\n",
    "\n",
    "next可以用在任何一种循环中，用来跳过某一次迭代"
   ]
  },
  {
   "cell_type": "code",
   "execution_count": null,
   "metadata": {
    "vscode": {
     "languageId": "r"
    }
   },
   "outputs": [],
   "source": [
    "for (i in 1:100) {\n",
    "    if (i <= 20) {\n",
    "        next ## 跳过头20次循环\n",
    "    }\n",
    "    ## 其他想要执行的语句\n",
    "}\n"
   ]
  },
  {
   "cell_type": "markdown",
   "metadata": {},
   "source": [
    "break函数则是完全跳出循环\n",
    "return 函数也可以退出循环，主要用来退出函数，会结束整个函数，返回一个值。\n",
    "\n",
    "\n",
    "\n",
    "函数通过function() 指令创建，被当做R的一个对象存储。既函数属于R的对象类别“函 数类”\n",
    "\n",
    "```R\n",
    "f<-  function(<参数>){\n",
    "##show your capability\n",
    "\n",
    "}\n",
    "```\n",
    "\n",
    "在R中函数被认为是一级对象，所以函数的处理方式和其他类似于向量的处理方式是一 样的。\n",
    "- 可以把函数作为其他函数的参数\n",
    "- 函数可以嵌套，既可以在一个函数中定义一个函数"
   ]
  },
  {
   "cell_type": "markdown",
   "metadata": {},
   "source": [
    "函数包含已经命名的参数，这些参数可以赋值默认值。\n",
    "\n",
    "- 函数定义里的参数称为形参\n",
    "- formals()   函数可以返回一个函数所有的形参(函数名作为输入) ·并不是每次调用函数都会用到所有的形参\n",
    "- 函数参数可以缺失或者有缺省值"
   ]
  },
  {
   "cell_type": "code",
   "execution_count": 16,
   "metadata": {
    "vscode": {
     "languageId": "r"
    }
   },
   "outputs": [
    {
     "data": {
      "text/plain": [
       "$x\n",
       "\n",
       "\n",
       "$...\n",
       "\n"
      ]
     },
     "metadata": {},
     "output_type": "display_data"
    }
   ],
   "source": [
    "formals(mean)\n"
   ]
  },
  {
   "cell_type": "markdown",
   "metadata": {},
   "source": [
    "参数匹配\n",
    "\n",
    "\n",
    "函数参数可以通过位置或者名字匹配。 以下对sd()函数的调用都是等价的："
   ]
  },
  {
   "cell_type": "code",
   "execution_count": 17,
   "metadata": {
    "vscode": {
     "languageId": "r"
    }
   },
   "outputs": [
    {
     "data": {
      "text/html": [
       "0.992398352838501"
      ],
      "text/latex": [
       "0.992398352838501"
      ],
      "text/markdown": [
       "0.992398352838501"
      ],
      "text/plain": [
       "[1] 0.9923984"
      ]
     },
     "metadata": {},
     "output_type": "display_data"
    },
    {
     "data": {
      "text/html": [
       "0.992398352838501"
      ],
      "text/latex": [
       "0.992398352838501"
      ],
      "text/markdown": [
       "0.992398352838501"
      ],
      "text/plain": [
       "[1] 0.9923984"
      ]
     },
     "metadata": {},
     "output_type": "display_data"
    },
    {
     "data": {
      "text/html": [
       "0.992398352838501"
      ],
      "text/latex": [
       "0.992398352838501"
      ],
      "text/markdown": [
       "0.992398352838501"
      ],
      "text/plain": [
       "[1] 0.9923984"
      ]
     },
     "metadata": {},
     "output_type": "display_data"
    },
    {
     "data": {
      "text/html": [
       "0.992398352838501"
      ],
      "text/latex": [
       "0.992398352838501"
      ],
      "text/markdown": [
       "0.992398352838501"
      ],
      "text/plain": [
       "[1] 0.9923984"
      ]
     },
     "metadata": {},
     "output_type": "display_data"
    }
   ],
   "source": [
    "mydata <- rnorm(100)\n",
    "sd(mydata)\n",
    "\n",
    "sd(x = mydata, na.rm = T)\n",
    "\n",
    "sd(na.rm = T, x = mydata)\n",
    "sd(na.rm = T, mydata)\n"
   ]
  },
  {
   "cell_type": "markdown",
   "metadata": {},
   "source": [
    "\n",
    "参数匹配可以名字匹配和位置匹配混合使用，先匹配名字，剩下的参数按照位置匹 配。"
   ]
  },
  {
   "cell_type": "code",
   "execution_count": 19,
   "metadata": {
    "vscode": {
     "languageId": "r"
    }
   },
   "outputs": [
    {
     "data": {
      "text/html": [
       "<pre class=language-r><code>function (formula, data, subset, weights, na.action, method = \"qr\", \n",
       "<span style=white-space:pre-wrap>    model = TRUE, x = FALSE, y = FALSE, qr = TRUE, singular.ok = TRUE, </span>\n",
       "<span style=white-space:pre-wrap>    contrasts = NULL, offset, ...) </span>\n",
       "NULL</code></pre>"
      ],
      "text/latex": [
       "\\begin{minted}{r}\n",
       "function (formula, data, subset, weights, na.action, method = \"qr\", \n",
       "    model = TRUE, x = FALSE, y = FALSE, qr = TRUE, singular.ok = TRUE, \n",
       "    contrasts = NULL, offset, ...) \n",
       "NULL\n",
       "\\end{minted}"
      ],
      "text/markdown": [
       "```r\n",
       "function (formula, data, subset, weights, na.action, method = \"qr\", \n",
       "    model = TRUE, x = FALSE, y = FALSE, qr = TRUE, singular.ok = TRUE, \n",
       "    contrasts = NULL, offset, ...) \n",
       "NULL\n",
       "```"
      ],
      "text/plain": [
       "function (formula, data, subset, weights, na.action, method = \"qr\", \n",
       "    model = TRUE, x = FALSE, y = FALSE, qr = TRUE, singular.ok = TRUE, \n",
       "    contrasts = NULL, offset, ...) \n",
       "NULL"
      ]
     },
     "metadata": {},
     "output_type": "display_data"
    }
   ],
   "source": [
    "args(lm)\n"
   ]
  },
  {
   "cell_type": "code",
   "execution_count": 21,
   "metadata": {
    "vscode": {
     "languageId": "r"
    }
   },
   "outputs": [
    {
     "ename": "ERROR",
     "evalue": "Error in model.frame.default(formula = y ~ x, data = mydata, subset = 1:100, : 'data' must be a data.frame, environment, or list\n",
     "output_type": "error",
     "traceback": [
      "Error in model.frame.default(formula = y ~ x, data = mydata, subset = 1:100, : 'data' must be a data.frame, environment, or list\nTraceback:\n",
      "1. lm(data = mydata, y ~ x, model = F, 1:100)",
      "2. eval(mf, parent.frame())",
      "3. eval(mf, parent.frame())",
      "4. stats::model.frame(formula = y ~ x, data = mydata, subset = 1:100, \n .     drop.unused.levels = TRUE)",
      "5. model.frame.default(formula = y ~ x, data = mydata, subset = 1:100, \n .     drop.unused.levels = TRUE)",
      "6. stop(\"'data' must be a data.frame, environment, or list\")"
     ]
    }
   ],
   "source": [
    "# 下面两个调用是等价的。\n",
    "\n",
    "lm(data = mydata, y ~ x, model = F, 1:100)\n",
    "lm(y ~ x, mydata, 1:100, model = F)\n"
   ]
  },
  {
   "cell_type": "markdown",
   "metadata": {},
   "source": [
    "R中匹配参数的顺序是：\n",
    "\n",
    "1.寻找参数名的精确匹配——2.寻找部分匹配——3.寻找位置匹配"
   ]
  },
  {
   "cell_type": "markdown",
   "metadata": {},
   "source": [
    "## 惰性取值\n",
    "函数参数的取值是惰性的，只有需要的时候才会求值。           \n",
    "以上函数并没有使用参数b, 所以调用f(3)的时候并不会返回错误，因为3是通过位置匹 配到a的。\n",
    "\n"
   ]
  },
  {
   "cell_type": "code",
   "execution_count": 22,
   "metadata": {
    "vscode": {
     "languageId": "r"
    }
   },
   "outputs": [
    {
     "data": {
      "text/html": [
       "9"
      ],
      "text/latex": [
       "9"
      ],
      "text/markdown": [
       "9"
      ],
      "text/plain": [
       "[1] 9"
      ]
     },
     "metadata": {},
     "output_type": "display_data"
    }
   ],
   "source": [
    "f <- function(a, b) {\n",
    "    a^2\n",
    "}\n",
    "f(3)\n"
   ]
  },
  {
   "cell_type": "markdown",
   "metadata": {},
   "source": [
    "## 参数\n",
    "\n",
    "...用来表明可以传递给另一个函数的一些参数。\n",
    "\n",
    "...常用于需要拓展到另一个函数，而又不想复制原函数的整个参数列表。\n"
   ]
  },
  {
   "cell_type": "code",
   "execution_count": 24,
   "metadata": {
    "vscode": {
     "languageId": "r"
    }
   },
   "outputs": [],
   "source": [
    "myplot <- function(x, y, type = \"1\", ...) {\n",
    "    plot(x, y, type = type, ...)\n",
    "}\n"
   ]
  },
  {
   "cell_type": "markdown",
   "metadata": {},
   "source": [
    "使用在泛型函数(Generic function)中，使得附加函数可以传递给方法(methods)\n",
    "- 泛型函数不做任何事，它的作用是根据数据类型选择合适的方法。"
   ]
  },
  {
   "cell_type": "code",
   "execution_count": 25,
   "metadata": {
    "vscode": {
     "languageId": "r"
    }
   },
   "outputs": [
    {
     "data": {
      "text/html": [
       "<pre class=language-r><code>function (x, ...) \n",
       "UseMethod(\"mean\")</code></pre>"
      ],
      "text/latex": [
       "\\begin{minted}{r}\n",
       "function (x, ...) \n",
       "UseMethod(\"mean\")\n",
       "\\end{minted}"
      ],
      "text/markdown": [
       "```r\n",
       "function (x, ...) \n",
       "UseMethod(\"mean\")\n",
       "```"
      ],
      "text/plain": [
       "function (x, ...) \n",
       "UseMethod(\"mean\")\n",
       "<bytecode: 0x560840b14cc8>\n",
       "<environment: namespace:base>"
      ]
     },
     "metadata": {},
     "output_type": "display_data"
    }
   ],
   "source": [
    "mean\n"
   ]
  },
  {
   "cell_type": "markdown",
   "metadata": {},
   "source": [
    "当传递到函数的参数数量不能事先确定的时候需要使用.."
   ]
  },
  {
   "cell_type": "code",
   "execution_count": 26,
   "metadata": {
    "vscode": {
     "languageId": "r"
    }
   },
   "outputs": [
    {
     "data": {
      "text/html": [
       "<pre class=language-r><code>function (..., sep = \" \", collapse = NULL, recycle0 = FALSE) \n",
       "NULL</code></pre>"
      ],
      "text/latex": [
       "\\begin{minted}{r}\n",
       "function (..., sep = \" \", collapse = NULL, recycle0 = FALSE) \n",
       "NULL\n",
       "\\end{minted}"
      ],
      "text/markdown": [
       "```r\n",
       "function (..., sep = \" \", collapse = NULL, recycle0 = FALSE) \n",
       "NULL\n",
       "```"
      ],
      "text/plain": [
       "function (..., sep = \" \", collapse = NULL, recycle0 = FALSE) \n",
       "NULL"
      ]
     },
     "metadata": {},
     "output_type": "display_data"
    },
    {
     "data": {
      "text/html": [
       "<pre class=language-r><code>function (..., file = \"\", sep = \" \", fill = FALSE, labels = NULL, \n",
       "<span style=white-space:pre-wrap>    append = FALSE) </span>\n",
       "NULL</code></pre>"
      ],
      "text/latex": [
       "\\begin{minted}{r}\n",
       "function (..., file = \"\", sep = \" \", fill = FALSE, labels = NULL, \n",
       "    append = FALSE) \n",
       "NULL\n",
       "\\end{minted}"
      ],
      "text/markdown": [
       "```r\n",
       "function (..., file = \"\", sep = \" \", fill = FALSE, labels = NULL, \n",
       "    append = FALSE) \n",
       "NULL\n",
       "```"
      ],
      "text/plain": [
       "function (..., file = \"\", sep = \" \", fill = FALSE, labels = NULL, \n",
       "    append = FALSE) \n",
       "NULL"
      ]
     },
     "metadata": {},
     "output_type": "display_data"
    }
   ],
   "source": [
    "args(paste)\n",
    "## function   (..,sep    =””,collapse    =NULL)\n",
    "## NULL\n",
    "args(cat)\n",
    "## function     (..,file      =\"\",sep     =\"\",fill      =FALSE,   labels =NULL,\n"
   ]
  },
  {
   "cell_type": "markdown",
   "metadata": {},
   "source": [
    "...之后的参数\n",
    "\n",
    "\n",
    "使用…的一个陷阱是任何出现在…之后的参数都需要明确的给出名称，不能进行部分匹配。这样做是为了让R区分对象传递给的参数是…还是后面的参数。"
   ]
  },
  {
   "cell_type": "code",
   "execution_count": 27,
   "metadata": {
    "vscode": {
     "languageId": "r"
    }
   },
   "outputs": [
    {
     "data": {
      "text/html": [
       "<pre class=language-r><code>function (..., sep = \" \", collapse = NULL, recycle0 = FALSE) \n",
       "NULL</code></pre>"
      ],
      "text/latex": [
       "\\begin{minted}{r}\n",
       "function (..., sep = \" \", collapse = NULL, recycle0 = FALSE) \n",
       "NULL\n",
       "\\end{minted}"
      ],
      "text/markdown": [
       "```r\n",
       "function (..., sep = \" \", collapse = NULL, recycle0 = FALSE) \n",
       "NULL\n",
       "```"
      ],
      "text/plain": [
       "function (..., sep = \" \", collapse = NULL, recycle0 = FALSE) \n",
       "NULL"
      ]
     },
     "metadata": {},
     "output_type": "display_data"
    },
    {
     "data": {
      "text/html": [
       "'a:b'"
      ],
      "text/latex": [
       "'a:b'"
      ],
      "text/markdown": [
       "'a:b'"
      ],
      "text/plain": [
       "[1] \"a:b\""
      ]
     },
     "metadata": {},
     "output_type": "display_data"
    },
    {
     "data": {
      "text/html": [
       "'a b :'"
      ],
      "text/latex": [
       "'a b :'"
      ],
      "text/markdown": [
       "'a b :'"
      ],
      "text/plain": [
       "[1] \"a b :\""
      ]
     },
     "metadata": {},
     "output_type": "display_data"
    }
   ],
   "source": [
    "args(paste)\n",
    "## function(..,sep=”\",collapse   =NULL)\n",
    "## NULL\n",
    "paste(\"a\", \"b\", sep = \":\")\n",
    "## [1]\"a:b\"\n",
    "paste(\"a\", \"b\", se = \":\")\n"
   ]
  },
  {
   "cell_type": "markdown",
   "metadata": {},
   "source": []
  },
  {
   "cell_type": "markdown",
   "metadata": {},
   "source": []
  }
 ],
 "metadata": {
  "kernelspec": {
   "display_name": "R",
   "language": "R",
   "name": "ir"
  },
  "language_info": {
   "codemirror_mode": "r",
   "file_extension": ".r",
   "mimetype": "text/x-r-source",
   "name": "R",
   "pygments_lexer": "r",
   "version": "4.4.1"
  }
 },
 "nbformat": 4,
 "nbformat_minor": 2
}
