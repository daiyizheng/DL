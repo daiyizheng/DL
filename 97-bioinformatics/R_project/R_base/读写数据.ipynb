{
 "cells": [
  {
   "cell_type": "markdown",
   "metadata": {},
   "source": [
    "# 读写数据\n",
    "## 键盘输入\n",
    "\n",
    "有两种方式：文本编辑器和代码输入\n",
    "\n",
    "文本编辑器：1.创建空数据框或者提供已有数据框；2.通过fix()函数打开文本编辑器编辑. 注意字母列会被转化为因子列"
   ]
  },
  {
   "cell_type": "code",
   "execution_count": 2,
   "metadata": {
    "vscode": {
     "languageId": "r"
    }
   },
   "outputs": [
    {
     "data": {
      "text/html": [
       "<table class=\"dataframe\">\n",
       "<caption>A data.frame: 2 × 2</caption>\n",
       "<thead>\n",
       "\t<tr><th scope=col>a</th><th scope=col>b</th></tr>\n",
       "\t<tr><th scope=col>&lt;int&gt;</th><th scope=col>&lt;chr&gt;</th></tr>\n",
       "</thead>\n",
       "<tbody>\n",
       "\t<tr><td>1</td><td>a</td></tr>\n",
       "\t<tr><td>2</td><td>b</td></tr>\n",
       "</tbody>\n",
       "</table>\n"
      ],
      "text/latex": [
       "A data.frame: 2 × 2\n",
       "\\begin{tabular}{ll}\n",
       " a & b\\\\\n",
       " <int> & <chr>\\\\\n",
       "\\hline\n",
       "\t 1 & a\\\\\n",
       "\t 2 & b\\\\\n",
       "\\end{tabular}\n"
      ],
      "text/markdown": [
       "\n",
       "A data.frame: 2 × 2\n",
       "\n",
       "| a &lt;int&gt; | b &lt;chr&gt; |\n",
       "|---|---|\n",
       "| 1 | a |\n",
       "| 2 | b |\n",
       "\n"
      ],
      "text/plain": [
       "  a b\n",
       "1 1 a\n",
       "2 2 b"
      ]
     },
     "metadata": {},
     "output_type": "display_data"
    }
   ],
   "source": [
    "mydata <- data.frame(a = 1:2, b = c(\"a\", \"b\"))\n",
    "mydata ## nydata<-edit (mydata)等价\n",
    "write.table(mydata, \"./data/table.txt\")\n"
   ]
  },
  {
   "cell_type": "code",
   "execution_count": null,
   "metadata": {
    "vscode": {
     "languageId": "r"
    }
   },
   "outputs": [],
   "source": [
    "'mydata<-\n",
    "a  b\n",
    "1  a\n",
    "2  b\"\n",
    "read.table(text=mydata,header=T)'\n"
   ]
  },
  {
   "cell_type": "markdown",
   "metadata": {},
   "source": [
    "## 读写数据常用函数\n",
    "\n",
    "在R里读取数据时会用到几个基本函数：\n",
    "- 读取表格形式数据：read.table(),read.csv(),读取以行列形式存储的文本数据，返回数 据框\n",
    "- 逐行读取文本文件readLines(), 可以读取任何格式的文本文件 · 读取R代码文件source()(对应的相反的函数dump)\n",
    "- 读取被逆句法分析成文本文件的R 代码文件dput(对应的相反的函数dget)\n",
    "- load()和unserialize()函数能把二进制文件读取到R 对应的数据存储函数有：\n",
    "write.table();write.csv();writeLines();dump();dput();save();serialize()"
   ]
  },
  {
   "cell_type": "markdown",
   "metadata": {},
   "source": [
    "\n",
    "\n",
    "read.table(),read.csv()读取表格数据，返回一个数据框。\n",
    "\n",
    "- file:文件路径/文件名/连接\n",
    "- header:   指明是否有表头(read.table 默认为F,read.csv默认为T)\n",
    "- sep:   指明列是如何分割的(read.table 默认空格，read.csv默认逗号)\n",
    "- colClasses:   字符向量(长度是列长度),指定每列的数据类型(指定会很大程度加快读取 速度，尤其是数据量大时，可以先读取前面几行，通过循环找到每列的类型，再赋值给这 个参数读取所有数据)\n",
    "- nrows:   读入的行数\n",
    "- comment.char  指定注释字符，此行注释符右边的字符会被忽略(默认为#,指定为 空\"\"可以提高效率)\n",
    "-  skip:从开始跳过的行数\n",
    "-  stringsAsFactors:字符作为因子处理，默认为T"
   ]
  },
  {
   "cell_type": "markdown",
   "metadata": {},
   "source": [
    "### 读取大型数据\n",
    "\n",
    "\n",
    "对于大型表格数据而言，如下几点可以提效而且防止R卡住\n",
    "- 仔细阅读read.table 的帮助文档，会发现大量优化函数的信息 · 估算一下读取的数据集需要多少存储空间\n",
    "- 如果文件没有注释行的话，设置comment.char=\"\"\n",
    "- coClasses  参数非常重要，如果不指定的话R会遍历每一列来确定每列的数据类型，数据集不太大时可以，但是如果很大会消耗内存且拖慢运行速度，如果能告诉R每一列的数据类型，通常速度能提升两倍.如果每列都是数值型，可以直接设置 colClasses=\"numeric\".\n",
    "- 设置nrows, 不会加速，但是提高内存使用率，如果能告诉R读取多少行信息的话，R能计 算出将占用多大内存，不用边读取边计算了.设置的比实际行数多一些也没关系，仍能  准确读取."
   ]
  },
  {
   "cell_type": "code",
   "execution_count": 3,
   "metadata": {
    "vscode": {
     "languageId": "r"
    }
   },
   "outputs": [
    {
     "data": {
      "text/html": [
       "<table class=\"dataframe\">\n",
       "<caption>A data.frame: 2 × 2</caption>\n",
       "<thead>\n",
       "\t<tr><th></th><th scope=col>a</th><th scope=col>b</th></tr>\n",
       "\t<tr><th></th><th scope=col>&lt;int&gt;</th><th scope=col>&lt;chr&gt;</th></tr>\n",
       "</thead>\n",
       "<tbody>\n",
       "\t<tr><th scope=row>1</th><td>1</td><td>a</td></tr>\n",
       "\t<tr><th scope=row>2</th><td>2</td><td>b</td></tr>\n",
       "</tbody>\n",
       "</table>\n"
      ],
      "text/latex": [
       "A data.frame: 2 × 2\n",
       "\\begin{tabular}{r|ll}\n",
       "  & a & b\\\\\n",
       "  & <int> & <chr>\\\\\n",
       "\\hline\n",
       "\t1 & 1 & a\\\\\n",
       "\t2 & 2 & b\\\\\n",
       "\\end{tabular}\n"
      ],
      "text/markdown": [
       "\n",
       "A data.frame: 2 × 2\n",
       "\n",
       "| <!--/--> | a &lt;int&gt; | b &lt;chr&gt; |\n",
       "|---|---|---|\n",
       "| 1 | 1 | a |\n",
       "| 2 | 2 | b |\n",
       "\n"
      ],
      "text/plain": [
       "  a b\n",
       "1 1 a\n",
       "2 2 b"
      ]
     },
     "metadata": {},
     "output_type": "display_data"
    }
   ],
   "source": [
    "init <- read.table(\"./data/table.txt\", nrows = 2)\n",
    "init\n"
   ]
  },
  {
   "cell_type": "code",
   "execution_count": 4,
   "metadata": {
    "vscode": {
     "languageId": "r"
    }
   },
   "outputs": [
    {
     "data": {
      "text/html": [
       "<style>\n",
       ".dl-inline {width: auto; margin:0; padding: 0}\n",
       ".dl-inline>dt, .dl-inline>dd {float: none; width: auto; display: inline-block}\n",
       ".dl-inline>dt::after {content: \":\\0020\"; padding-right: .5ex}\n",
       ".dl-inline>dt:not(:first-of-type) {padding-left: .5ex}\n",
       "</style><dl class=dl-inline><dt>a</dt><dd>'integer'</dd><dt>b</dt><dd>'character'</dd></dl>\n"
      ],
      "text/latex": [
       "\\begin{description*}\n",
       "\\item[a] 'integer'\n",
       "\\item[b] 'character'\n",
       "\\end{description*}\n"
      ],
      "text/markdown": [
       "a\n",
       ":   'integer'b\n",
       ":   'character'\n",
       "\n"
      ],
      "text/plain": [
       "          a           b \n",
       "  \"integer\" \"character\" "
      ]
     },
     "metadata": {},
     "output_type": "display_data"
    }
   ],
   "source": [
    "cla <- sapply(init, class)\n",
    "cla\n"
   ]
  },
  {
   "cell_type": "code",
   "execution_count": 5,
   "metadata": {
    "vscode": {
     "languageId": "r"
    }
   },
   "outputs": [
    {
     "data": {
      "text/html": [
       "<table class=\"dataframe\">\n",
       "<caption>A data.frame: 10 × 2</caption>\n",
       "<thead>\n",
       "\t<tr><th></th><th scope=col>a</th><th scope=col>b</th></tr>\n",
       "\t<tr><th></th><th scope=col>&lt;int&gt;</th><th scope=col>&lt;chr&gt;</th></tr>\n",
       "</thead>\n",
       "<tbody>\n",
       "\t<tr><th scope=row>1</th><td>1</td><td>a</td></tr>\n",
       "\t<tr><th scope=row>2</th><td>2</td><td>b</td></tr>\n",
       "\t<tr><th scope=row>3</th><td>1</td><td>a</td></tr>\n",
       "\t<tr><th scope=row>4</th><td>2</td><td>b</td></tr>\n",
       "\t<tr><th scope=row>5</th><td>1</td><td>a</td></tr>\n",
       "\t<tr><th scope=row>6</th><td>2</td><td>b</td></tr>\n",
       "\t<tr><th scope=row>7</th><td>1</td><td>a</td></tr>\n",
       "\t<tr><th scope=row>8</th><td>2</td><td>b</td></tr>\n",
       "\t<tr><th scope=row>9</th><td>1</td><td>a</td></tr>\n",
       "\t<tr><th scope=row>10</th><td>2</td><td>b</td></tr>\n",
       "</tbody>\n",
       "</table>\n"
      ],
      "text/latex": [
       "A data.frame: 10 × 2\n",
       "\\begin{tabular}{r|ll}\n",
       "  & a & b\\\\\n",
       "  & <int> & <chr>\\\\\n",
       "\\hline\n",
       "\t1 & 1 & a\\\\\n",
       "\t2 & 2 & b\\\\\n",
       "\t3 & 1 & a\\\\\n",
       "\t4 & 2 & b\\\\\n",
       "\t5 & 1 & a\\\\\n",
       "\t6 & 2 & b\\\\\n",
       "\t7 & 1 & a\\\\\n",
       "\t8 & 2 & b\\\\\n",
       "\t9 & 1 & a\\\\\n",
       "\t10 & 2 & b\\\\\n",
       "\\end{tabular}\n"
      ],
      "text/markdown": [
       "\n",
       "A data.frame: 10 × 2\n",
       "\n",
       "| <!--/--> | a &lt;int&gt; | b &lt;chr&gt; |\n",
       "|---|---|---|\n",
       "| 1 | 1 | a |\n",
       "| 2 | 2 | b |\n",
       "| 3 | 1 | a |\n",
       "| 4 | 2 | b |\n",
       "| 5 | 1 | a |\n",
       "| 6 | 2 | b |\n",
       "| 7 | 1 | a |\n",
       "| 8 | 2 | b |\n",
       "| 9 | 1 | a |\n",
       "| 10 | 2 | b |\n",
       "\n"
      ],
      "text/plain": [
       "   a b\n",
       "1  1 a\n",
       "2  2 b\n",
       "3  1 a\n",
       "4  2 b\n",
       "5  1 a\n",
       "6  2 b\n",
       "7  1 a\n",
       "8  2 b\n",
       "9  1 a\n",
       "10 2 b"
      ]
     },
     "metadata": {},
     "output_type": "display_data"
    }
   ],
   "source": [
    "tabAll <- read.table(\"./data/table.txt\", colClasses = cla)\n",
    "tabAll\n"
   ]
  },
  {
   "cell_type": "code",
   "execution_count": null,
   "metadata": {
    "vscode": {
     "languageId": "r"
    }
   },
   "outputs": [],
   "source": []
  },
  {
   "cell_type": "code",
   "execution_count": 17,
   "metadata": {
    "vscode": {
     "languageId": "r"
    }
   },
   "outputs": [
    {
     "data": {
      "text/html": [
       "<style>\n",
       ".list-inline {list-style: none; margin:0; padding: 0}\n",
       ".list-inline>li {display: inline-block}\n",
       ".list-inline>li:not(:last-child)::after {content: \"\\00b7\"; padding: 0 .5ex}\n",
       "</style>\n",
       "<ol class=list-inline><li>'a'</li><li>'b'</li></ol>\n"
      ],
      "text/latex": [
       "\\begin{enumerate*}\n",
       "\\item 'a'\n",
       "\\item 'b'\n",
       "\\end{enumerate*}\n"
      ],
      "text/markdown": [
       "1. 'a'\n",
       "2. 'b'\n",
       "\n",
       "\n"
      ],
      "text/plain": [
       "[1] \"a\" \"b\""
      ]
     },
     "metadata": {},
     "output_type": "display_data"
    }
   ],
   "source": [
    "tabs <- read.table(\"./data/table.txt\", row.names = 1, nrows = 2)\n",
    "colnames(tabs)\n"
   ]
  },
  {
   "cell_type": "code",
   "execution_count": 19,
   "metadata": {
    "vscode": {
     "languageId": "r"
    }
   },
   "outputs": [
    {
     "data": {
      "text/html": [
       "<table class=\"dataframe\">\n",
       "<caption>A data.frame: 2 × 2</caption>\n",
       "<thead>\n",
       "\t<tr><th></th><th scope=col>V2</th><th scope=col>V3</th></tr>\n",
       "\t<tr><th></th><th scope=col>&lt;int&gt;</th><th scope=col>&lt;chr&gt;</th></tr>\n",
       "</thead>\n",
       "<tbody>\n",
       "\t<tr><th scope=row>5</th><td>1</td><td>a</td></tr>\n",
       "\t<tr><th scope=row>6</th><td>2</td><td>b</td></tr>\n",
       "</tbody>\n",
       "</table>\n"
      ],
      "text/latex": [
       "A data.frame: 2 × 2\n",
       "\\begin{tabular}{r|ll}\n",
       "  & V2 & V3\\\\\n",
       "  & <int> & <chr>\\\\\n",
       "\\hline\n",
       "\t5 & 1 & a\\\\\n",
       "\t6 & 2 & b\\\\\n",
       "\\end{tabular}\n"
      ],
      "text/markdown": [
       "\n",
       "A data.frame: 2 × 2\n",
       "\n",
       "| <!--/--> | V2 &lt;int&gt; | V3 &lt;chr&gt; |\n",
       "|---|---|---|\n",
       "| 5 | 1 | a |\n",
       "| 6 | 2 | b |\n",
       "\n"
      ],
      "text/plain": [
       "  V2 V3\n",
       "5 1  a \n",
       "6 2  b "
      ]
     },
     "metadata": {},
     "output_type": "display_data"
    }
   ],
   "source": [
    "t <- read.table(\"./data/table.txt\",\n",
    "    nrows = 2,\n",
    "    row.names = 1,\n",
    "    skip = 5\n",
    ")\n",
    "\n",
    "t\n"
   ]
  },
  {
   "cell_type": "code",
   "execution_count": 20,
   "metadata": {
    "vscode": {
     "languageId": "r"
    }
   },
   "outputs": [],
   "source": [
    "colnames(t) <- colnames(tabs)\n"
   ]
  },
  {
   "cell_type": "code",
   "execution_count": 21,
   "metadata": {
    "vscode": {
     "languageId": "r"
    }
   },
   "outputs": [
    {
     "data": {
      "text/html": [
       "<table class=\"dataframe\">\n",
       "<caption>A data.frame: 2 × 2</caption>\n",
       "<thead>\n",
       "\t<tr><th></th><th scope=col>a</th><th scope=col>b</th></tr>\n",
       "\t<tr><th></th><th scope=col>&lt;int&gt;</th><th scope=col>&lt;chr&gt;</th></tr>\n",
       "</thead>\n",
       "<tbody>\n",
       "\t<tr><th scope=row>5</th><td>1</td><td>a</td></tr>\n",
       "\t<tr><th scope=row>6</th><td>2</td><td>b</td></tr>\n",
       "</tbody>\n",
       "</table>\n"
      ],
      "text/latex": [
       "A data.frame: 2 × 2\n",
       "\\begin{tabular}{r|ll}\n",
       "  & a & b\\\\\n",
       "  & <int> & <chr>\\\\\n",
       "\\hline\n",
       "\t5 & 1 & a\\\\\n",
       "\t6 & 2 & b\\\\\n",
       "\\end{tabular}\n"
      ],
      "text/markdown": [
       "\n",
       "A data.frame: 2 × 2\n",
       "\n",
       "| <!--/--> | a &lt;int&gt; | b &lt;chr&gt; |\n",
       "|---|---|---|\n",
       "| 5 | 1 | a |\n",
       "| 6 | 2 | b |\n",
       "\n"
      ],
      "text/plain": [
       "  a b\n",
       "5 1 a\n",
       "6 2 b"
      ]
     },
     "metadata": {},
     "output_type": "display_data"
    }
   ],
   "source": [
    "t\n"
   ]
  },
  {
   "cell_type": "code",
   "execution_count": null,
   "metadata": {
    "vscode": {
     "languageId": "r"
    }
   },
   "outputs": [],
   "source": []
  }
 ],
 "metadata": {
  "kernelspec": {
   "display_name": "R",
   "language": "R",
   "name": "ir"
  },
  "language_info": {
   "codemirror_mode": "r",
   "file_extension": ".r",
   "mimetype": "text/x-r-source",
   "name": "R",
   "pygments_lexer": "r",
   "version": "4.4.1"
  }
 },
 "nbformat": 4,
 "nbformat_minor": 2
}
