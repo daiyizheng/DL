{
 "cells": [
  {
   "cell_type": "markdown",
   "metadata": {},
   "source": [
    "# 日期和时间\n",
    "\n",
    "\n",
    "R用一种特殊的类表示日期和时间，如同之前的列表类\n",
    "\n",
    "-  日期用Date类表示，不包含时间，内部以1970-01-01至今的天数存储，可以使用 as.Date()函数强制转化字符串为Date 类\n",
    "- 时间则由两个不同的类，POSIXct和POSIXIt来表示，内部时间则是以1970-01-01至今 的秒数来存储的"
   ]
  },
  {
   "cell_type": "code",
   "execution_count": 2,
   "metadata": {
    "vscode": {
     "languageId": "r"
    }
   },
   "outputs": [
    {
     "data": {
      "text/html": [
       "<time datetime=\"1970-01-01\">1970-01-01</time>"
      ],
      "text/latex": [
       "1970-01-01"
      ],
      "text/markdown": [
       "1970-01-01"
      ],
      "text/plain": [
       "[1] \"1970-01-01\""
      ]
     },
     "metadata": {},
     "output_type": "display_data"
    },
    {
     "data": {
      "text/html": [
       "0"
      ],
      "text/latex": [
       "0"
      ],
      "text/markdown": [
       "0"
      ],
      "text/plain": [
       "[1] 0"
      ]
     },
     "metadata": {},
     "output_type": "display_data"
    },
    {
     "data": {
      "text/html": [
       "31"
      ],
      "text/latex": [
       "31"
      ],
      "text/markdown": [
       "31"
      ],
      "text/plain": [
       "[1] 31"
      ]
     },
     "metadata": {},
     "output_type": "display_data"
    }
   ],
   "source": [
    "x <- as.Date(\"1970-01-01\")\n",
    "x ## [1]\"1970-01-01\"\n",
    "unclass(x) #    如果是1970-01-01之前的日期是负数\n",
    "## [1]0\n",
    "unclass(as.Date(\"1970-02-01\")) ## [1]31\n"
   ]
  },
  {
   "cell_type": "markdown",
   "metadata": {},
   "source": [
    "许多绘图函数能识别日期时间对象，会给x轴一个特殊的格式"
   ]
  },
  {
   "cell_type": "markdown",
   "metadata": {},
   "source": [
    "## 时间函数\n",
    "\n",
    "可以 在POSIXct 和POSIXIt 之间来回类型转换，使用`as.POSIXct()` 或`as.POSIXlt()`函数\n"
   ]
  },
  {
   "cell_type": "code",
   "execution_count": 3,
   "metadata": {
    "vscode": {
     "languageId": "r"
    }
   },
   "outputs": [
    {
     "data": {
      "text/plain": [
       "[1] \"2024-08-22 00:48:11 EDT\""
      ]
     },
     "metadata": {},
     "output_type": "display_data"
    },
    {
     "data": {
      "text/html": [
       "1724302091.32631"
      ],
      "text/latex": [
       "1724302091.32631"
      ],
      "text/markdown": [
       "1724302091.32631"
      ],
      "text/plain": [
       "[1] 1724302091"
      ]
     },
     "metadata": {},
     "output_type": "display_data"
    }
   ],
   "source": [
    "x <- Sys.time()\n",
    "x # 已经是POSIXct格式 #[1]\"2017-11-2616:01:13           CST\"\n",
    "unclass(x)\n"
   ]
  },
  {
   "cell_type": "code",
   "execution_count": 8,
   "metadata": {
    "vscode": {
     "languageId": "r"
    }
   },
   "outputs": [
    {
     "data": {
      "text/plain": [
       "[1] \"2024-08-22 00:48:11 EDT\""
      ]
     },
     "metadata": {},
     "output_type": "display_data"
    },
    {
     "data": {
      "text/html": [
       "<table class=\"dataframe\">\n",
       "<caption>A data.frame: 1 × 11</caption>\n",
       "<thead>\n",
       "\t<tr><th scope=col>sec</th><th scope=col>min</th><th scope=col>hour</th><th scope=col>mday</th><th scope=col>mon</th><th scope=col>year</th><th scope=col>wday</th><th scope=col>yday</th><th scope=col>isdst</th><th scope=col>zone</th><th scope=col>gmtoff</th></tr>\n",
       "\t<tr><th scope=col>&lt;dbl&gt;</th><th scope=col>&lt;int&gt;</th><th scope=col>&lt;int&gt;</th><th scope=col>&lt;int&gt;</th><th scope=col>&lt;int&gt;</th><th scope=col>&lt;int&gt;</th><th scope=col>&lt;int&gt;</th><th scope=col>&lt;int&gt;</th><th scope=col>&lt;int&gt;</th><th scope=col>&lt;chr&gt;</th><th scope=col>&lt;int&gt;</th></tr>\n",
       "</thead>\n",
       "<tbody>\n",
       "\t<tr><td>11.32631</td><td>48</td><td>0</td><td>22</td><td>7</td><td>124</td><td>4</td><td>234</td><td>1</td><td>EDT</td><td>-14400</td></tr>\n",
       "</tbody>\n",
       "</table>\n"
      ],
      "text/latex": [
       "A data.frame: 1 × 11\n",
       "\\begin{tabular}{lllllllllll}\n",
       " sec & min & hour & mday & mon & year & wday & yday & isdst & zone & gmtoff\\\\\n",
       " <dbl> & <int> & <int> & <int> & <int> & <int> & <int> & <int> & <int> & <chr> & <int>\\\\\n",
       "\\hline\n",
       "\t 11.32631 & 48 & 0 & 22 & 7 & 124 & 4 & 234 & 1 & EDT & -14400\\\\\n",
       "\\end{tabular}\n"
      ],
      "text/markdown": [
       "\n",
       "A data.frame: 1 × 11\n",
       "\n",
       "| sec &lt;dbl&gt; | min &lt;int&gt; | hour &lt;int&gt; | mday &lt;int&gt; | mon &lt;int&gt; | year &lt;int&gt; | wday &lt;int&gt; | yday &lt;int&gt; | isdst &lt;int&gt; | zone &lt;chr&gt; | gmtoff &lt;int&gt; |\n",
       "|---|---|---|---|---|---|---|---|---|---|---|\n",
       "| 11.32631 | 48 | 0 | 22 | 7 | 124 | 4 | 234 | 1 | EDT | -14400 |\n",
       "\n"
      ],
      "text/plain": [
       "  sec      min hour mday mon year wday yday isdst zone gmtoff\n",
       "1 11.32631 48  0    22   7   124  4    234  1     EDT  -14400"
      ]
     },
     "metadata": {},
     "output_type": "display_data"
    }
   ],
   "source": [
    "p <- as.POSIXlt(x)\n",
    "p\n",
    "as.data.frame(unclass(p)) #         见?DateTimeClasses\n"
   ]
  },
  {
   "cell_type": "code",
   "execution_count": 7,
   "metadata": {
    "vscode": {
     "languageId": "r"
    }
   },
   "outputs": [
    {
     "data": {
      "text/html": [
       "11.326313495636"
      ],
      "text/latex": [
       "11.326313495636"
      ],
      "text/markdown": [
       "11.326313495636"
      ],
      "text/plain": [
       "[1] 11.32631"
      ]
     },
     "metadata": {},
     "output_type": "display_data"
    },
    {
     "data": {
      "text/html": [
       "'Thursday'"
      ],
      "text/latex": [
       "'Thursday'"
      ],
      "text/markdown": [
       "'Thursday'"
      ],
      "text/plain": [
       "[1] \"Thursday\""
      ]
     },
     "metadata": {},
     "output_type": "display_data"
    },
    {
     "data": {
      "text/html": [
       "'August'"
      ],
      "text/latex": [
       "'August'"
      ],
      "text/markdown": [
       "'August'"
      ],
      "text/plain": [
       "[1] \"August\""
      ]
     },
     "metadata": {},
     "output_type": "display_data"
    },
    {
     "data": {
      "text/html": [
       "'Q3'"
      ],
      "text/latex": [
       "'Q3'"
      ],
      "text/markdown": [
       "'Q3'"
      ],
      "text/plain": [
       "[1] \"Q3\""
      ]
     },
     "metadata": {},
     "output_type": "display_data"
    }
   ],
   "source": [
    "p$sec\n",
    "## [1]13.40519\n",
    "weekdays(p)\n",
    "## [1]\"星期日\"\n",
    "months(p)\n",
    "## [1]\"十一月\"\n",
    "quarters(p)\n",
    "## [1]\"Q4\"\n"
   ]
  },
  {
   "cell_type": "markdown",
   "metadata": {},
   "source": [
    "## 时间函数\n",
    "\n",
    "\n",
    "`strptime()`函数用于将任意格式的字符串表示的日期转换成时间对象POSIXIt,用到了所 谓的格式字符串"
   ]
  },
  {
   "cell_type": "code",
   "execution_count": 10,
   "metadata": {
    "vscode": {
     "languageId": "r"
    }
   },
   "outputs": [
    {
     "data": {
      "text/plain": [
       "[1] \"2012-01-10 10:40:00 EST\" \"2011-12-09 09:10:00 EST\""
      ]
     },
     "metadata": {},
     "output_type": "display_data"
    }
   ],
   "source": [
    "date <- c(\"0110,201210:40\", \"1209,201109:10\")\n",
    "x <- strptime(date, \"%m %d,%Y %H:%M\")\n",
    "x\n"
   ]
  },
  {
   "cell_type": "code",
   "execution_count": 11,
   "metadata": {
    "vscode": {
     "languageId": "r"
    }
   },
   "outputs": [
    {
     "data": {
      "text/html": [
       "<style>\n",
       ".list-inline {list-style: none; margin:0; padding: 0}\n",
       ".list-inline>li {display: inline-block}\n",
       ".list-inline>li:not(:last-child)::after {content: \"\\00b7\"; padding: 0 .5ex}\n",
       "</style>\n",
       "<ol class=list-inline><li>'POSIXlt'</li><li>'POSIXt'</li></ol>\n"
      ],
      "text/latex": [
       "\\begin{enumerate*}\n",
       "\\item 'POSIXlt'\n",
       "\\item 'POSIXt'\n",
       "\\end{enumerate*}\n"
      ],
      "text/markdown": [
       "1. 'POSIXlt'\n",
       "2. 'POSIXt'\n",
       "\n",
       "\n"
      ],
      "text/plain": [
       "[1] \"POSIXlt\" \"POSIXt\" "
      ]
     },
     "metadata": {},
     "output_type": "display_data"
    }
   ],
   "source": [
    "class(x)\n",
    "## [1]\"POSIXlt\"\"POSIXt\"\n"
   ]
  },
  {
   "cell_type": "markdown",
   "metadata": {},
   "source": [
    "## 日期和时间运算\n",
    "\n",
    "\n",
    "使用数学运算符(+,-,)和比较运算符(==,<=等)计算日期和时间，必须是相同的时间类之间 才能运算"
   ]
  },
  {
   "cell_type": "code",
   "execution_count": 15,
   "metadata": {
    "vscode": {
     "languageId": "r"
    }
   },
   "outputs": [
    {
     "name": "stderr",
     "output_type": "stream",
     "text": [
      "Warning message in eval(expr, envir, enclos):\n",
      "“Incompatible methods (\"-.Date\", \"-.POSIXt\") for \"-\"”\n"
     ]
    },
    {
     "ename": "ERROR",
     "evalue": "Error in x - y: non-numeric argument to binary operator\n",
     "output_type": "error",
     "traceback": [
      "Error in x - y: non-numeric argument to binary operator\nTraceback:\n"
     ]
    }
   ],
   "source": [
    "x <- as.Date(\"2012-01-01\")\n",
    "y <- strptime(\"9 01 2011 11:34:21\", \"%d %m %Y %H:%M:%S\")\n",
    "x - y\n"
   ]
  },
  {
   "cell_type": "code",
   "execution_count": 19,
   "metadata": {
    "vscode": {
     "languageId": "r"
    }
   },
   "outputs": [
    {
     "data": {
      "text/plain": [
       "Time difference of 356.3095 days"
      ]
     },
     "metadata": {},
     "output_type": "display_data"
    },
    {
     "data": {
      "text/html": [
       "'difftime'"
      ],
      "text/latex": [
       "'difftime'"
      ],
      "text/markdown": [
       "'difftime'"
      ],
      "text/plain": [
       "[1] \"difftime\""
      ]
     },
     "metadata": {},
     "output_type": "display_data"
    }
   ],
   "source": [
    "x <- as.POSIXlt(x)\n",
    "c <- x - y\n",
    "## Time difference of356.8511 days\n",
    "c\n",
    "class(c)\n"
   ]
  },
  {
   "cell_type": "markdown",
   "metadata": {},
   "source": [
    "日期时间运算符的好处在于能记录闰年，时令，时区"
   ]
  },
  {
   "cell_type": "code",
   "execution_count": 20,
   "metadata": {
    "vscode": {
     "languageId": "r"
    }
   },
   "outputs": [
    {
     "data": {
      "text/plain": [
       "Time difference of 2 days"
      ]
     },
     "metadata": {},
     "output_type": "display_data"
    }
   ],
   "source": [
    "x <- as.Date(\"2012-03-01\")\n",
    "y <- as.Date(\"2012-02-28\")\n",
    "x - y\n"
   ]
  },
  {
   "cell_type": "code",
   "execution_count": 23,
   "metadata": {
    "vscode": {
     "languageId": "r"
    }
   },
   "outputs": [
    {
     "data": {
      "text/plain": [
       "Time difference of -4 hours"
      ]
     },
     "metadata": {},
     "output_type": "display_data"
    }
   ],
   "source": [
    "x <- as.POSIXlt(\"2012-10-25 01:00:00\")\n",
    "y <- as.POSIXlt(\"2012-10-25 01:00:00\", tz = \"GMT\")\n",
    "y - x\n"
   ]
  },
  {
   "cell_type": "markdown",
   "metadata": {},
   "source": [
    "## 计算时间差\n",
    "\n",
    "\n",
    "时间间隔有若干种计算的方式，计算时又常常需要考虑闰年和时区的影响，默认得到的结 果是天数，也可以简单的换算成相应的时，分，秒，周.而如果要换算成月和年，需要用到序  列或者外部包里的函数\n",
    "\n",
    "base包中常见的计算时间差的方式有： \n",
    "- time1-time2\n",
    "- difftime(time1,time2,units)\n",
    "- seq(time2,time1,by)    得到序列，通过length()   查看间隔"
   ]
  },
  {
   "cell_type": "code",
   "execution_count": 24,
   "metadata": {
    "vscode": {
     "languageId": "r"
    }
   },
   "outputs": [
    {
     "data": {
      "text/plain": [
       "Time difference of 730.9576 days"
      ]
     },
     "metadata": {},
     "output_type": "display_data"
    }
   ],
   "source": [
    "timel <- as.POSIXlt(\"2017-11-0411:59:00\")\n",
    "time2 <- as.POSIXlt(\"2015-11-0412:00:00\")\n",
    "timel - time2\n"
   ]
  },
  {
   "cell_type": "code",
   "execution_count": 25,
   "metadata": {
    "vscode": {
     "languageId": "r"
    }
   },
   "outputs": [
    {
     "data": {
      "text/plain": [
       "Time difference of 104.4225 weeks"
      ]
     },
     "metadata": {},
     "output_type": "display_data"
    }
   ],
   "source": [
    "difftime(timel, time2, units = \"weeks\")\n"
   ]
  },
  {
   "cell_type": "code",
   "execution_count": 26,
   "metadata": {
    "vscode": {
     "languageId": "r"
    }
   },
   "outputs": [
    {
     "data": {
      "text/plain": [
       "[1] \"2015-11-04 12:00:00 EST\" \"2016-11-04 12:00:00 EDT\""
      ]
     },
     "metadata": {},
     "output_type": "display_data"
    }
   ],
   "source": [
    "td <- seq(time2, timel, by = \"year\")\n",
    "td\n"
   ]
  },
  {
   "cell_type": "code",
   "execution_count": 27,
   "metadata": {
    "vscode": {
     "languageId": "r"
    }
   },
   "outputs": [
    {
     "data": {
      "text/html": [
       "2"
      ],
      "text/latex": [
       "2"
      ],
      "text/markdown": [
       "2"
      ],
      "text/plain": [
       "[1] 2"
      ]
     },
     "metadata": {},
     "output_type": "display_data"
    }
   ],
   "source": [
    "length(td)\n"
   ]
  },
  {
   "cell_type": "code",
   "execution_count": 28,
   "metadata": {
    "vscode": {
     "languageId": "r"
    }
   },
   "outputs": [
    {
     "data": {
      "text/plain": [
       "[1] \"2015-11-04 12:00:00 EST\" \"2015-12-04 12:00:00 EST\"\n",
       "[3] \"2016-01-04 12:00:00 EST\" \"2016-02-04 12:00:00 EST\""
      ]
     },
     "metadata": {},
     "output_type": "display_data"
    }
   ],
   "source": [
    "seq(as.POSIXlt(\"2015-11-0412:00:00\"), by = \"month\", length.out = 4)\n"
   ]
  },
  {
   "cell_type": "code",
   "execution_count": 34,
   "metadata": {
    "vscode": {
     "languageId": "r"
    }
   },
   "outputs": [
    {
     "data": {
      "text/plain": [
       "[1] \"2015-11-04 12:00:00 EST\" \"2015-10-04 12:00:00 EDT\"\n",
       "[3] \"2015-09-04 12:00:00 EDT\" \"2015-08-04 12:00:00 EDT\""
      ]
     },
     "metadata": {},
     "output_type": "display_data"
    }
   ],
   "source": [
    "seq(as.POSIXlt(\"2015-11-0412:00:00\"), by = \"-1 month\", length.out = 4)\n"
   ]
  },
  {
   "cell_type": "markdown",
   "metadata": {},
   "source": [
    "## 第三方包\n",
    "```shell\n",
    "BiocManager::install(\"lubridate\")\n",
    "```"
   ]
  },
  {
   "cell_type": "code",
   "execution_count": 35,
   "metadata": {
    "vscode": {
     "languageId": "r"
    }
   },
   "outputs": [
    {
     "name": "stderr",
     "output_type": "stream",
     "text": [
      "\n",
      "Attaching package: ‘lubridate’\n",
      "\n",
      "\n",
      "The following objects are masked from ‘package:base’:\n",
      "\n",
      "    date, intersect, setdiff, union\n",
      "\n",
      "\n"
     ]
    }
   ],
   "source": [
    "# library(\"package, help, pos = 2, lib.loc = NULL\")\n",
    "library(\"lubridate\")\n"
   ]
  },
  {
   "cell_type": "markdown",
   "metadata": {},
   "source": [
    "## 使用lubridate函数处理日期和时间数据："
   ]
  },
  {
   "cell_type": "code",
   "execution_count": 43,
   "metadata": {
    "vscode": {
     "languageId": "r"
    }
   },
   "outputs": [
    {
     "name": "stdout",
     "output_type": "stream",
     "text": [
      "[1] \"2021-01-31\"\n",
      "[1] \"2021-01-31\"\n",
      "[1] \"2021-01-31\"\n",
      "[1] \"2017-01-31\"\n"
     ]
    }
   ],
   "source": [
    "# 创建年-月-日格式的日期\n",
    "date_ymd <- ymd(\"2021-01-31\")\n",
    "print(date_ymd) # [1] \"2021-01-31\"\n",
    "\n",
    "# 创建月-日-年格式的日期\n",
    "date_mdy <- mdy(\"January 31st, 2021\")\n",
    "print(date_mdy) # [1] \"2021-01-31\"\n",
    "\n",
    "# 创建日-月-年格式的日期\n",
    "date_dmy <- dmy(\"31-Jan-2021\")\n",
    "print(date_dmy) # [1] \"2021-01-31\"\n",
    "\n",
    "# 从整数创建日期\n",
    "date_ymd_int <- ymd(20170131)\n",
    "print(date_ymd_int) # [1] \"2017-01-31\"\n"
   ]
  },
  {
   "cell_type": "code",
   "execution_count": 44,
   "metadata": {
    "vscode": {
     "languageId": "r"
    }
   },
   "outputs": [
    {
     "name": "stdout",
     "output_type": "stream",
     "text": [
      "[1] \"2021-01-10 UTC\"\n"
     ]
    }
   ],
   "source": [
    "# 设置时区为 UTC\n",
    "datetime_with_tz <- ymd(\"2021-1-10\", tz = \"UTC\")\n",
    "print(datetime_with_tz) # [1] \"2021-01-10 UTC\"\n"
   ]
  },
  {
   "cell_type": "code",
   "execution_count": 36,
   "metadata": {
    "vscode": {
     "languageId": "r"
    }
   },
   "outputs": [
    {
     "data": {
      "text/html": [
       "2022"
      ],
      "text/latex": [
       "2022"
      ],
      "text/markdown": [
       "2022"
      ],
      "text/plain": [
       "[1] 2022"
      ]
     },
     "metadata": {},
     "output_type": "display_data"
    },
    {
     "data": {
      "text/html": [
       "1"
      ],
      "text/latex": [
       "1"
      ],
      "text/markdown": [
       "1"
      ],
      "text/plain": [
       "[1] 1"
      ]
     },
     "metadata": {},
     "output_type": "display_data"
    },
    {
     "data": {
      "text/html": [
       "1"
      ],
      "text/latex": [
       "1"
      ],
      "text/markdown": [
       "1"
      ],
      "text/plain": [
       "[1] 1"
      ]
     },
     "metadata": {},
     "output_type": "display_data"
    }
   ],
   "source": [
    "# 创建日期对象\n",
    "date_obj <- ymd(\"20220101\")\n",
    "\n",
    "# 提取日期对象的年份\n",
    "year(date_obj)\n",
    "\n",
    "# 提取日期对象的月份\n",
    "month(date_obj)\n",
    "\n",
    "# 提取日期对象的天数\n",
    "day(date_obj)\n"
   ]
  },
  {
   "cell_type": "code",
   "execution_count": 45,
   "metadata": {
    "vscode": {
     "languageId": "r"
    }
   },
   "outputs": [
    {
     "name": "stdout",
     "output_type": "stream",
     "text": [
      "[1] \"9H 23M 31S\"\n",
      "[1] \"2021-01-05 05:12:39 UTC\"\n",
      "[1] \"2021-01-31 05:00:00 UTC\"\n"
     ]
    }
   ],
   "source": [
    "## 创建时间\n",
    "# 创建小时:分钟:秒格式的时间\n",
    "time_hms <- hms(\"09:23:31\")\n",
    "print(time_hms) # [1] \"9H 23M 31S\"\n",
    "\n",
    "# 创建年-月-日 时:分:秒格式的日期时间\n",
    "datetime_ymd_hms <- ymd_hms(\"2021-1-5 5:12:39\")\n",
    "print(datetime_ymd_hms) # [1] \"2021-01-05 05:12:39 UTC\"\n",
    "\n",
    "# 创建年-月-日 时:分格式的日期时间（秒可省略）\n",
    "datetime_ymd_hm <- ymd_hm(\"2021-01-31 05:00\")\n",
    "print(datetime_ymd_hm) # [1] \"2021-01-31 05:00:00 UTC\"\n"
   ]
  },
  {
   "cell_type": "code",
   "execution_count": 37,
   "metadata": {
    "vscode": {
     "languageId": "r"
    }
   },
   "outputs": [
    {
     "data": {
      "text/html": [
       "12"
      ],
      "text/latex": [
       "12"
      ],
      "text/markdown": [
       "12"
      ],
      "text/plain": [
       "[1] 12"
      ]
     },
     "metadata": {},
     "output_type": "display_data"
    },
    {
     "data": {
      "text/html": [
       "0"
      ],
      "text/latex": [
       "0"
      ],
      "text/markdown": [
       "0"
      ],
      "text/plain": [
       "[1] 0"
      ]
     },
     "metadata": {},
     "output_type": "display_data"
    },
    {
     "data": {
      "text/html": [
       "0"
      ],
      "text/latex": [
       "0"
      ],
      "text/markdown": [
       "0"
      ],
      "text/plain": [
       "[1] 0"
      ]
     },
     "metadata": {},
     "output_type": "display_data"
    }
   ],
   "source": [
    "# 创建日期时间对象\n",
    "datetime_obj <- ymd_hms(\"20220101 12:00:00\")\n",
    "\n",
    "# 提取日期时间对象的小时数\n",
    "hour(datetime_obj)\n",
    "\n",
    "# 提取日期时间对象的分钟数\n",
    "minute(datetime_obj)\n",
    "\n",
    "# 提取日期时间对象的秒数\n",
    "second(datetime_obj)\n"
   ]
  },
  {
   "cell_type": "code",
   "execution_count": 38,
   "metadata": {
    "vscode": {
     "languageId": "r"
    }
   },
   "outputs": [
    {
     "data": {
      "text/html": [
       "'2022-01-01'"
      ],
      "text/latex": [
       "'2022-01-01'"
      ],
      "text/markdown": [
       "'2022-01-01'"
      ],
      "text/plain": [
       "[1] \"2022-01-01\""
      ]
     },
     "metadata": {},
     "output_type": "display_data"
    }
   ],
   "source": [
    "# 格式化日期对象\n",
    "format(date_obj, \"%Y-%m-%d\")\n"
   ]
  },
  {
   "cell_type": "code",
   "execution_count": 39,
   "metadata": {
    "vscode": {
     "languageId": "r"
    }
   },
   "outputs": [
    {
     "data": {
      "text/plain": [
       "Time difference of -9 days"
      ]
     },
     "metadata": {},
     "output_type": "display_data"
    }
   ],
   "source": [
    "# 计算日期之间的差值\n",
    "date_diff <- difftime(ymd(\"20220101\"), ymd(\"20220110\"))\n",
    "date_diff\n"
   ]
  },
  {
   "cell_type": "code",
   "execution_count": 41,
   "metadata": {
    "vscode": {
     "languageId": "r"
    }
   },
   "outputs": [
    {
     "data": {
      "text/plain": [
       "[1] \"2022-01-01 12:00:00 UTC\""
      ]
     },
     "metadata": {},
     "output_type": "display_data"
    }
   ],
   "source": [
    "datetime_obj\n"
   ]
  },
  {
   "cell_type": "code",
   "execution_count": 42,
   "metadata": {
    "vscode": {
     "languageId": "r"
    }
   },
   "outputs": [
    {
     "data": {
      "text/plain": [
       "[1] \"2022-01-01 07:00:00 EST\""
      ]
     },
     "metadata": {},
     "output_type": "display_data"
    }
   ],
   "source": [
    "# 将日期时间对象转换为特定时区的日期时间对象\n",
    "with_tz(datetime_obj, \"America/New_York\")\n"
   ]
  },
  {
   "cell_type": "markdown",
   "metadata": {},
   "source": [
    "## 转换数据类型创建日期时间"
   ]
  },
  {
   "cell_type": "code",
   "execution_count": 46,
   "metadata": {
    "vscode": {
     "languageId": "r"
    }
   },
   "outputs": [
    {
     "name": "stdout",
     "output_type": "stream",
     "text": [
      "[1] \"2013-06-10 23:59:59 UTC\"\n",
      "[1] \"2013-06-10\"\n",
      "[1] \"2024-08-22 UTC\"\n",
      "[1] \"2024-08-22\"\n"
     ]
    }
   ],
   "source": [
    "# 转换字符为日期时间\n",
    "datetime_from_char <- as_datetime(\"2013-06-10 23:59:59\")\n",
    "print(datetime_from_char) # [1] \"2013-06-10 23:59:59 UTC\"\n",
    "\n",
    "# 转换字符为日期\n",
    "date_from_char <- as_date(\"2013/06/10\")\n",
    "print(date_from_char) # [1] \"2013-06-10\"\n",
    "\n",
    "# 获取当前日期时间\n",
    "current_datetime <- as_datetime(today())\n",
    "print(current_datetime) # [1] 当前日期时间\n",
    "\n",
    "# 获取当前日期\n",
    "current_date <- as_date(now())\n",
    "print(current_date) # [1] 当前日期\n"
   ]
  },
  {
   "cell_type": "markdown",
   "metadata": {},
   "source": [
    "## 日期时间的四舍五入\n"
   ]
  },
  {
   "cell_type": "code",
   "execution_count": 52,
   "metadata": {
    "vscode": {
     "languageId": "r"
    }
   },
   "outputs": [
    {
     "name": "stdout",
     "output_type": "stream",
     "text": [
      "[1] \"2024-08-22 01:51:00 EDT\"\n",
      "[1] \"2024-08-22 EDT\"\n",
      "[1] \"2024-08-23 EDT\"\n"
     ]
    }
   ],
   "source": [
    "mydatetime <- now()\n",
    "\n",
    "# 四舍五入到最近的分钟\n",
    "rounded_minute <- round_date(mydatetime, \"minute\")\n",
    "print(rounded_minute) # [1] \"2021-06-03 21:36:00 UTC\"\n",
    "\n",
    "# 向下取整到最近的天\n",
    "floored_day <- floor_date(mydatetime, \"day\")\n",
    "print(floored_day) # [1] \"2021-06-03\"\n",
    "\n",
    "# 向上取整到最近的天\n",
    "ceiled_day <- ceiling_date(mydatetime, \"day\")\n",
    "print(ceiled_day) # [1] \"2021-06-04\"\n"
   ]
  },
  {
   "cell_type": "markdown",
   "metadata": {},
   "source": [
    "## 设置日期时间的组件"
   ]
  },
  {
   "cell_type": "code",
   "execution_count": 53,
   "metadata": {
    "vscode": {
     "languageId": "r"
    }
   },
   "outputs": [
    {
     "data": {
      "text/plain": [
       "[1] \"2024-08-22 01:50:52 EDT\""
      ]
     },
     "metadata": {},
     "output_type": "display_data"
    },
    {
     "name": "stdout",
     "output_type": "stream",
     "text": [
      "[1] \"2024-08-10 01:50:52 EDT\"\n",
      "[1] \"2024-08-10 06:50:52 EDT\"\n"
     ]
    }
   ],
   "source": [
    "mydatetime\n",
    "# 设置日期时间的某个组件\n",
    "mday(mydatetime) <- 10\n",
    "print(mydatetime) # 日期设为10日\n",
    "\n",
    "hour(mydatetime) <- hour(mydatetime) + 5\n",
    "print(mydatetime) # 增加5个小时\n"
   ]
  },
  {
   "cell_type": "code",
   "execution_count": 57,
   "metadata": {
    "vscode": {
     "languageId": "r"
    }
   },
   "outputs": [
    {
     "ename": "ERROR",
     "evalue": "Error in hour.default(): argument \"x\" is missing, with no default\n",
     "output_type": "error",
     "traceback": [
      "Error in hour.default(): argument \"x\" is missing, with no default\nTraceback:\n",
      "1. hour()",
      "2. hour.default()",
      "3. as.POSIXlt(x, tz = tz(x))"
     ]
    }
   ],
   "source": []
  },
  {
   "cell_type": "markdown",
   "metadata": {},
   "source": [
    "## 时间间隔与持续时间\n"
   ]
  },
  {
   "cell_type": "code",
   "execution_count": 61,
   "metadata": {
    "vscode": {
     "languageId": "r"
    }
   },
   "outputs": [
    {
     "data": {
      "text/plain": [
       "Time difference of 8634 days"
      ]
     },
     "metadata": {},
     "output_type": "display_data"
    }
   ],
   "source": [
    "today() - ymd(\"2001-01-01\")\n"
   ]
  },
  {
   "cell_type": "code",
   "execution_count": 58,
   "metadata": {
    "vscode": {
     "languageId": "r"
    }
   },
   "outputs": [
    {
     "name": "stdout",
     "output_type": "stream",
     "text": [
      "[1] \"745977600s (~23.64 years)\"\n"
     ]
    }
   ],
   "source": [
    "# 创建 duration 对象\n",
    "duration_obj <- as.duration(today() - ymd(\"2001-01-01\"))\n",
    "print(duration_obj) # 以秒为单位显示持续时间\n"
   ]
  },
  {
   "cell_type": "code",
   "execution_count": 59,
   "metadata": {
    "vscode": {
     "languageId": "r"
    }
   },
   "outputs": [
    {
     "name": "stdout",
     "output_type": "stream",
     "text": [
      "[1] \"1y 3m 20d 0H 0M 0S\"\n"
     ]
    }
   ],
   "source": [
    "# 创建 period 对象\n",
    "period_obj <- years(1) + months(3) + days(20)\n",
    "print(period_obj) # 显示年、月、日的时间段\n"
   ]
  },
  {
   "cell_type": "code",
   "execution_count": 60,
   "metadata": {
    "vscode": {
     "languageId": "r"
    }
   },
   "outputs": [
    {
     "name": "stdout",
     "output_type": "stream",
     "text": [
      "[1] 2009-01-01 UTC--2010-02-02 01:01:01 UTC\n"
     ]
    }
   ],
   "source": [
    "# 创建 interval 对象\n",
    "interval_obj <- interval(ymd_hms(\"2009-01-01 00:00:00\"), ymd_hms(\"2010-02-02 01:01:01\"))\n",
    "print(interval_obj) # 显示时间间隔\n"
   ]
  },
  {
   "cell_type": "code",
   "execution_count": 69,
   "metadata": {
    "vscode": {
     "languageId": "r"
    }
   },
   "outputs": [
    {
     "data": {
      "text/html": [
       "<time datetime=\"2024-08-22\">2024-08-22</time>"
      ],
      "text/latex": [
       "2024-08-22"
      ],
      "text/markdown": [
       "2024-08-22"
      ],
      "text/plain": [
       "[1] \"2024-08-22\""
      ]
     },
     "metadata": {},
     "output_type": "display_data"
    }
   ],
   "source": [
    "make_date(year = year(today()), month = month(today()), day = day(today()))\n"
   ]
  },
  {
   "cell_type": "code",
   "execution_count": 78,
   "metadata": {
    "vscode": {
     "languageId": "r"
    }
   },
   "outputs": [
    {
     "data": {
      "text/plain": [
       "[1] \"2020-12-04 12:00:00 UTC\""
      ]
     },
     "metadata": {},
     "output_type": "display_data"
    },
    {
     "data": {
      "text/plain": [
       "[1] \"2020-12-10 14:00:00 UTC\""
      ]
     },
     "metadata": {},
     "output_type": "display_data"
    },
    {
     "data": {
      "text/html": [
       "2020-12-04 12:00:00 UTC--2020-12-10 14:00:00 UTC"
      ],
      "text/latex": [
       "2020-12-04 12:00:00 UTC--2020-12-10 14:00:00 UTC"
      ],
      "text/markdown": [
       "2020-12-04 12:00:00 UTC--2020-12-10 14:00:00 UTC"
      ],
      "text/plain": [
       "[1] 2020-12-04 12:00:00 UTC--2020-12-10 14:00:00 UTC"
      ]
     },
     "metadata": {},
     "output_type": "display_data"
    }
   ],
   "source": [
    "arrive <- ymd_hms(\"2020-12-04 12:00:00\")\n",
    "arrive\n",
    "\n",
    "leave <- ymd_hms(\"2020-12-10 14:00:00\")\n",
    "leave\n",
    "\n",
    "res <- interval(arrive, leave)\n",
    "res <- arrive %--% leave\n",
    "res\n"
   ]
  },
  {
   "cell_type": "code",
   "execution_count": null,
   "metadata": {
    "vscode": {
     "languageId": "r"
    }
   },
   "outputs": [],
   "source": []
  }
 ],
 "metadata": {
  "kernelspec": {
   "display_name": "R",
   "language": "R",
   "name": "ir"
  },
  "language_info": {
   "codemirror_mode": "r",
   "file_extension": ".r",
   "mimetype": "text/x-r-source",
   "name": "R",
   "pygments_lexer": "r",
   "version": "4.4.1"
  }
 },
 "nbformat": 4,
 "nbformat_minor": 2
}
