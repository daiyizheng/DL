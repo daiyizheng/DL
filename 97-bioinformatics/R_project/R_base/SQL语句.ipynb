{
 "cells": [
  {
   "cell_type": "markdown",
   "metadata": {},
   "source": [
    "## 使用SQL语句汇总"
   ]
  },
  {
   "cell_type": "code",
   "execution_count": 2,
   "metadata": {
    "vscode": {
     "languageId": "r"
    }
   },
   "outputs": [
    {
     "name": "stderr",
     "output_type": "stream",
     "text": [
      "Loading required package: gsubfn\n",
      "\n",
      "Loading required package: proto\n",
      "\n",
      "Warning message:\n",
      "“no DISPLAY variable so Tk is not available”\n",
      "Loading required package: RSQLite\n",
      "\n"
     ]
    }
   ],
   "source": [
    "library(sqldf)\n"
   ]
  },
  {
   "cell_type": "code",
   "execution_count": 4,
   "metadata": {
    "vscode": {
     "languageId": "r"
    }
   },
   "outputs": [
    {
     "data": {
      "text/html": [
       "<table class=\"dataframe\">\n",
       "<caption>A data.frame: 3 × 3</caption>\n",
       "<thead>\n",
       "\t<tr><th scope=col>year</th><th scope=col>sum_sale</th><th scope=col>sum_profit</th></tr>\n",
       "\t<tr><th scope=col>&lt;int&gt;</th><th scope=col>&lt;int&gt;</th><th scope=col>&lt;int&gt;</th></tr>\n",
       "</thead>\n",
       "<tbody>\n",
       "\t<tr><td>2010</td><td>132834</td><td>10587</td></tr>\n",
       "\t<tr><td>2011</td><td>126953</td><td>10916</td></tr>\n",
       "\t<tr><td>2012</td><td>127909</td><td>10785</td></tr>\n",
       "</tbody>\n",
       "</table>\n"
      ],
      "text/latex": [
       "A data.frame: 3 × 3\n",
       "\\begin{tabular}{lll}\n",
       " year & sum\\_sale & sum\\_profit\\\\\n",
       " <int> & <int> & <int>\\\\\n",
       "\\hline\n",
       "\t 2010 & 132834 & 10587\\\\\n",
       "\t 2011 & 126953 & 10916\\\\\n",
       "\t 2012 & 127909 & 10785\\\\\n",
       "\\end{tabular}\n"
      ],
      "text/markdown": [
       "\n",
       "A data.frame: 3 × 3\n",
       "\n",
       "| year &lt;int&gt; | sum_sale &lt;int&gt; | sum_profit &lt;int&gt; |\n",
       "|---|---|---|\n",
       "| 2010 | 132834 | 10587 |\n",
       "| 2011 | 126953 | 10916 |\n",
       "| 2012 | 127909 | 10785 |\n",
       "\n"
      ],
      "text/plain": [
       "  year sum_sale sum_profit\n",
       "1 2010 132834   10587     \n",
       "2 2011 126953   10916     \n",
       "3 2012 127909   10785     "
      ]
     },
     "metadata": {},
     "output_type": "display_data"
    }
   ],
   "source": [
    "sale <- read.csv(\"./data/sale.csv\")\n",
    "sqldf(\"select year,sum(sale)as sum_sale,sum(profit) as sum_profit from sale group by year\")\n"
   ]
  },
  {
   "cell_type": "code",
   "execution_count": 5,
   "metadata": {
    "vscode": {
     "languageId": "r"
    }
   },
   "outputs": [
    {
     "data": {
      "text/html": [
       "<table class=\"dataframe\">\n",
       "<caption>A data.frame: 4 × 1</caption>\n",
       "<thead>\n",
       "\t<tr><th scope=col>market</th></tr>\n",
       "\t<tr><th scope=col>&lt;chr&gt;</th></tr>\n",
       "</thead>\n",
       "<tbody>\n",
       "\t<tr><td>¶«</td></tr>\n",
       "\t<tr><td>ÄÏ</td></tr>\n",
       "\t<tr><td>Î÷</td></tr>\n",
       "\t<tr><td>±±</td></tr>\n",
       "</tbody>\n",
       "</table>\n"
      ],
      "text/latex": [
       "A data.frame: 4 × 1\n",
       "\\begin{tabular}{l}\n",
       " market\\\\\n",
       " <chr>\\\\\n",
       "\\hline\n",
       "\t ¶«\\\\\n",
       "\t ÄÏ\\\\\n",
       "\t Î÷\\\\\n",
       "\t ±±\\\\\n",
       "\\end{tabular}\n"
      ],
      "text/markdown": [
       "\n",
       "A data.frame: 4 × 1\n",
       "\n",
       "| market &lt;chr&gt; |\n",
       "|---|\n",
       "| ¶« |\n",
       "| ÄÏ |\n",
       "| Î÷ |\n",
       "| ±± |\n",
       "\n"
      ],
      "text/plain": [
       "  market\n",
       "1 ¶«    \n",
       "2 ÄÏ    \n",
       "3 Î÷    \n",
       "4 ±±    "
      ]
     },
     "metadata": {},
     "output_type": "display_data"
    }
   ],
   "source": [
    "# 汇总某列；定位低于全国销售平均水平地域\n",
    "sqldf(\"select distinct market from sale\")\n"
   ]
  },
  {
   "cell_type": "code",
   "execution_count": 7,
   "metadata": {
    "vscode": {
     "languageId": "r"
    }
   },
   "outputs": [
    {
     "data": {
      "text/html": [
       "<table class=\"dataframe\">\n",
       "<caption>A data.frame: 1 × 1</caption>\n",
       "<thead>\n",
       "\t<tr><th scope=col>all_avg_sale</th></tr>\n",
       "\t<tr><th scope=col>&lt;dbl&gt;</th></tr>\n",
       "</thead>\n",
       "<tbody>\n",
       "\t<tr><td>32308</td></tr>\n",
       "</tbody>\n",
       "</table>\n"
      ],
      "text/latex": [
       "A data.frame: 1 × 1\n",
       "\\begin{tabular}{l}\n",
       " all\\_avg\\_sale\\\\\n",
       " <dbl>\\\\\n",
       "\\hline\n",
       "\t 32308\\\\\n",
       "\\end{tabular}\n"
      ],
      "text/markdown": [
       "\n",
       "A data.frame: 1 × 1\n",
       "\n",
       "| all_avg_sale &lt;dbl&gt; |\n",
       "|---|\n",
       "| 32308 |\n",
       "\n"
      ],
      "text/plain": [
       "  all_avg_sale\n",
       "1 32308       "
      ]
     },
     "metadata": {},
     "output_type": "display_data"
    }
   ],
   "source": [
    "sqldf(\"select avg(sale)as all_avg_sale from sale\")\n"
   ]
  },
  {
   "cell_type": "code",
   "execution_count": 9,
   "metadata": {
    "vscode": {
     "languageId": "r"
    }
   },
   "outputs": [
    {
     "data": {
      "text/html": [
       "<table class=\"dataframe\">\n",
       "<caption>A data.frame: 2 × 2</caption>\n",
       "<thead>\n",
       "\t<tr><th scope=col>market</th><th scope=col>mavg_sale</th></tr>\n",
       "\t<tr><th scope=col>&lt;chr&gt;</th><th scope=col>&lt;dbl&gt;</th></tr>\n",
       "</thead>\n",
       "<tbody>\n",
       "\t<tr><td>±±</td><td>31394.33</td></tr>\n",
       "\t<tr><td>ÄÏ</td><td>31753.67</td></tr>\n",
       "</tbody>\n",
       "</table>\n"
      ],
      "text/latex": [
       "A data.frame: 2 × 2\n",
       "\\begin{tabular}{ll}\n",
       " market & mavg\\_sale\\\\\n",
       " <chr> & <dbl>\\\\\n",
       "\\hline\n",
       "\t ±± & 31394.33\\\\\n",
       "\t ÄÏ & 31753.67\\\\\n",
       "\\end{tabular}\n"
      ],
      "text/markdown": [
       "\n",
       "A data.frame: 2 × 2\n",
       "\n",
       "| market &lt;chr&gt; | mavg_sale &lt;dbl&gt; |\n",
       "|---|---|\n",
       "| ±± | 31394.33 |\n",
       "| ÄÏ | 31753.67 |\n",
       "\n"
      ],
      "text/plain": [
       "  market mavg_sale\n",
       "1 ±±     31394.33 \n",
       "2 ÄÏ     31753.67 "
      ]
     },
     "metadata": {},
     "output_type": "display_data"
    }
   ],
   "source": [
    "sqldf(\"select market,avg(sale)as mavg_sale from sale group by market having mavg_sale<32308 order by mavg_sale\")\n"
   ]
  },
  {
   "cell_type": "markdown",
   "metadata": {},
   "source": [
    "\n",
    "- where引导的条件字节分组前处理，放在group by之前\n",
    "- having引导的条件字节一般跟在group by后面，相当于分组后的再处理."
   ]
  },
  {
   "cell_type": "code",
   "execution_count": 11,
   "metadata": {
    "vscode": {
     "languageId": "r"
    }
   },
   "outputs": [
    {
     "data": {
      "text/html": [
       "<table class=\"dataframe\">\n",
       "<caption>A data.frame: 3 × 2</caption>\n",
       "<thead>\n",
       "\t<tr><th scope=col>market</th><th scope=col>sum_sale</th></tr>\n",
       "\t<tr><th scope=col>&lt;chr&gt;</th><th scope=col>&lt;int&gt;</th></tr>\n",
       "</thead>\n",
       "<tbody>\n",
       "\t<tr><td>Î÷</td><td>66278</td></tr>\n",
       "\t<tr><td>¶«</td><td>63270</td></tr>\n",
       "\t<tr><td>ÄÏ</td><td>63015</td></tr>\n",
       "</tbody>\n",
       "</table>\n"
      ],
      "text/latex": [
       "A data.frame: 3 × 2\n",
       "\\begin{tabular}{ll}\n",
       " market & sum\\_sale\\\\\n",
       " <chr> & <int>\\\\\n",
       "\\hline\n",
       "\t Î÷ & 66278\\\\\n",
       "\t ¶« & 63270\\\\\n",
       "\t ÄÏ & 63015\\\\\n",
       "\\end{tabular}\n"
      ],
      "text/markdown": [
       "\n",
       "A data.frame: 3 × 2\n",
       "\n",
       "| market &lt;chr&gt; | sum_sale &lt;int&gt; |\n",
       "|---|---|\n",
       "| Î÷ | 66278 |\n",
       "| ¶« | 63270 |\n",
       "| ÄÏ | 63015 |\n",
       "\n"
      ],
      "text/plain": [
       "  market sum_sale\n",
       "1 Î÷     66278   \n",
       "2 ¶«     63270   \n",
       "3 ÄÏ     63015   "
      ]
     },
     "metadata": {},
     "output_type": "display_data"
    }
   ],
   "source": [
    "sqldf(\"select market,sum(sale)as sum_sale from sale where year>=2011 group by market having sum_sale>63000 order by sum_sale desc\")\n"
   ]
  },
  {
   "cell_type": "code",
   "execution_count": 12,
   "metadata": {
    "vscode": {
     "languageId": "r"
    }
   },
   "outputs": [
    {
     "data": {
      "text/html": [
       "<table class=\"dataframe\">\n",
       "<caption>A data.frame: 2 × 2</caption>\n",
       "<thead>\n",
       "\t<tr><th scope=col>market</th><th scope=col>mavg_sale</th></tr>\n",
       "\t<tr><th scope=col>&lt;chr&gt;</th><th scope=col>&lt;dbl&gt;</th></tr>\n",
       "</thead>\n",
       "<tbody>\n",
       "\t<tr><td>±±</td><td>31394.33</td></tr>\n",
       "\t<tr><td>ÄÏ</td><td>31753.67</td></tr>\n",
       "</tbody>\n",
       "</table>\n"
      ],
      "text/latex": [
       "A data.frame: 2 × 2\n",
       "\\begin{tabular}{ll}\n",
       " market & mavg\\_sale\\\\\n",
       " <chr> & <dbl>\\\\\n",
       "\\hline\n",
       "\t ±± & 31394.33\\\\\n",
       "\t ÄÏ & 31753.67\\\\\n",
       "\\end{tabular}\n"
      ],
      "text/markdown": [
       "\n",
       "A data.frame: 2 × 2\n",
       "\n",
       "| market &lt;chr&gt; | mavg_sale &lt;dbl&gt; |\n",
       "|---|---|\n",
       "| ±± | 31394.33 |\n",
       "| ÄÏ | 31753.67 |\n",
       "\n"
      ],
      "text/plain": [
       "  market mavg_sale\n",
       "1 ±±     31394.33 \n",
       "2 ÄÏ     31753.67 "
      ]
     },
     "metadata": {},
     "output_type": "display_data"
    }
   ],
   "source": [
    "sqldf(\"select market,avg(sale)as mavg_sale from sale group by market having mavg_sale<(select avg(sale)as all_avg_sale from sale) order by mavg_sale\")\n"
   ]
  },
  {
   "cell_type": "markdown",
   "metadata": {},
   "source": [
    "## 纵向连接表\n"
   ]
  },
  {
   "cell_type": "code",
   "execution_count": 19,
   "metadata": {
    "vscode": {
     "languageId": "r"
    }
   },
   "outputs": [
    {
     "data": {
      "text/html": [
       "<table class=\"dataframe\">\n",
       "<caption>A data.frame: 7 × 2</caption>\n",
       "<thead>\n",
       "\t<tr><th scope=col>id</th><th scope=col>x1</th></tr>\n",
       "\t<tr><th scope=col>&lt;dbl&gt;</th><th scope=col>&lt;chr&gt;</th></tr>\n",
       "</thead>\n",
       "<tbody>\n",
       "\t<tr><td>1</td><td>a</td></tr>\n",
       "\t<tr><td>1</td><td>a</td></tr>\n",
       "\t<tr><td>1</td><td>b</td></tr>\n",
       "\t<tr><td>2</td><td>c</td></tr>\n",
       "\t<tr><td>3</td><td>v</td></tr>\n",
       "\t<tr><td>4</td><td>e</td></tr>\n",
       "\t<tr><td>6</td><td>g</td></tr>\n",
       "</tbody>\n",
       "</table>\n"
      ],
      "text/latex": [
       "A data.frame: 7 × 2\n",
       "\\begin{tabular}{ll}\n",
       " id & x1\\\\\n",
       " <dbl> & <chr>\\\\\n",
       "\\hline\n",
       "\t 1 & a\\\\\n",
       "\t 1 & a\\\\\n",
       "\t 1 & b\\\\\n",
       "\t 2 & c\\\\\n",
       "\t 3 & v\\\\\n",
       "\t 4 & e\\\\\n",
       "\t 6 & g\\\\\n",
       "\\end{tabular}\n"
      ],
      "text/markdown": [
       "\n",
       "A data.frame: 7 × 2\n",
       "\n",
       "| id &lt;dbl&gt; | x1 &lt;chr&gt; |\n",
       "|---|---|\n",
       "| 1 | a |\n",
       "| 1 | a |\n",
       "| 1 | b |\n",
       "| 2 | c |\n",
       "| 3 | v |\n",
       "| 4 | e |\n",
       "| 6 | g |\n",
       "\n"
      ],
      "text/plain": [
       "  id x1\n",
       "1 1  a \n",
       "2 1  a \n",
       "3 1  b \n",
       "4 2  c \n",
       "5 3  v \n",
       "6 4  e \n",
       "7 6  g "
      ]
     },
     "metadata": {},
     "output_type": "display_data"
    },
    {
     "data": {
      "text/html": [
       "<table class=\"dataframe\">\n",
       "<caption>A data.frame: 5 × 2</caption>\n",
       "<thead>\n",
       "\t<tr><th scope=col>id</th><th scope=col>y1</th></tr>\n",
       "\t<tr><th scope=col>&lt;dbl&gt;</th><th scope=col>&lt;chr&gt;</th></tr>\n",
       "</thead>\n",
       "<tbody>\n",
       "\t<tr><td>1</td><td>x</td></tr>\n",
       "\t<tr><td>2</td><td>y</td></tr>\n",
       "\t<tr><td>3</td><td>z</td></tr>\n",
       "\t<tr><td>3</td><td>v</td></tr>\n",
       "\t<tr><td>5</td><td>w</td></tr>\n",
       "</tbody>\n",
       "</table>\n"
      ],
      "text/latex": [
       "A data.frame: 5 × 2\n",
       "\\begin{tabular}{ll}\n",
       " id & y1\\\\\n",
       " <dbl> & <chr>\\\\\n",
       "\\hline\n",
       "\t 1 & x\\\\\n",
       "\t 2 & y\\\\\n",
       "\t 3 & z\\\\\n",
       "\t 3 & v\\\\\n",
       "\t 5 & w\\\\\n",
       "\\end{tabular}\n"
      ],
      "text/markdown": [
       "\n",
       "A data.frame: 5 × 2\n",
       "\n",
       "| id &lt;dbl&gt; | y1 &lt;chr&gt; |\n",
       "|---|---|\n",
       "| 1 | x |\n",
       "| 2 | y |\n",
       "| 3 | z |\n",
       "| 3 | v |\n",
       "| 5 | w |\n",
       "\n"
      ],
      "text/plain": [
       "  id y1\n",
       "1 1  x \n",
       "2 2  y \n",
       "3 3  z \n",
       "4 3  v \n",
       "5 5  w "
      ]
     },
     "metadata": {},
     "output_type": "display_data"
    }
   ],
   "source": [
    "x <- data.frame(id = c(1, 1, 1, 2, 3, 4, 6), x1 = c(\"a\", \"a\", \"b\", \"c\", \"v\", \"e\", \"g\"))\n",
    "y <- data.frame(id = c(1, 2, 3, 3, 5), y1 = c(\"x\", \"y\", \"z\", \"v\", \"w\"))\n",
    "x\n",
    "y\n"
   ]
  },
  {
   "cell_type": "code",
   "execution_count": 16,
   "metadata": {
    "vscode": {
     "languageId": "r"
    }
   },
   "outputs": [
    {
     "data": {
      "text/html": [
       "<table class=\"dataframe\">\n",
       "<caption>A data.frame: 10 × 2</caption>\n",
       "<thead>\n",
       "\t<tr><th scope=col>id</th><th scope=col>x1</th></tr>\n",
       "\t<tr><th scope=col>&lt;dbl&gt;</th><th scope=col>&lt;chr&gt;</th></tr>\n",
       "</thead>\n",
       "<tbody>\n",
       "\t<tr><td>1</td><td>a</td></tr>\n",
       "\t<tr><td>1</td><td>b</td></tr>\n",
       "\t<tr><td>1</td><td>x</td></tr>\n",
       "\t<tr><td>2</td><td>c</td></tr>\n",
       "\t<tr><td>2</td><td>y</td></tr>\n",
       "\t<tr><td>3</td><td>v</td></tr>\n",
       "\t<tr><td>3</td><td>z</td></tr>\n",
       "\t<tr><td>4</td><td>e</td></tr>\n",
       "\t<tr><td>5</td><td>w</td></tr>\n",
       "\t<tr><td>6</td><td>g</td></tr>\n",
       "</tbody>\n",
       "</table>\n"
      ],
      "text/latex": [
       "A data.frame: 10 × 2\n",
       "\\begin{tabular}{ll}\n",
       " id & x1\\\\\n",
       " <dbl> & <chr>\\\\\n",
       "\\hline\n",
       "\t 1 & a\\\\\n",
       "\t 1 & b\\\\\n",
       "\t 1 & x\\\\\n",
       "\t 2 & c\\\\\n",
       "\t 2 & y\\\\\n",
       "\t 3 & v\\\\\n",
       "\t 3 & z\\\\\n",
       "\t 4 & e\\\\\n",
       "\t 5 & w\\\\\n",
       "\t 6 & g\\\\\n",
       "\\end{tabular}\n"
      ],
      "text/markdown": [
       "\n",
       "A data.frame: 10 × 2\n",
       "\n",
       "| id &lt;dbl&gt; | x1 &lt;chr&gt; |\n",
       "|---|---|\n",
       "| 1 | a |\n",
       "| 1 | b |\n",
       "| 1 | x |\n",
       "| 2 | c |\n",
       "| 2 | y |\n",
       "| 3 | v |\n",
       "| 3 | z |\n",
       "| 4 | e |\n",
       "| 5 | w |\n",
       "| 6 | g |\n",
       "\n"
      ],
      "text/plain": [
       "   id x1\n",
       "1  1  a \n",
       "2  1  b \n",
       "3  1  x \n",
       "4  2  c \n",
       "5  2  y \n",
       "6  3  v \n",
       "7  3  z \n",
       "8  4  e \n",
       "9  5  w \n",
       "10 6  g "
      ]
     },
     "metadata": {},
     "output_type": "display_data"
    }
   ],
   "source": [
    "sqldf(\"select*from x union select*from y\")\n"
   ]
  },
  {
   "cell_type": "code",
   "execution_count": 17,
   "metadata": {
    "vscode": {
     "languageId": "r"
    }
   },
   "outputs": [
    {
     "data": {
      "text/html": [
       "<table class=\"dataframe\">\n",
       "<caption>A data.frame: 1 × 2</caption>\n",
       "<thead>\n",
       "\t<tr><th scope=col>id</th><th scope=col>x1</th></tr>\n",
       "\t<tr><th scope=col>&lt;dbl&gt;</th><th scope=col>&lt;chr&gt;</th></tr>\n",
       "</thead>\n",
       "<tbody>\n",
       "\t<tr><td>3</td><td>v</td></tr>\n",
       "</tbody>\n",
       "</table>\n"
      ],
      "text/latex": [
       "A data.frame: 1 × 2\n",
       "\\begin{tabular}{ll}\n",
       " id & x1\\\\\n",
       " <dbl> & <chr>\\\\\n",
       "\\hline\n",
       "\t 3 & v\\\\\n",
       "\\end{tabular}\n"
      ],
      "text/markdown": [
       "\n",
       "A data.frame: 1 × 2\n",
       "\n",
       "| id &lt;dbl&gt; | x1 &lt;chr&gt; |\n",
       "|---|---|\n",
       "| 3 | v |\n",
       "\n"
      ],
      "text/plain": [
       "  id x1\n",
       "1 3  v "
      ]
     },
     "metadata": {},
     "output_type": "display_data"
    }
   ],
   "source": [
    "sqldf(\"select * from   x   INTERSECT   select * from y\")\n"
   ]
  },
  {
   "cell_type": "markdown",
   "metadata": {},
   "source": [
    " 求并集中如果使用union all则相当于rbind,区别在于rbind 要求名字必须相同"
   ]
  },
  {
   "cell_type": "code",
   "execution_count": 20,
   "metadata": {
    "vscode": {
     "languageId": "r"
    }
   },
   "outputs": [
    {
     "data": {
      "text/html": [
       "<table class=\"dataframe\">\n",
       "<caption>A data.frame: 5 × 2</caption>\n",
       "<thead>\n",
       "\t<tr><th scope=col>id</th><th scope=col>x1</th></tr>\n",
       "\t<tr><th scope=col>&lt;dbl&gt;</th><th scope=col>&lt;chr&gt;</th></tr>\n",
       "</thead>\n",
       "<tbody>\n",
       "\t<tr><td>1</td><td>a</td></tr>\n",
       "\t<tr><td>1</td><td>b</td></tr>\n",
       "\t<tr><td>2</td><td>c</td></tr>\n",
       "\t<tr><td>4</td><td>e</td></tr>\n",
       "\t<tr><td>6</td><td>g</td></tr>\n",
       "</tbody>\n",
       "</table>\n"
      ],
      "text/latex": [
       "A data.frame: 5 × 2\n",
       "\\begin{tabular}{ll}\n",
       " id & x1\\\\\n",
       " <dbl> & <chr>\\\\\n",
       "\\hline\n",
       "\t 1 & a\\\\\n",
       "\t 1 & b\\\\\n",
       "\t 2 & c\\\\\n",
       "\t 4 & e\\\\\n",
       "\t 6 & g\\\\\n",
       "\\end{tabular}\n"
      ],
      "text/markdown": [
       "\n",
       "A data.frame: 5 × 2\n",
       "\n",
       "| id &lt;dbl&gt; | x1 &lt;chr&gt; |\n",
       "|---|---|\n",
       "| 1 | a |\n",
       "| 1 | b |\n",
       "| 2 | c |\n",
       "| 4 | e |\n",
       "| 6 | g |\n",
       "\n"
      ],
      "text/plain": [
       "  id x1\n",
       "1 1  a \n",
       "2 1  b \n",
       "3 2  c \n",
       "4 4  e \n",
       "5 6  g "
      ]
     },
     "metadata": {},
     "output_type": "display_data"
    }
   ],
   "source": [
    "sqldf(\"select * from x EXCEPT select * from y\")\n"
   ]
  },
  {
   "cell_type": "markdown",
   "metadata": {},
   "source": [
    "## 横向连接表-交叉连接"
   ]
  },
  {
   "cell_type": "code",
   "execution_count": 21,
   "metadata": {
    "vscode": {
     "languageId": "r"
    }
   },
   "outputs": [
    {
     "data": {
      "text/html": [
       "<table class=\"dataframe\">\n",
       "<caption>A data.frame: 6 × 4</caption>\n",
       "<thead>\n",
       "\t<tr><th scope=col>id</th><th scope=col>x1</th><th scope=col>id</th><th scope=col>y1</th></tr>\n",
       "\t<tr><th scope=col>&lt;dbl&gt;</th><th scope=col>&lt;chr&gt;</th><th scope=col>&lt;dbl&gt;</th><th scope=col>&lt;chr&gt;</th></tr>\n",
       "</thead>\n",
       "<tbody>\n",
       "\t<tr><td>1</td><td>a</td><td>4</td><td>d</td></tr>\n",
       "\t<tr><td>1</td><td>a</td><td>3</td><td>e</td></tr>\n",
       "\t<tr><td>2</td><td>b</td><td>4</td><td>d</td></tr>\n",
       "\t<tr><td>2</td><td>b</td><td>3</td><td>e</td></tr>\n",
       "\t<tr><td>3</td><td>c</td><td>4</td><td>d</td></tr>\n",
       "\t<tr><td>3</td><td>c</td><td>3</td><td>e</td></tr>\n",
       "</tbody>\n",
       "</table>\n"
      ],
      "text/latex": [
       "A data.frame: 6 × 4\n",
       "\\begin{tabular}{llll}\n",
       " id & x1 & id & y1\\\\\n",
       " <dbl> & <chr> & <dbl> & <chr>\\\\\n",
       "\\hline\n",
       "\t 1 & a & 4 & d\\\\\n",
       "\t 1 & a & 3 & e\\\\\n",
       "\t 2 & b & 4 & d\\\\\n",
       "\t 2 & b & 3 & e\\\\\n",
       "\t 3 & c & 4 & d\\\\\n",
       "\t 3 & c & 3 & e\\\\\n",
       "\\end{tabular}\n"
      ],
      "text/markdown": [
       "\n",
       "A data.frame: 6 × 4\n",
       "\n",
       "| id &lt;dbl&gt; | x1 &lt;chr&gt; | id &lt;dbl&gt; | y1 &lt;chr&gt; |\n",
       "|---|---|---|---|\n",
       "| 1 | a | 4 | d |\n",
       "| 1 | a | 3 | e |\n",
       "| 2 | b | 4 | d |\n",
       "| 2 | b | 3 | e |\n",
       "| 3 | c | 4 | d |\n",
       "| 3 | c | 3 | e |\n",
       "\n"
      ],
      "text/plain": [
       "  id x1 id y1\n",
       "1 1  a  4  d \n",
       "2 1  a  3  e \n",
       "3 2  b  4  d \n",
       "4 2  b  3  e \n",
       "5 3  c  4  d \n",
       "6 3  c  3  e "
      ]
     },
     "metadata": {},
     "output_type": "display_data"
    }
   ],
   "source": [
    "x <- data.frame(id = c(1, 2, 3), x1 = c(\"a\", \"b\", \"c\"))\n",
    "y <- data.frame(id = c(4, 3), y1 = c(\"d\", \"e\"))\n",
    "sqldf(\"select*from x,y\")\n"
   ]
  },
  {
   "cell_type": "markdown",
   "metadata": {},
   "source": [
    "## 横向连接表-内连接"
   ]
  },
  {
   "cell_type": "code",
   "execution_count": 22,
   "metadata": {
    "vscode": {
     "languageId": "r"
    }
   },
   "outputs": [
    {
     "data": {
      "text/html": [
       "<table class=\"dataframe\">\n",
       "<caption>A data.frame: 1 × 3</caption>\n",
       "<thead>\n",
       "\t<tr><th scope=col>id</th><th scope=col>x1</th><th scope=col>y1</th></tr>\n",
       "\t<tr><th scope=col>&lt;dbl&gt;</th><th scope=col>&lt;chr&gt;</th><th scope=col>&lt;chr&gt;</th></tr>\n",
       "</thead>\n",
       "<tbody>\n",
       "\t<tr><td>3</td><td>c</td><td>e</td></tr>\n",
       "</tbody>\n",
       "</table>\n"
      ],
      "text/latex": [
       "A data.frame: 1 × 3\n",
       "\\begin{tabular}{lll}\n",
       " id & x1 & y1\\\\\n",
       " <dbl> & <chr> & <chr>\\\\\n",
       "\\hline\n",
       "\t 3 & c & e\\\\\n",
       "\\end{tabular}\n"
      ],
      "text/markdown": [
       "\n",
       "A data.frame: 1 × 3\n",
       "\n",
       "| id &lt;dbl&gt; | x1 &lt;chr&gt; | y1 &lt;chr&gt; |\n",
       "|---|---|---|\n",
       "| 3 | c | e |\n",
       "\n"
      ],
      "text/plain": [
       "  id x1 y1\n",
       "1 3  c  e "
      ]
     },
     "metadata": {},
     "output_type": "display_data"
    }
   ],
   "source": [
    "merge(x, y, by = \"id\", all = F) ## id\n"
   ]
  },
  {
   "cell_type": "code",
   "execution_count": 23,
   "metadata": {
    "vscode": {
     "languageId": "r"
    }
   },
   "outputs": [
    {
     "data": {
      "text/html": [
       "<table class=\"dataframe\">\n",
       "<caption>A data.frame: 1 × 3</caption>\n",
       "<thead>\n",
       "\t<tr><th scope=col>id</th><th scope=col>x1</th><th scope=col>y1</th></tr>\n",
       "\t<tr><th scope=col>&lt;dbl&gt;</th><th scope=col>&lt;chr&gt;</th><th scope=col>&lt;chr&gt;</th></tr>\n",
       "</thead>\n",
       "<tbody>\n",
       "\t<tr><td>3</td><td>c</td><td>e</td></tr>\n",
       "</tbody>\n",
       "</table>\n"
      ],
      "text/latex": [
       "A data.frame: 1 × 3\n",
       "\\begin{tabular}{lll}\n",
       " id & x1 & y1\\\\\n",
       " <dbl> & <chr> & <chr>\\\\\n",
       "\\hline\n",
       "\t 3 & c & e\\\\\n",
       "\\end{tabular}\n"
      ],
      "text/markdown": [
       "\n",
       "A data.frame: 1 × 3\n",
       "\n",
       "| id &lt;dbl&gt; | x1 &lt;chr&gt; | y1 &lt;chr&gt; |\n",
       "|---|---|---|\n",
       "| 3 | c | e |\n",
       "\n"
      ],
      "text/plain": [
       "  id x1 y1\n",
       "1 3  c  e "
      ]
     },
     "metadata": {},
     "output_type": "display_data"
    }
   ],
   "source": [
    "library(dplyr, warn.conflicts = F)\n",
    "inner_join(x, y, by = \"id\")\n"
   ]
  },
  {
   "cell_type": "code",
   "execution_count": 24,
   "metadata": {
    "vscode": {
     "languageId": "r"
    }
   },
   "outputs": [
    {
     "data": {
      "text/html": [
       "<table class=\"dataframe\">\n",
       "<caption>A data.frame: 1 × 4</caption>\n",
       "<thead>\n",
       "\t<tr><th scope=col>id</th><th scope=col>x1</th><th scope=col>id</th><th scope=col>y1</th></tr>\n",
       "\t<tr><th scope=col>&lt;dbl&gt;</th><th scope=col>&lt;chr&gt;</th><th scope=col>&lt;dbl&gt;</th><th scope=col>&lt;chr&gt;</th></tr>\n",
       "</thead>\n",
       "<tbody>\n",
       "\t<tr><td>3</td><td>c</td><td>3</td><td>e</td></tr>\n",
       "</tbody>\n",
       "</table>\n"
      ],
      "text/latex": [
       "A data.frame: 1 × 4\n",
       "\\begin{tabular}{llll}\n",
       " id & x1 & id & y1\\\\\n",
       " <dbl> & <chr> & <dbl> & <chr>\\\\\n",
       "\\hline\n",
       "\t 3 & c & 3 & e\\\\\n",
       "\\end{tabular}\n"
      ],
      "text/markdown": [
       "\n",
       "A data.frame: 1 × 4\n",
       "\n",
       "| id &lt;dbl&gt; | x1 &lt;chr&gt; | id &lt;dbl&gt; | y1 &lt;chr&gt; |\n",
       "|---|---|---|---|\n",
       "| 3 | c | 3 | e |\n",
       "\n"
      ],
      "text/plain": [
       "  id x1 id y1\n",
       "1 3  c  3  e "
      ]
     },
     "metadata": {},
     "output_type": "display_data"
    }
   ],
   "source": [
    "sqldf(\"select *from x as a inner join y as b on a.id=b.id\")\n"
   ]
  },
  {
   "cell_type": "markdown",
   "metadata": {},
   "source": [
    "## 横向连接表-左连接"
   ]
  },
  {
   "cell_type": "code",
   "execution_count": 25,
   "metadata": {
    "vscode": {
     "languageId": "r"
    }
   },
   "outputs": [
    {
     "data": {
      "text/html": [
       "<table class=\"dataframe\">\n",
       "<caption>A data.frame: 3 × 3</caption>\n",
       "<thead>\n",
       "\t<tr><th scope=col>id</th><th scope=col>x1</th><th scope=col>y1</th></tr>\n",
       "\t<tr><th scope=col>&lt;dbl&gt;</th><th scope=col>&lt;chr&gt;</th><th scope=col>&lt;chr&gt;</th></tr>\n",
       "</thead>\n",
       "<tbody>\n",
       "\t<tr><td>1</td><td>a</td><td>NA</td></tr>\n",
       "\t<tr><td>2</td><td>b</td><td>NA</td></tr>\n",
       "\t<tr><td>3</td><td>c</td><td>e </td></tr>\n",
       "</tbody>\n",
       "</table>\n"
      ],
      "text/latex": [
       "A data.frame: 3 × 3\n",
       "\\begin{tabular}{lll}\n",
       " id & x1 & y1\\\\\n",
       " <dbl> & <chr> & <chr>\\\\\n",
       "\\hline\n",
       "\t 1 & a & NA\\\\\n",
       "\t 2 & b & NA\\\\\n",
       "\t 3 & c & e \\\\\n",
       "\\end{tabular}\n"
      ],
      "text/markdown": [
       "\n",
       "A data.frame: 3 × 3\n",
       "\n",
       "| id &lt;dbl&gt; | x1 &lt;chr&gt; | y1 &lt;chr&gt; |\n",
       "|---|---|---|\n",
       "| 1 | a | NA |\n",
       "| 2 | b | NA |\n",
       "| 3 | c | e  |\n",
       "\n"
      ],
      "text/plain": [
       "  id x1 y1\n",
       "1 1  a  NA\n",
       "2 2  b  NA\n",
       "3 3  c  e "
      ]
     },
     "metadata": {},
     "output_type": "display_data"
    }
   ],
   "source": [
    "merge(x, y, by = \"id\", all.x = TRUE)\n"
   ]
  },
  {
   "cell_type": "code",
   "execution_count": 26,
   "metadata": {
    "vscode": {
     "languageId": "r"
    }
   },
   "outputs": [
    {
     "data": {
      "text/html": [
       "<table class=\"dataframe\">\n",
       "<caption>A data.frame: 3 × 3</caption>\n",
       "<thead>\n",
       "\t<tr><th scope=col>id</th><th scope=col>x1</th><th scope=col>y1</th></tr>\n",
       "\t<tr><th scope=col>&lt;dbl&gt;</th><th scope=col>&lt;chr&gt;</th><th scope=col>&lt;chr&gt;</th></tr>\n",
       "</thead>\n",
       "<tbody>\n",
       "\t<tr><td>1</td><td>a</td><td>NA</td></tr>\n",
       "\t<tr><td>2</td><td>b</td><td>NA</td></tr>\n",
       "\t<tr><td>3</td><td>c</td><td>e </td></tr>\n",
       "</tbody>\n",
       "</table>\n"
      ],
      "text/latex": [
       "A data.frame: 3 × 3\n",
       "\\begin{tabular}{lll}\n",
       " id & x1 & y1\\\\\n",
       " <dbl> & <chr> & <chr>\\\\\n",
       "\\hline\n",
       "\t 1 & a & NA\\\\\n",
       "\t 2 & b & NA\\\\\n",
       "\t 3 & c & e \\\\\n",
       "\\end{tabular}\n"
      ],
      "text/markdown": [
       "\n",
       "A data.frame: 3 × 3\n",
       "\n",
       "| id &lt;dbl&gt; | x1 &lt;chr&gt; | y1 &lt;chr&gt; |\n",
       "|---|---|---|\n",
       "| 1 | a | NA |\n",
       "| 2 | b | NA |\n",
       "| 3 | c | e  |\n",
       "\n"
      ],
      "text/plain": [
       "  id x1 y1\n",
       "1 1  a  NA\n",
       "2 2  b  NA\n",
       "3 3  c  e "
      ]
     },
     "metadata": {},
     "output_type": "display_data"
    }
   ],
   "source": [
    "left_join(x, y, by = \"id\")\n"
   ]
  },
  {
   "cell_type": "code",
   "execution_count": 27,
   "metadata": {
    "vscode": {
     "languageId": "r"
    }
   },
   "outputs": [
    {
     "data": {
      "text/html": [
       "<table class=\"dataframe\">\n",
       "<caption>A data.frame: 3 × 4</caption>\n",
       "<thead>\n",
       "\t<tr><th scope=col>id</th><th scope=col>x1</th><th scope=col>id</th><th scope=col>y1</th></tr>\n",
       "\t<tr><th scope=col>&lt;dbl&gt;</th><th scope=col>&lt;chr&gt;</th><th scope=col>&lt;dbl&gt;</th><th scope=col>&lt;chr&gt;</th></tr>\n",
       "</thead>\n",
       "<tbody>\n",
       "\t<tr><td>1</td><td>a</td><td>NA</td><td>NA</td></tr>\n",
       "\t<tr><td>2</td><td>b</td><td>NA</td><td>NA</td></tr>\n",
       "\t<tr><td>3</td><td>c</td><td> 3</td><td>e </td></tr>\n",
       "</tbody>\n",
       "</table>\n"
      ],
      "text/latex": [
       "A data.frame: 3 × 4\n",
       "\\begin{tabular}{llll}\n",
       " id & x1 & id & y1\\\\\n",
       " <dbl> & <chr> & <dbl> & <chr>\\\\\n",
       "\\hline\n",
       "\t 1 & a & NA & NA\\\\\n",
       "\t 2 & b & NA & NA\\\\\n",
       "\t 3 & c &  3 & e \\\\\n",
       "\\end{tabular}\n"
      ],
      "text/markdown": [
       "\n",
       "A data.frame: 3 × 4\n",
       "\n",
       "| id &lt;dbl&gt; | x1 &lt;chr&gt; | id &lt;dbl&gt; | y1 &lt;chr&gt; |\n",
       "|---|---|---|---|\n",
       "| 1 | a | NA | NA |\n",
       "| 2 | b | NA | NA |\n",
       "| 3 | c |  3 | e  |\n",
       "\n"
      ],
      "text/plain": [
       "  id x1 id y1\n",
       "1 1  a  NA NA\n",
       "2 2  b  NA NA\n",
       "3 3  c   3 e "
      ]
     },
     "metadata": {},
     "output_type": "display_data"
    }
   ],
   "source": [
    "sqldf(\"select *from x as a left join y as b on a.id=b.id\")\n"
   ]
  },
  {
   "cell_type": "markdown",
   "metadata": {},
   "source": [
    "## 横向连接表-右连接\n",
    "\n"
   ]
  },
  {
   "cell_type": "code",
   "execution_count": 28,
   "metadata": {
    "vscode": {
     "languageId": "r"
    }
   },
   "outputs": [
    {
     "data": {
      "text/html": [
       "<table class=\"dataframe\">\n",
       "<caption>A data.frame: 2 × 3</caption>\n",
       "<thead>\n",
       "\t<tr><th scope=col>id</th><th scope=col>x1</th><th scope=col>y1</th></tr>\n",
       "\t<tr><th scope=col>&lt;dbl&gt;</th><th scope=col>&lt;chr&gt;</th><th scope=col>&lt;chr&gt;</th></tr>\n",
       "</thead>\n",
       "<tbody>\n",
       "\t<tr><td>3</td><td>c </td><td>e</td></tr>\n",
       "\t<tr><td>4</td><td>NA</td><td>d</td></tr>\n",
       "</tbody>\n",
       "</table>\n"
      ],
      "text/latex": [
       "A data.frame: 2 × 3\n",
       "\\begin{tabular}{lll}\n",
       " id & x1 & y1\\\\\n",
       " <dbl> & <chr> & <chr>\\\\\n",
       "\\hline\n",
       "\t 3 & c  & e\\\\\n",
       "\t 4 & NA & d\\\\\n",
       "\\end{tabular}\n"
      ],
      "text/markdown": [
       "\n",
       "A data.frame: 2 × 3\n",
       "\n",
       "| id &lt;dbl&gt; | x1 &lt;chr&gt; | y1 &lt;chr&gt; |\n",
       "|---|---|---|\n",
       "| 3 | c  | e |\n",
       "| 4 | NA | d |\n",
       "\n"
      ],
      "text/plain": [
       "  id x1 y1\n",
       "1 3  c  e \n",
       "2 4  NA d "
      ]
     },
     "metadata": {},
     "output_type": "display_data"
    }
   ],
   "source": [
    "merge(x, y, by = \"id\", all.y = TRUE)\n"
   ]
  },
  {
   "cell_type": "code",
   "execution_count": 29,
   "metadata": {
    "vscode": {
     "languageId": "r"
    }
   },
   "outputs": [
    {
     "data": {
      "text/html": [
       "<table class=\"dataframe\">\n",
       "<caption>A data.frame: 2 × 3</caption>\n",
       "<thead>\n",
       "\t<tr><th scope=col>id</th><th scope=col>x1</th><th scope=col>y1</th></tr>\n",
       "\t<tr><th scope=col>&lt;dbl&gt;</th><th scope=col>&lt;chr&gt;</th><th scope=col>&lt;chr&gt;</th></tr>\n",
       "</thead>\n",
       "<tbody>\n",
       "\t<tr><td>3</td><td>c </td><td>e</td></tr>\n",
       "\t<tr><td>4</td><td>NA</td><td>d</td></tr>\n",
       "</tbody>\n",
       "</table>\n"
      ],
      "text/latex": [
       "A data.frame: 2 × 3\n",
       "\\begin{tabular}{lll}\n",
       " id & x1 & y1\\\\\n",
       " <dbl> & <chr> & <chr>\\\\\n",
       "\\hline\n",
       "\t 3 & c  & e\\\\\n",
       "\t 4 & NA & d\\\\\n",
       "\\end{tabular}\n"
      ],
      "text/markdown": [
       "\n",
       "A data.frame: 2 × 3\n",
       "\n",
       "| id &lt;dbl&gt; | x1 &lt;chr&gt; | y1 &lt;chr&gt; |\n",
       "|---|---|---|\n",
       "| 3 | c  | e |\n",
       "| 4 | NA | d |\n",
       "\n"
      ],
      "text/plain": [
       "  id x1 y1\n",
       "1 3  c  e \n",
       "2 4  NA d "
      ]
     },
     "metadata": {},
     "output_type": "display_data"
    }
   ],
   "source": [
    "right_join(x, y, by = \"id\")\n"
   ]
  },
  {
   "cell_type": "code",
   "execution_count": 30,
   "metadata": {
    "vscode": {
     "languageId": "r"
    }
   },
   "outputs": [
    {
     "data": {
      "text/html": [
       "<table class=\"dataframe\">\n",
       "<caption>A data.frame: 2 × 4</caption>\n",
       "<thead>\n",
       "\t<tr><th scope=col>id</th><th scope=col>x1</th><th scope=col>id</th><th scope=col>y1</th></tr>\n",
       "\t<tr><th scope=col>&lt;dbl&gt;</th><th scope=col>&lt;chr&gt;</th><th scope=col>&lt;dbl&gt;</th><th scope=col>&lt;chr&gt;</th></tr>\n",
       "</thead>\n",
       "<tbody>\n",
       "\t<tr><td> 3</td><td>c </td><td>3</td><td>e</td></tr>\n",
       "\t<tr><td>NA</td><td>NA</td><td>4</td><td>d</td></tr>\n",
       "</tbody>\n",
       "</table>\n"
      ],
      "text/latex": [
       "A data.frame: 2 × 4\n",
       "\\begin{tabular}{llll}\n",
       " id & x1 & id & y1\\\\\n",
       " <dbl> & <chr> & <dbl> & <chr>\\\\\n",
       "\\hline\n",
       "\t  3 & c  & 3 & e\\\\\n",
       "\t NA & NA & 4 & d\\\\\n",
       "\\end{tabular}\n"
      ],
      "text/markdown": [
       "\n",
       "A data.frame: 2 × 4\n",
       "\n",
       "| id &lt;dbl&gt; | x1 &lt;chr&gt; | id &lt;dbl&gt; | y1 &lt;chr&gt; |\n",
       "|---|---|---|---|\n",
       "|  3 | c  | 3 | e |\n",
       "| NA | NA | 4 | d |\n",
       "\n"
      ],
      "text/plain": [
       "  id x1 id y1\n",
       "1  3 c  3  e \n",
       "2 NA NA 4  d "
      ]
     },
     "metadata": {},
     "output_type": "display_data"
    }
   ],
   "source": [
    "sqldf(\"select*from x as a right join y as b on a.id=b.id\")\n"
   ]
  },
  {
   "cell_type": "markdown",
   "metadata": {},
   "source": [
    "## 横向连接表-全连接\n"
   ]
  },
  {
   "cell_type": "code",
   "execution_count": 31,
   "metadata": {
    "vscode": {
     "languageId": "r"
    }
   },
   "outputs": [
    {
     "data": {
      "text/html": [
       "<table class=\"dataframe\">\n",
       "<caption>A data.frame: 4 × 3</caption>\n",
       "<thead>\n",
       "\t<tr><th scope=col>id</th><th scope=col>x1</th><th scope=col>y1</th></tr>\n",
       "\t<tr><th scope=col>&lt;dbl&gt;</th><th scope=col>&lt;chr&gt;</th><th scope=col>&lt;chr&gt;</th></tr>\n",
       "</thead>\n",
       "<tbody>\n",
       "\t<tr><td>1</td><td>a </td><td>NA</td></tr>\n",
       "\t<tr><td>2</td><td>b </td><td>NA</td></tr>\n",
       "\t<tr><td>3</td><td>c </td><td>e </td></tr>\n",
       "\t<tr><td>4</td><td>NA</td><td>d </td></tr>\n",
       "</tbody>\n",
       "</table>\n"
      ],
      "text/latex": [
       "A data.frame: 4 × 3\n",
       "\\begin{tabular}{lll}\n",
       " id & x1 & y1\\\\\n",
       " <dbl> & <chr> & <chr>\\\\\n",
       "\\hline\n",
       "\t 1 & a  & NA\\\\\n",
       "\t 2 & b  & NA\\\\\n",
       "\t 3 & c  & e \\\\\n",
       "\t 4 & NA & d \\\\\n",
       "\\end{tabular}\n"
      ],
      "text/markdown": [
       "\n",
       "A data.frame: 4 × 3\n",
       "\n",
       "| id &lt;dbl&gt; | x1 &lt;chr&gt; | y1 &lt;chr&gt; |\n",
       "|---|---|---|\n",
       "| 1 | a  | NA |\n",
       "| 2 | b  | NA |\n",
       "| 3 | c  | e  |\n",
       "| 4 | NA | d  |\n",
       "\n"
      ],
      "text/plain": [
       "  id x1 y1\n",
       "1 1  a  NA\n",
       "2 2  b  NA\n",
       "3 3  c  e \n",
       "4 4  NA d "
      ]
     },
     "metadata": {},
     "output_type": "display_data"
    },
    {
     "data": {
      "text/html": [
       "<table class=\"dataframe\">\n",
       "<caption>A data.frame: 4 × 3</caption>\n",
       "<thead>\n",
       "\t<tr><th scope=col>id</th><th scope=col>x1</th><th scope=col>y1</th></tr>\n",
       "\t<tr><th scope=col>&lt;dbl&gt;</th><th scope=col>&lt;chr&gt;</th><th scope=col>&lt;chr&gt;</th></tr>\n",
       "</thead>\n",
       "<tbody>\n",
       "\t<tr><td>1</td><td>a </td><td>NA</td></tr>\n",
       "\t<tr><td>2</td><td>b </td><td>NA</td></tr>\n",
       "\t<tr><td>3</td><td>c </td><td>e </td></tr>\n",
       "\t<tr><td>4</td><td>NA</td><td>d </td></tr>\n",
       "</tbody>\n",
       "</table>\n"
      ],
      "text/latex": [
       "A data.frame: 4 × 3\n",
       "\\begin{tabular}{lll}\n",
       " id & x1 & y1\\\\\n",
       " <dbl> & <chr> & <chr>\\\\\n",
       "\\hline\n",
       "\t 1 & a  & NA\\\\\n",
       "\t 2 & b  & NA\\\\\n",
       "\t 3 & c  & e \\\\\n",
       "\t 4 & NA & d \\\\\n",
       "\\end{tabular}\n"
      ],
      "text/markdown": [
       "\n",
       "A data.frame: 4 × 3\n",
       "\n",
       "| id &lt;dbl&gt; | x1 &lt;chr&gt; | y1 &lt;chr&gt; |\n",
       "|---|---|---|\n",
       "| 1 | a  | NA |\n",
       "| 2 | b  | NA |\n",
       "| 3 | c  | e  |\n",
       "| 4 | NA | d  |\n",
       "\n"
      ],
      "text/plain": [
       "  id x1 y1\n",
       "1 1  a  NA\n",
       "2 2  b  NA\n",
       "3 3  c  e \n",
       "4 4  NA d "
      ]
     },
     "metadata": {},
     "output_type": "display_data"
    }
   ],
   "source": [
    "merge(x, y, by = \"id\", all = TRUE)\n",
    "full_join(x, y, by = \"id\")\n"
   ]
  },
  {
   "cell_type": "code",
   "execution_count": 33,
   "metadata": {
    "vscode": {
     "languageId": "r"
    }
   },
   "outputs": [
    {
     "data": {
      "text/plain": [
       "$x\n",
       "\n",
       "\n",
       "$y\n",
       "\n",
       "\n",
       "$...\n",
       "\n"
      ]
     },
     "metadata": {},
     "output_type": "display_data"
    }
   ],
   "source": []
  },
  {
   "cell_type": "code",
   "execution_count": null,
   "metadata": {
    "vscode": {
     "languageId": "r"
    }
   },
   "outputs": [],
   "source": []
  }
 ],
 "metadata": {
  "kernelspec": {
   "display_name": "R",
   "language": "R",
   "name": "ir"
  },
  "language_info": {
   "codemirror_mode": "r",
   "file_extension": ".r",
   "mimetype": "text/x-r-source",
   "name": "R",
   "pygments_lexer": "r",
   "version": "4.4.1"
  }
 },
 "nbformat": 4,
 "nbformat_minor": 2
}
