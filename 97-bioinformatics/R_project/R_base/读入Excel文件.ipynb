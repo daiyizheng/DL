{
 "cells": [
  {
   "cell_type": "markdown",
   "metadata": {},
   "source": [
    "## 读入Excel文件\n",
    "\n",
    "\n",
    "读取excel的最好方式是将文件另存为csv 格式.当excel 文件过大时，可安装常用包并且  使用对应函数，常用包有xlsx和openxlsx 包等，xlsx包安装较复杂，大型文件容易报错，且  xlsx包需要预装java, 但是xlsx包相对可选项比较多.openxlsx 是比较新的包，读取大型文 件相对比较稳定."
   ]
  },
  {
   "cell_type": "code",
   "execution_count": 3,
   "metadata": {
    "vscode": {
     "languageId": "r"
    }
   },
   "outputs": [],
   "source": [
    "library(openxlsx, quietly = T)\n",
    "data <- read.xlsx(\"./data/hsb2.xlsx\", sheet = 1)\n",
    "detach(\"package:openxlsx\")\n"
   ]
  },
  {
   "cell_type": "code",
   "execution_count": 4,
   "metadata": {
    "vscode": {
     "languageId": "r"
    }
   },
   "outputs": [
    {
     "ename": "ERROR",
     "evalue": "Error in library(xlsx): there is no package called ‘xlsx’\n",
     "output_type": "error",
     "traceback": [
      "Error in library(xlsx): there is no package called ‘xlsx’\nTraceback:\n",
      "1. library(xlsx)"
     ]
    }
   ],
   "source": [
    "library(xlsx)\n",
    "\n",
    "\n",
    "data <- read.xlsx(\"./data/hsb2.xlsx\", sheetIndex = 1, colIndex = 2:10, rowIndex = 1:10)\n"
   ]
  },
  {
   "cell_type": "code",
   "execution_count": null,
   "metadata": {
    "vscode": {
     "languageId": "r"
    }
   },
   "outputs": [],
   "source": []
  }
 ],
 "metadata": {
  "kernelspec": {
   "display_name": "R",
   "language": "R",
   "name": "ir"
  },
  "language_info": {
   "codemirror_mode": "r",
   "file_extension": ".r",
   "mimetype": "text/x-r-source",
   "name": "R",
   "pygments_lexer": "r",
   "version": "4.4.1"
  }
 },
 "nbformat": 4,
 "nbformat_minor": 2
}
