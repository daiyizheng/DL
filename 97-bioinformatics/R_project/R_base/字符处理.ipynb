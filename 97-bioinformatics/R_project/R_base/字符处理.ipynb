{
 "cells": [
  {
   "cell_type": "markdown",
   "metadata": {},
   "source": [
    "## 字  符  处  理  函  数\n",
    "\n",
    "字符处理函数主要用于在字符变量中提取有用的信息，或者将有用的信息规范化，尤其是 处理从网络上爬取的字符串的时候，需要从中提取出对象若干的属性信息，这时候就需要 很熟悉相关字符处理函数的使用\n",
    "\n",
    "下面我们例举一些常见的字符处理函数\n",
    "\n",
    "- 连接字符paste(.,sep=\"\",collapse=NULL),paste0,paste0相当于paste中sep默认 为\"\""
   ]
  },
  {
   "cell_type": "code",
   "execution_count": 1,
   "metadata": {
    "vscode": {
     "languageId": "r"
    }
   },
   "outputs": [
    {
     "data": {
      "text/html": [
       "'ai*ya*ya'"
      ],
      "text/latex": [
       "'ai*ya*ya'"
      ],
      "text/markdown": [
       "'ai*ya*ya'"
      ],
      "text/plain": [
       "[1] \"ai*ya*ya\""
      ]
     },
     "metadata": {},
     "output_type": "display_data"
    }
   ],
   "source": [
    "paste(\"ai\", \"ya\", \"ya\", sep = \"*\")\n"
   ]
  },
  {
   "cell_type": "code",
   "execution_count": 2,
   "metadata": {
    "vscode": {
     "languageId": "r"
    }
   },
   "outputs": [
    {
     "data": {
      "text/html": [
       "<style>\n",
       ".list-inline {list-style: none; margin:0; padding: 0}\n",
       ".list-inline>li {display: inline-block}\n",
       ".list-inline>li:not(:last-child)::after {content: \"\\00b7\"; padding: 0 .5ex}\n",
       "</style>\n",
       "<ol class=list-inline><li>'ai$1'</li><li>'ya$2'</li><li>'ya$1'</li></ol>\n"
      ],
      "text/latex": [
       "\\begin{enumerate*}\n",
       "\\item 'ai\\$1'\n",
       "\\item 'ya\\$2'\n",
       "\\item 'ya\\$1'\n",
       "\\end{enumerate*}\n"
      ],
      "text/markdown": [
       "1. 'ai$1'\n",
       "2. 'ya$2'\n",
       "3. 'ya$1'\n",
       "\n",
       "\n"
      ],
      "text/plain": [
       "[1] \"ai$1\" \"ya$2\" \"ya$1\""
      ]
     },
     "metadata": {},
     "output_type": "display_data"
    }
   ],
   "source": [
    "paste(c(\"ai\", \"ya\", \"ya\"), c(\"1\", \"2\"), sep = \"$\")\n"
   ]
  },
  {
   "cell_type": "code",
   "execution_count": 3,
   "metadata": {
    "vscode": {
     "languageId": "r"
    }
   },
   "outputs": [
    {
     "data": {
      "text/html": [
       "'ai$1-ya$2-ya$1'"
      ],
      "text/latex": [
       "'ai\\$1-ya\\$2-ya\\$1'"
      ],
      "text/markdown": [
       "'ai$1-ya$2-ya$1'"
      ],
      "text/plain": [
       "[1] \"ai$1-ya$2-ya$1\""
      ]
     },
     "metadata": {},
     "output_type": "display_data"
    }
   ],
   "source": [
    "paste(c(\"ai\", \"ya\", \"ya\"), c(\"1\", \"2\"), sep = \"$\", collapse = \"-\")\n"
   ]
  },
  {
   "cell_type": "code",
   "execution_count": 6,
   "metadata": {
    "vscode": {
     "languageId": "r"
    }
   },
   "outputs": [
    {
     "data": {
      "text/html": [
       "'aiyaya'"
      ],
      "text/latex": [
       "'aiyaya'"
      ],
      "text/markdown": [
       "'aiyaya'"
      ],
      "text/plain": [
       "[1] \"aiyaya\""
      ]
     },
     "metadata": {},
     "output_type": "display_data"
    }
   ],
   "source": [
    "paste0(\"ai\", \"ya\", \"ya\")\n"
   ]
  },
  {
   "cell_type": "markdown",
   "metadata": {},
   "source": [
    "## 分解字符\n",
    "\n",
    "\n",
    "分解某个字符串：`strsplit(x,split,fixed=F)`,x是字符串向量，split表示间隔字符，可以是\"\"或 NULL即将每个字符分开，fixed表示固定模式，表可以使用正则表达式，不使用正则表达式\n",
    "的情况下设置为T.得到一个list.可以使用unlist()将结果简化成向量"
   ]
  },
  {
   "cell_type": "code",
   "execution_count": 7,
   "metadata": {
    "vscode": {
     "languageId": "r"
    }
   },
   "outputs": [
    {
     "data": {
      "text/html": [
       "<dl>\n",
       "\t<dt>$as</dt>\n",
       "\t\t<dd><style>\n",
       ".list-inline {list-style: none; margin:0; padding: 0}\n",
       ".list-inline>li {display: inline-block}\n",
       ".list-inline>li:not(:last-child)::after {content: \"\\00b7\"; padding: 0 .5ex}\n",
       "</style>\n",
       "<ol class=list-inline><li>'asf'</li><li>'f'</li></ol>\n",
       "</dd>\n",
       "\t<dt>[[2]]</dt>\n",
       "\t\t<dd>'yuiop['</dd>\n",
       "\t<dt>[[3]]</dt>\n",
       "\t\t<dd><style>\n",
       ".list-inline {list-style: none; margin:0; padding: 0}\n",
       ".list-inline>li {display: inline-block}\n",
       ".list-inline>li:not(:last-child)::after {content: \"\\00b7\"; padding: 0 .5ex}\n",
       "</style>\n",
       "<ol class=list-inline><li>'stuff.blah.y'</li><li>'ch'</li></ol>\n",
       "</dd>\n",
       "</dl>\n"
      ],
      "text/latex": [
       "\\begin{description}\n",
       "\\item[\\$as] \\begin{enumerate*}\n",
       "\\item 'asf'\n",
       "\\item 'f'\n",
       "\\end{enumerate*}\n",
       "\n",
       "\\item[{[[2]]}] 'yuiop{[}'\n",
       "\\item[{[[3]]}] \\begin{enumerate*}\n",
       "\\item 'stuff.blah.y'\n",
       "\\item 'ch'\n",
       "\\end{enumerate*}\n",
       "\n",
       "\\end{description}\n"
      ],
      "text/markdown": [
       "$as\n",
       ":   1. 'asf'\n",
       "2. 'f'\n",
       "\n",
       "\n",
       "\n",
       "[[2]]\n",
       ":   'yuiop['\n",
       "[[3]]\n",
       ":   1. 'stuff.blah.y'\n",
       "2. 'ch'\n",
       "\n",
       "\n",
       "\n",
       "\n",
       "\n"
      ],
      "text/plain": [
       "$as\n",
       "[1] \"asf\" \"f\"  \n",
       "\n",
       "[[2]]\n",
       "[1] \"yuiop[\"\n",
       "\n",
       "[[3]]\n",
       "[1] \"stuff.blah.y\" \"ch\"          \n"
      ]
     },
     "metadata": {},
     "output_type": "display_data"
    }
   ],
   "source": [
    "x <- c(as = \"asfef\", \"yuiop[\", \"stuff.blah.yech\")\n",
    "strsplit(x, \"e\")\n"
   ]
  },
  {
   "cell_type": "code",
   "execution_count": 8,
   "metadata": {
    "vscode": {
     "languageId": "r"
    }
   },
   "outputs": [
    {
     "data": {
      "text/html": [
       "<ol>\n",
       "\t<li><style>\n",
       ".list-inline {list-style: none; margin:0; padding: 0}\n",
       ".list-inline>li {display: inline-block}\n",
       ".list-inline>li:not(:last-child)::after {content: \"\\00b7\"; padding: 0 .5ex}\n",
       "</style>\n",
       "<ol class=list-inline><li>'a'</li><li>'b'</li><li>'c'</li><li>'d'</li></ol>\n",
       "</li>\n",
       "</ol>\n"
      ],
      "text/latex": [
       "\\begin{enumerate}\n",
       "\\item \\begin{enumerate*}\n",
       "\\item 'a'\n",
       "\\item 'b'\n",
       "\\item 'c'\n",
       "\\item 'd'\n",
       "\\end{enumerate*}\n",
       "\n",
       "\\end{enumerate}\n"
      ],
      "text/markdown": [
       "1. 1. 'a'\n",
       "2. 'b'\n",
       "3. 'c'\n",
       "4. 'd'\n",
       "\n",
       "\n",
       "\n",
       "\n",
       "\n"
      ],
      "text/plain": [
       "[[1]]\n",
       "[1] \"a\" \"b\" \"c\" \"d\"\n"
      ]
     },
     "metadata": {},
     "output_type": "display_data"
    }
   ],
   "source": [
    "strsplit(\"abcd\", NULL)\n"
   ]
  },
  {
   "cell_type": "code",
   "execution_count": 9,
   "metadata": {
    "vscode": {
     "languageId": "r"
    }
   },
   "outputs": [
    {
     "data": {
      "text/html": [
       "<style>\n",
       ".list-inline {list-style: none; margin:0; padding: 0}\n",
       ".list-inline>li {display: inline-block}\n",
       ".list-inline>li:not(:last-child)::after {content: \"\\00b7\"; padding: 0 .5ex}\n",
       "</style>\n",
       "<ol class=list-inline><li>'l'</li><li>'i'</li><li>' '</li><li>'l'</li><li>'e'</li><li>'i'</li><li>'h'</li><li>'a'</li><li>'n'</li><li>' '</li><li>'m'</li><li>'e'</li><li>'i'</li><li>'m'</li><li>'e'</li><li>'i'</li></ol>\n"
      ],
      "text/latex": [
       "\\begin{enumerate*}\n",
       "\\item 'l'\n",
       "\\item 'i'\n",
       "\\item ' '\n",
       "\\item 'l'\n",
       "\\item 'e'\n",
       "\\item 'i'\n",
       "\\item 'h'\n",
       "\\item 'a'\n",
       "\\item 'n'\n",
       "\\item ' '\n",
       "\\item 'm'\n",
       "\\item 'e'\n",
       "\\item 'i'\n",
       "\\item 'm'\n",
       "\\item 'e'\n",
       "\\item 'i'\n",
       "\\end{enumerate*}\n"
      ],
      "text/markdown": [
       "1. 'l'\n",
       "2. 'i'\n",
       "3. ' '\n",
       "4. 'l'\n",
       "5. 'e'\n",
       "6. 'i'\n",
       "7. 'h'\n",
       "8. 'a'\n",
       "9. 'n'\n",
       "10. ' '\n",
       "11. 'm'\n",
       "12. 'e'\n",
       "13. 'i'\n",
       "14. 'm'\n",
       "15. 'e'\n",
       "16. 'i'\n",
       "\n",
       "\n"
      ],
      "text/plain": [
       " [1] \"l\" \"i\" \" \" \"l\" \"e\" \"i\" \"h\" \"a\" \"n\" \" \" \"m\" \"e\" \"i\" \"m\" \"e\" \"i\""
      ]
     },
     "metadata": {},
     "output_type": "display_data"
    }
   ],
   "source": [
    "unlist(strsplit(c(\"li lei\", \"han meimei\"), \"\"))\n"
   ]
  },
  {
   "cell_type": "markdown",
   "metadata": {},
   "source": [
    "## 抽    取\n",
    "\n",
    "\n",
    "\n",
    "\n",
    "抽取或替换字符串中的字符：`substr(x,start,stop)<-value`,关键在于指定位置的抽取和指定 位 置 的 替 换"
   ]
  },
  {
   "cell_type": "code",
   "execution_count": 10,
   "metadata": {
    "vscode": {
     "languageId": "r"
    }
   },
   "outputs": [
    {
     "data": {
      "text/html": [
       "<style>\n",
       ".list-inline {list-style: none; margin:0; padding: 0}\n",
       ".list-inline>li {display: inline-block}\n",
       ".list-inline>li:not(:last-child)::after {content: \"\\00b7\"; padding: 0 .5ex}\n",
       "</style>\n",
       "<ol class=list-inline><li>'izar'</li><li>'ove'</li><li>'rian'</li><li>'e\\'re'</li><li>'eant'</li></ol>\n"
      ],
      "text/latex": [
       "\\begin{enumerate*}\n",
       "\\item 'izar'\n",
       "\\item 'ove'\n",
       "\\item 'rian'\n",
       "\\item 'e\\textbackslash{}'re'\n",
       "\\item 'eant'\n",
       "\\end{enumerate*}\n"
      ],
      "text/markdown": [
       "1. 'izar'\n",
       "2. 'ove'\n",
       "3. 'rian'\n",
       "4. 'e\\'re'\n",
       "5. 'eant'\n",
       "\n",
       "\n"
      ],
      "text/plain": [
       "[1] \"izar\" \"ove\"  \"rian\" \"e're\" \"eant\""
      ]
     },
     "metadata": {},
     "output_type": "display_data"
    }
   ],
   "source": [
    "x <- c(\"bizarre\", \"love\", \"triangle\", \"we're\", \"meant[]\")\n",
    "substr(x, 2, 5)\n"
   ]
  },
  {
   "cell_type": "code",
   "execution_count": 11,
   "metadata": {
    "vscode": {
     "languageId": "r"
    }
   },
   "outputs": [
    {
     "data": {
      "text/html": [
       "<style>\n",
       ".list-inline {list-style: none; margin:0; padding: 0}\n",
       ".list-inline>li {display: inline-block}\n",
       ".list-inline>li:not(:last-child)::after {content: \"\\00b7\"; padding: 0 .5ex}\n",
       "</style>\n",
       "<ol class=list-inline><li>''</li><li>'o'</li><li>'ri'</li><li>'e\\'r'</li><li>''</li></ol>\n"
      ],
      "text/latex": [
       "\\begin{enumerate*}\n",
       "\\item ''\n",
       "\\item 'o'\n",
       "\\item 'ri'\n",
       "\\item 'e\\textbackslash{}'r'\n",
       "\\item ''\n",
       "\\end{enumerate*}\n"
      ],
      "text/markdown": [
       "1. ''\n",
       "2. 'o'\n",
       "3. 'ri'\n",
       "4. 'e\\'r'\n",
       "5. ''\n",
       "\n",
       "\n"
      ],
      "text/plain": [
       "[1] \"\"    \"o\"   \"ri\"  \"e'r\" \"\"   "
      ]
     },
     "metadata": {},
     "output_type": "display_data"
    }
   ],
   "source": [
    "substr(x, 2, 1:4)\n"
   ]
  },
  {
   "cell_type": "code",
   "execution_count": 12,
   "metadata": {
    "vscode": {
     "languageId": "r"
    }
   },
   "outputs": [
    {
     "data": {
      "text/html": [
       "<style>\n",
       ".list-inline {list-style: none; margin:0; padding: 0}\n",
       ".list-inline>li {display: inline-block}\n",
       ".list-inline>li:not(:last-child)::after {content: \"\\00b7\"; padding: 0 .5ex}\n",
       "</style>\n",
       "<ol class=list-inline><li>3</li><li>2</li><li>7</li><li>3</li><li>6</li></ol>\n"
      ],
      "text/latex": [
       "\\begin{enumerate*}\n",
       "\\item 3\n",
       "\\item 2\n",
       "\\item 7\n",
       "\\item 3\n",
       "\\item 6\n",
       "\\end{enumerate*}\n"
      ],
      "text/markdown": [
       "1. 3\n",
       "2. 2\n",
       "3. 7\n",
       "4. 3\n",
       "5. 6\n",
       "\n",
       "\n"
      ],
      "text/plain": [
       "[1] 3 2 7 3 6"
      ]
     },
     "metadata": {},
     "output_type": "display_data"
    },
    {
     "data": {
      "text/html": [
       "<style>\n",
       ".list-inline {list-style: none; margin:0; padding: 0}\n",
       ".list-inline>li {display: inline-block}\n",
       ".list-inline>li:not(:last-child)::after {content: \"\\00b7\"; padding: 0 .5ex}\n",
       "</style>\n",
       "<ol class=list-inline><li>'biz'</li><li>'lo'</li><li>'triangl'</li><li>'we\\''</li><li>'meant['</li></ol>\n"
      ],
      "text/latex": [
       "\\begin{enumerate*}\n",
       "\\item 'biz'\n",
       "\\item 'lo'\n",
       "\\item 'triangl'\n",
       "\\item 'we\\textbackslash{}''\n",
       "\\item 'meant{[}'\n",
       "\\end{enumerate*}\n"
      ],
      "text/markdown": [
       "1. 'biz'\n",
       "2. 'lo'\n",
       "3. 'triangl'\n",
       "4. 'we\\''\n",
       "5. 'meant['\n",
       "\n",
       "\n"
      ],
      "text/plain": [
       "[1] \"biz\"     \"lo\"      \"triangl\" \"we'\"     \"meant[\" "
      ]
     },
     "metadata": {},
     "output_type": "display_data"
    }
   ],
   "source": [
    "gap <- c(3, 2, 7, 3, 6)\n",
    "gap\n",
    "substr(x, 1, gap)\n"
   ]
  },
  {
   "cell_type": "code",
   "execution_count": 13,
   "metadata": {
    "vscode": {
     "languageId": "r"
    }
   },
   "outputs": [],
   "source": [
    "substr(x, 1, 4) <- \"好玩\"\n"
   ]
  },
  {
   "cell_type": "code",
   "execution_count": 14,
   "metadata": {
    "vscode": {
     "languageId": "r"
    }
   },
   "outputs": [
    {
     "data": {
      "text/html": [
       "<style>\n",
       ".list-inline {list-style: none; margin:0; padding: 0}\n",
       ".list-inline>li {display: inline-block}\n",
       ".list-inline>li:not(:last-child)::after {content: \"\\00b7\"; padding: 0 .5ex}\n",
       "</style>\n",
       "<ol class=list-inline><li>'好玩zarre'</li><li>'好玩ve'</li><li>'好玩iangle'</li><li>'好玩\\'re'</li><li>'好玩ant[]'</li></ol>\n"
      ],
      "text/latex": [
       "\\begin{enumerate*}\n",
       "\\item '好玩zarre'\n",
       "\\item '好玩ve'\n",
       "\\item '好玩iangle'\n",
       "\\item '好玩\\textbackslash{}'re'\n",
       "\\item '好玩ant{[}{]}'\n",
       "\\end{enumerate*}\n"
      ],
      "text/markdown": [
       "1. '好玩zarre'\n",
       "2. '好玩ve'\n",
       "3. '好玩iangle'\n",
       "4. '好玩\\'re'\n",
       "5. '好玩ant[]'\n",
       "\n",
       "\n"
      ],
      "text/plain": [
       "[1] \"好玩zarre\"  \"好玩ve\"     \"好玩iangle\" \"好玩're\"    \"好玩ant[]\" "
      ]
     },
     "metadata": {},
     "output_type": "display_data"
    }
   ],
   "source": [
    "x\n"
   ]
  },
  {
   "cell_type": "markdown",
   "metadata": {},
   "source": [
    "## 替换\n",
    "\n",
    "\n",
    "- 替换字符，指定对象的替换：\n",
    "    - chartr(old,new,x),即将x中old指定的字符串替换成new指定的字符串，注意old  和new长度相同，且字符串中每个对应的字符都要替换\n",
    "    - sub(pattern,replacement,x,ignore.case=FALSE)将pattern替换成replacement,x  表示字符向量，ignore.case表示是否忽略大小写，gsub()同理，只不过sub()替换第一个匹配，gsub替换所有匹配"
   ]
  },
  {
   "cell_type": "code",
   "execution_count": 15,
   "metadata": {
    "vscode": {
     "languageId": "r"
    }
   },
   "outputs": [
    {
     "data": {
      "text/html": [
       "<style>\n",
       ".list-inline {list-style: none; margin:0; padding: 0}\n",
       ".list-inline>li {display: inline-block}\n",
       ".list-inline>li:not(:last-child)::after {content: \"\\00b7\"; padding: 0 .5ex}\n",
       "</style>\n",
       "<ol class=list-inline><li>'b~tt~- tog~th~-'</li><li>'n~v~- know'</li><li>'Gon~'</li></ol>\n"
      ],
      "text/latex": [
       "\\begin{enumerate*}\n",
       "\\item 'b\\textasciitilde{}tt\\textasciitilde{}- tog\\textasciitilde{}th\\textasciitilde{}-'\n",
       "\\item 'n\\textasciitilde{}v\\textasciitilde{}- know'\n",
       "\\item 'Gon\\textasciitilde{}'\n",
       "\\end{enumerate*}\n"
      ],
      "text/markdown": [
       "1. 'b~tt~- tog~th~-'\n",
       "2. 'n~v~- know'\n",
       "3. 'Gon~'\n",
       "\n",
       "\n"
      ],
      "text/plain": [
       "[1] \"b~tt~- tog~th~-\" \"n~v~- know\"      \"Gon~\"           "
      ]
     },
     "metadata": {},
     "output_type": "display_data"
    },
    {
     "data": {
      "text/html": [
       "<style>\n",
       ".list-inline {list-style: none; margin:0; padding: 0}\n",
       ".list-inline>li {display: inline-block}\n",
       ".list-inline>li:not(:last-child)::after {content: \"\\00b7\"; padding: 0 .5ex}\n",
       "</style>\n",
       "<ol class=list-inline><li>'bett~- together'</li><li>'nev~- know'</li><li>'Gone'</li></ol>\n"
      ],
      "text/latex": [
       "\\begin{enumerate*}\n",
       "\\item 'bett\\textasciitilde{}- together'\n",
       "\\item 'nev\\textasciitilde{}- know'\n",
       "\\item 'Gone'\n",
       "\\end{enumerate*}\n"
      ],
      "text/markdown": [
       "1. 'bett~- together'\n",
       "2. 'nev~- know'\n",
       "3. 'Gone'\n",
       "\n",
       "\n"
      ],
      "text/plain": [
       "[1] \"bett~- together\" \"nev~- know\"      \"Gone\"           "
      ]
     },
     "metadata": {},
     "output_type": "display_data"
    }
   ],
   "source": [
    "chartr(\"er\", \"~-\", c(\"better together\", \"never know\", \"Gone\"))\n",
    "# [1]\"b~tt^-tog th~-\"\"n^v~-know\"     Gon\n",
    "sub(\"er\", \"~-\", c(\"better together\", \"never know\", \"Gone\"))\n"
   ]
  },
  {
   "cell_type": "code",
   "execution_count": 16,
   "metadata": {
    "vscode": {
     "languageId": "r"
    }
   },
   "outputs": [
    {
     "data": {
      "text/html": [
       "<style>\n",
       ".list-inline {list-style: none; margin:0; padding: 0}\n",
       ".list-inline>li {display: inline-block}\n",
       ".list-inline>li:not(:last-child)::after {content: \"\\00b7\"; padding: 0 .5ex}\n",
       "</style>\n",
       "<ol class=list-inline><li>'bett~- togeth~-'</li><li>'nev~- know'</li><li>'Gone'</li></ol>\n"
      ],
      "text/latex": [
       "\\begin{enumerate*}\n",
       "\\item 'bett\\textasciitilde{}- togeth\\textasciitilde{}-'\n",
       "\\item 'nev\\textasciitilde{}- know'\n",
       "\\item 'Gone'\n",
       "\\end{enumerate*}\n"
      ],
      "text/markdown": [
       "1. 'bett~- togeth~-'\n",
       "2. 'nev~- know'\n",
       "3. 'Gone'\n",
       "\n",
       "\n"
      ],
      "text/plain": [
       "[1] \"bett~- togeth~-\" \"nev~- know\"      \"Gone\"           "
      ]
     },
     "metadata": {},
     "output_type": "display_data"
    }
   ],
   "source": [
    "gsub(\"er\", \"~-\", c(\"better together\", \"never know\", \"Gone\"))\n"
   ]
  },
  {
   "cell_type": "code",
   "execution_count": 17,
   "metadata": {
    "vscode": {
     "languageId": "r"
    }
   },
   "outputs": [
    {
     "data": {
      "text/html": [
       "<style>\n",
       ".list-inline {list-style: none; margin:0; padding: 0}\n",
       ".list-inline>li {display: inline-block}\n",
       ".list-inline>li:not(:last-child)::after {content: \"\\00b7\"; padding: 0 .5ex}\n",
       "</style>\n",
       "<ol class=list-inline><li>'12 my way'</li><li><span style=white-space:pre-wrap>'12ce  again'</span></li></ol>\n"
      ],
      "text/latex": [
       "\\begin{enumerate*}\n",
       "\\item '12 my way'\n",
       "\\item '12ce  again'\n",
       "\\end{enumerate*}\n"
      ],
      "text/markdown": [
       "1. '12 my way'\n",
       "2. <span style=white-space:pre-wrap>'12ce  again'</span>\n",
       "\n",
       "\n"
      ],
      "text/plain": [
       "[1] \"12 my way\"   \"12ce  again\""
      ]
     },
     "metadata": {},
     "output_type": "display_data"
    }
   ],
   "source": [
    "gsub(\"On\", \"12\", c(\"On my way\", \"once  again\"), ignore.case = T)\n"
   ]
  },
  {
   "cell_type": "markdown",
   "metadata": {},
   "source": [
    "## 大小写，匹配\n",
    "\n",
    "\n",
    "·大小写：`tolower(x)`,`toupper(x)`\n"
   ]
  },
  {
   "cell_type": "code",
   "execution_count": 18,
   "metadata": {
    "vscode": {
     "languageId": "r"
    }
   },
   "outputs": [
    {
     "data": {
      "text/html": [
       "'the smog of the sea'"
      ],
      "text/latex": [
       "'the smog of the sea'"
      ],
      "text/markdown": [
       "'the smog of the sea'"
      ],
      "text/plain": [
       "[1] \"the smog of the sea\""
      ]
     },
     "metadata": {},
     "output_type": "display_data"
    },
    {
     "data": {
      "text/html": [
       "'TELL ME WHO YOU ARE'"
      ],
      "text/latex": [
       "'TELL ME WHO YOU ARE'"
      ],
      "text/markdown": [
       "'TELL ME WHO YOU ARE'"
      ],
      "text/plain": [
       "[1] \"TELL ME WHO YOU ARE\""
      ]
     },
     "metadata": {},
     "output_type": "display_data"
    }
   ],
   "source": [
    "tolower(\"The Smog Of The Sea\")\n",
    "\n",
    "toupper(\"Tell Me Who You Are\")\n"
   ]
  },
  {
   "cell_type": "markdown",
   "metadata": {},
   "source": [
    "单个字符串在字符向量中的匹配：grep(pattern,x,ignore.case),grepl(),返回匹配到的字\n",
    "符在向量中的位置，grepl返回x中每个元素是否匹配到的逻辑值"
   ]
  },
  {
   "cell_type": "code",
   "execution_count": 19,
   "metadata": {
    "vscode": {
     "languageId": "r"
    }
   },
   "outputs": [
    {
     "data": {
      "text/html": [
       "<style>\n",
       ".list-inline {list-style: none; margin:0; padding: 0}\n",
       ".list-inline>li {display: inline-block}\n",
       ".list-inline>li:not(:last-child)::after {content: \"\\00b7\"; padding: 0 .5ex}\n",
       "</style>\n",
       "<ol class=list-inline><li>2</li><li>4</li></ol>\n"
      ],
      "text/latex": [
       "\\begin{enumerate*}\n",
       "\\item 2\n",
       "\\item 4\n",
       "\\end{enumerate*}\n"
      ],
      "text/markdown": [
       "1. 2\n",
       "2. 4\n",
       "\n",
       "\n"
      ],
      "text/plain": [
       "[1] 2 4"
      ]
     },
     "metadata": {},
     "output_type": "display_data"
    },
    {
     "data": {
      "text/html": [
       "<style>\n",
       ".list-inline {list-style: none; margin:0; padding: 0}\n",
       ".list-inline>li {display: inline-block}\n",
       ".list-inline>li:not(:last-child)::after {content: \"\\00b7\"; padding: 0 .5ex}\n",
       "</style>\n",
       "<ol class=list-inline><li>FALSE</li><li>TRUE</li><li>FALSE</li><li>TRUE</li></ol>\n"
      ],
      "text/latex": [
       "\\begin{enumerate*}\n",
       "\\item FALSE\n",
       "\\item TRUE\n",
       "\\item FALSE\n",
       "\\item TRUE\n",
       "\\end{enumerate*}\n"
      ],
      "text/markdown": [
       "1. FALSE\n",
       "2. TRUE\n",
       "3. FALSE\n",
       "4. TRUE\n",
       "\n",
       "\n"
      ],
      "text/plain": [
       "[1] FALSE  TRUE FALSE  TRUE"
      ]
     },
     "metadata": {},
     "output_type": "display_data"
    }
   ],
   "source": [
    "txt <- c(\"arm\", \"foot\", \"lefroo\", \"bafoobar\")\n",
    "grep(\"foo\", txt) ## [1]24\n",
    "grepl(\"foo\", txt)\n",
    "## [1]FALSE   TRUE   FALSE    TRUE\n"
   ]
  },
  {
   "cell_type": "markdown",
   "metadata": {},
   "source": [
    "## 匹配\n",
    "\n",
    "- `regexpr(pattern,text,ignore.case)` 在字符串text中 寻找pattern 的匹配，并且返回每个字符中第一个匹配的位置，类似的扩展函数`gregexpr()`参数一样，返回的是所有匹配位 置的列表"
   ]
  },
  {
   "cell_type": "code",
   "execution_count": 20,
   "metadata": {
    "vscode": {
     "languageId": "r"
    }
   },
   "outputs": [
    {
     "data": {
      "text/html": [
       "<style>\n",
       ".list-inline {list-style: none; margin:0; padding: 0}\n",
       ".list-inline>li {display: inline-block}\n",
       ".list-inline>li:not(:last-child)::after {content: \"\\00b7\"; padding: 0 .5ex}\n",
       "</style>\n",
       "<ol class=list-inline><li>-1</li><li>2</li><li>5</li><li>4</li></ol>\n"
      ],
      "text/latex": [
       "\\begin{enumerate*}\n",
       "\\item -1\n",
       "\\item 2\n",
       "\\item 5\n",
       "\\item 4\n",
       "\\end{enumerate*}\n"
      ],
      "text/markdown": [
       "1. -1\n",
       "2. 2\n",
       "3. 5\n",
       "4. 4\n",
       "\n",
       "\n"
      ],
      "text/plain": [
       "[1] -1  2  5  4\n",
       "attr(,\"match.length\")\n",
       "[1] -1  1  1  1\n",
       "attr(,\"index.type\")\n",
       "[1] \"chars\"\n",
       "attr(,\"useBytes\")\n",
       "[1] TRUE"
      ]
     },
     "metadata": {},
     "output_type": "display_data"
    }
   ],
   "source": [
    "regexpr(\"o\", txt)\n"
   ]
  },
  {
   "cell_type": "code",
   "execution_count": 26,
   "metadata": {
    "vscode": {
     "languageId": "r"
    }
   },
   "outputs": [
    {
     "data": {
      "text/html": [
       "<pre class=language-r><code>function (pattern, text, ignore.case = FALSE, perl = FALSE, fixed = FALSE, \n",
       "<span style=white-space:pre-wrap>    useBytes = FALSE) </span>\n",
       "NULL</code></pre>"
      ],
      "text/latex": [
       "\\begin{minted}{r}\n",
       "function (pattern, text, ignore.case = FALSE, perl = FALSE, fixed = FALSE, \n",
       "    useBytes = FALSE) \n",
       "NULL\n",
       "\\end{minted}"
      ],
      "text/markdown": [
       "```r\n",
       "function (pattern, text, ignore.case = FALSE, perl = FALSE, fixed = FALSE, \n",
       "    useBytes = FALSE) \n",
       "NULL\n",
       "```"
      ],
      "text/plain": [
       "function (pattern, text, ignore.case = FALSE, perl = FALSE, fixed = FALSE, \n",
       "    useBytes = FALSE) \n",
       "NULL"
      ]
     },
     "metadata": {},
     "output_type": "display_data"
    }
   ],
   "source": [
    "args(regexpr)\n"
   ]
  },
  {
   "cell_type": "code",
   "execution_count": 28,
   "metadata": {
    "vscode": {
     "languageId": "r"
    }
   },
   "outputs": [
    {
     "data": {
      "text/html": [
       "<style>\n",
       ".list-inline {list-style: none; margin:0; padding: 0}\n",
       ".list-inline>li {display: inline-block}\n",
       ".list-inline>li:not(:last-child)::after {content: \"\\00b7\"; padding: 0 .5ex}\n",
       "</style>\n",
       "<ol class=list-inline><li>-1</li><li>1</li><li>1</li><li>1</li></ol>\n"
      ],
      "text/latex": [
       "\\begin{enumerate*}\n",
       "\\item -1\n",
       "\\item 1\n",
       "\\item 1\n",
       "\\item 1\n",
       "\\end{enumerate*}\n"
      ],
      "text/markdown": [
       "1. -1\n",
       "2. 1\n",
       "3. 1\n",
       "4. 1\n",
       "\n",
       "\n"
      ],
      "text/plain": [
       "[1] -1  1  1  1"
      ]
     },
     "metadata": {},
     "output_type": "display_data"
    }
   ],
   "source": [
    "attr(regexpr(\"o\", txt), \"match.length\")\n"
   ]
  },
  {
   "cell_type": "code",
   "execution_count": 29,
   "metadata": {
    "vscode": {
     "languageId": "r"
    }
   },
   "outputs": [
    {
     "data": {
      "text/html": [
       "TRUE"
      ],
      "text/latex": [
       "TRUE"
      ],
      "text/markdown": [
       "TRUE"
      ],
      "text/plain": [
       "[1] TRUE"
      ]
     },
     "metadata": {},
     "output_type": "display_data"
    }
   ],
   "source": [
    "attr(regexpr(\"o\", txt), \"useBytes\")\n"
   ]
  },
  {
   "cell_type": "code",
   "execution_count": 30,
   "metadata": {
    "vscode": {
     "languageId": "r"
    }
   },
   "outputs": [
    {
     "data": {
      "text/html": [
       "<ol>\n",
       "\t<li><style>\n",
       ".list-inline {list-style: none; margin:0; padding: 0}\n",
       ".list-inline>li {display: inline-block}\n",
       ".list-inline>li:not(:last-child)::after {content: \"\\00b7\"; padding: 0 .5ex}\n",
       "</style>\n",
       "<ol class=list-inline><li>2</li><li>3</li></ol>\n",
       "</li>\n",
       "\t<li>5</li>\n",
       "</ol>\n"
      ],
      "text/latex": [
       "\\begin{enumerate}\n",
       "\\item \\begin{enumerate*}\n",
       "\\item 2\n",
       "\\item 3\n",
       "\\end{enumerate*}\n",
       "\n",
       "\\item 5\n",
       "\\end{enumerate}\n"
      ],
      "text/markdown": [
       "1. 1. 2\n",
       "2. 3\n",
       "\n",
       "\n",
       "\n",
       "2. 5\n",
       "\n",
       "\n"
      ],
      "text/plain": [
       "[[1]]\n",
       "[1] 2 3\n",
       "attr(,\"match.length\")\n",
       "[1] 1 1\n",
       "attr(,\"index.type\")\n",
       "[1] \"chars\"\n",
       "attr(,\"useBytes\")\n",
       "[1] TRUE\n",
       "\n",
       "[[2]]\n",
       "[1] 5\n",
       "attr(,\"match.length\")\n",
       "[1] 1\n",
       "attr(,\"index.type\")\n",
       "[1] \"chars\"\n",
       "attr(,\"useBytes\")\n",
       "[1] TRUE\n"
      ]
     },
     "metadata": {},
     "output_type": "display_data"
    },
    {
     "data": {
      "text/plain": [
       "NULL"
      ]
     },
     "metadata": {},
     "output_type": "display_data"
    },
    {
     "data": {
      "text/plain": [
       "NULL"
      ]
     },
     "metadata": {},
     "output_type": "display_data"
    }
   ],
   "source": [
    "gregexpr(\"o\", c(\"look\", \"my god\"))\n",
    "\n",
    "attr(gregexpr(\"o\", c(\"look\", \"my god\")), \"match.length\")\n",
    "\n",
    "attr(gregexpr(\"o\", c(\"look\", \"my god\")), \"useBytes\")\n"
   ]
  },
  {
   "cell_type": "markdown",
   "metadata": {},
   "source": [
    "\n",
    "- `match(x,table,nomatch=NA_integer_)`在向量table中寻找向量x的每个元素，返回第一 个匹配值得位置，如果没有匹配返回nomatch指定的字符\n",
    "\n",
    "\n"
   ]
  },
  {
   "cell_type": "code",
   "execution_count": 31,
   "metadata": {
    "vscode": {
     "languageId": "r"
    }
   },
   "outputs": [
    {
     "data": {
      "text/html": [
       "<style>\n",
       ".list-inline {list-style: none; margin:0; padding: 0}\n",
       ".list-inline>li {display: inline-block}\n",
       ".list-inline>li:not(:last-child)::after {content: \"\\00b7\"; padding: 0 .5ex}\n",
       "</style>\n",
       "<ol class=list-inline><li>1</li><li>&lt;NA&gt;</li><li>2</li><li>3</li><li>&lt;NA&gt;</li><li>&lt;NA&gt;</li><li>&lt;NA&gt;</li><li>&lt;NA&gt;</li><li>4</li><li>&lt;NA&gt;</li></ol>\n"
      ],
      "text/latex": [
       "\\begin{enumerate*}\n",
       "\\item 1\n",
       "\\item <NA>\n",
       "\\item 2\n",
       "\\item 3\n",
       "\\item <NA>\n",
       "\\item <NA>\n",
       "\\item <NA>\n",
       "\\item <NA>\n",
       "\\item 4\n",
       "\\item <NA>\n",
       "\\end{enumerate*}\n"
      ],
      "text/markdown": [
       "1. 1\n",
       "2. &lt;NA&gt;\n",
       "3. 2\n",
       "4. 3\n",
       "5. &lt;NA&gt;\n",
       "6. &lt;NA&gt;\n",
       "7. &lt;NA&gt;\n",
       "8. &lt;NA&gt;\n",
       "9. 4\n",
       "10. &lt;NA&gt;\n",
       "\n",
       "\n"
      ],
      "text/plain": [
       " [1]  1 NA  2  3 NA NA NA NA  4 NA"
      ]
     },
     "metadata": {},
     "output_type": "display_data"
    }
   ],
   "source": [
    "match(1:10, c(1, 3, 4, 9))\n"
   ]
  },
  {
   "cell_type": "code",
   "execution_count": 32,
   "metadata": {
    "vscode": {
     "languageId": "r"
    }
   },
   "outputs": [
    {
     "data": {
      "text/html": [
       "<style>\n",
       ".list-inline {list-style: none; margin:0; padding: 0}\n",
       ".list-inline>li {display: inline-block}\n",
       ".list-inline>li:not(:last-child)::after {content: \"\\00b7\"; padding: 0 .5ex}\n",
       "</style>\n",
       "<ol class=list-inline><li>1</li><li>0</li><li>2</li><li>3</li><li>0</li><li>0</li><li>0</li><li>0</li><li>4</li><li>0</li></ol>\n"
      ],
      "text/latex": [
       "\\begin{enumerate*}\n",
       "\\item 1\n",
       "\\item 0\n",
       "\\item 2\n",
       "\\item 3\n",
       "\\item 0\n",
       "\\item 0\n",
       "\\item 0\n",
       "\\item 0\n",
       "\\item 4\n",
       "\\item 0\n",
       "\\end{enumerate*}\n"
      ],
      "text/markdown": [
       "1. 1\n",
       "2. 0\n",
       "3. 2\n",
       "4. 3\n",
       "5. 0\n",
       "6. 0\n",
       "7. 0\n",
       "8. 0\n",
       "9. 4\n",
       "10. 0\n",
       "\n",
       "\n"
      ],
      "text/plain": [
       " [1] 1 0 2 3 0 0 0 0 4 0"
      ]
     },
     "metadata": {},
     "output_type": "display_data"
    }
   ],
   "source": [
    "match(1:10, c(1, 3, 4, 9), nomatch = 0)\n"
   ]
  },
  {
   "cell_type": "markdown",
   "metadata": {},
   "source": [
    "`%in%`相当于`\"%in%\"<-function(x,table)match(x,table,nomatch=0)>0`,返回符号左边\n",
    "向量每个元素是否在右边向量中的逻辑值，返回与左边向量相同的逻辑向量"
   ]
  },
  {
   "cell_type": "code",
   "execution_count": 1,
   "metadata": {
    "vscode": {
     "languageId": "r"
    }
   },
   "outputs": [
    {
     "data": {
      "text/html": [
       "<style>\n",
       ".list-inline {list-style: none; margin:0; padding: 0}\n",
       ".list-inline>li {display: inline-block}\n",
       ".list-inline>li:not(:last-child)::after {content: \"\\00b7\"; padding: 0 .5ex}\n",
       "</style>\n",
       "<ol class=list-inline><li>TRUE</li><li>FALSE</li><li>TRUE</li><li>FALSE</li><li>FALSE</li><li>FALSE</li><li>TRUE</li></ol>\n"
      ],
      "text/latex": [
       "\\begin{enumerate*}\n",
       "\\item TRUE\n",
       "\\item FALSE\n",
       "\\item TRUE\n",
       "\\item FALSE\n",
       "\\item FALSE\n",
       "\\item FALSE\n",
       "\\item TRUE\n",
       "\\end{enumerate*}\n"
      ],
      "text/markdown": [
       "1. TRUE\n",
       "2. FALSE\n",
       "3. TRUE\n",
       "4. FALSE\n",
       "5. FALSE\n",
       "6. FALSE\n",
       "7. TRUE\n",
       "\n",
       "\n"
      ],
      "text/plain": [
       "[1]  TRUE FALSE  TRUE FALSE FALSE FALSE  TRUE"
      ]
     },
     "metadata": {},
     "output_type": "display_data"
    }
   ],
   "source": [
    "str <- c(\"a\", \"ab\", \"B\", \"bla\", NA, \"%\", \"Z\")\n",
    "x <- str %in% c(letters, LETTERS)\n",
    "x\n"
   ]
  },
  {
   "cell_type": "markdown",
   "metadata": {},
   "source": []
  }
 ],
 "metadata": {
  "kernelspec": {
   "display_name": "R",
   "language": "R",
   "name": "ir"
  },
  "language_info": {
   "codemirror_mode": "r",
   "file_extension": ".r",
   "mimetype": "text/x-r-source",
   "name": "R",
   "pygments_lexer": "r",
   "version": "4.4.1"
  }
 },
 "nbformat": 4,
 "nbformat_minor": 2
}
