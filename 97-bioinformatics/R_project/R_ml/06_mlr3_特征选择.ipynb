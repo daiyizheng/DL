{
 "cells": [
  {
   "cell_type": "markdown",
   "metadata": {},
   "source": [
    "# mlr3：特征选择\n",
    "\n",
    "主要包括4个部分的内容，今天学习第二部分。\n",
    "\n",
    "- 模型调优\n",
    "- 调整超参数\n",
    "    - 方法一：通过`tuninginstancesinglecrite`和`tuner`训练模型\n",
    "    - 方法二：通过`autotuner`训练模型\n",
    "    - 超参数设定的方法\n",
    "    - 参数依赖\n",
    "- 嵌套重抽样\n",
    "    - 进行嵌套重抽样\n",
    "    - 评价模型\n",
    "    - 把超参数应用于模型\n",
    "- Hyperband调参\n",
    "- 特征选择\n",
    "    - filters\n",
    "    - 计算分数\n",
    "    - 计算变量重要性\n",
    "    - 组合方法（wrapper methods）\n",
    "    - 自动选择"
   ]
  },
  {
   "cell_type": "markdown",
   "metadata": {},
   "source": [
    "## Hyperband调参\n",
    "Hyperband调参可看做是一种特殊的随机搜索方式，俗话说：“鱼与熊掌不可兼得”，Hyperband就是取其一种，感兴趣的小伙伴可以自己学习一下。\n",
    "\n",
    "在这里举一个简单的小例子说明： 假如你有8匹马，每匹马需要4个单位的食物才能发挥最好，但是你现在只有32个单位的食物，所以你需要制定一个策略，充分利用32个单位的食物（也就是你的计算资源）来找到最好的马。 两种策略，第一种：直接放弃4匹马，把所有的食物用在另外4匹马上，这样到最后你就能挑选出4匹马中最好的一匹。但是这样的问题就是你不知道被你舍弃的那4匹马会不会有更好的。 第2种策略：在最开始时每匹马给1个单位食物，然后看它们表现，把表现好的4匹留下，表现不好的就舍弃，给予剩下4匹马更多的食物，然后再把表现好的2匹留下，如此循环，最好把剩下的食物给最后1匹马。\n",
    "\n",
    "我们主要介绍通过`mlr3hyperband`包实现这一方法。"
   ]
  },
  {
   "cell_type": "code",
   "execution_count": 5,
   "metadata": {
    "vscode": {
     "languageId": "r"
    }
   },
   "outputs": [
    {
     "name": "stderr",
     "output_type": "stream",
     "text": [
      "Loading required package: mlr3tuning\n",
      "\n",
      "Loading required package: paradox\n",
      "\n"
     ]
    }
   ],
   "source": [
    "library(mlr3verse)\n",
    "library(mlr3hyperband)\n"
   ]
  },
  {
   "cell_type": "code",
   "execution_count": 2,
   "metadata": {
    "vscode": {
     "languageId": "r"
    }
   },
   "outputs": [],
   "source": [
    "set.seed(123)\n",
    "\n",
    "ll <- po(\"subsample\") %>>% lrn(\"classif.rpart\") # mlr3自带的管道符，先进行预处理\n"
   ]
  },
  {
   "cell_type": "code",
   "execution_count": 3,
   "metadata": {
    "vscode": {
     "languageId": "r"
    }
   },
   "outputs": [],
   "source": [
    "search_space <- ps(\n",
    "    classif.rpart.cp = p_dbl(\n",
    "        lower = 0.001,\n",
    "        upper = 0.1\n",
    "    ),\n",
    "    classif.rpart.minsplit = p_int(\n",
    "        lower = 1,\n",
    "        upper = 10\n",
    "    ),\n",
    "    subsample.frac = p_dbl(\n",
    "        lower = 0.1,\n",
    "        upper = 1,\n",
    "        tags = \"budget\"\n",
    "    )\n",
    ") # tags标记\n"
   ]
  },
  {
   "cell_type": "code",
   "execution_count": 7,
   "metadata": {
    "vscode": {
     "languageId": "r"
    }
   },
   "outputs": [],
   "source": [
    "instance <- TuningInstanceBatchSingleCrit$new(\n",
    "  task = tsk(\"iris\"),\n",
    "  learner = ll,\n",
    "  resampling = rsmp(\"holdout\"),\n",
    "  measure = msr(\"classif.ce\"),\n",
    "  terminator = trm(\"none\"), # hyperband terminates itself\n",
    "  search_space = search_space\n",
    ")\n"
   ]
  },
  {
   "cell_type": "markdown",
   "metadata": {},
   "source": [
    "接下来进行hyperband调参："
   ]
  },
  {
   "cell_type": "code",
   "execution_count": 8,
   "metadata": {
    "vscode": {
     "languageId": "r"
    }
   },
   "outputs": [
    {
     "name": "stdout",
     "output_type": "stream",
     "text": [
      "INFO  [09:45:14.404] [mlr3] Running benchmark with 9 resampling iterations\n",
      "INFO  [09:45:14.453] [mlr3] Applying learner 'subsample.classif.rpart' on task 'iris' (iter 1/1)\n",
      "INFO  [09:45:14.549] [mlr3] Applying learner 'subsample.classif.rpart' on task 'iris' (iter 1/1)\n",
      "INFO  [09:45:14.593] [mlr3] Applying learner 'subsample.classif.rpart' on task 'iris' (iter 1/1)\n",
      "INFO  [09:45:14.639] [mlr3] Applying learner 'subsample.classif.rpart' on task 'iris' (iter 1/1)\n",
      "INFO  [09:45:14.691] [mlr3] Applying learner 'subsample.classif.rpart' on task 'iris' (iter 1/1)\n",
      "INFO  [09:45:14.742] [mlr3] Applying learner 'subsample.classif.rpart' on task 'iris' (iter 1/1)\n",
      "INFO  [09:45:14.810] [mlr3] Applying learner 'subsample.classif.rpart' on task 'iris' (iter 1/1)\n",
      "INFO  [09:45:14.852] [mlr3] Applying learner 'subsample.classif.rpart' on task 'iris' (iter 1/1)\n",
      "INFO  [09:45:14.892] [mlr3] Applying learner 'subsample.classif.rpart' on task 'iris' (iter 1/1)\n",
      "INFO  [09:45:14.932] [mlr3] Finished benchmark\n",
      "INFO  [09:45:15.016] [mlr3] Running benchmark with 8 resampling iterations\n",
      "INFO  [09:45:15.020] [mlr3] Applying learner 'subsample.classif.rpart' on task 'iris' (iter 1/1)\n",
      "INFO  [09:45:15.061] [mlr3] Applying learner 'subsample.classif.rpart' on task 'iris' (iter 1/1)\n",
      "INFO  [09:45:15.106] [mlr3] Applying learner 'subsample.classif.rpart' on task 'iris' (iter 1/1)\n",
      "INFO  [09:45:15.146] [mlr3] Applying learner 'subsample.classif.rpart' on task 'iris' (iter 1/1)\n",
      "INFO  [09:45:15.186] [mlr3] Applying learner 'subsample.classif.rpart' on task 'iris' (iter 1/1)\n",
      "INFO  [09:45:15.228] [mlr3] Applying learner 'subsample.classif.rpart' on task 'iris' (iter 1/1)\n",
      "INFO  [09:45:15.275] [mlr3] Applying learner 'subsample.classif.rpart' on task 'iris' (iter 1/1)\n",
      "INFO  [09:45:15.315] [mlr3] Applying learner 'subsample.classif.rpart' on task 'iris' (iter 1/1)\n",
      "INFO  [09:45:15.355] [mlr3] Finished benchmark\n",
      "INFO  [09:45:15.437] [mlr3] Running benchmark with 5 resampling iterations\n",
      "INFO  [09:45:15.442] [mlr3] Applying learner 'subsample.classif.rpart' on task 'iris' (iter 1/1)\n",
      "INFO  [09:45:15.481] [mlr3] Applying learner 'subsample.classif.rpart' on task 'iris' (iter 1/1)\n",
      "INFO  [09:45:15.521] [mlr3] Applying learner 'subsample.classif.rpart' on task 'iris' (iter 1/1)\n",
      "INFO  [09:45:15.562] [mlr3] Applying learner 'subsample.classif.rpart' on task 'iris' (iter 1/1)\n",
      "INFO  [09:45:15.607] [mlr3] Applying learner 'subsample.classif.rpart' on task 'iris' (iter 1/1)\n",
      "INFO  [09:45:15.646] [mlr3] Finished benchmark\n"
     ]
    },
    {
     "data": {
      "text/html": [
       "<table class=\"dataframe\">\n",
       "<caption>A data.table: 1 × 6</caption>\n",
       "<thead>\n",
       "\t<tr><th scope=col>classif.rpart.cp</th><th scope=col>classif.rpart.minsplit</th><th scope=col>subsample.frac</th><th scope=col>learner_param_vals</th><th scope=col>x_domain</th><th scope=col>classif.ce</th></tr>\n",
       "\t<tr><th scope=col>&lt;dbl&gt;</th><th scope=col>&lt;int&gt;</th><th scope=col>&lt;dbl&gt;</th><th scope=col>&lt;list&gt;</th><th scope=col>&lt;list&gt;</th><th scope=col>&lt;dbl&gt;</th></tr>\n",
       "</thead>\n",
       "<tbody>\n",
       "\t<tr><td>0.008118506</td><td>1</td><td>0.1111111</td><td>0.111111111, 0.000000000, 0.000000000, 0.000000000, 0.008118506, 1.000000000</td><td>0.008118506, 1.000000000, 0.111111111</td><td>0.02</td></tr>\n",
       "</tbody>\n",
       "</table>\n"
      ],
      "text/latex": [
       "A data.table: 1 × 6\n",
       "\\begin{tabular}{llllll}\n",
       " classif.rpart.cp & classif.rpart.minsplit & subsample.frac & learner\\_param\\_vals & x\\_domain & classif.ce\\\\\n",
       " <dbl> & <int> & <dbl> & <list> & <list> & <dbl>\\\\\n",
       "\\hline\n",
       "\t 0.008118506 & 1 & 0.1111111 & 0.111111111, 0.000000000, 0.000000000, 0.000000000, 0.008118506, 1.000000000 & 0.008118506, 1.000000000, 0.111111111 & 0.02\\\\\n",
       "\\end{tabular}\n"
      ],
      "text/markdown": [
       "\n",
       "A data.table: 1 × 6\n",
       "\n",
       "| classif.rpart.cp &lt;dbl&gt; | classif.rpart.minsplit &lt;int&gt; | subsample.frac &lt;dbl&gt; | learner_param_vals &lt;list&gt; | x_domain &lt;list&gt; | classif.ce &lt;dbl&gt; |\n",
       "|---|---|---|---|---|---|\n",
       "| 0.008118506 | 1 | 0.1111111 | 0.111111111, 0.000000000, 0.000000000, 0.000000000, 0.008118506, 1.000000000 | 0.008118506, 1.000000000, 0.111111111 | 0.02 |\n",
       "\n"
      ],
      "text/plain": [
       "  classif.rpart.cp classif.rpart.minsplit subsample.frac\n",
       "1 0.008118506      1                      0.1111111     \n",
       "  learner_param_vals                                                          \n",
       "1 0.111111111, 0.000000000, 0.000000000, 0.000000000, 0.008118506, 1.000000000\n",
       "  x_domain                              classif.ce\n",
       "1 0.008118506, 1.000000000, 0.111111111 0.02      "
      ]
     },
     "metadata": {},
     "output_type": "display_data"
    }
   ],
   "source": [
    "tuner <- tnr(\"hyperband\", eta = 3)\n",
    "\n",
    "lgr::get_logger(\"bbotk\")$set_threshold(\"warn\")\n",
    "\n",
    "tuner$optimize(instance)\n"
   ]
  },
  {
   "cell_type": "markdown",
   "metadata": {},
   "source": [
    "查看结果："
   ]
  },
  {
   "cell_type": "code",
   "execution_count": 9,
   "metadata": {
    "vscode": {
     "languageId": "r"
    }
   },
   "outputs": [
    {
     "data": {
      "text/html": [
       "<table class=\"dataframe\">\n",
       "<caption>A data.table: 1 × 6</caption>\n",
       "<thead>\n",
       "\t<tr><th scope=col>classif.rpart.cp</th><th scope=col>classif.rpart.minsplit</th><th scope=col>subsample.frac</th><th scope=col>learner_param_vals</th><th scope=col>x_domain</th><th scope=col>classif.ce</th></tr>\n",
       "\t<tr><th scope=col>&lt;dbl&gt;</th><th scope=col>&lt;int&gt;</th><th scope=col>&lt;dbl&gt;</th><th scope=col>&lt;list&gt;</th><th scope=col>&lt;list&gt;</th><th scope=col>&lt;dbl&gt;</th></tr>\n",
       "</thead>\n",
       "<tbody>\n",
       "\t<tr><td>0.008118506</td><td>1</td><td>0.1111111</td><td>0.111111111, 0.000000000, 0.000000000, 0.000000000, 0.008118506, 1.000000000</td><td>0.008118506, 1.000000000, 0.111111111</td><td>0.02</td></tr>\n",
       "</tbody>\n",
       "</table>\n"
      ],
      "text/latex": [
       "A data.table: 1 × 6\n",
       "\\begin{tabular}{llllll}\n",
       " classif.rpart.cp & classif.rpart.minsplit & subsample.frac & learner\\_param\\_vals & x\\_domain & classif.ce\\\\\n",
       " <dbl> & <int> & <dbl> & <list> & <list> & <dbl>\\\\\n",
       "\\hline\n",
       "\t 0.008118506 & 1 & 0.1111111 & 0.111111111, 0.000000000, 0.000000000, 0.000000000, 0.008118506, 1.000000000 & 0.008118506, 1.000000000, 0.111111111 & 0.02\\\\\n",
       "\\end{tabular}\n"
      ],
      "text/markdown": [
       "\n",
       "A data.table: 1 × 6\n",
       "\n",
       "| classif.rpart.cp &lt;dbl&gt; | classif.rpart.minsplit &lt;int&gt; | subsample.frac &lt;dbl&gt; | learner_param_vals &lt;list&gt; | x_domain &lt;list&gt; | classif.ce &lt;dbl&gt; |\n",
       "|---|---|---|---|---|---|\n",
       "| 0.008118506 | 1 | 0.1111111 | 0.111111111, 0.000000000, 0.000000000, 0.000000000, 0.008118506, 1.000000000 | 0.008118506, 1.000000000, 0.111111111 | 0.02 |\n",
       "\n"
      ],
      "text/plain": [
       "  classif.rpart.cp classif.rpart.minsplit subsample.frac\n",
       "1 0.008118506      1                      0.1111111     \n",
       "  learner_param_vals                                                          \n",
       "1 0.111111111, 0.000000000, 0.000000000, 0.000000000, 0.008118506, 1.000000000\n",
       "  x_domain                              classif.ce\n",
       "1 0.008118506, 1.000000000, 0.111111111 0.02      "
      ]
     },
     "metadata": {},
     "output_type": "display_data"
    }
   ],
   "source": [
    "instance$result\n"
   ]
  },
  {
   "cell_type": "code",
   "execution_count": 10,
   "metadata": {
    "vscode": {
     "languageId": "r"
    }
   },
   "outputs": [
    {
     "data": {
      "text/html": [
       "<dl>\n",
       "\t<dt>$subsample.frac</dt>\n",
       "\t\t<dd>0.111111111111111</dd>\n",
       "\t<dt>$subsample.stratify</dt>\n",
       "\t\t<dd>FALSE</dd>\n",
       "\t<dt>$subsample.replace</dt>\n",
       "\t\t<dd>FALSE</dd>\n",
       "\t<dt>$classif.rpart.xval</dt>\n",
       "\t\t<dd>0</dd>\n",
       "\t<dt>$classif.rpart.cp</dt>\n",
       "\t\t<dd>0.00811850562458858</dd>\n",
       "\t<dt>$classif.rpart.minsplit</dt>\n",
       "\t\t<dd>1</dd>\n",
       "</dl>\n"
      ],
      "text/latex": [
       "\\begin{description}\n",
       "\\item[\\$subsample.frac] 0.111111111111111\n",
       "\\item[\\$subsample.stratify] FALSE\n",
       "\\item[\\$subsample.replace] FALSE\n",
       "\\item[\\$classif.rpart.xval] 0\n",
       "\\item[\\$classif.rpart.cp] 0.00811850562458858\n",
       "\\item[\\$classif.rpart.minsplit] 1\n",
       "\\end{description}\n"
      ],
      "text/markdown": [
       "$subsample.frac\n",
       ":   0.111111111111111\n",
       "$subsample.stratify\n",
       ":   FALSE\n",
       "$subsample.replace\n",
       ":   FALSE\n",
       "$classif.rpart.xval\n",
       ":   0\n",
       "$classif.rpart.cp\n",
       ":   0.00811850562458858\n",
       "$classif.rpart.minsplit\n",
       ":   1\n",
       "\n",
       "\n"
      ],
      "text/plain": [
       "$subsample.frac\n",
       "[1] 0.1111111\n",
       "\n",
       "$subsample.stratify\n",
       "[1] FALSE\n",
       "\n",
       "$subsample.replace\n",
       "[1] FALSE\n",
       "\n",
       "$classif.rpart.xval\n",
       "[1] 0\n",
       "\n",
       "$classif.rpart.cp\n",
       "[1] 0.008118506\n",
       "\n",
       "$classif.rpart.minsplit\n",
       "[1] 1\n"
      ]
     },
     "metadata": {},
     "output_type": "display_data"
    }
   ],
   "source": [
    "instance$result_learner_param_vals\n"
   ]
  },
  {
   "cell_type": "markdown",
   "metadata": {},
   "source": [
    "## 特征选择\n",
    "特征选择也是一门艺术，当我们拿到一份数据时，有很多信息是冗余的，是无效的，对于建模是没有帮助的。这样的变量用于建模只会增加噪声，降低模型表现。把冗余信息去除，挑选最合适的变量的过程被称为特征选择。\n",
    "\n",
    "### ilters\n",
    "这种方法首先把所有预测变量计算一个分数，然后按照分数进行排名，这样我们就可以根据分数挑选合适的预测变量了。\n",
    "\n",
    "查看支持的计算分数的方法："
   ]
  },
  {
   "cell_type": "code",
   "execution_count": 11,
   "metadata": {
    "vscode": {
     "languageId": "r"
    }
   },
   "outputs": [
    {
     "data": {
      "text/plain": [
       "<DictionaryFilter> with 23 stored values\n",
       "Keys: anova, auc, boruta, carscore, carsurvscore, cmim, correlation,\n",
       "  disr, find_correlation, importance, information_gain, jmi, jmim,\n",
       "  kruskal_test, mim, mrmr, njmim, performance, permutation, relief,\n",
       "  selected_features, univariate_cox, variance"
      ]
     },
     "metadata": {},
     "output_type": "display_data"
    }
   ],
   "source": [
    "mlr_filters\n"
   ]
  },
  {
   "cell_type": "code",
   "execution_count": 13,
   "metadata": {
    "vscode": {
     "languageId": "r"
    }
   },
   "outputs": [
    {
     "data": {
      "text/html": [
       "<style>\n",
       ".list-inline {list-style: none; margin:0; padding: 0}\n",
       ".list-inline>li {display: inline-block}\n",
       ".list-inline>li:not(:last-child)::after {content: \"\\00b7\"; padding: 0 .5ex}\n",
       "</style>\n",
       "<ol class=list-inline><li>'anova'</li><li>'auc'</li><li>'boruta'</li><li>'carscore'</li><li>'carsurvscore'</li><li>'cmim'</li><li>'correlation'</li><li>'disr'</li><li>'find_correlation'</li><li>'importance'</li><li>'information_gain'</li><li>'jmi'</li><li>'jmim'</li><li>'kruskal_test'</li><li>'mim'</li><li>'mrmr'</li><li>'njmim'</li><li>'performance'</li><li>'permutation'</li><li>'relief'</li><li>'selected_features'</li><li>'univariate_cox'</li><li>'variance'</li></ol>\n"
      ],
      "text/latex": [
       "\\begin{enumerate*}\n",
       "\\item 'anova'\n",
       "\\item 'auc'\n",
       "\\item 'boruta'\n",
       "\\item 'carscore'\n",
       "\\item 'carsurvscore'\n",
       "\\item 'cmim'\n",
       "\\item 'correlation'\n",
       "\\item 'disr'\n",
       "\\item 'find\\_correlation'\n",
       "\\item 'importance'\n",
       "\\item 'information\\_gain'\n",
       "\\item 'jmi'\n",
       "\\item 'jmim'\n",
       "\\item 'kruskal\\_test'\n",
       "\\item 'mim'\n",
       "\\item 'mrmr'\n",
       "\\item 'njmim'\n",
       "\\item 'performance'\n",
       "\\item 'permutation'\n",
       "\\item 'relief'\n",
       "\\item 'selected\\_features'\n",
       "\\item 'univariate\\_cox'\n",
       "\\item 'variance'\n",
       "\\end{enumerate*}\n"
      ],
      "text/markdown": [
       "1. 'anova'\n",
       "2. 'auc'\n",
       "3. 'boruta'\n",
       "4. 'carscore'\n",
       "5. 'carsurvscore'\n",
       "6. 'cmim'\n",
       "7. 'correlation'\n",
       "8. 'disr'\n",
       "9. 'find_correlation'\n",
       "10. 'importance'\n",
       "11. 'information_gain'\n",
       "12. 'jmi'\n",
       "13. 'jmim'\n",
       "14. 'kruskal_test'\n",
       "15. 'mim'\n",
       "16. 'mrmr'\n",
       "17. 'njmim'\n",
       "18. 'performance'\n",
       "19. 'permutation'\n",
       "20. 'relief'\n",
       "21. 'selected_features'\n",
       "22. 'univariate_cox'\n",
       "23. 'variance'\n",
       "\n",
       "\n"
      ],
      "text/plain": [
       " [1] \"anova\"             \"auc\"               \"boruta\"           \n",
       " [4] \"carscore\"          \"carsurvscore\"      \"cmim\"             \n",
       " [7] \"correlation\"       \"disr\"              \"find_correlation\" \n",
       "[10] \"importance\"        \"information_gain\"  \"jmi\"              \n",
       "[13] \"jmim\"              \"kruskal_test\"      \"mim\"              \n",
       "[16] \"mrmr\"              \"njmim\"             \"performance\"      \n",
       "[19] \"permutation\"       \"relief\"            \"selected_features\"\n",
       "[22] \"univariate_cox\"    \"variance\"         "
      ]
     },
     "metadata": {},
     "output_type": "display_data"
    }
   ],
   "source": [
    "mlr_filters$keys()\n"
   ]
  },
  {
   "cell_type": "markdown",
   "metadata": {},
   "source": [
    "特征工程是很复杂的，想要详细了解的可阅读相关书籍。\n",
    "\n",
    "\n",
    "### 计算分数\n",
    "目前只支持分类和回归。"
   ]
  },
  {
   "cell_type": "code",
   "execution_count": 15,
   "metadata": {
    "vscode": {
     "languageId": "r"
    }
   },
   "outputs": [
    {
     "data": {
      "text/plain": [
       "<FilterJMIM:jmim>: Minimal Joint Mutual Information Maximization\n",
       "Task Types: classif, regr\n",
       "Properties: -\n",
       "Task Properties: -\n",
       "Packages: praznik\n",
       "Feature types: integer, numeric, factor, ordered\n",
       "        feature     score\n",
       "1:  Petal.Width 1.0000000\n",
       "2: Sepal.Length 0.6666667\n",
       "3: Petal.Length 0.3333333\n",
       "4:  Sepal.Width 0.0000000"
      ]
     },
     "metadata": {},
     "output_type": "display_data"
    }
   ],
   "source": [
    "filter <- flt(\"jmim\")\n",
    "\n",
    "task <- tsk(\"iris\")\n",
    "filter$calculate(task)\n",
    "\n",
    "filter\n"
   ]
  },
  {
   "cell_type": "markdown",
   "metadata": {},
   "source": [
    "可以看到每个变量都计算出来一个分数。"
   ]
  },
  {
   "cell_type": "code",
   "execution_count": 16,
   "metadata": {
    "vscode": {
     "languageId": "r"
    }
   },
   "outputs": [
    {
     "data": {
      "text/plain": [
       "<ParamSet(2)>\n",
       "       id    class lower upper nlevels    default  value\n",
       "   <char>   <char> <num> <num>   <num>     <list> <list>\n",
       "1:    use ParamFct    NA    NA       5 everything       \n",
       "2: method ParamFct    NA    NA       3    pearson       "
      ]
     },
     "metadata": {},
     "output_type": "display_data"
    }
   ],
   "source": [
    "# 根据相关性挑选变量\n",
    "filter_cor <- flt(\"correlation\")\n",
    "\n",
    "# 支持更改参数，默认是pearson\n",
    "filter_cor$param_set\n"
   ]
  },
  {
   "cell_type": "code",
   "execution_count": 17,
   "metadata": {
    "vscode": {
     "languageId": "r"
    }
   },
   "outputs": [
    {
     "data": {
      "text/plain": [
       "<ParamSet(2)>\n",
       "       id    class lower upper nlevels    default    value\n",
       "   <char>   <char> <num> <num>   <num>     <list>   <list>\n",
       "1:    use ParamFct    NA    NA       5 everything         \n",
       "2: method ParamFct    NA    NA       3    pearson spearman"
      ]
     },
     "metadata": {},
     "output_type": "display_data"
    }
   ],
   "source": [
    "#  可以更改为spearman\n",
    "filter_cor$param_set$values <- list(method = \"spearman\")\n",
    "filter_cor$param_set\n"
   ]
  },
  {
   "cell_type": "markdown",
   "metadata": {},
   "source": [
    "## 计算变量重要性\n",
    "所有支持`importance`参数的`learner`都支持这种方法。\n",
    "\n",
    "比如："
   ]
  },
  {
   "cell_type": "code",
   "execution_count": 19,
   "metadata": {
    "vscode": {
     "languageId": "r"
    }
   },
   "outputs": [],
   "source": [
    "lrn <- lrn(\"classif.ranger\",\n",
    "    importance = \"impurity\"\n",
    ")\n",
    "\n",
    "task <- tsk(\"iris\")\n",
    "filter <- flt(\"importance\", learner = lrn)\n"
   ]
  },
  {
   "cell_type": "code",
   "execution_count": 21,
   "metadata": {
    "vscode": {
     "languageId": "r"
    }
   },
   "outputs": [
    {
     "data": {
      "text/plain": [
       "<FilterImportance:importance>: Importance Score\n",
       "Task Types: classif\n",
       "Properties: -\n",
       "Task Properties: -\n",
       "Packages: mlr3, mlr3learners, ranger\n",
       "Feature types: logical, integer, numeric, character, factor, ordered\n",
       "        feature     score\n",
       "1: Petal.Length 43.765053\n",
       "2:  Petal.Width 42.174950\n",
       "3: Sepal.Length 10.812783\n",
       "4:  Sepal.Width  2.511471"
      ]
     },
     "metadata": {},
     "output_type": "display_data"
    }
   ],
   "source": [
    "filter$calculate(task)\n",
    "filter\n"
   ]
  },
  {
   "cell_type": "code",
   "execution_count": 24,
   "metadata": {
    "vscode": {
     "languageId": "r"
    }
   },
   "outputs": [
    {
     "data": {
      "text/html": [
       "<table class=\"dataframe\">\n",
       "<caption>A data.table: 6 × 5</caption>\n",
       "<thead>\n",
       "\t<tr><th scope=col>Species</th><th scope=col>Petal.Length</th><th scope=col>Petal.Width</th><th scope=col>Sepal.Length</th><th scope=col>Sepal.Width</th></tr>\n",
       "\t<tr><th scope=col>&lt;fct&gt;</th><th scope=col>&lt;dbl&gt;</th><th scope=col>&lt;dbl&gt;</th><th scope=col>&lt;dbl&gt;</th><th scope=col>&lt;dbl&gt;</th></tr>\n",
       "</thead>\n",
       "<tbody>\n",
       "\t<tr><td>setosa</td><td>1.4</td><td>0.2</td><td>5.1</td><td>3.5</td></tr>\n",
       "\t<tr><td>setosa</td><td>1.4</td><td>0.2</td><td>4.9</td><td>3.0</td></tr>\n",
       "\t<tr><td>setosa</td><td>1.3</td><td>0.2</td><td>4.7</td><td>3.2</td></tr>\n",
       "\t<tr><td>setosa</td><td>1.5</td><td>0.2</td><td>4.6</td><td>3.1</td></tr>\n",
       "\t<tr><td>setosa</td><td>1.4</td><td>0.2</td><td>5.0</td><td>3.6</td></tr>\n",
       "\t<tr><td>setosa</td><td>1.7</td><td>0.4</td><td>5.4</td><td>3.9</td></tr>\n",
       "</tbody>\n",
       "</table>\n"
      ],
      "text/latex": [
       "A data.table: 6 × 5\n",
       "\\begin{tabular}{lllll}\n",
       " Species & Petal.Length & Petal.Width & Sepal.Length & Sepal.Width\\\\\n",
       " <fct> & <dbl> & <dbl> & <dbl> & <dbl>\\\\\n",
       "\\hline\n",
       "\t setosa & 1.4 & 0.2 & 5.1 & 3.5\\\\\n",
       "\t setosa & 1.4 & 0.2 & 4.9 & 3.0\\\\\n",
       "\t setosa & 1.3 & 0.2 & 4.7 & 3.2\\\\\n",
       "\t setosa & 1.5 & 0.2 & 4.6 & 3.1\\\\\n",
       "\t setosa & 1.4 & 0.2 & 5.0 & 3.6\\\\\n",
       "\t setosa & 1.7 & 0.4 & 5.4 & 3.9\\\\\n",
       "\\end{tabular}\n"
      ],
      "text/markdown": [
       "\n",
       "A data.table: 6 × 5\n",
       "\n",
       "| Species &lt;fct&gt; | Petal.Length &lt;dbl&gt; | Petal.Width &lt;dbl&gt; | Sepal.Length &lt;dbl&gt; | Sepal.Width &lt;dbl&gt; |\n",
       "|---|---|---|---|---|\n",
       "| setosa | 1.4 | 0.2 | 5.1 | 3.5 |\n",
       "| setosa | 1.4 | 0.2 | 4.9 | 3.0 |\n",
       "| setosa | 1.3 | 0.2 | 4.7 | 3.2 |\n",
       "| setosa | 1.5 | 0.2 | 4.6 | 3.1 |\n",
       "| setosa | 1.4 | 0.2 | 5.0 | 3.6 |\n",
       "| setosa | 1.7 | 0.4 | 5.4 | 3.9 |\n",
       "\n"
      ],
      "text/plain": [
       "  Species Petal.Length Petal.Width Sepal.Length Sepal.Width\n",
       "1 setosa  1.4          0.2         5.1          3.5        \n",
       "2 setosa  1.4          0.2         4.9          3.0        \n",
       "3 setosa  1.3          0.2         4.7          3.2        \n",
       "4 setosa  1.5          0.2         4.6          3.1        \n",
       "5 setosa  1.4          0.2         5.0          3.6        \n",
       "6 setosa  1.7          0.4         5.4          3.9        "
      ]
     },
     "metadata": {},
     "output_type": "display_data"
    }
   ],
   "source": [
    "task$head()\n"
   ]
  },
  {
   "cell_type": "code",
   "execution_count": 26,
   "metadata": {
    "vscode": {
     "languageId": "r"
    }
   },
   "outputs": [
    {
     "data": {
      "text/html": [
       "<style>\n",
       ".list-inline {list-style: none; margin:0; padding: 0}\n",
       ".list-inline>li {display: inline-block}\n",
       ".list-inline>li:not(:last-child)::after {content: \"\\00b7\"; padding: 0 .5ex}\n",
       "</style>\n",
       "<ol class=list-inline><li>setosa</li><li>setosa</li><li>setosa</li><li>setosa</li><li>setosa</li><li>setosa</li><li>setosa</li><li>setosa</li><li>setosa</li><li>setosa</li><li>setosa</li><li>setosa</li><li>setosa</li><li>setosa</li><li>setosa</li><li>setosa</li><li>setosa</li><li>setosa</li><li>setosa</li><li>setosa</li><li>setosa</li><li>setosa</li><li>setosa</li><li>setosa</li><li>setosa</li><li>setosa</li><li>setosa</li><li>setosa</li><li>setosa</li><li>setosa</li><li>setosa</li><li>setosa</li><li>setosa</li><li>setosa</li><li>setosa</li><li>setosa</li><li>setosa</li><li>setosa</li><li>setosa</li><li>setosa</li><li>setosa</li><li>setosa</li><li>setosa</li><li>setosa</li><li>setosa</li><li>setosa</li><li>setosa</li><li>setosa</li><li>setosa</li><li>setosa</li><li>versicolor</li><li>versicolor</li><li>versicolor</li><li>versicolor</li><li>versicolor</li><li>versicolor</li><li>versicolor</li><li>versicolor</li><li>versicolor</li><li>versicolor</li><li>versicolor</li><li>versicolor</li><li>versicolor</li><li>versicolor</li><li>versicolor</li><li>versicolor</li><li>versicolor</li><li>versicolor</li><li>versicolor</li><li>versicolor</li><li>versicolor</li><li>versicolor</li><li>versicolor</li><li>versicolor</li><li>versicolor</li><li>versicolor</li><li>versicolor</li><li>versicolor</li><li>versicolor</li><li>versicolor</li><li>versicolor</li><li>versicolor</li><li>versicolor</li><li>versicolor</li><li>versicolor</li><li>versicolor</li><li>versicolor</li><li>versicolor</li><li>versicolor</li><li>versicolor</li><li>versicolor</li><li>versicolor</li><li>versicolor</li><li>versicolor</li><li>versicolor</li><li>versicolor</li><li>versicolor</li><li>versicolor</li><li>versicolor</li><li>versicolor</li><li>virginica</li><li>virginica</li><li>virginica</li><li>virginica</li><li>virginica</li><li>virginica</li><li>virginica</li><li>virginica</li><li>virginica</li><li>virginica</li><li>virginica</li><li>virginica</li><li>virginica</li><li>virginica</li><li>virginica</li><li>virginica</li><li>virginica</li><li>virginica</li><li>virginica</li><li>virginica</li><li>virginica</li><li>virginica</li><li>virginica</li><li>virginica</li><li>virginica</li><li>virginica</li><li>virginica</li><li>virginica</li><li>virginica</li><li>virginica</li><li>virginica</li><li>virginica</li><li>virginica</li><li>virginica</li><li>virginica</li><li>virginica</li><li>virginica</li><li>virginica</li><li>virginica</li><li>virginica</li><li>virginica</li><li>virginica</li><li>virginica</li><li>virginica</li><li>virginica</li><li>virginica</li><li>virginica</li><li>virginica</li><li>virginica</li><li>virginica</li></ol>\n",
       "\n",
       "<details>\n",
       "\t<summary style=display:list-item;cursor:pointer>\n",
       "\t\t<strong>Levels</strong>:\n",
       "\t</summary>\n",
       "\t<style>\n",
       "\t.list-inline {list-style: none; margin:0; padding: 0}\n",
       "\t.list-inline>li {display: inline-block}\n",
       "\t.list-inline>li:not(:last-child)::after {content: \"\\00b7\"; padding: 0 .5ex}\n",
       "\t</style>\n",
       "\t<ol class=list-inline><li>'setosa'</li><li>'versicolor'</li><li>'virginica'</li></ol>\n",
       "</details>"
      ],
      "text/latex": [
       "\\begin{enumerate*}\n",
       "\\item setosa\n",
       "\\item setosa\n",
       "\\item setosa\n",
       "\\item setosa\n",
       "\\item setosa\n",
       "\\item setosa\n",
       "\\item setosa\n",
       "\\item setosa\n",
       "\\item setosa\n",
       "\\item setosa\n",
       "\\item setosa\n",
       "\\item setosa\n",
       "\\item setosa\n",
       "\\item setosa\n",
       "\\item setosa\n",
       "\\item setosa\n",
       "\\item setosa\n",
       "\\item setosa\n",
       "\\item setosa\n",
       "\\item setosa\n",
       "\\item setosa\n",
       "\\item setosa\n",
       "\\item setosa\n",
       "\\item setosa\n",
       "\\item setosa\n",
       "\\item setosa\n",
       "\\item setosa\n",
       "\\item setosa\n",
       "\\item setosa\n",
       "\\item setosa\n",
       "\\item setosa\n",
       "\\item setosa\n",
       "\\item setosa\n",
       "\\item setosa\n",
       "\\item setosa\n",
       "\\item setosa\n",
       "\\item setosa\n",
       "\\item setosa\n",
       "\\item setosa\n",
       "\\item setosa\n",
       "\\item setosa\n",
       "\\item setosa\n",
       "\\item setosa\n",
       "\\item setosa\n",
       "\\item setosa\n",
       "\\item setosa\n",
       "\\item setosa\n",
       "\\item setosa\n",
       "\\item setosa\n",
       "\\item setosa\n",
       "\\item versicolor\n",
       "\\item versicolor\n",
       "\\item versicolor\n",
       "\\item versicolor\n",
       "\\item versicolor\n",
       "\\item versicolor\n",
       "\\item versicolor\n",
       "\\item versicolor\n",
       "\\item versicolor\n",
       "\\item versicolor\n",
       "\\item versicolor\n",
       "\\item versicolor\n",
       "\\item versicolor\n",
       "\\item versicolor\n",
       "\\item versicolor\n",
       "\\item versicolor\n",
       "\\item versicolor\n",
       "\\item versicolor\n",
       "\\item versicolor\n",
       "\\item versicolor\n",
       "\\item versicolor\n",
       "\\item versicolor\n",
       "\\item versicolor\n",
       "\\item versicolor\n",
       "\\item versicolor\n",
       "\\item versicolor\n",
       "\\item versicolor\n",
       "\\item versicolor\n",
       "\\item versicolor\n",
       "\\item versicolor\n",
       "\\item versicolor\n",
       "\\item versicolor\n",
       "\\item versicolor\n",
       "\\item versicolor\n",
       "\\item versicolor\n",
       "\\item versicolor\n",
       "\\item versicolor\n",
       "\\item versicolor\n",
       "\\item versicolor\n",
       "\\item versicolor\n",
       "\\item versicolor\n",
       "\\item versicolor\n",
       "\\item versicolor\n",
       "\\item versicolor\n",
       "\\item versicolor\n",
       "\\item versicolor\n",
       "\\item versicolor\n",
       "\\item versicolor\n",
       "\\item versicolor\n",
       "\\item versicolor\n",
       "\\item virginica\n",
       "\\item virginica\n",
       "\\item virginica\n",
       "\\item virginica\n",
       "\\item virginica\n",
       "\\item virginica\n",
       "\\item virginica\n",
       "\\item virginica\n",
       "\\item virginica\n",
       "\\item virginica\n",
       "\\item virginica\n",
       "\\item virginica\n",
       "\\item virginica\n",
       "\\item virginica\n",
       "\\item virginica\n",
       "\\item virginica\n",
       "\\item virginica\n",
       "\\item virginica\n",
       "\\item virginica\n",
       "\\item virginica\n",
       "\\item virginica\n",
       "\\item virginica\n",
       "\\item virginica\n",
       "\\item virginica\n",
       "\\item virginica\n",
       "\\item virginica\n",
       "\\item virginica\n",
       "\\item virginica\n",
       "\\item virginica\n",
       "\\item virginica\n",
       "\\item virginica\n",
       "\\item virginica\n",
       "\\item virginica\n",
       "\\item virginica\n",
       "\\item virginica\n",
       "\\item virginica\n",
       "\\item virginica\n",
       "\\item virginica\n",
       "\\item virginica\n",
       "\\item virginica\n",
       "\\item virginica\n",
       "\\item virginica\n",
       "\\item virginica\n",
       "\\item virginica\n",
       "\\item virginica\n",
       "\\item virginica\n",
       "\\item virginica\n",
       "\\item virginica\n",
       "\\item virginica\n",
       "\\item virginica\n",
       "\\end{enumerate*}\n",
       "\n",
       "\\emph{Levels}: \\begin{enumerate*}\n",
       "\\item 'setosa'\n",
       "\\item 'versicolor'\n",
       "\\item 'virginica'\n",
       "\\end{enumerate*}\n"
      ],
      "text/markdown": [
       "1. setosa\n",
       "2. setosa\n",
       "3. setosa\n",
       "4. setosa\n",
       "5. setosa\n",
       "6. setosa\n",
       "7. setosa\n",
       "8. setosa\n",
       "9. setosa\n",
       "10. setosa\n",
       "11. setosa\n",
       "12. setosa\n",
       "13. setosa\n",
       "14. setosa\n",
       "15. setosa\n",
       "16. setosa\n",
       "17. setosa\n",
       "18. setosa\n",
       "19. setosa\n",
       "20. setosa\n",
       "21. setosa\n",
       "22. setosa\n",
       "23. setosa\n",
       "24. setosa\n",
       "25. setosa\n",
       "26. setosa\n",
       "27. setosa\n",
       "28. setosa\n",
       "29. setosa\n",
       "30. setosa\n",
       "31. setosa\n",
       "32. setosa\n",
       "33. setosa\n",
       "34. setosa\n",
       "35. setosa\n",
       "36. setosa\n",
       "37. setosa\n",
       "38. setosa\n",
       "39. setosa\n",
       "40. setosa\n",
       "41. setosa\n",
       "42. setosa\n",
       "43. setosa\n",
       "44. setosa\n",
       "45. setosa\n",
       "46. setosa\n",
       "47. setosa\n",
       "48. setosa\n",
       "49. setosa\n",
       "50. setosa\n",
       "51. versicolor\n",
       "52. versicolor\n",
       "53. versicolor\n",
       "54. versicolor\n",
       "55. versicolor\n",
       "56. versicolor\n",
       "57. versicolor\n",
       "58. versicolor\n",
       "59. versicolor\n",
       "60. versicolor\n",
       "61. versicolor\n",
       "62. versicolor\n",
       "63. versicolor\n",
       "64. versicolor\n",
       "65. versicolor\n",
       "66. versicolor\n",
       "67. versicolor\n",
       "68. versicolor\n",
       "69. versicolor\n",
       "70. versicolor\n",
       "71. versicolor\n",
       "72. versicolor\n",
       "73. versicolor\n",
       "74. versicolor\n",
       "75. versicolor\n",
       "76. versicolor\n",
       "77. versicolor\n",
       "78. versicolor\n",
       "79. versicolor\n",
       "80. versicolor\n",
       "81. versicolor\n",
       "82. versicolor\n",
       "83. versicolor\n",
       "84. versicolor\n",
       "85. versicolor\n",
       "86. versicolor\n",
       "87. versicolor\n",
       "88. versicolor\n",
       "89. versicolor\n",
       "90. versicolor\n",
       "91. versicolor\n",
       "92. versicolor\n",
       "93. versicolor\n",
       "94. versicolor\n",
       "95. versicolor\n",
       "96. versicolor\n",
       "97. versicolor\n",
       "98. versicolor\n",
       "99. versicolor\n",
       "100. versicolor\n",
       "101. virginica\n",
       "102. virginica\n",
       "103. virginica\n",
       "104. virginica\n",
       "105. virginica\n",
       "106. virginica\n",
       "107. virginica\n",
       "108. virginica\n",
       "109. virginica\n",
       "110. virginica\n",
       "111. virginica\n",
       "112. virginica\n",
       "113. virginica\n",
       "114. virginica\n",
       "115. virginica\n",
       "116. virginica\n",
       "117. virginica\n",
       "118. virginica\n",
       "119. virginica\n",
       "120. virginica\n",
       "121. virginica\n",
       "122. virginica\n",
       "123. virginica\n",
       "124. virginica\n",
       "125. virginica\n",
       "126. virginica\n",
       "127. virginica\n",
       "128. virginica\n",
       "129. virginica\n",
       "130. virginica\n",
       "131. virginica\n",
       "132. virginica\n",
       "133. virginica\n",
       "134. virginica\n",
       "135. virginica\n",
       "136. virginica\n",
       "137. virginica\n",
       "138. virginica\n",
       "139. virginica\n",
       "140. virginica\n",
       "141. virginica\n",
       "142. virginica\n",
       "143. virginica\n",
       "144. virginica\n",
       "145. virginica\n",
       "146. virginica\n",
       "147. virginica\n",
       "148. virginica\n",
       "149. virginica\n",
       "150. virginica\n",
       "\n",
       "\n",
       "\n",
       "**Levels**: 1. 'setosa'\n",
       "2. 'versicolor'\n",
       "3. 'virginica'\n",
       "\n",
       "\n"
      ],
      "text/plain": [
       "  [1] setosa     setosa     setosa     setosa     setosa     setosa    \n",
       "  [7] setosa     setosa     setosa     setosa     setosa     setosa    \n",
       " [13] setosa     setosa     setosa     setosa     setosa     setosa    \n",
       " [19] setosa     setosa     setosa     setosa     setosa     setosa    \n",
       " [25] setosa     setosa     setosa     setosa     setosa     setosa    \n",
       " [31] setosa     setosa     setosa     setosa     setosa     setosa    \n",
       " [37] setosa     setosa     setosa     setosa     setosa     setosa    \n",
       " [43] setosa     setosa     setosa     setosa     setosa     setosa    \n",
       " [49] setosa     setosa     versicolor versicolor versicolor versicolor\n",
       " [55] versicolor versicolor versicolor versicolor versicolor versicolor\n",
       " [61] versicolor versicolor versicolor versicolor versicolor versicolor\n",
       " [67] versicolor versicolor versicolor versicolor versicolor versicolor\n",
       " [73] versicolor versicolor versicolor versicolor versicolor versicolor\n",
       " [79] versicolor versicolor versicolor versicolor versicolor versicolor\n",
       " [85] versicolor versicolor versicolor versicolor versicolor versicolor\n",
       " [91] versicolor versicolor versicolor versicolor versicolor versicolor\n",
       " [97] versicolor versicolor versicolor versicolor virginica  virginica \n",
       "[103] virginica  virginica  virginica  virginica  virginica  virginica \n",
       "[109] virginica  virginica  virginica  virginica  virginica  virginica \n",
       "[115] virginica  virginica  virginica  virginica  virginica  virginica \n",
       "[121] virginica  virginica  virginica  virginica  virginica  virginica \n",
       "[127] virginica  virginica  virginica  virginica  virginica  virginica \n",
       "[133] virginica  virginica  virginica  virginica  virginica  virginica \n",
       "[139] virginica  virginica  virginica  virginica  virginica  virginica \n",
       "[145] virginica  virginica  virginica  virginica  virginica  virginica \n",
       "Levels: setosa versicolor virginica"
      ]
     },
     "metadata": {},
     "output_type": "display_data"
    }
   ],
   "source": [
    "as.data.table(task)$Species\n"
   ]
  },
  {
   "cell_type": "markdown",
   "metadata": {},
   "source": [
    "## 组合方法（wrapper methods）\n",
    "和超参数调优很相似，`mlr3fselect`包提供支持。"
   ]
  },
  {
   "cell_type": "code",
   "execution_count": 28,
   "metadata": {
    "vscode": {
     "languageId": "r"
    }
   },
   "outputs": [],
   "source": [
    "library(\"mlr3verse\")\n",
    "library(mlr3fselect)\n"
   ]
  },
  {
   "cell_type": "code",
   "execution_count": 30,
   "metadata": {
    "vscode": {
     "languageId": "r"
    }
   },
   "outputs": [
    {
     "data": {
      "text/plain": [
       "<FSelectInstanceBatchSingleCrit>\n",
       "* State:  Not optimized\n",
       "* Objective: <ObjectiveFSelectBatch:classif.rpart_on_pima>\n",
       "* Terminator: <TerminatorEvals>"
      ]
     },
     "metadata": {},
     "output_type": "display_data"
    }
   ],
   "source": [
    "task <- tsk(\"pima\")\n",
    "learner <- lrn(\"classif.rpart\")\n",
    "hout <- rsmp(\"holdout\")\n",
    "measure <- msr(\"classif.ce\")\n",
    "\n",
    "evals20 <- trm(\"evals\", n_evals = 20) # 设置何时停止\n",
    "\n",
    "# 构建实例\n",
    "instance <- FSelectInstanceBatchSingleCrit$new(\n",
    "  task = task,\n",
    "  learner = learner,\n",
    "  resampling = hout,\n",
    "  measure = measure,\n",
    "  terminator = evals20\n",
    ")\n",
    "instance\n"
   ]
  },
  {
   "cell_type": "markdown",
   "metadata": {},
   "source": [
    "## 目前mlr3fselect支持以下方法：\n",
    "\n",
    "- Random Search(FSelectorBatchRandomSearch)\n",
    "- Exhaustive Search (FSelectorBatchExhaustiveSearch)\n",
    "- Sequential Search (FSelectorBatchSequential)\n",
    "- Recursive Feature Elimination (FSelectorBatchRFE)\n",
    "- Design Points (FSelectorBatchDesignPoints)"
   ]
  },
  {
   "cell_type": "markdown",
   "metadata": {},
   "source": [
    "我们挑选一个随机搜索："
   ]
  },
  {
   "cell_type": "code",
   "execution_count": 31,
   "metadata": {
    "vscode": {
     "languageId": "r"
    }
   },
   "outputs": [],
   "source": [
    "fselector <- fs(\"random_search\")\n"
   ]
  },
  {
   "cell_type": "markdown",
   "metadata": {},
   "source": [
    "开始运行："
   ]
  },
  {
   "cell_type": "code",
   "execution_count": 32,
   "metadata": {
    "vscode": {
     "languageId": "r"
    }
   },
   "outputs": [],
   "source": [
    "lgr::get_logger(\"bbotk\")$set_threshold(\"warn\")\n"
   ]
  },
  {
   "cell_type": "code",
   "execution_count": 33,
   "metadata": {
    "vscode": {
     "languageId": "r"
    }
   },
   "outputs": [
    {
     "name": "stdout",
     "output_type": "stream",
     "text": [
      "INFO  [10:13:25.690] [mlr3] Running benchmark with 10 resampling iterations\n",
      "INFO  [10:13:25.695] [mlr3] Applying learner 'classif.rpart' on task 'pima' (iter 1/1)\n",
      "INFO  [10:13:25.708] [mlr3] Applying learner 'classif.rpart' on task 'pima' (iter 1/1)\n",
      "INFO  [10:13:25.722] [mlr3] Applying learner 'classif.rpart' on task 'pima' (iter 1/1)\n",
      "INFO  [10:13:25.735] [mlr3] Applying learner 'classif.rpart' on task 'pima' (iter 1/1)\n",
      "INFO  [10:13:25.748] [mlr3] Applying learner 'classif.rpart' on task 'pima' (iter 1/1)\n",
      "INFO  [10:13:25.762] [mlr3] Applying learner 'classif.rpart' on task 'pima' (iter 1/1)\n",
      "INFO  [10:13:25.776] [mlr3] Applying learner 'classif.rpart' on task 'pima' (iter 1/1)\n",
      "INFO  [10:13:25.788] [mlr3] Applying learner 'classif.rpart' on task 'pima' (iter 1/1)\n",
      "INFO  [10:13:25.802] [mlr3] Applying learner 'classif.rpart' on task 'pima' (iter 1/1)\n",
      "INFO  [10:13:25.816] [mlr3] Applying learner 'classif.rpart' on task 'pima' (iter 1/1)\n",
      "INFO  [10:13:25.836] [mlr3] Finished benchmark\n",
      "INFO  [10:13:25.923] [mlr3] Running benchmark with 10 resampling iterations\n",
      "INFO  [10:13:25.927] [mlr3] Applying learner 'classif.rpart' on task 'pima' (iter 1/1)\n",
      "INFO  [10:13:25.938] [mlr3] Applying learner 'classif.rpart' on task 'pima' (iter 1/1)\n",
      "INFO  [10:13:25.949] [mlr3] Applying learner 'classif.rpart' on task 'pima' (iter 1/1)\n",
      "INFO  [10:13:25.961] [mlr3] Applying learner 'classif.rpart' on task 'pima' (iter 1/1)\n",
      "INFO  [10:13:25.972] [mlr3] Applying learner 'classif.rpart' on task 'pima' (iter 1/1)\n",
      "INFO  [10:13:25.984] [mlr3] Applying learner 'classif.rpart' on task 'pima' (iter 1/1)\n",
      "INFO  [10:13:25.996] [mlr3] Applying learner 'classif.rpart' on task 'pima' (iter 1/1)\n",
      "INFO  [10:13:26.012] [mlr3] Applying learner 'classif.rpart' on task 'pima' (iter 1/1)\n",
      "INFO  [10:13:26.023] [mlr3] Applying learner 'classif.rpart' on task 'pima' (iter 1/1)\n",
      "INFO  [10:13:26.034] [mlr3] Applying learner 'classif.rpart' on task 'pima' (iter 1/1)\n",
      "INFO  [10:13:26.046] [mlr3] Finished benchmark\n"
     ]
    },
    {
     "data": {
      "text/html": [
       "<table class=\"dataframe\">\n",
       "<caption>A data.table: 1 × 11</caption>\n",
       "<thead>\n",
       "\t<tr><th scope=col>age</th><th scope=col>glucose</th><th scope=col>insulin</th><th scope=col>mass</th><th scope=col>pedigree</th><th scope=col>pregnant</th><th scope=col>pressure</th><th scope=col>triceps</th><th scope=col>features</th><th scope=col>n_features</th><th scope=col>classif.ce</th></tr>\n",
       "\t<tr><th scope=col>&lt;lgl&gt;</th><th scope=col>&lt;lgl&gt;</th><th scope=col>&lt;lgl&gt;</th><th scope=col>&lt;lgl&gt;</th><th scope=col>&lt;lgl&gt;</th><th scope=col>&lt;lgl&gt;</th><th scope=col>&lt;lgl&gt;</th><th scope=col>&lt;lgl&gt;</th><th scope=col>&lt;list&gt;</th><th scope=col>&lt;int&gt;</th><th scope=col>&lt;dbl&gt;</th></tr>\n",
       "</thead>\n",
       "<tbody>\n",
       "\t<tr><td>FALSE</td><td>TRUE</td><td>FALSE</td><td>FALSE</td><td>FALSE</td><td>FALSE</td><td>TRUE</td><td>TRUE</td><td>glucose , pressure, triceps </td><td>3</td><td>0.2460938</td></tr>\n",
       "</tbody>\n",
       "</table>\n"
      ],
      "text/latex": [
       "A data.table: 1 × 11\n",
       "\\begin{tabular}{lllllllllll}\n",
       " age & glucose & insulin & mass & pedigree & pregnant & pressure & triceps & features & n\\_features & classif.ce\\\\\n",
       " <lgl> & <lgl> & <lgl> & <lgl> & <lgl> & <lgl> & <lgl> & <lgl> & <list> & <int> & <dbl>\\\\\n",
       "\\hline\n",
       "\t FALSE & TRUE & FALSE & FALSE & FALSE & FALSE & TRUE & TRUE & glucose , pressure, triceps  & 3 & 0.2460938\\\\\n",
       "\\end{tabular}\n"
      ],
      "text/markdown": [
       "\n",
       "A data.table: 1 × 11\n",
       "\n",
       "| age &lt;lgl&gt; | glucose &lt;lgl&gt; | insulin &lt;lgl&gt; | mass &lt;lgl&gt; | pedigree &lt;lgl&gt; | pregnant &lt;lgl&gt; | pressure &lt;lgl&gt; | triceps &lt;lgl&gt; | features &lt;list&gt; | n_features &lt;int&gt; | classif.ce &lt;dbl&gt; |\n",
       "|---|---|---|---|---|---|---|---|---|---|---|\n",
       "| FALSE | TRUE | FALSE | FALSE | FALSE | FALSE | TRUE | TRUE | glucose , pressure, triceps  | 3 | 0.2460938 |\n",
       "\n"
      ],
      "text/plain": [
       "  age   glucose insulin mass  pedigree pregnant pressure triceps\n",
       "1 FALSE TRUE    FALSE   FALSE FALSE    FALSE    TRUE     TRUE   \n",
       "  features                     n_features classif.ce\n",
       "1 glucose , pressure, triceps  3          0.2460938 "
      ]
     },
     "metadata": {},
     "output_type": "display_data"
    }
   ],
   "source": [
    "fselector$optimize(instance)\n"
   ]
  },
  {
   "cell_type": "markdown",
   "metadata": {},
   "source": [
    "查看选中的变量：\n"
   ]
  },
  {
   "cell_type": "code",
   "execution_count": 34,
   "metadata": {
    "vscode": {
     "languageId": "r"
    }
   },
   "outputs": [
    {
     "data": {
      "text/html": [
       "<style>\n",
       ".list-inline {list-style: none; margin:0; padding: 0}\n",
       ".list-inline>li {display: inline-block}\n",
       ".list-inline>li:not(:last-child)::after {content: \"\\00b7\"; padding: 0 .5ex}\n",
       "</style>\n",
       "<ol class=list-inline><li>'glucose'</li><li>'pressure'</li><li>'triceps'</li></ol>\n"
      ],
      "text/latex": [
       "\\begin{enumerate*}\n",
       "\\item 'glucose'\n",
       "\\item 'pressure'\n",
       "\\item 'triceps'\n",
       "\\end{enumerate*}\n"
      ],
      "text/markdown": [
       "1. 'glucose'\n",
       "2. 'pressure'\n",
       "3. 'triceps'\n",
       "\n",
       "\n"
      ],
      "text/plain": [
       "[1] \"glucose\"  \"pressure\" \"triceps\" "
      ]
     },
     "metadata": {},
     "output_type": "display_data"
    }
   ],
   "source": [
    "instance$result_feature_set\n"
   ]
  },
  {
   "cell_type": "code",
   "execution_count": 35,
   "metadata": {
    "vscode": {
     "languageId": "r"
    }
   },
   "outputs": [
    {
     "data": {
      "text/html": [
       "<table class=\"dataframe\">\n",
       "<caption>A data.table: 768 × 9</caption>\n",
       "<thead>\n",
       "\t<tr><th scope=col>diabetes</th><th scope=col>age</th><th scope=col>glucose</th><th scope=col>insulin</th><th scope=col>mass</th><th scope=col>pedigree</th><th scope=col>pregnant</th><th scope=col>pressure</th><th scope=col>triceps</th></tr>\n",
       "\t<tr><th scope=col>&lt;fct&gt;</th><th scope=col>&lt;dbl&gt;</th><th scope=col>&lt;dbl&gt;</th><th scope=col>&lt;dbl&gt;</th><th scope=col>&lt;dbl&gt;</th><th scope=col>&lt;dbl&gt;</th><th scope=col>&lt;dbl&gt;</th><th scope=col>&lt;dbl&gt;</th><th scope=col>&lt;dbl&gt;</th></tr>\n",
       "</thead>\n",
       "<tbody>\n",
       "\t<tr><td>pos</td><td>50</td><td>148</td><td> NA</td><td>33.6</td><td>0.627</td><td> 6</td><td>72</td><td>35</td></tr>\n",
       "\t<tr><td>neg</td><td>31</td><td> 85</td><td> NA</td><td>26.6</td><td>0.351</td><td> 1</td><td>66</td><td>29</td></tr>\n",
       "\t<tr><td>pos</td><td>32</td><td>183</td><td> NA</td><td>23.3</td><td>0.672</td><td> 8</td><td>64</td><td>NA</td></tr>\n",
       "\t<tr><td>neg</td><td>21</td><td> 89</td><td> 94</td><td>28.1</td><td>0.167</td><td> 1</td><td>66</td><td>23</td></tr>\n",
       "\t<tr><td>pos</td><td>33</td><td>137</td><td>168</td><td>43.1</td><td>2.288</td><td> 0</td><td>40</td><td>35</td></tr>\n",
       "\t<tr><td>neg</td><td>30</td><td>116</td><td> NA</td><td>25.6</td><td>0.201</td><td> 5</td><td>74</td><td>NA</td></tr>\n",
       "\t<tr><td>pos</td><td>26</td><td> 78</td><td> 88</td><td>31.0</td><td>0.248</td><td> 3</td><td>50</td><td>32</td></tr>\n",
       "\t<tr><td>neg</td><td>29</td><td>115</td><td> NA</td><td>35.3</td><td>0.134</td><td>10</td><td>NA</td><td>NA</td></tr>\n",
       "\t<tr><td>pos</td><td>53</td><td>197</td><td>543</td><td>30.5</td><td>0.158</td><td> 2</td><td>70</td><td>45</td></tr>\n",
       "\t<tr><td>pos</td><td>54</td><td>125</td><td> NA</td><td>  NA</td><td>0.232</td><td> 8</td><td>96</td><td>NA</td></tr>\n",
       "\t<tr><td>neg</td><td>30</td><td>110</td><td> NA</td><td>37.6</td><td>0.191</td><td> 4</td><td>92</td><td>NA</td></tr>\n",
       "\t<tr><td>pos</td><td>34</td><td>168</td><td> NA</td><td>38.0</td><td>0.537</td><td>10</td><td>74</td><td>NA</td></tr>\n",
       "\t<tr><td>neg</td><td>57</td><td>139</td><td> NA</td><td>27.1</td><td>1.441</td><td>10</td><td>80</td><td>NA</td></tr>\n",
       "\t<tr><td>pos</td><td>59</td><td>189</td><td>846</td><td>30.1</td><td>0.398</td><td> 1</td><td>60</td><td>23</td></tr>\n",
       "\t<tr><td>pos</td><td>51</td><td>166</td><td>175</td><td>25.8</td><td>0.587</td><td> 5</td><td>72</td><td>19</td></tr>\n",
       "\t<tr><td>pos</td><td>32</td><td>100</td><td> NA</td><td>30.0</td><td>0.484</td><td> 7</td><td>NA</td><td>NA</td></tr>\n",
       "\t<tr><td>pos</td><td>31</td><td>118</td><td>230</td><td>45.8</td><td>0.551</td><td> 0</td><td>84</td><td>47</td></tr>\n",
       "\t<tr><td>pos</td><td>31</td><td>107</td><td> NA</td><td>29.6</td><td>0.254</td><td> 7</td><td>74</td><td>NA</td></tr>\n",
       "\t<tr><td>neg</td><td>33</td><td>103</td><td> 83</td><td>43.3</td><td>0.183</td><td> 1</td><td>30</td><td>38</td></tr>\n",
       "\t<tr><td>pos</td><td>32</td><td>115</td><td> 96</td><td>34.6</td><td>0.529</td><td> 1</td><td>70</td><td>30</td></tr>\n",
       "\t<tr><td>neg</td><td>27</td><td>126</td><td>235</td><td>39.3</td><td>0.704</td><td> 3</td><td>88</td><td>41</td></tr>\n",
       "\t<tr><td>neg</td><td>50</td><td> 99</td><td> NA</td><td>35.4</td><td>0.388</td><td> 8</td><td>84</td><td>NA</td></tr>\n",
       "\t<tr><td>pos</td><td>41</td><td>196</td><td> NA</td><td>39.8</td><td>0.451</td><td> 7</td><td>90</td><td>NA</td></tr>\n",
       "\t<tr><td>pos</td><td>29</td><td>119</td><td> NA</td><td>29.0</td><td>0.263</td><td> 9</td><td>80</td><td>35</td></tr>\n",
       "\t<tr><td>pos</td><td>51</td><td>143</td><td>146</td><td>36.6</td><td>0.254</td><td>11</td><td>94</td><td>33</td></tr>\n",
       "\t<tr><td>pos</td><td>41</td><td>125</td><td>115</td><td>31.1</td><td>0.205</td><td>10</td><td>70</td><td>26</td></tr>\n",
       "\t<tr><td>pos</td><td>43</td><td>147</td><td> NA</td><td>39.4</td><td>0.257</td><td> 7</td><td>76</td><td>NA</td></tr>\n",
       "\t<tr><td>neg</td><td>22</td><td> 97</td><td>140</td><td>23.2</td><td>0.487</td><td> 1</td><td>66</td><td>15</td></tr>\n",
       "\t<tr><td>neg</td><td>57</td><td>145</td><td>110</td><td>22.2</td><td>0.245</td><td>13</td><td>82</td><td>19</td></tr>\n",
       "\t<tr><td>neg</td><td>38</td><td>117</td><td> NA</td><td>34.1</td><td>0.337</td><td> 5</td><td>92</td><td>NA</td></tr>\n",
       "\t<tr><td>⋮</td><td>⋮</td><td>⋮</td><td>⋮</td><td>⋮</td><td>⋮</td><td>⋮</td><td>⋮</td><td>⋮</td></tr>\n",
       "\t<tr><td>neg</td><td>21</td><td> 99</td><td>160</td><td>36.6</td><td>0.453</td><td> 2</td><td>60</td><td>17</td></tr>\n",
       "\t<tr><td>pos</td><td>42</td><td>102</td><td> NA</td><td>39.5</td><td>0.293</td><td> 1</td><td>74</td><td>NA</td></tr>\n",
       "\t<tr><td>pos</td><td>48</td><td>120</td><td>150</td><td>42.3</td><td>0.785</td><td>11</td><td>80</td><td>37</td></tr>\n",
       "\t<tr><td>neg</td><td>26</td><td>102</td><td> 94</td><td>30.8</td><td>0.400</td><td> 3</td><td>44</td><td>20</td></tr>\n",
       "\t<tr><td>neg</td><td>22</td><td>109</td><td>116</td><td>28.5</td><td>0.219</td><td> 1</td><td>58</td><td>18</td></tr>\n",
       "\t<tr><td>pos</td><td>45</td><td>140</td><td> NA</td><td>32.7</td><td>0.734</td><td> 9</td><td>94</td><td>NA</td></tr>\n",
       "\t<tr><td>neg</td><td>39</td><td>153</td><td>140</td><td>40.6</td><td>1.174</td><td>13</td><td>88</td><td>37</td></tr>\n",
       "\t<tr><td>neg</td><td>46</td><td>100</td><td>105</td><td>30.0</td><td>0.488</td><td>12</td><td>84</td><td>33</td></tr>\n",
       "\t<tr><td>pos</td><td>27</td><td>147</td><td> NA</td><td>49.3</td><td>0.358</td><td> 1</td><td>94</td><td>41</td></tr>\n",
       "\t<tr><td>neg</td><td>32</td><td> 81</td><td> 57</td><td>46.3</td><td>1.096</td><td> 1</td><td>74</td><td>41</td></tr>\n",
       "\t<tr><td>pos</td><td>36</td><td>187</td><td>200</td><td>36.4</td><td>0.408</td><td> 3</td><td>70</td><td>22</td></tr>\n",
       "\t<tr><td>pos</td><td>50</td><td>162</td><td> NA</td><td>24.3</td><td>0.178</td><td> 6</td><td>62</td><td>NA</td></tr>\n",
       "\t<tr><td>pos</td><td>22</td><td>136</td><td> NA</td><td>31.2</td><td>1.182</td><td> 4</td><td>70</td><td>NA</td></tr>\n",
       "\t<tr><td>neg</td><td>28</td><td>121</td><td> 74</td><td>39.0</td><td>0.261</td><td> 1</td><td>78</td><td>39</td></tr>\n",
       "\t<tr><td>neg</td><td>25</td><td>108</td><td> NA</td><td>26.0</td><td>0.223</td><td> 3</td><td>62</td><td>24</td></tr>\n",
       "\t<tr><td>pos</td><td>26</td><td>181</td><td>510</td><td>43.3</td><td>0.222</td><td> 0</td><td>88</td><td>44</td></tr>\n",
       "\t<tr><td>pos</td><td>45</td><td>154</td><td> NA</td><td>32.4</td><td>0.443</td><td> 8</td><td>78</td><td>32</td></tr>\n",
       "\t<tr><td>pos</td><td>37</td><td>128</td><td>110</td><td>36.5</td><td>1.057</td><td> 1</td><td>88</td><td>39</td></tr>\n",
       "\t<tr><td>neg</td><td>39</td><td>137</td><td> NA</td><td>32.0</td><td>0.391</td><td> 7</td><td>90</td><td>41</td></tr>\n",
       "\t<tr><td>pos</td><td>52</td><td>123</td><td> NA</td><td>36.3</td><td>0.258</td><td> 0</td><td>72</td><td>NA</td></tr>\n",
       "\t<tr><td>neg</td><td>26</td><td>106</td><td> NA</td><td>37.5</td><td>0.197</td><td> 1</td><td>76</td><td>NA</td></tr>\n",
       "\t<tr><td>pos</td><td>66</td><td>190</td><td> NA</td><td>35.5</td><td>0.278</td><td> 6</td><td>92</td><td>NA</td></tr>\n",
       "\t<tr><td>neg</td><td>22</td><td> 88</td><td> 16</td><td>28.4</td><td>0.766</td><td> 2</td><td>58</td><td>26</td></tr>\n",
       "\t<tr><td>pos</td><td>43</td><td>170</td><td> NA</td><td>44.0</td><td>0.403</td><td> 9</td><td>74</td><td>31</td></tr>\n",
       "\t<tr><td>neg</td><td>33</td><td> 89</td><td> NA</td><td>22.5</td><td>0.142</td><td> 9</td><td>62</td><td>NA</td></tr>\n",
       "\t<tr><td>neg</td><td>63</td><td>101</td><td>180</td><td>32.9</td><td>0.171</td><td>10</td><td>76</td><td>48</td></tr>\n",
       "\t<tr><td>neg</td><td>27</td><td>122</td><td> NA</td><td>36.8</td><td>0.340</td><td> 2</td><td>70</td><td>27</td></tr>\n",
       "\t<tr><td>neg</td><td>30</td><td>121</td><td>112</td><td>26.2</td><td>0.245</td><td> 5</td><td>72</td><td>23</td></tr>\n",
       "\t<tr><td>pos</td><td>47</td><td>126</td><td> NA</td><td>30.1</td><td>0.349</td><td> 1</td><td>60</td><td>NA</td></tr>\n",
       "\t<tr><td>neg</td><td>23</td><td> 93</td><td> NA</td><td>30.4</td><td>0.315</td><td> 1</td><td>70</td><td>31</td></tr>\n",
       "</tbody>\n",
       "</table>\n"
      ],
      "text/latex": [
       "A data.table: 768 × 9\n",
       "\\begin{tabular}{lllllllll}\n",
       " diabetes & age & glucose & insulin & mass & pedigree & pregnant & pressure & triceps\\\\\n",
       " <fct> & <dbl> & <dbl> & <dbl> & <dbl> & <dbl> & <dbl> & <dbl> & <dbl>\\\\\n",
       "\\hline\n",
       "\t pos & 50 & 148 &  NA & 33.6 & 0.627 &  6 & 72 & 35\\\\\n",
       "\t neg & 31 &  85 &  NA & 26.6 & 0.351 &  1 & 66 & 29\\\\\n",
       "\t pos & 32 & 183 &  NA & 23.3 & 0.672 &  8 & 64 & NA\\\\\n",
       "\t neg & 21 &  89 &  94 & 28.1 & 0.167 &  1 & 66 & 23\\\\\n",
       "\t pos & 33 & 137 & 168 & 43.1 & 2.288 &  0 & 40 & 35\\\\\n",
       "\t neg & 30 & 116 &  NA & 25.6 & 0.201 &  5 & 74 & NA\\\\\n",
       "\t pos & 26 &  78 &  88 & 31.0 & 0.248 &  3 & 50 & 32\\\\\n",
       "\t neg & 29 & 115 &  NA & 35.3 & 0.134 & 10 & NA & NA\\\\\n",
       "\t pos & 53 & 197 & 543 & 30.5 & 0.158 &  2 & 70 & 45\\\\\n",
       "\t pos & 54 & 125 &  NA &   NA & 0.232 &  8 & 96 & NA\\\\\n",
       "\t neg & 30 & 110 &  NA & 37.6 & 0.191 &  4 & 92 & NA\\\\\n",
       "\t pos & 34 & 168 &  NA & 38.0 & 0.537 & 10 & 74 & NA\\\\\n",
       "\t neg & 57 & 139 &  NA & 27.1 & 1.441 & 10 & 80 & NA\\\\\n",
       "\t pos & 59 & 189 & 846 & 30.1 & 0.398 &  1 & 60 & 23\\\\\n",
       "\t pos & 51 & 166 & 175 & 25.8 & 0.587 &  5 & 72 & 19\\\\\n",
       "\t pos & 32 & 100 &  NA & 30.0 & 0.484 &  7 & NA & NA\\\\\n",
       "\t pos & 31 & 118 & 230 & 45.8 & 0.551 &  0 & 84 & 47\\\\\n",
       "\t pos & 31 & 107 &  NA & 29.6 & 0.254 &  7 & 74 & NA\\\\\n",
       "\t neg & 33 & 103 &  83 & 43.3 & 0.183 &  1 & 30 & 38\\\\\n",
       "\t pos & 32 & 115 &  96 & 34.6 & 0.529 &  1 & 70 & 30\\\\\n",
       "\t neg & 27 & 126 & 235 & 39.3 & 0.704 &  3 & 88 & 41\\\\\n",
       "\t neg & 50 &  99 &  NA & 35.4 & 0.388 &  8 & 84 & NA\\\\\n",
       "\t pos & 41 & 196 &  NA & 39.8 & 0.451 &  7 & 90 & NA\\\\\n",
       "\t pos & 29 & 119 &  NA & 29.0 & 0.263 &  9 & 80 & 35\\\\\n",
       "\t pos & 51 & 143 & 146 & 36.6 & 0.254 & 11 & 94 & 33\\\\\n",
       "\t pos & 41 & 125 & 115 & 31.1 & 0.205 & 10 & 70 & 26\\\\\n",
       "\t pos & 43 & 147 &  NA & 39.4 & 0.257 &  7 & 76 & NA\\\\\n",
       "\t neg & 22 &  97 & 140 & 23.2 & 0.487 &  1 & 66 & 15\\\\\n",
       "\t neg & 57 & 145 & 110 & 22.2 & 0.245 & 13 & 82 & 19\\\\\n",
       "\t neg & 38 & 117 &  NA & 34.1 & 0.337 &  5 & 92 & NA\\\\\n",
       "\t ⋮ & ⋮ & ⋮ & ⋮ & ⋮ & ⋮ & ⋮ & ⋮ & ⋮\\\\\n",
       "\t neg & 21 &  99 & 160 & 36.6 & 0.453 &  2 & 60 & 17\\\\\n",
       "\t pos & 42 & 102 &  NA & 39.5 & 0.293 &  1 & 74 & NA\\\\\n",
       "\t pos & 48 & 120 & 150 & 42.3 & 0.785 & 11 & 80 & 37\\\\\n",
       "\t neg & 26 & 102 &  94 & 30.8 & 0.400 &  3 & 44 & 20\\\\\n",
       "\t neg & 22 & 109 & 116 & 28.5 & 0.219 &  1 & 58 & 18\\\\\n",
       "\t pos & 45 & 140 &  NA & 32.7 & 0.734 &  9 & 94 & NA\\\\\n",
       "\t neg & 39 & 153 & 140 & 40.6 & 1.174 & 13 & 88 & 37\\\\\n",
       "\t neg & 46 & 100 & 105 & 30.0 & 0.488 & 12 & 84 & 33\\\\\n",
       "\t pos & 27 & 147 &  NA & 49.3 & 0.358 &  1 & 94 & 41\\\\\n",
       "\t neg & 32 &  81 &  57 & 46.3 & 1.096 &  1 & 74 & 41\\\\\n",
       "\t pos & 36 & 187 & 200 & 36.4 & 0.408 &  3 & 70 & 22\\\\\n",
       "\t pos & 50 & 162 &  NA & 24.3 & 0.178 &  6 & 62 & NA\\\\\n",
       "\t pos & 22 & 136 &  NA & 31.2 & 1.182 &  4 & 70 & NA\\\\\n",
       "\t neg & 28 & 121 &  74 & 39.0 & 0.261 &  1 & 78 & 39\\\\\n",
       "\t neg & 25 & 108 &  NA & 26.0 & 0.223 &  3 & 62 & 24\\\\\n",
       "\t pos & 26 & 181 & 510 & 43.3 & 0.222 &  0 & 88 & 44\\\\\n",
       "\t pos & 45 & 154 &  NA & 32.4 & 0.443 &  8 & 78 & 32\\\\\n",
       "\t pos & 37 & 128 & 110 & 36.5 & 1.057 &  1 & 88 & 39\\\\\n",
       "\t neg & 39 & 137 &  NA & 32.0 & 0.391 &  7 & 90 & 41\\\\\n",
       "\t pos & 52 & 123 &  NA & 36.3 & 0.258 &  0 & 72 & NA\\\\\n",
       "\t neg & 26 & 106 &  NA & 37.5 & 0.197 &  1 & 76 & NA\\\\\n",
       "\t pos & 66 & 190 &  NA & 35.5 & 0.278 &  6 & 92 & NA\\\\\n",
       "\t neg & 22 &  88 &  16 & 28.4 & 0.766 &  2 & 58 & 26\\\\\n",
       "\t pos & 43 & 170 &  NA & 44.0 & 0.403 &  9 & 74 & 31\\\\\n",
       "\t neg & 33 &  89 &  NA & 22.5 & 0.142 &  9 & 62 & NA\\\\\n",
       "\t neg & 63 & 101 & 180 & 32.9 & 0.171 & 10 & 76 & 48\\\\\n",
       "\t neg & 27 & 122 &  NA & 36.8 & 0.340 &  2 & 70 & 27\\\\\n",
       "\t neg & 30 & 121 & 112 & 26.2 & 0.245 &  5 & 72 & 23\\\\\n",
       "\t pos & 47 & 126 &  NA & 30.1 & 0.349 &  1 & 60 & NA\\\\\n",
       "\t neg & 23 &  93 &  NA & 30.4 & 0.315 &  1 & 70 & 31\\\\\n",
       "\\end{tabular}\n"
      ],
      "text/markdown": [
       "\n",
       "A data.table: 768 × 9\n",
       "\n",
       "| diabetes &lt;fct&gt; | age &lt;dbl&gt; | glucose &lt;dbl&gt; | insulin &lt;dbl&gt; | mass &lt;dbl&gt; | pedigree &lt;dbl&gt; | pregnant &lt;dbl&gt; | pressure &lt;dbl&gt; | triceps &lt;dbl&gt; |\n",
       "|---|---|---|---|---|---|---|---|---|\n",
       "| pos | 50 | 148 |  NA | 33.6 | 0.627 |  6 | 72 | 35 |\n",
       "| neg | 31 |  85 |  NA | 26.6 | 0.351 |  1 | 66 | 29 |\n",
       "| pos | 32 | 183 |  NA | 23.3 | 0.672 |  8 | 64 | NA |\n",
       "| neg | 21 |  89 |  94 | 28.1 | 0.167 |  1 | 66 | 23 |\n",
       "| pos | 33 | 137 | 168 | 43.1 | 2.288 |  0 | 40 | 35 |\n",
       "| neg | 30 | 116 |  NA | 25.6 | 0.201 |  5 | 74 | NA |\n",
       "| pos | 26 |  78 |  88 | 31.0 | 0.248 |  3 | 50 | 32 |\n",
       "| neg | 29 | 115 |  NA | 35.3 | 0.134 | 10 | NA | NA |\n",
       "| pos | 53 | 197 | 543 | 30.5 | 0.158 |  2 | 70 | 45 |\n",
       "| pos | 54 | 125 |  NA |   NA | 0.232 |  8 | 96 | NA |\n",
       "| neg | 30 | 110 |  NA | 37.6 | 0.191 |  4 | 92 | NA |\n",
       "| pos | 34 | 168 |  NA | 38.0 | 0.537 | 10 | 74 | NA |\n",
       "| neg | 57 | 139 |  NA | 27.1 | 1.441 | 10 | 80 | NA |\n",
       "| pos | 59 | 189 | 846 | 30.1 | 0.398 |  1 | 60 | 23 |\n",
       "| pos | 51 | 166 | 175 | 25.8 | 0.587 |  5 | 72 | 19 |\n",
       "| pos | 32 | 100 |  NA | 30.0 | 0.484 |  7 | NA | NA |\n",
       "| pos | 31 | 118 | 230 | 45.8 | 0.551 |  0 | 84 | 47 |\n",
       "| pos | 31 | 107 |  NA | 29.6 | 0.254 |  7 | 74 | NA |\n",
       "| neg | 33 | 103 |  83 | 43.3 | 0.183 |  1 | 30 | 38 |\n",
       "| pos | 32 | 115 |  96 | 34.6 | 0.529 |  1 | 70 | 30 |\n",
       "| neg | 27 | 126 | 235 | 39.3 | 0.704 |  3 | 88 | 41 |\n",
       "| neg | 50 |  99 |  NA | 35.4 | 0.388 |  8 | 84 | NA |\n",
       "| pos | 41 | 196 |  NA | 39.8 | 0.451 |  7 | 90 | NA |\n",
       "| pos | 29 | 119 |  NA | 29.0 | 0.263 |  9 | 80 | 35 |\n",
       "| pos | 51 | 143 | 146 | 36.6 | 0.254 | 11 | 94 | 33 |\n",
       "| pos | 41 | 125 | 115 | 31.1 | 0.205 | 10 | 70 | 26 |\n",
       "| pos | 43 | 147 |  NA | 39.4 | 0.257 |  7 | 76 | NA |\n",
       "| neg | 22 |  97 | 140 | 23.2 | 0.487 |  1 | 66 | 15 |\n",
       "| neg | 57 | 145 | 110 | 22.2 | 0.245 | 13 | 82 | 19 |\n",
       "| neg | 38 | 117 |  NA | 34.1 | 0.337 |  5 | 92 | NA |\n",
       "| ⋮ | ⋮ | ⋮ | ⋮ | ⋮ | ⋮ | ⋮ | ⋮ | ⋮ |\n",
       "| neg | 21 |  99 | 160 | 36.6 | 0.453 |  2 | 60 | 17 |\n",
       "| pos | 42 | 102 |  NA | 39.5 | 0.293 |  1 | 74 | NA |\n",
       "| pos | 48 | 120 | 150 | 42.3 | 0.785 | 11 | 80 | 37 |\n",
       "| neg | 26 | 102 |  94 | 30.8 | 0.400 |  3 | 44 | 20 |\n",
       "| neg | 22 | 109 | 116 | 28.5 | 0.219 |  1 | 58 | 18 |\n",
       "| pos | 45 | 140 |  NA | 32.7 | 0.734 |  9 | 94 | NA |\n",
       "| neg | 39 | 153 | 140 | 40.6 | 1.174 | 13 | 88 | 37 |\n",
       "| neg | 46 | 100 | 105 | 30.0 | 0.488 | 12 | 84 | 33 |\n",
       "| pos | 27 | 147 |  NA | 49.3 | 0.358 |  1 | 94 | 41 |\n",
       "| neg | 32 |  81 |  57 | 46.3 | 1.096 |  1 | 74 | 41 |\n",
       "| pos | 36 | 187 | 200 | 36.4 | 0.408 |  3 | 70 | 22 |\n",
       "| pos | 50 | 162 |  NA | 24.3 | 0.178 |  6 | 62 | NA |\n",
       "| pos | 22 | 136 |  NA | 31.2 | 1.182 |  4 | 70 | NA |\n",
       "| neg | 28 | 121 |  74 | 39.0 | 0.261 |  1 | 78 | 39 |\n",
       "| neg | 25 | 108 |  NA | 26.0 | 0.223 |  3 | 62 | 24 |\n",
       "| pos | 26 | 181 | 510 | 43.3 | 0.222 |  0 | 88 | 44 |\n",
       "| pos | 45 | 154 |  NA | 32.4 | 0.443 |  8 | 78 | 32 |\n",
       "| pos | 37 | 128 | 110 | 36.5 | 1.057 |  1 | 88 | 39 |\n",
       "| neg | 39 | 137 |  NA | 32.0 | 0.391 |  7 | 90 | 41 |\n",
       "| pos | 52 | 123 |  NA | 36.3 | 0.258 |  0 | 72 | NA |\n",
       "| neg | 26 | 106 |  NA | 37.5 | 0.197 |  1 | 76 | NA |\n",
       "| pos | 66 | 190 |  NA | 35.5 | 0.278 |  6 | 92 | NA |\n",
       "| neg | 22 |  88 |  16 | 28.4 | 0.766 |  2 | 58 | 26 |\n",
       "| pos | 43 | 170 |  NA | 44.0 | 0.403 |  9 | 74 | 31 |\n",
       "| neg | 33 |  89 |  NA | 22.5 | 0.142 |  9 | 62 | NA |\n",
       "| neg | 63 | 101 | 180 | 32.9 | 0.171 | 10 | 76 | 48 |\n",
       "| neg | 27 | 122 |  NA | 36.8 | 0.340 |  2 | 70 | 27 |\n",
       "| neg | 30 | 121 | 112 | 26.2 | 0.245 |  5 | 72 | 23 |\n",
       "| pos | 47 | 126 |  NA | 30.1 | 0.349 |  1 | 60 | NA |\n",
       "| neg | 23 |  93 |  NA | 30.4 | 0.315 |  1 | 70 | 31 |\n",
       "\n"
      ],
      "text/plain": [
       "    diabetes age glucose insulin mass pedigree pregnant pressure triceps\n",
       "1   pos      50  148      NA     33.6 0.627     6       72       35     \n",
       "2   neg      31   85      NA     26.6 0.351     1       66       29     \n",
       "3   pos      32  183      NA     23.3 0.672     8       64       NA     \n",
       "4   neg      21   89      94     28.1 0.167     1       66       23     \n",
       "5   pos      33  137     168     43.1 2.288     0       40       35     \n",
       "6   neg      30  116      NA     25.6 0.201     5       74       NA     \n",
       "7   pos      26   78      88     31.0 0.248     3       50       32     \n",
       "8   neg      29  115      NA     35.3 0.134    10       NA       NA     \n",
       "9   pos      53  197     543     30.5 0.158     2       70       45     \n",
       "10  pos      54  125      NA       NA 0.232     8       96       NA     \n",
       "11  neg      30  110      NA     37.6 0.191     4       92       NA     \n",
       "12  pos      34  168      NA     38.0 0.537    10       74       NA     \n",
       "13  neg      57  139      NA     27.1 1.441    10       80       NA     \n",
       "14  pos      59  189     846     30.1 0.398     1       60       23     \n",
       "15  pos      51  166     175     25.8 0.587     5       72       19     \n",
       "16  pos      32  100      NA     30.0 0.484     7       NA       NA     \n",
       "17  pos      31  118     230     45.8 0.551     0       84       47     \n",
       "18  pos      31  107      NA     29.6 0.254     7       74       NA     \n",
       "19  neg      33  103      83     43.3 0.183     1       30       38     \n",
       "20  pos      32  115      96     34.6 0.529     1       70       30     \n",
       "21  neg      27  126     235     39.3 0.704     3       88       41     \n",
       "22  neg      50   99      NA     35.4 0.388     8       84       NA     \n",
       "23  pos      41  196      NA     39.8 0.451     7       90       NA     \n",
       "24  pos      29  119      NA     29.0 0.263     9       80       35     \n",
       "25  pos      51  143     146     36.6 0.254    11       94       33     \n",
       "26  pos      41  125     115     31.1 0.205    10       70       26     \n",
       "27  pos      43  147      NA     39.4 0.257     7       76       NA     \n",
       "28  neg      22   97     140     23.2 0.487     1       66       15     \n",
       "29  neg      57  145     110     22.2 0.245    13       82       19     \n",
       "30  neg      38  117      NA     34.1 0.337     5       92       NA     \n",
       "⋮   ⋮        ⋮   ⋮       ⋮       ⋮    ⋮        ⋮        ⋮        ⋮      \n",
       "739 neg      21   99     160     36.6 0.453     2       60       17     \n",
       "740 pos      42  102      NA     39.5 0.293     1       74       NA     \n",
       "741 pos      48  120     150     42.3 0.785    11       80       37     \n",
       "742 neg      26  102      94     30.8 0.400     3       44       20     \n",
       "743 neg      22  109     116     28.5 0.219     1       58       18     \n",
       "744 pos      45  140      NA     32.7 0.734     9       94       NA     \n",
       "745 neg      39  153     140     40.6 1.174    13       88       37     \n",
       "746 neg      46  100     105     30.0 0.488    12       84       33     \n",
       "747 pos      27  147      NA     49.3 0.358     1       94       41     \n",
       "748 neg      32   81      57     46.3 1.096     1       74       41     \n",
       "749 pos      36  187     200     36.4 0.408     3       70       22     \n",
       "750 pos      50  162      NA     24.3 0.178     6       62       NA     \n",
       "751 pos      22  136      NA     31.2 1.182     4       70       NA     \n",
       "752 neg      28  121      74     39.0 0.261     1       78       39     \n",
       "753 neg      25  108      NA     26.0 0.223     3       62       24     \n",
       "754 pos      26  181     510     43.3 0.222     0       88       44     \n",
       "755 pos      45  154      NA     32.4 0.443     8       78       32     \n",
       "756 pos      37  128     110     36.5 1.057     1       88       39     \n",
       "757 neg      39  137      NA     32.0 0.391     7       90       41     \n",
       "758 pos      52  123      NA     36.3 0.258     0       72       NA     \n",
       "759 neg      26  106      NA     37.5 0.197     1       76       NA     \n",
       "760 pos      66  190      NA     35.5 0.278     6       92       NA     \n",
       "761 neg      22   88      16     28.4 0.766     2       58       26     \n",
       "762 pos      43  170      NA     44.0 0.403     9       74       31     \n",
       "763 neg      33   89      NA     22.5 0.142     9       62       NA     \n",
       "764 neg      63  101     180     32.9 0.171    10       76       48     \n",
       "765 neg      27  122      NA     36.8 0.340     2       70       27     \n",
       "766 neg      30  121     112     26.2 0.245     5       72       23     \n",
       "767 pos      47  126      NA     30.1 0.349     1       60       NA     \n",
       "768 neg      23   93      NA     30.4 0.315     1       70       31     "
      ]
     },
     "metadata": {},
     "output_type": "display_data"
    }
   ],
   "source": [
    "as.data.table(task)\n"
   ]
  },
  {
   "cell_type": "code",
   "execution_count": 36,
   "metadata": {
    "vscode": {
     "languageId": "r"
    }
   },
   "outputs": [
    {
     "data": {
      "text/html": [
       "<strong>classif.ce:</strong> 0.24609375"
      ],
      "text/latex": [
       "\\textbf{classif.ce:} 0.24609375"
      ],
      "text/markdown": [
       "**classif.ce:** 0.24609375"
      ],
      "text/plain": [
       "classif.ce \n",
       " 0.2460938 "
      ]
     },
     "metadata": {},
     "output_type": "display_data"
    }
   ],
   "source": [
    "instance$result_y\n"
   ]
  },
  {
   "cell_type": "code",
   "execution_count": 37,
   "metadata": {
    "vscode": {
     "languageId": "r"
    }
   },
   "outputs": [
    {
     "data": {
      "text/html": [
       "<table class=\"dataframe\">\n",
       "<caption>A data.table: 20 × 17</caption>\n",
       "<thead>\n",
       "\t<tr><th scope=col>age</th><th scope=col>glucose</th><th scope=col>insulin</th><th scope=col>mass</th><th scope=col>pedigree</th><th scope=col>pregnant</th><th scope=col>pressure</th><th scope=col>triceps</th><th scope=col>classif.ce</th><th scope=col>runtime_learners</th><th scope=col>timestamp</th><th scope=col>batch_nr</th><th scope=col>warnings</th><th scope=col>errors</th><th scope=col>features</th><th scope=col>n_features</th><th scope=col>resample_result</th></tr>\n",
       "\t<tr><th scope=col>&lt;lgl&gt;</th><th scope=col>&lt;lgl&gt;</th><th scope=col>&lt;lgl&gt;</th><th scope=col>&lt;lgl&gt;</th><th scope=col>&lt;lgl&gt;</th><th scope=col>&lt;lgl&gt;</th><th scope=col>&lt;lgl&gt;</th><th scope=col>&lt;lgl&gt;</th><th scope=col>&lt;dbl&gt;</th><th scope=col>&lt;dbl&gt;</th><th scope=col>&lt;dttm&gt;</th><th scope=col>&lt;int&gt;</th><th scope=col>&lt;int&gt;</th><th scope=col>&lt;int&gt;</th><th scope=col>&lt;list&gt;</th><th scope=col>&lt;list&gt;</th><th scope=col>&lt;list&gt;</th></tr>\n",
       "</thead>\n",
       "<tbody>\n",
       "\t<tr><td>FALSE</td><td>FALSE</td><td> TRUE</td><td>FALSE</td><td> TRUE</td><td> TRUE</td><td>FALSE</td><td>FALSE</td><td>0.3437500</td><td>0.007</td><td>2024-09-01 10:13:25</td><td>1</td><td>0</td><td>0</td><td>insulin , pedigree, pregnant</td><td>3</td><td>&lt;environment: 0x560bc7f0f5b0&gt;</td></tr>\n",
       "\t<tr><td> TRUE</td><td> TRUE</td><td> TRUE</td><td> TRUE</td><td> TRUE</td><td> TRUE</td><td> TRUE</td><td> TRUE</td><td>0.2500000</td><td>0.007</td><td>2024-09-01 10:13:25</td><td>1</td><td>0</td><td>0</td><td><span style=white-space:pre-wrap>age     , glucose , insulin , mass    , pedigree, pregnant, pressure, triceps </span></td><td>8</td><td>&lt;environment: 0x560bc7ecd1b8&gt;</td></tr>\n",
       "\t<tr><td>FALSE</td><td>FALSE</td><td> TRUE</td><td> TRUE</td><td> TRUE</td><td>FALSE</td><td> TRUE</td><td> TRUE</td><td>0.3359375</td><td>0.008</td><td>2024-09-01 10:13:25</td><td>1</td><td>0</td><td>0</td><td><span style=white-space:pre-wrap>insulin , mass    , pedigree, pressure, triceps </span></td><td>5</td><td>&lt;environment: 0x560bc7e8c640&gt;</td></tr>\n",
       "\t<tr><td>FALSE</td><td> TRUE</td><td>FALSE</td><td>FALSE</td><td>FALSE</td><td>FALSE</td><td> TRUE</td><td> TRUE</td><td>0.2460938</td><td>0.007</td><td>2024-09-01 10:13:25</td><td>1</td><td>0</td><td>0</td><td>glucose , pressure, triceps </td><td>3</td><td>&lt;environment: 0x560bc7e61ac8&gt;</td></tr>\n",
       "\t<tr><td> TRUE</td><td> TRUE</td><td> TRUE</td><td>FALSE</td><td> TRUE</td><td> TRUE</td><td> TRUE</td><td> TRUE</td><td>0.2539062</td><td>0.007</td><td>2024-09-01 10:13:25</td><td>1</td><td>0</td><td>0</td><td><span style=white-space:pre-wrap>age     , glucose , insulin , pedigree, pregnant, pressure, triceps </span></td><td>7</td><td>&lt;environment: 0x560bc7e30ea0&gt;</td></tr>\n",
       "\t<tr><td> TRUE</td><td>FALSE</td><td> TRUE</td><td> TRUE</td><td> TRUE</td><td> TRUE</td><td> TRUE</td><td> TRUE</td><td>0.3046875</td><td>0.007</td><td>2024-09-01 10:13:25</td><td>1</td><td>0</td><td>0</td><td><span style=white-space:pre-wrap>age     , insulin , mass    , pedigree, pregnant, pressure, triceps </span></td><td>7</td><td>&lt;environment: 0x560bc7e14178&gt;</td></tr>\n",
       "\t<tr><td>FALSE</td><td>FALSE</td><td> TRUE</td><td> TRUE</td><td>FALSE</td><td>FALSE</td><td>FALSE</td><td>FALSE</td><td>0.3828125</td><td>0.006</td><td>2024-09-01 10:13:25</td><td>1</td><td>0</td><td>0</td><td><span style=white-space:pre-wrap>insulin, mass   </span></td><td>2</td><td>&lt;environment: 0x560bc7c783d0&gt;</td></tr>\n",
       "\t<tr><td> TRUE</td><td> TRUE</td><td> TRUE</td><td> TRUE</td><td> TRUE</td><td> TRUE</td><td> TRUE</td><td> TRUE</td><td>0.2500000</td><td>0.008</td><td>2024-09-01 10:13:25</td><td>1</td><td>0</td><td>0</td><td><span style=white-space:pre-wrap>age     , glucose , insulin , mass    , pedigree, pregnant, pressure, triceps </span></td><td>8</td><td>&lt;environment: 0x560bc7be2358&gt;</td></tr>\n",
       "\t<tr><td> TRUE</td><td>FALSE</td><td> TRUE</td><td> TRUE</td><td> TRUE</td><td> TRUE</td><td> TRUE</td><td> TRUE</td><td>0.3046875</td><td>0.007</td><td>2024-09-01 10:13:25</td><td>1</td><td>0</td><td>0</td><td><span style=white-space:pre-wrap>age     , insulin , mass    , pedigree, pregnant, pressure, triceps </span></td><td>7</td><td>&lt;environment: 0x560bc7bc6150&gt;</td></tr>\n",
       "\t<tr><td> TRUE</td><td>FALSE</td><td> TRUE</td><td> TRUE</td><td> TRUE</td><td> TRUE</td><td> TRUE</td><td> TRUE</td><td>0.3046875</td><td>0.014</td><td>2024-09-01 10:13:25</td><td>1</td><td>0</td><td>0</td><td><span style=white-space:pre-wrap>age     , insulin , mass    , pedigree, pregnant, pressure, triceps </span></td><td>7</td><td>&lt;environment: 0x560bc7bada88&gt;</td></tr>\n",
       "\t<tr><td>FALSE</td><td> TRUE</td><td>FALSE</td><td>FALSE</td><td>FALSE</td><td>FALSE</td><td>FALSE</td><td>FALSE</td><td>0.2578125</td><td>0.006</td><td>2024-09-01 10:13:26</td><td>2</td><td>0</td><td>0</td><td>glucose</td><td>1</td><td>&lt;environment: 0x560bc7b5aa70&gt;</td></tr>\n",
       "\t<tr><td>FALSE</td><td>FALSE</td><td>FALSE</td><td> TRUE</td><td>FALSE</td><td>FALSE</td><td>FALSE</td><td> TRUE</td><td>0.3437500</td><td>0.006</td><td>2024-09-01 10:13:26</td><td>2</td><td>0</td><td>0</td><td><span style=white-space:pre-wrap>mass   , triceps</span></td><td>2</td><td>&lt;environment: 0x560bc7b44168&gt;</td></tr>\n",
       "\t<tr><td> TRUE</td><td> TRUE</td><td> TRUE</td><td> TRUE</td><td> TRUE</td><td> TRUE</td><td> TRUE</td><td> TRUE</td><td>0.2500000</td><td>0.007</td><td>2024-09-01 10:13:26</td><td>2</td><td>0</td><td>0</td><td><span style=white-space:pre-wrap>age     , glucose , insulin , mass    , pedigree, pregnant, pressure, triceps </span></td><td>8</td><td>&lt;environment: 0x560bc7b22d00&gt;</td></tr>\n",
       "\t<tr><td> TRUE</td><td> TRUE</td><td> TRUE</td><td> TRUE</td><td> TRUE</td><td> TRUE</td><td>FALSE</td><td>FALSE</td><td>0.2500000</td><td>0.006</td><td>2024-09-01 10:13:26</td><td>2</td><td>0</td><td>0</td><td><span style=white-space:pre-wrap>age     , glucose , insulin , mass    , pedigree, pregnant</span></td><td>6</td><td>&lt;environment: 0x560bc7a99b10&gt;</td></tr>\n",
       "\t<tr><td> TRUE</td><td> TRUE</td><td> TRUE</td><td> TRUE</td><td> TRUE</td><td> TRUE</td><td> TRUE</td><td> TRUE</td><td>0.2500000</td><td>0.007</td><td>2024-09-01 10:13:26</td><td>2</td><td>0</td><td>0</td><td><span style=white-space:pre-wrap>age     , glucose , insulin , mass    , pedigree, pregnant, pressure, triceps </span></td><td>8</td><td>&lt;environment: 0x560bc79c2300&gt;</td></tr>\n",
       "\t<tr><td> TRUE</td><td> TRUE</td><td> TRUE</td><td> TRUE</td><td>FALSE</td><td>FALSE</td><td> TRUE</td><td>FALSE</td><td>0.2578125</td><td>0.006</td><td>2024-09-01 10:13:26</td><td>2</td><td>0</td><td>0</td><td><span style=white-space:pre-wrap>age     , glucose , insulin , mass    , pressure</span></td><td>5</td><td>&lt;environment: 0x560bc79a7378&gt;</td></tr>\n",
       "\t<tr><td>FALSE</td><td> TRUE</td><td>FALSE</td><td>FALSE</td><td> TRUE</td><td> TRUE</td><td>FALSE</td><td>FALSE</td><td>0.2734375</td><td>0.011</td><td>2024-09-01 10:13:26</td><td>2</td><td>0</td><td>0</td><td>glucose , pedigree, pregnant</td><td>3</td><td>&lt;environment: 0x560bc7989190&gt;</td></tr>\n",
       "\t<tr><td> TRUE</td><td>FALSE</td><td>FALSE</td><td> TRUE</td><td>FALSE</td><td>FALSE</td><td> TRUE</td><td> TRUE</td><td>0.3085938</td><td>0.005</td><td>2024-09-01 10:13:26</td><td>2</td><td>0</td><td>0</td><td><span style=white-space:pre-wrap>age     , mass    , pressure, triceps </span></td><td>4</td><td>&lt;environment: 0x560bc7969a50&gt;</td></tr>\n",
       "\t<tr><td>FALSE</td><td>FALSE</td><td>FALSE</td><td> TRUE</td><td> TRUE</td><td>FALSE</td><td>FALSE</td><td> TRUE</td><td>0.3515625</td><td>0.006</td><td>2024-09-01 10:13:26</td><td>2</td><td>0</td><td>0</td><td><span style=white-space:pre-wrap>mass    , pedigree, triceps </span></td><td>3</td><td>&lt;environment: 0x560bc7953ca8&gt;</td></tr>\n",
       "\t<tr><td> TRUE</td><td>FALSE</td><td>FALSE</td><td> TRUE</td><td> TRUE</td><td> TRUE</td><td> TRUE</td><td> TRUE</td><td>0.3242188</td><td>0.007</td><td>2024-09-01 10:13:26</td><td>2</td><td>0</td><td>0</td><td><span style=white-space:pre-wrap>age     , mass    , pedigree, pregnant, pressure, triceps </span></td><td>6</td><td>&lt;environment: 0x560bc79375e0&gt;</td></tr>\n",
       "</tbody>\n",
       "</table>\n"
      ],
      "text/latex": [
       "A data.table: 20 × 17\n",
       "\\begin{tabular}{lllllllllllllllll}\n",
       " age & glucose & insulin & mass & pedigree & pregnant & pressure & triceps & classif.ce & runtime\\_learners & timestamp & batch\\_nr & warnings & errors & features & n\\_features & resample\\_result\\\\\n",
       " <lgl> & <lgl> & <lgl> & <lgl> & <lgl> & <lgl> & <lgl> & <lgl> & <dbl> & <dbl> & <dttm> & <int> & <int> & <int> & <list> & <list> & <list>\\\\\n",
       "\\hline\n",
       "\t FALSE & FALSE &  TRUE & FALSE &  TRUE &  TRUE & FALSE & FALSE & 0.3437500 & 0.007 & 2024-09-01 10:13:25 & 1 & 0 & 0 & insulin , pedigree, pregnant & 3 & <environment: 0x560bc7f0f5b0>\\\\\n",
       "\t  TRUE &  TRUE &  TRUE &  TRUE &  TRUE &  TRUE &  TRUE &  TRUE & 0.2500000 & 0.007 & 2024-09-01 10:13:25 & 1 & 0 & 0 & age     , glucose , insulin , mass    , pedigree, pregnant, pressure, triceps  & 8 & <environment: 0x560bc7ecd1b8>\\\\\n",
       "\t FALSE & FALSE &  TRUE &  TRUE &  TRUE & FALSE &  TRUE &  TRUE & 0.3359375 & 0.008 & 2024-09-01 10:13:25 & 1 & 0 & 0 & insulin , mass    , pedigree, pressure, triceps  & 5 & <environment: 0x560bc7e8c640>\\\\\n",
       "\t FALSE &  TRUE & FALSE & FALSE & FALSE & FALSE &  TRUE &  TRUE & 0.2460938 & 0.007 & 2024-09-01 10:13:25 & 1 & 0 & 0 & glucose , pressure, triceps  & 3 & <environment: 0x560bc7e61ac8>\\\\\n",
       "\t  TRUE &  TRUE &  TRUE & FALSE &  TRUE &  TRUE &  TRUE &  TRUE & 0.2539062 & 0.007 & 2024-09-01 10:13:25 & 1 & 0 & 0 & age     , glucose , insulin , pedigree, pregnant, pressure, triceps  & 7 & <environment: 0x560bc7e30ea0>\\\\\n",
       "\t  TRUE & FALSE &  TRUE &  TRUE &  TRUE &  TRUE &  TRUE &  TRUE & 0.3046875 & 0.007 & 2024-09-01 10:13:25 & 1 & 0 & 0 & age     , insulin , mass    , pedigree, pregnant, pressure, triceps  & 7 & <environment: 0x560bc7e14178>\\\\\n",
       "\t FALSE & FALSE &  TRUE &  TRUE & FALSE & FALSE & FALSE & FALSE & 0.3828125 & 0.006 & 2024-09-01 10:13:25 & 1 & 0 & 0 & insulin, mass    & 2 & <environment: 0x560bc7c783d0>\\\\\n",
       "\t  TRUE &  TRUE &  TRUE &  TRUE &  TRUE &  TRUE &  TRUE &  TRUE & 0.2500000 & 0.008 & 2024-09-01 10:13:25 & 1 & 0 & 0 & age     , glucose , insulin , mass    , pedigree, pregnant, pressure, triceps  & 8 & <environment: 0x560bc7be2358>\\\\\n",
       "\t  TRUE & FALSE &  TRUE &  TRUE &  TRUE &  TRUE &  TRUE &  TRUE & 0.3046875 & 0.007 & 2024-09-01 10:13:25 & 1 & 0 & 0 & age     , insulin , mass    , pedigree, pregnant, pressure, triceps  & 7 & <environment: 0x560bc7bc6150>\\\\\n",
       "\t  TRUE & FALSE &  TRUE &  TRUE &  TRUE &  TRUE &  TRUE &  TRUE & 0.3046875 & 0.014 & 2024-09-01 10:13:25 & 1 & 0 & 0 & age     , insulin , mass    , pedigree, pregnant, pressure, triceps  & 7 & <environment: 0x560bc7bada88>\\\\\n",
       "\t FALSE &  TRUE & FALSE & FALSE & FALSE & FALSE & FALSE & FALSE & 0.2578125 & 0.006 & 2024-09-01 10:13:26 & 2 & 0 & 0 & glucose & 1 & <environment: 0x560bc7b5aa70>\\\\\n",
       "\t FALSE & FALSE & FALSE &  TRUE & FALSE & FALSE & FALSE &  TRUE & 0.3437500 & 0.006 & 2024-09-01 10:13:26 & 2 & 0 & 0 & mass   , triceps & 2 & <environment: 0x560bc7b44168>\\\\\n",
       "\t  TRUE &  TRUE &  TRUE &  TRUE &  TRUE &  TRUE &  TRUE &  TRUE & 0.2500000 & 0.007 & 2024-09-01 10:13:26 & 2 & 0 & 0 & age     , glucose , insulin , mass    , pedigree, pregnant, pressure, triceps  & 8 & <environment: 0x560bc7b22d00>\\\\\n",
       "\t  TRUE &  TRUE &  TRUE &  TRUE &  TRUE &  TRUE & FALSE & FALSE & 0.2500000 & 0.006 & 2024-09-01 10:13:26 & 2 & 0 & 0 & age     , glucose , insulin , mass    , pedigree, pregnant & 6 & <environment: 0x560bc7a99b10>\\\\\n",
       "\t  TRUE &  TRUE &  TRUE &  TRUE &  TRUE &  TRUE &  TRUE &  TRUE & 0.2500000 & 0.007 & 2024-09-01 10:13:26 & 2 & 0 & 0 & age     , glucose , insulin , mass    , pedigree, pregnant, pressure, triceps  & 8 & <environment: 0x560bc79c2300>\\\\\n",
       "\t  TRUE &  TRUE &  TRUE &  TRUE & FALSE & FALSE &  TRUE & FALSE & 0.2578125 & 0.006 & 2024-09-01 10:13:26 & 2 & 0 & 0 & age     , glucose , insulin , mass    , pressure & 5 & <environment: 0x560bc79a7378>\\\\\n",
       "\t FALSE &  TRUE & FALSE & FALSE &  TRUE &  TRUE & FALSE & FALSE & 0.2734375 & 0.011 & 2024-09-01 10:13:26 & 2 & 0 & 0 & glucose , pedigree, pregnant & 3 & <environment: 0x560bc7989190>\\\\\n",
       "\t  TRUE & FALSE & FALSE &  TRUE & FALSE & FALSE &  TRUE &  TRUE & 0.3085938 & 0.005 & 2024-09-01 10:13:26 & 2 & 0 & 0 & age     , mass    , pressure, triceps  & 4 & <environment: 0x560bc7969a50>\\\\\n",
       "\t FALSE & FALSE & FALSE &  TRUE &  TRUE & FALSE & FALSE &  TRUE & 0.3515625 & 0.006 & 2024-09-01 10:13:26 & 2 & 0 & 0 & mass    , pedigree, triceps  & 3 & <environment: 0x560bc7953ca8>\\\\\n",
       "\t  TRUE & FALSE & FALSE &  TRUE &  TRUE &  TRUE &  TRUE &  TRUE & 0.3242188 & 0.007 & 2024-09-01 10:13:26 & 2 & 0 & 0 & age     , mass    , pedigree, pregnant, pressure, triceps  & 6 & <environment: 0x560bc79375e0>\\\\\n",
       "\\end{tabular}\n"
      ],
      "text/markdown": [
       "\n",
       "A data.table: 20 × 17\n",
       "\n",
       "| age &lt;lgl&gt; | glucose &lt;lgl&gt; | insulin &lt;lgl&gt; | mass &lt;lgl&gt; | pedigree &lt;lgl&gt; | pregnant &lt;lgl&gt; | pressure &lt;lgl&gt; | triceps &lt;lgl&gt; | classif.ce &lt;dbl&gt; | runtime_learners &lt;dbl&gt; | timestamp &lt;dttm&gt; | batch_nr &lt;int&gt; | warnings &lt;int&gt; | errors &lt;int&gt; | features &lt;list&gt; | n_features &lt;list&gt; | resample_result &lt;list&gt; |\n",
       "|---|---|---|---|---|---|---|---|---|---|---|---|---|---|---|---|---|\n",
       "| FALSE | FALSE |  TRUE | FALSE |  TRUE |  TRUE | FALSE | FALSE | 0.3437500 | 0.007 | 2024-09-01 10:13:25 | 1 | 0 | 0 | insulin , pedigree, pregnant | 3 | &lt;environment: 0x560bc7f0f5b0&gt; |\n",
       "|  TRUE |  TRUE |  TRUE |  TRUE |  TRUE |  TRUE |  TRUE |  TRUE | 0.2500000 | 0.007 | 2024-09-01 10:13:25 | 1 | 0 | 0 | age     , glucose , insulin , mass    , pedigree, pregnant, pressure, triceps  | 8 | &lt;environment: 0x560bc7ecd1b8&gt; |\n",
       "| FALSE | FALSE |  TRUE |  TRUE |  TRUE | FALSE |  TRUE |  TRUE | 0.3359375 | 0.008 | 2024-09-01 10:13:25 | 1 | 0 | 0 | insulin , mass    , pedigree, pressure, triceps  | 5 | &lt;environment: 0x560bc7e8c640&gt; |\n",
       "| FALSE |  TRUE | FALSE | FALSE | FALSE | FALSE |  TRUE |  TRUE | 0.2460938 | 0.007 | 2024-09-01 10:13:25 | 1 | 0 | 0 | glucose , pressure, triceps  | 3 | &lt;environment: 0x560bc7e61ac8&gt; |\n",
       "|  TRUE |  TRUE |  TRUE | FALSE |  TRUE |  TRUE |  TRUE |  TRUE | 0.2539062 | 0.007 | 2024-09-01 10:13:25 | 1 | 0 | 0 | age     , glucose , insulin , pedigree, pregnant, pressure, triceps  | 7 | &lt;environment: 0x560bc7e30ea0&gt; |\n",
       "|  TRUE | FALSE |  TRUE |  TRUE |  TRUE |  TRUE |  TRUE |  TRUE | 0.3046875 | 0.007 | 2024-09-01 10:13:25 | 1 | 0 | 0 | age     , insulin , mass    , pedigree, pregnant, pressure, triceps  | 7 | &lt;environment: 0x560bc7e14178&gt; |\n",
       "| FALSE | FALSE |  TRUE |  TRUE | FALSE | FALSE | FALSE | FALSE | 0.3828125 | 0.006 | 2024-09-01 10:13:25 | 1 | 0 | 0 | insulin, mass    | 2 | &lt;environment: 0x560bc7c783d0&gt; |\n",
       "|  TRUE |  TRUE |  TRUE |  TRUE |  TRUE |  TRUE |  TRUE |  TRUE | 0.2500000 | 0.008 | 2024-09-01 10:13:25 | 1 | 0 | 0 | age     , glucose , insulin , mass    , pedigree, pregnant, pressure, triceps  | 8 | &lt;environment: 0x560bc7be2358&gt; |\n",
       "|  TRUE | FALSE |  TRUE |  TRUE |  TRUE |  TRUE |  TRUE |  TRUE | 0.3046875 | 0.007 | 2024-09-01 10:13:25 | 1 | 0 | 0 | age     , insulin , mass    , pedigree, pregnant, pressure, triceps  | 7 | &lt;environment: 0x560bc7bc6150&gt; |\n",
       "|  TRUE | FALSE |  TRUE |  TRUE |  TRUE |  TRUE |  TRUE |  TRUE | 0.3046875 | 0.014 | 2024-09-01 10:13:25 | 1 | 0 | 0 | age     , insulin , mass    , pedigree, pregnant, pressure, triceps  | 7 | &lt;environment: 0x560bc7bada88&gt; |\n",
       "| FALSE |  TRUE | FALSE | FALSE | FALSE | FALSE | FALSE | FALSE | 0.2578125 | 0.006 | 2024-09-01 10:13:26 | 2 | 0 | 0 | glucose | 1 | &lt;environment: 0x560bc7b5aa70&gt; |\n",
       "| FALSE | FALSE | FALSE |  TRUE | FALSE | FALSE | FALSE |  TRUE | 0.3437500 | 0.006 | 2024-09-01 10:13:26 | 2 | 0 | 0 | mass   , triceps | 2 | &lt;environment: 0x560bc7b44168&gt; |\n",
       "|  TRUE |  TRUE |  TRUE |  TRUE |  TRUE |  TRUE |  TRUE |  TRUE | 0.2500000 | 0.007 | 2024-09-01 10:13:26 | 2 | 0 | 0 | age     , glucose , insulin , mass    , pedigree, pregnant, pressure, triceps  | 8 | &lt;environment: 0x560bc7b22d00&gt; |\n",
       "|  TRUE |  TRUE |  TRUE |  TRUE |  TRUE |  TRUE | FALSE | FALSE | 0.2500000 | 0.006 | 2024-09-01 10:13:26 | 2 | 0 | 0 | age     , glucose , insulin , mass    , pedigree, pregnant | 6 | &lt;environment: 0x560bc7a99b10&gt; |\n",
       "|  TRUE |  TRUE |  TRUE |  TRUE |  TRUE |  TRUE |  TRUE |  TRUE | 0.2500000 | 0.007 | 2024-09-01 10:13:26 | 2 | 0 | 0 | age     , glucose , insulin , mass    , pedigree, pregnant, pressure, triceps  | 8 | &lt;environment: 0x560bc79c2300&gt; |\n",
       "|  TRUE |  TRUE |  TRUE |  TRUE | FALSE | FALSE |  TRUE | FALSE | 0.2578125 | 0.006 | 2024-09-01 10:13:26 | 2 | 0 | 0 | age     , glucose , insulin , mass    , pressure | 5 | &lt;environment: 0x560bc79a7378&gt; |\n",
       "| FALSE |  TRUE | FALSE | FALSE |  TRUE |  TRUE | FALSE | FALSE | 0.2734375 | 0.011 | 2024-09-01 10:13:26 | 2 | 0 | 0 | glucose , pedigree, pregnant | 3 | &lt;environment: 0x560bc7989190&gt; |\n",
       "|  TRUE | FALSE | FALSE |  TRUE | FALSE | FALSE |  TRUE |  TRUE | 0.3085938 | 0.005 | 2024-09-01 10:13:26 | 2 | 0 | 0 | age     , mass    , pressure, triceps  | 4 | &lt;environment: 0x560bc7969a50&gt; |\n",
       "| FALSE | FALSE | FALSE |  TRUE |  TRUE | FALSE | FALSE |  TRUE | 0.3515625 | 0.006 | 2024-09-01 10:13:26 | 2 | 0 | 0 | mass    , pedigree, triceps  | 3 | &lt;environment: 0x560bc7953ca8&gt; |\n",
       "|  TRUE | FALSE | FALSE |  TRUE |  TRUE |  TRUE |  TRUE |  TRUE | 0.3242188 | 0.007 | 2024-09-01 10:13:26 | 2 | 0 | 0 | age     , mass    , pedigree, pregnant, pressure, triceps  | 6 | &lt;environment: 0x560bc79375e0&gt; |\n",
       "\n"
      ],
      "text/plain": [
       "   age   glucose insulin mass  pedigree pregnant pressure triceps classif.ce\n",
       "1  FALSE FALSE    TRUE   FALSE  TRUE     TRUE    FALSE    FALSE   0.3437500 \n",
       "2   TRUE  TRUE    TRUE    TRUE  TRUE     TRUE     TRUE     TRUE   0.2500000 \n",
       "3  FALSE FALSE    TRUE    TRUE  TRUE    FALSE     TRUE     TRUE   0.3359375 \n",
       "4  FALSE  TRUE   FALSE   FALSE FALSE    FALSE     TRUE     TRUE   0.2460938 \n",
       "5   TRUE  TRUE    TRUE   FALSE  TRUE     TRUE     TRUE     TRUE   0.2539062 \n",
       "6   TRUE FALSE    TRUE    TRUE  TRUE     TRUE     TRUE     TRUE   0.3046875 \n",
       "7  FALSE FALSE    TRUE    TRUE FALSE    FALSE    FALSE    FALSE   0.3828125 \n",
       "8   TRUE  TRUE    TRUE    TRUE  TRUE     TRUE     TRUE     TRUE   0.2500000 \n",
       "9   TRUE FALSE    TRUE    TRUE  TRUE     TRUE     TRUE     TRUE   0.3046875 \n",
       "10  TRUE FALSE    TRUE    TRUE  TRUE     TRUE     TRUE     TRUE   0.3046875 \n",
       "11 FALSE  TRUE   FALSE   FALSE FALSE    FALSE    FALSE    FALSE   0.2578125 \n",
       "12 FALSE FALSE   FALSE    TRUE FALSE    FALSE    FALSE     TRUE   0.3437500 \n",
       "13  TRUE  TRUE    TRUE    TRUE  TRUE     TRUE     TRUE     TRUE   0.2500000 \n",
       "14  TRUE  TRUE    TRUE    TRUE  TRUE     TRUE    FALSE    FALSE   0.2500000 \n",
       "15  TRUE  TRUE    TRUE    TRUE  TRUE     TRUE     TRUE     TRUE   0.2500000 \n",
       "16  TRUE  TRUE    TRUE    TRUE FALSE    FALSE     TRUE    FALSE   0.2578125 \n",
       "17 FALSE  TRUE   FALSE   FALSE  TRUE     TRUE    FALSE    FALSE   0.2734375 \n",
       "18  TRUE FALSE   FALSE    TRUE FALSE    FALSE     TRUE     TRUE   0.3085938 \n",
       "19 FALSE FALSE   FALSE    TRUE  TRUE    FALSE    FALSE     TRUE   0.3515625 \n",
       "20  TRUE FALSE   FALSE    TRUE  TRUE     TRUE     TRUE     TRUE   0.3242188 \n",
       "   runtime_learners timestamp           batch_nr warnings errors\n",
       "1  0.007            2024-09-01 10:13:25 1        0        0     \n",
       "2  0.007            2024-09-01 10:13:25 1        0        0     \n",
       "3  0.008            2024-09-01 10:13:25 1        0        0     \n",
       "4  0.007            2024-09-01 10:13:25 1        0        0     \n",
       "5  0.007            2024-09-01 10:13:25 1        0        0     \n",
       "6  0.007            2024-09-01 10:13:25 1        0        0     \n",
       "7  0.006            2024-09-01 10:13:25 1        0        0     \n",
       "8  0.008            2024-09-01 10:13:25 1        0        0     \n",
       "9  0.007            2024-09-01 10:13:25 1        0        0     \n",
       "10 0.014            2024-09-01 10:13:25 1        0        0     \n",
       "11 0.006            2024-09-01 10:13:26 2        0        0     \n",
       "12 0.006            2024-09-01 10:13:26 2        0        0     \n",
       "13 0.007            2024-09-01 10:13:26 2        0        0     \n",
       "14 0.006            2024-09-01 10:13:26 2        0        0     \n",
       "15 0.007            2024-09-01 10:13:26 2        0        0     \n",
       "16 0.006            2024-09-01 10:13:26 2        0        0     \n",
       "17 0.011            2024-09-01 10:13:26 2        0        0     \n",
       "18 0.005            2024-09-01 10:13:26 2        0        0     \n",
       "19 0.006            2024-09-01 10:13:26 2        0        0     \n",
       "20 0.007            2024-09-01 10:13:26 2        0        0     \n",
       "   features                                                                      \n",
       "1  insulin , pedigree, pregnant                                                  \n",
       "2  age     , glucose , insulin , mass    , pedigree, pregnant, pressure, triceps \n",
       "3  insulin , mass    , pedigree, pressure, triceps                               \n",
       "4  glucose , pressure, triceps                                                   \n",
       "5  age     , glucose , insulin , pedigree, pregnant, pressure, triceps           \n",
       "6  age     , insulin , mass    , pedigree, pregnant, pressure, triceps           \n",
       "7  insulin, mass                                                                 \n",
       "8  age     , glucose , insulin , mass    , pedigree, pregnant, pressure, triceps \n",
       "9  age     , insulin , mass    , pedigree, pregnant, pressure, triceps           \n",
       "10 age     , insulin , mass    , pedigree, pregnant, pressure, triceps           \n",
       "11 glucose                                                                       \n",
       "12 mass   , triceps                                                              \n",
       "13 age     , glucose , insulin , mass    , pedigree, pregnant, pressure, triceps \n",
       "14 age     , glucose , insulin , mass    , pedigree, pregnant                    \n",
       "15 age     , glucose , insulin , mass    , pedigree, pregnant, pressure, triceps \n",
       "16 age     , glucose , insulin , mass    , pressure                              \n",
       "17 glucose , pedigree, pregnant                                                  \n",
       "18 age     , mass    , pressure, triceps                                         \n",
       "19 mass    , pedigree, triceps                                                   \n",
       "20 age     , mass    , pedigree, pregnant, pressure, triceps                     \n",
       "   n_features resample_result              \n",
       "1  3          <environment: 0x560bc7f0f5b0>\n",
       "2  8          <environment: 0x560bc7ecd1b8>\n",
       "3  5          <environment: 0x560bc7e8c640>\n",
       "4  3          <environment: 0x560bc7e61ac8>\n",
       "5  7          <environment: 0x560bc7e30ea0>\n",
       "6  7          <environment: 0x560bc7e14178>\n",
       "7  2          <environment: 0x560bc7c783d0>\n",
       "8  8          <environment: 0x560bc7be2358>\n",
       "9  7          <environment: 0x560bc7bc6150>\n",
       "10 7          <environment: 0x560bc7bada88>\n",
       "11 1          <environment: 0x560bc7b5aa70>\n",
       "12 2          <environment: 0x560bc7b44168>\n",
       "13 8          <environment: 0x560bc7b22d00>\n",
       "14 6          <environment: 0x560bc7a99b10>\n",
       "15 8          <environment: 0x560bc79c2300>\n",
       "16 5          <environment: 0x560bc79a7378>\n",
       "17 3          <environment: 0x560bc7989190>\n",
       "18 4          <environment: 0x560bc7969a50>\n",
       "19 3          <environment: 0x560bc7953ca8>\n",
       "20 6          <environment: 0x560bc79375e0>"
      ]
     },
     "metadata": {},
     "output_type": "display_data"
    }
   ],
   "source": [
    "as.data.table(instance$archive)\n"
   ]
  },
  {
   "cell_type": "code",
   "execution_count": 41,
   "metadata": {
    "vscode": {
     "languageId": "r"
    }
   },
   "outputs": [
    {
     "data": {
      "text/plain": [
       "<BenchmarkResult> of 20 rows with 20 resampling runs\n",
       " nr task_id    learner_id resampling_id iters warnings errors\n",
       "  1    pima classif.rpart       holdout     1        0      0\n",
       "  2    pima classif.rpart       holdout     1        0      0\n",
       "  3    pima classif.rpart       holdout     1        0      0\n",
       "  4    pima classif.rpart       holdout     1        0      0\n",
       "  5    pima classif.rpart       holdout     1        0      0\n",
       "  6    pima classif.rpart       holdout     1        0      0\n",
       "  7    pima classif.rpart       holdout     1        0      0\n",
       "  8    pima classif.rpart       holdout     1        0      0\n",
       "  9    pima classif.rpart       holdout     1        0      0\n",
       " 10    pima classif.rpart       holdout     1        0      0\n",
       " 11    pima classif.rpart       holdout     1        0      0\n",
       " 12    pima classif.rpart       holdout     1        0      0\n",
       " 13    pima classif.rpart       holdout     1        0      0\n",
       " 14    pima classif.rpart       holdout     1        0      0\n",
       " 15    pima classif.rpart       holdout     1        0      0\n",
       " 16    pima classif.rpart       holdout     1        0      0\n",
       " 17    pima classif.rpart       holdout     1        0      0\n",
       " 18    pima classif.rpart       holdout     1        0      0\n",
       " 19    pima classif.rpart       holdout     1        0      0\n",
       " 20    pima classif.rpart       holdout     1        0      0"
      ]
     },
     "metadata": {},
     "output_type": "display_data"
    }
   ],
   "source": [
    "instance$archive$benchmark_result\n"
   ]
  },
  {
   "cell_type": "markdown",
   "metadata": {},
   "source": [
    "应用于模型，训练任务："
   ]
  },
  {
   "cell_type": "code",
   "execution_count": 43,
   "metadata": {
    "vscode": {
     "languageId": "r"
    }
   },
   "outputs": [
    {
     "data": {
      "text/html": [
       "<style>\n",
       ".list-inline {list-style: none; margin:0; padding: 0}\n",
       ".list-inline>li {display: inline-block}\n",
       ".list-inline>li:not(:last-child)::after {content: \"\\00b7\"; padding: 0 .5ex}\n",
       "</style>\n",
       "<ol class=list-inline><li>'glucose'</li><li>'pressure'</li><li>'triceps'</li></ol>\n"
      ],
      "text/latex": [
       "\\begin{enumerate*}\n",
       "\\item 'glucose'\n",
       "\\item 'pressure'\n",
       "\\item 'triceps'\n",
       "\\end{enumerate*}\n"
      ],
      "text/markdown": [
       "1. 'glucose'\n",
       "2. 'pressure'\n",
       "3. 'triceps'\n",
       "\n",
       "\n"
      ],
      "text/plain": [
       "[1] \"glucose\"  \"pressure\" \"triceps\" "
      ]
     },
     "metadata": {},
     "output_type": "display_data"
    }
   ],
   "source": [
    "instance$result_feature_set\n"
   ]
  },
  {
   "cell_type": "code",
   "execution_count": 42,
   "metadata": {
    "vscode": {
     "languageId": "r"
    }
   },
   "outputs": [],
   "source": [
    "task$select(instance$result_feature_set) # 只使用选中的变量\n",
    "learner$train(task)\n"
   ]
  },
  {
   "cell_type": "markdown",
   "metadata": {},
   "source": [
    "## 自动选择"
   ]
  },
  {
   "cell_type": "code",
   "execution_count": 44,
   "metadata": {
    "vscode": {
     "languageId": "r"
    }
   },
   "outputs": [
    {
     "data": {
      "text/plain": [
       "<AutoFSelector:classif.rpart.fselector>\n",
       "* Model: list\n",
       "* Packages: mlr3, mlr3fselect, rpart\n",
       "* Predict Type: response\n",
       "* Feature Types: logical, integer, numeric, factor, ordered\n",
       "* Properties: importance, missings, multiclass, selected_features,\n",
       "  twoclass, weights"
      ]
     },
     "metadata": {},
     "output_type": "display_data"
    }
   ],
   "source": [
    "learner <- lrn(\"classif.rpart\")\n",
    "terminator <- trm(\"evals\", n_evals = 10)\n",
    "fselector <- fs(\"random_search\")\n",
    "\n",
    "at <- AutoFSelector$new(\n",
    "    learner = learner,\n",
    "    resampling = rsmp(\"holdout\"),\n",
    "    measure = msr(\"classif.ce\"),\n",
    "    terminator = terminator,\n",
    "    fselector = fselector\n",
    ")\n",
    "at\n"
   ]
  },
  {
   "cell_type": "markdown",
   "metadata": {},
   "source": [
    "比较不同的子集得到的模型表现："
   ]
  },
  {
   "cell_type": "code",
   "execution_count": 45,
   "metadata": {
    "vscode": {
     "languageId": "r"
    }
   },
   "outputs": [
    {
     "name": "stdout",
     "output_type": "stream",
     "text": [
      "INFO  [10:23:19.290] [mlr3] Running benchmark with 6 resampling iterations\n",
      "INFO  [10:23:19.294] [mlr3] Applying learner 'classif.rpart.fselector' on task 'pima' (iter 1/3)\n",
      "INFO  [10:23:19.377] [mlr3] Running benchmark with 10 resampling iterations\n",
      "INFO  [10:23:19.381] [mlr3] Applying learner 'classif.rpart' on task 'pima' (iter 1/1)\n",
      "INFO  [10:23:19.393] [mlr3] Applying learner 'classif.rpart' on task 'pima' (iter 1/1)\n",
      "INFO  [10:23:19.404] [mlr3] Applying learner 'classif.rpart' on task 'pima' (iter 1/1)\n",
      "INFO  [10:23:19.416] [mlr3] Applying learner 'classif.rpart' on task 'pima' (iter 1/1)\n",
      "INFO  [10:23:19.430] [mlr3] Applying learner 'classif.rpart' on task 'pima' (iter 1/1)\n",
      "INFO  [10:23:19.445] [mlr3] Applying learner 'classif.rpart' on task 'pima' (iter 1/1)\n",
      "INFO  [10:23:19.459] [mlr3] Applying learner 'classif.rpart' on task 'pima' (iter 1/1)\n",
      "INFO  [10:23:19.474] [mlr3] Applying learner 'classif.rpart' on task 'pima' (iter 1/1)\n",
      "INFO  [10:23:19.488] [mlr3] Applying learner 'classif.rpart' on task 'pima' (iter 1/1)\n",
      "INFO  [10:23:19.502] [mlr3] Applying learner 'classif.rpart' on task 'pima' (iter 1/1)\n",
      "INFO  [10:23:19.516] [mlr3] Finished benchmark\n",
      "INFO  [10:23:19.616] [mlr3] Applying learner 'classif.rpart.fselector' on task 'pima' (iter 2/3)\n",
      "INFO  [10:23:19.691] [mlr3] Running benchmark with 10 resampling iterations\n",
      "INFO  [10:23:19.696] [mlr3] Applying learner 'classif.rpart' on task 'pima' (iter 1/1)\n",
      "INFO  [10:23:19.887] [mlr3] Applying learner 'classif.rpart' on task 'pima' (iter 1/1)\n",
      "INFO  [10:23:19.898] [mlr3] Applying learner 'classif.rpart' on task 'pima' (iter 1/1)\n",
      "INFO  [10:23:19.909] [mlr3] Applying learner 'classif.rpart' on task 'pima' (iter 1/1)\n",
      "INFO  [10:23:19.920] [mlr3] Applying learner 'classif.rpart' on task 'pima' (iter 1/1)\n",
      "INFO  [10:23:19.930] [mlr3] Applying learner 'classif.rpart' on task 'pima' (iter 1/1)\n",
      "INFO  [10:23:19.941] [mlr3] Applying learner 'classif.rpart' on task 'pima' (iter 1/1)\n",
      "INFO  [10:23:19.952] [mlr3] Applying learner 'classif.rpart' on task 'pima' (iter 1/1)\n",
      "INFO  [10:23:19.964] [mlr3] Applying learner 'classif.rpart' on task 'pima' (iter 1/1)\n",
      "INFO  [10:23:19.974] [mlr3] Applying learner 'classif.rpart' on task 'pima' (iter 1/1)\n",
      "INFO  [10:23:19.986] [mlr3] Finished benchmark\n",
      "INFO  [10:23:20.077] [mlr3] Applying learner 'classif.rpart.fselector' on task 'pima' (iter 3/3)\n",
      "INFO  [10:23:20.153] [mlr3] Running benchmark with 10 resampling iterations\n",
      "INFO  [10:23:20.158] [mlr3] Applying learner 'classif.rpart' on task 'pima' (iter 1/1)\n",
      "INFO  [10:23:20.169] [mlr3] Applying learner 'classif.rpart' on task 'pima' (iter 1/1)\n",
      "INFO  [10:23:20.181] [mlr3] Applying learner 'classif.rpart' on task 'pima' (iter 1/1)\n",
      "INFO  [10:23:20.193] [mlr3] Applying learner 'classif.rpart' on task 'pima' (iter 1/1)\n",
      "INFO  [10:23:20.204] [mlr3] Applying learner 'classif.rpart' on task 'pima' (iter 1/1)\n",
      "INFO  [10:23:20.216] [mlr3] Applying learner 'classif.rpart' on task 'pima' (iter 1/1)\n",
      "INFO  [10:23:20.233] [mlr3] Applying learner 'classif.rpart' on task 'pima' (iter 1/1)\n",
      "INFO  [10:23:20.244] [mlr3] Applying learner 'classif.rpart' on task 'pima' (iter 1/1)\n",
      "INFO  [10:23:20.256] [mlr3] Applying learner 'classif.rpart' on task 'pima' (iter 1/1)\n",
      "INFO  [10:23:20.267] [mlr3] Applying learner 'classif.rpart' on task 'pima' (iter 1/1)\n",
      "INFO  [10:23:20.278] [mlr3] Finished benchmark\n",
      "INFO  [10:23:20.368] [mlr3] Applying learner 'classif.rpart' on task 'pima' (iter 1/3)\n",
      "INFO  [10:23:20.380] [mlr3] Applying learner 'classif.rpart' on task 'pima' (iter 2/3)\n",
      "INFO  [10:23:20.393] [mlr3] Applying learner 'classif.rpart' on task 'pima' (iter 3/3)\n",
      "INFO  [10:23:20.405] [mlr3] Finished benchmark\n"
     ]
    }
   ],
   "source": [
    "grid <- benchmark_grid(\n",
    "  task = tsk(\"pima\"),\n",
    "  learner = list(at, lrn(\"classif.rpart\")),\n",
    "  resampling = rsmp(\"cv\", folds = 3)\n",
    ")\n",
    "\n",
    "bmr <- benchmark(grid, store_models = TRUE)\n"
   ]
  },
  {
   "cell_type": "code",
   "execution_count": 46,
   "metadata": {
    "vscode": {
     "languageId": "r"
    }
   },
   "outputs": [
    {
     "data": {
      "text/html": [
       "<table class=\"dataframe\">\n",
       "<caption>A bmr_aggregate: 2 × 8</caption>\n",
       "<thead>\n",
       "\t<tr><th scope=col>nr</th><th scope=col>resample_result</th><th scope=col>task_id</th><th scope=col>learner_id</th><th scope=col>resampling_id</th><th scope=col>iters</th><th scope=col>classif.ce</th><th scope=col>time_train</th></tr>\n",
       "\t<tr><th scope=col>&lt;int&gt;</th><th scope=col>&lt;list&gt;</th><th scope=col>&lt;chr&gt;</th><th scope=col>&lt;chr&gt;</th><th scope=col>&lt;chr&gt;</th><th scope=col>&lt;int&gt;</th><th scope=col>&lt;dbl&gt;</th><th scope=col>&lt;dbl&gt;</th></tr>\n",
       "</thead>\n",
       "<tbody>\n",
       "\t<tr><td>1</td><td>&lt;environment: 0x560bd22d2868&gt;</td><td>pima</td><td>classif.rpart.fselector</td><td>cv</td><td>3</td><td>0.2656250</td><td>0.346000000</td></tr>\n",
       "\t<tr><td>2</td><td>&lt;environment: 0x560bd22b3be0&gt;</td><td>pima</td><td><span style=white-space:pre-wrap>classif.rpart          </span></td><td>cv</td><td>3</td><td>0.2591146</td><td>0.003666667</td></tr>\n",
       "</tbody>\n",
       "</table>\n"
      ],
      "text/latex": [
       "A bmr\\_aggregate: 2 × 8\n",
       "\\begin{tabular}{llllllll}\n",
       " nr & resample\\_result & task\\_id & learner\\_id & resampling\\_id & iters & classif.ce & time\\_train\\\\\n",
       " <int> & <list> & <chr> & <chr> & <chr> & <int> & <dbl> & <dbl>\\\\\n",
       "\\hline\n",
       "\t 1 & <environment: 0x560bd22d2868> & pima & classif.rpart.fselector & cv & 3 & 0.2656250 & 0.346000000\\\\\n",
       "\t 2 & <environment: 0x560bd22b3be0> & pima & classif.rpart           & cv & 3 & 0.2591146 & 0.003666667\\\\\n",
       "\\end{tabular}\n"
      ],
      "text/markdown": [
       "\n",
       "A bmr_aggregate: 2 × 8\n",
       "\n",
       "| nr &lt;int&gt; | resample_result &lt;list&gt; | task_id &lt;chr&gt; | learner_id &lt;chr&gt; | resampling_id &lt;chr&gt; | iters &lt;int&gt; | classif.ce &lt;dbl&gt; | time_train &lt;dbl&gt; |\n",
       "|---|---|---|---|---|---|---|---|\n",
       "| 1 | &lt;environment: 0x560bd22d2868&gt; | pima | classif.rpart.fselector | cv | 3 | 0.2656250 | 0.346000000 |\n",
       "| 2 | &lt;environment: 0x560bd22b3be0&gt; | pima | classif.rpart           | cv | 3 | 0.2591146 | 0.003666667 |\n",
       "\n"
      ],
      "text/plain": [
       "  nr resample_result               task_id learner_id             \n",
       "1 1  <environment: 0x560bd22d2868> pima    classif.rpart.fselector\n",
       "2 2  <environment: 0x560bd22b3be0> pima    classif.rpart          \n",
       "  resampling_id iters classif.ce time_train \n",
       "1 cv            3     0.2656250  0.346000000\n",
       "2 cv            3     0.2591146  0.003666667"
      ]
     },
     "metadata": {},
     "output_type": "display_data"
    }
   ],
   "source": [
    "bmr$aggregate(msrs(c(\"classif.ce\", \"time_train\")))\n"
   ]
  },
  {
   "cell_type": "markdown",
   "metadata": {},
   "source": []
  }
 ],
 "metadata": {
  "kernelspec": {
   "display_name": "R",
   "language": "R",
   "name": "ir"
  },
  "language_info": {
   "codemirror_mode": "r",
   "file_extension": ".r",
   "mimetype": "text/x-r-source",
   "name": "R",
   "pygments_lexer": "r",
   "version": "4.4.1"
  }
 },
 "nbformat": 4,
 "nbformat_minor": 2
}
