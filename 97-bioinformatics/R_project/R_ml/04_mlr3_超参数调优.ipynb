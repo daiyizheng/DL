{
 "cells": [
  {
   "cell_type": "markdown",
   "metadata": {},
   "source": [
    "# mlr3：超参数调优\n",
    "\n",
    "- 模型调优\n",
    "- 调整超参数\n",
    "    - 方法一：通过`tuninginstancesinglecrite`和`tuner`训练模型\n",
    "    - 方法二：通过`autotuner`训练模型\n",
    "    - 超参数设定的方法\n",
    "    - 参数依赖\n",
    "- 嵌套重抽样\n",
    "    - 进行嵌套重抽样\n",
    "    - 评价模型\n",
    "- 把超参数应用于模型\n",
    "    - Hyperband调参\n",
    "- 特征选择\n",
    "    - filters\n",
    "    - 计算分数\n",
    "    - 计算变量重要性\n",
    "    - 组合方法（wrapper methods）\n",
    "    - 自动选择"
   ]
  },
  {
   "cell_type": "markdown",
   "metadata": {},
   "source": [
    "## 模型调优\n",
    "当你对你的模型表现不满意时，你可能希望调高你的模型表现，可通过超参数调整或者尝试一个更加适合你的模型，本篇将介绍这些操作。\n",
    "\n",
    "本章主要包括3个部分的内容：\n",
    "\n",
    "### 超参数调整\n",
    "\n",
    "机器学习模型都有默认的超参数，但是这些超参数不能根据数据自动调整，往往不能得到更好的性能表现。但是手动调整往往也不能获得最佳的表现，mlr3包含自动调参的策略，在此包中实现自动调参，需要指定：搜索空间（search_space），优化算法（调参方法），评估方法（重抽样策略），评价指标。\n",
    "\n",
    "### 特征选择\n",
    "\n",
    "主要是通过`mlr3filter`和`mlr3select`包进行。\n",
    "\n",
    "### 嵌套重抽样"
   ]
  },
  {
   "cell_type": "markdown",
   "metadata": {},
   "source": [
    "## 调整超参数\n",
    "很多人戏称调参的过程就像是\"炼丹\"！确实差不多，而且很多时候你调整后的结果可能还不如默认的结果好！这就好比打游戏，\"一顿操作猛如虎，一看战绩0比5\"！\n",
    "\n",
    "模型调优一定要基于对算法和数据的理解进行，不是随便调的。\n",
    "\n",
    "我们使用著名的糖尿病数据集进行演示，首先创建任务"
   ]
  },
  {
   "cell_type": "code",
   "execution_count": 1,
   "metadata": {
    "vscode": {
     "languageId": "r"
    }
   },
   "outputs": [
    {
     "name": "stderr",
     "output_type": "stream",
     "text": [
      "Loading required package: mlr3\n",
      "\n"
     ]
    },
    {
     "name": "stdout",
     "output_type": "stream",
     "text": [
      "<TaskClassif:pima> (768 x 9): Pima Indian Diabetes\n",
      "* Target: diabetes\n",
      "* Properties: twoclass\n",
      "* Features (8):\n",
      "  - dbl (8): age, glucose, insulin, mass, pedigree, pregnant, pressure,\n",
      "    triceps\n"
     ]
    }
   ],
   "source": [
    "library(mlr3verse)\n",
    "## 载入需要的程辑包：mlr3\n",
    "task <- tsk(\"pima\")\n",
    "print(task)\n"
   ]
  },
  {
   "cell_type": "code",
   "execution_count": 3,
   "metadata": {
    "vscode": {
     "languageId": "r"
    }
   },
   "outputs": [
    {
     "data": {
      "text/html": [
       "<style>\n",
       ".list-inline {list-style: none; margin:0; padding: 0}\n",
       ".list-inline>li {display: inline-block}\n",
       ".list-inline>li:not(:last-child)::after {content: \"\\00b7\"; padding: 0 .5ex}\n",
       "</style>\n",
       "<ol class=list-inline><li>'add_strata'</li><li>'backend'</li><li>'cbind'</li><li>'class_names'</li><li>'clone'</li><li>'col_hashes'</li><li>'col_info'</li><li>'col_roles'</li><li>'data'</li><li>'data_formats'</li><li>'divide'</li><li>'droplevels'</li><li>'extra_args'</li><li>'feature_names'</li><li>'feature_types'</li><li>'filter'</li><li>'format'</li><li>'formula'</li><li>'groups'</li><li>'hash'</li><li>'head'</li><li>'help'</li><li>'id'</li><li>'initialize'</li><li>'internal_valid_task'</li><li>'label'</li><li>'labels'</li><li>'levels'</li><li>'man'</li><li>'missings'</li><li>'mlr3_version'</li><li>'n_features'</li><li>'ncol'</li><li>'negative'</li><li>'nrow'</li><li>'order'</li><li>'positive'</li><li>'print'</li><li>'properties'</li><li>'rbind'</li><li>'rename'</li><li>'row_ids'</li><li>'row_names'</li><li>'row_roles'</li><li>'select'</li><li>'set_col_roles'</li><li>'set_levels'</li><li>'set_row_roles'</li><li>'strata'</li><li>'target_names'</li><li>'task_type'</li><li>'truth'</li><li>'weights'</li></ol>\n"
      ],
      "text/latex": [
       "\\begin{enumerate*}\n",
       "\\item 'add\\_strata'\n",
       "\\item 'backend'\n",
       "\\item 'cbind'\n",
       "\\item 'class\\_names'\n",
       "\\item 'clone'\n",
       "\\item 'col\\_hashes'\n",
       "\\item 'col\\_info'\n",
       "\\item 'col\\_roles'\n",
       "\\item 'data'\n",
       "\\item 'data\\_formats'\n",
       "\\item 'divide'\n",
       "\\item 'droplevels'\n",
       "\\item 'extra\\_args'\n",
       "\\item 'feature\\_names'\n",
       "\\item 'feature\\_types'\n",
       "\\item 'filter'\n",
       "\\item 'format'\n",
       "\\item 'formula'\n",
       "\\item 'groups'\n",
       "\\item 'hash'\n",
       "\\item 'head'\n",
       "\\item 'help'\n",
       "\\item 'id'\n",
       "\\item 'initialize'\n",
       "\\item 'internal\\_valid\\_task'\n",
       "\\item 'label'\n",
       "\\item 'labels'\n",
       "\\item 'levels'\n",
       "\\item 'man'\n",
       "\\item 'missings'\n",
       "\\item 'mlr3\\_version'\n",
       "\\item 'n\\_features'\n",
       "\\item 'ncol'\n",
       "\\item 'negative'\n",
       "\\item 'nrow'\n",
       "\\item 'order'\n",
       "\\item 'positive'\n",
       "\\item 'print'\n",
       "\\item 'properties'\n",
       "\\item 'rbind'\n",
       "\\item 'rename'\n",
       "\\item 'row\\_ids'\n",
       "\\item 'row\\_names'\n",
       "\\item 'row\\_roles'\n",
       "\\item 'select'\n",
       "\\item 'set\\_col\\_roles'\n",
       "\\item 'set\\_levels'\n",
       "\\item 'set\\_row\\_roles'\n",
       "\\item 'strata'\n",
       "\\item 'target\\_names'\n",
       "\\item 'task\\_type'\n",
       "\\item 'truth'\n",
       "\\item 'weights'\n",
       "\\end{enumerate*}\n"
      ],
      "text/markdown": [
       "1. 'add_strata'\n",
       "2. 'backend'\n",
       "3. 'cbind'\n",
       "4. 'class_names'\n",
       "5. 'clone'\n",
       "6. 'col_hashes'\n",
       "7. 'col_info'\n",
       "8. 'col_roles'\n",
       "9. 'data'\n",
       "10. 'data_formats'\n",
       "11. 'divide'\n",
       "12. 'droplevels'\n",
       "13. 'extra_args'\n",
       "14. 'feature_names'\n",
       "15. 'feature_types'\n",
       "16. 'filter'\n",
       "17. 'format'\n",
       "18. 'formula'\n",
       "19. 'groups'\n",
       "20. 'hash'\n",
       "21. 'head'\n",
       "22. 'help'\n",
       "23. 'id'\n",
       "24. 'initialize'\n",
       "25. 'internal_valid_task'\n",
       "26. 'label'\n",
       "27. 'labels'\n",
       "28. 'levels'\n",
       "29. 'man'\n",
       "30. 'missings'\n",
       "31. 'mlr3_version'\n",
       "32. 'n_features'\n",
       "33. 'ncol'\n",
       "34. 'negative'\n",
       "35. 'nrow'\n",
       "36. 'order'\n",
       "37. 'positive'\n",
       "38. 'print'\n",
       "39. 'properties'\n",
       "40. 'rbind'\n",
       "41. 'rename'\n",
       "42. 'row_ids'\n",
       "43. 'row_names'\n",
       "44. 'row_roles'\n",
       "45. 'select'\n",
       "46. 'set_col_roles'\n",
       "47. 'set_levels'\n",
       "48. 'set_row_roles'\n",
       "49. 'strata'\n",
       "50. 'target_names'\n",
       "51. 'task_type'\n",
       "52. 'truth'\n",
       "53. 'weights'\n",
       "\n",
       "\n"
      ],
      "text/plain": [
       " [1] \"add_strata\"          \"backend\"             \"cbind\"              \n",
       " [4] \"class_names\"         \"clone\"               \"col_hashes\"         \n",
       " [7] \"col_info\"            \"col_roles\"           \"data\"               \n",
       "[10] \"data_formats\"        \"divide\"              \"droplevels\"         \n",
       "[13] \"extra_args\"          \"feature_names\"       \"feature_types\"      \n",
       "[16] \"filter\"              \"format\"              \"formula\"            \n",
       "[19] \"groups\"              \"hash\"                \"head\"               \n",
       "[22] \"help\"                \"id\"                  \"initialize\"         \n",
       "[25] \"internal_valid_task\" \"label\"               \"labels\"             \n",
       "[28] \"levels\"              \"man\"                 \"missings\"           \n",
       "[31] \"mlr3_version\"        \"n_features\"          \"ncol\"               \n",
       "[34] \"negative\"            \"nrow\"                \"order\"              \n",
       "[37] \"positive\"            \"print\"               \"properties\"         \n",
       "[40] \"rbind\"               \"rename\"              \"row_ids\"            \n",
       "[43] \"row_names\"           \"row_roles\"           \"select\"             \n",
       "[46] \"set_col_roles\"       \"set_levels\"          \"set_row_roles\"      \n",
       "[49] \"strata\"              \"target_names\"        \"task_type\"          \n",
       "[52] \"truth\"               \"weights\"            "
      ]
     },
     "metadata": {},
     "output_type": "display_data"
    }
   ],
   "source": [
    "ls(task)\n"
   ]
  },
  {
   "cell_type": "code",
   "execution_count": 5,
   "metadata": {
    "vscode": {
     "languageId": "r"
    }
   },
   "outputs": [
    {
     "data": {
      "text/html": [
       "<table class=\"dataframe\">\n",
       "<caption>A data.table: 768 × 9</caption>\n",
       "<thead>\n",
       "\t<tr><th scope=col>diabetes</th><th scope=col>age</th><th scope=col>glucose</th><th scope=col>insulin</th><th scope=col>mass</th><th scope=col>pedigree</th><th scope=col>pregnant</th><th scope=col>pressure</th><th scope=col>triceps</th></tr>\n",
       "\t<tr><th scope=col>&lt;fct&gt;</th><th scope=col>&lt;dbl&gt;</th><th scope=col>&lt;dbl&gt;</th><th scope=col>&lt;dbl&gt;</th><th scope=col>&lt;dbl&gt;</th><th scope=col>&lt;dbl&gt;</th><th scope=col>&lt;dbl&gt;</th><th scope=col>&lt;dbl&gt;</th><th scope=col>&lt;dbl&gt;</th></tr>\n",
       "</thead>\n",
       "<tbody>\n",
       "\t<tr><td>pos</td><td>50</td><td>148</td><td> NA</td><td>33.6</td><td>0.627</td><td> 6</td><td>72</td><td>35</td></tr>\n",
       "\t<tr><td>neg</td><td>31</td><td> 85</td><td> NA</td><td>26.6</td><td>0.351</td><td> 1</td><td>66</td><td>29</td></tr>\n",
       "\t<tr><td>pos</td><td>32</td><td>183</td><td> NA</td><td>23.3</td><td>0.672</td><td> 8</td><td>64</td><td>NA</td></tr>\n",
       "\t<tr><td>neg</td><td>21</td><td> 89</td><td> 94</td><td>28.1</td><td>0.167</td><td> 1</td><td>66</td><td>23</td></tr>\n",
       "\t<tr><td>pos</td><td>33</td><td>137</td><td>168</td><td>43.1</td><td>2.288</td><td> 0</td><td>40</td><td>35</td></tr>\n",
       "\t<tr><td>neg</td><td>30</td><td>116</td><td> NA</td><td>25.6</td><td>0.201</td><td> 5</td><td>74</td><td>NA</td></tr>\n",
       "\t<tr><td>pos</td><td>26</td><td> 78</td><td> 88</td><td>31.0</td><td>0.248</td><td> 3</td><td>50</td><td>32</td></tr>\n",
       "\t<tr><td>neg</td><td>29</td><td>115</td><td> NA</td><td>35.3</td><td>0.134</td><td>10</td><td>NA</td><td>NA</td></tr>\n",
       "\t<tr><td>pos</td><td>53</td><td>197</td><td>543</td><td>30.5</td><td>0.158</td><td> 2</td><td>70</td><td>45</td></tr>\n",
       "\t<tr><td>pos</td><td>54</td><td>125</td><td> NA</td><td>  NA</td><td>0.232</td><td> 8</td><td>96</td><td>NA</td></tr>\n",
       "\t<tr><td>neg</td><td>30</td><td>110</td><td> NA</td><td>37.6</td><td>0.191</td><td> 4</td><td>92</td><td>NA</td></tr>\n",
       "\t<tr><td>pos</td><td>34</td><td>168</td><td> NA</td><td>38.0</td><td>0.537</td><td>10</td><td>74</td><td>NA</td></tr>\n",
       "\t<tr><td>neg</td><td>57</td><td>139</td><td> NA</td><td>27.1</td><td>1.441</td><td>10</td><td>80</td><td>NA</td></tr>\n",
       "\t<tr><td>pos</td><td>59</td><td>189</td><td>846</td><td>30.1</td><td>0.398</td><td> 1</td><td>60</td><td>23</td></tr>\n",
       "\t<tr><td>pos</td><td>51</td><td>166</td><td>175</td><td>25.8</td><td>0.587</td><td> 5</td><td>72</td><td>19</td></tr>\n",
       "\t<tr><td>pos</td><td>32</td><td>100</td><td> NA</td><td>30.0</td><td>0.484</td><td> 7</td><td>NA</td><td>NA</td></tr>\n",
       "\t<tr><td>pos</td><td>31</td><td>118</td><td>230</td><td>45.8</td><td>0.551</td><td> 0</td><td>84</td><td>47</td></tr>\n",
       "\t<tr><td>pos</td><td>31</td><td>107</td><td> NA</td><td>29.6</td><td>0.254</td><td> 7</td><td>74</td><td>NA</td></tr>\n",
       "\t<tr><td>neg</td><td>33</td><td>103</td><td> 83</td><td>43.3</td><td>0.183</td><td> 1</td><td>30</td><td>38</td></tr>\n",
       "\t<tr><td>pos</td><td>32</td><td>115</td><td> 96</td><td>34.6</td><td>0.529</td><td> 1</td><td>70</td><td>30</td></tr>\n",
       "\t<tr><td>neg</td><td>27</td><td>126</td><td>235</td><td>39.3</td><td>0.704</td><td> 3</td><td>88</td><td>41</td></tr>\n",
       "\t<tr><td>neg</td><td>50</td><td> 99</td><td> NA</td><td>35.4</td><td>0.388</td><td> 8</td><td>84</td><td>NA</td></tr>\n",
       "\t<tr><td>pos</td><td>41</td><td>196</td><td> NA</td><td>39.8</td><td>0.451</td><td> 7</td><td>90</td><td>NA</td></tr>\n",
       "\t<tr><td>pos</td><td>29</td><td>119</td><td> NA</td><td>29.0</td><td>0.263</td><td> 9</td><td>80</td><td>35</td></tr>\n",
       "\t<tr><td>pos</td><td>51</td><td>143</td><td>146</td><td>36.6</td><td>0.254</td><td>11</td><td>94</td><td>33</td></tr>\n",
       "\t<tr><td>pos</td><td>41</td><td>125</td><td>115</td><td>31.1</td><td>0.205</td><td>10</td><td>70</td><td>26</td></tr>\n",
       "\t<tr><td>pos</td><td>43</td><td>147</td><td> NA</td><td>39.4</td><td>0.257</td><td> 7</td><td>76</td><td>NA</td></tr>\n",
       "\t<tr><td>neg</td><td>22</td><td> 97</td><td>140</td><td>23.2</td><td>0.487</td><td> 1</td><td>66</td><td>15</td></tr>\n",
       "\t<tr><td>neg</td><td>57</td><td>145</td><td>110</td><td>22.2</td><td>0.245</td><td>13</td><td>82</td><td>19</td></tr>\n",
       "\t<tr><td>neg</td><td>38</td><td>117</td><td> NA</td><td>34.1</td><td>0.337</td><td> 5</td><td>92</td><td>NA</td></tr>\n",
       "\t<tr><td>⋮</td><td>⋮</td><td>⋮</td><td>⋮</td><td>⋮</td><td>⋮</td><td>⋮</td><td>⋮</td><td>⋮</td></tr>\n",
       "\t<tr><td>neg</td><td>21</td><td> 99</td><td>160</td><td>36.6</td><td>0.453</td><td> 2</td><td>60</td><td>17</td></tr>\n",
       "\t<tr><td>pos</td><td>42</td><td>102</td><td> NA</td><td>39.5</td><td>0.293</td><td> 1</td><td>74</td><td>NA</td></tr>\n",
       "\t<tr><td>pos</td><td>48</td><td>120</td><td>150</td><td>42.3</td><td>0.785</td><td>11</td><td>80</td><td>37</td></tr>\n",
       "\t<tr><td>neg</td><td>26</td><td>102</td><td> 94</td><td>30.8</td><td>0.400</td><td> 3</td><td>44</td><td>20</td></tr>\n",
       "\t<tr><td>neg</td><td>22</td><td>109</td><td>116</td><td>28.5</td><td>0.219</td><td> 1</td><td>58</td><td>18</td></tr>\n",
       "\t<tr><td>pos</td><td>45</td><td>140</td><td> NA</td><td>32.7</td><td>0.734</td><td> 9</td><td>94</td><td>NA</td></tr>\n",
       "\t<tr><td>neg</td><td>39</td><td>153</td><td>140</td><td>40.6</td><td>1.174</td><td>13</td><td>88</td><td>37</td></tr>\n",
       "\t<tr><td>neg</td><td>46</td><td>100</td><td>105</td><td>30.0</td><td>0.488</td><td>12</td><td>84</td><td>33</td></tr>\n",
       "\t<tr><td>pos</td><td>27</td><td>147</td><td> NA</td><td>49.3</td><td>0.358</td><td> 1</td><td>94</td><td>41</td></tr>\n",
       "\t<tr><td>neg</td><td>32</td><td> 81</td><td> 57</td><td>46.3</td><td>1.096</td><td> 1</td><td>74</td><td>41</td></tr>\n",
       "\t<tr><td>pos</td><td>36</td><td>187</td><td>200</td><td>36.4</td><td>0.408</td><td> 3</td><td>70</td><td>22</td></tr>\n",
       "\t<tr><td>pos</td><td>50</td><td>162</td><td> NA</td><td>24.3</td><td>0.178</td><td> 6</td><td>62</td><td>NA</td></tr>\n",
       "\t<tr><td>pos</td><td>22</td><td>136</td><td> NA</td><td>31.2</td><td>1.182</td><td> 4</td><td>70</td><td>NA</td></tr>\n",
       "\t<tr><td>neg</td><td>28</td><td>121</td><td> 74</td><td>39.0</td><td>0.261</td><td> 1</td><td>78</td><td>39</td></tr>\n",
       "\t<tr><td>neg</td><td>25</td><td>108</td><td> NA</td><td>26.0</td><td>0.223</td><td> 3</td><td>62</td><td>24</td></tr>\n",
       "\t<tr><td>pos</td><td>26</td><td>181</td><td>510</td><td>43.3</td><td>0.222</td><td> 0</td><td>88</td><td>44</td></tr>\n",
       "\t<tr><td>pos</td><td>45</td><td>154</td><td> NA</td><td>32.4</td><td>0.443</td><td> 8</td><td>78</td><td>32</td></tr>\n",
       "\t<tr><td>pos</td><td>37</td><td>128</td><td>110</td><td>36.5</td><td>1.057</td><td> 1</td><td>88</td><td>39</td></tr>\n",
       "\t<tr><td>neg</td><td>39</td><td>137</td><td> NA</td><td>32.0</td><td>0.391</td><td> 7</td><td>90</td><td>41</td></tr>\n",
       "\t<tr><td>pos</td><td>52</td><td>123</td><td> NA</td><td>36.3</td><td>0.258</td><td> 0</td><td>72</td><td>NA</td></tr>\n",
       "\t<tr><td>neg</td><td>26</td><td>106</td><td> NA</td><td>37.5</td><td>0.197</td><td> 1</td><td>76</td><td>NA</td></tr>\n",
       "\t<tr><td>pos</td><td>66</td><td>190</td><td> NA</td><td>35.5</td><td>0.278</td><td> 6</td><td>92</td><td>NA</td></tr>\n",
       "\t<tr><td>neg</td><td>22</td><td> 88</td><td> 16</td><td>28.4</td><td>0.766</td><td> 2</td><td>58</td><td>26</td></tr>\n",
       "\t<tr><td>pos</td><td>43</td><td>170</td><td> NA</td><td>44.0</td><td>0.403</td><td> 9</td><td>74</td><td>31</td></tr>\n",
       "\t<tr><td>neg</td><td>33</td><td> 89</td><td> NA</td><td>22.5</td><td>0.142</td><td> 9</td><td>62</td><td>NA</td></tr>\n",
       "\t<tr><td>neg</td><td>63</td><td>101</td><td>180</td><td>32.9</td><td>0.171</td><td>10</td><td>76</td><td>48</td></tr>\n",
       "\t<tr><td>neg</td><td>27</td><td>122</td><td> NA</td><td>36.8</td><td>0.340</td><td> 2</td><td>70</td><td>27</td></tr>\n",
       "\t<tr><td>neg</td><td>30</td><td>121</td><td>112</td><td>26.2</td><td>0.245</td><td> 5</td><td>72</td><td>23</td></tr>\n",
       "\t<tr><td>pos</td><td>47</td><td>126</td><td> NA</td><td>30.1</td><td>0.349</td><td> 1</td><td>60</td><td>NA</td></tr>\n",
       "\t<tr><td>neg</td><td>23</td><td> 93</td><td> NA</td><td>30.4</td><td>0.315</td><td> 1</td><td>70</td><td>31</td></tr>\n",
       "</tbody>\n",
       "</table>\n"
      ],
      "text/latex": [
       "A data.table: 768 × 9\n",
       "\\begin{tabular}{lllllllll}\n",
       " diabetes & age & glucose & insulin & mass & pedigree & pregnant & pressure & triceps\\\\\n",
       " <fct> & <dbl> & <dbl> & <dbl> & <dbl> & <dbl> & <dbl> & <dbl> & <dbl>\\\\\n",
       "\\hline\n",
       "\t pos & 50 & 148 &  NA & 33.6 & 0.627 &  6 & 72 & 35\\\\\n",
       "\t neg & 31 &  85 &  NA & 26.6 & 0.351 &  1 & 66 & 29\\\\\n",
       "\t pos & 32 & 183 &  NA & 23.3 & 0.672 &  8 & 64 & NA\\\\\n",
       "\t neg & 21 &  89 &  94 & 28.1 & 0.167 &  1 & 66 & 23\\\\\n",
       "\t pos & 33 & 137 & 168 & 43.1 & 2.288 &  0 & 40 & 35\\\\\n",
       "\t neg & 30 & 116 &  NA & 25.6 & 0.201 &  5 & 74 & NA\\\\\n",
       "\t pos & 26 &  78 &  88 & 31.0 & 0.248 &  3 & 50 & 32\\\\\n",
       "\t neg & 29 & 115 &  NA & 35.3 & 0.134 & 10 & NA & NA\\\\\n",
       "\t pos & 53 & 197 & 543 & 30.5 & 0.158 &  2 & 70 & 45\\\\\n",
       "\t pos & 54 & 125 &  NA &   NA & 0.232 &  8 & 96 & NA\\\\\n",
       "\t neg & 30 & 110 &  NA & 37.6 & 0.191 &  4 & 92 & NA\\\\\n",
       "\t pos & 34 & 168 &  NA & 38.0 & 0.537 & 10 & 74 & NA\\\\\n",
       "\t neg & 57 & 139 &  NA & 27.1 & 1.441 & 10 & 80 & NA\\\\\n",
       "\t pos & 59 & 189 & 846 & 30.1 & 0.398 &  1 & 60 & 23\\\\\n",
       "\t pos & 51 & 166 & 175 & 25.8 & 0.587 &  5 & 72 & 19\\\\\n",
       "\t pos & 32 & 100 &  NA & 30.0 & 0.484 &  7 & NA & NA\\\\\n",
       "\t pos & 31 & 118 & 230 & 45.8 & 0.551 &  0 & 84 & 47\\\\\n",
       "\t pos & 31 & 107 &  NA & 29.6 & 0.254 &  7 & 74 & NA\\\\\n",
       "\t neg & 33 & 103 &  83 & 43.3 & 0.183 &  1 & 30 & 38\\\\\n",
       "\t pos & 32 & 115 &  96 & 34.6 & 0.529 &  1 & 70 & 30\\\\\n",
       "\t neg & 27 & 126 & 235 & 39.3 & 0.704 &  3 & 88 & 41\\\\\n",
       "\t neg & 50 &  99 &  NA & 35.4 & 0.388 &  8 & 84 & NA\\\\\n",
       "\t pos & 41 & 196 &  NA & 39.8 & 0.451 &  7 & 90 & NA\\\\\n",
       "\t pos & 29 & 119 &  NA & 29.0 & 0.263 &  9 & 80 & 35\\\\\n",
       "\t pos & 51 & 143 & 146 & 36.6 & 0.254 & 11 & 94 & 33\\\\\n",
       "\t pos & 41 & 125 & 115 & 31.1 & 0.205 & 10 & 70 & 26\\\\\n",
       "\t pos & 43 & 147 &  NA & 39.4 & 0.257 &  7 & 76 & NA\\\\\n",
       "\t neg & 22 &  97 & 140 & 23.2 & 0.487 &  1 & 66 & 15\\\\\n",
       "\t neg & 57 & 145 & 110 & 22.2 & 0.245 & 13 & 82 & 19\\\\\n",
       "\t neg & 38 & 117 &  NA & 34.1 & 0.337 &  5 & 92 & NA\\\\\n",
       "\t ⋮ & ⋮ & ⋮ & ⋮ & ⋮ & ⋮ & ⋮ & ⋮ & ⋮\\\\\n",
       "\t neg & 21 &  99 & 160 & 36.6 & 0.453 &  2 & 60 & 17\\\\\n",
       "\t pos & 42 & 102 &  NA & 39.5 & 0.293 &  1 & 74 & NA\\\\\n",
       "\t pos & 48 & 120 & 150 & 42.3 & 0.785 & 11 & 80 & 37\\\\\n",
       "\t neg & 26 & 102 &  94 & 30.8 & 0.400 &  3 & 44 & 20\\\\\n",
       "\t neg & 22 & 109 & 116 & 28.5 & 0.219 &  1 & 58 & 18\\\\\n",
       "\t pos & 45 & 140 &  NA & 32.7 & 0.734 &  9 & 94 & NA\\\\\n",
       "\t neg & 39 & 153 & 140 & 40.6 & 1.174 & 13 & 88 & 37\\\\\n",
       "\t neg & 46 & 100 & 105 & 30.0 & 0.488 & 12 & 84 & 33\\\\\n",
       "\t pos & 27 & 147 &  NA & 49.3 & 0.358 &  1 & 94 & 41\\\\\n",
       "\t neg & 32 &  81 &  57 & 46.3 & 1.096 &  1 & 74 & 41\\\\\n",
       "\t pos & 36 & 187 & 200 & 36.4 & 0.408 &  3 & 70 & 22\\\\\n",
       "\t pos & 50 & 162 &  NA & 24.3 & 0.178 &  6 & 62 & NA\\\\\n",
       "\t pos & 22 & 136 &  NA & 31.2 & 1.182 &  4 & 70 & NA\\\\\n",
       "\t neg & 28 & 121 &  74 & 39.0 & 0.261 &  1 & 78 & 39\\\\\n",
       "\t neg & 25 & 108 &  NA & 26.0 & 0.223 &  3 & 62 & 24\\\\\n",
       "\t pos & 26 & 181 & 510 & 43.3 & 0.222 &  0 & 88 & 44\\\\\n",
       "\t pos & 45 & 154 &  NA & 32.4 & 0.443 &  8 & 78 & 32\\\\\n",
       "\t pos & 37 & 128 & 110 & 36.5 & 1.057 &  1 & 88 & 39\\\\\n",
       "\t neg & 39 & 137 &  NA & 32.0 & 0.391 &  7 & 90 & 41\\\\\n",
       "\t pos & 52 & 123 &  NA & 36.3 & 0.258 &  0 & 72 & NA\\\\\n",
       "\t neg & 26 & 106 &  NA & 37.5 & 0.197 &  1 & 76 & NA\\\\\n",
       "\t pos & 66 & 190 &  NA & 35.5 & 0.278 &  6 & 92 & NA\\\\\n",
       "\t neg & 22 &  88 &  16 & 28.4 & 0.766 &  2 & 58 & 26\\\\\n",
       "\t pos & 43 & 170 &  NA & 44.0 & 0.403 &  9 & 74 & 31\\\\\n",
       "\t neg & 33 &  89 &  NA & 22.5 & 0.142 &  9 & 62 & NA\\\\\n",
       "\t neg & 63 & 101 & 180 & 32.9 & 0.171 & 10 & 76 & 48\\\\\n",
       "\t neg & 27 & 122 &  NA & 36.8 & 0.340 &  2 & 70 & 27\\\\\n",
       "\t neg & 30 & 121 & 112 & 26.2 & 0.245 &  5 & 72 & 23\\\\\n",
       "\t pos & 47 & 126 &  NA & 30.1 & 0.349 &  1 & 60 & NA\\\\\n",
       "\t neg & 23 &  93 &  NA & 30.4 & 0.315 &  1 & 70 & 31\\\\\n",
       "\\end{tabular}\n"
      ],
      "text/markdown": [
       "\n",
       "A data.table: 768 × 9\n",
       "\n",
       "| diabetes &lt;fct&gt; | age &lt;dbl&gt; | glucose &lt;dbl&gt; | insulin &lt;dbl&gt; | mass &lt;dbl&gt; | pedigree &lt;dbl&gt; | pregnant &lt;dbl&gt; | pressure &lt;dbl&gt; | triceps &lt;dbl&gt; |\n",
       "|---|---|---|---|---|---|---|---|---|\n",
       "| pos | 50 | 148 |  NA | 33.6 | 0.627 |  6 | 72 | 35 |\n",
       "| neg | 31 |  85 |  NA | 26.6 | 0.351 |  1 | 66 | 29 |\n",
       "| pos | 32 | 183 |  NA | 23.3 | 0.672 |  8 | 64 | NA |\n",
       "| neg | 21 |  89 |  94 | 28.1 | 0.167 |  1 | 66 | 23 |\n",
       "| pos | 33 | 137 | 168 | 43.1 | 2.288 |  0 | 40 | 35 |\n",
       "| neg | 30 | 116 |  NA | 25.6 | 0.201 |  5 | 74 | NA |\n",
       "| pos | 26 |  78 |  88 | 31.0 | 0.248 |  3 | 50 | 32 |\n",
       "| neg | 29 | 115 |  NA | 35.3 | 0.134 | 10 | NA | NA |\n",
       "| pos | 53 | 197 | 543 | 30.5 | 0.158 |  2 | 70 | 45 |\n",
       "| pos | 54 | 125 |  NA |   NA | 0.232 |  8 | 96 | NA |\n",
       "| neg | 30 | 110 |  NA | 37.6 | 0.191 |  4 | 92 | NA |\n",
       "| pos | 34 | 168 |  NA | 38.0 | 0.537 | 10 | 74 | NA |\n",
       "| neg | 57 | 139 |  NA | 27.1 | 1.441 | 10 | 80 | NA |\n",
       "| pos | 59 | 189 | 846 | 30.1 | 0.398 |  1 | 60 | 23 |\n",
       "| pos | 51 | 166 | 175 | 25.8 | 0.587 |  5 | 72 | 19 |\n",
       "| pos | 32 | 100 |  NA | 30.0 | 0.484 |  7 | NA | NA |\n",
       "| pos | 31 | 118 | 230 | 45.8 | 0.551 |  0 | 84 | 47 |\n",
       "| pos | 31 | 107 |  NA | 29.6 | 0.254 |  7 | 74 | NA |\n",
       "| neg | 33 | 103 |  83 | 43.3 | 0.183 |  1 | 30 | 38 |\n",
       "| pos | 32 | 115 |  96 | 34.6 | 0.529 |  1 | 70 | 30 |\n",
       "| neg | 27 | 126 | 235 | 39.3 | 0.704 |  3 | 88 | 41 |\n",
       "| neg | 50 |  99 |  NA | 35.4 | 0.388 |  8 | 84 | NA |\n",
       "| pos | 41 | 196 |  NA | 39.8 | 0.451 |  7 | 90 | NA |\n",
       "| pos | 29 | 119 |  NA | 29.0 | 0.263 |  9 | 80 | 35 |\n",
       "| pos | 51 | 143 | 146 | 36.6 | 0.254 | 11 | 94 | 33 |\n",
       "| pos | 41 | 125 | 115 | 31.1 | 0.205 | 10 | 70 | 26 |\n",
       "| pos | 43 | 147 |  NA | 39.4 | 0.257 |  7 | 76 | NA |\n",
       "| neg | 22 |  97 | 140 | 23.2 | 0.487 |  1 | 66 | 15 |\n",
       "| neg | 57 | 145 | 110 | 22.2 | 0.245 | 13 | 82 | 19 |\n",
       "| neg | 38 | 117 |  NA | 34.1 | 0.337 |  5 | 92 | NA |\n",
       "| ⋮ | ⋮ | ⋮ | ⋮ | ⋮ | ⋮ | ⋮ | ⋮ | ⋮ |\n",
       "| neg | 21 |  99 | 160 | 36.6 | 0.453 |  2 | 60 | 17 |\n",
       "| pos | 42 | 102 |  NA | 39.5 | 0.293 |  1 | 74 | NA |\n",
       "| pos | 48 | 120 | 150 | 42.3 | 0.785 | 11 | 80 | 37 |\n",
       "| neg | 26 | 102 |  94 | 30.8 | 0.400 |  3 | 44 | 20 |\n",
       "| neg | 22 | 109 | 116 | 28.5 | 0.219 |  1 | 58 | 18 |\n",
       "| pos | 45 | 140 |  NA | 32.7 | 0.734 |  9 | 94 | NA |\n",
       "| neg | 39 | 153 | 140 | 40.6 | 1.174 | 13 | 88 | 37 |\n",
       "| neg | 46 | 100 | 105 | 30.0 | 0.488 | 12 | 84 | 33 |\n",
       "| pos | 27 | 147 |  NA | 49.3 | 0.358 |  1 | 94 | 41 |\n",
       "| neg | 32 |  81 |  57 | 46.3 | 1.096 |  1 | 74 | 41 |\n",
       "| pos | 36 | 187 | 200 | 36.4 | 0.408 |  3 | 70 | 22 |\n",
       "| pos | 50 | 162 |  NA | 24.3 | 0.178 |  6 | 62 | NA |\n",
       "| pos | 22 | 136 |  NA | 31.2 | 1.182 |  4 | 70 | NA |\n",
       "| neg | 28 | 121 |  74 | 39.0 | 0.261 |  1 | 78 | 39 |\n",
       "| neg | 25 | 108 |  NA | 26.0 | 0.223 |  3 | 62 | 24 |\n",
       "| pos | 26 | 181 | 510 | 43.3 | 0.222 |  0 | 88 | 44 |\n",
       "| pos | 45 | 154 |  NA | 32.4 | 0.443 |  8 | 78 | 32 |\n",
       "| pos | 37 | 128 | 110 | 36.5 | 1.057 |  1 | 88 | 39 |\n",
       "| neg | 39 | 137 |  NA | 32.0 | 0.391 |  7 | 90 | 41 |\n",
       "| pos | 52 | 123 |  NA | 36.3 | 0.258 |  0 | 72 | NA |\n",
       "| neg | 26 | 106 |  NA | 37.5 | 0.197 |  1 | 76 | NA |\n",
       "| pos | 66 | 190 |  NA | 35.5 | 0.278 |  6 | 92 | NA |\n",
       "| neg | 22 |  88 |  16 | 28.4 | 0.766 |  2 | 58 | 26 |\n",
       "| pos | 43 | 170 |  NA | 44.0 | 0.403 |  9 | 74 | 31 |\n",
       "| neg | 33 |  89 |  NA | 22.5 | 0.142 |  9 | 62 | NA |\n",
       "| neg | 63 | 101 | 180 | 32.9 | 0.171 | 10 | 76 | 48 |\n",
       "| neg | 27 | 122 |  NA | 36.8 | 0.340 |  2 | 70 | 27 |\n",
       "| neg | 30 | 121 | 112 | 26.2 | 0.245 |  5 | 72 | 23 |\n",
       "| pos | 47 | 126 |  NA | 30.1 | 0.349 |  1 | 60 | NA |\n",
       "| neg | 23 |  93 |  NA | 30.4 | 0.315 |  1 | 70 | 31 |\n",
       "\n"
      ],
      "text/plain": [
       "    diabetes age glucose insulin mass pedigree pregnant pressure triceps\n",
       "1   pos      50  148      NA     33.6 0.627     6       72       35     \n",
       "2   neg      31   85      NA     26.6 0.351     1       66       29     \n",
       "3   pos      32  183      NA     23.3 0.672     8       64       NA     \n",
       "4   neg      21   89      94     28.1 0.167     1       66       23     \n",
       "5   pos      33  137     168     43.1 2.288     0       40       35     \n",
       "6   neg      30  116      NA     25.6 0.201     5       74       NA     \n",
       "7   pos      26   78      88     31.0 0.248     3       50       32     \n",
       "8   neg      29  115      NA     35.3 0.134    10       NA       NA     \n",
       "9   pos      53  197     543     30.5 0.158     2       70       45     \n",
       "10  pos      54  125      NA       NA 0.232     8       96       NA     \n",
       "11  neg      30  110      NA     37.6 0.191     4       92       NA     \n",
       "12  pos      34  168      NA     38.0 0.537    10       74       NA     \n",
       "13  neg      57  139      NA     27.1 1.441    10       80       NA     \n",
       "14  pos      59  189     846     30.1 0.398     1       60       23     \n",
       "15  pos      51  166     175     25.8 0.587     5       72       19     \n",
       "16  pos      32  100      NA     30.0 0.484     7       NA       NA     \n",
       "17  pos      31  118     230     45.8 0.551     0       84       47     \n",
       "18  pos      31  107      NA     29.6 0.254     7       74       NA     \n",
       "19  neg      33  103      83     43.3 0.183     1       30       38     \n",
       "20  pos      32  115      96     34.6 0.529     1       70       30     \n",
       "21  neg      27  126     235     39.3 0.704     3       88       41     \n",
       "22  neg      50   99      NA     35.4 0.388     8       84       NA     \n",
       "23  pos      41  196      NA     39.8 0.451     7       90       NA     \n",
       "24  pos      29  119      NA     29.0 0.263     9       80       35     \n",
       "25  pos      51  143     146     36.6 0.254    11       94       33     \n",
       "26  pos      41  125     115     31.1 0.205    10       70       26     \n",
       "27  pos      43  147      NA     39.4 0.257     7       76       NA     \n",
       "28  neg      22   97     140     23.2 0.487     1       66       15     \n",
       "29  neg      57  145     110     22.2 0.245    13       82       19     \n",
       "30  neg      38  117      NA     34.1 0.337     5       92       NA     \n",
       "⋮   ⋮        ⋮   ⋮       ⋮       ⋮    ⋮        ⋮        ⋮        ⋮      \n",
       "739 neg      21   99     160     36.6 0.453     2       60       17     \n",
       "740 pos      42  102      NA     39.5 0.293     1       74       NA     \n",
       "741 pos      48  120     150     42.3 0.785    11       80       37     \n",
       "742 neg      26  102      94     30.8 0.400     3       44       20     \n",
       "743 neg      22  109     116     28.5 0.219     1       58       18     \n",
       "744 pos      45  140      NA     32.7 0.734     9       94       NA     \n",
       "745 neg      39  153     140     40.6 1.174    13       88       37     \n",
       "746 neg      46  100     105     30.0 0.488    12       84       33     \n",
       "747 pos      27  147      NA     49.3 0.358     1       94       41     \n",
       "748 neg      32   81      57     46.3 1.096     1       74       41     \n",
       "749 pos      36  187     200     36.4 0.408     3       70       22     \n",
       "750 pos      50  162      NA     24.3 0.178     6       62       NA     \n",
       "751 pos      22  136      NA     31.2 1.182     4       70       NA     \n",
       "752 neg      28  121      74     39.0 0.261     1       78       39     \n",
       "753 neg      25  108      NA     26.0 0.223     3       62       24     \n",
       "754 pos      26  181     510     43.3 0.222     0       88       44     \n",
       "755 pos      45  154      NA     32.4 0.443     8       78       32     \n",
       "756 pos      37  128     110     36.5 1.057     1       88       39     \n",
       "757 neg      39  137      NA     32.0 0.391     7       90       41     \n",
       "758 pos      52  123      NA     36.3 0.258     0       72       NA     \n",
       "759 neg      26  106      NA     37.5 0.197     1       76       NA     \n",
       "760 pos      66  190      NA     35.5 0.278     6       92       NA     \n",
       "761 neg      22   88      16     28.4 0.766     2       58       26     \n",
       "762 pos      43  170      NA     44.0 0.403     9       74       31     \n",
       "763 neg      33   89      NA     22.5 0.142     9       62       NA     \n",
       "764 neg      63  101     180     32.9 0.171    10       76       48     \n",
       "765 neg      27  122      NA     36.8 0.340     2       70       27     \n",
       "766 neg      30  121     112     26.2 0.245     5       72       23     \n",
       "767 pos      47  126      NA     30.1 0.349     1       60       NA     \n",
       "768 neg      23   93      NA     30.4 0.315     1       70       31     "
      ]
     },
     "metadata": {},
     "output_type": "display_data"
    }
   ],
   "source": [
    "task$data()\n"
   ]
  },
  {
   "cell_type": "markdown",
   "metadata": {},
   "source": [
    "## 选择算法,查看算法支持的超参数"
   ]
  },
  {
   "cell_type": "code",
   "execution_count": 6,
   "metadata": {
    "vscode": {
     "languageId": "r"
    }
   },
   "outputs": [
    {
     "data": {
      "text/plain": [
       "<ParamSet(10)>\n",
       "                id    class lower upper nlevels        default  value\n",
       "            <char>   <char> <num> <num>   <num>         <list> <list>\n",
       " 1:             cp ParamDbl     0     1     Inf           0.01       \n",
       " 2:     keep_model ParamLgl    NA    NA       2          FALSE       \n",
       " 3:     maxcompete ParamInt     0   Inf     Inf              4       \n",
       " 4:       maxdepth ParamInt     1    30      30             30       \n",
       " 5:   maxsurrogate ParamInt     0   Inf     Inf              5       \n",
       " 6:      minbucket ParamInt     1   Inf     Inf <NoDefault[0]>       \n",
       " 7:       minsplit ParamInt     1   Inf     Inf             20       \n",
       " 8: surrogatestyle ParamInt     0     1       2              0       \n",
       " 9:   usesurrogate ParamInt     0     2       3              2       \n",
       "10:           xval ParamInt     0   Inf     Inf             10      0"
      ]
     },
     "metadata": {},
     "output_type": "display_data"
    }
   ],
   "source": [
    "learner <- lrn(\"classif.rpart\")\n",
    "learner$param_set\n"
   ]
  },
  {
   "cell_type": "markdown",
   "metadata": {},
   "source": [
    "在这里我们选择调整复杂度参数`cp`和最小分支参数`minsplit`，并设定超参数的调整范围："
   ]
  },
  {
   "cell_type": "code",
   "execution_count": 7,
   "metadata": {
    "vscode": {
     "languageId": "r"
    }
   },
   "outputs": [
    {
     "data": {
      "text/plain": [
       "<ParamSet(2)>\n",
       "         id    class lower upper nlevels        default  value\n",
       "     <char>   <char> <num> <num>   <num>         <list> <list>\n",
       "1:       cp ParamDbl 0.001   0.1     Inf <NoDefault[0]>       \n",
       "2: minsplit ParamInt 1.000  10.0      10 <NoDefault[0]>       "
      ]
     },
     "metadata": {},
     "output_type": "display_data"
    }
   ],
   "source": [
    "search_space <- ps(\n",
    "  cp = p_dbl(lower = 0.001, upper = 0.1),\n",
    "  minsplit = p_int(lower = 1, upper = 10)\n",
    ")\n",
    "search_space\n"
   ]
  },
  {
   "cell_type": "markdown",
   "metadata": {},
   "source": [
    "## 然后选择重抽样方法和性能指标"
   ]
  },
  {
   "cell_type": "code",
   "execution_count": 8,
   "metadata": {
    "vscode": {
     "languageId": "r"
    }
   },
   "outputs": [],
   "source": [
    "hout <- rsmp(\"holdout\", ratio = 0.7)\n",
    "measure <- msr(\"classif.ce\")\n"
   ]
  },
  {
   "cell_type": "markdown",
   "metadata": {},
   "source": [
    "接下来进行调参有两种方法。"
   ]
  },
  {
   "cell_type": "markdown",
   "metadata": {},
   "source": [
    "### 方法一：通过tuninginstancesinglecrite和tuner训练模型"
   ]
  },
  {
   "cell_type": "code",
   "execution_count": 9,
   "metadata": {
    "vscode": {
     "languageId": "r"
    }
   },
   "outputs": [
    {
     "name": "stderr",
     "output_type": "stream",
     "text": [
      "Loading required package: paradox\n",
      "\n"
     ]
    }
   ],
   "source": [
    "library(mlr3tuning)\n"
   ]
  },
  {
   "cell_type": "code",
   "execution_count": 10,
   "metadata": {
    "vscode": {
     "languageId": "r"
    }
   },
   "outputs": [],
   "source": [
    "evals20 <- trm(\"evals\", n_evals = 20) # 设定何时停止训练\n"
   ]
  },
  {
   "cell_type": "code",
   "execution_count": 15,
   "metadata": {
    "vscode": {
     "languageId": "r"
    }
   },
   "outputs": [
    {
     "data": {
      "text/html": [
       "<style>\n",
       ".list-inline {list-style: none; margin:0; padding: 0}\n",
       ".list-inline>li {display: inline-block}\n",
       ".list-inline>li:not(:last-child)::after {content: \"\\00b7\"; padding: 0 .5ex}\n",
       "</style>\n",
       "<ol class=list-inline><li>'TerminatorEvals'</li><li>'Terminator'</li><li>'R6'</li></ol>\n"
      ],
      "text/latex": [
       "\\begin{enumerate*}\n",
       "\\item 'TerminatorEvals'\n",
       "\\item 'Terminator'\n",
       "\\item 'R6'\n",
       "\\end{enumerate*}\n"
      ],
      "text/markdown": [
       "1. 'TerminatorEvals'\n",
       "2. 'Terminator'\n",
       "3. 'R6'\n",
       "\n",
       "\n"
      ],
      "text/plain": [
       "[1] \"TerminatorEvals\" \"Terminator\"      \"R6\"             "
      ]
     },
     "metadata": {},
     "output_type": "display_data"
    }
   ],
   "source": [
    "class(evals20)\n"
   ]
  },
  {
   "cell_type": "code",
   "execution_count": 17,
   "metadata": {
    "vscode": {
     "languageId": "r"
    }
   },
   "outputs": [
    {
     "data": {
      "text/html": [
       "<style>\n",
       ".list-inline {list-style: none; margin:0; padding: 0}\n",
       ".list-inline>li {display: inline-block}\n",
       ".list-inline>li:not(:last-child)::after {content: \"\\00b7\"; padding: 0 .5ex}\n",
       "</style>\n",
       "<ol class=list-inline><li>'clone'</li><li>'format'</li><li>'id'</li><li>'initialize'</li><li>'is_terminated'</li><li>'label'</li><li>'man'</li><li>'param_set'</li><li>'print'</li><li>'properties'</li><li>'remaining_time'</li><li>'status'</li><li>'unit'</li></ol>\n"
      ],
      "text/latex": [
       "\\begin{enumerate*}\n",
       "\\item 'clone'\n",
       "\\item 'format'\n",
       "\\item 'id'\n",
       "\\item 'initialize'\n",
       "\\item 'is\\_terminated'\n",
       "\\item 'label'\n",
       "\\item 'man'\n",
       "\\item 'param\\_set'\n",
       "\\item 'print'\n",
       "\\item 'properties'\n",
       "\\item 'remaining\\_time'\n",
       "\\item 'status'\n",
       "\\item 'unit'\n",
       "\\end{enumerate*}\n"
      ],
      "text/markdown": [
       "1. 'clone'\n",
       "2. 'format'\n",
       "3. 'id'\n",
       "4. 'initialize'\n",
       "5. 'is_terminated'\n",
       "6. 'label'\n",
       "7. 'man'\n",
       "8. 'param_set'\n",
       "9. 'print'\n",
       "10. 'properties'\n",
       "11. 'remaining_time'\n",
       "12. 'status'\n",
       "13. 'unit'\n",
       "\n",
       "\n"
      ],
      "text/plain": [
       " [1] \"clone\"          \"format\"         \"id\"             \"initialize\"    \n",
       " [5] \"is_terminated\"  \"label\"          \"man\"            \"param_set\"     \n",
       " [9] \"print\"          \"properties\"     \"remaining_time\" \"status\"        \n",
       "[13] \"unit\"          "
      ]
     },
     "metadata": {},
     "output_type": "display_data"
    }
   ],
   "source": [
    "ls(evals20)\n"
   ]
  },
  {
   "cell_type": "code",
   "execution_count": 24,
   "metadata": {
    "vscode": {
     "languageId": "r"
    }
   },
   "outputs": [
    {
     "data": {
      "text/plain": [
       "<ParamSet(2)>\n",
       "        id    class lower upper nlevels        default  value\n",
       "    <char>   <char> <int> <num>   <num>         <list> <list>\n",
       "1: n_evals ParamInt     0   Inf     Inf <NoDefault[0]>     20\n",
       "2:       k ParamInt     0   Inf     Inf <NoDefault[0]>      0"
      ]
     },
     "metadata": {},
     "output_type": "display_data"
    }
   ],
   "source": [
    "evals20$param_set\n"
   ]
  },
  {
   "cell_type": "code",
   "execution_count": 25,
   "metadata": {
    "vscode": {
     "languageId": "r"
    }
   },
   "outputs": [
    {
     "name": "stderr",
     "output_type": "stream",
     "text": [
      "TuningInstanceSingleCrit is deprecated. Use TuningInstanceBatchSingleCrit instead.\n",
      "\n"
     ]
    }
   ],
   "source": [
    "# 统一放入instance中\n",
    "instance <- TuningInstanceSingleCrit$new(\n",
    "    task = task,\n",
    "    learner = learner,\n",
    "    resampling = hout,\n",
    "    measure = measure,\n",
    "    terminator = evals20,\n",
    "    search_space = search_space\n",
    ")\n"
   ]
  },
  {
   "cell_type": "code",
   "execution_count": 26,
   "metadata": {
    "vscode": {
     "languageId": "r"
    }
   },
   "outputs": [
    {
     "data": {
      "text/plain": [
       "<TuningInstanceSingleCrit>\n",
       "* State:  Not optimized\n",
       "* Objective: <ObjectiveTuningBatch:classif.rpart_on_pima>\n",
       "* Search Space:\n",
       "         id    class lower upper nlevels\n",
       "     <char>   <char> <num> <num>   <num>\n",
       "1:       cp ParamDbl 0.001   0.1     Inf\n",
       "2: minsplit ParamInt 1.000  10.0      10\n",
       "* Terminator: <TerminatorEvals>"
      ]
     },
     "metadata": {},
     "output_type": "display_data"
    }
   ],
   "source": [
    "instance\n"
   ]
  },
  {
   "cell_type": "code",
   "execution_count": 27,
   "metadata": {
    "vscode": {
     "languageId": "r"
    }
   },
   "outputs": [
    {
     "data": {
      "text/html": [
       "<style>\n",
       ".list-inline {list-style: none; margin:0; padding: 0}\n",
       ".list-inline>li {display: inline-block}\n",
       ".list-inline>li:not(:last-child)::after {content: \"\\00b7\"; padding: 0 .5ex}\n",
       "</style>\n",
       "<ol class=list-inline><li>'archive'</li><li>'assign_result'</li><li>'clear'</li><li>'clone'</li><li>'eval_batch'</li><li>'format'</li><li>'initialize'</li><li>'internal_search_space'</li><li>'is_terminated'</li><li>'label'</li><li>'man'</li><li>'objective'</li><li>'objective_function'</li><li>'objective_multiplicator'</li><li>'print'</li><li>'progressor'</li><li>'result'</li><li>'result_learner_param_vals'</li><li>'result_x_domain'</li><li>'result_x_search_space'</li><li>'result_y'</li><li>'search_space'</li><li>'terminator'</li></ol>\n"
      ],
      "text/latex": [
       "\\begin{enumerate*}\n",
       "\\item 'archive'\n",
       "\\item 'assign\\_result'\n",
       "\\item 'clear'\n",
       "\\item 'clone'\n",
       "\\item 'eval\\_batch'\n",
       "\\item 'format'\n",
       "\\item 'initialize'\n",
       "\\item 'internal\\_search\\_space'\n",
       "\\item 'is\\_terminated'\n",
       "\\item 'label'\n",
       "\\item 'man'\n",
       "\\item 'objective'\n",
       "\\item 'objective\\_function'\n",
       "\\item 'objective\\_multiplicator'\n",
       "\\item 'print'\n",
       "\\item 'progressor'\n",
       "\\item 'result'\n",
       "\\item 'result\\_learner\\_param\\_vals'\n",
       "\\item 'result\\_x\\_domain'\n",
       "\\item 'result\\_x\\_search\\_space'\n",
       "\\item 'result\\_y'\n",
       "\\item 'search\\_space'\n",
       "\\item 'terminator'\n",
       "\\end{enumerate*}\n"
      ],
      "text/markdown": [
       "1. 'archive'\n",
       "2. 'assign_result'\n",
       "3. 'clear'\n",
       "4. 'clone'\n",
       "5. 'eval_batch'\n",
       "6. 'format'\n",
       "7. 'initialize'\n",
       "8. 'internal_search_space'\n",
       "9. 'is_terminated'\n",
       "10. 'label'\n",
       "11. 'man'\n",
       "12. 'objective'\n",
       "13. 'objective_function'\n",
       "14. 'objective_multiplicator'\n",
       "15. 'print'\n",
       "16. 'progressor'\n",
       "17. 'result'\n",
       "18. 'result_learner_param_vals'\n",
       "19. 'result_x_domain'\n",
       "20. 'result_x_search_space'\n",
       "21. 'result_y'\n",
       "22. 'search_space'\n",
       "23. 'terminator'\n",
       "\n",
       "\n"
      ],
      "text/plain": [
       " [1] \"archive\"                   \"assign_result\"            \n",
       " [3] \"clear\"                     \"clone\"                    \n",
       " [5] \"eval_batch\"                \"format\"                   \n",
       " [7] \"initialize\"                \"internal_search_space\"    \n",
       " [9] \"is_terminated\"             \"label\"                    \n",
       "[11] \"man\"                       \"objective\"                \n",
       "[13] \"objective_function\"        \"objective_multiplicator\"  \n",
       "[15] \"print\"                     \"progressor\"               \n",
       "[17] \"result\"                    \"result_learner_param_vals\"\n",
       "[19] \"result_x_domain\"           \"result_x_search_space\"    \n",
       "[21] \"result_y\"                  \"search_space\"             \n",
       "[23] \"terminator\"               "
      ]
     },
     "metadata": {},
     "output_type": "display_data"
    }
   ],
   "source": [
    "ls(instance)\n"
   ]
  },
  {
   "cell_type": "code",
   "execution_count": 29,
   "metadata": {
    "vscode": {
     "languageId": "r"
    }
   },
   "outputs": [
    {
     "data": {
      "text/html": [
       "'Batch Single Criterion'"
      ],
      "text/latex": [
       "'Batch Single Criterion'"
      ],
      "text/markdown": [
       "'Batch Single Criterion'"
      ],
      "text/plain": [
       "[1] \"Batch Single Criterion\""
      ]
     },
     "metadata": {},
     "output_type": "display_data"
    }
   ],
   "source": [
    "instance$label\n"
   ]
  },
  {
   "cell_type": "markdown",
   "metadata": {},
   "source": [
    "关于何时停止训练，mlr3给出了5种方法：\n",
    "\n",
    "- Terminate after a given time：一定时间后停止\n",
    "- Terninate after a given number of iterations：特定迭代次数后停止\n",
    "- Terminate after a specific performance has been reached：达到特定性能指标后停止\n",
    "- Terminate when tuning dose find a better configuration for a given number of iterations：在给定迭代次数中确实找到表现很好的参数组合后停止\n",
    "- A combination of above in ALL or ANY fashon：上面几种方法组合  \n",
    "\n",
    "然后还需要设置超参数搜索的方法：   \n",
    "`mlr3tuning`目前支持以下超参数搜索的方法：\n",
    "- Grid search：网格搜索\n",
    "- Random search：随机搜索\n",
    "- Generalized simulated annealing\n",
    "- Non-Linear optimization"
   ]
  },
  {
   "cell_type": "code",
   "execution_count": 30,
   "metadata": {
    "vscode": {
     "languageId": "r"
    }
   },
   "outputs": [],
   "source": [
    "# 这里选择网格搜索\n",
    "tuner <- tnr(\"grid_search\", resolution = 5) # 网格搜索\n"
   ]
  },
  {
   "cell_type": "markdown",
   "metadata": {},
   "source": [
    "下来就是进行训练模型，上面我们设置了网格搜索的分辨率是5，我们有2个超参数需要调整，所以理论上一共有5 * 5 = 25个组合，但是在前面的停止搜索的方法中我们选择了n_evals = 20，所有实际上在评价完20个组合后就会停止了！"
   ]
  },
  {
   "cell_type": "code",
   "execution_count": 31,
   "metadata": {
    "vscode": {
     "languageId": "r"
    }
   },
   "outputs": [
    {
     "name": "stdout",
     "output_type": "stream",
     "text": [
      "INFO  [10:22:13.338] [bbotk] Starting to optimize 2 parameter(s) with '<OptimizerBatchGridSearch>' and '<TerminatorEvals> [n_evals=20, k=0]'\n",
      "INFO  [10:22:13.366] [bbotk] Evaluating 1 configuration(s)\n",
      "INFO  [10:22:13.377] [mlr3] Running benchmark with 1 resampling iterations\n",
      "INFO  [10:22:13.402] [mlr3] Applying learner 'classif.rpart' on task 'pima' (iter 1/1)\n",
      "INFO  [10:22:13.428] [mlr3] Finished benchmark\n",
      "INFO  [10:22:13.451] [bbotk] Result of batch 1:\n",
      "INFO  [10:22:13.453] [bbotk]     cp minsplit classif.ce warnings errors runtime_learners\n",
      "INFO  [10:22:13.453] [bbotk]  0.001        3  0.2913043        0      0            0.016\n",
      "INFO  [10:22:13.453] [bbotk]                                 uhash\n",
      "INFO  [10:22:13.453] [bbotk]  9340f7cd-9d85-4513-973f-68c1a84ccd34\n",
      "INFO  [10:22:13.455] [bbotk] Evaluating 1 configuration(s)\n",
      "INFO  [10:22:13.460] [mlr3] Running benchmark with 1 resampling iterations\n",
      "INFO  [10:22:13.464] [mlr3] Applying learner 'classif.rpart' on task 'pima' (iter 1/1)\n",
      "INFO  [10:22:13.475] [mlr3] Finished benchmark\n",
      "INFO  [10:22:13.496] [bbotk] Result of batch 2:\n",
      "INFO  [10:22:13.498] [bbotk]      cp minsplit classif.ce warnings errors runtime_learners\n",
      "INFO  [10:22:13.498] [bbotk]  0.0505        3  0.2826087        0      0            0.007\n",
      "INFO  [10:22:13.498] [bbotk]                                 uhash\n",
      "INFO  [10:22:13.498] [bbotk]  683ee977-313b-4a22-bed7-a763a541ed6e\n",
      "INFO  [10:22:13.500] [bbotk] Evaluating 1 configuration(s)\n",
      "INFO  [10:22:13.506] [mlr3] Running benchmark with 1 resampling iterations\n",
      "INFO  [10:22:13.509] [mlr3] Applying learner 'classif.rpart' on task 'pima' (iter 1/1)\n",
      "INFO  [10:22:13.520] [mlr3] Finished benchmark\n",
      "INFO  [10:22:13.552] [bbotk] Result of batch 3:\n",
      "INFO  [10:22:13.554] [bbotk]       cp minsplit classif.ce warnings errors runtime_learners\n",
      "INFO  [10:22:13.554] [bbotk]  0.07525        8  0.2826087        0      0            0.006\n",
      "INFO  [10:22:13.554] [bbotk]                                 uhash\n",
      "INFO  [10:22:13.554] [bbotk]  b377a00a-cbfd-4897-83a7-2bf65be36917\n",
      "INFO  [10:22:13.556] [bbotk] Evaluating 1 configuration(s)\n",
      "INFO  [10:22:13.561] [mlr3] Running benchmark with 1 resampling iterations\n",
      "INFO  [10:22:13.565] [mlr3] Applying learner 'classif.rpart' on task 'pima' (iter 1/1)\n",
      "INFO  [10:22:13.575] [mlr3] Finished benchmark\n",
      "INFO  [10:22:13.595] [bbotk] Result of batch 4:\n",
      "INFO  [10:22:13.597] [bbotk]       cp minsplit classif.ce warnings errors runtime_learners\n",
      "INFO  [10:22:13.597] [bbotk]  0.02575        1  0.2304348        0      0            0.007\n",
      "INFO  [10:22:13.597] [bbotk]                                 uhash\n",
      "INFO  [10:22:13.597] [bbotk]  cf0d459a-7677-49e7-85e7-174c689fd84c\n",
      "INFO  [10:22:13.600] [bbotk] Evaluating 1 configuration(s)\n",
      "INFO  [10:22:13.605] [mlr3] Running benchmark with 1 resampling iterations\n",
      "INFO  [10:22:13.608] [mlr3] Applying learner 'classif.rpart' on task 'pima' (iter 1/1)\n",
      "INFO  [10:22:13.619] [mlr3] Finished benchmark\n",
      "INFO  [10:22:13.639] [bbotk] Result of batch 5:\n",
      "INFO  [10:22:13.641] [bbotk]       cp minsplit classif.ce warnings errors runtime_learners\n",
      "INFO  [10:22:13.641] [bbotk]  0.02575        6  0.2304348        0      0            0.006\n",
      "INFO  [10:22:13.641] [bbotk]                                 uhash\n",
      "INFO  [10:22:13.641] [bbotk]  3090373f-563c-4807-bbfb-fd37b4fdee5f\n",
      "INFO  [10:22:13.644] [bbotk] Evaluating 1 configuration(s)\n",
      "INFO  [10:22:13.649] [mlr3] Running benchmark with 1 resampling iterations\n",
      "INFO  [10:22:13.652] [mlr3] Applying learner 'classif.rpart' on task 'pima' (iter 1/1)\n",
      "INFO  [10:22:13.663] [mlr3] Finished benchmark\n",
      "INFO  [10:22:13.683] [bbotk] Result of batch 6:\n",
      "INFO  [10:22:13.685] [bbotk]   cp minsplit classif.ce warnings errors runtime_learners\n",
      "INFO  [10:22:13.685] [bbotk]  0.1        3  0.2826087        0      0            0.006\n",
      "INFO  [10:22:13.685] [bbotk]                                 uhash\n",
      "INFO  [10:22:13.685] [bbotk]  5110a3bb-361a-4bfe-94b4-965646e8b11d\n",
      "INFO  [10:22:13.687] [bbotk] Evaluating 1 configuration(s)\n",
      "INFO  [10:22:13.692] [mlr3] Running benchmark with 1 resampling iterations\n",
      "INFO  [10:22:13.696] [mlr3] Applying learner 'classif.rpart' on task 'pima' (iter 1/1)\n",
      "INFO  [10:22:13.707] [mlr3] Finished benchmark\n",
      "INFO  [10:22:13.727] [bbotk] Result of batch 7:\n",
      "INFO  [10:22:13.730] [bbotk]       cp minsplit classif.ce warnings errors runtime_learners\n",
      "INFO  [10:22:13.730] [bbotk]  0.07525       10  0.2826087        0      0            0.007\n",
      "INFO  [10:22:13.730] [bbotk]                                 uhash\n",
      "INFO  [10:22:13.730] [bbotk]  4d4ab548-6ec3-41bf-8562-e2adb6d54265\n",
      "INFO  [10:22:13.732] [bbotk] Evaluating 1 configuration(s)\n",
      "INFO  [10:22:13.737] [mlr3] Running benchmark with 1 resampling iterations\n",
      "INFO  [10:22:13.741] [mlr3] Applying learner 'classif.rpart' on task 'pima' (iter 1/1)\n",
      "INFO  [10:22:13.756] [mlr3] Finished benchmark\n",
      "INFO  [10:22:13.776] [bbotk] Result of batch 8:\n",
      "INFO  [10:22:13.778] [bbotk]       cp minsplit classif.ce warnings errors runtime_learners\n",
      "INFO  [10:22:13.778] [bbotk]  0.02575        8  0.2304348        0      0            0.006\n",
      "INFO  [10:22:13.778] [bbotk]                                 uhash\n",
      "INFO  [10:22:13.778] [bbotk]  30125665-a7cd-4bdf-8977-72787df42013\n",
      "INFO  [10:22:13.780] [bbotk] Evaluating 1 configuration(s)\n",
      "INFO  [10:22:13.785] [mlr3] Running benchmark with 1 resampling iterations\n",
      "INFO  [10:22:13.789] [mlr3] Applying learner 'classif.rpart' on task 'pima' (iter 1/1)\n",
      "INFO  [10:22:13.800] [mlr3] Finished benchmark\n",
      "INFO  [10:22:13.819] [bbotk] Result of batch 9:\n",
      "INFO  [10:22:13.822] [bbotk]      cp minsplit classif.ce warnings errors runtime_learners\n",
      "INFO  [10:22:13.822] [bbotk]  0.0505       10  0.2826087        0      0            0.007\n",
      "INFO  [10:22:13.822] [bbotk]                                 uhash\n",
      "INFO  [10:22:13.822] [bbotk]  cc54fa19-450a-42d8-9bcc-73e9975702df\n",
      "INFO  [10:22:13.824] [bbotk] Evaluating 1 configuration(s)\n",
      "INFO  [10:22:13.829] [mlr3] Running benchmark with 1 resampling iterations\n",
      "INFO  [10:22:13.833] [mlr3] Applying learner 'classif.rpart' on task 'pima' (iter 1/1)\n",
      "INFO  [10:22:13.845] [mlr3] Finished benchmark\n",
      "INFO  [10:22:13.865] [bbotk] Result of batch 10:\n",
      "INFO  [10:22:13.867] [bbotk]     cp minsplit classif.ce warnings errors runtime_learners\n",
      "INFO  [10:22:13.867] [bbotk]  0.001        1  0.2869565        0      0            0.008\n",
      "INFO  [10:22:13.867] [bbotk]                                 uhash\n",
      "INFO  [10:22:13.867] [bbotk]  bc81862d-e60f-4ab9-b175-eadd70158a88\n",
      "INFO  [10:22:13.869] [bbotk] Evaluating 1 configuration(s)\n",
      "INFO  [10:22:13.875] [mlr3] Running benchmark with 1 resampling iterations\n",
      "INFO  [10:22:13.879] [mlr3] Applying learner 'classif.rpart' on task 'pima' (iter 1/1)\n",
      "INFO  [10:22:13.890] [mlr3] Finished benchmark\n",
      "INFO  [10:22:13.915] [bbotk] Result of batch 11:\n",
      "INFO  [10:22:13.917] [bbotk]     cp minsplit classif.ce warnings errors runtime_learners\n",
      "INFO  [10:22:13.917] [bbotk]  0.001        6  0.2913043        0      0            0.007\n",
      "INFO  [10:22:13.917] [bbotk]                                 uhash\n",
      "INFO  [10:22:13.917] [bbotk]  ceb6ec1d-c910-4815-be50-6c9fa723b6fa\n",
      "INFO  [10:22:13.919] [bbotk] Evaluating 1 configuration(s)\n",
      "INFO  [10:22:13.924] [mlr3] Running benchmark with 1 resampling iterations\n",
      "INFO  [10:22:13.928] [mlr3] Applying learner 'classif.rpart' on task 'pima' (iter 1/1)\n",
      "INFO  [10:22:13.938] [mlr3] Finished benchmark\n",
      "INFO  [10:22:13.958] [bbotk] Result of batch 12:\n",
      "INFO  [10:22:13.960] [bbotk]   cp minsplit classif.ce warnings errors runtime_learners\n",
      "INFO  [10:22:13.960] [bbotk]  0.1       10  0.2826087        0      0            0.006\n",
      "INFO  [10:22:13.960] [bbotk]                                 uhash\n",
      "INFO  [10:22:13.960] [bbotk]  1ad8b545-400a-4dd1-bc40-ea66126d8003\n",
      "INFO  [10:22:13.962] [bbotk] Evaluating 1 configuration(s)\n",
      "INFO  [10:22:13.967] [mlr3] Running benchmark with 1 resampling iterations\n",
      "INFO  [10:22:13.971] [mlr3] Applying learner 'classif.rpart' on task 'pima' (iter 1/1)\n",
      "INFO  [10:22:13.982] [mlr3] Finished benchmark\n",
      "INFO  [10:22:14.002] [bbotk] Result of batch 13:\n",
      "INFO  [10:22:14.004] [bbotk]       cp minsplit classif.ce warnings errors runtime_learners\n",
      "INFO  [10:22:14.004] [bbotk]  0.02575       10  0.2304348        0      0            0.007\n",
      "INFO  [10:22:14.004] [bbotk]                                 uhash\n",
      "INFO  [10:22:14.004] [bbotk]  86f034a5-930e-4d85-a13f-5b14969ea4de\n",
      "INFO  [10:22:14.007] [bbotk] Evaluating 1 configuration(s)\n",
      "INFO  [10:22:14.012] [mlr3] Running benchmark with 1 resampling iterations\n",
      "INFO  [10:22:14.016] [mlr3] Applying learner 'classif.rpart' on task 'pima' (iter 1/1)\n",
      "INFO  [10:22:14.026] [mlr3] Finished benchmark\n",
      "INFO  [10:22:14.047] [bbotk] Result of batch 14:\n",
      "INFO  [10:22:14.049] [bbotk]   cp minsplit classif.ce warnings errors runtime_learners\n",
      "INFO  [10:22:14.049] [bbotk]  0.1        6  0.2826087        0      0            0.007\n",
      "INFO  [10:22:14.049] [bbotk]                                 uhash\n",
      "INFO  [10:22:14.049] [bbotk]  8e716181-6570-490c-8d06-21b689344d14\n",
      "INFO  [10:22:14.052] [bbotk] Evaluating 1 configuration(s)\n",
      "INFO  [10:22:14.057] [mlr3] Running benchmark with 1 resampling iterations\n",
      "INFO  [10:22:14.061] [mlr3] Applying learner 'classif.rpart' on task 'pima' (iter 1/1)\n",
      "INFO  [10:22:14.072] [mlr3] Finished benchmark\n",
      "INFO  [10:22:14.094] [bbotk] Result of batch 15:\n",
      "INFO  [10:22:14.096] [bbotk]       cp minsplit classif.ce warnings errors runtime_learners\n",
      "INFO  [10:22:14.096] [bbotk]  0.07525        6  0.2826087        0      0            0.007\n",
      "INFO  [10:22:14.096] [bbotk]                                 uhash\n",
      "INFO  [10:22:14.096] [bbotk]  1107797f-76c5-4d44-af10-67e560919b46\n",
      "INFO  [10:22:14.099] [bbotk] Evaluating 1 configuration(s)\n",
      "INFO  [10:22:14.109] [mlr3] Running benchmark with 1 resampling iterations\n",
      "INFO  [10:22:14.113] [mlr3] Applying learner 'classif.rpart' on task 'pima' (iter 1/1)\n",
      "INFO  [10:22:14.124] [mlr3] Finished benchmark\n",
      "INFO  [10:22:14.144] [bbotk] Result of batch 16:\n",
      "INFO  [10:22:14.147] [bbotk]      cp minsplit classif.ce warnings errors runtime_learners\n",
      "INFO  [10:22:14.147] [bbotk]  0.0505        6  0.2826087        0      0            0.006\n",
      "INFO  [10:22:14.147] [bbotk]                                 uhash\n",
      "INFO  [10:22:14.147] [bbotk]  299b8020-cd6e-4d0b-a425-1ee692c108f1\n",
      "INFO  [10:22:14.149] [bbotk] Evaluating 1 configuration(s)\n",
      "INFO  [10:22:14.154] [mlr3] Running benchmark with 1 resampling iterations\n",
      "INFO  [10:22:14.158] [mlr3] Applying learner 'classif.rpart' on task 'pima' (iter 1/1)\n",
      "INFO  [10:22:14.169] [mlr3] Finished benchmark\n",
      "INFO  [10:22:14.190] [bbotk] Result of batch 17:\n",
      "INFO  [10:22:14.192] [bbotk]   cp minsplit classif.ce warnings errors runtime_learners\n",
      "INFO  [10:22:14.192] [bbotk]  0.1        8  0.2826087        0      0            0.006\n",
      "INFO  [10:22:14.192] [bbotk]                                 uhash\n",
      "INFO  [10:22:14.192] [bbotk]  4c90c136-8181-4a47-8965-cacdef1cb974\n",
      "INFO  [10:22:14.194] [bbotk] Evaluating 1 configuration(s)\n",
      "INFO  [10:22:14.200] [mlr3] Running benchmark with 1 resampling iterations\n",
      "INFO  [10:22:14.204] [mlr3] Applying learner 'classif.rpart' on task 'pima' (iter 1/1)\n",
      "INFO  [10:22:14.215] [mlr3] Finished benchmark\n",
      "INFO  [10:22:14.236] [bbotk] Result of batch 18:\n",
      "INFO  [10:22:14.238] [bbotk]   cp minsplit classif.ce warnings errors runtime_learners\n",
      "INFO  [10:22:14.238] [bbotk]  0.1        1  0.2826087        0      0            0.006\n",
      "INFO  [10:22:14.238] [bbotk]                                 uhash\n",
      "INFO  [10:22:14.238] [bbotk]  cd8eb2b2-6f26-413f-9197-49fb0dfdb2c4\n",
      "INFO  [10:22:14.241] [bbotk] Evaluating 1 configuration(s)\n",
      "INFO  [10:22:14.246] [mlr3] Running benchmark with 1 resampling iterations\n",
      "INFO  [10:22:14.250] [mlr3] Applying learner 'classif.rpart' on task 'pima' (iter 1/1)\n",
      "INFO  [10:22:14.261] [mlr3] Finished benchmark\n",
      "INFO  [10:22:14.286] [bbotk] Result of batch 19:\n",
      "INFO  [10:22:14.288] [bbotk]      cp minsplit classif.ce warnings errors runtime_learners\n",
      "INFO  [10:22:14.288] [bbotk]  0.0505        8  0.2826087        0      0            0.007\n",
      "INFO  [10:22:14.288] [bbotk]                                 uhash\n",
      "INFO  [10:22:14.288] [bbotk]  dd3c148f-c6cf-4f2a-ac0b-7cb23da537f9\n",
      "INFO  [10:22:14.291] [bbotk] Evaluating 1 configuration(s)\n",
      "INFO  [10:22:14.296] [mlr3] Running benchmark with 1 resampling iterations\n",
      "INFO  [10:22:14.300] [mlr3] Applying learner 'classif.rpart' on task 'pima' (iter 1/1)\n",
      "INFO  [10:22:14.310] [mlr3] Finished benchmark\n",
      "INFO  [10:22:14.331] [bbotk] Result of batch 20:\n",
      "INFO  [10:22:14.333] [bbotk]      cp minsplit classif.ce warnings errors runtime_learners\n",
      "INFO  [10:22:14.333] [bbotk]  0.0505        1  0.2826087        0      0            0.006\n",
      "INFO  [10:22:14.333] [bbotk]                                 uhash\n",
      "INFO  [10:22:14.333] [bbotk]  3c628dc8-81d1-4f31-bc0a-8609339114c2\n",
      "INFO  [10:22:14.344] [bbotk] Finished optimizing after 20 evaluation(s)\n",
      "INFO  [10:22:14.344] [bbotk] Result:\n",
      "INFO  [10:22:14.346] [bbotk]       cp minsplit learner_param_vals  x_domain classif.ce\n",
      "INFO  [10:22:14.346] [bbotk]    <num>    <int>             <list>    <list>      <num>\n",
      "INFO  [10:22:14.346] [bbotk]  0.02575        1          <list[3]> <list[2]>  0.2304348\n"
     ]
    },
    {
     "data": {
      "text/html": [
       "<table class=\"dataframe\">\n",
       "<caption>A data.table: 1 × 5</caption>\n",
       "<thead>\n",
       "\t<tr><th scope=col>cp</th><th scope=col>minsplit</th><th scope=col>learner_param_vals</th><th scope=col>x_domain</th><th scope=col>classif.ce</th></tr>\n",
       "\t<tr><th scope=col>&lt;dbl&gt;</th><th scope=col>&lt;int&gt;</th><th scope=col>&lt;list&gt;</th><th scope=col>&lt;list&gt;</th><th scope=col>&lt;dbl&gt;</th></tr>\n",
       "</thead>\n",
       "<tbody>\n",
       "\t<tr><td>0.02575</td><td>1</td><td>0.00000, 0.02575, 1.00000</td><td>0.02575, 1.00000</td><td>0.2304348</td></tr>\n",
       "</tbody>\n",
       "</table>\n"
      ],
      "text/latex": [
       "A data.table: 1 × 5\n",
       "\\begin{tabular}{lllll}\n",
       " cp & minsplit & learner\\_param\\_vals & x\\_domain & classif.ce\\\\\n",
       " <dbl> & <int> & <list> & <list> & <dbl>\\\\\n",
       "\\hline\n",
       "\t 0.02575 & 1 & 0.00000, 0.02575, 1.00000 & 0.02575, 1.00000 & 0.2304348\\\\\n",
       "\\end{tabular}\n"
      ],
      "text/markdown": [
       "\n",
       "A data.table: 1 × 5\n",
       "\n",
       "| cp &lt;dbl&gt; | minsplit &lt;int&gt; | learner_param_vals &lt;list&gt; | x_domain &lt;list&gt; | classif.ce &lt;dbl&gt; |\n",
       "|---|---|---|---|---|\n",
       "| 0.02575 | 1 | 0.00000, 0.02575, 1.00000 | 0.02575, 1.00000 | 0.2304348 |\n",
       "\n"
      ],
      "text/plain": [
       "  cp      minsplit learner_param_vals        x_domain         classif.ce\n",
       "1 0.02575 1        0.00000, 0.02575, 1.00000 0.02575, 1.00000 0.2304348 "
      ]
     },
     "metadata": {},
     "output_type": "display_data"
    }
   ],
   "source": [
    "# lgr::get_logger(\"mlr3\")$set_threshold(\"warn\")\n",
    "# lgr::get_logger(\"bbotk\")$set_threshold(\"warn\")   # 减少屏幕打印内容\n",
    "\n",
    "tuner$optimize(instance)\n"
   ]
  },
  {
   "cell_type": "markdown",
   "metadata": {},
   "source": [
    "查看调整好的超参数："
   ]
  },
  {
   "cell_type": "code",
   "execution_count": 35,
   "metadata": {
    "vscode": {
     "languageId": "r"
    }
   },
   "outputs": [
    {
     "data": {
      "text/html": [
       "<table class=\"dataframe\">\n",
       "<caption>A data.table: 1 × 5</caption>\n",
       "<thead>\n",
       "\t<tr><th scope=col>cp</th><th scope=col>minsplit</th><th scope=col>learner_param_vals</th><th scope=col>x_domain</th><th scope=col>classif.ce</th></tr>\n",
       "\t<tr><th scope=col>&lt;dbl&gt;</th><th scope=col>&lt;int&gt;</th><th scope=col>&lt;list&gt;</th><th scope=col>&lt;list&gt;</th><th scope=col>&lt;dbl&gt;</th></tr>\n",
       "</thead>\n",
       "<tbody>\n",
       "\t<tr><td>0.02575</td><td>1</td><td>0.00000, 0.02575, 1.00000</td><td>0.02575, 1.00000</td><td>0.2304348</td></tr>\n",
       "</tbody>\n",
       "</table>\n"
      ],
      "text/latex": [
       "A data.table: 1 × 5\n",
       "\\begin{tabular}{lllll}\n",
       " cp & minsplit & learner\\_param\\_vals & x\\_domain & classif.ce\\\\\n",
       " <dbl> & <int> & <list> & <list> & <dbl>\\\\\n",
       "\\hline\n",
       "\t 0.02575 & 1 & 0.00000, 0.02575, 1.00000 & 0.02575, 1.00000 & 0.2304348\\\\\n",
       "\\end{tabular}\n"
      ],
      "text/markdown": [
       "\n",
       "A data.table: 1 × 5\n",
       "\n",
       "| cp &lt;dbl&gt; | minsplit &lt;int&gt; | learner_param_vals &lt;list&gt; | x_domain &lt;list&gt; | classif.ce &lt;dbl&gt; |\n",
       "|---|---|---|---|---|\n",
       "| 0.02575 | 1 | 0.00000, 0.02575, 1.00000 | 0.02575, 1.00000 | 0.2304348 |\n",
       "\n"
      ],
      "text/plain": [
       "  cp      minsplit learner_param_vals        x_domain         classif.ce\n",
       "1 0.02575 1        0.00000, 0.02575, 1.00000 0.02575, 1.00000 0.2304348 "
      ]
     },
     "metadata": {},
     "output_type": "display_data"
    }
   ],
   "source": [
    "instance$result\n"
   ]
  },
  {
   "cell_type": "code",
   "execution_count": 34,
   "metadata": {
    "vscode": {
     "languageId": "r"
    }
   },
   "outputs": [
    {
     "data": {
      "text/html": [
       "0.02575"
      ],
      "text/latex": [
       "0.02575"
      ],
      "text/markdown": [
       "0.02575"
      ],
      "text/plain": [
       "[1] 0.02575"
      ]
     },
     "metadata": {},
     "output_type": "display_data"
    }
   ],
   "source": [
    "instance$result$cp\n"
   ]
  },
  {
   "cell_type": "code",
   "execution_count": 33,
   "metadata": {
    "vscode": {
     "languageId": "r"
    }
   },
   "outputs": [
    {
     "data": {
      "text/html": [
       "<dl>\n",
       "\t<dt>$xval</dt>\n",
       "\t\t<dd>0</dd>\n",
       "\t<dt>$cp</dt>\n",
       "\t\t<dd>0.02575</dd>\n",
       "\t<dt>$minsplit</dt>\n",
       "\t\t<dd>1</dd>\n",
       "</dl>\n"
      ],
      "text/latex": [
       "\\begin{description}\n",
       "\\item[\\$xval] 0\n",
       "\\item[\\$cp] 0.02575\n",
       "\\item[\\$minsplit] 1\n",
       "\\end{description}\n"
      ],
      "text/markdown": [
       "$xval\n",
       ":   0\n",
       "$cp\n",
       ":   0.02575\n",
       "$minsplit\n",
       ":   1\n",
       "\n",
       "\n"
      ],
      "text/plain": [
       "$xval\n",
       "[1] 0\n",
       "\n",
       "$cp\n",
       "[1] 0.02575\n",
       "\n",
       "$minsplit\n",
       "[1] 1\n"
      ]
     },
     "metadata": {},
     "output_type": "display_data"
    }
   ],
   "source": [
    "instance$result_learner_param_vals\n"
   ]
  },
  {
   "cell_type": "markdown",
   "metadata": {},
   "source": [
    "查看模型性能："
   ]
  },
  {
   "cell_type": "code",
   "execution_count": 36,
   "metadata": {
    "vscode": {
     "languageId": "r"
    }
   },
   "outputs": [
    {
     "data": {
      "text/html": [
       "<strong>classif.ce:</strong> 0.230434782608696"
      ],
      "text/latex": [
       "\\textbf{classif.ce:} 0.230434782608696"
      ],
      "text/markdown": [
       "**classif.ce:** 0.230434782608696"
      ],
      "text/plain": [
       "classif.ce \n",
       " 0.2304348 "
      ]
     },
     "metadata": {},
     "output_type": "display_data"
    }
   ],
   "source": [
    "instance$result_y\n"
   ]
  },
  {
   "cell_type": "markdown",
   "metadata": {},
   "source": [
    "查看每一次迭代的结果，只有20个："
   ]
  },
  {
   "cell_type": "code",
   "execution_count": 37,
   "metadata": {
    "vscode": {
     "languageId": "r"
    }
   },
   "outputs": [
    {
     "data": {
      "text/plain": [
       "<ArchiveBatchTuning> with 20 evaluations\n",
       "       cp minsplit classif.ce batch_nr warnings errors\n",
       "    <num>    <int>      <num>    <int>    <int>  <int>\n",
       " 1: 0.001        3       0.29        1        0      0\n",
       " 2: 0.051        3       0.28        2        0      0\n",
       " 3: 0.075        8       0.28        3        0      0\n",
       " 4: 0.026        1       0.23        4        0      0\n",
       " 5: 0.026        6       0.23        5        0      0\n",
       " 6: 0.100        3       0.28        6        0      0\n",
       " 7: 0.075       10       0.28        7        0      0\n",
       " 8: 0.026        8       0.23        8        0      0\n",
       " 9: 0.051       10       0.28        9        0      0\n",
       "10: 0.001        1       0.29       10        0      0\n",
       "11: 0.001        6       0.29       11        0      0\n",
       "12: 0.100       10       0.28       12        0      0\n",
       "13: 0.026       10       0.23       13        0      0\n",
       "14: 0.100        6       0.28       14        0      0\n",
       "15: 0.075        6       0.28       15        0      0\n",
       "16: 0.051        6       0.28       16        0      0\n",
       "17: 0.100        8       0.28       17        0      0\n",
       "18: 0.100        1       0.28       18        0      0\n",
       "19: 0.051        8       0.28       19        0      0\n",
       "20: 0.051        1       0.28       20        0      0\n",
       "       cp minsplit classif.ce batch_nr warnings errors\n",
       "       cp minsplit classif.ce x_domain_cp x_domain_minsplit batch_nr warnings\n",
       "    <num>    <int>      <num>       <num>             <int>    <int>    <int>\n",
       " 1: 0.001        3       0.29       0.001                 3        1        0\n",
       " 2: 0.051        3       0.28       0.051                 3        2        0\n",
       " 3: 0.075        8       0.28       0.075                 8        3        0\n",
       " 4: 0.026        1       0.23       0.026                 1        4        0\n",
       " 5: 0.026        6       0.23       0.026                 6        5        0\n",
       " 6: 0.100        3       0.28       0.100                 3        6        0\n",
       " 7: 0.075       10       0.28       0.075                10        7        0\n",
       " 8: 0.026        8       0.23       0.026                 8        8        0\n",
       " 9: 0.051       10       0.28       0.051                10        9        0\n",
       "10: 0.001        1       0.29       0.001                 1       10        0\n",
       "11: 0.001        6       0.29       0.001                 6       11        0\n",
       "12: 0.100       10       0.28       0.100                10       12        0\n",
       "13: 0.026       10       0.23       0.026                10       13        0\n",
       "14: 0.100        6       0.28       0.100                 6       14        0\n",
       "15: 0.075        6       0.28       0.075                 6       15        0\n",
       "16: 0.051        6       0.28       0.051                 6       16        0\n",
       "17: 0.100        8       0.28       0.100                 8       17        0\n",
       "18: 0.100        1       0.28       0.100                 1       18        0\n",
       "19: 0.051        8       0.28       0.051                 8       19        0\n",
       "20: 0.051        1       0.28       0.051                 1       20        0\n",
       "       cp minsplit classif.ce x_domain_cp x_domain_minsplit batch_nr warnings\n",
       "    errors\n",
       "     <int>\n",
       " 1:      0\n",
       " 2:      0\n",
       " 3:      0\n",
       " 4:      0\n",
       " 5:      0\n",
       " 6:      0\n",
       " 7:      0\n",
       " 8:      0\n",
       " 9:      0\n",
       "10:      0\n",
       "11:      0\n",
       "12:      0\n",
       "13:      0\n",
       "14:      0\n",
       "15:      0\n",
       "16:      0\n",
       "17:      0\n",
       "18:      0\n",
       "19:      0\n",
       "20:      0\n",
       "    errors"
      ]
     },
     "metadata": {},
     "output_type": "display_data"
    }
   ],
   "source": [
    "instance$archive\n"
   ]
  },
  {
   "cell_type": "markdown",
   "metadata": {},
   "source": [
    "接下来就可以把训练好的超参数应用于模型，重新应用于数据："
   ]
  },
  {
   "cell_type": "code",
   "execution_count": 38,
   "metadata": {
    "vscode": {
     "languageId": "r"
    }
   },
   "outputs": [],
   "source": [
    "learner$param_set$values <- instance$result_learner_param_vals\n",
    "learner$train(task)\n"
   ]
  },
  {
   "cell_type": "markdown",
   "metadata": {},
   "source": [
    "这个训练好的模型就可以用于预测了，使用`learner$predict()`即可！"
   ]
  },
  {
   "cell_type": "code",
   "execution_count": 40,
   "metadata": {
    "vscode": {
     "languageId": "r"
    }
   },
   "outputs": [
    {
     "data": {
      "text/plain": [
       "<PredictionClassif> for 768 observations:\n",
       "    row_ids truth response\n",
       "          1   pos      pos\n",
       "          2   neg      neg\n",
       "          3   pos      neg\n",
       "---                       \n",
       "        766   neg      neg\n",
       "        767   pos      neg\n",
       "        768   neg      neg"
      ]
     },
     "metadata": {},
     "output_type": "display_data"
    }
   ],
   "source": [
    "learner$predict(task)\n"
   ]
  },
  {
   "cell_type": "code",
   "execution_count": 41,
   "metadata": {
    "vscode": {
     "languageId": "r"
    }
   },
   "outputs": [
    {
     "data": {
      "text/html": [
       "<style>\n",
       ".list-inline {list-style: none; margin:0; padding: 0}\n",
       ".list-inline>li {display: inline-block}\n",
       ".list-inline>li:not(:last-child)::after {content: \"\\00b7\"; padding: 0 .5ex}\n",
       "</style>\n",
       "<ol class=list-inline><li>'base_learner'</li><li>'clone'</li><li>'data_formats'</li><li>'encapsulate'</li><li>'errors'</li><li>'fallback'</li><li>'feature_types'</li><li>'format'</li><li>'hash'</li><li>'help'</li><li>'hotstart_stack'</li><li>'id'</li><li>'importance'</li><li>'initialize'</li><li>'label'</li><li>'log'</li><li>'man'</li><li>'model'</li><li>'packages'</li><li>'parallel_predict'</li><li>'param_set'</li><li>'phash'</li><li>'predict'</li><li>'predict_newdata'</li><li>'predict_sets'</li><li>'predict_type'</li><li>'predict_types'</li><li>'print'</li><li>'properties'</li><li>'reset'</li><li>'selected_features'</li><li>'state'</li><li>'task_type'</li><li>'timeout'</li><li>'timings'</li><li>'train'</li><li>'warnings'</li></ol>\n"
      ],
      "text/latex": [
       "\\begin{enumerate*}\n",
       "\\item 'base\\_learner'\n",
       "\\item 'clone'\n",
       "\\item 'data\\_formats'\n",
       "\\item 'encapsulate'\n",
       "\\item 'errors'\n",
       "\\item 'fallback'\n",
       "\\item 'feature\\_types'\n",
       "\\item 'format'\n",
       "\\item 'hash'\n",
       "\\item 'help'\n",
       "\\item 'hotstart\\_stack'\n",
       "\\item 'id'\n",
       "\\item 'importance'\n",
       "\\item 'initialize'\n",
       "\\item 'label'\n",
       "\\item 'log'\n",
       "\\item 'man'\n",
       "\\item 'model'\n",
       "\\item 'packages'\n",
       "\\item 'parallel\\_predict'\n",
       "\\item 'param\\_set'\n",
       "\\item 'phash'\n",
       "\\item 'predict'\n",
       "\\item 'predict\\_newdata'\n",
       "\\item 'predict\\_sets'\n",
       "\\item 'predict\\_type'\n",
       "\\item 'predict\\_types'\n",
       "\\item 'print'\n",
       "\\item 'properties'\n",
       "\\item 'reset'\n",
       "\\item 'selected\\_features'\n",
       "\\item 'state'\n",
       "\\item 'task\\_type'\n",
       "\\item 'timeout'\n",
       "\\item 'timings'\n",
       "\\item 'train'\n",
       "\\item 'warnings'\n",
       "\\end{enumerate*}\n"
      ],
      "text/markdown": [
       "1. 'base_learner'\n",
       "2. 'clone'\n",
       "3. 'data_formats'\n",
       "4. 'encapsulate'\n",
       "5. 'errors'\n",
       "6. 'fallback'\n",
       "7. 'feature_types'\n",
       "8. 'format'\n",
       "9. 'hash'\n",
       "10. 'help'\n",
       "11. 'hotstart_stack'\n",
       "12. 'id'\n",
       "13. 'importance'\n",
       "14. 'initialize'\n",
       "15. 'label'\n",
       "16. 'log'\n",
       "17. 'man'\n",
       "18. 'model'\n",
       "19. 'packages'\n",
       "20. 'parallel_predict'\n",
       "21. 'param_set'\n",
       "22. 'phash'\n",
       "23. 'predict'\n",
       "24. 'predict_newdata'\n",
       "25. 'predict_sets'\n",
       "26. 'predict_type'\n",
       "27. 'predict_types'\n",
       "28. 'print'\n",
       "29. 'properties'\n",
       "30. 'reset'\n",
       "31. 'selected_features'\n",
       "32. 'state'\n",
       "33. 'task_type'\n",
       "34. 'timeout'\n",
       "35. 'timings'\n",
       "36. 'train'\n",
       "37. 'warnings'\n",
       "\n",
       "\n"
      ],
      "text/plain": [
       " [1] \"base_learner\"      \"clone\"             \"data_formats\"     \n",
       " [4] \"encapsulate\"       \"errors\"            \"fallback\"         \n",
       " [7] \"feature_types\"     \"format\"            \"hash\"             \n",
       "[10] \"help\"              \"hotstart_stack\"    \"id\"               \n",
       "[13] \"importance\"        \"initialize\"        \"label\"            \n",
       "[16] \"log\"               \"man\"               \"model\"            \n",
       "[19] \"packages\"          \"parallel_predict\"  \"param_set\"        \n",
       "[22] \"phash\"             \"predict\"           \"predict_newdata\"  \n",
       "[25] \"predict_sets\"      \"predict_type\"      \"predict_types\"    \n",
       "[28] \"print\"             \"properties\"        \"reset\"            \n",
       "[31] \"selected_features\" \"state\"             \"task_type\"        \n",
       "[34] \"timeout\"           \"timings\"           \"train\"            \n",
       "[37] \"warnings\"         "
      ]
     },
     "metadata": {},
     "output_type": "display_data"
    }
   ],
   "source": [
    "ls(learner)\n"
   ]
  },
  {
   "cell_type": "markdown",
   "metadata": {},
   "source": [
    "以上步骤写起来有些复杂，与`tidymodels`相比不够简洁好理解，我刚开始学习的时候经常记不住，后来版本更新后终于有了简便写法："
   ]
  },
  {
   "cell_type": "code",
   "execution_count": 44,
   "metadata": {
    "vscode": {
     "languageId": "r"
    }
   },
   "outputs": [
    {
     "name": "stdout",
     "output_type": "stream",
     "text": [
      "INFO  [10:32:44.363] [bbotk] Starting to optimize 2 parameter(s) with '<OptimizerBatchGridSearch>' and '<TerminatorEvals> [n_evals=25, k=0]'\n",
      "INFO  [10:32:44.371] [bbotk] Evaluating 1 configuration(s)\n",
      "INFO  [10:32:44.377] [mlr3] Running benchmark with 1 resampling iterations\n",
      "INFO  [10:32:44.381] [mlr3] Applying learner 'classif.rpart' on task 'pima' (iter 1/1)\n",
      "INFO  [10:32:44.392] [mlr3] Finished benchmark\n",
      "INFO  [10:32:44.411] [bbotk] Result of batch 1:\n",
      "INFO  [10:32:44.414] [bbotk]     cp minsplit classif.ce warnings errors runtime_learners\n",
      "INFO  [10:32:44.414] [bbotk]  0.001       10  0.2391304        0      0            0.007\n",
      "INFO  [10:32:44.414] [bbotk]                                 uhash\n",
      "INFO  [10:32:44.414] [bbotk]  63635c65-3dc5-4f9a-bb45-0453e27e4682\n",
      "INFO  [10:32:44.416] [bbotk] Evaluating 1 configuration(s)\n",
      "INFO  [10:32:44.421] [mlr3] Running benchmark with 1 resampling iterations\n",
      "INFO  [10:32:44.425] [mlr3] Applying learner 'classif.rpart' on task 'pima' (iter 1/1)\n",
      "INFO  [10:32:44.436] [mlr3] Finished benchmark\n",
      "INFO  [10:32:44.457] [bbotk] Result of batch 2:\n",
      "INFO  [10:32:44.459] [bbotk]     cp minsplit classif.ce warnings errors runtime_learners\n",
      "INFO  [10:32:44.459] [bbotk]  0.012       10  0.2173913        0      0            0.007\n",
      "INFO  [10:32:44.459] [bbotk]                                 uhash\n",
      "INFO  [10:32:44.459] [bbotk]  83da4b27-756f-433f-b749-cdbfd318ca23\n",
      "INFO  [10:32:44.461] [bbotk] Evaluating 1 configuration(s)\n",
      "INFO  [10:32:44.471] [mlr3] Running benchmark with 1 resampling iterations\n",
      "INFO  [10:32:44.475] [mlr3] Applying learner 'classif.rpart' on task 'pima' (iter 1/1)\n",
      "INFO  [10:32:44.486] [mlr3] Finished benchmark\n",
      "INFO  [10:32:44.505] [bbotk] Result of batch 3:\n",
      "INFO  [10:32:44.508] [bbotk]     cp minsplit classif.ce warnings errors runtime_learners\n",
      "INFO  [10:32:44.508] [bbotk]  0.001        5  0.2478261        0      0            0.007\n",
      "INFO  [10:32:44.508] [bbotk]                                 uhash\n",
      "INFO  [10:32:44.508] [bbotk]  e2f4ec1e-a770-4529-afc4-50b0335f1ca5\n",
      "INFO  [10:32:44.510] [bbotk] Evaluating 1 configuration(s)\n",
      "INFO  [10:32:44.515] [mlr3] Running benchmark with 1 resampling iterations\n",
      "INFO  [10:32:44.519] [mlr3] Applying learner 'classif.rpart' on task 'pima' (iter 1/1)\n",
      "INFO  [10:32:44.530] [mlr3] Finished benchmark\n",
      "INFO  [10:32:44.549] [bbotk] Result of batch 4:\n",
      "INFO  [10:32:44.551] [bbotk]     cp minsplit classif.ce warnings errors runtime_learners\n",
      "INFO  [10:32:44.551] [bbotk]  0.012        1  0.2173913        0      0            0.007\n",
      "INFO  [10:32:44.551] [bbotk]                                 uhash\n",
      "INFO  [10:32:44.551] [bbotk]  d80acd3c-83f9-44ce-8fe7-c6a22adfa176\n",
      "INFO  [10:32:44.554] [bbotk] Evaluating 1 configuration(s)\n",
      "INFO  [10:32:44.559] [mlr3] Running benchmark with 1 resampling iterations\n",
      "INFO  [10:32:44.563] [mlr3] Applying learner 'classif.rpart' on task 'pima' (iter 1/1)\n",
      "INFO  [10:32:44.573] [mlr3] Finished benchmark\n",
      "INFO  [10:32:44.594] [bbotk] Result of batch 5:\n",
      "INFO  [10:32:44.596] [bbotk]     cp minsplit classif.ce warnings errors runtime_learners\n",
      "INFO  [10:32:44.596] [bbotk]  0.045        9  0.2608696        0      0            0.008\n",
      "INFO  [10:32:44.596] [bbotk]                                 uhash\n",
      "INFO  [10:32:44.596] [bbotk]  e7bf279f-f37a-4cf6-92b8-34ac5b17f74b\n",
      "INFO  [10:32:44.598] [bbotk] Evaluating 1 configuration(s)\n",
      "INFO  [10:32:44.604] [mlr3] Running benchmark with 1 resampling iterations\n",
      "INFO  [10:32:44.607] [mlr3] Applying learner 'classif.rpart' on task 'pima' (iter 1/1)\n",
      "INFO  [10:32:44.618] [mlr3] Finished benchmark\n",
      "INFO  [10:32:44.639] [bbotk] Result of batch 6:\n",
      "INFO  [10:32:44.645] [bbotk]     cp minsplit classif.ce warnings errors runtime_learners\n",
      "INFO  [10:32:44.645] [bbotk]  0.056        9  0.2608696        0      0            0.007\n",
      "INFO  [10:32:44.645] [bbotk]                                 uhash\n",
      "INFO  [10:32:44.645] [bbotk]  3895f5e5-5aa2-40e6-bacc-033ab89ba9bf\n",
      "INFO  [10:32:44.648] [bbotk] Evaluating 1 configuration(s)\n",
      "INFO  [10:32:44.653] [mlr3] Running benchmark with 1 resampling iterations\n",
      "INFO  [10:32:44.656] [mlr3] Applying learner 'classif.rpart' on task 'pima' (iter 1/1)\n",
      "INFO  [10:32:44.667] [mlr3] Finished benchmark\n",
      "INFO  [10:32:44.686] [bbotk] Result of batch 7:\n",
      "INFO  [10:32:44.688] [bbotk]     cp minsplit classif.ce warnings errors runtime_learners\n",
      "INFO  [10:32:44.688] [bbotk]  0.089        3  0.2608696        0      0            0.007\n",
      "INFO  [10:32:44.688] [bbotk]                                 uhash\n",
      "INFO  [10:32:44.688] [bbotk]  a58627ad-8bd9-4aa6-840a-607c888950ee\n",
      "INFO  [10:32:44.691] [bbotk] Evaluating 1 configuration(s)\n",
      "INFO  [10:32:44.696] [mlr3] Running benchmark with 1 resampling iterations\n",
      "INFO  [10:32:44.700] [mlr3] Applying learner 'classif.rpart' on task 'pima' (iter 1/1)\n",
      "INFO  [10:32:44.710] [mlr3] Finished benchmark\n",
      "INFO  [10:32:44.730] [bbotk] Result of batch 8:\n",
      "INFO  [10:32:44.732] [bbotk]     cp minsplit classif.ce warnings errors runtime_learners\n",
      "INFO  [10:32:44.732] [bbotk]  0.089        2  0.2608696        0      0            0.006\n",
      "INFO  [10:32:44.732] [bbotk]                                 uhash\n",
      "INFO  [10:32:44.732] [bbotk]  f61d180c-2e2b-4cd8-a49b-426f55d0c67b\n",
      "INFO  [10:32:44.734] [bbotk] Evaluating 1 configuration(s)\n",
      "INFO  [10:32:44.739] [mlr3] Running benchmark with 1 resampling iterations\n",
      "INFO  [10:32:44.743] [mlr3] Applying learner 'classif.rpart' on task 'pima' (iter 1/1)\n",
      "INFO  [10:32:44.755] [mlr3] Finished benchmark\n",
      "INFO  [10:32:44.775] [bbotk] Result of batch 9:\n",
      "INFO  [10:32:44.777] [bbotk]     cp minsplit classif.ce warnings errors runtime_learners\n",
      "INFO  [10:32:44.777] [bbotk]  0.001        8  0.2391304        0      0            0.009\n",
      "INFO  [10:32:44.777] [bbotk]                                 uhash\n",
      "INFO  [10:32:44.777] [bbotk]  42815dbf-c162-4a4c-80ae-e035d2b2fb63\n",
      "INFO  [10:32:44.780] [bbotk] Evaluating 1 configuration(s)\n",
      "INFO  [10:32:44.785] [mlr3] Running benchmark with 1 resampling iterations\n",
      "INFO  [10:32:44.789] [mlr3] Applying learner 'classif.rpart' on task 'pima' (iter 1/1)\n",
      "INFO  [10:32:44.800] [mlr3] Finished benchmark\n",
      "INFO  [10:32:44.824] [bbotk] Result of batch 10:\n",
      "INFO  [10:32:44.826] [bbotk]     cp minsplit classif.ce warnings errors runtime_learners\n",
      "INFO  [10:32:44.826] [bbotk]  0.001        6  0.2478261        0      0            0.007\n",
      "INFO  [10:32:44.826] [bbotk]                                 uhash\n",
      "INFO  [10:32:44.826] [bbotk]  327a7eb5-776f-4065-83de-677ad500b6dd\n",
      "INFO  [10:32:44.828] [bbotk] Evaluating 1 configuration(s)\n",
      "INFO  [10:32:44.834] [mlr3] Running benchmark with 1 resampling iterations\n",
      "INFO  [10:32:44.837] [mlr3] Applying learner 'classif.rpart' on task 'pima' (iter 1/1)\n",
      "INFO  [10:32:44.848] [mlr3] Finished benchmark\n",
      "INFO  [10:32:44.867] [bbotk] Result of batch 11:\n",
      "INFO  [10:32:44.870] [bbotk]     cp minsplit classif.ce warnings errors runtime_learners\n",
      "INFO  [10:32:44.870] [bbotk]  0.089       10  0.2608696        0      0            0.007\n",
      "INFO  [10:32:44.870] [bbotk]                                 uhash\n",
      "INFO  [10:32:44.870] [bbotk]  f5dc454b-817c-4f52-9d75-68498c3f9caf\n",
      "INFO  [10:32:44.872] [bbotk] Evaluating 1 configuration(s)\n",
      "INFO  [10:32:44.877] [mlr3] Running benchmark with 1 resampling iterations\n",
      "INFO  [10:32:44.881] [mlr3] Applying learner 'classif.rpart' on task 'pima' (iter 1/1)\n",
      "INFO  [10:32:44.891] [mlr3] Finished benchmark\n",
      "INFO  [10:32:44.912] [bbotk] Result of batch 12:\n",
      "INFO  [10:32:44.914] [bbotk]   cp minsplit classif.ce warnings errors runtime_learners\n",
      "INFO  [10:32:44.914] [bbotk]  0.1       10  0.2608696        0      0            0.007\n",
      "INFO  [10:32:44.914] [bbotk]                                 uhash\n",
      "INFO  [10:32:44.914] [bbotk]  39ebe71f-d5c2-4262-a12d-8fdaa554f538\n",
      "INFO  [10:32:44.917] [bbotk] Evaluating 1 configuration(s)\n",
      "INFO  [10:32:44.922] [mlr3] Running benchmark with 1 resampling iterations\n",
      "INFO  [10:32:44.926] [mlr3] Applying learner 'classif.rpart' on task 'pima' (iter 1/1)\n",
      "INFO  [10:32:44.936] [mlr3] Finished benchmark\n",
      "INFO  [10:32:44.957] [bbotk] Result of batch 13:\n",
      "INFO  [10:32:44.959] [bbotk]     cp minsplit classif.ce warnings errors runtime_learners\n",
      "INFO  [10:32:44.959] [bbotk]  0.056        7  0.2608696        0      0            0.006\n",
      "INFO  [10:32:44.959] [bbotk]                                 uhash\n",
      "INFO  [10:32:44.959] [bbotk]  3f8859d8-f803-4815-86d2-0ff460ecfa25\n",
      "INFO  [10:32:44.961] [bbotk] Evaluating 1 configuration(s)\n",
      "INFO  [10:32:44.967] [mlr3] Running benchmark with 1 resampling iterations\n",
      "INFO  [10:32:44.971] [mlr3] Applying learner 'classif.rpart' on task 'pima' (iter 1/1)\n",
      "INFO  [10:32:44.986] [mlr3] Finished benchmark\n",
      "INFO  [10:32:45.005] [bbotk] Result of batch 14:\n",
      "INFO  [10:32:45.007] [bbotk]     cp minsplit classif.ce warnings errors runtime_learners\n",
      "INFO  [10:32:45.007] [bbotk]  0.078        1  0.2608696        0      0            0.011\n",
      "INFO  [10:32:45.007] [bbotk]                                 uhash\n",
      "INFO  [10:32:45.007] [bbotk]  e4bdf316-3f97-4864-a557-ec04c484c8af\n",
      "INFO  [10:32:45.010] [bbotk] Evaluating 1 configuration(s)\n",
      "INFO  [10:32:45.015] [mlr3] Running benchmark with 1 resampling iterations\n",
      "INFO  [10:32:45.018] [mlr3] Applying learner 'classif.rpart' on task 'pima' (iter 1/1)\n",
      "INFO  [10:32:45.029] [mlr3] Finished benchmark\n",
      "INFO  [10:32:45.049] [bbotk] Result of batch 15:\n",
      "INFO  [10:32:45.051] [bbotk]     cp minsplit classif.ce warnings errors runtime_learners\n",
      "INFO  [10:32:45.051] [bbotk]  0.012        4  0.2173913        0      0            0.006\n",
      "INFO  [10:32:45.051] [bbotk]                                 uhash\n",
      "INFO  [10:32:45.051] [bbotk]  c70405d2-eb48-44d5-9fcb-d8f192f08924\n",
      "INFO  [10:32:45.054] [bbotk] Evaluating 1 configuration(s)\n",
      "INFO  [10:32:45.059] [mlr3] Running benchmark with 1 resampling iterations\n",
      "INFO  [10:32:45.062] [mlr3] Applying learner 'classif.rpart' on task 'pima' (iter 1/1)\n",
      "INFO  [10:32:45.073] [mlr3] Finished benchmark\n",
      "INFO  [10:32:45.093] [bbotk] Result of batch 16:\n",
      "INFO  [10:32:45.096] [bbotk]     cp minsplit classif.ce warnings errors runtime_learners\n",
      "INFO  [10:32:45.096] [bbotk]  0.078        8  0.2608696        0      0            0.006\n",
      "INFO  [10:32:45.096] [bbotk]                                 uhash\n",
      "INFO  [10:32:45.096] [bbotk]  ea237bcf-5119-4886-8546-fdfe8ea454eb\n",
      "INFO  [10:32:45.098] [bbotk] Evaluating 1 configuration(s)\n",
      "INFO  [10:32:45.103] [mlr3] Running benchmark with 1 resampling iterations\n",
      "INFO  [10:32:45.107] [mlr3] Applying learner 'classif.rpart' on task 'pima' (iter 1/1)\n",
      "INFO  [10:32:45.118] [mlr3] Finished benchmark\n",
      "INFO  [10:32:45.142] [bbotk] Result of batch 17:\n",
      "INFO  [10:32:45.144] [bbotk]     cp minsplit classif.ce warnings errors runtime_learners\n",
      "INFO  [10:32:45.144] [bbotk]  0.034        2  0.2608696        0      0            0.007\n",
      "INFO  [10:32:45.144] [bbotk]                                 uhash\n",
      "INFO  [10:32:45.144] [bbotk]  5bf34b4e-475b-4df5-a9c1-760f431bcfce\n",
      "INFO  [10:32:45.147] [bbotk] Evaluating 1 configuration(s)\n",
      "INFO  [10:32:45.152] [mlr3] Running benchmark with 1 resampling iterations\n",
      "INFO  [10:32:45.155] [mlr3] Applying learner 'classif.rpart' on task 'pima' (iter 1/1)\n",
      "INFO  [10:32:45.166] [mlr3] Finished benchmark\n",
      "INFO  [10:32:45.185] [bbotk] Result of batch 18:\n",
      "INFO  [10:32:45.187] [bbotk]   cp minsplit classif.ce warnings errors runtime_learners\n",
      "INFO  [10:32:45.187] [bbotk]  0.1        2  0.2608696        0      0            0.007\n",
      "INFO  [10:32:45.187] [bbotk]                                 uhash\n",
      "INFO  [10:32:45.187] [bbotk]  2f0d4270-61d8-45b1-b112-ee38126dc12c\n",
      "INFO  [10:32:45.190] [bbotk] Evaluating 1 configuration(s)\n",
      "INFO  [10:32:45.195] [mlr3] Running benchmark with 1 resampling iterations\n",
      "INFO  [10:32:45.199] [mlr3] Applying learner 'classif.rpart' on task 'pima' (iter 1/1)\n",
      "INFO  [10:32:45.210] [mlr3] Finished benchmark\n",
      "INFO  [10:32:45.230] [bbotk] Result of batch 19:\n",
      "INFO  [10:32:45.232] [bbotk]     cp minsplit classif.ce warnings errors runtime_learners\n",
      "INFO  [10:32:45.232] [bbotk]  0.012        2  0.2173913        0      0            0.007\n",
      "INFO  [10:32:45.232] [bbotk]                                 uhash\n",
      "INFO  [10:32:45.232] [bbotk]  4c21ecb1-6ae2-4ffc-a1eb-9467db4f6dba\n",
      "INFO  [10:32:45.234] [bbotk] Evaluating 1 configuration(s)\n",
      "INFO  [10:32:45.240] [mlr3] Running benchmark with 1 resampling iterations\n",
      "INFO  [10:32:45.244] [mlr3] Applying learner 'classif.rpart' on task 'pima' (iter 1/1)\n",
      "INFO  [10:32:45.254] [mlr3] Finished benchmark\n",
      "INFO  [10:32:45.275] [bbotk] Result of batch 20:\n",
      "INFO  [10:32:45.277] [bbotk]     cp minsplit classif.ce warnings errors runtime_learners\n",
      "INFO  [10:32:45.277] [bbotk]  0.023        8  0.2304348        0      0            0.006\n",
      "INFO  [10:32:45.277] [bbotk]                                 uhash\n",
      "INFO  [10:32:45.277] [bbotk]  061d610e-1594-4e57-b5db-8deaae37b7f0\n",
      "INFO  [10:32:45.279] [bbotk] Evaluating 1 configuration(s)\n",
      "INFO  [10:32:45.285] [mlr3] Running benchmark with 1 resampling iterations\n",
      "INFO  [10:32:45.288] [mlr3] Applying learner 'classif.rpart' on task 'pima' (iter 1/1)\n",
      "INFO  [10:32:45.304] [mlr3] Finished benchmark\n",
      "INFO  [10:32:45.323] [bbotk] Result of batch 21:\n",
      "INFO  [10:32:45.325] [bbotk]     cp minsplit classif.ce warnings errors runtime_learners\n",
      "INFO  [10:32:45.325] [bbotk]  0.056        2  0.2608696        0      0            0.011\n",
      "INFO  [10:32:45.325] [bbotk]                                 uhash\n",
      "INFO  [10:32:45.325] [bbotk]  0143c2f9-912a-460a-8b0f-fbb489da1408\n",
      "INFO  [10:32:45.328] [bbotk] Evaluating 1 configuration(s)\n",
      "INFO  [10:32:45.333] [mlr3] Running benchmark with 1 resampling iterations\n",
      "INFO  [10:32:45.336] [mlr3] Applying learner 'classif.rpart' on task 'pima' (iter 1/1)\n",
      "INFO  [10:32:45.348] [mlr3] Finished benchmark\n",
      "INFO  [10:32:45.368] [bbotk] Result of batch 22:\n",
      "INFO  [10:32:45.370] [bbotk]     cp minsplit classif.ce warnings errors runtime_learners\n",
      "INFO  [10:32:45.370] [bbotk]  0.001        2  0.2521739        0      0            0.008\n",
      "INFO  [10:32:45.370] [bbotk]                                 uhash\n",
      "INFO  [10:32:45.370] [bbotk]  f47c9293-abb6-4672-9a14-a6ed76b48077\n",
      "INFO  [10:32:45.372] [bbotk] Evaluating 1 configuration(s)\n",
      "INFO  [10:32:45.377] [mlr3] Running benchmark with 1 resampling iterations\n",
      "INFO  [10:32:45.381] [mlr3] Applying learner 'classif.rpart' on task 'pima' (iter 1/1)\n",
      "INFO  [10:32:45.392] [mlr3] Finished benchmark\n",
      "INFO  [10:32:45.412] [bbotk] Result of batch 23:\n",
      "INFO  [10:32:45.415] [bbotk]     cp minsplit classif.ce warnings errors runtime_learners\n",
      "INFO  [10:32:45.415] [bbotk]  0.023        1  0.2304348        0      0            0.007\n",
      "INFO  [10:32:45.415] [bbotk]                                 uhash\n",
      "INFO  [10:32:45.415] [bbotk]  c39249dd-4261-4582-a233-82f533dd315d\n",
      "INFO  [10:32:45.417] [bbotk] Evaluating 1 configuration(s)\n",
      "INFO  [10:32:45.422] [mlr3] Running benchmark with 1 resampling iterations\n",
      "INFO  [10:32:45.426] [mlr3] Applying learner 'classif.rpart' on task 'pima' (iter 1/1)\n",
      "INFO  [10:32:45.437] [mlr3] Finished benchmark\n",
      "INFO  [10:32:45.461] [bbotk] Result of batch 24:\n",
      "INFO  [10:32:45.463] [bbotk]     cp minsplit classif.ce warnings errors runtime_learners\n",
      "INFO  [10:32:45.463] [bbotk]  0.078       10  0.2608696        0      0            0.007\n",
      "INFO  [10:32:45.463] [bbotk]                                 uhash\n",
      "INFO  [10:32:45.463] [bbotk]  fd0f64e6-fdc6-4c14-aef3-df0f0edacb9b\n",
      "INFO  [10:32:45.466] [bbotk] Evaluating 1 configuration(s)\n",
      "INFO  [10:32:45.471] [mlr3] Running benchmark with 1 resampling iterations\n",
      "INFO  [10:32:45.474] [mlr3] Applying learner 'classif.rpart' on task 'pima' (iter 1/1)\n",
      "INFO  [10:32:45.485] [mlr3] Finished benchmark\n",
      "INFO  [10:32:45.505] [bbotk] Result of batch 25:\n",
      "INFO  [10:32:45.507] [bbotk]     cp minsplit classif.ce warnings errors runtime_learners\n",
      "INFO  [10:32:45.507] [bbotk]  0.034        9  0.2608696        0      0            0.007\n",
      "INFO  [10:32:45.507] [bbotk]                                 uhash\n",
      "INFO  [10:32:45.507] [bbotk]  a9d7dd07-5646-49ff-8460-83fb2e1ab836\n",
      "INFO  [10:32:45.517] [bbotk] Finished optimizing after 25 evaluation(s)\n",
      "INFO  [10:32:45.518] [bbotk] Result:\n",
      "INFO  [10:32:45.520] [bbotk]     cp minsplit learner_param_vals  x_domain classif.ce\n",
      "INFO  [10:32:45.520] [bbotk]  <num>    <int>             <list>    <list>      <num>\n",
      "INFO  [10:32:45.520] [bbotk]  0.012       10          <list[3]> <list[2]>  0.2173913\n"
     ]
    }
   ],
   "source": [
    "instance <- tune(\n",
    "  tuner = tnr(\"grid_search\"),\n",
    "  task = task,\n",
    "  learner = learner,\n",
    "  resampling = hout,\n",
    "  measures = measure,\n",
    "  search_space = search_space,\n",
    "  term_evals = 25\n",
    ")\n"
   ]
  },
  {
   "cell_type": "code",
   "execution_count": 45,
   "metadata": {
    "vscode": {
     "languageId": "r"
    }
   },
   "outputs": [
    {
     "data": {
      "text/html": [
       "<dl>\n",
       "\t<dt>$cp</dt>\n",
       "\t\t<dd>0.012</dd>\n",
       "\t<dt>$minsplit</dt>\n",
       "\t\t<dd>10</dd>\n",
       "\t<dt>$xval</dt>\n",
       "\t\t<dd>0</dd>\n",
       "</dl>\n"
      ],
      "text/latex": [
       "\\begin{description}\n",
       "\\item[\\$cp] 0.012\n",
       "\\item[\\$minsplit] 10\n",
       "\\item[\\$xval] 0\n",
       "\\end{description}\n"
      ],
      "text/markdown": [
       "$cp\n",
       ":   0.012\n",
       "$minsplit\n",
       ":   10\n",
       "$xval\n",
       ":   0\n",
       "\n",
       "\n"
      ],
      "text/plain": [
       "$cp\n",
       "[1] 0.012\n",
       "\n",
       "$minsplit\n",
       "[1] 10\n",
       "\n",
       "$xval\n",
       "[1] 0\n"
      ]
     },
     "metadata": {},
     "output_type": "display_data"
    }
   ],
   "source": [
    "instance$result_learner_param_vals\n"
   ]
  },
  {
   "cell_type": "code",
   "execution_count": 46,
   "metadata": {
    "vscode": {
     "languageId": "r"
    }
   },
   "outputs": [
    {
     "data": {
      "text/html": [
       "<strong>classif.ce:</strong> 0.217391304347826"
      ],
      "text/latex": [
       "\\textbf{classif.ce:} 0.217391304347826"
      ],
      "text/markdown": [
       "**classif.ce:** 0.217391304347826"
      ],
      "text/plain": [
       "classif.ce \n",
       " 0.2173913 "
      ]
     },
     "metadata": {},
     "output_type": "display_data"
    }
   ],
   "source": [
    "instance$result_y\n"
   ]
  },
  {
   "cell_type": "code",
   "execution_count": 47,
   "metadata": {
    "vscode": {
     "languageId": "r"
    }
   },
   "outputs": [],
   "source": [
    "learner$param_set$values <- instance$result_learner_param_vals\n",
    "learner$train(task)\n"
   ]
  },
  {
   "cell_type": "markdown",
   "metadata": {},
   "source": [
    "mlr3也支持同时设定多个性能指标："
   ]
  },
  {
   "cell_type": "code",
   "execution_count": 48,
   "metadata": {
    "vscode": {
     "languageId": "r"
    }
   },
   "outputs": [
    {
     "name": "stderr",
     "output_type": "stream",
     "text": [
      "TuningInstanceMultiCrit is deprecated. Use TuningInstanceBatchMultiCrit instead.\n",
      "\n"
     ]
    },
    {
     "name": "stdout",
     "output_type": "stream",
     "text": [
      "INFO  [10:33:54.775] [bbotk] Starting to optimize 2 parameter(s) with '<OptimizerBatchGridSearch>' and '<TerminatorEvals> [n_evals=20, k=0]'\n",
      "INFO  [10:33:54.786] [bbotk] Evaluating 1 configuration(s)\n",
      "INFO  [10:33:54.791] [mlr3] Running benchmark with 1 resampling iterations\n",
      "INFO  [10:33:54.795] [mlr3] Applying learner 'classif.rpart' on task 'pima' (iter 1/1)\n",
      "INFO  [10:33:54.809] [mlr3] Finished benchmark\n",
      "INFO  [10:33:54.840] [bbotk] Result of batch 1:\n",
      "INFO  [10:33:54.843] [bbotk]       cp minsplit classif.ce time_train warnings errors runtime_learners\n",
      "INFO  [10:33:54.843] [bbotk]  0.02575        8   0.273913      0.005        0      0            0.009\n",
      "INFO  [10:33:54.843] [bbotk]                                 uhash\n",
      "INFO  [10:33:54.843] [bbotk]  80e93081-e308-4157-8b83-00a8437ddefb\n",
      "INFO  [10:33:54.846] [bbotk] Evaluating 1 configuration(s)\n",
      "INFO  [10:33:54.852] [mlr3] Running benchmark with 1 resampling iterations\n",
      "INFO  [10:33:54.857] [mlr3] Applying learner 'classif.rpart' on task 'pima' (iter 1/1)\n",
      "INFO  [10:33:54.871] [mlr3] Finished benchmark\n",
      "INFO  [10:33:54.904] [bbotk] Result of batch 2:\n",
      "INFO  [10:33:54.907] [bbotk]   cp minsplit classif.ce time_train warnings errors runtime_learners\n",
      "INFO  [10:33:54.907] [bbotk]  0.1        1   0.273913      0.004        0      0            0.007\n",
      "INFO  [10:33:54.907] [bbotk]                                 uhash\n",
      "INFO  [10:33:54.907] [bbotk]  dfa7448f-4e5b-47ff-9ba5-fbead8495d90\n",
      "INFO  [10:33:54.910] [bbotk] Evaluating 1 configuration(s)\n",
      "INFO  [10:33:54.917] [mlr3] Running benchmark with 1 resampling iterations\n",
      "INFO  [10:33:54.922] [mlr3] Applying learner 'classif.rpart' on task 'pima' (iter 1/1)\n",
      "INFO  [10:33:54.936] [mlr3] Finished benchmark\n",
      "INFO  [10:33:54.973] [bbotk] Result of batch 3:\n",
      "INFO  [10:33:54.975] [bbotk]       cp minsplit classif.ce time_train warnings errors runtime_learners\n",
      "INFO  [10:33:54.975] [bbotk]  0.07525       10   0.273913      0.004        0      0            0.008\n",
      "INFO  [10:33:54.975] [bbotk]                                 uhash\n",
      "INFO  [10:33:54.975] [bbotk]  02f9ce2f-3476-48e5-b529-82c2b332ca99\n",
      "INFO  [10:33:54.978] [bbotk] Evaluating 1 configuration(s)\n",
      "INFO  [10:33:54.984] [mlr3] Running benchmark with 1 resampling iterations\n",
      "INFO  [10:33:54.989] [mlr3] Applying learner 'classif.rpart' on task 'pima' (iter 1/1)\n",
      "INFO  [10:33:55.002] [mlr3] Finished benchmark\n",
      "INFO  [10:33:55.028] [bbotk] Result of batch 4:\n",
      "INFO  [10:33:55.030] [bbotk]       cp minsplit classif.ce time_train warnings errors runtime_learners\n",
      "INFO  [10:33:55.030] [bbotk]  0.02575        3   0.273913      0.005        0      0            0.008\n",
      "INFO  [10:33:55.030] [bbotk]                                 uhash\n",
      "INFO  [10:33:55.030] [bbotk]  14a77d3b-e1e4-445a-9176-33d84cffe5e3\n",
      "INFO  [10:33:55.032] [bbotk] Evaluating 1 configuration(s)\n",
      "INFO  [10:33:55.037] [mlr3] Running benchmark with 1 resampling iterations\n",
      "INFO  [10:33:55.041] [mlr3] Applying learner 'classif.rpart' on task 'pima' (iter 1/1)\n",
      "INFO  [10:33:55.052] [mlr3] Finished benchmark\n",
      "INFO  [10:33:55.077] [bbotk] Result of batch 5:\n",
      "INFO  [10:33:55.080] [bbotk]      cp minsplit classif.ce time_train warnings errors runtime_learners\n",
      "INFO  [10:33:55.080] [bbotk]  0.0505        3   0.273913      0.004        0      0            0.007\n",
      "INFO  [10:33:55.080] [bbotk]                                 uhash\n",
      "INFO  [10:33:55.080] [bbotk]  91dc54ca-750f-4c35-b543-a7f4ff2f70a9\n",
      "INFO  [10:33:55.082] [bbotk] Evaluating 1 configuration(s)\n",
      "INFO  [10:33:55.087] [mlr3] Running benchmark with 1 resampling iterations\n",
      "INFO  [10:33:55.091] [mlr3] Applying learner 'classif.rpart' on task 'pima' (iter 1/1)\n",
      "INFO  [10:33:55.102] [mlr3] Finished benchmark\n",
      "INFO  [10:33:55.131] [bbotk] Result of batch 6:\n",
      "INFO  [10:33:55.133] [bbotk]   cp minsplit classif.ce time_train warnings errors runtime_learners\n",
      "INFO  [10:33:55.133] [bbotk]  0.1        8   0.273913      0.004        0      0            0.007\n",
      "INFO  [10:33:55.133] [bbotk]                                 uhash\n",
      "INFO  [10:33:55.133] [bbotk]  3a3b950e-c479-4e71-8bdd-942fb245d175\n",
      "INFO  [10:33:55.136] [bbotk] Evaluating 1 configuration(s)\n",
      "INFO  [10:33:55.141] [mlr3] Running benchmark with 1 resampling iterations\n",
      "INFO  [10:33:55.144] [mlr3] Applying learner 'classif.rpart' on task 'pima' (iter 1/1)\n",
      "INFO  [10:33:55.155] [mlr3] Finished benchmark\n",
      "INFO  [10:33:55.180] [bbotk] Result of batch 7:\n",
      "INFO  [10:33:55.182] [bbotk]       cp minsplit classif.ce time_train warnings errors runtime_learners\n",
      "INFO  [10:33:55.182] [bbotk]  0.02575       10   0.273913      0.004        0      0            0.007\n",
      "INFO  [10:33:55.182] [bbotk]                                 uhash\n",
      "INFO  [10:33:55.182] [bbotk]  1253a53b-6ab7-4c2a-b04d-383820e0e24e\n",
      "INFO  [10:33:55.185] [bbotk] Evaluating 1 configuration(s)\n",
      "INFO  [10:33:55.190] [mlr3] Running benchmark with 1 resampling iterations\n",
      "INFO  [10:33:55.194] [mlr3] Applying learner 'classif.rpart' on task 'pima' (iter 1/1)\n",
      "INFO  [10:33:55.204] [mlr3] Finished benchmark\n",
      "INFO  [10:33:55.230] [bbotk] Result of batch 8:\n",
      "INFO  [10:33:55.233] [bbotk]   cp minsplit classif.ce time_train warnings errors runtime_learners\n",
      "INFO  [10:33:55.233] [bbotk]  0.1        6   0.273913      0.003        0      0            0.006\n",
      "INFO  [10:33:55.233] [bbotk]                                 uhash\n",
      "INFO  [10:33:55.233] [bbotk]  948c5ffd-8a38-4258-847d-ef15a99de4f4\n",
      "INFO  [10:33:55.235] [bbotk] Evaluating 1 configuration(s)\n",
      "INFO  [10:33:55.240] [mlr3] Running benchmark with 1 resampling iterations\n",
      "INFO  [10:33:55.244] [mlr3] Applying learner 'classif.rpart' on task 'pima' (iter 1/1)\n",
      "INFO  [10:33:55.255] [mlr3] Finished benchmark\n",
      "INFO  [10:33:55.284] [bbotk] Result of batch 9:\n",
      "INFO  [10:33:55.287] [bbotk]       cp minsplit classif.ce time_train warnings errors runtime_learners\n",
      "INFO  [10:33:55.287] [bbotk]  0.07525        1   0.273913      0.004        0      0            0.007\n",
      "INFO  [10:33:55.287] [bbotk]                                 uhash\n",
      "INFO  [10:33:55.287] [bbotk]  257b8ae1-998f-49ca-8323-7143350bf397\n",
      "INFO  [10:33:55.289] [bbotk] Evaluating 1 configuration(s)\n",
      "INFO  [10:33:55.294] [mlr3] Running benchmark with 1 resampling iterations\n",
      "INFO  [10:33:55.298] [mlr3] Applying learner 'classif.rpart' on task 'pima' (iter 1/1)\n",
      "INFO  [10:33:55.308] [mlr3] Finished benchmark\n",
      "INFO  [10:33:55.333] [bbotk] Result of batch 10:\n",
      "INFO  [10:33:55.335] [bbotk]   cp minsplit classif.ce time_train warnings errors runtime_learners\n",
      "INFO  [10:33:55.335] [bbotk]  0.1        3   0.273913      0.003        0      0            0.006\n",
      "INFO  [10:33:55.335] [bbotk]                                 uhash\n",
      "INFO  [10:33:55.335] [bbotk]  c48a4794-54e6-4fe1-bdee-aa0d2b39945e\n",
      "INFO  [10:33:55.338] [bbotk] Evaluating 1 configuration(s)\n",
      "INFO  [10:33:55.343] [mlr3] Running benchmark with 1 resampling iterations\n",
      "INFO  [10:33:55.347] [mlr3] Applying learner 'classif.rpart' on task 'pima' (iter 1/1)\n",
      "INFO  [10:33:55.357] [mlr3] Finished benchmark\n",
      "INFO  [10:33:55.383] [bbotk] Result of batch 11:\n",
      "INFO  [10:33:55.386] [bbotk]       cp minsplit classif.ce time_train warnings errors runtime_learners\n",
      "INFO  [10:33:55.386] [bbotk]  0.07525        3   0.273913      0.003        0      0            0.006\n",
      "INFO  [10:33:55.386] [bbotk]                                 uhash\n",
      "INFO  [10:33:55.386] [bbotk]  da553abd-96ec-4931-a27c-8a78fa5e833c\n",
      "INFO  [10:33:55.388] [bbotk] Evaluating 1 configuration(s)\n",
      "INFO  [10:33:55.393] [mlr3] Running benchmark with 1 resampling iterations\n",
      "INFO  [10:33:55.397] [mlr3] Applying learner 'classif.rpart' on task 'pima' (iter 1/1)\n",
      "INFO  [10:33:55.412] [mlr3] Finished benchmark\n",
      "INFO  [10:33:55.436] [bbotk] Result of batch 12:\n",
      "INFO  [10:33:55.439] [bbotk]       cp minsplit classif.ce time_train warnings errors runtime_learners\n",
      "INFO  [10:33:55.439] [bbotk]  0.07525        6   0.273913      0.008        0      0            0.011\n",
      "INFO  [10:33:55.439] [bbotk]                                 uhash\n",
      "INFO  [10:33:55.439] [bbotk]  0d5e72ce-8948-4ad5-b358-e4da46953131\n",
      "INFO  [10:33:55.441] [bbotk] Evaluating 1 configuration(s)\n",
      "INFO  [10:33:55.446] [mlr3] Running benchmark with 1 resampling iterations\n",
      "INFO  [10:33:55.450] [mlr3] Applying learner 'classif.rpart' on task 'pima' (iter 1/1)\n",
      "INFO  [10:33:55.461] [mlr3] Finished benchmark\n",
      "INFO  [10:33:55.487] [bbotk] Result of batch 13:\n",
      "INFO  [10:33:55.489] [bbotk]     cp minsplit classif.ce time_train warnings errors runtime_learners\n",
      "INFO  [10:33:55.489] [bbotk]  0.001       10   0.273913      0.004        0      0            0.007\n",
      "INFO  [10:33:55.489] [bbotk]                                 uhash\n",
      "INFO  [10:33:55.489] [bbotk]  1a34a045-d0be-4a64-bf51-b1b4ab1d1a71\n",
      "INFO  [10:33:55.491] [bbotk] Evaluating 1 configuration(s)\n",
      "INFO  [10:33:55.497] [mlr3] Running benchmark with 1 resampling iterations\n",
      "INFO  [10:33:55.500] [mlr3] Applying learner 'classif.rpart' on task 'pima' (iter 1/1)\n",
      "INFO  [10:33:55.512] [mlr3] Finished benchmark\n",
      "INFO  [10:33:55.542] [bbotk] Result of batch 14:\n",
      "INFO  [10:33:55.544] [bbotk]     cp minsplit classif.ce time_train warnings errors runtime_learners\n",
      "INFO  [10:33:55.544] [bbotk]  0.001        8  0.2652174      0.004        0      0            0.007\n",
      "INFO  [10:33:55.544] [bbotk]                                 uhash\n",
      "INFO  [10:33:55.544] [bbotk]  d817dcb7-cae7-4bf0-b56b-d616432496eb\n",
      "INFO  [10:33:55.547] [bbotk] Evaluating 1 configuration(s)\n",
      "INFO  [10:33:55.552] [mlr3] Running benchmark with 1 resampling iterations\n",
      "INFO  [10:33:55.555] [mlr3] Applying learner 'classif.rpart' on task 'pima' (iter 1/1)\n",
      "INFO  [10:33:55.566] [mlr3] Finished benchmark\n",
      "INFO  [10:33:55.592] [bbotk] Result of batch 15:\n",
      "INFO  [10:33:55.594] [bbotk]       cp minsplit classif.ce time_train warnings errors runtime_learners\n",
      "INFO  [10:33:55.594] [bbotk]  0.02575        6   0.273913      0.004        0      0            0.007\n",
      "INFO  [10:33:55.594] [bbotk]                                 uhash\n",
      "INFO  [10:33:55.594] [bbotk]  57a5de01-c6ca-410e-86fc-cba9a749fcbf\n",
      "INFO  [10:33:55.597] [bbotk] Evaluating 1 configuration(s)\n",
      "INFO  [10:33:55.602] [mlr3] Running benchmark with 1 resampling iterations\n",
      "INFO  [10:33:55.606] [mlr3] Applying learner 'classif.rpart' on task 'pima' (iter 1/1)\n",
      "INFO  [10:33:55.617] [mlr3] Finished benchmark\n",
      "INFO  [10:33:55.643] [bbotk] Result of batch 16:\n",
      "INFO  [10:33:55.645] [bbotk]       cp minsplit classif.ce time_train warnings errors runtime_learners\n",
      "INFO  [10:33:55.645] [bbotk]  0.02575        1   0.273913      0.004        0      0            0.007\n",
      "INFO  [10:33:55.645] [bbotk]                                 uhash\n",
      "INFO  [10:33:55.645] [bbotk]  ffbd9153-187b-499b-b3a5-e7d31bed5699\n",
      "INFO  [10:33:55.647] [bbotk] Evaluating 1 configuration(s)\n",
      "INFO  [10:33:55.653] [mlr3] Running benchmark with 1 resampling iterations\n",
      "INFO  [10:33:55.657] [mlr3] Applying learner 'classif.rpart' on task 'pima' (iter 1/1)\n",
      "INFO  [10:33:55.668] [mlr3] Finished benchmark\n",
      "INFO  [10:33:55.698] [bbotk] Result of batch 17:\n",
      "INFO  [10:33:55.701] [bbotk]       cp minsplit classif.ce time_train warnings errors runtime_learners\n",
      "INFO  [10:33:55.701] [bbotk]  0.07525        8   0.273913      0.004        0      0            0.007\n",
      "INFO  [10:33:55.701] [bbotk]                                 uhash\n",
      "INFO  [10:33:55.701] [bbotk]  e582143e-5773-4af5-9be9-377090480ba8\n",
      "INFO  [10:33:55.703] [bbotk] Evaluating 1 configuration(s)\n",
      "INFO  [10:33:55.708] [mlr3] Running benchmark with 1 resampling iterations\n",
      "INFO  [10:33:55.712] [mlr3] Applying learner 'classif.rpart' on task 'pima' (iter 1/1)\n",
      "INFO  [10:33:55.723] [mlr3] Finished benchmark\n",
      "INFO  [10:33:55.748] [bbotk] Result of batch 18:\n",
      "INFO  [10:33:55.751] [bbotk]      cp minsplit classif.ce time_train warnings errors runtime_learners\n",
      "INFO  [10:33:55.751] [bbotk]  0.0505        1   0.273913      0.004        0      0            0.007\n",
      "INFO  [10:33:55.751] [bbotk]                                 uhash\n",
      "INFO  [10:33:55.751] [bbotk]  be75a932-2904-4705-a6cd-97349ab24ecb\n",
      "INFO  [10:33:55.753] [bbotk] Evaluating 1 configuration(s)\n",
      "INFO  [10:33:55.759] [mlr3] Running benchmark with 1 resampling iterations\n",
      "INFO  [10:33:55.763] [mlr3] Applying learner 'classif.rpart' on task 'pima' (iter 1/1)\n",
      "INFO  [10:33:55.775] [mlr3] Finished benchmark\n",
      "INFO  [10:33:55.801] [bbotk] Result of batch 19:\n",
      "INFO  [10:33:55.803] [bbotk]     cp minsplit classif.ce time_train warnings errors runtime_learners\n",
      "INFO  [10:33:55.803] [bbotk]  0.001        3        0.3      0.004        0      0            0.008\n",
      "INFO  [10:33:55.803] [bbotk]                                 uhash\n",
      "INFO  [10:33:55.803] [bbotk]  5c0ce24b-57b0-49e3-afe1-8cd72d38b860\n",
      "INFO  [10:33:55.806] [bbotk] Evaluating 1 configuration(s)\n",
      "INFO  [10:33:55.811] [mlr3] Running benchmark with 1 resampling iterations\n",
      "INFO  [10:33:55.820] [mlr3] Applying learner 'classif.rpart' on task 'pima' (iter 1/1)\n",
      "INFO  [10:33:55.831] [mlr3] Finished benchmark\n",
      "INFO  [10:33:55.856] [bbotk] Result of batch 20:\n",
      "INFO  [10:33:55.858] [bbotk]   cp minsplit classif.ce time_train warnings errors runtime_learners\n",
      "INFO  [10:33:55.858] [bbotk]  0.1       10   0.273913      0.004        0      0            0.007\n",
      "INFO  [10:33:55.858] [bbotk]                                 uhash\n",
      "INFO  [10:33:55.858] [bbotk]  b3c6dec9-442f-40ba-ad0c-ec8c06b78949\n",
      "INFO  [10:33:55.868] [bbotk] Finished optimizing after 20 evaluation(s)\n",
      "INFO  [10:33:55.869] [bbotk] Result:\n",
      "INFO  [10:33:55.871] [bbotk]     cp minsplit learner_param_vals  x_domain classif.ce time_train\n",
      "INFO  [10:33:55.871] [bbotk]  <num>    <int>             <list>    <list>      <num>      <num>\n",
      "INFO  [10:33:55.871] [bbotk]  0.100        6          <list[3]> <list[2]>  0.2739130      0.003\n",
      "INFO  [10:33:55.871] [bbotk]  0.001        8          <list[3]> <list[2]>  0.2652174      0.004\n"
     ]
    },
    {
     "data": {
      "text/html": [
       "<table class=\"dataframe\">\n",
       "<caption>A data.table: 2 × 6</caption>\n",
       "<thead>\n",
       "\t<tr><th scope=col>cp</th><th scope=col>minsplit</th><th scope=col>learner_param_vals</th><th scope=col>x_domain</th><th scope=col>classif.ce</th><th scope=col>time_train</th></tr>\n",
       "\t<tr><th scope=col>&lt;dbl&gt;</th><th scope=col>&lt;int&gt;</th><th scope=col>&lt;list&gt;</th><th scope=col>&lt;list&gt;</th><th scope=col>&lt;dbl&gt;</th><th scope=col>&lt;dbl&gt;</th></tr>\n",
       "</thead>\n",
       "<tbody>\n",
       "\t<tr><td>0.100</td><td>6</td><td>0.1, 6.0, 0.0</td><td>0.1, 6.0</td><td>0.2739130</td><td>0.003</td></tr>\n",
       "\t<tr><td>0.001</td><td>8</td><td>0.001, 8.000, 0.000</td><td>0.001, 8.000</td><td>0.2652174</td><td>0.004</td></tr>\n",
       "</tbody>\n",
       "</table>\n"
      ],
      "text/latex": [
       "A data.table: 2 × 6\n",
       "\\begin{tabular}{llllll}\n",
       " cp & minsplit & learner\\_param\\_vals & x\\_domain & classif.ce & time\\_train\\\\\n",
       " <dbl> & <int> & <list> & <list> & <dbl> & <dbl>\\\\\n",
       "\\hline\n",
       "\t 0.100 & 6 & 0.1, 6.0, 0.0 & 0.1, 6.0 & 0.2739130 & 0.003\\\\\n",
       "\t 0.001 & 8 & 0.001, 8.000, 0.000 & 0.001, 8.000 & 0.2652174 & 0.004\\\\\n",
       "\\end{tabular}\n"
      ],
      "text/markdown": [
       "\n",
       "A data.table: 2 × 6\n",
       "\n",
       "| cp &lt;dbl&gt; | minsplit &lt;int&gt; | learner_param_vals &lt;list&gt; | x_domain &lt;list&gt; | classif.ce &lt;dbl&gt; | time_train &lt;dbl&gt; |\n",
       "|---|---|---|---|---|---|\n",
       "| 0.100 | 6 | 0.1, 6.0, 0.0 | 0.1, 6.0 | 0.2739130 | 0.003 |\n",
       "| 0.001 | 8 | 0.001, 8.000, 0.000 | 0.001, 8.000 | 0.2652174 | 0.004 |\n",
       "\n"
      ],
      "text/plain": [
       "  cp    minsplit learner_param_vals  x_domain     classif.ce time_train\n",
       "1 0.100 6        0.1, 6.0, 0.0       0.1, 6.0     0.2739130  0.003     \n",
       "2 0.001 8        0.001, 8.000, 0.000 0.001, 8.000 0.2652174  0.004     "
      ]
     },
     "metadata": {},
     "output_type": "display_data"
    }
   ],
   "source": [
    "measures <- msrs(c(\n",
    "    \"classif.ce\",\n",
    "    \"time_train\"\n",
    ")) # 设定多个评价指标\n",
    "\n",
    "evals20 <- trm(\"evals\", n_evals = 20)\n",
    "\n",
    "instance <- TuningInstanceMultiCrit$new(\n",
    "    task = task,\n",
    "    learner = learner,\n",
    "    resampling = hout,\n",
    "    measures = measures,\n",
    "    search_space = search_space,\n",
    "    terminator = evals20\n",
    ")\n",
    "\n",
    "tuner$optimize(instance)\n"
   ]
  },
  {
   "cell_type": "code",
   "execution_count": 49,
   "metadata": {
    "vscode": {
     "languageId": "r"
    }
   },
   "outputs": [
    {
     "data": {
      "text/html": [
       "<ol>\n",
       "\t<li><dl>\n",
       "\t<dt>$cp</dt>\n",
       "\t\t<dd>0.1</dd>\n",
       "\t<dt>$minsplit</dt>\n",
       "\t\t<dd>6</dd>\n",
       "\t<dt>$xval</dt>\n",
       "\t\t<dd>0</dd>\n",
       "</dl>\n",
       "</li>\n",
       "\t<li><dl>\n",
       "\t<dt>$cp</dt>\n",
       "\t\t<dd>0.001</dd>\n",
       "\t<dt>$minsplit</dt>\n",
       "\t\t<dd>8</dd>\n",
       "\t<dt>$xval</dt>\n",
       "\t\t<dd>0</dd>\n",
       "</dl>\n",
       "</li>\n",
       "</ol>\n"
      ],
      "text/latex": [
       "\\begin{enumerate}\n",
       "\\item \\begin{description}\n",
       "\\item[\\$cp] 0.1\n",
       "\\item[\\$minsplit] 6\n",
       "\\item[\\$xval] 0\n",
       "\\end{description}\n",
       "\n",
       "\\item \\begin{description}\n",
       "\\item[\\$cp] 0.001\n",
       "\\item[\\$minsplit] 8\n",
       "\\item[\\$xval] 0\n",
       "\\end{description}\n",
       "\n",
       "\\end{enumerate}\n"
      ],
      "text/markdown": [
       "1. $cp\n",
       ":   0.1\n",
       "$minsplit\n",
       ":   6\n",
       "$xval\n",
       ":   0\n",
       "\n",
       "\n",
       "\n",
       "2. $cp\n",
       ":   0.001\n",
       "$minsplit\n",
       ":   8\n",
       "$xval\n",
       ":   0\n",
       "\n",
       "\n",
       "\n",
       "\n",
       "\n"
      ],
      "text/plain": [
       "[[1]]\n",
       "[[1]]$cp\n",
       "[1] 0.1\n",
       "\n",
       "[[1]]$minsplit\n",
       "[1] 6\n",
       "\n",
       "[[1]]$xval\n",
       "[1] 0\n",
       "\n",
       "\n",
       "[[2]]\n",
       "[[2]]$cp\n",
       "[1] 0.001\n",
       "\n",
       "[[2]]$minsplit\n",
       "[1] 8\n",
       "\n",
       "[[2]]$xval\n",
       "[1] 0\n",
       "\n"
      ]
     },
     "metadata": {},
     "output_type": "display_data"
    }
   ],
   "source": [
    "instance$result_learner_param_vals\n"
   ]
  },
  {
   "cell_type": "markdown",
   "metadata": {},
   "source": [
    "查看结果："
   ]
  },
  {
   "cell_type": "code",
   "execution_count": 50,
   "metadata": {
    "vscode": {
     "languageId": "r"
    }
   },
   "outputs": [
    {
     "data": {
      "text/html": [
       "<ol>\n",
       "\t<li><dl>\n",
       "\t<dt>$cp</dt>\n",
       "\t\t<dd>0.1</dd>\n",
       "\t<dt>$minsplit</dt>\n",
       "\t\t<dd>6</dd>\n",
       "\t<dt>$xval</dt>\n",
       "\t\t<dd>0</dd>\n",
       "</dl>\n",
       "</li>\n",
       "\t<li><dl>\n",
       "\t<dt>$cp</dt>\n",
       "\t\t<dd>0.001</dd>\n",
       "\t<dt>$minsplit</dt>\n",
       "\t\t<dd>8</dd>\n",
       "\t<dt>$xval</dt>\n",
       "\t\t<dd>0</dd>\n",
       "</dl>\n",
       "</li>\n",
       "</ol>\n"
      ],
      "text/latex": [
       "\\begin{enumerate}\n",
       "\\item \\begin{description}\n",
       "\\item[\\$cp] 0.1\n",
       "\\item[\\$minsplit] 6\n",
       "\\item[\\$xval] 0\n",
       "\\end{description}\n",
       "\n",
       "\\item \\begin{description}\n",
       "\\item[\\$cp] 0.001\n",
       "\\item[\\$minsplit] 8\n",
       "\\item[\\$xval] 0\n",
       "\\end{description}\n",
       "\n",
       "\\end{enumerate}\n"
      ],
      "text/markdown": [
       "1. $cp\n",
       ":   0.1\n",
       "$minsplit\n",
       ":   6\n",
       "$xval\n",
       ":   0\n",
       "\n",
       "\n",
       "\n",
       "2. $cp\n",
       ":   0.001\n",
       "$minsplit\n",
       ":   8\n",
       "$xval\n",
       ":   0\n",
       "\n",
       "\n",
       "\n",
       "\n",
       "\n"
      ],
      "text/plain": [
       "[[1]]\n",
       "[[1]]$cp\n",
       "[1] 0.1\n",
       "\n",
       "[[1]]$minsplit\n",
       "[1] 6\n",
       "\n",
       "[[1]]$xval\n",
       "[1] 0\n",
       "\n",
       "\n",
       "[[2]]\n",
       "[[2]]$cp\n",
       "[1] 0.001\n",
       "\n",
       "[[2]]$minsplit\n",
       "[1] 8\n",
       "\n",
       "[[2]]$xval\n",
       "[1] 0\n",
       "\n"
      ]
     },
     "metadata": {},
     "output_type": "display_data"
    }
   ],
   "source": [
    "instance$result_learner_param_vals\n"
   ]
  },
  {
   "cell_type": "code",
   "execution_count": 51,
   "metadata": {
    "vscode": {
     "languageId": "r"
    }
   },
   "outputs": [
    {
     "data": {
      "text/plain": [
       "NULL"
      ]
     },
     "metadata": {},
     "output_type": "display_data"
    }
   ],
   "source": [
    "instance$rusult_y\n"
   ]
  },
  {
   "cell_type": "markdown",
   "metadata": {},
   "source": [
    "### 以上就是第一种方法，接下来介绍第二种方法\n",
    "\n",
    "这种方式方法把调整参数、将调整好的参数应用于模型放到一起了，但是也需要提前设定好各种需要的参数。"
   ]
  },
  {
   "cell_type": "code",
   "execution_count": 52,
   "metadata": {
    "vscode": {
     "languageId": "r"
    }
   },
   "outputs": [],
   "source": [
    "task <- tsk(\"pima\") # 创建任务\n",
    "\n",
    "leanrer <- lrn(\"classif.rpart\") # 选择学习器\n",
    "\n",
    "search_space <- ps(\n",
    "    cp = p_dbl(0.001, 0.1),\n",
    "    minsplit = p_int(1, 10)\n",
    ") # 设定搜索范围\n",
    "\n",
    "terminator <- trm(\"evals\", n_evals = 10) # 设定停止标志\n",
    "\n",
    "tuner <- tnr(\"random_search\") # 选择搜索方法\n",
    "\n",
    "resampling <- rsmp(\"holdout\") # 选择重抽样方法\n",
    "\n",
    "measure <- msr(\"classif.acc\") # 选择评价指标\n",
    "\n",
    "# 训练\n",
    "at <- AutoTuner$new(\n",
    "    learner = learner,\n",
    "    resampling = resampling,\n",
    "    search_space = search_space,\n",
    "    measure = measure,\n",
    "    tuner = tuner,\n",
    "    terminator = terminator\n",
    ")\n"
   ]
  },
  {
   "cell_type": "markdown",
   "metadata": {},
   "source": [
    "自动选择最优参数并作用于数据："
   ]
  },
  {
   "cell_type": "code",
   "execution_count": 53,
   "metadata": {
    "vscode": {
     "languageId": "r"
    }
   },
   "outputs": [
    {
     "name": "stdout",
     "output_type": "stream",
     "text": [
      "INFO  [10:37:18.978] [bbotk] Starting to optimize 2 parameter(s) with '<OptimizerBatchRandomSearch>' and '<TerminatorEvals> [n_evals=10, k=0]'\n",
      "INFO  [10:37:18.996] [bbotk] Evaluating 1 configuration(s)\n",
      "INFO  [10:37:19.002] [mlr3] Running benchmark with 1 resampling iterations\n",
      "INFO  [10:37:19.006] [mlr3] Applying learner 'classif.rpart' on task 'pima' (iter 1/1)\n",
      "INFO  [10:37:19.017] [mlr3] Finished benchmark\n",
      "INFO  [10:37:19.038] [bbotk] Result of batch 1:\n",
      "INFO  [10:37:19.041] [bbotk]         cp minsplit classif.acc warnings errors runtime_learners\n",
      "INFO  [10:37:19.041] [bbotk]  0.0839448       10   0.6835938        0      0            0.006\n",
      "INFO  [10:37:19.041] [bbotk]                                 uhash\n",
      "INFO  [10:37:19.041] [bbotk]  26d2d7ec-4960-460e-90db-18cf5b4ac7b5\n",
      "INFO  [10:37:19.049] [bbotk] Evaluating 1 configuration(s)\n",
      "INFO  [10:37:19.056] [mlr3] Running benchmark with 1 resampling iterations\n",
      "INFO  [10:37:19.061] [mlr3] Applying learner 'classif.rpart' on task 'pima' (iter 1/1)\n",
      "INFO  [10:37:19.074] [mlr3] Finished benchmark\n",
      "INFO  [10:37:19.095] [bbotk] Result of batch 2:\n",
      "INFO  [10:37:19.098] [bbotk]           cp minsplit classif.acc warnings errors runtime_learners\n",
      "INFO  [10:37:19.098] [bbotk]  0.001209763       10   0.6601562        0      0            0.008\n",
      "INFO  [10:37:19.098] [bbotk]                                 uhash\n",
      "INFO  [10:37:19.098] [bbotk]  6b5eda37-372b-424c-8910-79927f620448\n",
      "INFO  [10:37:19.106] [bbotk] Evaluating 1 configuration(s)\n",
      "INFO  [10:37:19.113] [mlr3] Running benchmark with 1 resampling iterations\n",
      "INFO  [10:37:19.118] [mlr3] Applying learner 'classif.rpart' on task 'pima' (iter 1/1)\n",
      "INFO  [10:37:19.133] [mlr3] Finished benchmark\n",
      "INFO  [10:37:19.165] [bbotk] Result of batch 3:\n",
      "INFO  [10:37:19.168] [bbotk]           cp minsplit classif.acc warnings errors runtime_learners\n",
      "INFO  [10:37:19.168] [bbotk]  0.007786432        2   0.6835938        0      0            0.009\n",
      "INFO  [10:37:19.168] [bbotk]                                 uhash\n",
      "INFO  [10:37:19.168] [bbotk]  a601ea19-ed2f-487d-b79d-ce1957c41fde\n",
      "INFO  [10:37:19.177] [bbotk] Evaluating 1 configuration(s)\n",
      "INFO  [10:37:19.184] [mlr3] Running benchmark with 1 resampling iterations\n",
      "INFO  [10:37:19.189] [mlr3] Applying learner 'classif.rpart' on task 'pima' (iter 1/1)\n",
      "INFO  [10:37:19.202] [mlr3] Finished benchmark\n",
      "INFO  [10:37:19.226] [bbotk] Result of batch 4:\n",
      "INFO  [10:37:19.229] [bbotk]          cp minsplit classif.acc warnings errors runtime_learners\n",
      "INFO  [10:37:19.229] [bbotk]  0.06265117        6   0.6835938        0      0            0.008\n",
      "INFO  [10:37:19.229] [bbotk]                                 uhash\n",
      "INFO  [10:37:19.229] [bbotk]  050e6792-7243-4bc3-b7a4-9d13a7a28114\n",
      "INFO  [10:37:19.237] [bbotk] Evaluating 1 configuration(s)\n",
      "INFO  [10:37:19.243] [mlr3] Running benchmark with 1 resampling iterations\n",
      "INFO  [10:37:19.248] [mlr3] Applying learner 'classif.rpart' on task 'pima' (iter 1/1)\n",
      "INFO  [10:37:19.261] [mlr3] Finished benchmark\n",
      "INFO  [10:37:19.286] [bbotk] Result of batch 5:\n",
      "INFO  [10:37:19.289] [bbotk]          cp minsplit classif.acc warnings errors runtime_learners\n",
      "INFO  [10:37:19.289] [bbotk]  0.09741621        1   0.6835938        0      0            0.008\n",
      "INFO  [10:37:19.289] [bbotk]                                 uhash\n",
      "INFO  [10:37:19.289] [bbotk]  d0745407-527d-48a2-8fbf-57e705292703\n",
      "INFO  [10:37:19.297] [bbotk] Evaluating 1 configuration(s)\n",
      "INFO  [10:37:19.303] [mlr3] Running benchmark with 1 resampling iterations\n",
      "INFO  [10:37:19.308] [mlr3] Applying learner 'classif.rpart' on task 'pima' (iter 1/1)\n",
      "INFO  [10:37:19.318] [mlr3] Finished benchmark\n",
      "INFO  [10:37:19.338] [bbotk] Result of batch 6:\n",
      "INFO  [10:37:19.340] [bbotk]          cp minsplit classif.acc warnings errors runtime_learners\n",
      "INFO  [10:37:19.340] [bbotk]  0.09692643        6   0.6835938        0      0            0.006\n",
      "INFO  [10:37:19.340] [bbotk]                                 uhash\n",
      "INFO  [10:37:19.340] [bbotk]  50700bb9-c55b-407e-803a-b0bb96cd8db6\n",
      "INFO  [10:37:19.347] [bbotk] Evaluating 1 configuration(s)\n",
      "INFO  [10:37:19.352] [mlr3] Running benchmark with 1 resampling iterations\n",
      "INFO  [10:37:19.356] [mlr3] Applying learner 'classif.rpart' on task 'pima' (iter 1/1)\n",
      "INFO  [10:37:19.374] [mlr3] Finished benchmark\n",
      "INFO  [10:37:19.395] [bbotk] Result of batch 7:\n",
      "INFO  [10:37:19.397] [bbotk]          cp minsplit classif.acc warnings errors runtime_learners\n",
      "INFO  [10:37:19.397] [bbotk]  0.07039618        8   0.6835938        0      0            0.012\n",
      "INFO  [10:37:19.397] [bbotk]                                 uhash\n",
      "INFO  [10:37:19.397] [bbotk]  a61568f0-7709-4ffd-98d4-6330f13cf3db\n",
      "INFO  [10:37:19.403] [bbotk] Evaluating 1 configuration(s)\n",
      "INFO  [10:37:19.408] [mlr3] Running benchmark with 1 resampling iterations\n",
      "INFO  [10:37:19.412] [mlr3] Applying learner 'classif.rpart' on task 'pima' (iter 1/1)\n",
      "INFO  [10:37:19.423] [mlr3] Finished benchmark\n",
      "INFO  [10:37:19.444] [bbotk] Result of batch 8:\n",
      "INFO  [10:37:19.447] [bbotk]          cp minsplit classif.acc warnings errors runtime_learners\n",
      "INFO  [10:37:19.447] [bbotk]  0.06922067        5   0.6835938        0      0            0.007\n",
      "INFO  [10:37:19.447] [bbotk]                                 uhash\n",
      "INFO  [10:37:19.447] [bbotk]  c09d901a-6470-4f0f-a49d-77ead1d72e04\n",
      "INFO  [10:37:19.454] [bbotk] Evaluating 1 configuration(s)\n",
      "INFO  [10:37:19.459] [mlr3] Running benchmark with 1 resampling iterations\n",
      "INFO  [10:37:19.463] [mlr3] Applying learner 'classif.rpart' on task 'pima' (iter 1/1)\n",
      "INFO  [10:37:19.474] [mlr3] Finished benchmark\n",
      "INFO  [10:37:19.494] [bbotk] Result of batch 9:\n",
      "INFO  [10:37:19.496] [bbotk]          cp minsplit classif.acc warnings errors runtime_learners\n",
      "INFO  [10:37:19.496] [bbotk]  0.07182922        9   0.6835938        0      0            0.007\n",
      "INFO  [10:37:19.496] [bbotk]                                 uhash\n",
      "INFO  [10:37:19.496] [bbotk]  1f444e70-9d6b-4911-97f8-daf19dd8cb21\n",
      "INFO  [10:37:19.503] [bbotk] Evaluating 1 configuration(s)\n",
      "INFO  [10:37:19.508] [mlr3] Running benchmark with 1 resampling iterations\n",
      "INFO  [10:37:19.512] [mlr3] Applying learner 'classif.rpart' on task 'pima' (iter 1/1)\n",
      "INFO  [10:37:19.524] [mlr3] Finished benchmark\n",
      "INFO  [10:37:19.551] [bbotk] Result of batch 10:\n",
      "INFO  [10:37:19.553] [bbotk]          cp minsplit classif.acc warnings errors runtime_learners\n",
      "INFO  [10:37:19.553] [bbotk]  0.07190359        2   0.6835938        0      0            0.007\n",
      "INFO  [10:37:19.553] [bbotk]                                 uhash\n",
      "INFO  [10:37:19.553] [bbotk]  cfe747c8-5f54-4f55-8010-2064cc1ba115\n",
      "INFO  [10:37:19.568] [bbotk] Finished optimizing after 10 evaluation(s)\n",
      "INFO  [10:37:19.568] [bbotk] Result:\n",
      "INFO  [10:37:19.570] [bbotk]         cp minsplit learner_param_vals  x_domain classif.acc\n",
      "INFO  [10:37:19.570] [bbotk]      <num>    <int>             <list>    <list>       <num>\n",
      "INFO  [10:37:19.570] [bbotk]  0.0839448       10          <list[3]> <list[2]>   0.6835938\n"
     ]
    }
   ],
   "source": [
    "at$train(task)\n"
   ]
  },
  {
   "cell_type": "code",
   "execution_count": 54,
   "metadata": {
    "vscode": {
     "languageId": "r"
    }
   },
   "outputs": [
    {
     "data": {
      "text/plain": [
       "<PredictionClassif> for 768 observations:\n",
       "    row_ids truth response\n",
       "          1   pos      pos\n",
       "          2   neg      neg\n",
       "          3   pos      neg\n",
       "---                       \n",
       "        766   neg      neg\n",
       "        767   pos      neg\n",
       "        768   neg      neg"
      ]
     },
     "metadata": {},
     "output_type": "display_data"
    }
   ],
   "source": [
    "at$predict(task)\n"
   ]
  },
  {
   "cell_type": "markdown",
   "metadata": {},
   "source": [
    "这个方法也有个简便写法："
   ]
  },
  {
   "cell_type": "code",
   "execution_count": 55,
   "metadata": {
    "vscode": {
     "languageId": "r"
    }
   },
   "outputs": [
    {
     "name": "stdout",
     "output_type": "stream",
     "text": [
      "INFO  [10:38:23.192] [bbotk] Starting to optimize 2 parameter(s) with '<OptimizerBatchRandomSearch>' and '<TerminatorEvals> [n_evals=10, k=0]'\n",
      "INFO  [10:38:23.211] [bbotk] Evaluating 2 configuration(s)\n",
      "INFO  [10:38:23.218] [mlr3] Running benchmark with 2 resampling iterations\n",
      "INFO  [10:38:23.224] [mlr3] Applying learner 'classif.rpart' on task 'pima' (iter 1/1)\n",
      "INFO  [10:38:23.240] [mlr3] Applying learner 'classif.rpart' on task 'pima' (iter 1/1)\n",
      "INFO  [10:38:23.253] [mlr3] Finished benchmark\n",
      "INFO  [10:38:23.290] [bbotk] Result of batch 1:\n",
      "INFO  [10:38:23.292] [bbotk]          cp minsplit classif.acc warnings errors runtime_learners\n",
      "INFO  [10:38:23.292] [bbotk]  0.07240712        8   0.7421875        0      0            0.008\n",
      "INFO  [10:38:23.292] [bbotk]  0.06820181        4   0.7421875        0      0            0.008\n",
      "INFO  [10:38:23.292] [bbotk]                                 uhash\n",
      "INFO  [10:38:23.292] [bbotk]  cb871e89-1e70-4c21-ac18-5e72a59bcd10\n",
      "INFO  [10:38:23.292] [bbotk]  7fabe98d-ac4d-4e94-80c6-f9df35799f19\n",
      "INFO  [10:38:23.299] [bbotk] Evaluating 2 configuration(s)\n",
      "INFO  [10:38:23.305] [mlr3] Running benchmark with 2 resampling iterations\n",
      "INFO  [10:38:23.310] [mlr3] Applying learner 'classif.rpart' on task 'pima' (iter 1/1)\n",
      "INFO  [10:38:23.326] [mlr3] Applying learner 'classif.rpart' on task 'pima' (iter 1/1)\n",
      "INFO  [10:38:23.341] [mlr3] Finished benchmark\n",
      "INFO  [10:38:23.374] [bbotk] Result of batch 2:\n",
      "INFO  [10:38:23.377] [bbotk]          cp minsplit classif.acc warnings errors runtime_learners\n",
      "INFO  [10:38:23.377] [bbotk]  0.06198682        4   0.7421875        0      0            0.008\n",
      "INFO  [10:38:23.377] [bbotk]  0.03069248        5   0.7421875        0      0            0.009\n",
      "INFO  [10:38:23.377] [bbotk]                                 uhash\n",
      "INFO  [10:38:23.377] [bbotk]  71a61046-5405-42d6-a724-01cc9a22af16\n",
      "INFO  [10:38:23.377] [bbotk]  1b8e47fb-6245-4c16-9111-b972b49282d2\n",
      "INFO  [10:38:23.385] [bbotk] Evaluating 2 configuration(s)\n",
      "INFO  [10:38:23.392] [mlr3] Running benchmark with 2 resampling iterations\n",
      "INFO  [10:38:23.397] [mlr3] Applying learner 'classif.rpart' on task 'pima' (iter 1/1)\n",
      "INFO  [10:38:23.413] [mlr3] Applying learner 'classif.rpart' on task 'pima' (iter 1/1)\n",
      "INFO  [10:38:23.424] [mlr3] Finished benchmark\n",
      "INFO  [10:38:23.449] [bbotk] Result of batch 3:\n",
      "INFO  [10:38:23.451] [bbotk]          cp minsplit classif.acc warnings errors runtime_learners\n",
      "INFO  [10:38:23.451] [bbotk]  0.09958976        4   0.7421875        0      0            0.009\n",
      "INFO  [10:38:23.451] [bbotk]  0.09416894        3   0.7421875        0      0            0.006\n",
      "INFO  [10:38:23.451] [bbotk]                                 uhash\n",
      "INFO  [10:38:23.451] [bbotk]  8a29b6cf-8226-41b9-bd31-db4ba3ad23cd\n",
      "INFO  [10:38:23.451] [bbotk]  d1658d3b-1705-478f-a5df-2a61434f483e\n",
      "INFO  [10:38:23.458] [bbotk] Evaluating 2 configuration(s)\n",
      "INFO  [10:38:23.468] [mlr3] Running benchmark with 2 resampling iterations\n",
      "INFO  [10:38:23.474] [mlr3] Applying learner 'classif.rpart' on task 'pima' (iter 1/1)\n",
      "INFO  [10:38:23.487] [mlr3] Applying learner 'classif.rpart' on task 'pima' (iter 1/1)\n",
      "INFO  [10:38:23.497] [mlr3] Finished benchmark\n",
      "INFO  [10:38:23.522] [bbotk] Result of batch 4:\n",
      "INFO  [10:38:23.525] [bbotk]          cp minsplit classif.acc warnings errors runtime_learners\n",
      "INFO  [10:38:23.525] [bbotk]  0.06104628        8   0.7421875        0      0            0.007\n",
      "INFO  [10:38:23.525] [bbotk]  0.08314967        5   0.7421875        0      0            0.006\n",
      "INFO  [10:38:23.525] [bbotk]                                 uhash\n",
      "INFO  [10:38:23.525] [bbotk]  337f3e62-2772-4b90-8e3c-6693c07c8d66\n",
      "INFO  [10:38:23.525] [bbotk]  0fe71bde-2a8e-4582-a5ea-728558aaaa90\n",
      "INFO  [10:38:23.531] [bbotk] Evaluating 2 configuration(s)\n",
      "INFO  [10:38:23.536] [mlr3] Running benchmark with 2 resampling iterations\n",
      "INFO  [10:38:23.541] [mlr3] Applying learner 'classif.rpart' on task 'pima' (iter 1/1)\n",
      "INFO  [10:38:23.553] [mlr3] Applying learner 'classif.rpart' on task 'pima' (iter 1/1)\n",
      "INFO  [10:38:23.564] [mlr3] Finished benchmark\n",
      "INFO  [10:38:23.589] [bbotk] Result of batch 5:\n",
      "INFO  [10:38:23.591] [bbotk]          cp minsplit classif.acc warnings errors runtime_learners\n",
      "INFO  [10:38:23.591] [bbotk]  0.09738059        1   0.7421875        0      0            0.006\n",
      "INFO  [10:38:23.591] [bbotk]  0.04422492        8   0.7421875        0      0            0.006\n",
      "INFO  [10:38:23.591] [bbotk]                                 uhash\n",
      "INFO  [10:38:23.591] [bbotk]  4cf896f8-f0b4-4f09-9d36-fa2f770f2ad0\n",
      "INFO  [10:38:23.591] [bbotk]  38c45243-0426-4e0d-88af-bc1e198a44bc\n",
      "INFO  [10:38:23.606] [bbotk] Finished optimizing after 10 evaluation(s)\n",
      "INFO  [10:38:23.606] [bbotk] Result:\n",
      "INFO  [10:38:23.608] [bbotk]          cp minsplit learner_param_vals  x_domain classif.acc\n",
      "INFO  [10:38:23.608] [bbotk]       <num>    <int>             <list>    <list>       <num>\n",
      "INFO  [10:38:23.608] [bbotk]  0.07240712        8          <list[3]> <list[2]>   0.7421875\n"
     ]
    }
   ],
   "source": [
    "auto_learner <- auto_tuner(\n",
    "  learner = learner,\n",
    "  resampling = resampling,\n",
    "  measure = measure,\n",
    "  search_space = search_space,\n",
    "  tuner = tnr(\"random_search\", batch_size = 2),\n",
    "  term_evals = 10\n",
    ")\n",
    "\n",
    "auto_learner$train(task)\n"
   ]
  },
  {
   "cell_type": "code",
   "execution_count": 56,
   "metadata": {
    "vscode": {
     "languageId": "r"
    }
   },
   "outputs": [
    {
     "data": {
      "text/plain": [
       "<PredictionClassif> for 768 observations:\n",
       "    row_ids truth response\n",
       "          1   pos      pos\n",
       "          2   neg      neg\n",
       "          3   pos      neg\n",
       "---                       \n",
       "        766   neg      neg\n",
       "        767   pos      neg\n",
       "        768   neg      neg"
      ]
     },
     "metadata": {},
     "output_type": "display_data"
    }
   ],
   "source": [
    "auto_learner$predict(task)\n"
   ]
  },
  {
   "cell_type": "markdown",
   "metadata": {},
   "source": [
    "## 超参数设定的方法\n",
    "\n",
    "每次单独设置超参数的范围等可能会显得比较笨重无聊，mlr3也提供另外一种可以在选择学习器时进行设定超参数的方法。\n",
    "\n"
   ]
  },
  {
   "cell_type": "code",
   "execution_count": 57,
   "metadata": {
    "vscode": {
     "languageId": "r"
    }
   },
   "outputs": [
    {
     "name": "stderr",
     "output_type": "stream",
     "text": [
      "Warning message:\n",
      "“Package 'e1071' required but not installed for Learner 'classif.svm'”\n"
     ]
    },
    {
     "name": "stdout",
     "output_type": "stream",
     "text": [
      "<ParamSet(1)>\n",
      "       id    class lower upper nlevels        default  value\n",
      "   <char>   <char> <num> <num>   <num>         <list> <list>\n",
      "1: degree ParamInt     1     3       3 <NoDefault[0]>       \n"
     ]
    }
   ],
   "source": [
    "# 在选择学习器时设置超参数范围\n",
    "learner <- lrn(\"classif.svm\")\n",
    "learner$param_set$values$kernel <- \"polynomial\"\n",
    "learner$param_set$values$degree <- to_tune(lower = 1, upper = 3)\n",
    "\n",
    "print(learner$param_set$search_space())\n"
   ]
  },
  {
   "cell_type": "markdown",
   "metadata": {},
   "source": [
    "但其实这样也有问题，这个方法要求你对算法很熟悉，能够记住所有超参数记忆它们在mlr3中的拼写！但很显然这有点困难，所有我还是推荐第一种，每次单独设置，记不住还可以查看一下具体的超参数。"
   ]
  },
  {
   "cell_type": "markdown",
   "metadata": {},
   "source": [
    "## 参数依赖\n",
    "\n",
    "某些超参数只有在某些条件下才有效，比如支持向量机（SVM），它的degree参数只有在kernel是polynomial时才有效，这种情况也可以在mlr3中设置好。"
   ]
  },
  {
   "cell_type": "code",
   "execution_count": 63,
   "metadata": {
    "vscode": {
     "languageId": "r"
    }
   },
   "outputs": [],
   "source": [
    "# library(data.table)\n",
    "search_space <- ps(\n",
    "    cost = p_dbl(-1, 1,\n",
    "        trafo = function(x) 10^x\n",
    "    ), # 可进行数据变换\n",
    "    kernel = p_fct(c(\n",
    "        \"polynomial\",\n",
    "        \"radial\"\n",
    "    )),\n",
    "    degree = p_int(1, 3,\n",
    "        depends = kernel == \"polynomial\"\n",
    "    ) # 设置参数依赖\n",
    ")\n"
   ]
  },
  {
   "cell_type": "code",
   "execution_count": 64,
   "metadata": {
    "vscode": {
     "languageId": "r"
    }
   },
   "outputs": [
    {
     "data": {
      "text/plain": [
       "<Design> with 12 rows:\n",
       "     cost     kernel degree\n",
       "    <num>     <char>  <int>\n",
       " 1:    -1 polynomial      1\n",
       " 2:    -1 polynomial      2\n",
       " 3:    -1 polynomial      3\n",
       " 4:    -1     radial     NA\n",
       " 5:     0 polynomial      1\n",
       " 6:     0 polynomial      2\n",
       " 7:     0 polynomial      3\n",
       " 8:     0     radial     NA\n",
       " 9:     1 polynomial      1\n",
       "10:     1 polynomial      2\n",
       "11:     1 polynomial      3\n",
       "12:     1     radial     NA"
      ]
     },
     "metadata": {},
     "output_type": "display_data"
    }
   ],
   "source": [
    "generate_design_grid(search_space, 3)\n"
   ]
  },
  {
   "cell_type": "code",
   "execution_count": 65,
   "metadata": {
    "vscode": {
     "languageId": "r"
    }
   },
   "outputs": [
    {
     "data": {
      "text/html": [
       "<table class=\"dataframe\">\n",
       "<caption>A data.table: 12 × 3</caption>\n",
       "<thead>\n",
       "\t<tr><th scope=col>cost</th><th scope=col>kernel</th><th scope=col>degree</th></tr>\n",
       "\t<tr><th scope=col>&lt;dbl&gt;</th><th scope=col>&lt;chr&gt;</th><th scope=col>&lt;int&gt;</th></tr>\n",
       "</thead>\n",
       "<tbody>\n",
       "\t<tr><td> 0.1</td><td>polynomial</td><td> 1</td></tr>\n",
       "\t<tr><td> 0.1</td><td>polynomial</td><td> 2</td></tr>\n",
       "\t<tr><td> 0.1</td><td>polynomial</td><td> 3</td></tr>\n",
       "\t<tr><td> 0.1</td><td>radial    </td><td>NA</td></tr>\n",
       "\t<tr><td> 1.0</td><td>polynomial</td><td> 1</td></tr>\n",
       "\t<tr><td> 1.0</td><td>polynomial</td><td> 2</td></tr>\n",
       "\t<tr><td> 1.0</td><td>polynomial</td><td> 3</td></tr>\n",
       "\t<tr><td> 1.0</td><td>radial    </td><td>NA</td></tr>\n",
       "\t<tr><td>10.0</td><td>polynomial</td><td> 1</td></tr>\n",
       "\t<tr><td>10.0</td><td>polynomial</td><td> 2</td></tr>\n",
       "\t<tr><td>10.0</td><td>polynomial</td><td> 3</td></tr>\n",
       "\t<tr><td>10.0</td><td>radial    </td><td>NA</td></tr>\n",
       "</tbody>\n",
       "</table>\n"
      ],
      "text/latex": [
       "A data.table: 12 × 3\n",
       "\\begin{tabular}{lll}\n",
       " cost & kernel & degree\\\\\n",
       " <dbl> & <chr> & <int>\\\\\n",
       "\\hline\n",
       "\t  0.1 & polynomial &  1\\\\\n",
       "\t  0.1 & polynomial &  2\\\\\n",
       "\t  0.1 & polynomial &  3\\\\\n",
       "\t  0.1 & radial     & NA\\\\\n",
       "\t  1.0 & polynomial &  1\\\\\n",
       "\t  1.0 & polynomial &  2\\\\\n",
       "\t  1.0 & polynomial &  3\\\\\n",
       "\t  1.0 & radial     & NA\\\\\n",
       "\t 10.0 & polynomial &  1\\\\\n",
       "\t 10.0 & polynomial &  2\\\\\n",
       "\t 10.0 & polynomial &  3\\\\\n",
       "\t 10.0 & radial     & NA\\\\\n",
       "\\end{tabular}\n"
      ],
      "text/markdown": [
       "\n",
       "A data.table: 12 × 3\n",
       "\n",
       "| cost &lt;dbl&gt; | kernel &lt;chr&gt; | degree &lt;int&gt; |\n",
       "|---|---|---|\n",
       "|  0.1 | polynomial |  1 |\n",
       "|  0.1 | polynomial |  2 |\n",
       "|  0.1 | polynomial |  3 |\n",
       "|  0.1 | radial     | NA |\n",
       "|  1.0 | polynomial |  1 |\n",
       "|  1.0 | polynomial |  2 |\n",
       "|  1.0 | polynomial |  3 |\n",
       "|  1.0 | radial     | NA |\n",
       "| 10.0 | polynomial |  1 |\n",
       "| 10.0 | polynomial |  2 |\n",
       "| 10.0 | polynomial |  3 |\n",
       "| 10.0 | radial     | NA |\n",
       "\n"
      ],
      "text/plain": [
       "   cost kernel     degree\n",
       "1   0.1 polynomial  1    \n",
       "2   0.1 polynomial  2    \n",
       "3   0.1 polynomial  3    \n",
       "4   0.1 radial     NA    \n",
       "5   1.0 polynomial  1    \n",
       "6   1.0 polynomial  2    \n",
       "7   1.0 polynomial  3    \n",
       "8   1.0 radial     NA    \n",
       "9  10.0 polynomial  1    \n",
       "10 10.0 polynomial  2    \n",
       "11 10.0 polynomial  3    \n",
       "12 10.0 radial     NA    "
      ]
     },
     "metadata": {},
     "output_type": "display_data"
    }
   ],
   "source": [
    "data.table::rbindlist(generate_design_grid(search_space, 3)$transpose(),\n",
    "    fill = TRUE\n",
    ")\n"
   ]
  },
  {
   "cell_type": "markdown",
   "metadata": {},
   "source": [
    "进行以上设置后在进行后面的操作时不会出错，自动处理。"
   ]
  },
  {
   "cell_type": "markdown",
   "metadata": {},
   "source": []
  }
 ],
 "metadata": {
  "kernelspec": {
   "display_name": "R",
   "language": "R",
   "name": "ir"
  },
  "language_info": {
   "codemirror_mode": "r",
   "file_extension": ".r",
   "mimetype": "text/x-r-source",
   "name": "R",
   "pygments_lexer": "r",
   "version": "4.4.1"
  }
 },
 "nbformat": 4,
 "nbformat_minor": 2
}
