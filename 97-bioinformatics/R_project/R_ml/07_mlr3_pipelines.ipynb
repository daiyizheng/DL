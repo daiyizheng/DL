{
 "cells": [
  {
   "cell_type": "markdown",
   "metadata": {},
   "source": [
    "# mlr3:pipelines\n",
    "\n",
    "`mlr3pipelines`是一种数据流编程套件，完整的机器学习工作流可被称为`Graph/Pipelines`，包含数据预处理、建模、多个模型比较等，不同的模型需要不同的数据预处理方法，另外还有集成学习、各种非线性模型等，这些都可以通过`mlr3pipelines`解决。\n",
    "\n",
    "数据预处理的`R`包有很多，比如`caret`、`recipes`等，`mlr3pipelines`创造性的使用了图流的方式。\n",
    "\n",
    "<image src=\"images/pipelines.webp\">"
   ]
  },
  {
   "cell_type": "markdown",
   "metadata": {},
   "source": [
    "## pipeops\n",
    "进行数据预处理的各种方法在`mlr3pipelines`中被称为`pipeops`，目前基本涵盖常见的数据预处理方法，比如独热编码、稀疏矩阵、缺失值处理、降维、数据标准化、因子分组等等。\n",
    "\n",
    "可以用来连接预处理和模型，或者构建复杂的统计建模步骤，例如多种不同的预处理连接多种不同的模型等\n",
    "\n",
    "查看所有的pipeops"
   ]
  },
  {
   "cell_type": "code",
   "execution_count": 23,
   "metadata": {
    "vscode": {
     "languageId": "r"
    }
   },
   "outputs": [
    {
     "data": {
      "text/html": [
       "<table class=\"dataframe\">\n",
       "<caption>A data.table: 64 × 11</caption>\n",
       "<thead>\n",
       "\t<tr><th scope=col>key</th><th scope=col>label</th><th scope=col>packages</th><th scope=col>tags</th><th scope=col>feature_types</th><th scope=col>input.num</th><th scope=col>output.num</th><th scope=col>input.type.train</th><th scope=col>input.type.predict</th><th scope=col>output.type.train</th><th scope=col>output.type.predict</th></tr>\n",
       "\t<tr><th scope=col>&lt;chr&gt;</th><th scope=col>&lt;chr&gt;</th><th scope=col>&lt;list&gt;</th><th scope=col>&lt;list&gt;</th><th scope=col>&lt;list&gt;</th><th scope=col>&lt;int&gt;</th><th scope=col>&lt;int&gt;</th><th scope=col>&lt;list&gt;</th><th scope=col>&lt;list&gt;</th><th scope=col>&lt;list&gt;</th><th scope=col>&lt;list&gt;</th></tr>\n",
       "</thead>\n",
       "<tbody>\n",
       "\t<tr><td>boxcox         </td><td>Box-Cox Transformation of Numeric Features                               </td><td>mlr3pipelines, bestNormalize</td><td>data transform</td><td>numeric, integer</td><td> 1</td><td> 1</td><td>Task</td><td>Task</td><td>Task</td><td>Task</td></tr>\n",
       "\t<tr><td>branch         </td><td>Path Branching                                                           </td><td>mlr3pipelines</td><td>meta</td><td>NA</td><td> 1</td><td>NA</td><td>*</td><td>*</td><td>*</td><td>*</td></tr>\n",
       "\t<tr><td>chunk          </td><td>Chunk Input into Multiple Outputs                                        </td><td>mlr3pipelines</td><td>meta</td><td>NA</td><td> 1</td><td>NA</td><td>Task</td><td>Task</td><td>Task</td><td>Task</td></tr>\n",
       "\t<tr><td>classbalancing </td><td>Class Balancing                                                          </td><td>mlr3pipelines</td><td>imbalanced data, data transform </td><td>logical  , integer  , numeric  , character, factor   , ordered  , POSIXct  </td><td> 1</td><td> 1</td><td>TaskClassif</td><td>TaskClassif</td><td>TaskClassif</td><td>TaskClassif</td></tr>\n",
       "\t<tr><td>classifavg     </td><td>Majority Vote Prediction                                                 </td><td>mlr3pipelines, stats        </td><td>ensemble</td><td>NA</td><td>NA</td><td> 1</td><td>NULL</td><td>PredictionClassif</td><td>NULL</td><td>PredictionClassif</td></tr>\n",
       "\t<tr><td>classweights   </td><td>Class Weights for Sample Weighting                                       </td><td>mlr3pipelines</td><td>imbalanced data, data transform </td><td>logical  , integer  , numeric  , character, factor   , ordered  , POSIXct  </td><td> 1</td><td> 1</td><td>TaskClassif</td><td>TaskClassif</td><td>TaskClassif</td><td>TaskClassif</td></tr>\n",
       "\t<tr><td>colapply       </td><td>Apply a Function to each Column of a Task                                </td><td>mlr3pipelines</td><td>data transform</td><td>logical  , integer  , numeric  , character, factor   , ordered  , POSIXct  </td><td> 1</td><td> 1</td><td>Task</td><td>Task</td><td>Task</td><td>Task</td></tr>\n",
       "\t<tr><td>collapsefactors</td><td>Collapse Factors                                                         </td><td>mlr3pipelines</td><td>data transform</td><td>factor , ordered</td><td> 1</td><td> 1</td><td>Task</td><td>Task</td><td>Task</td><td>Task</td></tr>\n",
       "\t<tr><td>colroles       </td><td>Change Column Roles of a Task                                            </td><td>mlr3pipelines</td><td>data transform</td><td>logical  , integer  , numeric  , character, factor   , ordered  , POSIXct  </td><td> 1</td><td> 1</td><td>Task</td><td>Task</td><td>Task</td><td>Task</td></tr>\n",
       "\t<tr><td>copy           </td><td>Copy Input Multiple Times                                                </td><td>mlr3pipelines</td><td>meta</td><td>NA</td><td> 1</td><td>NA</td><td>*</td><td>*</td><td>*</td><td>*</td></tr>\n",
       "\t<tr><td>datefeatures   </td><td>Preprocess Date Features                                                 </td><td>mlr3pipelines</td><td>data transform</td><td>POSIXct</td><td> 1</td><td> 1</td><td>Task</td><td>Task</td><td>Task</td><td>Task</td></tr>\n",
       "\t<tr><td>encode         </td><td>Factor Encoding                                                          </td><td>mlr3pipelines, stats        </td><td>encode        , data transform</td><td>factor , ordered</td><td> 1</td><td> 1</td><td>Task</td><td>Task</td><td>Task</td><td>Task</td></tr>\n",
       "\t<tr><td>encodeimpact   </td><td>Conditional Target Value Impact Encoding                                 </td><td>mlr3pipelines</td><td>encode        , data transform</td><td>factor , ordered</td><td> 1</td><td> 1</td><td>Task</td><td>Task</td><td>Task</td><td>Task</td></tr>\n",
       "\t<tr><td>encodelmer     </td><td>Impact Encoding with Random Intercept Models                             </td><td>mlr3pipelines, lme4         , nloptr       </td><td>encode        , data transform</td><td>factor , ordered</td><td> 1</td><td> 1</td><td>Task</td><td>Task</td><td>Task</td><td>Task</td></tr>\n",
       "\t<tr><td>featureunion   </td><td>Aggregate Features from Multiple Inputs                                  </td><td>mlr3pipelines</td><td>ensemble</td><td>NA</td><td>NA</td><td> 1</td><td>Task</td><td>Task</td><td>Task</td><td>Task</td></tr>\n",
       "\t<tr><td>filter         </td><td>Feature Filtering                                                        </td><td>mlr3pipelines</td><td>feature selection, data transform   </td><td>logical  , integer  , numeric  , character, factor   , ordered  , POSIXct  </td><td> 1</td><td> 1</td><td>Task</td><td>Task</td><td>Task</td><td>Task</td></tr>\n",
       "\t<tr><td>fixfactors     </td><td>Fix Factor Levels                                                        </td><td>mlr3pipelines</td><td>robustify     , data transform</td><td>factor , ordered</td><td> 1</td><td> 1</td><td>Task</td><td>Task</td><td>Task</td><td>Task</td></tr>\n",
       "\t<tr><td>histbin        </td><td>Split Numeric Features into Equally Spaced Bins                          </td><td>mlr3pipelines, graphics     </td><td>data transform</td><td>numeric, integer</td><td> 1</td><td> 1</td><td>Task</td><td>Task</td><td>Task</td><td>Task</td></tr>\n",
       "\t<tr><td>ica            </td><td>Independent Component Analysis                                           </td><td>mlr3pipelines, fastICA      </td><td>data transform</td><td>numeric, integer</td><td> 1</td><td> 1</td><td>Task</td><td>Task</td><td>Task</td><td>Task</td></tr>\n",
       "\t<tr><td>imputeconstant </td><td>Impute Features by a Constant                                            </td><td>mlr3pipelines</td><td>missings</td><td>logical  , integer  , numeric  , character, factor   , ordered  , POSIXct  </td><td> 1</td><td> 1</td><td>Task</td><td>Task</td><td>Task</td><td>Task</td></tr>\n",
       "\t<tr><td>imputehist     </td><td>Impute Numerical Features by Histogram                                   </td><td>mlr3pipelines, graphics     </td><td>missings</td><td>integer, numeric</td><td> 1</td><td> 1</td><td>Task</td><td>Task</td><td>Task</td><td>Task</td></tr>\n",
       "\t<tr><td>imputelearner  </td><td>Impute Features by Fitting a Learner                                     </td><td>mlr3pipelines</td><td>missings</td><td>logical, factor , ordered</td><td> 1</td><td> 1</td><td>Task</td><td>Task</td><td>Task</td><td>Task</td></tr>\n",
       "\t<tr><td>imputemean     </td><td>Impute Numerical Features by their Mean                                  </td><td>mlr3pipelines</td><td>missings</td><td>numeric, integer</td><td> 1</td><td> 1</td><td>Task</td><td>Task</td><td>Task</td><td>Task</td></tr>\n",
       "\t<tr><td>imputemedian   </td><td>Impute Numerical Features by their Median                                </td><td>mlr3pipelines, stats        </td><td>missings</td><td>numeric, integer</td><td> 1</td><td> 1</td><td>Task</td><td>Task</td><td>Task</td><td>Task</td></tr>\n",
       "\t<tr><td>imputemode     </td><td>Impute Features by their Mode                                            </td><td>mlr3pipelines</td><td>missings</td><td>factor , integer, logical, numeric, ordered</td><td> 1</td><td> 1</td><td>Task</td><td>Task</td><td>Task</td><td>Task</td></tr>\n",
       "\t<tr><td>imputeoor      </td><td>Out of Range Imputation                                                  </td><td>mlr3pipelines</td><td>missings</td><td>character, factor   , integer  , numeric  , ordered  </td><td> 1</td><td> 1</td><td>Task</td><td>Task</td><td>Task</td><td>Task</td></tr>\n",
       "\t<tr><td>imputesample   </td><td>Impute Features by Sampling                                              </td><td>mlr3pipelines</td><td>missings</td><td>factor , integer, logical, numeric, ordered</td><td> 1</td><td> 1</td><td>Task</td><td>Task</td><td>Task</td><td>Task</td></tr>\n",
       "\t<tr><td>kernelpca      </td><td>Kernelized Principle Component Analysis                                  </td><td>mlr3pipelines, kernlab      </td><td>data transform</td><td>numeric, integer</td><td> 1</td><td> 1</td><td>Task</td><td>Task</td><td>Task</td><td>Task</td></tr>\n",
       "\t<tr><td>learner        </td><td>Wrap a Learner into a PipeOp                                             </td><td>mlr3pipelines</td><td>learner</td><td>NA</td><td> 1</td><td> 1</td><td>TaskClassif</td><td>TaskClassif</td><td>NULL</td><td>PredictionClassif</td></tr>\n",
       "\t<tr><td>learner_cv     </td><td>Wrap a Learner into a PipeOp with Cross-validated Predictions as Features</td><td>mlr3pipelines</td><td>learner       , ensemble      , data transform</td><td>logical  , integer  , numeric  , character, factor   , ordered  , POSIXct  </td><td> 1</td><td> 1</td><td>TaskClassif</td><td>TaskClassif</td><td>TaskClassif</td><td>TaskClassif</td></tr>\n",
       "\t<tr><td>⋮</td><td>⋮</td><td>⋮</td><td>⋮</td><td>⋮</td><td>⋮</td><td>⋮</td><td>⋮</td><td>⋮</td><td>⋮</td><td>⋮</td></tr>\n",
       "\t<tr><td>mutate               </td><td>Add Features According to Expressions                              </td><td>mlr3pipelines</td><td>data transform</td><td>logical  , integer  , numeric  , character, factor   , ordered  , POSIXct  </td><td> 1</td><td>1</td><td>Task</td><td>Task</td><td>Task</td><td>Task</td></tr>\n",
       "\t<tr><td>nmf                  </td><td>Non-negative Matrix Factorization                                  </td><td>mlr3pipelines, MASS         , NMF          </td><td>data transform</td><td>numeric, integer</td><td> 1</td><td>1</td><td>Task</td><td>Task</td><td>Task</td><td>Task</td></tr>\n",
       "\t<tr><td>nop                  </td><td>Simply Push Input Forward                                          </td><td>mlr3pipelines</td><td>meta</td><td>NA</td><td> 1</td><td>1</td><td>*</td><td>*</td><td>*</td><td>*</td></tr>\n",
       "\t<tr><td>ovrsplit             </td><td>Split a Classification Task into Binary Classification Tasks       </td><td>mlr3pipelines</td><td>target transform, multiplicity    </td><td>NA</td><td> 1</td><td>1</td><td>TaskClassif</td><td>TaskClassif</td><td>[TaskClassif]</td><td>[TaskClassif]</td></tr>\n",
       "\t<tr><td>ovrunite             </td><td>Unite Binary Classification Tasks                                  </td><td>mlr3pipelines</td><td>multiplicity, ensemble    </td><td>NA</td><td> 1</td><td>1</td><td>[NULL]</td><td>[PredictionClassif]</td><td>NULL</td><td>PredictionClassif</td></tr>\n",
       "\t<tr><td>pca                  </td><td>Principle Component Analysis                                       </td><td>mlr3pipelines</td><td>data transform</td><td>numeric, integer</td><td> 1</td><td>1</td><td>Task</td><td>Task</td><td>Task</td><td>Task</td></tr>\n",
       "\t<tr><td>proxy                </td><td>Wrap another PipeOp or Graph as a Hyperparameter                   </td><td>mlr3pipelines</td><td>meta</td><td>NA</td><td>NA</td><td>1</td><td>*</td><td>*</td><td>*</td><td>*</td></tr>\n",
       "\t<tr><td>quantilebin          </td><td>Split Numeric Features into Quantile Bins                          </td><td>mlr3pipelines, stats        </td><td>data transform</td><td>numeric, integer</td><td> 1</td><td>1</td><td>Task</td><td>Task</td><td>Task</td><td>Task</td></tr>\n",
       "\t<tr><td>randomprojection     </td><td>Project Numeric Features onto a Randomly Sampled Subspace          </td><td>mlr3pipelines</td><td>data transform</td><td>numeric, integer</td><td> 1</td><td>1</td><td>Task</td><td>Task</td><td>Task</td><td>Task</td></tr>\n",
       "\t<tr><td>randomresponse       </td><td>Generate a Randomized Response Prediction                          </td><td>mlr3pipelines</td><td>abstract</td><td>NA</td><td> 1</td><td>1</td><td>NULL</td><td>Prediction</td><td>NULL</td><td>Prediction</td></tr>\n",
       "\t<tr><td>regravg              </td><td>Weighted Prediction Averaging                                      </td><td>mlr3pipelines</td><td>ensemble</td><td>NA</td><td>NA</td><td>1</td><td>NULL</td><td>PredictionRegr</td><td>NULL</td><td>PredictionRegr</td></tr>\n",
       "\t<tr><td>removeconstants      </td><td>Remove Constant Features                                           </td><td>mlr3pipelines</td><td>robustify     , data transform</td><td>logical  , integer  , numeric  , character, factor   , ordered  , POSIXct  </td><td> 1</td><td>1</td><td>Task</td><td>Task</td><td>Task</td><td>Task</td></tr>\n",
       "\t<tr><td>renamecolumns        </td><td>Rename Columns                                                     </td><td>mlr3pipelines</td><td>data transform</td><td>logical  , integer  , numeric  , character, factor   , ordered  , POSIXct  </td><td> 1</td><td>1</td><td>Task</td><td>Task</td><td>Task</td><td>Task</td></tr>\n",
       "\t<tr><td>replicate            </td><td>Replicate the Input as a Multiplicity                              </td><td>mlr3pipelines</td><td>multiplicity</td><td>NA</td><td> 1</td><td>1</td><td>*</td><td>*</td><td>[*]</td><td>[*]</td></tr>\n",
       "\t<tr><td>scale                </td><td>Center and Scale Numeric Features                                  </td><td>mlr3pipelines</td><td>data transform</td><td>numeric, integer</td><td> 1</td><td>1</td><td>Task</td><td>Task</td><td>Task</td><td>Task</td></tr>\n",
       "\t<tr><td>scalemaxabs          </td><td>Scale Numeric Features with Respect to their Maximum Absolute Value</td><td>mlr3pipelines</td><td>data transform</td><td>numeric, integer</td><td> 1</td><td>1</td><td>Task</td><td>Task</td><td>Task</td><td>Task</td></tr>\n",
       "\t<tr><td>scalerange           </td><td>Linearly Transform Numeric Features to Match Given Boundaries      </td><td>mlr3pipelines</td><td>data transform</td><td>numeric, integer</td><td> 1</td><td>1</td><td>Task</td><td>Task</td><td>Task</td><td>Task</td></tr>\n",
       "\t<tr><td>select               </td><td>Remove Features Depending on a Selector                            </td><td>mlr3pipelines</td><td>feature selection, data transform   </td><td>logical  , integer  , numeric  , character, factor   , ordered  , POSIXct  </td><td> 1</td><td>1</td><td>Task</td><td>Task</td><td>Task</td><td>Task</td></tr>\n",
       "\t<tr><td>smote                </td><td>SMOTE Balancing                                                    </td><td>mlr3pipelines, smotefamily  </td><td>imbalanced data, data transform </td><td>logical  , integer  , numeric  , character, factor   , ordered  , POSIXct  </td><td> 1</td><td>1</td><td>Task</td><td>Task</td><td>Task</td><td>Task</td></tr>\n",
       "\t<tr><td>spatialsign          </td><td>Normalize Data Row-wise                                            </td><td>mlr3pipelines</td><td>data transform</td><td>numeric, integer</td><td> 1</td><td>1</td><td>Task</td><td>Task</td><td>Task</td><td>Task</td></tr>\n",
       "\t<tr><td>subsample            </td><td>Subsampling                                                        </td><td>mlr3pipelines</td><td>data transform</td><td>logical  , integer  , numeric  , character, factor   , ordered  , POSIXct  </td><td> 1</td><td>1</td><td>Task</td><td>Task</td><td>Task</td><td>Task</td></tr>\n",
       "\t<tr><td>targetinvert         </td><td>Invert Target Transformations                                      </td><td>mlr3pipelines</td><td>abstract</td><td>NA</td><td> 2</td><td>1</td><td>NULL, NULL</td><td>function  , Prediction</td><td>NULL</td><td>Prediction</td></tr>\n",
       "\t<tr><td>targetmutate         </td><td>Transform a Target by a Function                                   </td><td>mlr3pipelines</td><td>target transform</td><td>NA</td><td> 1</td><td>2</td><td>Task</td><td>Task</td><td>NULL, Task</td><td>function, Task    </td></tr>\n",
       "\t<tr><td>targettrafoscalerange</td><td>Linearly Transform a Numeric Target to Match Given Boundaries      </td><td>mlr3pipelines</td><td>target transform</td><td>NA</td><td> 1</td><td>2</td><td>TaskRegr</td><td>TaskRegr</td><td>NULL    , TaskRegr</td><td>function, TaskRegr</td></tr>\n",
       "\t<tr><td>textvectorizer       </td><td>Bag-of-word Representation of Character Features                   </td><td>mlr3pipelines, quanteda     , stopwords    </td><td>data transform</td><td>character</td><td> 1</td><td>1</td><td>Task</td><td>Task</td><td>Task</td><td>Task</td></tr>\n",
       "\t<tr><td>threshold            </td><td>Change the Threshold of a Classification Prediction                </td><td>mlr3pipelines</td><td>target transform</td><td>NA</td><td> 1</td><td>1</td><td>NULL</td><td>PredictionClassif</td><td>NULL</td><td>PredictionClassif</td></tr>\n",
       "\t<tr><td>tunethreshold        </td><td>Tune the Threshold of a Classification Prediction                  </td><td>mlr3pipelines, bbotk        </td><td>target transform</td><td>NA</td><td> 1</td><td>1</td><td>Task</td><td>Task</td><td>NULL</td><td>Prediction</td></tr>\n",
       "\t<tr><td>unbranch             </td><td>Unbranch Different Paths                                           </td><td>mlr3pipelines</td><td>meta</td><td>NA</td><td>NA</td><td>1</td><td>*</td><td>*</td><td>*</td><td>*</td></tr>\n",
       "\t<tr><td>vtreat               </td><td>Interface to the vtreat Package                                    </td><td>mlr3pipelines, vtreat       </td><td>encode        , missings      , data transform</td><td>logical  , integer  , numeric  , character, factor   , ordered  , POSIXct  </td><td> 1</td><td>1</td><td>Task</td><td>Task</td><td>Task</td><td>Task</td></tr>\n",
       "\t<tr><td>yeojohnson           </td><td>Yeo-Johnson Transformation of Numeric Features                     </td><td>mlr3pipelines, bestNormalize</td><td>data transform</td><td>numeric, integer</td><td> 1</td><td>1</td><td>Task</td><td>Task</td><td>Task</td><td>Task</td></tr>\n",
       "</tbody>\n",
       "</table>\n"
      ],
      "text/latex": [
       "A data.table: 64 × 11\n",
       "\\begin{tabular}{lllllllllll}\n",
       " key & label & packages & tags & feature\\_types & input.num & output.num & input.type.train & input.type.predict & output.type.train & output.type.predict\\\\\n",
       " <chr> & <chr> & <list> & <list> & <list> & <int> & <int> & <list> & <list> & <list> & <list>\\\\\n",
       "\\hline\n",
       "\t boxcox          & Box-Cox Transformation of Numeric Features                                & mlr3pipelines, bestNormalize & data transform & numeric, integer &  1 &  1 & Task & Task & Task & Task\\\\\n",
       "\t branch          & Path Branching                                                            & mlr3pipelines & meta & NA &  1 & NA & * & * & * & *\\\\\n",
       "\t chunk           & Chunk Input into Multiple Outputs                                         & mlr3pipelines & meta & NA &  1 & NA & Task & Task & Task & Task\\\\\n",
       "\t classbalancing  & Class Balancing                                                           & mlr3pipelines & imbalanced data, data transform  & logical  , integer  , numeric  , character, factor   , ordered  , POSIXct   &  1 &  1 & TaskClassif & TaskClassif & TaskClassif & TaskClassif\\\\\n",
       "\t classifavg      & Majority Vote Prediction                                                  & mlr3pipelines, stats         & ensemble & NA & NA &  1 & NULL & PredictionClassif & NULL & PredictionClassif\\\\\n",
       "\t classweights    & Class Weights for Sample Weighting                                        & mlr3pipelines & imbalanced data, data transform  & logical  , integer  , numeric  , character, factor   , ordered  , POSIXct   &  1 &  1 & TaskClassif & TaskClassif & TaskClassif & TaskClassif\\\\\n",
       "\t colapply        & Apply a Function to each Column of a Task                                 & mlr3pipelines & data transform & logical  , integer  , numeric  , character, factor   , ordered  , POSIXct   &  1 &  1 & Task & Task & Task & Task\\\\\n",
       "\t collapsefactors & Collapse Factors                                                          & mlr3pipelines & data transform & factor , ordered &  1 &  1 & Task & Task & Task & Task\\\\\n",
       "\t colroles        & Change Column Roles of a Task                                             & mlr3pipelines & data transform & logical  , integer  , numeric  , character, factor   , ordered  , POSIXct   &  1 &  1 & Task & Task & Task & Task\\\\\n",
       "\t copy            & Copy Input Multiple Times                                                 & mlr3pipelines & meta & NA &  1 & NA & * & * & * & *\\\\\n",
       "\t datefeatures    & Preprocess Date Features                                                  & mlr3pipelines & data transform & POSIXct &  1 &  1 & Task & Task & Task & Task\\\\\n",
       "\t encode          & Factor Encoding                                                           & mlr3pipelines, stats         & encode        , data transform & factor , ordered &  1 &  1 & Task & Task & Task & Task\\\\\n",
       "\t encodeimpact    & Conditional Target Value Impact Encoding                                  & mlr3pipelines & encode        , data transform & factor , ordered &  1 &  1 & Task & Task & Task & Task\\\\\n",
       "\t encodelmer      & Impact Encoding with Random Intercept Models                              & mlr3pipelines, lme4         , nloptr        & encode        , data transform & factor , ordered &  1 &  1 & Task & Task & Task & Task\\\\\n",
       "\t featureunion    & Aggregate Features from Multiple Inputs                                   & mlr3pipelines & ensemble & NA & NA &  1 & Task & Task & Task & Task\\\\\n",
       "\t filter          & Feature Filtering                                                         & mlr3pipelines & feature selection, data transform    & logical  , integer  , numeric  , character, factor   , ordered  , POSIXct   &  1 &  1 & Task & Task & Task & Task\\\\\n",
       "\t fixfactors      & Fix Factor Levels                                                         & mlr3pipelines & robustify     , data transform & factor , ordered &  1 &  1 & Task & Task & Task & Task\\\\\n",
       "\t histbin         & Split Numeric Features into Equally Spaced Bins                           & mlr3pipelines, graphics      & data transform & numeric, integer &  1 &  1 & Task & Task & Task & Task\\\\\n",
       "\t ica             & Independent Component Analysis                                            & mlr3pipelines, fastICA       & data transform & numeric, integer &  1 &  1 & Task & Task & Task & Task\\\\\n",
       "\t imputeconstant  & Impute Features by a Constant                                             & mlr3pipelines & missings & logical  , integer  , numeric  , character, factor   , ordered  , POSIXct   &  1 &  1 & Task & Task & Task & Task\\\\\n",
       "\t imputehist      & Impute Numerical Features by Histogram                                    & mlr3pipelines, graphics      & missings & integer, numeric &  1 &  1 & Task & Task & Task & Task\\\\\n",
       "\t imputelearner   & Impute Features by Fitting a Learner                                      & mlr3pipelines & missings & logical, factor , ordered &  1 &  1 & Task & Task & Task & Task\\\\\n",
       "\t imputemean      & Impute Numerical Features by their Mean                                   & mlr3pipelines & missings & numeric, integer &  1 &  1 & Task & Task & Task & Task\\\\\n",
       "\t imputemedian    & Impute Numerical Features by their Median                                 & mlr3pipelines, stats         & missings & numeric, integer &  1 &  1 & Task & Task & Task & Task\\\\\n",
       "\t imputemode      & Impute Features by their Mode                                             & mlr3pipelines & missings & factor , integer, logical, numeric, ordered &  1 &  1 & Task & Task & Task & Task\\\\\n",
       "\t imputeoor       & Out of Range Imputation                                                   & mlr3pipelines & missings & character, factor   , integer  , numeric  , ordered   &  1 &  1 & Task & Task & Task & Task\\\\\n",
       "\t imputesample    & Impute Features by Sampling                                               & mlr3pipelines & missings & factor , integer, logical, numeric, ordered &  1 &  1 & Task & Task & Task & Task\\\\\n",
       "\t kernelpca       & Kernelized Principle Component Analysis                                   & mlr3pipelines, kernlab       & data transform & numeric, integer &  1 &  1 & Task & Task & Task & Task\\\\\n",
       "\t learner         & Wrap a Learner into a PipeOp                                              & mlr3pipelines & learner & NA &  1 &  1 & TaskClassif & TaskClassif & NULL & PredictionClassif\\\\\n",
       "\t learner\\_cv      & Wrap a Learner into a PipeOp with Cross-validated Predictions as Features & mlr3pipelines & learner       , ensemble      , data transform & logical  , integer  , numeric  , character, factor   , ordered  , POSIXct   &  1 &  1 & TaskClassif & TaskClassif & TaskClassif & TaskClassif\\\\\n",
       "\t ⋮ & ⋮ & ⋮ & ⋮ & ⋮ & ⋮ & ⋮ & ⋮ & ⋮ & ⋮ & ⋮\\\\\n",
       "\t mutate                & Add Features According to Expressions                               & mlr3pipelines & data transform & logical  , integer  , numeric  , character, factor   , ordered  , POSIXct   &  1 & 1 & Task & Task & Task & Task\\\\\n",
       "\t nmf                   & Non-negative Matrix Factorization                                   & mlr3pipelines, MASS         , NMF           & data transform & numeric, integer &  1 & 1 & Task & Task & Task & Task\\\\\n",
       "\t nop                   & Simply Push Input Forward                                           & mlr3pipelines & meta & NA &  1 & 1 & * & * & * & *\\\\\n",
       "\t ovrsplit              & Split a Classification Task into Binary Classification Tasks        & mlr3pipelines & target transform, multiplicity     & NA &  1 & 1 & TaskClassif & TaskClassif & {[}TaskClassif{]} & {[}TaskClassif{]}\\\\\n",
       "\t ovrunite              & Unite Binary Classification Tasks                                   & mlr3pipelines & multiplicity, ensemble     & NA &  1 & 1 & {[}NULL{]} & {[}PredictionClassif{]} & NULL & PredictionClassif\\\\\n",
       "\t pca                   & Principle Component Analysis                                        & mlr3pipelines & data transform & numeric, integer &  1 & 1 & Task & Task & Task & Task\\\\\n",
       "\t proxy                 & Wrap another PipeOp or Graph as a Hyperparameter                    & mlr3pipelines & meta & NA & NA & 1 & * & * & * & *\\\\\n",
       "\t quantilebin           & Split Numeric Features into Quantile Bins                           & mlr3pipelines, stats         & data transform & numeric, integer &  1 & 1 & Task & Task & Task & Task\\\\\n",
       "\t randomprojection      & Project Numeric Features onto a Randomly Sampled Subspace           & mlr3pipelines & data transform & numeric, integer &  1 & 1 & Task & Task & Task & Task\\\\\n",
       "\t randomresponse        & Generate a Randomized Response Prediction                           & mlr3pipelines & abstract & NA &  1 & 1 & NULL & Prediction & NULL & Prediction\\\\\n",
       "\t regravg               & Weighted Prediction Averaging                                       & mlr3pipelines & ensemble & NA & NA & 1 & NULL & PredictionRegr & NULL & PredictionRegr\\\\\n",
       "\t removeconstants       & Remove Constant Features                                            & mlr3pipelines & robustify     , data transform & logical  , integer  , numeric  , character, factor   , ordered  , POSIXct   &  1 & 1 & Task & Task & Task & Task\\\\\n",
       "\t renamecolumns         & Rename Columns                                                      & mlr3pipelines & data transform & logical  , integer  , numeric  , character, factor   , ordered  , POSIXct   &  1 & 1 & Task & Task & Task & Task\\\\\n",
       "\t replicate             & Replicate the Input as a Multiplicity                               & mlr3pipelines & multiplicity & NA &  1 & 1 & * & * & {[}*{]} & {[}*{]}\\\\\n",
       "\t scale                 & Center and Scale Numeric Features                                   & mlr3pipelines & data transform & numeric, integer &  1 & 1 & Task & Task & Task & Task\\\\\n",
       "\t scalemaxabs           & Scale Numeric Features with Respect to their Maximum Absolute Value & mlr3pipelines & data transform & numeric, integer &  1 & 1 & Task & Task & Task & Task\\\\\n",
       "\t scalerange            & Linearly Transform Numeric Features to Match Given Boundaries       & mlr3pipelines & data transform & numeric, integer &  1 & 1 & Task & Task & Task & Task\\\\\n",
       "\t select                & Remove Features Depending on a Selector                             & mlr3pipelines & feature selection, data transform    & logical  , integer  , numeric  , character, factor   , ordered  , POSIXct   &  1 & 1 & Task & Task & Task & Task\\\\\n",
       "\t smote                 & SMOTE Balancing                                                     & mlr3pipelines, smotefamily   & imbalanced data, data transform  & logical  , integer  , numeric  , character, factor   , ordered  , POSIXct   &  1 & 1 & Task & Task & Task & Task\\\\\n",
       "\t spatialsign           & Normalize Data Row-wise                                             & mlr3pipelines & data transform & numeric, integer &  1 & 1 & Task & Task & Task & Task\\\\\n",
       "\t subsample             & Subsampling                                                         & mlr3pipelines & data transform & logical  , integer  , numeric  , character, factor   , ordered  , POSIXct   &  1 & 1 & Task & Task & Task & Task\\\\\n",
       "\t targetinvert          & Invert Target Transformations                                       & mlr3pipelines & abstract & NA &  2 & 1 & NULL, NULL & function  , Prediction & NULL & Prediction\\\\\n",
       "\t targetmutate          & Transform a Target by a Function                                    & mlr3pipelines & target transform & NA &  1 & 2 & Task & Task & NULL, Task & function, Task    \\\\\n",
       "\t targettrafoscalerange & Linearly Transform a Numeric Target to Match Given Boundaries       & mlr3pipelines & target transform & NA &  1 & 2 & TaskRegr & TaskRegr & NULL    , TaskRegr & function, TaskRegr\\\\\n",
       "\t textvectorizer        & Bag-of-word Representation of Character Features                    & mlr3pipelines, quanteda     , stopwords     & data transform & character &  1 & 1 & Task & Task & Task & Task\\\\\n",
       "\t threshold             & Change the Threshold of a Classification Prediction                 & mlr3pipelines & target transform & NA &  1 & 1 & NULL & PredictionClassif & NULL & PredictionClassif\\\\\n",
       "\t tunethreshold         & Tune the Threshold of a Classification Prediction                   & mlr3pipelines, bbotk         & target transform & NA &  1 & 1 & Task & Task & NULL & Prediction\\\\\n",
       "\t unbranch              & Unbranch Different Paths                                            & mlr3pipelines & meta & NA & NA & 1 & * & * & * & *\\\\\n",
       "\t vtreat                & Interface to the vtreat Package                                     & mlr3pipelines, vtreat        & encode        , missings      , data transform & logical  , integer  , numeric  , character, factor   , ordered  , POSIXct   &  1 & 1 & Task & Task & Task & Task\\\\\n",
       "\t yeojohnson            & Yeo-Johnson Transformation of Numeric Features                      & mlr3pipelines, bestNormalize & data transform & numeric, integer &  1 & 1 & Task & Task & Task & Task\\\\\n",
       "\\end{tabular}\n"
      ],
      "text/markdown": [
       "\n",
       "A data.table: 64 × 11\n",
       "\n",
       "| key &lt;chr&gt; | label &lt;chr&gt; | packages &lt;list&gt; | tags &lt;list&gt; | feature_types &lt;list&gt; | input.num &lt;int&gt; | output.num &lt;int&gt; | input.type.train &lt;list&gt; | input.type.predict &lt;list&gt; | output.type.train &lt;list&gt; | output.type.predict &lt;list&gt; |\n",
       "|---|---|---|---|---|---|---|---|---|---|---|\n",
       "| boxcox          | Box-Cox Transformation of Numeric Features                                | mlr3pipelines, bestNormalize | data transform | numeric, integer |  1 |  1 | Task | Task | Task | Task |\n",
       "| branch          | Path Branching                                                            | mlr3pipelines | meta | NA |  1 | NA | * | * | * | * |\n",
       "| chunk           | Chunk Input into Multiple Outputs                                         | mlr3pipelines | meta | NA |  1 | NA | Task | Task | Task | Task |\n",
       "| classbalancing  | Class Balancing                                                           | mlr3pipelines | imbalanced data, data transform  | logical  , integer  , numeric  , character, factor   , ordered  , POSIXct   |  1 |  1 | TaskClassif | TaskClassif | TaskClassif | TaskClassif |\n",
       "| classifavg      | Majority Vote Prediction                                                  | mlr3pipelines, stats         | ensemble | NA | NA |  1 | NULL | PredictionClassif | NULL | PredictionClassif |\n",
       "| classweights    | Class Weights for Sample Weighting                                        | mlr3pipelines | imbalanced data, data transform  | logical  , integer  , numeric  , character, factor   , ordered  , POSIXct   |  1 |  1 | TaskClassif | TaskClassif | TaskClassif | TaskClassif |\n",
       "| colapply        | Apply a Function to each Column of a Task                                 | mlr3pipelines | data transform | logical  , integer  , numeric  , character, factor   , ordered  , POSIXct   |  1 |  1 | Task | Task | Task | Task |\n",
       "| collapsefactors | Collapse Factors                                                          | mlr3pipelines | data transform | factor , ordered |  1 |  1 | Task | Task | Task | Task |\n",
       "| colroles        | Change Column Roles of a Task                                             | mlr3pipelines | data transform | logical  , integer  , numeric  , character, factor   , ordered  , POSIXct   |  1 |  1 | Task | Task | Task | Task |\n",
       "| copy            | Copy Input Multiple Times                                                 | mlr3pipelines | meta | NA |  1 | NA | * | * | * | * |\n",
       "| datefeatures    | Preprocess Date Features                                                  | mlr3pipelines | data transform | POSIXct |  1 |  1 | Task | Task | Task | Task |\n",
       "| encode          | Factor Encoding                                                           | mlr3pipelines, stats         | encode        , data transform | factor , ordered |  1 |  1 | Task | Task | Task | Task |\n",
       "| encodeimpact    | Conditional Target Value Impact Encoding                                  | mlr3pipelines | encode        , data transform | factor , ordered |  1 |  1 | Task | Task | Task | Task |\n",
       "| encodelmer      | Impact Encoding with Random Intercept Models                              | mlr3pipelines, lme4         , nloptr        | encode        , data transform | factor , ordered |  1 |  1 | Task | Task | Task | Task |\n",
       "| featureunion    | Aggregate Features from Multiple Inputs                                   | mlr3pipelines | ensemble | NA | NA |  1 | Task | Task | Task | Task |\n",
       "| filter          | Feature Filtering                                                         | mlr3pipelines | feature selection, data transform    | logical  , integer  , numeric  , character, factor   , ordered  , POSIXct   |  1 |  1 | Task | Task | Task | Task |\n",
       "| fixfactors      | Fix Factor Levels                                                         | mlr3pipelines | robustify     , data transform | factor , ordered |  1 |  1 | Task | Task | Task | Task |\n",
       "| histbin         | Split Numeric Features into Equally Spaced Bins                           | mlr3pipelines, graphics      | data transform | numeric, integer |  1 |  1 | Task | Task | Task | Task |\n",
       "| ica             | Independent Component Analysis                                            | mlr3pipelines, fastICA       | data transform | numeric, integer |  1 |  1 | Task | Task | Task | Task |\n",
       "| imputeconstant  | Impute Features by a Constant                                             | mlr3pipelines | missings | logical  , integer  , numeric  , character, factor   , ordered  , POSIXct   |  1 |  1 | Task | Task | Task | Task |\n",
       "| imputehist      | Impute Numerical Features by Histogram                                    | mlr3pipelines, graphics      | missings | integer, numeric |  1 |  1 | Task | Task | Task | Task |\n",
       "| imputelearner   | Impute Features by Fitting a Learner                                      | mlr3pipelines | missings | logical, factor , ordered |  1 |  1 | Task | Task | Task | Task |\n",
       "| imputemean      | Impute Numerical Features by their Mean                                   | mlr3pipelines | missings | numeric, integer |  1 |  1 | Task | Task | Task | Task |\n",
       "| imputemedian    | Impute Numerical Features by their Median                                 | mlr3pipelines, stats         | missings | numeric, integer |  1 |  1 | Task | Task | Task | Task |\n",
       "| imputemode      | Impute Features by their Mode                                             | mlr3pipelines | missings | factor , integer, logical, numeric, ordered |  1 |  1 | Task | Task | Task | Task |\n",
       "| imputeoor       | Out of Range Imputation                                                   | mlr3pipelines | missings | character, factor   , integer  , numeric  , ordered   |  1 |  1 | Task | Task | Task | Task |\n",
       "| imputesample    | Impute Features by Sampling                                               | mlr3pipelines | missings | factor , integer, logical, numeric, ordered |  1 |  1 | Task | Task | Task | Task |\n",
       "| kernelpca       | Kernelized Principle Component Analysis                                   | mlr3pipelines, kernlab       | data transform | numeric, integer |  1 |  1 | Task | Task | Task | Task |\n",
       "| learner         | Wrap a Learner into a PipeOp                                              | mlr3pipelines | learner | NA |  1 |  1 | TaskClassif | TaskClassif | NULL | PredictionClassif |\n",
       "| learner_cv      | Wrap a Learner into a PipeOp with Cross-validated Predictions as Features | mlr3pipelines | learner       , ensemble      , data transform | logical  , integer  , numeric  , character, factor   , ordered  , POSIXct   |  1 |  1 | TaskClassif | TaskClassif | TaskClassif | TaskClassif |\n",
       "| ⋮ | ⋮ | ⋮ | ⋮ | ⋮ | ⋮ | ⋮ | ⋮ | ⋮ | ⋮ | ⋮ |\n",
       "| mutate                | Add Features According to Expressions                               | mlr3pipelines | data transform | logical  , integer  , numeric  , character, factor   , ordered  , POSIXct   |  1 | 1 | Task | Task | Task | Task |\n",
       "| nmf                   | Non-negative Matrix Factorization                                   | mlr3pipelines, MASS         , NMF           | data transform | numeric, integer |  1 | 1 | Task | Task | Task | Task |\n",
       "| nop                   | Simply Push Input Forward                                           | mlr3pipelines | meta | NA |  1 | 1 | * | * | * | * |\n",
       "| ovrsplit              | Split a Classification Task into Binary Classification Tasks        | mlr3pipelines | target transform, multiplicity     | NA |  1 | 1 | TaskClassif | TaskClassif | [TaskClassif] | [TaskClassif] |\n",
       "| ovrunite              | Unite Binary Classification Tasks                                   | mlr3pipelines | multiplicity, ensemble     | NA |  1 | 1 | [NULL] | [PredictionClassif] | NULL | PredictionClassif |\n",
       "| pca                   | Principle Component Analysis                                        | mlr3pipelines | data transform | numeric, integer |  1 | 1 | Task | Task | Task | Task |\n",
       "| proxy                 | Wrap another PipeOp or Graph as a Hyperparameter                    | mlr3pipelines | meta | NA | NA | 1 | * | * | * | * |\n",
       "| quantilebin           | Split Numeric Features into Quantile Bins                           | mlr3pipelines, stats         | data transform | numeric, integer |  1 | 1 | Task | Task | Task | Task |\n",
       "| randomprojection      | Project Numeric Features onto a Randomly Sampled Subspace           | mlr3pipelines | data transform | numeric, integer |  1 | 1 | Task | Task | Task | Task |\n",
       "| randomresponse        | Generate a Randomized Response Prediction                           | mlr3pipelines | abstract | NA |  1 | 1 | NULL | Prediction | NULL | Prediction |\n",
       "| regravg               | Weighted Prediction Averaging                                       | mlr3pipelines | ensemble | NA | NA | 1 | NULL | PredictionRegr | NULL | PredictionRegr |\n",
       "| removeconstants       | Remove Constant Features                                            | mlr3pipelines | robustify     , data transform | logical  , integer  , numeric  , character, factor   , ordered  , POSIXct   |  1 | 1 | Task | Task | Task | Task |\n",
       "| renamecolumns         | Rename Columns                                                      | mlr3pipelines | data transform | logical  , integer  , numeric  , character, factor   , ordered  , POSIXct   |  1 | 1 | Task | Task | Task | Task |\n",
       "| replicate             | Replicate the Input as a Multiplicity                               | mlr3pipelines | multiplicity | NA |  1 | 1 | * | * | [*] | [*] |\n",
       "| scale                 | Center and Scale Numeric Features                                   | mlr3pipelines | data transform | numeric, integer |  1 | 1 | Task | Task | Task | Task |\n",
       "| scalemaxabs           | Scale Numeric Features with Respect to their Maximum Absolute Value | mlr3pipelines | data transform | numeric, integer |  1 | 1 | Task | Task | Task | Task |\n",
       "| scalerange            | Linearly Transform Numeric Features to Match Given Boundaries       | mlr3pipelines | data transform | numeric, integer |  1 | 1 | Task | Task | Task | Task |\n",
       "| select                | Remove Features Depending on a Selector                             | mlr3pipelines | feature selection, data transform    | logical  , integer  , numeric  , character, factor   , ordered  , POSIXct   |  1 | 1 | Task | Task | Task | Task |\n",
       "| smote                 | SMOTE Balancing                                                     | mlr3pipelines, smotefamily   | imbalanced data, data transform  | logical  , integer  , numeric  , character, factor   , ordered  , POSIXct   |  1 | 1 | Task | Task | Task | Task |\n",
       "| spatialsign           | Normalize Data Row-wise                                             | mlr3pipelines | data transform | numeric, integer |  1 | 1 | Task | Task | Task | Task |\n",
       "| subsample             | Subsampling                                                         | mlr3pipelines | data transform | logical  , integer  , numeric  , character, factor   , ordered  , POSIXct   |  1 | 1 | Task | Task | Task | Task |\n",
       "| targetinvert          | Invert Target Transformations                                       | mlr3pipelines | abstract | NA |  2 | 1 | NULL, NULL | function  , Prediction | NULL | Prediction |\n",
       "| targetmutate          | Transform a Target by a Function                                    | mlr3pipelines | target transform | NA |  1 | 2 | Task | Task | NULL, Task | function, Task     |\n",
       "| targettrafoscalerange | Linearly Transform a Numeric Target to Match Given Boundaries       | mlr3pipelines | target transform | NA |  1 | 2 | TaskRegr | TaskRegr | NULL    , TaskRegr | function, TaskRegr |\n",
       "| textvectorizer        | Bag-of-word Representation of Character Features                    | mlr3pipelines, quanteda     , stopwords     | data transform | character |  1 | 1 | Task | Task | Task | Task |\n",
       "| threshold             | Change the Threshold of a Classification Prediction                 | mlr3pipelines | target transform | NA |  1 | 1 | NULL | PredictionClassif | NULL | PredictionClassif |\n",
       "| tunethreshold         | Tune the Threshold of a Classification Prediction                   | mlr3pipelines, bbotk         | target transform | NA |  1 | 1 | Task | Task | NULL | Prediction |\n",
       "| unbranch              | Unbranch Different Paths                                            | mlr3pipelines | meta | NA | NA | 1 | * | * | * | * |\n",
       "| vtreat                | Interface to the vtreat Package                                     | mlr3pipelines, vtreat        | encode        , missings      , data transform | logical  , integer  , numeric  , character, factor   , ordered  , POSIXct   |  1 | 1 | Task | Task | Task | Task |\n",
       "| yeojohnson            | Yeo-Johnson Transformation of Numeric Features                      | mlr3pipelines, bestNormalize | data transform | numeric, integer |  1 | 1 | Task | Task | Task | Task |\n",
       "\n"
      ],
      "text/plain": [
       "   key                  \n",
       "1  boxcox               \n",
       "2  branch               \n",
       "3  chunk                \n",
       "4  classbalancing       \n",
       "5  classifavg           \n",
       "6  classweights         \n",
       "7  colapply             \n",
       "8  collapsefactors      \n",
       "9  colroles             \n",
       "10 copy                 \n",
       "11 datefeatures         \n",
       "12 encode               \n",
       "13 encodeimpact         \n",
       "14 encodelmer           \n",
       "15 featureunion         \n",
       "16 filter               \n",
       "17 fixfactors           \n",
       "18 histbin              \n",
       "19 ica                  \n",
       "20 imputeconstant       \n",
       "21 imputehist           \n",
       "22 imputelearner        \n",
       "23 imputemean           \n",
       "24 imputemedian         \n",
       "25 imputemode           \n",
       "26 imputeoor            \n",
       "27 imputesample         \n",
       "28 kernelpca            \n",
       "29 learner              \n",
       "30 learner_cv           \n",
       "⋮  ⋮                    \n",
       "35 mutate               \n",
       "36 nmf                  \n",
       "37 nop                  \n",
       "38 ovrsplit             \n",
       "39 ovrunite             \n",
       "40 pca                  \n",
       "41 proxy                \n",
       "42 quantilebin          \n",
       "43 randomprojection     \n",
       "44 randomresponse       \n",
       "45 regravg              \n",
       "46 removeconstants      \n",
       "47 renamecolumns        \n",
       "48 replicate            \n",
       "49 scale                \n",
       "50 scalemaxabs          \n",
       "51 scalerange           \n",
       "52 select               \n",
       "53 smote                \n",
       "54 spatialsign          \n",
       "55 subsample            \n",
       "56 targetinvert         \n",
       "57 targetmutate         \n",
       "58 targettrafoscalerange\n",
       "59 textvectorizer       \n",
       "60 threshold            \n",
       "61 tunethreshold        \n",
       "62 unbranch             \n",
       "63 vtreat               \n",
       "64 yeojohnson           \n",
       "   label                                                                    \n",
       "1  Box-Cox Transformation of Numeric Features                               \n",
       "2  Path Branching                                                           \n",
       "3  Chunk Input into Multiple Outputs                                        \n",
       "4  Class Balancing                                                          \n",
       "5  Majority Vote Prediction                                                 \n",
       "6  Class Weights for Sample Weighting                                       \n",
       "7  Apply a Function to each Column of a Task                                \n",
       "8  Collapse Factors                                                         \n",
       "9  Change Column Roles of a Task                                            \n",
       "10 Copy Input Multiple Times                                                \n",
       "11 Preprocess Date Features                                                 \n",
       "12 Factor Encoding                                                          \n",
       "13 Conditional Target Value Impact Encoding                                 \n",
       "14 Impact Encoding with Random Intercept Models                             \n",
       "15 Aggregate Features from Multiple Inputs                                  \n",
       "16 Feature Filtering                                                        \n",
       "17 Fix Factor Levels                                                        \n",
       "18 Split Numeric Features into Equally Spaced Bins                          \n",
       "19 Independent Component Analysis                                           \n",
       "20 Impute Features by a Constant                                            \n",
       "21 Impute Numerical Features by Histogram                                   \n",
       "22 Impute Features by Fitting a Learner                                     \n",
       "23 Impute Numerical Features by their Mean                                  \n",
       "24 Impute Numerical Features by their Median                                \n",
       "25 Impute Features by their Mode                                            \n",
       "26 Out of Range Imputation                                                  \n",
       "27 Impute Features by Sampling                                              \n",
       "28 Kernelized Principle Component Analysis                                  \n",
       "29 Wrap a Learner into a PipeOp                                             \n",
       "30 Wrap a Learner into a PipeOp with Cross-validated Predictions as Features\n",
       "⋮  ⋮                                                                        \n",
       "35 Add Features According to Expressions                                    \n",
       "36 Non-negative Matrix Factorization                                        \n",
       "37 Simply Push Input Forward                                                \n",
       "38 Split a Classification Task into Binary Classification Tasks             \n",
       "39 Unite Binary Classification Tasks                                        \n",
       "40 Principle Component Analysis                                             \n",
       "41 Wrap another PipeOp or Graph as a Hyperparameter                         \n",
       "42 Split Numeric Features into Quantile Bins                                \n",
       "43 Project Numeric Features onto a Randomly Sampled Subspace                \n",
       "44 Generate a Randomized Response Prediction                                \n",
       "45 Weighted Prediction Averaging                                            \n",
       "46 Remove Constant Features                                                 \n",
       "47 Rename Columns                                                           \n",
       "48 Replicate the Input as a Multiplicity                                    \n",
       "49 Center and Scale Numeric Features                                        \n",
       "50 Scale Numeric Features with Respect to their Maximum Absolute Value      \n",
       "51 Linearly Transform Numeric Features to Match Given Boundaries            \n",
       "52 Remove Features Depending on a Selector                                  \n",
       "53 SMOTE Balancing                                                          \n",
       "54 Normalize Data Row-wise                                                  \n",
       "55 Subsampling                                                              \n",
       "56 Invert Target Transformations                                            \n",
       "57 Transform a Target by a Function                                         \n",
       "58 Linearly Transform a Numeric Target to Match Given Boundaries            \n",
       "59 Bag-of-word Representation of Character Features                         \n",
       "60 Change the Threshold of a Classification Prediction                      \n",
       "61 Tune the Threshold of a Classification Prediction                        \n",
       "62 Unbranch Different Paths                                                 \n",
       "63 Interface to the vtreat Package                                          \n",
       "64 Yeo-Johnson Transformation of Numeric Features                           \n",
       "   packages                                   \n",
       "1  mlr3pipelines, bestNormalize               \n",
       "2  mlr3pipelines                              \n",
       "3  mlr3pipelines                              \n",
       "4  mlr3pipelines                              \n",
       "5  mlr3pipelines, stats                       \n",
       "6  mlr3pipelines                              \n",
       "7  mlr3pipelines                              \n",
       "8  mlr3pipelines                              \n",
       "9  mlr3pipelines                              \n",
       "10 mlr3pipelines                              \n",
       "11 mlr3pipelines                              \n",
       "12 mlr3pipelines, stats                       \n",
       "13 mlr3pipelines                              \n",
       "14 mlr3pipelines, lme4         , nloptr       \n",
       "15 mlr3pipelines                              \n",
       "16 mlr3pipelines                              \n",
       "17 mlr3pipelines                              \n",
       "18 mlr3pipelines, graphics                    \n",
       "19 mlr3pipelines, fastICA                     \n",
       "20 mlr3pipelines                              \n",
       "21 mlr3pipelines, graphics                    \n",
       "22 mlr3pipelines                              \n",
       "23 mlr3pipelines                              \n",
       "24 mlr3pipelines, stats                       \n",
       "25 mlr3pipelines                              \n",
       "26 mlr3pipelines                              \n",
       "27 mlr3pipelines                              \n",
       "28 mlr3pipelines, kernlab                     \n",
       "29 mlr3pipelines                              \n",
       "30 mlr3pipelines                              \n",
       "⋮  ⋮                                          \n",
       "35 mlr3pipelines                              \n",
       "36 mlr3pipelines, MASS         , NMF          \n",
       "37 mlr3pipelines                              \n",
       "38 mlr3pipelines                              \n",
       "39 mlr3pipelines                              \n",
       "40 mlr3pipelines                              \n",
       "41 mlr3pipelines                              \n",
       "42 mlr3pipelines, stats                       \n",
       "43 mlr3pipelines                              \n",
       "44 mlr3pipelines                              \n",
       "45 mlr3pipelines                              \n",
       "46 mlr3pipelines                              \n",
       "47 mlr3pipelines                              \n",
       "48 mlr3pipelines                              \n",
       "49 mlr3pipelines                              \n",
       "50 mlr3pipelines                              \n",
       "51 mlr3pipelines                              \n",
       "52 mlr3pipelines                              \n",
       "53 mlr3pipelines, smotefamily                 \n",
       "54 mlr3pipelines                              \n",
       "55 mlr3pipelines                              \n",
       "56 mlr3pipelines                              \n",
       "57 mlr3pipelines                              \n",
       "58 mlr3pipelines                              \n",
       "59 mlr3pipelines, quanteda     , stopwords    \n",
       "60 mlr3pipelines                              \n",
       "61 mlr3pipelines, bbotk                       \n",
       "62 mlr3pipelines                              \n",
       "63 mlr3pipelines, vtreat                      \n",
       "64 mlr3pipelines, bestNormalize               \n",
       "   tags                                          \n",
       "1  data transform                                \n",
       "2  meta                                          \n",
       "3  meta                                          \n",
       "4  imbalanced data, data transform               \n",
       "5  ensemble                                      \n",
       "6  imbalanced data, data transform               \n",
       "7  data transform                                \n",
       "8  data transform                                \n",
       "9  data transform                                \n",
       "10 meta                                          \n",
       "11 data transform                                \n",
       "12 encode        , data transform                \n",
       "13 encode        , data transform                \n",
       "14 encode        , data transform                \n",
       "15 ensemble                                      \n",
       "16 feature selection, data transform             \n",
       "17 robustify     , data transform                \n",
       "18 data transform                                \n",
       "19 data transform                                \n",
       "20 missings                                      \n",
       "21 missings                                      \n",
       "22 missings                                      \n",
       "23 missings                                      \n",
       "24 missings                                      \n",
       "25 missings                                      \n",
       "26 missings                                      \n",
       "27 missings                                      \n",
       "28 data transform                                \n",
       "29 learner                                       \n",
       "30 learner       , ensemble      , data transform\n",
       "⋮  ⋮                                             \n",
       "35 data transform                                \n",
       "36 data transform                                \n",
       "37 meta                                          \n",
       "38 target transform, multiplicity                \n",
       "39 multiplicity, ensemble                        \n",
       "40 data transform                                \n",
       "41 meta                                          \n",
       "42 data transform                                \n",
       "43 data transform                                \n",
       "44 abstract                                      \n",
       "45 ensemble                                      \n",
       "46 robustify     , data transform                \n",
       "47 data transform                                \n",
       "48 multiplicity                                  \n",
       "49 data transform                                \n",
       "50 data transform                                \n",
       "51 data transform                                \n",
       "52 feature selection, data transform             \n",
       "53 imbalanced data, data transform               \n",
       "54 data transform                                \n",
       "55 data transform                                \n",
       "56 abstract                                      \n",
       "57 target transform                              \n",
       "58 target transform                              \n",
       "59 data transform                                \n",
       "60 target transform                              \n",
       "61 target transform                              \n",
       "62 meta                                          \n",
       "63 encode        , missings      , data transform\n",
       "64 data transform                                \n",
       "   feature_types                                                              \n",
       "1  numeric, integer                                                           \n",
       "2  NA                                                                         \n",
       "3  NA                                                                         \n",
       "4  logical  , integer  , numeric  , character, factor   , ordered  , POSIXct  \n",
       "5  NA                                                                         \n",
       "6  logical  , integer  , numeric  , character, factor   , ordered  , POSIXct  \n",
       "7  logical  , integer  , numeric  , character, factor   , ordered  , POSIXct  \n",
       "8  factor , ordered                                                           \n",
       "9  logical  , integer  , numeric  , character, factor   , ordered  , POSIXct  \n",
       "10 NA                                                                         \n",
       "11 POSIXct                                                                    \n",
       "12 factor , ordered                                                           \n",
       "13 factor , ordered                                                           \n",
       "14 factor , ordered                                                           \n",
       "15 NA                                                                         \n",
       "16 logical  , integer  , numeric  , character, factor   , ordered  , POSIXct  \n",
       "17 factor , ordered                                                           \n",
       "18 numeric, integer                                                           \n",
       "19 numeric, integer                                                           \n",
       "20 logical  , integer  , numeric  , character, factor   , ordered  , POSIXct  \n",
       "21 integer, numeric                                                           \n",
       "22 logical, factor , ordered                                                  \n",
       "23 numeric, integer                                                           \n",
       "24 numeric, integer                                                           \n",
       "25 factor , integer, logical, numeric, ordered                                \n",
       "26 character, factor   , integer  , numeric  , ordered                        \n",
       "27 factor , integer, logical, numeric, ordered                                \n",
       "28 numeric, integer                                                           \n",
       "29 NA                                                                         \n",
       "30 logical  , integer  , numeric  , character, factor   , ordered  , POSIXct  \n",
       "⋮  ⋮                                                                          \n",
       "35 logical  , integer  , numeric  , character, factor   , ordered  , POSIXct  \n",
       "36 numeric, integer                                                           \n",
       "37 NA                                                                         \n",
       "38 NA                                                                         \n",
       "39 NA                                                                         \n",
       "40 numeric, integer                                                           \n",
       "41 NA                                                                         \n",
       "42 numeric, integer                                                           \n",
       "43 numeric, integer                                                           \n",
       "44 NA                                                                         \n",
       "45 NA                                                                         \n",
       "46 logical  , integer  , numeric  , character, factor   , ordered  , POSIXct  \n",
       "47 logical  , integer  , numeric  , character, factor   , ordered  , POSIXct  \n",
       "48 NA                                                                         \n",
       "49 numeric, integer                                                           \n",
       "50 numeric, integer                                                           \n",
       "51 numeric, integer                                                           \n",
       "52 logical  , integer  , numeric  , character, factor   , ordered  , POSIXct  \n",
       "53 logical  , integer  , numeric  , character, factor   , ordered  , POSIXct  \n",
       "54 numeric, integer                                                           \n",
       "55 logical  , integer  , numeric  , character, factor   , ordered  , POSIXct  \n",
       "56 NA                                                                         \n",
       "57 NA                                                                         \n",
       "58 NA                                                                         \n",
       "59 character                                                                  \n",
       "60 NA                                                                         \n",
       "61 NA                                                                         \n",
       "62 NA                                                                         \n",
       "63 logical  , integer  , numeric  , character, factor   , ordered  , POSIXct  \n",
       "64 numeric, integer                                                           \n",
       "   input.num output.num input.type.train input.type.predict    \n",
       "1   1         1         Task             Task                  \n",
       "2   1        NA         *                *                     \n",
       "3   1        NA         Task             Task                  \n",
       "4   1         1         TaskClassif      TaskClassif           \n",
       "5  NA         1         NULL             PredictionClassif     \n",
       "6   1         1         TaskClassif      TaskClassif           \n",
       "7   1         1         Task             Task                  \n",
       "8   1         1         Task             Task                  \n",
       "9   1         1         Task             Task                  \n",
       "10  1        NA         *                *                     \n",
       "11  1         1         Task             Task                  \n",
       "12  1         1         Task             Task                  \n",
       "13  1         1         Task             Task                  \n",
       "14  1         1         Task             Task                  \n",
       "15 NA         1         Task             Task                  \n",
       "16  1         1         Task             Task                  \n",
       "17  1         1         Task             Task                  \n",
       "18  1         1         Task             Task                  \n",
       "19  1         1         Task             Task                  \n",
       "20  1         1         Task             Task                  \n",
       "21  1         1         Task             Task                  \n",
       "22  1         1         Task             Task                  \n",
       "23  1         1         Task             Task                  \n",
       "24  1         1         Task             Task                  \n",
       "25  1         1         Task             Task                  \n",
       "26  1         1         Task             Task                  \n",
       "27  1         1         Task             Task                  \n",
       "28  1         1         Task             Task                  \n",
       "29  1         1         TaskClassif      TaskClassif           \n",
       "30  1         1         TaskClassif      TaskClassif           \n",
       "⋮  ⋮         ⋮          ⋮                ⋮                     \n",
       "35  1        1          Task             Task                  \n",
       "36  1        1          Task             Task                  \n",
       "37  1        1          *                *                     \n",
       "38  1        1          TaskClassif      TaskClassif           \n",
       "39  1        1          [NULL]           [PredictionClassif]   \n",
       "40  1        1          Task             Task                  \n",
       "41 NA        1          *                *                     \n",
       "42  1        1          Task             Task                  \n",
       "43  1        1          Task             Task                  \n",
       "44  1        1          NULL             Prediction            \n",
       "45 NA        1          NULL             PredictionRegr        \n",
       "46  1        1          Task             Task                  \n",
       "47  1        1          Task             Task                  \n",
       "48  1        1          *                *                     \n",
       "49  1        1          Task             Task                  \n",
       "50  1        1          Task             Task                  \n",
       "51  1        1          Task             Task                  \n",
       "52  1        1          Task             Task                  \n",
       "53  1        1          Task             Task                  \n",
       "54  1        1          Task             Task                  \n",
       "55  1        1          Task             Task                  \n",
       "56  2        1          NULL, NULL       function  , Prediction\n",
       "57  1        2          Task             Task                  \n",
       "58  1        2          TaskRegr         TaskRegr              \n",
       "59  1        1          Task             Task                  \n",
       "60  1        1          NULL             PredictionClassif     \n",
       "61  1        1          Task             Task                  \n",
       "62 NA        1          *                *                     \n",
       "63  1        1          Task             Task                  \n",
       "64  1        1          Task             Task                  \n",
       "   output.type.train  output.type.predict\n",
       "1  Task               Task               \n",
       "2  *                  *                  \n",
       "3  Task               Task               \n",
       "4  TaskClassif        TaskClassif        \n",
       "5  NULL               PredictionClassif  \n",
       "6  TaskClassif        TaskClassif        \n",
       "7  Task               Task               \n",
       "8  Task               Task               \n",
       "9  Task               Task               \n",
       "10 *                  *                  \n",
       "11 Task               Task               \n",
       "12 Task               Task               \n",
       "13 Task               Task               \n",
       "14 Task               Task               \n",
       "15 Task               Task               \n",
       "16 Task               Task               \n",
       "17 Task               Task               \n",
       "18 Task               Task               \n",
       "19 Task               Task               \n",
       "20 Task               Task               \n",
       "21 Task               Task               \n",
       "22 Task               Task               \n",
       "23 Task               Task               \n",
       "24 Task               Task               \n",
       "25 Task               Task               \n",
       "26 Task               Task               \n",
       "27 Task               Task               \n",
       "28 Task               Task               \n",
       "29 NULL               PredictionClassif  \n",
       "30 TaskClassif        TaskClassif        \n",
       "⋮  ⋮                  ⋮                  \n",
       "35 Task               Task               \n",
       "36 Task               Task               \n",
       "37 *                  *                  \n",
       "38 [TaskClassif]      [TaskClassif]      \n",
       "39 NULL               PredictionClassif  \n",
       "40 Task               Task               \n",
       "41 *                  *                  \n",
       "42 Task               Task               \n",
       "43 Task               Task               \n",
       "44 NULL               Prediction         \n",
       "45 NULL               PredictionRegr     \n",
       "46 Task               Task               \n",
       "47 Task               Task               \n",
       "48 [*]                [*]                \n",
       "49 Task               Task               \n",
       "50 Task               Task               \n",
       "51 Task               Task               \n",
       "52 Task               Task               \n",
       "53 Task               Task               \n",
       "54 Task               Task               \n",
       "55 Task               Task               \n",
       "56 NULL               Prediction         \n",
       "57 NULL, Task         function, Task     \n",
       "58 NULL    , TaskRegr function, TaskRegr \n",
       "59 Task               Task               \n",
       "60 NULL               PredictionClassif  \n",
       "61 NULL               Prediction         \n",
       "62 *                  *                  \n",
       "63 Task               Task               \n",
       "64 Task               Task               "
      ]
     },
     "metadata": {},
     "output_type": "display_data"
    }
   ],
   "source": [
    "library(mlr3pipelines)\n",
    "as.data.table(mlr_pipeops) # 目前共有64种\n"
   ]
  },
  {
   "cell_type": "markdown",
   "metadata": {},
   "source": [
    "看到有很多数据预处理方法了，但其实常用的也就10来种左右。\n",
    "\n",
    "创建预处理步骤可通过以下方法："
   ]
  },
  {
   "cell_type": "code",
   "execution_count": 2,
   "metadata": {
    "vscode": {
     "languageId": "r"
    }
   },
   "outputs": [],
   "source": [
    "pca <- mlr_pipeops$get(\"pca\")\n",
    "\n",
    "# 或者用简便写法\n",
    "pca <- po(\"pca\")\n"
   ]
  },
  {
   "cell_type": "markdown",
   "metadata": {},
   "source": [
    "非常重要的一点是，不仅能创建预处理步骤，也可以用这种方法选择算法，选择特征选择方法等："
   ]
  },
  {
   "cell_type": "code",
   "execution_count": 24,
   "metadata": {
    "vscode": {
     "languageId": "r"
    }
   },
   "outputs": [],
   "source": [
    "# 选择学习器/算法\n",
    "library(mlr3)\n",
    "learner <- po(\"learner\", lrn(\"classif.rpart\"))\n",
    "\n",
    "# 选择特征选择的方法并设置参数\n",
    "filter <- po(\"filter\",\n",
    "    filter = mlr3filters::flt(\"variance\"),\n",
    "    filter.frac = 0.5\n",
    ")\n"
   ]
  },
  {
   "cell_type": "markdown",
   "metadata": {},
   "source": [
    "## mlr3pipelines中的管道符: %>>%\n",
    "\n",
    "这是mlr3团队发明的专用管道符，可用于连接不同的预处理步骤、预处理和模型等操作："
   ]
  },
  {
   "cell_type": "code",
   "execution_count": 4,
   "metadata": {
    "vscode": {
     "languageId": "r"
    }
   },
   "outputs": [
    {
     "data": {
      "image/png": "[encoded data removed]",
      "text/plain": [
       "Plot with title “”"
      ]
     },
     "metadata": {
      "image/png": {
       "height": 420,
       "width": 420
      }
     },
     "output_type": "display_data"
    }
   ],
   "source": [
    "gr <- po(\"scale\") %>>% po(\"pca\")\n",
    "gr$plot(html = F)\n"
   ]
  },
  {
   "cell_type": "markdown",
   "metadata": {},
   "source": [
    "很多强大的操作都是基于此管道符运行的。"
   ]
  },
  {
   "cell_type": "markdown",
   "metadata": {},
   "source": [
    "## 建立模型\n",
    "一个简单的例子，先预处理数据，再训练"
   ]
  },
  {
   "cell_type": "code",
   "execution_count": 5,
   "metadata": {
    "vscode": {
     "languageId": "r"
    }
   },
   "outputs": [],
   "source": [
    "# 连接预处理和模型，有点类似tidymodels的workflow\n",
    "mutate <- po(\"mutate\")\n",
    "filter <- po(\"filter\",\n",
    "    filter = mlr3filters::flt(\"variance\"),\n",
    "    param_vals = list(filter.frac = 0.5)\n",
    ")\n",
    "\n",
    "graph <- mutate %>>%\n",
    "    filter %>>%\n",
    "    po(\"learner\", learner = lrn(\"classif.rpart\"))\n"
   ]
  },
  {
   "cell_type": "markdown",
   "metadata": {},
   "source": [
    "现在这个graph就变成了一个含有预处理步骤的学习器（learner），可以像前面介绍的那样直接用于训练、预测："
   ]
  },
  {
   "cell_type": "code",
   "execution_count": 6,
   "metadata": {
    "vscode": {
     "languageId": "r"
    }
   },
   "outputs": [
    {
     "data": {
      "text/html": [],
      "text/latex": [],
      "text/markdown": [],
      "text/plain": [
       "$classif.rpart.output\n",
       "NULL\n"
      ]
     },
     "metadata": {},
     "output_type": "display_data"
    }
   ],
   "source": [
    "task <- tsk(\"iris\")\n",
    "graph$train(task)\n"
   ]
  },
  {
   "cell_type": "markdown",
   "metadata": {},
   "source": [
    "预测"
   ]
  },
  {
   "cell_type": "code",
   "execution_count": 7,
   "metadata": {
    "vscode": {
     "languageId": "r"
    }
   },
   "outputs": [
    {
     "data": {
      "text/plain": [
       "$classif.rpart.output\n",
       "<PredictionClassif> for 150 observations:\n",
       "    row_ids     truth  response\n",
       "          1    setosa    setosa\n",
       "          2    setosa    setosa\n",
       "          3    setosa    setosa\n",
       "---                            \n",
       "        148 virginica virginica\n",
       "        149 virginica virginica\n",
       "        150 virginica virginica\n"
      ]
     },
     "metadata": {},
     "output_type": "display_data"
    }
   ],
   "source": [
    "graph$predict(task)\n"
   ]
  },
  {
   "cell_type": "markdown",
   "metadata": {},
   "source": [
    "除此之外，还可以把graph变成一个`GraphLearner`对象，用于`resample`和`benchmark`等"
   ]
  },
  {
   "cell_type": "code",
   "execution_count": 8,
   "metadata": {
    "vscode": {
     "languageId": "r"
    }
   },
   "outputs": [
    {
     "name": "stdout",
     "output_type": "stream",
     "text": [
      "INFO  [21:48:18.320] [mlr3] Applying learner 'mutate.variance.classif.rpart' on task 'iris' (iter 1/5)\n",
      "INFO  [21:48:18.405] [mlr3] Applying learner 'mutate.variance.classif.rpart' on task 'iris' (iter 2/5)\n",
      "INFO  [21:48:18.467] [mlr3] Applying learner 'mutate.variance.classif.rpart' on task 'iris' (iter 3/5)\n",
      "INFO  [21:48:18.528] [mlr3] Applying learner 'mutate.variance.classif.rpart' on task 'iris' (iter 4/5)\n",
      "INFO  [21:48:18.587] [mlr3] Applying learner 'mutate.variance.classif.rpart' on task 'iris' (iter 5/5)\n"
     ]
    },
    {
     "data": {
      "text/plain": [
       "<ResampleResult> with 5 resampling iterations\n",
       " task_id                    learner_id resampling_id iteration warnings errors\n",
       "    iris mutate.variance.classif.rpart            cv         1        0      0\n",
       "    iris mutate.variance.classif.rpart            cv         2        0      0\n",
       "    iris mutate.variance.classif.rpart            cv         3        0      0\n",
       "    iris mutate.variance.classif.rpart            cv         4        0      0\n",
       "    iris mutate.variance.classif.rpart            cv         5        0      0"
      ]
     },
     "metadata": {},
     "output_type": "display_data"
    }
   ],
   "source": [
    "glrn <- as_learner(graph) # 变成graphlearner\n",
    "\n",
    "cv3 <- rsmp(\"cv\", folds = 5)\n",
    "resample(task, glrn, cv3)\n"
   ]
  },
  {
   "cell_type": "markdown",
   "metadata": {},
   "source": [
    "在很多数据预处理步骤中也是有参数需要调整的，mlr3pipelines不仅可以用于调整算法的超参数，还可以调整预处理中的参数。"
   ]
  },
  {
   "cell_type": "code",
   "execution_count": 25,
   "metadata": {
    "vscode": {
     "languageId": "r"
    }
   },
   "outputs": [],
   "source": [
    "library(paradox)\n",
    "\n",
    "ps <- ps(\n",
    "  classif.rpart.cp = p_dbl(0, 0.05), # 算法中的参数\n",
    "  variance.filter.frac = p_dbl(0.25, 1) # 特征选择方法中的参数\n",
    ")\n"
   ]
  },
  {
   "cell_type": "code",
   "execution_count": 26,
   "metadata": {
    "vscode": {
     "languageId": "r"
    }
   },
   "outputs": [],
   "source": [
    "library(mlr3tuning)\n",
    "\n",
    "instance <- TuningInstanceBatchSingleCrit$new(\n",
    "    task = task,\n",
    "    learner = glrn,\n",
    "    resampling = rsmp(\"holdout\", ratio = 0.7),\n",
    "    measure = msr(\"classif.acc\"),\n",
    "    search_space = ps,\n",
    "    terminator = trm(\"evals\", n_evals = 20)\n",
    ")\n"
   ]
  },
  {
   "cell_type": "code",
   "execution_count": 11,
   "metadata": {
    "vscode": {
     "languageId": "r"
    }
   },
   "outputs": [],
   "source": [
    "tuner <- tnr(\"random_search\")\n",
    "\n",
    "lgr::get_logger(\"mlr3\")$set_threshold(\"warn\")\n",
    "lgr::get_logger(\"bbotk\")$set_threshold(\"warn\")\n"
   ]
  },
  {
   "cell_type": "code",
   "execution_count": 12,
   "metadata": {
    "vscode": {
     "languageId": "r"
    }
   },
   "outputs": [
    {
     "data": {
      "text/html": [
       "<table class=\"dataframe\">\n",
       "<caption>A data.table: 1 × 5</caption>\n",
       "<thead>\n",
       "\t<tr><th scope=col>classif.rpart.cp</th><th scope=col>variance.filter.frac</th><th scope=col>learner_param_vals</th><th scope=col>x_domain</th><th scope=col>classif.acc</th></tr>\n",
       "\t<tr><th scope=col>&lt;dbl&gt;</th><th scope=col>&lt;dbl&gt;</th><th scope=col>&lt;list&gt;</th><th scope=col>&lt;list&gt;</th><th scope=col>&lt;dbl&gt;</th></tr>\n",
       "</thead>\n",
       "<tbody>\n",
       "\t<tr><td>0.02393091</td><td>0.4039542</td><td>0.00000000, 0.40395421, 1.00000000, 0.00000000, 0.02393091</td><td>0.02393091, 0.40395421</td><td>0.9555556</td></tr>\n",
       "</tbody>\n",
       "</table>\n"
      ],
      "text/latex": [
       "A data.table: 1 × 5\n",
       "\\begin{tabular}{lllll}\n",
       " classif.rpart.cp & variance.filter.frac & learner\\_param\\_vals & x\\_domain & classif.acc\\\\\n",
       " <dbl> & <dbl> & <list> & <list> & <dbl>\\\\\n",
       "\\hline\n",
       "\t 0.02393091 & 0.4039542 & 0.00000000, 0.40395421, 1.00000000, 0.00000000, 0.02393091 & 0.02393091, 0.40395421 & 0.9555556\\\\\n",
       "\\end{tabular}\n"
      ],
      "text/markdown": [
       "\n",
       "A data.table: 1 × 5\n",
       "\n",
       "| classif.rpart.cp &lt;dbl&gt; | variance.filter.frac &lt;dbl&gt; | learner_param_vals &lt;list&gt; | x_domain &lt;list&gt; | classif.acc &lt;dbl&gt; |\n",
       "|---|---|---|---|---|\n",
       "| 0.02393091 | 0.4039542 | 0.00000000, 0.40395421, 1.00000000, 0.00000000, 0.02393091 | 0.02393091, 0.40395421 | 0.9555556 |\n",
       "\n"
      ],
      "text/plain": [
       "  classif.rpart.cp variance.filter.frac\n",
       "1 0.02393091       0.4039542           \n",
       "  learner_param_vals                                        \n",
       "1 0.00000000, 0.40395421, 1.00000000, 0.00000000, 0.02393091\n",
       "  x_domain               classif.acc\n",
       "1 0.02393091, 0.40395421 0.9555556  "
      ]
     },
     "metadata": {},
     "output_type": "display_data"
    }
   ],
   "source": [
    "tuner$optimize(instance)\n"
   ]
  },
  {
   "cell_type": "code",
   "execution_count": 13,
   "metadata": {
    "vscode": {
     "languageId": "r"
    }
   },
   "outputs": [
    {
     "data": {
      "text/html": [
       "<strong>classif.acc:</strong> 0.955555555555556"
      ],
      "text/latex": [
       "\\textbf{classif.acc:} 0.955555555555556"
      ],
      "text/markdown": [
       "**classif.acc:** 0.955555555555556"
      ],
      "text/plain": [
       "classif.acc \n",
       "  0.9555556 "
      ]
     },
     "metadata": {},
     "output_type": "display_data"
    }
   ],
   "source": [
    "instance$result_y\n"
   ]
  },
  {
   "cell_type": "code",
   "execution_count": 14,
   "metadata": {
    "vscode": {
     "languageId": "r"
    }
   },
   "outputs": [
    {
     "data": {
      "text/html": [
       "<dl>\n",
       "\t<dt>$mutate.mutation</dt>\n",
       "\t\t<dd><ol>\n",
       "</ol>\n",
       "</dd>\n",
       "\t<dt>$mutate.delete_originals</dt>\n",
       "\t\t<dd>FALSE</dd>\n",
       "\t<dt>$variance.filter.frac</dt>\n",
       "\t\t<dd>0.403954213077668</dd>\n",
       "\t<dt>$variance.na.rm</dt>\n",
       "\t\t<dd>TRUE</dd>\n",
       "\t<dt>$classif.rpart.xval</dt>\n",
       "\t\t<dd>0</dd>\n",
       "\t<dt>$classif.rpart.cp</dt>\n",
       "\t\t<dd>0.0239309086697176</dd>\n",
       "</dl>\n"
      ],
      "text/latex": [
       "\\begin{description}\n",
       "\\item[\\$mutate.mutation] \\begin{enumerate}\n",
       "\\end{enumerate}\n",
       "\n",
       "\\item[\\$mutate.delete\\_originals] FALSE\n",
       "\\item[\\$variance.filter.frac] 0.403954213077668\n",
       "\\item[\\$variance.na.rm] TRUE\n",
       "\\item[\\$classif.rpart.xval] 0\n",
       "\\item[\\$classif.rpart.cp] 0.0239309086697176\n",
       "\\end{description}\n"
      ],
      "text/markdown": [
       "$mutate.mutation\n",
       ":   \n",
       "\n",
       "\n",
       "$mutate.delete_originals\n",
       ":   FALSE\n",
       "$variance.filter.frac\n",
       ":   0.403954213077668\n",
       "$variance.na.rm\n",
       ":   TRUE\n",
       "$classif.rpart.xval\n",
       ":   0\n",
       "$classif.rpart.cp\n",
       ":   0.0239309086697176\n",
       "\n",
       "\n"
      ],
      "text/plain": [
       "$mutate.mutation\n",
       "list()\n",
       "\n",
       "$mutate.delete_originals\n",
       "[1] FALSE\n",
       "\n",
       "$variance.filter.frac\n",
       "[1] 0.4039542\n",
       "\n",
       "$variance.na.rm\n",
       "[1] TRUE\n",
       "\n",
       "$classif.rpart.xval\n",
       "[1] 0\n",
       "\n",
       "$classif.rpart.cp\n",
       "[1] 0.02393091\n"
      ]
     },
     "metadata": {},
     "output_type": "display_data"
    }
   ],
   "source": [
    "instance$result_learner_param_vals\n"
   ]
  },
  {
   "cell_type": "markdown",
   "metadata": {},
   "source": [
    "可以看到结果直接给出了算法的超参数和特征选择中的参数。"
   ]
  },
  {
   "cell_type": "markdown",
   "metadata": {
    "vscode": {
     "languageId": "r"
    }
   },
   "source": [
    "## 非线性graph\n",
    "- Branching: 一个点通往多个分支，例如在比较多个特征选择方法时很有用。只有一条路会被执行。\n",
    "- Copying: 一个点通往多个分支，所有的分支都会被执行，但是只能1次执行1个分支，并行计算目前还不支持。\n",
    "- Stacking: 单个图被彼此堆叠，一个图的输出是另一个图的输入。\n"
   ]
  },
  {
   "cell_type": "markdown",
   "metadata": {},
   "source": [
    "### branching & copying\n",
    "使用`PipeOpBranch`和`PipeOpUnbranch`实现分支操作，分支操作的概念如下图所示：\n",
    "\n",
    "<image src=\"images/branching & copying.webp\">\n",
    "\n"
   ]
  },
  {
   "cell_type": "markdown",
   "metadata": {},
   "source": [
    "下面一个例子演示了分支操作，分支之后一定要解除分支："
   ]
  },
  {
   "cell_type": "code",
   "execution_count": 15,
   "metadata": {
    "vscode": {
     "languageId": "r"
    }
   },
   "outputs": [
    {
     "data": {
      "image/png": "[encoded data removed]",
      "text/plain": [
       "Plot with title “”"
      ]
     },
     "metadata": {
      "image/png": {
       "height": 420,
       "width": 420
      }
     },
     "output_type": "display_data"
    }
   ],
   "source": [
    "graph <- po(\"branch\", c(\"nop\", \"pca\", \"scale\")) %>>% # 开始分支\n",
    "    gunion(list(\n",
    "        po(\"nop\", id = \"null1\"), # 分支1，并且取了个名字null1\n",
    "        po(\"pca\"), # 分支2\n",
    "        po(\"scale\") # 分支3\n",
    "    )) %>>%\n",
    "    po(\"unbranch\", c(\"nop\", \"pca\", \"scale\")) # 结束分支\n",
    "\n",
    "graph$plot(html = F)\n"
   ]
  },
  {
   "cell_type": "markdown",
   "metadata": {},
   "source": [
    "### bagging\n",
    "属于集成学习的一种，概念不做介绍，感兴趣的可自行学习，其概念可查看下图：\n",
    "\n",
    "<image src=\"images/bagging.webp\">"
   ]
  },
  {
   "cell_type": "code",
   "execution_count": 19,
   "metadata": {
    "vscode": {
     "languageId": "r"
    }
   },
   "outputs": [
    {
     "data": {
      "image/png": "[encoded data removed]",
      "text/plain": [
       "Plot with title “”"
      ]
     },
     "metadata": {
      "image/png": {
       "height": 420,
       "width": 420
      }
     },
     "output_type": "display_data"
    }
   ],
   "source": [
    "gr <- ppl(\"bagging\",\n",
    "  graph = po(lrn(\"regr.rpart\")),\n",
    "  averager = po(\"regravg\", collect_multiplicity = TRUE)\n",
    ")\n",
    "\n",
    "gr$plot(html = FALSE)\n"
   ]
  },
  {
   "cell_type": "code",
   "execution_count": 20,
   "metadata": {
    "vscode": {
     "languageId": "r"
    }
   },
   "outputs": [
    {
     "data": {
      "image/png": "[encoded data removed]",
      "text/plain": [
       "Plot with title “”"
      ]
     },
     "metadata": {
      "image/png": {
       "height": 420,
       "width": 420
      }
     },
     "output_type": "display_data"
    }
   ],
   "source": [
    "single_pred <- po(\"subsample\", frac = 0.7) %>>%\n",
    "  po(\"learner\", lrn(\"classif.rpart\")) # 建立一个模型\n",
    "\n",
    "pred_set <- ppl(\"greplicate\", single_pred, 10L) # 复制10次\n",
    "\n",
    "bagging <- pred_set %>>%\n",
    "  po(\"classifavg\", innum = 10)\n",
    "\n",
    "bagging$plot(html = FALSE)\n"
   ]
  },
  {
   "cell_type": "markdown",
   "metadata": {},
   "source": [
    "把上面的对象变成一个`GraphLearner`，然后就可以进行训练和预测了：\n",
    "\n"
   ]
  },
  {
   "cell_type": "code",
   "execution_count": 21,
   "metadata": {
    "vscode": {
     "languageId": "r"
    }
   },
   "outputs": [
    {
     "data": {
      "text/plain": [
       "<PredictionClassif> for 45 observations:\n",
       "    row_ids     truth  response prob.setosa prob.versicolor prob.virginica\n",
       "          3    setosa    setosa           1             0.0            0.0\n",
       "          4    setosa    setosa           1             0.0            0.0\n",
       "         11    setosa    setosa           1             0.0            0.0\n",
       "---                                                                       \n",
       "        141 virginica virginica           0             0.0            1.0\n",
       "        147 virginica virginica           0             0.1            0.9\n",
       "        149 virginica virginica           0             0.0            1.0"
      ]
     },
     "metadata": {},
     "output_type": "display_data"
    }
   ],
   "source": [
    "task <- tsk(\"iris\")\n",
    "split <- partition(task, ratio = 0.7, stratify = T)\n",
    "\n",
    "\n",
    "baglrn <- as_learner(bagging)\n",
    "baglrn$train(task, row_ids = split$train)\n",
    "baglrn$predict(task, row_ids = split$test)\n"
   ]
  },
  {
   "cell_type": "markdown",
   "metadata": {},
   "source": [
    "## stacking\n",
    "另一种提高模型性能的方法，概念可看下图：\n",
    "\n",
    "<image src = \"images/stacking.webp\">\n",
    "\n",
    "这里为了防止过拟合，使用PipeOpLearnerCV预测袋外数据，它可以在数据内部自动执行嵌套重抽样。\n",
    "\n",
    "首先创建level 0学习器，然后复制一份，并取一个名字："
   ]
  },
  {
   "cell_type": "code",
   "execution_count": 28,
   "metadata": {
    "vscode": {
     "languageId": "r"
    }
   },
   "outputs": [],
   "source": [
    "lrn <- lrn(\"classif.rpart\")\n",
    "lrn_0 <- po(\"learner_cv\", lrn$clone())\n",
    "lrn_0$id <- \"rpart_cv\"\n"
   ]
  },
  {
   "cell_type": "markdown",
   "metadata": {},
   "source": [
    "然后联合使用`gunion`和`PipeOpNOP`，把没动过的task传到下一个level，这样经过决策树的task和没处理过的task就能一起传到下一个level了。"
   ]
  },
  {
   "cell_type": "code",
   "execution_count": 29,
   "metadata": {
    "vscode": {
     "languageId": "r"
    }
   },
   "outputs": [],
   "source": [
    "level_0 <- gunion(list(lrn_0, po(\"nop\")))\n"
   ]
  },
  {
   "cell_type": "markdown",
   "metadata": {},
   "source": [
    "把上面传下来的东西联合到一起："
   ]
  },
  {
   "cell_type": "code",
   "execution_count": 30,
   "metadata": {
    "vscode": {
     "languageId": "r"
    }
   },
   "outputs": [
    {
     "data": {
      "image/png": "[encoded data removed]",
      "text/plain": [
       "Plot with title “”"
      ]
     },
     "metadata": {
      "image/png": {
       "height": 420,
       "width": 420
      }
     },
     "output_type": "display_data"
    }
   ],
   "source": [
    "combined <- level_0 %>>% po(\"featureunion\", 2)\n",
    "stack <- combined %>>% po(\"learner\", lrn$clone())\n",
    "stack$plot(html = FALSE)\n"
   ]
  },
  {
   "cell_type": "markdown",
   "metadata": {},
   "source": [
    "然后就可以进行训练、预测了："
   ]
  },
  {
   "cell_type": "code",
   "execution_count": 31,
   "metadata": {
    "vscode": {
     "languageId": "r"
    }
   },
   "outputs": [
    {
     "data": {
      "text/plain": [
       "<PredictionClassif> for 45 observations:\n",
       "    row_ids     truth  response\n",
       "          3    setosa    setosa\n",
       "          4    setosa    setosa\n",
       "         11    setosa    setosa\n",
       "---                            \n",
       "        141 virginica virginica\n",
       "        147 virginica virginica\n",
       "        149 virginica virginica"
      ]
     },
     "metadata": {},
     "output_type": "display_data"
    }
   ],
   "source": [
    "stacklrn <- as_learner(stack)\n",
    "stacklrn$train(task, split$train)\n",
    "stacklrn$predict(task, split$test)\n"
   ]
  },
  {
   "cell_type": "markdown",
   "metadata": {},
   "source": [
    "## 一个超级复杂的例子\n",
    "这个例子有多个不同的预处理步骤，使用多个不同的算法。\n",
    "\n"
   ]
  },
  {
   "cell_type": "code",
   "execution_count": 32,
   "metadata": {
    "vscode": {
     "languageId": "r"
    }
   },
   "outputs": [
    {
     "name": "stderr",
     "output_type": "stream",
     "text": [
      "Warning message:\n",
      "“Package 'glmnet' required but not installed for Learner 'classif.glmnet'”\n"
     ]
    },
    {
     "data": {
      "image/png": "[encoded data removed]",
      "text/plain": [
       "Plot with title “”"
      ]
     },
     "metadata": {
      "image/png": {
       "height": 420,
       "width": 420
      }
     },
     "output_type": "display_data"
    }
   ],
   "source": [
    "library(\"magrittr\")\n",
    "library(\"mlr3learners\")\n",
    "\n",
    "rprt <- lrn(\"classif.rpart\", predict_type = \"prob\")\n",
    "glmn <- lrn(\"classif.glmnet\", predict_type = \"prob\")\n",
    "\n",
    "# 创建学习器\n",
    "lrn_0 <- po(\"learner_cv\", rprt, id = \"rpart_cv_1\")\n",
    "lrn_0$param_set$values$maxdepth <- 5L\n",
    "lrn_1 <- po(\"pca\", id = \"pca1\") %>>% po(\"learner_cv\", rprt, id = \"rpart_cv_2\")\n",
    "lrn_1$param_set$values$rpart_cv_2.maxdepth <- 1L\n",
    "lrn_2 <- po(\"pca\", id = \"pca2\") %>>% po(\"learner_cv\", glmn)\n",
    "\n",
    "# 第0层\n",
    "level_0 <- gunion(list(lrn_0, lrn_1, lrn_2, po(\"nop\", id = \"NOP1\")))\n",
    "\n",
    "# 第1层\n",
    "level_1 <- level_0 %>>%\n",
    "    po(\"featureunion\", 4) %>>%\n",
    "    po(\"copy\", 3) %>>%\n",
    "    gunion(list(\n",
    "        po(\"learner_cv\", rprt, id = \"rpart_cv_l1\"),\n",
    "        po(\"learner_cv\", glmn, id = \"glmnt_cv_l1\"),\n",
    "        po(\"nop\", id = \"NOP_l1\")\n",
    "    ))\n",
    "\n",
    "# 第2层\n",
    "level_2 <- level_1 %>>%\n",
    "    po(\"featureunion\", 3, id = \"u2\") %>>%\n",
    "    po(\"learner\", rprt, id = \"rpart_l2\")\n",
    "\n",
    "\n",
    "level_2$plot(html = FALSE)\n"
   ]
  },
  {
   "cell_type": "markdown",
   "metadata": {},
   "source": [
    "下面就可以进行训练、预测："
   ]
  },
  {
   "cell_type": "code",
   "execution_count": 35,
   "metadata": {
    "vscode": {
     "languageId": "r"
    }
   },
   "outputs": [
    {
     "name": "stderr",
     "output_type": "stream",
     "text": [
      "Warning message:\n",
      "“Multiple lambdas have been fit. Lambda will be set to 0.01 (see parameter 's').\n",
      "This happened PipeOp classif.glmnet's $train()”\n",
      "Warning message:\n",
      "“Multiple lambdas have been fit. Lambda will be set to 0.01 (see parameter 's').\n",
      "This happened PipeOp classif.glmnet's $train()”\n",
      "Warning message:\n",
      "“Multiple lambdas have been fit. Lambda will be set to 0.01 (see parameter 's').\n",
      "This happened PipeOp classif.glmnet's $train()”\n",
      "Warning message:\n",
      "“Multiple lambdas have been fit. Lambda will be set to 0.01 (see parameter 's').\n",
      "This happened PipeOp glmnt_cv_l1's $train()”\n",
      "Warning message:\n",
      "“Multiple lambdas have been fit. Lambda will be set to 0.01 (see parameter 's').\n",
      "This happened PipeOp glmnt_cv_l1's $train()”\n",
      "Warning message:\n",
      "“Multiple lambdas have been fit. Lambda will be set to 0.01 (see parameter 's').\n",
      "This happened PipeOp glmnt_cv_l1's $train()”\n",
      "Warning message:\n",
      "“Multiple lambdas have been fit. Lambda will be set to 0.01 (see parameter 's').\n",
      "This happened PipeOp classif.glmnet's $predict()”\n",
      "Warning message:\n",
      "“Multiple lambdas have been fit. Lambda will be set to 0.01 (see parameter 's').\n",
      "This happened PipeOp glmnt_cv_l1's $predict()”\n"
     ]
    }
   ],
   "source": [
    "task <- tsk(\"iris\")\n",
    "lrn <- as_learner(level_2)\n",
    "\n",
    "a <- lrn$train(task, split$train)$predict(task, split$test)$score()\n"
   ]
  },
  {
   "cell_type": "code",
   "execution_count": 36,
   "metadata": {
    "vscode": {
     "languageId": "r"
    }
   },
   "outputs": [
    {
     "data": {
      "text/html": [
       "<strong>classif.ce:</strong> 0.0666666666666667"
      ],
      "text/latex": [
       "\\textbf{classif.ce:} 0.0666666666666667"
      ],
      "text/markdown": [
       "**classif.ce:** 0.0666666666666667"
      ],
      "text/plain": [
       "classif.ce \n",
       "0.06666667 "
      ]
     },
     "metadata": {},
     "output_type": "display_data"
    }
   ],
   "source": [
    "a\n"
   ]
  },
  {
   "cell_type": "markdown",
   "metadata": {},
   "source": [
    "## 一些特殊预处理步骤\n",
    "其实是一些很常用的步骤...\n",
    "\n",
    "### 缺失值处理：PipeOpImpute\n",
    "缺失值处理实在是太常见了，mlr3pipelines对于数值型和因子型都能处理。"
   ]
  },
  {
   "cell_type": "code",
   "execution_count": 37,
   "metadata": {
    "vscode": {
     "languageId": "r"
    }
   },
   "outputs": [],
   "source": [
    "pom <- po(\"missind\")\n",
    "pon <- po(\"imputehist\", # 条形图插补数值型\n",
    "    id = \"impute_num\", # 取个名字\n",
    "    affect_columns = is.numeric # 设置处理哪些列\n",
    ")\n",
    "\n",
    "pof <- po(\"imputeoor\",\n",
    "    id = \"imputer_fct\",\n",
    "    affect_columns = is.factor\n",
    ") # 处理因子\n",
    "\n",
    "imputer <- pom %>>% pon %>>% pof\n"
   ]
  },
  {
   "cell_type": "markdown",
   "metadata": {},
   "source": [
    "连接学习器："
   ]
  },
  {
   "cell_type": "code",
   "execution_count": 38,
   "metadata": {
    "vscode": {
     "languageId": "r"
    }
   },
   "outputs": [],
   "source": [
    "polrn <- po(\"learner\", lrn(\"classif.rpart\"))\n",
    "lrn <- as_learner(imputer %>>% polrn)\n"
   ]
  },
  {
   "cell_type": "markdown",
   "metadata": {},
   "source": [
    "## 创建新的变量：PipeOpMutate"
   ]
  },
  {
   "cell_type": "code",
   "execution_count": null,
   "metadata": {
    "vscode": {
     "languageId": "r"
    }
   },
   "outputs": [],
   "source": [
    "pom <- po(\"mutate\",\n",
    "    mutation = list(\n",
    "        Sepal.Sum = ~ Sepal.Length + Sepal.Width,\n",
    "        Petal.Sum = ~ Petal.Length + Petal.Width,\n",
    "        Sepal.Petal.Ratio = ~ (Sepal.Length / Petal.Length)\n",
    "    )\n",
    ")\n"
   ]
  },
  {
   "cell_type": "markdown",
   "metadata": {},
   "source": [
    "## 使用子集训练：PipeOpChunk\n",
    "有时候数据集太大，把数据分割成小块进行分块训练是很好的办法。"
   ]
  },
  {
   "cell_type": "code",
   "execution_count": 39,
   "metadata": {
    "vscode": {
     "languageId": "r"
    }
   },
   "outputs": [
    {
     "data": {
      "image/png": "[encoded data removed]",
      "text/plain": [
       "Plot with title “”"
      ]
     },
     "metadata": {
      "image/png": {
       "height": 420,
       "width": 420
      }
     },
     "output_type": "display_data"
    }
   ],
   "source": [
    "chks <- po(\"chunk\", 4)\n",
    "lrns <- ppl(\"greplicate\", po(\"learner\", lrn(\"classif.rpart\")), 4)\n",
    "\n",
    "mjv <- po(\"classifavg\", 4)\n",
    "\n",
    "pipeline <- chks %>>% lrns %>>% mjv\n",
    "pipeline$plot(html = FALSE)\n"
   ]
  },
  {
   "cell_type": "code",
   "execution_count": 40,
   "metadata": {
    "vscode": {
     "languageId": "r"
    }
   },
   "outputs": [
    {
     "data": {
      "text/html": [
       "<strong>classif.ce:</strong> 0.0333333333333333"
      ],
      "text/latex": [
       "\\textbf{classif.ce:} 0.0333333333333333"
      ],
      "text/markdown": [
       "**classif.ce:** 0.0333333333333333"
      ],
      "text/plain": [
       "classif.ce \n",
       "0.03333333 "
      ]
     },
     "metadata": {},
     "output_type": "display_data"
    }
   ],
   "source": [
    "task <- tsk(\"iris\")\n",
    "train.idx <- sample(seq_len(task$nrow), 120)\n",
    "test.idx <- setdiff(seq_len(task$nrow), train.idx)\n",
    "\n",
    "pipelrn <- as_learner(pipeline)\n",
    "pipelrn$train(task, train.idx)$\n",
    "    predict(task, train.idx)$\n",
    "    score()\n"
   ]
  },
  {
   "cell_type": "markdown",
   "metadata": {},
   "source": [
    "## 特征选择：PipeOpFilter和PipeOpSelect\n",
    "\n",
    "可以使用`PipeOpFilter`对象把`mlr3filters`里面的变量选择方法放进mlr3pipelines中。"
   ]
  },
  {
   "cell_type": "code",
   "execution_count": 41,
   "metadata": {
    "vscode": {
     "languageId": "r"
    }
   },
   "outputs": [
    {
     "data": {
      "text/plain": [
       "PipeOp: <information_gain> (not trained)\n",
       "values: <list()>\n",
       "Input channels <name [train type, predict type]>:\n",
       "  input [Task,Task]\n",
       "Output channels <name [train type, predict type]>:\n",
       "  output [Task,Task]"
      ]
     },
     "metadata": {},
     "output_type": "display_data"
    }
   ],
   "source": [
    "po(\"filter\", mlr3filters::flt(\"information_gain\"))\n"
   ]
  },
  {
   "cell_type": "markdown",
   "metadata": {},
   "source": [
    "可使用filter_nfeat/filter_frac/filter_cutoff决定保留哪些变量/特征。"
   ]
  },
  {
   "cell_type": "code",
   "execution_count": null,
   "metadata": {
    "vscode": {
     "languageId": "r"
    }
   },
   "outputs": [],
   "source": []
  }
 ],
 "metadata": {
  "kernelspec": {
   "display_name": "R",
   "language": "R",
   "name": "ir"
  },
  "language_info": {
   "codemirror_mode": "r",
   "file_extension": ".r",
   "mimetype": "text/x-r-source",
   "name": "R",
   "pygments_lexer": "r",
   "version": "4.4.1"
  }
 },
 "nbformat": 4,
 "nbformat_minor": 2
}
