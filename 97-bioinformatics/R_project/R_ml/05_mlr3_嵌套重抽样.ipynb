{
 "cells": [
  {
   "cell_type": "markdown",
   "metadata": {},
   "source": [
    "# mlr3：嵌套重抽样\n",
    "\n",
    "主要包括4个部分的内容，今天学习第二部分。\n",
    "\n",
    "- 模型调优\n",
    "- 调整超参数\n",
    "    - 方法一：通过`tuninginstancesinglecrite`和`tuner`训练模型\n",
    "    - 方法二：通过`autotuner`训练模型\n",
    "    - 超参数设定的方法\n",
    "    - 参数依赖\n",
    "- 嵌套重抽样\n",
    "    - 进行嵌套重抽样\n",
    "    - 评价模型\n",
    "    - 把超参数应用于模型\n",
    "- Hyperband调参\n",
    "- 特征选择\n",
    "    - filters\n",
    "    - 计算分数\n",
    "    - 计算变量重要性\n",
    "    - 组合方法（wrapper methods）\n",
    "    - 自动选择"
   ]
  },
  {
   "cell_type": "markdown",
   "metadata": {},
   "source": [
    "## 嵌套重抽样\n",
    "既有外部重抽样，也有内部重抽样，彼此嵌套，可以很好的解决过拟合问题，得到更加稳定的模型。\n",
    "\n",
    "对于概念不清楚的可以自行百度学习，就不在这里赘述了。\n",
    "\n",
    "可使用下图帮助理解：\n",
    "\n",
    "<image src=\"./images/嵌套重抽样.webp\">"
   ]
  },
  {
   "cell_type": "markdown",
   "metadata": {},
   "source": [
    "## 进行嵌套重抽样\n",
    "内部使用4折交叉验证："
   ]
  },
  {
   "cell_type": "code",
   "execution_count": 2,
   "metadata": {
    "vscode": {
     "languageId": "r"
    }
   },
   "outputs": [],
   "source": [
    "rm(list = ls())\n"
   ]
  },
  {
   "cell_type": "code",
   "execution_count": 3,
   "metadata": {
    "vscode": {
     "languageId": "r"
    }
   },
   "outputs": [
    {
     "name": "stderr",
     "output_type": "stream",
     "text": [
      "Loading required package: mlr3\n",
      "\n",
      "Loading required package: paradox\n",
      "\n"
     ]
    }
   ],
   "source": [
    "library(mlr3verse)\n",
    "library(mlr3tuning)\n"
   ]
  },
  {
   "cell_type": "code",
   "execution_count": 4,
   "metadata": {
    "vscode": {
     "languageId": "r"
    }
   },
   "outputs": [],
   "source": [
    "learner <- lrn(\"classif.rpart\")\n",
    "resampling <- rsmp(\"cv\", folds = 4)\n",
    "measure <- msr(\"classif.ce\")\n",
    "search_space <- ps(cp = p_dbl(lower = 0.001, upper = 0.1))\n",
    "terminator <- trm(\"evals\", n_evals = 5)\n",
    "tuner <- tnr(\"grid_search\", resolution = 10)\n"
   ]
  },
  {
   "cell_type": "code",
   "execution_count": 7,
   "metadata": {
    "vscode": {
     "languageId": "r"
    }
   },
   "outputs": [
    {
     "data": {
      "text/html": [
       "<pre class=language-r><code>function (...) \n",
       "NULL</code></pre>"
      ],
      "text/latex": [
       "\\begin{minted}{r}\n",
       "function (...) \n",
       "NULL\n",
       "\\end{minted}"
      ],
      "text/markdown": [
       "```r\n",
       "function (...) \n",
       "NULL\n",
       "```"
      ],
      "text/plain": [
       "function (...) \n",
       "NULL"
      ]
     },
     "metadata": {},
     "output_type": "display_data"
    }
   ],
   "source": [
    "args(AutoTuner$new)\n"
   ]
  },
  {
   "cell_type": "code",
   "execution_count": 8,
   "metadata": {
    "vscode": {
     "languageId": "r"
    }
   },
   "outputs": [],
   "source": [
    "at <- AutoTuner$new(\n",
    "    tuner = tuner,\n",
    "    learner = learner,\n",
    "    resampling = resampling,\n",
    "    measure = measure,\n",
    "    terminator = terminator,\n",
    "    search_space = search_space\n",
    ")\n"
   ]
  },
  {
   "cell_type": "markdown",
   "metadata": {},
   "source": [
    "外部使用3折交叉验证："
   ]
  },
  {
   "cell_type": "code",
   "execution_count": 9,
   "metadata": {
    "vscode": {
     "languageId": "r"
    }
   },
   "outputs": [
    {
     "name": "stdout",
     "output_type": "stream",
     "text": [
      "INFO  [09:23:57.280] [mlr3] Applying learner 'classif.rpart.tuned' on task 'pima' (iter 1/3)\n",
      "INFO  [09:23:57.348] [bbotk] Starting to optimize 1 parameter(s) with '<OptimizerBatchGridSearch>' and '<TerminatorEvals> [n_evals=5, k=0]'\n",
      "INFO  [09:23:57.384] [bbotk] Evaluating 1 configuration(s)\n",
      "INFO  [09:23:57.398] [mlr3] Running benchmark with 4 resampling iterations\n",
      "INFO  [09:23:57.403] [mlr3] Applying learner 'classif.rpart' on task 'pima' (iter 1/4)\n",
      "INFO  [09:23:57.426] [mlr3] Applying learner 'classif.rpart' on task 'pima' (iter 2/4)\n",
      "INFO  [09:23:57.439] [mlr3] Applying learner 'classif.rpart' on task 'pima' (iter 3/4)\n",
      "INFO  [09:23:57.451] [mlr3] Applying learner 'classif.rpart' on task 'pima' (iter 4/4)\n",
      "INFO  [09:23:57.464] [mlr3] Finished benchmark\n",
      "INFO  [09:23:57.486] [bbotk] Result of batch 1:\n",
      "INFO  [09:23:57.490] [bbotk]     cp classif.ce warnings errors runtime_learners\n",
      "INFO  [09:23:57.490] [bbotk]  0.001  0.2773438        0      0            0.033\n",
      "INFO  [09:23:57.490] [bbotk]                                 uhash\n",
      "INFO  [09:23:57.490] [bbotk]  438b9456-ef2d-4ac0-8a0a-e32555d596e0\n",
      "INFO  [09:23:57.492] [bbotk] Evaluating 1 configuration(s)\n",
      "INFO  [09:23:57.497] [mlr3] Running benchmark with 4 resampling iterations\n",
      "INFO  [09:23:57.501] [mlr3] Applying learner 'classif.rpart' on task 'pima' (iter 1/4)\n",
      "INFO  [09:23:57.514] [mlr3] Applying learner 'classif.rpart' on task 'pima' (iter 2/4)\n",
      "INFO  [09:23:57.527] [mlr3] Applying learner 'classif.rpart' on task 'pima' (iter 3/4)\n",
      "INFO  [09:23:57.540] [mlr3] Applying learner 'classif.rpart' on task 'pima' (iter 4/4)\n",
      "INFO  [09:23:57.552] [mlr3] Finished benchmark\n",
      "INFO  [09:23:57.574] [bbotk] Result of batch 2:\n",
      "INFO  [09:23:57.576] [bbotk]     cp classif.ce warnings errors runtime_learners\n",
      "INFO  [09:23:57.576] [bbotk]  0.045   0.265625        0      0            0.024\n",
      "INFO  [09:23:57.576] [bbotk]                                 uhash\n",
      "INFO  [09:23:57.576] [bbotk]  22a55cfe-a460-4991-b9cc-3c77933104ac\n",
      "INFO  [09:23:57.578] [bbotk] Evaluating 1 configuration(s)\n",
      "INFO  [09:23:57.583] [mlr3] Running benchmark with 4 resampling iterations\n",
      "INFO  [09:23:57.588] [mlr3] Applying learner 'classif.rpart' on task 'pima' (iter 1/4)\n",
      "INFO  [09:23:57.601] [mlr3] Applying learner 'classif.rpart' on task 'pima' (iter 2/4)\n",
      "INFO  [09:23:57.633] [mlr3] Applying learner 'classif.rpart' on task 'pima' (iter 3/4)\n",
      "INFO  [09:23:57.646] [mlr3] Applying learner 'classif.rpart' on task 'pima' (iter 4/4)\n",
      "INFO  [09:23:57.657] [mlr3] Finished benchmark\n",
      "INFO  [09:23:57.678] [bbotk] Result of batch 3:\n",
      "INFO  [09:23:57.681] [bbotk]     cp classif.ce warnings errors runtime_learners\n",
      "INFO  [09:23:57.681] [bbotk]  0.078   0.265625        0      0            0.044\n",
      "INFO  [09:23:57.681] [bbotk]                                 uhash\n",
      "INFO  [09:23:57.681] [bbotk]  e3a85f14-51d6-4fc9-a882-08387c884de3\n",
      "INFO  [09:23:57.683] [bbotk] Evaluating 1 configuration(s)\n",
      "INFO  [09:23:57.688] [mlr3] Running benchmark with 4 resampling iterations\n",
      "INFO  [09:23:57.692] [mlr3] Applying learner 'classif.rpart' on task 'pima' (iter 1/4)\n",
      "INFO  [09:23:57.705] [mlr3] Applying learner 'classif.rpart' on task 'pima' (iter 2/4)\n",
      "INFO  [09:23:57.718] [mlr3] Applying learner 'classif.rpart' on task 'pima' (iter 3/4)\n",
      "INFO  [09:23:57.731] [mlr3] Applying learner 'classif.rpart' on task 'pima' (iter 4/4)\n",
      "INFO  [09:23:57.743] [mlr3] Finished benchmark\n",
      "INFO  [09:23:57.764] [bbotk] Result of batch 4:\n",
      "INFO  [09:23:57.766] [bbotk]     cp classif.ce warnings errors runtime_learners\n",
      "INFO  [09:23:57.766] [bbotk]  0.034  0.2636719        0      0            0.025\n",
      "INFO  [09:23:57.766] [bbotk]                                 uhash\n",
      "INFO  [09:23:57.766] [bbotk]  be9251b9-b608-4ffc-8d83-95a4fa79236c\n",
      "INFO  [09:23:57.768] [bbotk] Evaluating 1 configuration(s)\n",
      "INFO  [09:23:57.774] [mlr3] Running benchmark with 4 resampling iterations\n",
      "INFO  [09:23:57.778] [mlr3] Applying learner 'classif.rpart' on task 'pima' (iter 1/4)\n",
      "INFO  [09:23:57.791] [mlr3] Applying learner 'classif.rpart' on task 'pima' (iter 2/4)\n",
      "INFO  [09:23:57.804] [mlr3] Applying learner 'classif.rpart' on task 'pima' (iter 3/4)\n",
      "INFO  [09:23:57.816] [mlr3] Applying learner 'classif.rpart' on task 'pima' (iter 4/4)\n",
      "INFO  [09:23:57.833] [mlr3] Finished benchmark\n",
      "INFO  [09:23:57.854] [bbotk] Result of batch 5:\n",
      "INFO  [09:23:57.856] [bbotk]     cp classif.ce warnings errors runtime_learners\n",
      "INFO  [09:23:57.856] [bbotk]  0.089  0.2675781        0      0            0.025\n",
      "INFO  [09:23:57.856] [bbotk]                                 uhash\n",
      "INFO  [09:23:57.856] [bbotk]  4b9ade5a-8444-4be6-a8ce-4898a0cc13c2\n",
      "INFO  [09:23:57.867] [bbotk] Finished optimizing after 5 evaluation(s)\n",
      "INFO  [09:23:57.867] [bbotk] Result:\n",
      "INFO  [09:23:57.869] [bbotk]     cp learner_param_vals  x_domain classif.ce\n",
      "INFO  [09:23:57.869] [bbotk]  <num>             <list>    <list>      <num>\n",
      "INFO  [09:23:57.869] [bbotk]  0.034          <list[2]> <list[1]>  0.2636719\n",
      "INFO  [09:23:57.887] [mlr3] Applying learner 'classif.rpart.tuned' on task 'pima' (iter 2/3)\n",
      "INFO  [09:23:57.934] [bbotk] Starting to optimize 1 parameter(s) with '<OptimizerBatchGridSearch>' and '<TerminatorEvals> [n_evals=5, k=0]'\n",
      "INFO  [09:23:57.941] [bbotk] Evaluating 1 configuration(s)\n",
      "INFO  [09:23:57.946] [mlr3] Running benchmark with 4 resampling iterations\n",
      "INFO  [09:23:57.950] [mlr3] Applying learner 'classif.rpart' on task 'pima' (iter 1/4)\n",
      "INFO  [09:23:57.964] [mlr3] Applying learner 'classif.rpart' on task 'pima' (iter 2/4)\n",
      "INFO  [09:23:57.977] [mlr3] Applying learner 'classif.rpart' on task 'pima' (iter 3/4)\n",
      "INFO  [09:23:57.990] [mlr3] Applying learner 'classif.rpart' on task 'pima' (iter 4/4)\n",
      "INFO  [09:23:58.002] [mlr3] Finished benchmark\n",
      "INFO  [09:23:58.022] [bbotk] Result of batch 1:\n",
      "INFO  [09:23:58.024] [bbotk]     cp classif.ce warnings errors runtime_learners\n",
      "INFO  [09:23:58.024] [bbotk]  0.056  0.2910156        0      0            0.024\n",
      "INFO  [09:23:58.024] [bbotk]                                 uhash\n",
      "INFO  [09:23:58.024] [bbotk]  ba1835f3-19ce-4118-8846-81c455b049e0\n",
      "INFO  [09:23:58.026] [bbotk] Evaluating 1 configuration(s)\n",
      "INFO  [09:23:58.036] [mlr3] Running benchmark with 4 resampling iterations\n",
      "INFO  [09:23:58.040] [mlr3] Applying learner 'classif.rpart' on task 'pima' (iter 1/4)\n",
      "INFO  [09:23:58.053] [mlr3] Applying learner 'classif.rpart' on task 'pima' (iter 2/4)\n",
      "INFO  [09:23:58.066] [mlr3] Applying learner 'classif.rpart' on task 'pima' (iter 3/4)\n",
      "INFO  [09:23:58.079] [mlr3] Applying learner 'classif.rpart' on task 'pima' (iter 4/4)\n",
      "INFO  [09:23:58.090] [mlr3] Finished benchmark\n",
      "INFO  [09:23:58.112] [bbotk] Result of batch 2:\n",
      "INFO  [09:23:58.114] [bbotk]     cp classif.ce warnings errors runtime_learners\n",
      "INFO  [09:23:58.114] [bbotk]  0.089  0.2910156        0      0            0.024\n",
      "INFO  [09:23:58.114] [bbotk]                                 uhash\n",
      "INFO  [09:23:58.114] [bbotk]  b5790390-b525-4fd5-877c-21dfdeeef495\n",
      "INFO  [09:23:58.116] [bbotk] Evaluating 1 configuration(s)\n",
      "INFO  [09:23:58.121] [mlr3] Running benchmark with 4 resampling iterations\n",
      "INFO  [09:23:58.125] [mlr3] Applying learner 'classif.rpart' on task 'pima' (iter 1/4)\n",
      "INFO  [09:23:58.140] [mlr3] Applying learner 'classif.rpart' on task 'pima' (iter 2/4)\n",
      "INFO  [09:23:58.153] [mlr3] Applying learner 'classif.rpart' on task 'pima' (iter 3/4)\n",
      "INFO  [09:23:58.166] [mlr3] Applying learner 'classif.rpart' on task 'pima' (iter 4/4)\n",
      "INFO  [09:23:58.177] [mlr3] Finished benchmark\n",
      "INFO  [09:23:58.199] [bbotk] Result of batch 3:\n",
      "INFO  [09:23:58.201] [bbotk]     cp classif.ce warnings errors runtime_learners\n",
      "INFO  [09:23:58.201] [bbotk]  0.067  0.2910156        0      0            0.025\n",
      "INFO  [09:23:58.201] [bbotk]                                 uhash\n",
      "INFO  [09:23:58.201] [bbotk]  50d9fc54-975c-44eb-b5a3-6bcaa8fed055\n",
      "INFO  [09:23:58.204] [bbotk] Evaluating 1 configuration(s)\n",
      "INFO  [09:23:58.209] [mlr3] Running benchmark with 4 resampling iterations\n",
      "INFO  [09:23:58.213] [mlr3] Applying learner 'classif.rpart' on task 'pima' (iter 1/4)\n",
      "INFO  [09:23:58.231] [mlr3] Applying learner 'classif.rpart' on task 'pima' (iter 2/4)\n",
      "INFO  [09:23:58.244] [mlr3] Applying learner 'classif.rpart' on task 'pima' (iter 3/4)\n",
      "INFO  [09:23:58.257] [mlr3] Applying learner 'classif.rpart' on task 'pima' (iter 4/4)\n",
      "INFO  [09:23:58.269] [mlr3] Finished benchmark\n",
      "INFO  [09:23:58.291] [bbotk] Result of batch 4:\n",
      "INFO  [09:23:58.293] [bbotk]     cp classif.ce warnings errors runtime_learners\n",
      "INFO  [09:23:58.293] [bbotk]  0.034  0.2851562        0      0            0.031\n",
      "INFO  [09:23:58.293] [bbotk]                                 uhash\n",
      "INFO  [09:23:58.293] [bbotk]  57cd38d6-c664-4320-9681-953900e56f0f\n",
      "INFO  [09:23:58.295] [bbotk] Evaluating 1 configuration(s)\n",
      "INFO  [09:23:58.301] [mlr3] Running benchmark with 4 resampling iterations\n",
      "INFO  [09:23:58.305] [mlr3] Applying learner 'classif.rpart' on task 'pima' (iter 1/4)\n",
      "INFO  [09:23:58.318] [mlr3] Applying learner 'classif.rpart' on task 'pima' (iter 2/4)\n",
      "INFO  [09:23:58.331] [mlr3] Applying learner 'classif.rpart' on task 'pima' (iter 3/4)\n",
      "INFO  [09:23:58.344] [mlr3] Applying learner 'classif.rpart' on task 'pima' (iter 4/4)\n",
      "INFO  [09:23:58.356] [mlr3] Finished benchmark\n",
      "INFO  [09:23:58.378] [bbotk] Result of batch 5:\n",
      "INFO  [09:23:58.380] [bbotk]   cp classif.ce warnings errors runtime_learners\n",
      "INFO  [09:23:58.380] [bbotk]  0.1  0.3046875        0      0            0.025\n",
      "INFO  [09:23:58.380] [bbotk]                                 uhash\n",
      "INFO  [09:23:58.380] [bbotk]  80b0723f-87a9-4172-b461-a6869c20f6d2\n",
      "INFO  [09:23:58.391] [bbotk] Finished optimizing after 5 evaluation(s)\n",
      "INFO  [09:23:58.391] [bbotk] Result:\n",
      "INFO  [09:23:58.393] [bbotk]     cp learner_param_vals  x_domain classif.ce\n",
      "INFO  [09:23:58.393] [bbotk]  <num>             <list>    <list>      <num>\n",
      "INFO  [09:23:58.393] [bbotk]  0.034          <list[2]> <list[1]>  0.2851562\n",
      "INFO  [09:23:58.411] [mlr3] Applying learner 'classif.rpart.tuned' on task 'pima' (iter 3/3)\n",
      "INFO  [09:23:58.463] [bbotk] Starting to optimize 1 parameter(s) with '<OptimizerBatchGridSearch>' and '<TerminatorEvals> [n_evals=5, k=0]'\n",
      "INFO  [09:23:58.469] [bbotk] Evaluating 1 configuration(s)\n",
      "INFO  [09:23:58.474] [mlr3] Running benchmark with 4 resampling iterations\n",
      "INFO  [09:23:58.478] [mlr3] Applying learner 'classif.rpart' on task 'pima' (iter 1/4)\n",
      "INFO  [09:23:58.491] [mlr3] Applying learner 'classif.rpart' on task 'pima' (iter 2/4)\n",
      "INFO  [09:23:58.504] [mlr3] Applying learner 'classif.rpart' on task 'pima' (iter 3/4)\n",
      "INFO  [09:23:58.518] [mlr3] Applying learner 'classif.rpart' on task 'pima' (iter 4/4)\n",
      "INFO  [09:23:58.529] [mlr3] Finished benchmark\n",
      "INFO  [09:23:58.550] [bbotk] Result of batch 1:\n",
      "INFO  [09:23:58.552] [bbotk]     cp classif.ce warnings errors runtime_learners\n",
      "INFO  [09:23:58.552] [bbotk]  0.023  0.2382812        0      0            0.026\n",
      "INFO  [09:23:58.552] [bbotk]                                 uhash\n",
      "INFO  [09:23:58.552] [bbotk]  940073c2-24de-4917-8f10-9658222f705c\n",
      "INFO  [09:23:58.554] [bbotk] Evaluating 1 configuration(s)\n",
      "INFO  [09:23:58.559] [mlr3] Running benchmark with 4 resampling iterations\n",
      "INFO  [09:23:58.564] [mlr3] Applying learner 'classif.rpart' on task 'pima' (iter 1/4)\n",
      "INFO  [09:23:58.577] [mlr3] Applying learner 'classif.rpart' on task 'pima' (iter 2/4)\n",
      "INFO  [09:23:58.590] [mlr3] Applying learner 'classif.rpart' on task 'pima' (iter 3/4)\n",
      "INFO  [09:23:58.603] [mlr3] Applying learner 'classif.rpart' on task 'pima' (iter 4/4)\n",
      "INFO  [09:23:58.615] [mlr3] Finished benchmark\n",
      "INFO  [09:23:58.641] [bbotk] Result of batch 2:\n",
      "INFO  [09:23:58.643] [bbotk]     cp classif.ce warnings errors runtime_learners\n",
      "INFO  [09:23:58.643] [bbotk]  0.067  0.2597656        0      0            0.026\n",
      "INFO  [09:23:58.643] [bbotk]                                 uhash\n",
      "INFO  [09:23:58.643] [bbotk]  06f2cd6c-59ac-46c9-9417-17ac47cd99a5\n",
      "INFO  [09:23:58.645] [bbotk] Evaluating 1 configuration(s)\n",
      "INFO  [09:23:58.650] [mlr3] Running benchmark with 4 resampling iterations\n",
      "INFO  [09:23:58.654] [mlr3] Applying learner 'classif.rpart' on task 'pima' (iter 1/4)\n",
      "INFO  [09:23:58.667] [mlr3] Applying learner 'classif.rpart' on task 'pima' (iter 2/4)\n",
      "INFO  [09:23:58.680] [mlr3] Applying learner 'classif.rpart' on task 'pima' (iter 3/4)\n",
      "INFO  [09:23:58.692] [mlr3] Applying learner 'classif.rpart' on task 'pima' (iter 4/4)\n",
      "INFO  [09:23:58.704] [mlr3] Finished benchmark\n",
      "INFO  [09:23:58.726] [bbotk] Result of batch 3:\n",
      "INFO  [09:23:58.728] [bbotk]     cp classif.ce warnings errors runtime_learners\n",
      "INFO  [09:23:58.728] [bbotk]  0.089  0.2597656        0      0            0.024\n",
      "INFO  [09:23:58.728] [bbotk]                                 uhash\n",
      "INFO  [09:23:58.728] [bbotk]  964553b9-a1de-4a86-bc23-dc18d6fdd8fc\n",
      "INFO  [09:23:58.731] [bbotk] Evaluating 1 configuration(s)\n",
      "INFO  [09:23:58.736] [mlr3] Running benchmark with 4 resampling iterations\n",
      "INFO  [09:23:58.740] [mlr3] Applying learner 'classif.rpart' on task 'pima' (iter 1/4)\n",
      "INFO  [09:23:58.753] [mlr3] Applying learner 'classif.rpart' on task 'pima' (iter 2/4)\n",
      "INFO  [09:23:58.767] [mlr3] Applying learner 'classif.rpart' on task 'pima' (iter 3/4)\n",
      "INFO  [09:23:58.781] [mlr3] Applying learner 'classif.rpart' on task 'pima' (iter 4/4)\n",
      "INFO  [09:23:58.793] [mlr3] Finished benchmark\n",
      "INFO  [09:23:58.819] [bbotk] Result of batch 4:\n",
      "INFO  [09:23:58.821] [bbotk]     cp classif.ce warnings errors runtime_learners\n",
      "INFO  [09:23:58.821] [bbotk]  0.001       0.25        0      0            0.027\n",
      "INFO  [09:23:58.821] [bbotk]                                 uhash\n",
      "INFO  [09:23:58.821] [bbotk]  64b8e42f-b6b6-4963-a736-ba0d6965823d\n",
      "INFO  [09:23:58.824] [bbotk] Evaluating 1 configuration(s)\n",
      "INFO  [09:23:58.828] [mlr3] Running benchmark with 4 resampling iterations\n",
      "INFO  [09:23:58.833] [mlr3] Applying learner 'classif.rpart' on task 'pima' (iter 1/4)\n",
      "INFO  [09:23:58.845] [mlr3] Applying learner 'classif.rpart' on task 'pima' (iter 2/4)\n",
      "INFO  [09:23:58.858] [mlr3] Applying learner 'classif.rpart' on task 'pima' (iter 3/4)\n",
      "INFO  [09:23:58.871] [mlr3] Applying learner 'classif.rpart' on task 'pima' (iter 4/4)\n",
      "INFO  [09:23:58.883] [mlr3] Finished benchmark\n",
      "INFO  [09:23:58.905] [bbotk] Result of batch 5:\n",
      "INFO  [09:23:58.907] [bbotk]     cp classif.ce warnings errors runtime_learners\n",
      "INFO  [09:23:58.907] [bbotk]  0.056  0.2421875        0      0            0.026\n",
      "INFO  [09:23:58.907] [bbotk]                                 uhash\n",
      "INFO  [09:23:58.907] [bbotk]  e9fa3bc1-a5f2-4471-ac88-50d5bf9530f6\n",
      "INFO  [09:23:58.917] [bbotk] Finished optimizing after 5 evaluation(s)\n",
      "INFO  [09:23:58.918] [bbotk] Result:\n",
      "INFO  [09:23:58.920] [bbotk]     cp learner_param_vals  x_domain classif.ce\n",
      "INFO  [09:23:58.920] [bbotk]  <num>             <list>    <list>      <num>\n",
      "INFO  [09:23:58.920] [bbotk]  0.023          <list[2]> <list[1]>  0.2382812\n"
     ]
    }
   ],
   "source": [
    "task <- tsk(\"pima\")\n",
    "outer_resampling <- rsmp(\"cv\", folds = 3)\n",
    "\n",
    "rr <- resample(task,\n",
    "    at,\n",
    "    outer_resampling,\n",
    "    store_models = T\n",
    ")\n"
   ]
  },
  {
   "cell_type": "markdown",
   "metadata": {},
   "source": [
    "这里演示的数据集比较小，大数据可以使用并行化技术，将在后面介绍。\n",
    "\n",
    "## 评价模型\n",
    "提取内部抽样的模型表现："
   ]
  },
  {
   "cell_type": "code",
   "execution_count": 10,
   "metadata": {
    "vscode": {
     "languageId": "r"
    }
   },
   "outputs": [
    {
     "data": {
      "text/plain": [
       "<ResampleResult> with 3 resampling iterations\n",
       " task_id          learner_id resampling_id iteration warnings errors\n",
       "    pima classif.rpart.tuned            cv         1        0      0\n",
       "    pima classif.rpart.tuned            cv         2        0      0\n",
       "    pima classif.rpart.tuned            cv         3        0      0"
      ]
     },
     "metadata": {},
     "output_type": "display_data"
    }
   ],
   "source": [
    "rr\n"
   ]
  },
  {
   "cell_type": "code",
   "execution_count": 11,
   "metadata": {
    "vscode": {
     "languageId": "r"
    }
   },
   "outputs": [
    {
     "data": {
      "text/html": [
       "<table class=\"dataframe\">\n",
       "<caption>A data.table: 3 × 5</caption>\n",
       "<thead>\n",
       "\t<tr><th scope=col>task</th><th scope=col>learner</th><th scope=col>resampling</th><th scope=col>iteration</th><th scope=col>prediction</th></tr>\n",
       "\t<tr><th scope=col>&lt;list&gt;</th><th scope=col>&lt;list&gt;</th><th scope=col>&lt;list&gt;</th><th scope=col>&lt;int&gt;</th><th scope=col>&lt;list&gt;</th></tr>\n",
       "</thead>\n",
       "<tbody>\n",
       "\t<tr><td>&lt;environment: 0x558051dbfbc8&gt;</td><td>&lt;environment: 0x558053033e60&gt;</td><td>&lt;environment: 0x558051fc6890&gt;</td><td>1</td><td>&lt;environment: 0x5580570b4208&gt;</td></tr>\n",
       "\t<tr><td>&lt;environment: 0x558051dbfbc8&gt;</td><td>&lt;environment: 0x558055d84250&gt;</td><td>&lt;environment: 0x558051fc6890&gt;</td><td>2</td><td>&lt;environment: 0x558056c603f8&gt;</td></tr>\n",
       "\t<tr><td>&lt;environment: 0x558051dbfbc8&gt;</td><td>&lt;environment: 0x5580538ff400&gt;</td><td>&lt;environment: 0x558051fc6890&gt;</td><td>3</td><td>&lt;environment: 0x558052cb8e78&gt;</td></tr>\n",
       "</tbody>\n",
       "</table>\n"
      ],
      "text/latex": [
       "A data.table: 3 × 5\n",
       "\\begin{tabular}{lllll}\n",
       " task & learner & resampling & iteration & prediction\\\\\n",
       " <list> & <list> & <list> & <int> & <list>\\\\\n",
       "\\hline\n",
       "\t <environment: 0x558051dbfbc8> & <environment: 0x558053033e60> & <environment: 0x558051fc6890> & 1 & <environment: 0x5580570b4208>\\\\\n",
       "\t <environment: 0x558051dbfbc8> & <environment: 0x558055d84250> & <environment: 0x558051fc6890> & 2 & <environment: 0x558056c603f8>\\\\\n",
       "\t <environment: 0x558051dbfbc8> & <environment: 0x5580538ff400> & <environment: 0x558051fc6890> & 3 & <environment: 0x558052cb8e78>\\\\\n",
       "\\end{tabular}\n"
      ],
      "text/markdown": [
       "\n",
       "A data.table: 3 × 5\n",
       "\n",
       "| task &lt;list&gt; | learner &lt;list&gt; | resampling &lt;list&gt; | iteration &lt;int&gt; | prediction &lt;list&gt; |\n",
       "|---|---|---|---|---|\n",
       "| &lt;environment: 0x558051dbfbc8&gt; | &lt;environment: 0x558053033e60&gt; | &lt;environment: 0x558051fc6890&gt; | 1 | &lt;environment: 0x5580570b4208&gt; |\n",
       "| &lt;environment: 0x558051dbfbc8&gt; | &lt;environment: 0x558055d84250&gt; | &lt;environment: 0x558051fc6890&gt; | 2 | &lt;environment: 0x558056c603f8&gt; |\n",
       "| &lt;environment: 0x558051dbfbc8&gt; | &lt;environment: 0x5580538ff400&gt; | &lt;environment: 0x558051fc6890&gt; | 3 | &lt;environment: 0x558052cb8e78&gt; |\n",
       "\n"
      ],
      "text/plain": [
       "  task                          learner                      \n",
       "1 <environment: 0x558051dbfbc8> <environment: 0x558053033e60>\n",
       "2 <environment: 0x558051dbfbc8> <environment: 0x558055d84250>\n",
       "3 <environment: 0x558051dbfbc8> <environment: 0x5580538ff400>\n",
       "  resampling                    iteration prediction                   \n",
       "1 <environment: 0x558051fc6890> 1         <environment: 0x5580570b4208>\n",
       "2 <environment: 0x558051fc6890> 2         <environment: 0x558056c603f8>\n",
       "3 <environment: 0x558051fc6890> 3         <environment: 0x558052cb8e78>"
      ]
     },
     "metadata": {},
     "output_type": "display_data"
    }
   ],
   "source": [
    "as.data.table(rr)\n"
   ]
  },
  {
   "cell_type": "code",
   "execution_count": 12,
   "metadata": {
    "vscode": {
     "languageId": "r"
    }
   },
   "outputs": [
    {
     "data": {
      "text/html": [
       "<table class=\"dataframe\">\n",
       "<caption>A data.table: 3 × 8</caption>\n",
       "<thead>\n",
       "\t<tr><th scope=col>iteration</th><th scope=col>cp</th><th scope=col>classif.ce</th><th scope=col>learner_param_vals</th><th scope=col>x_domain</th><th scope=col>task_id</th><th scope=col>learner_id</th><th scope=col>resampling_id</th></tr>\n",
       "\t<tr><th scope=col>&lt;int&gt;</th><th scope=col>&lt;dbl&gt;</th><th scope=col>&lt;dbl&gt;</th><th scope=col>&lt;list&gt;</th><th scope=col>&lt;list&gt;</th><th scope=col>&lt;chr&gt;</th><th scope=col>&lt;chr&gt;</th><th scope=col>&lt;chr&gt;</th></tr>\n",
       "</thead>\n",
       "<tbody>\n",
       "\t<tr><td>1</td><td>0.034</td><td>0.2851562</td><td>0.000, 0.034</td><td>0.034</td><td>pima</td><td>classif.rpart.tuned</td><td>cv</td></tr>\n",
       "\t<tr><td>2</td><td>0.023</td><td>0.2382812</td><td>0.000, 0.023</td><td>0.023</td><td>pima</td><td>classif.rpart.tuned</td><td>cv</td></tr>\n",
       "\t<tr><td>3</td><td>0.034</td><td>0.2636719</td><td>0.000, 0.034</td><td>0.034</td><td>pima</td><td>classif.rpart.tuned</td><td>cv</td></tr>\n",
       "</tbody>\n",
       "</table>\n"
      ],
      "text/latex": [
       "A data.table: 3 × 8\n",
       "\\begin{tabular}{llllllll}\n",
       " iteration & cp & classif.ce & learner\\_param\\_vals & x\\_domain & task\\_id & learner\\_id & resampling\\_id\\\\\n",
       " <int> & <dbl> & <dbl> & <list> & <list> & <chr> & <chr> & <chr>\\\\\n",
       "\\hline\n",
       "\t 1 & 0.034 & 0.2851562 & 0.000, 0.034 & 0.034 & pima & classif.rpart.tuned & cv\\\\\n",
       "\t 2 & 0.023 & 0.2382812 & 0.000, 0.023 & 0.023 & pima & classif.rpart.tuned & cv\\\\\n",
       "\t 3 & 0.034 & 0.2636719 & 0.000, 0.034 & 0.034 & pima & classif.rpart.tuned & cv\\\\\n",
       "\\end{tabular}\n"
      ],
      "text/markdown": [
       "\n",
       "A data.table: 3 × 8\n",
       "\n",
       "| iteration &lt;int&gt; | cp &lt;dbl&gt; | classif.ce &lt;dbl&gt; | learner_param_vals &lt;list&gt; | x_domain &lt;list&gt; | task_id &lt;chr&gt; | learner_id &lt;chr&gt; | resampling_id &lt;chr&gt; |\n",
       "|---|---|---|---|---|---|---|---|\n",
       "| 1 | 0.034 | 0.2851562 | 0.000, 0.034 | 0.034 | pima | classif.rpart.tuned | cv |\n",
       "| 2 | 0.023 | 0.2382812 | 0.000, 0.023 | 0.023 | pima | classif.rpart.tuned | cv |\n",
       "| 3 | 0.034 | 0.2636719 | 0.000, 0.034 | 0.034 | pima | classif.rpart.tuned | cv |\n",
       "\n"
      ],
      "text/plain": [
       "  iteration cp    classif.ce learner_param_vals x_domain task_id\n",
       "1 1         0.034 0.2851562  0.000, 0.034       0.034    pima   \n",
       "2 2         0.023 0.2382812  0.000, 0.023       0.023    pima   \n",
       "3 3         0.034 0.2636719  0.000, 0.034       0.034    pima   \n",
       "  learner_id          resampling_id\n",
       "1 classif.rpart.tuned cv           \n",
       "2 classif.rpart.tuned cv           \n",
       "3 classif.rpart.tuned cv           "
      ]
     },
     "metadata": {},
     "output_type": "display_data"
    }
   ],
   "source": [
    "extract_inner_tuning_results(rr)\n"
   ]
  },
  {
   "cell_type": "markdown",
   "metadata": {},
   "source": [
    "提取内部抽样的存档："
   ]
  },
  {
   "cell_type": "code",
   "execution_count": 13,
   "metadata": {
    "vscode": {
     "languageId": "r"
    }
   },
   "outputs": [
    {
     "data": {
      "text/html": [
       "<table class=\"dataframe\">\n",
       "<caption>A data.table: 15 × 13</caption>\n",
       "<thead>\n",
       "\t<tr><th scope=col>iteration</th><th scope=col>cp</th><th scope=col>classif.ce</th><th scope=col>x_domain_cp</th><th scope=col>runtime_learners</th><th scope=col>timestamp</th><th scope=col>batch_nr</th><th scope=col>warnings</th><th scope=col>errors</th><th scope=col>resample_result</th><th scope=col>task_id</th><th scope=col>learner_id</th><th scope=col>resampling_id</th></tr>\n",
       "\t<tr><th scope=col>&lt;int&gt;</th><th scope=col>&lt;dbl&gt;</th><th scope=col>&lt;dbl&gt;</th><th scope=col>&lt;dbl&gt;</th><th scope=col>&lt;dbl&gt;</th><th scope=col>&lt;dttm&gt;</th><th scope=col>&lt;int&gt;</th><th scope=col>&lt;int&gt;</th><th scope=col>&lt;int&gt;</th><th scope=col>&lt;list&gt;</th><th scope=col>&lt;chr&gt;</th><th scope=col>&lt;chr&gt;</th><th scope=col>&lt;chr&gt;</th></tr>\n",
       "</thead>\n",
       "<tbody>\n",
       "\t<tr><td>1</td><td>0.056</td><td>0.2910156</td><td>0.056</td><td>0.024</td><td>2024-09-01 09:23:58</td><td>1</td><td>0</td><td>0</td><td>&lt;environment: 0x558051060038&gt;</td><td>pima</td><td>classif.rpart.tuned</td><td>cv</td></tr>\n",
       "\t<tr><td>1</td><td>0.089</td><td>0.2910156</td><td>0.089</td><td>0.024</td><td>2024-09-01 09:23:58</td><td>2</td><td>0</td><td>0</td><td>&lt;environment: 0x558051097f30&gt;</td><td>pima</td><td>classif.rpart.tuned</td><td>cv</td></tr>\n",
       "\t<tr><td>1</td><td>0.067</td><td>0.2910156</td><td>0.067</td><td>0.025</td><td>2024-09-01 09:23:58</td><td>3</td><td>0</td><td>0</td><td>&lt;environment: 0x5580510bfaf0&gt;</td><td>pima</td><td>classif.rpart.tuned</td><td>cv</td></tr>\n",
       "\t<tr><td>1</td><td>0.034</td><td>0.2851562</td><td>0.034</td><td>0.031</td><td>2024-09-01 09:23:58</td><td>4</td><td>0</td><td>0</td><td>&lt;environment: 0x5580510f3900&gt;</td><td>pima</td><td>classif.rpart.tuned</td><td>cv</td></tr>\n",
       "\t<tr><td>1</td><td>0.100</td><td>0.3046875</td><td>0.100</td><td>0.025</td><td>2024-09-01 09:23:58</td><td>5</td><td>0</td><td>0</td><td>&lt;environment: 0x558050c53850&gt;</td><td>pima</td><td>classif.rpart.tuned</td><td>cv</td></tr>\n",
       "\t<tr><td>2</td><td>0.023</td><td>0.2382812</td><td>0.023</td><td>0.026</td><td>2024-09-01 09:23:58</td><td>1</td><td>0</td><td>0</td><td>&lt;environment: 0x558051201090&gt;</td><td>pima</td><td>classif.rpart.tuned</td><td>cv</td></tr>\n",
       "\t<tr><td>2</td><td>0.067</td><td>0.2597656</td><td>0.067</td><td>0.026</td><td>2024-09-01 09:23:58</td><td>2</td><td>0</td><td>0</td><td>&lt;environment: 0x55805121fc60&gt;</td><td>pima</td><td>classif.rpart.tuned</td><td>cv</td></tr>\n",
       "\t<tr><td>2</td><td>0.089</td><td>0.2597656</td><td>0.089</td><td>0.024</td><td>2024-09-01 09:23:58</td><td>3</td><td>0</td><td>0</td><td>&lt;environment: 0x5580512385a0&gt;</td><td>pima</td><td>classif.rpart.tuned</td><td>cv</td></tr>\n",
       "\t<tr><td>2</td><td>0.001</td><td>0.2500000</td><td>0.001</td><td>0.027</td><td>2024-09-01 09:23:58</td><td>4</td><td>0</td><td>0</td><td>&lt;environment: 0x55805124d500&gt;</td><td>pima</td><td>classif.rpart.tuned</td><td>cv</td></tr>\n",
       "\t<tr><td>2</td><td>0.056</td><td>0.2421875</td><td>0.056</td><td>0.026</td><td>2024-09-01 09:23:58</td><td>5</td><td>0</td><td>0</td><td>&lt;environment: 0x558051269e30&gt;</td><td>pima</td><td>classif.rpart.tuned</td><td>cv</td></tr>\n",
       "\t<tr><td>3</td><td>0.001</td><td>0.2773438</td><td>0.001</td><td>0.033</td><td>2024-09-01 09:23:57</td><td>1</td><td>0</td><td>0</td><td>&lt;environment: 0x5580514cca38&gt;</td><td>pima</td><td>classif.rpart.tuned</td><td>cv</td></tr>\n",
       "\t<tr><td>3</td><td>0.045</td><td>0.2656250</td><td>0.045</td><td>0.024</td><td>2024-09-01 09:23:57</td><td>2</td><td>0</td><td>0</td><td>&lt;environment: 0x5580514e76f8&gt;</td><td>pima</td><td>classif.rpart.tuned</td><td>cv</td></tr>\n",
       "\t<tr><td>3</td><td>0.078</td><td>0.2656250</td><td>0.078</td><td>0.044</td><td>2024-09-01 09:23:57</td><td>3</td><td>0</td><td>0</td><td>&lt;environment: 0x558051610b58&gt;</td><td>pima</td><td>classif.rpart.tuned</td><td>cv</td></tr>\n",
       "\t<tr><td>3</td><td>0.034</td><td>0.2636719</td><td>0.034</td><td>0.025</td><td>2024-09-01 09:23:57</td><td>4</td><td>0</td><td>0</td><td>&lt;environment: 0x558051638de8&gt;</td><td>pima</td><td>classif.rpart.tuned</td><td>cv</td></tr>\n",
       "\t<tr><td>3</td><td>0.089</td><td>0.2675781</td><td>0.089</td><td>0.025</td><td>2024-09-01 09:23:57</td><td>5</td><td>0</td><td>0</td><td>&lt;environment: 0x55805168fce8&gt;</td><td>pima</td><td>classif.rpart.tuned</td><td>cv</td></tr>\n",
       "</tbody>\n",
       "</table>\n"
      ],
      "text/latex": [
       "A data.table: 15 × 13\n",
       "\\begin{tabular}{lllllllllllll}\n",
       " iteration & cp & classif.ce & x\\_domain\\_cp & runtime\\_learners & timestamp & batch\\_nr & warnings & errors & resample\\_result & task\\_id & learner\\_id & resampling\\_id\\\\\n",
       " <int> & <dbl> & <dbl> & <dbl> & <dbl> & <dttm> & <int> & <int> & <int> & <list> & <chr> & <chr> & <chr>\\\\\n",
       "\\hline\n",
       "\t 1 & 0.056 & 0.2910156 & 0.056 & 0.024 & 2024-09-01 09:23:58 & 1 & 0 & 0 & <environment: 0x558051060038> & pima & classif.rpart.tuned & cv\\\\\n",
       "\t 1 & 0.089 & 0.2910156 & 0.089 & 0.024 & 2024-09-01 09:23:58 & 2 & 0 & 0 & <environment: 0x558051097f30> & pima & classif.rpart.tuned & cv\\\\\n",
       "\t 1 & 0.067 & 0.2910156 & 0.067 & 0.025 & 2024-09-01 09:23:58 & 3 & 0 & 0 & <environment: 0x5580510bfaf0> & pima & classif.rpart.tuned & cv\\\\\n",
       "\t 1 & 0.034 & 0.2851562 & 0.034 & 0.031 & 2024-09-01 09:23:58 & 4 & 0 & 0 & <environment: 0x5580510f3900> & pima & classif.rpart.tuned & cv\\\\\n",
       "\t 1 & 0.100 & 0.3046875 & 0.100 & 0.025 & 2024-09-01 09:23:58 & 5 & 0 & 0 & <environment: 0x558050c53850> & pima & classif.rpart.tuned & cv\\\\\n",
       "\t 2 & 0.023 & 0.2382812 & 0.023 & 0.026 & 2024-09-01 09:23:58 & 1 & 0 & 0 & <environment: 0x558051201090> & pima & classif.rpart.tuned & cv\\\\\n",
       "\t 2 & 0.067 & 0.2597656 & 0.067 & 0.026 & 2024-09-01 09:23:58 & 2 & 0 & 0 & <environment: 0x55805121fc60> & pima & classif.rpart.tuned & cv\\\\\n",
       "\t 2 & 0.089 & 0.2597656 & 0.089 & 0.024 & 2024-09-01 09:23:58 & 3 & 0 & 0 & <environment: 0x5580512385a0> & pima & classif.rpart.tuned & cv\\\\\n",
       "\t 2 & 0.001 & 0.2500000 & 0.001 & 0.027 & 2024-09-01 09:23:58 & 4 & 0 & 0 & <environment: 0x55805124d500> & pima & classif.rpart.tuned & cv\\\\\n",
       "\t 2 & 0.056 & 0.2421875 & 0.056 & 0.026 & 2024-09-01 09:23:58 & 5 & 0 & 0 & <environment: 0x558051269e30> & pima & classif.rpart.tuned & cv\\\\\n",
       "\t 3 & 0.001 & 0.2773438 & 0.001 & 0.033 & 2024-09-01 09:23:57 & 1 & 0 & 0 & <environment: 0x5580514cca38> & pima & classif.rpart.tuned & cv\\\\\n",
       "\t 3 & 0.045 & 0.2656250 & 0.045 & 0.024 & 2024-09-01 09:23:57 & 2 & 0 & 0 & <environment: 0x5580514e76f8> & pima & classif.rpart.tuned & cv\\\\\n",
       "\t 3 & 0.078 & 0.2656250 & 0.078 & 0.044 & 2024-09-01 09:23:57 & 3 & 0 & 0 & <environment: 0x558051610b58> & pima & classif.rpart.tuned & cv\\\\\n",
       "\t 3 & 0.034 & 0.2636719 & 0.034 & 0.025 & 2024-09-01 09:23:57 & 4 & 0 & 0 & <environment: 0x558051638de8> & pima & classif.rpart.tuned & cv\\\\\n",
       "\t 3 & 0.089 & 0.2675781 & 0.089 & 0.025 & 2024-09-01 09:23:57 & 5 & 0 & 0 & <environment: 0x55805168fce8> & pima & classif.rpart.tuned & cv\\\\\n",
       "\\end{tabular}\n"
      ],
      "text/markdown": [
       "\n",
       "A data.table: 15 × 13\n",
       "\n",
       "| iteration &lt;int&gt; | cp &lt;dbl&gt; | classif.ce &lt;dbl&gt; | x_domain_cp &lt;dbl&gt; | runtime_learners &lt;dbl&gt; | timestamp &lt;dttm&gt; | batch_nr &lt;int&gt; | warnings &lt;int&gt; | errors &lt;int&gt; | resample_result &lt;list&gt; | task_id &lt;chr&gt; | learner_id &lt;chr&gt; | resampling_id &lt;chr&gt; |\n",
       "|---|---|---|---|---|---|---|---|---|---|---|---|---|\n",
       "| 1 | 0.056 | 0.2910156 | 0.056 | 0.024 | 2024-09-01 09:23:58 | 1 | 0 | 0 | &lt;environment: 0x558051060038&gt; | pima | classif.rpart.tuned | cv |\n",
       "| 1 | 0.089 | 0.2910156 | 0.089 | 0.024 | 2024-09-01 09:23:58 | 2 | 0 | 0 | &lt;environment: 0x558051097f30&gt; | pima | classif.rpart.tuned | cv |\n",
       "| 1 | 0.067 | 0.2910156 | 0.067 | 0.025 | 2024-09-01 09:23:58 | 3 | 0 | 0 | &lt;environment: 0x5580510bfaf0&gt; | pima | classif.rpart.tuned | cv |\n",
       "| 1 | 0.034 | 0.2851562 | 0.034 | 0.031 | 2024-09-01 09:23:58 | 4 | 0 | 0 | &lt;environment: 0x5580510f3900&gt; | pima | classif.rpart.tuned | cv |\n",
       "| 1 | 0.100 | 0.3046875 | 0.100 | 0.025 | 2024-09-01 09:23:58 | 5 | 0 | 0 | &lt;environment: 0x558050c53850&gt; | pima | classif.rpart.tuned | cv |\n",
       "| 2 | 0.023 | 0.2382812 | 0.023 | 0.026 | 2024-09-01 09:23:58 | 1 | 0 | 0 | &lt;environment: 0x558051201090&gt; | pima | classif.rpart.tuned | cv |\n",
       "| 2 | 0.067 | 0.2597656 | 0.067 | 0.026 | 2024-09-01 09:23:58 | 2 | 0 | 0 | &lt;environment: 0x55805121fc60&gt; | pima | classif.rpart.tuned | cv |\n",
       "| 2 | 0.089 | 0.2597656 | 0.089 | 0.024 | 2024-09-01 09:23:58 | 3 | 0 | 0 | &lt;environment: 0x5580512385a0&gt; | pima | classif.rpart.tuned | cv |\n",
       "| 2 | 0.001 | 0.2500000 | 0.001 | 0.027 | 2024-09-01 09:23:58 | 4 | 0 | 0 | &lt;environment: 0x55805124d500&gt; | pima | classif.rpart.tuned | cv |\n",
       "| 2 | 0.056 | 0.2421875 | 0.056 | 0.026 | 2024-09-01 09:23:58 | 5 | 0 | 0 | &lt;environment: 0x558051269e30&gt; | pima | classif.rpart.tuned | cv |\n",
       "| 3 | 0.001 | 0.2773438 | 0.001 | 0.033 | 2024-09-01 09:23:57 | 1 | 0 | 0 | &lt;environment: 0x5580514cca38&gt; | pima | classif.rpart.tuned | cv |\n",
       "| 3 | 0.045 | 0.2656250 | 0.045 | 0.024 | 2024-09-01 09:23:57 | 2 | 0 | 0 | &lt;environment: 0x5580514e76f8&gt; | pima | classif.rpart.tuned | cv |\n",
       "| 3 | 0.078 | 0.2656250 | 0.078 | 0.044 | 2024-09-01 09:23:57 | 3 | 0 | 0 | &lt;environment: 0x558051610b58&gt; | pima | classif.rpart.tuned | cv |\n",
       "| 3 | 0.034 | 0.2636719 | 0.034 | 0.025 | 2024-09-01 09:23:57 | 4 | 0 | 0 | &lt;environment: 0x558051638de8&gt; | pima | classif.rpart.tuned | cv |\n",
       "| 3 | 0.089 | 0.2675781 | 0.089 | 0.025 | 2024-09-01 09:23:57 | 5 | 0 | 0 | &lt;environment: 0x55805168fce8&gt; | pima | classif.rpart.tuned | cv |\n",
       "\n"
      ],
      "text/plain": [
       "   iteration cp    classif.ce x_domain_cp runtime_learners timestamp          \n",
       "1  1         0.056 0.2910156  0.056       0.024            2024-09-01 09:23:58\n",
       "2  1         0.089 0.2910156  0.089       0.024            2024-09-01 09:23:58\n",
       "3  1         0.067 0.2910156  0.067       0.025            2024-09-01 09:23:58\n",
       "4  1         0.034 0.2851562  0.034       0.031            2024-09-01 09:23:58\n",
       "5  1         0.100 0.3046875  0.100       0.025            2024-09-01 09:23:58\n",
       "6  2         0.023 0.2382812  0.023       0.026            2024-09-01 09:23:58\n",
       "7  2         0.067 0.2597656  0.067       0.026            2024-09-01 09:23:58\n",
       "8  2         0.089 0.2597656  0.089       0.024            2024-09-01 09:23:58\n",
       "9  2         0.001 0.2500000  0.001       0.027            2024-09-01 09:23:58\n",
       "10 2         0.056 0.2421875  0.056       0.026            2024-09-01 09:23:58\n",
       "11 3         0.001 0.2773438  0.001       0.033            2024-09-01 09:23:57\n",
       "12 3         0.045 0.2656250  0.045       0.024            2024-09-01 09:23:57\n",
       "13 3         0.078 0.2656250  0.078       0.044            2024-09-01 09:23:57\n",
       "14 3         0.034 0.2636719  0.034       0.025            2024-09-01 09:23:57\n",
       "15 3         0.089 0.2675781  0.089       0.025            2024-09-01 09:23:57\n",
       "   batch_nr warnings errors resample_result               task_id\n",
       "1  1        0        0      <environment: 0x558051060038> pima   \n",
       "2  2        0        0      <environment: 0x558051097f30> pima   \n",
       "3  3        0        0      <environment: 0x5580510bfaf0> pima   \n",
       "4  4        0        0      <environment: 0x5580510f3900> pima   \n",
       "5  5        0        0      <environment: 0x558050c53850> pima   \n",
       "6  1        0        0      <environment: 0x558051201090> pima   \n",
       "7  2        0        0      <environment: 0x55805121fc60> pima   \n",
       "8  3        0        0      <environment: 0x5580512385a0> pima   \n",
       "9  4        0        0      <environment: 0x55805124d500> pima   \n",
       "10 5        0        0      <environment: 0x558051269e30> pima   \n",
       "11 1        0        0      <environment: 0x5580514cca38> pima   \n",
       "12 2        0        0      <environment: 0x5580514e76f8> pima   \n",
       "13 3        0        0      <environment: 0x558051610b58> pima   \n",
       "14 4        0        0      <environment: 0x558051638de8> pima   \n",
       "15 5        0        0      <environment: 0x55805168fce8> pima   \n",
       "   learner_id          resampling_id\n",
       "1  classif.rpart.tuned cv           \n",
       "2  classif.rpart.tuned cv           \n",
       "3  classif.rpart.tuned cv           \n",
       "4  classif.rpart.tuned cv           \n",
       "5  classif.rpart.tuned cv           \n",
       "6  classif.rpart.tuned cv           \n",
       "7  classif.rpart.tuned cv           \n",
       "8  classif.rpart.tuned cv           \n",
       "9  classif.rpart.tuned cv           \n",
       "10 classif.rpart.tuned cv           \n",
       "11 classif.rpart.tuned cv           \n",
       "12 classif.rpart.tuned cv           \n",
       "13 classif.rpart.tuned cv           \n",
       "14 classif.rpart.tuned cv           \n",
       "15 classif.rpart.tuned cv           "
      ]
     },
     "metadata": {},
     "output_type": "display_data"
    }
   ],
   "source": [
    "extract_inner_tuning_archives(rr)\n"
   ]
  },
  {
   "cell_type": "markdown",
   "metadata": {},
   "source": [
    "可以看到和上面的结果是不一样的哦，每一折都有5次迭代，这就和我们设置的参数有关系了。\n",
    "\n",
    "查看外部重抽样的模型表现"
   ]
  },
  {
   "cell_type": "code",
   "execution_count": 14,
   "metadata": {
    "vscode": {
     "languageId": "r"
    }
   },
   "outputs": [
    {
     "data": {
      "text/html": [
       "<table class=\"dataframe\">\n",
       "<caption>A rr_score: 3 × 9</caption>\n",
       "<thead>\n",
       "\t<tr><th scope=col>task</th><th scope=col>task_id</th><th scope=col>learner</th><th scope=col>learner_id</th><th scope=col>resampling</th><th scope=col>resampling_id</th><th scope=col>iteration</th><th scope=col>prediction</th><th scope=col>classif.ce</th></tr>\n",
       "\t<tr><th scope=col>&lt;list&gt;</th><th scope=col>&lt;chr&gt;</th><th scope=col>&lt;list&gt;</th><th scope=col>&lt;chr&gt;</th><th scope=col>&lt;list&gt;</th><th scope=col>&lt;chr&gt;</th><th scope=col>&lt;int&gt;</th><th scope=col>&lt;list&gt;</th><th scope=col>&lt;dbl&gt;</th></tr>\n",
       "</thead>\n",
       "<tbody>\n",
       "\t<tr><td>&lt;environment: 0x558051dbfbc8&gt;</td><td>pima</td><td>&lt;environment: 0x55804ddc8c48&gt;</td><td>classif.rpart.tuned</td><td>&lt;environment: 0x558051fc6890&gt;</td><td>cv</td><td>1</td><td>&lt;environment: 0x558053400110&gt;</td><td>0.2421875</td></tr>\n",
       "\t<tr><td>&lt;environment: 0x558051dbfbc8&gt;</td><td>pima</td><td>&lt;environment: 0x5580564b8a08&gt;</td><td>classif.rpart.tuned</td><td>&lt;environment: 0x558051fc6890&gt;</td><td>cv</td><td>2</td><td>&lt;environment: 0x558056b59e40&gt;</td><td>0.2617188</td></tr>\n",
       "\t<tr><td>&lt;environment: 0x558051dbfbc8&gt;</td><td>pima</td><td>&lt;environment: 0x5580542f0848&gt;</td><td>classif.rpart.tuned</td><td>&lt;environment: 0x558051fc6890&gt;</td><td>cv</td><td>3</td><td>&lt;environment: 0x558053e49e20&gt;</td><td>0.2812500</td></tr>\n",
       "</tbody>\n",
       "</table>\n"
      ],
      "text/latex": [
       "A rr\\_score: 3 × 9\n",
       "\\begin{tabular}{lllllllll}\n",
       " task & task\\_id & learner & learner\\_id & resampling & resampling\\_id & iteration & prediction & classif.ce\\\\\n",
       " <list> & <chr> & <list> & <chr> & <list> & <chr> & <int> & <list> & <dbl>\\\\\n",
       "\\hline\n",
       "\t <environment: 0x558051dbfbc8> & pima & <environment: 0x55804ddc8c48> & classif.rpart.tuned & <environment: 0x558051fc6890> & cv & 1 & <environment: 0x558053400110> & 0.2421875\\\\\n",
       "\t <environment: 0x558051dbfbc8> & pima & <environment: 0x5580564b8a08> & classif.rpart.tuned & <environment: 0x558051fc6890> & cv & 2 & <environment: 0x558056b59e40> & 0.2617188\\\\\n",
       "\t <environment: 0x558051dbfbc8> & pima & <environment: 0x5580542f0848> & classif.rpart.tuned & <environment: 0x558051fc6890> & cv & 3 & <environment: 0x558053e49e20> & 0.2812500\\\\\n",
       "\\end{tabular}\n"
      ],
      "text/markdown": [
       "\n",
       "A rr_score: 3 × 9\n",
       "\n",
       "| task &lt;list&gt; | task_id &lt;chr&gt; | learner &lt;list&gt; | learner_id &lt;chr&gt; | resampling &lt;list&gt; | resampling_id &lt;chr&gt; | iteration &lt;int&gt; | prediction &lt;list&gt; | classif.ce &lt;dbl&gt; |\n",
       "|---|---|---|---|---|---|---|---|---|\n",
       "| &lt;environment: 0x558051dbfbc8&gt; | pima | &lt;environment: 0x55804ddc8c48&gt; | classif.rpart.tuned | &lt;environment: 0x558051fc6890&gt; | cv | 1 | &lt;environment: 0x558053400110&gt; | 0.2421875 |\n",
       "| &lt;environment: 0x558051dbfbc8&gt; | pima | &lt;environment: 0x5580564b8a08&gt; | classif.rpart.tuned | &lt;environment: 0x558051fc6890&gt; | cv | 2 | &lt;environment: 0x558056b59e40&gt; | 0.2617188 |\n",
       "| &lt;environment: 0x558051dbfbc8&gt; | pima | &lt;environment: 0x5580542f0848&gt; | classif.rpart.tuned | &lt;environment: 0x558051fc6890&gt; | cv | 3 | &lt;environment: 0x558053e49e20&gt; | 0.2812500 |\n",
       "\n"
      ],
      "text/plain": [
       "  task                          task_id learner                      \n",
       "1 <environment: 0x558051dbfbc8> pima    <environment: 0x55804ddc8c48>\n",
       "2 <environment: 0x558051dbfbc8> pima    <environment: 0x5580564b8a08>\n",
       "3 <environment: 0x558051dbfbc8> pima    <environment: 0x5580542f0848>\n",
       "  learner_id          resampling                    resampling_id iteration\n",
       "1 classif.rpart.tuned <environment: 0x558051fc6890> cv            1        \n",
       "2 classif.rpart.tuned <environment: 0x558051fc6890> cv            2        \n",
       "3 classif.rpart.tuned <environment: 0x558051fc6890> cv            3        \n",
       "  prediction                    classif.ce\n",
       "1 <environment: 0x558053400110> 0.2421875 \n",
       "2 <environment: 0x558056b59e40> 0.2617188 \n",
       "3 <environment: 0x558053e49e20> 0.2812500 "
      ]
     },
     "metadata": {},
     "output_type": "display_data"
    }
   ],
   "source": [
    "rr$score()\n"
   ]
  },
  {
   "cell_type": "markdown",
   "metadata": {},
   "source": [
    "查看平均表现："
   ]
  },
  {
   "cell_type": "code",
   "execution_count": 16,
   "metadata": {
    "vscode": {
     "languageId": "r"
    }
   },
   "outputs": [
    {
     "data": {
      "text/html": [
       "<strong>classif.ce:</strong> 0.26171875"
      ],
      "text/latex": [
       "\\textbf{classif.ce:} 0.26171875"
      ],
      "text/markdown": [
       "**classif.ce:** 0.26171875"
      ],
      "text/plain": [
       "classif.ce \n",
       " 0.2617188 "
      ]
     },
     "metadata": {},
     "output_type": "display_data"
    }
   ],
   "source": [
    "rr$aggregate()\n"
   ]
  },
  {
   "cell_type": "markdown",
   "metadata": {},
   "source": [
    "把超参数应用于模型"
   ]
  },
  {
   "cell_type": "code",
   "execution_count": 17,
   "metadata": {
    "vscode": {
     "languageId": "r"
    }
   },
   "outputs": [
    {
     "name": "stdout",
     "output_type": "stream",
     "text": [
      "INFO  [09:30:28.543] [bbotk] Starting to optimize 1 parameter(s) with '<OptimizerBatchGridSearch>' and '<TerminatorEvals> [n_evals=5, k=0]'\n",
      "INFO  [09:30:28.549] [bbotk] Evaluating 1 configuration(s)\n",
      "INFO  [09:30:28.554] [mlr3] Running benchmark with 4 resampling iterations\n",
      "INFO  [09:30:28.558] [mlr3] Applying learner 'classif.rpart' on task 'pima' (iter 1/4)\n",
      "INFO  [09:30:28.572] [mlr3] Applying learner 'classif.rpart' on task 'pima' (iter 2/4)\n",
      "INFO  [09:30:28.585] [mlr3] Applying learner 'classif.rpart' on task 'pima' (iter 3/4)\n",
      "INFO  [09:30:28.598] [mlr3] Applying learner 'classif.rpart' on task 'pima' (iter 4/4)\n",
      "INFO  [09:30:28.611] [mlr3] Finished benchmark\n",
      "INFO  [09:30:28.630] [bbotk] Result of batch 1:\n",
      "INFO  [09:30:28.632] [bbotk]     cp classif.ce warnings errors runtime_learners\n",
      "INFO  [09:30:28.632] [bbotk]  0.023   0.265625        0      0            0.025\n",
      "INFO  [09:30:28.632] [bbotk]                                 uhash\n",
      "INFO  [09:30:28.632] [bbotk]  7c5784d8-9170-4d22-90c9-b4e6265ab045\n",
      "INFO  [09:30:28.635] [bbotk] Evaluating 1 configuration(s)\n",
      "INFO  [09:30:28.640] [mlr3] Running benchmark with 4 resampling iterations\n",
      "INFO  [09:30:28.644] [mlr3] Applying learner 'classif.rpart' on task 'pima' (iter 1/4)\n",
      "INFO  [09:30:28.657] [mlr3] Applying learner 'classif.rpart' on task 'pima' (iter 2/4)\n",
      "INFO  [09:30:28.670] [mlr3] Applying learner 'classif.rpart' on task 'pima' (iter 3/4)\n",
      "INFO  [09:30:28.683] [mlr3] Applying learner 'classif.rpart' on task 'pima' (iter 4/4)\n",
      "INFO  [09:30:28.695] [mlr3] Finished benchmark\n",
      "INFO  [09:30:28.720] [bbotk] Result of batch 2:\n",
      "INFO  [09:30:28.722] [bbotk]     cp classif.ce warnings errors runtime_learners\n",
      "INFO  [09:30:28.722] [bbotk]  0.001  0.2773438        0      0            0.028\n",
      "INFO  [09:30:28.722] [bbotk]                                 uhash\n",
      "INFO  [09:30:28.722] [bbotk]  968e6790-2d0c-498b-91aa-52bb85143374\n",
      "INFO  [09:30:28.724] [bbotk] Evaluating 1 configuration(s)\n",
      "INFO  [09:30:28.729] [mlr3] Running benchmark with 4 resampling iterations\n",
      "INFO  [09:30:28.733] [mlr3] Applying learner 'classif.rpart' on task 'pima' (iter 1/4)\n",
      "INFO  [09:30:28.746] [mlr3] Applying learner 'classif.rpart' on task 'pima' (iter 2/4)\n",
      "INFO  [09:30:28.758] [mlr3] Applying learner 'classif.rpart' on task 'pima' (iter 3/4)\n",
      "INFO  [09:30:28.770] [mlr3] Applying learner 'classif.rpart' on task 'pima' (iter 4/4)\n",
      "INFO  [09:30:28.782] [mlr3] Finished benchmark\n",
      "INFO  [09:30:28.803] [bbotk] Result of batch 3:\n",
      "INFO  [09:30:28.805] [bbotk]   cp classif.ce warnings errors runtime_learners\n",
      "INFO  [09:30:28.805] [bbotk]  0.1  0.2669271        0      0            0.025\n",
      "INFO  [09:30:28.805] [bbotk]                                 uhash\n",
      "INFO  [09:30:28.805] [bbotk]  9ecdee9e-2bec-4599-b0c5-f73daf66741f\n",
      "INFO  [09:30:28.807] [bbotk] Evaluating 1 configuration(s)\n",
      "INFO  [09:30:28.812] [mlr3] Running benchmark with 4 resampling iterations\n",
      "INFO  [09:30:28.816] [mlr3] Applying learner 'classif.rpart' on task 'pima' (iter 1/4)\n",
      "INFO  [09:30:28.829] [mlr3] Applying learner 'classif.rpart' on task 'pima' (iter 2/4)\n",
      "INFO  [09:30:28.842] [mlr3] Applying learner 'classif.rpart' on task 'pima' (iter 3/4)\n",
      "INFO  [09:30:28.859] [mlr3] Applying learner 'classif.rpart' on task 'pima' (iter 4/4)\n",
      "INFO  [09:30:28.870] [mlr3] Finished benchmark\n",
      "INFO  [09:30:28.890] [bbotk] Result of batch 4:\n",
      "INFO  [09:30:28.892] [bbotk]     cp classif.ce warnings errors runtime_learners\n",
      "INFO  [09:30:28.892] [bbotk]  0.034  0.2721354        0      0            0.029\n",
      "INFO  [09:30:28.892] [bbotk]                                 uhash\n",
      "INFO  [09:30:28.892] [bbotk]  c09f832f-6383-4ba4-b18a-798ce504a5aa\n",
      "INFO  [09:30:28.895] [bbotk] Evaluating 1 configuration(s)\n",
      "INFO  [09:30:28.899] [mlr3] Running benchmark with 4 resampling iterations\n",
      "INFO  [09:30:28.903] [mlr3] Applying learner 'classif.rpart' on task 'pima' (iter 1/4)\n",
      "INFO  [09:30:28.916] [mlr3] Applying learner 'classif.rpart' on task 'pima' (iter 2/4)\n",
      "INFO  [09:30:28.929] [mlr3] Applying learner 'classif.rpart' on task 'pima' (iter 3/4)\n",
      "INFO  [09:30:28.943] [mlr3] Applying learner 'classif.rpart' on task 'pima' (iter 4/4)\n",
      "INFO  [09:30:28.955] [mlr3] Finished benchmark\n",
      "INFO  [09:30:28.977] [bbotk] Result of batch 5:\n",
      "INFO  [09:30:28.979] [bbotk]     cp classif.ce warnings errors runtime_learners\n",
      "INFO  [09:30:28.979] [bbotk]  0.089  0.2669271        0      0            0.027\n",
      "INFO  [09:30:28.979] [bbotk]                                 uhash\n",
      "INFO  [09:30:28.979] [bbotk]  a9d1aaa2-d4be-4dbc-a741-51c05cb64a7c\n",
      "INFO  [09:30:28.988] [bbotk] Finished optimizing after 5 evaluation(s)\n",
      "INFO  [09:30:28.989] [bbotk] Result:\n",
      "INFO  [09:30:28.991] [bbotk]     cp learner_param_vals  x_domain classif.ce\n",
      "INFO  [09:30:28.991] [bbotk]  <num>             <list>    <list>      <num>\n",
      "INFO  [09:30:28.991] [bbotk]  0.023          <list[2]> <list[1]>   0.265625\n"
     ]
    }
   ],
   "source": [
    "at$train(task)\n"
   ]
  },
  {
   "cell_type": "markdown",
   "metadata": {},
   "source": [
    "现在模型就可以应用于新的数据集了。\n",
    "\n",
    "以上过程也是有简便写法的，但是需要注意，这里的`mlr3tuning`需要用github版的，`cran`版的还有bug，不知道修复了没："
   ]
  },
  {
   "cell_type": "code",
   "execution_count": 21,
   "metadata": {
    "vscode": {
     "languageId": "r"
    }
   },
   "outputs": [
    {
     "name": "stdout",
     "output_type": "stream",
     "text": [
      "INFO  [09:33:27.913] [mlr3] Applying learner 'classif.rpart.tuned' on task 'pima' (iter 1/3)\n",
      "INFO  [09:33:27.959] [bbotk] Starting to optimize 1 parameter(s) with '<OptimizerBatchGridSearch>' and '<TerminatorEvals> [n_evals=20, k=0]'\n",
      "INFO  [09:33:27.965] [bbotk] Evaluating 1 configuration(s)\n",
      "INFO  [09:33:27.970] [mlr3] Running benchmark with 4 resampling iterations\n",
      "INFO  [09:33:27.974] [mlr3] Applying learner 'classif.rpart' on task 'pima' (iter 1/4)\n",
      "INFO  [09:33:27.987] [mlr3] Applying learner 'classif.rpart' on task 'pima' (iter 2/4)\n",
      "INFO  [09:33:28.000] [mlr3] Applying learner 'classif.rpart' on task 'pima' (iter 3/4)\n",
      "INFO  [09:33:28.013] [mlr3] Applying learner 'classif.rpart' on task 'pima' (iter 4/4)\n",
      "INFO  [09:33:28.025] [mlr3] Finished benchmark\n",
      "INFO  [09:33:28.046] [bbotk] Result of batch 1:\n",
      "INFO  [09:33:28.048] [bbotk]     cp classif.ce warnings errors runtime_learners\n",
      "INFO  [09:33:28.048] [bbotk]  0.034  0.2597656        0      0            0.028\n",
      "INFO  [09:33:28.048] [bbotk]                                 uhash\n",
      "INFO  [09:33:28.048] [bbotk]  5279255e-75e7-4f94-8828-73339db3de19\n",
      "INFO  [09:33:28.050] [bbotk] Evaluating 1 configuration(s)\n",
      "INFO  [09:33:28.060] [mlr3] Running benchmark with 4 resampling iterations\n",
      "INFO  [09:33:28.064] [mlr3] Applying learner 'classif.rpart' on task 'pima' (iter 1/4)\n",
      "INFO  [09:33:28.076] [mlr3] Applying learner 'classif.rpart' on task 'pima' (iter 2/4)\n",
      "INFO  [09:33:28.089] [mlr3] Applying learner 'classif.rpart' on task 'pima' (iter 3/4)\n",
      "INFO  [09:33:28.101] [mlr3] Applying learner 'classif.rpart' on task 'pima' (iter 4/4)\n",
      "INFO  [09:33:28.112] [mlr3] Finished benchmark\n",
      "INFO  [09:33:28.134] [bbotk] Result of batch 2:\n",
      "INFO  [09:33:28.136] [bbotk]     cp classif.ce warnings errors runtime_learners\n",
      "INFO  [09:33:28.136] [bbotk]  0.067  0.2753906        0      0            0.024\n",
      "INFO  [09:33:28.136] [bbotk]                                 uhash\n",
      "INFO  [09:33:28.136] [bbotk]  fdc5b27c-61a8-4034-b4aa-6316ad39d2ab\n",
      "INFO  [09:33:28.138] [bbotk] Evaluating 1 configuration(s)\n",
      "INFO  [09:33:28.143] [mlr3] Running benchmark with 4 resampling iterations\n",
      "INFO  [09:33:28.147] [mlr3] Applying learner 'classif.rpart' on task 'pima' (iter 1/4)\n",
      "INFO  [09:33:28.160] [mlr3] Applying learner 'classif.rpart' on task 'pima' (iter 2/4)\n",
      "INFO  [09:33:28.173] [mlr3] Applying learner 'classif.rpart' on task 'pima' (iter 3/4)\n",
      "INFO  [09:33:28.186] [mlr3] Applying learner 'classif.rpart' on task 'pima' (iter 4/4)\n",
      "INFO  [09:33:28.198] [mlr3] Finished benchmark\n",
      "INFO  [09:33:28.223] [bbotk] Result of batch 3:\n",
      "INFO  [09:33:28.225] [bbotk]     cp classif.ce warnings errors runtime_learners\n",
      "INFO  [09:33:28.225] [bbotk]  0.045  0.2597656        0      0            0.026\n",
      "INFO  [09:33:28.225] [bbotk]                                 uhash\n",
      "INFO  [09:33:28.225] [bbotk]  40d6c61b-c812-4ed6-84bf-cffd36baa5b8\n",
      "INFO  [09:33:28.227] [bbotk] Evaluating 1 configuration(s)\n",
      "INFO  [09:33:28.232] [mlr3] Running benchmark with 4 resampling iterations\n",
      "INFO  [09:33:28.236] [mlr3] Applying learner 'classif.rpart' on task 'pima' (iter 1/4)\n",
      "INFO  [09:33:28.248] [mlr3] Applying learner 'classif.rpart' on task 'pima' (iter 2/4)\n",
      "INFO  [09:33:28.260] [mlr3] Applying learner 'classif.rpart' on task 'pima' (iter 3/4)\n",
      "INFO  [09:33:28.272] [mlr3] Applying learner 'classif.rpart' on task 'pima' (iter 4/4)\n",
      "INFO  [09:33:28.284] [mlr3] Finished benchmark\n",
      "INFO  [09:33:28.305] [bbotk] Result of batch 4:\n",
      "INFO  [09:33:28.307] [bbotk]     cp classif.ce warnings errors runtime_learners\n",
      "INFO  [09:33:28.307] [bbotk]  0.078  0.2890625        0      0            0.022\n",
      "INFO  [09:33:28.307] [bbotk]                                 uhash\n",
      "INFO  [09:33:28.307] [bbotk]  445885c8-cc1f-44de-8d34-68e776c06e25\n",
      "INFO  [09:33:28.309] [bbotk] Evaluating 1 configuration(s)\n",
      "INFO  [09:33:28.314] [mlr3] Running benchmark with 4 resampling iterations\n",
      "INFO  [09:33:28.318] [mlr3] Applying learner 'classif.rpart' on task 'pima' (iter 1/4)\n",
      "INFO  [09:33:28.331] [mlr3] Applying learner 'classif.rpart' on task 'pima' (iter 2/4)\n",
      "INFO  [09:33:28.343] [mlr3] Applying learner 'classif.rpart' on task 'pima' (iter 3/4)\n",
      "INFO  [09:33:28.356] [mlr3] Applying learner 'classif.rpart' on task 'pima' (iter 4/4)\n",
      "INFO  [09:33:28.368] [mlr3] Finished benchmark\n",
      "INFO  [09:33:28.392] [bbotk] Result of batch 5:\n",
      "INFO  [09:33:28.394] [bbotk]     cp classif.ce warnings errors runtime_learners\n",
      "INFO  [09:33:28.394] [bbotk]  0.089  0.2890625        0      0            0.024\n",
      "INFO  [09:33:28.394] [bbotk]                                 uhash\n",
      "INFO  [09:33:28.394] [bbotk]  2c07e3d7-3c30-4de4-b8cf-eaee485d401f\n",
      "INFO  [09:33:28.396] [bbotk] Evaluating 1 configuration(s)\n",
      "INFO  [09:33:28.401] [mlr3] Running benchmark with 4 resampling iterations\n",
      "INFO  [09:33:28.405] [mlr3] Applying learner 'classif.rpart' on task 'pima' (iter 1/4)\n",
      "INFO  [09:33:28.418] [mlr3] Applying learner 'classif.rpart' on task 'pima' (iter 2/4)\n",
      "INFO  [09:33:28.430] [mlr3] Applying learner 'classif.rpart' on task 'pima' (iter 3/4)\n",
      "INFO  [09:33:28.443] [mlr3] Applying learner 'classif.rpart' on task 'pima' (iter 4/4)\n",
      "INFO  [09:33:28.455] [mlr3] Finished benchmark\n",
      "INFO  [09:33:28.476] [bbotk] Result of batch 6:\n",
      "INFO  [09:33:28.478] [bbotk]     cp classif.ce warnings errors runtime_learners\n",
      "INFO  [09:33:28.478] [bbotk]  0.001  0.2714844        0      0            0.025\n",
      "INFO  [09:33:28.478] [bbotk]                                 uhash\n",
      "INFO  [09:33:28.478] [bbotk]  68bc97c6-6936-4d96-acc4-d1edbeeec976\n",
      "INFO  [09:33:28.480] [bbotk] Evaluating 1 configuration(s)\n",
      "INFO  [09:33:28.485] [mlr3] Running benchmark with 4 resampling iterations\n",
      "INFO  [09:33:28.490] [mlr3] Applying learner 'classif.rpart' on task 'pima' (iter 1/4)\n",
      "INFO  [09:33:28.502] [mlr3] Applying learner 'classif.rpart' on task 'pima' (iter 2/4)\n",
      "INFO  [09:33:28.515] [mlr3] Applying learner 'classif.rpart' on task 'pima' (iter 3/4)\n",
      "INFO  [09:33:28.528] [mlr3] Applying learner 'classif.rpart' on task 'pima' (iter 4/4)\n",
      "INFO  [09:33:28.544] [mlr3] Finished benchmark\n",
      "INFO  [09:33:28.564] [bbotk] Result of batch 7:\n",
      "INFO  [09:33:28.566] [bbotk]     cp classif.ce warnings errors runtime_learners\n",
      "INFO  [09:33:28.566] [bbotk]  0.023  0.2363281        0      0            0.028\n",
      "INFO  [09:33:28.566] [bbotk]                                 uhash\n",
      "INFO  [09:33:28.566] [bbotk]  961944f4-ab8f-435c-a592-8c389ea527e7\n",
      "INFO  [09:33:28.568] [bbotk] Evaluating 1 configuration(s)\n",
      "INFO  [09:33:28.573] [mlr3] Running benchmark with 4 resampling iterations\n",
      "INFO  [09:33:28.577] [mlr3] Applying learner 'classif.rpart' on task 'pima' (iter 1/4)\n",
      "INFO  [09:33:28.589] [mlr3] Applying learner 'classif.rpart' on task 'pima' (iter 2/4)\n",
      "INFO  [09:33:28.602] [mlr3] Applying learner 'classif.rpart' on task 'pima' (iter 3/4)\n",
      "INFO  [09:33:28.614] [mlr3] Applying learner 'classif.rpart' on task 'pima' (iter 4/4)\n",
      "INFO  [09:33:28.627] [mlr3] Finished benchmark\n",
      "INFO  [09:33:28.648] [bbotk] Result of batch 8:\n",
      "INFO  [09:33:28.650] [bbotk]   cp classif.ce warnings errors runtime_learners\n",
      "INFO  [09:33:28.650] [bbotk]  0.1  0.2890625        0      0            0.025\n",
      "INFO  [09:33:28.650] [bbotk]                                 uhash\n",
      "INFO  [09:33:28.650] [bbotk]  4dcb645a-b8fc-4aba-87ef-4f1262c624ab\n",
      "INFO  [09:33:28.652] [bbotk] Evaluating 1 configuration(s)\n",
      "INFO  [09:33:28.657] [mlr3] Running benchmark with 4 resampling iterations\n",
      "INFO  [09:33:28.661] [mlr3] Applying learner 'classif.rpart' on task 'pima' (iter 1/4)\n",
      "INFO  [09:33:28.675] [mlr3] Applying learner 'classif.rpart' on task 'pima' (iter 2/4)\n",
      "INFO  [09:33:28.693] [mlr3] Applying learner 'classif.rpart' on task 'pima' (iter 3/4)\n",
      "INFO  [09:33:28.706] [mlr3] Applying learner 'classif.rpart' on task 'pima' (iter 4/4)\n",
      "INFO  [09:33:28.717] [mlr3] Finished benchmark\n",
      "INFO  [09:33:28.739] [bbotk] Result of batch 9:\n",
      "INFO  [09:33:28.741] [bbotk]     cp classif.ce warnings errors runtime_learners\n",
      "INFO  [09:33:28.741] [bbotk]  0.012   0.265625        0      0            0.029\n",
      "INFO  [09:33:28.741] [bbotk]                                 uhash\n",
      "INFO  [09:33:28.741] [bbotk]  869aab27-d68d-4844-a764-4b6a5d85ceb0\n",
      "INFO  [09:33:28.743] [bbotk] Evaluating 1 configuration(s)\n",
      "INFO  [09:33:28.748] [mlr3] Running benchmark with 4 resampling iterations\n",
      "INFO  [09:33:28.752] [mlr3] Applying learner 'classif.rpart' on task 'pima' (iter 1/4)\n",
      "INFO  [09:33:28.765] [mlr3] Applying learner 'classif.rpart' on task 'pima' (iter 2/4)\n",
      "INFO  [09:33:28.779] [mlr3] Applying learner 'classif.rpart' on task 'pima' (iter 3/4)\n",
      "INFO  [09:33:28.792] [mlr3] Applying learner 'classif.rpart' on task 'pima' (iter 4/4)\n",
      "INFO  [09:33:28.804] [mlr3] Finished benchmark\n",
      "INFO  [09:33:28.826] [bbotk] Result of batch 10:\n",
      "INFO  [09:33:28.828] [bbotk]     cp classif.ce warnings errors runtime_learners\n",
      "INFO  [09:33:28.828] [bbotk]  0.056  0.2597656        0      0            0.025\n",
      "INFO  [09:33:28.828] [bbotk]                                 uhash\n",
      "INFO  [09:33:28.828] [bbotk]  15979a72-144b-4bdf-b388-b88a9ffd0a78\n",
      "INFO  [09:33:28.842] [bbotk] Finished optimizing after 10 evaluation(s)\n",
      "INFO  [09:33:28.843] [bbotk] Result:\n",
      "INFO  [09:33:28.844] [bbotk]     cp learner_param_vals  x_domain classif.ce\n",
      "INFO  [09:33:28.844] [bbotk]  <num>             <list>    <list>      <num>\n",
      "INFO  [09:33:28.844] [bbotk]  0.023          <list[2]> <list[1]>  0.2363281\n",
      "INFO  [09:33:28.862] [mlr3] Applying learner 'classif.rpart.tuned' on task 'pima' (iter 2/3)\n",
      "INFO  [09:33:28.908] [bbotk] Starting to optimize 1 parameter(s) with '<OptimizerBatchGridSearch>' and '<TerminatorEvals> [n_evals=20, k=0]'\n",
      "INFO  [09:33:28.915] [bbotk] Evaluating 1 configuration(s)\n",
      "INFO  [09:33:28.920] [mlr3] Running benchmark with 4 resampling iterations\n",
      "INFO  [09:33:28.924] [mlr3] Applying learner 'classif.rpart' on task 'pima' (iter 1/4)\n",
      "INFO  [09:33:28.937] [mlr3] Applying learner 'classif.rpart' on task 'pima' (iter 2/4)\n",
      "INFO  [09:33:28.950] [mlr3] Applying learner 'classif.rpart' on task 'pima' (iter 3/4)\n",
      "INFO  [09:33:28.963] [mlr3] Applying learner 'classif.rpart' on task 'pima' (iter 4/4)\n",
      "INFO  [09:33:28.974] [mlr3] Finished benchmark\n",
      "INFO  [09:33:28.998] [bbotk] Result of batch 1:\n",
      "INFO  [09:33:29.000] [bbotk]     cp classif.ce warnings errors runtime_learners\n",
      "INFO  [09:33:29.000] [bbotk]  0.056  0.2558594        0      0            0.024\n",
      "INFO  [09:33:29.000] [bbotk]                                 uhash\n",
      "INFO  [09:33:29.000] [bbotk]  8271f2e4-7a31-47e0-a211-709bed6005d1\n",
      "INFO  [09:33:29.002] [bbotk] Evaluating 1 configuration(s)\n",
      "INFO  [09:33:29.007] [mlr3] Running benchmark with 4 resampling iterations\n",
      "INFO  [09:33:29.011] [mlr3] Applying learner 'classif.rpart' on task 'pima' (iter 1/4)\n",
      "INFO  [09:33:29.024] [mlr3] Applying learner 'classif.rpart' on task 'pima' (iter 2/4)\n",
      "INFO  [09:33:29.036] [mlr3] Applying learner 'classif.rpart' on task 'pima' (iter 3/4)\n",
      "INFO  [09:33:29.049] [mlr3] Applying learner 'classif.rpart' on task 'pima' (iter 4/4)\n",
      "INFO  [09:33:29.061] [mlr3] Finished benchmark\n",
      "INFO  [09:33:29.082] [bbotk] Result of batch 2:\n",
      "INFO  [09:33:29.084] [bbotk]     cp classif.ce warnings errors runtime_learners\n",
      "INFO  [09:33:29.084] [bbotk]  0.034  0.2558594        0      0            0.026\n",
      "INFO  [09:33:29.084] [bbotk]                                 uhash\n",
      "INFO  [09:33:29.084] [bbotk]  9acc2b63-1f2f-40b5-a7a4-d449431305e8\n",
      "INFO  [09:33:29.087] [bbotk] Evaluating 1 configuration(s)\n",
      "INFO  [09:33:29.092] [mlr3] Running benchmark with 4 resampling iterations\n",
      "INFO  [09:33:29.096] [mlr3] Applying learner 'classif.rpart' on task 'pima' (iter 1/4)\n",
      "INFO  [09:33:29.109] [mlr3] Applying learner 'classif.rpart' on task 'pima' (iter 2/4)\n",
      "INFO  [09:33:29.125] [mlr3] Applying learner 'classif.rpart' on task 'pima' (iter 3/4)\n",
      "INFO  [09:33:29.138] [mlr3] Applying learner 'classif.rpart' on task 'pima' (iter 4/4)\n",
      "INFO  [09:33:29.149] [mlr3] Finished benchmark\n",
      "INFO  [09:33:29.170] [bbotk] Result of batch 3:\n",
      "INFO  [09:33:29.172] [bbotk]     cp classif.ce warnings errors runtime_learners\n",
      "INFO  [09:33:29.172] [bbotk]  0.045  0.2558594        0      0            0.029\n",
      "INFO  [09:33:29.172] [bbotk]                                 uhash\n",
      "INFO  [09:33:29.172] [bbotk]  388046bf-a06f-4cc4-94f5-308eeda95c36\n",
      "INFO  [09:33:29.174] [bbotk] Evaluating 1 configuration(s)\n",
      "INFO  [09:33:29.179] [mlr3] Running benchmark with 4 resampling iterations\n",
      "INFO  [09:33:29.183] [mlr3] Applying learner 'classif.rpart' on task 'pima' (iter 1/4)\n",
      "INFO  [09:33:29.196] [mlr3] Applying learner 'classif.rpart' on task 'pima' (iter 2/4)\n",
      "INFO  [09:33:29.209] [mlr3] Applying learner 'classif.rpart' on task 'pima' (iter 3/4)\n",
      "INFO  [09:33:29.222] [mlr3] Applying learner 'classif.rpart' on task 'pima' (iter 4/4)\n",
      "INFO  [09:33:29.233] [mlr3] Finished benchmark\n",
      "INFO  [09:33:29.258] [bbotk] Result of batch 4:\n",
      "INFO  [09:33:29.260] [bbotk]     cp classif.ce warnings errors runtime_learners\n",
      "INFO  [09:33:29.260] [bbotk]  0.067  0.2695312        0      0            0.025\n",
      "INFO  [09:33:29.260] [bbotk]                                 uhash\n",
      "INFO  [09:33:29.260] [bbotk]  429bc8d0-dd54-4c25-8b13-0684783e7533\n",
      "INFO  [09:33:29.263] [bbotk] Evaluating 1 configuration(s)\n",
      "INFO  [09:33:29.267] [mlr3] Running benchmark with 4 resampling iterations\n",
      "INFO  [09:33:29.271] [mlr3] Applying learner 'classif.rpart' on task 'pima' (iter 1/4)\n",
      "INFO  [09:33:29.284] [mlr3] Applying learner 'classif.rpart' on task 'pima' (iter 2/4)\n",
      "INFO  [09:33:29.296] [mlr3] Applying learner 'classif.rpart' on task 'pima' (iter 3/4)\n",
      "INFO  [09:33:29.309] [mlr3] Applying learner 'classif.rpart' on task 'pima' (iter 4/4)\n",
      "INFO  [09:33:29.320] [mlr3] Finished benchmark\n",
      "INFO  [09:33:29.342] [bbotk] Result of batch 5:\n",
      "INFO  [09:33:29.344] [bbotk]   cp classif.ce warnings errors runtime_learners\n",
      "INFO  [09:33:29.344] [bbotk]  0.1  0.2617188        0      0            0.025\n",
      "INFO  [09:33:29.344] [bbotk]                                 uhash\n",
      "INFO  [09:33:29.344] [bbotk]  4ad0707b-2cc4-479e-b21f-98f52b065218\n",
      "INFO  [09:33:29.346] [bbotk] Evaluating 1 configuration(s)\n",
      "INFO  [09:33:29.351] [mlr3] Running benchmark with 4 resampling iterations\n",
      "INFO  [09:33:29.355] [mlr3] Applying learner 'classif.rpart' on task 'pima' (iter 1/4)\n",
      "INFO  [09:33:29.368] [mlr3] Applying learner 'classif.rpart' on task 'pima' (iter 2/4)\n",
      "INFO  [09:33:29.381] [mlr3] Applying learner 'classif.rpart' on task 'pima' (iter 3/4)\n",
      "INFO  [09:33:29.511] [mlr3] Applying learner 'classif.rpart' on task 'pima' (iter 4/4)\n",
      "INFO  [09:33:29.522] [mlr3] Finished benchmark\n",
      "INFO  [09:33:29.542] [bbotk] Result of batch 6:\n",
      "INFO  [09:33:29.544] [bbotk]     cp classif.ce warnings errors runtime_learners\n",
      "INFO  [09:33:29.544] [bbotk]  0.089  0.2675781        0      0            0.141\n",
      "INFO  [09:33:29.544] [bbotk]                                 uhash\n",
      "INFO  [09:33:29.544] [bbotk]  5073eac7-d96b-4c53-8d21-d06e065094d0\n",
      "INFO  [09:33:29.546] [bbotk] Evaluating 1 configuration(s)\n",
      "INFO  [09:33:29.550] [mlr3] Running benchmark with 4 resampling iterations\n",
      "INFO  [09:33:29.554] [mlr3] Applying learner 'classif.rpart' on task 'pima' (iter 1/4)\n",
      "INFO  [09:33:29.567] [mlr3] Applying learner 'classif.rpart' on task 'pima' (iter 2/4)\n",
      "INFO  [09:33:29.579] [mlr3] Applying learner 'classif.rpart' on task 'pima' (iter 3/4)\n",
      "INFO  [09:33:29.591] [mlr3] Applying learner 'classif.rpart' on task 'pima' (iter 4/4)\n",
      "INFO  [09:33:29.602] [mlr3] Finished benchmark\n",
      "INFO  [09:33:29.622] [bbotk] Result of batch 7:\n",
      "INFO  [09:33:29.624] [bbotk]     cp classif.ce warnings errors runtime_learners\n",
      "INFO  [09:33:29.624] [bbotk]  0.023  0.2597656        0      0            0.021\n",
      "INFO  [09:33:29.624] [bbotk]                                 uhash\n",
      "INFO  [09:33:29.624] [bbotk]  297f82a3-3066-4723-b7fd-e6c215d04702\n",
      "INFO  [09:33:29.626] [bbotk] Evaluating 1 configuration(s)\n",
      "INFO  [09:33:29.631] [mlr3] Running benchmark with 4 resampling iterations\n",
      "INFO  [09:33:29.635] [mlr3] Applying learner 'classif.rpart' on task 'pima' (iter 1/4)\n",
      "INFO  [09:33:29.647] [mlr3] Applying learner 'classif.rpart' on task 'pima' (iter 2/4)\n",
      "INFO  [09:33:29.658] [mlr3] Applying learner 'classif.rpart' on task 'pima' (iter 3/4)\n",
      "INFO  [09:33:29.670] [mlr3] Applying learner 'classif.rpart' on task 'pima' (iter 4/4)\n",
      "INFO  [09:33:29.682] [mlr3] Finished benchmark\n",
      "INFO  [09:33:29.706] [bbotk] Result of batch 8:\n",
      "INFO  [09:33:29.708] [bbotk]     cp classif.ce warnings errors runtime_learners\n",
      "INFO  [09:33:29.708] [bbotk]  0.078  0.2675781        0      0            0.022\n",
      "INFO  [09:33:29.708] [bbotk]                                 uhash\n",
      "INFO  [09:33:29.708] [bbotk]  f7b780a6-11c3-407f-8f26-50fd660ecf8b\n",
      "INFO  [09:33:29.711] [bbotk] Evaluating 1 configuration(s)\n",
      "INFO  [09:33:29.715] [mlr3] Running benchmark with 4 resampling iterations\n",
      "INFO  [09:33:29.719] [mlr3] Applying learner 'classif.rpart' on task 'pima' (iter 1/4)\n",
      "INFO  [09:33:29.731] [mlr3] Applying learner 'classif.rpart' on task 'pima' (iter 2/4)\n",
      "INFO  [09:33:29.744] [mlr3] Applying learner 'classif.rpart' on task 'pima' (iter 3/4)\n",
      "INFO  [09:33:29.756] [mlr3] Applying learner 'classif.rpart' on task 'pima' (iter 4/4)\n",
      "INFO  [09:33:29.767] [mlr3] Finished benchmark\n",
      "INFO  [09:33:29.787] [bbotk] Result of batch 9:\n",
      "INFO  [09:33:29.789] [bbotk]     cp classif.ce warnings errors runtime_learners\n",
      "INFO  [09:33:29.789] [bbotk]  0.001  0.2519531        0      0            0.024\n",
      "INFO  [09:33:29.789] [bbotk]                                 uhash\n",
      "INFO  [09:33:29.789] [bbotk]  9a79ea96-e464-4498-81ee-0151b694ec61\n",
      "INFO  [09:33:29.791] [bbotk] Evaluating 1 configuration(s)\n",
      "INFO  [09:33:29.796] [mlr3] Running benchmark with 4 resampling iterations\n",
      "INFO  [09:33:29.800] [mlr3] Applying learner 'classif.rpart' on task 'pima' (iter 1/4)\n",
      "INFO  [09:33:29.812] [mlr3] Applying learner 'classif.rpart' on task 'pima' (iter 2/4)\n",
      "INFO  [09:33:29.825] [mlr3] Applying learner 'classif.rpart' on task 'pima' (iter 3/4)\n",
      "INFO  [09:33:29.836] [mlr3] Applying learner 'classif.rpart' on task 'pima' (iter 4/4)\n",
      "INFO  [09:33:29.847] [mlr3] Finished benchmark\n",
      "INFO  [09:33:29.868] [bbotk] Result of batch 10:\n",
      "INFO  [09:33:29.869] [bbotk]     cp classif.ce warnings errors runtime_learners\n",
      "INFO  [09:33:29.869] [bbotk]  0.012  0.2519531        0      0            0.026\n",
      "INFO  [09:33:29.869] [bbotk]                                 uhash\n",
      "INFO  [09:33:29.869] [bbotk]  9a600308-5c84-4fc1-890d-5edb1f75747f\n",
      "INFO  [09:33:29.883] [bbotk] Finished optimizing after 10 evaluation(s)\n",
      "INFO  [09:33:29.884] [bbotk] Result:\n",
      "INFO  [09:33:29.885] [bbotk]     cp learner_param_vals  x_domain classif.ce\n",
      "INFO  [09:33:29.885] [bbotk]  <num>             <list>    <list>      <num>\n",
      "INFO  [09:33:29.885] [bbotk]  0.001          <list[2]> <list[1]>  0.2519531\n",
      "INFO  [09:33:29.902] [mlr3] Applying learner 'classif.rpart.tuned' on task 'pima' (iter 3/3)\n",
      "INFO  [09:33:29.946] [bbotk] Starting to optimize 1 parameter(s) with '<OptimizerBatchGridSearch>' and '<TerminatorEvals> [n_evals=20, k=0]'\n",
      "INFO  [09:33:29.952] [bbotk] Evaluating 1 configuration(s)\n",
      "INFO  [09:33:29.956] [mlr3] Running benchmark with 4 resampling iterations\n",
      "INFO  [09:33:29.960] [mlr3] Applying learner 'classif.rpart' on task 'pima' (iter 1/4)\n",
      "INFO  [09:33:29.972] [mlr3] Applying learner 'classif.rpart' on task 'pima' (iter 2/4)\n",
      "INFO  [09:33:29.984] [mlr3] Applying learner 'classif.rpart' on task 'pima' (iter 3/4)\n",
      "INFO  [09:33:29.996] [mlr3] Applying learner 'classif.rpart' on task 'pima' (iter 4/4)\n",
      "INFO  [09:33:30.007] [mlr3] Finished benchmark\n",
      "INFO  [09:33:30.025] [bbotk] Result of batch 1:\n",
      "INFO  [09:33:30.027] [bbotk]     cp classif.ce warnings errors runtime_learners\n",
      "INFO  [09:33:30.027] [bbotk]  0.067  0.2695312        0      0            0.024\n",
      "INFO  [09:33:30.027] [bbotk]                                 uhash\n",
      "INFO  [09:33:30.027] [bbotk]  edcbe6cd-3d5b-4539-aec6-30d081e12d71\n",
      "INFO  [09:33:30.029] [bbotk] Evaluating 1 configuration(s)\n",
      "INFO  [09:33:30.034] [mlr3] Running benchmark with 4 resampling iterations\n",
      "INFO  [09:33:30.038] [mlr3] Applying learner 'classif.rpart' on task 'pima' (iter 1/4)\n",
      "INFO  [09:33:30.050] [mlr3] Applying learner 'classif.rpart' on task 'pima' (iter 2/4)\n",
      "INFO  [09:33:30.067] [mlr3] Applying learner 'classif.rpart' on task 'pima' (iter 3/4)\n",
      "INFO  [09:33:30.079] [mlr3] Applying learner 'classif.rpart' on task 'pima' (iter 4/4)\n",
      "INFO  [09:33:30.090] [mlr3] Finished benchmark\n",
      "INFO  [09:33:30.110] [bbotk] Result of batch 2:\n",
      "INFO  [09:33:30.112] [bbotk]     cp classif.ce warnings errors runtime_learners\n",
      "INFO  [09:33:30.112] [bbotk]  0.034  0.2695312        0      0            0.027\n",
      "INFO  [09:33:30.112] [bbotk]                                 uhash\n",
      "INFO  [09:33:30.112] [bbotk]  3b600a45-ed8f-4129-9ae5-600cbff233c1\n",
      "INFO  [09:33:30.114] [bbotk] Evaluating 1 configuration(s)\n",
      "INFO  [09:33:30.118] [mlr3] Running benchmark with 4 resampling iterations\n",
      "INFO  [09:33:30.122] [mlr3] Applying learner 'classif.rpart' on task 'pima' (iter 1/4)\n",
      "INFO  [09:33:30.135] [mlr3] Applying learner 'classif.rpart' on task 'pima' (iter 2/4)\n",
      "INFO  [09:33:30.147] [mlr3] Applying learner 'classif.rpart' on task 'pima' (iter 3/4)\n",
      "INFO  [09:33:30.159] [mlr3] Applying learner 'classif.rpart' on task 'pima' (iter 4/4)\n",
      "INFO  [09:33:30.170] [mlr3] Finished benchmark\n",
      "INFO  [09:33:30.190] [bbotk] Result of batch 3:\n",
      "INFO  [09:33:30.191] [bbotk]     cp classif.ce warnings errors runtime_learners\n",
      "INFO  [09:33:30.191] [bbotk]  0.012  0.2539062        0      0            0.022\n",
      "INFO  [09:33:30.191] [bbotk]                                 uhash\n",
      "INFO  [09:33:30.191] [bbotk]  b5370f46-9d5d-4f2f-944b-317e9bba8a8a\n",
      "INFO  [09:33:30.194] [bbotk] Evaluating 1 configuration(s)\n",
      "INFO  [09:33:30.198] [mlr3] Running benchmark with 4 resampling iterations\n",
      "INFO  [09:33:30.202] [mlr3] Applying learner 'classif.rpart' on task 'pima' (iter 1/4)\n",
      "INFO  [09:33:30.214] [mlr3] Applying learner 'classif.rpart' on task 'pima' (iter 2/4)\n",
      "INFO  [09:33:30.226] [mlr3] Applying learner 'classif.rpart' on task 'pima' (iter 3/4)\n",
      "INFO  [09:33:30.242] [mlr3] Applying learner 'classif.rpart' on task 'pima' (iter 4/4)\n",
      "INFO  [09:33:30.253] [mlr3] Finished benchmark\n",
      "INFO  [09:33:30.273] [bbotk] Result of batch 4:\n",
      "INFO  [09:33:30.275] [bbotk]     cp classif.ce warnings errors runtime_learners\n",
      "INFO  [09:33:30.275] [bbotk]  0.089  0.2695312        0      0            0.023\n",
      "INFO  [09:33:30.275] [bbotk]                                 uhash\n",
      "INFO  [09:33:30.275] [bbotk]  d0ee3090-3041-474b-a1f8-6e06264a0af3\n",
      "INFO  [09:33:30.277] [bbotk] Evaluating 1 configuration(s)\n",
      "INFO  [09:33:30.282] [mlr3] Running benchmark with 4 resampling iterations\n",
      "INFO  [09:33:30.286] [mlr3] Applying learner 'classif.rpart' on task 'pima' (iter 1/4)\n",
      "INFO  [09:33:30.298] [mlr3] Applying learner 'classif.rpart' on task 'pima' (iter 2/4)\n",
      "INFO  [09:33:30.310] [mlr3] Applying learner 'classif.rpart' on task 'pima' (iter 3/4)\n",
      "INFO  [09:33:30.322] [mlr3] Applying learner 'classif.rpart' on task 'pima' (iter 4/4)\n",
      "INFO  [09:33:30.333] [mlr3] Finished benchmark\n",
      "INFO  [09:33:30.352] [bbotk] Result of batch 5:\n",
      "INFO  [09:33:30.354] [bbotk]     cp classif.ce warnings errors runtime_learners\n",
      "INFO  [09:33:30.354] [bbotk]  0.056  0.2695312        0      0            0.022\n",
      "INFO  [09:33:30.354] [bbotk]                                 uhash\n",
      "INFO  [09:33:30.354] [bbotk]  f8ca71b3-224c-4666-a0ae-6cd9f0d8c9b7\n",
      "INFO  [09:33:30.356] [bbotk] Evaluating 1 configuration(s)\n",
      "INFO  [09:33:30.361] [mlr3] Running benchmark with 4 resampling iterations\n",
      "INFO  [09:33:30.365] [mlr3] Applying learner 'classif.rpart' on task 'pima' (iter 1/4)\n",
      "INFO  [09:33:30.377] [mlr3] Applying learner 'classif.rpart' on task 'pima' (iter 2/4)\n",
      "INFO  [09:33:30.389] [mlr3] Applying learner 'classif.rpart' on task 'pima' (iter 3/4)\n",
      "INFO  [09:33:30.401] [mlr3] Applying learner 'classif.rpart' on task 'pima' (iter 4/4)\n",
      "INFO  [09:33:30.412] [mlr3] Finished benchmark\n",
      "INFO  [09:33:30.436] [bbotk] Result of batch 6:\n",
      "INFO  [09:33:30.438] [bbotk]     cp classif.ce warnings errors runtime_learners\n",
      "INFO  [09:33:30.438] [bbotk]  0.045  0.2695312        0      0            0.023\n",
      "INFO  [09:33:30.438] [bbotk]                                 uhash\n",
      "INFO  [09:33:30.438] [bbotk]  540e2353-9b23-4581-80c0-2fb70b45ce31\n",
      "INFO  [09:33:30.440] [bbotk] Evaluating 1 configuration(s)\n",
      "INFO  [09:33:30.445] [mlr3] Running benchmark with 4 resampling iterations\n",
      "INFO  [09:33:30.449] [mlr3] Applying learner 'classif.rpart' on task 'pima' (iter 1/4)\n",
      "INFO  [09:33:30.461] [mlr3] Applying learner 'classif.rpart' on task 'pima' (iter 2/4)\n",
      "INFO  [09:33:30.473] [mlr3] Applying learner 'classif.rpart' on task 'pima' (iter 3/4)\n",
      "INFO  [09:33:30.485] [mlr3] Applying learner 'classif.rpart' on task 'pima' (iter 4/4)\n",
      "INFO  [09:33:30.496] [mlr3] Finished benchmark\n",
      "INFO  [09:33:30.516] [bbotk] Result of batch 7:\n",
      "INFO  [09:33:30.518] [bbotk]     cp classif.ce warnings errors runtime_learners\n",
      "INFO  [09:33:30.518] [bbotk]  0.001  0.2675781        0      0            0.024\n",
      "INFO  [09:33:30.518] [bbotk]                                 uhash\n",
      "INFO  [09:33:30.518] [bbotk]  75bc0508-4bcb-4ef7-a90c-4dd8d25d684d\n",
      "INFO  [09:33:30.520] [bbotk] Evaluating 1 configuration(s)\n",
      "INFO  [09:33:30.525] [mlr3] Running benchmark with 4 resampling iterations\n",
      "INFO  [09:33:30.529] [mlr3] Applying learner 'classif.rpart' on task 'pima' (iter 1/4)\n",
      "INFO  [09:33:30.541] [mlr3] Applying learner 'classif.rpart' on task 'pima' (iter 2/4)\n",
      "INFO  [09:33:30.553] [mlr3] Applying learner 'classif.rpart' on task 'pima' (iter 3/4)\n",
      "INFO  [09:33:30.565] [mlr3] Applying learner 'classif.rpart' on task 'pima' (iter 4/4)\n",
      "INFO  [09:33:30.576] [mlr3] Finished benchmark\n",
      "INFO  [09:33:30.596] [bbotk] Result of batch 8:\n",
      "INFO  [09:33:30.598] [bbotk]     cp classif.ce warnings errors runtime_learners\n",
      "INFO  [09:33:30.598] [bbotk]  0.023  0.2617188        0      0            0.024\n",
      "INFO  [09:33:30.598] [bbotk]                                 uhash\n",
      "INFO  [09:33:30.598] [bbotk]  ae1df621-1189-417d-84a6-2caaaf736a7e\n",
      "INFO  [09:33:30.604] [bbotk] Evaluating 1 configuration(s)\n",
      "INFO  [09:33:30.609] [mlr3] Running benchmark with 4 resampling iterations\n",
      "INFO  [09:33:30.613] [mlr3] Applying learner 'classif.rpart' on task 'pima' (iter 1/4)\n",
      "INFO  [09:33:30.625] [mlr3] Applying learner 'classif.rpart' on task 'pima' (iter 2/4)\n",
      "INFO  [09:33:30.637] [mlr3] Applying learner 'classif.rpart' on task 'pima' (iter 3/4)\n",
      "INFO  [09:33:30.648] [mlr3] Applying learner 'classif.rpart' on task 'pima' (iter 4/4)\n",
      "INFO  [09:33:30.659] [mlr3] Finished benchmark\n",
      "INFO  [09:33:30.679] [bbotk] Result of batch 9:\n",
      "INFO  [09:33:30.681] [bbotk]   cp classif.ce warnings errors runtime_learners\n",
      "INFO  [09:33:30.681] [bbotk]  0.1  0.2695312        0      0            0.023\n",
      "INFO  [09:33:30.681] [bbotk]                                 uhash\n",
      "INFO  [09:33:30.681] [bbotk]  6f8dac67-a22a-4f2f-9697-b3f9356c0be3\n",
      "INFO  [09:33:30.683] [bbotk] Evaluating 1 configuration(s)\n",
      "INFO  [09:33:30.688] [mlr3] Running benchmark with 4 resampling iterations\n",
      "INFO  [09:33:30.692] [mlr3] Applying learner 'classif.rpart' on task 'pima' (iter 1/4)\n",
      "INFO  [09:33:30.704] [mlr3] Applying learner 'classif.rpart' on task 'pima' (iter 2/4)\n",
      "INFO  [09:33:30.716] [mlr3] Applying learner 'classif.rpart' on task 'pima' (iter 3/4)\n",
      "INFO  [09:33:30.728] [mlr3] Applying learner 'classif.rpart' on task 'pima' (iter 4/4)\n",
      "INFO  [09:33:30.739] [mlr3] Finished benchmark\n",
      "INFO  [09:33:30.759] [bbotk] Result of batch 10:\n",
      "INFO  [09:33:30.760] [bbotk]     cp classif.ce warnings errors runtime_learners\n",
      "INFO  [09:33:30.760] [bbotk]  0.078  0.2695312        0      0            0.022\n",
      "INFO  [09:33:30.760] [bbotk]                                 uhash\n",
      "INFO  [09:33:30.760] [bbotk]  d412bfe0-8d9f-4045-a3eb-b154b8ddcf7a\n",
      "INFO  [09:33:30.770] [bbotk] Finished optimizing after 10 evaluation(s)\n",
      "INFO  [09:33:30.770] [bbotk] Result:\n",
      "INFO  [09:33:30.772] [bbotk]     cp learner_param_vals  x_domain classif.ce\n",
      "INFO  [09:33:30.772] [bbotk]  <num>             <list>    <list>      <num>\n",
      "INFO  [09:33:30.772] [bbotk]  0.012          <list[2]> <list[1]>  0.2539062\n"
     ]
    }
   ],
   "source": [
    "rr1 <- tune_nested(\n",
    "    tuner = tnr(\"grid_search\", resolution = 10),\n",
    "    task = task,\n",
    "    learner = learner,\n",
    "    inner_resampling = resampling,\n",
    "    outer_resampling = outer_resampling,\n",
    "    measure = measure,\n",
    "    term_evals = 20,\n",
    "    search_space = search_space\n",
    ")\n"
   ]
  },
  {
   "cell_type": "markdown",
   "metadata": {},
   "source": [
    "这个rr1本质上和rr是一样的，"
   ]
  },
  {
   "cell_type": "code",
   "execution_count": 22,
   "metadata": {
    "vscode": {
     "languageId": "r"
    }
   },
   "outputs": [
    {
     "name": "stdout",
     "output_type": "stream",
     "text": [
      "<ResampleResult> with 3 resampling iterations\n",
      " task_id          learner_id resampling_id iteration warnings errors\n",
      "    pima classif.rpart.tuned            cv         1        0      0\n",
      "    pima classif.rpart.tuned            cv         2        0      0\n",
      "    pima classif.rpart.tuned            cv         3        0      0\n"
     ]
    }
   ],
   "source": [
    "print(rr1)\n"
   ]
  },
  {
   "cell_type": "code",
   "execution_count": 23,
   "metadata": {
    "vscode": {
     "languageId": "r"
    }
   },
   "outputs": [
    {
     "name": "stdout",
     "output_type": "stream",
     "text": [
      "<ResampleResult> with 3 resampling iterations\n",
      " task_id          learner_id resampling_id iteration warnings errors\n",
      "    pima classif.rpart.tuned            cv         1        0      0\n",
      "    pima classif.rpart.tuned            cv         2        0      0\n",
      "    pima classif.rpart.tuned            cv         3        0      0\n"
     ]
    }
   ],
   "source": [
    "print(rr)\n"
   ]
  },
  {
   "cell_type": "markdown",
   "metadata": {},
   "source": [
    "查看内部抽样表现："
   ]
  },
  {
   "cell_type": "code",
   "execution_count": 24,
   "metadata": {
    "vscode": {
     "languageId": "r"
    }
   },
   "outputs": [
    {
     "data": {
      "text/html": [
       "<table class=\"dataframe\">\n",
       "<caption>A data.table: 3 × 8</caption>\n",
       "<thead>\n",
       "\t<tr><th scope=col>iteration</th><th scope=col>cp</th><th scope=col>classif.ce</th><th scope=col>learner_param_vals</th><th scope=col>x_domain</th><th scope=col>task_id</th><th scope=col>learner_id</th><th scope=col>resampling_id</th></tr>\n",
       "\t<tr><th scope=col>&lt;int&gt;</th><th scope=col>&lt;dbl&gt;</th><th scope=col>&lt;dbl&gt;</th><th scope=col>&lt;list&gt;</th><th scope=col>&lt;list&gt;</th><th scope=col>&lt;chr&gt;</th><th scope=col>&lt;chr&gt;</th><th scope=col>&lt;chr&gt;</th></tr>\n",
       "</thead>\n",
       "<tbody>\n",
       "\t<tr><td>1</td><td>0.001</td><td>0.2519531</td><td>0.000, 0.001</td><td>0.001</td><td>pima</td><td>classif.rpart.tuned</td><td>cv</td></tr>\n",
       "\t<tr><td>2</td><td>0.012</td><td>0.2539062</td><td>0.000, 0.012</td><td>0.012</td><td>pima</td><td>classif.rpart.tuned</td><td>cv</td></tr>\n",
       "\t<tr><td>3</td><td>0.023</td><td>0.2363281</td><td>0.000, 0.023</td><td>0.023</td><td>pima</td><td>classif.rpart.tuned</td><td>cv</td></tr>\n",
       "</tbody>\n",
       "</table>\n"
      ],
      "text/latex": [
       "A data.table: 3 × 8\n",
       "\\begin{tabular}{llllllll}\n",
       " iteration & cp & classif.ce & learner\\_param\\_vals & x\\_domain & task\\_id & learner\\_id & resampling\\_id\\\\\n",
       " <int> & <dbl> & <dbl> & <list> & <list> & <chr> & <chr> & <chr>\\\\\n",
       "\\hline\n",
       "\t 1 & 0.001 & 0.2519531 & 0.000, 0.001 & 0.001 & pima & classif.rpart.tuned & cv\\\\\n",
       "\t 2 & 0.012 & 0.2539062 & 0.000, 0.012 & 0.012 & pima & classif.rpart.tuned & cv\\\\\n",
       "\t 3 & 0.023 & 0.2363281 & 0.000, 0.023 & 0.023 & pima & classif.rpart.tuned & cv\\\\\n",
       "\\end{tabular}\n"
      ],
      "text/markdown": [
       "\n",
       "A data.table: 3 × 8\n",
       "\n",
       "| iteration &lt;int&gt; | cp &lt;dbl&gt; | classif.ce &lt;dbl&gt; | learner_param_vals &lt;list&gt; | x_domain &lt;list&gt; | task_id &lt;chr&gt; | learner_id &lt;chr&gt; | resampling_id &lt;chr&gt; |\n",
       "|---|---|---|---|---|---|---|---|\n",
       "| 1 | 0.001 | 0.2519531 | 0.000, 0.001 | 0.001 | pima | classif.rpart.tuned | cv |\n",
       "| 2 | 0.012 | 0.2539062 | 0.000, 0.012 | 0.012 | pima | classif.rpart.tuned | cv |\n",
       "| 3 | 0.023 | 0.2363281 | 0.000, 0.023 | 0.023 | pima | classif.rpart.tuned | cv |\n",
       "\n"
      ],
      "text/plain": [
       "  iteration cp    classif.ce learner_param_vals x_domain task_id\n",
       "1 1         0.001 0.2519531  0.000, 0.001       0.001    pima   \n",
       "2 2         0.012 0.2539062  0.000, 0.012       0.012    pima   \n",
       "3 3         0.023 0.2363281  0.000, 0.023       0.023    pima   \n",
       "  learner_id          resampling_id\n",
       "1 classif.rpart.tuned cv           \n",
       "2 classif.rpart.tuned cv           \n",
       "3 classif.rpart.tuned cv           "
      ]
     },
     "metadata": {},
     "output_type": "display_data"
    }
   ],
   "source": [
    "extract_inner_tuning_results(rr1)\n"
   ]
  },
  {
   "cell_type": "code",
   "execution_count": 25,
   "metadata": {
    "vscode": {
     "languageId": "r"
    }
   },
   "outputs": [
    {
     "data": {
      "text/html": [
       "<table class=\"dataframe\">\n",
       "<caption>A data.table: 30 × 13</caption>\n",
       "<thead>\n",
       "\t<tr><th scope=col>iteration</th><th scope=col>cp</th><th scope=col>classif.ce</th><th scope=col>x_domain_cp</th><th scope=col>runtime_learners</th><th scope=col>timestamp</th><th scope=col>batch_nr</th><th scope=col>warnings</th><th scope=col>errors</th><th scope=col>resample_result</th><th scope=col>task_id</th><th scope=col>learner_id</th><th scope=col>resampling_id</th></tr>\n",
       "\t<tr><th scope=col>&lt;int&gt;</th><th scope=col>&lt;dbl&gt;</th><th scope=col>&lt;dbl&gt;</th><th scope=col>&lt;dbl&gt;</th><th scope=col>&lt;dbl&gt;</th><th scope=col>&lt;dttm&gt;</th><th scope=col>&lt;int&gt;</th><th scope=col>&lt;int&gt;</th><th scope=col>&lt;int&gt;</th><th scope=col>&lt;list&gt;</th><th scope=col>&lt;chr&gt;</th><th scope=col>&lt;chr&gt;</th><th scope=col>&lt;chr&gt;</th></tr>\n",
       "</thead>\n",
       "<tbody>\n",
       "\t<tr><td>1</td><td>0.056</td><td>0.2558594</td><td>0.056</td><td>0.024</td><td>2024-09-01 09:33:28</td><td> 1</td><td>0</td><td>0</td><td>&lt;environment: 0x558050d82708&gt;</td><td>pima</td><td>classif.rpart.tuned</td><td>cv</td></tr>\n",
       "\t<tr><td>1</td><td>0.034</td><td>0.2558594</td><td>0.034</td><td>0.026</td><td>2024-09-01 09:33:29</td><td> 2</td><td>0</td><td>0</td><td>&lt;environment: 0x558050d6bab8&gt;</td><td>pima</td><td>classif.rpart.tuned</td><td>cv</td></tr>\n",
       "\t<tr><td>1</td><td>0.045</td><td>0.2558594</td><td>0.045</td><td>0.029</td><td>2024-09-01 09:33:29</td><td> 3</td><td>0</td><td>0</td><td>&lt;environment: 0x558050d51770&gt;</td><td>pima</td><td>classif.rpart.tuned</td><td>cv</td></tr>\n",
       "\t<tr><td>1</td><td>0.067</td><td>0.2695312</td><td>0.067</td><td>0.025</td><td>2024-09-01 09:33:29</td><td> 4</td><td>0</td><td>0</td><td>&lt;environment: 0x558050c62ba0&gt;</td><td>pima</td><td>classif.rpart.tuned</td><td>cv</td></tr>\n",
       "\t<tr><td>1</td><td>0.100</td><td>0.2617188</td><td>0.100</td><td>0.025</td><td>2024-09-01 09:33:29</td><td> 5</td><td>0</td><td>0</td><td>&lt;environment: 0x55805111f6f0&gt;</td><td>pima</td><td>classif.rpart.tuned</td><td>cv</td></tr>\n",
       "\t<tr><td>1</td><td>0.089</td><td>0.2675781</td><td>0.089</td><td>0.141</td><td>2024-09-01 09:33:29</td><td> 6</td><td>0</td><td>0</td><td>&lt;environment: 0x5580510ec348&gt;</td><td>pima</td><td>classif.rpart.tuned</td><td>cv</td></tr>\n",
       "\t<tr><td>1</td><td>0.023</td><td>0.2597656</td><td>0.023</td><td>0.021</td><td>2024-09-01 09:33:29</td><td> 7</td><td>0</td><td>0</td><td>&lt;environment: 0x5580510b59d8&gt;</td><td>pima</td><td>classif.rpart.tuned</td><td>cv</td></tr>\n",
       "\t<tr><td>1</td><td>0.078</td><td>0.2675781</td><td>0.078</td><td>0.022</td><td>2024-09-01 09:33:29</td><td> 8</td><td>0</td><td>0</td><td>&lt;environment: 0x55805106ec88&gt;</td><td>pima</td><td>classif.rpart.tuned</td><td>cv</td></tr>\n",
       "\t<tr><td>1</td><td>0.001</td><td>0.2519531</td><td>0.001</td><td>0.024</td><td>2024-09-01 09:33:29</td><td> 9</td><td>0</td><td>0</td><td>&lt;environment: 0x558051053b68&gt;</td><td>pima</td><td>classif.rpart.tuned</td><td>cv</td></tr>\n",
       "\t<tr><td>1</td><td>0.012</td><td>0.2519531</td><td>0.012</td><td>0.026</td><td>2024-09-01 09:33:29</td><td>10</td><td>0</td><td>0</td><td>&lt;environment: 0x558051036318&gt;</td><td>pima</td><td>classif.rpart.tuned</td><td>cv</td></tr>\n",
       "\t<tr><td>2</td><td>0.067</td><td>0.2695312</td><td>0.067</td><td>0.024</td><td>2024-09-01 09:33:30</td><td> 1</td><td>0</td><td>0</td><td>&lt;environment: 0x558050e3fa18&gt;</td><td>pima</td><td>classif.rpart.tuned</td><td>cv</td></tr>\n",
       "\t<tr><td>2</td><td>0.034</td><td>0.2695312</td><td>0.034</td><td>0.027</td><td>2024-09-01 09:33:30</td><td> 2</td><td>0</td><td>0</td><td>&lt;environment: 0x558050e23f20&gt;</td><td>pima</td><td>classif.rpart.tuned</td><td>cv</td></tr>\n",
       "\t<tr><td>2</td><td>0.012</td><td>0.2539062</td><td>0.012</td><td>0.022</td><td>2024-09-01 09:33:30</td><td> 3</td><td>0</td><td>0</td><td>&lt;environment: 0x558050c97c08&gt;</td><td>pima</td><td>classif.rpart.tuned</td><td>cv</td></tr>\n",
       "\t<tr><td>2</td><td>0.089</td><td>0.2695312</td><td>0.089</td><td>0.023</td><td>2024-09-01 09:33:30</td><td> 4</td><td>0</td><td>0</td><td>&lt;environment: 0x558050c80ed8&gt;</td><td>pima</td><td>classif.rpart.tuned</td><td>cv</td></tr>\n",
       "\t<tr><td>2</td><td>0.056</td><td>0.2695312</td><td>0.056</td><td>0.022</td><td>2024-09-01 09:33:30</td><td> 5</td><td>0</td><td>0</td><td>&lt;environment: 0x558050c3a1f0&gt;</td><td>pima</td><td>classif.rpart.tuned</td><td>cv</td></tr>\n",
       "\t<tr><td>2</td><td>0.045</td><td>0.2695312</td><td>0.045</td><td>0.023</td><td>2024-09-01 09:33:30</td><td> 6</td><td>0</td><td>0</td><td>&lt;environment: 0x558050c1a3b0&gt;</td><td>pima</td><td>classif.rpart.tuned</td><td>cv</td></tr>\n",
       "\t<tr><td>2</td><td>0.001</td><td>0.2675781</td><td>0.001</td><td>0.024</td><td>2024-09-01 09:33:30</td><td> 7</td><td>0</td><td>0</td><td>&lt;environment: 0x558050c01530&gt;</td><td>pima</td><td>classif.rpart.tuned</td><td>cv</td></tr>\n",
       "\t<tr><td>2</td><td>0.023</td><td>0.2617188</td><td>0.023</td><td>0.024</td><td>2024-09-01 09:33:30</td><td> 8</td><td>0</td><td>0</td><td>&lt;environment: 0x558050be3a70&gt;</td><td>pima</td><td>classif.rpart.tuned</td><td>cv</td></tr>\n",
       "\t<tr><td>2</td><td>0.100</td><td>0.2695312</td><td>0.100</td><td>0.023</td><td>2024-09-01 09:33:30</td><td> 9</td><td>0</td><td>0</td><td>&lt;environment: 0x558050bcb130&gt;</td><td>pima</td><td>classif.rpart.tuned</td><td>cv</td></tr>\n",
       "\t<tr><td>2</td><td>0.078</td><td>0.2695312</td><td>0.078</td><td>0.022</td><td>2024-09-01 09:33:30</td><td>10</td><td>0</td><td>0</td><td>&lt;environment: 0x558050d2a020&gt;</td><td>pima</td><td>classif.rpart.tuned</td><td>cv</td></tr>\n",
       "\t<tr><td>3</td><td>0.034</td><td>0.2597656</td><td>0.034</td><td>0.028</td><td>2024-09-01 09:33:28</td><td> 1</td><td>0</td><td>0</td><td>&lt;environment: 0x558050a12c00&gt;</td><td>pima</td><td>classif.rpart.tuned</td><td>cv</td></tr>\n",
       "\t<tr><td>3</td><td>0.067</td><td>0.2753906</td><td>0.067</td><td>0.024</td><td>2024-09-01 09:33:28</td><td> 2</td><td>0</td><td>0</td><td>&lt;environment: 0x5580509fa3d8&gt;</td><td>pima</td><td>classif.rpart.tuned</td><td>cv</td></tr>\n",
       "\t<tr><td>3</td><td>0.045</td><td>0.2597656</td><td>0.045</td><td>0.026</td><td>2024-09-01 09:33:28</td><td> 3</td><td>0</td><td>0</td><td>&lt;environment: 0x5580509dc7c8&gt;</td><td>pima</td><td>classif.rpart.tuned</td><td>cv</td></tr>\n",
       "\t<tr><td>3</td><td>0.078</td><td>0.2890625</td><td>0.078</td><td>0.022</td><td>2024-09-01 09:33:28</td><td> 4</td><td>0</td><td>0</td><td>&lt;environment: 0x5580509c53d0&gt;</td><td>pima</td><td>classif.rpart.tuned</td><td>cv</td></tr>\n",
       "\t<tr><td>3</td><td>0.089</td><td>0.2890625</td><td>0.089</td><td>0.024</td><td>2024-09-01 09:33:28</td><td> 5</td><td>0</td><td>0</td><td>&lt;environment: 0x5580509a7638&gt;</td><td>pima</td><td>classif.rpart.tuned</td><td>cv</td></tr>\n",
       "\t<tr><td>3</td><td>0.001</td><td>0.2714844</td><td>0.001</td><td>0.025</td><td>2024-09-01 09:33:28</td><td> 6</td><td>0</td><td>0</td><td>&lt;environment: 0x5580508667d0&gt;</td><td>pima</td><td>classif.rpart.tuned</td><td>cv</td></tr>\n",
       "\t<tr><td>3</td><td>0.023</td><td>0.2363281</td><td>0.023</td><td>0.028</td><td>2024-09-01 09:33:28</td><td> 7</td><td>0</td><td>0</td><td>&lt;environment: 0x55805084bb90&gt;</td><td>pima</td><td>classif.rpart.tuned</td><td>cv</td></tr>\n",
       "\t<tr><td>3</td><td>0.100</td><td>0.2890625</td><td>0.100</td><td>0.025</td><td>2024-09-01 09:33:28</td><td> 8</td><td>0</td><td>0</td><td>&lt;environment: 0x558050830c30&gt;</td><td>pima</td><td>classif.rpart.tuned</td><td>cv</td></tr>\n",
       "\t<tr><td>3</td><td>0.012</td><td>0.2656250</td><td>0.012</td><td>0.029</td><td>2024-09-01 09:33:28</td><td> 9</td><td>0</td><td>0</td><td>&lt;environment: 0x558050819db0&gt;</td><td>pima</td><td>classif.rpart.tuned</td><td>cv</td></tr>\n",
       "\t<tr><td>3</td><td>0.056</td><td>0.2597656</td><td>0.056</td><td>0.025</td><td>2024-09-01 09:33:28</td><td>10</td><td>0</td><td>0</td><td>&lt;environment: 0x558050800de0&gt;</td><td>pima</td><td>classif.rpart.tuned</td><td>cv</td></tr>\n",
       "</tbody>\n",
       "</table>\n"
      ],
      "text/latex": [
       "A data.table: 30 × 13\n",
       "\\begin{tabular}{lllllllllllll}\n",
       " iteration & cp & classif.ce & x\\_domain\\_cp & runtime\\_learners & timestamp & batch\\_nr & warnings & errors & resample\\_result & task\\_id & learner\\_id & resampling\\_id\\\\\n",
       " <int> & <dbl> & <dbl> & <dbl> & <dbl> & <dttm> & <int> & <int> & <int> & <list> & <chr> & <chr> & <chr>\\\\\n",
       "\\hline\n",
       "\t 1 & 0.056 & 0.2558594 & 0.056 & 0.024 & 2024-09-01 09:33:28 &  1 & 0 & 0 & <environment: 0x558050d82708> & pima & classif.rpart.tuned & cv\\\\\n",
       "\t 1 & 0.034 & 0.2558594 & 0.034 & 0.026 & 2024-09-01 09:33:29 &  2 & 0 & 0 & <environment: 0x558050d6bab8> & pima & classif.rpart.tuned & cv\\\\\n",
       "\t 1 & 0.045 & 0.2558594 & 0.045 & 0.029 & 2024-09-01 09:33:29 &  3 & 0 & 0 & <environment: 0x558050d51770> & pima & classif.rpart.tuned & cv\\\\\n",
       "\t 1 & 0.067 & 0.2695312 & 0.067 & 0.025 & 2024-09-01 09:33:29 &  4 & 0 & 0 & <environment: 0x558050c62ba0> & pima & classif.rpart.tuned & cv\\\\\n",
       "\t 1 & 0.100 & 0.2617188 & 0.100 & 0.025 & 2024-09-01 09:33:29 &  5 & 0 & 0 & <environment: 0x55805111f6f0> & pima & classif.rpart.tuned & cv\\\\\n",
       "\t 1 & 0.089 & 0.2675781 & 0.089 & 0.141 & 2024-09-01 09:33:29 &  6 & 0 & 0 & <environment: 0x5580510ec348> & pima & classif.rpart.tuned & cv\\\\\n",
       "\t 1 & 0.023 & 0.2597656 & 0.023 & 0.021 & 2024-09-01 09:33:29 &  7 & 0 & 0 & <environment: 0x5580510b59d8> & pima & classif.rpart.tuned & cv\\\\\n",
       "\t 1 & 0.078 & 0.2675781 & 0.078 & 0.022 & 2024-09-01 09:33:29 &  8 & 0 & 0 & <environment: 0x55805106ec88> & pima & classif.rpart.tuned & cv\\\\\n",
       "\t 1 & 0.001 & 0.2519531 & 0.001 & 0.024 & 2024-09-01 09:33:29 &  9 & 0 & 0 & <environment: 0x558051053b68> & pima & classif.rpart.tuned & cv\\\\\n",
       "\t 1 & 0.012 & 0.2519531 & 0.012 & 0.026 & 2024-09-01 09:33:29 & 10 & 0 & 0 & <environment: 0x558051036318> & pima & classif.rpart.tuned & cv\\\\\n",
       "\t 2 & 0.067 & 0.2695312 & 0.067 & 0.024 & 2024-09-01 09:33:30 &  1 & 0 & 0 & <environment: 0x558050e3fa18> & pima & classif.rpart.tuned & cv\\\\\n",
       "\t 2 & 0.034 & 0.2695312 & 0.034 & 0.027 & 2024-09-01 09:33:30 &  2 & 0 & 0 & <environment: 0x558050e23f20> & pima & classif.rpart.tuned & cv\\\\\n",
       "\t 2 & 0.012 & 0.2539062 & 0.012 & 0.022 & 2024-09-01 09:33:30 &  3 & 0 & 0 & <environment: 0x558050c97c08> & pima & classif.rpart.tuned & cv\\\\\n",
       "\t 2 & 0.089 & 0.2695312 & 0.089 & 0.023 & 2024-09-01 09:33:30 &  4 & 0 & 0 & <environment: 0x558050c80ed8> & pima & classif.rpart.tuned & cv\\\\\n",
       "\t 2 & 0.056 & 0.2695312 & 0.056 & 0.022 & 2024-09-01 09:33:30 &  5 & 0 & 0 & <environment: 0x558050c3a1f0> & pima & classif.rpart.tuned & cv\\\\\n",
       "\t 2 & 0.045 & 0.2695312 & 0.045 & 0.023 & 2024-09-01 09:33:30 &  6 & 0 & 0 & <environment: 0x558050c1a3b0> & pima & classif.rpart.tuned & cv\\\\\n",
       "\t 2 & 0.001 & 0.2675781 & 0.001 & 0.024 & 2024-09-01 09:33:30 &  7 & 0 & 0 & <environment: 0x558050c01530> & pima & classif.rpart.tuned & cv\\\\\n",
       "\t 2 & 0.023 & 0.2617188 & 0.023 & 0.024 & 2024-09-01 09:33:30 &  8 & 0 & 0 & <environment: 0x558050be3a70> & pima & classif.rpart.tuned & cv\\\\\n",
       "\t 2 & 0.100 & 0.2695312 & 0.100 & 0.023 & 2024-09-01 09:33:30 &  9 & 0 & 0 & <environment: 0x558050bcb130> & pima & classif.rpart.tuned & cv\\\\\n",
       "\t 2 & 0.078 & 0.2695312 & 0.078 & 0.022 & 2024-09-01 09:33:30 & 10 & 0 & 0 & <environment: 0x558050d2a020> & pima & classif.rpart.tuned & cv\\\\\n",
       "\t 3 & 0.034 & 0.2597656 & 0.034 & 0.028 & 2024-09-01 09:33:28 &  1 & 0 & 0 & <environment: 0x558050a12c00> & pima & classif.rpart.tuned & cv\\\\\n",
       "\t 3 & 0.067 & 0.2753906 & 0.067 & 0.024 & 2024-09-01 09:33:28 &  2 & 0 & 0 & <environment: 0x5580509fa3d8> & pima & classif.rpart.tuned & cv\\\\\n",
       "\t 3 & 0.045 & 0.2597656 & 0.045 & 0.026 & 2024-09-01 09:33:28 &  3 & 0 & 0 & <environment: 0x5580509dc7c8> & pima & classif.rpart.tuned & cv\\\\\n",
       "\t 3 & 0.078 & 0.2890625 & 0.078 & 0.022 & 2024-09-01 09:33:28 &  4 & 0 & 0 & <environment: 0x5580509c53d0> & pima & classif.rpart.tuned & cv\\\\\n",
       "\t 3 & 0.089 & 0.2890625 & 0.089 & 0.024 & 2024-09-01 09:33:28 &  5 & 0 & 0 & <environment: 0x5580509a7638> & pima & classif.rpart.tuned & cv\\\\\n",
       "\t 3 & 0.001 & 0.2714844 & 0.001 & 0.025 & 2024-09-01 09:33:28 &  6 & 0 & 0 & <environment: 0x5580508667d0> & pima & classif.rpart.tuned & cv\\\\\n",
       "\t 3 & 0.023 & 0.2363281 & 0.023 & 0.028 & 2024-09-01 09:33:28 &  7 & 0 & 0 & <environment: 0x55805084bb90> & pima & classif.rpart.tuned & cv\\\\\n",
       "\t 3 & 0.100 & 0.2890625 & 0.100 & 0.025 & 2024-09-01 09:33:28 &  8 & 0 & 0 & <environment: 0x558050830c30> & pima & classif.rpart.tuned & cv\\\\\n",
       "\t 3 & 0.012 & 0.2656250 & 0.012 & 0.029 & 2024-09-01 09:33:28 &  9 & 0 & 0 & <environment: 0x558050819db0> & pima & classif.rpart.tuned & cv\\\\\n",
       "\t 3 & 0.056 & 0.2597656 & 0.056 & 0.025 & 2024-09-01 09:33:28 & 10 & 0 & 0 & <environment: 0x558050800de0> & pima & classif.rpart.tuned & cv\\\\\n",
       "\\end{tabular}\n"
      ],
      "text/markdown": [
       "\n",
       "A data.table: 30 × 13\n",
       "\n",
       "| iteration &lt;int&gt; | cp &lt;dbl&gt; | classif.ce &lt;dbl&gt; | x_domain_cp &lt;dbl&gt; | runtime_learners &lt;dbl&gt; | timestamp &lt;dttm&gt; | batch_nr &lt;int&gt; | warnings &lt;int&gt; | errors &lt;int&gt; | resample_result &lt;list&gt; | task_id &lt;chr&gt; | learner_id &lt;chr&gt; | resampling_id &lt;chr&gt; |\n",
       "|---|---|---|---|---|---|---|---|---|---|---|---|---|\n",
       "| 1 | 0.056 | 0.2558594 | 0.056 | 0.024 | 2024-09-01 09:33:28 |  1 | 0 | 0 | &lt;environment: 0x558050d82708&gt; | pima | classif.rpart.tuned | cv |\n",
       "| 1 | 0.034 | 0.2558594 | 0.034 | 0.026 | 2024-09-01 09:33:29 |  2 | 0 | 0 | &lt;environment: 0x558050d6bab8&gt; | pima | classif.rpart.tuned | cv |\n",
       "| 1 | 0.045 | 0.2558594 | 0.045 | 0.029 | 2024-09-01 09:33:29 |  3 | 0 | 0 | &lt;environment: 0x558050d51770&gt; | pima | classif.rpart.tuned | cv |\n",
       "| 1 | 0.067 | 0.2695312 | 0.067 | 0.025 | 2024-09-01 09:33:29 |  4 | 0 | 0 | &lt;environment: 0x558050c62ba0&gt; | pima | classif.rpart.tuned | cv |\n",
       "| 1 | 0.100 | 0.2617188 | 0.100 | 0.025 | 2024-09-01 09:33:29 |  5 | 0 | 0 | &lt;environment: 0x55805111f6f0&gt; | pima | classif.rpart.tuned | cv |\n",
       "| 1 | 0.089 | 0.2675781 | 0.089 | 0.141 | 2024-09-01 09:33:29 |  6 | 0 | 0 | &lt;environment: 0x5580510ec348&gt; | pima | classif.rpart.tuned | cv |\n",
       "| 1 | 0.023 | 0.2597656 | 0.023 | 0.021 | 2024-09-01 09:33:29 |  7 | 0 | 0 | &lt;environment: 0x5580510b59d8&gt; | pima | classif.rpart.tuned | cv |\n",
       "| 1 | 0.078 | 0.2675781 | 0.078 | 0.022 | 2024-09-01 09:33:29 |  8 | 0 | 0 | &lt;environment: 0x55805106ec88&gt; | pima | classif.rpart.tuned | cv |\n",
       "| 1 | 0.001 | 0.2519531 | 0.001 | 0.024 | 2024-09-01 09:33:29 |  9 | 0 | 0 | &lt;environment: 0x558051053b68&gt; | pima | classif.rpart.tuned | cv |\n",
       "| 1 | 0.012 | 0.2519531 | 0.012 | 0.026 | 2024-09-01 09:33:29 | 10 | 0 | 0 | &lt;environment: 0x558051036318&gt; | pima | classif.rpart.tuned | cv |\n",
       "| 2 | 0.067 | 0.2695312 | 0.067 | 0.024 | 2024-09-01 09:33:30 |  1 | 0 | 0 | &lt;environment: 0x558050e3fa18&gt; | pima | classif.rpart.tuned | cv |\n",
       "| 2 | 0.034 | 0.2695312 | 0.034 | 0.027 | 2024-09-01 09:33:30 |  2 | 0 | 0 | &lt;environment: 0x558050e23f20&gt; | pima | classif.rpart.tuned | cv |\n",
       "| 2 | 0.012 | 0.2539062 | 0.012 | 0.022 | 2024-09-01 09:33:30 |  3 | 0 | 0 | &lt;environment: 0x558050c97c08&gt; | pima | classif.rpart.tuned | cv |\n",
       "| 2 | 0.089 | 0.2695312 | 0.089 | 0.023 | 2024-09-01 09:33:30 |  4 | 0 | 0 | &lt;environment: 0x558050c80ed8&gt; | pima | classif.rpart.tuned | cv |\n",
       "| 2 | 0.056 | 0.2695312 | 0.056 | 0.022 | 2024-09-01 09:33:30 |  5 | 0 | 0 | &lt;environment: 0x558050c3a1f0&gt; | pima | classif.rpart.tuned | cv |\n",
       "| 2 | 0.045 | 0.2695312 | 0.045 | 0.023 | 2024-09-01 09:33:30 |  6 | 0 | 0 | &lt;environment: 0x558050c1a3b0&gt; | pima | classif.rpart.tuned | cv |\n",
       "| 2 | 0.001 | 0.2675781 | 0.001 | 0.024 | 2024-09-01 09:33:30 |  7 | 0 | 0 | &lt;environment: 0x558050c01530&gt; | pima | classif.rpart.tuned | cv |\n",
       "| 2 | 0.023 | 0.2617188 | 0.023 | 0.024 | 2024-09-01 09:33:30 |  8 | 0 | 0 | &lt;environment: 0x558050be3a70&gt; | pima | classif.rpart.tuned | cv |\n",
       "| 2 | 0.100 | 0.2695312 | 0.100 | 0.023 | 2024-09-01 09:33:30 |  9 | 0 | 0 | &lt;environment: 0x558050bcb130&gt; | pima | classif.rpart.tuned | cv |\n",
       "| 2 | 0.078 | 0.2695312 | 0.078 | 0.022 | 2024-09-01 09:33:30 | 10 | 0 | 0 | &lt;environment: 0x558050d2a020&gt; | pima | classif.rpart.tuned | cv |\n",
       "| 3 | 0.034 | 0.2597656 | 0.034 | 0.028 | 2024-09-01 09:33:28 |  1 | 0 | 0 | &lt;environment: 0x558050a12c00&gt; | pima | classif.rpart.tuned | cv |\n",
       "| 3 | 0.067 | 0.2753906 | 0.067 | 0.024 | 2024-09-01 09:33:28 |  2 | 0 | 0 | &lt;environment: 0x5580509fa3d8&gt; | pima | classif.rpart.tuned | cv |\n",
       "| 3 | 0.045 | 0.2597656 | 0.045 | 0.026 | 2024-09-01 09:33:28 |  3 | 0 | 0 | &lt;environment: 0x5580509dc7c8&gt; | pima | classif.rpart.tuned | cv |\n",
       "| 3 | 0.078 | 0.2890625 | 0.078 | 0.022 | 2024-09-01 09:33:28 |  4 | 0 | 0 | &lt;environment: 0x5580509c53d0&gt; | pima | classif.rpart.tuned | cv |\n",
       "| 3 | 0.089 | 0.2890625 | 0.089 | 0.024 | 2024-09-01 09:33:28 |  5 | 0 | 0 | &lt;environment: 0x5580509a7638&gt; | pima | classif.rpart.tuned | cv |\n",
       "| 3 | 0.001 | 0.2714844 | 0.001 | 0.025 | 2024-09-01 09:33:28 |  6 | 0 | 0 | &lt;environment: 0x5580508667d0&gt; | pima | classif.rpart.tuned | cv |\n",
       "| 3 | 0.023 | 0.2363281 | 0.023 | 0.028 | 2024-09-01 09:33:28 |  7 | 0 | 0 | &lt;environment: 0x55805084bb90&gt; | pima | classif.rpart.tuned | cv |\n",
       "| 3 | 0.100 | 0.2890625 | 0.100 | 0.025 | 2024-09-01 09:33:28 |  8 | 0 | 0 | &lt;environment: 0x558050830c30&gt; | pima | classif.rpart.tuned | cv |\n",
       "| 3 | 0.012 | 0.2656250 | 0.012 | 0.029 | 2024-09-01 09:33:28 |  9 | 0 | 0 | &lt;environment: 0x558050819db0&gt; | pima | classif.rpart.tuned | cv |\n",
       "| 3 | 0.056 | 0.2597656 | 0.056 | 0.025 | 2024-09-01 09:33:28 | 10 | 0 | 0 | &lt;environment: 0x558050800de0&gt; | pima | classif.rpart.tuned | cv |\n",
       "\n"
      ],
      "text/plain": [
       "   iteration cp    classif.ce x_domain_cp runtime_learners timestamp          \n",
       "1  1         0.056 0.2558594  0.056       0.024            2024-09-01 09:33:28\n",
       "2  1         0.034 0.2558594  0.034       0.026            2024-09-01 09:33:29\n",
       "3  1         0.045 0.2558594  0.045       0.029            2024-09-01 09:33:29\n",
       "4  1         0.067 0.2695312  0.067       0.025            2024-09-01 09:33:29\n",
       "5  1         0.100 0.2617188  0.100       0.025            2024-09-01 09:33:29\n",
       "6  1         0.089 0.2675781  0.089       0.141            2024-09-01 09:33:29\n",
       "7  1         0.023 0.2597656  0.023       0.021            2024-09-01 09:33:29\n",
       "8  1         0.078 0.2675781  0.078       0.022            2024-09-01 09:33:29\n",
       "9  1         0.001 0.2519531  0.001       0.024            2024-09-01 09:33:29\n",
       "10 1         0.012 0.2519531  0.012       0.026            2024-09-01 09:33:29\n",
       "11 2         0.067 0.2695312  0.067       0.024            2024-09-01 09:33:30\n",
       "12 2         0.034 0.2695312  0.034       0.027            2024-09-01 09:33:30\n",
       "13 2         0.012 0.2539062  0.012       0.022            2024-09-01 09:33:30\n",
       "14 2         0.089 0.2695312  0.089       0.023            2024-09-01 09:33:30\n",
       "15 2         0.056 0.2695312  0.056       0.022            2024-09-01 09:33:30\n",
       "16 2         0.045 0.2695312  0.045       0.023            2024-09-01 09:33:30\n",
       "17 2         0.001 0.2675781  0.001       0.024            2024-09-01 09:33:30\n",
       "18 2         0.023 0.2617188  0.023       0.024            2024-09-01 09:33:30\n",
       "19 2         0.100 0.2695312  0.100       0.023            2024-09-01 09:33:30\n",
       "20 2         0.078 0.2695312  0.078       0.022            2024-09-01 09:33:30\n",
       "21 3         0.034 0.2597656  0.034       0.028            2024-09-01 09:33:28\n",
       "22 3         0.067 0.2753906  0.067       0.024            2024-09-01 09:33:28\n",
       "23 3         0.045 0.2597656  0.045       0.026            2024-09-01 09:33:28\n",
       "24 3         0.078 0.2890625  0.078       0.022            2024-09-01 09:33:28\n",
       "25 3         0.089 0.2890625  0.089       0.024            2024-09-01 09:33:28\n",
       "26 3         0.001 0.2714844  0.001       0.025            2024-09-01 09:33:28\n",
       "27 3         0.023 0.2363281  0.023       0.028            2024-09-01 09:33:28\n",
       "28 3         0.100 0.2890625  0.100       0.025            2024-09-01 09:33:28\n",
       "29 3         0.012 0.2656250  0.012       0.029            2024-09-01 09:33:28\n",
       "30 3         0.056 0.2597656  0.056       0.025            2024-09-01 09:33:28\n",
       "   batch_nr warnings errors resample_result               task_id\n",
       "1   1       0        0      <environment: 0x558050d82708> pima   \n",
       "2   2       0        0      <environment: 0x558050d6bab8> pima   \n",
       "3   3       0        0      <environment: 0x558050d51770> pima   \n",
       "4   4       0        0      <environment: 0x558050c62ba0> pima   \n",
       "5   5       0        0      <environment: 0x55805111f6f0> pima   \n",
       "6   6       0        0      <environment: 0x5580510ec348> pima   \n",
       "7   7       0        0      <environment: 0x5580510b59d8> pima   \n",
       "8   8       0        0      <environment: 0x55805106ec88> pima   \n",
       "9   9       0        0      <environment: 0x558051053b68> pima   \n",
       "10 10       0        0      <environment: 0x558051036318> pima   \n",
       "11  1       0        0      <environment: 0x558050e3fa18> pima   \n",
       "12  2       0        0      <environment: 0x558050e23f20> pima   \n",
       "13  3       0        0      <environment: 0x558050c97c08> pima   \n",
       "14  4       0        0      <environment: 0x558050c80ed8> pima   \n",
       "15  5       0        0      <environment: 0x558050c3a1f0> pima   \n",
       "16  6       0        0      <environment: 0x558050c1a3b0> pima   \n",
       "17  7       0        0      <environment: 0x558050c01530> pima   \n",
       "18  8       0        0      <environment: 0x558050be3a70> pima   \n",
       "19  9       0        0      <environment: 0x558050bcb130> pima   \n",
       "20 10       0        0      <environment: 0x558050d2a020> pima   \n",
       "21  1       0        0      <environment: 0x558050a12c00> pima   \n",
       "22  2       0        0      <environment: 0x5580509fa3d8> pima   \n",
       "23  3       0        0      <environment: 0x5580509dc7c8> pima   \n",
       "24  4       0        0      <environment: 0x5580509c53d0> pima   \n",
       "25  5       0        0      <environment: 0x5580509a7638> pima   \n",
       "26  6       0        0      <environment: 0x5580508667d0> pima   \n",
       "27  7       0        0      <environment: 0x55805084bb90> pima   \n",
       "28  8       0        0      <environment: 0x558050830c30> pima   \n",
       "29  9       0        0      <environment: 0x558050819db0> pima   \n",
       "30 10       0        0      <environment: 0x558050800de0> pima   \n",
       "   learner_id          resampling_id\n",
       "1  classif.rpart.tuned cv           \n",
       "2  classif.rpart.tuned cv           \n",
       "3  classif.rpart.tuned cv           \n",
       "4  classif.rpart.tuned cv           \n",
       "5  classif.rpart.tuned cv           \n",
       "6  classif.rpart.tuned cv           \n",
       "7  classif.rpart.tuned cv           \n",
       "8  classif.rpart.tuned cv           \n",
       "9  classif.rpart.tuned cv           \n",
       "10 classif.rpart.tuned cv           \n",
       "11 classif.rpart.tuned cv           \n",
       "12 classif.rpart.tuned cv           \n",
       "13 classif.rpart.tuned cv           \n",
       "14 classif.rpart.tuned cv           \n",
       "15 classif.rpart.tuned cv           \n",
       "16 classif.rpart.tuned cv           \n",
       "17 classif.rpart.tuned cv           \n",
       "18 classif.rpart.tuned cv           \n",
       "19 classif.rpart.tuned cv           \n",
       "20 classif.rpart.tuned cv           \n",
       "21 classif.rpart.tuned cv           \n",
       "22 classif.rpart.tuned cv           \n",
       "23 classif.rpart.tuned cv           \n",
       "24 classif.rpart.tuned cv           \n",
       "25 classif.rpart.tuned cv           \n",
       "26 classif.rpart.tuned cv           \n",
       "27 classif.rpart.tuned cv           \n",
       "28 classif.rpart.tuned cv           \n",
       "29 classif.rpart.tuned cv           \n",
       "30 classif.rpart.tuned cv           "
      ]
     },
     "metadata": {},
     "output_type": "display_data"
    }
   ],
   "source": [
    "extract_inner_tuning_archives(rr1)\n"
   ]
  },
  {
   "cell_type": "markdown",
   "metadata": {},
   "source": [
    "查看模型表现："
   ]
  },
  {
   "cell_type": "code",
   "execution_count": 26,
   "metadata": {
    "vscode": {
     "languageId": "r"
    }
   },
   "outputs": [
    {
     "data": {
      "text/html": [
       "<strong>classif.ce:</strong> 0.235677083333333"
      ],
      "text/latex": [
       "\\textbf{classif.ce:} 0.235677083333333"
      ],
      "text/markdown": [
       "**classif.ce:** 0.235677083333333"
      ],
      "text/plain": [
       "classif.ce \n",
       " 0.2356771 "
      ]
     },
     "metadata": {},
     "output_type": "display_data"
    },
    {
     "data": {
      "text/html": [
       "<table class=\"dataframe\">\n",
       "<caption>A rr_score: 3 × 9</caption>\n",
       "<thead>\n",
       "\t<tr><th scope=col>task</th><th scope=col>task_id</th><th scope=col>learner</th><th scope=col>learner_id</th><th scope=col>resampling</th><th scope=col>resampling_id</th><th scope=col>iteration</th><th scope=col>prediction</th><th scope=col>classif.ce</th></tr>\n",
       "\t<tr><th scope=col>&lt;list&gt;</th><th scope=col>&lt;chr&gt;</th><th scope=col>&lt;list&gt;</th><th scope=col>&lt;chr&gt;</th><th scope=col>&lt;list&gt;</th><th scope=col>&lt;chr&gt;</th><th scope=col>&lt;int&gt;</th><th scope=col>&lt;list&gt;</th><th scope=col>&lt;dbl&gt;</th></tr>\n",
       "</thead>\n",
       "<tbody>\n",
       "\t<tr><td>&lt;environment: 0x55804f70f248&gt;</td><td>pima</td><td>&lt;environment: 0x558053d62b98&gt;</td><td>classif.rpart.tuned</td><td>&lt;environment: 0x55805055fcf0&gt;</td><td>cv</td><td>1</td><td>&lt;environment: 0x5580568ae7c0&gt;</td><td>0.2265625</td></tr>\n",
       "\t<tr><td>&lt;environment: 0x55804f70f248&gt;</td><td>pima</td><td>&lt;environment: 0x55805676e550&gt;</td><td>classif.rpart.tuned</td><td>&lt;environment: 0x55805055fcf0&gt;</td><td>cv</td><td>2</td><td>&lt;environment: 0x5580546829a0&gt;</td><td>0.2421875</td></tr>\n",
       "\t<tr><td>&lt;environment: 0x55804f70f248&gt;</td><td>pima</td><td>&lt;environment: 0x558052cf0d10&gt;</td><td>classif.rpart.tuned</td><td>&lt;environment: 0x55805055fcf0&gt;</td><td>cv</td><td>3</td><td>&lt;environment: 0x558055cc75b8&gt;</td><td>0.2382812</td></tr>\n",
       "</tbody>\n",
       "</table>\n"
      ],
      "text/latex": [
       "A rr\\_score: 3 × 9\n",
       "\\begin{tabular}{lllllllll}\n",
       " task & task\\_id & learner & learner\\_id & resampling & resampling\\_id & iteration & prediction & classif.ce\\\\\n",
       " <list> & <chr> & <list> & <chr> & <list> & <chr> & <int> & <list> & <dbl>\\\\\n",
       "\\hline\n",
       "\t <environment: 0x55804f70f248> & pima & <environment: 0x558053d62b98> & classif.rpart.tuned & <environment: 0x55805055fcf0> & cv & 1 & <environment: 0x5580568ae7c0> & 0.2265625\\\\\n",
       "\t <environment: 0x55804f70f248> & pima & <environment: 0x55805676e550> & classif.rpart.tuned & <environment: 0x55805055fcf0> & cv & 2 & <environment: 0x5580546829a0> & 0.2421875\\\\\n",
       "\t <environment: 0x55804f70f248> & pima & <environment: 0x558052cf0d10> & classif.rpart.tuned & <environment: 0x55805055fcf0> & cv & 3 & <environment: 0x558055cc75b8> & 0.2382812\\\\\n",
       "\\end{tabular}\n"
      ],
      "text/markdown": [
       "\n",
       "A rr_score: 3 × 9\n",
       "\n",
       "| task &lt;list&gt; | task_id &lt;chr&gt; | learner &lt;list&gt; | learner_id &lt;chr&gt; | resampling &lt;list&gt; | resampling_id &lt;chr&gt; | iteration &lt;int&gt; | prediction &lt;list&gt; | classif.ce &lt;dbl&gt; |\n",
       "|---|---|---|---|---|---|---|---|---|\n",
       "| &lt;environment: 0x55804f70f248&gt; | pima | &lt;environment: 0x558053d62b98&gt; | classif.rpart.tuned | &lt;environment: 0x55805055fcf0&gt; | cv | 1 | &lt;environment: 0x5580568ae7c0&gt; | 0.2265625 |\n",
       "| &lt;environment: 0x55804f70f248&gt; | pima | &lt;environment: 0x55805676e550&gt; | classif.rpart.tuned | &lt;environment: 0x55805055fcf0&gt; | cv | 2 | &lt;environment: 0x5580546829a0&gt; | 0.2421875 |\n",
       "| &lt;environment: 0x55804f70f248&gt; | pima | &lt;environment: 0x558052cf0d10&gt; | classif.rpart.tuned | &lt;environment: 0x55805055fcf0&gt; | cv | 3 | &lt;environment: 0x558055cc75b8&gt; | 0.2382812 |\n",
       "\n"
      ],
      "text/plain": [
       "  task                          task_id learner                      \n",
       "1 <environment: 0x55804f70f248> pima    <environment: 0x558053d62b98>\n",
       "2 <environment: 0x55804f70f248> pima    <environment: 0x55805676e550>\n",
       "3 <environment: 0x55804f70f248> pima    <environment: 0x558052cf0d10>\n",
       "  learner_id          resampling                    resampling_id iteration\n",
       "1 classif.rpart.tuned <environment: 0x55805055fcf0> cv            1        \n",
       "2 classif.rpart.tuned <environment: 0x55805055fcf0> cv            2        \n",
       "3 classif.rpart.tuned <environment: 0x55805055fcf0> cv            3        \n",
       "  prediction                    classif.ce\n",
       "1 <environment: 0x5580568ae7c0> 0.2265625 \n",
       "2 <environment: 0x5580546829a0> 0.2421875 \n",
       "3 <environment: 0x558055cc75b8> 0.2382812 "
      ]
     },
     "metadata": {},
     "output_type": "display_data"
    }
   ],
   "source": [
    "rr1$aggregate()\n",
    "\n",
    "\n",
    "rr1$score()\n"
   ]
  },
  {
   "cell_type": "markdown",
   "metadata": {},
   "source": []
  }
 ],
 "metadata": {
  "kernelspec": {
   "display_name": "R",
   "language": "R",
   "name": "ir"
  },
  "language_info": {
   "codemirror_mode": "r",
   "file_extension": ".r",
   "mimetype": "text/x-r-source",
   "name": "R",
   "pygments_lexer": "r",
   "version": "4.4.1"
  }
 },
 "nbformat": 4,
 "nbformat_minor": 2
}
