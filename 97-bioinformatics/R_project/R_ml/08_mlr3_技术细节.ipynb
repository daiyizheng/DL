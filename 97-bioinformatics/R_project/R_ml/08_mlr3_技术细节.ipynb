{
 "cells": [
  {
   "cell_type": "markdown",
   "metadata": {},
   "source": [
    "# mlr3：技术细节\n",
    "主要介绍除了机器学习本身以外的一些设置，比如日志设置，超参数设置，并行运算等。\n",
    "\n",
    "- 超参数设置\n",
    "    - reference-based objects\n",
    "    - 设定参数范围（parameter space）\n",
    "- 日志控制\n",
    "    - 减少或增加屏幕日志\n",
    "    - 重定向日志"
   ]
  },
  {
   "cell_type": "markdown",
   "metadata": {},
   "source": [
    "## 超参数设置\n",
    "超参数设置是通过`paradox`包完成的。\n",
    "\n",
    "\n",
    "### reference-based objects\n",
    "`paradox`是`ParamHelpers`的重写版，完全基于R6对象。"
   ]
  },
  {
   "cell_type": "code",
   "execution_count": 25,
   "metadata": {
    "vscode": {
     "languageId": "r"
    }
   },
   "outputs": [],
   "source": [
    "library(\"paradox\")\n",
    "\n",
    "pset <- ps(\n",
    "    z = p_int(lower = 1, upper = 3),\n",
    "    x = p_dbl(lower = -10, upper = 10),\n",
    "    flag = p_lgl(),\n",
    "    methods = p_fct(c(\"a\", \"b\", \"c\"))\n",
    ")\n"
   ]
  },
  {
   "cell_type": "markdown",
   "metadata": {},
   "source": [
    "绘制随机样本 /创建随机设计："
   ]
  },
  {
   "cell_type": "code",
   "execution_count": 26,
   "metadata": {
    "vscode": {
     "languageId": "r"
    }
   },
   "outputs": [
    {
     "data": {
      "text/plain": [
       "<Design> with 3 rows:\n",
       "       z         x   flag methods\n",
       "   <int>     <num> <lgcl>  <char>\n",
       "1:     3 -5.921445  FALSE       c\n",
       "2:     3 -7.413323  FALSE       a\n",
       "3:     1 -2.293905  FALSE       a"
      ]
     },
     "metadata": {},
     "output_type": "display_data"
    }
   ],
   "source": [
    "generate_design_random(pset, 3)\n"
   ]
  },
  {
   "cell_type": "markdown",
   "metadata": {
    "vscode": {
     "languageId": "r"
    }
   },
   "source": [
    "## 生成LHS设计"
   ]
  },
  {
   "cell_type": "code",
   "execution_count": 30,
   "metadata": {
    "vscode": {
     "languageId": "r"
    }
   },
   "outputs": [
    {
     "name": "stderr",
     "output_type": "stream",
     "text": [
      "Loading required namespace: lhs\n",
      "\n"
     ]
    },
    {
     "ename": "ERROR",
     "evalue": "Error: The following packages could not be loaded: lhs\n",
     "output_type": "error",
     "traceback": [
      "Error: The following packages could not be loaded: lhs\nTraceback:\n",
      "1. generate_design_lhs(pset, 3)",
      "2. require_namespaces(\"lhs\")"
     ]
    }
   ],
   "source": [
    "requireNamespace(\"lhs\")\n",
    "#> Loading required namespace: lhs\n",
    "generate_design_lhs(pset, 3)\n"
   ]
  },
  {
   "cell_type": "markdown",
   "metadata": {},
   "source": [
    "## Generate Grid Design:"
   ]
  },
  {
   "cell_type": "code",
   "execution_count": 28,
   "metadata": {
    "vscode": {
     "languageId": "r"
    }
   },
   "outputs": [
    {
     "data": {
      "text/plain": [
       "<Design> with 24 rows:\n",
       "        z     x   flag methods\n",
       "    <int> <num> <lgcl>  <char>\n",
       " 1:     1   -10   TRUE       a\n",
       " 2:     1   -10   TRUE       b\n",
       " 3:     1   -10   TRUE       c\n",
       " 4:     1   -10  FALSE       a\n",
       " 5:     1   -10  FALSE       b\n",
       " 6:     1   -10  FALSE       c\n",
       " 7:     1    10   TRUE       a\n",
       " 8:     1    10   TRUE       b\n",
       " 9:     1    10   TRUE       c\n",
       "10:     1    10  FALSE       a\n",
       "11:     1    10  FALSE       b\n",
       "12:     1    10  FALSE       c\n",
       "13:     3   -10   TRUE       a\n",
       "14:     3   -10   TRUE       b\n",
       "15:     3   -10   TRUE       c\n",
       "16:     3   -10  FALSE       a\n",
       "17:     3   -10  FALSE       b\n",
       "18:     3   -10  FALSE       c\n",
       "19:     3    10   TRUE       a\n",
       "20:     3    10   TRUE       b\n",
       "21:     3    10   TRUE       c\n",
       "22:     3    10  FALSE       a\n",
       "23:     3    10  FALSE       b\n",
       "24:     3    10  FALSE       c\n",
       "        z     x   flag methods"
      ]
     },
     "metadata": {},
     "output_type": "display_data"
    }
   ],
   "source": [
    "generate_design_grid(pset, resolution = 2)\n"
   ]
  },
  {
   "cell_type": "code",
   "execution_count": 31,
   "metadata": {
    "vscode": {
     "languageId": "r"
    }
   },
   "outputs": [
    {
     "data": {
      "text/html": [
       "<style>\n",
       ".list-inline {list-style: none; margin:0; padding: 0}\n",
       ".list-inline>li {display: inline-block}\n",
       ".list-inline>li:not(:last-child)::after {content: \"\\00b7\"; padding: 0 .5ex}\n",
       "</style>\n",
       "<ol class=list-inline><li>'z'</li><li>'x'</li><li>'flag'</li><li>'methods'</li></ol>\n"
      ],
      "text/latex": [
       "\\begin{enumerate*}\n",
       "\\item 'z'\n",
       "\\item 'x'\n",
       "\\item 'flag'\n",
       "\\item 'methods'\n",
       "\\end{enumerate*}\n"
      ],
      "text/markdown": [
       "1. 'z'\n",
       "2. 'x'\n",
       "3. 'flag'\n",
       "4. 'methods'\n",
       "\n",
       "\n"
      ],
      "text/plain": [
       "[1] \"z\"       \"x\"       \"flag\"    \"methods\""
      ]
     },
     "metadata": {},
     "output_type": "display_data"
    }
   ],
   "source": [
    "pset$ids()\n"
   ]
  },
  {
   "cell_type": "code",
   "execution_count": 32,
   "metadata": {
    "vscode": {
     "languageId": "r"
    }
   },
   "outputs": [
    {
     "data": {
      "text/html": [
       "<dl>\n",
       "\t<dt>$z</dt>\n",
       "\t\t<dd>NULL</dd>\n",
       "\t<dt>$x</dt>\n",
       "\t\t<dd>NULL</dd>\n",
       "\t<dt>$flag</dt>\n",
       "\t\t<dd><style>\n",
       ".list-inline {list-style: none; margin:0; padding: 0}\n",
       ".list-inline>li {display: inline-block}\n",
       ".list-inline>li:not(:last-child)::after {content: \"\\00b7\"; padding: 0 .5ex}\n",
       "</style>\n",
       "<ol class=list-inline><li>TRUE</li><li>FALSE</li></ol>\n",
       "</dd>\n",
       "\t<dt>$methods</dt>\n",
       "\t\t<dd><style>\n",
       ".list-inline {list-style: none; margin:0; padding: 0}\n",
       ".list-inline>li {display: inline-block}\n",
       ".list-inline>li:not(:last-child)::after {content: \"\\00b7\"; padding: 0 .5ex}\n",
       "</style>\n",
       "<ol class=list-inline><li>'a'</li><li>'b'</li><li>'c'</li></ol>\n",
       "</dd>\n",
       "</dl>\n"
      ],
      "text/latex": [
       "\\begin{description}\n",
       "\\item[\\$z] NULL\n",
       "\\item[\\$x] NULL\n",
       "\\item[\\$flag] \\begin{enumerate*}\n",
       "\\item TRUE\n",
       "\\item FALSE\n",
       "\\end{enumerate*}\n",
       "\n",
       "\\item[\\$methods] \\begin{enumerate*}\n",
       "\\item 'a'\n",
       "\\item 'b'\n",
       "\\item 'c'\n",
       "\\end{enumerate*}\n",
       "\n",
       "\\end{description}\n"
      ],
      "text/markdown": [
       "$z\n",
       ":   NULL\n",
       "$x\n",
       ":   NULL\n",
       "$flag\n",
       ":   1. TRUE\n",
       "2. FALSE\n",
       "\n",
       "\n",
       "\n",
       "$methods\n",
       ":   1. 'a'\n",
       "2. 'b'\n",
       "3. 'c'\n",
       "\n",
       "\n",
       "\n",
       "\n",
       "\n"
      ],
      "text/plain": [
       "$z\n",
       "NULL\n",
       "\n",
       "$x\n",
       "NULL\n",
       "\n",
       "$flag\n",
       "[1]  TRUE FALSE\n",
       "\n",
       "$methods\n",
       "[1] \"a\" \"b\" \"c\"\n"
      ]
     },
     "metadata": {},
     "output_type": "display_data"
    }
   ],
   "source": [
    "pset$levels\n"
   ]
  },
  {
   "cell_type": "code",
   "execution_count": 33,
   "metadata": {
    "vscode": {
     "languageId": "r"
    }
   },
   "outputs": [
    {
     "data": {
      "text/html": [
       "<style>\n",
       ".dl-inline {width: auto; margin:0; padding: 0}\n",
       ".dl-inline>dt, .dl-inline>dd {float: none; width: auto; display: inline-block}\n",
       ".dl-inline>dt::after {content: \":\\0020\"; padding-right: .5ex}\n",
       ".dl-inline>dt:not(:first-of-type) {padding-left: .5ex}\n",
       "</style><dl class=dl-inline><dt>z</dt><dd>3</dd><dt>x</dt><dd>Inf</dd><dt>flag</dt><dd>2</dd><dt>methods</dt><dd>3</dd></dl>\n"
      ],
      "text/latex": [
       "\\begin{description*}\n",
       "\\item[z] 3\n",
       "\\item[x] Inf\n",
       "\\item[flag] 2\n",
       "\\item[methods] 3\n",
       "\\end{description*}\n"
      ],
      "text/markdown": [
       "z\n",
       ":   3x\n",
       ":   Infflag\n",
       ":   2methods\n",
       ":   3\n",
       "\n"
      ],
      "text/plain": [
       "      z       x    flag methods \n",
       "      3     Inf       2       3 "
      ]
     },
     "metadata": {},
     "output_type": "display_data"
    }
   ],
   "source": [
    "pset$nlevels\n"
   ]
  },
  {
   "cell_type": "code",
   "execution_count": 34,
   "metadata": {
    "vscode": {
     "languageId": "r"
    }
   },
   "outputs": [
    {
     "data": {
      "text/html": [
       "<style>\n",
       ".dl-inline {width: auto; margin:0; padding: 0}\n",
       ".dl-inline>dt, .dl-inline>dd {float: none; width: auto; display: inline-block}\n",
       ".dl-inline>dt::after {content: \":\\0020\"; padding-right: .5ex}\n",
       ".dl-inline>dt:not(:first-of-type) {padding-left: .5ex}\n",
       "</style><dl class=dl-inline><dt>z</dt><dd>TRUE</dd><dt>x</dt><dd>TRUE</dd><dt>flag</dt><dd>FALSE</dd><dt>methods</dt><dd>FALSE</dd></dl>\n"
      ],
      "text/latex": [
       "\\begin{description*}\n",
       "\\item[z] TRUE\n",
       "\\item[x] TRUE\n",
       "\\item[flag] FALSE\n",
       "\\item[methods] FALSE\n",
       "\\end{description*}\n"
      ],
      "text/markdown": [
       "z\n",
       ":   TRUEx\n",
       ":   TRUEflag\n",
       ":   FALSEmethods\n",
       ":   FALSE\n",
       "\n"
      ],
      "text/plain": [
       "      z       x    flag methods \n",
       "   TRUE    TRUE   FALSE   FALSE "
      ]
     },
     "metadata": {},
     "output_type": "display_data"
    }
   ],
   "source": [
    "pset$is_number\n"
   ]
  },
  {
   "cell_type": "code",
   "execution_count": 35,
   "metadata": {
    "vscode": {
     "languageId": "r"
    }
   },
   "outputs": [
    {
     "data": {
      "text/html": [
       "<style>\n",
       ".dl-inline {width: auto; margin:0; padding: 0}\n",
       ".dl-inline>dt, .dl-inline>dd {float: none; width: auto; display: inline-block}\n",
       ".dl-inline>dt::after {content: \":\\0020\"; padding-right: .5ex}\n",
       ".dl-inline>dt:not(:first-of-type) {padding-left: .5ex}\n",
       "</style><dl class=dl-inline><dt>z</dt><dd>1</dd><dt>x</dt><dd>-10</dd><dt>flag</dt><dd>&lt;NA&gt;</dd><dt>methods</dt><dd>&lt;NA&gt;</dd></dl>\n"
      ],
      "text/latex": [
       "\\begin{description*}\n",
       "\\item[z] 1\n",
       "\\item[x] -10\n",
       "\\item[flag] <NA>\n",
       "\\item[methods] <NA>\n",
       "\\end{description*}\n"
      ],
      "text/markdown": [
       "z\n",
       ":   1x\n",
       ":   -10flag\n",
       ":   &lt;NA&gt;methods\n",
       ":   &lt;NA&gt;\n",
       "\n"
      ],
      "text/plain": [
       "      z       x    flag methods \n",
       "      1     -10      NA      NA "
      ]
     },
     "metadata": {},
     "output_type": "display_data"
    }
   ],
   "source": [
    "pset$lower\n"
   ]
  },
  {
   "cell_type": "code",
   "execution_count": 36,
   "metadata": {
    "vscode": {
     "languageId": "r"
    }
   },
   "outputs": [
    {
     "data": {
      "text/html": [
       "<style>\n",
       ".dl-inline {width: auto; margin:0; padding: 0}\n",
       ".dl-inline>dt, .dl-inline>dd {float: none; width: auto; display: inline-block}\n",
       ".dl-inline>dt::after {content: \":\\0020\"; padding-right: .5ex}\n",
       ".dl-inline>dt:not(:first-of-type) {padding-left: .5ex}\n",
       "</style><dl class=dl-inline><dt>z</dt><dd>3</dd><dt>x</dt><dd>10</dd><dt>flag</dt><dd>&lt;NA&gt;</dd><dt>methods</dt><dd>&lt;NA&gt;</dd></dl>\n"
      ],
      "text/latex": [
       "\\begin{description*}\n",
       "\\item[z] 3\n",
       "\\item[x] 10\n",
       "\\item[flag] <NA>\n",
       "\\item[methods] <NA>\n",
       "\\end{description*}\n"
      ],
      "text/markdown": [
       "z\n",
       ":   3x\n",
       ":   10flag\n",
       ":   &lt;NA&gt;methods\n",
       ":   &lt;NA&gt;\n",
       "\n"
      ],
      "text/plain": [
       "      z       x    flag methods \n",
       "      3      10      NA      NA "
      ]
     },
     "metadata": {},
     "output_type": "display_data"
    }
   ],
   "source": [
    "pset$upper\n"
   ]
  },
  {
   "cell_type": "markdown",
   "metadata": {},
   "source": [
    "## 参数检查\n",
    "检查参数是否满足`ParamSet`的所有条件，使用`$test()`(在不匹配时返回FALSE)， `$Check()`(在不匹配时返回错误描述)和`$assert()`(在不匹配时抛出错误)"
   ]
  },
  {
   "cell_type": "code",
   "execution_count": 37,
   "metadata": {
    "vscode": {
     "languageId": "r"
    }
   },
   "outputs": [
    {
     "data": {
      "text/html": [
       "TRUE"
      ],
      "text/latex": [
       "TRUE"
      ],
      "text/markdown": [
       "TRUE"
      ],
      "text/plain": [
       "[1] TRUE"
      ]
     },
     "metadata": {},
     "output_type": "display_data"
    }
   ],
   "source": [
    "pset$test(list(z = 1, x = 1))\n"
   ]
  },
  {
   "cell_type": "code",
   "execution_count": 38,
   "metadata": {
    "vscode": {
     "languageId": "r"
    }
   },
   "outputs": [
    {
     "data": {
      "text/html": [
       "FALSE"
      ],
      "text/latex": [
       "FALSE"
      ],
      "text/markdown": [
       "FALSE"
      ],
      "text/plain": [
       "[1] FALSE"
      ]
     },
     "metadata": {},
     "output_type": "display_data"
    }
   ],
   "source": [
    "pset$test(list(z = -1, x = 1))\n"
   ]
  },
  {
   "cell_type": "code",
   "execution_count": 39,
   "metadata": {
    "vscode": {
     "languageId": "r"
    }
   },
   "outputs": [
    {
     "data": {
      "text/html": [
       "'z: Element 1 is not &gt;= 0.5'"
      ],
      "text/latex": [
       "'z: Element 1 is not >= 0.5'"
      ],
      "text/markdown": [
       "'z: Element 1 is not &gt;= 0.5'"
      ],
      "text/plain": [
       "[1] \"z: Element 1 is not >= 0.5\""
      ]
     },
     "metadata": {},
     "output_type": "display_data"
    }
   ],
   "source": [
    "pset$check(list(z = -1, x = 1))\n"
   ]
  },
  {
   "cell_type": "code",
   "execution_count": 40,
   "metadata": {
    "vscode": {
     "languageId": "r"
    }
   },
   "outputs": [
    {
     "ename": "ERROR",
     "evalue": "Error in pset$assert(list(z = -1, x = 1)): Assertion on 'list(z = -1, x = 1)' failed: z: Element 1 is not >= 0.5.\n",
     "output_type": "error",
     "traceback": [
      "Error in pset$assert(list(z = -1, x = 1)): Assertion on 'list(z = -1, x = 1)' failed: z: Element 1 is not >= 0.5.\nTraceback:\n",
      "1. pset$assert(list(z = -1, x = 1))",
      "2. .__ParamSet__assert(self = self, private = private, super = super, \n .     xs = xs, check_strict = check_strict, .var.name = .var.name, \n .     sanitize = sanitize)",
      "3. makeAssertion(if (sanitize) attr(checkresult, \"sanitized\") else xs, \n .     checkresult, .var.name, NULL)",
      "4. mstop(\"Assertion on '%s' failed: %s.\", var.name, res, call. = sys.call(-2L))"
     ]
    }
   ],
   "source": [
    "pset$assert(list(z = -1, x = 1))\n"
   ]
  },
  {
   "cell_type": "markdown",
   "metadata": {},
   "source": [
    "每个参数必须包含以下4个部分：\n",
    "\n",
    "- id - 参数名字\n",
    "- default - 默认值\n",
    "- special_vals - A list of values that are accepted even if they do not conform to the type\n",
    "- tags - Tags that can be used to organize parameters\n",
    "其中Int/Dbl还有lower/upper两个参数设定范围，Fct还有levels参数设定因子水平。\n",
    "\n",
    "设置超参数的简便写法："
   ]
  },
  {
   "cell_type": "code",
   "execution_count": 46,
   "metadata": {
    "vscode": {
     "languageId": "r"
    }
   },
   "outputs": [],
   "source": [
    "library(paradox)\n",
    "\n",
    "ps <- ps(\n",
    "  cp = p_dbl(lower = 0.001, upper = 0.1),\n",
    "  minsplit = p_int(lower = 1, upper = 10)\n",
    ")\n"
   ]
  },
  {
   "cell_type": "markdown",
   "metadata": {},
   "source": [
    "## 日志控制\n",
    "\n",
    "`mlr3`包做机器学习时会在屏幕输出巨多日志，有时候并不需要，我们只要结果就可以了，这个功能是通过lgr这个包实现的。\n",
    "\n",
    "### 减少或增加屏幕日志\n",
    "默认的输出日志水平是`info`，通过以下代码查看全部的日志水平："
   ]
  },
  {
   "cell_type": "code",
   "execution_count": 47,
   "metadata": {
    "vscode": {
     "languageId": "r"
    }
   },
   "outputs": [
    {
     "data": {
      "text/plain": [
       "NULL"
      ]
     },
     "metadata": {},
     "output_type": "display_data"
    }
   ],
   "source": [
    "getOption(\"lgr.log_levels\")\n"
   ]
  },
  {
   "cell_type": "markdown",
   "metadata": {},
   "source": [
    "这个水平是有顺序的，越往右边的水平输出的东西越多，所以如果你想减少mlr3包的屏幕输出内容，你可以进行如下设置："
   ]
  },
  {
   "cell_type": "code",
   "execution_count": 48,
   "metadata": {
    "vscode": {
     "languageId": "r"
    }
   },
   "outputs": [],
   "source": [
    "lgr::get_logger(\"mlr3\")$set_threshold(\"warn\")\n"
   ]
  },
  {
   "cell_type": "markdown",
   "metadata": {},
   "source": [
    "另外，`mlr3tuning`和`mlr3fselect`的日志是通过bbotk包完成的，如果想要减少其输出内容，需要进行如下设置：\n",
    "\n"
   ]
  },
  {
   "cell_type": "code",
   "execution_count": 49,
   "metadata": {
    "vscode": {
     "languageId": "r"
    }
   },
   "outputs": [],
   "source": [
    "lgr::get_logger(\"bbotk\")$set_threshold(\"warn\")\n"
   ]
  },
  {
   "cell_type": "markdown",
   "metadata": {},
   "source": [
    "通过以上两句代码，就会显著减少`mlr3`包做机器学习时的屏幕输出了。"
   ]
  },
  {
   "cell_type": "markdown",
   "metadata": {},
   "source": [
    "## 重定向日志\n",
    "可以把日志保存到单独的JSON文件中。"
   ]
  },
  {
   "cell_type": "code",
   "execution_count": 50,
   "metadata": {
    "vscode": {
     "languageId": "r"
    }
   },
   "outputs": [
    {
     "name": "stdout",
     "output_type": "stream",
     "text": [
      "\u001b[38;5;221mWARN \u001b[39m [00:56:26.184] this is a warning from mlr3\n"
     ]
    }
   ],
   "source": [
    "tf <- tempfile(\"mlr3log_\", fileext = \".json\")\n",
    "\n",
    "logger <- lgr::get_logger(\"mlr\")\n",
    "\n",
    "logger$add_appender(lgr::AppenderJson$new(tf), name = \"json\")\n",
    "\n",
    "logger$warn(\"this is a warning from mlr3\")\n"
   ]
  },
  {
   "cell_type": "code",
   "execution_count": 51,
   "metadata": {
    "vscode": {
     "languageId": "r"
    }
   },
   "outputs": [
    {
     "name": "stdout",
     "output_type": "stream",
     "text": [
      "{\"level\":300,\"timestamp\":\"2024-09-02 00:56:26\",\"logger\":\"mlr\",\"caller\":\"eval\",\"msg\":\"this is a warning from mlr3\"}"
     ]
    }
   ],
   "source": [
    "cat(readLines(tf))\n"
   ]
  },
  {
   "cell_type": "code",
   "execution_count": null,
   "metadata": {
    "vscode": {
     "languageId": "r"
    }
   },
   "outputs": [],
   "source": []
  }
 ],
 "metadata": {
  "language_info": {
   "name": "python"
  }
 },
 "nbformat": 4,
 "nbformat_minor": 2
}
