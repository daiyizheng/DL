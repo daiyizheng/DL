{
 "cells": [
  {
   "cell_type": "markdown",
   "metadata": {},
   "source": [
    "# Welcome to Omicverse’s documentation\n",
    "\n",
    "\n",
    "<image src=\"../imgs/omicverse.png\">"
   ]
  },
  {
   "cell_type": "markdown",
   "metadata": {},
   "source": [
    "## bulk RNA-seq\n",
    "\n",
    "- 数据整合及批次校正\n",
    "- 差异表达基因分析\n",
    "- 权重基因相关网络\n",
    "- 通路富集蛋白质-蛋白质网络\n",
    "- TCGA 数据库预处理和生存"
   ]
  },
  {
   "cell_type": "markdown",
   "metadata": {},
   "source": [
    "## Single cell RNA-seq\n",
    "- 批次校正与评估\n",
    "- 自动细胞类型注释\n",
    "- 细胞之间通路富集\n",
    "- 细胞相互作用和轨迹分析\n",
    "- 药物反应预测"
   ]
  },
  {
   "cell_type": "markdown",
   "metadata": {},
   "source": [
    "## Multi omics\n",
    "- 细胞类型丰度预测\n",
    "- 批量 RNA 测序转为 scRNA 测序\n",
    "- 中断单元检测和插值\n",
    "- 多组学与 GLUE 配对\n",
    "- 多组学因子分析"
   ]
  },
  {
   "cell_type": "markdown",
   "metadata": {},
   "source": [
    "## spatial cell RNA-seq\n",
    "- 空间聚类和去噪\n",
    "- 空间反卷积\n",
    "- 空间整合与对齐\n",
    "- 空间过渡张量\n",
    "- 识别伪空间图"
   ]
  },
  {
   "cell_type": "markdown",
   "metadata": {},
   "source": [
    "## 安装\n",
    "https://starlitnightly.github.io/omicverse/Installation_guild/"
   ]
  },
  {
   "cell_type": "markdown",
   "metadata": {},
   "source": []
  }
 ],
 "metadata": {
  "language_info": {
   "name": "python"
  }
 },
 "nbformat": 4,
 "nbformat_minor": 2
}
