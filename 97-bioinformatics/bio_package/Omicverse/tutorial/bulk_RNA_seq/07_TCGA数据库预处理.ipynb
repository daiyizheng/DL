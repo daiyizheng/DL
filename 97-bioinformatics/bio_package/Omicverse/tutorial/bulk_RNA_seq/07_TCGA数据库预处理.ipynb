{
 "cells": [
  {
   "cell_type": "markdown",
   "metadata": {},
   "source": [
    "# TCGA数据库预处理\n",
    "\n",
    "我们经常从TCGA数据库下载患者生存数据进行分析，以验证基因在癌症中的重要性。然而，TCGA数据库的预处理往往是一个令人头痛的问题。在这里，我们介绍了ov中的TCGA模块，一种快速处理从TCGA数据库下载的文件格式的方法。我们需要准备3个文件作为输入:\n",
    "\n",
    "- `gdc_sample_sheet`: (.tsv): TCGA的sample sheet按钮，我们可以从中获取tsv文件\n",
    "- `gdc_download_files`（文件夹）：TCGA的下载/`Cart`车按钮，我们获取`tar.gz`包含您选择的所有文件\n",
    "- `clinical_cart` (folder): TCGA的临床按钮，我们可以得到包含您所有临床文件的`tar.gz`"
   ]
  },
  {
   "cell_type": "code",
   "execution_count": 1,
   "metadata": {},
   "outputs": [
    {
     "name": "stderr",
     "output_type": "stream",
     "text": [
      "/slurm/home/admin/.conda/envs/grns/lib/python3.11/site-packages/torch_geometric/typing.py:54: UserWarning: An issue occurred while importing 'pyg-lib'. Disabling its usage. Stacktrace: /lib64/libm.so.6: version `GLIBC_2.29' not found (required by /slurm/home/admin/.conda/envs/grns/lib/python3.11/site-packages/libpyg.so)\n",
      "  warnings.warn(f\"An issue occurred while importing 'pyg-lib'. \"\n",
      "/slurm/home/admin/.conda/envs/grns/lib/python3.11/site-packages/torch_geometric/typing.py:110: UserWarning: An issue occurred while importing 'torch-sparse'. Disabling its usage. Stacktrace: /lib64/libm.so.6: version `GLIBC_2.29' not found (required by /slurm/home/admin/.conda/envs/grns/lib/python3.11/site-packages/libpyg.so)\n",
      "  warnings.warn(f\"An issue occurred while importing 'torch-sparse'. \"\n"
     ]
    },
    {
     "name": "stdout",
     "output_type": "stream",
     "text": [
      "\n",
      "   ____            _     _    __                  \n",
      "  / __ \\____ ___  (_)___| |  / /__  _____________ \n",
      " / / / / __ `__ \\/ / ___/ | / / _ \\/ ___/ ___/ _ \\ \n",
      "/ /_/ / / / / / / / /__ | |/ /  __/ /  (__  )  __/ \n",
      "\\____/_/ /_/ /_/_/\\___/ |___/\\___/_/  /____/\\___/                                              \n",
      "\n",
      "Version: 1.6.5, Tutorials: https://omicverse.readthedocs.io/\n",
      "All dependencies are satisfied.\n"
     ]
    }
   ],
   "source": [
    "import omicverse as ov\n",
    "import scanpy as sc\n",
    "ov.plot_set()"
   ]
  },
  {
   "cell_type": "markdown",
   "metadata": {},
   "source": [
    "## TCGA计数读取\n",
    "在这里，我们使用`ov.bulk.TCGA`执行您之前下载的`gdc`样表、`gdc`下载文件和临床`car`。`count`、`fpkm`和`tpm`矩阵将存储在一个data对象中\n"
   ]
  },
  {
   "cell_type": "code",
   "execution_count": 2,
   "metadata": {},
   "outputs": [
    {
     "ename": "FileNotFoundError",
     "evalue": "[Errno 2] No such file or directory: 'data/TCGA_OV/gdc_download_20240705_180129.081531'",
     "output_type": "error",
     "traceback": [
      "\u001b[0;31m---------------------------------------------------------------------------\u001b[0m",
      "\u001b[0;31mFileNotFoundError\u001b[0m                         Traceback (most recent call last)",
      "File \u001b[0;32m<timed exec>:4\u001b[0m\n",
      "File \u001b[0;32m~/.conda/envs/grns/lib/python3.11/site-packages/omicverse/bulk/_tcga.py:28\u001b[0m, in \u001b[0;36mpyTCGA.__init__\u001b[0;34m(self, gdc_sample_sheep, gdc_download_files, clinical_cart)\u001b[0m\n\u001b[1;32m     26\u001b[0m \u001b[39mself\u001b[39m\u001b[39m.\u001b[39mgdc_download_files\u001b[39m=\u001b[39mgdc_download_files\n\u001b[1;32m     27\u001b[0m \u001b[39mself\u001b[39m\u001b[39m.\u001b[39mclinical_cart\u001b[39m=\u001b[39mclinical_cart\n\u001b[0;32m---> 28\u001b[0m exist_files\u001b[39m=\u001b[39m[i \u001b[39mfor\u001b[39;00m i \u001b[39min\u001b[39;00m os\u001b[39m.\u001b[39;49mlistdir(gdc_download_files) \u001b[39mif\u001b[39;00m \u001b[39m'\u001b[39m\u001b[39mtxt\u001b[39m\u001b[39m'\u001b[39m \u001b[39mnot\u001b[39;00m \u001b[39min\u001b[39;00m i]\n\u001b[1;32m     30\u001b[0m \u001b[39mself\u001b[39m\u001b[39m.\u001b[39msample_sheet\u001b[39m=\u001b[39mpd\u001b[39m.\u001b[39mread_csv(\u001b[39mself\u001b[39m\u001b[39m.\u001b[39mgdc_sample_sheep,sep\u001b[39m=\u001b[39m\u001b[39m'\u001b[39m\u001b[39m\\t\u001b[39;00m\u001b[39m'\u001b[39m,index_col\u001b[39m=\u001b[39m\u001b[39m0\u001b[39m)\n\u001b[1;32m     31\u001b[0m exist_files\u001b[39m=\u001b[39m\u001b[39mlist\u001b[39m(\u001b[39mset\u001b[39m(exist_files) \u001b[39m&\u001b[39m \u001b[39mset\u001b[39m(\u001b[39mself\u001b[39m\u001b[39m.\u001b[39msample_sheet\u001b[39m.\u001b[39mindex))\n",
      "\u001b[0;31mFileNotFoundError\u001b[0m: [Errno 2] No such file or directory: 'data/TCGA_OV/gdc_download_20240705_180129.081531'"
     ]
    }
   ],
   "source": [
    "gdc_sample_sheep='data/TCGA_OV/gdc_sample_sheet.2024-07-05.tsv'\n",
    "gdc_download_files='data/TCGA_OV/gdc_download_20240705_180129.081531'\n",
    "clinical_cart='data/TCGA_OV/clinical.cart.2024-07-05'\n",
    "aml_tcga=ov.bulk.pyTCGA(gdc_sample_sheep, gdc_download_files, clinical_cart)\n",
    "aml_tcga.adata_init()"
   ]
  },
  {
   "cell_type": "code",
   "execution_count": null,
   "metadata": {},
   "outputs": [],
   "source": []
  },
  {
   "cell_type": "markdown",
   "metadata": {},
   "source": [
    "我们可以保存anndata对象以供下次使用"
   ]
  },
  {
   "cell_type": "code",
   "execution_count": null,
   "metadata": {},
   "outputs": [],
   "source": [
    "aml_tcga.adata.write_h5ad('../../data/ov_tcga_raw.h5ad',compression='gzip')"
   ]
  },
  {
   "cell_type": "code",
   "execution_count": 3,
   "metadata": {},
   "outputs": [],
   "source": [
    "aml_tcga = ov.read(\"../../data/ov_tcga_raw.h5ad\")"
   ]
  },
  {
   "cell_type": "code",
   "execution_count": 4,
   "metadata": {},
   "outputs": [
    {
     "data": {
      "text/plain": [
       "AnnData object with n_obs × n_vars = 429 × 60664\n",
       "    layers: 'deseq_normalize', 'fpkm', 'tpm'"
      ]
     },
     "execution_count": 4,
     "metadata": {},
     "output_type": "execute_result"
    }
   ],
   "source": [
    "aml_tcga"
   ]
  },
  {
   "cell_type": "code",
   "execution_count": 5,
   "metadata": {},
   "outputs": [
    {
     "ename": "AttributeError",
     "evalue": "'AnnData' object has no attribute 'adata_meta_init'",
     "output_type": "error",
     "traceback": [
      "\u001b[0;31m---------------------------------------------------------------------------\u001b[0m",
      "\u001b[0;31mAttributeError\u001b[0m                            Traceback (most recent call last)",
      "\u001b[1;32m/slurm/home/admin/nlp/DL/97-bioinformatics/Omicverse/tutorial/bulk_RNA_seq/07_TCGA数据库预处理.ipynb 单元格 10\u001b[0m line \u001b[0;36m1\n\u001b[0;32m----> <a href='vscode-notebook-cell://ssh-remote%2Bcentos-master-admin/slurm/home/admin/nlp/DL/97-bioinformatics/Omicverse/tutorial/bulk_RNA_seq/07_TCGA%E6%95%B0%E6%8D%AE%E5%BA%93%E9%A2%84%E5%A4%84%E7%90%86.ipynb#X34sdnNjb2RlLXJlbW90ZQ%3D%3D?line=0'>1</a>\u001b[0m aml_tcga\u001b[39m.\u001b[39;49madata_meta_init()\n",
      "\u001b[0;31mAttributeError\u001b[0m: 'AnnData' object has no attribute 'adata_meta_init'"
     ]
    }
   ],
   "source": [
    "aml_tcga.adata_meta_init()"
   ]
  },
  {
   "cell_type": "markdown",
   "metadata": {},
   "source": [
    "注意:每次读取anndata文件时，我们都需要使用三个路径初始化TCGA对象，以便后续的TCGA函数(如生存分析)可以正确使用\n",
    "\n",
    "如果您希望创建自己的TCGA数据，我们在这里提供了示例数据供下载\n",
    "\n",
    "TCGA OV: https://figshare.com/ndownloader/files/47461946"
   ]
  },
  {
   "cell_type": "markdown",
   "metadata": {},
   "source": [
    "## Meta init\n",
    "当TCGA读取基因id时，我们需要将其转换为基因名称以及添加有关患者的基本信息。因此，我们需要初始化患者的元信息。"
   ]
  },
  {
   "cell_type": "code",
   "execution_count": 6,
   "metadata": {},
   "outputs": [
    {
     "ename": "AttributeError",
     "evalue": "'AnnData' object has no attribute 'adata_meta_init'",
     "output_type": "error",
     "traceback": [
      "\u001b[0;31m---------------------------------------------------------------------------\u001b[0m",
      "\u001b[0;31mAttributeError\u001b[0m                            Traceback (most recent call last)",
      "\u001b[1;32m/slurm/home/admin/nlp/DL/97-bioinformatics/Omicverse/tutorial/bulk_RNA_seq/07_TCGA数据库预处理.ipynb 单元格 13\u001b[0m line \u001b[0;36m1\n\u001b[0;32m----> <a href='vscode-notebook-cell://ssh-remote%2Bcentos-master-admin/slurm/home/admin/nlp/DL/97-bioinformatics/Omicverse/tutorial/bulk_RNA_seq/07_TCGA%E6%95%B0%E6%8D%AE%E5%BA%93%E9%A2%84%E5%A4%84%E7%90%86.ipynb#X16sdnNjb2RlLXJlbW90ZQ%3D%3D?line=0'>1</a>\u001b[0m aml_tcga\u001b[39m.\u001b[39;49madata_meta_init()\n",
      "\u001b[0;31mAttributeError\u001b[0m: 'AnnData' object has no attribute 'adata_meta_init'"
     ]
    }
   ],
   "source": [
    "aml_tcga.adata_meta_init()"
   ]
  },
  {
   "cell_type": "markdown",
   "metadata": {},
   "source": [
    "## Survial init\n",
    "我们之前为Clinical设置了路径，但实际上我们在之前的流程中并没有导入患者信息，我们只是初步确定了患者TCGA的id，所以我们开始对临床信息进行初始化"
   ]
  },
  {
   "cell_type": "code",
   "execution_count": 7,
   "metadata": {},
   "outputs": [
    {
     "ename": "AttributeError",
     "evalue": "'AnnData' object has no attribute 'survial_init'",
     "output_type": "error",
     "traceback": [
      "\u001b[0;31m---------------------------------------------------------------------------\u001b[0m",
      "\u001b[0;31mAttributeError\u001b[0m                            Traceback (most recent call last)",
      "\u001b[1;32m/slurm/home/admin/nlp/DL/97-bioinformatics/Omicverse/tutorial/bulk_RNA_seq/07_TCGA数据库预处理.ipynb 单元格 15\u001b[0m line \u001b[0;36m1\n\u001b[0;32m----> <a href='vscode-notebook-cell://ssh-remote%2Bcentos-master-admin/slurm/home/admin/nlp/DL/97-bioinformatics/Omicverse/tutorial/bulk_RNA_seq/07_TCGA%E6%95%B0%E6%8D%AE%E5%BA%93%E9%A2%84%E5%A4%84%E7%90%86.ipynb#X22sdnNjb2RlLXJlbW90ZQ%3D%3D?line=0'>1</a>\u001b[0m aml_tcga\u001b[39m.\u001b[39;49msurvial_init()\n\u001b[1;32m      <a href='vscode-notebook-cell://ssh-remote%2Bcentos-master-admin/slurm/home/admin/nlp/DL/97-bioinformatics/Omicverse/tutorial/bulk_RNA_seq/07_TCGA%E6%95%B0%E6%8D%AE%E5%BA%93%E9%A2%84%E5%A4%84%E7%90%86.ipynb#X22sdnNjb2RlLXJlbW90ZQ%3D%3D?line=1'>2</a>\u001b[0m aml_tcga\u001b[39m.\u001b[39madata\n",
      "\u001b[0;31mAttributeError\u001b[0m: 'AnnData' object has no attribute 'survial_init'"
     ]
    }
   ],
   "source": [
    "aml_tcga.survial_init()\n",
    "aml_tcga.adata"
   ]
  },
  {
   "cell_type": "markdown",
   "metadata": {},
   "source": [
    "为了可视化你感兴趣的基因，我们可以用生存分析来完成它"
   ]
  },
  {
   "cell_type": "code",
   "execution_count": 8,
   "metadata": {},
   "outputs": [
    {
     "ename": "AttributeError",
     "evalue": "'AnnData' object has no attribute 'survival_analysis'",
     "output_type": "error",
     "traceback": [
      "\u001b[0;31m---------------------------------------------------------------------------\u001b[0m",
      "\u001b[0;31mAttributeError\u001b[0m                            Traceback (most recent call last)",
      "\u001b[1;32m/slurm/home/admin/nlp/DL/97-bioinformatics/Omicverse/tutorial/bulk_RNA_seq/07_TCGA数据库预处理.ipynb 单元格 17\u001b[0m line \u001b[0;36m1\n\u001b[0;32m----> <a href='vscode-notebook-cell://ssh-remote%2Bcentos-master-admin/slurm/home/admin/nlp/DL/97-bioinformatics/Omicverse/tutorial/bulk_RNA_seq/07_TCGA%E6%95%B0%E6%8D%AE%E5%BA%93%E9%A2%84%E5%A4%84%E7%90%86.ipynb#X24sdnNjb2RlLXJlbW90ZQ%3D%3D?line=0'>1</a>\u001b[0m aml_tcga\u001b[39m.\u001b[39;49msurvival_analysis(\u001b[39m'\u001b[39m\u001b[39mMYC\u001b[39m\u001b[39m'\u001b[39m,layer\u001b[39m=\u001b[39m\u001b[39m'\u001b[39m\u001b[39mdeseq_normalize\u001b[39m\u001b[39m'\u001b[39m,plot\u001b[39m=\u001b[39m\u001b[39mTrue\u001b[39;00m)\n",
      "\u001b[0;31mAttributeError\u001b[0m: 'AnnData' object has no attribute 'survival_analysis'"
     ]
    }
   ],
   "source": [
    "aml_tcga.survival_analysis('MYC',layer='deseq_normalize',plot=True)"
   ]
  },
  {
   "cell_type": "markdown",
   "metadata": {},
   "source": [
    "如果你想计算所有基因的生存，你也可以用生存分析全部来完成它。它可以计算很多次。"
   ]
  },
  {
   "cell_type": "code",
   "execution_count": 9,
   "metadata": {},
   "outputs": [
    {
     "ename": "AttributeError",
     "evalue": "'AnnData' object has no attribute 'survial_analysis_all'",
     "output_type": "error",
     "traceback": [
      "\u001b[0;31m---------------------------------------------------------------------------\u001b[0m",
      "\u001b[0;31mAttributeError\u001b[0m                            Traceback (most recent call last)",
      "\u001b[1;32m/slurm/home/admin/nlp/DL/97-bioinformatics/Omicverse/tutorial/bulk_RNA_seq/07_TCGA数据库预处理.ipynb 单元格 19\u001b[0m line \u001b[0;36m1\n\u001b[0;32m----> <a href='vscode-notebook-cell://ssh-remote%2Bcentos-master-admin/slurm/home/admin/nlp/DL/97-bioinformatics/Omicverse/tutorial/bulk_RNA_seq/07_TCGA%E6%95%B0%E6%8D%AE%E5%BA%93%E9%A2%84%E5%A4%84%E7%90%86.ipynb#X26sdnNjb2RlLXJlbW90ZQ%3D%3D?line=0'>1</a>\u001b[0m aml_tcga\u001b[39m.\u001b[39;49msurvial_analysis_all()\n\u001b[1;32m      <a href='vscode-notebook-cell://ssh-remote%2Bcentos-master-admin/slurm/home/admin/nlp/DL/97-bioinformatics/Omicverse/tutorial/bulk_RNA_seq/07_TCGA%E6%95%B0%E6%8D%AE%E5%BA%93%E9%A2%84%E5%A4%84%E7%90%86.ipynb#X26sdnNjb2RlLXJlbW90ZQ%3D%3D?line=1'>2</a>\u001b[0m aml_tcga\u001b[39m.\u001b[39madata\n",
      "\u001b[0;31mAttributeError\u001b[0m: 'AnnData' object has no attribute 'survial_analysis_all'"
     ]
    }
   ],
   "source": [
    "aml_tcga.survial_analysis_all()\n",
    "aml_tcga.adata"
   ]
  },
  {
   "cell_type": "markdown",
   "metadata": {},
   "source": [
    "不要忘记保存结果。"
   ]
  },
  {
   "cell_type": "code",
   "execution_count": null,
   "metadata": {},
   "outputs": [],
   "source": [
    "aml_tcga.adata.write_h5ad('data/TCGA_OV/ov_tcga_survial_all.h5ad',compression='gzip')"
   ]
  },
  {
   "cell_type": "markdown",
   "metadata": {},
   "source": []
  }
 ],
 "metadata": {
  "kernelspec": {
   "display_name": "Python 3",
   "language": "python",
   "name": "python3"
  },
  "language_info": {
   "codemirror_mode": {
    "name": "ipython",
    "version": 3
   },
   "file_extension": ".py",
   "mimetype": "text/x-python",
   "name": "python",
   "nbconvert_exporter": "python",
   "pygments_lexer": "ipython3",
   "version": "3.11.9"
  }
 },
 "nbformat": 4,
 "nbformat_minor": 2
}
