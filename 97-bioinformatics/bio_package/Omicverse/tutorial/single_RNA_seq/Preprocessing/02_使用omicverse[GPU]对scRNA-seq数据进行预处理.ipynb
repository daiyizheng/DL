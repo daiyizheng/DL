{
 "cells": [
  {
   "cell_type": "markdown",
   "metadata": {},
   "source": [
    "# 使用omicverse[GPU]对scRNA-seq数据进行预处理\n",
    "\n",
    "计数表是基因细胞的数字矩阵，是单细胞rna测序数据分析的基本输入数据结构。一个常见的预处理步骤是调整可变采样效率的计数，并对它们进行变换，使方差在整个动态范围内相似。\n",
    "\n",
    "合适的预处理方法对scrna序列非常重要。在这里，我们介绍了一些预处理步骤，以帮助研究人员更容易地进行下游分析。\n",
    "\n",
    "用户可以比较我们的教程和scanpy的教程来学习如何使用omicverse\n",
    "\n",
    "Colab_Reproducibility：https://colab.research.google.com/drive/1DXLSls_ppgJmAaZTUvqazNC_E7EDCxUe?usp=sharing"
   ]
  },
  {
   "cell_type": "markdown",
   "metadata": {},
   "source": [
    "## Installation\n",
    "\n",
    "请注意，GPU模块不是直接存在的，需要单独安装，有关详细的教程请参阅https://rapids-singlecell.readthedocs.io/en/en/latest/index.html\n",
    "\n",
    "```shell\n",
    "pip\n",
    "pip install rapids-singlecell\n",
    "#rapids\n",
    "pip install \\\n",
    "    --extra-index-url=https://pypi.nvidia.com \\\n",
    "    cudf-cu12==24.4.* dask-cudf-cu12==24.4.* cuml-cu12==24.4.* \\\n",
    "    cugraph-cu12==24.4.* cuspatial-cu12==24.4.* cuproj-cu12==24.4.* \\\n",
    "    cuxfilter-cu12==24.4.* cucim-cu12==24.4.* pylibraft-cu12==24.4.* \\\n",
    "    raft-dask-cu12==24.4.* cuvs-cu12==24.4.*\n",
    "#cupy\n",
    "pip install cupy-cuda12x\n",
    "```\n",
    "\n",
    "### conda-env\n",
    "请注意，为了避免冲突，我们将考虑在安装omicverse之前先安装快速单单元。\n",
    "\n",
    "安装rapids-singlecell最简单的方法是使用conda文件夹中提供的一个yaml文件。这些yaml文件安装运行示例笔记本所需的所有内容并帮助您入门。\n",
    "\n",
    "```shell\n",
    "conda env create -f conda/omicverse_gpu.yml\n",
    "# or\n",
    "conda env create -f conda/omicverse_gpu.yml\n",
    "```\n"
   ]
  },
  {
   "cell_type": "code",
   "execution_count": 2,
   "metadata": {},
   "outputs": [
    {
     "name": "stdout",
     "output_type": "stream",
     "text": [
      "All dependencies are satisfied.\n"
     ]
    },
    {
     "ename": "TypeError",
     "evalue": "descriptor '__call__' for 'type' objects doesn't apply to a 'property' object",
     "output_type": "error",
     "traceback": [
      "\u001b[0;31m---------------------------------------------------------------------------\u001b[0m",
      "\u001b[0;31mTypeError\u001b[0m                                 Traceback (most recent call last)",
      "\u001b[1;32m/slurm/home/admin/nlp/DL/97-bioinformatics/Omicverse/tutorial/single_RNA_seq/Preprocessing/02_使用omicverse[GPU]对scRNA-seq数据进行预处理.ipynb 单元格 3\u001b[0m line \u001b[0;36m4\n\u001b[1;32m      <a href='vscode-notebook-cell://ssh-remote%2Bcentos-master-admin/slurm/home/admin/nlp/DL/97-bioinformatics/Omicverse/tutorial/single_RNA_seq/Preprocessing/02_%E4%BD%BF%E7%94%A8omicverse%5BGPU%5D%E5%AF%B9scRNA-seq%E6%95%B0%E6%8D%AE%E8%BF%9B%E8%A1%8C%E9%A2%84%E5%A4%84%E7%90%86.ipynb#W4sdnNjb2RlLXJlbW90ZQ%3D%3D?line=1'>2</a>\u001b[0m \u001b[39mimport\u001b[39;00m \u001b[39mscanpy\u001b[39;00m \u001b[39mas\u001b[39;00m \u001b[39msc\u001b[39;00m\n\u001b[1;32m      <a href='vscode-notebook-cell://ssh-remote%2Bcentos-master-admin/slurm/home/admin/nlp/DL/97-bioinformatics/Omicverse/tutorial/single_RNA_seq/Preprocessing/02_%E4%BD%BF%E7%94%A8omicverse%5BGPU%5D%E5%AF%B9scRNA-seq%E6%95%B0%E6%8D%AE%E8%BF%9B%E8%A1%8C%E9%A2%84%E5%A4%84%E7%90%86.ipynb#W4sdnNjb2RlLXJlbW90ZQ%3D%3D?line=2'>3</a>\u001b[0m ov\u001b[39m.\u001b[39mplot_set()\n\u001b[0;32m----> <a href='vscode-notebook-cell://ssh-remote%2Bcentos-master-admin/slurm/home/admin/nlp/DL/97-bioinformatics/Omicverse/tutorial/single_RNA_seq/Preprocessing/02_%E4%BD%BF%E7%94%A8omicverse%5BGPU%5D%E5%AF%B9scRNA-seq%E6%95%B0%E6%8D%AE%E8%BF%9B%E8%A1%8C%E9%A2%84%E5%A4%84%E7%90%86.ipynb#W4sdnNjb2RlLXJlbW90ZQ%3D%3D?line=3'>4</a>\u001b[0m ov\u001b[39m.\u001b[39;49msettings\u001b[39m.\u001b[39;49mgpu_init()\n",
      "File \u001b[0;32m~/.conda/envs/grns/lib/python3.11/site-packages/omicverse/_settings.py:14\u001b[0m, in \u001b[0;36momicverseConfig.gpu_init\u001b[0;34m(self, managed_memory, pool_allocator, devices)\u001b[0m\n\u001b[1;32m     11\u001b[0m \u001b[39mimport\u001b[39;00m \u001b[39mcupy\u001b[39;00m \u001b[39mas\u001b[39;00m \u001b[39mcp\u001b[39;00m\n\u001b[1;32m     13\u001b[0m \u001b[39mimport\u001b[39;00m \u001b[39mtime\u001b[39;00m\n\u001b[0;32m---> 14\u001b[0m \u001b[39mimport\u001b[39;00m \u001b[39mrapids_singlecell\u001b[39;00m \u001b[39mas\u001b[39;00m \u001b[39mrsc\u001b[39;00m\n\u001b[1;32m     16\u001b[0m \u001b[39mimport\u001b[39;00m \u001b[39mwarnings\u001b[39;00m\n\u001b[1;32m     17\u001b[0m \u001b[39mimport\u001b[39;00m \u001b[39mrmm\u001b[39;00m\n",
      "File \u001b[0;32m~/.conda/envs/grns/lib/python3.11/site-packages/rapids_singlecell/__init__.py:3\u001b[0m\n\u001b[1;32m      1\u001b[0m \u001b[39mfrom\u001b[39;00m \u001b[39m__future__\u001b[39;00m \u001b[39mimport\u001b[39;00m annotations\n\u001b[0;32m----> 3\u001b[0m \u001b[39mfrom\u001b[39;00m \u001b[39m.\u001b[39;00m \u001b[39mimport\u001b[39;00m dcg, get, gr, pp, tl\n\u001b[1;32m      4\u001b[0m \u001b[39mfrom\u001b[39;00m \u001b[39m.\u001b[39;00m\u001b[39m_version\u001b[39;00m \u001b[39mimport\u001b[39;00m __version__\n",
      "File \u001b[0;32m~/.conda/envs/grns/lib/python3.11/site-packages/rapids_singlecell/pp.py:3\u001b[0m\n\u001b[1;32m      1\u001b[0m \u001b[39mfrom\u001b[39;00m \u001b[39m__future__\u001b[39;00m \u001b[39mimport\u001b[39;00m annotations\n\u001b[0;32m----> 3\u001b[0m \u001b[39mfrom\u001b[39;00m \u001b[39m.\u001b[39;00m\u001b[39mpreprocessing\u001b[39;00m \u001b[39mimport\u001b[39;00m \u001b[39m*\u001b[39m\n",
      "File \u001b[0;32m~/.conda/envs/grns/lib/python3.11/site-packages/rapids_singlecell/preprocessing/__init__.py:5\u001b[0m\n\u001b[1;32m      3\u001b[0m \u001b[39mfrom\u001b[39;00m \u001b[39m.\u001b[39;00m\u001b[39m_harmony_integrate\u001b[39;00m \u001b[39mimport\u001b[39;00m harmony_integrate\n\u001b[1;32m      4\u001b[0m \u001b[39mfrom\u001b[39;00m \u001b[39m.\u001b[39;00m\u001b[39m_hvg\u001b[39;00m \u001b[39mimport\u001b[39;00m highly_variable_genes\n\u001b[0;32m----> 5\u001b[0m \u001b[39mfrom\u001b[39;00m \u001b[39m.\u001b[39;00m\u001b[39m_neighbors\u001b[39;00m \u001b[39mimport\u001b[39;00m neighbors\n\u001b[1;32m      6\u001b[0m \u001b[39mfrom\u001b[39;00m \u001b[39m.\u001b[39;00m\u001b[39m_normalize\u001b[39;00m \u001b[39mimport\u001b[39;00m log1p, normalize_pearson_residuals, normalize_total\n\u001b[1;32m      7\u001b[0m \u001b[39mfrom\u001b[39;00m \u001b[39m.\u001b[39;00m\u001b[39m_pca\u001b[39;00m \u001b[39mimport\u001b[39;00m pca\n",
      "File \u001b[0;32m~/.conda/envs/grns/lib/python3.11/site-packages/rapids_singlecell/preprocessing/_neighbors.py:9\u001b[0m\n\u001b[1;32m      7\u001b[0m \u001b[39mimport\u001b[39;00m \u001b[39mcupy\u001b[39;00m \u001b[39mas\u001b[39;00m \u001b[39mcp\u001b[39;00m\n\u001b[1;32m      8\u001b[0m \u001b[39mimport\u001b[39;00m \u001b[39mnumpy\u001b[39;00m \u001b[39mas\u001b[39;00m \u001b[39mnp\u001b[39;00m\n\u001b[0;32m----> 9\u001b[0m \u001b[39mfrom\u001b[39;00m \u001b[39mcuml\u001b[39;00m\u001b[39m.\u001b[39;00m\u001b[39mmanifold\u001b[39;00m\u001b[39m.\u001b[39;00m\u001b[39msimpl_set\u001b[39;00m \u001b[39mimport\u001b[39;00m fuzzy_simplicial_set\n\u001b[1;32m     10\u001b[0m \u001b[39mfrom\u001b[39;00m \u001b[39mcupyx\u001b[39;00m\u001b[39m.\u001b[39;00m\u001b[39mscipy\u001b[39;00m \u001b[39mimport\u001b[39;00m sparse \u001b[39mas\u001b[39;00m cp_sparse\n\u001b[1;32m     11\u001b[0m \u001b[39mfrom\u001b[39;00m \u001b[39mpylibraft\u001b[39;00m\u001b[39m.\u001b[39;00m\u001b[39mcommon\u001b[39;00m \u001b[39mimport\u001b[39;00m DeviceResources\n",
      "File \u001b[0;32m~/.conda/envs/grns/lib/python3.11/site-packages/cuml/__init__.py:17\u001b[0m\n\u001b[1;32m      1\u001b[0m \u001b[39m#\u001b[39;00m\n\u001b[1;32m      2\u001b[0m \u001b[39m# Copyright (c) 2022-2023, NVIDIA CORPORATION.\u001b[39;00m\n\u001b[1;32m      3\u001b[0m \u001b[39m#\u001b[39;00m\n\u001b[0;32m   (...)\u001b[0m\n\u001b[1;32m     14\u001b[0m \u001b[39m# limitations under the License.\u001b[39;00m\n\u001b[1;32m     15\u001b[0m \u001b[39m#\u001b[39;00m\n\u001b[0;32m---> 17\u001b[0m \u001b[39mfrom\u001b[39;00m \u001b[39mcuml\u001b[39;00m\u001b[39m.\u001b[39;00m\u001b[39minternals\u001b[39;00m\u001b[39m.\u001b[39;00m\u001b[39mbase\u001b[39;00m \u001b[39mimport\u001b[39;00m Base, UniversalBase\n\u001b[1;32m     18\u001b[0m \u001b[39mfrom\u001b[39;00m \u001b[39mcuml\u001b[39;00m\u001b[39m.\u001b[39;00m\u001b[39minternals\u001b[39;00m\u001b[39m.\u001b[39;00m\u001b[39mavailable_devices\u001b[39;00m \u001b[39mimport\u001b[39;00m is_cuda_available\n\u001b[1;32m     20\u001b[0m \u001b[39m# GPU only packages\u001b[39;00m\n",
      "File \u001b[0;32m~/.conda/envs/grns/lib/python3.11/site-packages/cuml/internals/__init__.py:18\u001b[0m\n\u001b[1;32m      1\u001b[0m \u001b[39m#\u001b[39;00m\n\u001b[1;32m      2\u001b[0m \u001b[39m# Copyright (c) 2019-2023, NVIDIA CORPORATION.\u001b[39;00m\n\u001b[1;32m      3\u001b[0m \u001b[39m#\u001b[39;00m\n\u001b[0;32m   (...)\u001b[0m\n\u001b[1;32m     14\u001b[0m \u001b[39m# limitations under the License.\u001b[39;00m\n\u001b[1;32m     15\u001b[0m \u001b[39m#\u001b[39;00m\n\u001b[1;32m     17\u001b[0m \u001b[39mfrom\u001b[39;00m \u001b[39mcuml\u001b[39;00m\u001b[39m.\u001b[39;00m\u001b[39minternals\u001b[39;00m\u001b[39m.\u001b[39;00m\u001b[39mavailable_devices\u001b[39;00m \u001b[39mimport\u001b[39;00m is_cuda_available\n\u001b[0;32m---> 18\u001b[0m \u001b[39mfrom\u001b[39;00m \u001b[39mcuml\u001b[39;00m\u001b[39m.\u001b[39;00m\u001b[39minternals\u001b[39;00m\u001b[39m.\u001b[39;00m\u001b[39mbase_helpers\u001b[39;00m \u001b[39mimport\u001b[39;00m BaseMetaClass, _tags_class_and_instance\n\u001b[1;32m     19\u001b[0m \u001b[39mfrom\u001b[39;00m \u001b[39mcuml\u001b[39;00m\u001b[39m.\u001b[39;00m\u001b[39minternals\u001b[39;00m\u001b[39m.\u001b[39;00m\u001b[39mapi_decorators\u001b[39;00m \u001b[39mimport\u001b[39;00m (\n\u001b[1;32m     20\u001b[0m     _deprecate_pos_args,\n\u001b[1;32m     21\u001b[0m     api_base_fit_transform,\n\u001b[0;32m   (...)\u001b[0m\n\u001b[1;32m     33\u001b[0m     exit_internal_api,\n\u001b[1;32m     34\u001b[0m )\n\u001b[1;32m     35\u001b[0m \u001b[39mfrom\u001b[39;00m \u001b[39mcuml\u001b[39;00m\u001b[39m.\u001b[39;00m\u001b[39minternals\u001b[39;00m\u001b[39m.\u001b[39;00m\u001b[39mapi_context_managers\u001b[39;00m \u001b[39mimport\u001b[39;00m (\n\u001b[1;32m     36\u001b[0m     in_internal_api,\n\u001b[1;32m     37\u001b[0m     set_api_output_dtype,\n\u001b[1;32m     38\u001b[0m     set_api_output_type,\n\u001b[1;32m     39\u001b[0m )\n",
      "File \u001b[0;32m~/.conda/envs/grns/lib/python3.11/site-packages/cuml/internals/base_helpers.py:20\u001b[0m\n\u001b[1;32m     17\u001b[0m \u001b[39mfrom\u001b[39;00m \u001b[39minspect\u001b[39;00m \u001b[39mimport\u001b[39;00m Parameter, signature\n\u001b[1;32m     18\u001b[0m \u001b[39mimport\u001b[39;00m \u001b[39mtyping\u001b[39;00m\n\u001b[0;32m---> 20\u001b[0m \u001b[39mfrom\u001b[39;00m \u001b[39mcuml\u001b[39;00m\u001b[39m.\u001b[39;00m\u001b[39minternals\u001b[39;00m\u001b[39m.\u001b[39;00m\u001b[39mapi_decorators\u001b[39;00m \u001b[39mimport\u001b[39;00m (\n\u001b[1;32m     21\u001b[0m     api_base_return_generic,\n\u001b[1;32m     22\u001b[0m     api_base_return_array,\n\u001b[1;32m     23\u001b[0m     api_base_return_sparse_array,\n\u001b[1;32m     24\u001b[0m     api_base_return_any,\n\u001b[1;32m     25\u001b[0m     api_return_any,\n\u001b[1;32m     26\u001b[0m     _deprecate_pos_args,\n\u001b[1;32m     27\u001b[0m )\n\u001b[1;32m     28\u001b[0m \u001b[39mfrom\u001b[39;00m \u001b[39mcuml\u001b[39;00m\u001b[39m.\u001b[39;00m\u001b[39minternals\u001b[39;00m\u001b[39m.\u001b[39;00m\u001b[39marray\u001b[39;00m \u001b[39mimport\u001b[39;00m CumlArray\n\u001b[1;32m     29\u001b[0m \u001b[39mfrom\u001b[39;00m \u001b[39mcuml\u001b[39;00m\u001b[39m.\u001b[39;00m\u001b[39minternals\u001b[39;00m\u001b[39m.\u001b[39;00m\u001b[39marray_sparse\u001b[39;00m \u001b[39mimport\u001b[39;00m SparseCumlArray\n",
      "File \u001b[0;32m~/.conda/envs/grns/lib/python3.11/site-packages/cuml/internals/api_decorators.py:24\u001b[0m\n\u001b[1;32m     21\u001b[0m \u001b[39mimport\u001b[39;00m \u001b[39mwarnings\u001b[39;00m\n\u001b[1;32m     23\u001b[0m \u001b[39m# TODO: Try to resolve circular import that makes this necessary:\u001b[39;00m\n\u001b[0;32m---> 24\u001b[0m \u001b[39mfrom\u001b[39;00m \u001b[39mcuml\u001b[39;00m\u001b[39m.\u001b[39;00m\u001b[39minternals\u001b[39;00m \u001b[39mimport\u001b[39;00m input_utils \u001b[39mas\u001b[39;00m iu\n\u001b[1;32m     25\u001b[0m \u001b[39mfrom\u001b[39;00m \u001b[39mcuml\u001b[39;00m\u001b[39m.\u001b[39;00m\u001b[39minternals\u001b[39;00m\u001b[39m.\u001b[39;00m\u001b[39mapi_context_managers\u001b[39;00m \u001b[39mimport\u001b[39;00m BaseReturnAnyCM\n\u001b[1;32m     26\u001b[0m \u001b[39mfrom\u001b[39;00m \u001b[39mcuml\u001b[39;00m\u001b[39m.\u001b[39;00m\u001b[39minternals\u001b[39;00m\u001b[39m.\u001b[39;00m\u001b[39mapi_context_managers\u001b[39;00m \u001b[39mimport\u001b[39;00m BaseReturnArrayCM\n",
      "File \u001b[0;32m~/.conda/envs/grns/lib/python3.11/site-packages/cuml/internals/input_utils.py:19\u001b[0m\n\u001b[1;32m      1\u001b[0m \u001b[39m#\u001b[39;00m\n\u001b[1;32m      2\u001b[0m \u001b[39m# Copyright (c) 2019-2023, NVIDIA CORPORATION.\u001b[39;00m\n\u001b[1;32m      3\u001b[0m \u001b[39m#\u001b[39;00m\n\u001b[0;32m   (...)\u001b[0m\n\u001b[1;32m     14\u001b[0m \u001b[39m# limitations under the License.\u001b[39;00m\n\u001b[1;32m     15\u001b[0m \u001b[39m#\u001b[39;00m\n\u001b[1;32m     17\u001b[0m \u001b[39mfrom\u001b[39;00m \u001b[39mcollections\u001b[39;00m \u001b[39mimport\u001b[39;00m namedtuple\n\u001b[0;32m---> 19\u001b[0m \u001b[39mfrom\u001b[39;00m \u001b[39mcuml\u001b[39;00m\u001b[39m.\u001b[39;00m\u001b[39minternals\u001b[39;00m\u001b[39m.\u001b[39;00m\u001b[39marray\u001b[39;00m \u001b[39mimport\u001b[39;00m CumlArray\n\u001b[1;32m     20\u001b[0m \u001b[39mfrom\u001b[39;00m \u001b[39mcuml\u001b[39;00m\u001b[39m.\u001b[39;00m\u001b[39minternals\u001b[39;00m\u001b[39m.\u001b[39;00m\u001b[39marray_sparse\u001b[39;00m \u001b[39mimport\u001b[39;00m SparseCumlArray\n\u001b[1;32m     21\u001b[0m \u001b[39mfrom\u001b[39;00m \u001b[39mcuml\u001b[39;00m\u001b[39m.\u001b[39;00m\u001b[39minternals\u001b[39;00m\u001b[39m.\u001b[39;00m\u001b[39mglobal_settings\u001b[39;00m \u001b[39mimport\u001b[39;00m GlobalSettings\n",
      "File \u001b[0;32m~/.conda/envs/grns/lib/python3.11/site-packages/cuml/internals/array.py:51\u001b[0m\n\u001b[1;32m     49\u001b[0m CudfIndex \u001b[39m=\u001b[39m gpu_only_import_from(\u001b[39m\"\u001b[39m\u001b[39mcudf\u001b[39m\u001b[39m\"\u001b[39m, \u001b[39m\"\u001b[39m\u001b[39mIndex\u001b[39m\u001b[39m\"\u001b[39m)\n\u001b[1;32m     50\u001b[0m CudfSeries \u001b[39m=\u001b[39m gpu_only_import_from(\u001b[39m\"\u001b[39m\u001b[39mcudf\u001b[39m\u001b[39m\"\u001b[39m, \u001b[39m\"\u001b[39m\u001b[39mSeries\u001b[39m\u001b[39m\"\u001b[39m)\n\u001b[0;32m---> 51\u001b[0m DaskCudfDataFrame \u001b[39m=\u001b[39m gpu_only_import_from(\u001b[39m\"\u001b[39;49m\u001b[39mdask_cudf.core\u001b[39;49m\u001b[39m\"\u001b[39;49m, \u001b[39m\"\u001b[39;49m\u001b[39mDataFrame\u001b[39;49m\u001b[39m\"\u001b[39;49m)\n\u001b[1;32m     52\u001b[0m DaskCudfSeries \u001b[39m=\u001b[39m gpu_only_import_from(\u001b[39m\"\u001b[39m\u001b[39mdask_cudf.core\u001b[39m\u001b[39m\"\u001b[39m, \u001b[39m\"\u001b[39m\u001b[39mSeries\u001b[39m\u001b[39m\"\u001b[39m)\n\u001b[1;32m     53\u001b[0m DaskDataFrame \u001b[39m=\u001b[39m gpu_only_import_from(\u001b[39m\"\u001b[39m\u001b[39mdask.dataframe\u001b[39m\u001b[39m\"\u001b[39m, \u001b[39m\"\u001b[39m\u001b[39mDataFrame\u001b[39m\u001b[39m\"\u001b[39m)\n",
      "File \u001b[0;32m~/.conda/envs/grns/lib/python3.11/site-packages/cuml/internals/safe_imports.py:394\u001b[0m, in \u001b[0;36mgpu_only_import_from\u001b[0;34m(module, symbol, alt)\u001b[0m\n\u001b[1;32m    366\u001b[0m \u001b[39m\u001b[39m\u001b[39m\"\"\"A function used to import symbols required only in GPU installs\u001b[39;00m\n\u001b[1;32m    367\u001b[0m \n\u001b[1;32m    368\u001b[0m \u001b[39mThis function will attempt to import a symbol from a module with the given\u001b[39;00m\n\u001b[0;32m   (...)\u001b[0m\n\u001b[1;32m    391\u001b[0m \u001b[39m    UnavailableMeta.\u001b[39;00m\n\u001b[1;32m    392\u001b[0m \u001b[39m\"\"\"\u001b[39;00m\n\u001b[1;32m    393\u001b[0m \u001b[39mif\u001b[39;00m GPU_ENABLED:\n\u001b[0;32m--> 394\u001b[0m     imported_module \u001b[39m=\u001b[39m importlib\u001b[39m.\u001b[39;49mimport_module(module)\n\u001b[1;32m    395\u001b[0m     \u001b[39mreturn\u001b[39;00m \u001b[39mgetattr\u001b[39m(imported_module, symbol)\n\u001b[1;32m    396\u001b[0m \u001b[39melse\u001b[39;00m:\n",
      "File \u001b[0;32m~/.conda/envs/grns/lib/python3.11/importlib/__init__.py:126\u001b[0m, in \u001b[0;36mimport_module\u001b[0;34m(name, package)\u001b[0m\n\u001b[1;32m    124\u001b[0m             \u001b[39mbreak\u001b[39;00m\n\u001b[1;32m    125\u001b[0m         level \u001b[39m+\u001b[39m\u001b[39m=\u001b[39m \u001b[39m1\u001b[39m\n\u001b[0;32m--> 126\u001b[0m \u001b[39mreturn\u001b[39;00m _bootstrap\u001b[39m.\u001b[39;49m_gcd_import(name[level:], package, level)\n",
      "File \u001b[0;32m~/.conda/envs/grns/lib/python3.11/site-packages/dask_cudf/__init__.py:10\u001b[0m\n\u001b[1;32m      5\u001b[0m \u001b[39m# For dask>2024.2.0, we can silence the loud deprecation\u001b[39;00m\n\u001b[1;32m      6\u001b[0m \u001b[39m# warning before importing `dask.dataframe` (this won't\u001b[39;00m\n\u001b[1;32m      7\u001b[0m \u001b[39m# do anything for dask==2024.2.0)\u001b[39;00m\n\u001b[1;32m      8\u001b[0m config\u001b[39m.\u001b[39mset({\u001b[39m\"\u001b[39m\u001b[39mdataframe.query-planning-warning\u001b[39m\u001b[39m\"\u001b[39m: \u001b[39mFalse\u001b[39;00m})\n\u001b[0;32m---> 10\u001b[0m \u001b[39mimport\u001b[39;00m \u001b[39mdask\u001b[39;00m\u001b[39m.\u001b[39;00m\u001b[39mdataframe\u001b[39;00m \u001b[39mas\u001b[39;00m \u001b[39mdd\u001b[39;00m\n\u001b[1;32m     11\u001b[0m \u001b[39mfrom\u001b[39;00m \u001b[39mdask\u001b[39;00m\u001b[39m.\u001b[39;00m\u001b[39mdataframe\u001b[39;00m \u001b[39mimport\u001b[39;00m from_delayed\n\u001b[1;32m     13\u001b[0m \u001b[39mimport\u001b[39;00m \u001b[39mcudf\u001b[39;00m\n",
      "File \u001b[0;32m~/.conda/envs/grns/lib/python3.11/site-packages/dask/dataframe/__init__.py:98\u001b[0m\n\u001b[1;32m     96\u001b[0m \u001b[39mimport\u001b[39;00m \u001b[39mdask\u001b[39;00m\u001b[39m.\u001b[39;00m\u001b[39mdataframe\u001b[39;00m\u001b[39m.\u001b[39;00m\u001b[39m_pyarrow_compat\u001b[39;00m\n\u001b[1;32m     97\u001b[0m \u001b[39mfrom\u001b[39;00m \u001b[39mdask\u001b[39;00m\u001b[39m.\u001b[39;00m\u001b[39mbase\u001b[39;00m \u001b[39mimport\u001b[39;00m compute\n\u001b[0;32m---> 98\u001b[0m \u001b[39mfrom\u001b[39;00m \u001b[39mdask\u001b[39;00m\u001b[39m.\u001b[39;00m\u001b[39mdataframe\u001b[39;00m \u001b[39mimport\u001b[39;00m backends, dispatch, rolling\n\u001b[1;32m     99\u001b[0m \u001b[39mfrom\u001b[39;00m \u001b[39mdask\u001b[39;00m\u001b[39m.\u001b[39;00m\u001b[39mdataframe\u001b[39;00m\u001b[39m.\u001b[39;00m\u001b[39mcore\u001b[39;00m \u001b[39mimport\u001b[39;00m (\n\u001b[1;32m    100\u001b[0m     DataFrame,\n\u001b[1;32m    101\u001b[0m     Index,\n\u001b[0;32m   (...)\u001b[0m\n\u001b[1;32m    107\u001b[0m     to_timedelta,\n\u001b[1;32m    108\u001b[0m )\n\u001b[1;32m    109\u001b[0m \u001b[39mfrom\u001b[39;00m \u001b[39mdask\u001b[39;00m\u001b[39m.\u001b[39;00m\u001b[39mdataframe\u001b[39;00m\u001b[39m.\u001b[39;00m\u001b[39mgroupby\u001b[39;00m \u001b[39mimport\u001b[39;00m Aggregation\n",
      "File \u001b[0;32m~/.conda/envs/grns/lib/python3.11/site-packages/dask/dataframe/backends.py:15\u001b[0m\n\u001b[1;32m     13\u001b[0m \u001b[39mfrom\u001b[39;00m \u001b[39mdask\u001b[39;00m\u001b[39m.\u001b[39;00m\u001b[39mbackends\u001b[39;00m \u001b[39mimport\u001b[39;00m CreationDispatch, DaskBackendEntrypoint\n\u001b[1;32m     14\u001b[0m \u001b[39mfrom\u001b[39;00m \u001b[39mdask\u001b[39;00m\u001b[39m.\u001b[39;00m\u001b[39mdataframe\u001b[39;00m\u001b[39m.\u001b[39;00m\u001b[39m_compat\u001b[39;00m \u001b[39mimport\u001b[39;00m PANDAS_GE_220, is_any_real_numeric_dtype\n\u001b[0;32m---> 15\u001b[0m \u001b[39mfrom\u001b[39;00m \u001b[39mdask\u001b[39;00m\u001b[39m.\u001b[39;00m\u001b[39mdataframe\u001b[39;00m\u001b[39m.\u001b[39;00m\u001b[39mcore\u001b[39;00m \u001b[39mimport\u001b[39;00m DataFrame, Index, Scalar, Series, _Frame\n\u001b[1;32m     16\u001b[0m \u001b[39mfrom\u001b[39;00m \u001b[39mdask\u001b[39;00m\u001b[39m.\u001b[39;00m\u001b[39mdataframe\u001b[39;00m\u001b[39m.\u001b[39;00m\u001b[39mdispatch\u001b[39;00m \u001b[39mimport\u001b[39;00m (\n\u001b[1;32m     17\u001b[0m     categorical_dtype_dispatch,\n\u001b[1;32m     18\u001b[0m     concat,\n\u001b[0;32m   (...)\u001b[0m\n\u001b[1;32m     35\u001b[0m     union_categoricals_dispatch,\n\u001b[1;32m     36\u001b[0m )\n\u001b[1;32m     37\u001b[0m \u001b[39mfrom\u001b[39;00m \u001b[39mdask\u001b[39;00m\u001b[39m.\u001b[39;00m\u001b[39mdataframe\u001b[39;00m\u001b[39m.\u001b[39;00m\u001b[39mextensions\u001b[39;00m \u001b[39mimport\u001b[39;00m make_array_nonempty, make_scalar\n",
      "File \u001b[0;32m~/.conda/envs/grns/lib/python3.11/site-packages/dask/dataframe/core.py:36\u001b[0m\n\u001b[1;32m     34\u001b[0m \u001b[39mfrom\u001b[39;00m \u001b[39mdask\u001b[39;00m\u001b[39m.\u001b[39;00m\u001b[39mblockwise\u001b[39;00m \u001b[39mimport\u001b[39;00m Blockwise, BlockwiseDep, BlockwiseDepDict, blockwise\n\u001b[1;32m     35\u001b[0m \u001b[39mfrom\u001b[39;00m \u001b[39mdask\u001b[39;00m\u001b[39m.\u001b[39;00m\u001b[39mcontext\u001b[39;00m \u001b[39mimport\u001b[39;00m globalmethod\n\u001b[0;32m---> 36\u001b[0m \u001b[39mfrom\u001b[39;00m \u001b[39mdask\u001b[39;00m\u001b[39m.\u001b[39;00m\u001b[39mdataframe\u001b[39;00m \u001b[39mimport\u001b[39;00m methods\n\u001b[1;32m     37\u001b[0m \u001b[39mfrom\u001b[39;00m \u001b[39mdask\u001b[39;00m\u001b[39m.\u001b[39;00m\u001b[39mdataframe\u001b[39;00m\u001b[39m.\u001b[39;00m\u001b[39m_compat\u001b[39;00m \u001b[39mimport\u001b[39;00m (\n\u001b[1;32m     38\u001b[0m     PANDAS_GE_140,\n\u001b[1;32m     39\u001b[0m     PANDAS_GE_150,\n\u001b[0;32m   (...)\u001b[0m\n\u001b[1;32m     47\u001b[0m     is_string_dtype,\n\u001b[1;32m     48\u001b[0m )\n\u001b[1;32m     49\u001b[0m \u001b[39mfrom\u001b[39;00m \u001b[39mdask\u001b[39;00m\u001b[39m.\u001b[39;00m\u001b[39mdataframe\u001b[39;00m\u001b[39m.\u001b[39;00m\u001b[39maccessor\u001b[39;00m \u001b[39mimport\u001b[39;00m CachedAccessor, DatetimeAccessor, StringAccessor\n",
      "File \u001b[0;32m~/.conda/envs/grns/lib/python3.11/site-packages/dask/dataframe/methods.py:34\u001b[0m\n\u001b[1;32m     22\u001b[0m \u001b[39m#  preserve compatibility while moving dispatch objects\u001b[39;00m\n\u001b[1;32m     23\u001b[0m \u001b[39mfrom\u001b[39;00m \u001b[39mdask\u001b[39;00m\u001b[39m.\u001b[39;00m\u001b[39mdataframe\u001b[39;00m\u001b[39m.\u001b[39;00m\u001b[39mdispatch\u001b[39;00m \u001b[39mimport\u001b[39;00m (  \u001b[39m# noqa: F401\u001b[39;00m\n\u001b[1;32m     24\u001b[0m     concat,\n\u001b[1;32m     25\u001b[0m     concat_dispatch,\n\u001b[0;32m   (...)\u001b[0m\n\u001b[1;32m     32\u001b[0m     union_categoricals,\n\u001b[1;32m     33\u001b[0m )\n\u001b[0;32m---> 34\u001b[0m \u001b[39mfrom\u001b[39;00m \u001b[39mdask\u001b[39;00m\u001b[39m.\u001b[39;00m\u001b[39mdataframe\u001b[39;00m\u001b[39m.\u001b[39;00m\u001b[39mutils\u001b[39;00m \u001b[39mimport\u001b[39;00m is_dataframe_like, is_index_like, is_series_like\n\u001b[1;32m     35\u001b[0m \u001b[39mfrom\u001b[39;00m \u001b[39mdask\u001b[39;00m\u001b[39m.\u001b[39;00m\u001b[39mutils\u001b[39;00m \u001b[39mimport\u001b[39;00m _deprecated_kwarg\n\u001b[1;32m     37\u001b[0m \u001b[39m# cuDF may try to import old dispatch functions\u001b[39;00m\n",
      "File \u001b[0;32m~/.conda/envs/grns/lib/python3.11/site-packages/dask/dataframe/utils.py:20\u001b[0m\n\u001b[1;32m     18\u001b[0m \u001b[39mfrom\u001b[39;00m \u001b[39mdask\u001b[39;00m\u001b[39m.\u001b[39;00m\u001b[39mbase\u001b[39;00m \u001b[39mimport\u001b[39;00m get_scheduler, is_dask_collection\n\u001b[1;32m     19\u001b[0m \u001b[39mfrom\u001b[39;00m \u001b[39mdask\u001b[39;00m\u001b[39m.\u001b[39;00m\u001b[39mcore\u001b[39;00m \u001b[39mimport\u001b[39;00m get_deps\n\u001b[0;32m---> 20\u001b[0m \u001b[39mfrom\u001b[39;00m \u001b[39mdask\u001b[39;00m\u001b[39m.\u001b[39;00m\u001b[39mdataframe\u001b[39;00m \u001b[39mimport\u001b[39;00m (  \u001b[39m# noqa: F401 register pandas extension types\u001b[39;00m\n\u001b[1;32m     21\u001b[0m     _dtypes,\n\u001b[1;32m     22\u001b[0m     methods,\n\u001b[1;32m     23\u001b[0m )\n\u001b[1;32m     24\u001b[0m \u001b[39mfrom\u001b[39;00m \u001b[39mdask\u001b[39;00m\u001b[39m.\u001b[39;00m\u001b[39mdataframe\u001b[39;00m\u001b[39m.\u001b[39;00m\u001b[39m_compat\u001b[39;00m \u001b[39mimport\u001b[39;00m PANDAS_GE_150, tm  \u001b[39m# noqa: F401\u001b[39;00m\n\u001b[1;32m     25\u001b[0m \u001b[39mfrom\u001b[39;00m \u001b[39mdask\u001b[39;00m\u001b[39m.\u001b[39;00m\u001b[39mdataframe\u001b[39;00m\u001b[39m.\u001b[39;00m\u001b[39mdispatch\u001b[39;00m \u001b[39mimport\u001b[39;00m (  \u001b[39m# noqa : F401\u001b[39;00m\n\u001b[1;32m     26\u001b[0m     make_meta,\n\u001b[1;32m     27\u001b[0m     make_meta_obj,\n\u001b[1;32m     28\u001b[0m     meta_nonempty,\n\u001b[1;32m     29\u001b[0m )\n",
      "File \u001b[0;32m~/.conda/envs/grns/lib/python3.11/site-packages/dask/dataframe/_dtypes.py:9\u001b[0m\n\u001b[1;32m      6\u001b[0m \u001b[39mimport\u001b[39;00m \u001b[39mpandas\u001b[39;00m \u001b[39mas\u001b[39;00m \u001b[39mpd\u001b[39;00m\n\u001b[1;32m      8\u001b[0m \u001b[39mfrom\u001b[39;00m \u001b[39mdask\u001b[39;00m\u001b[39m.\u001b[39;00m\u001b[39mdataframe\u001b[39;00m\u001b[39m.\u001b[39;00m\u001b[39m_compat\u001b[39;00m \u001b[39mimport\u001b[39;00m PANDAS_GE_150\n\u001b[0;32m----> 9\u001b[0m \u001b[39mfrom\u001b[39;00m \u001b[39mdask\u001b[39;00m\u001b[39m.\u001b[39;00m\u001b[39mdataframe\u001b[39;00m\u001b[39m.\u001b[39;00m\u001b[39mextensions\u001b[39;00m \u001b[39mimport\u001b[39;00m make_array_nonempty, make_scalar\n\u001b[1;32m     12\u001b[0m \u001b[39m@make_array_nonempty\u001b[39m\u001b[39m.\u001b[39mregister(pd\u001b[39m.\u001b[39mDatetimeTZDtype)\n\u001b[1;32m     13\u001b[0m \u001b[39mdef\u001b[39;00m \u001b[39m_\u001b[39m(dtype):\n\u001b[1;32m     14\u001b[0m     \u001b[39mreturn\u001b[39;00m pd\u001b[39m.\u001b[39marray([pd\u001b[39m.\u001b[39mTimestamp(\u001b[39m1\u001b[39m), pd\u001b[39m.\u001b[39mNaT], dtype\u001b[39m=\u001b[39mdtype)\n",
      "File \u001b[0;32m~/.conda/envs/grns/lib/python3.11/site-packages/dask/dataframe/extensions.py:8\u001b[0m\n\u001b[1;32m      1\u001b[0m \u001b[39m\"\"\"\u001b[39;00m\n\u001b[1;32m      2\u001b[0m \u001b[39mSupport for pandas ExtensionArray in dask.dataframe.\u001b[39;00m\n\u001b[1;32m      3\u001b[0m \n\u001b[1;32m      4\u001b[0m \u001b[39mSee :ref:`extensionarrays` for more.\u001b[39;00m\n\u001b[1;32m      5\u001b[0m \u001b[39m\"\"\"\u001b[39;00m\n\u001b[1;32m      6\u001b[0m \u001b[39mfrom\u001b[39;00m \u001b[39m__future__\u001b[39;00m \u001b[39mimport\u001b[39;00m annotations\n\u001b[0;32m----> 8\u001b[0m \u001b[39mfrom\u001b[39;00m \u001b[39mdask\u001b[39;00m\u001b[39m.\u001b[39;00m\u001b[39mdataframe\u001b[39;00m\u001b[39m.\u001b[39;00m\u001b[39maccessor\u001b[39;00m \u001b[39mimport\u001b[39;00m (\n\u001b[1;32m      9\u001b[0m     register_dataframe_accessor,\n\u001b[1;32m     10\u001b[0m     register_index_accessor,\n\u001b[1;32m     11\u001b[0m     register_series_accessor,\n\u001b[1;32m     12\u001b[0m )\n\u001b[1;32m     13\u001b[0m \u001b[39mfrom\u001b[39;00m \u001b[39mdask\u001b[39;00m\u001b[39m.\u001b[39;00m\u001b[39mutils\u001b[39;00m \u001b[39mimport\u001b[39;00m Dispatch\n\u001b[1;32m     15\u001b[0m make_array_nonempty \u001b[39m=\u001b[39m Dispatch(\u001b[39m\"\u001b[39m\u001b[39mmake_array_nonempty\u001b[39m\u001b[39m\"\u001b[39m)\n",
      "File \u001b[0;32m~/.conda/envs/grns/lib/python3.11/site-packages/dask/dataframe/accessor.py:126\u001b[0m\n\u001b[1;32m    113\u001b[0m         token \u001b[39m=\u001b[39m \u001b[39mf\u001b[39m\u001b[39m\"\u001b[39m\u001b[39m{\u001b[39;00m\u001b[39mself\u001b[39m\u001b[39m.\u001b[39m_accessor_name\u001b[39m}\u001b[39;00m\u001b[39m-\u001b[39m\u001b[39m{\u001b[39;00mattr\u001b[39m}\u001b[39;00m\u001b[39m\"\u001b[39m\n\u001b[1;32m    114\u001b[0m         \u001b[39mreturn\u001b[39;00m \u001b[39mself\u001b[39m\u001b[39m.\u001b[39m_series\u001b[39m.\u001b[39mmap_partitions(\n\u001b[1;32m    115\u001b[0m             \u001b[39mself\u001b[39m\u001b[39m.\u001b[39m_delegate_method,\n\u001b[1;32m    116\u001b[0m             \u001b[39mself\u001b[39m\u001b[39m.\u001b[39m_accessor_name,\n\u001b[0;32m   (...)\u001b[0m\n\u001b[1;32m    122\u001b[0m             token\u001b[39m=\u001b[39mtoken,\n\u001b[1;32m    123\u001b[0m         )\n\u001b[0;32m--> 126\u001b[0m \u001b[39mclass\u001b[39;49;00m \u001b[39mDatetimeAccessor\u001b[39;49;00m(Accessor):\n\u001b[1;32m    127\u001b[0m \u001b[39m    \u001b[39;49m\u001b[39m\"\"\"Accessor object for datetimelike properties of the Series values.\u001b[39;49;00m\n\u001b[1;32m    128\u001b[0m \n\u001b[1;32m    129\u001b[0m \u001b[39m    Examples\u001b[39;49;00m\n\u001b[0;32m   (...)\u001b[0m\n\u001b[1;32m    132\u001b[0m \u001b[39m    >>> s.dt.microsecond  # doctest: +SKIP\u001b[39;49;00m\n\u001b[1;32m    133\u001b[0m \u001b[39m    \"\"\"\u001b[39;49;00m\n\u001b[1;32m    135\u001b[0m     _accessor_name \u001b[39m=\u001b[39;49m \u001b[39m\"\u001b[39;49m\u001b[39mdt\u001b[39;49m\u001b[39m\"\u001b[39;49m\n",
      "File \u001b[0;32m~/.conda/envs/grns/lib/python3.11/site-packages/dask/dataframe/accessor.py:81\u001b[0m, in \u001b[0;36mAccessor.__init_subclass__\u001b[0;34m(cls, **kwargs)\u001b[0m\n\u001b[1;32m     79\u001b[0m attr, min_version \u001b[39m=\u001b[39m item \u001b[39mif\u001b[39;00m \u001b[39misinstance\u001b[39m(item, \u001b[39mtuple\u001b[39m) \u001b[39melse\u001b[39;00m (item, \u001b[39mNone\u001b[39;00m)\n\u001b[1;32m     80\u001b[0m \u001b[39mif\u001b[39;00m \u001b[39mnot\u001b[39;00m \u001b[39mhasattr\u001b[39m(\u001b[39mcls\u001b[39m, attr):\n\u001b[0;32m---> 81\u001b[0m     _bind_property(\u001b[39mcls\u001b[39;49m, pd_cls, attr, min_version)\n",
      "File \u001b[0;32m~/.conda/envs/grns/lib/python3.11/site-packages/dask/dataframe/accessor.py:35\u001b[0m, in \u001b[0;36m_bind_property\u001b[0;34m(cls, pd_cls, attr, min_version)\u001b[0m\n\u001b[1;32m     33\u001b[0m \u001b[39mexcept\u001b[39;00m \u001b[39mException\u001b[39;00m:\n\u001b[1;32m     34\u001b[0m     \u001b[39mpass\u001b[39;00m\n\u001b[0;32m---> 35\u001b[0m \u001b[39msetattr\u001b[39m(\u001b[39mcls\u001b[39m, attr, \u001b[39mproperty\u001b[39m(derived_from(pd_cls, version\u001b[39m=\u001b[39;49mmin_version)(func)))\n",
      "File \u001b[0;32m~/.conda/envs/grns/lib/python3.11/site-packages/dask/utils.py:981\u001b[0m, in \u001b[0;36mderived_from.<locals>.wrapper\u001b[0;34m(method)\u001b[0m\n\u001b[1;32m    979\u001b[0m \u001b[39mtry\u001b[39;00m:\n\u001b[1;32m    980\u001b[0m     extra \u001b[39m=\u001b[39m \u001b[39mgetattr\u001b[39m(method, \u001b[39m\"\u001b[39m\u001b[39m__doc__\u001b[39m\u001b[39m\"\u001b[39m, \u001b[39mNone\u001b[39;00m) \u001b[39mor\u001b[39;00m \u001b[39m\"\u001b[39m\u001b[39m\"\u001b[39m\n\u001b[0;32m--> 981\u001b[0m     method\u001b[39m.\u001b[39m\u001b[39m__doc__\u001b[39m \u001b[39m=\u001b[39m _derived_from(\n\u001b[1;32m    982\u001b[0m         original_klass,\n\u001b[1;32m    983\u001b[0m         method,\n\u001b[1;32m    984\u001b[0m         ua_args\u001b[39m=\u001b[39;49mua_args,\n\u001b[1;32m    985\u001b[0m         extra\u001b[39m=\u001b[39;49mextra,\n\u001b[1;32m    986\u001b[0m         skipblocks\u001b[39m=\u001b[39;49mskipblocks,\n\u001b[1;32m    987\u001b[0m         inconsistencies\u001b[39m=\u001b[39;49minconsistencies,\n\u001b[1;32m    988\u001b[0m     )\n\u001b[1;32m    989\u001b[0m     \u001b[39mreturn\u001b[39;00m method\n\u001b[1;32m    991\u001b[0m \u001b[39mexcept\u001b[39;00m \u001b[39mAttributeError\u001b[39;00m:\n",
      "File \u001b[0;32m~/.conda/envs/grns/lib/python3.11/site-packages/dask/utils.py:934\u001b[0m, in \u001b[0;36m_derived_from\u001b[0;34m(cls, method, ua_args, extra, skipblocks, inconsistencies)\u001b[0m\n\u001b[1;32m    932\u001b[0m \u001b[39m# Mark unsupported arguments\u001b[39;00m\n\u001b[1;32m    933\u001b[0m \u001b[39mtry\u001b[39;00m:\n\u001b[0;32m--> 934\u001b[0m     method_args \u001b[39m=\u001b[39m get_named_args(method)\n\u001b[1;32m    935\u001b[0m     original_args \u001b[39m=\u001b[39m get_named_args(original_method)\n\u001b[1;32m    936\u001b[0m     not_supported \u001b[39m=\u001b[39m [m \u001b[39mfor\u001b[39;00m m \u001b[39min\u001b[39;00m original_args \u001b[39mif\u001b[39;00m m \u001b[39mnot\u001b[39;00m \u001b[39min\u001b[39;00m method_args]\n",
      "File \u001b[0;32m~/.conda/envs/grns/lib/python3.11/site-packages/dask/utils.py:695\u001b[0m, in \u001b[0;36mget_named_args\u001b[0;34m(func)\u001b[0m\n\u001b[1;32m    693\u001b[0m \u001b[39mdef\u001b[39;00m \u001b[39mget_named_args\u001b[39m(func) \u001b[39m-\u001b[39m\u001b[39m>\u001b[39m \u001b[39mlist\u001b[39m[\u001b[39mstr\u001b[39m]:\n\u001b[1;32m    694\u001b[0m \u001b[39m    \u001b[39m\u001b[39m\"\"\"Get all non ``*args/**kwargs`` arguments for a function\"\"\"\u001b[39;00m\n\u001b[0;32m--> 695\u001b[0m     s \u001b[39m=\u001b[39m inspect\u001b[39m.\u001b[39;49msignature(func)\n\u001b[1;32m    696\u001b[0m     \u001b[39mreturn\u001b[39;00m [\n\u001b[1;32m    697\u001b[0m         n\n\u001b[1;32m    698\u001b[0m         \u001b[39mfor\u001b[39;00m n, p \u001b[39min\u001b[39;00m s\u001b[39m.\u001b[39mparameters\u001b[39m.\u001b[39mitems()\n\u001b[1;32m    699\u001b[0m         \u001b[39mif\u001b[39;00m p\u001b[39m.\u001b[39mkind \u001b[39min\u001b[39;00m [p\u001b[39m.\u001b[39mPOSITIONAL_OR_KEYWORD, p\u001b[39m.\u001b[39mPOSITIONAL_ONLY, p\u001b[39m.\u001b[39mKEYWORD_ONLY]\n\u001b[1;32m    700\u001b[0m     ]\n",
      "File \u001b[0;32m~/.conda/envs/grns/lib/python3.11/inspect.py:3263\u001b[0m, in \u001b[0;36msignature\u001b[0;34m(obj, follow_wrapped, globals, locals, eval_str)\u001b[0m\n\u001b[1;32m   3261\u001b[0m \u001b[39mdef\u001b[39;00m \u001b[39msignature\u001b[39m(obj, \u001b[39m*\u001b[39m, follow_wrapped\u001b[39m=\u001b[39m\u001b[39mTrue\u001b[39;00m, \u001b[39mglobals\u001b[39m\u001b[39m=\u001b[39m\u001b[39mNone\u001b[39;00m, \u001b[39mlocals\u001b[39m\u001b[39m=\u001b[39m\u001b[39mNone\u001b[39;00m, eval_str\u001b[39m=\u001b[39m\u001b[39mFalse\u001b[39;00m):\n\u001b[1;32m   3262\u001b[0m \u001b[39m    \u001b[39m\u001b[39m\"\"\"Get a signature object for the passed callable.\"\"\"\u001b[39;00m\n\u001b[0;32m-> 3263\u001b[0m     \u001b[39mreturn\u001b[39;00m Signature\u001b[39m.\u001b[39;49mfrom_callable(obj, follow_wrapped\u001b[39m=\u001b[39;49mfollow_wrapped,\n\u001b[1;32m   3264\u001b[0m                                    \u001b[39mglobals\u001b[39;49m\u001b[39m=\u001b[39;49m\u001b[39mglobals\u001b[39;49m, \u001b[39mlocals\u001b[39;49m\u001b[39m=\u001b[39;49m\u001b[39mlocals\u001b[39;49m, eval_str\u001b[39m=\u001b[39;49meval_str)\n",
      "File \u001b[0;32m~/.conda/envs/grns/lib/python3.11/inspect.py:3011\u001b[0m, in \u001b[0;36mSignature.from_callable\u001b[0;34m(cls, obj, follow_wrapped, globals, locals, eval_str)\u001b[0m\n\u001b[1;32m   3007\u001b[0m \u001b[39m@classmethod\u001b[39m\n\u001b[1;32m   3008\u001b[0m \u001b[39mdef\u001b[39;00m \u001b[39mfrom_callable\u001b[39m(\u001b[39mcls\u001b[39m, obj, \u001b[39m*\u001b[39m,\n\u001b[1;32m   3009\u001b[0m                   follow_wrapped\u001b[39m=\u001b[39m\u001b[39mTrue\u001b[39;00m, \u001b[39mglobals\u001b[39m\u001b[39m=\u001b[39m\u001b[39mNone\u001b[39;00m, \u001b[39mlocals\u001b[39m\u001b[39m=\u001b[39m\u001b[39mNone\u001b[39;00m, eval_str\u001b[39m=\u001b[39m\u001b[39mFalse\u001b[39;00m):\n\u001b[1;32m   3010\u001b[0m \u001b[39m    \u001b[39m\u001b[39m\"\"\"Constructs Signature for the given callable object.\"\"\"\u001b[39;00m\n\u001b[0;32m-> 3011\u001b[0m     \u001b[39mreturn\u001b[39;00m _signature_from_callable(obj, sigcls\u001b[39m=\u001b[39;49m\u001b[39mcls\u001b[39;49m,\n\u001b[1;32m   3012\u001b[0m                                     follow_wrapper_chains\u001b[39m=\u001b[39;49mfollow_wrapped,\n\u001b[1;32m   3013\u001b[0m                                     \u001b[39mglobals\u001b[39;49m\u001b[39m=\u001b[39;49m\u001b[39mglobals\u001b[39;49m, \u001b[39mlocals\u001b[39;49m\u001b[39m=\u001b[39;49m\u001b[39mlocals\u001b[39;49m, eval_str\u001b[39m=\u001b[39;49meval_str)\n",
      "File \u001b[0;32m~/.conda/envs/grns/lib/python3.11/inspect.py:2599\u001b[0m, in \u001b[0;36m_signature_from_callable\u001b[0;34m(obj, follow_wrapper_chains, skip_bound_arg, globals, locals, eval_str, sigcls)\u001b[0m\n\u001b[1;32m   2597\u001b[0m     call \u001b[39m=\u001b[39m getattr_static(\u001b[39mtype\u001b[39m(obj), \u001b[39m'\u001b[39m\u001b[39m__call__\u001b[39m\u001b[39m'\u001b[39m, \u001b[39mNone\u001b[39;00m)\n\u001b[1;32m   2598\u001b[0m     \u001b[39mif\u001b[39;00m call \u001b[39mis\u001b[39;00m \u001b[39mnot\u001b[39;00m \u001b[39mNone\u001b[39;00m:\n\u001b[0;32m-> 2599\u001b[0m         call \u001b[39m=\u001b[39m _descriptor_get(call, obj)\n\u001b[1;32m   2600\u001b[0m         \u001b[39mreturn\u001b[39;00m _get_signature_of(call)\n\u001b[1;32m   2602\u001b[0m \u001b[39mraise\u001b[39;00m \u001b[39mValueError\u001b[39;00m(\u001b[39m'\u001b[39m\u001b[39mcallable \u001b[39m\u001b[39m{!r}\u001b[39;00m\u001b[39m is not supported by signature\u001b[39m\u001b[39m'\u001b[39m\u001b[39m.\u001b[39mformat(obj))\n",
      "File \u001b[0;32m~/.conda/envs/grns/lib/python3.11/inspect.py:2432\u001b[0m, in \u001b[0;36m_descriptor_get\u001b[0;34m(descriptor, obj)\u001b[0m\n\u001b[1;32m   2430\u001b[0m \u001b[39mif\u001b[39;00m get \u001b[39mis\u001b[39;00m _sentinel:\n\u001b[1;32m   2431\u001b[0m     \u001b[39mreturn\u001b[39;00m descriptor\n\u001b[0;32m-> 2432\u001b[0m \u001b[39mreturn\u001b[39;00m get(descriptor, obj, \u001b[39mtype\u001b[39;49m(obj))\n",
      "\u001b[0;31mTypeError\u001b[0m: descriptor '__call__' for 'type' objects doesn't apply to a 'property' object"
     ]
    }
   ],
   "source": [
    "import omicverse as ov\n",
    "import scanpy as sc\n",
    "ov.plot_set()\n",
    "ov.settings.gpu_init()"
   ]
  },
  {
   "cell_type": "markdown",
   "metadata": {},
   "source": [
    "该数据由来自健康捐赠者的3k个pbmc组成，可从10x Genomics免费获得(此处来自此网页)。在unix系统上，您可以取消注释并运行以下命令来下载并解压缩数据。最后一行创建一个目录，用于写入处理过的数据。"
   ]
  },
  {
   "cell_type": "code",
   "execution_count": 1,
   "metadata": {},
   "outputs": [],
   "source": [
    "# !mkdir data\n",
    "#!wget http://cf.10xgenomics.com/samples/cell-exp/1.1.0/pbmc3k/pbmc3k_filtered_gene_bc_matrices.tar.gz -O data/pbmc3k_filtered_gene_bc_matrices.tar.gz\n",
    "#!cd data; tar -xzf pbmc3k_filtered_gene_bc_matrices.tar.gz\n",
    "# !mkdir write"
   ]
  },
  {
   "cell_type": "code",
   "execution_count": null,
   "metadata": {},
   "outputs": [],
   "source": [
    "adata = sc.read_10x_mtx(\n",
    "    'data/filtered_gene_bc_matrices/hg19/',  # the directory with the `.mtx` file\n",
    "    var_names='gene_symbols',                # use gene symbols for the variable names (variables-axis index)\n",
    "    cache=True)                              # write a cache file for faster subsequent reading\n",
    "adata"
   ]
  },
  {
   "cell_type": "markdown",
   "metadata": {},
   "source": [
    "## 预处理\n",
    "### 质量控制\n",
    "\n",
    "对于单细胞数据，我们需要在分析之前进行质量控制，包括去除包含双细胞，低表达细胞和低表达基因的细胞。除此之外，我们还需要根据线粒体基因比，成绩单数量，每个细胞表达的基因数，细胞复杂性等过滤。有关不同QC的详细说明，请参见文档：https：// hbcctraining。github.io/scrna-seq/lesson/04_sc_quality_control.html\n"
   ]
  },
  {
   "cell_type": "code",
   "execution_count": null,
   "metadata": {},
   "outputs": [],
   "source": [
    "ov.pp.anndata_to_GPU(adata)\n",
    "\n"
   ]
  },
  {
   "cell_type": "markdown",
   "metadata": {},
   "source": [
    "## 高变量基因检测\n",
    "这里我们尝试使用皮尔逊的方法来计算高度可变的基因。这是建议优于普通归一化的方法。详见Nature Method中的文章。\n",
    "\n",
    "`normalize| hvg`:我们使用`|`来控制预处理步骤，`|`之前用于归一化步骤，可以是`shiftlog`或`pearson`，之后用于高度可变的基因计算步骤，可以是`pearson`或`seurat`。我们的默认值是`shiftlog|pearson`。\n",
    "\n",
    "- 如果你使用`mode=shiftlog|pearson`你需要设置`target_sum=50*1e4`，更多的人喜欢看到`target_sum=1e4`，更多人喜欢看到`target_sum=1e4`，我们测试的结果认为`50*1e4`会更好。\n",
    "- 使用`mode=pearson|pearson`，你不需要设置`target_sum`。\n",
    "\n",
    "> 如果' omicverse '的版本低于' 1.4.13 '，则模式只能在' scanpy '和' pearson '之间设置。"
   ]
  },
  {
   "cell_type": "code",
   "execution_count": null,
   "metadata": {},
   "outputs": [],
   "source": [
    "adata=ov.pp.preprocess(adata,mode='shiftlog|pearson',n_HVGs=2000,)\n",
    "adata"
   ]
  },
  {
   "cell_type": "markdown",
   "metadata": {},
   "source": [
    "将AnnData对象的.raw属性设置为标准化和对数化的原始基因表达，以便稍后在差异测试和基因表达可视化中使用。这只是冻结了AnnData对象的状态。"
   ]
  },
  {
   "cell_type": "code",
   "execution_count": null,
   "metadata": {},
   "outputs": [],
   "source": [
    "adata.raw = adata\n",
    "adata = adata[:, adata.var.highly_variable_features]\n",
    "adata"
   ]
  },
  {
   "cell_type": "markdown",
   "metadata": {},
   "source": [
    "## 主成分分析\n",
    "与scanpy相反，我们不直接缩放原始表达式矩阵的方差，而是将方差缩放的结果存储在层中，因为缩放可能会导致数据分布的变化，并且我们没有发现缩放在除主成分分析之外的任何场景中都是有意义的"
   ]
  },
  {
   "cell_type": "code",
   "execution_count": null,
   "metadata": {},
   "outputs": [],
   "source": [
    "ov.pp.scale(adata)\n",
    "adata"
   ]
  },
  {
   "cell_type": "markdown",
   "metadata": {},
   "source": [
    "如果你想在`normlog`层中执行`pca`，你可以设置`layer=normlog`，但是我们认为在`pca`中缩放是必要的。"
   ]
  },
  {
   "cell_type": "markdown",
   "metadata": {},
   "source": []
  }
 ],
 "metadata": {
  "kernelspec": {
   "display_name": "Python 3",
   "language": "python",
   "name": "python3"
  },
  "language_info": {
   "codemirror_mode": {
    "name": "ipython",
    "version": 3
   },
   "file_extension": ".py",
   "mimetype": "text/x-python",
   "name": "python",
   "nbconvert_exporter": "python",
   "pygments_lexer": "ipython3",
   "version": "3.11.9"
  }
 },
 "nbformat": 4,
 "nbformat_minor": 2
}
