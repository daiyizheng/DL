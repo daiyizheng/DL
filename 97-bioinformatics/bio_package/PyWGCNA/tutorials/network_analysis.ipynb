{
 "cells": [
  {
   "cell_type": "markdown",
   "metadata": {},
   "source": [
    "# 使用PyWGCNA进行网络分析\n",
    "找到模块后，您可以将每个模块或所有模块绘制成一个网络。\n",
    "\n",
    "此笔记本显示了几种可视化生成网络的方法。\n",
    "首先，读取PyWGCNA对象。"
   ]
  },
  {
   "cell_type": "code",
   "execution_count": 1,
   "metadata": {},
   "outputs": [
    {
     "name": "stdout",
     "output_type": "stream",
     "text": [
      "\u001b[1m\u001b[94mReading 5xFAD WGCNA done!\u001b[0m\n"
     ]
    },
    {
     "data": {
      "text/html": [
       "<div>\n",
       "<style scoped>\n",
       "    .dataframe tbody tr th:only-of-type {\n",
       "        vertical-align: middle;\n",
       "    }\n",
       "\n",
       "    .dataframe tbody tr th {\n",
       "        vertical-align: top;\n",
       "    }\n",
       "\n",
       "    .dataframe thead th {\n",
       "        text-align: right;\n",
       "    }\n",
       "</style>\n",
       "<table border=\"1\" class=\"dataframe\">\n",
       "  <thead>\n",
       "    <tr style=\"text-align: right;\">\n",
       "      <th></th>\n",
       "      <th>gene_id</th>\n",
       "      <th>dynamicColors</th>\n",
       "      <th>moduleColors</th>\n",
       "      <th>moduleLabels</th>\n",
       "      <th>gene_name</th>\n",
       "      <th>gene_biotype</th>\n",
       "    </tr>\n",
       "    <tr>\n",
       "      <th>gene_id</th>\n",
       "      <th></th>\n",
       "      <th></th>\n",
       "      <th></th>\n",
       "      <th></th>\n",
       "      <th></th>\n",
       "      <th></th>\n",
       "    </tr>\n",
       "  </thead>\n",
       "  <tbody>\n",
       "    <tr>\n",
       "      <th>ENSMUSG00000000028</th>\n",
       "      <td>ENSMUSG00000000028</td>\n",
       "      <td>black</td>\n",
       "      <td>black</td>\n",
       "      <td>0</td>\n",
       "      <td>Cdc45</td>\n",
       "      <td>protein_coding</td>\n",
       "    </tr>\n",
       "    <tr>\n",
       "      <th>ENSMUSG00000000049</th>\n",
       "      <td>ENSMUSG00000000049</td>\n",
       "      <td>black</td>\n",
       "      <td>black</td>\n",
       "      <td>0</td>\n",
       "      <td>Apoh</td>\n",
       "      <td>protein_coding</td>\n",
       "    </tr>\n",
       "    <tr>\n",
       "      <th>ENSMUSG00000000056</th>\n",
       "      <td>ENSMUSG00000000056</td>\n",
       "      <td>dimgrey</td>\n",
       "      <td>dimgrey</td>\n",
       "      <td>9</td>\n",
       "      <td>Narf</td>\n",
       "      <td>protein_coding</td>\n",
       "    </tr>\n",
       "    <tr>\n",
       "      <th>ENSMUSG00000000058</th>\n",
       "      <td>ENSMUSG00000000058</td>\n",
       "      <td>gray</td>\n",
       "      <td>gray</td>\n",
       "      <td>12</td>\n",
       "      <td>Cav2</td>\n",
       "      <td>protein_coding</td>\n",
       "    </tr>\n",
       "    <tr>\n",
       "      <th>ENSMUSG00000000078</th>\n",
       "      <td>ENSMUSG00000000078</td>\n",
       "      <td>whitesmoke</td>\n",
       "      <td>whitesmoke</td>\n",
       "      <td>29</td>\n",
       "      <td>Klf6</td>\n",
       "      <td>protein_coding</td>\n",
       "    </tr>\n",
       "  </tbody>\n",
       "</table>\n",
       "</div>"
      ],
      "text/plain": [
       "                               gene_id dynamicColors moduleColors  \\\n",
       "gene_id                                                             \n",
       "ENSMUSG00000000028  ENSMUSG00000000028         black        black   \n",
       "ENSMUSG00000000049  ENSMUSG00000000049         black        black   \n",
       "ENSMUSG00000000056  ENSMUSG00000000056       dimgrey      dimgrey   \n",
       "ENSMUSG00000000058  ENSMUSG00000000058          gray         gray   \n",
       "ENSMUSG00000000078  ENSMUSG00000000078    whitesmoke   whitesmoke   \n",
       "\n",
       "                    moduleLabels gene_name    gene_biotype  \n",
       "gene_id                                                     \n",
       "ENSMUSG00000000028             0     Cdc45  protein_coding  \n",
       "ENSMUSG00000000049             0      Apoh  protein_coding  \n",
       "ENSMUSG00000000056             9      Narf  protein_coding  \n",
       "ENSMUSG00000000058            12      Cav2  protein_coding  \n",
       "ENSMUSG00000000078            29      Klf6  protein_coding  "
      ]
     },
     "execution_count": 1,
     "metadata": {},
     "output_type": "execute_result"
    }
   ],
   "source": [
    "import sys\n",
    "\n",
    "sys.path.insert(0, \"/slurm/home/admin/nlp/DL/97-bioinformatics/PyWGCNA\")\n",
    "import PyWGCNA\n",
    "pyWGCNA_5xFAD = PyWGCNA.readWGCNA(\"5xFAD.p\")\n",
    "pyWGCNA_5xFAD.datExpr.var.head(5)"
   ]
  },
  {
   "cell_type": "code",
   "execution_count": 2,
   "metadata": {},
   "outputs": [],
   "source": [
    "pyWGCNA_5xFAD.outputPath = \"/slurm/home/admin/nlp/DL/97-bioinformatics/PyWGCNA/tutorials\""
   ]
  },
  {
   "cell_type": "markdown",
   "metadata": {},
   "source": [
    "## Module network plot\n",
    "\n",
    "您可以使用[`CoexpressionModulePlot（）`函数将每个模块绘制为网络](https://mortazavilab.github.io/PyWGCNA/html/_modules/PyWGCNA/wgcna.html#WGCNA.CoexpressionModulePlot). 这将把绘图保存为输出目录`figures/network`中带有模块名称的html文件。对于这个例子，它将保存在`figures/network/black.html`。\n",
    "\n",
    "您可以定义要查看的基因和连接的数量，以及是否被视为连接的最小TOM值。\n",
    "HTML文件是一个交互式网络，因此如果您单击任何节点，您都可以看到有关每个节点（基因）的其他信息。"
   ]
  },
  {
   "cell_type": "code",
   "execution_count": 3,
   "metadata": {},
   "outputs": [
    {
     "name": "stdout",
     "output_type": "stream",
     "text": [
      "                       kMEblack  kMEbrown  kMEchocolate  kMEcoral  \\\n",
      "ENSMUSG00000000028.15  0.062225  0.206729      0.043270  0.182100   \n",
      "ENSMUSG00000000049.11 -0.139410  0.004043     -0.069008  0.167690   \n",
      "ENSMUSG00000000056.7   0.494622  0.428166     -0.032260  0.040171   \n",
      "ENSMUSG00000000058.6  -0.320758 -0.158267      0.006451 -0.037900   \n",
      "ENSMUSG00000000078.7  -0.612920  0.201530     -0.023783 -0.215284   \n",
      "...                         ...       ...           ...       ...   \n",
      "ENSMUSG00000118372.1   0.091824 -0.084547     -0.011974 -0.036909   \n",
      "ENSMUSG00000118380.1  -0.041000 -0.003345      0.023975  0.292148   \n",
      "ENSMUSG00000118382.1  -0.335868  0.112715      0.061918  0.309308   \n",
      "ENSMUSG00000118383.1  -0.069223  0.451670      0.019978  0.259995   \n",
      "ENSMUSG00000118385.1   0.356991 -0.017766     -0.065776 -0.126697   \n",
      "\n",
      "                       kMEdarkgray  kMEdarkgrey  kMEdarkred  kMEdarksalmon  \\\n",
      "ENSMUSG00000000028.15     0.046326     0.281104    0.002416      -0.037288   \n",
      "ENSMUSG00000000049.11     0.085562     0.019021    0.043369      -0.029127   \n",
      "ENSMUSG00000000056.7     -0.076833     0.364809   -0.041021      -0.019330   \n",
      "ENSMUSG00000000058.6      0.067065    -0.079345    0.123934      -0.123147   \n",
      "ENSMUSG00000000078.7      0.022696    -0.262500    0.315997      -0.069720   \n",
      "...                            ...          ...         ...            ...   \n",
      "ENSMUSG00000118372.1     -0.053852    -0.080446   -0.065777      -0.007750   \n",
      "ENSMUSG00000118380.1      0.218482     0.159569   -0.021681       0.059466   \n",
      "ENSMUSG00000118382.1      0.632026     0.379307    0.164577      -0.005698   \n",
      "ENSMUSG00000118383.1      0.311608     0.510190    0.216312      -0.034625   \n",
      "ENSMUSG00000118385.1     -0.168238     0.006255   -0.069012       0.201590   \n",
      "\n",
      "                       kMEdimgray  kMEdimgrey  ...  kMEpeachpuff    kMEred  \\\n",
      "ENSMUSG00000000028.15    0.330450    0.301203  ...      0.201091 -0.102235   \n",
      "ENSMUSG00000000049.11   -0.035549    0.076314  ...      0.173256 -0.026849   \n",
      "ENSMUSG00000000056.7     0.764345    0.714612  ...      0.051505  0.081698   \n",
      "ENSMUSG00000000058.6    -0.160883   -0.207862  ...      0.062356 -0.118943   \n",
      "ENSMUSG00000000078.7    -0.291355   -0.350185  ...      0.043426  0.184987   \n",
      "...                           ...         ...  ...           ...       ...   \n",
      "ENSMUSG00000118372.1    -0.028455    0.039792  ...      0.000369  0.076526   \n",
      "ENSMUSG00000118380.1     0.031092    0.014487  ...      0.013988 -0.106065   \n",
      "ENSMUSG00000118382.1     0.017591   -0.006523  ...      0.378918 -0.255817   \n",
      "ENSMUSG00000118383.1     0.407316    0.275756  ...      0.030519 -0.221894   \n",
      "ENSMUSG00000118385.1     0.169336    0.156790  ...     -0.079877  0.032862   \n",
      "\n",
      "                       kMEsaddlebrown  kMEsalmon  kMEsandybrown  kMEseashell  \\\n",
      "ENSMUSG00000000028.15       -0.086131  -0.070241       0.044625     0.044868   \n",
      "ENSMUSG00000000049.11        0.100789  -0.015194       0.142430     0.111254   \n",
      "ENSMUSG00000000056.7        -0.060884  -0.087908      -0.096312    -0.074026   \n",
      "ENSMUSG00000000058.6        -0.086913   0.014063       0.075172     0.067758   \n",
      "ENSMUSG00000000078.7         0.007159   0.256911      -0.022966    -0.016428   \n",
      "...                               ...        ...            ...          ...   \n",
      "ENSMUSG00000118372.1        -0.009195  -0.027566      -0.015568    -0.007228   \n",
      "ENSMUSG00000118380.1         0.183343   0.002115       0.205554    -0.007228   \n",
      "ENSMUSG00000118382.1         0.063980  -0.120711       0.122612     0.198313   \n",
      "ENSMUSG00000118383.1         0.112400  -0.112517       0.007010     0.068588   \n",
      "ENSMUSG00000118385.1        -0.065236  -0.112996      -0.075701    -0.007271   \n",
      "\n",
      "                       kMEsienna  kMEtomato  kMEwhite  kMEwhitesmoke  \n",
      "ENSMUSG00000000028.15  -0.106694  -0.006669  0.272543      -0.039935  \n",
      "ENSMUSG00000000049.11   0.093349  -0.028034 -0.012990       0.057945  \n",
      "ENSMUSG00000000056.7    0.039851  -0.021594  0.591635      -0.241849  \n",
      "ENSMUSG00000000058.6   -0.011880   0.037130  0.195970       0.121984  \n",
      "ENSMUSG00000000078.7    0.094770  -0.057529 -0.057784       0.674032  \n",
      "...                          ...        ...       ...            ...  \n",
      "ENSMUSG00000118372.1   -0.012493  -0.012735  0.012810      -0.117831  \n",
      "ENSMUSG00000118380.1   -0.020347   0.131443  0.003663       0.028951  \n",
      "ENSMUSG00000118382.1    0.577519  -0.030131  0.229694       0.266272  \n",
      "ENSMUSG00000118383.1   -0.002006  -0.011297  0.368927       0.142156  \n",
      "ENSMUSG00000118385.1   -0.056444  -0.005735  0.002853      -0.251432  \n",
      "\n",
      "[23844 rows x 30 columns]\n"
     ]
    },
    {
     "ename": "KeyError",
     "evalue": "\"None of [Index(['ENSMUSG00000009070', 'ENSMUSG00000009210', 'ENSMUSG00000009281',\\n       'ENSMUSG00000010492', 'ENSMUSG00000011154', 'ENSMUSG00000011305',\\n       'ENSMUSG00000019982', 'ENSMUSG00000020155', 'ENSMUSG00000021565',\\n       'ENSMUSG00000021950',\\n       ...\\n       'ENSMUSG00000094282', 'ENSMUSG00000094800', 'ENSMUSG00000096140',\\n       'ENSMUSG00000106887', 'ENSMUSG00000108657', 'ENSMUSG00000109704',\\n       'ENSMUSG00000110332', 'ENSMUSG00000114552', 'ENSMUSG00000114640',\\n       'ENSMUSG00000114858'],\\n      dtype='object', name='gene_id', length=116)] are in the [index]\"",
     "output_type": "error",
     "traceback": [
      "\u001b[0;31m---------------------------------------------------------------------------\u001b[0m",
      "\u001b[0;31mKeyError\u001b[0m                                  Traceback (most recent call last)",
      "Cell \u001b[0;32mIn[3], line 1\u001b[0m\n\u001b[0;32m----> 1\u001b[0m pyWGCNA_5xFAD\u001b[39m.\u001b[39;49mCoexpressionModulePlot(modules\u001b[39m=\u001b[39;49m[\u001b[39m\"\u001b[39;49m\u001b[39mcoral\u001b[39;49m\u001b[39m\"\u001b[39;49m], \n\u001b[1;32m      2\u001b[0m                                      numGenes\u001b[39m=\u001b[39;49m\u001b[39m10\u001b[39;49m, \n\u001b[1;32m      3\u001b[0m                                      numConnections\u001b[39m=\u001b[39;49m\u001b[39m100\u001b[39;49m, \n\u001b[1;32m      4\u001b[0m                                      minTOM\u001b[39m=\u001b[39;49m\u001b[39m0\u001b[39;49m)\n",
      "File \u001b[0;32m~/nlp/DL/97-bioinformatics/PyWGCNA/PyWGCNA/wgcna.py:3503\u001b[0m, in \u001b[0;36mWGCNA.CoexpressionModulePlot\u001b[0;34m(self, modules, numGenes, numConnections, minTOM, filters, file_name)\u001b[0m\n\u001b[1;32m   3501\u001b[0m \u001b[39mfor\u001b[39;00m module \u001b[39min\u001b[39;00m modules:\n\u001b[1;32m   3502\u001b[0m     \u001b[39mprint\u001b[39m(\u001b[39mself\u001b[39m\u001b[39m.\u001b[39msignedKME)\n\u001b[0;32m-> 3503\u001b[0m     mat \u001b[39m=\u001b[39m \u001b[39mself\u001b[39;49m\u001b[39m.\u001b[39;49msignedKME\u001b[39m.\u001b[39;49mloc[gene_id\u001b[39m.\u001b[39;49mindex]\u001b[39m.\u001b[39msort_values([\u001b[39m\"\u001b[39m\u001b[39mkME\u001b[39m\u001b[39m\"\u001b[39m \u001b[39m+\u001b[39m module], ascending\u001b[39m=\u001b[39m\u001b[39mFalse\u001b[39;00m)\n\u001b[1;32m   3504\u001b[0m     mat \u001b[39m=\u001b[39m mat\u001b[39m.\u001b[39miloc[:numGenes, :]\n\u001b[1;32m   3505\u001b[0m     genes \u001b[39m=\u001b[39m genes \u001b[39m+\u001b[39m mat\u001b[39m.\u001b[39mindex\u001b[39m.\u001b[39mtolist()\n",
      "File \u001b[0;32m~/.conda/envs/bio/lib/python3.11/site-packages/pandas/core/indexing.py:1191\u001b[0m, in \u001b[0;36m_LocationIndexer.__getitem__\u001b[0;34m(self, key)\u001b[0m\n\u001b[1;32m   1189\u001b[0m maybe_callable \u001b[39m=\u001b[39m com\u001b[39m.\u001b[39mapply_if_callable(key, \u001b[39mself\u001b[39m\u001b[39m.\u001b[39mobj)\n\u001b[1;32m   1190\u001b[0m maybe_callable \u001b[39m=\u001b[39m \u001b[39mself\u001b[39m\u001b[39m.\u001b[39m_check_deprecated_callable_usage(key, maybe_callable)\n\u001b[0;32m-> 1191\u001b[0m \u001b[39mreturn\u001b[39;00m \u001b[39mself\u001b[39;49m\u001b[39m.\u001b[39;49m_getitem_axis(maybe_callable, axis\u001b[39m=\u001b[39;49maxis)\n",
      "File \u001b[0;32m~/.conda/envs/bio/lib/python3.11/site-packages/pandas/core/indexing.py:1420\u001b[0m, in \u001b[0;36m_LocIndexer._getitem_axis\u001b[0;34m(self, key, axis)\u001b[0m\n\u001b[1;32m   1417\u001b[0m     \u001b[39mif\u001b[39;00m \u001b[39mhasattr\u001b[39m(key, \u001b[39m\"\u001b[39m\u001b[39mndim\u001b[39m\u001b[39m\"\u001b[39m) \u001b[39mand\u001b[39;00m key\u001b[39m.\u001b[39mndim \u001b[39m>\u001b[39m \u001b[39m1\u001b[39m:\n\u001b[1;32m   1418\u001b[0m         \u001b[39mraise\u001b[39;00m \u001b[39mValueError\u001b[39;00m(\u001b[39m\"\u001b[39m\u001b[39mCannot index with multidimensional key\u001b[39m\u001b[39m\"\u001b[39m)\n\u001b[0;32m-> 1420\u001b[0m     \u001b[39mreturn\u001b[39;00m \u001b[39mself\u001b[39;49m\u001b[39m.\u001b[39;49m_getitem_iterable(key, axis\u001b[39m=\u001b[39;49maxis)\n\u001b[1;32m   1422\u001b[0m \u001b[39m# nested tuple slicing\u001b[39;00m\n\u001b[1;32m   1423\u001b[0m \u001b[39mif\u001b[39;00m is_nested_tuple(key, labels):\n",
      "File \u001b[0;32m~/.conda/envs/bio/lib/python3.11/site-packages/pandas/core/indexing.py:1360\u001b[0m, in \u001b[0;36m_LocIndexer._getitem_iterable\u001b[0;34m(self, key, axis)\u001b[0m\n\u001b[1;32m   1357\u001b[0m \u001b[39mself\u001b[39m\u001b[39m.\u001b[39m_validate_key(key, axis)\n\u001b[1;32m   1359\u001b[0m \u001b[39m# A collection of keys\u001b[39;00m\n\u001b[0;32m-> 1360\u001b[0m keyarr, indexer \u001b[39m=\u001b[39m \u001b[39mself\u001b[39;49m\u001b[39m.\u001b[39;49m_get_listlike_indexer(key, axis)\n\u001b[1;32m   1361\u001b[0m \u001b[39mreturn\u001b[39;00m \u001b[39mself\u001b[39m\u001b[39m.\u001b[39mobj\u001b[39m.\u001b[39m_reindex_with_indexers(\n\u001b[1;32m   1362\u001b[0m     {axis: [keyarr, indexer]}, copy\u001b[39m=\u001b[39m\u001b[39mTrue\u001b[39;00m, allow_dups\u001b[39m=\u001b[39m\u001b[39mTrue\u001b[39;00m\n\u001b[1;32m   1363\u001b[0m )\n",
      "File \u001b[0;32m~/.conda/envs/bio/lib/python3.11/site-packages/pandas/core/indexing.py:1558\u001b[0m, in \u001b[0;36m_LocIndexer._get_listlike_indexer\u001b[0;34m(self, key, axis)\u001b[0m\n\u001b[1;32m   1555\u001b[0m ax \u001b[39m=\u001b[39m \u001b[39mself\u001b[39m\u001b[39m.\u001b[39mobj\u001b[39m.\u001b[39m_get_axis(axis)\n\u001b[1;32m   1556\u001b[0m axis_name \u001b[39m=\u001b[39m \u001b[39mself\u001b[39m\u001b[39m.\u001b[39mobj\u001b[39m.\u001b[39m_get_axis_name(axis)\n\u001b[0;32m-> 1558\u001b[0m keyarr, indexer \u001b[39m=\u001b[39m ax\u001b[39m.\u001b[39;49m_get_indexer_strict(key, axis_name)\n\u001b[1;32m   1560\u001b[0m \u001b[39mreturn\u001b[39;00m keyarr, indexer\n",
      "File \u001b[0;32m~/.conda/envs/bio/lib/python3.11/site-packages/pandas/core/indexes/base.py:6200\u001b[0m, in \u001b[0;36mIndex._get_indexer_strict\u001b[0;34m(self, key, axis_name)\u001b[0m\n\u001b[1;32m   6197\u001b[0m \u001b[39melse\u001b[39;00m:\n\u001b[1;32m   6198\u001b[0m     keyarr, indexer, new_indexer \u001b[39m=\u001b[39m \u001b[39mself\u001b[39m\u001b[39m.\u001b[39m_reindex_non_unique(keyarr)\n\u001b[0;32m-> 6200\u001b[0m \u001b[39mself\u001b[39;49m\u001b[39m.\u001b[39;49m_raise_if_missing(keyarr, indexer, axis_name)\n\u001b[1;32m   6202\u001b[0m keyarr \u001b[39m=\u001b[39m \u001b[39mself\u001b[39m\u001b[39m.\u001b[39mtake(indexer)\n\u001b[1;32m   6203\u001b[0m \u001b[39mif\u001b[39;00m \u001b[39misinstance\u001b[39m(key, Index):\n\u001b[1;32m   6204\u001b[0m     \u001b[39m# GH 42790 - Preserve name from an Index\u001b[39;00m\n",
      "File \u001b[0;32m~/.conda/envs/bio/lib/python3.11/site-packages/pandas/core/indexes/base.py:6249\u001b[0m, in \u001b[0;36mIndex._raise_if_missing\u001b[0;34m(self, key, indexer, axis_name)\u001b[0m\n\u001b[1;32m   6247\u001b[0m \u001b[39mif\u001b[39;00m nmissing:\n\u001b[1;32m   6248\u001b[0m     \u001b[39mif\u001b[39;00m nmissing \u001b[39m==\u001b[39m \u001b[39mlen\u001b[39m(indexer):\n\u001b[0;32m-> 6249\u001b[0m         \u001b[39mraise\u001b[39;00m \u001b[39mKeyError\u001b[39;00m(\u001b[39mf\u001b[39m\u001b[39m\"\u001b[39m\u001b[39mNone of [\u001b[39m\u001b[39m{\u001b[39;00mkey\u001b[39m}\u001b[39;00m\u001b[39m] are in the [\u001b[39m\u001b[39m{\u001b[39;00maxis_name\u001b[39m}\u001b[39;00m\u001b[39m]\u001b[39m\u001b[39m\"\u001b[39m)\n\u001b[1;32m   6251\u001b[0m     not_found \u001b[39m=\u001b[39m \u001b[39mlist\u001b[39m(ensure_index(key)[missing_mask\u001b[39m.\u001b[39mnonzero()[\u001b[39m0\u001b[39m]]\u001b[39m.\u001b[39munique())\n\u001b[1;32m   6252\u001b[0m     \u001b[39mraise\u001b[39;00m \u001b[39mKeyError\u001b[39;00m(\u001b[39mf\u001b[39m\u001b[39m\"\u001b[39m\u001b[39m{\u001b[39;00mnot_found\u001b[39m}\u001b[39;00m\u001b[39m not in index\u001b[39m\u001b[39m\"\u001b[39m)\n",
      "\u001b[0;31mKeyError\u001b[0m: \"None of [Index(['ENSMUSG00000009070', 'ENSMUSG00000009210', 'ENSMUSG00000009281',\\n       'ENSMUSG00000010492', 'ENSMUSG00000011154', 'ENSMUSG00000011305',\\n       'ENSMUSG00000019982', 'ENSMUSG00000020155', 'ENSMUSG00000021565',\\n       'ENSMUSG00000021950',\\n       ...\\n       'ENSMUSG00000094282', 'ENSMUSG00000094800', 'ENSMUSG00000096140',\\n       'ENSMUSG00000106887', 'ENSMUSG00000108657', 'ENSMUSG00000109704',\\n       'ENSMUSG00000110332', 'ENSMUSG00000114552', 'ENSMUSG00000114640',\\n       'ENSMUSG00000114858'],\\n      dtype='object', name='gene_id', length=116)] are in the [index]\""
     ]
    }
   ],
   "source": [
    "pyWGCNA_5xFAD.CoexpressionModulePlot(modules=[\"coral\"], \n",
    "                                     numGenes=10, \n",
    "                                     numConnections=100, \n",
    "                                     minTOM=0)"
   ]
  },
  {
   "cell_type": "markdown",
   "metadata": {},
   "source": [
    "如果你想显示多个模块的网络并显示每个模块之间的连接，你可以简单地向`CoexpressionModulePlot()`函数提供一个模块列表。            \n",
    "在这个例子中，我们显示了所有找到的模块的网络："
   ]
  },
  {
   "cell_type": "code",
   "execution_count": 11,
   "metadata": {},
   "outputs": [
    {
     "ename": "KeyError",
     "evalue": "\"None of [Index(['ENSMUSG00000000028', 'ENSMUSG00000000049', 'ENSMUSG00000000056',\\n       'ENSMUSG00000000058', 'ENSMUSG00000000078', 'ENSMUSG00000000085',\\n       'ENSMUSG00000000088', 'ENSMUSG00000000120', 'ENSMUSG00000000125',\\n       'ENSMUSG00000000126',\\n       ...\\n       'ENSMUSG00000118346', 'ENSMUSG00000118353', 'ENSMUSG00000118369',\\n       'ENSMUSG00000118370', 'ENSMUSG00000118371', 'ENSMUSG00000118372',\\n       'ENSMUSG00000118380', 'ENSMUSG00000118382', 'ENSMUSG00000118383',\\n       'ENSMUSG00000118385'],\\n      dtype='object', name='gene_id', length=23844)] are in the [index]\"",
     "output_type": "error",
     "traceback": [
      "\u001b[0;31m---------------------------------------------------------------------------\u001b[0m",
      "\u001b[0;31mKeyError\u001b[0m                                  Traceback (most recent call last)",
      "Cell \u001b[0;32mIn[11], line 2\u001b[0m\n\u001b[1;32m      1\u001b[0m modules \u001b[39m=\u001b[39m pyWGCNA_5xFAD\u001b[39m.\u001b[39mdatExpr\u001b[39m.\u001b[39mvar\u001b[39m.\u001b[39mmoduleColors\u001b[39m.\u001b[39munique()\u001b[39m.\u001b[39mtolist()\n\u001b[0;32m----> 2\u001b[0m pyWGCNA_5xFAD\u001b[39m.\u001b[39;49mCoexpressionModulePlot(modules\u001b[39m=\u001b[39;49mmodules, numGenes\u001b[39m=\u001b[39;49m\u001b[39m100\u001b[39;49m, numConnections\u001b[39m=\u001b[39;49m\u001b[39m1000\u001b[39;49m, minTOM\u001b[39m=\u001b[39;49m\u001b[39m0\u001b[39;49m, file_name\u001b[39m=\u001b[39;49m\u001b[39m\"\u001b[39;49m\u001b[39mall\u001b[39;49m\u001b[39m\"\u001b[39;49m)\n",
      "File \u001b[0;32m~/nlp/DL/97-bioinformatics/PyWGCNA/PyWGCNA/wgcna.py:3502\u001b[0m, in \u001b[0;36mWGCNA.CoexpressionModulePlot\u001b[0;34m(self, modules, numGenes, numConnections, minTOM, filters, file_name)\u001b[0m\n\u001b[1;32m   3500\u001b[0m genes \u001b[39m=\u001b[39m []\n\u001b[1;32m   3501\u001b[0m \u001b[39mfor\u001b[39;00m module \u001b[39min\u001b[39;00m modules:\n\u001b[0;32m-> 3502\u001b[0m     mat \u001b[39m=\u001b[39m \u001b[39mself\u001b[39;49m\u001b[39m.\u001b[39;49msignedKME\u001b[39m.\u001b[39;49mloc[gene_id\u001b[39m.\u001b[39;49mindex]\u001b[39m.\u001b[39msort_values([\u001b[39m\"\u001b[39m\u001b[39mkME\u001b[39m\u001b[39m\"\u001b[39m \u001b[39m+\u001b[39m module], ascending\u001b[39m=\u001b[39m\u001b[39mFalse\u001b[39;00m)\n\u001b[1;32m   3503\u001b[0m     mat \u001b[39m=\u001b[39m mat\u001b[39m.\u001b[39miloc[:numGenes, :]\n\u001b[1;32m   3504\u001b[0m     genes \u001b[39m=\u001b[39m genes \u001b[39m+\u001b[39m mat\u001b[39m.\u001b[39mindex\u001b[39m.\u001b[39mtolist()\n",
      "File \u001b[0;32m~/.conda/envs/bio/lib/python3.11/site-packages/pandas/core/indexing.py:1191\u001b[0m, in \u001b[0;36m_LocationIndexer.__getitem__\u001b[0;34m(self, key)\u001b[0m\n\u001b[1;32m   1189\u001b[0m maybe_callable \u001b[39m=\u001b[39m com\u001b[39m.\u001b[39mapply_if_callable(key, \u001b[39mself\u001b[39m\u001b[39m.\u001b[39mobj)\n\u001b[1;32m   1190\u001b[0m maybe_callable \u001b[39m=\u001b[39m \u001b[39mself\u001b[39m\u001b[39m.\u001b[39m_check_deprecated_callable_usage(key, maybe_callable)\n\u001b[0;32m-> 1191\u001b[0m \u001b[39mreturn\u001b[39;00m \u001b[39mself\u001b[39;49m\u001b[39m.\u001b[39;49m_getitem_axis(maybe_callable, axis\u001b[39m=\u001b[39;49maxis)\n",
      "File \u001b[0;32m~/.conda/envs/bio/lib/python3.11/site-packages/pandas/core/indexing.py:1420\u001b[0m, in \u001b[0;36m_LocIndexer._getitem_axis\u001b[0;34m(self, key, axis)\u001b[0m\n\u001b[1;32m   1417\u001b[0m     \u001b[39mif\u001b[39;00m \u001b[39mhasattr\u001b[39m(key, \u001b[39m\"\u001b[39m\u001b[39mndim\u001b[39m\u001b[39m\"\u001b[39m) \u001b[39mand\u001b[39;00m key\u001b[39m.\u001b[39mndim \u001b[39m>\u001b[39m \u001b[39m1\u001b[39m:\n\u001b[1;32m   1418\u001b[0m         \u001b[39mraise\u001b[39;00m \u001b[39mValueError\u001b[39;00m(\u001b[39m\"\u001b[39m\u001b[39mCannot index with multidimensional key\u001b[39m\u001b[39m\"\u001b[39m)\n\u001b[0;32m-> 1420\u001b[0m     \u001b[39mreturn\u001b[39;00m \u001b[39mself\u001b[39;49m\u001b[39m.\u001b[39;49m_getitem_iterable(key, axis\u001b[39m=\u001b[39;49maxis)\n\u001b[1;32m   1422\u001b[0m \u001b[39m# nested tuple slicing\u001b[39;00m\n\u001b[1;32m   1423\u001b[0m \u001b[39mif\u001b[39;00m is_nested_tuple(key, labels):\n",
      "File \u001b[0;32m~/.conda/envs/bio/lib/python3.11/site-packages/pandas/core/indexing.py:1360\u001b[0m, in \u001b[0;36m_LocIndexer._getitem_iterable\u001b[0;34m(self, key, axis)\u001b[0m\n\u001b[1;32m   1357\u001b[0m \u001b[39mself\u001b[39m\u001b[39m.\u001b[39m_validate_key(key, axis)\n\u001b[1;32m   1359\u001b[0m \u001b[39m# A collection of keys\u001b[39;00m\n\u001b[0;32m-> 1360\u001b[0m keyarr, indexer \u001b[39m=\u001b[39m \u001b[39mself\u001b[39;49m\u001b[39m.\u001b[39;49m_get_listlike_indexer(key, axis)\n\u001b[1;32m   1361\u001b[0m \u001b[39mreturn\u001b[39;00m \u001b[39mself\u001b[39m\u001b[39m.\u001b[39mobj\u001b[39m.\u001b[39m_reindex_with_indexers(\n\u001b[1;32m   1362\u001b[0m     {axis: [keyarr, indexer]}, copy\u001b[39m=\u001b[39m\u001b[39mTrue\u001b[39;00m, allow_dups\u001b[39m=\u001b[39m\u001b[39mTrue\u001b[39;00m\n\u001b[1;32m   1363\u001b[0m )\n",
      "File \u001b[0;32m~/.conda/envs/bio/lib/python3.11/site-packages/pandas/core/indexing.py:1558\u001b[0m, in \u001b[0;36m_LocIndexer._get_listlike_indexer\u001b[0;34m(self, key, axis)\u001b[0m\n\u001b[1;32m   1555\u001b[0m ax \u001b[39m=\u001b[39m \u001b[39mself\u001b[39m\u001b[39m.\u001b[39mobj\u001b[39m.\u001b[39m_get_axis(axis)\n\u001b[1;32m   1556\u001b[0m axis_name \u001b[39m=\u001b[39m \u001b[39mself\u001b[39m\u001b[39m.\u001b[39mobj\u001b[39m.\u001b[39m_get_axis_name(axis)\n\u001b[0;32m-> 1558\u001b[0m keyarr, indexer \u001b[39m=\u001b[39m ax\u001b[39m.\u001b[39;49m_get_indexer_strict(key, axis_name)\n\u001b[1;32m   1560\u001b[0m \u001b[39mreturn\u001b[39;00m keyarr, indexer\n",
      "File \u001b[0;32m~/.conda/envs/bio/lib/python3.11/site-packages/pandas/core/indexes/base.py:6200\u001b[0m, in \u001b[0;36mIndex._get_indexer_strict\u001b[0;34m(self, key, axis_name)\u001b[0m\n\u001b[1;32m   6197\u001b[0m \u001b[39melse\u001b[39;00m:\n\u001b[1;32m   6198\u001b[0m     keyarr, indexer, new_indexer \u001b[39m=\u001b[39m \u001b[39mself\u001b[39m\u001b[39m.\u001b[39m_reindex_non_unique(keyarr)\n\u001b[0;32m-> 6200\u001b[0m \u001b[39mself\u001b[39;49m\u001b[39m.\u001b[39;49m_raise_if_missing(keyarr, indexer, axis_name)\n\u001b[1;32m   6202\u001b[0m keyarr \u001b[39m=\u001b[39m \u001b[39mself\u001b[39m\u001b[39m.\u001b[39mtake(indexer)\n\u001b[1;32m   6203\u001b[0m \u001b[39mif\u001b[39;00m \u001b[39misinstance\u001b[39m(key, Index):\n\u001b[1;32m   6204\u001b[0m     \u001b[39m# GH 42790 - Preserve name from an Index\u001b[39;00m\n",
      "File \u001b[0;32m~/.conda/envs/bio/lib/python3.11/site-packages/pandas/core/indexes/base.py:6249\u001b[0m, in \u001b[0;36mIndex._raise_if_missing\u001b[0;34m(self, key, indexer, axis_name)\u001b[0m\n\u001b[1;32m   6247\u001b[0m \u001b[39mif\u001b[39;00m nmissing:\n\u001b[1;32m   6248\u001b[0m     \u001b[39mif\u001b[39;00m nmissing \u001b[39m==\u001b[39m \u001b[39mlen\u001b[39m(indexer):\n\u001b[0;32m-> 6249\u001b[0m         \u001b[39mraise\u001b[39;00m \u001b[39mKeyError\u001b[39;00m(\u001b[39mf\u001b[39m\u001b[39m\"\u001b[39m\u001b[39mNone of [\u001b[39m\u001b[39m{\u001b[39;00mkey\u001b[39m}\u001b[39;00m\u001b[39m] are in the [\u001b[39m\u001b[39m{\u001b[39;00maxis_name\u001b[39m}\u001b[39;00m\u001b[39m]\u001b[39m\u001b[39m\"\u001b[39m)\n\u001b[1;32m   6251\u001b[0m     not_found \u001b[39m=\u001b[39m \u001b[39mlist\u001b[39m(ensure_index(key)[missing_mask\u001b[39m.\u001b[39mnonzero()[\u001b[39m0\u001b[39m]]\u001b[39m.\u001b[39munique())\n\u001b[1;32m   6252\u001b[0m     \u001b[39mraise\u001b[39;00m \u001b[39mKeyError\u001b[39;00m(\u001b[39mf\u001b[39m\u001b[39m\"\u001b[39m\u001b[39m{\u001b[39;00mnot_found\u001b[39m}\u001b[39;00m\u001b[39m not in index\u001b[39m\u001b[39m\"\u001b[39m)\n",
      "\u001b[0;31mKeyError\u001b[0m: \"None of [Index(['ENSMUSG00000000028', 'ENSMUSG00000000049', 'ENSMUSG00000000056',\\n       'ENSMUSG00000000058', 'ENSMUSG00000000078', 'ENSMUSG00000000085',\\n       'ENSMUSG00000000088', 'ENSMUSG00000000120', 'ENSMUSG00000000125',\\n       'ENSMUSG00000000126',\\n       ...\\n       'ENSMUSG00000118346', 'ENSMUSG00000118353', 'ENSMUSG00000118369',\\n       'ENSMUSG00000118370', 'ENSMUSG00000118371', 'ENSMUSG00000118372',\\n       'ENSMUSG00000118380', 'ENSMUSG00000118382', 'ENSMUSG00000118383',\\n       'ENSMUSG00000118385'],\\n      dtype='object', name='gene_id', length=23844)] are in the [index]\""
     ]
    }
   ],
   "source": [
    "modules = pyWGCNA_5xFAD.datExpr.var.moduleColors.unique().tolist()\n",
    "pyWGCNA_5xFAD.CoexpressionModulePlot(modules=modules, numGenes=100, numConnections=1000, minTOM=0, file_name=\"all\")"
   ]
  },
  {
   "cell_type": "markdown",
   "metadata": {},
   "source": [
    "您还可以根据`datExpr.var`中的信息过滤基因。想象一下，我们只想在深灰色模块中看到蛋白质编码基因。"
   ]
  },
  {
   "cell_type": "code",
   "execution_count": 12,
   "metadata": {},
   "outputs": [
    {
     "ename": "KeyError",
     "evalue": "\"None of [Index(['ENSMUSG00000009070', 'ENSMUSG00000009210', 'ENSMUSG00000009281',\\n       'ENSMUSG00000011154', 'ENSMUSG00000011305', 'ENSMUSG00000019982',\\n       'ENSMUSG00000020155', 'ENSMUSG00000021565', 'ENSMUSG00000021950',\\n       'ENSMUSG00000022759', 'ENSMUSG00000022805', 'ENSMUSG00000023084',\\n       'ENSMUSG00000024033', 'ENSMUSG00000024175', 'ENSMUSG00000024552',\\n       'ENSMUSG00000025963', 'ENSMUSG00000026301', 'ENSMUSG00000026679',\\n       'ENSMUSG00000026874', 'ENSMUSG00000026894', 'ENSMUSG00000027344',\\n       'ENSMUSG00000027360', 'ENSMUSG00000027386', 'ENSMUSG00000027702',\\n       'ENSMUSG00000028186', 'ENSMUSG00000028441', 'ENSMUSG00000028463',\\n       'ENSMUSG00000028523', 'ENSMUSG00000029074', 'ENSMUSG00000029155',\\n       'ENSMUSG00000029182', 'ENSMUSG00000030125', 'ENSMUSG00000030708',\\n       'ENSMUSG00000031022', 'ENSMUSG00000031831', 'ENSMUSG00000031893',\\n       'ENSMUSG00000032221', 'ENSMUSG00000032454', 'ENSMUSG00000032514',\\n       'ENSMUSG00000032595', 'ENSMUSG00000033053', 'ENSMUSG00000034467',\\n       'ENSMUSG00000035179', 'ENSMUSG00000035295', 'ENSMUSG00000035578',\\n       'ENSMUSG00000037101', 'ENSMUSG00000037627', 'ENSMUSG00000037683',\\n       'ENSMUSG00000037716', 'ENSMUSG00000038840', 'ENSMUSG00000039099',\\n       'ENSMUSG00000039155', 'ENSMUSG00000039391', 'ENSMUSG00000039552',\\n       'ENSMUSG00000039720', 'ENSMUSG00000040978', 'ENSMUSG00000041323',\\n       'ENSMUSG00000041660', 'ENSMUSG00000041673', 'ENSMUSG00000042045',\\n       'ENSMUSG00000042707', 'ENSMUSG00000042788', 'ENSMUSG00000043164',\\n       'ENSMUSG00000043541', 'ENSMUSG00000043592', 'ENSMUSG00000043621',\\n       'ENSMUSG00000044362', 'ENSMUSG00000044772', 'ENSMUSG00000045655',\\n       'ENSMUSG00000046242', 'ENSMUSG00000046886', 'ENSMUSG00000047139',\\n       'ENSMUSG00000047394', 'ENSMUSG00000047671', 'ENSMUSG00000050157',\\n       'ENSMUSG00000050625', 'ENSMUSG00000053161', 'ENSMUSG00000054146',\\n       'ENSMUSG00000054320', 'ENSMUSG00000056215', 'ENSMUSG00000057816',\\n       'ENSMUSG00000058159', 'ENSMUSG00000062859', 'ENSMUSG00000063409',\\n       'ENSMUSG00000063529', 'ENSMUSG00000063704', 'ENSMUSG00000064280',\\n       'ENSMUSG00000070306', 'ENSMUSG00000071202', 'ENSMUSG00000071398',\\n       'ENSMUSG00000072473', 'ENSMUSG00000078451', 'ENSMUSG00000079502',\\n       'ENSMUSG00000090336', 'ENSMUSG00000090439', 'ENSMUSG00000094282',\\n       'ENSMUSG00000096140', 'ENSMUSG00000110332'],\\n      dtype='object', name='gene_id')] are in the [index]\"",
     "output_type": "error",
     "traceback": [
      "\u001b[0;31m---------------------------------------------------------------------------\u001b[0m",
      "\u001b[0;31mKeyError\u001b[0m                                  Traceback (most recent call last)",
      "Cell \u001b[0;32mIn[12], line 2\u001b[0m\n\u001b[1;32m      1\u001b[0m filters \u001b[39m=\u001b[39m {\u001b[39m\"\u001b[39m\u001b[39mgene_biotype\u001b[39m\u001b[39m\"\u001b[39m: [\u001b[39m\"\u001b[39m\u001b[39mprotein_coding\u001b[39m\u001b[39m\"\u001b[39m]}\n\u001b[0;32m----> 2\u001b[0m pyWGCNA_5xFAD\u001b[39m.\u001b[39;49mCoexpressionModulePlot(modules\u001b[39m=\u001b[39;49m[\u001b[39m\"\u001b[39;49m\u001b[39mcoral\u001b[39;49m\u001b[39m\"\u001b[39;49m], filters\u001b[39m=\u001b[39;49mfilters, file_name\u001b[39m=\u001b[39;49m\u001b[39m\"\u001b[39;49m\u001b[39mdarkgray_protein_coding\u001b[39;49m\u001b[39m\"\u001b[39;49m)\n",
      "File \u001b[0;32m~/nlp/DL/97-bioinformatics/PyWGCNA/PyWGCNA/wgcna.py:3502\u001b[0m, in \u001b[0;36mWGCNA.CoexpressionModulePlot\u001b[0;34m(self, modules, numGenes, numConnections, minTOM, filters, file_name)\u001b[0m\n\u001b[1;32m   3500\u001b[0m genes \u001b[39m=\u001b[39m []\n\u001b[1;32m   3501\u001b[0m \u001b[39mfor\u001b[39;00m module \u001b[39min\u001b[39;00m modules:\n\u001b[0;32m-> 3502\u001b[0m     mat \u001b[39m=\u001b[39m \u001b[39mself\u001b[39;49m\u001b[39m.\u001b[39;49msignedKME\u001b[39m.\u001b[39;49mloc[gene_id\u001b[39m.\u001b[39;49mindex]\u001b[39m.\u001b[39msort_values([\u001b[39m\"\u001b[39m\u001b[39mkME\u001b[39m\u001b[39m\"\u001b[39m \u001b[39m+\u001b[39m module], ascending\u001b[39m=\u001b[39m\u001b[39mFalse\u001b[39;00m)\n\u001b[1;32m   3503\u001b[0m     mat \u001b[39m=\u001b[39m mat\u001b[39m.\u001b[39miloc[:numGenes, :]\n\u001b[1;32m   3504\u001b[0m     genes \u001b[39m=\u001b[39m genes \u001b[39m+\u001b[39m mat\u001b[39m.\u001b[39mindex\u001b[39m.\u001b[39mtolist()\n",
      "File \u001b[0;32m~/.conda/envs/bio/lib/python3.11/site-packages/pandas/core/indexing.py:1191\u001b[0m, in \u001b[0;36m_LocationIndexer.__getitem__\u001b[0;34m(self, key)\u001b[0m\n\u001b[1;32m   1189\u001b[0m maybe_callable \u001b[39m=\u001b[39m com\u001b[39m.\u001b[39mapply_if_callable(key, \u001b[39mself\u001b[39m\u001b[39m.\u001b[39mobj)\n\u001b[1;32m   1190\u001b[0m maybe_callable \u001b[39m=\u001b[39m \u001b[39mself\u001b[39m\u001b[39m.\u001b[39m_check_deprecated_callable_usage(key, maybe_callable)\n\u001b[0;32m-> 1191\u001b[0m \u001b[39mreturn\u001b[39;00m \u001b[39mself\u001b[39;49m\u001b[39m.\u001b[39;49m_getitem_axis(maybe_callable, axis\u001b[39m=\u001b[39;49maxis)\n",
      "File \u001b[0;32m~/.conda/envs/bio/lib/python3.11/site-packages/pandas/core/indexing.py:1420\u001b[0m, in \u001b[0;36m_LocIndexer._getitem_axis\u001b[0;34m(self, key, axis)\u001b[0m\n\u001b[1;32m   1417\u001b[0m     \u001b[39mif\u001b[39;00m \u001b[39mhasattr\u001b[39m(key, \u001b[39m\"\u001b[39m\u001b[39mndim\u001b[39m\u001b[39m\"\u001b[39m) \u001b[39mand\u001b[39;00m key\u001b[39m.\u001b[39mndim \u001b[39m>\u001b[39m \u001b[39m1\u001b[39m:\n\u001b[1;32m   1418\u001b[0m         \u001b[39mraise\u001b[39;00m \u001b[39mValueError\u001b[39;00m(\u001b[39m\"\u001b[39m\u001b[39mCannot index with multidimensional key\u001b[39m\u001b[39m\"\u001b[39m)\n\u001b[0;32m-> 1420\u001b[0m     \u001b[39mreturn\u001b[39;00m \u001b[39mself\u001b[39;49m\u001b[39m.\u001b[39;49m_getitem_iterable(key, axis\u001b[39m=\u001b[39;49maxis)\n\u001b[1;32m   1422\u001b[0m \u001b[39m# nested tuple slicing\u001b[39;00m\n\u001b[1;32m   1423\u001b[0m \u001b[39mif\u001b[39;00m is_nested_tuple(key, labels):\n",
      "File \u001b[0;32m~/.conda/envs/bio/lib/python3.11/site-packages/pandas/core/indexing.py:1360\u001b[0m, in \u001b[0;36m_LocIndexer._getitem_iterable\u001b[0;34m(self, key, axis)\u001b[0m\n\u001b[1;32m   1357\u001b[0m \u001b[39mself\u001b[39m\u001b[39m.\u001b[39m_validate_key(key, axis)\n\u001b[1;32m   1359\u001b[0m \u001b[39m# A collection of keys\u001b[39;00m\n\u001b[0;32m-> 1360\u001b[0m keyarr, indexer \u001b[39m=\u001b[39m \u001b[39mself\u001b[39;49m\u001b[39m.\u001b[39;49m_get_listlike_indexer(key, axis)\n\u001b[1;32m   1361\u001b[0m \u001b[39mreturn\u001b[39;00m \u001b[39mself\u001b[39m\u001b[39m.\u001b[39mobj\u001b[39m.\u001b[39m_reindex_with_indexers(\n\u001b[1;32m   1362\u001b[0m     {axis: [keyarr, indexer]}, copy\u001b[39m=\u001b[39m\u001b[39mTrue\u001b[39;00m, allow_dups\u001b[39m=\u001b[39m\u001b[39mTrue\u001b[39;00m\n\u001b[1;32m   1363\u001b[0m )\n",
      "File \u001b[0;32m~/.conda/envs/bio/lib/python3.11/site-packages/pandas/core/indexing.py:1558\u001b[0m, in \u001b[0;36m_LocIndexer._get_listlike_indexer\u001b[0;34m(self, key, axis)\u001b[0m\n\u001b[1;32m   1555\u001b[0m ax \u001b[39m=\u001b[39m \u001b[39mself\u001b[39m\u001b[39m.\u001b[39mobj\u001b[39m.\u001b[39m_get_axis(axis)\n\u001b[1;32m   1556\u001b[0m axis_name \u001b[39m=\u001b[39m \u001b[39mself\u001b[39m\u001b[39m.\u001b[39mobj\u001b[39m.\u001b[39m_get_axis_name(axis)\n\u001b[0;32m-> 1558\u001b[0m keyarr, indexer \u001b[39m=\u001b[39m ax\u001b[39m.\u001b[39;49m_get_indexer_strict(key, axis_name)\n\u001b[1;32m   1560\u001b[0m \u001b[39mreturn\u001b[39;00m keyarr, indexer\n",
      "File \u001b[0;32m~/.conda/envs/bio/lib/python3.11/site-packages/pandas/core/indexes/base.py:6200\u001b[0m, in \u001b[0;36mIndex._get_indexer_strict\u001b[0;34m(self, key, axis_name)\u001b[0m\n\u001b[1;32m   6197\u001b[0m \u001b[39melse\u001b[39;00m:\n\u001b[1;32m   6198\u001b[0m     keyarr, indexer, new_indexer \u001b[39m=\u001b[39m \u001b[39mself\u001b[39m\u001b[39m.\u001b[39m_reindex_non_unique(keyarr)\n\u001b[0;32m-> 6200\u001b[0m \u001b[39mself\u001b[39;49m\u001b[39m.\u001b[39;49m_raise_if_missing(keyarr, indexer, axis_name)\n\u001b[1;32m   6202\u001b[0m keyarr \u001b[39m=\u001b[39m \u001b[39mself\u001b[39m\u001b[39m.\u001b[39mtake(indexer)\n\u001b[1;32m   6203\u001b[0m \u001b[39mif\u001b[39;00m \u001b[39misinstance\u001b[39m(key, Index):\n\u001b[1;32m   6204\u001b[0m     \u001b[39m# GH 42790 - Preserve name from an Index\u001b[39;00m\n",
      "File \u001b[0;32m~/.conda/envs/bio/lib/python3.11/site-packages/pandas/core/indexes/base.py:6249\u001b[0m, in \u001b[0;36mIndex._raise_if_missing\u001b[0;34m(self, key, indexer, axis_name)\u001b[0m\n\u001b[1;32m   6247\u001b[0m \u001b[39mif\u001b[39;00m nmissing:\n\u001b[1;32m   6248\u001b[0m     \u001b[39mif\u001b[39;00m nmissing \u001b[39m==\u001b[39m \u001b[39mlen\u001b[39m(indexer):\n\u001b[0;32m-> 6249\u001b[0m         \u001b[39mraise\u001b[39;00m \u001b[39mKeyError\u001b[39;00m(\u001b[39mf\u001b[39m\u001b[39m\"\u001b[39m\u001b[39mNone of [\u001b[39m\u001b[39m{\u001b[39;00mkey\u001b[39m}\u001b[39;00m\u001b[39m] are in the [\u001b[39m\u001b[39m{\u001b[39;00maxis_name\u001b[39m}\u001b[39;00m\u001b[39m]\u001b[39m\u001b[39m\"\u001b[39m)\n\u001b[1;32m   6251\u001b[0m     not_found \u001b[39m=\u001b[39m \u001b[39mlist\u001b[39m(ensure_index(key)[missing_mask\u001b[39m.\u001b[39mnonzero()[\u001b[39m0\u001b[39m]]\u001b[39m.\u001b[39munique())\n\u001b[1;32m   6252\u001b[0m     \u001b[39mraise\u001b[39;00m \u001b[39mKeyError\u001b[39;00m(\u001b[39mf\u001b[39m\u001b[39m\"\u001b[39m\u001b[39m{\u001b[39;00mnot_found\u001b[39m}\u001b[39;00m\u001b[39m not in index\u001b[39m\u001b[39m\"\u001b[39m)\n",
      "\u001b[0;31mKeyError\u001b[0m: \"None of [Index(['ENSMUSG00000009070', 'ENSMUSG00000009210', 'ENSMUSG00000009281',\\n       'ENSMUSG00000011154', 'ENSMUSG00000011305', 'ENSMUSG00000019982',\\n       'ENSMUSG00000020155', 'ENSMUSG00000021565', 'ENSMUSG00000021950',\\n       'ENSMUSG00000022759', 'ENSMUSG00000022805', 'ENSMUSG00000023084',\\n       'ENSMUSG00000024033', 'ENSMUSG00000024175', 'ENSMUSG00000024552',\\n       'ENSMUSG00000025963', 'ENSMUSG00000026301', 'ENSMUSG00000026679',\\n       'ENSMUSG00000026874', 'ENSMUSG00000026894', 'ENSMUSG00000027344',\\n       'ENSMUSG00000027360', 'ENSMUSG00000027386', 'ENSMUSG00000027702',\\n       'ENSMUSG00000028186', 'ENSMUSG00000028441', 'ENSMUSG00000028463',\\n       'ENSMUSG00000028523', 'ENSMUSG00000029074', 'ENSMUSG00000029155',\\n       'ENSMUSG00000029182', 'ENSMUSG00000030125', 'ENSMUSG00000030708',\\n       'ENSMUSG00000031022', 'ENSMUSG00000031831', 'ENSMUSG00000031893',\\n       'ENSMUSG00000032221', 'ENSMUSG00000032454', 'ENSMUSG00000032514',\\n       'ENSMUSG00000032595', 'ENSMUSG00000033053', 'ENSMUSG00000034467',\\n       'ENSMUSG00000035179', 'ENSMUSG00000035295', 'ENSMUSG00000035578',\\n       'ENSMUSG00000037101', 'ENSMUSG00000037627', 'ENSMUSG00000037683',\\n       'ENSMUSG00000037716', 'ENSMUSG00000038840', 'ENSMUSG00000039099',\\n       'ENSMUSG00000039155', 'ENSMUSG00000039391', 'ENSMUSG00000039552',\\n       'ENSMUSG00000039720', 'ENSMUSG00000040978', 'ENSMUSG00000041323',\\n       'ENSMUSG00000041660', 'ENSMUSG00000041673', 'ENSMUSG00000042045',\\n       'ENSMUSG00000042707', 'ENSMUSG00000042788', 'ENSMUSG00000043164',\\n       'ENSMUSG00000043541', 'ENSMUSG00000043592', 'ENSMUSG00000043621',\\n       'ENSMUSG00000044362', 'ENSMUSG00000044772', 'ENSMUSG00000045655',\\n       'ENSMUSG00000046242', 'ENSMUSG00000046886', 'ENSMUSG00000047139',\\n       'ENSMUSG00000047394', 'ENSMUSG00000047671', 'ENSMUSG00000050157',\\n       'ENSMUSG00000050625', 'ENSMUSG00000053161', 'ENSMUSG00000054146',\\n       'ENSMUSG00000054320', 'ENSMUSG00000056215', 'ENSMUSG00000057816',\\n       'ENSMUSG00000058159', 'ENSMUSG00000062859', 'ENSMUSG00000063409',\\n       'ENSMUSG00000063529', 'ENSMUSG00000063704', 'ENSMUSG00000064280',\\n       'ENSMUSG00000070306', 'ENSMUSG00000071202', 'ENSMUSG00000071398',\\n       'ENSMUSG00000072473', 'ENSMUSG00000078451', 'ENSMUSG00000079502',\\n       'ENSMUSG00000090336', 'ENSMUSG00000090439', 'ENSMUSG00000094282',\\n       'ENSMUSG00000096140', 'ENSMUSG00000110332'],\\n      dtype='object', name='gene_id')] are in the [index]\""
     ]
    }
   ],
   "source": [
    "filters = {\"gene_biotype\": [\"protein_coding\"]}\n",
    "pyWGCNA_5xFAD.CoexpressionModulePlot(modules=[\"coral\"], filters=filters, file_name=\"darkgray_protein_coding\")"
   ]
  }
 ],
 "metadata": {
  "kernelspec": {
   "display_name": "Python 3 (ipykernel)",
   "language": "python",
   "name": "python3"
  },
  "language_info": {
   "codemirror_mode": {
    "name": "ipython",
    "version": 3
   },
   "file_extension": ".py",
   "mimetype": "text/x-python",
   "name": "python",
   "nbconvert_exporter": "python",
   "pygments_lexer": "ipython3",
   "version": "3.11.9"
  }
 },
 "nbformat": 4,
 "nbformat_minor": 4
}
