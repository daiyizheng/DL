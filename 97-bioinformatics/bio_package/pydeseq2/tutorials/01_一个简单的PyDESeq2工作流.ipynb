{
 "cells": [
  {
   "cell_type": "markdown",
   "metadata": {},
   "source": [
    "# 一个简单的PyDESeq2工作流\n",
    "\n",
    "我们首先导入所需的包，并设置一个可选的路径来保存结果"
   ]
  },
  {
   "cell_type": "code",
   "execution_count": 1,
   "metadata": {},
   "outputs": [],
   "source": [
    "import os\n",
    "import pickle as pkl\n",
    "\n",
    "import sys\n",
    "sys.path.insert(0, \"/slurm/home/admin/nlp/DL/97-bioinformatics/bio_package/pydeseq2\")\n",
    "from pydeseq2.dds import DeseqDataSet\n",
    "from pydeseq2.default_inference import DefaultInference\n",
    "from pydeseq2.ds import DeseqStats\n",
    "from pydeseq2.utils import load_example_data\n",
    "\n",
    "SAVE = False  # whether to save the outputs of this notebook\n",
    "\n",
    "if SAVE:\n",
    "    # Replace this with the path to directory where you would like results to be saved\n",
    "    OUTPUT_PATH = \"/slurm/home/admin/nlp/DL/results/synthetic_example\"\n",
    "    os.makedirs(OUTPUT_PATH, exist_ok=True)  # Create path if it doesn't exist"
   ]
  },
  {
   "cell_type": "markdown",
   "metadata": {},
   "source": [
    "为了执行差异表达分析（DEA），PyDESeq2 需要两种类型的输入：\n",
    "- 形状为“样本数”x“基因数”的计数矩阵，包含读取计数（非负整数），\n",
    "- 形状为“样本数”x“变量数”的元数据（或“列”数据），包含将用于将数据拆分为群组的样本注释。\n",
    "\n",
    "为了说明所需的数据格式，我们加载了一个合成示例数据集，该数据集可以通过 PyDESeq2 的 API `utils.load_example_data()`使用获得。您可以将其替换为您自己的数据集。"
   ]
  },
  {
   "cell_type": "code",
   "execution_count": 4,
   "metadata": {},
   "outputs": [
    {
     "data": {
      "text/html": [
       "<div>\n",
       "<style scoped>\n",
       "    .dataframe tbody tr th:only-of-type {\n",
       "        vertical-align: middle;\n",
       "    }\n",
       "\n",
       "    .dataframe tbody tr th {\n",
       "        vertical-align: top;\n",
       "    }\n",
       "\n",
       "    .dataframe thead th {\n",
       "        text-align: right;\n",
       "    }\n",
       "</style>\n",
       "<table border=\"1\" class=\"dataframe\">\n",
       "  <thead>\n",
       "    <tr style=\"text-align: right;\">\n",
       "      <th></th>\n",
       "      <th>gene1</th>\n",
       "      <th>gene2</th>\n",
       "      <th>gene3</th>\n",
       "      <th>gene4</th>\n",
       "      <th>gene5</th>\n",
       "      <th>gene6</th>\n",
       "      <th>gene7</th>\n",
       "      <th>gene8</th>\n",
       "      <th>gene9</th>\n",
       "      <th>gene10</th>\n",
       "    </tr>\n",
       "  </thead>\n",
       "  <tbody>\n",
       "    <tr>\n",
       "      <th>sample1</th>\n",
       "      <td>12</td>\n",
       "      <td>21</td>\n",
       "      <td>4</td>\n",
       "      <td>130</td>\n",
       "      <td>18</td>\n",
       "      <td>0</td>\n",
       "      <td>16</td>\n",
       "      <td>54</td>\n",
       "      <td>49</td>\n",
       "      <td>3</td>\n",
       "    </tr>\n",
       "    <tr>\n",
       "      <th>sample2</th>\n",
       "      <td>1</td>\n",
       "      <td>44</td>\n",
       "      <td>2</td>\n",
       "      <td>63</td>\n",
       "      <td>11</td>\n",
       "      <td>10</td>\n",
       "      <td>70</td>\n",
       "      <td>32</td>\n",
       "      <td>57</td>\n",
       "      <td>9</td>\n",
       "    </tr>\n",
       "    <tr>\n",
       "      <th>sample3</th>\n",
       "      <td>4</td>\n",
       "      <td>4</td>\n",
       "      <td>11</td>\n",
       "      <td>180</td>\n",
       "      <td>21</td>\n",
       "      <td>3</td>\n",
       "      <td>28</td>\n",
       "      <td>34</td>\n",
       "      <td>65</td>\n",
       "      <td>2</td>\n",
       "    </tr>\n",
       "    <tr>\n",
       "      <th>sample4</th>\n",
       "      <td>1</td>\n",
       "      <td>10</td>\n",
       "      <td>2</td>\n",
       "      <td>100</td>\n",
       "      <td>44</td>\n",
       "      <td>9</td>\n",
       "      <td>28</td>\n",
       "      <td>16</td>\n",
       "      <td>33</td>\n",
       "      <td>9</td>\n",
       "    </tr>\n",
       "    <tr>\n",
       "      <th>sample5</th>\n",
       "      <td>1</td>\n",
       "      <td>11</td>\n",
       "      <td>6</td>\n",
       "      <td>135</td>\n",
       "      <td>16</td>\n",
       "      <td>2</td>\n",
       "      <td>32</td>\n",
       "      <td>29</td>\n",
       "      <td>31</td>\n",
       "      <td>5</td>\n",
       "    </tr>\n",
       "    <tr>\n",
       "      <th>...</th>\n",
       "      <td>...</td>\n",
       "      <td>...</td>\n",
       "      <td>...</td>\n",
       "      <td>...</td>\n",
       "      <td>...</td>\n",
       "      <td>...</td>\n",
       "      <td>...</td>\n",
       "      <td>...</td>\n",
       "      <td>...</td>\n",
       "      <td>...</td>\n",
       "    </tr>\n",
       "    <tr>\n",
       "      <th>sample96</th>\n",
       "      <td>7</td>\n",
       "      <td>26</td>\n",
       "      <td>3</td>\n",
       "      <td>67</td>\n",
       "      <td>11</td>\n",
       "      <td>4</td>\n",
       "      <td>41</td>\n",
       "      <td>44</td>\n",
       "      <td>54</td>\n",
       "      <td>1</td>\n",
       "    </tr>\n",
       "    <tr>\n",
       "      <th>sample97</th>\n",
       "      <td>1</td>\n",
       "      <td>14</td>\n",
       "      <td>3</td>\n",
       "      <td>71</td>\n",
       "      <td>33</td>\n",
       "      <td>5</td>\n",
       "      <td>19</td>\n",
       "      <td>42</td>\n",
       "      <td>25</td>\n",
       "      <td>4</td>\n",
       "    </tr>\n",
       "    <tr>\n",
       "      <th>sample98</th>\n",
       "      <td>10</td>\n",
       "      <td>36</td>\n",
       "      <td>2</td>\n",
       "      <td>72</td>\n",
       "      <td>11</td>\n",
       "      <td>2</td>\n",
       "      <td>66</td>\n",
       "      <td>27</td>\n",
       "      <td>16</td>\n",
       "      <td>9</td>\n",
       "    </tr>\n",
       "    <tr>\n",
       "      <th>sample99</th>\n",
       "      <td>18</td>\n",
       "      <td>14</td>\n",
       "      <td>3</td>\n",
       "      <td>66</td>\n",
       "      <td>53</td>\n",
       "      <td>11</td>\n",
       "      <td>32</td>\n",
       "      <td>19</td>\n",
       "      <td>79</td>\n",
       "      <td>11</td>\n",
       "    </tr>\n",
       "    <tr>\n",
       "      <th>sample100</th>\n",
       "      <td>21</td>\n",
       "      <td>9</td>\n",
       "      <td>3</td>\n",
       "      <td>42</td>\n",
       "      <td>13</td>\n",
       "      <td>13</td>\n",
       "      <td>19</td>\n",
       "      <td>78</td>\n",
       "      <td>30</td>\n",
       "      <td>5</td>\n",
       "    </tr>\n",
       "  </tbody>\n",
       "</table>\n",
       "<p>100 rows × 10 columns</p>\n",
       "</div>"
      ],
      "text/plain": [
       "           gene1  gene2  gene3  gene4  gene5  gene6  gene7  gene8  gene9  \\\n",
       "sample1       12     21      4    130     18      0     16     54     49   \n",
       "sample2        1     44      2     63     11     10     70     32     57   \n",
       "sample3        4      4     11    180     21      3     28     34     65   \n",
       "sample4        1     10      2    100     44      9     28     16     33   \n",
       "sample5        1     11      6    135     16      2     32     29     31   \n",
       "...          ...    ...    ...    ...    ...    ...    ...    ...    ...   \n",
       "sample96       7     26      3     67     11      4     41     44     54   \n",
       "sample97       1     14      3     71     33      5     19     42     25   \n",
       "sample98      10     36      2     72     11      2     66     27     16   \n",
       "sample99      18     14      3     66     53     11     32     19     79   \n",
       "sample100     21      9      3     42     13     13     19     78     30   \n",
       "\n",
       "           gene10  \n",
       "sample1         3  \n",
       "sample2         9  \n",
       "sample3         2  \n",
       "sample4         9  \n",
       "sample5         5  \n",
       "...           ...  \n",
       "sample96        1  \n",
       "sample97        4  \n",
       "sample98        9  \n",
       "sample99       11  \n",
       "sample100       5  \n",
       "\n",
       "[100 rows x 10 columns]"
      ]
     },
     "execution_count": 4,
     "metadata": {},
     "output_type": "execute_result"
    }
   ],
   "source": [
    "import pandas as pd \n",
    "\n",
    "# counts_df = load_example_data(\n",
    "#     modality=\"raw_counts\",\n",
    "#     dataset=\"synthetic\",\n",
    "#     debug=False,\n",
    "# )\n",
    "\n",
    "# metadata = load_example_data(\n",
    "#     modality=\"metadata\",\n",
    "#     dataset=\"synthetic\",\n",
    "#     debug=False,\n",
    "# )\n",
    "\n",
    "# print(counts_df)\n",
    "\n",
    "\n",
    "count_file = \"../../data/test_counts.csv\"\n",
    "counts_df = pd.read_csv(count_file,index_col=0).T\n",
    "counts_df"
   ]
  },
  {
   "cell_type": "code",
   "execution_count": 5,
   "metadata": {},
   "outputs": [
    {
     "data": {
      "text/html": [
       "<div>\n",
       "<style scoped>\n",
       "    .dataframe tbody tr th:only-of-type {\n",
       "        vertical-align: middle;\n",
       "    }\n",
       "\n",
       "    .dataframe tbody tr th {\n",
       "        vertical-align: top;\n",
       "    }\n",
       "\n",
       "    .dataframe thead th {\n",
       "        text-align: right;\n",
       "    }\n",
       "</style>\n",
       "<table border=\"1\" class=\"dataframe\">\n",
       "  <thead>\n",
       "    <tr style=\"text-align: right;\">\n",
       "      <th></th>\n",
       "      <th>condition</th>\n",
       "      <th>group</th>\n",
       "    </tr>\n",
       "  </thead>\n",
       "  <tbody>\n",
       "    <tr>\n",
       "      <th>sample1</th>\n",
       "      <td>A</td>\n",
       "      <td>X</td>\n",
       "    </tr>\n",
       "    <tr>\n",
       "      <th>sample2</th>\n",
       "      <td>A</td>\n",
       "      <td>Y</td>\n",
       "    </tr>\n",
       "    <tr>\n",
       "      <th>sample3</th>\n",
       "      <td>A</td>\n",
       "      <td>X</td>\n",
       "    </tr>\n",
       "    <tr>\n",
       "      <th>sample4</th>\n",
       "      <td>A</td>\n",
       "      <td>Y</td>\n",
       "    </tr>\n",
       "    <tr>\n",
       "      <th>sample5</th>\n",
       "      <td>A</td>\n",
       "      <td>X</td>\n",
       "    </tr>\n",
       "  </tbody>\n",
       "</table>\n",
       "</div>"
      ],
      "text/plain": [
       "        condition group\n",
       "sample1         A     X\n",
       "sample2         A     Y\n",
       "sample3         A     X\n",
       "sample4         A     Y\n",
       "sample5         A     X"
      ]
     },
     "execution_count": 5,
     "metadata": {},
     "output_type": "execute_result"
    }
   ],
   "source": [
    "metadata = \"../../data/test_metadata.csv\"\n",
    "metadata = pd.read_csv(metadata, index_col=0)\n",
    "metadata.head()"
   ]
  },
  {
   "cell_type": "markdown",
   "metadata": {},
   "source": [
    "在此示例中，元数据包含两列，condition和group，代表两种类型的双层注释。在第一部分中，我们将仅使用condition因子 。稍后，我们将看到如何在分析中同时使用condition 和 group因子（[参见多因子分析](https://pydeseq2.readthedocs.io/en/latest/auto_examples/plot_minimal_pydeseq2_pipeline.html#multifactor-ref)）。"
   ]
  },
  {
   "cell_type": "markdown",
   "metadata": {},
   "source": [
    "## 数据过滤\n",
    "在继续进行 DEA 之前，最好先对数据进行预处理，例如删除缺少注释的样本并排除表达水平非常低的基因。对于我们的合成数据，这不是必需的，但如果您使用的是真实数据，请不要忘记这一步。为此，您可以使用以下代码。\n",
    "\n",
    "我们首先移除条件为NaN的样本。如果您正在使用另一个数据集，请不要忘记更改元数据列的条件，以便在分析中用作设计因素。"
   ]
  },
  {
   "cell_type": "code",
   "execution_count": 6,
   "metadata": {},
   "outputs": [],
   "source": [
    "samples_to_keep = ~metadata.condition.isna()\n",
    "counts_df = counts_df.loc[samples_to_keep]\n",
    "metadata = metadata.loc[samples_to_keep]"
   ]
  },
  {
   "cell_type": "markdown",
   "metadata": {},
   "source": [
    "> 在设计因子包含NaN项的情况下，PyDESeq2将在初始化DeseqDataSet时抛出错误。\n",
    "\n",
    "接下来，我们过滤掉读取总数少于10个的基因。再次注意，在这个合成数据集中没有这样的基因。"
   ]
  },
  {
   "cell_type": "code",
   "execution_count": 8,
   "metadata": {},
   "outputs": [
    {
     "data": {
      "text/plain": [
       "gene1       838\n",
       "gene2      2259\n",
       "gene3       485\n",
       "gene4     10682\n",
       "gene5      2870\n",
       "gene6       545\n",
       "gene7      2966\n",
       "gene8      4277\n",
       "gene9      3886\n",
       "gene10     1170\n",
       "dtype: int64"
      ]
     },
     "execution_count": 8,
     "metadata": {},
     "output_type": "execute_result"
    }
   ],
   "source": [
    "counts_df.sum(axis=0)"
   ]
  },
  {
   "cell_type": "code",
   "execution_count": 7,
   "metadata": {},
   "outputs": [],
   "source": [
    "genes_to_keep = counts_df.columns[counts_df.sum(axis=0) >= 10]\n",
    "counts_df = counts_df[genes_to_keep]"
   ]
  },
  {
   "cell_type": "markdown",
   "metadata": {},
   "source": [
    "现在我们已经加载并过滤了数据，我们可以继续进行差分分析。"
   ]
  },
  {
   "cell_type": "markdown",
   "metadata": {},
   "source": [
    "## 单因素分析\n",
    "\n",
    "在第一个分析中，我们忽略了`group`变量，并使用`condition`列作为我们的设计因子。也就是说，我们比较`condition`B和`condition`A样本的基因表达。\n",
    "### 使用DeseqDataSet类读取计数建模\n",
    "我们首先从计数和元数据创建一个`DeseqDataSet`对象。`DeseqDataSet`从数据中拟合离散度和对数倍变化(LFC)参数，并存储它们。"
   ]
  },
  {
   "cell_type": "code",
   "execution_count": 9,
   "metadata": {},
   "outputs": [],
   "source": [
    "inference = DefaultInference(n_cpus=8)\n",
    "dds = DeseqDataSet(\n",
    "    counts=counts_df,\n",
    "    metadata=metadata,\n",
    "    design_factors=\"condition\",\n",
    "    refit_cooks=True,\n",
    "    inference=inference,\n",
    "    # n_cpus=8, # n_cpus can be specified here or in the inference object\n",
    ")"
   ]
  },
  {
   "cell_type": "markdown",
   "metadata": {},
   "source": [
    "DeseqDataSet有两个强制参数:一个`counts`和一个`metadata`框架，就像我们在本教程的第一部分中加载的那样。\n",
    "\n",
    "接下来，我们应该指定`design_factor`，即将用于比较样本的`metadata `数据框的列。这可以是上面提到的单个字符串，也可以是[多因素分析](https://pydeseq2.readthedocs.io/en/latest/auto_examples/plot_minimal_pydeseq2_pipeline.html#multifactor-ref)一节中提到的字符串列表。\n",
    "\n",
    "> 传递给`design_factors`的“condition”参数对应于我们之前加载的`metadata`数据框架中的一列。您可能需要根据自己的数据集更改它。\n",
    "\n",
    "\n",
    "可以选择性地指定其他几个参数(请参阅API文档)。其中，`refit_cooks`参数(默认设置为`True`)控制是否应该修改`cooks`离群值(通常建议这样做)，`n_cpus`设置用于计算的cpu数量。这里，我们使用8个线程。您可以根据自己的设置随意调整，或者将其设置为`None`以使用所有可用的`cpu`。\n",
    "\n",
    "> 在提供的合成数据的情况下，不会有任何库克的异常值。\n",
    "\n",
    "一旦初始化了DeseqDataSet，我们就可以运行`deseq2()`方法来拟合分散和lfc。\n",
    "\n"
   ]
  },
  {
   "cell_type": "code",
   "execution_count": 11,
   "metadata": {},
   "outputs": [
    {
     "name": "stderr",
     "output_type": "stream",
     "text": [
      "Fitting size factors...\n",
      "... done in 0.00 seconds.\n",
      "\n",
      "Fitting dispersions...\n",
      "... done in 0.01 seconds.\n",
      "\n",
      "Fitting dispersion trend curve...\n",
      "... done in 0.01 seconds.\n",
      "\n",
      "Fitting MAP dispersions...\n",
      "... done in 0.01 seconds.\n",
      "\n",
      "Fitting LFCs...\n",
      "... done in 0.01 seconds.\n",
      "\n",
      "Calculating cook's distance...\n",
      "... done in 0.02 seconds.\n",
      "\n",
      "Replacing 0 outlier genes.\n",
      "\n"
     ]
    }
   ],
   "source": [
    "dds.deseq2()\n",
    "\n",
    "\n",
    "if SAVE:\n",
    "    with open(os.path.join(OUTPUT_PATH, \"dds.pkl\"), \"wb\") as f:\n",
    "        pkl.dump(dds, f)"
   ]
  },
  {
   "cell_type": "markdown",
   "metadata": {},
   "source": [
    "`DeseqDataSet`类继承了`AnnData`类。"
   ]
  },
  {
   "cell_type": "code",
   "execution_count": 12,
   "metadata": {},
   "outputs": [
    {
     "name": "stdout",
     "output_type": "stream",
     "text": [
      "AnnData object with n_obs × n_vars = 100 × 10\n",
      "    obs: 'condition', 'group'\n",
      "    uns: 'trend_coeffs', 'disp_function_type', '_squared_logres', 'prior_disp_var'\n",
      "    obsm: 'design_matrix', 'size_factors', '_mu_LFC', '_hat_diagonals', 'replaceable'\n",
      "    varm: '_normed_means', 'non_zero', '_MoM_dispersions', 'genewise_dispersions', '_genewise_converged', 'fitted_dispersions', 'MAP_dispersions', '_MAP_converged', 'dispersions', '_outlier_genes', 'LFC', '_LFC_converged', 'replaced', 'refitted'\n",
      "    layers: 'normed_counts', '_mu_hat', 'cooks'\n"
     ]
    }
   ],
   "source": [
    "print(dds)"
   ]
  },
  {
   "cell_type": "markdown",
   "metadata": {},
   "source": [
    "因此，根据AnnData数据结构存储参数，并使用基于键的数据字段。特别是\n",
    "- X存储计数数据，\n",
    "- obs存储设计因子，\n",
    "- obsm存储样本水平数据，如“设计矩阵”和“大小因子”，\n",
    "- varm存储基因水平数据，如“分散”和“LFC”。"
   ]
  },
  {
   "cell_type": "code",
   "execution_count": 13,
   "metadata": {},
   "outputs": [
    {
     "name": "stdout",
     "output_type": "stream",
     "text": [
      "[0.88259824 0.22257849 0.83723751 0.15897038 0.24992574 0.97364737\n",
      " 0.23515474 0.19878066 0.18652019 0.63189957]\n"
     ]
    }
   ],
   "source": [
    "print(dds.varm[\"dispersions\"])"
   ]
  },
  {
   "cell_type": "code",
   "execution_count": 15,
   "metadata": {},
   "outputs": [
    {
     "data": {
      "text/plain": [
       "array([[ 12,  21,   4, 130,  18,   0,  16,  54,  49,   3],\n",
       "       [  1,  44,   2,  63,  11,  10,  70,  32,  57,   9],\n",
       "       [  4,   4,  11, 180,  21,   3,  28,  34,  65,   2],\n",
       "       [  1,  10,   2, 100,  44,   9,  28,  16,  33,   9],\n",
       "       [  1,  11,   6, 135,  16,   2,  32,  29,  31,   5],\n",
       "       [  0,   8,   2,  36,  26,   3,  36,  42,  42,  17],\n",
       "       [  0,  14,  17, 159,  11,  19,  39,  22,  38,   6],\n",
       "       [  2,  19,  11,  60,  19,   2,  41,  83,  46,  12],\n",
       "       [  5,  19,   9,  66,   7,   3,  13,  25,  52,   3],\n",
       "       [ 18,  11,   8, 157,  35,   0,  31,  52,  37,  10],\n",
       "       [  3,  19,  13, 145,   4,   8,  28,  41,   5,   3],\n",
       "       [  7,  28,   7,  51,  39,   0,  23,  54,  55,  11],\n",
       "       [  3,   9,   4, 128,  36,   2,  25,  28,  66,   6],\n",
       "       [ 23,  12,   9,  48,  18,   7,  22,  65,  35,  21],\n",
       "       [  6,  36,  12, 154,  28,   6,   9,   8,  23,   2],\n",
       "       [ 37,  14,   7,  96,  23,   0,  20,  64,  28,  12],\n",
       "       [  1,  28,  11, 202,  18,  11,  34,  12,  46,   9],\n",
       "       [ 26,  11,   3, 136,   5,   1,   8,  44,  54,  11],\n",
       "       [  5,  19,   0, 267,  51,  18,  47,  52,  31,  12],\n",
       "       [  1,  18,   5,  66,  46,   2,  26,  62,  62,   8],\n",
       "       [  3,   9,   1, 110,  10,  12,  41,  62,  52,   5],\n",
       "       [  6,  14,   1,  61,  12,  11,  18,  26,  36,  22],\n",
       "       [  2,  23,   5, 118,  32,   8,  13,  21,  35,  16],\n",
       "       [ 17,  21,   1,  71,  22,   0,  47, 128,  38,  15],\n",
       "       [  1,  18,   3,  73,  46,  14,  14,  56,  53,  10],\n",
       "       [ 24,  22,   1, 201,   4,   2,  25, 100,  25,   6],\n",
       "       [  0,  22,  20, 157,  14,   5,  19,  68,  29,   7],\n",
       "       [  7,  18,   7, 119,  58,  20,  16,  22,  14,  23],\n",
       "       [  1,  15,   8, 114,  14,   0,  18,  75,  35,  17],\n",
       "       [  1,  40,   0, 140,  18,   2,  18,  41,  51,   2],\n",
       "       [ 10,  31,   2, 205,  15,  14,  16,  74,  55,   0],\n",
       "       [  0,  37,   0,  94,  42,   2,  35,  94,  40,  10],\n",
       "       [  7,  12,   5,  73,  16,   3,  28,  34,  74,  38],\n",
       "       [  4,   8,   3,  81,  27,   2,  39,  17,  84,   7],\n",
       "       [  3,   7,   8, 324,  33,   4,  30,  82,  28,   7],\n",
       "       [  2,  13,   3, 110,  51,   4,  15,  48,  33,   7],\n",
       "       [  5,  16,   5, 304,  35,   3,  53,  56,  75,  31],\n",
       "       [  0,  13,  14, 113,  40,  12,  15,  65,  34,  13],\n",
       "       [  3,  28,   1, 146,  28,   3,  45,  36,  65,  10],\n",
       "       [ 13,  25,  13, 110,  17,   2,  21,  59,  33,   9],\n",
       "       [  1,  22,  11, 131,  14,   3,  11,  41,  12,   0],\n",
       "       [  7,  13,   7,  70,  12,   1,  80,  33,  23,   9],\n",
       "       [  3,  30,   4, 178,  29,   3,  19,  54,  41,   4],\n",
       "       [ 21,  13,   7, 161,  18,  13,  20,  46,  50,  13],\n",
       "       [  1,   5,   6, 145,  10,   2,  41,  44,  36,  11],\n",
       "       [  0,  12,   0,  39,  14,   0,  24,  28,  66,   9],\n",
       "       [ 10,  21,  11,  88,  21,  14,  29,  33,  28,  13],\n",
       "       [  3,  21,   2, 178,  42,  10,  34,  66,  48,  10],\n",
       "       [ 15,  25,   6,  63,  10,   6,  47,  18,  35,   7],\n",
       "       [  4,  26,   2, 137,  10,   1,  22,  52,  36,  11],\n",
       "       [ 10,  24,   3, 102,  14,   8,  11,  22,  54,   2],\n",
       "       [ 13,  40,   0, 102,  41,   2,  51,  81,  28,  25],\n",
       "       [ 12,  32,  30,  80,  18,   7,  34,  14,  15,   2],\n",
       "       [  9,  18,   1,  43,  16,   0,  11,  41,  33,  32],\n",
       "       [  4,  21,   1, 115,  36,   6,  15,  32,  12,   8],\n",
       "       [  3,  52,   0,  42,  51,   8,  21,  25,  57,  12],\n",
       "       [  9,  38,   3, 171,  20,   9,  34,  20,  59,  17],\n",
       "       [ 36,  40,   0,  51,  61,   9,  17,  40,  65,  42],\n",
       "       [ 14,  21,   2,  89,  42,   4,  30,  37,  24,  29],\n",
       "       [  3,  30,   4,  90,  44,   0,  30,  19,  33,   3],\n",
       "       [  5,  15,   1,  72,  30,   4,  40,  48,  16,  21],\n",
       "       [  2,  54,   3,  26,  54,   0,  57,  57,  29,   6],\n",
       "       [  8,  17,   5, 134,  34,   6,  15,  45,   6,   7],\n",
       "       [ 16,   7,   3,  89,  30,  11,  22,  28,  43,  13],\n",
       "       [  4,   7,   4,  70,  27,  17,  10,  27,  58,  11],\n",
       "       [ 16,  26,   5,  89,  80,   0,  27,  84,  45,  18],\n",
       "       [ 16,  19,   3,  84,  18,  15,  48,  47,  21,   3],\n",
       "       [  8,  14,   1,  70,  46,  16,  15,  69,  61,  26],\n",
       "       [  3,  35,   3, 124,  59,   2,  44,  30,  51,   4],\n",
       "       [ 29,  12,   1,  88,  42,   4,  10,  55,  44,  41],\n",
       "       [ 20,   5,   3,  96,  11,   0,  48,  26,  26,   5],\n",
       "       [  7,  20,  13,  28,  19,   3,  58,  24,  37,  19],\n",
       "       [  6,  41,   7, 119,   9,   3,  33,  16,  36,  30],\n",
       "       [ 10,  61,   1, 101,  17,   6,  86,  63,  21,   8],\n",
       "       [  8,  27,   3,  88,  14,   7,  23,  36,  36,   3],\n",
       "       [  5,  13,   1,  27,  41,   2,  24,  29,  37,   7],\n",
       "       [  5,  13,   1, 149,  13,   1,  63,  86,  42,   2],\n",
       "       [ 10,   7,   4,  48,  47,   3,  27,  60,  34,   8],\n",
       "       [  9,  40,   0, 102,  16,  12,  15,  38,  38,  30],\n",
       "       [ 25,  36,   1,  61,  46,   3,  57,  31,  21,   4],\n",
       "       [  5,  34,   7, 203,  42,   1,  60,  12,  30,   3],\n",
       "       [  2,  25,   5,  94,  50,   2,  16,  28,  30,   7],\n",
       "       [  8,  19,   5, 108,  37,   3,  29,  24,  22,  15],\n",
       "       [ 11,  22,   1, 125,  23,  10,  20,  46,  31,   0],\n",
       "       [ 17,   4,   1,  78,  39,   2,  12,  34,  10,   1],\n",
       "       [  4,  71,   2,  78,  15,   1,  40,  26,  19,  20],\n",
       "       [  9,  29,   6,  80,  50,   0,  12,  17,  20,   8],\n",
       "       [ 12,  55,   5,  90,  31,   8,  28,  59,  51,   9],\n",
       "       [ 10,  47,   3,  99,  14,   8,  26,  12,  23,  10],\n",
       "       [  5,  11,   1,  87,  33,   0,  41,  27,  22,  39],\n",
       "       [  0,  31,  11, 119,  50,  10,   4,  28,  15,  13],\n",
       "       [  9,  43,   4,  86,  41,   0,  20,  32,  45,   1],\n",
       "       [  5,  13,  12, 112,  21,   3,  31,  22,  24,  31],\n",
       "       [ 27,  12,   0,  89,  86,   0,  18,  39,  72,  28],\n",
       "       [  2,  24,   1,  73,  31,  12,  27,  33,  67,   4],\n",
       "       [  7,  26,   3,  67,  11,   4,  41,  44,  54,   1],\n",
       "       [  1,  14,   3,  71,  33,   5,  19,  42,  25,   4],\n",
       "       [ 10,  36,   2,  72,  11,   2,  66,  27,  16,   9],\n",
       "       [ 18,  14,   3,  66,  53,  11,  32,  19,  79,  11],\n",
       "       [ 21,   9,   3,  42,  13,  13,  19,  78,  30,   5]])"
      ]
     },
     "execution_count": 15,
     "metadata": {},
     "output_type": "execute_result"
    }
   ],
   "source": [
    "dds.X"
   ]
  },
  {
   "cell_type": "code",
   "execution_count": 16,
   "metadata": {},
   "outputs": [
    {
     "data": {
      "text/html": [
       "<div>\n",
       "<style scoped>\n",
       "    .dataframe tbody tr th:only-of-type {\n",
       "        vertical-align: middle;\n",
       "    }\n",
       "\n",
       "    .dataframe tbody tr th {\n",
       "        vertical-align: top;\n",
       "    }\n",
       "\n",
       "    .dataframe thead th {\n",
       "        text-align: right;\n",
       "    }\n",
       "</style>\n",
       "<table border=\"1\" class=\"dataframe\">\n",
       "  <thead>\n",
       "    <tr style=\"text-align: right;\">\n",
       "      <th></th>\n",
       "      <th>condition</th>\n",
       "      <th>group</th>\n",
       "    </tr>\n",
       "  </thead>\n",
       "  <tbody>\n",
       "    <tr>\n",
       "      <th>sample1</th>\n",
       "      <td>A</td>\n",
       "      <td>X</td>\n",
       "    </tr>\n",
       "    <tr>\n",
       "      <th>sample2</th>\n",
       "      <td>A</td>\n",
       "      <td>Y</td>\n",
       "    </tr>\n",
       "    <tr>\n",
       "      <th>sample3</th>\n",
       "      <td>A</td>\n",
       "      <td>X</td>\n",
       "    </tr>\n",
       "    <tr>\n",
       "      <th>sample4</th>\n",
       "      <td>A</td>\n",
       "      <td>Y</td>\n",
       "    </tr>\n",
       "    <tr>\n",
       "      <th>sample5</th>\n",
       "      <td>A</td>\n",
       "      <td>X</td>\n",
       "    </tr>\n",
       "    <tr>\n",
       "      <th>...</th>\n",
       "      <td>...</td>\n",
       "      <td>...</td>\n",
       "    </tr>\n",
       "    <tr>\n",
       "      <th>sample96</th>\n",
       "      <td>B</td>\n",
       "      <td>Y</td>\n",
       "    </tr>\n",
       "    <tr>\n",
       "      <th>sample97</th>\n",
       "      <td>B</td>\n",
       "      <td>X</td>\n",
       "    </tr>\n",
       "    <tr>\n",
       "      <th>sample98</th>\n",
       "      <td>B</td>\n",
       "      <td>Y</td>\n",
       "    </tr>\n",
       "    <tr>\n",
       "      <th>sample99</th>\n",
       "      <td>B</td>\n",
       "      <td>X</td>\n",
       "    </tr>\n",
       "    <tr>\n",
       "      <th>sample100</th>\n",
       "      <td>B</td>\n",
       "      <td>Y</td>\n",
       "    </tr>\n",
       "  </tbody>\n",
       "</table>\n",
       "<p>100 rows × 2 columns</p>\n",
       "</div>"
      ],
      "text/plain": [
       "          condition group\n",
       "sample1           A     X\n",
       "sample2           A     Y\n",
       "sample3           A     X\n",
       "sample4           A     Y\n",
       "sample5           A     X\n",
       "...             ...   ...\n",
       "sample96          B     Y\n",
       "sample97          B     X\n",
       "sample98          B     Y\n",
       "sample99          B     X\n",
       "sample100         B     Y\n",
       "\n",
       "[100 rows x 2 columns]"
      ]
     },
     "execution_count": 16,
     "metadata": {},
     "output_type": "execute_result"
    }
   ],
   "source": [
    "dds.obs"
   ]
  },
  {
   "cell_type": "code",
   "execution_count": 18,
   "metadata": {},
   "outputs": [
    {
     "data": {
      "text/html": [
       "<div>\n",
       "<style scoped>\n",
       "    .dataframe tbody tr th:only-of-type {\n",
       "        vertical-align: middle;\n",
       "    }\n",
       "\n",
       "    .dataframe tbody tr th {\n",
       "        vertical-align: top;\n",
       "    }\n",
       "\n",
       "    .dataframe thead th {\n",
       "        text-align: right;\n",
       "    }\n",
       "</style>\n",
       "<table border=\"1\" class=\"dataframe\">\n",
       "  <thead>\n",
       "    <tr style=\"text-align: right;\">\n",
       "      <th></th>\n",
       "      <th>intercept</th>\n",
       "      <th>condition_B_vs_A</th>\n",
       "    </tr>\n",
       "  </thead>\n",
       "  <tbody>\n",
       "    <tr>\n",
       "      <th>sample1</th>\n",
       "      <td>1</td>\n",
       "      <td>0</td>\n",
       "    </tr>\n",
       "    <tr>\n",
       "      <th>sample2</th>\n",
       "      <td>1</td>\n",
       "      <td>0</td>\n",
       "    </tr>\n",
       "    <tr>\n",
       "      <th>sample3</th>\n",
       "      <td>1</td>\n",
       "      <td>0</td>\n",
       "    </tr>\n",
       "    <tr>\n",
       "      <th>sample4</th>\n",
       "      <td>1</td>\n",
       "      <td>0</td>\n",
       "    </tr>\n",
       "    <tr>\n",
       "      <th>sample5</th>\n",
       "      <td>1</td>\n",
       "      <td>0</td>\n",
       "    </tr>\n",
       "    <tr>\n",
       "      <th>...</th>\n",
       "      <td>...</td>\n",
       "      <td>...</td>\n",
       "    </tr>\n",
       "    <tr>\n",
       "      <th>sample96</th>\n",
       "      <td>1</td>\n",
       "      <td>1</td>\n",
       "    </tr>\n",
       "    <tr>\n",
       "      <th>sample97</th>\n",
       "      <td>1</td>\n",
       "      <td>1</td>\n",
       "    </tr>\n",
       "    <tr>\n",
       "      <th>sample98</th>\n",
       "      <td>1</td>\n",
       "      <td>1</td>\n",
       "    </tr>\n",
       "    <tr>\n",
       "      <th>sample99</th>\n",
       "      <td>1</td>\n",
       "      <td>1</td>\n",
       "    </tr>\n",
       "    <tr>\n",
       "      <th>sample100</th>\n",
       "      <td>1</td>\n",
       "      <td>1</td>\n",
       "    </tr>\n",
       "  </tbody>\n",
       "</table>\n",
       "<p>100 rows × 2 columns</p>\n",
       "</div>"
      ],
      "text/plain": [
       "           intercept  condition_B_vs_A\n",
       "sample1            1                 0\n",
       "sample2            1                 0\n",
       "sample3            1                 0\n",
       "sample4            1                 0\n",
       "sample5            1                 0\n",
       "...              ...               ...\n",
       "sample96           1                 1\n",
       "sample97           1                 1\n",
       "sample98           1                 1\n",
       "sample99           1                 1\n",
       "sample100          1                 1\n",
       "\n",
       "[100 rows x 2 columns]"
      ]
     },
     "execution_count": 18,
     "metadata": {},
     "output_type": "execute_result"
    }
   ],
   "source": [
    "dds.obsm[\"design_matrix\"]"
   ]
  },
  {
   "cell_type": "code",
   "execution_count": 19,
   "metadata": {},
   "outputs": [
    {
     "name": "stdout",
     "output_type": "stream",
     "text": [
      "        intercept  condition_B_vs_A\n",
      "gene1    1.891436          0.438632\n",
      "gene2    2.851662          0.373296\n",
      "gene3    1.787780         -0.438645\n",
      "gene4    4.741958         -0.285647\n",
      "gene5    3.077798          0.403457\n",
      "gene6    1.678536          0.001010\n",
      "gene7    3.291025          0.093116\n",
      "gene8    3.785129         -0.187604\n",
      "gene9    3.682882         -0.147443\n",
      "gene10   2.300515          0.267562\n"
     ]
    }
   ],
   "source": [
    "print(dds.varm[\"LFC\"])"
   ]
  },
  {
   "cell_type": "markdown",
   "metadata": {},
   "source": [
    "## 使用DeseqStats类进行统计分析\n",
    "\n",
    "现在已经拟合了`离散度`和`lfc`，我们可以进行统计检验来计算`p`值和调整`p`值用于差分表达。这是`DeseqStats`类的角色。它有一个唯一的强制参数dds，它应该是一个合适的`DeseqDataSet`对象。"
   ]
  },
  {
   "cell_type": "code",
   "execution_count": 20,
   "metadata": {},
   "outputs": [],
   "source": [
    "stat_res = DeseqStats(dds, inference=inference)"
   ]
  },
  {
   "cell_type": "code",
   "execution_count": 21,
   "metadata": {},
   "outputs": [
    {
     "data": {
      "text/plain": [
       "<pydeseq2.ds.DeseqStats at 0x7f172578c9d0>"
      ]
     },
     "execution_count": 21,
     "metadata": {},
     "output_type": "execute_result"
    }
   ],
   "source": [
    "stat_res"
   ]
  },
  {
   "cell_type": "markdown",
   "metadata": {},
   "source": [
    "它还有一组可选的关键字参数(请参阅[API文档](https://pydeseq2.readthedocs.io/en/latest/api/docstrings/pydeseq2.ds.DeseqStats.html))，其中包括\n",
    "\n",
    "- alpha: p值和调整后的p值显著性阈值(默认为0.05)\n",
    "- cooks_filter: 是否根据cooks离群值过滤p值(默认为True)\n",
    "- independent_filter: 是否对p值趋势进行独立过滤(默认为True)。\n",
    "\n",
    "在[多因素分析](https://pydeseq2.readthedocs.io/en/latest/auto_examples/plot_minimal_pydeseq2_pipeline.html#multifactor-ref)一节中，我们还将看到如何使用对比度参数来指定应该根据哪个变量样本进行比较。"
   ]
  },
  {
   "cell_type": "markdown",
   "metadata": {},
   "source": [
    "## Wald test\n",
    "\n",
    "PyDESeq2使用`Wald`检验计算p值。这可以使用`summary()`方法来完成，该方法运行整个统计分析，包括`cooks`过滤和多个测试调整。"
   ]
  },
  {
   "cell_type": "code",
   "execution_count": 22,
   "metadata": {},
   "outputs": [
    {
     "name": "stderr",
     "output_type": "stream",
     "text": [
      "Running Wald tests...\n"
     ]
    },
    {
     "name": "stdout",
     "output_type": "stream",
     "text": [
      "Log2 fold change & Wald test p-value: condition B vs A\n",
      "          baseMean  log2FoldChange     lfcSE      stat    pvalue      padj\n",
      "gene1     8.541317        0.632812  0.289101  2.188898  0.028604  0.064150\n",
      "gene2    21.281239        0.538552  0.149963  3.591236  0.000329  0.001646\n",
      "gene3     5.010123       -0.632830  0.295236 -2.143476  0.032075  0.064150\n",
      "gene4   100.517961       -0.412102  0.118629 -3.473868  0.000513  0.001710\n",
      "gene5    27.142450        0.582065  0.154706  3.762409  0.000168  0.001646\n",
      "gene6     5.413043        0.001457  0.310311  0.004696  0.996253  0.996253\n",
      "gene7    28.294023        0.134338  0.149945  0.895917  0.370297  0.411441\n",
      "gene8    40.358344       -0.270656  0.136401 -1.984261  0.047227  0.078711\n",
      "gene9    37.166183       -0.212715  0.133243 -1.596437  0.110391  0.143147\n",
      "gene10   11.589325        0.386011  0.244588  1.578207  0.114518  0.143147\n"
     ]
    },
    {
     "name": "stderr",
     "output_type": "stream",
     "text": [
      "... done in 1.09 seconds.\n",
      "\n"
     ]
    }
   ],
   "source": [
    "stat_res.summary()\n",
    "\n",
    "if SAVE:\n",
    "    with open(os.path.join(OUTPUT_PATH, \"stat_results.pkl\"), \"wb\") as f:\n",
    "        pkl.dump(stat_res, f)"
   ]
  },
  {
   "cell_type": "markdown",
   "metadata": {},
   "source": [
    "然后将结果存储在`results_df`属性中(`stat_res.results_df`)。"
   ]
  },
  {
   "cell_type": "markdown",
   "metadata": {},
   "source": [
    "## 可选:基于阈值的测试\n",
    "用户可以在零假设和备选假设下指定一个`(log2) log fold`变化来重新计算Wald统计量和p值。替代假设对应于用户想要找到的东西，而不是零假设。它可以取值`[\"greaterAbs\"， \"lessAbs\"， \"greater\"， \"less\"]`中的一个。"
   ]
  },
  {
   "cell_type": "code",
   "execution_count": 23,
   "metadata": {},
   "outputs": [
    {
     "name": "stderr",
     "output_type": "stream",
     "text": [
      "Running Wald tests...\n",
      "... done in 0.01 seconds.\n",
      "\n"
     ]
    },
    {
     "name": "stdout",
     "output_type": "stream",
     "text": [
      "Log2 fold change & Wald test p-value: condition B vs A\n",
      "          baseMean  log2FoldChange     lfcSE      stat    pvalue      padj\n",
      "gene1     8.541317        0.632812  0.289101  1.842998  0.065329  0.142223\n",
      "gene2    21.281239        0.538552  0.149963  2.924404  0.003451  0.017256\n",
      "gene3     5.010123       -0.632830  0.295236 -1.804763  0.071112  0.142223\n",
      "gene4   100.517961       -0.412102  0.118629 -2.630904  0.008516  0.028386\n",
      "gene5    27.142450        0.582065  0.154706  3.116020  0.001833  0.017256\n",
      "gene6     5.413043        0.001457  0.310311  0.000000  1.000000  1.000000\n",
      "gene7    28.294023        0.134338  0.149945  0.229004  0.818866  0.909851\n",
      "gene8    40.358344       -0.270656  0.136401 -1.251130  0.210887  0.346086\n",
      "gene9    37.166183       -0.212715  0.133243 -0.845931  0.397591  0.496989\n",
      "gene10   11.589325        0.386011  0.244588  1.169357  0.242260  0.346086\n"
     ]
    },
    {
     "data": {
      "image/png": "[encoded data removed]",
      "text/plain": [
       "<Figure size 3840x2880 with 1 Axes>"
      ]
     },
     "metadata": {},
     "output_type": "display_data"
    }
   ],
   "source": [
    "stat_res.summary(lfc_null=0.1, alt_hypothesis=\"greaterAbs\")\n",
    "stat_res.plot_MA(s=20)"
   ]
  },
  {
   "cell_type": "markdown",
   "metadata": {},
   "source": [
    "## LFC shrinkag\n",
    "\n",
    "出于可视化或后处理的目的，可能适合执行LFC shrinkage。这是由`lfc_shrinkage()`方法实现的"
   ]
  },
  {
   "cell_type": "code",
   "execution_count": 24,
   "metadata": {},
   "outputs": [
    {
     "name": "stdout",
     "output_type": "stream",
     "text": [
      "Shrunk log2 fold change & Wald test p-value: condition B vs A\n",
      "          baseMean  log2FoldChange     lfcSE      stat    pvalue      padj\n",
      "gene1     8.541317        0.408253  0.294276  1.842998  0.065329  0.142223\n",
      "gene2    21.281239        0.480145  0.151201  2.924404  0.003451  0.017256\n",
      "gene3     5.010123       -0.396066  0.300796 -1.804763  0.071112  0.142223\n",
      "gene4   100.517961       -0.374191  0.118703 -2.630904  0.008516  0.028386\n",
      "gene5    27.142450        0.521487  0.156210  3.116020  0.001833  0.017256\n",
      "gene6     5.413043        0.000716  0.239203  0.000000  1.000000  1.000000\n",
      "gene7    28.294023        0.103421  0.141496  0.229004  0.818866  0.909851\n",
      "gene8    40.358344       -0.226288  0.133477 -1.251130  0.210887  0.346086\n",
      "gene9    37.166183       -0.175746  0.129138 -0.845931  0.397591  0.496989\n",
      "gene10   11.589325        0.239935  0.231986  1.169357  0.242260  0.346086\n"
     ]
    },
    {
     "name": "stderr",
     "output_type": "stream",
     "text": [
      "Fitting MAP LFCs...\n",
      "... done in 0.01 seconds.\n",
      "\n"
     ]
    }
   ],
   "source": [
    "stat_res.lfc_shrink(coeff=\"condition_B_vs_A\")\n",
    "\n",
    "if SAVE:\n",
    "    with open(os.path.join(OUTPUT_PATH, \"shrunk_stat_results.pkl\"), \"wb\") as f:\n",
    "        pkl.dump(stat_res, f)"
   ]
  },
  {
   "cell_type": "code",
   "execution_count": 26,
   "metadata": {},
   "outputs": [
    {
     "data": {
      "text/plain": [
       "AnnData object with n_obs × n_vars = 100 × 10\n",
       "    obs: 'condition', 'group'\n",
       "    uns: 'trend_coeffs', 'disp_function_type', '_squared_logres', 'prior_disp_var'\n",
       "    obsm: 'design_matrix', 'size_factors', '_mu_LFC', '_hat_diagonals', 'replaceable'\n",
       "    varm: '_normed_means', 'non_zero', '_MoM_dispersions', 'genewise_dispersions', '_genewise_converged', 'fitted_dispersions', 'MAP_dispersions', '_MAP_converged', 'dispersions', '_outlier_genes', 'LFC', '_LFC_converged', 'replaced', 'refitted'\n",
       "    layers: 'normed_counts', '_mu_hat', 'cooks'"
      ]
     },
     "execution_count": 26,
     "metadata": {},
     "output_type": "execute_result"
    }
   ],
   "source": [
    "stat_res.dds"
   ]
  },
  {
   "cell_type": "markdown",
   "metadata": {},
   "source": [
    "> 运行`lfc_shrink()`将用`shrunk`值覆盖`DeseqStats`日志折叠更改(和标准错误)。这可以使用`shrunk_LFCs `标志来检查。\n",
    "\n"
   ]
  },
  {
   "cell_type": "code",
   "execution_count": 27,
   "metadata": {},
   "outputs": [
    {
     "name": "stdout",
     "output_type": "stream",
     "text": [
      "True\n"
     ]
    }
   ],
   "source": [
    "print(stat_res.shrunk_LFCs)"
   ]
  },
  {
   "cell_type": "markdown",
   "metadata": {},
   "source": [
    "## 多因素分析\n",
    "\n",
    "到目前为止，我们只使用了`metadata`的`condition`列，该列将样本分为 `condition A`和`B`。`metadata`包含第二列，根据`group X`和`group Y`将样本分开。"
   ]
  },
  {
   "cell_type": "code",
   "execution_count": 28,
   "metadata": {},
   "outputs": [
    {
     "name": "stdout",
     "output_type": "stream",
     "text": [
      "          condition group\n",
      "sample1           A     X\n",
      "sample2           A     Y\n",
      "sample3           A     X\n",
      "sample4           A     Y\n",
      "sample5           A     X\n",
      "...             ...   ...\n",
      "sample96          B     Y\n",
      "sample97          B     X\n",
      "sample98          B     Y\n",
      "sample99          B     X\n",
      "sample100         B     Y\n",
      "\n",
      "[100 rows x 2 columns]\n"
     ]
    }
   ],
   "source": [
    "print(metadata)"
   ]
  },
  {
   "cell_type": "markdown",
   "metadata": {},
   "source": [
    "多因素分析的目标是使用两个变量来拟合lfc。"
   ]
  },
  {
   "cell_type": "markdown",
   "metadata": {},
   "source": [
    "### 读取计数建模"
   ]
  },
  {
   "cell_type": "code",
   "execution_count": 29,
   "metadata": {},
   "outputs": [
    {
     "data": {
      "text/plain": [
       "AnnData object with n_obs × n_vars = 100 × 10\n",
       "    obs: 'condition', 'group'\n",
       "    obsm: 'design_matrix'"
      ]
     },
     "execution_count": 29,
     "metadata": {},
     "output_type": "execute_result"
    }
   ],
   "source": [
    "dds = DeseqDataSet(\n",
    "    counts=counts_df,\n",
    "    metadata=metadata,\n",
    "    design_factors=[\"group\", \"condition\"],\n",
    "    refit_cooks=True,\n",
    "    inference=inference,\n",
    ")\n",
    "\n",
    "dds"
   ]
  },
  {
   "cell_type": "markdown",
   "metadata": {},
   "source": [
    "> 默认情况下，列表中的最后一个变量(这里是“condition”)将显示lfc和p值，但在以后执行统计分析时可能会更改。\n",
    "\n",
    "对于单因素分析，我们使用`deseq2()`方法拟合`分散度`和`lfc`。"
   ]
  },
  {
   "cell_type": "code",
   "execution_count": 30,
   "metadata": {},
   "outputs": [
    {
     "name": "stderr",
     "output_type": "stream",
     "text": [
      "Fitting size factors...\n",
      "... done in 0.00 seconds.\n",
      "\n",
      "Fitting dispersions...\n",
      "... done in 0.02 seconds.\n",
      "\n",
      "Fitting dispersion trend curve...\n",
      "... done in 0.01 seconds.\n",
      "\n",
      "Fitting MAP dispersions...\n",
      "... done in 0.01 seconds.\n",
      "\n",
      "Fitting LFCs...\n",
      "... done in 0.01 seconds.\n",
      "\n",
      "Calculating cook's distance...\n",
      "... done in 0.00 seconds.\n",
      "\n",
      "Replacing 0 outlier genes.\n",
      "\n"
     ]
    }
   ],
   "source": [
    "dds.deseq2()"
   ]
  },
  {
   "cell_type": "markdown",
   "metadata": {},
   "source": [
    "现在，如果我们打印`log fold`更改，除了截距之外，我们将有两列:一列对应于`group`变量，另一列对应于`condition`。"
   ]
  },
  {
   "cell_type": "code",
   "execution_count": 31,
   "metadata": {},
   "outputs": [
    {
     "name": "stdout",
     "output_type": "stream",
     "text": [
      "        intercept  group_Y_vs_X  condition_B_vs_A\n",
      "gene1    1.560313      0.525572          0.507013\n",
      "gene2    2.812255      0.079229          0.371026\n",
      "gene3    2.059577     -0.602606         -0.467002\n",
      "gene4    4.919837     -0.385197         -0.293527\n",
      "gene5    2.973802      0.194078          0.407582\n",
      "gene6    1.846061     -0.352410         -0.013510\n",
      "gene7    3.235967      0.106773          0.093654\n",
      "gene8    3.640464      0.270819         -0.188248\n",
      "gene9    3.645334      0.074474         -0.148346\n",
      "gene10   2.136670      0.303009          0.270003\n"
     ]
    }
   ],
   "source": [
    "print(dds.varm[\"LFC\"])"
   ]
  },
  {
   "cell_type": "markdown",
   "metadata": {},
   "source": [
    "## 统计分析\n",
    "\n",
    "`p`值与前面一样，使用`summary()`方法从`DeseqStats`对象计算，并使用一个新的重要参数:对比度。它是一个由三个字符串组成的列表，格式为`[\"variable\"， \" testing level\"， \"reference level\"]`，它决定了我们要为哪个变量计算`lfc`和`pvalue`。例如，为了比较`条件B`和`条件A`，我们设置`contrast=[\"condition\"， \"B\"， \"A\"]`。"
   ]
  },
  {
   "cell_type": "code",
   "execution_count": 32,
   "metadata": {},
   "outputs": [
    {
     "data": {
      "text/plain": [
       "AnnData object with n_obs × n_vars = 100 × 10\n",
       "    obs: 'condition', 'group'\n",
       "    uns: 'trend_coeffs', 'disp_function_type', '_squared_logres', 'prior_disp_var'\n",
       "    obsm: 'design_matrix', 'size_factors', '_mu_LFC', '_hat_diagonals', 'replaceable'\n",
       "    varm: '_normed_means', 'non_zero', '_MoM_dispersions', 'genewise_dispersions', '_genewise_converged', 'fitted_dispersions', 'MAP_dispersions', '_MAP_converged', 'dispersions', '_outlier_genes', 'LFC', '_LFC_converged', 'replaced', 'refitted'\n",
       "    layers: 'normed_counts', '_mu_hat', 'cooks'"
      ]
     },
     "execution_count": 32,
     "metadata": {},
     "output_type": "execute_result"
    }
   ],
   "source": [
    "dds"
   ]
  },
  {
   "cell_type": "code",
   "execution_count": 33,
   "metadata": {},
   "outputs": [],
   "source": [
    "stat_res_B_vs_A = DeseqStats(dds, contrast=[\"condition\", \"B\", \"A\"], \n",
    "                             inference=inference)\n"
   ]
  },
  {
   "cell_type": "code",
   "execution_count": 34,
   "metadata": {},
   "outputs": [
    {
     "data": {
      "text/plain": [
       "AnnData object with n_obs × n_vars = 100 × 10\n",
       "    obs: 'condition', 'group'\n",
       "    uns: 'trend_coeffs', 'disp_function_type', '_squared_logres', 'prior_disp_var'\n",
       "    obsm: 'design_matrix', 'size_factors', '_mu_LFC', '_hat_diagonals', 'replaceable'\n",
       "    varm: '_normed_means', 'non_zero', '_MoM_dispersions', 'genewise_dispersions', '_genewise_converged', 'fitted_dispersions', 'MAP_dispersions', '_MAP_converged', 'dispersions', '_outlier_genes', 'LFC', '_LFC_converged', 'replaced', 'refitted'\n",
       "    layers: 'normed_counts', '_mu_hat', 'cooks'"
      ]
     },
     "execution_count": 34,
     "metadata": {},
     "output_type": "execute_result"
    }
   ],
   "source": [
    "stat_res_B_vs_A.dds"
   ]
  },
  {
   "cell_type": "code",
   "execution_count": 35,
   "metadata": {},
   "outputs": [
    {
     "name": "stderr",
     "output_type": "stream",
     "text": [
      "Running Wald tests...\n"
     ]
    },
    {
     "name": "stdout",
     "output_type": "stream",
     "text": [
      "Log2 fold change & Wald test p-value: condition B vs A\n",
      "          baseMean  log2FoldChange     lfcSE      stat    pvalue      padj\n",
      "gene1     8.541317        0.731466  0.286275  2.555117  0.010615  0.026538\n",
      "gene2    21.281239        0.535278  0.149824  3.572711  0.000353  0.001178\n",
      "gene3     5.010123       -0.673742  0.287399 -2.344269  0.019064  0.038129\n",
      "gene4   100.517961       -0.423471  0.106221 -3.986711  0.000067  0.000592\n",
      "gene5    27.142450        0.588016  0.152758  3.849332  0.000118  0.000592\n",
      "gene6     5.413043       -0.019490  0.307845 -0.063313  0.949518  0.949518\n",
      "gene7    28.294023        0.135114  0.149561  0.903410  0.366308  0.407009\n",
      "gene8    40.358344       -0.271584  0.131512 -2.065084  0.038915  0.064858\n",
      "gene9    37.166183       -0.214018  0.132989 -1.609288  0.107553  0.139684\n",
      "gene10   11.589325        0.389532  0.244929  1.590388  0.111747  0.139684\n"
     ]
    },
    {
     "name": "stderr",
     "output_type": "stream",
     "text": [
      "... done in 1.11 seconds.\n",
      "\n"
     ]
    }
   ],
   "source": [
    "stat_res_B_vs_A.summary()"
   ]
  },
  {
   "cell_type": "markdown",
   "metadata": {},
   "source": [
    "正如我们所看到的，虽然我们比较的是相同的队列(条件B和条件A)，但结果与单因素分析不同。这是因为模型同时使用来自`condition`变量和`group`的信息。\n",
    "\n",
    "现在让我们根据组` group Y`与`X`计算差分表达式。为此，我们使用`contrast=[\"group\"， \"Y\"， \"X\"]`从相同的`DeseqDataSet`创建一个新的`DeseqStats`，并再次运行分析。"
   ]
  },
  {
   "cell_type": "code",
   "execution_count": 36,
   "metadata": {},
   "outputs": [
    {
     "name": "stdout",
     "output_type": "stream",
     "text": [
      "Log2 fold change & Wald test p-value: group Y vs X\n",
      "          baseMean  log2FoldChange     lfcSE      stat        pvalue      padj\n",
      "gene1     8.541317        0.758241  0.286328  2.648155  8.093232e-03  0.020233\n",
      "gene2    21.281239        0.114304  0.149771  0.763189  4.453508e-01  0.445351\n",
      "gene3     5.010123       -0.869376  0.287516 -3.023748  2.496642e-03  0.009903\n",
      "gene4   100.517961       -0.555721  0.106222 -5.231721  1.679390e-07  0.000002\n",
      "gene5    27.142450        0.279995  0.152731  1.833256  6.676450e-02  0.123874\n",
      "gene6     5.413043       -0.508421  0.307951 -1.650981  9.874255e-02  0.141061\n",
      "gene7    28.294023        0.154041  0.149565  1.029927  3.030443e-01  0.378805\n",
      "gene8    40.358344        0.390709  0.131520  2.970732  2.970913e-03  0.009903\n",
      "gene9    37.166183        0.107443  0.132982  0.807956  4.191157e-01  0.445351\n",
      "gene10   11.589325        0.437149  0.244955  1.784611  7.432438e-02  0.123874\n"
     ]
    },
    {
     "name": "stderr",
     "output_type": "stream",
     "text": [
      "Running Wald tests...\n",
      "... done in 0.01 seconds.\n",
      "\n"
     ]
    }
   ],
   "source": [
    "stat_res_Y_vs_X = DeseqStats(dds, \n",
    "                             contrast=[\"group\", \"Y\", \"X\"], \n",
    "                             inference=inference)\n",
    "stat_res_Y_vs_X.summary()"
   ]
  },
  {
   "cell_type": "markdown",
   "metadata": {},
   "source": [
    "## LFC shrinkage (多因素)\n",
    "在多因素设置中，LFC shrinkage 的工作原理与单因素设置相同，但只会根据DeseqStats对象的`contrast`参数shrinkage  LFC。"
   ]
  },
  {
   "cell_type": "code",
   "execution_count": 37,
   "metadata": {},
   "outputs": [
    {
     "name": "stdout",
     "output_type": "stream",
     "text": [
      "Shrunk log2 fold change & Wald test p-value: condition B vs A\n",
      "          baseMean  log2FoldChange     lfcSE      stat    pvalue      padj\n",
      "gene1     8.541317        0.526936  0.299297  2.555117  0.010615  0.026538\n",
      "gene2    21.281239        0.479377  0.150834  3.572711  0.000353  0.001178\n",
      "gene3     5.010123       -0.463492  0.296136 -2.344269  0.019064  0.038129\n",
      "gene4   100.517961       -0.394989  0.106316 -3.986711  0.000067  0.000592\n",
      "gene5    27.142450        0.531655  0.154061  3.849332  0.000118  0.000592\n",
      "gene6     5.413043       -0.008636  0.241570 -0.063313  0.949518  0.949518\n",
      "gene7    28.294023        0.106695  0.141879  0.903410  0.366308  0.407009\n",
      "gene8    40.358344       -0.233346  0.129070 -2.065084  0.038915  0.064858\n",
      "gene9    37.166183       -0.180064  0.129246 -1.609288  0.107553  0.139684\n",
      "gene10   11.589325        0.251471  0.233140  1.590388  0.111747  0.139684\n"
     ]
    },
    {
     "name": "stderr",
     "output_type": "stream",
     "text": [
      "Fitting MAP LFCs...\n",
      "... done in 0.01 seconds.\n",
      "\n"
     ]
    }
   ],
   "source": [
    "stat_res_B_vs_A.lfc_shrink(coeff=\"condition_B_vs_A\")"
   ]
  },
  {
   "cell_type": "code",
   "execution_count": null,
   "metadata": {},
   "outputs": [],
   "source": []
  }
 ],
 "metadata": {
  "kernelspec": {
   "display_name": "Python 3",
   "language": "python",
   "name": "python3"
  },
  "language_info": {
   "codemirror_mode": {
    "name": "ipython",
    "version": 3
   },
   "file_extension": ".py",
   "mimetype": "text/x-python",
   "name": "python",
   "nbconvert_exporter": "python",
   "pygments_lexer": "ipython3",
   "version": "3.11.9"
  }
 },
 "nbformat": 4,
 "nbformat_minor": 2
}
