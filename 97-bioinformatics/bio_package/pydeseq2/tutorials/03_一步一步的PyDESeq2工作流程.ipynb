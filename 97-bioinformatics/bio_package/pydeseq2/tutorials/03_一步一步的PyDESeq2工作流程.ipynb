{
 "cells": [
  {
   "cell_type": "markdown",
   "metadata": {},
   "source": [
    "# 一步一步的PyDESeq2工作流程\n",
    "\n",
    "本笔记本详细介绍了PyDESeq2管道的所有步骤。\n",
    "\n",
    "它允许您在此存储库中提供的合成数据上运行PyDESeq2管道。\n",
    "\n",
    "如果这是您第一次接触PyDESeq2，我们建议您先看一下[标准工作流示例](https://pydeseq2.readthedocs.io/en/latest/auto_examples/plot_minimal_pydeseq2_pipeline.html)。"
   ]
  },
  {
   "cell_type": "markdown",
   "metadata": {},
   "source": [
    "我们首先导入所需的包，并设置一个可选的路径来保存结果。"
   ]
  },
  {
   "cell_type": "code",
   "execution_count": 1,
   "metadata": {},
   "outputs": [],
   "source": [
    "import os\n",
    "import pickle as pkl\n",
    "import sys\n",
    "sys.path.insert(0, \"/slurm/home/admin/nlp/DL/97-bioinformatics/bio_package/pydeseq2\")\n",
    "import pandas as pd\n",
    "from pydeseq2.dds import DeseqDataSet\n",
    "from pydeseq2.default_inference import DefaultInference\n",
    "from pydeseq2.ds import DeseqStats\n",
    "from pydeseq2.utils import load_example_data\n",
    "\n",
    "SAVE = False  # whether to save the outputs of this notebook\n",
    "\n",
    "if SAVE:\n",
    "    # Replace this with the path to directory where you would like results to be\n",
    "    # saved\n",
    "    OUTPUT_PATH = \"/slurm/home/admin/nlp/DL/results/synthetic_example\"\n",
    "    os.makedirs(OUTPUT_PATH, exist_ok=True)  # Create path if it doesn't exist"
   ]
  },
  {
   "cell_type": "markdown",
   "metadata": {},
   "source": [
    "## 数据加载\n",
    "请注意，我们在入门示例中也解释了这一步。要执行差分表达式分析(DEA)， PyDESeq2需要两种类型的输入\n",
    "\n",
    "- 样本形状数x基因数的计数矩阵，包含读取计数(非负整数)\n",
    "- 样本数x变量数的元数据(或列数据)，包含将用于在队列中分割数据的样本注释。\n",
    "\n",
    "两者都应该作为pandas数据框架提供。\n",
    "\n",
    "为了说明所需的数据格式，我们加载了一个合成的示例数据集，该数据集可以通过使用  `utils.load_example_data()` 的PyDESeq2 API获得。您可以用自己的数据集替换它。"
   ]
  },
  {
   "cell_type": "code",
   "execution_count": 2,
   "metadata": {},
   "outputs": [
    {
     "data": {
      "text/html": [
       "<div>\n",
       "<style scoped>\n",
       "    .dataframe tbody tr th:only-of-type {\n",
       "        vertical-align: middle;\n",
       "    }\n",
       "\n",
       "    .dataframe tbody tr th {\n",
       "        vertical-align: top;\n",
       "    }\n",
       "\n",
       "    .dataframe thead th {\n",
       "        text-align: right;\n",
       "    }\n",
       "</style>\n",
       "<table border=\"1\" class=\"dataframe\">\n",
       "  <thead>\n",
       "    <tr style=\"text-align: right;\">\n",
       "      <th></th>\n",
       "      <th>gene1</th>\n",
       "      <th>gene2</th>\n",
       "      <th>gene3</th>\n",
       "      <th>gene4</th>\n",
       "      <th>gene5</th>\n",
       "      <th>gene6</th>\n",
       "      <th>gene7</th>\n",
       "      <th>gene8</th>\n",
       "      <th>gene9</th>\n",
       "      <th>gene10</th>\n",
       "    </tr>\n",
       "  </thead>\n",
       "  <tbody>\n",
       "    <tr>\n",
       "      <th>sample1</th>\n",
       "      <td>12</td>\n",
       "      <td>21</td>\n",
       "      <td>4</td>\n",
       "      <td>130</td>\n",
       "      <td>18</td>\n",
       "      <td>0</td>\n",
       "      <td>16</td>\n",
       "      <td>54</td>\n",
       "      <td>49</td>\n",
       "      <td>3</td>\n",
       "    </tr>\n",
       "    <tr>\n",
       "      <th>sample2</th>\n",
       "      <td>1</td>\n",
       "      <td>44</td>\n",
       "      <td>2</td>\n",
       "      <td>63</td>\n",
       "      <td>11</td>\n",
       "      <td>10</td>\n",
       "      <td>70</td>\n",
       "      <td>32</td>\n",
       "      <td>57</td>\n",
       "      <td>9</td>\n",
       "    </tr>\n",
       "    <tr>\n",
       "      <th>sample3</th>\n",
       "      <td>4</td>\n",
       "      <td>4</td>\n",
       "      <td>11</td>\n",
       "      <td>180</td>\n",
       "      <td>21</td>\n",
       "      <td>3</td>\n",
       "      <td>28</td>\n",
       "      <td>34</td>\n",
       "      <td>65</td>\n",
       "      <td>2</td>\n",
       "    </tr>\n",
       "    <tr>\n",
       "      <th>sample4</th>\n",
       "      <td>1</td>\n",
       "      <td>10</td>\n",
       "      <td>2</td>\n",
       "      <td>100</td>\n",
       "      <td>44</td>\n",
       "      <td>9</td>\n",
       "      <td>28</td>\n",
       "      <td>16</td>\n",
       "      <td>33</td>\n",
       "      <td>9</td>\n",
       "    </tr>\n",
       "    <tr>\n",
       "      <th>sample5</th>\n",
       "      <td>1</td>\n",
       "      <td>11</td>\n",
       "      <td>6</td>\n",
       "      <td>135</td>\n",
       "      <td>16</td>\n",
       "      <td>2</td>\n",
       "      <td>32</td>\n",
       "      <td>29</td>\n",
       "      <td>31</td>\n",
       "      <td>5</td>\n",
       "    </tr>\n",
       "    <tr>\n",
       "      <th>...</th>\n",
       "      <td>...</td>\n",
       "      <td>...</td>\n",
       "      <td>...</td>\n",
       "      <td>...</td>\n",
       "      <td>...</td>\n",
       "      <td>...</td>\n",
       "      <td>...</td>\n",
       "      <td>...</td>\n",
       "      <td>...</td>\n",
       "      <td>...</td>\n",
       "    </tr>\n",
       "    <tr>\n",
       "      <th>sample96</th>\n",
       "      <td>7</td>\n",
       "      <td>26</td>\n",
       "      <td>3</td>\n",
       "      <td>67</td>\n",
       "      <td>11</td>\n",
       "      <td>4</td>\n",
       "      <td>41</td>\n",
       "      <td>44</td>\n",
       "      <td>54</td>\n",
       "      <td>1</td>\n",
       "    </tr>\n",
       "    <tr>\n",
       "      <th>sample97</th>\n",
       "      <td>1</td>\n",
       "      <td>14</td>\n",
       "      <td>3</td>\n",
       "      <td>71</td>\n",
       "      <td>33</td>\n",
       "      <td>5</td>\n",
       "      <td>19</td>\n",
       "      <td>42</td>\n",
       "      <td>25</td>\n",
       "      <td>4</td>\n",
       "    </tr>\n",
       "    <tr>\n",
       "      <th>sample98</th>\n",
       "      <td>10</td>\n",
       "      <td>36</td>\n",
       "      <td>2</td>\n",
       "      <td>72</td>\n",
       "      <td>11</td>\n",
       "      <td>2</td>\n",
       "      <td>66</td>\n",
       "      <td>27</td>\n",
       "      <td>16</td>\n",
       "      <td>9</td>\n",
       "    </tr>\n",
       "    <tr>\n",
       "      <th>sample99</th>\n",
       "      <td>18</td>\n",
       "      <td>14</td>\n",
       "      <td>3</td>\n",
       "      <td>66</td>\n",
       "      <td>53</td>\n",
       "      <td>11</td>\n",
       "      <td>32</td>\n",
       "      <td>19</td>\n",
       "      <td>79</td>\n",
       "      <td>11</td>\n",
       "    </tr>\n",
       "    <tr>\n",
       "      <th>sample100</th>\n",
       "      <td>21</td>\n",
       "      <td>9</td>\n",
       "      <td>3</td>\n",
       "      <td>42</td>\n",
       "      <td>13</td>\n",
       "      <td>13</td>\n",
       "      <td>19</td>\n",
       "      <td>78</td>\n",
       "      <td>30</td>\n",
       "      <td>5</td>\n",
       "    </tr>\n",
       "  </tbody>\n",
       "</table>\n",
       "<p>100 rows × 10 columns</p>\n",
       "</div>"
      ],
      "text/plain": [
       "           gene1  gene2  gene3  gene4  gene5  gene6  gene7  gene8  gene9  \\\n",
       "sample1       12     21      4    130     18      0     16     54     49   \n",
       "sample2        1     44      2     63     11     10     70     32     57   \n",
       "sample3        4      4     11    180     21      3     28     34     65   \n",
       "sample4        1     10      2    100     44      9     28     16     33   \n",
       "sample5        1     11      6    135     16      2     32     29     31   \n",
       "...          ...    ...    ...    ...    ...    ...    ...    ...    ...   \n",
       "sample96       7     26      3     67     11      4     41     44     54   \n",
       "sample97       1     14      3     71     33      5     19     42     25   \n",
       "sample98      10     36      2     72     11      2     66     27     16   \n",
       "sample99      18     14      3     66     53     11     32     19     79   \n",
       "sample100     21      9      3     42     13     13     19     78     30   \n",
       "\n",
       "           gene10  \n",
       "sample1         3  \n",
       "sample2         9  \n",
       "sample3         2  \n",
       "sample4         9  \n",
       "sample5         5  \n",
       "...           ...  \n",
       "sample96        1  \n",
       "sample97        4  \n",
       "sample98        9  \n",
       "sample99       11  \n",
       "sample100       5  \n",
       "\n",
       "[100 rows x 10 columns]"
      ]
     },
     "execution_count": 2,
     "metadata": {},
     "output_type": "execute_result"
    }
   ],
   "source": [
    "# counts_df = load_example_data(\n",
    "#     modality=\"raw_counts\",\n",
    "#     dataset=\"synthetic\",\n",
    "#     debug=False,\n",
    "# )\n",
    "\n",
    "# metadata = load_example_data(\n",
    "#     modality=\"metadata\",\n",
    "#     dataset=\"synthetic\",\n",
    "#     debug=False,\n",
    "# )\n",
    "\n",
    "count_file = \"../../data/test_counts.csv\"\n",
    "counts_df = pd.read_csv(count_file,index_col=0).T\n",
    "counts_df"
   ]
  },
  {
   "cell_type": "code",
   "execution_count": 3,
   "metadata": {},
   "outputs": [
    {
     "data": {
      "text/html": [
       "<div>\n",
       "<style scoped>\n",
       "    .dataframe tbody tr th:only-of-type {\n",
       "        vertical-align: middle;\n",
       "    }\n",
       "\n",
       "    .dataframe tbody tr th {\n",
       "        vertical-align: top;\n",
       "    }\n",
       "\n",
       "    .dataframe thead th {\n",
       "        text-align: right;\n",
       "    }\n",
       "</style>\n",
       "<table border=\"1\" class=\"dataframe\">\n",
       "  <thead>\n",
       "    <tr style=\"text-align: right;\">\n",
       "      <th></th>\n",
       "      <th>condition</th>\n",
       "      <th>group</th>\n",
       "    </tr>\n",
       "  </thead>\n",
       "  <tbody>\n",
       "    <tr>\n",
       "      <th>sample1</th>\n",
       "      <td>A</td>\n",
       "      <td>X</td>\n",
       "    </tr>\n",
       "    <tr>\n",
       "      <th>sample2</th>\n",
       "      <td>A</td>\n",
       "      <td>Y</td>\n",
       "    </tr>\n",
       "    <tr>\n",
       "      <th>sample3</th>\n",
       "      <td>A</td>\n",
       "      <td>X</td>\n",
       "    </tr>\n",
       "    <tr>\n",
       "      <th>sample4</th>\n",
       "      <td>A</td>\n",
       "      <td>Y</td>\n",
       "    </tr>\n",
       "    <tr>\n",
       "      <th>sample5</th>\n",
       "      <td>A</td>\n",
       "      <td>X</td>\n",
       "    </tr>\n",
       "  </tbody>\n",
       "</table>\n",
       "</div>"
      ],
      "text/plain": [
       "        condition group\n",
       "sample1         A     X\n",
       "sample2         A     Y\n",
       "sample3         A     X\n",
       "sample4         A     Y\n",
       "sample5         A     X"
      ]
     },
     "execution_count": 3,
     "metadata": {},
     "output_type": "execute_result"
    }
   ],
   "source": [
    "metadata = \"../../data/test_metadata.csv\"\n",
    "metadata = pd.read_csv(metadata, index_col=0)\n",
    "metadata.head()"
   ]
  },
  {
   "cell_type": "markdown",
   "metadata": {},
   "source": [
    "## 读取计数建模\n",
    "\n",
    "使用`DeseqDataSet`类读取计数建模\n",
    "\n",
    "DeseqDataSet类有两个强制参数，`counts`和`metadata`，以及一组可选关键字参数，其中包括\n",
    "- design_factor:要用作设计变量的元数据列的名称\n",
    "- refit_cooks: 一般来说，建议是否对异常值进行改变。\n",
    "\n"
   ]
  },
  {
   "cell_type": "code",
   "execution_count": 4,
   "metadata": {},
   "outputs": [],
   "source": [
    "inference = DefaultInference(n_cpus=8)\n",
    "dds = DeseqDataSet(\n",
    "    counts=counts_df,\n",
    "    metadata=metadata,\n",
    "    design_factors=\"condition\",  # compare samples based on the \"condition\"\n",
    "    # column (\"B\" vs \"A\")\n",
    "    refit_cooks=True,\n",
    "    inference=inference,\n",
    ")"
   ]
  },
  {
   "cell_type": "markdown",
   "metadata": {},
   "source": [
    "## 计算归一化因子"
   ]
  },
  {
   "cell_type": "code",
   "execution_count": 5,
   "metadata": {},
   "outputs": [
    {
     "name": "stderr",
     "output_type": "stream",
     "text": [
      "Fitting size factors...\n",
      "... done in 0.00 seconds.\n",
      "\n"
     ]
    },
    {
     "data": {
      "text/plain": [
       "array([1.22898094, 1.18877375, 0.99722229, 1.00215773, 0.83457743,\n",
       "       1.10730382, 0.8999001 , 1.15343785, 0.68163849, 1.29764537,\n",
       "       1.04491511, 1.45930946, 1.14588441, 0.8049275 , 0.88402672,\n",
       "       0.88402672, 1.32879767, 0.82564657, 1.5978062 , 1.29764537,\n",
       "       1.31940196, 0.69919197, 1.10697146, 1.10214803, 1.19152118,\n",
       "       1.0624452 , 0.98548229, 0.76881428, 0.8939601 , 1.27135863,\n",
       "       1.61101905, 1.55084302, 0.83601298, 0.98213727, 1.27270212,\n",
       "       1.0510719 , 1.76078144, 1.08132885, 1.50390106, 1.0510719 ,\n",
       "       0.80280751, 0.70955247, 1.32602392, 0.98031899, 1.1078077 ,\n",
       "       0.68792508, 0.90429564, 1.56411155, 0.81918767, 1.19364837,\n",
       "       0.79492024, 1.84963565, 0.79694628, 0.79708276, 0.97287297,\n",
       "       1.16248554, 1.50489413, 1.41929759, 1.04612122, 1.05720226,\n",
       "       0.99635345, 1.84224912, 1.03801163, 0.89633874, 0.72952979,\n",
       "       1.33453944, 0.93968061, 1.14016425, 1.59166589, 1.08554239,\n",
       "       0.72370261, 0.91558563, 1.14183629, 1.33857618, 0.94450599,\n",
       "       0.85266438, 1.38005658, 1.01803293, 1.04472988, 1.25372879,\n",
       "       1.77488931, 0.92641092, 1.06341062, 1.05653145, 0.61973175,\n",
       "       0.75569423, 0.69781308, 1.38512317, 0.82165798, 0.81330537,\n",
       "       0.96864497, 1.08526199, 0.78205578, 0.98864287, 1.15322141,\n",
       "       1.26935914, 0.74399805, 0.73987825, 0.95887987, 0.63570796])"
      ]
     },
     "execution_count": 5,
     "metadata": {},
     "output_type": "execute_result"
    }
   ],
   "source": [
    "dds.fit_size_factors()\n",
    "\n",
    "dds.obsm[\"size_factors\"]"
   ]
  },
  {
   "cell_type": "markdown",
   "metadata": {},
   "source": [
    "## 拟合离散趋势系数\n"
   ]
  },
  {
   "cell_type": "code",
   "execution_count": 6,
   "metadata": {},
   "outputs": [
    {
     "name": "stderr",
     "output_type": "stream",
     "text": [
      "Fitting dispersions...\n",
      "... done in 0.02 seconds.\n",
      "\n",
      "Fitting dispersion trend curve...\n",
      "... done in 0.01 seconds.\n",
      "\n"
     ]
    },
    {
     "data": {
      "text/plain": [
       "array([0.65142434, 0.31300062, 1.04986539, 0.13414536, 0.264005  ,\n",
       "       0.97812827, 0.25676459, 0.20575044, 0.21602633, 0.50274561])"
      ]
     },
     "execution_count": 6,
     "metadata": {},
     "output_type": "execute_result"
    }
   ],
   "source": [
    "dds.fit_dispersion_trend()\n"
   ]
  },
  {
   "cell_type": "code",
   "execution_count": 7,
   "metadata": {},
   "outputs": [
    {
     "data": {
      "text/plain": [
       "a0    0.086109\n",
       "a1    4.828540\n",
       "dtype: float64"
      ]
     },
     "execution_count": 7,
     "metadata": {},
     "output_type": "execute_result"
    }
   ],
   "source": [
    "dds.uns[\"trend_coeffs\"]\n"
   ]
  },
  {
   "cell_type": "code",
   "execution_count": 8,
   "metadata": {},
   "outputs": [
    {
     "data": {
      "text/plain": [
       "array([0.65142434, 0.31300062, 1.04986539, 0.13414536, 0.264005  ,\n",
       "       0.97812827, 0.25676459, 0.20575044, 0.21602633, 0.50274561])"
      ]
     },
     "execution_count": 8,
     "metadata": {},
     "output_type": "execute_result"
    }
   ],
   "source": [
    "dds.varm[\"fitted_dispersions\"]"
   ]
  },
  {
   "cell_type": "markdown",
   "metadata": {},
   "source": [
    "## 分散先验"
   ]
  },
  {
   "cell_type": "code",
   "execution_count": 9,
   "metadata": {},
   "outputs": [],
   "source": [
    "dds.fit_dispersion_prior()"
   ]
  },
  {
   "cell_type": "code",
   "execution_count": 10,
   "metadata": {},
   "outputs": [
    {
     "name": "stdout",
     "output_type": "stream",
     "text": [
      "logres_prior=0.055924936547501455, sigma_prior=0.25\n"
     ]
    }
   ],
   "source": [
    "print(\n",
    "    f\"logres_prior={dds.uns['_squared_logres']}, sigma_prior={dds.uns['prior_disp_var']}\"\n",
    ")"
   ]
  },
  {
   "cell_type": "markdown",
   "metadata": {},
   "source": [
    "## MAP 分散\n",
    "\n",
    "拟合`fit_MAP_dispersions`方法过滤应用分散体收缩的基因。实际上，对于MLE离散度高于趋势曲线的基因，其MLE值保持不变。用于下游分析的色散的最终值存储在`dds.dispersions`中。"
   ]
  },
  {
   "cell_type": "code",
   "execution_count": 11,
   "metadata": {},
   "outputs": [
    {
     "name": "stderr",
     "output_type": "stream",
     "text": [
      "Fitting MAP dispersions...\n",
      "... done in 1.10 seconds.\n",
      "\n"
     ]
    }
   ],
   "source": [
    "dds.fit_MAP_dispersions()"
   ]
  },
  {
   "cell_type": "code",
   "execution_count": 12,
   "metadata": {},
   "outputs": [
    {
     "data": {
      "text/plain": [
       "array([0.88259824, 0.22257849, 0.83723751, 0.15897038, 0.24992574,\n",
       "       0.97364737, 0.23515474, 0.19878066, 0.18652019, 0.63189957])"
      ]
     },
     "execution_count": 12,
     "metadata": {},
     "output_type": "execute_result"
    }
   ],
   "source": [
    "dds.varm[\"MAP_dispersions\"]\n"
   ]
  },
  {
   "cell_type": "code",
   "execution_count": 13,
   "metadata": {},
   "outputs": [
    {
     "data": {
      "text/plain": [
       "array([0.88259824, 0.22257849, 0.83723751, 0.15897038, 0.24992574,\n",
       "       0.97364737, 0.23515474, 0.19878066, 0.18652019, 0.63189957])"
      ]
     },
     "execution_count": 13,
     "metadata": {},
     "output_type": "execute_result"
    }
   ],
   "source": [
    "dds.varm[\"dispersions\"]"
   ]
  },
  {
   "cell_type": "markdown",
   "metadata": {},
   "source": [
    "## 拟合`log fold`变化\n",
    "\n",
    "请注意，在DeseqDataSet对象中，log-fold更改以自然对数尺度存储，但DeseqStats的摘要方法输出的结果数据帧以log2尺度显示lfc(请参阅后面的内容)。"
   ]
  },
  {
   "cell_type": "code",
   "execution_count": 14,
   "metadata": {},
   "outputs": [
    {
     "name": "stderr",
     "output_type": "stream",
     "text": [
      "Fitting LFCs...\n",
      "... done in 0.01 seconds.\n",
      "\n"
     ]
    }
   ],
   "source": [
    "dds.fit_LFC()\n"
   ]
  },
  {
   "cell_type": "code",
   "execution_count": 15,
   "metadata": {},
   "outputs": [
    {
     "data": {
      "text/html": [
       "<div>\n",
       "<style scoped>\n",
       "    .dataframe tbody tr th:only-of-type {\n",
       "        vertical-align: middle;\n",
       "    }\n",
       "\n",
       "    .dataframe tbody tr th {\n",
       "        vertical-align: top;\n",
       "    }\n",
       "\n",
       "    .dataframe thead th {\n",
       "        text-align: right;\n",
       "    }\n",
       "</style>\n",
       "<table border=\"1\" class=\"dataframe\">\n",
       "  <thead>\n",
       "    <tr style=\"text-align: right;\">\n",
       "      <th></th>\n",
       "      <th>intercept</th>\n",
       "      <th>condition_B_vs_A</th>\n",
       "    </tr>\n",
       "  </thead>\n",
       "  <tbody>\n",
       "    <tr>\n",
       "      <th>gene1</th>\n",
       "      <td>1.891436</td>\n",
       "      <td>0.438632</td>\n",
       "    </tr>\n",
       "    <tr>\n",
       "      <th>gene2</th>\n",
       "      <td>2.851662</td>\n",
       "      <td>0.373296</td>\n",
       "    </tr>\n",
       "    <tr>\n",
       "      <th>gene3</th>\n",
       "      <td>1.787780</td>\n",
       "      <td>-0.438645</td>\n",
       "    </tr>\n",
       "    <tr>\n",
       "      <th>gene4</th>\n",
       "      <td>4.741958</td>\n",
       "      <td>-0.285647</td>\n",
       "    </tr>\n",
       "    <tr>\n",
       "      <th>gene5</th>\n",
       "      <td>3.077798</td>\n",
       "      <td>0.403457</td>\n",
       "    </tr>\n",
       "    <tr>\n",
       "      <th>gene6</th>\n",
       "      <td>1.678536</td>\n",
       "      <td>0.001010</td>\n",
       "    </tr>\n",
       "    <tr>\n",
       "      <th>gene7</th>\n",
       "      <td>3.291025</td>\n",
       "      <td>0.093116</td>\n",
       "    </tr>\n",
       "    <tr>\n",
       "      <th>gene8</th>\n",
       "      <td>3.785129</td>\n",
       "      <td>-0.187604</td>\n",
       "    </tr>\n",
       "    <tr>\n",
       "      <th>gene9</th>\n",
       "      <td>3.682882</td>\n",
       "      <td>-0.147443</td>\n",
       "    </tr>\n",
       "    <tr>\n",
       "      <th>gene10</th>\n",
       "      <td>2.300515</td>\n",
       "      <td>0.267562</td>\n",
       "    </tr>\n",
       "  </tbody>\n",
       "</table>\n",
       "</div>"
      ],
      "text/plain": [
       "        intercept  condition_B_vs_A\n",
       "gene1    1.891436          0.438632\n",
       "gene2    2.851662          0.373296\n",
       "gene3    1.787780         -0.438645\n",
       "gene4    4.741958         -0.285647\n",
       "gene5    3.077798          0.403457\n",
       "gene6    1.678536          0.001010\n",
       "gene7    3.291025          0.093116\n",
       "gene8    3.785129         -0.187604\n",
       "gene9    3.682882         -0.147443\n",
       "gene10   2.300515          0.267562"
      ]
     },
     "execution_count": 15,
     "metadata": {},
     "output_type": "execute_result"
    }
   ],
   "source": [
    "dds.varm[\"LFC\"]"
   ]
  },
  {
   "cell_type": "markdown",
   "metadata": {},
   "source": [
    "## 计算`Cooks`距离和`refit`\n",
    "\n",
    "注意，这一步是可选的"
   ]
  },
  {
   "cell_type": "code",
   "execution_count": 16,
   "metadata": {},
   "outputs": [
    {
     "name": "stderr",
     "output_type": "stream",
     "text": [
      "Calculating cook's distance...\n",
      "... done in 0.01 seconds.\n",
      "\n",
      "Replacing 0 outlier genes.\n",
      "\n"
     ]
    }
   ],
   "source": [
    "dds.calculate_cooks()\n",
    "if dds.refit_cooks:\n",
    "    # Replace outlier counts\n",
    "    dds.refit()"
   ]
  },
  {
   "cell_type": "markdown",
   "metadata": {},
   "source": [
    "## Save everything\n"
   ]
  },
  {
   "cell_type": "code",
   "execution_count": null,
   "metadata": {},
   "outputs": [],
   "source": [
    "if SAVE:\n",
    "    with open(os.path.join(OUTPUT_PATH, \"dds_detailed_pipe.pkl\"), \"wb\") as f:\n",
    "        pkl.dump(dds, f)"
   ]
  },
  {
   "cell_type": "markdown",
   "metadata": {},
   "source": [
    "## 统计分析\n",
    "\n",
    "使用`DeseqStats`类进行统计分析。`DeseqDataSet`类有一个唯一的强制参数`dds`，它应该是一个合适的`DeseqDataSet`对象，以及一组可选的关键字参数，其中包括\n",
    "- Alpha: p值和调整后的p值显著性阈值\n",
    "- Cooks filter:是否根据Cooks异常值过滤p值\n",
    "- independent_filter:是否对p值趋势进行独立过滤。"
   ]
  },
  {
   "cell_type": "code",
   "execution_count": 17,
   "metadata": {},
   "outputs": [],
   "source": [
    "stat_res = DeseqStats(dds, alpha=0.05, cooks_filter=True, independent_filter=True)"
   ]
  },
  {
   "cell_type": "markdown",
   "metadata": {},
   "source": [
    "## Wald tests"
   ]
  },
  {
   "cell_type": "code",
   "execution_count": 18,
   "metadata": {},
   "outputs": [
    {
     "name": "stderr",
     "output_type": "stream",
     "text": [
      "Running Wald tests...\n",
      "... done in 1.07 seconds.\n",
      "\n"
     ]
    },
    {
     "data": {
      "text/plain": [
       "gene1     0.028604\n",
       "gene2     0.000329\n",
       "gene3     0.032075\n",
       "gene4     0.000513\n",
       "gene5     0.000168\n",
       "gene6     0.996253\n",
       "gene7     0.370297\n",
       "gene8     0.047227\n",
       "gene9     0.110391\n",
       "gene10    0.114518\n",
       "dtype: float64"
      ]
     },
     "execution_count": 18,
     "metadata": {},
     "output_type": "execute_result"
    }
   ],
   "source": [
    "stat_res.run_wald_test()\n",
    "stat_res.p_values"
   ]
  },
  {
   "cell_type": "markdown",
   "metadata": {},
   "source": [
    "## Cooks filtering\n",
    "\n",
    "这是可选的"
   ]
  },
  {
   "cell_type": "code",
   "execution_count": 19,
   "metadata": {},
   "outputs": [
    {
     "data": {
      "text/plain": [
       "gene1     0.028604\n",
       "gene2     0.000329\n",
       "gene3     0.032075\n",
       "gene4     0.000513\n",
       "gene5     0.000168\n",
       "gene6     0.996253\n",
       "gene7     0.370297\n",
       "gene8     0.047227\n",
       "gene9     0.110391\n",
       "gene10    0.114518\n",
       "dtype: float64"
      ]
     },
     "execution_count": 19,
     "metadata": {},
     "output_type": "execute_result"
    }
   ],
   "source": [
    "if stat_res.cooks_filter:\n",
    "    stat_res._cooks_filtering()\n",
    "stat_res.p_values"
   ]
  },
  {
   "cell_type": "markdown",
   "metadata": {},
   "source": [
    "## P-value adjustment"
   ]
  },
  {
   "cell_type": "code",
   "execution_count": 20,
   "metadata": {},
   "outputs": [
    {
     "data": {
      "text/plain": [
       "gene1     0.064150\n",
       "gene2     0.001646\n",
       "gene3     0.064150\n",
       "gene4     0.001710\n",
       "gene5     0.001646\n",
       "gene6     0.996253\n",
       "gene7     0.411441\n",
       "gene8     0.078711\n",
       "gene9     0.143147\n",
       "gene10    0.143147\n",
       "Name: 0, dtype: float64"
      ]
     },
     "execution_count": 20,
     "metadata": {},
     "output_type": "execute_result"
    }
   ],
   "source": [
    "if stat_res.independent_filter:\n",
    "    stat_res._independent_filtering()\n",
    "else:\n",
    "    stat_res._p_value_adjustment()\n",
    "\n",
    "stat_res.padj"
   ]
  },
  {
   "cell_type": "markdown",
   "metadata": {},
   "source": [
    "## 构建结果数据框架\n",
    "该数据框存储在`DeseqStats`类的`results_df`属性中。"
   ]
  },
  {
   "cell_type": "code",
   "execution_count": 21,
   "metadata": {},
   "outputs": [
    {
     "name": "stdout",
     "output_type": "stream",
     "text": [
      "Log2 fold change & Wald test p-value: condition B vs A\n",
      "          baseMean  log2FoldChange     lfcSE      stat    pvalue      padj\n",
      "gene1     8.541317        0.632812  0.289101  2.188898  0.028604  0.064150\n",
      "gene2    21.281239        0.538552  0.149963  3.591236  0.000329  0.001646\n",
      "gene3     5.010123       -0.632830  0.295236 -2.143476  0.032075  0.064150\n",
      "gene4   100.517961       -0.412102  0.118629 -3.473868  0.000513  0.001710\n",
      "gene5    27.142450        0.582065  0.154706  3.762409  0.000168  0.001646\n",
      "gene6     5.413043        0.001457  0.310311  0.004696  0.996253  0.996253\n",
      "gene7    28.294023        0.134338  0.149945  0.895917  0.370297  0.411441\n",
      "gene8    40.358344       -0.270656  0.136401 -1.984261  0.047227  0.078711\n",
      "gene9    37.166183       -0.212715  0.133243 -1.596437  0.110391  0.143147\n",
      "gene10   11.589325        0.386011  0.244588  1.578207  0.114518  0.143147\n"
     ]
    }
   ],
   "source": [
    "stat_res.summary()"
   ]
  },
  {
   "cell_type": "markdown",
   "metadata": {},
   "source": [
    "如果Save设置为True，则保存所有内容"
   ]
  },
  {
   "cell_type": "code",
   "execution_count": null,
   "metadata": {},
   "outputs": [],
   "source": [
    "if SAVE:\n",
    "    with open(os.path.join(OUTPUT_PATH, \"stat_results_detailed_pipe.pkl\"), \"wb\") as f:\n",
    "        pkl.dump(stat_res, f)"
   ]
  },
  {
   "cell_type": "markdown",
   "metadata": {},
   "source": [
    "## LFC Shrinkage\n",
    "出于可视化或后处理的目的，可能适合执行LFC收缩。这是由`lfc_shrink `方法实现的。"
   ]
  },
  {
   "cell_type": "code",
   "execution_count": 22,
   "metadata": {},
   "outputs": [
    {
     "name": "stdout",
     "output_type": "stream",
     "text": [
      "Shrunk log2 fold change & Wald test p-value: condition B vs A\n",
      "          baseMean  log2FoldChange     lfcSE      stat    pvalue      padj\n",
      "gene1     8.541317        0.408253  0.294276  2.188898  0.028604  0.064150\n",
      "gene2    21.281239        0.480145  0.151201  3.591236  0.000329  0.001646\n",
      "gene3     5.010123       -0.396066  0.300796 -2.143476  0.032075  0.064150\n",
      "gene4   100.517961       -0.374191  0.118703 -3.473868  0.000513  0.001710\n",
      "gene5    27.142450        0.521487  0.156210  3.762409  0.000168  0.001646\n",
      "gene6     5.413043        0.000716  0.239203  0.004696  0.996253  0.996253\n",
      "gene7    28.294023        0.103421  0.141496  0.895917  0.370297  0.411441\n",
      "gene8    40.358344       -0.226288  0.133477 -1.984261  0.047227  0.078711\n",
      "gene9    37.166183       -0.175746  0.129138 -1.596437  0.110391  0.143147\n",
      "gene10   11.589325        0.239935  0.231986  1.578207  0.114518  0.143147\n"
     ]
    },
    {
     "name": "stderr",
     "output_type": "stream",
     "text": [
      "Fitting MAP LFCs...\n",
      "... done in 0.01 seconds.\n",
      "\n"
     ]
    }
   ],
   "source": [
    "stat_res.lfc_shrink(coeff=\"condition_B_vs_A\")"
   ]
  },
  {
   "cell_type": "markdown",
   "metadata": {},
   "source": [
    "## Save everything"
   ]
  },
  {
   "cell_type": "code",
   "execution_count": null,
   "metadata": {},
   "outputs": [],
   "source": [
    "if SAVE:\n",
    "    with open(\n",
    "        os.path.join(OUTPUT_PATH, \"shrunk_stat_results_detailed_pipe.pkl\"), \"wb\"\n",
    "    ) as f:\n",
    "        pkl.dump(stat_res, f)"
   ]
  }
 ],
 "metadata": {
  "kernelspec": {
   "display_name": "Python 3",
   "language": "python",
   "name": "python3"
  },
  "language_info": {
   "codemirror_mode": {
    "name": "ipython",
    "version": 3
   },
   "file_extension": ".py",
   "mimetype": "text/x-python",
   "name": "python",
   "nbconvert_exporter": "python",
   "pygments_lexer": "ipython3",
   "version": "3.11.9"
  }
 },
 "nbformat": 4,
 "nbformat_minor": 2
}
