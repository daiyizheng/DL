{
 "cells": [
  {
   "cell_type": "markdown",
   "metadata": {},
   "source": [
    "# Irreps"
   ]
  },
  {
   "cell_type": "markdown",
   "metadata": {},
   "source": [
    "群表示(D,V)描述了群G在向量空间V上的作用。                \n",
    "$D: G \\longrightarrow \\text { 线性映射在 } V \\text {. }$                \n",
    "不可约表示，简而言之，不可约表示是最小的表示。                  \n",
    "- 任何表示法都可以通过基的变换分解成不可逆的直接和\n",
    "- 任何物理量在$O(3)$的作用下，用$O(3)$的表示变换。\n",
    "\n",
    "SO(3)的矩阵称为维格纳矩阵$D^L$。逆群$({e,I})$的逆表示为平凡表示$σ^+$和符号表示$σ^-$。\n",
    "\n",
    "$$\\sigma_p(g)=\\left\\{\\begin{array}{l}\n",
    "1 \\text { if } g=e \\\\\n",
    "p \\text { if } g=I\n",
    "\\end{array}\\right.$$\n",
    "\n",
    "群$O(3)$是$SO(3)$与逆的直接乘积。                                \n",
    "$g=r i, \\quad r \\in S O(3), i \\in \\text { inversion. }$\n",
    "\n",
    "$O(3)$的不可约是SO(3)的不可约和反转的乘积。类[e3nn的实例](https://docs.e3nn.org/en/latest/api/o3/o3_irreps.html#e3nn.o3.Irreps)表示$0(3)$不可约的直接和。\n",
    "\n",
    "$$g=r i \\mapsto \\bigoplus_{j=1}^n m_j \\times \\sigma_{p_j}(i) D^{L_j}(r)$$\n",
    "\n",
    "$\\left(m_j \\in \\mathbb{N}, p_j= \\pm 1, L_j=0,1,2,3, \\ldots\\right)_{j=1}^n$定义了[`e3nn.o3.Irreps`](https://docs.e3nn.org/en/latest/api/o3/o3_irreps.html#e3nn.o3.Irreps)\n",
    "\n",
    "$0(3)$的重复和球谐波经常混淆，重复和球谐波之间的关系在[<球谐波>](https://docs.e3nn.org/en/latest/api/o3/o3_sh.html#spherical-harmonics)一章中作了解释。"
   ]
  },
  {
   "cell_type": "markdown",
   "metadata": {},
   "source": [
    "`class e3nn.o3.Irrep(l: int | Irrep | str | tuple, p=None)`                \n",
    "基础$Tuple$                              \n",
    "不可约表示$SO(3)$               \n",
    "这个类不包含任何数据，它是一个描述表示的结构。它通常用作库中其他类的参数，以定义函数的输入和输出表示。                  \n",
    "\n",
    "- 参数: $L$ (int)非负整数，表示的程度 $l=0,1, \\ldots$                                        \n",
    "        $p ({1, -1})$ 表示的奇偶性\n",
    "\n",
    " \n",
    "        "
   ]
  },
  {
   "cell_type": "markdown",
   "metadata": {},
   "source": [
    "## 方法\n",
    "| 方法 | 备注 |\n",
    "|--|--|\n",
    "| `D_from_angles(alpha, beta, gamma[, k])` | $\\text { Matrix } p^k D^l(\\alpha, \\beta, \\gamma)$ |\n",
    "| `D_from_axis_angle(axis, angle)` | 表示的矩阵，请参见[Irrep.D_from_angles](https://docs.e3nn.org/en/latest/api/o3/o3_irreps.html#e3nn.o3.Irrep.D_from_angles) |\n",
    "| `D_from_matrix(R)` | 表示的矩阵，请参见[Irrep.D_from_angles](https://docs.e3nn.org/en/latest/api/o3/o3_irreps.html#e3nn.o3.Irrep.D_from_angles) |\n",
    "| `D_from_quaternion(q[, k])` | 表示的矩阵，请参见[Irrep.D_from_angles](https://docs.e3nn.org/en/latest/api/o3/o3_irreps.html#e3nn.o3.Irrep.D_from_angles) |\n",
    "| `count(_value)` | 返回value出现的次数。 |\n",
    "| `index(_value)` | 返回第一个值索引。 |\n",
    "| `is_scalar()` | 等价于$l == 0$和$p == 1$ |\n",
    "| `iterator([lmax])` | 遍历O(3)的所有结点的迭代器 |\n",
    "\n"
   ]
  },
  {
   "cell_type": "markdown",
   "metadata": {},
   "source": [
    "## 属性\n",
    "| 属性 | 备注 |\n",
    "|--|--|\n",
    "| `dim` | 表示的维度，$2l+1$ |\n",
    "| `l` | 度表示，$l=0,1...$ |\n",
    "| `p` | 奇偶性表示，$p= \\pm 1$ |"
   ]
  },
  {
   "cell_type": "markdown",
   "metadata": {},
   "source": [
    "## 实例\n"
   ]
  },
  {
   "cell_type": "code",
   "execution_count": 2,
   "metadata": {},
   "outputs": [
    {
     "name": "stderr",
     "output_type": "stream",
     "text": [
      "/DYZ/dyz1/anaconda3/envs/cv_project/lib/python3.7/site-packages/tqdm/auto.py:21: TqdmWarning: IProgress not found. Please update jupyter and ipywidgets. See https://ipywidgets.readthedocs.io/en/stable/user_install.html\n",
      "  from .autonotebook import tqdm as notebook_tqdm\n"
     ]
    }
   ],
   "source": [
    "from e3nn import o3"
   ]
  },
  {
   "cell_type": "code",
   "execution_count": 3,
   "metadata": {},
   "outputs": [
    {
     "data": {
      "text/plain": [
       "1x1o"
      ]
     },
     "execution_count": 3,
     "metadata": {},
     "output_type": "execute_result"
    }
   ],
   "source": [
    "irreps = o3.Irreps(\"1o\")\n",
    "irreps"
   ]
  },
  {
   "cell_type": "code",
   "execution_count": 4,
   "metadata": {},
   "outputs": [
    {
     "name": "stdout",
     "output_type": "stream",
     "text": [
      "1\n",
      "1x1o\n",
      "2\n",
      "1\n",
      "1o\n",
      "1 -1\n"
     ]
    }
   ],
   "source": [
    "# Tuple[Tuple[int, Tuple[int, int]]]\n",
    "# ((multiplicity, (l, p)), ...)\n",
    "\n",
    "print(len(irreps))\n",
    "mul_ir = irreps[0]  # a tuple\n",
    "\n",
    "print(mul_ir)\n",
    "print(len(mul_ir))\n",
    "mul = mul_ir[0]  # an int\n",
    "ir = mul_ir[1]  # another tuple\n",
    "\n",
    "print(mul)\n",
    "\n",
    "print(ir)\n",
    "# print(len(ir))  ir is a tuple of 2 ints but __len__ has been disabled since it is always 2\n",
    "l = ir[0]\n",
    "p = ir[1]\n",
    "\n",
    "print(l, p)"
   ]
  },
  {
   "cell_type": "markdown",
   "metadata": {},
   "source": [
    "给出对应于反转的变换矩阵"
   ]
  },
  {
   "cell_type": "code",
   "execution_count": 5,
   "metadata": {},
   "outputs": [
    {
     "name": "stdout",
     "output_type": "stream",
     "text": [
      "tensor(1)\n"
     ]
    },
    {
     "data": {
      "text/plain": [
       "tensor([[-1., -0., -0.],\n",
       "        [-0., -1., -0.],\n",
       "        [-0., -0., -1.]])"
      ]
     },
     "execution_count": 5,
     "metadata": {},
     "output_type": "execute_result"
    }
   ],
   "source": [
    "import torch\n",
    "t = torch.tensor\n",
    "print(t(1))\n",
    "# show the transformation matrix corresponding to the inversion\n",
    "irreps.D_from_angles(alpha=t(0.0), beta=t(0.0), gamma=t(0.0), k=t(1))"
   ]
  },
  {
   "cell_type": "markdown",
   "metadata": {},
   "source": [
    "绕y轴做一个小旋转"
   ]
  },
  {
   "cell_type": "code",
   "execution_count": 9,
   "metadata": {},
   "outputs": [
    {
     "data": {
      "text/plain": [
       "tensor([[ 0.9950,  0.0000,  0.0998],\n",
       "        [ 0.0000,  1.0000,  0.0000],\n",
       "        [-0.0998,  0.0000,  0.9950]])"
      ]
     },
     "execution_count": 9,
     "metadata": {},
     "output_type": "execute_result"
    }
   ],
   "source": [
    "irreps.D_from_angles(alpha=t(0.1), beta=t(0.0), gamma=t(0.0), k=t(0))"
   ]
  },
  {
   "cell_type": "markdown",
   "metadata": {},
   "source": [
    "## 变换示例"
   ]
  },
  {
   "cell_type": "code",
   "execution_count": 10,
   "metadata": {},
   "outputs": [
    {
     "data": {
      "image/png": "[encoded data removed]",
      "text/plain": [
       "<Figure size 640x480 with 1 Axes>"
      ]
     },
     "metadata": {},
     "output_type": "display_data"
    }
   ],
   "source": [
    "irreps = o3.Irreps(\"7x0e + 3x0o + 5x1o + 5x2o\")\n",
    "rot = -o3.rand_matrix()\n",
    "\n",
    "D = irreps.D_from_matrix(rot)\n",
    "\n",
    "import matplotlib.pyplot as plt\n",
    "plt.imshow(D, cmap='bwr', vmin=-1, vmax=1);"
   ]
  },
  {
   "cell_type": "markdown",
   "metadata": {},
   "source": [
    "\n",
    "创建偶数奇偶的标量表示(l=0)。"
   ]
  },
  {
   "cell_type": "code",
   "execution_count": 6,
   "metadata": {},
   "outputs": [
    {
     "data": {
      "text/plain": [
       "0e"
      ]
     },
     "execution_count": 6,
     "metadata": {},
     "output_type": "execute_result"
    }
   ],
   "source": [
    "o3.Irrep(0, 1)"
   ]
  },
  {
   "cell_type": "markdown",
   "metadata": {},
   "source": [
    "创建奇数奇偶校验的伪张量表示(l=2)。"
   ]
  },
  {
   "cell_type": "code",
   "execution_count": 7,
   "metadata": {},
   "outputs": [
    {
     "data": {
      "text/plain": [
       "2o"
      ]
     },
     "execution_count": 7,
     "metadata": {},
     "output_type": "execute_result"
    }
   ],
   "source": [
    "o3.Irrep(2, -1)"
   ]
  },
  {
   "cell_type": "markdown",
   "metadata": {},
   "source": [
    "创建球形谐波奇偶校验的向量表示$(L = 1)$($-1^l$给出奇数)。"
   ]
  },
  {
   "cell_type": "code",
   "execution_count": 8,
   "metadata": {},
   "outputs": [
    {
     "data": {
      "text/plain": [
       "1o"
      ]
     },
     "execution_count": 8,
     "metadata": {},
     "output_type": "execute_result"
    }
   ],
   "source": [
    "o3.Irrep(\"1y\")"
   ]
  },
  {
   "cell_type": "code",
   "execution_count": 9,
   "metadata": {},
   "outputs": [
    {
     "data": {
      "text/plain": [
       "5"
      ]
     },
     "execution_count": 9,
     "metadata": {},
     "output_type": "execute_result"
    }
   ],
   "source": [
    "o3.Irrep(\"2o\").dim"
   ]
  },
  {
   "cell_type": "code",
   "execution_count": 7,
   "metadata": {},
   "outputs": [
    {
     "data": {
      "text/plain": [
       "[0e, 1e, 2e]"
      ]
     },
     "execution_count": 7,
     "metadata": {},
     "output_type": "execute_result"
    }
   ],
   "source": [
    "list(o3.Irrep(\"1o\") * o3.Irrep(\"1o\"))"
   ]
  },
  {
   "cell_type": "code",
   "execution_count": 10,
   "metadata": {},
   "outputs": [
    {
     "data": {
      "text/plain": [
       "True"
      ]
     },
     "execution_count": 10,
     "metadata": {},
     "output_type": "execute_result"
    }
   ],
   "source": [
    "o3.Irrep(\"2e\") in o3.Irrep(\"1o\") * o3.Irrep(\"1o\")"
   ]
  },
  {
   "cell_type": "code",
   "execution_count": 11,
   "metadata": {},
   "outputs": [
    {
     "data": {
      "text/plain": [
       "1x1o+1x2o"
      ]
     },
     "execution_count": 11,
     "metadata": {},
     "output_type": "execute_result"
    }
   ],
   "source": [
    "o3.Irrep(\"1o\") + o3.Irrep(\"2o\")"
   ]
  },
  {
   "cell_type": "code",
   "execution_count": 14,
   "metadata": {},
   "outputs": [
    {
     "data": {
      "text/plain": [
       "[0e, 1e, 2e]"
      ]
     },
     "execution_count": 14,
     "metadata": {},
     "output_type": "execute_result"
    }
   ],
   "source": [
    "from e3nn.o3 import Irrep, Irreps\n",
    "import torch\n",
    "\n",
    "list(Irrep(\"1o\") * Irrep(\"1o\"))"
   ]
  },
  {
   "cell_type": "code",
   "execution_count": 20,
   "metadata": {},
   "outputs": [
    {
     "ename": "NotImplementedError",
     "evalue": "Use o3.TensorProduct for this, see the documentation",
     "output_type": "error",
     "traceback": [
      "\u001b[0;31m---------------------------------------------------------------------------\u001b[0m",
      "\u001b[0;31mNotImplementedError\u001b[0m                       Traceback (most recent call last)",
      "\u001b[1;32m/slurm/home/yrd/shaolab/daiyizheng/github_project/DL/98-Open-Source-Framework/e3nn_tutorial/Irreps.ipynb 单元格 27\u001b[0m line \u001b[0;36m1\n\u001b[0;32m----> <a href='vscode-notebook-cell://ssh-remote%2Bzju_out_debug/slurm/home/yrd/shaolab/daiyizheng/github_project/DL/98-Open-Source-Framework/e3nn_tutorial/Irreps.ipynb#X35sdnNjb2RlLXJlbW90ZQ%3D%3D?line=0'>1</a>\u001b[0m Irreps(\u001b[39m\"\u001b[39;49m\u001b[39m16x1o\u001b[39;49m\u001b[39m\"\u001b[39;49m) \u001b[39m*\u001b[39;49m Irreps(\u001b[39m\"\u001b[39;49m\u001b[39m16x1o\u001b[39;49m\u001b[39m\"\u001b[39;49m)\n",
      "File \u001b[0;32m~/.conda/envs/langechain/lib/python3.10/site-packages/e3nn/o3/_irreps.py:522\u001b[0m, in \u001b[0;36mIrreps.__mul__\u001b[0;34m(self, other)\u001b[0m\n\u001b[1;32m    517\u001b[0m \u001b[39m\u001b[39m\u001b[39mr\u001b[39m\u001b[39m\"\"\"\u001b[39;00m\n\u001b[1;32m    518\u001b[0m \u001b[39m>>> (Irreps('2x1e') * 3).simplify()\u001b[39;00m\n\u001b[1;32m    519\u001b[0m \u001b[39m6x1e\u001b[39;00m\n\u001b[1;32m    520\u001b[0m \u001b[39m\"\"\"\u001b[39;00m\n\u001b[1;32m    521\u001b[0m \u001b[39mif\u001b[39;00m \u001b[39misinstance\u001b[39m(other, Irreps):\n\u001b[0;32m--> 522\u001b[0m     \u001b[39mraise\u001b[39;00m \u001b[39mNotImplementedError\u001b[39;00m(\u001b[39m\"\u001b[39m\u001b[39mUse o3.TensorProduct for this, see the documentation\u001b[39m\u001b[39m\"\u001b[39m)\n\u001b[1;32m    523\u001b[0m \u001b[39mreturn\u001b[39;00m Irreps(\u001b[39msuper\u001b[39m()\u001b[39m.\u001b[39m\u001b[39m__mul__\u001b[39m(other))\n",
      "\u001b[0;31mNotImplementedError\u001b[0m: Use o3.TensorProduct for this, see the documentation"
     ]
    }
   ],
   "source": [
    "Irreps(\"16x1o\") + Irreps(\"16x1o\")"
   ]
  },
  {
   "cell_type": "code",
   "execution_count": 4,
   "metadata": {},
   "outputs": [
    {
     "data": {
      "text/plain": [
       "tensor([[-1., -0., -0.],\n",
       "        [-0., -1., -0.],\n",
       "        [-0., -0., -1.]])"
      ]
     },
     "execution_count": 4,
     "metadata": {},
     "output_type": "execute_result"
    }
   ],
   "source": [
    "-torch.eye(3)"
   ]
  },
  {
   "cell_type": "code",
   "execution_count": 11,
   "metadata": {},
   "outputs": [
    {
     "data": {
      "text/plain": [
       "torch.Size([35, 35])"
      ]
     },
     "execution_count": 11,
     "metadata": {},
     "output_type": "execute_result"
    }
   ],
   "source": [
    "Irreps(\"5x0e + 10x1o\").randn(-1, 35, normalization='norm').shape"
   ]
  },
  {
   "cell_type": "code",
   "execution_count": null,
   "metadata": {},
   "outputs": [],
   "source": [
    "o3.TensorProduct"
   ]
  }
 ],
 "metadata": {
  "kernelspec": {
   "display_name": "Python 3.7.5 ('cv_project')",
   "language": "python",
   "name": "python3"
  },
  "language_info": {
   "codemirror_mode": {
    "name": "ipython",
    "version": 3
   },
   "file_extension": ".py",
   "mimetype": "text/x-python",
   "name": "python",
   "nbconvert_exporter": "python",
   "pygments_lexer": "ipython3",
   "version": "3.10.14"
  },
  "orig_nbformat": 4,
  "vscode": {
   "interpreter": {
    "hash": "c4a9c97a8b021f57fd72049f636b97cda4a73e3b574c4423a7c228fa056b5e4b"
   }
  }
 },
 "nbformat": 4,
 "nbformat_minor": 2
}
