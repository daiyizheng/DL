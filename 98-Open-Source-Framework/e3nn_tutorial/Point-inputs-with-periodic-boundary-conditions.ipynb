{
 "cells": [
  {
   "cell_type": "markdown",
   "metadata": {},
   "source": [
    "# 具有周期边界条件的点输入\n",
    "\n",
    "这个例子展示了如何将具有周期性边界条件的点输入(例如晶体数据)提供给用e3nn构建的欧几里得神经网络。对于特定的应用程序，应该使用更适合的网络设计修改此代码。"
   ]
  },
  {
   "cell_type": "code",
   "execution_count": 2,
   "metadata": {},
   "outputs": [],
   "source": [
    "import torch\n",
    "import e3nn\n",
    "import ase\n",
    "import ase.neighborlist\n",
    "import torch_geometric\n",
    "import torch_geometric.data\n",
    "\n",
    "default_dtype = torch.float64\n",
    "torch.set_default_dtype(default_dtype)\n",
    "\n"
   ]
  },
  {
   "cell_type": "markdown",
   "metadata": {},
   "source": [
    "## 晶体结构示例\n",
    "\n",
    "首先，我们创建了一些具有周期性边界条件的晶体结构。"
   ]
  },
  {
   "cell_type": "code",
   "execution_count": 3,
   "metadata": {},
   "outputs": [
    {
     "name": "stdout",
     "output_type": "stream",
     "text": [
      "po Atoms(symbols='Po', pbc=True, cell=[3.34, 3.34, 3.34])\n",
      "si Atoms(symbols='Si2', pbc=True, cell=[[0.0, 2.734364, 2.734364], [2.734364, 0.0, 2.734364], [2.734364, 2.734364, 0.0]])\n"
     ]
    }
   ],
   "source": [
    "# A lattice is a 3 x 3 matrix\n",
    "# The first index is the lattice vector (a, b, c)\n",
    "# The second index is a Cartesian index over (x, y, z)\n",
    "\n",
    "# Polonium with Simple Cubic Lattice\n",
    "po_lattice = torch.eye(3) * 3.340  # Cubic lattice with edges of length 3.34 AA\n",
    "po_coords = torch.tensor([[0., 0., 0.,]])\n",
    "po_types = ['Po']\n",
    "\n",
    "# Silicon with Diamond Structure\n",
    "si_lattice = torch.tensor([\n",
    "    [0.      , 2.734364, 2.734364],\n",
    "    [2.734364, 0.      , 2.734364],\n",
    "    [2.734364, 2.734364, 0.      ]\n",
    "])\n",
    "si_coords = torch.tensor([\n",
    "    [1.367182, 1.367182, 1.367182],\n",
    "    [0.      , 0.      , 0.      ]\n",
    "])\n",
    "si_types = ['Si', 'Si']\n",
    "\n",
    "po = ase.Atoms(symbols=po_types, positions=po_coords, cell=po_lattice, pbc=True)\n",
    "si = ase.Atoms(symbols=si_types, positions=si_coords, cell=si_lattice, pbc=True)\n",
    "\n",
    "print(\"po\", po)\n",
    "print(\"si\", si)"
   ]
  },
  {
   "cell_type": "markdown",
   "metadata": {},
   "source": [
    "## 创建和存储周期性图形数据\n",
    "\n",
    "我们使用[`ase.neighborlist.neighbor_list`](https://wiki.fysik.dtu.dk/ase/ase/neighborlist.html#ase.neighborlist.neighbor_list)算法和`radial_cutoff `距离来定义图中包含哪些边来表示与相邻原子的相互作用。请注意，对于卷积网络，层数决定了接受域，即任何给定原子可以看到多远。请注意，对于卷积网络，层数决定了接受域，即任何给定原子可以看到多远。因此，即使我们使用`radial_cutoff = 3.5`，两层网络有效地看到`2 * 3.5 = 7`个距离单位(在这种情况下是埃)，三层网络有效地看到`3 * 3.5 = 10.5`个距离单位。然后我们将数据存储在[`torch_geometric.data.Data`](https://pytorch-geometric.readthedocs.io/en/latest/generated/torch_geometric.data.Data.html#torch_geometric.data.Data)对象中，我们将在下面使用`torch_geometric.data.DataLoader`进行批处理。\n"
   ]
  },
  {
   "cell_type": "code",
   "execution_count": 4,
   "metadata": {},
   "outputs": [
    {
     "name": "stdout",
     "output_type": "stream",
     "text": [
      "[Data(x=[1, 2], edge_index=[2, 7], pos=[1, 3], lattice=[1, 3, 3], edge_shift=[7, 3], energy=[1, 1]), Data(x=[2, 2], edge_index=[2, 10], pos=[2, 3], lattice=[1, 3, 3], edge_shift=[10, 3], energy=[1, 1])]\n"
     ]
    }
   ],
   "source": [
    "radial_cutoff = 3.5  # Only include edges for neighboring atoms within a radius of 3.5 Angstroms.\n",
    "type_encoding = {'Po': 0, 'Si': 1}\n",
    "type_onehot = torch.eye(len(type_encoding))\n",
    "\n",
    "dataset = []\n",
    "\n",
    "dummy_energies = torch.randn(2, 1, 1)  # dummy energies for example\n",
    "\n",
    "for crystal, energy in zip([po, si], dummy_energies):\n",
    "    # edge_src and edge_dst are the indices of the central and neighboring atom, respectively\n",
    "    # edge_shift indicates whether the neighbors are in different images / copies of the unit cell\n",
    "    edge_src, edge_dst, edge_shift = ase.neighborlist.neighbor_list(\"ijS\", a=crystal, cutoff=radial_cutoff, self_interaction=True)\n",
    "\n",
    "    data = torch_geometric.data.Data(\n",
    "        pos=torch.tensor(crystal.get_positions()),\n",
    "        lattice=torch.tensor(crystal.cell.array).unsqueeze(0),  # We add a dimension for batching\n",
    "        x=type_onehot[[type_encoding[atom] for atom in crystal.symbols]],  # Using \"dummy\" inputs of scalars because they are all C\n",
    "        edge_index=torch.stack([torch.LongTensor(edge_src), torch.LongTensor(edge_dst)], dim=0),\n",
    "        edge_shift=torch.tensor(edge_shift, dtype=default_dtype),\n",
    "        energy=energy  # dummy energy (assumed to be normalized \"per atom\")\n",
    "    )\n",
    "\n",
    "    dataset.append(data)\n",
    "\n",
    "print(dataset)"
   ]
  },
  {
   "cell_type": "markdown",
   "metadata": {},
   "source": [
    "第一个[`torch_geometric.data.Data`](https://pytorch-geometric.readthedocs.io/en/latest/generated/torch_geometric.data.Data.html#torch_geometric.data.Data)对象是简单的立方钋，它有7条边:6条是最近的邻居，1条是自己的边，`6 + 1 = 7`。第二个[` torch_geometric.data.Data`](https://pytorch-geometric.readthedocs.io/en/latest/generated/torch_geometric.data.Data.html#torch_geometric.data.Data)对象是金刚石硅，它有10条边:每个原子有4个最近邻，每个原子有2条自边，`4 * 2 + 1 * 2 = 10`。每个结构的晶格的形状为`[1,3,3]`，这样当我们批处理示例时，批处理的晶格的形状为`[batch size, 3,3]`。\n",
    "\n"
   ]
  },
  {
   "cell_type": "markdown",
   "metadata": {},
   "source": [
    "## Graph Batches\n",
    "\n",
    "`torch_geometric.data.DataLoader`创建不同尺寸的结构的批次，并在迭代时产生包含`torch_geometric.data.Data`批次的对象。"
   ]
  },
  {
   "cell_type": "code",
   "execution_count": 5,
   "metadata": {},
   "outputs": [
    {
     "name": "stdout",
     "output_type": "stream",
     "text": [
      "DataBatch(x=[3, 2], edge_index=[2, 17], pos=[3, 3], lattice=[2, 3, 3], edge_shift=[17, 3], energy=[2, 1], batch=[3], ptr=[3])\n",
      "tensor([0, 1, 1])\n",
      "tensor([[0.0000, 0.0000, 0.0000],\n",
      "        [1.3672, 1.3672, 1.3672],\n",
      "        [0.0000, 0.0000, 0.0000]])\n",
      "tensor([[1., 0.],\n",
      "        [0., 1.],\n",
      "        [0., 1.]])\n"
     ]
    },
    {
     "name": "stderr",
     "output_type": "stream",
     "text": [
      "/DYZ/dyz1/anaconda3/envs/gnn/lib/python3.8/site-packages/torch_geometric/deprecation.py:22: UserWarning: 'data.DataLoader' is deprecated, use 'loader.DataLoader' instead\n",
      "  warnings.warn(out)\n"
     ]
    }
   ],
   "source": [
    "batch_size = 2\n",
    "dataloader = torch_geometric.data.DataLoader(dataset, batch_size=batch_size)\n",
    "\n",
    "for data in dataloader:\n",
    "    print(data)\n",
    "    print(data.batch)\n",
    "    print(data.pos)\n",
    "    print(data.x)"
   ]
  },
  {
   "cell_type": "markdown",
   "metadata": {},
   "source": [
    "`data.batch`是批索引，它是形状张量`[batch_size]`，它存储了哪个点或原子属于哪个例子。在这种情况下，由于我们的批处理中只有两个例子，批处理张量只包含数字`0`和`1`。批处理索引通常传递给分散操作，以聚合[每个示例值](https://pytorch-scatter.readthedocs.io/en/latest/functions/scatter.html)，例如单晶结构的总能量。\n",
    "\n",
    "有关`torch_geometric`批处理的更多详细信息，请参阅此页。"
   ]
  },
  {
   "cell_type": "markdown",
   "metadata": {},
   "source": [
    "## 具有周期边界的边的相对距离向量\n",
    "为了计算与表示单个示例的给定[`torch_geometric.data.Data`](https://pytorch-geometric.readthedocs.io/en/latest/generated/torch_geometric.data.Data.html#torch_geometric.data.Data)对象的每个边相关的向量，我们使用以下表达式\n"
   ]
  },
  {
   "cell_type": "code",
   "execution_count": 6,
   "metadata": {},
   "outputs": [
    {
     "ename": "RuntimeError",
     "evalue": "einsum(): subscript n has size 2 for operand 1 which does not broadcast with previously seen size 17",
     "output_type": "error",
     "traceback": [
      "\u001b[0;31m---------------------------------------------------------------------------\u001b[0m",
      "\u001b[0;31mRuntimeError\u001b[0m                              Traceback (most recent call last)",
      "\u001b[1;32m/DYZ/dyz1/learning/Open-Source-Framework/e3nn_tutorial/Point-inputs-with-periodic-boundary-conditions.ipynb Cell 12\u001b[0m in \u001b[0;36m<cell line: 2>\u001b[0;34m()\u001b[0m\n\u001b[1;32m      <a href='vscode-notebook-cell://ssh-remote%2Bubuntu/DYZ/dyz1/learning/Open-Source-Framework/e3nn_tutorial/Point-inputs-with-periodic-boundary-conditions.ipynb#X25sdnNjb2RlLXJlbW90ZQ%3D%3D?line=0'>1</a>\u001b[0m edge_src, edge_dst \u001b[39m=\u001b[39m data[\u001b[39m'\u001b[39m\u001b[39medge_index\u001b[39m\u001b[39m'\u001b[39m][\u001b[39m0\u001b[39m], data[\u001b[39m'\u001b[39m\u001b[39medge_index\u001b[39m\u001b[39m'\u001b[39m][\u001b[39m1\u001b[39m]\n\u001b[1;32m      <a href='vscode-notebook-cell://ssh-remote%2Bubuntu/DYZ/dyz1/learning/Open-Source-Framework/e3nn_tutorial/Point-inputs-with-periodic-boundary-conditions.ipynb#X25sdnNjb2RlLXJlbW90ZQ%3D%3D?line=1'>2</a>\u001b[0m edge_vec \u001b[39m=\u001b[39m (data[\u001b[39m'\u001b[39m\u001b[39mpos\u001b[39m\u001b[39m'\u001b[39m][edge_dst] \u001b[39m-\u001b[39m data[\u001b[39m'\u001b[39m\u001b[39mpos\u001b[39m\u001b[39m'\u001b[39m][edge_src]\n\u001b[0;32m----> <a href='vscode-notebook-cell://ssh-remote%2Bubuntu/DYZ/dyz1/learning/Open-Source-Framework/e3nn_tutorial/Point-inputs-with-periodic-boundary-conditions.ipynb#X25sdnNjb2RlLXJlbW90ZQ%3D%3D?line=2'>3</a>\u001b[0m             \u001b[39m+\u001b[39m torch\u001b[39m.\u001b[39;49meinsum(\u001b[39m'\u001b[39;49m\u001b[39mni,nij->nj\u001b[39;49m\u001b[39m'\u001b[39;49m, data[\u001b[39m'\u001b[39;49m\u001b[39medge_shift\u001b[39;49m\u001b[39m'\u001b[39;49m], data[\u001b[39m'\u001b[39;49m\u001b[39mlattice\u001b[39;49m\u001b[39m'\u001b[39;49m]))\n",
      "File \u001b[0;32m~/anaconda3/envs/gnn/lib/python3.8/site-packages/torch/functional.py:378\u001b[0m, in \u001b[0;36meinsum\u001b[0;34m(*args)\u001b[0m\n\u001b[1;32m    373\u001b[0m     \u001b[39mreturn\u001b[39;00m einsum(equation, \u001b[39m*\u001b[39m_operands)\n\u001b[1;32m    375\u001b[0m \u001b[39mif\u001b[39;00m \u001b[39mlen\u001b[39m(operands) \u001b[39m<\u001b[39m\u001b[39m=\u001b[39m \u001b[39m2\u001b[39m \u001b[39mor\u001b[39;00m \u001b[39mnot\u001b[39;00m opt_einsum\u001b[39m.\u001b[39menabled:\n\u001b[1;32m    376\u001b[0m     \u001b[39m# the path for contracting 0 or 1 time(s) is already optimized\u001b[39;00m\n\u001b[1;32m    377\u001b[0m     \u001b[39m# or the user has disabled using opt_einsum\u001b[39;00m\n\u001b[0;32m--> 378\u001b[0m     \u001b[39mreturn\u001b[39;00m _VF\u001b[39m.\u001b[39;49meinsum(equation, operands)  \u001b[39m# type: ignore[attr-defined]\u001b[39;00m\n\u001b[1;32m    380\u001b[0m path \u001b[39m=\u001b[39m \u001b[39mNone\u001b[39;00m\n\u001b[1;32m    381\u001b[0m \u001b[39mif\u001b[39;00m opt_einsum\u001b[39m.\u001b[39mis_available():\n",
      "\u001b[0;31mRuntimeError\u001b[0m: einsum(): subscript n has size 2 for operand 1 which does not broadcast with previously seen size 17"
     ]
    }
   ],
   "source": [
    "edge_src, edge_dst = data['edge_index'][0], data['edge_index'][1]\n",
    "edge_vec = (data['pos'][edge_dst] - data['pos'][edge_src]\n",
    "            + torch.einsum('ni,nij->nj', data['edge_shift'], data['lattice']))"
   ]
  },
  {
   "cell_type": "markdown",
   "metadata": {},
   "source": [
    "`edge_vec`定义中的第一行简单地表示给定两点通常如何计算相对距离向量。第二行添加了由于跨越单元格边界而对相对距离矢量的贡献，即如果原子属于单元格的不同图像。正如我们将在下面看到的，我们可以修改这个表达式，在处理批处理数据时也包含`data['batch']`张量。"
   ]
  },
  {
   "cell_type": "markdown",
   "metadata": {},
   "source": [
    "## 一种方法:在网络中添加预处理方法\n",
    "\n",
    "虽然可以将`edge_vec`存储在[`torch_geometric.data.Data`](https://pytorch-geometric.readthedocs.io/en/latest/generated/torch_geometric.data.Data.html#torch_geometric.data.Data)对象中，但也可以通过向Network添加预处理方法来计算`edge_vec`。对于这个例子，我们创建了一个修改版本的示例网络`SimpleNetwork`，[文档在这里](https://docs.e3nn.org/en/stable/api/nn/models/v2103.html#simple-network)，[源代码](https://github.com/e3nn/e3nn/blob/main/e3nn/nn/models/v2103/gate_points_networks.py)在这里。`SimpleNetwork`是检查数据管道的一个很好的起点，但应该为您的特定应用程序替换为更定制的网络。"
   ]
  },
  {
   "cell_type": "code",
   "execution_count": 7,
   "metadata": {},
   "outputs": [],
   "source": [
    "from e3nn.nn.models.v2103.gate_points_networks import SimpleNetwork\n",
    "from typing import Dict, Union\n",
    "import torch_scatter\n",
    "\n",
    "class SimplePeriodicNetwork(SimpleNetwork):\n",
    "    def __init__(self, **kwargs):\n",
    "        \"\"\"The keyword `pool_nodes` is used by SimpleNetwork to determine\n",
    "        whether we sum over all atom contributions per example. In this example,\n",
    "        we want use a mean operations instead, so we will override this behavior.\n",
    "        \"\"\"\n",
    "        self.pool = False\n",
    "        if kwargs['pool_nodes'] == True:\n",
    "            kwargs['pool_nodes'] = False\n",
    "            kwargs['num_nodes'] = 1.\n",
    "            self.pool = True\n",
    "        super().__init__(**kwargs)\n",
    "\n",
    "    # Overwriting preprocess method of SimpleNetwork to adapt for periodic boundary data\n",
    "    def preprocess(self, data: Union[torch_geometric.data.Data, Dict[str, torch.Tensor]]) -> torch.Tensor:\n",
    "        if 'batch' in data:\n",
    "            batch = data['batch']\n",
    "        else:\n",
    "            batch = data['pos'].new_zeros(data['pos'].shape[0], dtype=torch.long)\n",
    "\n",
    "        edge_src = data['edge_index'][0]  # Edge source\n",
    "        edge_dst = data['edge_index'][1]  # Edge destination\n",
    "\n",
    "        # We need to compute this in the computation graph to backprop to positions\n",
    "        # We are computing the relative distances + unit cell shifts from periodic boundaries\n",
    "        edge_batch = batch[edge_src]\n",
    "        edge_vec = (data['pos'][edge_dst]\n",
    "                    - data['pos'][edge_src]\n",
    "                    + torch.einsum('ni,nij->nj', data['edge_shift'], data['lattice'][edge_batch]))\n",
    "\n",
    "        return batch, data['x'], edge_src, edge_dst, edge_vec\n",
    "\n",
    "    def forward(self, data: Union[torch_geometric.data.Data, Dict[str, torch.Tensor]]) -> torch.Tensor:\n",
    "        # if pool_nodes was set to True, use scatter_mean to aggregate\n",
    "        output = super().forward(data)\n",
    "        if self.pool == True:\n",
    "            return torch_scatter.scatter_mean(output, data.batch, dim=0)  # Take mean over atoms per example\n",
    "        else:\n",
    "            return output"
   ]
  },
  {
   "cell_type": "markdown",
   "metadata": {},
   "source": [
    "我们定义并运行网络。"
   ]
  },
  {
   "cell_type": "code",
   "execution_count": 8,
   "metadata": {},
   "outputs": [
    {
     "name": "stderr",
     "output_type": "stream",
     "text": [
      "/DYZ/dyz1/anaconda3/envs/gnn/lib/python3.8/site-packages/torch/jit/_check.py:181: UserWarning: The TorchScript type system doesn't support instance-level annotations on empty non-base types in `__init__`. Instead, either 1) use a type annotation in the class body, or 2) wrap the type in `torch.jit.Attribute`.\n",
      "  warnings.warn(\"The TorchScript type system doesn't support \"\n"
     ]
    }
   ],
   "source": [
    "net = SimplePeriodicNetwork(\n",
    "    irreps_in=\"2x0e\",  # One hot scalars (L=0 and even parity) on each atom to represent atom type\n",
    "    irreps_out=\"1x0e\",  # Single scalar (L=0 and even parity) to output (for example) energy\n",
    "    max_radius=radial_cutoff, # Cutoff radius for convolution\n",
    "    num_neighbors=10.0,  # scaling factor based on the typical number of neighbors\n",
    "    pool_nodes=True,  # We pool nodes to predict total energy\n",
    ")"
   ]
  },
  {
   "cell_type": "markdown",
   "metadata": {},
   "source": [
    "当我们将网络应用于我们的数据时，每个例子得到一个标量。"
   ]
  },
  {
   "cell_type": "code",
   "execution_count": 9,
   "metadata": {},
   "outputs": [
    {
     "name": "stdout",
     "output_type": "stream",
     "text": [
      "torch.Size([2, 1])\n"
     ]
    }
   ],
   "source": [
    "for data in dataloader:\n",
    "    print(net(data).shape)  # One scalar per example"
   ]
  },
  {
   "cell_type": "code",
   "execution_count": null,
   "metadata": {},
   "outputs": [],
   "source": []
  }
 ],
 "metadata": {
  "kernelspec": {
   "display_name": "Python 3.8.5 ('gnn')",
   "language": "python",
   "name": "python3"
  },
  "language_info": {
   "codemirror_mode": {
    "name": "ipython",
    "version": 3
   },
   "file_extension": ".py",
   "mimetype": "text/x-python",
   "name": "python",
   "nbconvert_exporter": "python",
   "pygments_lexer": "ipython3",
   "version": "3.8.5"
  },
  "orig_nbformat": 4,
  "vscode": {
   "interpreter": {
    "hash": "bbc91dbcb0051019ae97b751bde437ca7a1084c41c512133368dd180960dc485"
   }
  }
 },
 "nbformat": 4,
 "nbformat_minor": 2
}
