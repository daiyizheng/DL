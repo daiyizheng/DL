{
 "cells": [
  {
   "attachments": {},
   "cell_type": "markdown",
   "metadata": {},
   "source": [
    "# Spherical Harmonics\n",
    "\n",
    "球面谐波$Y(x)$是定义在球面$S^2$上的函数，它们构成了球面上函数的空间基\n",
    "$$\\mathcal{F}=\\left\\{S^2 \\longrightarrow \\mathbb{R}\\right\\}$$\n",
    "在这个空间上，群O(3)的行为是自然的，给定pa,pv两个标量表示\n",
    "$$[L(g) f](x)=p_v(g) f\\left(p_a(g) R(g)^{-1} x\\right), \\quad \\forall f \\in \\mathcal{F}, x \\in S^2$$\n",
    "$L$表示$O(3)$。但是$L$不是不可约的。它可以通过基的变换分解成一个整数的和，在手波符号中我们可以这样写\n",
    "$$Y^T L(g) Y=0 \\oplus 1 \\oplus 2 \\oplus 3 \\oplus \\ldots$$\n",
    "基的变化就是球谐波!这个符号是手波的因为$x$是一个连续变量，因此基$Y$的变换不是一个矩阵。\n",
    "\n",
    "因此，球面谐波是等变的\n",
    "$$Y^l(R(g) x)=D^l(g) Y^l(x)$$"
   ]
  },
  {
   "cell_type": "code",
   "execution_count": null,
   "metadata": {},
   "outputs": [],
   "source": [
    "from e3nn import o3"
   ]
  },
  {
   "cell_type": "code",
   "execution_count": null,
   "metadata": {},
   "outputs": [],
   "source": [
    "r = o3.s2_grid()"
   ]
  }
 ],
 "metadata": {
  "kernelspec": {
   "display_name": "cv_project",
   "language": "python",
   "name": "python3"
  },
  "language_info": {
   "name": "python",
   "version": "3.7.5"
  },
  "orig_nbformat": 4
 },
 "nbformat": 4,
 "nbformat_minor": 2
}
