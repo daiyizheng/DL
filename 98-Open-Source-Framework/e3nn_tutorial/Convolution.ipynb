{
 "cells": [
  {
   "cell_type": "markdown",
   "metadata": {},
   "source": [
    "# Convolution\n"
   ]
  },
  {
   "cell_type": "markdown",
   "metadata": {},
   "source": [
    "在本文中，我们将使用e3nn实现一个等变卷积。我们将执行这个公式：\n",
    "\n",
    "$$f_i^{\\prime}=\\frac{1}{\\sqrt{z}} \\sum_{j \\in \\partial(i)} f_j \\otimes\\left(h\\left(\\left\\|x_{i j}\\right\\|\\right)\\right) Y\\left(x_{i j} /\\left\\|x_{i j}\\right\\|\\right)$$\n",
    "\n",
    "其中：\n",
    "- $f_j, f_i^{\\prime}$节点是输入和输出\n",
    "- $z$节点的平均度是多少\n",
    "- $\\partial(i)$是节点$i$的邻居集合\n",
    "- $x_{i j}$是相对向量\n",
    "- $h$是一个多层感知机\n",
    "- $Y$是球谐波\n",
    "- $x \\otimes(w) y$是$x$和$y$的张量积$y$被一些权重$w$参数化\n",
    "\n"
   ]
  },
  {
   "cell_type": "markdown",
   "metadata": {},
   "source": [
    "## 导入依赖包\n"
   ]
  },
  {
   "cell_type": "code",
   "execution_count": 1,
   "metadata": {},
   "outputs": [
    {
     "ename": "ModuleNotFoundError",
     "evalue": "No module named 'torch_cluster'",
     "output_type": "error",
     "traceback": [
      "\u001b[0;31m---------------------------------------------------------------------------\u001b[0m",
      "\u001b[0;31mModuleNotFoundError\u001b[0m                       Traceback (most recent call last)",
      "\u001b[1;32m/slurm/home/yrd/shaolab/daiyizheng/github_project/DL/98-Open-Source-Framework/e3nn_tutorial/Convolution.ipynb 单元格 4\u001b[0m line \u001b[0;36m2\n\u001b[1;32m      <a href='vscode-notebook-cell://ssh-remote%2Bzju_out_debug/slurm/home/yrd/shaolab/daiyizheng/github_project/DL/98-Open-Source-Framework/e3nn_tutorial/Convolution.ipynb#W3sdnNjb2RlLXJlbW90ZQ%3D%3D?line=0'>1</a>\u001b[0m \u001b[39mimport\u001b[39;00m \u001b[39mtorch\u001b[39;00m\n\u001b[0;32m----> <a href='vscode-notebook-cell://ssh-remote%2Bzju_out_debug/slurm/home/yrd/shaolab/daiyizheng/github_project/DL/98-Open-Source-Framework/e3nn_tutorial/Convolution.ipynb#W3sdnNjb2RlLXJlbW90ZQ%3D%3D?line=1'>2</a>\u001b[0m \u001b[39mfrom\u001b[39;00m \u001b[39mtorch_cluster\u001b[39;00m \u001b[39mimport\u001b[39;00m radius_graph\n\u001b[1;32m      <a href='vscode-notebook-cell://ssh-remote%2Bzju_out_debug/slurm/home/yrd/shaolab/daiyizheng/github_project/DL/98-Open-Source-Framework/e3nn_tutorial/Convolution.ipynb#W3sdnNjb2RlLXJlbW90ZQ%3D%3D?line=2'>3</a>\u001b[0m \u001b[39mfrom\u001b[39;00m \u001b[39mtorch_scatter\u001b[39;00m \u001b[39mimport\u001b[39;00m scatter\n\u001b[1;32m      <a href='vscode-notebook-cell://ssh-remote%2Bzju_out_debug/slurm/home/yrd/shaolab/daiyizheng/github_project/DL/98-Open-Source-Framework/e3nn_tutorial/Convolution.ipynb#W3sdnNjb2RlLXJlbW90ZQ%3D%3D?line=3'>4</a>\u001b[0m \u001b[39mfrom\u001b[39;00m \u001b[39me3nn\u001b[39;00m \u001b[39mimport\u001b[39;00m o3, nn\n",
      "\u001b[0;31mModuleNotFoundError\u001b[0m: No module named 'torch_cluster'"
     ]
    }
   ],
   "source": [
    "import torch\n",
    "from torch_cluster import radius_graph\n",
    "from torch_scatter import scatter\n",
    "from e3nn import o3, nn\n",
    "from e3nn.math import soft_one_hot_linspace\n",
    "import matplotlib.pyplot as plt"
   ]
  },
  {
   "cell_type": "markdown",
   "metadata": {},
   "source": [
    "让我们首先定义输入和输出特征的不可约表示"
   ]
  },
  {
   "cell_type": "code",
   "execution_count": 8,
   "metadata": {},
   "outputs": [
    {
     "name": "stdout",
     "output_type": "stream",
     "text": [
      "10x0e+10x1e 20x0e+10x1e\n"
     ]
    }
   ],
   "source": [
    "irreps_input = o3.Irreps(\"10x0e + 10x1e\")\n",
    "irreps_output = o3.Irreps(\"20x0e + 10x1e\")\n",
    "print(irreps_input, irreps_output)"
   ]
  },
  {
   "cell_type": "code",
   "execution_count": 9,
   "metadata": {},
   "outputs": [
    {
     "data": {
      "text/plain": [
       "(40, 50)"
      ]
     },
     "execution_count": 9,
     "metadata": {},
     "output_type": "execute_result"
    }
   ],
   "source": [
    "irreps_input.dim, irreps_output.dim"
   ]
  },
  {
   "cell_type": "markdown",
   "metadata": {},
   "source": [
    "并在相对距离小于$max\\_radius$时，使用随机位置和边创建随机图"
   ]
  },
  {
   "cell_type": "code",
   "execution_count": 2,
   "metadata": {},
   "outputs": [
    {
     "name": "stdout",
     "output_type": "stream",
     "text": [
      "tensor([[-0.5358,  0.6017, -0.7140],\n",
      "        [ 0.2415,  0.7564,  0.8313],\n",
      "        [-0.2683,  1.9618, -0.2649],\n",
      "        [ 1.4462,  0.8000, -0.3360],\n",
      "        [ 0.3829,  0.3708,  0.2958],\n",
      "        [-1.6511, -0.3199,  0.7044],\n",
      "        [-1.7369,  0.3024,  1.3214],\n",
      "        [ 1.7310,  0.6407, -0.9080],\n",
      "        [-2.4387, -0.4614, -2.0060],\n",
      "        [ 0.5479, -2.2963,  0.6158],\n",
      "        [ 1.2071, -0.3095,  0.1208],\n",
      "        [-0.3346, -1.4628,  0.0042],\n",
      "        [ 0.7984, -0.5852, -0.4228],\n",
      "        [-0.5329,  0.1377,  0.8437],\n",
      "        [ 0.1563,  0.8237,  1.5991],\n",
      "        [-0.0426, -1.5554,  1.1711],\n",
      "        [ 0.9070, -0.6481,  0.4521],\n",
      "        [ 0.3006,  0.8725, -0.4966],\n",
      "        [-0.7882,  0.2184,  0.1806],\n",
      "        [ 0.2929,  1.5208, -0.3475],\n",
      "        [ 0.3088, -0.3596,  0.4908],\n",
      "        [ 0.3916,  1.4814, -1.3773],\n",
      "        [ 2.4713, -1.4192, -0.9213],\n",
      "        [ 0.1015,  1.6367, -0.2525],\n",
      "        [ 0.2854, -2.3640, -0.8459],\n",
      "        [-1.8756,  1.5843, -1.5428],\n",
      "        [-0.6508,  0.8970, -0.1198],\n",
      "        [-0.0821, -0.7132,  1.5337],\n",
      "        [ 0.6264, -0.1274,  0.1832],\n",
      "        [ 2.2234, -0.3911, -0.4358],\n",
      "        [-1.2267, -0.2080,  1.4996],\n",
      "        [-0.6882, -1.3587, -1.1350],\n",
      "        [ 0.5723, -1.4515, -0.2632],\n",
      "        [-0.1840, -1.4844,  0.2281],\n",
      "        [ 0.0402,  0.6022, -0.2867],\n",
      "        [ 0.1786,  0.1926,  0.5149],\n",
      "        [ 0.3547,  1.0534,  0.0041],\n",
      "        [-0.4198, -1.9273, -0.5155],\n",
      "        [ 0.7011,  0.0584,  2.1092],\n",
      "        [-0.4519, -0.8225, -0.3056],\n",
      "        [ 1.2214,  1.9794, -1.3916],\n",
      "        [ 1.4997,  1.3576, -1.4221],\n",
      "        [-1.3162,  0.2081,  0.1519],\n",
      "        [-0.4898, -0.4134,  0.1874],\n",
      "        [ 0.2200, -0.9733, -0.3783],\n",
      "        [ 1.7511,  0.2154,  2.0462],\n",
      "        [ 0.3274,  0.5325, -0.3666],\n",
      "        [-0.3715,  0.3915,  0.6095],\n",
      "        [-0.8976,  0.7634,  1.4394],\n",
      "        [-1.2933,  0.8478,  1.2148],\n",
      "        [-0.8498, -1.5029,  0.5646],\n",
      "        [-1.0180, -0.2746,  0.1496],\n",
      "        [-0.4941,  0.8730, -0.6407],\n",
      "        [ 0.5421, -0.5648,  0.0650],\n",
      "        [-0.0965,  0.3712, -0.2625],\n",
      "        [-0.2205,  0.4388, -0.5030],\n",
      "        [ 1.4176,  1.3078, -0.5750],\n",
      "        [ 0.7436,  0.8700, -0.2370],\n",
      "        [ 0.2838,  0.0509,  1.1984],\n",
      "        [-0.8908, -0.9523,  0.0543],\n",
      "        [ 0.4791, -0.3854,  1.3946],\n",
      "        [ 1.9519,  0.0666, -0.4262],\n",
      "        [-1.0689, -0.1003, -0.1953],\n",
      "        [-1.7099, -0.5982, -0.2142],\n",
      "        [-1.4770, -0.6274, -1.4337],\n",
      "        [-1.5919,  2.2805, -0.2867],\n",
      "        [-0.5137,  0.4444, -1.1770],\n",
      "        [-0.3520, -0.3745, -0.3195],\n",
      "        [ 0.2501, -0.3385,  0.0168],\n",
      "        [-1.1685, -0.8536,  0.2500],\n",
      "        [-1.3489,  1.3975,  1.0030],\n",
      "        [-1.8462,  0.8978, -0.5909],\n",
      "        [-0.0624, -0.1341, -0.9705],\n",
      "        [-0.1825, -0.3525, -1.2294],\n",
      "        [ 0.1125,  0.4060,  0.0393],\n",
      "        [ 0.2847, -0.7514,  0.5427],\n",
      "        [ 0.1229, -0.9016,  0.0081],\n",
      "        [ 0.4925,  0.4377, -0.9198],\n",
      "        [ 0.0882,  0.1801,  1.0746],\n",
      "        [ 0.7807, -0.3164,  0.3829],\n",
      "        [ 1.1080, -0.0994,  2.4527],\n",
      "        [-1.1272, -1.5320,  1.8474],\n",
      "        [ 0.3452,  0.2876, -0.3970],\n",
      "        [-0.7036, -0.2694,  0.3338],\n",
      "        [-1.5720,  0.0666, -1.3635],\n",
      "        [ 1.0800,  0.1147,  1.9269],\n",
      "        [ 0.8138, -1.9343,  1.7809],\n",
      "        [-1.3793,  0.4509, -0.0586],\n",
      "        [ 0.5497,  0.4453, -0.3452],\n",
      "        [-0.9444, -1.6828,  0.7722],\n",
      "        [ 0.8364, -0.4641, -0.5003],\n",
      "        [ 1.1212, -0.0361, -0.6348],\n",
      "        [ 1.4125, -0.9153, -0.2307],\n",
      "        [-0.4921, -1.1377, -1.0047],\n",
      "        [ 0.8971,  1.3543, -1.4820],\n",
      "        [ 0.7457,  0.2279,  0.0866],\n",
      "        [-0.7541,  0.1178, -0.3983],\n",
      "        [-0.5180,  0.3954,  0.7419],\n",
      "        [ 1.1357,  2.0104, -1.0253],\n",
      "        [-0.7453, -0.3549,  0.0784]])\n"
     ]
    },
    {
     "ename": "NameError",
     "evalue": "name 'radius_graph' is not defined",
     "output_type": "error",
     "traceback": [
      "\u001b[0;31m---------------------------------------------------------------------------\u001b[0m",
      "\u001b[0;31mNameError\u001b[0m                                 Traceback (most recent call last)",
      "\u001b[1;32m/slurm/home/yrd/shaolab/daiyizheng/github_project/DL/98-Open-Source-Framework/e3nn_tutorial/Convolution.ipynb 单元格 9\u001b[0m line \u001b[0;36m7\n\u001b[1;32m      <a href='vscode-notebook-cell://ssh-remote%2Bzju_out_debug/slurm/home/yrd/shaolab/daiyizheng/github_project/DL/98-Open-Source-Framework/e3nn_tutorial/Convolution.ipynb#X11sdnNjb2RlLXJlbW90ZQ%3D%3D?line=4'>5</a>\u001b[0m \u001b[39m# create edges\u001b[39;00m\n\u001b[1;32m      <a href='vscode-notebook-cell://ssh-remote%2Bzju_out_debug/slurm/home/yrd/shaolab/daiyizheng/github_project/DL/98-Open-Source-Framework/e3nn_tutorial/Convolution.ipynb#X11sdnNjb2RlLXJlbW90ZQ%3D%3D?line=5'>6</a>\u001b[0m max_radius \u001b[39m=\u001b[39m \u001b[39m1.8\u001b[39m\n\u001b[0;32m----> <a href='vscode-notebook-cell://ssh-remote%2Bzju_out_debug/slurm/home/yrd/shaolab/daiyizheng/github_project/DL/98-Open-Source-Framework/e3nn_tutorial/Convolution.ipynb#X11sdnNjb2RlLXJlbW90ZQ%3D%3D?line=6'>7</a>\u001b[0m edge_src, edge_dst \u001b[39m=\u001b[39m radius_graph(pos, max_radius, max_num_neighbors\u001b[39m=\u001b[39mnum_nodes \u001b[39m-\u001b[39m \u001b[39m1\u001b[39m)\n\u001b[1;32m      <a href='vscode-notebook-cell://ssh-remote%2Bzju_out_debug/slurm/home/yrd/shaolab/daiyizheng/github_project/DL/98-Open-Source-Framework/e3nn_tutorial/Convolution.ipynb#X11sdnNjb2RlLXJlbW90ZQ%3D%3D?line=8'>9</a>\u001b[0m \u001b[39mprint\u001b[39m(edge_src\u001b[39m.\u001b[39mshape)\n\u001b[1;32m     <a href='vscode-notebook-cell://ssh-remote%2Bzju_out_debug/slurm/home/yrd/shaolab/daiyizheng/github_project/DL/98-Open-Source-Framework/e3nn_tutorial/Convolution.ipynb#X11sdnNjb2RlLXJlbW90ZQ%3D%3D?line=10'>11</a>\u001b[0m edge_vec \u001b[39m=\u001b[39m pos[edge_dst] \u001b[39m-\u001b[39m pos[edge_src]\n",
      "\u001b[0;31mNameError\u001b[0m: name 'radius_graph' is not defined"
     ]
    }
   ],
   "source": [
    "# create node positions\n",
    "num_nodes = 100\n",
    "pos = torch.randn(num_nodes, 3)  # random node positions\n",
    "print(pos)\n",
    "# create edges\n",
    "max_radius = 1.8\n",
    "edge_src, edge_dst = radius_graph(pos, max_radius, max_num_neighbors=num_nodes - 1)\n",
    "\n",
    "print(edge_src.shape)\n",
    "\n",
    "edge_vec = pos[edge_dst] - pos[edge_src]\n",
    "\n",
    "# compute z\n",
    "num_neighbors = len(edge_src) / num_nodes\n",
    "num_neighbors"
   ]
  },
  {
   "cell_type": "markdown",
   "metadata": {},
   "source": [
    "`edge_src`和`edge_dst`包含每条边的节点索引。我们也可以创建一些随机输入特征。"
   ]
  },
  {
   "cell_type": "code",
   "execution_count": 11,
   "metadata": {},
   "outputs": [
    {
     "data": {
      "text/plain": [
       "torch.Size([100, 40])"
      ]
     },
     "execution_count": 11,
     "metadata": {},
     "output_type": "execute_result"
    }
   ],
   "source": [
    "f_in = irreps_input.randn(num_nodes, -1)\n",
    "f_in.shape"
   ]
  },
  {
   "cell_type": "markdown",
   "metadata": {},
   "source": [
    "请注意，我们的数据是以正态分布生成的。我们将按照`component`正则化处理所有数据(参见[正则化](https://docs.e3nn.org/en/latest/guide/normalization.html#norm-guide))。"
   ]
  },
  {
   "cell_type": "code",
   "execution_count": 12,
   "metadata": {},
   "outputs": [
    {
     "data": {
      "text/plain": [
       "tensor(0.9857)"
      ]
     },
     "execution_count": 12,
     "metadata": {},
     "output_type": "execute_result"
    }
   ],
   "source": [
    "f_in.pow(2).mean()  # should be close to 1"
   ]
  },
  {
   "cell_type": "markdown",
   "metadata": {},
   "source": [
    "让我们从:\n",
    "$$Y\\left(x_{i j} /\\left\\|x_{i j}\\right\\|\\right)$$\n",
    "\n"
   ]
  },
  {
   "cell_type": "markdown",
   "metadata": {},
   "source": [
    "`o3.spherical_harmonics`\n",
    "\n",
    "$Y^{l+1}_i(x) = \\text{cste}(l) \\;  C_{ijk} Y^l_j(x) x_k$      \n",
    "                        \n",
    "$\\partial_k Y^{l+1}_i(x) = \\text{cste}(l) \\; (l+1)  C_{ijk} Y^l_j(x)$"
   ]
  },
  {
   "cell_type": "code",
   "execution_count": 13,
   "metadata": {},
   "outputs": [
    {
     "name": "stdout",
     "output_type": "stream",
     "text": [
      "1x0e+1x1o+1x2e\n",
      "9\n",
      "torch.Size([3364, 3])\n",
      "torch.Size([3364, 9])\n"
     ]
    },
    {
     "data": {
      "text/plain": [
       "tensor(1.0000)"
      ]
     },
     "execution_count": 13,
     "metadata": {},
     "output_type": "execute_result"
    }
   ],
   "source": [
    "irreps_sh = o3.Irreps.spherical_harmonics(lmax=2) # 定义输出的维度\n",
    "print(irreps_sh)\n",
    "print(irreps_sh.dim)\n",
    "print(edge_vec.shape)\n",
    "sh = o3.spherical_harmonics(irreps_sh, edge_vec, normalize=True, normalization='component')\n",
    "# normalize=True ensure that x is divided by |x| before computing the sh\n",
    "print(sh.shape)\n",
    "sh.pow(2).mean()  # should be close to 1"
   ]
  },
  {
   "cell_type": "markdown",
   "metadata": {},
   "source": [
    "现在我们需要计算$\\otimes(w)$和$h$, 让我们先创建张量积，它会告诉我们它需要多少权重。\n",
    "\n",
    "`class FullyConnectedTensorProduct(TensorProduct):`                               \n",
    "$z_w = \\sum_{u,v} w_{uvw} x_u \\otimes y_v + \\cdots \\text{other paths}$"
   ]
  },
  {
   "cell_type": "code",
   "execution_count": 14,
   "metadata": {},
   "outputs": [
    {
     "name": "stdout",
     "output_type": "stream",
     "text": [
      "FullyConnectedTensorProduct(10x0e+10x1e x 1x0e+1x1o+1x2e -> 20x0e+10x1e | 400 paths | 400 weights) needs 400 weights\n"
     ]
    },
    {
     "name": "stderr",
     "output_type": "stream",
     "text": [
      "/DYZ/dyz1/anaconda3/envs/gnn/lib/python3.8/site-packages/torch/jit/_check.py:181: UserWarning: The TorchScript type system doesn't support instance-level annotations on empty non-base types in `__init__`. Instead, either 1) use a type annotation in the class body, or 2) wrap the type in `torch.jit.Attribute`.\n",
      "  warnings.warn(\"The TorchScript type system doesn't support \"\n"
     ]
    }
   ],
   "source": [
    "tp = o3.FullyConnectedTensorProduct(irreps_input, \n",
    "                                    irreps_sh, \n",
    "                                    irreps_output, \n",
    "                                    shared_weights=False)\n",
    "\n",
    "print(f\"{tp} needs {tp.weight_numel} weights\")"
   ]
  },
  {
   "cell_type": "code",
   "execution_count": 16,
   "metadata": {},
   "outputs": [
    {
     "data": {
      "text/plain": [
       "(<Figure size 432x288 with 1 Axes>, <Axes: >)"
      ]
     },
     "execution_count": 16,
     "metadata": {},
     "output_type": "execute_result"
    },
    {
     "data": {
      "image/png": "[encoded data removed]",
      "text/plain": [
       "<Figure size 432x288 with 1 Axes>"
      ]
     },
     "metadata": {
      "needs_background": "light"
     },
     "output_type": "display_data"
    }
   ],
   "source": [
    "tp.visualize()"
   ]
  },
  {
   "cell_type": "markdown",
   "metadata": {},
   "source": [
    "在这种特殊的选择中，我们可以看到球面谐波的l=1分量不能用于张量积。在这个例子中，它是反转的等方差，禁止使用l=1。如果我们不想要反转的等方差我们可以声明所有的irreps都是偶数`(irreps_sh = Irreps(\"0e + 1e + 2e\"))`。\n",
    "\n",
    "为了实现$h$，它必须将相对距离映射到张量积的权重，我们将使用基函数嵌入距离，然后将这个嵌入提供给神经网络。让我们创建嵌入。这是我们将要用到的基本函数\n",
    "\n"
   ]
  },
  {
   "cell_type": "code",
   "execution_count": 17,
   "metadata": {},
   "outputs": [
    {
     "data": {
      "text/plain": [
       "[<matplotlib.lines.Line2D at 0x7f48c42666a0>,\n",
       " <matplotlib.lines.Line2D at 0x7f48c4403fd0>,\n",
       " <matplotlib.lines.Line2D at 0x7f48c439d400>,\n",
       " <matplotlib.lines.Line2D at 0x7f48c425b280>,\n",
       " <matplotlib.lines.Line2D at 0x7f48c42482b0>,\n",
       " <matplotlib.lines.Line2D at 0x7f48c42485b0>,\n",
       " <matplotlib.lines.Line2D at 0x7f48c42487c0>,\n",
       " <matplotlib.lines.Line2D at 0x7f48c4248820>,\n",
       " <matplotlib.lines.Line2D at 0x7f48c4248220>,\n",
       " <matplotlib.lines.Line2D at 0x7f48c42489a0>]"
      ]
     },
     "execution_count": 17,
     "metadata": {},
     "output_type": "execute_result"
    },
    {
     "data": {
      "image/png": "[encoded data removed]",
      "text/plain": [
       "<Figure size 432x288 with 1 Axes>"
      ]
     },
     "metadata": {
      "needs_background": "light"
     },
     "output_type": "display_data"
    }
   ],
   "source": [
    "num_basis = 10\n",
    "\n",
    "x = torch.linspace(0.0, 2.0, 1000)\n",
    "y = soft_one_hot_linspace(\n",
    "    x,\n",
    "    start=0.0,\n",
    "    end=max_radius,\n",
    "    number=num_basis,\n",
    "    basis='smooth_finite',\n",
    "    cutoff=True,\n",
    ")\n",
    "\n",
    "plt.plot(x, y)"
   ]
  },
  {
   "cell_type": "markdown",
   "metadata": {},
   "source": [
    "注意，这组函数都是光滑的，并且在`max_radius`之外严格为零。这对于得到平滑的卷积很有用，尽管在`max_radius`处有尖锐的截止。\n",
    "\n",
    "让我们使用这种嵌入的边缘距离，并适当正则化它(`component`，即第二矩接近1)。"
   ]
  },
  {
   "cell_type": "markdown",
   "metadata": {},
   "source": [
    "`soft_one_hot_linspace`\n",
    "\n",
    "$y_i(x) = \\frac{1}{Z} f_i(x)$\n",
    "\n",
    "$\\langle \\sum_{i=1}^N y_i(x)^2 \\rangle_x \\approx 1$"
   ]
  },
  {
   "cell_type": "code",
   "execution_count": 18,
   "metadata": {},
   "outputs": [
    {
     "data": {
      "text/plain": [
       "torch.Size([3364, 3])"
      ]
     },
     "execution_count": 18,
     "metadata": {},
     "output_type": "execute_result"
    }
   ],
   "source": [
    "edge_vec.shape"
   ]
  },
  {
   "cell_type": "code",
   "execution_count": 20,
   "metadata": {},
   "outputs": [
    {
     "name": "stdout",
     "output_type": "stream",
     "text": [
      "torch.Size([3364, 3])\n",
      "torch.Size([3364, 10])\n"
     ]
    },
    {
     "data": {
      "text/plain": [
       "tensor(0.9196)"
      ]
     },
     "execution_count": 20,
     "metadata": {},
     "output_type": "execute_result"
    }
   ],
   "source": [
    "print(edge_vec.shape)\n",
    "edge_length_embedding = soft_one_hot_linspace(\n",
    "    edge_vec.norm(dim=1),\n",
    "    start=0.0,\n",
    "    end=max_radius,\n",
    "    number=num_basis,\n",
    "    basis='smooth_finite',\n",
    "    cutoff=True,\n",
    ")\n",
    "edge_length_embedding = edge_length_embedding.mul(num_basis**0.5)\n",
    "\n",
    "print(edge_length_embedding.shape)\n",
    "edge_length_embedding.pow(2).mean()  # the second moment"
   ]
  },
  {
   "cell_type": "code",
   "execution_count": 21,
   "metadata": {},
   "outputs": [
    {
     "data": {
      "text/plain": [
       "torch.Size([3364, 10])"
      ]
     },
     "execution_count": 21,
     "metadata": {},
     "output_type": "execute_result"
    }
   ],
   "source": [
    "edge_length_embedding.shape"
   ]
  },
  {
   "cell_type": "markdown",
   "metadata": {},
   "source": [
    "现在我们可以创建一个MLP并提供给它"
   ]
  },
  {
   "cell_type": "code",
   "execution_count": 22,
   "metadata": {},
   "outputs": [
    {
     "data": {
      "text/plain": [
       "400"
      ]
     },
     "execution_count": 22,
     "metadata": {},
     "output_type": "execute_result"
    }
   ],
   "source": [
    "tp.weight_numel"
   ]
  },
  {
   "cell_type": "code",
   "execution_count": 23,
   "metadata": {},
   "outputs": [
    {
     "name": "stdout",
     "output_type": "stream",
     "text": [
      "FullyConnectedNet[10, 16, 400]\n",
      "torch.Size([3364, 400])\n",
      "3364 400\n",
      "tensor(0.0072, grad_fn=<MeanBackward0>) tensor(1.0026, grad_fn=<StdBackward0>)\n"
     ]
    }
   ],
   "source": [
    "fc = nn.FullyConnectedNet([num_basis, 16, tp.weight_numel], torch.relu)\n",
    "print(fc)\n",
    "weight = fc(edge_length_embedding)\n",
    "\n",
    "print(weight.shape)\n",
    "print(len(edge_src), tp.weight_numel)\n",
    "\n",
    "# For a proper notmalization, the weights also need to be mean 0\n",
    "print(weight.mean(), weight.std())  # should close to 0 and 1"
   ]
  },
  {
   "cell_type": "markdown",
   "metadata": {},
   "source": [
    "现在我们可以计算这项了\n",
    "\n",
    "$$f_j \\otimes\\left(h\\left(\\left\\|x_{i j}\\right\\|\\right)\\right) Y\\left(x_{i j} /\\left\\|x_{i j}\\right\\|\\right)$$\n",
    "\n",
    "我们的想法是计算每个边的数量，所以我们需要将输入特征提升到边。为此，我们使用`edge_src`，对于每条边，它包含源节点的索引。"
   ]
  },
  {
   "cell_type": "code",
   "execution_count": 24,
   "metadata": {},
   "outputs": [
    {
     "data": {
      "text/plain": [
       "tensor([[ 1.0177, -1.9613,  1.5222,  ...,  1.5351,  0.8969,  0.5273],\n",
       "        [-0.2905, -1.9319,  0.6774,  ...,  1.2688,  0.2622,  0.0474],\n",
       "        [-2.1368,  1.2993,  1.0259,  ..., -0.7766, -1.8151, -0.9158],\n",
       "        ...,\n",
       "        [ 0.0270, -0.9164,  1.6406,  ..., -1.5145,  0.3836,  0.7888],\n",
       "        [-1.4170,  0.7813, -0.1696,  ...,  0.5716,  0.4520,  0.1243],\n",
       "        [-0.3025, -0.8747,  0.9668,  ..., -1.3372, -0.1165,  0.2648]])"
      ]
     },
     "execution_count": 24,
     "metadata": {},
     "output_type": "execute_result"
    }
   ],
   "source": [
    "f_in"
   ]
  },
  {
   "cell_type": "code",
   "execution_count": 25,
   "metadata": {},
   "outputs": [
    {
     "data": {
      "text/plain": [
       "torch.Size([3364, 40])"
      ]
     },
     "execution_count": 25,
     "metadata": {},
     "output_type": "execute_result"
    }
   ],
   "source": [
    "f_in[edge_src].shape"
   ]
  },
  {
   "cell_type": "code",
   "execution_count": 28,
   "metadata": {},
   "outputs": [
    {
     "data": {
      "text/plain": [
       "torch.Size([3364, 9])"
      ]
     },
     "execution_count": 28,
     "metadata": {},
     "output_type": "execute_result"
    }
   ],
   "source": [
    "sh.shape"
   ]
  },
  {
   "cell_type": "code",
   "execution_count": 29,
   "metadata": {},
   "outputs": [
    {
     "data": {
      "text/plain": [
       "torch.Size([3364, 400])"
      ]
     },
     "execution_count": 29,
     "metadata": {},
     "output_type": "execute_result"
    }
   ],
   "source": [
    "weight.shape"
   ]
  },
  {
   "cell_type": "code",
   "execution_count": 30,
   "metadata": {},
   "outputs": [
    {
     "name": "stdout",
     "output_type": "stream",
     "text": [
      "torch.Size([3364, 50])\n",
      "tensor(0.9839, grad_fn=<MeanBackward0>)\n"
     ]
    }
   ],
   "source": [
    "summand = tp(f_in[edge_src], sh, weight)\n",
    "\n",
    "print(summand.shape)\n",
    "print(summand.pow(2).mean())  # should be close to 1"
   ]
  },
  {
   "cell_type": "markdown",
   "metadata": {},
   "source": [
    "只剩下相邻项的和"
   ]
  },
  {
   "cell_type": "code",
   "execution_count": 33,
   "metadata": {},
   "outputs": [
    {
     "data": {
      "text/plain": [
       "tensor(0.8955, grad_fn=<MeanBackward0>)"
      ]
     },
     "execution_count": 33,
     "metadata": {},
     "output_type": "execute_result"
    }
   ],
   "source": [
    "f_out = scatter(summand, edge_dst, dim=0, dim_size=num_nodes)\n",
    "\n",
    "f_out = f_out.div(num_neighbors**0.5)\n",
    "\n",
    "f_out.pow(2).mean()  # should be close to 1"
   ]
  },
  {
   "cell_type": "markdown",
   "metadata": {},
   "source": [
    "现在我们可以把所有东西都化成一个函数"
   ]
  },
  {
   "cell_type": "code",
   "execution_count": 34,
   "metadata": {},
   "outputs": [],
   "source": [
    "def conv(f_in, pos):\n",
    "    edge_src, edge_dst = radius_graph(pos, max_radius, max_num_neighbors=len(pos) - 1)\n",
    "    edge_vec = pos[edge_dst] - pos[edge_src]\n",
    "    sh = o3.spherical_harmonics(irreps_sh, \n",
    "                                edge_vec,\n",
    "                                normalize=True, \n",
    "                                normalization='component')\n",
    "    emb = soft_one_hot_linspace(edge_vec.norm(dim=1), \n",
    "                                0.0, \n",
    "                                max_radius, \n",
    "                                num_basis, \n",
    "                                basis='smooth_finite', \n",
    "                                cutoff=True).mul(num_basis**0.5)\n",
    "    return scatter(tp(f_in[edge_src], sh, fc(emb)), edge_dst, dim=0, dim_size=num_nodes).div(num_neighbors**0.5)"
   ]
  },
  {
   "cell_type": "markdown",
   "metadata": {},
   "source": [
    "现在我们来检查一下等方差"
   ]
  },
  {
   "cell_type": "code",
   "execution_count": 36,
   "metadata": {},
   "outputs": [
    {
     "data": {
      "text/plain": [
       "True"
      ]
     },
     "execution_count": 36,
     "metadata": {},
     "output_type": "execute_result"
    }
   ],
   "source": [
    "rot = o3.rand_matrix()\n",
    "D_in = irreps_input.D_from_matrix(rot)\n",
    "D_out = irreps_output.D_from_matrix(rot)\n",
    "\n",
    "# rotate before\n",
    "f_before = conv(f_in @ D_in.T, pos @ rot.T)\n",
    "\n",
    "# rotate after\n",
    "f_after = conv(f_in, pos) @ D_out.T\n",
    "\n",
    "torch.allclose(f_before, f_after, rtol=1e-4, atol=1e-4)"
   ]
  },
  {
   "cell_type": "markdown",
   "metadata": {},
   "source": [
    "张量积支配着执行时间"
   ]
  },
  {
   "cell_type": "code",
   "execution_count": 37,
   "metadata": {},
   "outputs": [
    {
     "name": "stdout",
     "output_type": "stream",
     "text": [
      "0.01329530798830092\n",
      "0.00214796100044623\n",
      "0.009131358005106449\n",
      "0.0012031359947286546\n",
      "0.005799975013360381\n",
      "0.0033323090174235404\n"
     ]
    }
   ],
   "source": [
    "import time\n",
    "wall = time.perf_counter()\n",
    "\n",
    "edge_src, edge_dst = radius_graph(pos, max_radius, max_num_neighbors=len(pos) - 1)\n",
    "edge_vec = pos[edge_dst] - pos[edge_src]\n",
    "print(time.perf_counter() - wall); wall = time.perf_counter()\n",
    "\n",
    "sh = o3.spherical_harmonics(irreps_sh, edge_vec, normalize=True, normalization='component')\n",
    "print(time.perf_counter() - wall); wall = time.perf_counter()\n",
    "\n",
    "emb = soft_one_hot_linspace(edge_vec.norm(dim=1), 0.0, max_radius, num_basis, basis='smooth_finite', cutoff=True).mul(num_basis**0.5)\n",
    "print(time.perf_counter() - wall); wall = time.perf_counter()\n",
    "\n",
    "weight = fc(emb)\n",
    "print(time.perf_counter() - wall); wall = time.perf_counter()\n",
    "\n",
    "summand = tp(f_in[edge_src], sh, weight)\n",
    "print(time.perf_counter() - wall); wall = time.perf_counter()\n",
    "\n",
    "scatter(summand, edge_dst, dim=0, dim_size=num_nodes).div(num_neighbors**0.5)\n",
    "print(time.perf_counter() - wall); wall = time.perf_counter()"
   ]
  },
  {
   "cell_type": "code",
   "execution_count": null,
   "metadata": {},
   "outputs": [],
   "source": []
  }
 ],
 "metadata": {
  "kernelspec": {
   "display_name": "Python 3.8.5 ('gnn')",
   "language": "python",
   "name": "python3"
  },
  "language_info": {
   "codemirror_mode": {
    "name": "ipython",
    "version": 3
   },
   "file_extension": ".py",
   "mimetype": "text/x-python",
   "name": "python",
   "nbconvert_exporter": "python",
   "pygments_lexer": "ipython3",
   "version": "3.10.14"
  },
  "orig_nbformat": 4,
  "vscode": {
   "interpreter": {
    "hash": "bbc91dbcb0051019ae97b751bde437ca7a1084c41c512133368dd180960dc485"
   }
  }
 },
 "nbformat": 4,
 "nbformat_minor": 2
}
